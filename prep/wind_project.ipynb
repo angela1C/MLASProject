{
 "cells": [
  {
   "cell_type": "markdown",
   "metadata": {},
   "source": [
    "# Machine Learning and Statistics Project 2020\n",
    "by Angela Carpenter\n"
   ]
  },
  {
   "cell_type": "markdown",
   "metadata": {},
   "source": [
    "# Table of Contents\n",
    "- Project Instructions / Overview\n",
    "- Python Libraries\n",
    "- Loading / Reading in the dataset\n",
    "- Exploratory Data Analysis\n",
    "- Cleaning the Datasets\n",
    "- Regression Models\n",
    "- Neural Networks\n",
    "- Predicting on new data / saving models for web app.\n",
    "- Summary and Conclusions\n",
    "- References\n",
    "\n",
    "\n",
    "## Project Instructions\n",
    "\n",
    "The aim of this project is to create a web service that uses machine learning to make predictions based on the data set powerproduction available on Moodle. The goal is to produce a model that accurately predicts wind turbine power output from wind speed values, as in the data set. A web service must also be developed that will respond with predicted power values based on speed values sent as HTTP requests. \n",
    "\n",
    "\n",
    "\n",
    "\n",
    "### notes to self \n",
    "\n",
    "\n",
    "- Tidy up the notebook further\n",
    "- Make some notes on why I didn't scale or normalise the data. remove the section on this\n",
    "- Finish the web app side, it is now working but needs to be made a bit nicer.\n",
    "- Compare and evaluate the models - a few more notes on this.\n",
    "- Finalise a neural network model - adding more layers did not change the loss by a lot.\n",
    "- Rerun the NN again, adding in a validation percentage to the history fit to plot the learning curve\n",
    "- Neither of the models predicts correctlly for high speed values. Maybe the model does need to keep the values over 24.4 in as it is interpolating. However I can filter them using if else in the functions for the web app.\n"
   ]
  },
  {
   "cell_type": "markdown",
   "metadata": {},
   "source": [
    "#### Read in the dataset"
   ]
  },
  {
   "cell_type": "markdown",
   "metadata": {},
   "source": [
    "### Import Python libraries\n"
   ]
  },
  {
   "cell_type": "code",
   "execution_count": 1,
   "metadata": {},
   "outputs": [
    {
     "name": "stdout",
     "output_type": "stream",
     "text": [
      "0.23.2\n",
      "0.16.0\n"
     ]
    }
   ],
   "source": [
    "# first importing the following libraries\n",
    "import numpy as np\n",
    "# pandas dataframes\n",
    "import pandas as pd  \n",
    "# plotting library\n",
    "import matplotlib.pyplot as plt \n",
    "# another plotting library\n",
    "import seaborn as sns\n",
    "# splitting dataset into training and testing sets\n",
    "import sklearn\n",
    "print(sklearn.__version__)\n",
    "from sklearn.model_selection import train_test_split\n",
    "# for polynomial regression \n",
    "from sklearn.preprocessing import PolynomialFeatures\n",
    "# for linear regression \n",
    "from sklearn.linear_model import LinearRegression\n",
    "from sklearn import linear_model\n",
    "# for evaluation metrics\n",
    "from sklearn.metrics import mean_squared_error, r2_score\n",
    "# neural networks\n",
    "import tensorflow.keras as kr\n",
    "from tensorflow.keras import Sequential\n",
    "from tensorflow.keras.layers import Dense\n",
    "# save a model in scikit-learn by using Python’s built-in persistence model pickle:\n",
    "import pickle\n",
    "# In the specific case of scikit-learn, it may be better to use joblib’s replacement of pickle\n",
    "import joblib\n",
    "from joblib import dump, load\n",
    "print (joblib.__version__)"
   ]
  },
  {
   "cell_type": "markdown",
   "metadata": {},
   "source": [
    "\n",
    "\n",
    "\n"
   ]
  },
  {
   "cell_type": "markdown",
   "metadata": {},
   "source": [
    "### Import the dataset\n",
    "The dataset is available from [Github](https://github.com/ianmcloughlin/2020A-machstat-project).[1]"
   ]
  },
  {
   "cell_type": "code",
   "execution_count": 2,
   "metadata": {},
   "outputs": [],
   "source": [
    "# save link to data and reference the link \n",
    "csv_url = 'https://raw.githubusercontent.com/ianmcloughlin/2020A-machstat-project/master/dataset/powerproduction.csv'\n",
    "# read the csv data into a pandas dataframe\n",
    "df = pd.read_csv(csv_url)\n",
    "df\n",
    "# write the dataframe to csv\n",
    "df.to_csv('df.csv')\n",
    "# make a copy of the dataframe\n",
    "dfx = df.copy()"
   ]
  },
  {
   "cell_type": "markdown",
   "metadata": {},
   "source": [
    "## Exploratory Data Analysis on the dataset\n",
    "The power variable represents wind turbine power output and the speed values are wind speed values. This is all that has been provided. There are no null values in the dataset but there are 49 observations with zero values. \n",
    "While there is only one zero value for the `speed` variable, there are 49 zero values for the `power` variable.\n",
    "Some research below suggests that the wind speed values are measured in metres per second and that the power values are measured in kilowatts, although it could be megawatts based on the values in the dataset. However it will not affect the analysis.\n",
    "\n",
    "Exploratory data analysis generally involves both non-graphical methods which include calculation of summary statistics and graphical methods which summarises the data in a picture or a plot. These methods can be univariate where one variable is looked at at a time or multivariate where two or more variables are looked at together to explore relationships. First I will do so some univariate EDA on both of the components before going on to do multivariate EDA. \n",
    "Plots can highlight any obvious relationships between the different variables in the dataset. They can also be used to identify any groups of observations that are clearly separate to other groups of observations."
   ]
  },
  {
   "cell_type": "code",
   "execution_count": 3,
   "metadata": {},
   "outputs": [
    {
     "data": {
      "text/html": [
       "<div>\n",
       "<style scoped>\n",
       "    .dataframe tbody tr th:only-of-type {\n",
       "        vertical-align: middle;\n",
       "    }\n",
       "\n",
       "    .dataframe tbody tr th {\n",
       "        vertical-align: top;\n",
       "    }\n",
       "\n",
       "    .dataframe thead th {\n",
       "        text-align: right;\n",
       "    }\n",
       "</style>\n",
       "<table border=\"1\" class=\"dataframe\">\n",
       "  <thead>\n",
       "    <tr style=\"text-align: right;\">\n",
       "      <th></th>\n",
       "      <th>speed</th>\n",
       "      <th>power</th>\n",
       "    </tr>\n",
       "  </thead>\n",
       "  <tbody>\n",
       "    <tr>\n",
       "      <th>0</th>\n",
       "      <td>0.000</td>\n",
       "      <td>0.0</td>\n",
       "    </tr>\n",
       "    <tr>\n",
       "      <th>1</th>\n",
       "      <td>0.125</td>\n",
       "      <td>0.0</td>\n",
       "    </tr>\n",
       "    <tr>\n",
       "      <th>2</th>\n",
       "      <td>0.150</td>\n",
       "      <td>0.0</td>\n",
       "    </tr>\n",
       "    <tr>\n",
       "      <th>3</th>\n",
       "      <td>0.225</td>\n",
       "      <td>0.0</td>\n",
       "    </tr>\n",
       "    <tr>\n",
       "      <th>4</th>\n",
       "      <td>0.275</td>\n",
       "      <td>0.0</td>\n",
       "    </tr>\n",
       "  </tbody>\n",
       "</table>\n",
       "</div>"
      ],
      "text/plain": [
       "   speed  power\n",
       "0  0.000    0.0\n",
       "1  0.125    0.0\n",
       "2  0.150    0.0\n",
       "3  0.225    0.0\n",
       "4  0.275    0.0"
      ]
     },
     "execution_count": 3,
     "metadata": {},
     "output_type": "execute_result"
    }
   ],
   "source": [
    "df.head()\n"
   ]
  },
  {
   "cell_type": "code",
   "execution_count": 4,
   "metadata": {},
   "outputs": [
    {
     "data": {
      "text/html": [
       "<div>\n",
       "<style scoped>\n",
       "    .dataframe tbody tr th:only-of-type {\n",
       "        vertical-align: middle;\n",
       "    }\n",
       "\n",
       "    .dataframe tbody tr th {\n",
       "        vertical-align: top;\n",
       "    }\n",
       "\n",
       "    .dataframe thead th {\n",
       "        text-align: right;\n",
       "    }\n",
       "</style>\n",
       "<table border=\"1\" class=\"dataframe\">\n",
       "  <thead>\n",
       "    <tr style=\"text-align: right;\">\n",
       "      <th></th>\n",
       "      <th>speed</th>\n",
       "      <th>power</th>\n",
       "    </tr>\n",
       "  </thead>\n",
       "  <tbody>\n",
       "    <tr>\n",
       "      <th>495</th>\n",
       "      <td>24.775</td>\n",
       "      <td>0.0</td>\n",
       "    </tr>\n",
       "    <tr>\n",
       "      <th>496</th>\n",
       "      <td>24.850</td>\n",
       "      <td>0.0</td>\n",
       "    </tr>\n",
       "    <tr>\n",
       "      <th>497</th>\n",
       "      <td>24.875</td>\n",
       "      <td>0.0</td>\n",
       "    </tr>\n",
       "    <tr>\n",
       "      <th>498</th>\n",
       "      <td>24.950</td>\n",
       "      <td>0.0</td>\n",
       "    </tr>\n",
       "    <tr>\n",
       "      <th>499</th>\n",
       "      <td>25.000</td>\n",
       "      <td>0.0</td>\n",
       "    </tr>\n",
       "  </tbody>\n",
       "</table>\n",
       "</div>"
      ],
      "text/plain": [
       "      speed  power\n",
       "495  24.775    0.0\n",
       "496  24.850    0.0\n",
       "497  24.875    0.0\n",
       "498  24.950    0.0\n",
       "499  25.000    0.0"
      ]
     },
     "execution_count": 4,
     "metadata": {},
     "output_type": "execute_result"
    }
   ],
   "source": [
    "df.tail()"
   ]
  },
  {
   "cell_type": "code",
   "execution_count": 5,
   "metadata": {},
   "outputs": [
    {
     "data": {
      "text/plain": [
       "speed     1\n",
       "power    49\n",
       "dtype: int64"
      ]
     },
     "execution_count": 5,
     "metadata": {},
     "output_type": "execute_result"
    }
   ],
   "source": [
    "# can have a look at the dataset\n",
    "df.sort_values(by='power', ascending=False).head()\n",
    "df.sort_values(by='power').head()\n",
    "df.sort_values(by='speed').head()\n",
    "# check for null values\n",
    "df.isnull().values.any()\n",
    "df.isnull().sum()\n",
    "# check for zero values\n",
    "df.isin([0]).sum()\n"
   ]
  },
  {
   "cell_type": "markdown",
   "metadata": {},
   "source": [
    "### The distribution of the data\n",
    "A histogram can be used to show the distribution of a single quantitative variable such as speed or power values, including the centre and spread of the distribution and if there is any skew in the data. Wind speed appears to be  uniformly distributed with values spread out from zero up to a maximum value of 25. Power output values on the other hand looks to be bimodal with two defined peaks, one around zero power values and the second around the 100 kilowatt mark. The first peak is betweeen power values of 0 and 5. This is not surprising given the large number of zero power values in this dataset. Almost 10% of the power values supplied are zero.  There is another smaller peak around values of 95-100. Most of the remaining power values fall between 18 and 85."
   ]
  },
  {
   "cell_type": "code",
   "execution_count": 6,
   "metadata": {},
   "outputs": [
    {
     "data": {
      "image/png": "[encoded data removed]",
      "text/plain": [
       "<Figure size 864x360 with 2 Axes>"
      ]
     },
     "metadata": {
      "needs_background": "light"
     },
     "output_type": "display_data"
    }
   ],
   "source": [
    "    %matplotlib inline\n",
    "\n",
    "    # plot the histograms of Speed values\n",
    "    f, axs = plt.subplots(1, 2, figsize=(12, 5))\n",
    "    sns.histplot(data=df, x=\"speed\", ax=axs[0], bins=20, kde=True,color=\"blue\")\n",
    "    sns.histplot(data=df, x=\"power\", alpha=.8, legend=False, ax=axs[1], bins=20, kde=True, color=\"purple\")\n",
    "\n",
    "    #plt.title(\"Speed vs Power\");\n",
    "    plt.suptitle(\"The distribution of the variables\")\n",
    "    f.tight_layout()"
   ]
  },
  {
   "cell_type": "markdown",
   "metadata": {},
   "source": [
    "### Investigating a relationship between the variables"
   ]
  },
  {
   "cell_type": "markdown",
   "metadata": {},
   "source": [
    "Scatter plots are useful to identify trends and patterns in a dataset which might indicate a relationship between two numerical variables such as we have in this dataset. \n",
    "The ordered pairs of numbers consisting of the independent variable wind 'speed' and the dependent variable 'power' output are plotted below resulting in a joint distribution of the two variables. Each point represents an actual observation is the dataset with a speed and a corresponding power value. \n",
    "The scatter plot shows an increasing linear trend in the middle range of the wind speed values. This would indicate that for increasing wind speeds in this range, power output values do increase, but only after a minimum wind speed has been reached. Power outputs then increase in line with increases in wind speed until it reaches a peak and plateaus.\n",
    "- When wind speed increases from very low levels, the power does not increase by much or at all. \n",
    "- The wind turbine power values does start to increase with the wind speed from wind speed values of about 5 to about 18/19. \n",
    "- From wind speeds of 20 onwards to about 25 the power values increase no further and seem to level off. \n",
    "\n",
    "An initial guess would be that at very low winds there may not be enough speed to get the turbine going and also that there might be a maximum power that can be achieved by the wind turbine regardless of how high the wind can go. Once the turbine is in motion, little is required to keep it going. Some of the power generated might be consumed by the turbine itself at low levels to get it started."
   ]
  },
  {
   "cell_type": "code",
   "execution_count": 7,
   "metadata": {},
   "outputs": [
    {
     "data": {
      "image/png": "[encoded data removed]",
      "text/plain": [
       "<Figure size 1008x576 with 1 Axes>"
      ]
     },
     "metadata": {},
     "output_type": "display_data"
    }
   ],
   "source": [
    "# create the plot\n",
    "plt.style.use('ggplot')\n",
    "# Plot size.\n",
    "plt.rcParams['figure.figsize'] = (14, 8)\n",
    "\n",
    "\n",
    "plt.scatter(df['speed'],df['power'], marker=\".\")\n",
    "# https://stackoverflow.com/questions/12608788/changing-the-tick-frequency-on-x-or-y-axis-in-matplotlib\n",
    "plt.yticks(np.arange(min(df['power']), max(df['power'])+1, 5.0))\n",
    "plt.xticks(np.arange(min(df['speed']), max(df['speed'])+1, 2.0))\n",
    "#sns.scatterplot(x=df['speed'],y=df['power'], marker=\"x\")\n",
    "plt.grid(True)\n",
    "plt.xlabel(\"Wind speed (m/s)\")\n",
    "plt.ylabel(\"Power (kilowatts)\")\n",
    "# add title\n",
    "plt.title(\"Wind Speed vs Power\", fontsize=20);\n",
    "plt.savefig(\"Wind Speed Power scatterplot.png\")\n",
    "plt.show()"
   ]
  },
  {
   "cell_type": "markdown",
   "metadata": {},
   "source": [
    "#### Correlation and Covariance of Speed and Power values\n",
    " \n",
    "For two quantitative variables such as the wind speed and power values, the covariance and correlation can also be used to determine whether a linear relationship between variables does exist and to show if one variable tends to occur with large or small values of another variable. The correlation statistics puts a numerical value on the strength and direction of the relationship.  The correlation coefficient here of 0.85 shows there is a very strong positive relationship between the wind speed and turbine power output.  The scatter plot shows a curved  relationship between the variables. There appears to be a curvilinear pattern in the data so the statistic should be considered alongside the plots."
   ]
  },
  {
   "cell_type": "code",
   "execution_count": 8,
   "metadata": {
    "scrolled": true
   },
   "outputs": [
    {
     "data": {
      "text/html": [
       "<div>\n",
       "<style scoped>\n",
       "    .dataframe tbody tr th:only-of-type {\n",
       "        vertical-align: middle;\n",
       "    }\n",
       "\n",
       "    .dataframe tbody tr th {\n",
       "        vertical-align: top;\n",
       "    }\n",
       "\n",
       "    .dataframe thead th {\n",
       "        text-align: right;\n",
       "    }\n",
       "</style>\n",
       "<table border=\"1\" class=\"dataframe\">\n",
       "  <thead>\n",
       "    <tr style=\"text-align: right;\">\n",
       "      <th></th>\n",
       "      <th>speed</th>\n",
       "      <th>power</th>\n",
       "    </tr>\n",
       "  </thead>\n",
       "  <tbody>\n",
       "    <tr>\n",
       "      <th>speed</th>\n",
       "      <td>1.000000</td>\n",
       "      <td>0.853778</td>\n",
       "    </tr>\n",
       "    <tr>\n",
       "      <th>power</th>\n",
       "      <td>0.853778</td>\n",
       "      <td>1.000000</td>\n",
       "    </tr>\n",
       "  </tbody>\n",
       "</table>\n",
       "</div>"
      ],
      "text/plain": [
       "          speed     power\n",
       "speed  1.000000  0.853778\n",
       "power  0.853778  1.000000"
      ]
     },
     "execution_count": 8,
     "metadata": {},
     "output_type": "execute_result"
    }
   ],
   "source": [
    "df.corr()"
   ]
  },
  {
   "cell_type": "markdown",
   "metadata": {},
   "source": [
    "### Some summary statistics of the dataset:\n",
    "When looking at quantitative variables such as wind speed and power values, the characteristics of interest are the centre, spread, modality, the shape of the distribution and the outliers. Panda's `describe` function generates statistics that summarize the central tendency, dispersion and shape of a dataset’s distribution. (excluding NaN values)\n",
    "The central tendency or location of the data distribution is determined by the typical or middle values. While the mean value is the average value in the dataset it may not be typical of the values in the dataset if there are very small or very large values in the dataset. The median is another measure of central tendancy - it is the middle value after all the values are put in an ordered list.\n",
    "The mean and median are similar for symmetric distributions whereas for unimodal skewed distributions the mean will be more in the direction of the long tail of the distribution. \n",
    "The median can be considered a more typical value in the dataset or closer to some of the typical values and is also considered [robust](https://en.wikipedia.org/wiki/Robust_statistics) which means that removing some of the data will not tend to change the value of the median. A few extreme values will not affect the median as they would affect the mean. \n",
    "In this dataset the mean and median wind speed values are similar at approx 12.5 to 12.6.\n",
    "The median power value is just over 41 compared to the mean power value of 48.\n",
    "As we saw above, there are many zero values for power in the dataset. At least 10% of the power values in the dataset are zero and probably for valid reasons.\n",
    "\n",
    "The variance and standard deviation statistics can be used to show the spread of the distribution of the speed and power data values and how far away from the centre the data points are located.\n",
    "The variance is the average of the squared deviations of each observation from the centre or mean of the data while the standard deviation is the square root of the variance and is in the same units as the data and therefore can be more easily interpreted. \n",
    "The range of values in the data is shown by the minimum and maximum values and is not considered a robust measure of spread but it is useful for showing possible errors or outliers.\n",
    "\n",
    "The percentiles or quartiles of the speed and power values can be used to see the spread of the data values. The Interquartile range (IQR) is calculated by taking the 75% percentile or 3rd quartile minus the 25% percentile or first quartile and captures half of the values, the middle values of the data. Data that is more spread out will have a higher IQR. The IQR is considered a more robust measure of spread than the variance and standard deviation and will be more clearly shown in the boxplots further down. The IQR does not consider the data below the 25% percentile or above the 75% percentile which may contain outliers. The statistics here show that the *power* variable in this dataset is much more spread out or variable than the *speed* variable. "
   ]
  },
  {
   "cell_type": "code",
   "execution_count": 9,
   "metadata": {},
   "outputs": [
    {
     "data": {
      "text/html": [
       "<div>\n",
       "<style scoped>\n",
       "    .dataframe tbody tr th:only-of-type {\n",
       "        vertical-align: middle;\n",
       "    }\n",
       "\n",
       "    .dataframe tbody tr th {\n",
       "        vertical-align: top;\n",
       "    }\n",
       "\n",
       "    .dataframe thead th {\n",
       "        text-align: right;\n",
       "    }\n",
       "</style>\n",
       "<table border=\"1\" class=\"dataframe\">\n",
       "  <thead>\n",
       "    <tr style=\"text-align: right;\">\n",
       "      <th></th>\n",
       "      <th>speed</th>\n",
       "      <th>power</th>\n",
       "    </tr>\n",
       "  </thead>\n",
       "  <tbody>\n",
       "    <tr>\n",
       "      <th>count</th>\n",
       "      <td>500.000000</td>\n",
       "      <td>500.000000</td>\n",
       "    </tr>\n",
       "    <tr>\n",
       "      <th>mean</th>\n",
       "      <td>12.590398</td>\n",
       "      <td>48.014584</td>\n",
       "    </tr>\n",
       "    <tr>\n",
       "      <th>std</th>\n",
       "      <td>7.224991</td>\n",
       "      <td>41.614572</td>\n",
       "    </tr>\n",
       "    <tr>\n",
       "      <th>min</th>\n",
       "      <td>0.000000</td>\n",
       "      <td>0.000000</td>\n",
       "    </tr>\n",
       "    <tr>\n",
       "      <th>25%</th>\n",
       "      <td>6.324750</td>\n",
       "      <td>5.288000</td>\n",
       "    </tr>\n",
       "    <tr>\n",
       "      <th>50%</th>\n",
       "      <td>12.550500</td>\n",
       "      <td>41.645500</td>\n",
       "    </tr>\n",
       "    <tr>\n",
       "      <th>75%</th>\n",
       "      <td>18.775250</td>\n",
       "      <td>93.537000</td>\n",
       "    </tr>\n",
       "    <tr>\n",
       "      <th>max</th>\n",
       "      <td>25.000000</td>\n",
       "      <td>113.556000</td>\n",
       "    </tr>\n",
       "  </tbody>\n",
       "</table>\n",
       "</div>"
      ],
      "text/plain": [
       "            speed       power\n",
       "count  500.000000  500.000000\n",
       "mean    12.590398   48.014584\n",
       "std      7.224991   41.614572\n",
       "min      0.000000    0.000000\n",
       "25%      6.324750    5.288000\n",
       "50%     12.550500   41.645500\n",
       "75%     18.775250   93.537000\n",
       "max     25.000000  113.556000"
      ]
     },
     "execution_count": 9,
     "metadata": {},
     "output_type": "execute_result"
    }
   ],
   "source": [
    "# get summary statistics of the numerical values, \n",
    "df.describe() # get statistics summary of the"
   ]
  },
  {
   "cell_type": "code",
   "execution_count": 10,
   "metadata": {},
   "outputs": [
    {
     "name": "stdout",
     "output_type": "stream",
     "text": [
      "The mean speed value is 12.590 while the median speed value  is 12.550\n",
      "The mean power value is 48.015 while the median power value  is 41.645\n",
      "The standard deviations of speed values  is 7.225\n",
      "The standard deviations of power values is 41.615\n",
      "The minimum speed value is 0.0 while the maximum speed value is 25.0 giving range of 25.0\n",
      "The minimum Power value is 0.0 while the maximum power value is 113.556 giving range of 113.556\n",
      "The median speed value is 12.5505 with the IQR ranging from 6.32 to  18.78\n",
      "The median power value is 41.6455 with the IQR ranging from 5.29 to  93.54\n"
     ]
    }
   ],
   "source": [
    "print(\"The mean speed value is %.3f\" %df['speed'].mean(),\"while the median speed value  is %.3f\" %df['speed'].quantile(q=0.5))\n",
    "print(\"The mean power value is %.3f\" %df['power'].mean(),\"while the median power value  is %.3f\" %df['power'].quantile(q=0.5))\n",
    "#print(f\"The variance and standard deviations of speed values  are {df['speed'].var():.3f} and {df['speed'].std():.3f}\")\n",
    "#print(f\"The variance and standard deviations of power values are {df['power'].var():.3f} and {df['power'].std():.3f}\")\n",
    "print(f\"The standard deviations of speed values  is {df['speed'].std():.3f}\")\n",
    "print(f\"The standard deviations of power values is {df['power'].std():.3f}\")\n",
    "print(f\"The minimum speed value is {df['speed'].min()} while the maximum speed value is { df['speed'].max()} giving range of {df['speed'].max() - df['speed'].min()}\")\n",
    "print(f\"The minimum Power value is {df['power'].min()} while the maximum power value is { df['power'].max()} giving range of {df['power'].max() - df['power'].min()}\")\n",
    "print(f\"The median speed value is {df['speed'].quantile(q=0.5)} with the IQR ranging from {df['speed'].quantile(q=0.25):.2f} to  {df['speed'].quantile(q=0.75):.2f}\")\n",
    "print(f\"The median power value is {df['power'].quantile(q=0.5)} with the IQR ranging from {df['power'].quantile(q=0.25):.2f} to  {df['power'].quantile(q=0.75):.2f}\")"
   ]
  },
  {
   "cell_type": "code",
   "execution_count": 11,
   "metadata": {},
   "outputs": [
    {
     "data": {
      "image/png": "[encoded data removed]",
      "text/plain": [
       "<Figure size 864x288 with 2 Axes>"
      ]
     },
     "metadata": {},
     "output_type": "display_data"
    }
   ],
   "source": [
    "f, axes = plt.subplots(1, 2, figsize=(12, 4))\n",
    "sns.set(style=\"ticks\", palette=\"pastel\")\n",
    "sns.boxplot(y=df['speed'], ax=axes[0], color=\"blue\")\n",
    "# add a title\n",
    "axes[0].set_title(\"Boxplot of Speed values\")\n",
    "sns.boxplot(y=df['power'], ax=axes[1], color=\"purple\")\n",
    "axes[1].set_title(\"Boxplot of Power Values\");"
   ]
  },
  {
   "cell_type": "markdown",
   "metadata": {},
   "source": [
    "The skewness of the data is a measure of assymetry which can be seen by the lopsidedness of a boxplot.\n",
    "Wind speed appears to be quite symmetric. The wind speed boxplot is cut pretty much in half by the median. Power appears to be soemwhat skewed to the right as the boxplot shows more of the box to the right or above the median line.\n",
    "A boxplot with the median closer to the lower quartile is considered positively skewed. Positively skewed data has the mean greater than the median and it can be interpreted as having a higher frequency of high valued scores. The lower values of power are closer together than the higher power values.\n"
   ]
  },
  {
   "cell_type": "markdown",
   "metadata": {},
   "source": [
    "### Regression plots\n",
    "The Python Seaborn library has some regression plots that can be used to quickly visualise relationships and patterns that may exist in the data. They use statistical models to estimate a simple relationship between sets of observations and are mainly used to visualise patterns in a dataset during the exploratory data analysis.\n",
    "The scatter plot earlier showed a relationship between wind speeds and wind turbine power that is non-linear. There does seem to be a somewhat linear relationship for wind speeds between values of about 10 up to about 18 or so. Therefore it is worth looking at higher order polynomials as well as linear regression.\n",
    "The plot below shows that the polynomial with order 3 looks a much better fit to the line than the first or second order linear regression lines. It is important not to go down the road of overfitting the data though."
   ]
  },
  {
   "cell_type": "code",
   "execution_count": 34,
   "metadata": {},
   "outputs": [
    {
     "data": {
      "image/png": "[encoded data removed]",
      "text/plain": [
       "<Figure size 1152x576 with 4 Axes>"
      ]
     },
     "metadata": {},
     "output_type": "display_data"
    }
   ],
   "source": [
    "f, axes = plt.subplots(2, 2, figsize=(16, 8))\n",
    "x = \"speed\"\n",
    "y = \"power\"\n",
    "sns.regplot(x=\"speed\", y=\"power\", data=df, ax=axes[0,0], label=\"order = 1\", ci=False); axes[0,0].legend()\n",
    "sns.regplot(x=\"speed\", y=\"power\", data=df, order=2, ax=axes[0,1], label=\"order =2\", ci=False); axes[0,1].legend()\n",
    "sns.regplot(x=\"speed\", y=\"power\", data=df, order=3, ax=axes[1,0], label=\"order =3\", ci=False); axes[1,0].legend()\n",
    "sns.regplot(x=\"speed\", y=\"power\", data=df, order=4, ax=axes[1,1], label = \"order=4\", ci=False); axes[1,1].legend()\n",
    "plt.legend()\n",
    "plt.suptitle(\"Trying higher order polynomial regression functions to Speed and Power values\")\n",
    "plt.show()"
   ]
  },
  {
   "cell_type": "markdown",
   "metadata": {},
   "source": [
    "Residual plots can be used to check whether the simple regression model of speed ~ power  is appropriate for a dataset. The seaborn `residplot` fits and removes a simple linear regression and then plots the residual values for each observation. Ideally, these values should be randomly scattered around y = 0. If there is structure in the residuals, this suggests that simple linear regression is not appropriate for the data. The residual plot here has a shape which suggest non-linearity in the data set as expected."
   ]
  },
  {
   "cell_type": "code",
   "execution_count": 35,
   "metadata": {
    "scrolled": true
   },
   "outputs": [
    {
     "data": {
      "image/png": "[encoded data removed]",
      "text/plain": [
       "<Figure size 864x360 with 1 Axes>"
      ]
     },
     "metadata": {},
     "output_type": "display_data"
    }
   ],
   "source": [
    "plt.rcParams['figure.figsize'] = (12, 5)\n",
    "sns.residplot(x=\"speed\", y=\"power\", data=df, scatter_kws={\"s\": 80})\n",
    "plt.title(\"Residual plot\"); plt.show()"
   ]
  },
  {
   "cell_type": "markdown",
   "metadata": {},
   "source": [
    "---\n",
    "## Some background information on Wind Turbines\n",
    "### Drop most of this, just to explain the S-curve and the reasons for the zero values.\n",
    "\n",
    "The dataset [1] consists of two columns each containing 500 floating numbers under the column names `speed` and `power`. There are no other features provided.  Before I go any further I will do a little research into the dataset which may help in understanding and  interpreting the relationship between wind speed and power output from a turbine and also in determining what conclusions can be reached based on the dataset alone.\n",
    "\n",
    "Some background to the project was provided in a lecture. In the electricity supply market, the producers usually sell their electricity ahead of time and enter a contract where they agree to produce a certain number of kilowatts of electricity during a particular time frame. The price is negotiated in advance of generating electricity and pushing it onto the supply grid. Wind farms supply electricity to the supply grid and negotiate prices in advance. It is more difficult for wind farms to predict exactly how much electricity they can generate at a future date compared to other electricity producers as their generation of electricity depends on  wind power. \n",
    "For this reason predictions can be estimated based on meterological data from a weather prediction agent such as Met Eireann. The aim is to be able to predict that when wind speed is a certain amount that the power produced from the turbines is a certain amount. \n",
    "\n",
    "[The Irish Wind Energy Association (IWEA)](https://www.iwea.com/about-us/about-us)[2] is the representative body for the Irish wind industry, working to promote wind energy as an essential, economical and environmentally friendly part of the country’s low-carbon energy future. They note here that in 2018 wind energy provided 29 per cent of Ireland’s electricity. Each quarter, both EirGrid and ESBN publish updated wind farm statistics for Ireland at [ESBN Connected Wind Farms](https://www.esbnetworks.ie/new-connections/generator-connections/generator-connection-statistics). There is currently 4,130 MW of installed capacity in the Republic of Ireland. The amount of electricity a turbine can generate depends on the type of turbine and the wind conditions at any time. There are many different models of turbines that can generate different amounts of electricity. Ireland’s largest wind farm is the Galway Wind Park in Connemara which has 3 MW turbines.\n",
    "\n",
    "Eirgrid's [Smart grid dashboard](http://smartgriddashboard.eirgrid.com/#all/about/wind)[3] shows actual and forecast wind generation by day, week and month for allwind farms on the system while [WindEurope](https://windeurope.org/data-and-analysis/) has some facts and issues about wind energy in Europe, in particular the section on [Wind Energy Basics](https://windeurope.org/about-wind/wind-basics/). Wind is caused by three things, the heating of the atmosphere by the sun, the rotation of the Earth and the Earth's surface irregularities. *air under high pressure moves toward areas of low pressure – and the greater the difference in pressure, the faster the air flows and the stronger the wind!* [4] Energy is the ability to  do work and can be categorised into  either kinetic energy (the energy of moving objects) or potential energy (energy that is stored). Wind turbines take the kinetic energy that’s in the wind and convert that kinetic energy into mechanical power which is mostly used in the form of electricity. Wind energy captures the energy of the wind and converts it to electricity and is an alternative to burning fossil fuels. It comes from a natural and renewable resourse and it is clean as it produces no greenhouse gas, emits no air pollutants and uses very little water. \n",
    "A wind turbine is a device that converts kinetic energy from the wind into electricity. Their output ranges from as small as 100 kilowatts to as big as 12 megawatts. According to this website [4], there are three main variables determining how much electricity a turbine can produce,  wind speed, blade radius and air density. Stronger winds allow more electricity to be produced with higher turbines being more receptive to strong winds. We only have the values for wind speed in the dataset here so will have to assume that the other variables are constant.\n",
    "\n",
    "**Wind turbines generate electricity at wind speeds of 4 – 25 metres per second.** [4]\n",
    "The article also outlines what happens when the wind doesn't blow. A wind farms location is usually chosen purposely and therefore when a wind turbine is not turning it is usually because of maintenance, or because it must be stopped for safety reasons in the case of strong winds or a storm. This should account for the zero values we see in the dataset. The article does note that while sometimes there might not be enough wind to turn a turbine, the wind energy is not lost as the wind energy can be stored  in energy storage systems  for later use whenever wind levels are low.\n",
    "\n",
    "Another article looks at [how to calculate power output of wind ](https://www.windpowerengineering.com/calculate-wind-power-output/) [5] and notes that most *U.S. manufacturers rate their turbines by the amount of power they can safely produce at a particular wind speed, usually chosen between 24 mph or 10.5 m/s and 36 mph or 16 m/s.*\n",
    "A formula illustrates the factors important to the performance of a wind turbine and notes that the wind speed `V` has an exponent of 3 applied to it meaning that even small increases in wind speeds result in a large increase in power.\n",
    "$Power=k.Cp \\frac{1}{2}\\rho AV^3$  where P = power output in kilowatts, Cp = Maximum power coefficient, $\\rho$ is Air density, A = Rotor swept area, V = wind speed in mph, k = 0.000133 a constant to yield power in kilowatts. There are other more complex formulas mentioned in other articles but this is not relevent. \n",
    "Additionally the article notes that although the calculation of wind power illustrates important features about wind turbines, the best measure of wind turbine performance is annual energy output. The difference between power and energy is that power (kilowatts kW) is the rate at which electricity is consumed, while energy (kilowatt-hours kWh) is the quantity consumed.\n",
    "\n",
    "I came across a blog post [6] that use a linear equation to calculate ideal wind production where the author notes  that modeling results can be enhanced via statistical analysis of hyper-local time series such as meteorological data and energy production data. Each wind turbine manufacturer provides an ideal energy production curve for their turbines. The article provides a brief overview which is taken from another research article [7]. Of particular relevance is that a typical wind turbine has three main characteristic speeds, the cut-in speeds (Vc), rated speeds (Vr) and cut-out (Vs) speeds which explain the s-shaped curve we see for this dataset.\n",
    "- The turbine starts generating power when the wind speed reaches the cut-in value.\n",
    "- The rated speed is the wind speed at which the generator is producing the machine’s rated power.\n",
    "- The power generation is shut down to prevent defects and damage when the wind speed reaches the cut-out speed.\n",
    "It also mentions the differences between the ideal power curves which just describe the potentially maximum output versus reality taking into account many factors as well as measurement variations.\n",
    "*In practice, however, wind turbines are never used under ideal conditions, and the empirical power curves could be substantially different from the theoretical ones due to the location of the turbine, air density, wind velocity distribution, wind direction, mechanical and control issues, as well as uncertainties in measurements.* [7] \n",
    "\n",
    "While the ideal power curves simply describe potentially maximum output, accuracy could be improved by using more accurate accurate weather forecasts or various statistical methods such as machine learning. We do not have  historical data which we could use for statistical improvements but nor do we have hyper-local forecasts as we don't know the source or time frame of this particular dataset.\n",
    "Another article notes that real wind turbines do not achieve their theoretical limit as their performance is a function to of aerodynamics and the need to limit power capture once the rated generator power is reached, at ‘rated’ windspeed. \n",
    ">The generator power, turbine diameter and bladeshape are optimized based on site characteristics such as annual average wind speed and the wind speed distribution. [8]\n",
    "\n",
    "Turbine manufacturers measure their turbine’s ‘powercurve’ (the relationship between power output and windspeed) at turbine test sites where it is calculated from 10 min averaged wind speed ($U=\\bar{\\mu}$) and power.\n",
    ">The typical power curves have an s-shape where at wind speeds less than rated the energy capture is approximately proportional to $U^3$ (known as Region II). At wind speeds above rated, the bladepitch and generator torque are actively controlled to limit the power to the generator’s rated power (Region III). [8]\n",
    "\n",
    "Variations in atmospheric conditions can lead to changes in turbine power output of 10% or more at the same wind speed. Turbulence and shear and not usually used in the power curves as they are considered  difficult to include in turbine power predictions. The article also mentions that because of intermittency in the wind, wind turbines typically produce 20%–40% of their maximum possible output over the course of a year. There is a lot of uncertainty  in predicting power generation from a turbine using local wind speed data. If the amount of energy is overestimated then the site might not be as profitable as expected while underestimating the energy available at a site might lead to a site not being developed at all. This study simulated the aerodynamic forces on the turbines blades and structures using an aerostructuraland simulator and  created 1796 10-minute wind fields from a stochastic turbulence simulator. The data from the wind fields from the simulations were used to form a database of 1796 observations of 10-min average power (the response) as a function of wind speed, turbulence intensity, and shear exponent (the forcing). The researchers binned the power data into 1 m $s^{-1}$ wide bins and included a plot (figure 3 in the article) of the power curve which shows a Region II between 0.3 metres per second and about 11.5 metres per second, region III is from end the end of region II up to 25 which correspond exactly with our dataset.\n",
    "\n",
    "<div><img src=powerCurveRegionsACliftonetAl.png width=\"500\"></div>\n",
    "Source: Figure 3. Power curve and operating regions for the WindPACT 1.5 MW turbine [8] \n",
    "\n",
    "The authors also noted that although the forcing variables are evenly distributed, variance in power is largest near rated wind speed. This sensitivity may result in large variation between predicted power output and observed power output. Furthermore, the mean power generated in simulations that include turbulence is lower than the no-turbulence cases near rated wind speed.\n",
    "At wind speeds below 8 m $s^{-1}$, power increases with turbulence intensity and shear. The increase in power due to turbulence arises because turbulent flow with mean speed *U* carries more power than laminar flow of the same *U*. The changes in power output of +/-20% associated with turbulence are approximately half of the change due to a change in wind speed from 7 to 8 $m^{s−1}$.\n",
    "In contrast, at wind speeds just above and below rated speed, increasing turbulence intensity reduces power output as the turbine cannot capture the extra energy that gusts bring, but a short duration slow down to wind speeds below rated results in a loss of energy. As the mean wind speed increases, the total amount of time with the blades pitched toward feather increases and the wind turbine is more often operating at rated power. At wind speeds much greater than rated, larger turbulence intensities are required to reduce the output of the machine to less than rated power, regardless of shear. In Regions II and III, variation in $Ti$ impacts power performance more than variation in $\\alpha$.\n",
    "\n",
    "The article next looked at using machine learning to predict power output under different conditions by incorporating turbulence intensity and wind shear into power prediction tools. They note that the power output from the turbine is not a linear function of wind speed and so linear regression is not an appropriate technique. Non-linear regression assumes that the relationships are constant throughout the model space (i.e. power output is always proportional to $U^n$ ), which is incorrect, so non-linear regression is also inappropriate. Also, as multivariate bins only work where the training data includes data in all bins this would be computationally or observationally more expensive. Instead they chose a machine learning technique `regression trees` for capturing non-linear changes in response to forcing. Regression trees are models that use simple branching question paths to predict an outcome based on inputs. \n",
    "\n",
    "The turbines responds differently to changes in shear and turbulence at different wind speeds. In Region II, at wind speeds below 8 m $s^{−1}$, power output increases by up to 10% as turbulence increases or as the magnitude of the shear increases. At wind speeds greater than 8 m $s^{−1}$ and in Region III, the regression tree modeled power is consistent with the simulated power output: power decreases as turbulence intensity increases and shows weak or no dependence on shear.\n",
    "\n",
    "The article concludes:\n",
    ">simulations suggest and the model clearly demonstrates that the response of the turbine is a complex non-linear function of hub height wind speed, turbulence intensity, and rotor disk shear. At wind speeds below rated speed, the turbine power output is most sensitive to changes in wind speed and speed, turbulence. At rated speed, the turbine is most sensitive to turbulence intensity and shear, and power can change by 10% under typical atmospheric conditions. At wind speeds greater than rated, the turbine responds most to changes in turbulence intensity.\n",
    "\n",
    "The article also includes a figure of the power curves for different utility-scale wind turbines which all reach higher maximum powers than the values in this dataset. [8] The cut-in speeds quoted here are in miles per hour which can be converted to metres per second by divide by 2.237.\n",
    "Rated windspeed is the wind speed at which a turbine hits its maximum rated power output.\n",
    "\n",
    "Wikipedia describes wind turbine design as follows:\n",
    ">A wind turbine is designed to produce power over a range of wind speeds. The cut-in speed is around 3–4 m/s for most turbines, and cut-out at 25 m/s. If the rated wind speed is exceeded the power has to be limited. There are various ways to achieve this.\n",
    ">All wind turbines are designed for a maximum wind speed, called the survival speed, above which they will be damaged. The survival speed of commercial wind turbines is in the range of 40 m/s (144 km/h, 89 MPH) to 72 m/s (259 km/h, 161 MPH). The most common survival speed is 60 m/s (216 km/h, 134 MPH). Some have been designed to survive 80 metres per second (290 km/h; 180 mph) [9]\n",
    "\n",
    "Every wind turbine design has a cut-in wind speed, a rated wind speed, and a cut-out wind speed.\n",
    "At the cut-in wind speed, the blades start to turn and a trickle of electricity starts to be produced. Around cut-in, the generator may be used as a motor to help the wind overcome inertia and start the blades turning.[10]\n",
    "The cut-in speed is typically 7 to 9 mph or equivalently to 3 to 4 meters per second.\n",
    "At the rated wind speed, the turbine is able to generate electricity at its maximum, or rated, capacity.\n",
    "The rated speed is usually in the range of 25 to 35 mph (equivalent to 11 to 13.5 metres per second). At the cut-out wind speed, the turbine shuts down to avoid damage. The pitch controllers feather the blades to let the wind flow past them and the rotor hub is braked. The wind usually has to return to a much lower speed, called the cut-back-in wind speed, for a certain amount of time before the turbine will restart. The cut-out speed is generally around 55 mph (24.6 metres per second). The cut-back-in speed is around 45 mph (20 metres per second).[10]\n",
    "\n",
    "\n",
    "Some noteable facts of relevance:\n",
    "- Wind speed is measured in metres per second.\n",
    "- **Wind turbines generate electricity at wind speeds of 4 – 25 metres per second** [4]\n",
    "- A wind farms location is usually chosen purposely and therefore when a wind turbine is not turning it is usually because of maintenance, or because it must be stopped for safety reasons in the case of strong winds or a storm. This would account for the zero values in the dataset.\n",
    "- Sometimes there might not be enough wind to turn a turbine but the wind energy is not lost as it can be stored up to be used later whenever wind levels are low. This might explain the higher than expected values of power for low levels of wind speed that we see in the dataset.\n",
    "- Turbines are rated by the amount of power they can safely produce at a particular wind speed, usually chosen between 24 mph or 10.5 m/s and 36 mph or 16 m/s [5].\n",
    "- In formulas used to illustrate the factors important to the performance of a wind turbine, an exponent of 3 is applied to wind speed.  Small increases in wind speeds result in a large increase in power. [5]\n",
    "- Of particular relevance is that a typical wind turbine has three main characteristic speeds, the cut-in speeds (Vc), rated speeds (Vr) and cut-out (Vs) speeds.  This helps explain the s-shaped curve we see for this dataset [7]\n",
    "    - The turbine starts generating power when the wind speed reaches the cut-in value.\n",
    "    - The rated speed is the wind speed at which the generator is producing the machine’s rated power.\n",
    "    - The power generation is shut down to prevent defects and damage when the wind speed reaches the cut-out speed.\n",
    "\n"
   ]
  },
  {
   "cell_type": "markdown",
   "metadata": {},
   "source": [
    "### Relating the research to the dataset:\n",
    "\n",
    "The scatter plot of our dataset did show three distinct sections of the curve, the first section at low values of wind speed where the wind turbine values are clustered around zero (including the 10% of observations that have zero power values), the second section where there seems to be a linear trend between wind speed and power output and thirdly the last section where the values of power have reached a peak at higher wind speeds and plateau, and also the outliers here.\n",
    "We would expect to see power being generated when speed is above 3-4 metres per second.\n",
    "Cut out speed at 24-25 metres per second.\n",
    "Cut back in speed after cut out is 20 meters per second.\n",
    "\n",
    "There are no null values in the dataset but there are 49 datapoints where power value is zero representing 10% of the observations. There is a single data point where speed value is zero as well as power.\n",
    "- Ten speed values over 24.4 metres per hour with a corresponding power value of zero\n",
    "- There are no data points with speeds above 24.4 and power not equal to zero\n",
    "- Eight data points where speed is less than 8 metres per second and power value is zero\n",
    "- Four datapoints where speed is greater than 8 and less than 24.4 metres per second and corresponding power values are zero\n",
    "- 24 datapoints where speed is less than 4 metres per second and power is zero\n",
    "\n",
    "- The cut-in speed is typically 3 to 4 meters per second. There are 17 observations where speed is less than 3 metres per second.\n",
    "\n",
    "#### Non-zero power values where speed is less than 3 metres per second:\n",
    "There are 39 observations where speed is less than the cut-in speed (of between 3 and 4 metres per second) and the corresponding power value is greater than zero. I think these will be the tricky ones to predict. There was mention in an article referenced above [4] that while sometimes there might not be enough wind to turn a turbine, the wind energy is not lost as the wind energy can be stored in energy storage systems for later use whenever wind levels are low.\n",
    "\n",
    "#### Rated speed\n",
    "At the rated wind speed, the turbine is able to generate electricity at its maximum, or rated, capacity.\n",
    "The rated speed is usually in the range of 25 to 35 mph. (equivalent to 11.18 to 13.4 metres per second).\n",
    "This is based on the research above but we don't know the details of the actual wind turbines being used here.\n",
    "The rated speed for the turbines in this dataset must be greated than this range as they do not reach their maximum capacity until wind speed is greater than 15 metres per second.\n",
    "The max power value in the dataset is 113.556 kws but there are very few observations in the dataset where power is greater than 110. The power curve for this dataset shows the power values levelling off in and around values between 90 and 100. "
   ]
  },
  {
   "cell_type": "code",
   "execution_count": 36,
   "metadata": {},
   "outputs": [
    {
     "data": {
      "text/plain": [
       "speed    49\n",
       "power    49\n",
       "dtype: int64"
      ]
     },
     "execution_count": 36,
     "metadata": {},
     "output_type": "execute_result"
    }
   ],
   "source": [
    "# show the unique values\n",
    "df.speed.unique()\n",
    "len(df.groupby('speed')) # 490\n",
    "# a count of the unique speed values\n",
    "df.speed.value_counts() # 490\n",
    "# a count of the unique power values\n",
    "df.power.value_counts() # 451\n",
    "df.groupby('speed')['power'].agg(['count', 'size', 'nunique'])\n",
    "len(df.groupby('power')) # 451\n",
    "\n",
    "df.groupby('power')['speed'].agg(['count', 'size', 'nunique'])\n",
    "len(df[['speed', 'power']].drop_duplicates()) # 490\n",
    "# the rows where both values are zero\n",
    "df[(df['speed']==0) & (df['power']==0)].count() # only 1\n",
    "df[df.power==0].count() # 49"
   ]
  },
  {
   "cell_type": "code",
   "execution_count": 37,
   "metadata": {},
   "outputs": [
    {
     "name": "stdout",
     "output_type": "stream",
     "text": [
      "The number of observations with a zero power value are as follows:\n",
      "For speed values below 3 metres per second: 17\n",
      "For speed values is between 3 and 4 metres per second: 7\n",
      "For speed values between 4 and 7 metres per second: 9\n",
      "For speed values between 7 and 24.4 metres per second: 6\n",
      "For speed values above 24.4 metres per second: 10\n"
     ]
    }
   ],
   "source": [
    "print(\"The number of observations with a zero power value are as follows:\")\n",
    "print(f\"For speed values below 3 metres per second: {df[(df.speed <3) & (df.power==0.0)].count()[0]}\")\n",
    "print(f\"For speed values is between 3 and 4 metres per second: {df[(df.speed >3) & (df.speed <4) & (df.power==0.0)].count()[0]}\")\n",
    "print(f\"For speed values between 4 and 7 metres per second: {df[(df.speed >4) & (df.speed<7) & (df.power==0.0)].count()[0]}\")\n",
    "print(f\"For speed values between 7 and 24.4 metres per second: {df[(df.speed >7) & (df.speed<24.4) & (df.power==0.0)].count()[0]}\")\n",
    "print(f\"For speed values above 24.4 metres per second: {df[(df.speed>24.4) & (df.power==0.0)].count()[0]}\")"
   ]
  },
  {
   "cell_type": "code",
   "execution_count": 38,
   "metadata": {},
   "outputs": [
    {
     "data": {
      "text/plain": [
       "speed    24\n",
       "power    24\n",
       "dtype: int64"
      ]
     },
     "execution_count": 38,
     "metadata": {},
     "output_type": "execute_result"
    }
   ],
   "source": [
    "df[(df.speed < 3) & (df.power>0.0)].count() # 39\n",
    "df[(df.speed < 3) & (df.power==0.0)].count() # 17\n",
    "df[(df.speed < 4) & (df.power>0.0)].count() # 56\n",
    "df[(df.speed < 4) & (df.power==0.0)].count() # 24"
   ]
  },
  {
   "cell_type": "markdown",
   "metadata": {},
   "source": [
    "#### Power values greater than 100\n"
   ]
  },
  {
   "cell_type": "code",
   "execution_count": 39,
   "metadata": {},
   "outputs": [
    {
     "name": "stdout",
     "output_type": "stream",
     "text": [
      "Number of data points where power is between 80 and 90 kws: 31\n",
      "Number of data points where power is between 90 and 100 kws: 95\n",
      "Number of data points where power is between 100 and 110 kws: 55\n",
      "Number of data points where power is greater than 110 kws: 2\n"
     ]
    }
   ],
   "source": [
    "print(f\"Number of data points where power is between 80 and 90 kws: {df[(df.power>80)&(df.power<90)].count()[0]}\")\n",
    "print(f\"Number of data points where power is between 90 and 100 kws: {df[(df.power>90)&(df.power<100)].count()[0]}\")\n",
    "print(f\"Number of data points where power is between 100 and 110 kws: {df[(df.power>100)&(df.power<110)].count()[0]}\")\n",
    "print(f\"Number of data points where power is greater than 110 kws: {df[(df.power>110)].count()[0]}\")"
   ]
  },
  {
   "cell_type": "markdown",
   "metadata": {},
   "source": [
    "#### Cut-out speeds for safety reasons\n",
    "At the cut-out wind speed, the turbine shuts down to avoid damage.\n",
    "There are 10 observations that fall into the cut-out speed range.\n",
    "There are no datapoints at all where speed is above the cut-out speed value and power value is not zero."
   ]
  },
  {
   "cell_type": "code",
   "execution_count": 40,
   "metadata": {},
   "outputs": [
    {
     "name": "stdout",
     "output_type": "stream",
     "text": [
      "Number of observations where speed values is above 24.4 metres per second: 10\n",
      "Number of observations where power values is zero and speed is above 24.4 metres per second: 10\n"
     ]
    }
   ],
   "source": [
    "# there are no points in the dataset where speed is greater than 24.4 and power value is not zero\n",
    "print(f\"Number of observations where speed values is above 24.4 metres per second: {df[df.speed>24.4].count()[0]}\") # \n",
    "print(f\"Number of observations where power values is zero and speed is above 24.4 metres per second: {df[(df.speed > 24.4) & (df.power==0.0)].count()[0]}\")"
   ]
  },
  {
   "cell_type": "markdown",
   "metadata": {},
   "source": [
    "#### Speeds between 7 and 8 metres per second:"
   ]
  },
  {
   "cell_type": "code",
   "execution_count": 41,
   "metadata": {},
   "outputs": [
    {
     "data": {
      "text/plain": [
       "speed    2\n",
       "power    2\n",
       "dtype: int64"
      ]
     },
     "execution_count": 41,
     "metadata": {},
     "output_type": "execute_result"
    }
   ],
   "source": [
    "df[(df.speed >7) & (df.speed < 8) & (df.power==0.0)].count()"
   ]
  },
  {
   "cell_type": "code",
   "execution_count": 42,
   "metadata": {},
   "outputs": [
    {
     "data": {
      "text/plain": [
       "speed    49\n",
       "power    49\n",
       "dtype: int64"
      ]
     },
     "execution_count": 42,
     "metadata": {},
     "output_type": "execute_result"
    }
   ],
   "source": [
    "df[(df.speed >11) & (df.speed< 13.4)].count()"
   ]
  },
  {
   "cell_type": "markdown",
   "metadata": {},
   "source": [
    "\n"
   ]
  },
  {
   "cell_type": "markdown",
   "metadata": {},
   "source": [
    "### Data cleaning:\n",
    "I debated whether to leave in the observations with zero power values as they do convey some information about the dataset. However after initially trying out the neural network using the complete dataset, the cost did not fall as much as desired and the resulting plots suggested that keeping the zero power values in for the very high values of speed were throwing things out. The research above showed that there is a cut-out speed between 24 and 25 metres per second for safety reasons.  At the cut-out wind speed, the turbine shuts down to avoid damage. This is enough to justify excluding these observations as we can predict that the power output will be zero when the wind speed exceeds this cut out value. There are only ten observations in the dataset that fall into this range.\n",
    "We can only predict values for power when the turbines are turned on and therefore maybe the model should only be predicting for values of speed where the turbine is on! \n",
    "\n",
    "While there is only one zero value for the speed variable, there are 49 zero values for the power variable. These mostly occur below a certain value of speed but located alongside non-zero power values and there are a few that are associated with medium and higher speed values of speed. Most of the data points in the dataset are unique values. The one datapoint with a zero speed value has a zero power value as expected.\n",
    "\n",
    "Summary of where the zero power values occur:\n",
    "- 17 where speed is less than 3 metres per second\n",
    "- 7 where speed is between 3 and 4 metres per second. This is the cut-in speed\n",
    "- 9 where speed lies between 4 and 7\n",
    "- 6 where speed is between 7 and 24.4\n",
    "- 10 where speed is above 24.4 metres per second. This is the cut-out value.\n",
    "\n",
    "Wind turbines generate electricity at wind speeds of 4 – 25 metres per second.\n",
    "For now I will drop all observations where speed is greater than the cut-out value of 24.4 metres per second.\n",
    "I will also drop the observations above the cut-in speed of between 3 and 4 metres per second.\n",
    "I will leave in all the observations where speed is less than the cut-in speed including the zero values.\n",
    "Therefore I am dropping 25 observations from the dataset where the power values are zero.\n",
    "Ten observations where the wind speed is greater than the cut-off value; the corresponding power is zero as the turbines are off.\n",
    "Fifteen observations where wind speed is greater than the cut-in and less than the cut-out and the power is zero. I am assuming that these represent points where the turbines have been turned off for maintenance or other reasons. I may revisit this.\n",
    "I will make a copy of the dataframe for this purpose.\n",
    "\n",
    "### Update:\n",
    "Excluding the zero values results in the models over predicting the power values for the higher values of speed. Leaving in the zero values does pull the curves back down but only after the max speed has been exceeded. I will just use bounds for the function.\n"
   ]
  },
  {
   "cell_type": "code",
   "execution_count": 43,
   "metadata": {},
   "outputs": [],
   "source": [
    "#https://pandas.pydata.org/pandas-docs/stable/reference/api/pandas.DataFrame.drop.html\n",
    "# https://thispointer.com/python-pandas-how-to-drop-rows-in-dataframe-by-conditions-on-column-values/\n",
    "#df.drop(df.loc[(df.speed>24.4)].index, inplace=True)"
   ]
  },
  {
   "cell_type": "code",
   "execution_count": 44,
   "metadata": {},
   "outputs": [],
   "source": [
    "# make a copy of the dataframe\n",
    "dfx = df.copy()"
   ]
  },
  {
   "cell_type": "code",
   "execution_count": 45,
   "metadata": {},
   "outputs": [
    {
     "data": {
      "text/plain": [
       "speed    25\n",
       "power    25\n",
       "dtype: int64"
      ]
     },
     "execution_count": 45,
     "metadata": {},
     "output_type": "execute_result"
    }
   ],
   "source": [
    "# how many rows where wind speed above the cut-in speed and power is zero\n",
    "dfx.loc[(dfx.speed > 4)&(dfx.power == 0)].count()"
   ]
  },
  {
   "cell_type": "code",
   "execution_count": 46,
   "metadata": {},
   "outputs": [],
   "source": [
    "# drop rows from the new dataframe \n",
    "dfx.drop(dfx.loc[(df.speed > 4)&(dfx.power == 0)].index, inplace=True)"
   ]
  },
  {
   "cell_type": "code",
   "execution_count": 47,
   "metadata": {},
   "outputs": [
    {
     "data": {
      "text/html": [
       "<div>\n",
       "<style scoped>\n",
       "    .dataframe tbody tr th:only-of-type {\n",
       "        vertical-align: middle;\n",
       "    }\n",
       "\n",
       "    .dataframe tbody tr th {\n",
       "        vertical-align: top;\n",
       "    }\n",
       "\n",
       "    .dataframe thead th {\n",
       "        text-align: right;\n",
       "    }\n",
       "</style>\n",
       "<table border=\"1\" class=\"dataframe\">\n",
       "  <thead>\n",
       "    <tr style=\"text-align: right;\">\n",
       "      <th></th>\n",
       "      <th>speed</th>\n",
       "      <th>power</th>\n",
       "    </tr>\n",
       "  </thead>\n",
       "  <tbody>\n",
       "    <tr>\n",
       "      <th>count</th>\n",
       "      <td>475.000000</td>\n",
       "      <td>475.000000</td>\n",
       "    </tr>\n",
       "    <tr>\n",
       "      <th>mean</th>\n",
       "      <td>12.440971</td>\n",
       "      <td>50.541667</td>\n",
       "    </tr>\n",
       "    <tr>\n",
       "      <th>std</th>\n",
       "      <td>7.101231</td>\n",
       "      <td>41.171815</td>\n",
       "    </tr>\n",
       "    <tr>\n",
       "      <th>min</th>\n",
       "      <td>0.000000</td>\n",
       "      <td>0.000000</td>\n",
       "    </tr>\n",
       "    <tr>\n",
       "      <th>25%</th>\n",
       "      <td>6.293500</td>\n",
       "      <td>6.737500</td>\n",
       "    </tr>\n",
       "    <tr>\n",
       "      <th>50%</th>\n",
       "      <td>12.538000</td>\n",
       "      <td>47.282000</td>\n",
       "    </tr>\n",
       "    <tr>\n",
       "      <th>75%</th>\n",
       "      <td>18.531500</td>\n",
       "      <td>94.017500</td>\n",
       "    </tr>\n",
       "    <tr>\n",
       "      <th>max</th>\n",
       "      <td>24.399000</td>\n",
       "      <td>113.556000</td>\n",
       "    </tr>\n",
       "  </tbody>\n",
       "</table>\n",
       "</div>"
      ],
      "text/plain": [
       "            speed       power\n",
       "count  475.000000  475.000000\n",
       "mean    12.440971   50.541667\n",
       "std      7.101231   41.171815\n",
       "min      0.000000    0.000000\n",
       "25%      6.293500    6.737500\n",
       "50%     12.538000   47.282000\n",
       "75%     18.531500   94.017500\n",
       "max     24.399000  113.556000"
      ]
     },
     "execution_count": 47,
     "metadata": {},
     "output_type": "execute_result"
    }
   ],
   "source": [
    "# summary statistics\n",
    "dfx.describe()"
   ]
  },
  {
   "cell_type": "markdown",
   "metadata": {},
   "source": [
    "---\n",
    "## Machine Learning.\n",
    "\n",
    "The goal of the project is to predict wind power from wind speed and therefore this problem falls into supervised learning. \n",
    "Supervised machine learning is about creating models that precisely map the given inputs (independent variables, or predictors) to the given outputs (dependent variables, or responses).[11]\n",
    "\n",
    "Regression involves predicting a continuous-valued attribute associated with an object. It is a statistical method used to describe the nature of the relationship between variables which could be positive or negative, linear or nonlinear. \n",
    "Scatter plots visualise a relationship and Pearson’s correlation coefficient is used to measure the strength of a linear relationship. If a scatter plot and the value of the correlation coefficient indicate a linear relationship, the next step is to determine the equation of the regression line which is the data's line of best fit. Often one of the variables is fixed or controlled and is known as the independent or explanatory variable, the aim is to determine how another variable varies known as the dependent  or response variable varies with it. The explanatorty variable is usually represented by `X` while the dependent or response variable is represented by `y`.  Least squares linear regression is a method for predicting the value of a dependent variable `y` such as power, based on the value of an independent variable `x` such as wind speeds.\n",
    "\n",
    "I had a look at the Seaborn regression plots earlier in the exploratory data analysis section, simple linear regression does not adequately model the relationship between the wind and speed values over the entire dataset while higher order polynomials captured more of the relationship. The correlation statistics did show a high correlation between the variables with a value of 0.85.\n",
    "There were large sections of the dataset that were either under the regression line or above the regression line.\n",
    "The higher order polynomials did not fit the data perfectly though. The cubic polynomial fits the data better and the fourth order polynomial does seem to be even better for the datapoints at the lower end of wind speed values. However it is important not to overfit the data either as then the model will not capture the general trend of the data. There is a suggestion in the research above that an exponent of 3 can be applied to the wind speed factor. [5]. *The typical power curves have an s-shape where at wind speeds less than rated the energy capture is approximately proportional to $U^3$* [8] where ($U=\\bar{\\mu}$) is the 10 minute averaged wind speeds. \n",
    "For this reason I will look at polynomial regression using the scikit-learn package.\n",
    "\n",
    ">One common pattern within machine learning is to use linear models trained on nonlinear functions of the data. This approach maintains the generally fast performance of linear methods, while allowing them to fit a much wider range of data. [12]\n",
    "\n",
    "A simple linear regression can be extended by constructing polynomial features from the coefficients. A regression model that is used to model the expected value of a dependent variable y in terms of an independent variable x can be represented by the equation $y=ax+b$. Adding a squared term will create a quadratic model of the form $y=a+b1x+b2^2+e$ where a is the intercept and e is the error rate. Adding a cubed term can be represented by the equation $y=a+b1x+b2x^2+b3x^3+e$. Additional terms can be added. The regression function is linear in terms of the unknown variables and therefore the models are still considered linear from the point of estimation.[15]\n",
    "Scikit-learn's `PolynomialFeatures` transforms an input data matrix into a new data matrix of a given degree.\n",
    "Adding an $X^3$ allows us to check if there is a cubic relationship in the data. A polynomial is a special case pf a linear model that is used to fit non-linear data.  I used a third degree polynomial here as the data earlier suggested a cubic relationship in the data.\n",
    "Adding polynomials to the regression is like multiple linear regression, as you are adding extra variables in the form of powers of each feature as new features. [13] \n",
    "\n"
   ]
  },
  {
   "cell_type": "markdown",
   "metadata": {},
   "source": [
    "### Regression plots on the cleaned data:\n",
    "Below are the regression plots using Seaborn `regplot` function with a 3rd and 4th order applied. This is on the cleaned dataset."
   ]
  },
  {
   "cell_type": "code",
   "execution_count": 48,
   "metadata": {},
   "outputs": [
    {
     "data": {
      "image/png": "[encoded data removed]",
      "text/plain": [
       "<Figure size 1008x432 with 2 Axes>"
      ]
     },
     "metadata": {},
     "output_type": "display_data"
    }
   ],
   "source": [
    "f, axes = plt.subplots(1, 2, figsize=(14, 6))\n",
    "x = \"speed\"\n",
    "y = \"power\"\n",
    "\n",
    "sns.regplot(x=\"speed\", y=\"power\", data=dfx, order=3, ax=axes[0], label=\"order =3\", ci=False,marker=\"x\", color=\"blue\"); axes[0].legend()\n",
    "sns.regplot(x=\"speed\", y=\"power\", data=dfx, order=4, ax=axes[1], label = \"order=4\",marker='x', color=\"green\"); axes[1].legend()\n",
    "plt.legend()\n",
    "plt.suptitle(\"Trying higher order polynomial regression functions to Speed and Power values\")\n",
    "plt.show()"
   ]
  },
  {
   "cell_type": "markdown",
   "metadata": {},
   "source": [
    "## Polynomial Regression model\n"
   ]
  },
  {
   "cell_type": "markdown",
   "metadata": {},
   "source": [
    "### Split data into training and test sets\n",
    "Splitting your dataset is essential for an unbiased evaluation of prediction performance. The dataset can be split into two or three random subsets. \n",
    "- A training set:  used to train or fit your model. Training set are used to find the optimal weights or coefficients for linear regression, logistic regression, or neural networks.\n",
    "- A validation set: subset used for unbiased model evaluation during hyperparameter tuning. For each set of hyperparameters, fit the model with the training set and assess it's performance with the validation set.\n",
    "- A test set used for an unbiased evaluation of the final model. This should not be used for fitting or validating the model.\n",
    "In less complex cases, when you don’t have to tune hyperparameters, it’s okay to work with only the training and test sets. [11]\n",
    "\n",
    "Splitting a dataset can also be used for detecting if your model suffers from problems such as underfitting and overfitting. \n",
    "\n",
    "Underfitting usually arises when a model fails to capture the relationships among data. This can occur when  you try to represent non-linear relationships with a linear model. Overfitting occurs when a model has an excessively complex structure and learns both the existing relationships between the variables as well as the noise. Overfitted models usually fail to recognise the general trend of the data. \n",
    "While underfitted models are likely to have poor performance with both the training and testing dataset, overfitted models will usually have strong performance on the training dataset but will have poor performance on the unseen test set.\n",
    "Scikit-learn has a module for splitting the data into training and test sets. The default split is 75% for the training set and 25% for the test set. The random state can be set to make the split reproducible. I initially did not use this but it makes it harder to compare the different machine learning models if you have a different training and test set for each."
   ]
  },
  {
   "cell_type": "markdown",
   "metadata": {},
   "source": [
    "#### Using scikit-learn to split the dataset into training and test subsets:\n",
    "using `sklearn.model_selection.train_test_split`"
   ]
  },
  {
   "cell_type": "code",
   "execution_count": 49,
   "metadata": {},
   "outputs": [
    {
     "name": "stdout",
     "output_type": "stream",
     "text": [
      "(356, 1) (119, 1) (356, 1) (119, 1)\n"
     ]
    }
   ],
   "source": [
    "\n",
    "# split into input and output columns\n",
    "\n",
    "X, y = dfx.values[:, :-1], dfx.values[:, -1:]\n",
    "# split into train and test datasets\n",
    "X_train, X_test, y_train, y_test = train_test_split(X, y, test_size=0.25, random_state=0)\n",
    "print(X_train.shape, X_test.shape, y_train.shape, y_test.shape)\n",
    "# determine the number of input features\n",
    "\n",
    "n_features = X_train.shape[1]"
   ]
  },
  {
   "cell_type": "markdown",
   "metadata": {},
   "source": [
    "#### Full dataset `df`:\n",
    "To use the full dataset `df` including the zero power values change uncomment the line below"
   ]
  },
  {
   "cell_type": "code",
   "execution_count": 50,
   "metadata": {},
   "outputs": [],
   "source": [
    "# split the dataset into input and output columns: df is the full dataset\n",
    "#X, y = df.values[:, :-1], df.values[:, -1:]"
   ]
  },
  {
   "cell_type": "markdown",
   "metadata": {},
   "source": [
    "#### Cleaned dataset `dfx`:"
   ]
  },
  {
   "cell_type": "code",
   "execution_count": 51,
   "metadata": {},
   "outputs": [],
   "source": [
    "# split the dataset into input and output columns: dfx is the cleaned dataset\n",
    "X, y = dfx.values[:, :-1], dfx.values[:, -1:]"
   ]
  },
  {
   "cell_type": "code",
   "execution_count": 52,
   "metadata": {},
   "outputs": [
    {
     "name": "stdout",
     "output_type": "stream",
     "text": [
      "(356, 1) (119, 1) (356, 1) (119, 1)\n"
     ]
    }
   ],
   "source": [
    "\n",
    "# split into train and test datasets\n",
    "X_train, X_test, y_train, y_test = train_test_split(X, y, test_size=0.25, random_state=0)\n",
    "print(X_train.shape, X_test.shape, y_train.shape, y_test.shape)\n",
    "# determine the number of input features\n",
    "n_features = X_train.shape[1]"
   ]
  },
  {
   "cell_type": "markdown",
   "metadata": {},
   "source": [
    "#### Transform the features of x \n",
    "Using Scikit-learns `PolynomialFeatures` to add a cubic variable to the dataset.\n",
    "Once transformed they can be used with any linear model. \n",
    "I will apply to the training data only here.\n"
   ]
  },
  {
   "cell_type": "code",
   "execution_count": 53,
   "metadata": {},
   "outputs": [],
   "source": [
    "# using scikit-learn, set the order to 3 degrees to include a cubic \n",
    "# include_bias=False otherwise I end up with a column of zeros \n",
    "poly3 = PolynomialFeatures(degree=3, include_bias=False)\n",
    "poly4 = PolynomialFeatures(degree=4, include_bias=False)"
   ]
  },
  {
   "cell_type": "code",
   "execution_count": 54,
   "metadata": {},
   "outputs": [],
   "source": [
    "# convert the inputs into a new set of variables, save as X_train_p3 to leave X_train untouched for later use\n",
    "X_train_poly3 = poly3.fit_transform(X_train)\n",
    "X_train_poly4 = poly4.fit_transform(X_train)"
   ]
  },
  {
   "cell_type": "markdown",
   "metadata": {},
   "source": [
    "#### Look at the new features:"
   ]
  },
  {
   "cell_type": "code",
   "execution_count": 55,
   "metadata": {},
   "outputs": [
    {
     "data": {
      "text/plain": [
       "array([[8.08300000e+00, 6.53348890e+01, 5.28101908e+02],\n",
       "       [2.47700000e+00, 6.13552900e+00, 1.51977053e+01],\n",
       "       [1.57660000e+01, 2.48566756e+02, 3.91890348e+03],\n",
       "       ...,\n",
       "       [6.18100000e+00, 3.82047610e+01, 2.36143628e+02],\n",
       "       [2.25200000e+00, 5.07150400e+00, 1.14210270e+01],\n",
       "       [9.43400000e+00, 8.90003560e+01, 8.39629359e+02]])"
      ]
     },
     "execution_count": 55,
     "metadata": {},
     "output_type": "execute_result"
    }
   ],
   "source": [
    "X_train_poly3"
   ]
  },
  {
   "cell_type": "code",
   "execution_count": 56,
   "metadata": {},
   "outputs": [
    {
     "data": {
      "text/plain": [
       "array([[8.08300000e+00, 6.53348890e+01, 5.28101908e+02, 4.26864772e+03],\n",
       "       [2.47700000e+00, 6.13552900e+00, 1.51977053e+01, 3.76447161e+01],\n",
       "       [1.57660000e+01, 2.48566756e+02, 3.91890348e+03, 6.17854322e+04],\n",
       "       ...,\n",
       "       [6.18100000e+00, 3.82047610e+01, 2.36143628e+02, 1.45960376e+03],\n",
       "       [2.25200000e+00, 5.07150400e+00, 1.14210270e+01, 2.57201528e+01],\n",
       "       [9.43400000e+00, 8.90003560e+01, 8.39629359e+02, 7.92106337e+03]])"
      ]
     },
     "execution_count": 56,
     "metadata": {},
     "output_type": "execute_result"
    }
   ],
   "source": [
    "X_train_poly4"
   ]
  },
  {
   "cell_type": "markdown",
   "metadata": {},
   "source": [
    "#### Transform the test set :"
   ]
  },
  {
   "cell_type": "code",
   "execution_count": 57,
   "metadata": {},
   "outputs": [],
   "source": [
    "# also need to transform the test data \n",
    "X_test_poly3 = poly3.fit_transform(X_test)\n",
    "X_test_poly4 = poly4.fit_transform(X_test)"
   ]
  },
  {
   "cell_type": "markdown",
   "metadata": {},
   "source": [
    "Linear regression can  now be implemented. This can be thought of as multiple linear regression as new variables in the form of x-squared and x-cubed have been added to the model"
   ]
  },
  {
   "cell_type": "markdown",
   "metadata": {},
   "source": [
    "#### Fit the model to the training data:"
   ]
  },
  {
   "cell_type": "code",
   "execution_count": 58,
   "metadata": {},
   "outputs": [],
   "source": [
    "# call the linear regression model\n",
    "model_poly3 = linear_model.LinearRegression()\n",
    "model_poly4 = linear_model.LinearRegression()"
   ]
  },
  {
   "cell_type": "code",
   "execution_count": 59,
   "metadata": {},
   "outputs": [
    {
     "data": {
      "text/plain": [
       "LinearRegression()"
      ]
     },
     "execution_count": 59,
     "metadata": {},
     "output_type": "execute_result"
    }
   ],
   "source": [
    "# fit to the training data\n",
    "model_poly3.fit(X_train_poly3, y_train)\n",
    "model_poly4.fit(X_train_poly4, y_train)"
   ]
  },
  {
   "cell_type": "markdown",
   "metadata": {},
   "source": [
    "#### Predict using the polynomial regression model:"
   ]
  },
  {
   "cell_type": "code",
   "execution_count": 60,
   "metadata": {},
   "outputs": [],
   "source": [
    "# predict on the transformed test data\n",
    "poly3_predictions = model_poly3.predict(X_test_poly3)\n",
    "poly4_predictions = model_poly4.predict(X_test_poly4)"
   ]
  },
  {
   "cell_type": "code",
   "execution_count": 61,
   "metadata": {},
   "outputs": [
    {
     "data": {
      "text/plain": [
       "array([[14.35877751]])"
      ]
     },
     "execution_count": 61,
     "metadata": {},
     "output_type": "execute_result"
    }
   ],
   "source": [
    "# Predicting a new result with Polymonial Regression\n",
    "model_poly3.predict(poly3.fit_transform([[0]]))"
   ]
  },
  {
   "cell_type": "code",
   "execution_count": 62,
   "metadata": {},
   "outputs": [
    {
     "data": {
      "text/plain": [
       "array([[9.94417577]])"
      ]
     },
     "execution_count": 62,
     "metadata": {},
     "output_type": "execute_result"
    }
   ],
   "source": [
    "# Predicting a new result with Polymonial Regression\n",
    "model_poly4.predict(poly4.fit_transform([[0]]))"
   ]
  },
  {
   "cell_type": "code",
   "execution_count": 63,
   "metadata": {},
   "outputs": [
    {
     "data": {
      "text/plain": [
       "array([[45.01454843]])"
      ]
     },
     "execution_count": 63,
     "metadata": {},
     "output_type": "execute_result"
    }
   ],
   "source": [
    "model_poly3.predict(poly3.fit_transform([[12]]))"
   ]
  },
  {
   "cell_type": "code",
   "execution_count": 64,
   "metadata": {},
   "outputs": [
    {
     "data": {
      "text/plain": [
       "array([[43.28996568]])"
      ]
     },
     "execution_count": 64,
     "metadata": {},
     "output_type": "execute_result"
    }
   ],
   "source": [
    "# Predicting a new result with Polymonial Regression\n",
    "model_poly4.predict(poly4.fit_transform([[12]]))"
   ]
  },
  {
   "cell_type": "markdown",
   "metadata": {},
   "source": [
    "#### Get the coefficients"
   ]
  },
  {
   "cell_type": "code",
   "execution_count": 65,
   "metadata": {},
   "outputs": [
    {
     "data": {
      "text/plain": [
       "array([[-9.69965794,  1.49732   , -0.03967732]])"
      ]
     },
     "execution_count": 65,
     "metadata": {},
     "output_type": "execute_result"
    }
   ],
   "source": [
    "# get the coefficiets\n",
    "model_poly3.coef_"
   ]
  },
  {
   "cell_type": "code",
   "execution_count": 66,
   "metadata": {},
   "outputs": [
    {
     "data": {
      "text/plain": [
       "array([[-5.98949605e+00,  8.11385527e-01,  3.98058010e-03,\n",
       "        -8.92082165e-04]])"
      ]
     },
     "execution_count": 66,
     "metadata": {},
     "output_type": "execute_result"
    }
   ],
   "source": [
    "# get the coefficiets\n",
    "model_poly4.coef_"
   ]
  },
  {
   "cell_type": "code",
   "execution_count": 67,
   "metadata": {},
   "outputs": [
    {
     "data": {
      "text/plain": [
       "array([14.35877751])"
      ]
     },
     "execution_count": 67,
     "metadata": {},
     "output_type": "execute_result"
    }
   ],
   "source": [
    "# get the intercept\n",
    "model_poly3.intercept_"
   ]
  },
  {
   "cell_type": "code",
   "execution_count": 68,
   "metadata": {},
   "outputs": [
    {
     "data": {
      "text/plain": [
       "array([9.94417577])"
      ]
     },
     "execution_count": 68,
     "metadata": {},
     "output_type": "execute_result"
    }
   ],
   "source": [
    "# get the intercept\n",
    "model_poly4.intercept_"
   ]
  },
  {
   "cell_type": "markdown",
   "metadata": {},
   "source": [
    "#### Visualise the polynomial regression results:\n",
    "The scatter-plot can visualise the polynomial regression results on the test dataset can compared to the actual datapoints."
   ]
  },
  {
   "cell_type": "code",
   "execution_count": 69,
   "metadata": {},
   "outputs": [
    {
     "data": {
      "image/png": "[encoded data removed]",
      "text/plain": [
       "<Figure size 1008x576 with 1 Axes>"
      ]
     },
     "metadata": {},
     "output_type": "display_data"
    }
   ],
   "source": [
    "# create the plot\n",
    "plt.style.use('ggplot')\n",
    "# Plot size.\n",
    "plt.rcParams['figure.figsize'] = (14, 8)\n",
    "plt.title('Comparing actual data to predicted data')\n",
    "plt.plot(X_test, y_test, 'k.', label=\"true values\")\n",
    "plt.plot(X_test, poly3_predictions, 'gx', label=\"predicted values order=3\")\n",
    "plt.plot(X_test, poly4_predictions, 'rx', label=\"predicted values order=4\")\n",
    "plt.xlabel(\"Wind speed m/s\")\n",
    "plt.ylabel(\"Power\")\n",
    "plt.legend()\n",
    "\n",
    "plt.show()"
   ]
  },
  {
   "cell_type": "markdown",
   "metadata": {},
   "source": [
    "### Evaluate the model"
   ]
  },
  {
   "cell_type": "markdown",
   "metadata": {},
   "source": [
    "Scikit-learn has a metrics module that can be used to evaluate the model.\n",
    "[sklearn.metrics.r2_score](https://scikit-learn.org/stable/modules/generated/sklearn.metrics.r2_score.html)\n",
    "The coefficient of determination $R^2$ is the proportion of the variance in the dependent variable that is predictable from the independent variable(s).[16]\n",
    "It shows how good the model is at explaining the behaviour of the dependent variable. The coefficient of determination is the proportion of variation in the dependent variable power that is explained by the regression line and the independent variable wind speed. It is a better indicator of the strength of a linear relationship than the correlation coefficient as it identifies the percentage of variation of the dependent variable that is directly attributable to the variation of the independent variable. \n",
    "\n",
    "The model can be evaluated using the mean squared error. It calculates the average distance our data points are from the model.  \n",
    "The mean squared error could be further lowered by adding extra polynomials to the model. However you are then in danger of overfitting the model where the model will fail to recognise the general trend. The simple linear model cleared underfit the data. The seaborn regression plots with a 4th order polynomial earlier did show a slightly better fit for speed values under 5 metres per second whereas the 3rd order polynomial is underpredicting and overfitting for sections of the curve. However it does not seem to be a huge improvement so I will leave the regression as is and move on. Polynomial regression can be very sensitive to outliers and even a few outliers could seriously affect the results. In addition there are unfortunately fewer model validation tools for the detection of outliers in nonlinear regression than there are for linear regression. [16]\n",
    "\n",
    "The root mean squared error is the square root of the average of squared differences between prediction and actual observation.  It is a standard way to measure the error of a model in predicting quantitative data."
   ]
  },
  {
   "cell_type": "code",
   "execution_count": 70,
   "metadata": {},
   "outputs": [],
   "source": [
    "from sklearn.metrics import mean_squared_error, r2_score"
   ]
  },
  {
   "cell_type": "code",
   "execution_count": 71,
   "metadata": {},
   "outputs": [
    {
     "name": "stdout",
     "output_type": "stream",
     "text": [
      "Coefficients: \n",
      " [[-9.69965794  1.49732    -0.03967732]]\n"
     ]
    }
   ],
   "source": [
    "# The coefficients\n",
    "print('Coefficients: \\n', model_poly3.coef_)"
   ]
  },
  {
   "cell_type": "code",
   "execution_count": 72,
   "metadata": {},
   "outputs": [
    {
     "name": "stdout",
     "output_type": "stream",
     "text": [
      "Results from 3rd degree polynomial regression:\n",
      "Mean squared error: 33.32\n",
      "Coefficient of determination: 0.98\n",
      "Root Mean Squared Error: 5.77\n"
     ]
    }
   ],
   "source": [
    "print(\"Results from 3rd degree polynomial regression:\")\n",
    "print('Mean squared error: %.2f' % mean_squared_error(y_test,poly3_predictions ))\n",
    "# The coefficient of determination: 1 is perfect prediction\n",
    "print('Coefficient of determination: %.2f' % r2_score(y_test, poly3_predictions))\n",
    "print('Root Mean Squared Error: %.2f' % np.sqrt(mean_squared_error(y_test,poly3_predictions )))"
   ]
  },
  {
   "cell_type": "code",
   "execution_count": 73,
   "metadata": {},
   "outputs": [
    {
     "name": "stdout",
     "output_type": "stream",
     "text": [
      "Results from 4th degree polynomial regression:\n",
      "Mean squared error: 30.80\n",
      "Coefficient of determination: 0.98\n",
      "Root Mean Squared Error: 5.55\n"
     ]
    }
   ],
   "source": [
    "print(\"Results from 4th degree polynomial regression:\")\n",
    "print('Mean squared error: %.2f' % mean_squared_error(y_test,poly4_predictions ))\n",
    "# The coefficient of determination: 1 is perfect prediction\n",
    "print('Coefficient of determination: %.2f' % r2_score(y_test, poly4_predictions))\n",
    "print('Root Mean Squared Error: %.2f' % np.sqrt(mean_squared_error(y_test,poly4_predictions )))"
   ]
  },
  {
   "cell_type": "markdown",
   "metadata": {},
   "source": [
    "The mean squared error for the 4th order polynomial did fall a little compared to the polynomial using 3 degrees. The R-squared value does not seem to have changed much though. The curves above show that they both overestimate the power values for very low wind speed values. For the slightly higher wind speed values the curve predicts negative values of power. Fitting higher order polynomials might pick up more of the trends in the training data but would be unlikely to work very well with new data. "
   ]
  },
  {
   "cell_type": "code",
   "execution_count": 75,
   "metadata": {},
   "outputs": [
    {
     "data": {
      "text/plain": [
       "array([[101.8750371]])"
      ]
     },
     "execution_count": 75,
     "metadata": {},
     "output_type": "execute_result"
    }
   ],
   "source": [
    "# Predicting a new result with Polymonial Regression\n",
    "# need to transform the data to be predicted\n",
    "model_poly3.predict(poly3.fit_transform([[20]]))"
   ]
  },
  {
   "cell_type": "code",
   "execution_count": 76,
   "metadata": {},
   "outputs": [
    {
     "data": {
      "text/plain": [
       "array([[103.81995991]])"
      ]
     },
     "execution_count": 76,
     "metadata": {},
     "output_type": "execute_result"
    }
   ],
   "source": [
    "# need to transform the data to be predicted\n",
    "model_poly4.predict(poly4.fit_transform([[20]]))"
   ]
  },
  {
   "cell_type": "code",
   "execution_count": 77,
   "metadata": {},
   "outputs": [
    {
     "data": {
      "text/plain": [
       "array([[92.74766278]])"
      ]
     },
     "execution_count": 77,
     "metadata": {},
     "output_type": "execute_result"
    }
   ],
   "source": [
    "# Predicting a new result with Polymonial Regression\n",
    "model_poly3.predict(poly3.fit_transform([[24.4]]))"
   ]
  },
  {
   "cell_type": "code",
   "execution_count": 78,
   "metadata": {},
   "outputs": [
    {
     "data": {
      "text/plain": [
       "array([[-2.33560405]])"
      ]
     },
     "execution_count": 78,
     "metadata": {},
     "output_type": "execute_result"
    }
   ],
   "source": [
    "# Predicting a new result with Polymonial Regression\n",
    "model_poly3.predict(poly3.fit_transform([[3]]))"
   ]
  },
  {
   "cell_type": "markdown",
   "metadata": {},
   "source": [
    "### Save the model for use in the Web application\n",
    "This project also requires a web service to be developed that will respond with predicted power values based on speed values sent as HTTP requests. Therefore I need to save the model for use outside this notebook.\n",
    "\n",
    "For the polynomial regression model, there is the option of  using Python’s built-in persistence model `pickle`. The [scikit-learn documents](\n",
    "https://scikit-learn.org/stable/modules/model_persistence.html) recommend using joblib’s replacement of pickle (dump & load), which is more efficient on objects that carry large numpy arrays internally as is often the case for fitted scikit-learn estimators, but can only pickle to the disk and not to a string.\n",
    "\n",
    "\n",
    "I had to come back and update the model to exclude the constant 1 as I had 4 coefficients and was working with 3 in the web app, the wind speed, wind speed squared and wind speed cubed values. The [PolynomialFeatures](https://scikit-learn.org/stable/modules/generated/sklearn.preprocessing.PolynomialFeatures.html) documents it \n",
    " generate a new feature matrix consisting of all polynomial combinations of the features with degree less than or equal to the specified degree. For example, if an input sample is two dimensional and of the form `[a, b]`, the degree-2 polynomial features are `[1, a, b, a^2, ab, b^2]`.\n",
    "Therefore I updated the model and set the `include_bias` to False."
   ]
  },
  {
   "cell_type": "code",
   "execution_count": 79,
   "metadata": {},
   "outputs": [],
   "source": [
    "from joblib import dump, load\n",
    "#dump(model_poly3, 'model_poly3.joblib') \n",
    "#dump(model_poly4, 'model_poly4.joblib') "
   ]
  },
  {
   "cell_type": "code",
   "execution_count": 80,
   "metadata": {},
   "outputs": [],
   "source": [
    "#dump(model_poly3, 'model_poly3.pkl') \n",
    "#dump(model_poly4, 'model_poly4.pkl') "
   ]
  },
  {
   "cell_type": "code",
   "execution_count": 81,
   "metadata": {},
   "outputs": [
    {
     "data": {
      "text/plain": [
       "array([[  12.,  144., 1728.]])"
      ]
     },
     "execution_count": 81,
     "metadata": {},
     "output_type": "execute_result"
    }
   ],
   "source": [
    "wind12 = poly3.fit_transform([[12]])\n",
    "wind12"
   ]
  },
  {
   "cell_type": "code",
   "execution_count": 82,
   "metadata": {},
   "outputs": [
    {
     "data": {
      "text/plain": [
       "array([[1.2000e+01, 1.4400e+02, 1.7280e+03, 2.0736e+04]])"
      ]
     },
     "execution_count": 82,
     "metadata": {},
     "output_type": "execute_result"
    }
   ],
   "source": [
    "windp4_12 = poly4.fit_transform([[12]])\n",
    "windp4_12"
   ]
  },
  {
   "cell_type": "code",
   "execution_count": 83,
   "metadata": {},
   "outputs": [
    {
     "data": {
      "text/plain": [
       "array([[43.28996568]])"
      ]
     },
     "execution_count": 83,
     "metadata": {},
     "output_type": "execute_result"
    }
   ],
   "source": [
    "model_poly4.predict(windp4_12)"
   ]
  },
  {
   "cell_type": "code",
   "execution_count": 84,
   "metadata": {},
   "outputs": [],
   "source": [
    "wind12 = [[12, 12**2, 12**3]]\n",
    "wind12 =np.array(wind12)"
   ]
  },
  {
   "cell_type": "code",
   "execution_count": 85,
   "metadata": {},
   "outputs": [
    {
     "data": {
      "text/plain": [
       "array([[45.01454843]])"
      ]
     },
     "execution_count": 85,
     "metadata": {},
     "output_type": "execute_result"
    }
   ],
   "source": [
    "model_poly3.predict(wind12)"
   ]
  },
  {
   "cell_type": "code",
   "execution_count": 86,
   "metadata": {},
   "outputs": [
    {
     "data": {
      "text/plain": [
       "array([[-2.33560405]])"
      ]
     },
     "execution_count": 86,
     "metadata": {},
     "output_type": "execute_result"
    }
   ],
   "source": [
    "wind3 = [[3, 3**2, 3**3]]\n",
    "wind3 = np.array(wind3)\n",
    "model_poly3.predict(wind3)"
   ]
  },
  {
   "cell_type": "markdown",
   "metadata": {},
   "source": [
    "The polynomial curve does quite a good job but similarly to the MLP below, it predicts power values for values over 24.4 which is the cut-off range. \n",
    "Also the transformation has to be taken into account when taking in new values from the end user."
   ]
  },
  {
   "cell_type": "markdown",
   "metadata": {},
   "source": [
    "---\n",
    "## Artificial Neural Network\n",
    "\n",
    "For my second machine learning model I implement an artificial neural network using the `tf.keras` API.\n",
    "In addition to the lecture videos I followed several tutorials in particular those by MachineLearningMastery.com [20] as well as the Tensorflow-Keras documentation and other tutorials documented in the references section below. TensorFlow is the premier open-source deep learning framework developed and maintained by Google. Keras is a deep learning API written in Python, running on top of the machine learning platform TensorFlow.[21] \n",
    "\n",
    "A Multilayer Perceptron model (MLP) is a standard fully connected neural network model. It is made up of one or more (dense) layers of nodes where each node is connected to all outputs from the previous layer and the output of each node is connected to all the inputs for the nodes in the next layer. This model is suitable for tabular data and can be used for three predictive modeling problems being binary classification, multiclass classification, and regression.[20]\n",
    "\n",
    "Machine learning is the science of getting computers to act without being explicitly programmed. Artificial neural networks are a class of machine-learning algorithms  that are used to model complex patterns in datasets through the use of multiple hidden layers and non-linear activation functions. They are designed to simulate the way the human brain analyses and processes information. The computer learns to perform some task by analyzing training examples.\n",
    "\n",
    ">An artificial neural network (ANN) is the piece of a computing system designed to simulate the way the human brain analyzes and processes information. It is the foundation of artificial intelligence (AI) and solves problems that would prove impossible or difficult by human or statistical standards. ANNs have self-learning capabilities that enable them to produce better results as more data becomes available.[17]\n",
    "\n",
    ">Neural nets are a means of doing machine learning, in which a computer learns to perform some task by analyzing training examples. Modeled loosely on the human brain, a neural net consists of thousands or even millions of simple processing nodes that are densely interconnected. Most of today’s neural nets are organized into layers of nodes, and they’re “feed-forward,” meaning that data moves through them in only one direction. An individual node might be connected to several nodes in the layer beneath it, from which it receives data, and several nodes in the layer above it, to which it sends data. To each of its incoming connections, a node will assign a number known as a “weight.” When the network is active, the node receives a different data item — a different number — over each of its connections and multiplies it by the associated weight. It then adds the resulting products together, yielding a single number. If that number is below a threshold value, the node passes no data to the next layer. If the number exceeds the threshold value, the node “fires,” which in today’s neural nets generally means sending the number — the sum of the weighted inputs — along all its outgoing connections.\n",
    "When a neural net is being trained, all of its weights and thresholds are initially set to random values. Training data is fed to the bottom layer — the input layer — and it passes through the succeeding layers, getting multiplied and added together in complex ways, until it finally arrives, radically transformed, at the output layer. During training, the weights and thresholds are continually adjusted until training data with the same labels consistently yield similar outputs.[18]\n"
   ]
  },
  {
   "cell_type": "markdown",
   "metadata": {},
   "source": [
    "Neural networks consist of several layers. A neural network takes an input and passes it through multiple layers of hidden neurons. These hidden neurons can be considered as mini-functions with coefficients that the model must learn. The neural network will output a prediction that represents the combined input of all the neurons.\n",
    "Neural networks are trained iteratively using optimization techniques such as gradient descent. \n",
    "\n",
    "After each cycle of training, an error metric is calculated based on the difference between the prediction and the target. The derivatives of this error metric are calculated and propagated back through the network using a technique called backpropagation. Each neuron’s coefficients (weights) are then adjusted relative to how much they contributed to the total error. This process is repeated iteratively until the network error drops below an acceptable threshold. [19]\n",
    "\n",
    "To use artificial neural networks on a dataset all variables need to be first encoded into floating point numbers. Outputs can be reverse decoded later. A neuron takes a group of weighted inputs, applies an activation function and returns an output. The inputs to a neuron can be features from a training set or the outputs from the previous layer's neurons. The weights and bias are the parameters of the model. The initial weights are often set to small random values and can be adjusted to get the neural network to perform better. Weights are applied along the inputs as they travel along the 'synapses' (the connection between two neurons) to reach the neuron. The neuron then applies an activation function to the sum of the weighted inputs from each incoming synapse and passes the result to all the neurons in the next layer.\n",
    "Weights are applied to each connection. Weights are the values that control the strength of the connection between two neurons.  Inputs are usually multiplied by weight that define how much influence the input will have on the output. The lower the weight the lower the importance of the connection while the higher the weight the higher the importance of the connection. When the inputs are transmitted between the neurons, the weights are applied to  the inputs as well as an additional value known as the bias. The bias are additional constant terms that are attached to each neuron and are added to the weighted input before the activation function is applied. *Bias terms help models represent patterns that do not necessarily pass through the origin.* [19] Bias terms must also be learned by the model.\n",
    "\n",
    "The input layer of a neural network will hold the data to train the model. Neural networks can have several input features each represented by a neuron that represents the unique attributes in the dataset. This dataset has a single input feature, the wind speed in metres per second.\n",
    "\n",
    "The neural network can have one or more hidden layers between the input layer and the output layer. The hidden layers applies an activation function before passing on the results to the next layer. Hidden layers can be fully connected or dense layers where each neuron receives inputs from all the neurons in the previous layer and sends its output to each neuron in the next layer. Alternatively with a convolutional layer the neurons will send their output to only some of the neurons in the next layer. The output layer is the final layer in the neural network and receives its input from the previous hidden layer. It can also apply an activation function and returns an output. The output represents the prediction from the neural network.\n",
    "\n",
    "With neural networks the aim is to get a high value assigned to the correct output. If the neural network misclassifies an output label then it is fed back into the algorithm, the weights are changed a little so that the correct output is predicted the next time and this will keep changing until it gets the correct output. \n",
    "The starting values for the weights are usually random values and which updated over time to achieve the expected output using an algorithm such as gradient descent (or stochastic gradient descent `sgd`) or some other algorithm. \n",
    "\n",
    "The input to a neuron is the sum of the weighted outputs from all the neurons in the previous layer. Each input is multiplied by the weight associated with the synapse or connnection connecting  the input to the current neuron.\n",
    "If there are `n`  inputs or neurons in the previous layer then each neuron in the current layer will have `n` distinct weight with one weight for each connection.\n",
    "For multiple inputs this is $x_1w_1+x_2w_2+x_3w_3$ which is the same equation as used for linear equation. A neural network with a single neuron is actually the same as linear regression except that the neural network post-processes the weighted inputs with an activation function. [19]\n",
    "\n",
    "There are activation function inside each layer of a neural network which modifies the inputs they receive before passing them onto the next layer. Activation functions allow a neural network to model complex non-linear functions. In order to be able to use gradient descent the outputs need to have a slope with which to calculate the error derivative with respect to the weights. If the neuron only outputted a 0 or 1 then this doesn't tell us in what direction the weights need to be updated to reduce the error. \n",
    "\n",
    "A medium article [22] provides some background on activation functions:\n",
    "An artificial neuron calculates a weighted sum of its input, adds a bias and then decides whether it should be fired or not. $Y = \\sum{(\\text{weight} * \\text{input})} + \\text{bias}$\n",
    "The value of Y can be anything from -infinity to + infinity and the neuron does not really know the bounds of the value. To decide whether the neuron should fire or not the activation function checks the $Y$ value produced by the neuron and decides whether outside connections should consider this neuron as activated (fired) or not.\n",
    "With a threshold based activation function, if the value of Y is above a certain value then it can be declared as activated and otherwise not. The output is 1 (activated) when the value is greater than the threshold and 0 otherwise. This is a step function which has drawbacks being used as an activation function when the response is not a binary yes or no. \n",
    "A linear activation function $A=cX$ is a straight line function where activation is proportional to input (which is the weighted sum from neurons). In this way it will give a range of activations rather than just binary activations. We can connect some neurons and if more than one fire then we could take the max and decide based on that. The derivative w.r.x is c which means that the gradient has no relationship with X. The descent is going to be on a constant gradient. If there is an error in prediction the changes made by back propagation is constant and not depending on the change in input delta(x).\n",
    "Another problem concerns the connected layers where each layer is activated by a linear function. \n",
    "That activation in turn goes into the next level as input and the second layer calculates weighted sum on that input and it in turn, fires based on another linear activation function.\n",
    "No matter how many layers we have, if all are linear in nature, the final activation function of last layer is nothing but just a linear function of the input of first layer. Therefore two or more layers can be replaced by a single layer. The whole network then is equivalent to  a single layer with linear activation.\n",
    "The sigmoid function is smooth and looks somewhat like a step function. It is nonlinear in nature and therefore combinations of layers are also non-linear which means that layers can be stacked. It will also give non-binary activations unlike the step function. It has a smooth gradient.\n",
    "Between X values -2 to 2, the Y values are very steep. This means that any small changes in the values of X in that region will cause values of Y to change significantly. This means this function has a tendency to bring the Y values to either end of the curve. It tends to bring the activations to either side of the curve making clear distinctions on prediction. Another advantage over linear function is that the output of the activation function is always going to be in range (0,1) compared to (-inf, inf) of linear function and therefore the activations are bound in a range. \n",
    "Sigmoid functions are one of the most widely used activation functions today. The problems with them is that towards either end of the sigmoid function, the Y values tend to respond less to changes in X. This means that the gradient at that region is going to be small. It gives rise to a problem of “vanishing gradients”. When the activations reach near the “near-horizontal” part of the curve on either sides, the gradient is small or has vanished (cannot make significant change because of the extremely small value). The network refuses to learn further or is drastically slow (depending on use case and until gradient /computation gets hit by floating point value limits ). There are ways to work around this problem and sigmoid is still very popular in classification problems.\n",
    "The article also looked at the Tanh activation functions which is a scaled sigmoid function and the ReLu function which gives an output x if x is positive and 0 otherwise. These are both non-linear functions.\n",
    "The medium article [22] finishes by suggesting how to choose the correct activation function. \n",
    "When you know the function you are trying to approximate has certain characteristics, you can choose an activation function which will approximate the function faster leading to faster training process. \n",
    "\n",
    "\n",
    "The loss function or cost function tells us how well the model predicts for a given set of parameters. It has its own curve and derivative and the slope of this curve informs how to change the parameters to make the model more accurate. The lost or cost functions for regression problems is usually the mean squared error MSE. Other loss functions would be used for classification problems.\n",
    "\n",
    "Once the neural network is trained and is stable, if a new datapoint that it was not trained on is provided to it the neural network should be able to correctly classify it."
   ]
  },
  {
   "cell_type": "markdown",
   "metadata": {},
   "source": [
    "A machine learning model has a life-cycle with 5 steps:[20]\n",
    "\n",
    "[Keras documentation](https://www.tensorflow.org/guide/keras/sequential_mode) \n",
    "\n",
    "#### 1. Define the model: \n",
    "Select the type of model and choose the architecture or network topology. Define the number of layers, configure each layer with a number of nodes and activation function, connect the layers together into a cohesive model.\n",
    "A layer is a simple input-output transformation while a model is a directed acyclic graph of layers. It is like a bigger layer consisting of many sub-layers that can be trained via exposure to data. According to any tutorials I came across, determining the correct number of layers to use is a matter of trial and error really. Generally you need a network large enough to capture the structure of the problem.\n",
    "\n",
    "The input layer is first defined then you chain layer transformations on top of the inputs until the final output.\n",
    "All layers in Keras need to know the shape of their inputs in order to be able to create weights. The shape of the weights depends on the shape of their inputs. The `Input` object is not considerd a layer.\n",
    "The visible layer of the network is defined by the input shape argument on the first hidden layer. In the dataset for this project this will be `(1,)` as there is only a single input variable wind speed. The model will then expect the input for one sample to be a vector of 1 number.\n",
    "\n",
    "There are two main models that are provided in the tensorflow-keras API. A `Sequential` model is appropriate for a plain stack of layers where each layer has exactly one input tensor and one output tensor. A `Sequential` model is not appropriate for models with multiple inputs or outputs. A sequential neural network is built up in sequential layers. It adds layers to the model one by one in a linear manner, from input to output. I will be using the `Sequential` model for this project. A `Sequential` model is created by passing  a list of layers to the Sequential constructor `model = keras.Sequential` or by incrementally adding the layers using the `model.add()` method.\n",
    "There is also a `Functional` model which is more complex but more flexible than the `Sequential` model. For this you need to explicitly connect the output of one layer to the input of another layer. Each connection is specified.\n",
    "\n",
    "Fully connected layers are defined using the `Dense` class - `Dense` refers to the layer being densely connected to the previous layer. Every node in the previous layer is connected to everything in the current layer.\n",
    "The first line of code that adds the first Dense layer does 2 things, defines the input or visible layer and the first hidden layer. The number of neurons or nodes in the layer as the first argument and specify the activation function using the `activation` argument. We were advised to use the Sigmoid activation function for this project so I will do this.  A `Sigmoid` layer is used on the outer layer to ensure the network output is between 0 and 1. \n",
    "According to the tutorials, Sigmoid and Tanh activation functions were the preferred choice  for all layers before but that these days better performance is achieved using the `rectified linear unit` or `ReLU` activation function.\n",
    "\n",
    "Initializers define the way to set the initial random weights of Keras layers. The `kernel_initializer` and `bias_initializer` parameter refers to the distribution or function to use for initialising the weights. Initializers available include `RandomNormal` class , `RandomUniform` class, a `Zeros` class, a `Ones` class. `GlorotNormal` draws samples from a truncated normal distribution centered on 0. `GlorotUniform` draws samples from a uniform distribution within some limits. \n",
    "\n",
    "Once the layers have been defined that turn the inputs into outputs, instantiate a `model` object.\n",
    "\n",
    "\n",
    "\n",
    "#### 2. Compile the model\n",
    "Once the model is defined, it can be compiled or built using the `compile()` method passing in the selected loss functions and optimizer functions.  For this project we use the mean squared error as the cost function we are considering a regression problem.\n",
    "Loss functions such as  `MeanSquaredError` computes the mean of squares of errors between labels and predictions.\n",
    "There are many more listed in the [keras losses](https://www.tensorflow.org/api_docs/python/tf/keras/losses) documentation.\n",
    "\n",
    "The optimizer performs the optimisation procedure such as stochastic gradient descent or `Adam` . Adam is a modern variation of stochastic gradient descent method which automatically tunes itself and gives good results in a wide range of problems. The optimizer can be specified as a string for a known optimizer class such as `sgd` for stochastic gradient descent or else you can configure an instance of the [optimizer classes](https://www.tensorflow.org/api_docs/python/tf/keras/optimizers) to use.\n",
    "`sgd` is a gradient descent (with momentum) optimizer. It has a default learning rate of 0.01\n",
    "The update rule is ` w = w - learning_rate * g` for parameter `w` with  gradient `g` when momentum is 0.\n",
    "The `learning_rate` defaults to 0.001 in the Adam optimizer. \n",
    "\n",
    "You can also  select some performance metrics to keep track of and report during the model training process\n",
    "Metrics to evaluate predictions from the model include `Accuracy` to calculates how often predictions equal labels, `AUC`  computes the approximate area under the curve,  `FalseNegatives` calculates the number of false negatives and `FalsePositives`  calculates the number of false positives, `Precision` computes the precision of the predictions with respect to the labels. \n",
    "\n",
    "#### 3. Fit the model\n",
    "- Once the model has been compiled, fit the model to the data using `fit()`.\n",
    "To fit the model you need to select the training configuration such as the number of epochs which are loops or iterations through the training dataset. The batch size is the number of samples in an epoch used to estimate model error. By passing in for example 10 at a time instead of 1 at a time can have a smoothing effect.\n",
    "\n",
    "Training applies the chosen optimization algorithm to minimize the chosen loss function and updates the model using the backpropagation of error algorithm. This can be slow depending on the complexity of the model, the size of the training dataset and the hardware being used.\n",
    "The `fit` call returns a history object which records what happens over the course of the training.\n",
    "- The `history.history` dict contains per-epoch timeseries of metrics values.\n",
    "- Validation data can be passed to `fit()` to monitor the validation loss & validation metrics which get reported at the end of each epoch.\n",
    "\n",
    "When passing data to the built-in training loops of a model, NumPy arrays can be used if the data is small and fits in memory or `tf.data.Dataset` objects. The dataset here is only 500 rows.\n",
    "\n",
    "#### 4. Evaluate the model\n",
    "After `fit()` you can evaluate the performance and generate predictions on new data using `evaluate()`.\n",
    "This is where the holdout dataset comes into play, data that is not used in the training of the model so you can get an unbiased estimate of the performance of the model when making predictions on new data.\n",
    "\n",
    "#### 5. Make predictions using the model\n",
    "This is the final stage of the life cycle where you take values that you don't have target values and make a prediction using the model\n",
    "- Generate numPy arrays of predictions using `predict()`.\n",
    "`predictions = model.predict(val_dataset)`\n",
    "\n",
    "\n",
    "\n",
    "```python\n",
    "loss, acc = model.evaluate(val_dataset)\n",
    "print(\"loss: %.2f\" % loss)\n",
    "print(\"acc: %.2f\" % acc)\n",
    "acc: %.2f\" % acc)\n",
    "```"
   ]
  },
  {
   "cell_type": "markdown",
   "metadata": {},
   "source": [
    "### Machine Learning Model  2: A neural network\n",
    "\n",
    "### The data:\n",
    "I am using the dataframe `dfx` where some of the zero values were dropped.\n",
    "I can alternatively try using the `df` dataframe consisting of all 500 rows."
   ]
  },
  {
   "cell_type": "code",
   "execution_count": 87,
   "metadata": {},
   "outputs": [
    {
     "data": {
      "text/html": [
       "<div>\n",
       "<style scoped>\n",
       "    .dataframe tbody tr th:only-of-type {\n",
       "        vertical-align: middle;\n",
       "    }\n",
       "\n",
       "    .dataframe tbody tr th {\n",
       "        vertical-align: top;\n",
       "    }\n",
       "\n",
       "    .dataframe thead th {\n",
       "        text-align: right;\n",
       "    }\n",
       "</style>\n",
       "<table border=\"1\" class=\"dataframe\">\n",
       "  <thead>\n",
       "    <tr style=\"text-align: right;\">\n",
       "      <th></th>\n",
       "      <th>speed</th>\n",
       "      <th>power</th>\n",
       "    </tr>\n",
       "  </thead>\n",
       "  <tbody>\n",
       "    <tr>\n",
       "      <th>count</th>\n",
       "      <td>475.000000</td>\n",
       "      <td>475.000000</td>\n",
       "    </tr>\n",
       "    <tr>\n",
       "      <th>mean</th>\n",
       "      <td>12.440971</td>\n",
       "      <td>50.541667</td>\n",
       "    </tr>\n",
       "    <tr>\n",
       "      <th>std</th>\n",
       "      <td>7.101231</td>\n",
       "      <td>41.171815</td>\n",
       "    </tr>\n",
       "    <tr>\n",
       "      <th>min</th>\n",
       "      <td>0.000000</td>\n",
       "      <td>0.000000</td>\n",
       "    </tr>\n",
       "    <tr>\n",
       "      <th>25%</th>\n",
       "      <td>6.293500</td>\n",
       "      <td>6.737500</td>\n",
       "    </tr>\n",
       "    <tr>\n",
       "      <th>50%</th>\n",
       "      <td>12.538000</td>\n",
       "      <td>47.282000</td>\n",
       "    </tr>\n",
       "    <tr>\n",
       "      <th>75%</th>\n",
       "      <td>18.531500</td>\n",
       "      <td>94.017500</td>\n",
       "    </tr>\n",
       "    <tr>\n",
       "      <th>max</th>\n",
       "      <td>24.399000</td>\n",
       "      <td>113.556000</td>\n",
       "    </tr>\n",
       "  </tbody>\n",
       "</table>\n",
       "</div>"
      ],
      "text/plain": [
       "            speed       power\n",
       "count  475.000000  475.000000\n",
       "mean    12.440971   50.541667\n",
       "std      7.101231   41.171815\n",
       "min      0.000000    0.000000\n",
       "25%      6.293500    6.737500\n",
       "50%     12.538000   47.282000\n",
       "75%     18.531500   94.017500\n",
       "max     24.399000  113.556000"
      ]
     },
     "execution_count": 87,
     "metadata": {},
     "output_type": "execute_result"
    }
   ],
   "source": [
    "dfx.describe()"
   ]
  },
  {
   "cell_type": "markdown",
   "metadata": {},
   "source": [
    "### Split the data into training and test sets\n",
    "\n",
    "The ideal machine-learning model is end to end and therefore the preprocessing should be part of the model as much as possible to make the model portable for production. However I have already split the dataset earlier for the polynomial regression model and need to be able to compare the models."
   ]
  },
  {
   "cell_type": "code",
   "execution_count": 88,
   "metadata": {},
   "outputs": [
    {
     "name": "stdout",
     "output_type": "stream",
     "text": [
      "(356, 1) (119, 1) (356, 1) (119, 1)\n"
     ]
    }
   ],
   "source": [
    "\n",
    "# split into input and output columns\n",
    "\n",
    "X, y = dfx.values[:, :-1], dfx.values[:, -1:]\n",
    "# split into train and test datasets\n",
    "X_train, X_test, y_train, y_test = train_test_split(X, y, test_size=0.25, random_state=0)\n",
    "print(X_train.shape, X_test.shape, y_train.shape, y_test.shape)\n",
    "# determine the number of input features\n",
    "\n",
    "n_features = X_train.shape[1]"
   ]
  },
  {
   "cell_type": "code",
   "execution_count": 89,
   "metadata": {},
   "outputs": [
    {
     "name": "stdout",
     "output_type": "stream",
     "text": [
      "(356, 1) (119, 1) (356, 1) (119, 1)\n"
     ]
    }
   ],
   "source": [
    "print(X_train.shape, X_test.shape, y_train.shape, y_test.shape)\n",
    "# determine the number of input features\n",
    "n_features = X_train.shape[1]"
   ]
  },
  {
   "cell_type": "markdown",
   "metadata": {},
   "source": [
    "#### Full dataset `df`:\n",
    "To apply the model to the full dataset uncomment the code below."
   ]
  },
  {
   "cell_type": "code",
   "execution_count": 90,
   "metadata": {},
   "outputs": [],
   "source": [
    "# split the dataset into input and output columns: df is the full dataset\n",
    "#X, y = df.values[:, :-1], df.values[:, -1:]\n",
    "# split into train and test datasets\n",
    "#X_train, X_test, y_train, y_test = train_test_split(X, y, test_size=0.25, random_state=0)\n",
    "#print(X_train.shape, X_test.shape, y_train.shape, y_test.shape)\n",
    "# determine the number of input features\n",
    "#n_features = X_train.shape[1]\n",
    "# split the dataset into input and output columns: df is the full dataset\n",
    "#X, y = df.values[:, :-1], df.values[:, -1:]"
   ]
  },
  {
   "cell_type": "code",
   "execution_count": null,
   "metadata": {},
   "outputs": [],
   "source": [
    "dfx.values.shape"
   ]
  },
  {
   "cell_type": "markdown",
   "metadata": {},
   "source": [
    "##### To normalise or not.\n",
    "I initially followed some tutorials that used scikit-learn for scaling or normalising data and now I see that this will be a problem on the web app as the data taken in would have to have the scaling or normalisation applied as the training data. Keras does have some preprocessing layers including the `Normalization` layer for feature normalization.\n",
    "The neural network model I first developed was a multi perceptron neural network on the unscaled data. The predictions were not bad at all and compared well to the polynomial regression model. "
   ]
  },
  {
   "cell_type": "code",
   "execution_count": 92,
   "metadata": {},
   "outputs": [],
   "source": [
    "# Train a model\n",
    "model = kr.models.Sequential()\n",
    "# Here I played around with the kernel initialiser but it did not do much good\n",
    "initializer = kr.initializers.RandomUniform(minval=0., maxval=24.3)\n",
    "model.add(kr.layers.Dense(20, input_shape=(1,), activation='sigmoid', kernel_initializer=initializer, bias_initializer=\"glorot_uniform\"))\n",
    "model.add(kr.layers.Dense(60, input_shape=(1,), activation='sigmoid', kernel_initializer=\"glorot_uniform\", bias_initializer=\"glorot_uniform\"))\n",
    "model.add(kr.layers.Dense(1, activation='linear', kernel_initializer=\"glorot_uniform\", bias_initializer=\"glorot_uniform\"))"
   ]
  },
  {
   "cell_type": "markdown",
   "metadata": {},
   "source": [
    "### Compile the model"
   ]
  },
  {
   "cell_type": "code",
   "execution_count": 93,
   "metadata": {},
   "outputs": [
    {
     "name": "stdout",
     "output_type": "stream",
     "text": [
      "Model: \"sequential\"\n",
      "_________________________________________________________________\n",
      "Layer (type)                 Output Shape              Param #   \n",
      "=================================================================\n",
      "dense (Dense)                (None, 20)                40        \n",
      "_________________________________________________________________\n",
      "dense_1 (Dense)              (None, 60)                1260      \n",
      "_________________________________________________________________\n",
      "dense_2 (Dense)              (None, 1)                 61        \n",
      "=================================================================\n",
      "Total params: 1,361\n",
      "Trainable params: 1,361\n",
      "Non-trainable params: 0\n",
      "_________________________________________________________________\n"
     ]
    }
   ],
   "source": [
    "# \n",
    "model.compile(kr.optimizers.Adam(lr=0.001), loss='mean_squared_error')\n",
    "model.summary()"
   ]
  },
  {
   "cell_type": "markdown",
   "metadata": {},
   "source": [
    "The first dense layer has 120 parameters consisting of 60 neurons and 60 bias terms while the second dense layer is the output layer which has only one neuron with 1 bias and 60 inputs from the previous layer. "
   ]
  },
  {
   "cell_type": "markdown",
   "metadata": {},
   "source": [
    "#### Train the model on the data"
   ]
  },
  {
   "cell_type": "code",
   "execution_count": 94,
   "metadata": {},
   "outputs": [
    {
     "name": "stdout",
     "output_type": "stream",
     "text": [
      "Epoch 1/500\n",
      "29/29 [==============================] - 0s 5ms/step - loss: 4167.5444 - val_loss: 4079.8994\n",
      "Epoch 2/500\n",
      "29/29 [==============================] - 0s 2ms/step - loss: 3949.5906 - val_loss: 3871.9402\n",
      "Epoch 3/500\n",
      "29/29 [==============================] - 0s 2ms/step - loss: 3756.5229 - val_loss: 3687.9319\n",
      "Epoch 4/500\n",
      "29/29 [==============================] - 0s 2ms/step - loss: 3591.7810 - val_loss: 3533.4968\n",
      "Epoch 5/500\n",
      "29/29 [==============================] - 0s 2ms/step - loss: 3452.4243 - val_loss: 3404.3740\n",
      "Epoch 6/500\n",
      "29/29 [==============================] - 0s 2ms/step - loss: 3333.0591 - val_loss: 3290.0227\n",
      "Epoch 7/500\n",
      "29/29 [==============================] - 0s 2ms/step - loss: 3225.2803 - val_loss: 3185.6067\n",
      "Epoch 8/500\n",
      "29/29 [==============================] - 0s 2ms/step - loss: 3126.1118 - val_loss: 3088.2598\n",
      "Epoch 9/500\n",
      "29/29 [==============================] - 0s 2ms/step - loss: 3033.8086 - val_loss: 2996.2979\n",
      "Epoch 10/500\n",
      "29/29 [==============================] - 0s 2ms/step - loss: 2946.1421 - val_loss: 2906.3833\n",
      "Epoch 11/500\n",
      "29/29 [==============================] - 0s 2ms/step - loss: 2859.4297 - val_loss: 2817.7529\n",
      "Epoch 12/500\n",
      "29/29 [==============================] - 0s 2ms/step - loss: 2772.2859 - val_loss: 2734.9836\n",
      "Epoch 13/500\n",
      "29/29 [==============================] - 0s 2ms/step - loss: 2689.1145 - val_loss: 2654.0608\n",
      "Epoch 14/500\n",
      "29/29 [==============================] - 0s 2ms/step - loss: 2613.6287 - val_loss: 2570.0479\n",
      "Epoch 15/500\n",
      "29/29 [==============================] - 0s 2ms/step - loss: 2535.9529 - val_loss: 2501.5981\n",
      "Epoch 16/500\n",
      "29/29 [==============================] - 0s 2ms/step - loss: 2468.7019 - val_loss: 2434.7764\n",
      "Epoch 17/500\n",
      "29/29 [==============================] - 0s 2ms/step - loss: 2406.7551 - val_loss: 2369.6729\n",
      "Epoch 18/500\n",
      "29/29 [==============================] - 0s 2ms/step - loss: 2349.2422 - val_loss: 2315.5452\n",
      "Epoch 19/500\n",
      "29/29 [==============================] - 0s 2ms/step - loss: 2296.5437 - val_loss: 2263.1313\n",
      "Epoch 20/500\n",
      "29/29 [==============================] - 0s 3ms/step - loss: 2246.6313 - val_loss: 2214.9392\n",
      "Epoch 21/500\n",
      "29/29 [==============================] - 0s 2ms/step - loss: 2200.6094 - val_loss: 2169.5845\n",
      "Epoch 22/500\n",
      "29/29 [==============================] - 0s 2ms/step - loss: 2158.9722 - val_loss: 2126.5413\n",
      "Epoch 23/500\n",
      "29/29 [==============================] - 0s 2ms/step - loss: 2119.8652 - val_loss: 2089.7761\n",
      "Epoch 24/500\n",
      "29/29 [==============================] - 0s 2ms/step - loss: 2085.5396 - val_loss: 2053.6387\n",
      "Epoch 25/500\n",
      "29/29 [==============================] - 0s 2ms/step - loss: 2052.4185 - val_loss: 2022.3359\n",
      "Epoch 26/500\n",
      "29/29 [==============================] - 0s 2ms/step - loss: 2021.1423 - val_loss: 1991.9241\n",
      "Epoch 27/500\n",
      "29/29 [==============================] - 0s 2ms/step - loss: 1993.3054 - val_loss: 1963.5983\n",
      "Epoch 28/500\n",
      "29/29 [==============================] - 0s 3ms/step - loss: 1966.6195 - val_loss: 1935.3362\n",
      "Epoch 29/500\n",
      "29/29 [==============================] - 0s 4ms/step - loss: 1941.9608 - val_loss: 1910.5848\n",
      "Epoch 30/500\n",
      "29/29 [==============================] - 0s 5ms/step - loss: 1919.6675 - val_loss: 1888.3820\n",
      "Epoch 31/500\n",
      "29/29 [==============================] - 0s 3ms/step - loss: 1898.6880 - val_loss: 1866.9225\n",
      "Epoch 32/500\n",
      "29/29 [==============================] - 0s 3ms/step - loss: 1879.8600 - val_loss: 1847.3444\n",
      "Epoch 33/500\n",
      "29/29 [==============================] - 0s 5ms/step - loss: 1862.3237 - val_loss: 1831.5343\n",
      "Epoch 34/500\n",
      "29/29 [==============================] - 0s 3ms/step - loss: 1846.8666 - val_loss: 1816.7009\n",
      "Epoch 35/500\n",
      "29/29 [==============================] - 0s 2ms/step - loss: 1832.5056 - val_loss: 1800.6792\n",
      "Epoch 36/500\n",
      "29/29 [==============================] - 0s 2ms/step - loss: 1818.5510 - val_loss: 1788.4911\n",
      "Epoch 37/500\n",
      "29/29 [==============================] - 0s 2ms/step - loss: 1806.2858 - val_loss: 1773.6608\n",
      "Epoch 38/500\n",
      "29/29 [==============================] - 0s 2ms/step - loss: 1794.3093 - val_loss: 1761.6555\n",
      "Epoch 39/500\n",
      "29/29 [==============================] - 0s 2ms/step - loss: 1783.5403 - val_loss: 1751.6753\n",
      "Epoch 40/500\n",
      "29/29 [==============================] - 0s 3ms/step - loss: 1775.6315 - val_loss: 1741.0624\n",
      "Epoch 41/500\n",
      "29/29 [==============================] - 0s 4ms/step - loss: 1766.4012 - val_loss: 1734.0122\n",
      "Epoch 42/500\n",
      "29/29 [==============================] - 0s 4ms/step - loss: 1759.6864 - val_loss: 1727.6305\n",
      "Epoch 43/500\n",
      "29/29 [==============================] - 0s 4ms/step - loss: 1753.9557 - val_loss: 1718.9270\n",
      "Epoch 44/500\n",
      "29/29 [==============================] - 0s 3ms/step - loss: 1747.1473 - val_loss: 1713.6471\n",
      "Epoch 45/500\n",
      "29/29 [==============================] - 0s 4ms/step - loss: 1741.8982 - val_loss: 1708.4460\n",
      "Epoch 46/500\n",
      "29/29 [==============================] - 0s 3ms/step - loss: 1737.5792 - val_loss: 1703.4325\n",
      "Epoch 47/500\n",
      "29/29 [==============================] - 0s 3ms/step - loss: 1733.4750 - val_loss: 1700.0948\n",
      "Epoch 48/500\n",
      "29/29 [==============================] - 0s 2ms/step - loss: 1729.6154 - val_loss: 1694.2550\n",
      "Epoch 49/500\n",
      "29/29 [==============================] - 0s 3ms/step - loss: 1725.0870 - val_loss: 1690.5996\n",
      "Epoch 50/500\n",
      "29/29 [==============================] - 0s 4ms/step - loss: 1722.8546 - val_loss: 1686.3357\n",
      "Epoch 51/500\n",
      "29/29 [==============================] - 0s 4ms/step - loss: 1719.5248 - val_loss: 1685.1974\n",
      "Epoch 52/500\n",
      "29/29 [==============================] - 0s 4ms/step - loss: 1717.6366 - val_loss: 1682.1331\n",
      "Epoch 53/500\n",
      "29/29 [==============================] - 0s 3ms/step - loss: 1716.1278 - val_loss: 1678.9697\n",
      "Epoch 54/500\n",
      "29/29 [==============================] - 0s 2ms/step - loss: 1713.4460 - val_loss: 1678.4296\n",
      "Epoch 55/500\n",
      "29/29 [==============================] - 0s 2ms/step - loss: 1711.6125 - val_loss: 1676.0963\n",
      "Epoch 56/500\n",
      "29/29 [==============================] - 0s 2ms/step - loss: 1709.8281 - val_loss: 1673.6763\n",
      "Epoch 57/500\n",
      "29/29 [==============================] - 0s 2ms/step - loss: 1707.7014 - val_loss: 1671.2251\n",
      "Epoch 58/500\n",
      "29/29 [==============================] - 0s 3ms/step - loss: 1705.4071 - val_loss: 1669.6080\n",
      "Epoch 59/500\n",
      "29/29 [==============================] - 0s 4ms/step - loss: 1703.2850 - val_loss: 1667.0815\n",
      "Epoch 60/500\n",
      "29/29 [==============================] - 0s 4ms/step - loss: 1700.6449 - val_loss: 1664.2728\n",
      "Epoch 61/500\n",
      "29/29 [==============================] - 0s 4ms/step - loss: 1697.4307 - val_loss: 1660.4806\n",
      "Epoch 62/500\n",
      "29/29 [==============================] - 0s 4ms/step - loss: 1692.5480 - val_loss: 1654.0776\n",
      "Epoch 63/500\n",
      "29/29 [==============================] - 0s 5ms/step - loss: 1683.5497 - val_loss: 1643.3322\n",
      "Epoch 64/500\n",
      "29/29 [==============================] - 0s 5ms/step - loss: 1670.2539 - val_loss: 1629.9872\n",
      "Epoch 65/500\n",
      "29/29 [==============================] - 0s 4ms/step - loss: 1656.4624 - val_loss: 1614.6804\n",
      "Epoch 66/500\n",
      "29/29 [==============================] - 0s 4ms/step - loss: 1636.4004 - val_loss: 1593.6526\n",
      "Epoch 67/500\n",
      "29/29 [==============================] - 0s 4ms/step - loss: 1610.5857 - val_loss: 1565.1683\n",
      "Epoch 68/500\n",
      "29/29 [==============================] - 0s 4ms/step - loss: 1578.9574 - val_loss: 1533.0565\n",
      "Epoch 69/500\n",
      "29/29 [==============================] - 0s 5ms/step - loss: 1543.7156 - val_loss: 1498.0377\n",
      "Epoch 70/500\n",
      "29/29 [==============================] - 0s 4ms/step - loss: 1506.9381 - val_loss: 1461.1216\n",
      "Epoch 71/500\n",
      "29/29 [==============================] - 0s 2ms/step - loss: 1467.5377 - val_loss: 1424.2510\n",
      "Epoch 72/500\n",
      "29/29 [==============================] - 0s 2ms/step - loss: 1426.7339 - val_loss: 1382.1792\n",
      "Epoch 73/500\n",
      "29/29 [==============================] - 0s 2ms/step - loss: 1384.8630 - val_loss: 1338.8535\n",
      "Epoch 74/500\n",
      "29/29 [==============================] - 0s 2ms/step - loss: 1337.4060 - val_loss: 1294.7405\n",
      "Epoch 75/500\n",
      "29/29 [==============================] - 0s 2ms/step - loss: 1292.4489 - val_loss: 1248.2731\n",
      "Epoch 76/500\n",
      "29/29 [==============================] - 0s 2ms/step - loss: 1241.6677 - val_loss: 1201.1353\n",
      "Epoch 77/500\n",
      "29/29 [==============================] - 0s 2ms/step - loss: 1194.8026 - val_loss: 1154.7800\n",
      "Epoch 78/500\n"
     ]
    },
    {
     "name": "stdout",
     "output_type": "stream",
     "text": [
      "29/29 [==============================] - 0s 2ms/step - loss: 1148.4851 - val_loss: 1108.9835\n",
      "Epoch 79/500\n",
      "29/29 [==============================] - 0s 3ms/step - loss: 1097.0985 - val_loss: 1060.1792\n",
      "Epoch 80/500\n",
      "29/29 [==============================] - 0s 5ms/step - loss: 1050.0750 - val_loss: 1013.3367\n",
      "Epoch 81/500\n",
      "29/29 [==============================] - 0s 3ms/step - loss: 1002.2943 - val_loss: 968.2577\n",
      "Epoch 82/500\n",
      "29/29 [==============================] - 0s 4ms/step - loss: 955.7970 - val_loss: 923.2318\n",
      "Epoch 83/500\n",
      "29/29 [==============================] - 0s 4ms/step - loss: 909.7323 - val_loss: 879.0417\n",
      "Epoch 84/500\n",
      "29/29 [==============================] - 0s 2ms/step - loss: 865.7865 - val_loss: 837.0060\n",
      "Epoch 85/500\n",
      "29/29 [==============================] - 0s 4ms/step - loss: 823.5146 - val_loss: 795.6786\n",
      "Epoch 86/500\n",
      "29/29 [==============================] - 0s 4ms/step - loss: 784.7766 - val_loss: 758.0324\n",
      "Epoch 87/500\n",
      "29/29 [==============================] - 0s 3ms/step - loss: 746.3283 - val_loss: 721.6180\n",
      "Epoch 88/500\n",
      "29/29 [==============================] - 0s 3ms/step - loss: 710.1925 - val_loss: 684.9211\n",
      "Epoch 89/500\n",
      "29/29 [==============================] - 0s 3ms/step - loss: 675.2368 - val_loss: 649.2258\n",
      "Epoch 90/500\n",
      "29/29 [==============================] - 0s 3ms/step - loss: 637.9400 - val_loss: 615.8182\n",
      "Epoch 91/500\n",
      "29/29 [==============================] - 0s 3ms/step - loss: 604.9421 - val_loss: 583.8957\n",
      "Epoch 92/500\n",
      "29/29 [==============================] - 0s 4ms/step - loss: 573.8983 - val_loss: 555.5132\n",
      "Epoch 93/500\n",
      "29/29 [==============================] - 0s 4ms/step - loss: 543.8840 - val_loss: 525.8293\n",
      "Epoch 94/500\n",
      "29/29 [==============================] - 0s 4ms/step - loss: 516.2167 - val_loss: 496.9534\n",
      "Epoch 95/500\n",
      "29/29 [==============================] - 0s 4ms/step - loss: 488.1824 - val_loss: 470.0700\n",
      "Epoch 96/500\n",
      "29/29 [==============================] - 0s 3ms/step - loss: 464.4031 - val_loss: 446.2400\n",
      "Epoch 97/500\n",
      "29/29 [==============================] - 0s 5ms/step - loss: 439.0229 - val_loss: 421.0063\n",
      "Epoch 98/500\n",
      "29/29 [==============================] - 0s 2ms/step - loss: 415.4037 - val_loss: 399.2304\n",
      "Epoch 99/500\n",
      "29/29 [==============================] - 0s 2ms/step - loss: 393.5311 - val_loss: 376.8858\n",
      "Epoch 100/500\n",
      "29/29 [==============================] - 0s 3ms/step - loss: 371.6055 - val_loss: 355.3216\n",
      "Epoch 101/500\n",
      "29/29 [==============================] - 0s 4ms/step - loss: 350.9907 - val_loss: 337.7006\n",
      "Epoch 102/500\n",
      "29/29 [==============================] - 0s 3ms/step - loss: 331.9000 - val_loss: 315.9382\n",
      "Epoch 103/500\n",
      "29/29 [==============================] - 0s 4ms/step - loss: 312.5112 - val_loss: 297.5525\n",
      "Epoch 104/500\n",
      "29/29 [==============================] - 0s 4ms/step - loss: 294.8756 - val_loss: 280.9046\n",
      "Epoch 105/500\n",
      "29/29 [==============================] - 0s 2ms/step - loss: 277.2591 - val_loss: 264.0593\n",
      "Epoch 106/500\n",
      "29/29 [==============================] - 0s 2ms/step - loss: 262.0344 - val_loss: 248.1400\n",
      "Epoch 107/500\n",
      "29/29 [==============================] - 0s 2ms/step - loss: 245.7945 - val_loss: 235.9917\n",
      "Epoch 108/500\n",
      "29/29 [==============================] - 0s 2ms/step - loss: 232.6177 - val_loss: 219.5570\n",
      "Epoch 109/500\n",
      "29/29 [==============================] - 0s 2ms/step - loss: 218.9083 - val_loss: 206.5329\n",
      "Epoch 110/500\n",
      "29/29 [==============================] - 0s 3ms/step - loss: 205.8911 - val_loss: 193.7435\n",
      "Epoch 111/500\n",
      "29/29 [==============================] - 0s 3ms/step - loss: 193.1864 - val_loss: 181.6133\n",
      "Epoch 112/500\n",
      "29/29 [==============================] - 0s 4ms/step - loss: 181.4537 - val_loss: 171.4968\n",
      "Epoch 113/500\n",
      "29/29 [==============================] - 0s 3ms/step - loss: 170.1725 - val_loss: 159.2241\n",
      "Epoch 114/500\n",
      "29/29 [==============================] - 0s 3ms/step - loss: 159.3395 - val_loss: 149.2293\n",
      "Epoch 115/500\n",
      "29/29 [==============================] - 0s 3ms/step - loss: 147.9396 - val_loss: 137.6667\n",
      "Epoch 116/500\n",
      "29/29 [==============================] - 0s 2ms/step - loss: 138.6063 - val_loss: 128.1846\n",
      "Epoch 117/500\n",
      "29/29 [==============================] - 0s 2ms/step - loss: 129.3565 - val_loss: 119.3320\n",
      "Epoch 118/500\n",
      "29/29 [==============================] - 0s 3ms/step - loss: 120.2129 - val_loss: 111.1074\n",
      "Epoch 119/500\n",
      "29/29 [==============================] - 0s 3ms/step - loss: 112.0853 - val_loss: 102.9505\n",
      "Epoch 120/500\n",
      "29/29 [==============================] - 0s 4ms/step - loss: 103.7960 - val_loss: 96.3046\n",
      "Epoch 121/500\n",
      "29/29 [==============================] - 0s 4ms/step - loss: 96.5425 - val_loss: 88.7208\n",
      "Epoch 122/500\n",
      "29/29 [==============================] - 0s 2ms/step - loss: 89.4839 - val_loss: 81.9150\n",
      "Epoch 123/500\n",
      "29/29 [==============================] - 0s 2ms/step - loss: 83.7548 - val_loss: 76.2576\n",
      "Epoch 124/500\n",
      "29/29 [==============================] - 0s 2ms/step - loss: 77.5989 - val_loss: 70.4889\n",
      "Epoch 125/500\n",
      "29/29 [==============================] - 0s 2ms/step - loss: 72.3249 - val_loss: 65.6936\n",
      "Epoch 126/500\n",
      "29/29 [==============================] - 0s 4ms/step - loss: 67.6460 - val_loss: 61.0132\n",
      "Epoch 127/500\n",
      "29/29 [==============================] - 0s 3ms/step - loss: 63.0604 - val_loss: 56.1471\n",
      "Epoch 128/500\n",
      "29/29 [==============================] - 0s 3ms/step - loss: 58.6582 - val_loss: 52.3981\n",
      "Epoch 129/500\n",
      "29/29 [==============================] - 0s 3ms/step - loss: 54.4518 - val_loss: 49.7266\n",
      "Epoch 130/500\n",
      "29/29 [==============================] - 0s 5ms/step - loss: 50.8775 - val_loss: 45.2845\n",
      "Epoch 131/500\n",
      "29/29 [==============================] - 0s 3ms/step - loss: 47.7667 - val_loss: 42.6644\n",
      "Epoch 132/500\n",
      "29/29 [==============================] - 0s 5ms/step - loss: 44.6729 - val_loss: 39.5491\n",
      "Epoch 133/500\n",
      "29/29 [==============================] - 0s 4ms/step - loss: 41.9660 - val_loss: 37.6455\n",
      "Epoch 134/500\n",
      "29/29 [==============================] - 0s 4ms/step - loss: 39.6632 - val_loss: 35.2311\n",
      "Epoch 135/500\n",
      "29/29 [==============================] - 0s 3ms/step - loss: 37.5424 - val_loss: 33.3658\n",
      "Epoch 136/500\n",
      "29/29 [==============================] - 0s 3ms/step - loss: 35.4984 - val_loss: 31.2783\n",
      "Epoch 137/500\n",
      "29/29 [==============================] - 0s 4ms/step - loss: 33.5857 - val_loss: 30.1224\n",
      "Epoch 138/500\n",
      "29/29 [==============================] - 0s 4ms/step - loss: 32.2316 - val_loss: 28.4769\n",
      "Epoch 139/500\n",
      "29/29 [==============================] - 0s 4ms/step - loss: 30.8186 - val_loss: 26.8924\n",
      "Epoch 140/500\n",
      "29/29 [==============================] - 0s 3ms/step - loss: 29.4370 - val_loss: 25.6385\n",
      "Epoch 141/500\n",
      "29/29 [==============================] - 0s 4ms/step - loss: 27.9662 - val_loss: 24.0850\n",
      "Epoch 142/500\n",
      "29/29 [==============================] - 0s 4ms/step - loss: 27.1794 - val_loss: 24.0128\n",
      "Epoch 143/500\n",
      "29/29 [==============================] - 0s 4ms/step - loss: 26.1599 - val_loss: 22.2645\n",
      "Epoch 144/500\n",
      "29/29 [==============================] - 0s 3ms/step - loss: 24.9615 - val_loss: 22.2499\n",
      "Epoch 145/500\n",
      "29/29 [==============================] - 0s 5ms/step - loss: 24.6895 - val_loss: 20.9168\n",
      "Epoch 146/500\n",
      "29/29 [==============================] - 0s 4ms/step - loss: 23.7765 - val_loss: 20.1673\n",
      "Epoch 147/500\n",
      "29/29 [==============================] - 0s 4ms/step - loss: 22.9596 - val_loss: 19.9722\n",
      "Epoch 148/500\n",
      "29/29 [==============================] - 0s 2ms/step - loss: 22.4517 - val_loss: 19.5160\n",
      "Epoch 149/500\n",
      "29/29 [==============================] - 0s 5ms/step - loss: 22.0356 - val_loss: 19.2922\n",
      "Epoch 150/500\n",
      "29/29 [==============================] - 0s 6ms/step - loss: 21.5869 - val_loss: 18.7419\n",
      "Epoch 151/500\n",
      "29/29 [==============================] - 0s 4ms/step - loss: 21.5873 - val_loss: 18.3645\n",
      "Epoch 152/500\n",
      "29/29 [==============================] - 0s 2ms/step - loss: 21.0286 - val_loss: 17.9519\n",
      "Epoch 153/500\n",
      "29/29 [==============================] - 0s 3ms/step - loss: 20.6333 - val_loss: 17.6109\n",
      "Epoch 154/500\n",
      "29/29 [==============================] - 0s 4ms/step - loss: 20.2670 - val_loss: 17.2487\n",
      "Epoch 155/500\n",
      "29/29 [==============================] - 0s 3ms/step - loss: 19.9999 - val_loss: 17.2713\n",
      "Epoch 156/500\n",
      "29/29 [==============================] - 0s 2ms/step - loss: 19.8444 - val_loss: 16.6970\n"
     ]
    },
    {
     "name": "stdout",
     "output_type": "stream",
     "text": [
      "Epoch 157/500\n",
      "29/29 [==============================] - 0s 2ms/step - loss: 19.6737 - val_loss: 16.6759\n",
      "Epoch 158/500\n",
      "29/29 [==============================] - 0s 2ms/step - loss: 19.4611 - val_loss: 17.0109\n",
      "Epoch 159/500\n",
      "29/29 [==============================] - 0s 2ms/step - loss: 19.4452 - val_loss: 17.1903\n",
      "Epoch 160/500\n",
      "29/29 [==============================] - 0s 2ms/step - loss: 19.0877 - val_loss: 16.3730\n",
      "Epoch 161/500\n",
      "29/29 [==============================] - 0s 2ms/step - loss: 19.0812 - val_loss: 16.2222\n",
      "Epoch 162/500\n",
      "29/29 [==============================] - 0s 2ms/step - loss: 19.0104 - val_loss: 17.2609\n",
      "Epoch 163/500\n",
      "29/29 [==============================] - 0s 5ms/step - loss: 18.7370 - val_loss: 15.9960\n",
      "Epoch 164/500\n",
      "29/29 [==============================] - 0s 3ms/step - loss: 19.1871 - val_loss: 16.2189\n",
      "Epoch 165/500\n",
      "29/29 [==============================] - 0s 4ms/step - loss: 19.1135 - val_loss: 16.5188\n",
      "Epoch 166/500\n",
      "29/29 [==============================] - 0s 3ms/step - loss: 18.6887 - val_loss: 16.5239\n",
      "Epoch 167/500\n",
      "29/29 [==============================] - 0s 3ms/step - loss: 18.9849 - val_loss: 16.8164\n",
      "Epoch 168/500\n",
      "29/29 [==============================] - 0s 3ms/step - loss: 18.6554 - val_loss: 15.8844\n",
      "Epoch 169/500\n",
      "29/29 [==============================] - 0s 2ms/step - loss: 18.6352 - val_loss: 15.7166\n",
      "Epoch 170/500\n",
      "29/29 [==============================] - 0s 3ms/step - loss: 18.7566 - val_loss: 16.8266\n",
      "Epoch 171/500\n",
      "29/29 [==============================] - 0s 2ms/step - loss: 18.5960 - val_loss: 16.2694\n",
      "Epoch 172/500\n",
      "29/29 [==============================] - 0s 2ms/step - loss: 18.4372 - val_loss: 16.1020\n",
      "Epoch 173/500\n",
      "29/29 [==============================] - 0s 2ms/step - loss: 18.3903 - val_loss: 16.2814\n",
      "Epoch 174/500\n",
      "29/29 [==============================] - 0s 2ms/step - loss: 18.3795 - val_loss: 15.8894\n",
      "Epoch 175/500\n",
      "29/29 [==============================] - 0s 2ms/step - loss: 18.3980 - val_loss: 16.4115\n",
      "Epoch 176/500\n",
      "29/29 [==============================] - 0s 2ms/step - loss: 18.3276 - val_loss: 15.7894\n",
      "Epoch 177/500\n",
      "29/29 [==============================] - 0s 2ms/step - loss: 18.2106 - val_loss: 15.7929\n",
      "Epoch 178/500\n",
      "29/29 [==============================] - 0s 2ms/step - loss: 18.2375 - val_loss: 15.6605\n",
      "Epoch 179/500\n",
      "29/29 [==============================] - 0s 4ms/step - loss: 18.3591 - val_loss: 16.4625\n",
      "Epoch 180/500\n",
      "29/29 [==============================] - 0s 4ms/step - loss: 18.7239 - val_loss: 16.2746\n",
      "Epoch 181/500\n",
      "29/29 [==============================] - 0s 3ms/step - loss: 18.3340 - val_loss: 15.6097\n",
      "Epoch 182/500\n",
      "29/29 [==============================] - 0s 4ms/step - loss: 18.2451 - val_loss: 16.9244\n",
      "Epoch 183/500\n",
      "29/29 [==============================] - 0s 2ms/step - loss: 18.4588 - val_loss: 16.5394\n",
      "Epoch 184/500\n",
      "29/29 [==============================] - 0s 2ms/step - loss: 18.2560 - val_loss: 15.9204\n",
      "Epoch 185/500\n",
      "29/29 [==============================] - 0s 2ms/step - loss: 18.3314 - val_loss: 15.6340\n",
      "Epoch 186/500\n",
      "29/29 [==============================] - 0s 2ms/step - loss: 18.3904 - val_loss: 15.8272\n",
      "Epoch 187/500\n",
      "29/29 [==============================] - 0s 2ms/step - loss: 18.1204 - val_loss: 15.9491\n",
      "Epoch 188/500\n",
      "29/29 [==============================] - 0s 2ms/step - loss: 18.2440 - val_loss: 16.0261\n",
      "Epoch 189/500\n",
      "29/29 [==============================] - 0s 2ms/step - loss: 18.3150 - val_loss: 15.9287\n",
      "Epoch 190/500\n",
      "29/29 [==============================] - 0s 2ms/step - loss: 18.2249 - val_loss: 15.6586\n",
      "Epoch 191/500\n",
      "29/29 [==============================] - 0s 2ms/step - loss: 18.2040 - val_loss: 15.9874\n",
      "Epoch 192/500\n",
      "29/29 [==============================] - 0s 3ms/step - loss: 18.3028 - val_loss: 17.1883\n",
      "Epoch 193/500\n",
      "29/29 [==============================] - 0s 4ms/step - loss: 18.0658 - val_loss: 15.5130\n",
      "Epoch 194/500\n",
      "29/29 [==============================] - 0s 3ms/step - loss: 18.2774 - val_loss: 16.1269\n",
      "Epoch 195/500\n",
      "29/29 [==============================] - 0s 4ms/step - loss: 18.1801 - val_loss: 16.3296\n",
      "Epoch 196/500\n",
      "29/29 [==============================] - 0s 4ms/step - loss: 18.1068 - val_loss: 15.5583\n",
      "Epoch 197/500\n",
      "29/29 [==============================] - 0s 2ms/step - loss: 18.2080 - val_loss: 15.6191\n",
      "Epoch 198/500\n",
      "29/29 [==============================] - 0s 2ms/step - loss: 18.3014 - val_loss: 16.9321\n",
      "Epoch 199/500\n",
      "29/29 [==============================] - 0s 2ms/step - loss: 18.5501 - val_loss: 16.7593\n",
      "Epoch 200/500\n",
      "29/29 [==============================] - 0s 2ms/step - loss: 18.2350 - val_loss: 15.8491\n",
      "Epoch 201/500\n",
      "29/29 [==============================] - 0s 2ms/step - loss: 18.2239 - val_loss: 15.8707\n",
      "Epoch 202/500\n",
      "29/29 [==============================] - 0s 2ms/step - loss: 18.1621 - val_loss: 15.7501\n",
      "Epoch 203/500\n",
      "29/29 [==============================] - 0s 2ms/step - loss: 18.7953 - val_loss: 15.9203\n",
      "Epoch 204/500\n",
      "29/29 [==============================] - 0s 2ms/step - loss: 17.9603 - val_loss: 15.9930\n",
      "Epoch 205/500\n",
      "29/29 [==============================] - 0s 2ms/step - loss: 18.5727 - val_loss: 15.6971\n",
      "Epoch 206/500\n",
      "29/29 [==============================] - 0s 3ms/step - loss: 18.6306 - val_loss: 15.6594\n",
      "Epoch 207/500\n",
      "29/29 [==============================] - 0s 3ms/step - loss: 17.8794 - val_loss: 17.0671\n",
      "Epoch 208/500\n",
      "29/29 [==============================] - 0s 3ms/step - loss: 18.0237 - val_loss: 15.6193\n",
      "Epoch 209/500\n",
      "29/29 [==============================] - 0s 4ms/step - loss: 18.5714 - val_loss: 19.0310\n",
      "Epoch 210/500\n",
      "29/29 [==============================] - 0s 4ms/step - loss: 18.1886 - val_loss: 15.9362\n",
      "Epoch 211/500\n",
      "29/29 [==============================] - 0s 2ms/step - loss: 18.6181 - val_loss: 15.7491\n",
      "Epoch 212/500\n",
      "29/29 [==============================] - 0s 2ms/step - loss: 18.0781 - val_loss: 15.9875\n",
      "Epoch 213/500\n",
      "29/29 [==============================] - 0s 2ms/step - loss: 17.9172 - val_loss: 15.7708\n",
      "Epoch 214/500\n",
      "29/29 [==============================] - 0s 3ms/step - loss: 18.2373 - val_loss: 16.0040\n",
      "Epoch 215/500\n",
      "29/29 [==============================] - 0s 4ms/step - loss: 18.3804 - val_loss: 16.0892\n",
      "Epoch 216/500\n",
      "29/29 [==============================] - 0s 5ms/step - loss: 17.9855 - val_loss: 16.5677\n",
      "Epoch 217/500\n",
      "29/29 [==============================] - 0s 4ms/step - loss: 18.0922 - val_loss: 16.9066\n",
      "Epoch 218/500\n",
      "29/29 [==============================] - 0s 3ms/step - loss: 18.1507 - val_loss: 15.9471\n",
      "Epoch 219/500\n",
      "29/29 [==============================] - 0s 2ms/step - loss: 17.9187 - val_loss: 16.2551\n",
      "Epoch 220/500\n",
      "29/29 [==============================] - 0s 3ms/step - loss: 17.9395 - val_loss: 16.7564\n",
      "Epoch 221/500\n",
      "29/29 [==============================] - 0s 2ms/step - loss: 18.0776 - val_loss: 16.5250\n",
      "Epoch 222/500\n",
      "29/29 [==============================] - 0s 2ms/step - loss: 18.0801 - val_loss: 16.0162\n",
      "Epoch 223/500\n",
      "29/29 [==============================] - 0s 4ms/step - loss: 18.3652 - val_loss: 15.8692\n",
      "Epoch 224/500\n",
      "29/29 [==============================] - 0s 4ms/step - loss: 18.5685 - val_loss: 16.1721\n",
      "Epoch 225/500\n",
      "29/29 [==============================] - 0s 3ms/step - loss: 19.1186 - val_loss: 15.6819\n",
      "Epoch 226/500\n",
      "29/29 [==============================] - 0s 4ms/step - loss: 17.9881 - val_loss: 16.0685\n",
      "Epoch 227/500\n",
      "29/29 [==============================] - 0s 4ms/step - loss: 17.9769 - val_loss: 15.7711\n",
      "Epoch 228/500\n",
      "29/29 [==============================] - 0s 4ms/step - loss: 18.0362 - val_loss: 15.8397\n",
      "Epoch 229/500\n",
      "29/29 [==============================] - 0s 2ms/step - loss: 17.9345 - val_loss: 16.0387\n",
      "Epoch 230/500\n",
      "29/29 [==============================] - 0s 2ms/step - loss: 17.9114 - val_loss: 17.0369\n",
      "Epoch 231/500\n",
      "29/29 [==============================] - 0s 3ms/step - loss: 17.7440 - val_loss: 15.7099\n",
      "Epoch 232/500\n",
      "29/29 [==============================] - 0s 4ms/step - loss: 17.8833 - val_loss: 16.7285\n",
      "Epoch 233/500\n",
      "29/29 [==============================] - 0s 4ms/step - loss: 17.9552 - val_loss: 16.2226\n",
      "Epoch 234/500\n",
      "29/29 [==============================] - 0s 3ms/step - loss: 18.1864 - val_loss: 18.3214\n",
      "Epoch 235/500\n",
      "29/29 [==============================] - 0s 3ms/step - loss: 17.8001 - val_loss: 15.7313\n",
      "Epoch 236/500\n"
     ]
    },
    {
     "name": "stdout",
     "output_type": "stream",
     "text": [
      "29/29 [==============================] - 0s 3ms/step - loss: 18.4980 - val_loss: 15.8768\n",
      "Epoch 237/500\n",
      "29/29 [==============================] - 0s 3ms/step - loss: 18.0629 - val_loss: 16.9620\n",
      "Epoch 238/500\n",
      "29/29 [==============================] - 0s 3ms/step - loss: 17.7619 - val_loss: 15.8745\n",
      "Epoch 239/500\n",
      "29/29 [==============================] - 0s 2ms/step - loss: 18.0677 - val_loss: 15.9924\n",
      "Epoch 240/500\n",
      "29/29 [==============================] - 0s 5ms/step - loss: 18.0404 - val_loss: 15.8185\n",
      "Epoch 241/500\n",
      "29/29 [==============================] - 0s 4ms/step - loss: 17.9906 - val_loss: 15.7836\n",
      "Epoch 242/500\n",
      "29/29 [==============================] - 0s 4ms/step - loss: 17.8409 - val_loss: 17.6345\n",
      "Epoch 243/500\n",
      "29/29 [==============================] - 0s 3ms/step - loss: 17.8825 - val_loss: 15.7623\n",
      "Epoch 244/500\n",
      "29/29 [==============================] - 0s 3ms/step - loss: 18.0837 - val_loss: 15.7960\n",
      "Epoch 245/500\n",
      "29/29 [==============================] - 0s 4ms/step - loss: 18.1527 - val_loss: 15.7132\n",
      "Epoch 246/500\n",
      "29/29 [==============================] - 0s 3ms/step - loss: 18.3865 - val_loss: 16.3492\n",
      "Epoch 247/500\n",
      "29/29 [==============================] - 0s 4ms/step - loss: 17.9288 - val_loss: 16.3071\n",
      "Epoch 248/500\n",
      "29/29 [==============================] - 0s 4ms/step - loss: 18.0022 - val_loss: 16.2363\n",
      "Epoch 249/500\n",
      "29/29 [==============================] - 0s 4ms/step - loss: 17.7808 - val_loss: 15.9429\n",
      "Epoch 250/500\n",
      "29/29 [==============================] - 0s 3ms/step - loss: 17.8091 - val_loss: 15.8426\n",
      "Epoch 251/500\n",
      "29/29 [==============================] - 0s 3ms/step - loss: 17.9517 - val_loss: 15.8914\n",
      "Epoch 252/500\n",
      "29/29 [==============================] - 0s 2ms/step - loss: 18.0801 - val_loss: 16.1153\n",
      "Epoch 253/500\n",
      "29/29 [==============================] - 0s 2ms/step - loss: 17.8432 - val_loss: 15.8356\n",
      "Epoch 254/500\n",
      "29/29 [==============================] - 0s 3ms/step - loss: 18.0032 - val_loss: 16.5521\n",
      "Epoch 255/500\n",
      "29/29 [==============================] - 0s 3ms/step - loss: 17.8395 - val_loss: 16.5290\n",
      "Epoch 256/500\n",
      "29/29 [==============================] - 0s 4ms/step - loss: 17.9554 - val_loss: 16.7193\n",
      "Epoch 257/500\n",
      "29/29 [==============================] - 0s 4ms/step - loss: 17.6598 - val_loss: 15.7709\n",
      "Epoch 258/500\n",
      "29/29 [==============================] - 0s 3ms/step - loss: 17.8093 - val_loss: 17.2019\n",
      "Epoch 259/500\n",
      "29/29 [==============================] - 0s 4ms/step - loss: 17.7556 - val_loss: 15.8005\n",
      "Epoch 260/500\n",
      "29/29 [==============================] - 0s 5ms/step - loss: 18.0131 - val_loss: 15.9977\n",
      "Epoch 261/500\n",
      "29/29 [==============================] - 0s 4ms/step - loss: 17.8348 - val_loss: 16.1848\n",
      "Epoch 262/500\n",
      "29/29 [==============================] - 0s 2ms/step - loss: 17.8667 - val_loss: 16.1626\n",
      "Epoch 263/500\n",
      "29/29 [==============================] - 0s 2ms/step - loss: 18.1237 - val_loss: 17.2775\n",
      "Epoch 264/500\n",
      "29/29 [==============================] - 0s 4ms/step - loss: 17.8081 - val_loss: 16.6211\n",
      "Epoch 265/500\n",
      "29/29 [==============================] - 0s 4ms/step - loss: 18.0368 - val_loss: 18.4536\n",
      "Epoch 266/500\n",
      "29/29 [==============================] - 0s 4ms/step - loss: 18.4377 - val_loss: 16.3127\n",
      "Epoch 267/500\n",
      "29/29 [==============================] - 0s 4ms/step - loss: 17.8655 - val_loss: 15.9079\n",
      "Epoch 268/500\n",
      "29/29 [==============================] - 0s 3ms/step - loss: 17.7812 - val_loss: 16.0326\n",
      "Epoch 269/500\n",
      "29/29 [==============================] - 0s 3ms/step - loss: 18.1165 - val_loss: 16.9469\n",
      "Epoch 270/500\n",
      "29/29 [==============================] - 0s 2ms/step - loss: 17.8274 - val_loss: 17.0899\n",
      "Epoch 271/500\n",
      "29/29 [==============================] - 0s 4ms/step - loss: 18.0501 - val_loss: 18.2345\n",
      "Epoch 272/500\n",
      "29/29 [==============================] - 0s 3ms/step - loss: 18.1340 - val_loss: 17.0433\n",
      "Epoch 273/500\n",
      "29/29 [==============================] - 0s 5ms/step - loss: 17.7160 - val_loss: 16.0429\n",
      "Epoch 274/500\n",
      "29/29 [==============================] - 0s 5ms/step - loss: 17.8636 - val_loss: 16.8209\n",
      "Epoch 275/500\n",
      "29/29 [==============================] - 0s 4ms/step - loss: 17.8312 - val_loss: 17.0073\n",
      "Epoch 276/500\n",
      "29/29 [==============================] - 0s 4ms/step - loss: 17.9652 - val_loss: 16.4972\n",
      "Epoch 277/500\n",
      "29/29 [==============================] - 0s 4ms/step - loss: 17.7753 - val_loss: 16.0820\n",
      "Epoch 278/500\n",
      "29/29 [==============================] - 0s 2ms/step - loss: 17.7270 - val_loss: 16.4175\n",
      "Epoch 279/500\n",
      "29/29 [==============================] - 0s 2ms/step - loss: 17.7349 - val_loss: 15.9863\n",
      "Epoch 280/500\n",
      "29/29 [==============================] - 0s 2ms/step - loss: 17.7346 - val_loss: 16.0508\n",
      "Epoch 281/500\n",
      "29/29 [==============================] - 0s 2ms/step - loss: 17.9360 - val_loss: 15.8574\n",
      "Epoch 282/500\n",
      "29/29 [==============================] - 0s 2ms/step - loss: 17.7668 - val_loss: 16.7107\n",
      "Epoch 283/500\n",
      "29/29 [==============================] - 0s 2ms/step - loss: 17.7177 - val_loss: 15.9986\n",
      "Epoch 284/500\n",
      "29/29 [==============================] - 0s 2ms/step - loss: 17.6547 - val_loss: 17.7328\n",
      "Epoch 285/500\n",
      "29/29 [==============================] - 0s 7ms/step - loss: 17.5530 - val_loss: 15.9939\n",
      "Epoch 286/500\n",
      "29/29 [==============================] - 0s 6ms/step - loss: 17.8234 - val_loss: 16.4335\n",
      "Epoch 287/500\n",
      "29/29 [==============================] - 0s 5ms/step - loss: 17.9310 - val_loss: 16.0357\n",
      "Epoch 288/500\n",
      "29/29 [==============================] - 0s 4ms/step - loss: 17.9626 - val_loss: 16.6367\n",
      "Epoch 289/500\n",
      "29/29 [==============================] - 0s 3ms/step - loss: 17.6117 - val_loss: 16.1646\n",
      "Epoch 290/500\n",
      "29/29 [==============================] - 0s 4ms/step - loss: 17.7548 - val_loss: 15.9213\n",
      "Epoch 291/500\n",
      "29/29 [==============================] - 0s 4ms/step - loss: 17.9670 - val_loss: 16.0066\n",
      "Epoch 292/500\n",
      "29/29 [==============================] - 0s 2ms/step - loss: 17.7277 - val_loss: 17.4382\n",
      "Epoch 293/500\n",
      "29/29 [==============================] - 0s 2ms/step - loss: 17.6518 - val_loss: 17.7096\n",
      "Epoch 294/500\n",
      "29/29 [==============================] - 0s 2ms/step - loss: 18.1203 - val_loss: 17.1049\n",
      "Epoch 295/500\n",
      "29/29 [==============================] - 0s 2ms/step - loss: 17.5943 - val_loss: 16.4015\n",
      "Epoch 296/500\n",
      "29/29 [==============================] - 0s 2ms/step - loss: 17.8511 - val_loss: 16.6044\n",
      "Epoch 297/500\n",
      "29/29 [==============================] - 0s 2ms/step - loss: 17.6200 - val_loss: 15.9286\n",
      "Epoch 298/500\n",
      "29/29 [==============================] - 0s 2ms/step - loss: 18.1418 - val_loss: 15.9533\n",
      "Epoch 299/500\n",
      "29/29 [==============================] - 0s 2ms/step - loss: 18.1295 - val_loss: 16.0221\n",
      "Epoch 300/500\n",
      "29/29 [==============================] - 0s 2ms/step - loss: 17.8361 - val_loss: 17.1032\n",
      "Epoch 301/500\n",
      "29/29 [==============================] - 0s 2ms/step - loss: 18.0101 - val_loss: 16.4286\n",
      "Epoch 302/500\n",
      "29/29 [==============================] - 0s 2ms/step - loss: 17.7625 - val_loss: 17.5812\n",
      "Epoch 303/500\n",
      "29/29 [==============================] - 0s 2ms/step - loss: 17.7212 - val_loss: 16.8382\n",
      "Epoch 304/500\n",
      "29/29 [==============================] - 0s 3ms/step - loss: 17.6445 - val_loss: 16.9192\n",
      "Epoch 305/500\n",
      "29/29 [==============================] - 0s 4ms/step - loss: 17.9597 - val_loss: 18.2794\n",
      "Epoch 306/500\n",
      "29/29 [==============================] - 0s 3ms/step - loss: 17.7115 - val_loss: 15.9473\n",
      "Epoch 307/500\n",
      "29/29 [==============================] - 0s 3ms/step - loss: 17.7373 - val_loss: 16.1286\n",
      "Epoch 308/500\n",
      "29/29 [==============================] - 0s 3ms/step - loss: 17.9654 - val_loss: 17.3781\n",
      "Epoch 309/500\n",
      "29/29 [==============================] - 0s 3ms/step - loss: 17.6904 - val_loss: 17.5728\n",
      "Epoch 310/500\n",
      "29/29 [==============================] - 0s 4ms/step - loss: 17.6226 - val_loss: 16.0260\n",
      "Epoch 311/500\n",
      "29/29 [==============================] - 0s 2ms/step - loss: 17.5588 - val_loss: 16.6064\n",
      "Epoch 312/500\n",
      "29/29 [==============================] - 0s 3ms/step - loss: 17.7826 - val_loss: 17.5764\n",
      "Epoch 313/500\n",
      "29/29 [==============================] - 0s 3ms/step - loss: 17.6638 - val_loss: 15.9627\n",
      "Epoch 314/500\n",
      "29/29 [==============================] - 0s 3ms/step - loss: 17.8129 - val_loss: 16.0205\n",
      "Epoch 315/500\n"
     ]
    },
    {
     "name": "stdout",
     "output_type": "stream",
     "text": [
      "29/29 [==============================] - 0s 4ms/step - loss: 17.6527 - val_loss: 16.2617\n",
      "Epoch 316/500\n",
      "29/29 [==============================] - 0s 3ms/step - loss: 17.6772 - val_loss: 16.0816\n",
      "Epoch 317/500\n",
      "29/29 [==============================] - 0s 3ms/step - loss: 17.6286 - val_loss: 16.2277\n",
      "Epoch 318/500\n",
      "29/29 [==============================] - 0s 3ms/step - loss: 17.7237 - val_loss: 15.8848\n",
      "Epoch 319/500\n",
      "29/29 [==============================] - 0s 4ms/step - loss: 17.9626 - val_loss: 17.1550\n",
      "Epoch 320/500\n",
      "29/29 [==============================] - 0s 3ms/step - loss: 17.8190 - val_loss: 15.9729\n",
      "Epoch 321/500\n",
      "29/29 [==============================] - 0s 3ms/step - loss: 17.7052 - val_loss: 16.0825\n",
      "Epoch 322/500\n",
      "29/29 [==============================] - 0s 3ms/step - loss: 17.7986 - val_loss: 15.9901\n",
      "Epoch 323/500\n",
      "29/29 [==============================] - 0s 3ms/step - loss: 17.7990 - val_loss: 19.1022\n",
      "Epoch 324/500\n",
      "29/29 [==============================] - 0s 4ms/step - loss: 18.0831 - val_loss: 18.4757\n",
      "Epoch 325/500\n",
      "29/29 [==============================] - 0s 7ms/step - loss: 18.0205 - val_loss: 16.3441\n",
      "Epoch 326/500\n",
      "29/29 [==============================] - ETA: 0s - loss: 17.60 - 0s 6ms/step - loss: 17.7261 - val_loss: 17.7976\n",
      "Epoch 327/500\n",
      "29/29 [==============================] - 0s 5ms/step - loss: 17.6300 - val_loss: 16.0814\n",
      "Epoch 328/500\n",
      "29/29 [==============================] - 0s 3ms/step - loss: 17.8431 - val_loss: 15.9859\n",
      "Epoch 329/500\n",
      "29/29 [==============================] - 0s 2ms/step - loss: 17.5297 - val_loss: 16.8166\n",
      "Epoch 330/500\n",
      "29/29 [==============================] - 0s 4ms/step - loss: 17.7321 - val_loss: 16.2973\n",
      "Epoch 331/500\n",
      "29/29 [==============================] - 0s 4ms/step - loss: 17.6379 - val_loss: 19.8281\n",
      "Epoch 332/500\n",
      "29/29 [==============================] - 0s 4ms/step - loss: 17.9015 - val_loss: 16.2937\n",
      "Epoch 333/500\n",
      "29/29 [==============================] - 0s 4ms/step - loss: 17.5350 - val_loss: 16.7320\n",
      "Epoch 334/500\n",
      "29/29 [==============================] - 0s 4ms/step - loss: 17.4798 - val_loss: 16.8600\n",
      "Epoch 335/500\n",
      "29/29 [==============================] - 0s 3ms/step - loss: 17.6098 - val_loss: 16.2408\n",
      "Epoch 336/500\n",
      "29/29 [==============================] - 0s 2ms/step - loss: 17.6128 - val_loss: 16.3254\n",
      "Epoch 337/500\n",
      "29/29 [==============================] - 0s 6ms/step - loss: 17.5060 - val_loss: 16.4434\n",
      "Epoch 338/500\n",
      "29/29 [==============================] - 0s 4ms/step - loss: 18.0047 - val_loss: 16.0169\n",
      "Epoch 339/500\n",
      "29/29 [==============================] - 0s 4ms/step - loss: 17.8176 - val_loss: 16.4607\n",
      "Epoch 340/500\n",
      "29/29 [==============================] - 0s 3ms/step - loss: 17.5537 - val_loss: 16.7773\n",
      "Epoch 341/500\n",
      "29/29 [==============================] - 0s 2ms/step - loss: 17.7339 - val_loss: 16.4414\n",
      "Epoch 342/500\n",
      "29/29 [==============================] - 0s 2ms/step - loss: 17.9640 - val_loss: 16.9761\n",
      "Epoch 343/500\n",
      "29/29 [==============================] - 0s 2ms/step - loss: 17.5875 - val_loss: 16.4680\n",
      "Epoch 344/500\n",
      "29/29 [==============================] - 0s 2ms/step - loss: 17.6952 - val_loss: 16.4622\n",
      "Epoch 345/500\n",
      "29/29 [==============================] - 0s 2ms/step - loss: 17.6111 - val_loss: 17.2061\n",
      "Epoch 346/500\n",
      "29/29 [==============================] - 0s 3ms/step - loss: 17.5211 - val_loss: 18.9740\n",
      "Epoch 347/500\n",
      "29/29 [==============================] - 0s 5ms/step - loss: 17.9685 - val_loss: 16.2329\n",
      "Epoch 348/500\n",
      "29/29 [==============================] - 0s 4ms/step - loss: 17.5396 - val_loss: 17.0910\n",
      "Epoch 349/500\n",
      "29/29 [==============================] - 0s 4ms/step - loss: 17.4796 - val_loss: 16.1306\n",
      "Epoch 350/500\n",
      "29/29 [==============================] - 0s 4ms/step - loss: 17.8747 - val_loss: 16.0680\n",
      "Epoch 351/500\n",
      "29/29 [==============================] - 0s 4ms/step - loss: 17.9716 - val_loss: 16.5549\n",
      "Epoch 352/500\n",
      "29/29 [==============================] - 0s 5ms/step - loss: 18.4646 - val_loss: 17.7212\n",
      "Epoch 353/500\n",
      "29/29 [==============================] - 0s 5ms/step - loss: 17.7715 - val_loss: 16.4563\n",
      "Epoch 354/500\n",
      "29/29 [==============================] - 0s 5ms/step - loss: 17.6382 - val_loss: 16.3569\n",
      "Epoch 355/500\n",
      "29/29 [==============================] - 0s 3ms/step - loss: 17.7229 - val_loss: 17.4804\n",
      "Epoch 356/500\n",
      "29/29 [==============================] - 0s 2ms/step - loss: 17.6024 - val_loss: 16.0515\n",
      "Epoch 357/500\n",
      "29/29 [==============================] - 0s 4ms/step - loss: 17.6079 - val_loss: 16.3953\n",
      "Epoch 358/500\n",
      "29/29 [==============================] - 0s 4ms/step - loss: 17.8038 - val_loss: 16.0756\n",
      "Epoch 359/500\n",
      "29/29 [==============================] - 0s 2ms/step - loss: 18.0477 - val_loss: 16.2293\n",
      "Epoch 360/500\n",
      "29/29 [==============================] - 0s 2ms/step - loss: 17.6071 - val_loss: 17.1056\n",
      "Epoch 361/500\n",
      "29/29 [==============================] - 0s 3ms/step - loss: 17.7699 - val_loss: 16.0168\n",
      "Epoch 362/500\n",
      "29/29 [==============================] - 0s 3ms/step - loss: 17.7013 - val_loss: 16.3737\n",
      "Epoch 363/500\n",
      "29/29 [==============================] - 0s 3ms/step - loss: 17.6266 - val_loss: 16.2742\n",
      "Epoch 364/500\n",
      "29/29 [==============================] - 0s 2ms/step - loss: 17.5298 - val_loss: 16.3801\n",
      "Epoch 365/500\n",
      "29/29 [==============================] - 0s 2ms/step - loss: 17.5548 - val_loss: 16.7711\n",
      "Epoch 366/500\n",
      "29/29 [==============================] - 0s 4ms/step - loss: 17.9267 - val_loss: 17.4207\n",
      "Epoch 367/500\n",
      "29/29 [==============================] - 0s 3ms/step - loss: 17.3370 - val_loss: 16.0267\n",
      "Epoch 368/500\n",
      "29/29 [==============================] - 0s 3ms/step - loss: 17.8121 - val_loss: 15.9409\n",
      "Epoch 369/500\n",
      "29/29 [==============================] - 0s 3ms/step - loss: 17.5500 - val_loss: 16.8697\n",
      "Epoch 370/500\n",
      "29/29 [==============================] - 0s 3ms/step - loss: 17.4462 - val_loss: 16.0783\n",
      "Epoch 371/500\n",
      "29/29 [==============================] - 0s 3ms/step - loss: 17.6323 - val_loss: 16.2632\n",
      "Epoch 372/500\n",
      "29/29 [==============================] - 0s 3ms/step - loss: 17.6569 - val_loss: 16.5046\n",
      "Epoch 373/500\n",
      "29/29 [==============================] - 0s 2ms/step - loss: 17.7602 - val_loss: 17.5578\n",
      "Epoch 374/500\n",
      "29/29 [==============================] - 0s 3ms/step - loss: 17.4450 - val_loss: 15.8549\n",
      "Epoch 375/500\n",
      "29/29 [==============================] - 0s 3ms/step - loss: 18.6314 - val_loss: 17.6842\n",
      "Epoch 376/500\n",
      "29/29 [==============================] - 0s 2ms/step - loss: 17.5117 - val_loss: 16.8810\n",
      "Epoch 377/500\n",
      "29/29 [==============================] - 0s 3ms/step - loss: 17.7528 - val_loss: 16.3184\n",
      "Epoch 378/500\n",
      "29/29 [==============================] - 0s 3ms/step - loss: 17.5488 - val_loss: 16.0067\n",
      "Epoch 379/500\n",
      "29/29 [==============================] - 0s 2ms/step - loss: 17.4545 - val_loss: 17.2785\n",
      "Epoch 380/500\n",
      "29/29 [==============================] - 0s 2ms/step - loss: 17.7997 - val_loss: 17.9985\n",
      "Epoch 381/500\n",
      "29/29 [==============================] - 0s 3ms/step - loss: 17.8837 - val_loss: 16.0174\n",
      "Epoch 382/500\n",
      "29/29 [==============================] - 0s 3ms/step - loss: 17.5922 - val_loss: 15.8965\n",
      "Epoch 383/500\n",
      "29/29 [==============================] - 0s 3ms/step - loss: 18.2934 - val_loss: 16.0041\n",
      "Epoch 384/500\n",
      "29/29 [==============================] - 0s 2ms/step - loss: 17.5230 - val_loss: 16.8978\n",
      "Epoch 385/500\n",
      "29/29 [==============================] - 0s 2ms/step - loss: 17.1811 - val_loss: 16.1513\n",
      "Epoch 386/500\n",
      "29/29 [==============================] - 0s 2ms/step - loss: 17.7293 - val_loss: 16.7430\n",
      "Epoch 387/500\n",
      "29/29 [==============================] - 0s 2ms/step - loss: 17.8620 - val_loss: 16.0772\n",
      "Epoch 388/500\n",
      "29/29 [==============================] - 0s 2ms/step - loss: 17.6189 - val_loss: 16.5998\n",
      "Epoch 389/500\n",
      "29/29 [==============================] - 0s 2ms/step - loss: 17.5032 - val_loss: 16.1463\n",
      "Epoch 390/500\n",
      "29/29 [==============================] - 0s 3ms/step - loss: 17.7611 - val_loss: 15.9638\n",
      "Epoch 391/500\n",
      "29/29 [==============================] - 0s 2ms/step - loss: 17.5436 - val_loss: 17.0396\n",
      "Epoch 392/500\n",
      "29/29 [==============================] - 0s 2ms/step - loss: 17.4946 - val_loss: 16.0437\n",
      "Epoch 393/500\n",
      "29/29 [==============================] - 0s 2ms/step - loss: 17.4393 - val_loss: 16.0799\n",
      "Epoch 394/500\n"
     ]
    },
    {
     "name": "stdout",
     "output_type": "stream",
     "text": [
      "29/29 [==============================] - 0s 4ms/step - loss: 17.6688 - val_loss: 15.8721\n",
      "Epoch 395/500\n",
      "29/29 [==============================] - 0s 6ms/step - loss: 17.4753 - val_loss: 17.1177\n",
      "Epoch 396/500\n",
      "29/29 [==============================] - 0s 5ms/step - loss: 17.5119 - val_loss: 15.8849\n",
      "Epoch 397/500\n",
      "29/29 [==============================] - 0s 2ms/step - loss: 17.4060 - val_loss: 16.1087\n",
      "Epoch 398/500\n",
      "29/29 [==============================] - 0s 4ms/step - loss: 17.5538 - val_loss: 16.6459\n",
      "Epoch 399/500\n",
      "29/29 [==============================] - 0s 5ms/step - loss: 18.2111 - val_loss: 16.6311\n",
      "Epoch 400/500\n",
      "29/29 [==============================] - 0s 4ms/step - loss: 17.4400 - val_loss: 16.0373\n",
      "Epoch 401/500\n",
      "29/29 [==============================] - 0s 3ms/step - loss: 17.7364 - val_loss: 16.3033\n",
      "Epoch 402/500\n",
      "29/29 [==============================] - 0s 2ms/step - loss: 17.3913 - val_loss: 15.9374\n",
      "Epoch 403/500\n",
      "29/29 [==============================] - 0s 2ms/step - loss: 17.5324 - val_loss: 16.5840\n",
      "Epoch 404/500\n",
      "29/29 [==============================] - 0s 2ms/step - loss: 17.5819 - val_loss: 17.9342\n",
      "Epoch 405/500\n",
      "29/29 [==============================] - 0s 3ms/step - loss: 17.7099 - val_loss: 16.6473\n",
      "Epoch 406/500\n",
      "29/29 [==============================] - 0s 3ms/step - loss: 17.4376 - val_loss: 15.9798\n",
      "Epoch 407/500\n",
      "29/29 [==============================] - 0s 4ms/step - loss: 17.6421 - val_loss: 15.8337\n",
      "Epoch 408/500\n",
      "29/29 [==============================] - 0s 4ms/step - loss: 17.7139 - val_loss: 16.2656\n",
      "Epoch 409/500\n",
      "29/29 [==============================] - 0s 3ms/step - loss: 17.4971 - val_loss: 15.7762\n",
      "Epoch 410/500\n",
      "29/29 [==============================] - 0s 2ms/step - loss: 17.7576 - val_loss: 15.8253\n",
      "Epoch 411/500\n",
      "29/29 [==============================] - 0s 2ms/step - loss: 17.3339 - val_loss: 16.8719\n",
      "Epoch 412/500\n",
      "29/29 [==============================] - 0s 3ms/step - loss: 17.5520 - val_loss: 15.8829\n",
      "Epoch 413/500\n",
      "29/29 [==============================] - 0s 4ms/step - loss: 17.3976 - val_loss: 16.8749\n",
      "Epoch 414/500\n",
      "29/29 [==============================] - 0s 4ms/step - loss: 17.4903 - val_loss: 15.8587\n",
      "Epoch 415/500\n",
      "29/29 [==============================] - 0s 3ms/step - loss: 17.3923 - val_loss: 15.8176\n",
      "Epoch 416/500\n",
      "29/29 [==============================] - 0s 4ms/step - loss: 17.4575 - val_loss: 16.8489\n",
      "Epoch 417/500\n",
      "29/29 [==============================] - 0s 2ms/step - loss: 17.5450 - val_loss: 16.3216\n",
      "Epoch 418/500\n",
      "29/29 [==============================] - 0s 5ms/step - loss: 17.7082 - val_loss: 15.8274\n",
      "Epoch 419/500\n",
      "29/29 [==============================] - 0s 4ms/step - loss: 17.5582 - val_loss: 15.8507\n",
      "Epoch 420/500\n",
      "29/29 [==============================] - 0s 3ms/step - loss: 17.4904 - val_loss: 15.9388\n",
      "Epoch 421/500\n",
      "29/29 [==============================] - 0s 5ms/step - loss: 17.4656 - val_loss: 16.1546\n",
      "Epoch 422/500\n",
      "29/29 [==============================] - 0s 4ms/step - loss: 17.3569 - val_loss: 16.2960\n",
      "Epoch 423/500\n",
      "29/29 [==============================] - 0s 2ms/step - loss: 17.8309 - val_loss: 18.0510\n",
      "Epoch 424/500\n",
      "29/29 [==============================] - 0s 3ms/step - loss: 17.2891 - val_loss: 16.2032\n",
      "Epoch 425/500\n",
      "29/29 [==============================] - 0s 5ms/step - loss: 17.4324 - val_loss: 16.0533\n",
      "Epoch 426/500\n",
      "29/29 [==============================] - 0s 5ms/step - loss: 17.7432 - val_loss: 16.7324\n",
      "Epoch 427/500\n",
      "29/29 [==============================] - 0s 3ms/step - loss: 17.5503 - val_loss: 17.1274\n",
      "Epoch 428/500\n",
      "29/29 [==============================] - 0s 2ms/step - loss: 18.3073 - val_loss: 15.8338\n",
      "Epoch 429/500\n",
      "29/29 [==============================] - 0s 2ms/step - loss: 17.5680 - val_loss: 15.8751\n",
      "Epoch 430/500\n",
      "29/29 [==============================] - 0s 3ms/step - loss: 17.9653 - val_loss: 16.6439\n",
      "Epoch 431/500\n",
      "29/29 [==============================] - 0s 4ms/step - loss: 18.3024 - val_loss: 15.8685\n",
      "Epoch 432/500\n",
      "29/29 [==============================] - 0s 3ms/step - loss: 17.6137 - val_loss: 16.1214\n",
      "Epoch 433/500\n",
      "29/29 [==============================] - 0s 4ms/step - loss: 17.3960 - val_loss: 15.7910\n",
      "Epoch 434/500\n",
      "29/29 [==============================] - 0s 2ms/step - loss: 17.6032 - val_loss: 16.2850\n",
      "Epoch 435/500\n",
      "29/29 [==============================] - 0s 2ms/step - loss: 17.4688 - val_loss: 15.8302\n",
      "Epoch 436/500\n",
      "29/29 [==============================] - 0s 2ms/step - loss: 17.6958 - val_loss: 15.8248\n",
      "Epoch 437/500\n",
      "29/29 [==============================] - 0s 2ms/step - loss: 17.3031 - val_loss: 16.7541\n",
      "Epoch 438/500\n",
      "29/29 [==============================] - 0s 5ms/step - loss: 17.3575 - val_loss: 16.2813\n",
      "Epoch 439/500\n",
      "29/29 [==============================] - 0s 4ms/step - loss: 17.4627 - val_loss: 17.5282\n",
      "Epoch 440/500\n",
      "29/29 [==============================] - 0s 4ms/step - loss: 17.3422 - val_loss: 15.7418\n",
      "Epoch 441/500\n",
      "29/29 [==============================] - 0s 4ms/step - loss: 17.3616 - val_loss: 17.2547\n",
      "Epoch 442/500\n",
      "29/29 [==============================] - 0s 3ms/step - loss: 17.4343 - val_loss: 16.6940\n",
      "Epoch 443/500\n",
      "29/29 [==============================] - 0s 2ms/step - loss: 17.9203 - val_loss: 15.7804\n",
      "Epoch 444/500\n",
      "29/29 [==============================] - 0s 5ms/step - loss: 17.4472 - val_loss: 16.1320\n",
      "Epoch 445/500\n",
      "29/29 [==============================] - 0s 4ms/step - loss: 17.3067 - val_loss: 15.8418\n",
      "Epoch 446/500\n",
      "29/29 [==============================] - 0s 4ms/step - loss: 17.2764 - val_loss: 15.9649\n",
      "Epoch 447/500\n",
      "29/29 [==============================] - 0s 5ms/step - loss: 17.7883 - val_loss: 15.7698\n",
      "Epoch 448/500\n",
      "29/29 [==============================] - 0s 4ms/step - loss: 17.7984 - val_loss: 15.7342\n",
      "Epoch 449/500\n",
      "29/29 [==============================] - 0s 4ms/step - loss: 18.0687 - val_loss: 16.1559\n",
      "Epoch 450/500\n",
      "29/29 [==============================] - 0s 5ms/step - loss: 17.8873 - val_loss: 15.9593\n",
      "Epoch 451/500\n",
      "29/29 [==============================] - 0s 4ms/step - loss: 17.3490 - val_loss: 15.7068\n",
      "Epoch 452/500\n",
      "29/29 [==============================] - 0s 3ms/step - loss: 17.6979 - val_loss: 15.9620\n",
      "Epoch 453/500\n",
      "29/29 [==============================] - 0s 2ms/step - loss: 17.3162 - val_loss: 16.1883\n",
      "Epoch 454/500\n",
      "29/29 [==============================] - 0s 5ms/step - loss: 17.4954 - val_loss: 15.8077\n",
      "Epoch 455/500\n",
      "29/29 [==============================] - 0s 5ms/step - loss: 17.7698 - val_loss: 15.8838\n",
      "Epoch 456/500\n",
      "29/29 [==============================] - 0s 3ms/step - loss: 17.7367 - val_loss: 15.7593\n",
      "Epoch 457/500\n",
      "29/29 [==============================] - 0s 2ms/step - loss: 17.4366 - val_loss: 16.8785\n",
      "Epoch 458/500\n",
      "29/29 [==============================] - 0s 3ms/step - loss: 17.6657 - val_loss: 17.4231\n",
      "Epoch 459/500\n",
      "29/29 [==============================] - 0s 2ms/step - loss: 17.6788 - val_loss: 15.7733\n",
      "Epoch 460/500\n",
      "29/29 [==============================] - 0s 3ms/step - loss: 17.3038 - val_loss: 16.2103\n",
      "Epoch 461/500\n",
      "29/29 [==============================] - 0s 2ms/step - loss: 17.5173 - val_loss: 16.1235\n",
      "Epoch 462/500\n",
      "29/29 [==============================] - 0s 2ms/step - loss: 17.5022 - val_loss: 15.7007\n",
      "Epoch 463/500\n",
      "29/29 [==============================] - 0s 2ms/step - loss: 17.3688 - val_loss: 16.6413\n",
      "Epoch 464/500\n",
      "29/29 [==============================] - 0s 2ms/step - loss: 17.6074 - val_loss: 16.3773\n",
      "Epoch 465/500\n",
      "29/29 [==============================] - 0s 2ms/step - loss: 17.5634 - val_loss: 16.3211\n",
      "Epoch 466/500\n",
      "29/29 [==============================] - 0s 3ms/step - loss: 17.2398 - val_loss: 15.7238\n",
      "Epoch 467/500\n",
      "29/29 [==============================] - 0s 4ms/step - loss: 17.5281 - val_loss: 16.0651\n",
      "Epoch 468/500\n",
      "29/29 [==============================] - 0s 3ms/step - loss: 17.3896 - val_loss: 16.3813\n",
      "Epoch 469/500\n",
      "29/29 [==============================] - 0s 3ms/step - loss: 17.4577 - val_loss: 16.1275\n",
      "Epoch 470/500\n",
      "29/29 [==============================] - 0s 3ms/step - loss: 17.4293 - val_loss: 16.2986\n",
      "Epoch 471/500\n",
      "29/29 [==============================] - 0s 2ms/step - loss: 17.4748 - val_loss: 16.1899\n",
      "Epoch 472/500\n",
      "29/29 [==============================] - 0s 2ms/step - loss: 17.2816 - val_loss: 17.5393\n",
      "Epoch 473/500\n"
     ]
    },
    {
     "name": "stdout",
     "output_type": "stream",
     "text": [
      "29/29 [==============================] - 0s 2ms/step - loss: 17.8227 - val_loss: 17.0027\n",
      "Epoch 474/500\n",
      "29/29 [==============================] - 0s 2ms/step - loss: 17.6937 - val_loss: 16.2086\n",
      "Epoch 475/500\n",
      "29/29 [==============================] - 0s 2ms/step - loss: 17.4050 - val_loss: 16.5680\n",
      "Epoch 476/500\n",
      "29/29 [==============================] - 0s 2ms/step - loss: 17.2886 - val_loss: 16.0088\n",
      "Epoch 477/500\n",
      "29/29 [==============================] - 0s 2ms/step - loss: 17.3934 - val_loss: 16.2050\n",
      "Epoch 478/500\n",
      "29/29 [==============================] - 0s 2ms/step - loss: 17.4859 - val_loss: 17.2653\n",
      "Epoch 479/500\n",
      "29/29 [==============================] - 0s 2ms/step - loss: 17.4915 - val_loss: 16.9790\n",
      "Epoch 480/500\n",
      "29/29 [==============================] - 0s 2ms/step - loss: 17.4126 - val_loss: 16.0690\n",
      "Epoch 481/500\n",
      "29/29 [==============================] - 0s 4ms/step - loss: 17.4771 - val_loss: 15.7983\n",
      "Epoch 482/500\n",
      "29/29 [==============================] - 0s 3ms/step - loss: 17.6902 - val_loss: 15.9829\n",
      "Epoch 483/500\n",
      "29/29 [==============================] - 0s 3ms/step - loss: 17.5474 - val_loss: 15.8016\n",
      "Epoch 484/500\n",
      "29/29 [==============================] - 0s 4ms/step - loss: 17.6396 - val_loss: 15.7361\n",
      "Epoch 485/500\n",
      "29/29 [==============================] - 0s 4ms/step - loss: 17.5236 - val_loss: 15.9466\n",
      "Epoch 486/500\n",
      "29/29 [==============================] - 0s 3ms/step - loss: 17.6106 - val_loss: 17.0574\n",
      "Epoch 487/500\n",
      "29/29 [==============================] - 0s 3ms/step - loss: 17.2625 - val_loss: 15.8799\n",
      "Epoch 488/500\n",
      "29/29 [==============================] - 0s 3ms/step - loss: 17.9252 - val_loss: 15.9312\n",
      "Epoch 489/500\n",
      "29/29 [==============================] - 0s 2ms/step - loss: 17.6111 - val_loss: 16.0686\n",
      "Epoch 490/500\n",
      "29/29 [==============================] - 0s 3ms/step - loss: 17.5699 - val_loss: 15.7487\n",
      "Epoch 491/500\n",
      "29/29 [==============================] - 0s 3ms/step - loss: 17.3019 - val_loss: 16.6247\n",
      "Epoch 492/500\n",
      "29/29 [==============================] - 0s 3ms/step - loss: 17.4285 - val_loss: 16.3121\n",
      "Epoch 493/500\n",
      "29/29 [==============================] - 0s 3ms/step - loss: 17.3156 - val_loss: 15.6798\n",
      "Epoch 494/500\n",
      "29/29 [==============================] - 0s 3ms/step - loss: 17.6000 - val_loss: 15.9901\n",
      "Epoch 495/500\n",
      "29/29 [==============================] - 0s 3ms/step - loss: 17.2567 - val_loss: 15.8709\n",
      "Epoch 496/500\n",
      "29/29 [==============================] - 0s 3ms/step - loss: 17.2338 - val_loss: 16.2265\n",
      "Epoch 497/500\n",
      "29/29 [==============================] - 0s 3ms/step - loss: 17.6784 - val_loss: 15.9898\n",
      "Epoch 498/500\n",
      "29/29 [==============================] - 0s 2ms/step - loss: 17.2656 - val_loss: 16.8824\n",
      "Epoch 499/500\n",
      "29/29 [==============================] - 0s 3ms/step - loss: 17.3548 - val_loss: 15.8242\n",
      "Epoch 500/500\n",
      "29/29 [==============================] - 0s 3ms/step - loss: 17.6546 - val_loss: 15.8835\n"
     ]
    }
   ],
   "source": [
    "# fit the model\n",
    "\n",
    "#history=model.fit(X_train, y_train, validation_data =(X_test, y_test),epochs=500, batch_size=10) #verbose=0\n",
    "history = model.fit(X_train, y_train, epochs=500, batch_size=10, validation_split=0.2)"
   ]
  },
  {
   "cell_type": "markdown",
   "metadata": {},
   "source": [
    "### Evaluate the model"
   ]
  },
  {
   "cell_type": "code",
   "execution_count": 95,
   "metadata": {},
   "outputs": [
    {
     "name": "stdout",
     "output_type": "stream",
     "text": [
      "Train: 16.937, Test: 16.334\n"
     ]
    }
   ],
   "source": [
    "train_mse = model.evaluate(X_train, y_train, verbose=0)\n",
    "test_mse = model.evaluate(X_test, y_test, verbose=0)\n",
    "print('Train: %.3f, Test: %.3f' % (train_mse, test_mse))"
   ]
  },
  {
   "cell_type": "markdown",
   "metadata": {},
   "source": [
    "### Plotting the learning curve\n",
    "\n",
    "You can also plot the model learning curves which plot the performance of the neural network model over time. It helps determine if the model is learning well and whether it is underfitting or overfitting the training set. To do this you need to update the call to to the `fit` function to include a reference to a validation dataset which is a portion of the training dataset not used to fit the model but instead used to evaluate the performance of the model during training. The fit function will then return a history object containing a trace of performance metrics recorded at the end of each training epoch. A learning curve is a plot of the loss on the training dataset and the validation dataset.\n",
    "Learning curves of mean squared error  on the train and test set at the end of each training epoch are graphed below using line plots. These learning curves give an indication of the dynamics while learning the model.\n",
    "https://machinelearningmastery.com/how-to-improve-neural-network-stability-and-modeling-performance-with-data-scaling/"
   ]
  },
  {
   "cell_type": "code",
   "execution_count": 96,
   "metadata": {},
   "outputs": [
    {
     "data": {
      "image/png": "[encoded data removed]",
      "text/plain": [
       "<Figure size 1008x576 with 1 Axes>"
      ]
     },
     "metadata": {},
     "output_type": "display_data"
    }
   ],
   "source": [
    "#history = model.fit(X_train, y_train, epochs=500, batch_size=10, verbose=0, validation_split=0.3)\n",
    "plt.title('Learning Curves')\n",
    "plt.xlabel('Epoch')\n",
    "plt.ylabel('Mean Squared Error')\n",
    "plt.plot(history.history['loss'], 'r.',label='train')\n",
    "plt.plot(history.history['val_loss'], 'b.',label='validation')\n",
    "plt.legend()\n",
    "plt.show()"
   ]
  },
  {
   "cell_type": "code",
   "execution_count": null,
   "metadata": {},
   "outputs": [],
   "source": []
  },
  {
   "cell_type": "markdown",
   "metadata": {},
   "source": []
  },
  {
   "cell_type": "markdown",
   "metadata": {},
   "source": [
    "### Predictions using the neural network model:\n",
    "Run each x value through the neural network."
   ]
  },
  {
   "cell_type": "code",
   "execution_count": 97,
   "metadata": {
    "scrolled": true
   },
   "outputs": [
    {
     "name": "stdout",
     "output_type": "stream",
     "text": [
      "Model: \"sequential\"\n",
      "_________________________________________________________________\n",
      "Layer (type)                 Output Shape              Param #   \n",
      "=================================================================\n",
      "dense (Dense)                (None, 20)                40        \n",
      "_________________________________________________________________\n",
      "dense_1 (Dense)              (None, 60)                1260      \n",
      "_________________________________________________________________\n",
      "dense_2 (Dense)              (None, 1)                 61        \n",
      "=================================================================\n",
      "Total params: 1,361\n",
      "Trainable params: 1,361\n",
      "Non-trainable params: 0\n",
      "_________________________________________________________________\n"
     ]
    }
   ],
   "source": [
    "model.summary()"
   ]
  },
  {
   "cell_type": "code",
   "execution_count": null,
   "metadata": {
    "scrolled": false
   },
   "outputs": [],
   "source": [
    "#model.predict(X_test)"
   ]
  },
  {
   "cell_type": "code",
   "execution_count": 98,
   "metadata": {},
   "outputs": [],
   "source": [
    "model_predictions = model.predict(X_test)"
   ]
  },
  {
   "cell_type": "markdown",
   "metadata": {},
   "source": [
    "### Compare actual data to predictions on test set"
   ]
  },
  {
   "cell_type": "code",
   "execution_count": 99,
   "metadata": {
    "scrolled": false
   },
   "outputs": [
    {
     "data": {
      "image/png": "[encoded data removed]",
      "text/plain": [
       "<Figure size 1008x576 with 1 Axes>"
      ]
     },
     "metadata": {},
     "output_type": "display_data"
    }
   ],
   "source": [
    "plt.title('Comparing actual data to predicted data')\n",
    "plt.plot(X_test, y_test, 'k.', label=\"true values\")\n",
    "plt.plot(X_test, model_predictions, 'rx', label=\"predicted values\")\n",
    "\n",
    "plt.legend()\n",
    "plt.show()"
   ]
  },
  {
   "cell_type": "markdown",
   "metadata": {},
   "source": [
    "\n",
    "The neural network model is over-predicting the power value when the wind speed exceeds the cut-off rates. I guess the model does not actually know this bit of information! I removed these observations from the training data as the dataset and research suggests that than for safety reasons the turbines are turned off when wind speed exceeds 24.3 metres per second.\n",
    "I need to take this into account in the prediction web service application. The neural network model is also predicting power values when the wind speed is zero. This is not really a problem as you would not expect to be predicting the power output for no wind.\n",
    "I did try adding extra layers and playing around with the parameters but to no avail. This makes the model more computationally expensive.\n",
    "\n",
    "Overall the model is better at predicting power for the lower values of wind speed than the polynomial regression models.\n",
    "\n",
    "I changed the kernel_initializer to random_uniform and specified a min and max values in the first hidden layer as I thought this might help but the model still predicts a non-zero values for zero wind speeds and for speeds greater than the cut-off wind speed of 24.4 metres per second."
   ]
  },
  {
   "cell_type": "code",
   "execution_count": 104,
   "metadata": {},
   "outputs": [
    {
     "data": {
      "text/plain": [
       "array([[4.985887]], dtype=float32)"
      ]
     },
     "execution_count": 104,
     "metadata": {},
     "output_type": "execute_result"
    }
   ],
   "source": [
    "model.predict([0])"
   ]
  },
  {
   "cell_type": "code",
   "execution_count": 101,
   "metadata": {},
   "outputs": [
    {
     "data": {
      "text/plain": [
       "array([[100.073715]], dtype=float32)"
      ]
     },
     "execution_count": 101,
     "metadata": {},
     "output_type": "execute_result"
    }
   ],
   "source": [
    "model.predict([24.5])"
   ]
  },
  {
   "cell_type": "code",
   "execution_count": 102,
   "metadata": {},
   "outputs": [
    {
     "data": {
      "text/plain": [
       "array([[100.30588]], dtype=float32)"
      ]
     },
     "execution_count": 102,
     "metadata": {},
     "output_type": "execute_result"
    }
   ],
   "source": [
    "#model.predict([26])"
   ]
  },
  {
   "cell_type": "code",
   "execution_count": null,
   "metadata": {},
   "outputs": [],
   "source": [
    "#model.predict([23.5])"
   ]
  },
  {
   "cell_type": "code",
   "execution_count": null,
   "metadata": {},
   "outputs": [],
   "source": [
    "#model.predict([0])"
   ]
  },
  {
   "cell_type": "code",
   "execution_count": null,
   "metadata": {},
   "outputs": [],
   "source": [
    "#model.predict([24.4])"
   ]
  },
  {
   "cell_type": "markdown",
   "metadata": {},
   "source": [
    "### Save the model for use in the web app"
   ]
  },
  {
   "cell_type": "code",
   "execution_count": 103,
   "metadata": {},
   "outputs": [],
   "source": [
    "#model.save('model.h5')"
   ]
  },
  {
   "cell_type": "code",
   "execution_count": 105,
   "metadata": {},
   "outputs": [],
   "source": [
    "# Train a model\n",
    "model2 = kr.models.Sequential()\n",
    "\n",
    "model2.add(kr.layers.Dense(50, input_shape=(1,), activation='sigmoid', kernel_initializer=\"glorot_uniform\", bias_initializer=\"glorot_uniform\"))\n",
    "\n",
    "model2.add(kr.layers.Dense(50, input_shape=(1,), activation='sigmoid', kernel_initializer=\"glorot_uniform\", bias_initializer=\"glorot_uniform\"))\n",
    "model2.add(kr.layers.Dense(1, activation='linear', kernel_initializer=\"glorot_uniform\", bias_initializer=\"glorot_uniform\"))"
   ]
  },
  {
   "cell_type": "code",
   "execution_count": 106,
   "metadata": {},
   "outputs": [
    {
     "name": "stdout",
     "output_type": "stream",
     "text": [
      "Model: \"sequential_1\"\n",
      "_________________________________________________________________\n",
      "Layer (type)                 Output Shape              Param #   \n",
      "=================================================================\n",
      "dense_3 (Dense)              (None, 50)                100       \n",
      "_________________________________________________________________\n",
      "dense_4 (Dense)              (None, 50)                2550      \n",
      "_________________________________________________________________\n",
      "dense_5 (Dense)              (None, 1)                 51        \n",
      "=================================================================\n",
      "Total params: 2,701\n",
      "Trainable params: 2,701\n",
      "Non-trainable params: 0\n",
      "_________________________________________________________________\n"
     ]
    }
   ],
   "source": [
    "# \n",
    "model2.compile(kr.optimizers.Adam(lr=0.001), loss='mean_squared_error')\n",
    "model2.summary()"
   ]
  },
  {
   "cell_type": "code",
   "execution_count": 107,
   "metadata": {},
   "outputs": [
    {
     "name": "stdout",
     "output_type": "stream",
     "text": [
      "Epoch 1/500\n",
      "29/29 [==============================] - 0s 5ms/step - loss: 3914.5840 - val_loss: 3835.6357\n",
      "Epoch 2/500\n",
      "29/29 [==============================] - 0s 2ms/step - loss: 3714.3975 - val_loss: 3638.0791\n",
      "Epoch 3/500\n",
      "29/29 [==============================] - 0s 2ms/step - loss: 3536.8901 - val_loss: 3478.4106\n",
      "Epoch 4/500\n",
      "29/29 [==============================] - 0s 2ms/step - loss: 3398.0015 - val_loss: 3353.3181\n",
      "Epoch 5/500\n",
      "29/29 [==============================] - 0s 2ms/step - loss: 3288.1104 - val_loss: 3251.4473\n",
      "Epoch 6/500\n",
      "29/29 [==============================] - 0s 2ms/step - loss: 3191.8713 - val_loss: 3158.3154\n",
      "Epoch 7/500\n",
      "29/29 [==============================] - 0s 2ms/step - loss: 3102.7395 - val_loss: 3068.1399\n",
      "Epoch 8/500\n",
      "29/29 [==============================] - 0s 2ms/step - loss: 3019.2595 - val_loss: 2987.7725\n",
      "Epoch 9/500\n",
      "29/29 [==============================] - 0s 2ms/step - loss: 2943.0330 - val_loss: 2914.2336\n",
      "Epoch 10/500\n",
      "29/29 [==============================] - 0s 2ms/step - loss: 2871.7993 - val_loss: 2844.7422\n",
      "Epoch 11/500\n",
      "29/29 [==============================] - 0s 2ms/step - loss: 2805.9187 - val_loss: 2778.5024\n",
      "Epoch 12/500\n",
      "29/29 [==============================] - 0s 2ms/step - loss: 2742.2466 - val_loss: 2716.0518\n",
      "Epoch 13/500\n",
      "29/29 [==============================] - 0s 2ms/step - loss: 2683.3386 - val_loss: 2654.6045\n",
      "Epoch 14/500\n",
      "29/29 [==============================] - 0s 2ms/step - loss: 2625.9441 - val_loss: 2599.1736\n",
      "Epoch 15/500\n",
      "29/29 [==============================] - 0s 2ms/step - loss: 2571.7754 - val_loss: 2547.9807\n",
      "Epoch 16/500\n",
      "29/29 [==============================] - 0s 2ms/step - loss: 2521.9001 - val_loss: 2496.4536\n",
      "Epoch 17/500\n",
      "29/29 [==============================] - 0s 2ms/step - loss: 2473.3845 - val_loss: 2445.7439\n",
      "Epoch 18/500\n",
      "29/29 [==============================] - 0s 2ms/step - loss: 2426.5630 - val_loss: 2400.5791\n",
      "Epoch 19/500\n",
      "29/29 [==============================] - 0s 2ms/step - loss: 2383.9065 - val_loss: 2356.3103\n",
      "Epoch 20/500\n",
      "29/29 [==============================] - 0s 2ms/step - loss: 2341.4521 - val_loss: 2315.7864\n",
      "Epoch 21/500\n",
      "29/29 [==============================] - 0s 2ms/step - loss: 2302.0576 - val_loss: 2276.2478\n",
      "Epoch 22/500\n",
      "29/29 [==============================] - 0s 2ms/step - loss: 2264.9070 - val_loss: 2237.4072\n",
      "Epoch 23/500\n",
      "29/29 [==============================] - 0s 2ms/step - loss: 2229.4202 - val_loss: 2201.0400\n",
      "Epoch 24/500\n",
      "29/29 [==============================] - 0s 2ms/step - loss: 2193.8352 - val_loss: 2167.4553\n",
      "Epoch 25/500\n",
      "29/29 [==============================] - 0s 3ms/step - loss: 2160.6960 - val_loss: 2133.7268\n",
      "Epoch 26/500\n",
      "29/29 [==============================] - 0s 5ms/step - loss: 2128.0398 - val_loss: 2098.3416\n",
      "Epoch 27/500\n",
      "29/29 [==============================] - 0s 4ms/step - loss: 2093.5129 - val_loss: 2064.7554\n",
      "Epoch 28/500\n",
      "29/29 [==============================] - 0s 3ms/step - loss: 2060.2983 - val_loss: 2030.2400\n",
      "Epoch 29/500\n",
      "29/29 [==============================] - 0s 4ms/step - loss: 2024.9427 - val_loss: 1994.3442\n",
      "Epoch 30/500\n",
      "29/29 [==============================] - 0s 4ms/step - loss: 1989.1201 - val_loss: 1958.3915\n",
      "Epoch 31/500\n",
      "29/29 [==============================] - 0s 2ms/step - loss: 1950.8279 - val_loss: 1918.7960\n",
      "Epoch 32/500\n",
      "29/29 [==============================] - 0s 2ms/step - loss: 1909.7550 - val_loss: 1877.7681\n",
      "Epoch 33/500\n",
      "29/29 [==============================] - 0s 2ms/step - loss: 1866.2513 - val_loss: 1833.6577\n",
      "Epoch 34/500\n",
      "29/29 [==============================] - 0s 3ms/step - loss: 1821.0214 - val_loss: 1787.6829\n",
      "Epoch 35/500\n",
      "29/29 [==============================] - 0s 3ms/step - loss: 1775.5406 - val_loss: 1739.0671\n",
      "Epoch 36/500\n",
      "29/29 [==============================] - 0s 4ms/step - loss: 1724.0491 - val_loss: 1691.7035\n",
      "Epoch 37/500\n",
      "29/29 [==============================] - 0s 3ms/step - loss: 1673.6477 - val_loss: 1641.3187\n",
      "Epoch 38/500\n",
      "29/29 [==============================] - 0s 4ms/step - loss: 1620.7290 - val_loss: 1588.2505\n",
      "Epoch 39/500\n",
      "29/29 [==============================] - 0s 3ms/step - loss: 1564.4808 - val_loss: 1534.8905\n",
      "Epoch 40/500\n",
      "29/29 [==============================] - 0s 3ms/step - loss: 1511.1503 - val_loss: 1483.6089\n",
      "Epoch 41/500\n",
      "29/29 [==============================] - 0s 3ms/step - loss: 1458.3379 - val_loss: 1432.1425\n",
      "Epoch 42/500\n",
      "29/29 [==============================] - 0s 4ms/step - loss: 1406.6154 - val_loss: 1383.3948\n",
      "Epoch 43/500\n",
      "29/29 [==============================] - 0s 4ms/step - loss: 1356.2799 - val_loss: 1335.3585\n",
      "Epoch 44/500\n",
      "29/29 [==============================] - 0s 4ms/step - loss: 1306.9089 - val_loss: 1289.0740\n",
      "Epoch 45/500\n",
      "29/29 [==============================] - 0s 4ms/step - loss: 1261.1260 - val_loss: 1244.5940\n",
      "Epoch 46/500\n",
      "29/29 [==============================] - 0s 4ms/step - loss: 1215.2010 - val_loss: 1201.1428\n",
      "Epoch 47/500\n",
      "29/29 [==============================] - 0s 3ms/step - loss: 1172.0831 - val_loss: 1158.8525\n",
      "Epoch 48/500\n",
      "29/29 [==============================] - 0s 2ms/step - loss: 1131.3105 - val_loss: 1119.5299\n",
      "Epoch 49/500\n",
      "29/29 [==============================] - 0s 4ms/step - loss: 1091.6322 - val_loss: 1082.6732\n",
      "Epoch 50/500\n",
      "29/29 [==============================] - 0s 4ms/step - loss: 1052.9436 - val_loss: 1044.1812\n",
      "Epoch 51/500\n",
      "29/29 [==============================] - 0s 5ms/step - loss: 1017.4838 - val_loss: 1013.1775\n",
      "Epoch 52/500\n",
      "29/29 [==============================] - 0s 3ms/step - loss: 982.6560 - val_loss: 976.4739\n",
      "Epoch 53/500\n",
      "29/29 [==============================] - 0s 3ms/step - loss: 949.1014 - val_loss: 940.6875\n",
      "Epoch 54/500\n",
      "29/29 [==============================] - 0s 2ms/step - loss: 913.2612 - val_loss: 909.9940\n",
      "Epoch 55/500\n",
      "29/29 [==============================] - 0s 2ms/step - loss: 882.1279 - val_loss: 876.1635\n",
      "Epoch 56/500\n",
      "29/29 [==============================] - 0s 2ms/step - loss: 851.3368 - val_loss: 846.2894\n",
      "Epoch 57/500\n",
      "29/29 [==============================] - 0s 2ms/step - loss: 821.9577 - val_loss: 818.9130\n",
      "Epoch 58/500\n",
      "29/29 [==============================] - 0s 2ms/step - loss: 792.1815 - val_loss: 788.7192\n",
      "Epoch 59/500\n",
      "29/29 [==============================] - 0s 2ms/step - loss: 763.8507 - val_loss: 762.1376\n",
      "Epoch 60/500\n",
      "29/29 [==============================] - 0s 3ms/step - loss: 737.8230 - val_loss: 732.4825\n",
      "Epoch 61/500\n",
      "29/29 [==============================] - 0s 4ms/step - loss: 710.3202 - val_loss: 709.9399\n",
      "Epoch 62/500\n",
      "29/29 [==============================] - 0s 4ms/step - loss: 686.9396 - val_loss: 685.1697\n",
      "Epoch 63/500\n",
      "29/29 [==============================] - 0s 5ms/step - loss: 661.6214 - val_loss: 659.6492\n",
      "Epoch 64/500\n",
      "29/29 [==============================] - 0s 4ms/step - loss: 638.7557 - val_loss: 634.8069\n",
      "Epoch 65/500\n",
      "29/29 [==============================] - 0s 4ms/step - loss: 615.4744 - val_loss: 613.3569\n",
      "Epoch 66/500\n",
      "29/29 [==============================] - 0s 3ms/step - loss: 593.2603 - val_loss: 590.0652\n",
      "Epoch 67/500\n",
      "29/29 [==============================] - 0s 4ms/step - loss: 571.4205 - val_loss: 569.3820\n",
      "Epoch 68/500\n",
      "29/29 [==============================] - 0s 4ms/step - loss: 550.3870 - val_loss: 547.9579\n",
      "Epoch 69/500\n",
      "29/29 [==============================] - 0s 4ms/step - loss: 531.1440 - val_loss: 527.7038\n",
      "Epoch 70/500\n",
      "29/29 [==============================] - 0s 3ms/step - loss: 510.4391 - val_loss: 510.3911\n",
      "Epoch 71/500\n",
      "29/29 [==============================] - 0s 3ms/step - loss: 491.1664 - val_loss: 489.6505\n",
      "Epoch 72/500\n",
      "29/29 [==============================] - 0s 4ms/step - loss: 473.1151 - val_loss: 471.1786\n",
      "Epoch 73/500\n",
      "29/29 [==============================] - 0s 4ms/step - loss: 454.9933 - val_loss: 453.7691\n",
      "Epoch 74/500\n",
      "29/29 [==============================] - 0s 5ms/step - loss: 437.4948 - val_loss: 436.2529\n",
      "Epoch 75/500\n",
      "29/29 [==============================] - 0s 4ms/step - loss: 421.1005 - val_loss: 419.6971\n",
      "Epoch 76/500\n",
      "29/29 [==============================] - 0s 3ms/step - loss: 404.8608 - val_loss: 403.5369\n",
      "Epoch 77/500\n",
      "29/29 [==============================] - 0s 4ms/step - loss: 389.4351 - val_loss: 387.6823\n",
      "Epoch 78/500\n",
      "29/29 [==============================] - 0s 3ms/step - loss: 374.0787 - val_loss: 374.2582\n"
     ]
    },
    {
     "name": "stdout",
     "output_type": "stream",
     "text": [
      "Epoch 79/500\n",
      "29/29 [==============================] - 0s 2ms/step - loss: 360.2724 - val_loss: 359.4897\n",
      "Epoch 80/500\n",
      "29/29 [==============================] - 0s 2ms/step - loss: 345.4563 - val_loss: 345.3439\n",
      "Epoch 81/500\n",
      "29/29 [==============================] - 0s 2ms/step - loss: 331.4999 - val_loss: 333.5125\n",
      "Epoch 82/500\n",
      "29/29 [==============================] - 0s 2ms/step - loss: 319.9372 - val_loss: 318.8723\n",
      "Epoch 83/500\n",
      "29/29 [==============================] - 0s 2ms/step - loss: 306.7830 - val_loss: 307.8511\n",
      "Epoch 84/500\n",
      "29/29 [==============================] - 0s 3ms/step - loss: 294.6016 - val_loss: 294.8966\n",
      "Epoch 85/500\n",
      "29/29 [==============================] - 0s 4ms/step - loss: 282.6788 - val_loss: 283.9996\n",
      "Epoch 86/500\n",
      "29/29 [==============================] - 0s 5ms/step - loss: 271.0933 - val_loss: 272.8417\n",
      "Epoch 87/500\n",
      "29/29 [==============================] - 0s 4ms/step - loss: 260.4572 - val_loss: 262.1187\n",
      "Epoch 88/500\n",
      "29/29 [==============================] - 0s 4ms/step - loss: 249.5533 - val_loss: 251.6522\n",
      "Epoch 89/500\n",
      "29/29 [==============================] - 0s 5ms/step - loss: 239.8627 - val_loss: 243.8803\n",
      "Epoch 90/500\n",
      "29/29 [==============================] - 0s 4ms/step - loss: 230.2528 - val_loss: 232.5610\n",
      "Epoch 91/500\n",
      "29/29 [==============================] - 0s 3ms/step - loss: 220.3235 - val_loss: 224.8702\n",
      "Epoch 92/500\n",
      "29/29 [==============================] - 0s 5ms/step - loss: 212.4173 - val_loss: 214.4512\n",
      "Epoch 93/500\n",
      "29/29 [==============================] - 0s 5ms/step - loss: 202.7131 - val_loss: 206.5538\n",
      "Epoch 94/500\n",
      "29/29 [==============================] - 0s 4ms/step - loss: 194.3366 - val_loss: 198.1155\n",
      "Epoch 95/500\n",
      "29/29 [==============================] - 0s 2ms/step - loss: 186.2060 - val_loss: 190.2500\n",
      "Epoch 96/500\n",
      "29/29 [==============================] - 0s 2ms/step - loss: 178.3122 - val_loss: 182.4802\n",
      "Epoch 97/500\n",
      "29/29 [==============================] - 0s 2ms/step - loss: 170.6245 - val_loss: 175.2902\n",
      "Epoch 98/500\n",
      "29/29 [==============================] - 0s 2ms/step - loss: 163.7914 - val_loss: 168.0682\n",
      "Epoch 99/500\n",
      "29/29 [==============================] - 0s 2ms/step - loss: 156.7566 - val_loss: 161.3542\n",
      "Epoch 100/500\n",
      "29/29 [==============================] - 0s 3ms/step - loss: 149.8421 - val_loss: 155.0613\n",
      "Epoch 101/500\n",
      "29/29 [==============================] - 0s 5ms/step - loss: 143.8163 - val_loss: 148.9691\n",
      "Epoch 102/500\n",
      "29/29 [==============================] - 0s 5ms/step - loss: 137.6011 - val_loss: 143.7919\n",
      "Epoch 103/500\n",
      "29/29 [==============================] - 0s 4ms/step - loss: 132.4471 - val_loss: 137.2678\n",
      "Epoch 104/500\n",
      "29/29 [==============================] - 0s 2ms/step - loss: 125.9213 - val_loss: 132.3795\n",
      "Epoch 105/500\n",
      "29/29 [==============================] - 0s 3ms/step - loss: 120.6474 - val_loss: 126.8742\n",
      "Epoch 106/500\n",
      "29/29 [==============================] - 0s 5ms/step - loss: 115.7299 - val_loss: 121.7708\n",
      "Epoch 107/500\n",
      "29/29 [==============================] - 0s 6ms/step - loss: 110.6302 - val_loss: 117.0090\n",
      "Epoch 108/500\n",
      "29/29 [==============================] - 0s 4ms/step - loss: 106.7715 - val_loss: 113.2491\n",
      "Epoch 109/500\n",
      "29/29 [==============================] - 0s 4ms/step - loss: 101.6644 - val_loss: 108.3975\n",
      "Epoch 110/500\n",
      "29/29 [==============================] - 0s 4ms/step - loss: 97.7904 - val_loss: 104.8347\n",
      "Epoch 111/500\n",
      "29/29 [==============================] - 0s 4ms/step - loss: 94.3426 - val_loss: 100.1809\n",
      "Epoch 112/500\n",
      "29/29 [==============================] - 0s 4ms/step - loss: 89.0844 - val_loss: 96.5430\n",
      "Epoch 113/500\n",
      "29/29 [==============================] - 0s 5ms/step - loss: 85.9020 - val_loss: 92.4639\n",
      "Epoch 114/500\n",
      "29/29 [==============================] - 0s 5ms/step - loss: 81.9581 - val_loss: 88.3045\n",
      "Epoch 115/500\n",
      "29/29 [==============================] - 0s 4ms/step - loss: 77.1200 - val_loss: 83.5864\n",
      "Epoch 116/500\n",
      "29/29 [==============================] - 0s 4ms/step - loss: 72.7892 - val_loss: 79.4348\n",
      "Epoch 117/500\n",
      "29/29 [==============================] - 0s 5ms/step - loss: 68.9999 - val_loss: 76.6613\n",
      "Epoch 118/500\n",
      "29/29 [==============================] - 0s 6ms/step - loss: 65.8491 - val_loss: 71.9424\n",
      "Epoch 119/500\n",
      "29/29 [==============================] - 0s 4ms/step - loss: 61.3597 - val_loss: 67.2206\n",
      "Epoch 120/500\n",
      "29/29 [==============================] - 0s 4ms/step - loss: 57.5717 - val_loss: 64.5054\n",
      "Epoch 121/500\n",
      "29/29 [==============================] - 0s 2ms/step - loss: 55.1122 - val_loss: 60.5486\n",
      "Epoch 122/500\n",
      "29/29 [==============================] - 0s 2ms/step - loss: 51.6106 - val_loss: 58.7733\n",
      "Epoch 123/500\n",
      "29/29 [==============================] - 0s 2ms/step - loss: 49.5081 - val_loss: 55.2786\n",
      "Epoch 124/500\n",
      "29/29 [==============================] - 0s 2ms/step - loss: 47.2782 - val_loss: 54.5711\n",
      "Epoch 125/500\n",
      "29/29 [==============================] - 0s 2ms/step - loss: 45.5939 - val_loss: 50.9028\n",
      "Epoch 126/500\n",
      "29/29 [==============================] - 0s 2ms/step - loss: 44.3519 - val_loss: 48.3734\n",
      "Epoch 127/500\n",
      "29/29 [==============================] - 0s 2ms/step - loss: 41.3514 - val_loss: 47.2966\n",
      "Epoch 128/500\n",
      "29/29 [==============================] - 0s 2ms/step - loss: 39.8147 - val_loss: 45.1333\n",
      "Epoch 129/500\n",
      "29/29 [==============================] - 0s 2ms/step - loss: 38.4866 - val_loss: 42.9815\n",
      "Epoch 130/500\n",
      "29/29 [==============================] - 0s 2ms/step - loss: 37.0574 - val_loss: 41.3892\n",
      "Epoch 131/500\n",
      "29/29 [==============================] - 0s 2ms/step - loss: 35.7942 - val_loss: 40.3462\n",
      "Epoch 132/500\n",
      "29/29 [==============================] - 0s 2ms/step - loss: 34.3616 - val_loss: 40.6064\n",
      "Epoch 133/500\n",
      "29/29 [==============================] - 0s 2ms/step - loss: 33.3655 - val_loss: 38.3664\n",
      "Epoch 134/500\n",
      "29/29 [==============================] - 0s 2ms/step - loss: 32.3001 - val_loss: 36.0102\n",
      "Epoch 135/500\n",
      "29/29 [==============================] - 0s 2ms/step - loss: 31.1535 - val_loss: 35.3634\n",
      "Epoch 136/500\n",
      "29/29 [==============================] - 0s 5ms/step - loss: 30.1114 - val_loss: 33.6764\n",
      "Epoch 137/500\n",
      "29/29 [==============================] - 0s 4ms/step - loss: 29.4128 - val_loss: 33.2249\n",
      "Epoch 138/500\n",
      "29/29 [==============================] - 0s 2ms/step - loss: 28.6801 - val_loss: 32.1344\n",
      "Epoch 139/500\n",
      "29/29 [==============================] - 0s 2ms/step - loss: 27.7001 - val_loss: 30.9428\n",
      "Epoch 140/500\n",
      "29/29 [==============================] - 0s 2ms/step - loss: 27.3507 - val_loss: 30.2252\n",
      "Epoch 141/500\n",
      "29/29 [==============================] - 0s 2ms/step - loss: 26.4101 - val_loss: 29.5649\n",
      "Epoch 142/500\n",
      "29/29 [==============================] - 0s 2ms/step - loss: 26.0782 - val_loss: 29.1232\n",
      "Epoch 143/500\n",
      "29/29 [==============================] - 0s 2ms/step - loss: 25.2251 - val_loss: 27.6751\n",
      "Epoch 144/500\n",
      "29/29 [==============================] - 0s 2ms/step - loss: 26.0696 - val_loss: 27.1309\n",
      "Epoch 145/500\n",
      "29/29 [==============================] - 0s 2ms/step - loss: 25.0930 - val_loss: 26.2747\n",
      "Epoch 146/500\n",
      "29/29 [==============================] - 0s 5ms/step - loss: 23.7850 - val_loss: 25.8980\n",
      "Epoch 147/500\n",
      "29/29 [==============================] - 0s 3ms/step - loss: 23.7100 - val_loss: 25.5243\n",
      "Epoch 148/500\n",
      "29/29 [==============================] - 0s 3ms/step - loss: 22.8780 - val_loss: 24.6770\n",
      "Epoch 149/500\n",
      "29/29 [==============================] - 0s 2ms/step - loss: 22.2277 - val_loss: 23.5832\n",
      "Epoch 150/500\n",
      "29/29 [==============================] - 0s 2ms/step - loss: 21.8968 - val_loss: 24.2638\n",
      "Epoch 151/500\n",
      "29/29 [==============================] - 0s 2ms/step - loss: 21.5472 - val_loss: 22.9616\n",
      "Epoch 152/500\n",
      "29/29 [==============================] - 0s 2ms/step - loss: 21.4631 - val_loss: 23.4218\n",
      "Epoch 153/500\n",
      "29/29 [==============================] - 0s 2ms/step - loss: 21.1145 - val_loss: 22.0738\n",
      "Epoch 154/500\n",
      "29/29 [==============================] - 0s 2ms/step - loss: 20.9145 - val_loss: 21.2063\n",
      "Epoch 155/500\n",
      "29/29 [==============================] - 0s 2ms/step - loss: 20.8530 - val_loss: 21.7154\n",
      "Epoch 156/500\n",
      "29/29 [==============================] - 0s 2ms/step - loss: 20.3568 - val_loss: 20.8171\n",
      "Epoch 157/500\n",
      "29/29 [==============================] - 0s 2ms/step - loss: 20.8675 - val_loss: 20.8539\n",
      "Epoch 158/500\n"
     ]
    },
    {
     "name": "stdout",
     "output_type": "stream",
     "text": [
      "29/29 [==============================] - 0s 2ms/step - loss: 19.5878 - val_loss: 21.0059\n",
      "Epoch 159/500\n",
      "29/29 [==============================] - 0s 2ms/step - loss: 19.2859 - val_loss: 21.5143\n",
      "Epoch 160/500\n",
      "29/29 [==============================] - 0s 2ms/step - loss: 19.0701 - val_loss: 20.4123\n",
      "Epoch 161/500\n",
      "29/29 [==============================] - 0s 4ms/step - loss: 18.8785 - val_loss: 20.0693\n",
      "Epoch 162/500\n",
      "29/29 [==============================] - 0s 5ms/step - loss: 18.7736 - val_loss: 20.4300\n",
      "Epoch 163/500\n",
      "29/29 [==============================] - 0s 4ms/step - loss: 18.8243 - val_loss: 21.6176\n",
      "Epoch 164/500\n",
      "29/29 [==============================] - 0s 4ms/step - loss: 18.4194 - val_loss: 18.6827\n",
      "Epoch 165/500\n",
      "29/29 [==============================] - 0s 4ms/step - loss: 18.5717 - val_loss: 18.2879\n",
      "Epoch 166/500\n",
      "29/29 [==============================] - 0s 3ms/step - loss: 18.5104 - val_loss: 17.9415\n",
      "Epoch 167/500\n",
      "29/29 [==============================] - 0s 2ms/step - loss: 18.4567 - val_loss: 17.9966\n",
      "Epoch 168/500\n",
      "29/29 [==============================] - 0s 4ms/step - loss: 18.4153 - val_loss: 18.2695\n",
      "Epoch 169/500\n",
      "29/29 [==============================] - 0s 4ms/step - loss: 17.7843 - val_loss: 17.5792\n",
      "Epoch 170/500\n",
      "29/29 [==============================] - 0s 4ms/step - loss: 18.0797 - val_loss: 17.5197\n",
      "Epoch 171/500\n",
      "29/29 [==============================] - 0s 4ms/step - loss: 17.6871 - val_loss: 17.5803\n",
      "Epoch 172/500\n",
      "29/29 [==============================] - 0s 5ms/step - loss: 17.7049 - val_loss: 17.8633\n",
      "Epoch 173/500\n",
      "29/29 [==============================] - 0s 2ms/step - loss: 17.5184 - val_loss: 17.4253\n",
      "Epoch 174/500\n",
      "29/29 [==============================] - 0s 4ms/step - loss: 17.6007 - val_loss: 17.7276\n",
      "Epoch 175/500\n",
      "29/29 [==============================] - 0s 4ms/step - loss: 18.1417 - val_loss: 16.9514\n",
      "Epoch 176/500\n",
      "29/29 [==============================] - 0s 4ms/step - loss: 17.4826 - val_loss: 17.1146\n",
      "Epoch 177/500\n",
      "29/29 [==============================] - 0s 4ms/step - loss: 17.1672 - val_loss: 17.3684\n",
      "Epoch 178/500\n",
      "29/29 [==============================] - 0s 4ms/step - loss: 17.9620 - val_loss: 17.8823\n",
      "Epoch 179/500\n",
      "29/29 [==============================] - 0s 3ms/step - loss: 17.7027 - val_loss: 17.2909\n",
      "Epoch 180/500\n",
      "29/29 [==============================] - 0s 2ms/step - loss: 17.3321 - val_loss: 16.7300\n",
      "Epoch 181/500\n",
      "29/29 [==============================] - 0s 4ms/step - loss: 17.0916 - val_loss: 16.2703\n",
      "Epoch 182/500\n",
      "29/29 [==============================] - 0s 4ms/step - loss: 17.8354 - val_loss: 16.4844\n",
      "Epoch 183/500\n",
      "29/29 [==============================] - 0s 3ms/step - loss: 17.0043 - val_loss: 15.9993\n",
      "Epoch 184/500\n",
      "29/29 [==============================] - 0s 4ms/step - loss: 17.2465 - val_loss: 16.1135\n",
      "Epoch 185/500\n",
      "29/29 [==============================] - 0s 3ms/step - loss: 17.2050 - val_loss: 16.4178\n",
      "Epoch 186/500\n",
      "29/29 [==============================] - 0s 5ms/step - loss: 17.1668 - val_loss: 16.0236\n",
      "Epoch 187/500\n",
      "29/29 [==============================] - 0s 4ms/step - loss: 16.9151 - val_loss: 16.0718\n",
      "Epoch 188/500\n",
      "29/29 [==============================] - 0s 3ms/step - loss: 16.9537 - val_loss: 15.6470\n",
      "Epoch 189/500\n",
      "29/29 [==============================] - 0s 4ms/step - loss: 17.2416 - val_loss: 15.9805\n",
      "Epoch 190/500\n",
      "29/29 [==============================] - 0s 4ms/step - loss: 17.3986 - val_loss: 16.5658\n",
      "Epoch 191/500\n",
      "29/29 [==============================] - 0s 4ms/step - loss: 17.1147 - val_loss: 16.1256\n",
      "Epoch 192/500\n",
      "29/29 [==============================] - 0s 4ms/step - loss: 17.1345 - val_loss: 16.2643\n",
      "Epoch 193/500\n",
      "29/29 [==============================] - 0s 3ms/step - loss: 16.8629 - val_loss: 15.9106\n",
      "Epoch 194/500\n",
      "29/29 [==============================] - 0s 4ms/step - loss: 16.6942 - val_loss: 16.3669\n",
      "Epoch 195/500\n",
      "29/29 [==============================] - 0s 4ms/step - loss: 16.7682 - val_loss: 15.8200\n",
      "Epoch 196/500\n",
      "29/29 [==============================] - 0s 4ms/step - loss: 16.9240 - val_loss: 18.4048\n",
      "Epoch 197/500\n",
      "29/29 [==============================] - 0s 4ms/step - loss: 17.3335 - val_loss: 15.5322\n",
      "Epoch 198/500\n",
      "29/29 [==============================] - 0s 4ms/step - loss: 17.4152 - val_loss: 16.8875\n",
      "Epoch 199/500\n",
      "29/29 [==============================] - 0s 4ms/step - loss: 17.9555 - val_loss: 15.9466\n",
      "Epoch 200/500\n",
      "29/29 [==============================] - 0s 2ms/step - loss: 17.0672 - val_loss: 15.8220\n",
      "Epoch 201/500\n",
      "29/29 [==============================] - 0s 4ms/step - loss: 17.6479 - val_loss: 15.2433\n",
      "Epoch 202/500\n",
      "29/29 [==============================] - 0s 4ms/step - loss: 16.6875 - val_loss: 15.6818\n",
      "Epoch 203/500\n",
      "29/29 [==============================] - 0s 4ms/step - loss: 16.8074 - val_loss: 15.7893\n",
      "Epoch 204/500\n",
      "29/29 [==============================] - 0s 4ms/step - loss: 17.0453 - val_loss: 15.4107\n",
      "Epoch 205/500\n",
      "29/29 [==============================] - 0s 4ms/step - loss: 16.7743 - val_loss: 15.4317\n",
      "Epoch 206/500\n",
      "29/29 [==============================] - 0s 5ms/step - loss: 16.7788 - val_loss: 16.0794\n",
      "Epoch 207/500\n",
      "29/29 [==============================] - 0s 4ms/step - loss: 17.4944 - val_loss: 16.5713\n",
      "Epoch 208/500\n",
      "29/29 [==============================] - 0s 4ms/step - loss: 17.2443 - val_loss: 15.9268\n",
      "Epoch 209/500\n",
      "29/29 [==============================] - 0s 4ms/step - loss: 17.1193 - val_loss: 16.1126\n",
      "Epoch 210/500\n",
      "29/29 [==============================] - 0s 6ms/step - loss: 16.9029 - val_loss: 16.6087\n",
      "Epoch 211/500\n",
      "29/29 [==============================] - 0s 4ms/step - loss: 17.1877 - val_loss: 15.3226\n",
      "Epoch 212/500\n",
      "29/29 [==============================] - 0s 2ms/step - loss: 16.7719 - val_loss: 15.5343\n",
      "Epoch 213/500\n",
      "29/29 [==============================] - 0s 2ms/step - loss: 16.8889 - val_loss: 15.7611\n",
      "Epoch 214/500\n",
      "29/29 [==============================] - 0s 2ms/step - loss: 16.7139 - val_loss: 16.1526\n",
      "Epoch 215/500\n",
      "29/29 [==============================] - 0s 3ms/step - loss: 17.1598 - val_loss: 15.4275\n",
      "Epoch 216/500\n",
      "29/29 [==============================] - 0s 4ms/step - loss: 16.8602 - val_loss: 15.6349\n",
      "Epoch 217/500\n",
      "29/29 [==============================] - 0s 4ms/step - loss: 16.8716 - val_loss: 15.0816\n",
      "Epoch 218/500\n",
      "29/29 [==============================] - 0s 4ms/step - loss: 17.0656 - val_loss: 16.3073\n",
      "Epoch 219/500\n",
      "29/29 [==============================] - 0s 5ms/step - loss: 16.6742 - val_loss: 15.7113\n",
      "Epoch 220/500\n",
      "29/29 [==============================] - 0s 2ms/step - loss: 16.8433 - val_loss: 16.2282\n",
      "Epoch 221/500\n",
      "29/29 [==============================] - 0s 2ms/step - loss: 16.6009 - val_loss: 15.6767\n",
      "Epoch 222/500\n",
      "29/29 [==============================] - 0s 4ms/step - loss: 16.7054 - val_loss: 16.6411\n",
      "Epoch 223/500\n",
      "29/29 [==============================] - 0s 4ms/step - loss: 16.8629 - val_loss: 15.7496\n",
      "Epoch 224/500\n",
      "29/29 [==============================] - 0s 4ms/step - loss: 17.1972 - val_loss: 16.9174\n",
      "Epoch 225/500\n",
      "29/29 [==============================] - 0s 5ms/step - loss: 17.8656 - val_loss: 17.2490\n",
      "Epoch 226/500\n",
      "29/29 [==============================] - 0s 4ms/step - loss: 16.9592 - val_loss: 15.6016\n",
      "Epoch 227/500\n",
      "29/29 [==============================] - 0s 4ms/step - loss: 17.2052 - val_loss: 15.6149\n",
      "Epoch 228/500\n",
      "29/29 [==============================] - 0s 2ms/step - loss: 16.8180 - val_loss: 15.6205\n",
      "Epoch 229/500\n",
      "29/29 [==============================] - 0s 2ms/step - loss: 16.9903 - val_loss: 15.6793\n",
      "Epoch 230/500\n",
      "29/29 [==============================] - 0s 5ms/step - loss: 16.6326 - val_loss: 18.6370\n",
      "Epoch 231/500\n",
      "29/29 [==============================] - 0s 4ms/step - loss: 17.4339 - val_loss: 16.8658\n",
      "Epoch 232/500\n",
      "29/29 [==============================] - 0s 4ms/step - loss: 16.9268 - val_loss: 15.4826\n",
      "Epoch 233/500\n",
      "29/29 [==============================] - 0s 5ms/step - loss: 16.4478 - val_loss: 16.2303\n",
      "Epoch 234/500\n",
      "29/29 [==============================] - 0s 4ms/step - loss: 16.6607 - val_loss: 15.7532\n",
      "Epoch 235/500\n",
      "29/29 [==============================] - 0s 3ms/step - loss: 16.9015 - val_loss: 15.7037\n",
      "Epoch 236/500\n",
      "29/29 [==============================] - 0s 4ms/step - loss: 16.7244 - val_loss: 15.4870\n",
      "Epoch 237/500\n"
     ]
    },
    {
     "name": "stdout",
     "output_type": "stream",
     "text": [
      "29/29 [==============================] - 0s 5ms/step - loss: 16.6540 - val_loss: 15.5784\n",
      "Epoch 238/500\n",
      "29/29 [==============================] - 0s 3ms/step - loss: 16.6812 - val_loss: 15.9793\n",
      "Epoch 239/500\n",
      "29/29 [==============================] - 0s 4ms/step - loss: 16.5926 - val_loss: 15.7216\n",
      "Epoch 240/500\n",
      "29/29 [==============================] - 0s 4ms/step - loss: 16.9982 - val_loss: 15.5275\n",
      "Epoch 241/500\n",
      "29/29 [==============================] - 0s 4ms/step - loss: 16.8270 - val_loss: 15.1212\n",
      "Epoch 242/500\n",
      "29/29 [==============================] - 0s 2ms/step - loss: 16.5971 - val_loss: 16.1562\n",
      "Epoch 243/500\n",
      "29/29 [==============================] - 0s 2ms/step - loss: 16.6710 - val_loss: 15.2016\n",
      "Epoch 244/500\n",
      "29/29 [==============================] - 0s 3ms/step - loss: 16.8084 - val_loss: 15.7509\n",
      "Epoch 245/500\n",
      "29/29 [==============================] - 0s 4ms/step - loss: 16.6127 - val_loss: 17.6360\n",
      "Epoch 246/500\n",
      "29/29 [==============================] - 0s 3ms/step - loss: 17.7595 - val_loss: 15.3223\n",
      "Epoch 247/500\n",
      "29/29 [==============================] - 0s 3ms/step - loss: 17.5463 - val_loss: 15.3131\n",
      "Epoch 248/500\n",
      "29/29 [==============================] - 0s 3ms/step - loss: 17.2567 - val_loss: 19.0362\n",
      "Epoch 249/500\n",
      "29/29 [==============================] - 0s 3ms/step - loss: 17.1463 - val_loss: 15.8232\n",
      "Epoch 250/500\n",
      "29/29 [==============================] - 0s 3ms/step - loss: 16.8199 - val_loss: 15.8133\n",
      "Epoch 251/500\n",
      "29/29 [==============================] - 0s 3ms/step - loss: 16.8218 - val_loss: 15.7268\n",
      "Epoch 252/500\n",
      "29/29 [==============================] - 0s 4ms/step - loss: 17.0257 - val_loss: 15.9596\n",
      "Epoch 253/500\n",
      "29/29 [==============================] - 0s 3ms/step - loss: 16.7890 - val_loss: 16.8017\n",
      "Epoch 254/500\n",
      "29/29 [==============================] - 0s 5ms/step - loss: 16.7440 - val_loss: 15.7875\n",
      "Epoch 255/500\n",
      "29/29 [==============================] - 0s 3ms/step - loss: 16.7371 - val_loss: 15.6757\n",
      "Epoch 256/500\n",
      "29/29 [==============================] - 0s 4ms/step - loss: 16.5616 - val_loss: 16.2641\n",
      "Epoch 257/500\n",
      "29/29 [==============================] - 0s 3ms/step - loss: 17.3263 - val_loss: 17.6640\n",
      "Epoch 258/500\n",
      "29/29 [==============================] - 0s 2ms/step - loss: 16.9659 - val_loss: 16.2822\n",
      "Epoch 259/500\n",
      "29/29 [==============================] - 0s 6ms/step - loss: 16.7593 - val_loss: 15.2605\n",
      "Epoch 260/500\n",
      "29/29 [==============================] - 0s 4ms/step - loss: 17.6431 - val_loss: 15.4109\n",
      "Epoch 261/500\n",
      "29/29 [==============================] - 0s 5ms/step - loss: 16.9140 - val_loss: 15.4013\n",
      "Epoch 262/500\n",
      "29/29 [==============================] - 0s 4ms/step - loss: 17.3020 - val_loss: 15.3781\n",
      "Epoch 263/500\n",
      "29/29 [==============================] - 0s 4ms/step - loss: 18.2542 - val_loss: 15.8220\n",
      "Epoch 264/500\n",
      "29/29 [==============================] - 0s 4ms/step - loss: 17.1415 - val_loss: 15.7419\n",
      "Epoch 265/500\n",
      "29/29 [==============================] - 0s 4ms/step - loss: 16.8210 - val_loss: 15.4170\n",
      "Epoch 266/500\n",
      "29/29 [==============================] - 0s 5ms/step - loss: 17.1011 - val_loss: 15.6911\n",
      "Epoch 267/500\n",
      "29/29 [==============================] - 0s 3ms/step - loss: 16.7716 - val_loss: 15.5840\n",
      "Epoch 268/500\n",
      "29/29 [==============================] - 0s 4ms/step - loss: 16.5983 - val_loss: 15.2040\n",
      "Epoch 269/500\n",
      "29/29 [==============================] - 0s 4ms/step - loss: 16.6566 - val_loss: 15.3834\n",
      "Epoch 270/500\n",
      "29/29 [==============================] - 0s 4ms/step - loss: 16.5172 - val_loss: 16.4186\n",
      "Epoch 271/500\n",
      "29/29 [==============================] - 0s 4ms/step - loss: 17.5100 - val_loss: 15.6385\n",
      "Epoch 272/500\n",
      "29/29 [==============================] - 0s 3ms/step - loss: 16.5974 - val_loss: 16.0248\n",
      "Epoch 273/500\n",
      "29/29 [==============================] - 0s 5ms/step - loss: 16.7304 - val_loss: 15.7996\n",
      "Epoch 274/500\n",
      "29/29 [==============================] - 0s 4ms/step - loss: 16.7823 - val_loss: 15.4583\n",
      "Epoch 275/500\n",
      "29/29 [==============================] - 0s 5ms/step - loss: 16.7484 - val_loss: 15.2356\n",
      "Epoch 276/500\n",
      "29/29 [==============================] - 0s 5ms/step - loss: 16.7969 - val_loss: 15.2132\n",
      "Epoch 277/500\n",
      "29/29 [==============================] - 0s 2ms/step - loss: 17.4267 - val_loss: 15.8145\n",
      "Epoch 278/500\n",
      "29/29 [==============================] - 0s 2ms/step - loss: 16.7971 - val_loss: 15.5199\n",
      "Epoch 279/500\n",
      "29/29 [==============================] - 0s 2ms/step - loss: 16.8057 - val_loss: 15.2465\n",
      "Epoch 280/500\n",
      "29/29 [==============================] - 0s 2ms/step - loss: 16.9145 - val_loss: 15.1225\n",
      "Epoch 281/500\n",
      "29/29 [==============================] - 0s 2ms/step - loss: 16.8585 - val_loss: 15.3210\n",
      "Epoch 282/500\n",
      "29/29 [==============================] - 0s 2ms/step - loss: 17.1984 - val_loss: 15.4314\n",
      "Epoch 283/500\n",
      "29/29 [==============================] - 0s 2ms/step - loss: 17.0555 - val_loss: 16.1815\n",
      "Epoch 284/500\n",
      "29/29 [==============================] - 0s 2ms/step - loss: 16.6556 - val_loss: 15.7219\n",
      "Epoch 285/500\n",
      "29/29 [==============================] - 0s 2ms/step - loss: 16.7178 - val_loss: 16.2610\n",
      "Epoch 286/500\n",
      "29/29 [==============================] - 0s 2ms/step - loss: 16.7952 - val_loss: 15.9983\n",
      "Epoch 287/500\n",
      "29/29 [==============================] - 0s 3ms/step - loss: 16.6843 - val_loss: 15.7993\n",
      "Epoch 288/500\n",
      "29/29 [==============================] - 0s 2ms/step - loss: 16.6144 - val_loss: 15.3944\n",
      "Epoch 289/500\n",
      "29/29 [==============================] - 0s 2ms/step - loss: 16.8064 - val_loss: 15.8281\n",
      "Epoch 290/500\n",
      "29/29 [==============================] - 0s 2ms/step - loss: 17.1243 - val_loss: 15.5556\n",
      "Epoch 291/500\n",
      "29/29 [==============================] - 0s 2ms/step - loss: 16.7815 - val_loss: 15.7612\n",
      "Epoch 292/500\n",
      "29/29 [==============================] - 0s 2ms/step - loss: 16.6351 - val_loss: 17.5900\n",
      "Epoch 293/500\n",
      "29/29 [==============================] - 0s 2ms/step - loss: 16.8238 - val_loss: 15.6905\n",
      "Epoch 294/500\n",
      "29/29 [==============================] - 0s 2ms/step - loss: 17.0767 - val_loss: 15.9763\n",
      "Epoch 295/500\n",
      "29/29 [==============================] - 0s 2ms/step - loss: 17.1994 - val_loss: 15.1855\n",
      "Epoch 296/500\n",
      "29/29 [==============================] - 0s 2ms/step - loss: 16.7324 - val_loss: 15.6976\n",
      "Epoch 297/500\n",
      "29/29 [==============================] - 0s 2ms/step - loss: 16.7362 - val_loss: 15.9124\n",
      "Epoch 298/500\n",
      "29/29 [==============================] - 0s 2ms/step - loss: 16.9195 - val_loss: 17.0351\n",
      "Epoch 299/500\n",
      "29/29 [==============================] - 0s 2ms/step - loss: 17.0368 - val_loss: 15.8179\n",
      "Epoch 300/500\n",
      "29/29 [==============================] - 0s 2ms/step - loss: 16.9305 - val_loss: 15.7011\n",
      "Epoch 301/500\n",
      "29/29 [==============================] - 0s 2ms/step - loss: 17.2922 - val_loss: 18.0833\n",
      "Epoch 302/500\n",
      "29/29 [==============================] - 0s 2ms/step - loss: 17.1032 - val_loss: 16.0908\n",
      "Epoch 303/500\n",
      "29/29 [==============================] - 0s 2ms/step - loss: 16.8909 - val_loss: 18.5245\n",
      "Epoch 304/500\n",
      "29/29 [==============================] - 0s 2ms/step - loss: 17.1915 - val_loss: 16.2464\n",
      "Epoch 305/500\n",
      "29/29 [==============================] - 0s 2ms/step - loss: 17.1605 - val_loss: 15.5259\n",
      "Epoch 306/500\n",
      "29/29 [==============================] - 0s 2ms/step - loss: 16.8365 - val_loss: 16.1116\n",
      "Epoch 307/500\n",
      "29/29 [==============================] - 0s 2ms/step - loss: 16.9008 - val_loss: 15.9936\n",
      "Epoch 308/500\n",
      "29/29 [==============================] - 0s 2ms/step - loss: 16.8379 - val_loss: 16.6605\n",
      "Epoch 309/500\n",
      "29/29 [==============================] - 0s 2ms/step - loss: 16.7160 - val_loss: 16.0695\n",
      "Epoch 310/500\n",
      "29/29 [==============================] - 0s 2ms/step - loss: 17.0960 - val_loss: 15.5701\n",
      "Epoch 311/500\n",
      "29/29 [==============================] - 0s 2ms/step - loss: 17.2723 - val_loss: 15.5786\n",
      "Epoch 312/500\n",
      "29/29 [==============================] - 0s 2ms/step - loss: 17.0705 - val_loss: 16.7276\n",
      "Epoch 313/500\n",
      "29/29 [==============================] - 0s 2ms/step - loss: 16.8673 - val_loss: 16.6733\n",
      "Epoch 314/500\n",
      "29/29 [==============================] - 0s 2ms/step - loss: 16.9846 - val_loss: 16.2264\n",
      "Epoch 315/500\n",
      "29/29 [==============================] - 0s 2ms/step - loss: 16.3764 - val_loss: 15.8081\n",
      "Epoch 316/500\n"
     ]
    },
    {
     "name": "stdout",
     "output_type": "stream",
     "text": [
      "29/29 [==============================] - 0s 2ms/step - loss: 16.5833 - val_loss: 15.8099\n",
      "Epoch 317/500\n",
      "29/29 [==============================] - 0s 2ms/step - loss: 16.7676 - val_loss: 15.6498\n",
      "Epoch 318/500\n",
      "29/29 [==============================] - 0s 2ms/step - loss: 16.8910 - val_loss: 15.5547\n",
      "Epoch 319/500\n",
      "29/29 [==============================] - 0s 2ms/step - loss: 16.6977 - val_loss: 15.4610\n",
      "Epoch 320/500\n",
      "29/29 [==============================] - 0s 2ms/step - loss: 17.1168 - val_loss: 15.6278\n",
      "Epoch 321/500\n",
      "29/29 [==============================] - 0s 2ms/step - loss: 16.8530 - val_loss: 15.6906\n",
      "Epoch 322/500\n",
      "29/29 [==============================] - 0s 2ms/step - loss: 16.5765 - val_loss: 15.3142\n",
      "Epoch 323/500\n",
      "29/29 [==============================] - 0s 2ms/step - loss: 16.8580 - val_loss: 16.1328\n",
      "Epoch 324/500\n",
      "29/29 [==============================] - 0s 2ms/step - loss: 16.5431 - val_loss: 15.6348\n",
      "Epoch 325/500\n",
      "29/29 [==============================] - 0s 2ms/step - loss: 17.1634 - val_loss: 15.6020\n",
      "Epoch 326/500\n",
      "29/29 [==============================] - 0s 2ms/step - loss: 17.6857 - val_loss: 15.3697\n",
      "Epoch 327/500\n",
      "29/29 [==============================] - 0s 2ms/step - loss: 18.2263 - val_loss: 15.9423\n",
      "Epoch 328/500\n",
      "29/29 [==============================] - 0s 2ms/step - loss: 16.9882 - val_loss: 15.5933\n",
      "Epoch 329/500\n",
      "29/29 [==============================] - 0s 2ms/step - loss: 16.7701 - val_loss: 15.4965\n",
      "Epoch 330/500\n",
      "29/29 [==============================] - 0s 2ms/step - loss: 16.7514 - val_loss: 15.3127\n",
      "Epoch 331/500\n",
      "29/29 [==============================] - 0s 2ms/step - loss: 16.5685 - val_loss: 16.5608\n",
      "Epoch 332/500\n",
      "29/29 [==============================] - 0s 2ms/step - loss: 16.6375 - val_loss: 15.2769\n",
      "Epoch 333/500\n",
      "29/29 [==============================] - 0s 2ms/step - loss: 17.8175 - val_loss: 18.1747\n",
      "Epoch 334/500\n",
      "29/29 [==============================] - 0s 2ms/step - loss: 17.4004 - val_loss: 16.6656\n",
      "Epoch 335/500\n",
      "29/29 [==============================] - 0s 2ms/step - loss: 17.5496 - val_loss: 15.4817\n",
      "Epoch 336/500\n",
      "29/29 [==============================] - 0s 2ms/step - loss: 16.7458 - val_loss: 15.6373\n",
      "Epoch 337/500\n",
      "29/29 [==============================] - 0s 2ms/step - loss: 16.8042 - val_loss: 15.4311\n",
      "Epoch 338/500\n",
      "29/29 [==============================] - 0s 2ms/step - loss: 16.6707 - val_loss: 15.4934\n",
      "Epoch 339/500\n",
      "29/29 [==============================] - 0s 2ms/step - loss: 16.9085 - val_loss: 15.4148\n",
      "Epoch 340/500\n",
      "29/29 [==============================] - 0s 2ms/step - loss: 16.6963 - val_loss: 15.7061\n",
      "Epoch 341/500\n",
      "29/29 [==============================] - 0s 2ms/step - loss: 16.9727 - val_loss: 15.8986\n",
      "Epoch 342/500\n",
      "29/29 [==============================] - 0s 2ms/step - loss: 17.4238 - val_loss: 15.5636\n",
      "Epoch 343/500\n",
      "29/29 [==============================] - 0s 2ms/step - loss: 16.8563 - val_loss: 17.2339\n",
      "Epoch 344/500\n",
      "29/29 [==============================] - 0s 2ms/step - loss: 17.5623 - val_loss: 15.3617\n",
      "Epoch 345/500\n",
      "29/29 [==============================] - 0s 2ms/step - loss: 16.7789 - val_loss: 15.6353\n",
      "Epoch 346/500\n",
      "29/29 [==============================] - 0s 2ms/step - loss: 16.7671 - val_loss: 15.4142\n",
      "Epoch 347/500\n",
      "29/29 [==============================] - 0s 2ms/step - loss: 16.7210 - val_loss: 15.7821\n",
      "Epoch 348/500\n",
      "29/29 [==============================] - 0s 2ms/step - loss: 17.0977 - val_loss: 15.5842\n",
      "Epoch 349/500\n",
      "29/29 [==============================] - 0s 2ms/step - loss: 16.8844 - val_loss: 15.8952\n",
      "Epoch 350/500\n",
      "29/29 [==============================] - 0s 2ms/step - loss: 16.7109 - val_loss: 16.0813\n",
      "Epoch 351/500\n",
      "29/29 [==============================] - 0s 2ms/step - loss: 16.8055 - val_loss: 17.1875\n",
      "Epoch 352/500\n",
      "29/29 [==============================] - 0s 2ms/step - loss: 16.9654 - val_loss: 15.7633\n",
      "Epoch 353/500\n",
      "29/29 [==============================] - 0s 2ms/step - loss: 16.6866 - val_loss: 15.8010\n",
      "Epoch 354/500\n",
      "29/29 [==============================] - 0s 2ms/step - loss: 16.6684 - val_loss: 16.6163\n",
      "Epoch 355/500\n",
      "29/29 [==============================] - 0s 2ms/step - loss: 16.8002 - val_loss: 16.1794\n",
      "Epoch 356/500\n",
      "29/29 [==============================] - 0s 2ms/step - loss: 17.2995 - val_loss: 16.6730\n",
      "Epoch 357/500\n",
      "29/29 [==============================] - 0s 2ms/step - loss: 17.2856 - val_loss: 15.9469\n",
      "Epoch 358/500\n",
      "29/29 [==============================] - 0s 2ms/step - loss: 16.8133 - val_loss: 15.8253\n",
      "Epoch 359/500\n",
      "29/29 [==============================] - 0s 2ms/step - loss: 17.0549 - val_loss: 16.9301\n",
      "Epoch 360/500\n",
      "29/29 [==============================] - 0s 2ms/step - loss: 16.9461 - val_loss: 18.8883\n",
      "Epoch 361/500\n",
      "29/29 [==============================] - 0s 2ms/step - loss: 17.3706 - val_loss: 16.5057\n",
      "Epoch 362/500\n",
      "29/29 [==============================] - 0s 2ms/step - loss: 16.7561 - val_loss: 16.6909\n",
      "Epoch 363/500\n",
      "29/29 [==============================] - 0s 2ms/step - loss: 17.2899 - val_loss: 17.7925\n",
      "Epoch 364/500\n",
      "29/29 [==============================] - 0s 2ms/step - loss: 17.0722 - val_loss: 15.5461\n",
      "Epoch 365/500\n",
      "29/29 [==============================] - 0s 2ms/step - loss: 17.5660 - val_loss: 15.4172\n",
      "Epoch 366/500\n",
      "29/29 [==============================] - 0s 2ms/step - loss: 16.8406 - val_loss: 15.8756\n",
      "Epoch 367/500\n",
      "29/29 [==============================] - 0s 3ms/step - loss: 17.2868 - val_loss: 16.2573\n",
      "Epoch 368/500\n",
      "29/29 [==============================] - 0s 2ms/step - loss: 16.8026 - val_loss: 16.1201\n",
      "Epoch 369/500\n",
      "29/29 [==============================] - 0s 2ms/step - loss: 16.8713 - val_loss: 15.4665\n",
      "Epoch 370/500\n",
      "29/29 [==============================] - 0s 2ms/step - loss: 16.7322 - val_loss: 15.7137\n",
      "Epoch 371/500\n",
      "29/29 [==============================] - 0s 2ms/step - loss: 16.5440 - val_loss: 15.3985\n",
      "Epoch 372/500\n",
      "29/29 [==============================] - 0s 2ms/step - loss: 16.7088 - val_loss: 15.6795\n",
      "Epoch 373/500\n",
      "29/29 [==============================] - 0s 2ms/step - loss: 16.6489 - val_loss: 15.5539\n",
      "Epoch 374/500\n",
      "29/29 [==============================] - 0s 2ms/step - loss: 17.1489 - val_loss: 15.4217\n",
      "Epoch 375/500\n",
      "29/29 [==============================] - 0s 2ms/step - loss: 16.8358 - val_loss: 16.2140\n",
      "Epoch 376/500\n",
      "29/29 [==============================] - 0s 2ms/step - loss: 16.7344 - val_loss: 15.5731\n",
      "Epoch 377/500\n",
      "29/29 [==============================] - 0s 2ms/step - loss: 16.6397 - val_loss: 16.2137\n",
      "Epoch 378/500\n",
      "29/29 [==============================] - 0s 2ms/step - loss: 16.8052 - val_loss: 15.7047\n",
      "Epoch 379/500\n",
      "29/29 [==============================] - 0s 2ms/step - loss: 17.1231 - val_loss: 15.2547\n",
      "Epoch 380/500\n",
      "29/29 [==============================] - 0s 3ms/step - loss: 17.1575 - val_loss: 15.5510\n",
      "Epoch 381/500\n",
      "29/29 [==============================] - 0s 2ms/step - loss: 17.0278 - val_loss: 16.3709\n",
      "Epoch 382/500\n",
      "29/29 [==============================] - 0s 2ms/step - loss: 18.4980 - val_loss: 15.9860\n",
      "Epoch 383/500\n",
      "29/29 [==============================] - 0s 2ms/step - loss: 16.8348 - val_loss: 15.2152\n",
      "Epoch 384/500\n",
      "29/29 [==============================] - 0s 2ms/step - loss: 16.7731 - val_loss: 15.9709\n",
      "Epoch 385/500\n",
      "29/29 [==============================] - 0s 2ms/step - loss: 16.4988 - val_loss: 15.5032\n",
      "Epoch 386/500\n",
      "29/29 [==============================] - 0s 2ms/step - loss: 16.5843 - val_loss: 16.6216\n",
      "Epoch 387/500\n",
      "29/29 [==============================] - 0s 2ms/step - loss: 16.9150 - val_loss: 15.6463\n",
      "Epoch 388/500\n",
      "29/29 [==============================] - 0s 2ms/step - loss: 16.8352 - val_loss: 15.2270\n",
      "Epoch 389/500\n",
      "29/29 [==============================] - 0s 2ms/step - loss: 16.7817 - val_loss: 18.2679\n",
      "Epoch 390/500\n",
      "29/29 [==============================] - 0s 2ms/step - loss: 16.6253 - val_loss: 15.9261\n",
      "Epoch 391/500\n",
      "29/29 [==============================] - 0s 2ms/step - loss: 17.1757 - val_loss: 15.6223\n",
      "Epoch 392/500\n",
      "29/29 [==============================] - 0s 2ms/step - loss: 17.1550 - val_loss: 15.2855\n",
      "Epoch 393/500\n",
      "29/29 [==============================] - 0s 2ms/step - loss: 16.8650 - val_loss: 16.1483\n",
      "Epoch 394/500\n",
      "29/29 [==============================] - 0s 2ms/step - loss: 17.2104 - val_loss: 16.2680\n",
      "Epoch 395/500\n"
     ]
    },
    {
     "name": "stdout",
     "output_type": "stream",
     "text": [
      "29/29 [==============================] - 0s 2ms/step - loss: 16.9368 - val_loss: 16.0682\n",
      "Epoch 396/500\n",
      "29/29 [==============================] - 0s 2ms/step - loss: 16.6500 - val_loss: 15.2660\n",
      "Epoch 397/500\n",
      "29/29 [==============================] - 0s 2ms/step - loss: 16.6476 - val_loss: 15.4835\n",
      "Epoch 398/500\n",
      "29/29 [==============================] - 0s 2ms/step - loss: 16.7527 - val_loss: 17.0838\n",
      "Epoch 399/500\n",
      "29/29 [==============================] - 0s 2ms/step - loss: 16.7316 - val_loss: 15.0617\n",
      "Epoch 400/500\n",
      "29/29 [==============================] - 0s 2ms/step - loss: 16.9767 - val_loss: 16.2030\n",
      "Epoch 401/500\n",
      "29/29 [==============================] - 0s 2ms/step - loss: 16.9516 - val_loss: 15.3497\n",
      "Epoch 402/500\n",
      "29/29 [==============================] - 0s 2ms/step - loss: 16.8362 - val_loss: 15.6548\n",
      "Epoch 403/500\n",
      "29/29 [==============================] - 0s 2ms/step - loss: 16.6296 - val_loss: 15.5339\n",
      "Epoch 404/500\n",
      "29/29 [==============================] - 0s 2ms/step - loss: 16.6787 - val_loss: 15.7401\n",
      "Epoch 405/500\n",
      "29/29 [==============================] - 0s 2ms/step - loss: 16.8955 - val_loss: 15.6025\n",
      "Epoch 406/500\n",
      "29/29 [==============================] - 0s 2ms/step - loss: 16.9517 - val_loss: 15.3647\n",
      "Epoch 407/500\n",
      "29/29 [==============================] - 0s 2ms/step - loss: 16.7870 - val_loss: 15.4011\n",
      "Epoch 408/500\n",
      "29/29 [==============================] - 0s 2ms/step - loss: 16.5725 - val_loss: 16.1422\n",
      "Epoch 409/500\n",
      "29/29 [==============================] - 0s 2ms/step - loss: 16.7376 - val_loss: 15.6693\n",
      "Epoch 410/500\n",
      "29/29 [==============================] - 0s 2ms/step - loss: 16.5733 - val_loss: 16.3106\n",
      "Epoch 411/500\n",
      "29/29 [==============================] - 0s 2ms/step - loss: 16.6073 - val_loss: 15.8241\n",
      "Epoch 412/500\n",
      "29/29 [==============================] - 0s 2ms/step - loss: 16.9787 - val_loss: 15.3361\n",
      "Epoch 413/500\n",
      "29/29 [==============================] - 0s 3ms/step - loss: 16.7450 - val_loss: 15.4535\n",
      "Epoch 414/500\n",
      "29/29 [==============================] - 0s 2ms/step - loss: 16.5718 - val_loss: 15.7787\n",
      "Epoch 415/500\n",
      "29/29 [==============================] - 0s 2ms/step - loss: 16.6596 - val_loss: 16.2883\n",
      "Epoch 416/500\n",
      "29/29 [==============================] - 0s 2ms/step - loss: 16.9814 - val_loss: 16.0870\n",
      "Epoch 417/500\n",
      "29/29 [==============================] - 0s 2ms/step - loss: 17.1536 - val_loss: 17.5440\n",
      "Epoch 418/500\n",
      "29/29 [==============================] - 0s 2ms/step - loss: 16.8336 - val_loss: 15.4389\n",
      "Epoch 419/500\n",
      "29/29 [==============================] - 0s 2ms/step - loss: 16.6617 - val_loss: 15.3493\n",
      "Epoch 420/500\n",
      "29/29 [==============================] - 0s 2ms/step - loss: 16.6960 - val_loss: 15.9778\n",
      "Epoch 421/500\n",
      "29/29 [==============================] - 0s 2ms/step - loss: 16.6571 - val_loss: 15.9576\n",
      "Epoch 422/500\n",
      "29/29 [==============================] - 0s 2ms/step - loss: 17.2146 - val_loss: 16.4523\n",
      "Epoch 423/500\n",
      "29/29 [==============================] - 0s 2ms/step - loss: 17.4470 - val_loss: 16.0090\n",
      "Epoch 424/500\n",
      "29/29 [==============================] - 0s 2ms/step - loss: 16.6439 - val_loss: 15.4613\n",
      "Epoch 425/500\n",
      "29/29 [==============================] - 0s 2ms/step - loss: 17.3688 - val_loss: 15.9546\n",
      "Epoch 426/500\n",
      "29/29 [==============================] - 0s 2ms/step - loss: 16.7439 - val_loss: 15.2150\n",
      "Epoch 427/500\n",
      "29/29 [==============================] - 0s 2ms/step - loss: 16.5115 - val_loss: 15.5931\n",
      "Epoch 428/500\n",
      "29/29 [==============================] - 0s 2ms/step - loss: 16.8610 - val_loss: 15.4678\n",
      "Epoch 429/500\n",
      "29/29 [==============================] - 0s 2ms/step - loss: 16.6821 - val_loss: 15.8287\n",
      "Epoch 430/500\n",
      "29/29 [==============================] - 0s 2ms/step - loss: 16.5661 - val_loss: 15.5594\n",
      "Epoch 431/500\n",
      "29/29 [==============================] - 0s 2ms/step - loss: 17.2576 - val_loss: 16.2024\n",
      "Epoch 432/500\n",
      "29/29 [==============================] - 0s 2ms/step - loss: 16.6585 - val_loss: 16.1813\n",
      "Epoch 433/500\n",
      "29/29 [==============================] - 0s 2ms/step - loss: 16.6602 - val_loss: 16.9626\n",
      "Epoch 434/500\n",
      "29/29 [==============================] - 0s 2ms/step - loss: 16.7340 - val_loss: 16.0993\n",
      "Epoch 435/500\n",
      "29/29 [==============================] - 0s 2ms/step - loss: 16.8623 - val_loss: 15.8283\n",
      "Epoch 436/500\n",
      "29/29 [==============================] - 0s 2ms/step - loss: 17.0328 - val_loss: 15.9603\n",
      "Epoch 437/500\n",
      "29/29 [==============================] - 0s 2ms/step - loss: 16.8705 - val_loss: 15.7420\n",
      "Epoch 438/500\n",
      "29/29 [==============================] - 0s 2ms/step - loss: 17.2905 - val_loss: 16.4921\n",
      "Epoch 439/500\n",
      "29/29 [==============================] - 0s 2ms/step - loss: 16.6812 - val_loss: 16.7771\n",
      "Epoch 440/500\n",
      "29/29 [==============================] - 0s 2ms/step - loss: 17.8483 - val_loss: 18.8036\n",
      "Epoch 441/500\n",
      "29/29 [==============================] - 0s 2ms/step - loss: 17.4976 - val_loss: 15.8379\n",
      "Epoch 442/500\n",
      "29/29 [==============================] - 0s 2ms/step - loss: 17.0518 - val_loss: 15.9569\n",
      "Epoch 443/500\n",
      "29/29 [==============================] - 0s 2ms/step - loss: 17.0376 - val_loss: 16.0294\n",
      "Epoch 444/500\n",
      "29/29 [==============================] - 0s 2ms/step - loss: 16.9213 - val_loss: 15.8533\n",
      "Epoch 445/500\n",
      "29/29 [==============================] - 0s 2ms/step - loss: 17.0349 - val_loss: 15.5602\n",
      "Epoch 446/500\n",
      "29/29 [==============================] - 0s 2ms/step - loss: 16.7297 - val_loss: 16.3261\n",
      "Epoch 447/500\n",
      "29/29 [==============================] - 0s 2ms/step - loss: 17.6163 - val_loss: 15.7816\n",
      "Epoch 448/500\n",
      "29/29 [==============================] - 0s 3ms/step - loss: 16.6701 - val_loss: 16.1866\n",
      "Epoch 449/500\n",
      "29/29 [==============================] - 0s 2ms/step - loss: 16.5297 - val_loss: 15.6143\n",
      "Epoch 450/500\n",
      "29/29 [==============================] - 0s 2ms/step - loss: 17.4030 - val_loss: 15.5107\n",
      "Epoch 451/500\n",
      "29/29 [==============================] - 0s 2ms/step - loss: 16.4210 - val_loss: 15.6000\n",
      "Epoch 452/500\n",
      "29/29 [==============================] - 0s 2ms/step - loss: 16.9181 - val_loss: 16.3571\n",
      "Epoch 453/500\n",
      "29/29 [==============================] - 0s 2ms/step - loss: 16.7492 - val_loss: 16.1822\n",
      "Epoch 454/500\n",
      "29/29 [==============================] - 0s 2ms/step - loss: 16.8875 - val_loss: 18.5136\n",
      "Epoch 455/500\n",
      "29/29 [==============================] - 0s 2ms/step - loss: 17.0239 - val_loss: 15.4921\n",
      "Epoch 456/500\n",
      "29/29 [==============================] - 0s 2ms/step - loss: 16.4952 - val_loss: 15.3448\n",
      "Epoch 457/500\n",
      "29/29 [==============================] - 0s 2ms/step - loss: 18.5735 - val_loss: 16.0600\n",
      "Epoch 458/500\n",
      "29/29 [==============================] - 0s 2ms/step - loss: 17.0912 - val_loss: 15.5993\n",
      "Epoch 459/500\n",
      "29/29 [==============================] - 0s 2ms/step - loss: 17.0685 - val_loss: 15.8973\n",
      "Epoch 460/500\n",
      "29/29 [==============================] - 0s 2ms/step - loss: 17.0916 - val_loss: 15.5579\n",
      "Epoch 461/500\n",
      "29/29 [==============================] - 0s 2ms/step - loss: 17.1158 - val_loss: 15.6733\n",
      "Epoch 462/500\n",
      "29/29 [==============================] - 0s 3ms/step - loss: 17.0967 - val_loss: 15.5918\n",
      "Epoch 463/500\n",
      "29/29 [==============================] - 0s 3ms/step - loss: 17.0755 - val_loss: 15.8965\n",
      "Epoch 464/500\n",
      "29/29 [==============================] - 0s 2ms/step - loss: 16.8845 - val_loss: 16.5926\n",
      "Epoch 465/500\n",
      "29/29 [==============================] - 0s 2ms/step - loss: 16.8349 - val_loss: 15.4049\n",
      "Epoch 466/500\n",
      "29/29 [==============================] - 0s 2ms/step - loss: 16.6528 - val_loss: 15.9166\n",
      "Epoch 467/500\n",
      "29/29 [==============================] - 0s 2ms/step - loss: 17.0821 - val_loss: 15.6484\n",
      "Epoch 468/500\n",
      "29/29 [==============================] - 0s 2ms/step - loss: 16.5585 - val_loss: 15.6728\n",
      "Epoch 469/500\n",
      "29/29 [==============================] - 0s 2ms/step - loss: 16.9603 - val_loss: 17.2948\n",
      "Epoch 470/500\n",
      "29/29 [==============================] - 0s 2ms/step - loss: 16.8306 - val_loss: 16.6324\n",
      "Epoch 471/500\n",
      "29/29 [==============================] - 0s 2ms/step - loss: 17.1923 - val_loss: 16.4192\n",
      "Epoch 472/500\n",
      "29/29 [==============================] - 0s 2ms/step - loss: 17.3965 - val_loss: 15.6518\n",
      "Epoch 473/500\n",
      "29/29 [==============================] - 0s 2ms/step - loss: 17.3626 - val_loss: 15.8035\n",
      "Epoch 474/500\n"
     ]
    },
    {
     "name": "stdout",
     "output_type": "stream",
     "text": [
      "29/29 [==============================] - 0s 2ms/step - loss: 16.7485 - val_loss: 15.7492\n",
      "Epoch 475/500\n",
      "29/29 [==============================] - 0s 2ms/step - loss: 16.8598 - val_loss: 15.1686\n",
      "Epoch 476/500\n",
      "29/29 [==============================] - 0s 2ms/step - loss: 16.4673 - val_loss: 16.4682\n",
      "Epoch 477/500\n",
      "29/29 [==============================] - 0s 2ms/step - loss: 16.6194 - val_loss: 16.1634\n",
      "Epoch 478/500\n",
      "29/29 [==============================] - 0s 2ms/step - loss: 16.7888 - val_loss: 15.7393\n",
      "Epoch 479/500\n",
      "29/29 [==============================] - 0s 2ms/step - loss: 16.9653 - val_loss: 15.9401\n",
      "Epoch 480/500\n",
      "29/29 [==============================] - 0s 2ms/step - loss: 16.7190 - val_loss: 16.2347\n",
      "Epoch 481/500\n",
      "29/29 [==============================] - 0s 2ms/step - loss: 16.5263 - val_loss: 15.8655\n",
      "Epoch 482/500\n",
      "29/29 [==============================] - 0s 2ms/step - loss: 17.2962 - val_loss: 15.6989\n",
      "Epoch 483/500\n",
      "29/29 [==============================] - 0s 2ms/step - loss: 16.9772 - val_loss: 15.6779\n",
      "Epoch 484/500\n",
      "29/29 [==============================] - 0s 2ms/step - loss: 16.6831 - val_loss: 15.3515\n",
      "Epoch 485/500\n",
      "29/29 [==============================] - 0s 2ms/step - loss: 16.3750 - val_loss: 16.7986\n",
      "Epoch 486/500\n",
      "29/29 [==============================] - 0s 2ms/step - loss: 16.7773 - val_loss: 16.6555\n",
      "Epoch 487/500\n",
      "29/29 [==============================] - 0s 2ms/step - loss: 16.8568 - val_loss: 15.4030\n",
      "Epoch 488/500\n",
      "29/29 [==============================] - 0s 2ms/step - loss: 16.7210 - val_loss: 15.8319\n",
      "Epoch 489/500\n",
      "29/29 [==============================] - 0s 2ms/step - loss: 16.8863 - val_loss: 15.8213\n",
      "Epoch 490/500\n",
      "29/29 [==============================] - 0s 2ms/step - loss: 16.7355 - val_loss: 16.2174\n",
      "Epoch 491/500\n",
      "29/29 [==============================] - 0s 2ms/step - loss: 17.5929 - val_loss: 15.2689\n",
      "Epoch 492/500\n",
      "29/29 [==============================] - 0s 2ms/step - loss: 16.6549 - val_loss: 15.5786\n",
      "Epoch 493/500\n",
      "29/29 [==============================] - 0s 2ms/step - loss: 16.7818 - val_loss: 16.0538\n",
      "Epoch 494/500\n",
      "29/29 [==============================] - 0s 2ms/step - loss: 16.5536 - val_loss: 15.4917\n",
      "Epoch 495/500\n",
      "29/29 [==============================] - 0s 2ms/step - loss: 16.7097 - val_loss: 16.5593\n",
      "Epoch 496/500\n",
      "29/29 [==============================] - 0s 3ms/step - loss: 16.7284 - val_loss: 15.4795\n",
      "Epoch 497/500\n",
      "29/29 [==============================] - 0s 2ms/step - loss: 17.4046 - val_loss: 15.4493\n",
      "Epoch 498/500\n",
      "29/29 [==============================] - 0s 2ms/step - loss: 17.1537 - val_loss: 18.0886\n",
      "Epoch 499/500\n",
      "29/29 [==============================] - 0s 2ms/step - loss: 16.9021 - val_loss: 16.1369\n",
      "Epoch 500/500\n",
      "29/29 [==============================] - 0s 2ms/step - loss: 16.6609 - val_loss: 15.4529\n"
     ]
    }
   ],
   "source": [
    "history2=model2.fit(X_train, y_train, validation_split=0.2,epochs=500, batch_size=10) #verbose=0"
   ]
  },
  {
   "cell_type": "code",
   "execution_count": 116,
   "metadata": {},
   "outputs": [
    {
     "data": {
      "image/png": "[encoded data removed]",
      "text/plain": [
       "<Figure size 1008x576 with 1 Axes>"
      ]
     },
     "metadata": {},
     "output_type": "display_data"
    }
   ],
   "source": [
    "#history = model.fit(X_train, y_train, epochs=500, batch_size=10, verbose=0, validation_split=0.3)\n",
    "plt.title('Learning Curves from Neural Network 2')\n",
    "plt.xlabel('Epoch')\n",
    "plt.ylabel('Mean Squared Error')\n",
    "plt.plot(history2.history['loss'], 'r.',label='train')\n",
    "plt.plot(history2.history['val_loss'], 'b.',label='validation')\n",
    "plt.legend()\n",
    "plt.show()"
   ]
  },
  {
   "cell_type": "code",
   "execution_count": 110,
   "metadata": {},
   "outputs": [],
   "source": [
    "model2_predictions = model2.predict(X_test)"
   ]
  },
  {
   "cell_type": "code",
   "execution_count": 112,
   "metadata": {},
   "outputs": [],
   "source": [
    "model2.save('model2.h5')"
   ]
  },
  {
   "cell_type": "markdown",
   "metadata": {},
   "source": [
    "#### Comparing the two neural network models:"
   ]
  },
  {
   "cell_type": "code",
   "execution_count": 113,
   "metadata": {},
   "outputs": [
    {
     "name": "stdout",
     "output_type": "stream",
     "text": [
      "Model: \"sequential\"\n",
      "_________________________________________________________________\n",
      "Layer (type)                 Output Shape              Param #   \n",
      "=================================================================\n",
      "dense (Dense)                (None, 20)                40        \n",
      "_________________________________________________________________\n",
      "dense_1 (Dense)              (None, 60)                1260      \n",
      "_________________________________________________________________\n",
      "dense_2 (Dense)              (None, 1)                 61        \n",
      "=================================================================\n",
      "Total params: 1,361\n",
      "Trainable params: 1,361\n",
      "Non-trainable params: 0\n",
      "_________________________________________________________________\n"
     ]
    }
   ],
   "source": [
    "model.summary()"
   ]
  },
  {
   "cell_type": "code",
   "execution_count": 114,
   "metadata": {},
   "outputs": [
    {
     "name": "stdout",
     "output_type": "stream",
     "text": [
      "Model: \"sequential_1\"\n",
      "_________________________________________________________________\n",
      "Layer (type)                 Output Shape              Param #   \n",
      "=================================================================\n",
      "dense_3 (Dense)              (None, 50)                100       \n",
      "_________________________________________________________________\n",
      "dense_4 (Dense)              (None, 50)                2550      \n",
      "_________________________________________________________________\n",
      "dense_5 (Dense)              (None, 1)                 51        \n",
      "=================================================================\n",
      "Total params: 2,701\n",
      "Trainable params: 2,701\n",
      "Non-trainable params: 0\n",
      "_________________________________________________________________\n"
     ]
    }
   ],
   "source": [
    "model2.summary()"
   ]
  },
  {
   "cell_type": "markdown",
   "metadata": {},
   "source": [
    "### Saving and loading the model\n",
    "Instead of having to retrain the model each time,  it can be saved to a file using the `save()` function on the model and loaded later to make predictions using the `load_model()` function. The model is saved in H5 format, an efficient array storage format.\n",
    "For this I need  the `h5py` library. "
   ]
  },
  {
   "cell_type": "raw",
   "metadata": {},
   "source": [
    "\n",
    "from tensorflow.keras.models import load_model"
   ]
  },
  {
   "cell_type": "raw",
   "metadata": {},
   "source": [
    "model = load_model('model.h5')"
   ]
  },
  {
   "cell_type": "raw",
   "metadata": {},
   "source": [
    "model2 = load_model('model.h5')"
   ]
  },
  {
   "cell_type": "code",
   "execution_count": 115,
   "metadata": {},
   "outputs": [
    {
     "name": "stdout",
     "output_type": "stream",
     "text": [
      "[[100.05344]]\n",
      "WARNING:tensorflow:5 out of the last 14 calls to <function Model.make_predict_function.<locals>.predict_function at 0x7fd6154ee040> triggered tf.function retracing. Tracing is expensive and the excessive number of tracings could be due to (1) creating @tf.function repeatedly in a loop, (2) passing tensors with different shapes, (3) passing Python objects instead of tensors. For (1), please define your @tf.function outside of the loop. For (2), @tf.function has experimental_relax_shapes=True option that relaxes argument shapes that can avoid unnecessary retracing. For (3), please refer to https://www.tensorflow.org/tutorials/customization/performance#python_or_tensor_args and https://www.tensorflow.org/api_docs/python/tf/function for  more details.\n"
     ]
    },
    {
     "data": {
      "text/plain": [
       "array([[99.27868]], dtype=float32)"
      ]
     },
     "execution_count": 115,
     "metadata": {},
     "output_type": "execute_result"
    }
   ],
   "source": [
    "print(f\"{model.predict([24.4])}\")\n",
    "model2.predict([24.4])"
   ]
  },
  {
   "cell_type": "markdown",
   "metadata": {},
   "source": [
    "\n",
    "### Comparing Models\n",
    "*The goal is to choose a model configuration and training configuration that achieve the lowest loss and highest accuracy possible for a given dataset.* [24]\n",
    "\n",
    "The plots are a convenient way of visualising how each model performs compared to the actual data. \n",
    "There is not much difference between the 3rd and 4th order polynomial regression models apart from the speed values below 5 metres per second.\n",
    "The learning curves for the neural networks showed that the loss fell quite dramatically for the first 100 or so iterations but then it levels off and does not come down below 16 despite playing around with the parameters.\n",
    "\n",
    "The ideal loss is is zero and the ideal accuracy is 1.0 or 100%.\n"
   ]
  },
  {
   "cell_type": "code",
   "execution_count": 111,
   "metadata": {},
   "outputs": [
    {
     "name": "stdout",
     "output_type": "stream",
     "text": [
      "Evaluating the first neural network model:\n",
      "MSE: 16.334, RMSE: 4.041\n",
      "Evaluating the second neural network model:\n",
      "MSE: 16.759, RMSE: 4.094 \n"
     ]
    }
   ],
   "source": [
    "# evaluate the model\n",
    "print(\"Evaluating the first neural network model:\")\n",
    "error = model.evaluate(X_test, y_test, verbose=0)\n",
    "print('MSE: %.3f, RMSE: %.3f' % (error, np.sqrt(error)))\n",
    "print(\"Evaluating the second neural network model:\")\n",
    "error2 = model2.evaluate(X_test, y_test, verbose=0)\n",
    "print('MSE: %.3f, RMSE: %.3f ' % (error2, np.sqrt(error2)))"
   ]
  },
  {
   "cell_type": "code",
   "execution_count": 143,
   "metadata": {},
   "outputs": [
    {
     "data": {
      "image/png": "[encoded data removed]",
      "text/plain": [
       "<Figure size 1008x576 with 1 Axes>"
      ]
     },
     "metadata": {},
     "output_type": "display_data"
    }
   ],
   "source": [
    "### Plot the predictions from the models\n",
    "plt.style.use('ggplot')\n",
    "plt.plot(X_test, y_test, 'k.',label ='actual values')\n",
    "plt.plot(X_test, model_predictions,'bx', alpha=0.3,label=\"Neural Network 1\")\n",
    "plt.plot(X_test, model2_predictions,'mx',label=\"Neural Network 2\")\n",
    "plt.plot(X_test, poly3_predictions, '.g', label=\"Polynomial order 3\")\n",
    "plt.plot(X_test, poly4_predictions, 'r.', label=\"Polynomial order 4\")\n",
    "plt.xlabel(\"Wind speed\")\n",
    "plt.ylabel(\"power\")\n",
    "plt.title(\"Comparing the predictions from the machine learning models\")\n",
    "plt.legend()\n",
    "plt.show()\n"
   ]
  },
  {
   "cell_type": "markdown",
   "metadata": {},
   "source": [
    "### Look at evaluation metrics for the two models:\n",
    "Root mean squared error below.\n",
    "I will leave out one of the neural networks."
   ]
  },
  {
   "cell_type": "markdown",
   "metadata": {},
   "source": [
    "#### Polynomial Regression models"
   ]
  },
  {
   "cell_type": "code",
   "execution_count": 120,
   "metadata": {},
   "outputs": [
    {
     "name": "stdout",
     "output_type": "stream",
     "text": [
      "Evaluating the polynomial regression model with 3 degrees:\n",
      "Mean squared error: 33.32\n",
      "Coefficient of determination: 0.98\n",
      "Root Mean Squared Error: 5.77\n"
     ]
    }
   ],
   "source": [
    "print(\"Evaluating the polynomial regression model with 3 degrees:\")\n",
    "print('Mean squared error: %.2f' % mean_squared_error(y_test,poly3_predictions ))\n",
    "# The coefficient of determination: 1 is perfect prediction\n",
    "print('Coefficient of determination: %.2f' % r2_score(y_test, poly3_predictions))\n",
    "print('Root Mean Squared Error: %.2f' % np.sqrt(mean_squared_error(y_test,poly3_predictions )))"
   ]
  },
  {
   "cell_type": "code",
   "execution_count": 121,
   "metadata": {},
   "outputs": [
    {
     "name": "stdout",
     "output_type": "stream",
     "text": [
      "Evaluating the polynomial regression model with 4 degrees:\n",
      "Mean squared error: 30.80\n",
      "Coefficient of determination: 0.98\n",
      "Root Mean Squared Error: 5.55\n"
     ]
    }
   ],
   "source": [
    "print(\"Evaluating the polynomial regression model with 4 degrees:\")\n",
    "print('Mean squared error: %.2f' % mean_squared_error(y_test,poly4_predictions ))\n",
    "# The coefficient of determination: 1 is perfect prediction\n",
    "print('Coefficient of determination: %.2f' % r2_score(y_test, poly4_predictions))\n",
    "print('Root Mean Squared Error: %.2f' % np.sqrt(mean_squared_error(y_test,poly4_predictions )))"
   ]
  },
  {
   "cell_type": "markdown",
   "metadata": {},
   "source": [
    "#### Evaluate Neural Network "
   ]
  },
  {
   "cell_type": "code",
   "execution_count": 125,
   "metadata": {},
   "outputs": [
    {
     "name": "stdout",
     "output_type": "stream",
     "text": [
      "MSE: 16.334, RMSE: 4.041\n"
     ]
    }
   ],
   "source": [
    "# evaluate the model\n",
    "error = model.evaluate(X_test, y_test, verbose=0)\n",
    "print('MSE: %.3f, RMSE: %.3f' % (error, np.sqrt(error)))"
   ]
  },
  {
   "cell_type": "code",
   "execution_count": 127,
   "metadata": {
    "scrolled": true
   },
   "outputs": [
    {
     "name": "stdout",
     "output_type": "stream",
     "text": [
      "MSE: 16.759, RMSE: 4.094 \n"
     ]
    }
   ],
   "source": [
    "# evaluate the model2\n",
    "error = model2.evaluate(X_test, y_test, verbose=0)\n",
    "print('MSE: %.3f, RMSE: %.3f ' % (error, np.sqrt(error)))"
   ]
  },
  {
   "cell_type": "code",
   "execution_count": 126,
   "metadata": {},
   "outputs": [
    {
     "name": "stdout",
     "output_type": "stream",
     "text": [
      "Train: 16.214, Test: 16.759\n"
     ]
    }
   ],
   "source": [
    "train_mse2 = model2.evaluate(X_train, y_train, verbose=0)\n",
    "test_mse2 = model2.evaluate(X_test, y_test, verbose=0)\n",
    "print('Train: %.3f, Test: %.3f' % (train_mse2, test_mse2))"
   ]
  },
  {
   "cell_type": "code",
   "execution_count": null,
   "metadata": {},
   "outputs": [],
   "source": [
    "import tensorflow.keras as kr\n",
    "from tensorflow.keras.models import load_model\n",
    "model = load_model('model.h5')\n",
    "model2=load_model('model2.h5')"
   ]
  },
  {
   "cell_type": "code",
   "execution_count": null,
   "metadata": {},
   "outputs": [],
   "source": [
    "import pickle\n",
    "import joblib\n",
    "# In the specific case of scikit-learn, it may be better to use joblib’s replacement of pickle\n",
    "#from joblib import dump, load\n",
    "\n",
    "#model_poly3 = joblib.load('model_poly3.joblib')\n",
    "mod_poly3 = joblib.load('model_poly3.pkl')"
   ]
  },
  {
   "cell_type": "code",
   "execution_count": null,
   "metadata": {},
   "outputs": [],
   "source": [
    "mod_poly4 = joblib.load('model_poly4.joblib')"
   ]
  },
  {
   "cell_type": "code",
   "execution_count": null,
   "metadata": {},
   "outputs": [],
   "source": [
    "win12 = np.array([[12, 12**2, 12**3, 12**4]])\n",
    "#win12 =np.array(win12)\n",
    "mod_poly4.predict(win12)"
   ]
  },
  {
   "cell_type": "code",
   "execution_count": null,
   "metadata": {},
   "outputs": [],
   "source": [
    "#model.predict([12])\n",
    "#model2.predict([24.4])[0][0]"
   ]
  },
  {
   "cell_type": "markdown",
   "metadata": {},
   "source": [
    "\n",
    "### Summary and Conclusions\n",
    "\n",
    "Overall this has been an interesting project with which to learn about machine learning algorithms such as artifical neural networks. I think there are limitations though in how accurately we can predict the power values from the wind speed values given the relatively small size of the dataset and the single input feature. In addition there is a lack of detail around the source of the dataset and what exactly the measurements represent.\n",
    "The first time I looked at the data I wondered if the data values represented measurements over a particular period of time and if the lower values of power might be related to the time taken for the turbines to get up and running before they could generate any power. However looking at the raw data in the csv file, the rows are ordered by ascending values of speed column with the corresponding power values in the other column.\n",
    "\n",
    "\n",
    "However given this it is still very impressive to see how in a few lines of code a machine learning model can learn to perform such as task by analysing some training examples. All the models developed managed to resemble the general shape of the curve of the data with the artificial neural networks  performing better than the linear regression models.\n",
    "\n",
    "Creating a better artificial neural network does seem to involve quite a bit of trial and error in terms of selecting the number of neurons, the number of layers, the activation functions and setting the weights and bias parameters. I did research some of these parameters for this project that will be useful as a starting point for any future projects in this area but there is a lot more to learn!\n",
    "\n",
    "The various machine learning models developed in this project do seem to under predict the power values for the lower values of speed. This is as I expected earlier given that when wind speeds are too low to generate power, the stored power is often used later. The models also extrapolate a value for wind speeds beyond the cut-off rate. \n",
    "I excluded some observations from the dataset where the power values were zero for valid reasons such as the turbines being powered off for safety reasons. I assumed that some of the zero values were related to maintenance reasons and excluded these values as outlined. All other observations with zero power values were included as they provide valid information. I think it make sense not to be trying to predict values for a wind turbine that is turned off or not working. Clever and all as the neural networks are they do not know this and therefore it is important for the user to have an understanding of the dataset to avoid making nonsense predictions.\n",
    "\n",
    "I did experiment with leaving all the observations in, however for each model the power values at the higher wind speed end of the curve were underestimated. \n",
    "The neural networks performed better in each case than the polynomial regression models. The 4th degree polynomial did perform better than the 3rd degree polynomial at the lower wind speed end but otherwise the models performed almost the same. The second neural network had an extra layer added in and more neurons in each layer. This did increase the processing time. The improvement in accuracy was small. \n",
    "The learning curves for the neural networks showed that the loss fell quite dramatically for the first 100 or so iterations but then it levels off and does not come down below 16 despite playing around with the parameters. Overall the neural network models ended up being the same and cannot be distinguished when plotted together.\n",
    "Having too many neurons and too many layers might not translate well to a larger dataset. However once a model is perfected it can be saved for later use. I did find that running predictions for individual values in this notebook did generate some tensorflow warning messages. \n",
    "\n",
    "The neural networks performed better overall than the linear regression models. "
   ]
  },
  {
   "cell_type": "markdown",
   "metadata": {},
   "source": [
    "# References\n",
    "- [1] Dataset: [power production dataset](https://raw.githubusercontent.com/ianmcloughlin/2020A-machstat-project/master/dataset/powerproduction.csv) from Ian McLoughlin Github\n",
    "\n",
    "- [2] Website: [The Irish Wind Energy Association (IWEA)](https://www.iwea.com/about-us/about-us)\n",
    "- [3] Website: [Smart grid dashboard](http://smartgriddashboard.eirgrid.com/#all/about/wind\n",
    "- [4] Website: [Wind Energy Basics](https://windeurope.org/about-wind/wind-basics/)\n",
    "- [5] Website: [how to calculate power output of wind](https://www.windpowerengineering.com/calculate-wind-power-output/)\n",
    "- [6] Website [calculating energy production from weather forecast in Python](https://medium.com/planet-os/calculating-energy-production-from-weather-forecast-in-python-3c990047daa)\n",
    "- [7] Research Article: [Wind Turbine Power Curve Modeling Using\n",
    "Advanced Parametric and Nonparametric Methods](http://ieeexplore.ieee.org/iel7/5165391/5433168/06894235.pdf) link provided by [6]\n",
    "- [8] [Using_machine_learning_to_predict_wind_turbine_power_output](https://www.researchgate.net/publication/257748412_Using_machine_learning_to_predict_wind_turbine_power_output)\n",
    "- [9] Website: [Wikipedia](https://en.wikipedia.org/wiki/Wind_turbine_design)\n",
    "- [10] Website: https://www.wind-watch.org/faq-technology.php\n",
    "\n",
    "- Using machine learning to predict wind turbine power output by A Clifton, L Kilcher, J K Lundquist and P Fleming, ENVIRONMENTAL RESEARCH LETTERS, doi:10.1088/1748-9326/8/2/024009, Environ. Res. Lett. 8 (2013) 024009 (8pp)\n",
    "\n",
    "- Wind Turbine Power Curve Modeling Using Advanced Parametric and Nonparametric Methods by Shahab Shokrzadeh, Student Member, IEEE, Mohammad Jafari Jozani, and Eric Bibeau. IEEE TRANSACTIONS ON SUSTAINABLE ENERGY, VOL. 5, NO. 4, OCTOBER 2014.  Available from https://ieeexplore.ieee.org/stamp/stamp.jsp?arnumber=6894235\n",
    "\n",
    "### Machine learning:\n",
    "- [11]Website: [The Importance of Data Splitting](https://realpython.com/train-test-split-python-data/)\n",
    "- [12] Website [Polynomial Regressions - extending linear models](https://scikit-learn.org/stable/modules/linear_model.html#polynomial-regression-extending-linear-models-with-basis-functions)\n",
    "- [13][Polynomial Regression with Scikit learn: What You Should Know](https://towardsdatascience.com/polynomial-regression-with-scikit-learn-what-you-should-know-bed9d3296f2)\n",
    "- [14][How to fit a polynomial curve to data using scikit-learn](https://stackoverflow.com/questions/32660231/how-to-fit-a-polynomial-curve-to-data-using-scikit-learn/32660433)\n",
    "- [15][Python Implementation of Polynomial Regression](https://www.geeksforgeeks.org/python-implementation-of-polynomial-regression/)\n",
    "- [16][sklearn.metrics.r2_score](https://scikit-learn.org/stable/modules/generated/sklearn.metrics.r2_score.html)\n",
    "- [17][Artificial Neural Networks](https://www.investopedia.com/terms/a/artificial-neural-networks-ann.asp#:~:text=An%20artificial%20neural%20network%20(ANN)%20is%20the%20piece%20of%20a,by%20human%20or%20statistical%20standards.)\n",
    "- [18][Mit News](https://news.mit.edu/2017/explained-neural-networks-deep-learning-0414)\n",
    "- [19][Neural Networks Concepts](https://ml-cheatsheet.readthedocs.io/en/latest/nn_concepts.html)\n",
    "- [20][Tensorflow Tutorial](https://machinelearningmastery.com/tensorflow-tutorial-deep-learning-with-tf-keras/)\n",
    "\n",
    "\n",
    "- [21][Tensorflow/tf/keras](https://www.tensorflow.org/api_docs/python/tf/keras)\n",
    "\n",
    "- [22] [Tensorflow](https://www.tensorflow.org/api_docs/python/tf/keras/optimizers/Adam]\n",
    "- Website: [Machine Learning Mastery](https://machinelearningmastery.com/supervised-and-unsupervised-machine-learning-algorithms/)\n",
    "- [23][Activation functions](https://medium.com/the-theory-of-everything/understanding-activation-functions-in-neural-networks-9491262884e0)\n",
    "- [24][]( https://machinelearningmastery.com/tutorial-first-neural-network-python-keras/)\n",
    "\n",
    "- [Sequential Mode](https://www.tensorflow.org/guide/keras/sequential_mode)\n",
    "-  [the importance of batch sizes](https://machinelearningmastery.com/how-to-control-the-speed-and-stability-of-training-neural-networks-with-gradient-descent-batch-size/)\n",
    "\n",
    "-  [Data Leakage  in Machine Learning](https://machinelearningmastery.com/data-leakage-machine-learning/)\n",
    "- [Normalisation before or after splitting the data into training and test sets](https://datascience.stackexchange.com/questions/54908/data-normalization-before-or-after-train-test-split#:~:text=3%20Answers&text=Normalization%20across%20instances%20should%20be,data%20from%20the%20training%20set.&text=Using%20any%20information%20coming%20from,the%20evaluation%20of%20the%20performance.)\n",
    "- [Neural Networks](https://www.investopedia.com/terms/n/neuralnetwork.asp#:~:text=A%20neural%20network%20is%20a,organic%20or%20artificial%20in%20nature.)\n",
    "- [Artificial Neural Network](https://en.wikipedia.org/wiki/Artificial_neural_network)\n",
    "\n",
    "- https://news.mit.edu/2017/explained-neural-networks-deep-learning-0414\n",
    "\n",
    "- https://ml-cheatsheet.readthedocs.io/en/latest/index.html\n",
    "\n",
    "### Other wind turbine research:\n",
    "- [sem-o.com](https://www.sem-o.com/links/) some more links on \n",
    "- [WindEurope](https://windeurope.org/data-and-analysis/)\n",
    "- http://www.eirgridgroup.com/how-the-grid-works/renewables/\n",
    "- https://www.wind-watch.org/faq-technology.php\n",
    "- https://www.sciencedirect.com/topics/engineering/rated-wind-speed \n",
    "\n",
    "\n",
    "\n",
    "- Website: [Machine Learning: Polynomial Regression with Python](https://towardsdatascience.com/machine-learning-polynomial-regression-with-python-5328e4e8a386)\n",
    "\n",
    "\n",
    "- Website: [Linear Regression Example](https://scikit-learn.org/stable/auto_examples/linear_model/plot_ols.html#sphx-glr-auto-examples-linear-model-plot-ols-py)\n",
    "\n",
    "- Website: [Polynomial Regression with Python](https://towardsdatascience.com/machine-learning-polynomial-regression-with-python-5328e4e8a386)\n",
    "- Website: [Python | Implementation of Polynomial Regression](https://www.geeksforgeeks.org/python-implementation-of-polynomial-regression/)\n",
    "\n",
    "- Website: [Polynomial Regression in Python](https://medium.com/ai-in-plain-english/implementing-polynomial-regression-in-python-d9aedf520d56)\n",
    "\n",
    "- Video: [Understanding Polynomial Regression](https://www.youtube.com/watch?v=UedwCvFGlvU) by \n",
    "Mazen Ahmed\n",
    "\n",
    "- Website: [What does RMSE really mean?](https://towardsdatascience.com/what-does-rmse-really-mean-806b65f2e48e) Blog article by James Moody\n",
    "\n",
    "- Website: [Batch Normalization Tensorflow Keras Example](https://towardsdatascience.com/backpropagation-and-batch-normalization-in-feedforward-neural-networks-explained-901fd6e5393e)\n",
    "\n",
    "- Website: [How to normalize features in TensorFlow](https://towardsdatascience.com/how-to-normalize-features-in-tensorflow-5b7b0e3a4177)\n",
    "- Website: [Data Leakage in Machine Learning](https://machinelearningmastery.com/data-leakage-machine-learning/)\n",
    "- Website: [Tutorial on First Neural Network with Python Keras](https://machinelearningmastery.com/tutorial-first-neural-network-python-keras/)\n",
    "- Website: [How to use Data Scaling Improve Deep Learning Model Stability and Performance](https://machinelearningmastery.com/how-to-improve-neural-network-stability-and-modeling-performance-with-data-scaling/)\n",
    "- Website: [TensorFlow 2 Tutorial: Get Started in Deep Learning With tf.keras](https://machinelearningmastery.com/tensorflow-tutorial-deep-learning-with-tf-keras/)\n",
    "\n",
    "- Website: [Tensorflow](https://www.tensorflow.org/api_docs/python/tf/data/Dataset)\n",
    "- Website: [Install TensorFlow with pip](https://www.tensorflow.org/install/pip)\n",
    "\n",
    "- Website: [Keras Training Guide](https://keras.io/guides/training_with_built_in_methods/)\n",
    "\n",
    "- Website: [pandas.DataFrame.drop](https://pandas.pydata.org/pandas-docs/stable/reference/api/pandas.DataFrame.drop.html)\n",
    "\n",
    "- Website: [pandas.Dataframe.drop](https://pandas.pydata.org/pandas-docs/stable/reference/api/pandas.DataFrame.drop.html\n",
    " https://thispointer.com/python-pandas-how-to-drop-rows-in-dataframe-by-conditions-on-column-values/)\n",
    " \n",
    "- Website: [Neural Network](https://www.computing.dcu.ie/~humphrys/Notes/Neural/sigmoid.html)\n",
    "\n",
    "https://towardsdatascience.com/making-plots-in-jupyter-notebook-beautiful-more-meaningful-23c8a35c0d5d"
   ]
  },
  {
   "cell_type": "markdown",
   "metadata": {},
   "source": [
    "### End"
   ]
  },
  {
   "cell_type": "markdown",
   "metadata": {},
   "source": [
    "\n",
    "### Normalisation / Scaling the data or not!\n",
    "The [Introduction to Keras for Engineers](https://keras.io/getting_started/intro_to_keras_for_engineers/) does suggest that data preprocessing should be done such as feature normalisation.\n",
    "- Do preprocessing such as feature normalisation.\n",
    "The data consists of two columns of data and thats it. The only preprocesing that is applicable here is to rescale the data to small values as in general the input values to a neural network should be close to zero. According to the tutorial  the data should either be rescaled to have zero-mean and unit-variance or the data in the `[0.1]` range. The preprocessing should ideally be done as part of the model to make it more portable in production. In Keras the preprocessing is done via preprocessing layers which can be included directly into your model either during training or after training. Some preprocessing layers have a state, in this case normalization holds the mean and variance of the features and can be obtained by calling `layer.adapt(data)` on a sample or all of the training data.\n",
    "\n",
    "CSV data needs to be parsed, with numerical features converted to floating point tensors and categorical features indexed and converted to integer tensors. Then each feature typically needs to be normalized to zero-mean and unit-variance.\n",
    "\n",
    "Many examples in blogs only scale the inputs or the target variable but in this dataset we only have a single input variable and a single target variable. Without scaling the model does quite a good job considering all it has are two single columns of numbers. The wind speed seems to be uniformly distributed. I might just note it here but in the final model go without scaling.\n",
    "The model can be updated to scale the target variable. \n",
    ">Reducing the scale of the target variable will, in turn, reduce the size of the gradient used to update the weights and result in a more stable model and training process. [Data Scaling to improve the network](https://machinelearningmastery.com/how-to-improve-neural-network-stability-and-modeling-performance-with-data-scaling/)[123345]\n",
    "\n",
    "According to this article, a good rule of thumb is that input variables should be small values, probably in the range of 0-1 or standardized with a zero mean and a standard deviation of one.\n",
    ">If the distribution of the quantity is normal, then it should be standardized, otherwise the data should be normalized.\n",
    "If in doubt, normalise the input sequence.\n",
    "\n",
    ">The output variable is the variable predicted by the network. If the distribution of the value is normal, then you can standardize the output variable. Otherwise, the output variable can be normalized.\n",
    "\n",
    "Normalization is a rescaling of the data from the original range so that all values are within the range of 0 and 1. \n",
    "Scikit-learn's preprocessing module can be used to scale the data.\n",
    ">Standardization of datasets is a common requirement for many machine learning estimators implemented in scikit-learn; they might behave badly if the individual features do not more or less look like standard normally distributed data: Gaussian with zero mean and unit variance. In practice we often ignore the shape of the distribution and just transform the data to center it by removing the mean value of each feature, then scale it by dividing non-constant features by their standard deviation.\n",
    "https://scikit-learn.org/stable/modules/preprocessing.html#preprocessing\n",
    "\n",
    "The data can be scaled to lie between a given minimum and maximum value such as between zero and one or so that the maximum absolute value of each feature is scaled to unit size. \n",
    "\n",
    "Normalization should be done after splitting the data into train and test/validation to avoid data leakage. Data leakage is where information from outside the dataset is used to train the model.\n",
    "Normalization across instances should be done after splitting the data between training and test set, using only the data from the training set. This is because the test set plays the role of fresh unseen data, so it's not supposed to be accessible at the training stage. Using any information coming from the test set before or during training is a potential bias in the evaluation of the performance.\n",
    "\n",
    "As yet I am not fully sure whether I should scale outputs as well as inputs but I think I should as we only have a single input feature to train the model on and predict the outputs.\n",
    "\n",
    "Continuing with following this blog:\n",
    "https://machinelearningmastery.com/how-to-improve-neural-network-stability-and-modeling-performance-with-data-scaling/\n",
    "\n",
    ">It is best practice is to estimate the mean and standard deviation of the training dataset and use these variables to scale the train and test dataset. This is to avoid any data leakage during the model evaluation process.\n",
    ">The scikit-learn transformers expect input data to be matrices of rows and columns, therefore the 1D arrays for the target variable will have to be reshaped into 2D arrays prior to the transforms.\n",
    "\n"
   ]
  }
 ],
 "metadata": {
  "kernelspec": {
   "display_name": "Python 3",
   "language": "python",
   "name": "python3"
  },
  "language_info": {
   "codemirror_mode": {
    "name": "ipython",
    "version": 3
   },
   "file_extension": ".py",
   "mimetype": "text/x-python",
   "name": "python",
   "nbconvert_exporter": "python",
   "pygments_lexer": "ipython3",
   "version": "3.8.2"
  }
 },
 "nbformat": 4,
 "nbformat_minor": 4
}
