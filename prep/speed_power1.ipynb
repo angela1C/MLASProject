{
 "cells": [
  {
   "cell_type": "markdown",
   "metadata": {},
   "source": [
    "# Machine Learning and Statistics Project 2020\n",
    "Author Angela Carpenter\n",
    "- [power production dataset](https://raw.githubusercontent.com/ianmcloughlin/2020A-machstat-project/master/dataset/powerproduction.csv) from Ian McLoughlin Github"
   ]
  },
  {
   "cell_type": "markdown",
   "metadata": {},
   "source": [
    "# Table of Contents\n",
    "- Project Instructions / Overview\n",
    "- Project plan\n",
    "- About this Notebook\n",
    "- Python Libraries\n",
    "- Downloading and running the code\n",
    "- Loading / Reading in the dataset\n",
    "- Exploring the dataset\n",
    "- Describing the dataset\n",
    "- Summary Statistics\n",
    "- Visualising the dataset using plots\n",
    "- Summary and Conclusions\n",
    "- References\n",
    "\n",
    "\n",
    "## Project Instructions\n",
    "\n",
    "In this project you must create a web service that uses machine learning to make pre- dictions based on the data set powerproduction available on Moodle. The goal is to produce a model that accurately predicts wind turbine power output from wind speed values, as in the data set. You must then develop a web service that will respond with predicted power values based on speed values sent as HTTP requests. Your submission must be in the form of a git repository containing, at a minimum, the following items.\n",
    "1. Jupyter notebook that trains a model using the data set. In the notebook you should explain your model and give an analysis of its accuracy.\n",
    "2. Python script that runs a web service based on the model, as above.\n",
    "3. Dockerfile to build and run the web service in a container.\n",
    "4. Standard items in a git repository such as a README.\n",
    "To enhance your submission, you might consider developing and comparing more than one model. Rest assured, all the above concepts will be explored in lecture videos and other materials in the coming semester.\n",
    "\n",
    "## Project Plan\n",
    "I will add to this as I go from step to step.\n",
    "\n",
    "- Explore the dataset first using descriptive statistics and some plots. I think the plots should come first.\n",
    "- Look at the distribution of the data\n",
    "- Check for missing value and outliers\n",
    "- Looking at any visual relationship between wind speed and turbine power output.\n",
    "- Look up some background information on wind turbines\n",
    "- Clean dataset if necessary and redo statistics\n",
    "- some machine learning!\n"
   ]
  },
  {
   "cell_type": "code",
   "execution_count": 1,
   "metadata": {},
   "outputs": [],
   "source": [
    "# first importing the following libraries\n",
    "import numpy as np\n",
    "import pandas as pd  \n",
    "import matplotlib.pyplot as plt \n",
    "import seaborn as sns\n",
    "\n",
    "import csv"
   ]
  },
  {
   "cell_type": "code",
   "execution_count": 2,
   "metadata": {},
   "outputs": [],
   "source": [
    "# save link to data and reference the link \n",
    "csv_url = 'https://raw.githubusercontent.com/ianmcloughlin/2020A-machstat-project/master/dataset/powerproduction.csv'\n",
    "# read the csv data into a pandas dataframe\n",
    "df = pd.read_csv(csv_url)\n",
    "df\n",
    "# write the dataframe to csv\n",
    "df.to_csv('df.csv')"
   ]
  },
  {
   "cell_type": "code",
   "execution_count": 3,
   "metadata": {},
   "outputs": [
    {
     "name": "stdout",
     "output_type": "stream",
     "text": [
      "The first few rows in the dataset: \n",
      "\n",
      "    speed  power\n",
      "0  0.000    0.0\n",
      "1  0.125    0.0\n",
      "2  0.150    0.0\n",
      "\n",
      " The final few rows in the dataset \n",
      "       speed  power\n",
      "497  24.875    0.0\n",
      "498  24.950    0.0\n",
      "499  25.000    0.0\n"
     ]
    }
   ],
   "source": [
    "print(\"The first few rows in the dataset: \\n\\n\", df.head(3))  # look at the top 5 rows of the DataFrame df\n",
    "print('\\n The final few rows in the dataset \\n',df.tail(3)) # Look at the bottom 5 rows of the DataFrame"
   ]
  },
  {
   "cell_type": "code",
   "execution_count": 4,
   "metadata": {},
   "outputs": [
    {
     "name": "stdout",
     "output_type": "stream",
     "text": [
      "The index of the DataFrame:  RangeIndex(start=0, stop=500, step=1)\n",
      "The dtypes in the dataframe are:\n",
      "\n",
      "speed    float64\n",
      "power    float64\n",
      "dtype: object\n"
     ]
    }
   ],
   "source": [
    "print(\"The index of the DataFrame: \", df.index) # the index or row labels of the DataFrame\n",
    "print(\"The dtypes in the dataframe are:\", end='\\n\\n')\n",
    "\n",
    "print(df.dtypes) # the data types attributes for each column in df"
   ]
  },
  {
   "cell_type": "markdown",
   "metadata": {},
   "source": [
    "### Null values\n",
    "Here I check for null values. The `isnull` function returns no null values, yet there does appear to be null values when you look at the head and tail of the dataset so I need to investigate this further. \n",
    "I think my problem is that zero values are not Null values in Python. Null values are not zero in Python.(https://realpython.com/courses/python-none/)\n",
    "\n",
    "https://stackoverflow.com/questions/50767452/check-if-dataframe-has-a-zero-element"
   ]
  },
  {
   "cell_type": "code",
   "execution_count": 5,
   "metadata": {},
   "outputs": [
    {
     "name": "stdout",
     "output_type": "stream",
     "text": [
      "speed    0\n",
      "power    0\n",
      "dtype: int64\n"
     ]
    },
    {
     "data": {
      "text/plain": [
       "speed    500\n",
       "power    500\n",
       "dtype: int64"
      ]
     },
     "execution_count": 5,
     "metadata": {},
     "output_type": "execute_result"
    }
   ],
   "source": [
    "print(df.isnull().sum())\n",
    "df.notnull().sum()"
   ]
  },
  {
   "cell_type": "code",
   "execution_count": 6,
   "metadata": {},
   "outputs": [
    {
     "data": {
      "text/plain": [
       "False"
      ]
     },
     "execution_count": 6,
     "metadata": {},
     "output_type": "execute_result"
    }
   ],
   "source": [
    "df.isnull().values.any()"
   ]
  },
  {
   "cell_type": "markdown",
   "metadata": {},
   "source": [
    "### Zero values\n",
    "There are no null values in the dataset but there are some zero values. While there is only one zero value for the `speed` variable, there is a whopping 49 zero values for the `power` variable!\n",
    "I looked at some plots below but will bring them up here.\n",
    "Look at the distribution of values to see if the zero values are very unusual compared to the remaining 451 values for the power variable. I don't know much yet about wind turbines but I would have thought that there should be more smaller values for wind speed than power. For instance on a very dry still day, maybe there would be very little or even no speed at all in the wind? However the dataset has only 1 zero value for speed.\n",
    "\n",
    "From the project description, the power variable represents wind turbine power output and the speed values are wind speed values.\n"
   ]
  },
  {
   "cell_type": "code",
   "execution_count": 7,
   "metadata": {},
   "outputs": [
    {
     "data": {
      "text/plain": [
       "0.08"
      ]
     },
     "execution_count": 7,
     "metadata": {},
     "output_type": "execute_result"
    }
   ],
   "source": [
    "#The proportion of zero values \n",
    "40/500"
   ]
  },
  {
   "cell_type": "markdown",
   "metadata": {},
   "source": [
    "### Visualise the data\n",
    "I will visualise the data here before looking at the summary statistics below.\n",
    "The histogram of wind speed looks quite uniform when the default number of bins are used, spread across speeds from almost zero to 25. (I need to see what exactly is being measured here, how wind speed is represented).\n",
    "The wind turbine power values seem to have a peak at very low values. This is not surprising given the large number of zero power values in this dataset. Almost 10% of the power values supplied are zero.  There is another peak around values of 95-100. Most of the remaining power values fall between 18 and 85.\n",
    "A scatter plot can show if there is any visible relationship between the two variables. For \n"
   ]
  },
  {
   "cell_type": "markdown",
   "metadata": {},
   "source": [
    "### Visualise the relationship between wind speed and wind turbine power:\n",
    "The scatter plot below a linear relationship between wind speed values and power for mid-range speed values only.\n",
    "- When wind speed increases from very low levels, the power does not increase by much or at all. \n",
    "- The wind turbine power values does start to increase with the wind speed from wind speed values of about 5 to about 18/19. \n",
    "- From wind speeds of 20 onwards to about 25 the power values increase no further and seem to level off. \n",
    "\n",
    "Before I go and look up some info on wind turbines, I can make some guesses here.\n",
    "- Perhaps at very low levels of wind speed, there is simply not enough speed to get any level of movement going and at a particular speed level the power maxes out, that there is simply no way for the turbine to generate more power no matter how fast the wind becomes after a certain level. \n",
    "- Maybe once the turbine is started up from zero it will take some time before any measurable units of power can be generated, and once a sufficient level of wind speed is reached, it takes little change in speed to keep the turbine going and small reductions in speed would have little impact on the turbine once it is in motion.\n",
    "- Maybe some of the power being generated is actually being consumed by the turbine. Maybe after a while once the turbine gets going, it requires little energy to continue.\n",
    "\n",
    "The goal of this project is to produce a model that accurately predicts wind turbine power output from wind speed values, as in the data set. I am wondering if the data values in this dataset represent measurements over a particular period(s) of time, that some datapoints represent represent earlier or later measurements over a certain timeframe. There is no downward trend in the scatter plot representing values of power output falling. Perhaps the turbines simply get switched off and power values drop immediately to zero.  Lower values of power could represent the time taken for the wind turbine to start up and get going. The linear trend in the middle range representing the increasing power as wind speeds increase and the peak and plateau representing the maximum values that the turbines are capable of generating. My next step is to do a little research into wind turbines."
   ]
  },
  {
   "cell_type": "code",
   "execution_count": 8,
   "metadata": {},
   "outputs": [
    {
     "data": {
      "image/png": "[encoded data removed]",
      "text/plain": [
       "<Figure size 432x288 with 1 Axes>"
      ]
     },
     "metadata": {
      "needs_background": "light"
     },
     "output_type": "display_data"
    }
   ],
   "source": [
    "# create the plot\n",
    "sns.scatterplot(x=df['speed'],y=df['power'])\n",
    "# add title\n",
    "plt.title(\"Scatter plot of Speed and Power\");"
   ]
  },
  {
   "cell_type": "code",
   "execution_count": 9,
   "metadata": {},
   "outputs": [
    {
     "data": {
      "text/plain": [
       "True"
      ]
     },
     "execution_count": 9,
     "metadata": {},
     "output_type": "execute_result"
    }
   ],
   "source": [
    "# https://stackoverflow.com/questions/50767452/check-if-dataframe-has-a-zero-element\n",
    "0 in df.values\n",
    "df.isin([0]).any().any()"
   ]
  },
  {
   "cell_type": "code",
   "execution_count": 10,
   "metadata": {},
   "outputs": [
    {
     "data": {
      "text/plain": [
       "speed     1\n",
       "power    49\n",
       "dtype: int64"
      ]
     },
     "execution_count": 10,
     "metadata": {},
     "output_type": "execute_result"
    }
   ],
   "source": [
    "#https://stackoverflow.com/questions/29229600/counting-number-of-zeros-per-row-by-pandas-dataframe\n",
    "\n",
    "df.isin([0]).sum()"
   ]
  },
  {
   "cell_type": "code",
   "execution_count": 11,
   "metadata": {},
   "outputs": [
    {
     "data": {
      "text/html": [
       "<div>\n",
       "<style scoped>\n",
       "    .dataframe tbody tr th:only-of-type {\n",
       "        vertical-align: middle;\n",
       "    }\n",
       "\n",
       "    .dataframe tbody tr th {\n",
       "        vertical-align: top;\n",
       "    }\n",
       "\n",
       "    .dataframe thead th {\n",
       "        text-align: right;\n",
       "    }\n",
       "</style>\n",
       "<table border=\"1\" class=\"dataframe\">\n",
       "  <thead>\n",
       "    <tr style=\"text-align: right;\">\n",
       "      <th></th>\n",
       "      <th>speed</th>\n",
       "      <th>power</th>\n",
       "    </tr>\n",
       "  </thead>\n",
       "  <tbody>\n",
       "    <tr>\n",
       "      <th>0</th>\n",
       "      <td>0.000</td>\n",
       "      <td>0.0</td>\n",
       "    </tr>\n",
       "    <tr>\n",
       "      <th>1</th>\n",
       "      <td>0.125</td>\n",
       "      <td>0.0</td>\n",
       "    </tr>\n",
       "    <tr>\n",
       "      <th>2</th>\n",
       "      <td>0.150</td>\n",
       "      <td>0.0</td>\n",
       "    </tr>\n",
       "    <tr>\n",
       "      <th>3</th>\n",
       "      <td>0.225</td>\n",
       "      <td>0.0</td>\n",
       "    </tr>\n",
       "    <tr>\n",
       "      <th>4</th>\n",
       "      <td>0.275</td>\n",
       "      <td>0.0</td>\n",
       "    </tr>\n",
       "  </tbody>\n",
       "</table>\n",
       "</div>"
      ],
      "text/plain": [
       "   speed  power\n",
       "0  0.000    0.0\n",
       "1  0.125    0.0\n",
       "2  0.150    0.0\n",
       "3  0.225    0.0\n",
       "4  0.275    0.0"
      ]
     },
     "execution_count": 11,
     "metadata": {},
     "output_type": "execute_result"
    }
   ],
   "source": [
    "df.sort_values(by='speed').head()"
   ]
  },
  {
   "cell_type": "code",
   "execution_count": 12,
   "metadata": {},
   "outputs": [
    {
     "data": {
      "text/html": [
       "<div>\n",
       "<style scoped>\n",
       "    .dataframe tbody tr th:only-of-type {\n",
       "        vertical-align: middle;\n",
       "    }\n",
       "\n",
       "    .dataframe tbody tr th {\n",
       "        vertical-align: top;\n",
       "    }\n",
       "\n",
       "    .dataframe thead th {\n",
       "        text-align: right;\n",
       "    }\n",
       "</style>\n",
       "<table border=\"1\" class=\"dataframe\">\n",
       "  <thead>\n",
       "    <tr style=\"text-align: right;\">\n",
       "      <th></th>\n",
       "      <th>speed</th>\n",
       "      <th>power</th>\n",
       "    </tr>\n",
       "  </thead>\n",
       "  <tbody>\n",
       "    <tr>\n",
       "      <th>499</th>\n",
       "      <td>25.000</td>\n",
       "      <td>0.0</td>\n",
       "    </tr>\n",
       "    <tr>\n",
       "      <th>498</th>\n",
       "      <td>24.950</td>\n",
       "      <td>0.0</td>\n",
       "    </tr>\n",
       "    <tr>\n",
       "      <th>497</th>\n",
       "      <td>24.875</td>\n",
       "      <td>0.0</td>\n",
       "    </tr>\n",
       "    <tr>\n",
       "      <th>496</th>\n",
       "      <td>24.850</td>\n",
       "      <td>0.0</td>\n",
       "    </tr>\n",
       "    <tr>\n",
       "      <th>495</th>\n",
       "      <td>24.775</td>\n",
       "      <td>0.0</td>\n",
       "    </tr>\n",
       "  </tbody>\n",
       "</table>\n",
       "</div>"
      ],
      "text/plain": [
       "      speed  power\n",
       "499  25.000    0.0\n",
       "498  24.950    0.0\n",
       "497  24.875    0.0\n",
       "496  24.850    0.0\n",
       "495  24.775    0.0"
      ]
     },
     "execution_count": 12,
     "metadata": {},
     "output_type": "execute_result"
    }
   ],
   "source": [
    "df.sort_values(by='speed', ascending=False).head()"
   ]
  },
  {
   "cell_type": "code",
   "execution_count": 13,
   "metadata": {},
   "outputs": [
    {
     "data": {
      "text/html": [
       "<div>\n",
       "<style scoped>\n",
       "    .dataframe tbody tr th:only-of-type {\n",
       "        vertical-align: middle;\n",
       "    }\n",
       "\n",
       "    .dataframe tbody tr th {\n",
       "        vertical-align: top;\n",
       "    }\n",
       "\n",
       "    .dataframe thead th {\n",
       "        text-align: right;\n",
       "    }\n",
       "</style>\n",
       "<table border=\"1\" class=\"dataframe\">\n",
       "  <thead>\n",
       "    <tr style=\"text-align: right;\">\n",
       "      <th></th>\n",
       "      <th>speed</th>\n",
       "      <th>power</th>\n",
       "    </tr>\n",
       "  </thead>\n",
       "  <tbody>\n",
       "    <tr>\n",
       "      <th>461</th>\n",
       "      <td>23.273</td>\n",
       "      <td>113.556</td>\n",
       "    </tr>\n",
       "    <tr>\n",
       "      <th>416</th>\n",
       "      <td>20.646</td>\n",
       "      <td>112.362</td>\n",
       "    </tr>\n",
       "    <tr>\n",
       "      <th>447</th>\n",
       "      <td>22.497</td>\n",
       "      <td>109.932</td>\n",
       "    </tr>\n",
       "    <tr>\n",
       "      <th>420</th>\n",
       "      <td>20.871</td>\n",
       "      <td>108.485</td>\n",
       "    </tr>\n",
       "    <tr>\n",
       "      <th>464</th>\n",
       "      <td>23.348</td>\n",
       "      <td>108.167</td>\n",
       "    </tr>\n",
       "  </tbody>\n",
       "</table>\n",
       "</div>"
      ],
      "text/plain": [
       "      speed    power\n",
       "461  23.273  113.556\n",
       "416  20.646  112.362\n",
       "447  22.497  109.932\n",
       "420  20.871  108.485\n",
       "464  23.348  108.167"
      ]
     },
     "execution_count": 13,
     "metadata": {},
     "output_type": "execute_result"
    }
   ],
   "source": [
    "df.sort_values(by='power', ascending=False).head()"
   ]
  },
  {
   "cell_type": "code",
   "execution_count": null,
   "metadata": {},
   "outputs": [],
   "source": []
  },
  {
   "cell_type": "code",
   "execution_count": null,
   "metadata": {},
   "outputs": [],
   "source": []
  },
  {
   "cell_type": "code",
   "execution_count": 14,
   "metadata": {},
   "outputs": [
    {
     "data": {
      "text/html": [
       "<div>\n",
       "<style scoped>\n",
       "    .dataframe tbody tr th:only-of-type {\n",
       "        vertical-align: middle;\n",
       "    }\n",
       "\n",
       "    .dataframe tbody tr th {\n",
       "        vertical-align: top;\n",
       "    }\n",
       "\n",
       "    .dataframe thead th {\n",
       "        text-align: right;\n",
       "    }\n",
       "</style>\n",
       "<table border=\"1\" class=\"dataframe\">\n",
       "  <thead>\n",
       "    <tr style=\"text-align: right;\">\n",
       "      <th></th>\n",
       "      <th>speed</th>\n",
       "      <th>power</th>\n",
       "    </tr>\n",
       "  </thead>\n",
       "  <tbody>\n",
       "    <tr>\n",
       "      <th>0</th>\n",
       "      <td>0.000</td>\n",
       "      <td>0.0</td>\n",
       "    </tr>\n",
       "    <tr>\n",
       "      <th>111</th>\n",
       "      <td>5.806</td>\n",
       "      <td>0.0</td>\n",
       "    </tr>\n",
       "    <tr>\n",
       "      <th>110</th>\n",
       "      <td>5.781</td>\n",
       "      <td>0.0</td>\n",
       "    </tr>\n",
       "    <tr>\n",
       "      <th>105</th>\n",
       "      <td>5.556</td>\n",
       "      <td>0.0</td>\n",
       "    </tr>\n",
       "    <tr>\n",
       "      <th>89</th>\n",
       "      <td>4.880</td>\n",
       "      <td>0.0</td>\n",
       "    </tr>\n",
       "  </tbody>\n",
       "</table>\n",
       "</div>"
      ],
      "text/plain": [
       "     speed  power\n",
       "0    0.000    0.0\n",
       "111  5.806    0.0\n",
       "110  5.781    0.0\n",
       "105  5.556    0.0\n",
       "89   4.880    0.0"
      ]
     },
     "execution_count": 14,
     "metadata": {},
     "output_type": "execute_result"
    }
   ],
   "source": [
    "df.sort_values(by='power').head()"
   ]
  },
  {
   "cell_type": "code",
   "execution_count": 15,
   "metadata": {},
   "outputs": [
    {
     "data": {
      "text/html": [
       "<div>\n",
       "<style scoped>\n",
       "    .dataframe tbody tr th:only-of-type {\n",
       "        vertical-align: middle;\n",
       "    }\n",
       "\n",
       "    .dataframe tbody tr th {\n",
       "        vertical-align: top;\n",
       "    }\n",
       "\n",
       "    .dataframe thead th {\n",
       "        text-align: right;\n",
       "    }\n",
       "</style>\n",
       "<table border=\"1\" class=\"dataframe\">\n",
       "  <thead>\n",
       "    <tr style=\"text-align: right;\">\n",
       "      <th></th>\n",
       "      <th>speed</th>\n",
       "      <th>power</th>\n",
       "    </tr>\n",
       "  </thead>\n",
       "  <tbody>\n",
       "    <tr>\n",
       "      <th>0</th>\n",
       "      <td>0.000</td>\n",
       "      <td>0.0</td>\n",
       "    </tr>\n",
       "    <tr>\n",
       "      <th>1</th>\n",
       "      <td>0.125</td>\n",
       "      <td>0.0</td>\n",
       "    </tr>\n",
       "    <tr>\n",
       "      <th>2</th>\n",
       "      <td>0.150</td>\n",
       "      <td>0.0</td>\n",
       "    </tr>\n",
       "    <tr>\n",
       "      <th>3</th>\n",
       "      <td>0.225</td>\n",
       "      <td>0.0</td>\n",
       "    </tr>\n",
       "    <tr>\n",
       "      <th>4</th>\n",
       "      <td>0.275</td>\n",
       "      <td>0.0</td>\n",
       "    </tr>\n",
       "  </tbody>\n",
       "</table>\n",
       "</div>"
      ],
      "text/plain": [
       "   speed  power\n",
       "0  0.000    0.0\n",
       "1  0.125    0.0\n",
       "2  0.150    0.0\n",
       "3  0.225    0.0\n",
       "4  0.275    0.0"
      ]
     },
     "execution_count": 15,
     "metadata": {},
     "output_type": "execute_result"
    }
   ],
   "source": [
    "df.sort_values(by='speed').head()"
   ]
  },
  {
   "cell_type": "markdown",
   "metadata": {},
   "source": [
    "The [DataFrame.to_numpy()](https://pandas.pydata.org/docs/reference/api/pandas.DataFrame.to_numpy.html#pandas.DataFrame.to_numpy)function gives a NumPy representation of the underlying data. It converts the dataframe to a numpy array which may be useful here given that the data is all numerical types (floats64)."
   ]
  },
  {
   "cell_type": "code",
   "execution_count": 16,
   "metadata": {},
   "outputs": [],
   "source": [
    "#df.to_numpy()"
   ]
  },
  {
   "cell_type": "markdown",
   "metadata": {},
   "source": [
    "## Exploring the dataset using statistics"
   ]
  },
  {
   "cell_type": "markdown",
   "metadata": {},
   "source": [
    "There are no categorical variables in this dataset.\n",
    "\n",
    "### Quantitative variables\n",
    "When looking at quantitative variables the characteristics of interest are the centre, spread, modality (the number of peaks in the pdf), the shape of the distribution and the outliers.\n",
    "Pandas `describe` function generates statistics that summarize the central tendency, dispersion and shape of a dataset’s distribution. (excluding NaN values)"
   ]
  },
  {
   "cell_type": "code",
   "execution_count": 17,
   "metadata": {},
   "outputs": [
    {
     "data": {
      "text/html": [
       "<div>\n",
       "<style scoped>\n",
       "    .dataframe tbody tr th:only-of-type {\n",
       "        vertical-align: middle;\n",
       "    }\n",
       "\n",
       "    .dataframe tbody tr th {\n",
       "        vertical-align: top;\n",
       "    }\n",
       "\n",
       "    .dataframe thead th {\n",
       "        text-align: right;\n",
       "    }\n",
       "</style>\n",
       "<table border=\"1\" class=\"dataframe\">\n",
       "  <thead>\n",
       "    <tr style=\"text-align: right;\">\n",
       "      <th></th>\n",
       "      <th>speed</th>\n",
       "      <th>power</th>\n",
       "    </tr>\n",
       "  </thead>\n",
       "  <tbody>\n",
       "    <tr>\n",
       "      <th>count</th>\n",
       "      <td>500.000000</td>\n",
       "      <td>500.000000</td>\n",
       "    </tr>\n",
       "    <tr>\n",
       "      <th>mean</th>\n",
       "      <td>12.590398</td>\n",
       "      <td>48.014584</td>\n",
       "    </tr>\n",
       "    <tr>\n",
       "      <th>std</th>\n",
       "      <td>7.224991</td>\n",
       "      <td>41.614572</td>\n",
       "    </tr>\n",
       "    <tr>\n",
       "      <th>min</th>\n",
       "      <td>0.000000</td>\n",
       "      <td>0.000000</td>\n",
       "    </tr>\n",
       "    <tr>\n",
       "      <th>25%</th>\n",
       "      <td>6.324750</td>\n",
       "      <td>5.288000</td>\n",
       "    </tr>\n",
       "    <tr>\n",
       "      <th>50%</th>\n",
       "      <td>12.550500</td>\n",
       "      <td>41.645500</td>\n",
       "    </tr>\n",
       "    <tr>\n",
       "      <th>75%</th>\n",
       "      <td>18.775250</td>\n",
       "      <td>93.537000</td>\n",
       "    </tr>\n",
       "    <tr>\n",
       "      <th>max</th>\n",
       "      <td>25.000000</td>\n",
       "      <td>113.556000</td>\n",
       "    </tr>\n",
       "  </tbody>\n",
       "</table>\n",
       "</div>"
      ],
      "text/plain": [
       "            speed       power\n",
       "count  500.000000  500.000000\n",
       "mean    12.590398   48.014584\n",
       "std      7.224991   41.614572\n",
       "min      0.000000    0.000000\n",
       "25%      6.324750    5.288000\n",
       "50%     12.550500   41.645500\n",
       "75%     18.775250   93.537000\n",
       "max     25.000000  113.556000"
      ]
     },
     "execution_count": 17,
     "metadata": {},
     "output_type": "execute_result"
    }
   ],
   "source": [
    "# get summary statistics of the numerical values, \n",
    "df.describe() # get statistics summary of the"
   ]
  },
  {
   "cell_type": "markdown",
   "metadata": {},
   "source": [
    "Much of this next part is some of the information on statistics that I had in my Tips dataset project. I will remove most of it but keep it here for now as a reference point."
   ]
  },
  {
   "cell_type": "markdown",
   "metadata": {},
   "source": [
    "#### Central Tendency statistics of the dataset\n",
    "\n",
    "The **central tendency** or location of the data distribution is determined by the typical or middle values. The arithmetic mean is the sum of all the data values divided by the number of values. While the mean value is the average value in the dataset it may not be typical of the values in the dataset if there are very small or very large values in the dataset. The *median* is another measure of central tendancy - it is the middle value after all the values are put in an ordered list.\n",
    "The mean and median are similar for symmetric distributions whereas for unimodal skewed distributions the mean will be more in the direction of the long tail of the distribution. \n",
    "The median can be considered a more typical value in the dataset or closer to some of the typical values and is also considered [robust](https://en.wikipedia.org/wiki/Robust_statistics) which means that removing some of the data will not tend to change the value of the median. A few extreme values will not affect the median as they would affect the mean. \n",
    "In this dataset the mean and median wind speed values are similar at approx 12.5 to 12.6.\n",
    "The median power value is just over 41 compared to the mean power value of 48.\n",
    "As we saw above, there are many zero values for power in the dataset. At least 10% of the power values are zero and probably for valid reasons.\n",
    "\n"
   ]
  },
  {
   "cell_type": "code",
   "execution_count": 18,
   "metadata": {},
   "outputs": [
    {
     "name": "stdout",
     "output_type": "stream",
     "text": [
      "The mean speed value is 12.590 while the median speed value  is 12.550\n",
      "The mean power value is 48.015 while the median power value  is 41.645\n"
     ]
    }
   ],
   "source": [
    "print(\"The mean speed value is %.3f\" %df['speed'].mean(),\"while the median speed value  is %.3f\" %df['speed'].quantile(q=0.5))\n",
    "print(\"The mean power value is %.3f\" %df['power'].mean(),\"while the median power value  is %.3f\" %df['power'].quantile(q=0.5))"
   ]
  },
  {
   "cell_type": "markdown",
   "metadata": {},
   "source": [
    "#### Spread statistics\n",
    "There are several statistics that are used to show the spread of the distribution of the data which concerns how far away from the centre the data points are located. The variance is the average of the squared deviations of each observation from the centre or mean of the data. Bigger deviations will make a bigger variance. The resulting variance figure will be in squared units of the original units. The *standard deviation* is the square root of the variance and is in the same units as the data and therefore can be more easily interpreted. "
   ]
  },
  {
   "cell_type": "code",
   "execution_count": 19,
   "metadata": {},
   "outputs": [
    {
     "name": "stdout",
     "output_type": "stream",
     "text": [
      "The standard deviations of speed values  is 7.225\n",
      "The standard deviations of power values is 41.615\n"
     ]
    }
   ],
   "source": [
    "#print(f\"The variance and standard deviations of speed values  are {df['speed'].var():.3f} and {df['speed'].std():.3f}\")\n",
    "#print(f\"The variance and standard deviations of power values are {df['power'].var():.3f} and {df['power'].std():.3f}\")\n",
    "print(f\"The standard deviations of speed values  is {df['speed'].std():.3f}\")\n",
    "print(f\"The standard deviations of power values is {df['power'].std():.3f}\")\n",
    "# df.var()"
   ]
  },
  {
   "cell_type": "markdown",
   "metadata": {},
   "source": [
    "The *range* of values in the data is shown by the minimum and maximum values and is not considered a robust measure of spread but it is useful for showing possible errors or outliers. "
   ]
  },
  {
   "cell_type": "code",
   "execution_count": 20,
   "metadata": {},
   "outputs": [
    {
     "name": "stdout",
     "output_type": "stream",
     "text": [
      "The minimum speed value is 0.0 while the maximum speed value is 25.0 giving range of 25.0\n",
      "The minimum Power value is 0.0 while the maximum power value is 113.556 giving range of 113.556\n"
     ]
    }
   ],
   "source": [
    "print(f\"The minimum speed value is {df['speed'].min()} while the maximum speed value is { df['speed'].max()} giving range of {df['speed'].max() - df['speed'].min()}\")\n",
    "\n",
    "print(f\"The minimum Power value is {df['power'].min()} while the maximum power value is { df['power'].max()} giving range of {df['power'].max() - df['power'].min()}\")"
   ]
  },
  {
   "cell_type": "markdown",
   "metadata": {},
   "source": [
    "Another measure of spread is determined by the percentiles or quartiles of the values.  \n",
    "The 25% percentiles is the first quartile and one quarter of the values fall below this. \n",
    "The 50% percentile is the median value where half of the data falls below it and half above it. \n",
    "-The 75% percentiles is the 3rd quartile where $\\frac{3}{4}$ of the data points fall below it and one quarter above it. These figures are used to calculate the *Interquartile range (IQR)* which is calculated by taking the 75% percentile or 3rd quartile (Q3) minus the 25% percentile or first quartile (Q1). $$IQR = Q3 - Q1$$\n",
    "Therefore half of the values are captured by the IQR which are the middle values of the data. Data that is more spread out will have a higher IQR. The IQR is considered a more robust measure of spread than the variance and standard deviation and will be more clearly shown in the boxplots further down. The IQR does not consider the data below the 25% percentile or above the 75% percentile which may contain outliers. The statistics here show that the **power** variable in this dataset is much more spread out or variable than the **speed** variable.  "
   ]
  },
  {
   "cell_type": "code",
   "execution_count": 21,
   "metadata": {},
   "outputs": [
    {
     "name": "stdout",
     "output_type": "stream",
     "text": [
      "The median speed value is 12.5505 with the IQR ranging from 6.32 to  18.78\n",
      "The median power value is 41.6455 with the IQR ranging from 5.29 to  93.54\n"
     ]
    }
   ],
   "source": [
    "print(f\"The median speed value is {df['speed'].quantile(q=0.5)} with the IQR ranging from {df['speed'].quantile(q=0.25):.2f} to  {df['speed'].quantile(q=0.75):.2f}\")\n",
    "print(f\"The median power value is {df['power'].quantile(q=0.5)} with the IQR ranging from {df['power'].quantile(q=0.25):.2f} to  {df['power'].quantile(q=0.75):.2f}\")"
   ]
  },
  {
   "cell_type": "code",
   "execution_count": 22,
   "metadata": {},
   "outputs": [
    {
     "data": {
      "image/png": "[encoded data removed]",
      "text/plain": [
       "<Figure size 864x288 with 2 Axes>"
      ]
     },
     "metadata": {
      "needs_background": "light"
     },
     "output_type": "display_data"
    }
   ],
   "source": [
    "f, axes = plt.subplots(1, 2, figsize=(12, 4))\n",
    "sns.set(style=\"ticks\", palette=\"pastel\")\n",
    "sns.boxplot(y=df['speed'], ax=axes[0], color=\"blue\")\n",
    "# add a title\n",
    "axes[0].set_title(\"Boxplot of Speed values\")\n",
    "sns.boxplot(y=df['power'], ax=axes[1], color=\"purple\")\n",
    "axes[1].set_title(\"Boxplot of Power Values\");"
   ]
  },
  {
   "cell_type": "markdown",
   "metadata": {},
   "source": [
    "The skewness of the data is a measure of assymetry which can be seen by the lopsidedness of a boxplot.\n",
    "Wind speed appears to be quite symmetric. The wind speed boxplot is cut pretty much in half by the median. Power appears to be soemwhat skewed to the right as the boxplot shows more of the box to the right or above the median line.\n",
    "A boxplot with the median closer to the lower quartile is considered positively skewed. Positively skewed data has the mean greater than the median and it can be interpreted as having a higher frequency of high valued scores. The lower values of power are closer together than the higher power values.\n"
   ]
  },
  {
   "cell_type": "markdown",
   "metadata": {},
   "source": [
    "### Describing the dataset visualisations - maybe move some visualisations up before the statistics\n",
    "This section will look at some graphical EDA of the univariate data in the dataset.\n",
    "Some visualisations of the dataset that can be used to verify these summary statistics. \n",
    "Plots can highlight any obvious relationships between the different variables in the dataset. They can also be used to identify any groups of observations that are clearly separate to other groups of observations."
   ]
  },
  {
   "cell_type": "markdown",
   "metadata": {},
   "source": [
    "#### Histogram and Kernel Density estimate plots of Speed and Power values\n",
    "Histograms can be used to show the distribution of a single quantitative variable such as the speed or power in this dataset. A histogram visualises the centre and spread of the distribution as well as showing if there is any skew in the data. \n",
    "Such a plot charts the data using adjacent rectangular bars and displays either the frequency or relative frequency of the measurements for a range of values in each interval. Each interval or range of values is a *bin*. The number of bins can be specified although seaborn and matplotlib will automatically choose this. The number of bins chosen usually depends on the amount of data and the shape of the distribution. Changing the number of bins can reveal some other features of the data.\n",
    "\n",
    "\n",
    "(The mode is the most frequently occuring value in a distribution. There is no mode function in pandas or even numpy. It is not really used as such except for describing whether a distribution is unimodal, bimodal or multimodal which depends on how many peaks there is in the distribution. In multimodal distributions there is no unique highest mode.)\n",
    "\n",
    "The histogram of wind speed looks to be uniformly distributed with wind speed values spread out from zero up to 25 which seems to be the max speed value. Power values on the other hand looks bimodla with two defined peaks, one around zero power values and the second around the 100 kilowatt mark. "
   ]
  },
  {
   "cell_type": "code",
   "execution_count": 23,
   "metadata": {},
   "outputs": [
    {
     "data": {
      "image/png": "[encoded data removed]",
      "text/plain": [
       "<Figure size 576x288 with 2 Axes>"
      ]
     },
     "metadata": {
      "needs_background": "light"
     },
     "output_type": "display_data"
    }
   ],
   "source": [
    "%matplotlib inline\n",
    "\n",
    "# plot the histograms of Speed values\n",
    "f, axs = plt.subplots(1, 2, figsize=(8, 4))\n",
    "sns.histplot(data=df, x=\"speed\", ax=axs[0], bins=20, kde=True,color=\"blue\")\n",
    "sns.histplot(data=df, x=\"power\", alpha=.8, legend=False, ax=axs[1], bins=20, kde=True, color=\"purple\")\n",
    "plt.suptitle(\"Distributions of the Speed and Power variables\")\n",
    "f.tight_layout()"
   ]
  },
  {
   "cell_type": "markdown",
   "metadata": {},
   "source": [
    "## Investigating a relationship between Wind Speed and Wind Turbine Power output"
   ]
  },
  {
   "cell_type": "markdown",
   "metadata": {},
   "source": [
    "Scatter plots are useful to identify trends and patterns in a dataset which might indicate a relationship between variables. The dataset here contains two numerical variables wind speed and turbine power values. \n",
    "The ordered pairs of numbers consisting of the independent variable 'wind speed' and the dependent variable 'power output' are plotted below resulting in a joint distribution of the two variables. Each point represents an actual observation is the dataset with a speed and a corresponding power value. \n",
    "The scatter plot shows an increasing linear trend in the middle range of the wind speed values. This would indicate that for increasing wind speeds in this range, power output values do increase, but only after a minimum wind speed has been reached. Power outputs then increase in line with increases in wind speed until it reaches a peak and plateaus.\n",
    "The correlation statistics puts a numerical value on the strength and direction of the relationship. "
   ]
  },
  {
   "cell_type": "code",
   "execution_count": 24,
   "metadata": {},
   "outputs": [
    {
     "data": {
      "image/png": "[encoded data removed]",
      "text/plain": [
       "<Figure size 432x288 with 1 Axes>"
      ]
     },
     "metadata": {
      "needs_background": "light"
     },
     "output_type": "display_data"
    }
   ],
   "source": [
    "# create the plot\n",
    "sns.scatterplot(x=df['speed'],y=df['power'])\n",
    "# add title\n",
    "plt.title(\"Scatter plot of Speed and Power\");"
   ]
  },
  {
   "cell_type": "markdown",
   "metadata": {},
   "source": [
    "### Correlation and Covariance of Speed and Power values\n",
    "For two quantitative variables such as the wind speed and power values, the covariance and correlation can be used to determine whether a linear relationship between variables does exist and to show if one variable tends to occur with large or small values of another variable.\n",
    "\n",
    "The [Covariance](https://en.wikipedia.org/wiki/Covariance) is a measure of the joint variability of two random variables and the (Pearson) [correlation coefficient](https://en.wikipedia.org/wiki/Pearson_correlation_coefficient) is the normalised version of the covariance which shows by its magnitude the strength of the linear relation.\n",
    "\n",
    "The covariance can be used to see how much two variables such as wind speed and wind turbine power vary with each other and in what direction turbine power output will move when wind speed value moves. \n",
    "If the covariance here is positive it would mean that when the wind speed measurement is above it's mean then the wind turbine power measurement will more than likely be above it's mean also and vice versa. \n",
    "If the covarince here is negative, when wind speed measurements are above their mean value, then the wind turbine power output is likely to be below its mean value.\n",
    "If there is a zero covariance (or a covariance value close to zero) this implies that the two variables wind speed and wind turbine output vary independently of each other. \n",
    "\n",
    "The correlation statistics are computed from pairs of arguments. If there is a strong positive relationship between the wind speed and wind turbine power output variables, we would expect to see a correlation coefficient close to 1. A strong negative relationship would have a correlation coefficient value close to -1. A value close to zero would indicate that there is no relationship between the variables. The correlation is easier to interpret than the covariance as it does not depend on the units of measurement or which variable is the independent variable and which is the dependent variable. \n",
    "\n",
    "Pandas can be used to easily calculate the covariance and correlation coefficient. The correlation coefficient here of 0.85 shows there is a very strong positive relationship between the wind speed and turbine power output.\n",
    "\n",
    "(It should be noted that correlation however is not the same as causation.)\n"
   ]
  },
  {
   "cell_type": "code",
   "execution_count": 25,
   "metadata": {},
   "outputs": [
    {
     "data": {
      "text/html": [
       "<div>\n",
       "<style scoped>\n",
       "    .dataframe tbody tr th:only-of-type {\n",
       "        vertical-align: middle;\n",
       "    }\n",
       "\n",
       "    .dataframe tbody tr th {\n",
       "        vertical-align: top;\n",
       "    }\n",
       "\n",
       "    .dataframe thead th {\n",
       "        text-align: right;\n",
       "    }\n",
       "</style>\n",
       "<table border=\"1\" class=\"dataframe\">\n",
       "  <thead>\n",
       "    <tr style=\"text-align: right;\">\n",
       "      <th></th>\n",
       "      <th>speed</th>\n",
       "      <th>power</th>\n",
       "    </tr>\n",
       "  </thead>\n",
       "  <tbody>\n",
       "    <tr>\n",
       "      <th>speed</th>\n",
       "      <td>1.000000</td>\n",
       "      <td>0.853778</td>\n",
       "    </tr>\n",
       "    <tr>\n",
       "      <th>power</th>\n",
       "      <td>0.853778</td>\n",
       "      <td>1.000000</td>\n",
       "    </tr>\n",
       "  </tbody>\n",
       "</table>\n",
       "</div>"
      ],
      "text/plain": [
       "          speed     power\n",
       "speed  1.000000  0.853778\n",
       "power  0.853778  1.000000"
      ]
     },
     "execution_count": 25,
     "metadata": {},
     "output_type": "execute_result"
    }
   ],
   "source": [
    "df.cov()\n",
    "df.corr()"
   ]
  },
  {
   "cell_type": "markdown",
   "metadata": {},
   "source": [
    "### Regression plots\n",
    "The Python Seaborn library has some regression plots that can be used to quickly visualise relationships and patterns that may exist in the data. They use statistical models to estimate a simple relationship between sets of observations and are mainly used to visualise patterns in a dataset during the exploratory data analysis. There are other Python libraries such as **statsmodels** that are recommended for looking at more quantitative measures concerning the fit of the regression models which can be looked at later on!.\n",
    "\n",
    "The scatter plot earlier showed a relationship between wind speeds and wind turbine power that is not quite linear. There does seem to be a somewhat linear relationship for wind speeds between values of about 10 up to about 18 or so. Therefore it is worth looking at higher order polynomials as well as linear regression.\n",
    "The plot below shows that the polynomial with order 3 looks a much better fit to the line than the first or second order linear regression lines. "
   ]
  },
  {
   "cell_type": "code",
   "execution_count": 26,
   "metadata": {},
   "outputs": [
    {
     "data": {
      "image/png": "[encoded data removed]",
      "text/plain": [
       "<Figure size 864x432 with 4 Axes>"
      ]
     },
     "metadata": {
      "needs_background": "light"
     },
     "output_type": "display_data"
    }
   ],
   "source": [
    "f, axes = plt.subplots(2, 2, figsize=(12, 6))\n",
    "x = \"speed\"\n",
    "y = \"power\"\n",
    "sns.regplot(x=\"speed\", y=\"power\", data=df, ax=axes[0,0], label=\"order = 1\", ci=False); axes[0,0].legend()\n",
    "sns.regplot(x=\"speed\", y=\"power\", data=df, order=2, ax=axes[0,1], label=\"order =2\", ci=False); axes[0,1].legend()\n",
    "sns.regplot(x=\"speed\", y=\"power\", data=df, order=3, ax=axes[1,0], label=\"order =3\", ci=False); axes[1,0].legend()\n",
    "sns.regplot(x=\"speed\", y=\"power\", data=df, order=4, ax=axes[1,1], label = \"order=4\"); axes[1,1].legend()\n",
    "plt.legend()\n",
    "plt.suptitle(\"Trying higher order polynomial regression functions to Speed and Power values\")\n",
    "plt.show()"
   ]
  },
  {
   "cell_type": "markdown",
   "metadata": {},
   "source": []
  },
  {
   "cell_type": "markdown",
   "metadata": {},
   "source": [
    "#### Using a lowess smoother to fit a regression of speed and power\n",
    "Another way of fitting a nonparametric regression is to use\n",
    "[lowess smoothing](https://www.statisticshowto.datasciencecentral.com/lowess-smoothing/) to fit a line to a scatter plot where noisy data values, sparse data points or weak interrelationships might interfere with your ability to see a line of best fit. (Lowess smoothing is also used for linear regression where least squares fitting doesn’t create a line of good fit or is too labor-intensive to use)\n",
    "\n",
    "Lowess are non-parametric strategies for fitting a smooth curve to data points. A parametric fitting assumes the data fits some distribution which can misrepresent the data whereas non-parametric smoothers try to fund a curve of best fit without assuming the data must fit some distribution shape.\n"
   ]
  },
  {
   "cell_type": "code",
   "execution_count": 27,
   "metadata": {},
   "outputs": [
    {
     "data": {
      "image/png": "[encoded data removed]",
      "text/plain": [
       "<Figure size 360x360 with 1 Axes>"
      ]
     },
     "metadata": {
      "needs_background": "light"
     },
     "output_type": "display_data"
    }
   ],
   "source": [
    "sns.lmplot(x=\"speed\", y=\"power\", data=df, lowess=True)\n",
    "plt.title(\"using a lowess smoother\")\n",
    "plt.show()"
   ]
  },
  {
   "cell_type": "markdown",
   "metadata": {},
   "source": [
    "Residual plots can be used to check whether the simple regression model of speed ~ power  is appropriate for a dataset.\n",
    "A residplot fits and removes a simple linear regression and then plots the residual values for each observation. Ideally, these values should be randomly scattered around y = 0. If there is structure in the residuals, this suggests that simple linear regression is not appropriate for the data.\n",
    "\n",
    "If the residual plot does have a shape this suggest non-linearity in the data set."
   ]
  },
  {
   "cell_type": "code",
   "execution_count": 28,
   "metadata": {
    "scrolled": true
   },
   "outputs": [
    {
     "data": {
      "image/png": "[encoded data removed]",
      "text/plain": [
       "<Figure size 432x288 with 1 Axes>"
      ]
     },
     "metadata": {
      "needs_background": "light"
     },
     "output_type": "display_data"
    }
   ],
   "source": [
    "sns.residplot(x=\"speed\", y=\"power\", data=df, scatter_kws={\"s\": 80})\n",
    "plt.title(\"Residual plot\"); plt.show()"
   ]
  },
  {
   "cell_type": "markdown",
   "metadata": {},
   "source": [
    "---\n",
    "## Researching Wind Turbines\n",
    "As there is little in the dataset apart from two columns of 500 floating numbers, I need to do a little research to find out what these values represent and how they are quantified. Power is probably in kilowatts and speed in something per hour!. There is a mention of 15 metres per second at the turbine in the video.\n",
    "I am looking up some information about Irish wind farms. I'm presuming where exactly the data came from does not matter. \n",
    "\n",
    "[The Irish Wind Energy Association (IWEA)](https://www.iwea.com/about-us/about-us) is the representative body for the Irish wind industry, working to promote wind energy as an essential, economical and environmentally friendly part of the country’s low-carbon energy future. \n",
    "They note here that in 2018 wind energy provided 29 per cent of Ireland’s electricity.\n",
    "\n",
    "Their [FAQs](https://www.iwea.com/about-wind/faqs) page tells us that each quarter, both EirGrid and ESBN publish updated wind farm statistics for Ireland at the following links:\n",
    "[ESBN Connected Wind Farms](https://www.esbnetworks.ie/new-connections/generator-connections/generator-connection-statistics).\n",
    "There is currently 4,130 MW of installed capacity in ROI and new Eirgrid link here http://www.eirgridgroup.com/how-the-grid-works/renewables/\n",
    "\n",
    "Also on this website is a question about how much electricity a turbine generates. (See FAQ 16.)\n",
    "\n",
    ">The amount of electricity a turbine can generate depends on the type of turbine and the wind conditions at any time. There are many different models of turbines that can generate different amounts of electricity. Ireland’s largest wind farm is the Galway Wind Park in Connemara. The turbines there are 3 MW turbines. To use them as an example, when the wind is blowing steadily they can each generate 3 MW of electricity. A megawatt (MW) is a unit of energy.A single megawatt is equivalent to around 1,000 kilowatts. Boiling a kettle, for example, takes around two kilowatts.\n",
    "\n",
    "Another website of interest is Eirgrid's [Smart grid dashboard](http://smartgriddashboard.eirgrid.com/#all/about).\n",
    "The [dashboard](http://smartgriddashboard.eirgrid.com/#all/wind)shows actual and forecast wind generation by day, week and month for allwind farms on the system.\n",
    "\n",
    "The [sem-o.com](https://www.sem-o.com/links/) that we looked at in Data Representation might be worth a look also. It has a page of links. Not sure yet how much detail if any I need. The data.gov.ie might have some datasets.\n",
    "Also the EU Open data portal has some datasets.\n",
    "https://data.europa.eu/euodp/en/data/dataset/jrc-emhires-wind-generation-time-series\n",
    "[Electricity from wind power; AC; production mix, at power plant; < 1kV (Location: RER)](https://data.europa.eu/euodp/en/data/dataset/jrc-eplca-fe1c3d03-072b-4da7-8fff-3505f9b01efc)\n",
    "\n",
    "- [WindEurope](https://windeurope.org/data-and-analysis/) has facts and issues about wind energy in Europe, in particular the section on [Wind Energy Basics](https://windeurope.org/about-wind/wind-basics/)\n",
    "\n",
    "Watching the video on this project again, the lecturer Ian notes how the idea for the project came about. \n",
    "Say a company produces power using wind turbines. In the electricity market, producers of electricity would sell their electricity ahead of time.  They enter into a contract that says they will produce so many kilowatts  electricity during at a certain time, maybe between 11am tomorrow and 11am the next day. The price is negotiated today and tomorrow you start generating electricity and pushing it onto the supply grid. \n",
    "It is easier for those burning coal or gas or doing nuclear fusion to burn the right amount to generate the right amount of electricity. With wind turbines however you don't know how much electricity you will generate tomorrow because your generation of electricity depends on wind power. As you don't know how much wind there is going to be tomorrow you make an estimate by getting some meterological data from Met Eireann or some other weather prediction agent and use the weather prediction to help you predict how much electricity you are likely to produce. The prediction may not always be correct but you aim to reduce how often your calculations are wrong.\n",
    "\n",
    "A first step in that kind of workflow would be to say when the wind speed is X amount, for example at 15 metres per second at the turbine, how much power is produced from the wind turbines. The wind turbine supplier would have provided a rough estimate of how much power the turbine is capable of producing at 15 metres per second. Knowing all this is not really necessary for this project but to instead take the dataset with the two columns of numerical values and be able to predict one of the numbers from the other.\n",
    "\n"
   ]
  },
  {
   "cell_type": "markdown",
   "metadata": {},
   "source": [
    "\n",
    "Based on above, it is likely that the wind speed is measuring in so many metres per second. The video mentions 15 as an example but I need to check this out. Power is most likely in kilowatts. I need to look up some more on this.\n",
    "As noted above in the initial investigation of the dataset, there are quite a number of zero values for power in the dataset. I need to determine whether these values are valid and if so should they remain in the data when I go to the next step of training a model. As theorised earlier, perhaps some of the low or zero values are there when a wind turbine is powered on after being off and taking some time or effort to be productive. However I need to check as I don't know the physics or technical reasons behind this. While most of the zero power values are associated with low values of speed, there are some that are not and occur when the wind speed is actually at it's max in the dataset so therefore there must be another reason that the power output is zero at such levels, as if the wind turbine is actually power off completely and maybe this is the case. Maybe it switches off after a certain max wind speed for safety or other reasons. These values do look like outliers on the scatter plot.\n",
    "The scatter plot seems to have three different trends apparent as shown earlier, the first section at low values of wind speed where the wind turbine values are clustered around zero (including the 10% of observations that have zero power values), the second section where there seems to be a linear trend between wind speed and power output and thirdly the last section where the values of power have reached a peak at higher wind speeds and plateau, and also the outliers here.\n",
    "\n",
    "\n",
    "---\n",
    "### How does wind energy work\n",
    "Find out some more on how wind energy works. Look at the section on [Wind Energy Basics](https://windeurope.org/about-wind/wind-basics/) on WindEurope website.\n",
    "Few facts here:\n",
    "- energy is the ability to do work\n",
    "- [What is Energy ?](https://windeurope.org/about-wind/wind-basics/). \n",
    ">Generally, energy can be categorised into either kinetic energy (the energy of moving objects) or potential energy (energy that is stored). The different types of energy include thermal energy, radiant energy, chemical energy, electrical energy, motion energy, sound energy, elastic energy and gravitational energy.\n",
    "In the case of wind energy, wind turbines take the kinetic energy that’s in the wind and convert that kinetic energy into mechanical power. We mostly use this mechanical power in the form of electricity.\n",
    "\n",
    "There is plenty more her on how wind is actually caused by 3 things: the heating of the atmosphere by the sun,  the rotation of the earth and the Earth's surface irregularities.\n",
    "Wind energy captures the energy of the wind and converts it to electricity. It is an alternative to burninf fossil fuels.\n",
    "A wind turbine is a device that converts kinetic energy from the wind into electricity. A group of wind turbines is a wind farm. There are both on-shore and off-shore types. Their output ranges from as small as 100 kilowatts to as big as 12 megawatts.\n",
    "There are three main variables determining how much electricity a turbine can produce.\n",
    "- Wind speed\n",
    "- Blade radius\n",
    "- Air density.\n",
    "\n",
    "Our dataset only has wind speed and power values so perhaps we can assume these values are constant for the dataset, particularly I would think the blade radius. \n",
    "The article also outlines what happens when the wind doesn't blow. A wind farms location is usually chosen purposely. Therefore when a wind turbine is not turning it is usually because of maintenance, or because it must be stopped for safety reasons in case of strong winds or a storm. So safety reasons would account for the zero power values at the very high values of wind speed and maintenance could account for some of the other zero values Therefore I may need to see exactly what the pattern is here. Perhaps then some of the zero values should be ommited from some of the analysis and model training, or perhaps done alongside."
   ]
  },
  {
   "cell_type": "code",
   "execution_count": 29,
   "metadata": {},
   "outputs": [
    {
     "data": {
      "text/html": [
       "<div>\n",
       "<style scoped>\n",
       "    .dataframe tbody tr th:only-of-type {\n",
       "        vertical-align: middle;\n",
       "    }\n",
       "\n",
       "    .dataframe tbody tr th {\n",
       "        vertical-align: top;\n",
       "    }\n",
       "\n",
       "    .dataframe thead th {\n",
       "        text-align: right;\n",
       "    }\n",
       "</style>\n",
       "<table border=\"1\" class=\"dataframe\">\n",
       "  <thead>\n",
       "    <tr style=\"text-align: right;\">\n",
       "      <th></th>\n",
       "      <th>speed</th>\n",
       "      <th>power</th>\n",
       "    </tr>\n",
       "  </thead>\n",
       "  <tbody>\n",
       "    <tr>\n",
       "      <th>count</th>\n",
       "      <td>500.000000</td>\n",
       "      <td>500.000000</td>\n",
       "    </tr>\n",
       "    <tr>\n",
       "      <th>mean</th>\n",
       "      <td>12.590398</td>\n",
       "      <td>48.014584</td>\n",
       "    </tr>\n",
       "    <tr>\n",
       "      <th>std</th>\n",
       "      <td>7.224991</td>\n",
       "      <td>41.614572</td>\n",
       "    </tr>\n",
       "    <tr>\n",
       "      <th>min</th>\n",
       "      <td>0.000000</td>\n",
       "      <td>0.000000</td>\n",
       "    </tr>\n",
       "    <tr>\n",
       "      <th>25%</th>\n",
       "      <td>6.324750</td>\n",
       "      <td>5.288000</td>\n",
       "    </tr>\n",
       "    <tr>\n",
       "      <th>50%</th>\n",
       "      <td>12.550500</td>\n",
       "      <td>41.645500</td>\n",
       "    </tr>\n",
       "    <tr>\n",
       "      <th>75%</th>\n",
       "      <td>18.775250</td>\n",
       "      <td>93.537000</td>\n",
       "    </tr>\n",
       "    <tr>\n",
       "      <th>max</th>\n",
       "      <td>25.000000</td>\n",
       "      <td>113.556000</td>\n",
       "    </tr>\n",
       "  </tbody>\n",
       "</table>\n",
       "</div>"
      ],
      "text/plain": [
       "            speed       power\n",
       "count  500.000000  500.000000\n",
       "mean    12.590398   48.014584\n",
       "std      7.224991   41.614572\n",
       "min      0.000000    0.000000\n",
       "25%      6.324750    5.288000\n",
       "50%     12.550500   41.645500\n",
       "75%     18.775250   93.537000\n",
       "max     25.000000  113.556000"
      ]
     },
     "execution_count": 29,
     "metadata": {},
     "output_type": "execute_result"
    }
   ],
   "source": [
    "df.describe()"
   ]
  },
  {
   "cell_type": "code",
   "execution_count": 30,
   "metadata": {},
   "outputs": [
    {
     "data": {
      "text/html": [
       "<div>\n",
       "<style scoped>\n",
       "    .dataframe tbody tr th:only-of-type {\n",
       "        vertical-align: middle;\n",
       "    }\n",
       "\n",
       "    .dataframe tbody tr th {\n",
       "        vertical-align: top;\n",
       "    }\n",
       "\n",
       "    .dataframe thead th {\n",
       "        text-align: right;\n",
       "    }\n",
       "</style>\n",
       "<table border=\"1\" class=\"dataframe\">\n",
       "  <thead>\n",
       "    <tr style=\"text-align: right;\">\n",
       "      <th></th>\n",
       "      <th>speed</th>\n",
       "      <th>power</th>\n",
       "    </tr>\n",
       "  </thead>\n",
       "  <tbody>\n",
       "    <tr>\n",
       "      <th>499</th>\n",
       "      <td>25.000</td>\n",
       "      <td>0.0</td>\n",
       "    </tr>\n",
       "    <tr>\n",
       "      <th>498</th>\n",
       "      <td>24.950</td>\n",
       "      <td>0.0</td>\n",
       "    </tr>\n",
       "    <tr>\n",
       "      <th>497</th>\n",
       "      <td>24.875</td>\n",
       "      <td>0.0</td>\n",
       "    </tr>\n",
       "    <tr>\n",
       "      <th>496</th>\n",
       "      <td>24.850</td>\n",
       "      <td>0.0</td>\n",
       "    </tr>\n",
       "    <tr>\n",
       "      <th>495</th>\n",
       "      <td>24.775</td>\n",
       "      <td>0.0</td>\n",
       "    </tr>\n",
       "  </tbody>\n",
       "</table>\n",
       "</div>"
      ],
      "text/plain": [
       "      speed  power\n",
       "499  25.000    0.0\n",
       "498  24.950    0.0\n",
       "497  24.875    0.0\n",
       "496  24.850    0.0\n",
       "495  24.775    0.0"
      ]
     },
     "execution_count": 30,
     "metadata": {},
     "output_type": "execute_result"
    }
   ],
   "source": [
    "df.sort_values(by='speed', ascending=False).head()"
   ]
  },
  {
   "cell_type": "code",
   "execution_count": null,
   "metadata": {},
   "outputs": [],
   "source": []
  },
  {
   "cell_type": "markdown",
   "metadata": {},
   "source": [
    "# Machine Learning.\n",
    "\n",
    "Here I am going to start looking at applying some machine learning algorithms to the dataset. The 3 algorithms I will start looking at are as follows:\n",
    "\n",
    "- Classification: Identifying which category an object belongs to.\n",
    "\n",
    "- Regression: Predicting a continuous-valued attribute associated with an object.\n",
    "\n",
    "- Clustering: Automatic grouping of similar objects into sets.\n",
    "\n",
    "The goal of the project is to predict wind power from wind speed. I think this problem falls into supervised learning.\n",
    "Classification and Regression seem to be the most suitable for this problem. \n",
    "However I am going to have a look using clustering, even just to review what was covered in class.\n",
    "I am first going to try some algorithms without any preprocessing of the data. \n",
    "Clustering groups data points into clusters of similar values. It might not be suitable for predicting the wind power from speed but it can help to understand the data by grouping the existing datapoints (wind speed and power vale pairs) into clusters.\n",
    "Clustering divides the data into clusters based on patterns in the data. So at least it will be useful to see the patterns in this dataset.\n"
   ]
  },
  {
   "cell_type": "markdown",
   "metadata": {},
   "source": [
    "***\n",
    "## Clustering\n",
    "Although I don't think that clustering is the right algorithm to use here but just to explore the data.\n",
    "\n",
    "I am reimporting the dataset here. \n",
    "\n",
    "First I import the libraries, then do some plotting to visualise the dataset.\n",
    "\n",
    "See [sklearn.cluster.KMeans](https://scikit-learn.org/stable/modules/generated/sklearn.cluster.KMeans.html#sklearn.cluster.KMeans.predict)\n",
    "\n",
    "\n",
    "See [k-means clustering](https://www.analyticsvidhya.com/blog/2019/08/comprehensive-guide-k-means-clustering/) article on AnalyticsVidhya."
   ]
  },
  {
   "cell_type": "code",
   "execution_count": 31,
   "metadata": {},
   "outputs": [],
   "source": [
    "# first importing the following libraries\n",
    "# Numerical arrays.\n",
    "import numpy as np\n",
    "import pandas as pd  \n",
    "# plotting\n",
    "import matplotlib.pyplot as plt \n",
    "import seaborn as sns\n",
    "\n",
    "import csv"
   ]
  },
  {
   "cell_type": "code",
   "execution_count": 32,
   "metadata": {},
   "outputs": [],
   "source": [
    "# save link to data and reference the link \n",
    "csv_url = 'https://raw.githubusercontent.com/ianmcloughlin/2020A-machstat-project/master/dataset/powerproduction.csv'\n",
    "# read the csv data into a pandas dataframe\n",
    "df = pd.read_csv(csv_url)\n",
    "df\n",
    "# write the dataframe to csv\n",
    "df.to_csv('df.csv')"
   ]
  },
  {
   "cell_type": "code",
   "execution_count": 33,
   "metadata": {},
   "outputs": [],
   "source": [
    "# Numerical arrays.\n",
    "import numpy as np\n",
    "\n",
    "# Machine learning - KMeans.\n",
    "import sklearn.cluster as skcl\n",
    "\n",
    "# Plotting.\n",
    "import matplotlib.pyplot as plt"
   ]
  },
  {
   "cell_type": "markdown",
   "metadata": {},
   "source": [
    "### Preparing the data for clustering.\n",
    "Here I am creating an numpy array of the speed values and another array holding the corresponding y values.\n",
    "The `fit` method takes in an matrix of training instances to cluster. (An array-like sparse matrix of shape (n_samples, n_features).\n",
    "We only have two features in this dataset and there are 500 samples provided. \n",
    "\n",
    "Below I create a 2-d array containing the speed and corresponding power values. Numpy `vstack` is used to vertically stacks the two arrays on top of each other to get an outer array.\n"
   ]
  },
  {
   "cell_type": "code",
   "execution_count": 34,
   "metadata": {},
   "outputs": [],
   "source": [
    "x1 = np.array(df.speed)\n",
    "x2 = np.array(df.power)"
   ]
  },
  {
   "cell_type": "code",
   "execution_count": 35,
   "metadata": {},
   "outputs": [
    {
     "data": {
      "text/plain": [
       "(500, 2)"
      ]
     },
     "execution_count": 35,
     "metadata": {},
     "output_type": "execute_result"
    }
   ],
   "source": [
    "X =  np.vstack([x1, x2]).T\n",
    "X.size \n",
    "# 1000\n",
    "X.shape\n",
    "# (500, 2)"
   ]
  },
  {
   "cell_type": "code",
   "execution_count": 36,
   "metadata": {},
   "outputs": [],
   "source": [
    "# Plots styles.\n",
    "plt.style.use('ggplot')\n",
    "\n",
    "# Plot size.\n",
    "plt.rcParams['figure.figsize'] = (14, 10)"
   ]
  },
  {
   "cell_type": "code",
   "execution_count": 37,
   "metadata": {},
   "outputs": [
    {
     "data": {
      "text/plain": [
       "[<matplotlib.lines.Line2D at 0x7f9777a75700>]"
      ]
     },
     "execution_count": 37,
     "metadata": {},
     "output_type": "execute_result"
    },
    {
     "data": {
      "image/png": "[encoded data removed]",
      "text/plain": [
       "<Figure size 1008x720 with 1 Axes>"
      ]
     },
     "metadata": {},
     "output_type": "display_data"
    }
   ],
   "source": [
    "# Plot the data set.\n",
    "\n",
    "# Plot the data set.\n",
    "plt.plot(X[:,0], X[:,1], 'x')"
   ]
  },
  {
   "cell_type": "markdown",
   "metadata": {},
   "source": [
    "### Performs kmeans fitting and plot the clusters found\n",
    "The default number of clusters to scikit-learns KMeans is 8. I tried various other numbers from 2 to 8.\n",
    "Below the points are coloured according to the clusters they have been assigned to by the algorithm. I didn't change any other parameters. I also used all the datapoints for training and there is no test set provided. I could generate some random values based on the original dataset which I will come back to when I look at this in more detail.\n",
    "The cluster centres are plotted as black dots on the plot.\n",
    "Choosing the correct number of clusters is achieved by running the kmeans algorithm with increasing cluster sizes and then plotting the results. \n",
    "Inertia refers to the sum of squared distances of samples to their closest cluster center.\n",
    "Beginning with a small number of clusters, train the model, calculate the inertia and plot it. Increase the number of clusters, train the model again, calculate the new inertia value and plot it. Repeat this again. When you plot the resulting inertia values using the various number of clusters, you would expect to see that the inertia value fall sharply at some stage when you increase the number of clusters by one, then the fall in inertia will be not as sharp then reduce again. The decrease in inertia values usually becomes constant when you increase the number of clusters further. This indicates that you will gain nothing by increasing the number of clusters further."
   ]
  },
  {
   "cell_type": "code",
   "execution_count": 38,
   "metadata": {},
   "outputs": [],
   "source": [
    "# Perform kmeans fitting.\n",
    "kmeans = skcl.KMeans(n_clusters=5, random_state=0).fit(X)\n",
    "kmeans = skcl.KMeans(n_clusters=6, random_state=0).fit(X)\n",
    "# default is 8 clusters\n",
    "kmeans = skcl.KMeans(random_state=0).fit(X)"
   ]
  },
  {
   "cell_type": "code",
   "execution_count": 39,
   "metadata": {},
   "outputs": [
    {
     "data": {
      "text/plain": [
       "9033.50298589591"
      ]
     },
     "execution_count": 39,
     "metadata": {},
     "output_type": "execute_result"
    }
   ],
   "source": [
    "kmeans.inertia_"
   ]
  },
  {
   "cell_type": "code",
   "execution_count": 40,
   "metadata": {},
   "outputs": [
    {
     "data": {
      "text/plain": [
       "8"
      ]
     },
     "execution_count": 40,
     "metadata": {},
     "output_type": "execute_result"
    }
   ],
   "source": [
    "kmeans.n_iter_"
   ]
  },
  {
   "cell_type": "code",
   "execution_count": 41,
   "metadata": {},
   "outputs": [
    {
     "data": {
      "text/plain": [
       "array([[ 3.85583571e+00,  2.72733571e+00],\n",
       "       [ 1.69746923e+01,  8.72047231e+01],\n",
       "       [ 1.07004815e+01,  2.72306296e+01],\n",
       "       [ 2.10317500e+01,  9.94023047e+01],\n",
       "       [ 1.22622571e+01,  4.49212571e+01],\n",
       "       [ 7.90798305e+00,  1.17846610e+01],\n",
       "       [ 1.41694242e+01,  6.76029394e+01],\n",
       "       [ 2.36699231e+01, -7.10542736e-15]])"
      ]
     },
     "execution_count": 41,
     "metadata": {},
     "output_type": "execute_result"
    }
   ],
   "source": [
    "centres = kmeans.cluster_centers_\n",
    "centres"
   ]
  },
  {
   "cell_type": "code",
   "execution_count": 42,
   "metadata": {},
   "outputs": [
    {
     "data": {
      "text/plain": [
       "[<matplotlib.lines.Line2D at 0x7f9777f912e0>]"
      ]
     },
     "execution_count": 42,
     "metadata": {},
     "output_type": "execute_result"
    },
    {
     "data": {
      "image/png": "[encoded data removed]",
      "text/plain": [
       "<Figure size 1008x720 with 1 Axes>"
      ]
     },
     "metadata": {},
     "output_type": "display_data"
    }
   ],
   "source": [
    "# Plot the data set.\n",
    "plt.plot(X[kmeans.labels_ == 0][:,0], X[kmeans.labels_ == 0][:,1], 'gx')\n",
    "plt.plot(X[kmeans.labels_ == 1][:,0], X[kmeans.labels_ == 1][:,1], 'rx')\n",
    "plt.plot(X[kmeans.labels_ == 2][:,0], X[kmeans.labels_ == 2][:,1], 'bx')\n",
    "plt.plot(X[kmeans.labels_ == 3][:,0], X[kmeans.labels_ == 3][:,1], 'yx')\n",
    "plt.plot(X[kmeans.labels_ == 4][:,0], X[kmeans.labels_ == 4][:,1], 'ro')\n",
    "plt.plot(X[kmeans.labels_ == 5][:,0], X[kmeans.labels_ == 5][:,1], 'bo')\n",
    "plt.plot(X[kmeans.labels_ == 6][:,0], X[kmeans.labels_ == 6][:,1], 'go')\n",
    "plt.plot(X[kmeans.labels_ == 7][:,0], X[kmeans.labels_ == 7][:,1], 'ko')\n",
    "plt.plot(centres[:,0], centres[:,1],'k.')"
   ]
  },
  {
   "cell_type": "code",
   "execution_count": 43,
   "metadata": {},
   "outputs": [
    {
     "data": {
      "text/plain": [
       "9033.50298589591"
      ]
     },
     "execution_count": 43,
     "metadata": {},
     "output_type": "execute_result"
    }
   ],
   "source": [
    "kmeans.inertia_"
   ]
  },
  {
   "cell_type": "markdown",
   "metadata": {},
   "source": [
    "See [k-means clustering](https://www.analyticsvidhya.com/blog/2019/08/comprehensive-guide-k-means-clustering/) article on AnalyticsVidhya."
   ]
  },
  {
   "cell_type": "code",
   "execution_count": 44,
   "metadata": {},
   "outputs": [
    {
     "data": {
      "text/plain": [
       "Text(0, 0.5, 'Inertia')"
      ]
     },
     "execution_count": 44,
     "metadata": {},
     "output_type": "execute_result"
    },
    {
     "data": {
      "image/png": "[encoded data removed]",
      "text/plain": [
       "<Figure size 864x432 with 1 Axes>"
      ]
     },
     "metadata": {},
     "output_type": "display_data"
    }
   ],
   "source": [
    "# fitting multiple k-means algorithms and storing the values in an empty list\n",
    "Inertia = []\n",
    "for cluster in range(1,8):\n",
    "    kmeans = skcl.KMeans(n_clusters = cluster, init='k-means++')\n",
    "    kmeans.fit(X)\n",
    "    Inertia.append(kmeans.inertia_)\n",
    "\n",
    "# converting the results into a dataframe and plotting them\n",
    "frame = pd.DataFrame({'Cluster':range(1,8), 'Inertia':Inertia})\n",
    "plt.figure(figsize=(12,6))\n",
    "plt.plot(frame['Cluster'], frame['Inertia'], marker='o')\n",
    "plt.xlabel('Number of clusters')\n",
    "plt.ylabel('Inertia')"
   ]
  },
  {
   "cell_type": "markdown",
   "metadata": {},
   "source": [
    "This suggests that the correct number of clusters is two. However clustering is not really suitable here."
   ]
  },
  {
   "cell_type": "code",
   "execution_count": 45,
   "metadata": {},
   "outputs": [
    {
     "data": {
      "text/plain": [
       "[<matplotlib.lines.Line2D at 0x7f9778e4e340>]"
      ]
     },
     "execution_count": 45,
     "metadata": {},
     "output_type": "execute_result"
    },
    {
     "data": {
      "image/png": "[encoded data removed]",
      "text/plain": [
       "<Figure size 1008x720 with 1 Axes>"
      ]
     },
     "metadata": {},
     "output_type": "display_data"
    }
   ],
   "source": [
    "kmeans = skcl.KMeans(n_clusters=2, random_state=0).fit(X)\n",
    "# plot the clusters\n",
    "plt.plot(X[kmeans.labels_ == 0][:,0], X[kmeans.labels_ == 0][:,1], 'gx')\n",
    "plt.plot(X[kmeans.labels_ == 1][:,0], X[kmeans.labels_ == 1][:,1], 'rx')"
   ]
  },
  {
   "cell_type": "markdown",
   "metadata": {},
   "source": [
    "## Regression\n",
    "\n",
    "The scatter plot earlier in the notebook using Seaborn plots showed a relationship between wind speeds and wind turbine power that is non-linear. Therefore it is worth looking at higher order polynomials. The plot of the polynomial with order 3 looked to be a better fit to the line than the first or second order linear regression lines. \n",
    "Therefore I will look at using the numpy polyfit function as demostrated in class on the data. "
   ]
  },
  {
   "cell_type": "code",
   "execution_count": null,
   "metadata": {},
   "outputs": [],
   "source": []
  },
  {
   "cell_type": "code",
   "execution_count": 46,
   "metadata": {},
   "outputs": [],
   "source": [
    "# first importing the following libraries\n",
    "# Numerical arrays.\n",
    "import numpy as np\n",
    "import pandas as pd  \n",
    "# plotting\n",
    "import matplotlib.pyplot as plt \n",
    "import seaborn as sns\n",
    "\n",
    "import csv"
   ]
  },
  {
   "cell_type": "code",
   "execution_count": 47,
   "metadata": {},
   "outputs": [],
   "source": [
    "# save link to data and reference the link \n",
    "csv_url = 'https://raw.githubusercontent.com/ianmcloughlin/2020A-machstat-project/master/dataset/powerproduction.csv'\n",
    "# read the csv data into a pandas dataframe\n",
    "df = pd.read_csv(csv_url)\n",
    "df\n",
    "# write the dataframe to csv\n",
    "df.to_csv('df.csv')"
   ]
  },
  {
   "cell_type": "code",
   "execution_count": 48,
   "metadata": {},
   "outputs": [],
   "source": [
    "# Plots styles.\n",
    "plt.style.use('ggplot')\n",
    "\n",
    "# Plot size.\n",
    "plt.rcParams['figure.figsize'] = (14, 10)"
   ]
  },
  {
   "cell_type": "code",
   "execution_count": 49,
   "metadata": {},
   "outputs": [],
   "source": [
    "# assign speed to x and power to y\n",
    "x = df.speed\n",
    "y = df.power"
   ]
  },
  {
   "cell_type": "code",
   "execution_count": 50,
   "metadata": {},
   "outputs": [
    {
     "data": {
      "text/plain": [
       "[<matplotlib.lines.Line2D at 0x7f9779076df0>]"
      ]
     },
     "execution_count": 50,
     "metadata": {},
     "output_type": "execute_result"
    },
    {
     "data": {
      "image/png": "[encoded data removed]",
      "text/plain": [
       "<Figure size 1008x720 with 1 Axes>"
      ]
     },
     "metadata": {},
     "output_type": "display_data"
    }
   ],
   "source": [
    "# Plot x versus y.\n",
    "plt.plot(x, y, 'k.')"
   ]
  },
  {
   "cell_type": "code",
   "execution_count": 51,
   "metadata": {},
   "outputs": [
    {
     "data": {
      "text/plain": [
       "array([  4.91759567, -13.89990263])"
      ]
     },
     "execution_count": 51,
     "metadata": {},
     "output_type": "execute_result"
    }
   ],
   "source": [
    "# Do regression on the x and y arrays using numpy.\n",
    "np.polyfit(x, y, 1)"
   ]
  },
  {
   "cell_type": "code",
   "execution_count": 52,
   "metadata": {},
   "outputs": [
    {
     "data": {
      "text/plain": [
       "(4.917595665404671, -13.89990263051961)"
      ]
     },
     "execution_count": 52,
     "metadata": {},
     "output_type": "execute_result"
    }
   ],
   "source": [
    "# Create variables with those values.\n",
    "m, c = np.polyfit(x, y, 1)\n",
    "# Have a look at m and c.\n",
    "m, c"
   ]
  },
  {
   "cell_type": "markdown",
   "metadata": {},
   "source": [
    "As the plot below shows, there are sections of the fitted line where all the values either fall below the line or above the line. If a linear model was suitable you would expect to see the line going through the centre of the data. The quadratic model does not improve on this. The cubic polynomial fits the data better and the fourth order polynomial does seem to be even better for the datapoints at the lower end."
   ]
  },
  {
   "cell_type": "code",
   "execution_count": 53,
   "metadata": {},
   "outputs": [
    {
     "data": {
      "text/plain": [
       "[<matplotlib.lines.Line2D at 0x7f97792a9b80>]"
      ]
     },
     "execution_count": 53,
     "metadata": {},
     "output_type": "execute_result"
    },
    {
     "data": {
      "image/png": "[encoded data removed]",
      "text/plain": [
       "<Figure size 1008x720 with 1 Axes>"
      ]
     },
     "metadata": {},
     "output_type": "display_data"
    }
   ],
   "source": [
    "# Plot x and y and the regression line in red.\n",
    "plt.plot(x, y, 'k.')\n",
    "plt.plot(x, m * x + c, 'r-')"
   ]
  },
  {
   "cell_type": "code",
   "execution_count": 54,
   "metadata": {},
   "outputs": [
    {
     "data": {
      "text/plain": [
       "(4.917595665404668, -13.899902630519541)"
      ]
     },
     "execution_count": 54,
     "metadata": {},
     "output_type": "execute_result"
    }
   ],
   "source": [
    "# Calculate mean x and mean y.\n",
    "x_avg = np.mean(x)\n",
    "y_avg = np.mean(y)\n",
    "\n",
    "# Subtract means from x and y.\n",
    "x_zero = x - x_avg\n",
    "y_zero = y - y_avg\n",
    "\n",
    "# Dot product of mean-adjusted x and y divided by dot product of mean adjusted x with itself.\n",
    "m = np.sum(x_zero * y_zero) / np.sum(x_zero * x_zero)\n",
    "# Subtract m times average x from average y.\n",
    "c = y_avg - m * x_avg\n",
    "\n",
    "# Let's have a look - same values as above.\n",
    "m, c"
   ]
  },
  {
   "cell_type": "code",
   "execution_count": 55,
   "metadata": {},
   "outputs": [
    {
     "data": {
      "text/plain": [
       "[<matplotlib.lines.Line2D at 0x7f9778be9220>]"
      ]
     },
     "execution_count": 55,
     "metadata": {},
     "output_type": "execute_result"
    },
    {
     "data": {
      "image/png": "[encoded data removed]",
      "text/plain": [
       "<Figure size 1008x720 with 1 Axes>"
      ]
     },
     "metadata": {},
     "output_type": "display_data"
    }
   ],
   "source": [
    "# Create variables with those values.\n",
    "a, b, c = np.polyfit(x, y, 2)\n",
    "\n",
    "# Plot the line and the points.\n",
    "plt.plot(x, y, 'k.')\n",
    "plt.plot(x, a * x * x + b * x + c, 'r-')"
   ]
  },
  {
   "cell_type": "markdown",
   "metadata": {},
   "source": [
    "$ax^3+bx^2+cx+d=0$"
   ]
  },
  {
   "cell_type": "code",
   "execution_count": 56,
   "metadata": {},
   "outputs": [],
   "source": [
    "# Create variables with those values.\n",
    "a,b,c,d =np.polyfit(x, y, 3)"
   ]
  },
  {
   "cell_type": "code",
   "execution_count": 57,
   "metadata": {},
   "outputs": [
    {
     "data": {
      "text/plain": [
       "[<matplotlib.lines.Line2D at 0x7f9779522a60>]"
      ]
     },
     "execution_count": 57,
     "metadata": {},
     "output_type": "execute_result"
    },
    {
     "data": {
      "image/png": "[encoded data removed]",
      "text/plain": [
       "<Figure size 1008x720 with 1 Axes>"
      ]
     },
     "metadata": {},
     "output_type": "display_data"
    }
   ],
   "source": [
    "# Plot the line and the points.\n",
    "plt.plot(x, y, 'k.')\n",
    "plt.plot(x, a * x * x *x + b * x * x+ c*x + d, 'r-')"
   ]
  },
  {
   "cell_type": "markdown",
   "metadata": {},
   "source": [
    "### A Fourth order polynomial\n",
    "$ax^4+bx^3+cx^2+dx +e=0$\n"
   ]
  },
  {
   "cell_type": "code",
   "execution_count": 58,
   "metadata": {},
   "outputs": [],
   "source": [
    "# Create variables with those values.\n",
    "a,b,c,d,e =np.polyfit(x, y, 4)"
   ]
  },
  {
   "cell_type": "code",
   "execution_count": 59,
   "metadata": {},
   "outputs": [
    {
     "data": {
      "text/plain": [
       "[<matplotlib.lines.Line2D at 0x7f9776369820>]"
      ]
     },
     "execution_count": 59,
     "metadata": {},
     "output_type": "execute_result"
    },
    {
     "data": {
      "image/png": "[encoded data removed]",
      "text/plain": [
       "<Figure size 1008x720 with 1 Axes>"
      ]
     },
     "metadata": {},
     "output_type": "display_data"
    }
   ],
   "source": [
    "# Plot the line and the points.\n",
    "plt.plot(x, y, 'k.')\n",
    "plt.plot(x, a * x * x *x* x + b * x * x* x + c * x * x + d* x + e, 'r-')"
   ]
  },
  {
   "cell_type": "markdown",
   "metadata": {},
   "source": [
    "https://scikit-learn.org/stable/modules/linear_model.html#ordinary-least-squares\n",
    "\n",
    "LinearRegression fits a linear model with coefficients to minimize the residual sum of squares between the observed targets in the dataset, and the targets predicted by the linear approximation.\n",
    "LinearRegression will take in its fit method arrays X, y and will store the coefficients  of the linear model in its coef_ member:"
   ]
  },
  {
   "cell_type": "code",
   "execution_count": 60,
   "metadata": {},
   "outputs": [],
   "source": [
    "\n",
    "# Import linear_model from sklearn.\n",
    "import sklearn.linear_model as lm"
   ]
  },
  {
   "cell_type": "code",
   "execution_count": 61,
   "metadata": {},
   "outputs": [
    {
     "data": {
      "text/html": [
       "<div>\n",
       "<style scoped>\n",
       "    .dataframe tbody tr th:only-of-type {\n",
       "        vertical-align: middle;\n",
       "    }\n",
       "\n",
       "    .dataframe tbody tr th {\n",
       "        vertical-align: top;\n",
       "    }\n",
       "\n",
       "    .dataframe thead th {\n",
       "        text-align: right;\n",
       "    }\n",
       "</style>\n",
       "<table border=\"1\" class=\"dataframe\">\n",
       "  <thead>\n",
       "    <tr style=\"text-align: right;\">\n",
       "      <th></th>\n",
       "      <th>speed</th>\n",
       "      <th>power</th>\n",
       "    </tr>\n",
       "  </thead>\n",
       "  <tbody>\n",
       "    <tr>\n",
       "      <th>0</th>\n",
       "      <td>0.000</td>\n",
       "      <td>0.0</td>\n",
       "    </tr>\n",
       "    <tr>\n",
       "      <th>1</th>\n",
       "      <td>0.125</td>\n",
       "      <td>0.0</td>\n",
       "    </tr>\n",
       "    <tr>\n",
       "      <th>2</th>\n",
       "      <td>0.150</td>\n",
       "      <td>0.0</td>\n",
       "    </tr>\n",
       "    <tr>\n",
       "      <th>3</th>\n",
       "      <td>0.225</td>\n",
       "      <td>0.0</td>\n",
       "    </tr>\n",
       "    <tr>\n",
       "      <th>4</th>\n",
       "      <td>0.275</td>\n",
       "      <td>0.0</td>\n",
       "    </tr>\n",
       "  </tbody>\n",
       "</table>\n",
       "</div>"
      ],
      "text/plain": [
       "   speed  power\n",
       "0  0.000    0.0\n",
       "1  0.125    0.0\n",
       "2  0.150    0.0\n",
       "3  0.225    0.0\n",
       "4  0.275    0.0"
      ]
     },
     "execution_count": 61,
     "metadata": {},
     "output_type": "execute_result"
    }
   ],
   "source": [
    "df.head()"
   ]
  },
  {
   "cell_type": "code",
   "execution_count": 62,
   "metadata": {},
   "outputs": [
    {
     "data": {
      "text/plain": [
       "(500, 1)"
      ]
     },
     "execution_count": 62,
     "metadata": {},
     "output_type": "execute_result"
    }
   ],
   "source": [
    "# assign speed to x and power to y, \n",
    "x = np.array(df.speed)\n",
    "y = np.array(df.power)\n",
    "# for indexing the array\n",
    "x = x[:, np.newaxis]\n",
    "x.shape\n",
    "y = y[:, np.newaxis]\n",
    "y.shape"
   ]
  },
  {
   "cell_type": "code",
   "execution_count": 63,
   "metadata": {},
   "outputs": [],
   "source": [
    "# Create a linear regression model instance.\n",
    "regr = lm.LinearRegression()"
   ]
  },
  {
   "cell_type": "code",
   "execution_count": 64,
   "metadata": {},
   "outputs": [
    {
     "data": {
      "text/plain": [
       "LinearRegression()"
      ]
     },
     "execution_count": 64,
     "metadata": {},
     "output_type": "execute_result"
    }
   ],
   "source": [
    "# Train the model using the training sets\n",
    "regr.fit(x,y)"
   ]
  },
  {
   "cell_type": "code",
   "execution_count": 68,
   "metadata": {},
   "outputs": [
    {
     "data": {
      "text/plain": [
       "array([-13.89990263])"
      ]
     },
     "execution_count": 68,
     "metadata": {},
     "output_type": "execute_result"
    }
   ],
   "source": [
    "# Here's our intercept.\n",
    "regr.intercept_"
   ]
  },
  {
   "cell_type": "code",
   "execution_count": 69,
   "metadata": {},
   "outputs": [
    {
     "data": {
      "text/plain": [
       "array([[4.91759567]])"
      ]
     },
     "execution_count": 69,
     "metadata": {},
     "output_type": "execute_result"
    }
   ],
   "source": [
    "regr.coef_"
   ]
  },
  {
   "cell_type": "code",
   "execution_count": 67,
   "metadata": {},
   "outputs": [],
   "source": [
    "# See how good our fit is.\n",
    "#reg.score(x, y)"
   ]
  },
  {
   "cell_type": "code",
   "execution_count": 166,
   "metadata": {},
   "outputs": [],
   "source": [
    "#plt.plot(x, y, 'x')"
   ]
  },
  {
   "cell_type": "code",
   "execution_count": 171,
   "metadata": {},
   "outputs": [],
   "source": [
    "\n",
    "reg = linear_model.Ridge(alpha=.5)"
   ]
  },
  {
   "cell_type": "code",
   "execution_count": 172,
   "metadata": {},
   "outputs": [
    {
     "data": {
      "text/plain": [
       "Ridge(alpha=0.5)"
      ]
     },
     "execution_count": 172,
     "metadata": {},
     "output_type": "execute_result"
    }
   ],
   "source": [
    "reg.fit(x,y)"
   ]
  },
  {
   "cell_type": "code",
   "execution_count": 173,
   "metadata": {},
   "outputs": [
    {
     "data": {
      "text/plain": [
       "array([[4.91750127]])"
      ]
     },
     "execution_count": 173,
     "metadata": {},
     "output_type": "execute_result"
    }
   ],
   "source": [
    "reg.coef_"
   ]
  },
  {
   "cell_type": "code",
   "execution_count": 174,
   "metadata": {},
   "outputs": [
    {
     "data": {
      "text/plain": [
       "array([-13.89871419])"
      ]
     },
     "execution_count": 174,
     "metadata": {},
     "output_type": "execute_result"
    }
   ],
   "source": [
    "reg.intercept_"
   ]
  },
  {
   "cell_type": "markdown",
   "metadata": {},
   "source": [
    "## Machine Learning - Neural Networks\n",
    "\n",
    "Here I will go through the lecture notes first and apply some of the techniques.\n",
    "\n",
    "Machine learning is the science of getting computers to act without being explicitly programmed.\n",
    "- https://www.investopedia.com/terms/n/neuralnetwork.asp#:~:text=A%20neural%20network%20is%20a,organic%20or%20artificial%20in%20nature.\n",
    "- https://en.wikipedia.org/wiki/Artificial_neural_network\n",
    "\n",
    "- https://news.mit.edu/2017/explained-neural-networks-deep-learning-0414\n",
    "\n",
    ">Neural nets are a means of doing machine learning, in which a computer learns to perform some task by analyzing training examples.\n",
    ">Modeled loosely on the human brain, a neural net consists of thousands or even millions of simple processing nodes that are densely interconnected. Most of today’s neural nets are organized into layers of nodes, and they’re “feed-forward,” meaning that data moves through them in only one direction. An individual node might be connected to several nodes in the layer beneath it, from which it receives data, and several nodes in the layer above it, to which it sends data.\n",
    ">To each of its incoming connections, a node will assign a number known as a “weight.” When the network is active, the node receives a different data item — a different number — over each of its connections and multiplies it by the associated weight. It then adds the resulting products together, yielding a single number. If that number is below a threshold value, the node passes no data to the next layer. If the number exceeds the threshold value, the node “fires,” which in today’s neural nets generally means sending the number — the sum of the weighted inputs — along all its outgoing connections.\n",
    "When a neural net is being trained, all of its weights and thresholds are initially set to random values. Training data is fed to the bottom layer — the input layer — and it passes through the succeeding layers, getting multiplied and added together in complex ways, until it finally arrives, radically transformed, at the output layer. During training, the weights and thresholds are continually adjusted until training data with the same labels consistently yield similar outputs.\n",
    "[Mit News](https://news.mit.edu/2017/explained-neural-networks-deep-learning-0414)[nn1]"
   ]
  },
  {
   "cell_type": "markdown",
   "metadata": {},
   "source": [
    "\n",
    "Here I am referring to the [Introduction to Keras for Engineers](https://keras.io/getting_started/intro_to_keras_for_engineers/) article and noting relevant points.\n",
    "\n",
    "\n",
    "- First we need to prepare the data before training the model by by turning it into either NumPy arrays or tf.data.Dataset objects). \n",
    "The dataset for this project is in csv format. I have already read it into a pandas dataframe but it can be easily converted into a numpy array. \n",
    "\n",
    "x = np.array(df.speed)\n",
    "y = np.array(df.power)\n",
    "\n",
    "- Do preprocessing such as feature normalisation.\n",
    "The data consists of two columns of data and thats it. The only preprocesing that is applicable here is to rescale the data to small values as in general the input values to a neural network should be close to zero. According to the tutorial  the data should either be rescaled to have zero-mean and unit-variance or the data in the `[0.1]` range. The preprocessing should ideally be done as part of the model to make it more portable in production. In Keras the preprocessing is done via preprocessing layers which can be included directly into your model either during training or after training. Some preprocessing layers have a state, in this case normalization holds the mean and variance of the features and can be obtained by calling `layer.adapt(data)` on a sample or all of the training data.\n",
    "\n",
    "## Data loading and preprocessing\n",
    ">Neural networks don't process raw data, like text files, encoded JPEG image files, or CSV files. They process vectorized & standardized representations.\n",
    "\n",
    "CSV data needs to be parsed, with numerical features converted to floating point tensors and categorical features indexed and converted to integer tensors. Then each feature typically needs to be normalized to zero-mean and unit-variance.\n",
    "\n",
    "\n",
    "\n",
    "Build a model that turns your data into useful predictions\n",
    "Train your model with the built-in Keras fit() method\n",
    "Evaluate your model on a test data and how to use it for inference on new data\n",
    "Customize what fit() does,\n",
    "Speed up training by leveraging multiple GPUs. - I don't think we will need this here!\n",
    "Refine your model through hyperparameter tuning"
   ]
  },
  {
   "cell_type": "code",
   "execution_count": 70,
   "metadata": {},
   "outputs": [],
   "source": [
    "x = np.array(df.speed)\n",
    "y = np.array(df.power)"
   ]
  },
  {
   "cell_type": "code",
   "execution_count": 71,
   "metadata": {},
   "outputs": [
    {
     "data": {
      "text/plain": [
       "(500, 2)"
      ]
     },
     "execution_count": 71,
     "metadata": {},
     "output_type": "execute_result"
    }
   ],
   "source": [
    "X =  np.vstack([x, y]).T\n",
    "X.size \n",
    "# 1000\n",
    "X.shape\n",
    "# (500, 2)"
   ]
  },
  {
   "cell_type": "code",
   "execution_count": 72,
   "metadata": {},
   "outputs": [
    {
     "name": "stdout",
     "output_type": "stream",
     "text": [
      "30.302491000000003\n"
     ]
    }
   ],
   "source": [
    "mean = np.mean(X)\n",
    "X -= mean\n",
    "print(mean)\n",
    "std = np.std(X, axis=0)\n",
    "X /= std\n"
   ]
  },
  {
   "cell_type": "code",
   "execution_count": 73,
   "metadata": {},
   "outputs": [
    {
     "name": "stdout",
     "output_type": "stream",
     "text": [
      "var: 1.0000\n",
      "mean: 0.0000\n"
     ]
    }
   ],
   "source": [
    "from tensorflow.keras.layers.experimental.preprocessing import Normalization\n",
    "\n",
    "# Example image data, with values in the [0, 255] range\n",
    "training_data = X\n",
    "\n",
    "normalizer = Normalization(axis=1)\n",
    "normalizer.adapt(X)\n",
    "\n",
    "\n",
    "normalized_data = normalizer(training_data)\n",
    "print(\"var: %.4f\" % np.var(normalized_data))\n",
    "print(\"mean: %.4f\" % np.mean(normalized_data))"
   ]
  },
  {
   "cell_type": "code",
   "execution_count": 74,
   "metadata": {},
   "outputs": [
    {
     "data": {
      "text/plain": [
       "<tf.Tensor: shape=(500, 2), dtype=float32, numpy=\n",
       "array([[-1.74436283e+00, -1.15494812e+00],\n",
       "       [-1.72704458e+00, -1.15494812e+00],\n",
       "       [-1.72358084e+00, -1.15494812e+00],\n",
       "       [-1.71318960e+00, -1.15494812e+00],\n",
       "       [-1.70626259e+00, -1.15494812e+00],\n",
       "       [-1.69933510e+00, -1.05076981e+00],\n",
       "       [-1.68894386e+00, -1.03020346e+00],\n",
       "       [-1.68201685e+00, -1.06291699e+00],\n",
       "       [-1.67495060e+00, -1.12973940e+00],\n",
       "       [-1.67148733e+00, -1.02137566e+00],\n",
       "       [-1.66802359e+00, -9.98644471e-01],\n",
       "       [-1.66455984e+00, -1.02888048e+00],\n",
       "       [-1.65763235e+00, -1.05343974e+00],\n",
       "       [-1.65070486e+00, -9.63140607e-01],\n",
       "       [-1.64724159e+00, -9.20516729e-01],\n",
       "       [-1.64377785e+00, -1.15494812e+00],\n",
       "       [-1.64031410e+00, -1.15494812e+00],\n",
       "       [-1.63338661e+00, -9.80050683e-01],\n",
       "       [-1.62992287e+00, -1.13582516e+00],\n",
       "       [-1.62645912e+00, -9.78150368e-01],\n",
       "       [-1.61606836e+00, -1.10693610e+00],\n",
       "       [-1.61260462e+00, -1.11624503e+00],\n",
       "       [-1.60914087e+00, -1.10530043e+00],\n",
       "       [-1.60567713e+00, -9.98331785e-01],\n",
       "       [-1.60221338e+00, -1.15494812e+00],\n",
       "       [-1.59875011e+00, -1.10479522e+00],\n",
       "       [-1.59528637e+00, -1.15494812e+00],\n",
       "       [-1.59182262e+00, -1.15203762e+00],\n",
       "       [-1.58489513e+00, -1.12589073e+00],\n",
       "       [-1.57104063e+00, -1.07381356e+00],\n",
       "       [-1.56757689e+00, -9.98355806e-01],\n",
       "       [-1.56411314e+00, -1.15494812e+00],\n",
       "       [-1.55025864e+00, -1.05497921e+00],\n",
       "       [-1.54679489e+00, -1.10671961e+00],\n",
       "       [-1.53626513e+00, -1.02621055e+00],\n",
       "       [-1.52933788e+00, -1.15494812e+00],\n",
       "       [-1.51548314e+00, -9.81253386e-01],\n",
       "       [-1.51201940e+00, -1.15494812e+00],\n",
       "       [-1.50855589e+00, -1.09628010e+00],\n",
       "       [-1.49123740e+00, -1.15494812e+00],\n",
       "       [-1.48430991e+00, -1.09820437e+00],\n",
       "       [-1.48084641e+00, -9.85414743e-01],\n",
       "       [-1.46352792e+00, -1.15494812e+00],\n",
       "       [-1.45660067e+00, -1.15494812e+00],\n",
       "       [-1.45313692e+00, -1.15494812e+00],\n",
       "       [-1.44274592e+00, -1.08997798e+00],\n",
       "       [-1.43581843e+00, -1.08593678e+00],\n",
       "       [-1.43235493e+00, -1.15494812e+00],\n",
       "       [-1.41157269e+00, -1.09993637e+00],\n",
       "       [-1.40118170e+00, -9.87844169e-01],\n",
       "       [-1.39065218e+00, -1.09793985e+00],\n",
       "       [-1.38718843e+00, -1.07881689e+00],\n",
       "       [-1.36987019e+00, -1.13890398e+00],\n",
       "       [-1.35255170e+00, -9.73123074e-01],\n",
       "       [-1.34908795e+00, -8.15039456e-01],\n",
       "       [-1.33523345e+00, -1.08533549e+00],\n",
       "       [-1.32830596e+00, -1.06888247e+00],\n",
       "       [-1.32484221e+00, -1.09161353e+00],\n",
       "       [-1.32137871e+00, -1.08673072e+00],\n",
       "       [-1.31791496e+00, -1.08127034e+00],\n",
       "       [-1.31098771e+00, -1.15494812e+00],\n",
       "       [-1.30059648e+00, -1.12223458e+00],\n",
       "       [-1.27635074e+00, -1.05069757e+00],\n",
       "       [-1.27288723e+00, -1.10282278e+00],\n",
       "       [-1.26942348e+00, -9.90923107e-01],\n",
       "       [-1.25889397e+00, -1.15494812e+00],\n",
       "       [-1.25543022e+00, -1.02746129e+00],\n",
       "       [-1.24850297e+00, -1.15494812e+00],\n",
       "       [-1.24503922e+00, -1.11802506e+00],\n",
       "       [-1.24157548e+00, -9.17052984e-01],\n",
       "       [-1.23464823e+00, -1.15494812e+00],\n",
       "       [-1.23118448e+00, -1.10034525e+00],\n",
       "       [-1.22772074e+00, -1.04441953e+00],\n",
       "       [-1.22079349e+00, -1.15494812e+00],\n",
       "       [-1.21732974e+00, -1.15494812e+00],\n",
       "       [-1.20693874e+00, -1.15494812e+00],\n",
       "       [-1.20347500e+00, -1.04783511e+00],\n",
       "       [-1.20001149e+00, -1.04874921e+00],\n",
       "       [-1.19654775e+00, -1.15177298e+00],\n",
       "       [-1.19308400e+00, -1.10611820e+00],\n",
       "       [-1.16537452e+00, -1.13005209e+00],\n",
       "       [-1.14805627e+00, -1.04821992e+00],\n",
       "       [-1.14459252e+00, -1.12985969e+00],\n",
       "       [-1.13073778e+00, -1.15494812e+00],\n",
       "       [-1.11674452e+00, -1.06031919e+00],\n",
       "       [-1.11328101e+00, -9.90802824e-01],\n",
       "       [-1.10635352e+00, -8.28004599e-01],\n",
       "       [-1.08903527e+00, -1.13522375e+00],\n",
       "       [-1.08210778e+00, -9.03726935e-01],\n",
       "       [-1.06825304e+00, -1.15494812e+00],\n",
       "       [-1.06478953e+00, -9.85126078e-01],\n",
       "       [-1.06132579e+00, -1.13219285e+00],\n",
       "       [-1.05786204e+00, -1.10907698e+00],\n",
       "       [-1.05439830e+00, -1.11451316e+00],\n",
       "       [-1.04747105e+00, -9.25976992e-01],\n",
       "       [-1.04054379e+00, -1.08343530e+00],\n",
       "       [-1.03361630e+00, -9.47529495e-01],\n",
       "       [-1.02668905e+00, -1.04610324e+00],\n",
       "       [-1.02322531e+00, -1.13252974e+00],\n",
       "       [-1.01629806e+00, -1.09534192e+00],\n",
       "       [-1.01283431e+00, -1.15223002e+00],\n",
       "       [-1.00937057e+00, -8.74380946e-01],\n",
       "       [-9.92052317e-01, -1.13260174e+00],\n",
       "       [-9.88588572e-01, -1.04781103e+00],\n",
       "       [-9.81522560e-01, -1.07797492e+00],\n",
       "       [-9.74595308e-01, -1.15494812e+00],\n",
       "       [-9.64204311e-01, -1.00619745e+00],\n",
       "       [-9.57276821e-01, -1.08191979e+00],\n",
       "       [-9.53813314e-01, -1.11583614e+00],\n",
       "       [-9.50349569e-01, -1.01949942e+00],\n",
       "       [-9.43422079e-01, -1.15494812e+00],\n",
       "       [-9.39958572e-01, -1.15494812e+00],\n",
       "       [-9.36494827e-01, -1.04959106e+00],\n",
       "       [-9.26103830e-01, -1.11102533e+00],\n",
       "       [-9.22640085e-01, -1.15494812e+00],\n",
       "       [-9.19176340e-01, -1.05170786e+00],\n",
       "       [-9.15712833e-01, -1.08851063e+00],\n",
       "       [-9.12249088e-01, -1.02171230e+00],\n",
       "       [-9.08785343e-01, -1.06084847e+00],\n",
       "       [-9.01858091e-01, -1.05969381e+00],\n",
       "       [-8.98394346e-01, -1.13096619e+00],\n",
       "       [-8.94930601e-01, -8.93624246e-01],\n",
       "       [-8.91467094e-01, -1.10116315e+00],\n",
       "       [-8.88003349e-01, -1.02633071e+00],\n",
       "       [-8.81076097e-01, -9.98812854e-01],\n",
       "       [-8.63757610e-01, -1.01442397e+00],\n",
       "       [-8.56830359e-01, -9.99895275e-01],\n",
       "       [-8.49902868e-01, -1.07051814e+00],\n",
       "       [-8.46439123e-01, -9.08104777e-01],\n",
       "       [-8.28982353e-01, -1.01827264e+00],\n",
       "       [-8.18591356e-01, -9.13348615e-01],\n",
       "       [-8.11663866e-01, -9.36560810e-01],\n",
       "       [-8.08200121e-01, -1.11814523e+00],\n",
       "       [-8.04736614e-01, -1.15494812e+00],\n",
       "       [-7.97809124e-01, -9.47697878e-01],\n",
       "       [-7.94345617e-01, -1.15494812e+00],\n",
       "       [-7.80490875e-01, -1.15494812e+00],\n",
       "       [-7.77027130e-01, -1.05423355e+00],\n",
       "       [-7.66636133e-01, -1.11922765e+00],\n",
       "       [-7.63172388e-01, -9.19722915e-01],\n",
       "       [-7.59708643e-01, -1.15494812e+00],\n",
       "       [-7.52781391e-01, -9.63164687e-01],\n",
       "       [-7.49317646e-01, -1.15333652e+00],\n",
       "       [-7.45854139e-01, -9.56790328e-01],\n",
       "       [-7.42390394e-01, -9.28695142e-01],\n",
       "       [-7.38926649e-01, -1.02861595e+00],\n",
       "       [-7.31999397e-01, -1.05288649e+00],\n",
       "       [-7.21608400e-01, -1.04437137e+00],\n",
       "       [-7.18144655e-01, -1.07985115e+00],\n",
       "       [-7.14680910e-01, -1.15494812e+00],\n",
       "       [-7.04151392e-01, -9.37643290e-01],\n",
       "       [-6.97223902e-01, -9.90105271e-01],\n",
       "       [-6.90296650e-01, -9.51185703e-01],\n",
       "       [-6.86832905e-01, -7.99235940e-01],\n",
       "       [-6.79905653e-01, -9.80676055e-01],\n",
       "       [-6.76441908e-01, -9.07262921e-01],\n",
       "       [-6.72978163e-01, -1.04807568e+00],\n",
       "       [-6.62587166e-01, -8.38828981e-01],\n",
       "       [-6.59123659e-01, -8.82631540e-01],\n",
       "       [-6.55659914e-01, -9.29200292e-01],\n",
       "       [-6.52196169e-01, -1.01189828e+00],\n",
       "       [-6.48732424e-01, -8.05898905e-01],\n",
       "       [-6.45268917e-01, -1.01793587e+00],\n",
       "       [-6.31414175e-01, -9.86978233e-01],\n",
       "       [-6.24486685e-01, -1.02541673e+00],\n",
       "       [-6.17559433e-01, -8.72336388e-01],\n",
       "       [-6.10632181e-01, -9.66604412e-01],\n",
       "       [-6.07168436e-01, -9.67686832e-01],\n",
       "       [-5.93313694e-01, -9.18929160e-01],\n",
       "       [-5.79458952e-01, -9.94843960e-01],\n",
       "       [-5.72531700e-01, -1.08278584e+00],\n",
       "       [-5.62001944e-01, -8.80202055e-01],\n",
       "       [-5.48147440e-01, -8.39526534e-01],\n",
       "       [-5.44683695e-01, -7.60147989e-01],\n",
       "       [-5.41219950e-01, -9.28358376e-01],\n",
       "       [-5.30828953e-01, -9.39976513e-01],\n",
       "       [-5.20437956e-01, -8.96125853e-01],\n",
       "       [-5.16974211e-01, -8.14341903e-01],\n",
       "       [-5.13510466e-01, -7.53316641e-01],\n",
       "       [-5.03119469e-01, -1.02135158e+00],\n",
       "       [-4.68482733e-01, -8.87466431e-01],\n",
       "       [-4.61555481e-01, -8.23626757e-01],\n",
       "       [-4.54627991e-01, -8.45107079e-01],\n",
       "       [-4.37309742e-01, -7.21108198e-01],\n",
       "       [-4.23316479e-01, -7.20963836e-01],\n",
       "       [-4.19852734e-01, -9.16547775e-01],\n",
       "       [-4.12925482e-01, -8.16867590e-01],\n",
       "       [-3.95606995e-01, -7.36574948e-01],\n",
       "       [-3.85215998e-01, -5.73704600e-01],\n",
       "       [-3.81752253e-01, -7.84659147e-01],\n",
       "       [-3.78288507e-01, -7.97864795e-01],\n",
       "       [-3.74825001e-01, -5.02215743e-01],\n",
       "       [-3.67897511e-01, -8.23386252e-01],\n",
       "       [-3.64434004e-01, -8.26441109e-01],\n",
       "       [-3.60970259e-01, -6.89404845e-01],\n",
       "       [-3.54042768e-01, -7.66738772e-01],\n",
       "       [-3.47115517e-01, -6.56811535e-01],\n",
       "       [-3.43651772e-01, -5.19270122e-01],\n",
       "       [-3.40188265e-01, -8.51289034e-01],\n",
       "       [-3.36724520e-01, -7.58680701e-01],\n",
       "       [-3.33260775e-01, -6.18421197e-01],\n",
       "       [-3.29797029e-01, -6.56931818e-01],\n",
       "       [-3.26333523e-01, -4.25122350e-01],\n",
       "       [-3.22869778e-01, -5.70601583e-01],\n",
       "       [-3.19406033e-01, -6.58567488e-01],\n",
       "       [-3.09015036e-01, -4.77079213e-01],\n",
       "       [-3.05551291e-01, -6.20561957e-01],\n",
       "       [-2.91696787e-01, -8.29736531e-01],\n",
       "       [-2.88094521e-01, -1.15494812e+00],\n",
       "       [-2.81167030e-01, -6.07524633e-01],\n",
       "       [-2.67312288e-01, -5.07243037e-01],\n",
       "       [-2.60385036e-01, -5.54990470e-01],\n",
       "       [-2.56921291e-01, -7.78789878e-01],\n",
       "       [-2.53457785e-01, -5.85154295e-01],\n",
       "       [-2.36139297e-01, -4.21706647e-01],\n",
       "       [-2.25748301e-01, -4.05590415e-01],\n",
       "       [-2.22284555e-01, -4.88937885e-01],\n",
       "       [-2.18820810e-01, -4.70560551e-01],\n",
       "       [-2.15357304e-01, -4.76117045e-01],\n",
       "       [-2.04966307e-01, -4.01188493e-01],\n",
       "       [-1.98038816e-01, -4.42922384e-01],\n",
       "       [-1.91111565e-01, -3.96521986e-01],\n",
       "       [-1.80720568e-01, -3.20438862e-01],\n",
       "       [-1.77256823e-01, -1.87395573e-01],\n",
       "       [-1.73793077e-01, -3.46994579e-01],\n",
       "       [-1.70329332e-01, -2.36465946e-01],\n",
       "       [-1.66865826e-01, -2.25593492e-01],\n",
       "       [-1.35554075e-01, -4.04123098e-01],\n",
       "       [-1.28626823e-01, -1.57039285e-01],\n",
       "       [-1.25163078e-01, -1.33009225e-01],\n",
       "       [-1.18235826e-01, -2.27614045e-01],\n",
       "       [-1.11308336e-01, -2.70069540e-01],\n",
       "       [-1.07844591e-01, -3.89065236e-01],\n",
       "       [-1.00917339e-01, -1.52084142e-01],\n",
       "       [-9.05263424e-02,  8.81923437e-02],\n",
       "       [-8.70625973e-02, -2.57874131e-01],\n",
       "       [-8.35988522e-02, -1.79584026e-02],\n",
       "       [-7.66716003e-02, -2.02790201e-01],\n",
       "       [-5.93531132e-02, -1.54321164e-01],\n",
       "       [-5.58896065e-02, -7.11660981e-02],\n",
       "       [-5.24258614e-02, -1.15858644e-01],\n",
       "       [-4.54986095e-02, -4.51876819e-02],\n",
       "       [-4.20348644e-02, -1.09700799e-01],\n",
       "       [-3.51073742e-02, -1.76216662e-02],\n",
       "       [-3.16438675e-02, -1.80299610e-01],\n",
       "       [-2.81801224e-02, -2.61121392e-01],\n",
       "       [-2.47163773e-02,  1.18765175e-01],\n",
       "       [-1.77891254e-02, -7.86469281e-02],\n",
       "       [-1.43253803e-02, -7.88874626e-02],\n",
       "       [-7.25960732e-03, -7.72998929e-02],\n",
       "       [-3.79586220e-03, -1.36593282e-01],\n",
       "       [-3.32117081e-04,  1.45874143e-01],\n",
       "       [ 3.13162804e-03,  8.31410289e-02],\n",
       "       [ 1.00588799e-02, -7.53996372e-02],\n",
       "       [ 1.69861317e-02,  7.53955841e-02],\n",
       "       [ 2.04498768e-02, -1.61302984e-02],\n",
       "       [ 2.73773670e-02,  6.35850132e-02],\n",
       "       [ 3.77683640e-02, -5.47432899e-03],\n",
       "       [ 4.12318707e-02,  1.42867386e-01],\n",
       "       [ 5.16231060e-02,  1.26678944e-01],\n",
       "       [ 5.50866127e-02,  4.28503752e-02],\n",
       "       [ 6.20141029e-02,  2.44231403e-01],\n",
       "       [ 9.31870937e-02,  3.56371641e-01],\n",
       "       [ 1.00114584e-01,  2.81924188e-01],\n",
       "       [ 1.03578091e-01,  3.97528231e-01],\n",
       "       [ 1.10505581e-01,  3.43983769e-01],\n",
       "       [ 1.17432833e-01,  4.23121810e-01],\n",
       "       [ 1.31426096e-01,  4.29953158e-01],\n",
       "       [ 1.34889841e-01,  3.69673550e-01],\n",
       "       [ 1.55671835e-01,  3.15407515e-01],\n",
       "       [ 1.59135580e-01,  3.66835177e-01],\n",
       "       [ 1.86845064e-01,  3.82350087e-01],\n",
       "       [ 1.90308571e-01,  4.86311972e-01],\n",
       "       [ 1.93772316e-01,  4.22905326e-01],\n",
       "       [ 1.97236061e-01,  5.10558486e-01],\n",
       "       [ 2.00699568e-01,  4.45852935e-01],\n",
       "       [ 2.14554310e-01,  4.46959436e-01],\n",
       "       [ 2.21481800e-01,  4.63003516e-01],\n",
       "       [ 2.31872797e-01,  4.68993008e-01],\n",
       "       [ 2.35336542e-01,  4.95548725e-01],\n",
       "       [ 2.42263794e-01,  4.24011827e-01],\n",
       "       [ 2.45727539e-01,  6.86418056e-01],\n",
       "       [ 2.49191046e-01,  3.89830887e-01],\n",
       "       [ 2.63045788e-01,  5.71246982e-01],\n",
       "       [ 2.70111799e-01,  6.16685271e-01],\n",
       "       [ 2.77039051e-01,  4.63147819e-01],\n",
       "       [ 2.80502796e-01,  5.77332735e-01],\n",
       "       [ 2.83966541e-01,  7.59422302e-01],\n",
       "       [ 2.94357538e-01,  7.33275533e-01],\n",
       "       [ 2.97821283e-01,  5.21599352e-01],\n",
       "       [ 3.01284790e-01,  8.21024895e-01],\n",
       "       [ 3.11675787e-01,  6.60319328e-01],\n",
       "       [ 3.15139532e-01,  5.80195189e-01],\n",
       "       [ 3.42849016e-01,  6.22915268e-01],\n",
       "       [ 3.49776268e-01,  7.28103876e-01],\n",
       "       [ 3.53240013e-01,  7.14657664e-01],\n",
       "       [ 3.56703758e-01,  5.10750949e-01],\n",
       "       [ 3.60167265e-01,  7.01163292e-01],\n",
       "       [ 3.63631010e-01,  7.73782611e-01],\n",
       "       [ 3.67094755e-01,  5.71824312e-01],\n",
       "       [ 3.70558500e-01,  7.78761864e-01],\n",
       "       [ 3.77485752e-01,  9.43291903e-01],\n",
       "       [ 3.80949497e-01,  7.45013952e-01],\n",
       "       [ 3.91340494e-01,  8.47580671e-01],\n",
       "       [ 3.98267746e-01,  7.79435277e-01],\n",
       "       [ 4.01731491e-01,  7.33973026e-01],\n",
       "       [ 4.08797503e-01,  9.11083460e-01],\n",
       "       [ 4.15724754e-01,  7.99183726e-01],\n",
       "       [ 4.26115751e-01,  9.20632958e-01],\n",
       "       [ 4.33043242e-01,  9.44614887e-01],\n",
       "       [ 4.36506748e-01,  7.62645602e-01],\n",
       "       [ 4.39970493e-01,  8.68796349e-01],\n",
       "       [ 4.46897745e-01,  9.55583572e-01],\n",
       "       [ 4.60752487e-01,  7.45110154e-01],\n",
       "       [ 4.71143603e-01,  7.45182276e-01],\n",
       "       [ 4.78070974e-01,  7.36474633e-01],\n",
       "       [ 4.81534600e-01,  9.28402424e-01],\n",
       "       [ 4.84998345e-01,  1.01983213e+00],\n",
       "       [ 4.98852968e-01,  8.93812656e-01],\n",
       "       [ 5.05780339e-01,  9.42377925e-01],\n",
       "       [ 5.12707710e-01,  9.13681269e-01],\n",
       "       [ 5.23098707e-01,  9.62823868e-01],\n",
       "       [ 5.33489823e-01,  9.89090919e-01],\n",
       "       [ 5.36953449e-01,  1.16848648e+00],\n",
       "       [ 5.50946712e-01,  9.53707337e-01],\n",
       "       [ 5.54410338e-01,  1.08201194e+00],\n",
       "       [ 5.57874084e-01,  1.18489146e+00],\n",
       "       [ 5.64801455e-01,  1.07614279e+00],\n",
       "       [ 5.68265080e-01,  9.98544216e-01],\n",
       "       [ 5.71728706e-01,  1.09887397e+00],\n",
       "       [ 5.82119823e-01,  1.01403511e+00],\n",
       "       [ 5.89047194e-01,  1.19109738e+00],\n",
       "       [ 5.99438190e-01,  1.02822697e+00],\n",
       "       [ 6.02901816e-01,  1.12838829e+00],\n",
       "       [ 6.06365561e-01,  1.14445651e+00],\n",
       "       [ 6.09829187e-01,  1.05341160e+00],\n",
       "       [ 6.13292933e-01,  1.04578650e+00],\n",
       "       [ 6.20220304e-01,  1.10837531e+00],\n",
       "       [ 6.27147555e-01,  1.04047048e+00],\n",
       "       [ 6.30611300e-01,  1.14515400e+00],\n",
       "       [ 6.34074926e-01, -1.15494812e+00],\n",
       "       [ 6.47929668e-01,  1.27045190e+00],\n",
       "       [ 6.54857039e-01,  1.17757893e+00],\n",
       "       [ 6.58320665e-01,  1.00061285e+00],\n",
       "       [ 6.61784410e-01,  1.03893113e+00],\n",
       "       [ 6.68711782e-01,  1.13971782e+00],\n",
       "       [ 6.72175407e-01,  9.02472138e-01],\n",
       "       [ 6.75639033e-01,  1.27184701e+00],\n",
       "       [ 6.79102778e-01,  1.03698266e+00],\n",
       "       [ 6.82704926e-01,  9.55343008e-01],\n",
       "       [ 6.86168671e-01,  1.02038538e+00],\n",
       "       [ 6.89632297e-01,  9.99554515e-01],\n",
       "       [ 6.93096042e-01,  1.01333749e+00],\n",
       "       [ 6.96559668e-01,  1.09122467e+00],\n",
       "       [ 7.00023413e-01,  1.30631661e+00],\n",
       "       [ 7.20805407e-01,  1.26078212e+00],\n",
       "       [ 7.24269152e-01,  1.08460987e+00],\n",
       "       [ 7.27732778e-01,  1.04047048e+00],\n",
       "       [ 7.34660149e-01,  1.02305532e+00],\n",
       "       [ 7.55442262e-01,  1.04576242e+00],\n",
       "       [ 7.58905888e-01,  1.18857169e+00],\n",
       "       [ 7.62369514e-01,  1.00484645e+00],\n",
       "       [ 7.79688001e-01,  9.61332560e-01],\n",
       "       [ 7.86615252e-01,  1.02798641e+00],\n",
       "       [ 7.93542624e-01,  1.22857368e+00],\n",
       "       [ 8.00469995e-01,  1.21534395e+00],\n",
       "       [ 8.03933740e-01,  1.22292101e+00],\n",
       "       [ 8.07397366e-01,  1.23155642e+00],\n",
       "       [ 8.21390629e-01,  1.10058177e+00],\n",
       "       [ 8.24854255e-01,  1.35055208e+00],\n",
       "       [ 8.31781626e-01,  1.26212919e+00],\n",
       "       [ 8.35245371e-01,  1.23222995e+00],\n",
       "       [ 8.45636368e-01,  1.15564156e+00],\n",
       "       [ 8.52563739e-01,  1.16968918e+00],\n",
       "       [ 8.56027365e-01,  1.30915499e+00],\n",
       "       [ 8.59491110e-01,  1.15554535e+00],\n",
       "       [ 8.66418362e-01,  1.07378542e+00],\n",
       "       [ 8.69882107e-01,  9.61476803e-01],\n",
       "       [ 8.76809478e-01,  9.86998200e-01],\n",
       "       [ 8.80273104e-01,  1.20423090e+00],\n",
       "       [ 8.87200475e-01,  1.25387859e+00],\n",
       "       [ 8.94127846e-01,  1.30732679e+00],\n",
       "       [ 8.97591472e-01,  1.25736642e+00],\n",
       "       [ 9.01055217e-01,  1.18186057e+00],\n",
       "       [ 9.11446214e-01,  1.33193421e+00],\n",
       "       [ 9.14909959e-01,  1.26075804e+00],\n",
       "       [ 9.25300956e-01,  1.17168570e+00],\n",
       "       [ 9.49546695e-01,  1.25941110e+00],\n",
       "       [ 9.63539958e-01,  1.20889747e+00],\n",
       "       [ 9.67003584e-01,  1.12658429e+00],\n",
       "       [ 9.70467329e-01,  1.06291306e+00],\n",
       "       [ 9.73930955e-01,  1.04602706e+00],\n",
       "       [ 9.77394581e-01,  1.06911898e+00],\n",
       "       [ 9.80858326e-01,  1.16733193e+00],\n",
       "       [ 9.84321952e-01,  1.18246198e+00],\n",
       "       [ 9.87785697e-01,  1.33775532e+00],\n",
       "       [ 9.94713068e-01,  1.07270300e+00],\n",
       "       [ 9.98176694e-01,  1.12490046e+00],\n",
       "       [ 1.00164032e+00,  1.10784614e+00],\n",
       "       [ 1.00510406e+00,  1.35120153e+00],\n",
       "       [ 1.01203144e+00,  1.11790073e+00],\n",
       "       [ 1.01895881e+00,  1.23776233e+00],\n",
       "       [ 1.02242243e+00,  1.22135746e+00],\n",
       "       [ 1.03281343e+00,  1.24317455e+00],\n",
       "       [ 1.03974080e+00, -1.15494812e+00],\n",
       "       [ 1.04320455e+00,  9.87743974e-01],\n",
       "       [ 1.04666817e+00,  1.22710633e+00],\n",
       "       [ 1.05013192e+00,  1.17741060e+00],\n",
       "       [ 1.05705917e+00,  1.28671241e+00],\n",
       "       [ 1.06398654e+00,  1.13048100e+00],\n",
       "       [ 1.06745028e+00,  1.43288934e+00],\n",
       "       [ 1.07091391e+00,  1.26727676e+00],\n",
       "       [ 1.07437766e+00,  1.35288537e+00],\n",
       "       [ 1.09169602e+00,  1.28101158e+00],\n",
       "       [ 1.09876192e+00,  1.12971127e+00],\n",
       "       [ 1.10568929e+00,  1.33236718e+00],\n",
       "       [ 1.11608028e+00,  1.54781985e+00],\n",
       "       [ 1.11954391e+00,  1.23932588e+00],\n",
       "       [ 1.13339865e+00,  1.16244888e+00],\n",
       "       [ 1.13686240e+00,  1.11133397e+00],\n",
       "       [ 1.14725339e+00,  1.45456207e+00],\n",
       "       [ 1.17149913e+00,  1.22888637e+00],\n",
       "       [ 1.17496276e+00,  1.16261733e+00],\n",
       "       [ 1.18189013e+00,  1.27961648e+00],\n",
       "       [ 1.20959961e+00,  1.21875966e+00],\n",
       "       [ 1.21999061e+00,  9.74899054e-01],\n",
       "       [ 1.22345424e+00,  1.29185998e+00],\n",
       "       [ 1.22691798e+00,  1.27300167e+00],\n",
       "       [ 1.23038161e+00,  1.19444084e+00],\n",
       "       [ 1.23384535e+00,  1.00301826e+00],\n",
       "       [ 1.25130224e+00,  1.33304071e+00],\n",
       "       [ 1.25822961e+00,  1.39979088e+00],\n",
       "       [ 1.26515698e+00,  1.19747174e+00],\n",
       "       [ 1.27901161e+00,  1.32907176e+00],\n",
       "       [ 1.28247535e+00,  1.34480309e+00],\n",
       "       [ 1.29286635e+00,  1.34793019e+00],\n",
       "       [ 1.30672109e+00,  1.35909128e+00],\n",
       "       [ 1.31364846e+00,  1.23747373e+00],\n",
       "       [ 1.32403946e+00,  1.30533040e+00],\n",
       "       [ 1.33443046e+00,  1.16988170e+00],\n",
       "       [ 1.33789420e+00,  1.10447848e+00],\n",
       "       [ 1.34135783e+00,  1.09572279e+00],\n",
       "       [ 1.34482157e+00,  1.27908731e+00],\n",
       "       [ 1.34828520e+00,  1.25541806e+00],\n",
       "       [ 1.35174882e+00,  1.19761598e+00],\n",
       "       [ 1.36213994e+00,  1.23499608e+00],\n",
       "       [ 1.36906731e+00,  1.32998586e+00],\n",
       "       [ 1.37253094e+00,  1.48936832e+00],\n",
       "       [ 1.37613320e+00,  1.18445849e+00],\n",
       "       [ 1.38998783e+00,  1.26388514e+00],\n",
       "       [ 1.39691520e+00,  1.26725268e+00],\n",
       "       [ 1.40384257e+00,  1.10527229e+00],\n",
       "       [ 1.41076994e+00,  1.31165659e+00],\n",
       "       [ 1.41423357e+00,  1.20396638e+00],\n",
       "       [ 1.41769731e+00,  1.28274357e+00],\n",
       "       [ 1.42462468e+00,  1.26366866e+00],\n",
       "       [ 1.44194305e+00, -1.15494812e+00],\n",
       "       [ 1.44540668e+00,  1.28192568e+00],\n",
       "       [ 1.45926142e+00,  1.29024839e+00],\n",
       "       [ 1.47311616e+00,  1.30968416e+00],\n",
       "       [ 1.47657979e+00,  1.36243474e+00],\n",
       "       [ 1.48004341e+00,  1.57654035e+00],\n",
       "       [ 1.48350716e+00,  1.16235268e+00],\n",
       "       [ 1.48697090e+00,  1.20906579e+00],\n",
       "       [ 1.49043453e+00,  1.44691288e+00],\n",
       "       [ 1.49389815e+00,  1.37018025e+00],\n",
       "       [ 1.50082552e+00,  1.19088089e+00],\n",
       "       [ 1.50775290e+00,  1.12699318e+00],\n",
       "       [ 1.51121664e+00,  1.09476066e+00],\n",
       "       [ 1.51828241e+00,  1.20394230e+00],\n",
       "       [ 1.52174616e+00,  1.27740347e+00],\n",
       "       [ 1.52520990e+00,  1.25794375e+00],\n",
       "       [ 1.52867353e+00,  1.31406200e+00],\n",
       "       [ 1.53906453e+00,  1.05514359e+00],\n",
       "       [ 1.54252815e+00,  1.17796385e+00],\n",
       "       [ 1.55291927e+00,  1.12227857e+00],\n",
       "       [ 1.55638289e+00,  1.18633461e+00],\n",
       "       [ 1.55984664e+00,  1.25820839e+00],\n",
       "       [ 1.56677389e+00,  1.25260377e+00],\n",
       "       [ 1.57370138e+00,  1.13894808e+00],\n",
       "       [ 1.57716501e+00,  1.11263287e+00],\n",
       "       [ 1.58409238e+00,  1.39459515e+00],\n",
       "       [ 1.58755600e+00,  1.09468853e+00],\n",
       "       [ 1.60487437e+00,  1.15109539e+00],\n",
       "       [ 1.60833812e+00,  1.28459573e+00],\n",
       "       [ 1.61526537e+00,  1.33946311e+00],\n",
       "       [ 1.62219286e+00,  1.09877765e+00],\n",
       "       [ 1.62912011e+00,  1.08396041e+00],\n",
       "       [ 1.63258386e+00,  1.20771873e+00],\n",
       "       [ 1.63604748e+00,  1.13300669e+00],\n",
       "       [ 1.64990222e+00, -1.15494812e+00],\n",
       "       [ 1.65350437e+00, -1.15494812e+00],\n",
       "       [ 1.66043186e+00, -1.15494812e+00],\n",
       "       [ 1.67082286e+00, -1.15494812e+00],\n",
       "       [ 1.68467760e+00, -1.15494812e+00],\n",
       "       [ 1.68814123e+00, -1.15494812e+00],\n",
       "       [ 1.69853222e+00, -1.15494812e+00],\n",
       "       [ 1.70199585e+00, -1.15494812e+00],\n",
       "       [ 1.71238697e+00, -1.15494812e+00],\n",
       "       [ 1.71931434e+00, -1.15494812e+00]], dtype=float32)>"
      ]
     },
     "execution_count": 74,
     "metadata": {},
     "output_type": "execute_result"
    }
   ],
   "source": [
    "normalized_data"
   ]
  },
  {
   "cell_type": "raw",
   "metadata": {},
   "source": []
  },
  {
   "cell_type": "code",
   "execution_count": 61,
   "metadata": {},
   "outputs": [],
   "source": [
    "# Neural networks.\n",
    "import tensorflow.keras as kr\n",
    "\n",
    "# Numerical arrays\n",
    "import numpy as np\n",
    "\n",
    "# Data frames.\n",
    "import pandas as pd\n",
    "\n",
    "# Plotting\n",
    "import matplotlib.pyplot as plt"
   ]
  },
  {
   "cell_type": "code",
   "execution_count": 5,
   "metadata": {},
   "outputs": [],
   "source": [
    "# Plot style.\n",
    "plt.style.use(\"ggplot\")\n",
    "\n",
    "# Plot size.\n",
    "plt.rcParams['figure.figsize'] = [14, 8]"
   ]
  },
  {
   "cell_type": "markdown",
   "metadata": {},
   "source": [
    "For now I will use the entire dataset for training as I am only trying to figure it out.\n",
    "The data is already numerical so no encoding is required.\n",
    "The training set will be the speed and power values from the dataset."
   ]
  },
  {
   "cell_type": "code",
   "execution_count": 75,
   "metadata": {},
   "outputs": [],
   "source": [
    "# Create a neural network with one neuron.\n",
    "model = kr.models.Sequential()\n",
    "model.add(kr.layers.Dense(1, input_shape=(1,), activation=\"linear\", kernel_initializer='ones', bias_initializer='zeros'))\n",
    "model.compile('adam', loss='mean_squared_error')"
   ]
  },
  {
   "cell_type": "code",
   "execution_count": 87,
   "metadata": {},
   "outputs": [
    {
     "data": {
      "text/plain": [
       "array([-7.28899454e-01, -7.28899454e-01, -7.28899454e-01, -7.28899454e-01,\n",
       "       -7.28899454e-01, -6.24721103e-01, -6.04154839e-01, -6.36868429e-01,\n",
       "       -7.03690747e-01, -5.95326981e-01, -5.72595847e-01, -6.02831863e-01,\n",
       "       -6.27391109e-01, -5.37091980e-01, -4.94468097e-01, -7.28899454e-01,\n",
       "       -7.28899454e-01, -5.54002020e-01, -7.09776436e-01, -5.52101745e-01,\n",
       "       -6.80887450e-01, -6.90196391e-01, -6.79251771e-01, -5.72283143e-01,\n",
       "       -7.28899454e-01, -6.78746634e-01, -7.28899454e-01, -7.25988907e-01,\n",
       "       -6.99842089e-01, -6.47764941e-01, -5.72307197e-01, -7.28899454e-01,\n",
       "       -6.28930572e-01, -6.80670963e-01, -6.00161857e-01, -7.28899454e-01,\n",
       "       -5.55204725e-01, -7.28899454e-01, -6.70231479e-01, -7.28899454e-01,\n",
       "       -6.72155808e-01, -5.59366086e-01, -7.28899454e-01, -7.28899454e-01,\n",
       "       -7.28899454e-01, -6.63929303e-01, -6.59888212e-01, -7.28899454e-01,\n",
       "       -6.73887704e-01, -5.61795551e-01, -6.71891213e-01, -6.52768196e-01,\n",
       "       -7.12855363e-01, -5.47074436e-01, -3.88990825e-01, -6.59286859e-01,\n",
       "       -6.42833848e-01, -6.65564982e-01, -6.60681998e-01, -6.55221715e-01,\n",
       "       -7.28899454e-01, -6.96185864e-01, -6.24648941e-01, -6.76774197e-01,\n",
       "       -5.64874477e-01, -7.28899454e-01, -6.01412671e-01, -7.28899454e-01,\n",
       "       -6.91976395e-01, -4.91004305e-01, -7.28899454e-01, -6.74296624e-01,\n",
       "       -6.18370818e-01, -7.28899454e-01, -7.28899454e-01, -7.28899454e-01,\n",
       "       -6.21786502e-01, -6.22700558e-01, -7.25724311e-01, -6.80069610e-01,\n",
       "       -7.04003450e-01, -6.22171368e-01, -7.03811017e-01, -7.28899454e-01,\n",
       "       -6.34270585e-01, -5.64754207e-01, -4.01955990e-01, -7.09175084e-01,\n",
       "       -4.77678328e-01, -7.28899454e-01, -5.59077437e-01, -7.06144266e-01,\n",
       "       -6.83028266e-01, -6.88464495e-01, -4.99928380e-01, -6.57386585e-01,\n",
       "       -5.21480863e-01, -6.20054606e-01, -7.06481023e-01, -6.69293369e-01,\n",
       "       -7.26181339e-01, -4.48332314e-01, -7.06553186e-01, -6.21762448e-01,\n",
       "       -6.51926302e-01, -7.28899454e-01, -5.80148837e-01, -6.55871176e-01,\n",
       "       -6.89787471e-01, -5.93450760e-01, -7.28899454e-01, -7.28899454e-01,\n",
       "       -6.23542452e-01, -6.84976649e-01, -7.28899454e-01, -6.25659214e-01,\n",
       "       -6.62462002e-01, -5.95663738e-01, -6.34799775e-01, -6.33645178e-01,\n",
       "       -7.04917506e-01, -4.67575602e-01, -6.75114464e-01, -6.00282127e-01,\n",
       "       -5.72764225e-01, -5.88375343e-01, -5.73846660e-01, -6.44469528e-01,\n",
       "       -4.82056176e-01, -5.92224001e-01, -4.87299972e-01, -5.10512189e-01,\n",
       "       -6.92096666e-01, -7.28899454e-01, -5.21649242e-01, -7.28899454e-01,\n",
       "       -7.28899454e-01, -6.28184895e-01, -6.93179100e-01, -4.93674312e-01,\n",
       "       -7.28899454e-01, -5.37116034e-01, -7.27287829e-01, -5.30741695e-01,\n",
       "       -5.02646495e-01, -6.02567268e-01, -6.26837865e-01, -6.18322710e-01,\n",
       "       -6.53802522e-01, -7.28899454e-01, -5.11594624e-01, -5.64056638e-01,\n",
       "       -5.25137088e-01, -3.73187274e-01, -5.54627426e-01, -4.81214283e-01,\n",
       "       -6.22027043e-01, -4.12780339e-01, -4.56582874e-01, -5.03151631e-01,\n",
       "       -5.85849661e-01, -3.79850263e-01, -5.91887243e-01, -5.60929603e-01,\n",
       "       -5.99368071e-01, -4.46287715e-01, -5.40555772e-01, -5.41638207e-01,\n",
       "       -4.92880526e-01, -5.68795297e-01, -6.56737124e-01, -4.54153409e-01,\n",
       "       -4.13477909e-01, -3.34099345e-01, -5.02309737e-01, -5.13927872e-01,\n",
       "       -4.70077230e-01, -3.88293255e-01, -3.27267978e-01, -5.95302927e-01,\n",
       "       -4.61417750e-01, -3.97578142e-01, -4.19058462e-01, -2.95059525e-01,\n",
       "       -2.94915200e-01, -4.90499169e-01, -3.90818937e-01, -3.10526317e-01,\n",
       "       -1.47655938e-01, -3.58610484e-01, -3.71816190e-01, -7.61671231e-02,\n",
       "       -3.97337601e-01, -4.00392473e-01, -2.63356208e-01, -3.40690171e-01,\n",
       "       -2.30762888e-01, -9.32214871e-02, -4.25240368e-01, -3.32632045e-01,\n",
       "       -1.92372529e-01, -2.30883159e-01,  9.26299725e-04, -1.44552958e-01,\n",
       "       -2.32518839e-01, -5.10305780e-02, -1.94513345e-01, -4.03687886e-01,\n",
       "       -7.28899454e-01, -1.81476017e-01, -8.11944321e-02, -1.28941841e-01,\n",
       "       -3.52741281e-01, -1.59105695e-01,  4.34198335e-03,  2.04582371e-02,\n",
       "       -6.28892543e-02, -4.45119142e-02, -5.00684136e-02,  2.48601392e-02,\n",
       "       -1.68737417e-02,  2.95266366e-02,  1.05609787e-01,  2.38653070e-01,\n",
       "        7.90540492e-02,  1.89582685e-01,  2.00455143e-01,  2.19255378e-02,\n",
       "        2.69009356e-01,  2.93039412e-01,  1.98434598e-01,  1.55979093e-01,\n",
       "        3.69834107e-02,  2.73964503e-01,  5.14241009e-01,  1.68174527e-01,\n",
       "        4.08090221e-01,  2.23258439e-01,  2.71727471e-01,  3.54882529e-01,\n",
       "        3.10189993e-01,  3.80860968e-01,  3.16347845e-01,  4.08426978e-01,\n",
       "        2.45749032e-01,  1.64927222e-01,  5.44813783e-01,  3.47401701e-01,\n",
       "        3.47161160e-01,  3.48748731e-01,  2.89455350e-01,  5.71922765e-01,\n",
       "        5.09189646e-01,  3.50649006e-01,  5.01444222e-01,  4.09918333e-01,\n",
       "        4.89633654e-01,  4.20574304e-01,  5.68916001e-01,  5.52727585e-01,\n",
       "        4.68899011e-01,  6.70280021e-01,  7.82420282e-01,  7.07972811e-01,\n",
       "        8.23576864e-01,  7.70032415e-01,  8.49170437e-01,  8.56001805e-01,\n",
       "        7.95722205e-01,  7.41456132e-01,  7.92883820e-01,  8.08398721e-01,\n",
       "        9.12360584e-01,  8.48953950e-01,  9.36607127e-01,  8.71901571e-01,\n",
       "        8.73008060e-01,  8.89052152e-01,  8.95041625e-01,  9.21597363e-01,\n",
       "        8.50060439e-01,  1.11246673e+00,  8.15879549e-01,  9.97295647e-01,\n",
       "        1.04273386e+00,  8.89196476e-01,  1.00338134e+00,  1.18547095e+00,\n",
       "        1.15932413e+00,  9.47647964e-01,  1.24707353e+00,  1.08636802e+00,\n",
       "        1.00624378e+00,  1.04896388e+00,  1.15415250e+00,  1.14070625e+00,\n",
       "        9.36799560e-01,  1.12721190e+00,  1.19983125e+00,  9.97872946e-01,\n",
       "        1.20481045e+00,  1.36934057e+00,  1.17106254e+00,  1.27362926e+00,\n",
       "        1.20548397e+00,  1.16002170e+00,  1.33713211e+00,  1.22523239e+00,\n",
       "        1.34668160e+00,  1.37066354e+00,  1.18869420e+00,  1.29484499e+00,\n",
       "        1.38163222e+00,  1.17115875e+00,  1.17123092e+00,  1.16252333e+00,\n",
       "        1.35445107e+00,  1.44588075e+00,  1.31986126e+00,  1.36842651e+00,\n",
       "        1.33972996e+00,  1.38887250e+00,  1.41513959e+00,  1.59453515e+00,\n",
       "        1.37975600e+00,  1.50806062e+00,  1.61094005e+00,  1.50219142e+00,\n",
       "        1.42459286e+00,  1.52492255e+00,  1.44008371e+00,  1.61714601e+00,\n",
       "        1.45427563e+00,  1.55443694e+00,  1.57050509e+00,  1.47946028e+00,\n",
       "        1.47183513e+00,  1.53442392e+00,  1.46651917e+00,  1.57120266e+00,\n",
       "       -7.28899454e-01,  1.69650052e+00,  1.60362760e+00,  1.42666151e+00,\n",
       "        1.46497971e+00,  1.56576643e+00,  1.32852074e+00,  1.69789566e+00,\n",
       "        1.46303133e+00,  1.38139168e+00,  1.44643399e+00,  1.42560313e+00,\n",
       "        1.43938614e+00,  1.51727334e+00,  1.73236520e+00,  1.68683077e+00,\n",
       "        1.51065846e+00,  1.46651917e+00,  1.44910400e+00,  1.47181108e+00,\n",
       "        1.61462033e+00,  1.43089504e+00,  1.38738115e+00,  1.45403509e+00,\n",
       "        1.65462231e+00,  1.64139255e+00,  1.64896960e+00,  1.65760502e+00,\n",
       "        1.52663039e+00,  1.77660071e+00,  1.68817780e+00,  1.65827854e+00,\n",
       "        1.58169025e+00,  1.59573785e+00,  1.73520358e+00,  1.58159403e+00,\n",
       "        1.49983411e+00,  1.38752547e+00,  1.41304689e+00,  1.63027955e+00,\n",
       "        1.67992724e+00,  1.73337547e+00,  1.68341508e+00,  1.60790923e+00,\n",
       "        1.75798282e+00,  1.68680671e+00,  1.59773434e+00,  1.68545968e+00,\n",
       "        1.63494605e+00,  1.55263289e+00,  1.48896166e+00,  1.47207567e+00,\n",
       "        1.49516762e+00,  1.59338055e+00,  1.60851058e+00,  1.76380392e+00,\n",
       "        1.49875168e+00,  1.55094910e+00,  1.53389473e+00,  1.77725017e+00,\n",
       "        1.54394935e+00,  1.66381098e+00,  1.64740608e+00,  1.66922316e+00,\n",
       "       -7.28899454e-01,  1.41379256e+00,  1.65315501e+00,  1.60345922e+00,\n",
       "        1.71276110e+00,  1.55652965e+00,  1.85893792e+00,  1.69332538e+00,\n",
       "        1.77893395e+00,  1.70706027e+00,  1.55575992e+00,  1.75841580e+00,\n",
       "        1.97386846e+00,  1.66537450e+00,  1.58849756e+00,  1.53738258e+00,\n",
       "        1.88061068e+00,  1.65493502e+00,  1.58866594e+00,  1.70566513e+00,\n",
       "        1.64480824e+00,  1.40094767e+00,  1.71790868e+00,  1.69905025e+00,\n",
       "        1.62048953e+00,  1.42906692e+00,  1.75908931e+00,  1.82583947e+00,\n",
       "        1.62352035e+00,  1.75512038e+00,  1.77085177e+00,  1.77397881e+00,\n",
       "        1.78513991e+00,  1.66352233e+00,  1.73137898e+00,  1.59593028e+00,\n",
       "        1.53052716e+00,  1.52177146e+00,  1.70513594e+00,  1.68146670e+00,\n",
       "        1.62366467e+00,  1.66104476e+00,  1.75603444e+00,  1.91541697e+00,\n",
       "        1.61050708e+00,  1.68993375e+00,  1.69330132e+00,  1.53132094e+00,\n",
       "        1.73770521e+00,  1.63001496e+00,  1.70879217e+00,  1.68971726e+00,\n",
       "       -7.28899454e-01,  1.70797433e+00,  1.71629705e+00,  1.73573277e+00,\n",
       "        1.78848344e+00,  2.00258907e+00,  1.58840135e+00,  1.63511443e+00,\n",
       "        1.87296147e+00,  1.79622886e+00,  1.61692952e+00,  1.55304181e+00,\n",
       "        1.52080930e+00,  1.62999090e+00,  1.70345216e+00,  1.68399238e+00,\n",
       "        1.74011062e+00,  1.48119218e+00,  1.60401247e+00,  1.54832720e+00,\n",
       "        1.61238330e+00,  1.68425698e+00,  1.67865237e+00,  1.56499670e+00,\n",
       "        1.53868150e+00,  1.82064378e+00,  1.52073714e+00,  1.57714402e+00,\n",
       "        1.71064434e+00,  1.76551176e+00,  1.52482634e+00,  1.51000900e+00,\n",
       "        1.63376740e+00,  1.55905533e+00, -7.28899454e-01, -7.28899454e-01,\n",
       "       -7.28899454e-01, -7.28899454e-01, -7.28899454e-01, -7.28899454e-01,\n",
       "       -7.28899454e-01, -7.28899454e-01, -7.28899454e-01, -7.28899454e-01])"
      ]
     },
     "execution_count": 87,
     "metadata": {},
     "output_type": "execute_result"
    }
   ],
   "source": [
    "X[:,1]"
   ]
  },
  {
   "cell_type": "code",
   "execution_count": 83,
   "metadata": {},
   "outputs": [
    {
     "name": "stdout",
     "output_type": "stream",
     "text": [
      "Epoch 1/500\n"
     ]
    },
    {
     "ename": "TypeError",
     "evalue": "'NoneType' object is not callable",
     "output_type": "error",
     "traceback": [
      "\u001b[0;31m---------------------------------------------------------------------------\u001b[0m",
      "\u001b[0;31mTypeError\u001b[0m                                 Traceback (most recent call last)",
      "\u001b[0;32m<ipython-input-83-408181e636b4>\u001b[0m in \u001b[0;36m<module>\u001b[0;34m\u001b[0m\n\u001b[1;32m      1\u001b[0m \u001b[0;31m# Train the neural network on our training data.\u001b[0m\u001b[0;34m\u001b[0m\u001b[0;34m\u001b[0m\u001b[0;34m\u001b[0m\u001b[0m\n\u001b[1;32m      2\u001b[0m \u001b[0;31m#model.fit(df['x'], df['y'], epochs=500)\u001b[0m\u001b[0;34m\u001b[0m\u001b[0;34m\u001b[0m\u001b[0;34m\u001b[0m\u001b[0m\n\u001b[0;32m----> 3\u001b[0;31m \u001b[0mmodel\u001b[0m\u001b[0;34m.\u001b[0m\u001b[0mfit\u001b[0m\u001b[0;34m(\u001b[0m\u001b[0mX\u001b[0m\u001b[0;34m[\u001b[0m\u001b[0;34m:\u001b[0m\u001b[0;34m,\u001b[0m\u001b[0;36m0\u001b[0m\u001b[0;34m]\u001b[0m\u001b[0;34m,\u001b[0m\u001b[0mX\u001b[0m\u001b[0;34m[\u001b[0m\u001b[0;34m:\u001b[0m\u001b[0;34m,\u001b[0m\u001b[0;36m1\u001b[0m\u001b[0;34m]\u001b[0m\u001b[0;34m,\u001b[0m \u001b[0mepochs\u001b[0m\u001b[0;34m=\u001b[0m\u001b[0;36m500\u001b[0m\u001b[0;34m)\u001b[0m\u001b[0;34m\u001b[0m\u001b[0;34m\u001b[0m\u001b[0m\n\u001b[0m",
      "\u001b[0;32m~/opt/anaconda3/lib/python3.8/site-packages/tensorflow/python/keras/engine/training.py\u001b[0m in \u001b[0;36m_method_wrapper\u001b[0;34m(self, *args, **kwargs)\u001b[0m\n\u001b[1;32m    106\u001b[0m   \u001b[0;32mdef\u001b[0m \u001b[0m_method_wrapper\u001b[0m\u001b[0;34m(\u001b[0m\u001b[0mself\u001b[0m\u001b[0;34m,\u001b[0m \u001b[0;34m*\u001b[0m\u001b[0margs\u001b[0m\u001b[0;34m,\u001b[0m \u001b[0;34m**\u001b[0m\u001b[0mkwargs\u001b[0m\u001b[0;34m)\u001b[0m\u001b[0;34m:\u001b[0m\u001b[0;34m\u001b[0m\u001b[0;34m\u001b[0m\u001b[0m\n\u001b[1;32m    107\u001b[0m     \u001b[0;32mif\u001b[0m \u001b[0;32mnot\u001b[0m \u001b[0mself\u001b[0m\u001b[0;34m.\u001b[0m\u001b[0m_in_multi_worker_mode\u001b[0m\u001b[0;34m(\u001b[0m\u001b[0;34m)\u001b[0m\u001b[0;34m:\u001b[0m  \u001b[0;31m# pylint: disable=protected-access\u001b[0m\u001b[0;34m\u001b[0m\u001b[0;34m\u001b[0m\u001b[0m\n\u001b[0;32m--> 108\u001b[0;31m       \u001b[0;32mreturn\u001b[0m \u001b[0mmethod\u001b[0m\u001b[0;34m(\u001b[0m\u001b[0mself\u001b[0m\u001b[0;34m,\u001b[0m \u001b[0;34m*\u001b[0m\u001b[0margs\u001b[0m\u001b[0;34m,\u001b[0m \u001b[0;34m**\u001b[0m\u001b[0mkwargs\u001b[0m\u001b[0;34m)\u001b[0m\u001b[0;34m\u001b[0m\u001b[0;34m\u001b[0m\u001b[0m\n\u001b[0m\u001b[1;32m    109\u001b[0m \u001b[0;34m\u001b[0m\u001b[0m\n\u001b[1;32m    110\u001b[0m     \u001b[0;31m# Running inside `run_distribute_coordinator` already.\u001b[0m\u001b[0;34m\u001b[0m\u001b[0;34m\u001b[0m\u001b[0;34m\u001b[0m\u001b[0m\n",
      "\u001b[0;32m~/opt/anaconda3/lib/python3.8/site-packages/tensorflow/python/keras/engine/training.py\u001b[0m in \u001b[0;36mfit\u001b[0;34m(self, x, y, batch_size, epochs, verbose, callbacks, validation_split, validation_data, shuffle, class_weight, sample_weight, initial_epoch, steps_per_epoch, validation_steps, validation_batch_size, validation_freq, max_queue_size, workers, use_multiprocessing)\u001b[0m\n\u001b[1;32m   1096\u001b[0m                 batch_size=batch_size):\n\u001b[1;32m   1097\u001b[0m               \u001b[0mcallbacks\u001b[0m\u001b[0;34m.\u001b[0m\u001b[0mon_train_batch_begin\u001b[0m\u001b[0;34m(\u001b[0m\u001b[0mstep\u001b[0m\u001b[0;34m)\u001b[0m\u001b[0;34m\u001b[0m\u001b[0;34m\u001b[0m\u001b[0m\n\u001b[0;32m-> 1098\u001b[0;31m               \u001b[0mtmp_logs\u001b[0m \u001b[0;34m=\u001b[0m \u001b[0mtrain_function\u001b[0m\u001b[0;34m(\u001b[0m\u001b[0miterator\u001b[0m\u001b[0;34m)\u001b[0m\u001b[0;34m\u001b[0m\u001b[0;34m\u001b[0m\u001b[0m\n\u001b[0m\u001b[1;32m   1099\u001b[0m               \u001b[0;32mif\u001b[0m \u001b[0mdata_handler\u001b[0m\u001b[0;34m.\u001b[0m\u001b[0mshould_sync\u001b[0m\u001b[0;34m:\u001b[0m\u001b[0;34m\u001b[0m\u001b[0;34m\u001b[0m\u001b[0m\n\u001b[1;32m   1100\u001b[0m                 \u001b[0mcontext\u001b[0m\u001b[0;34m.\u001b[0m\u001b[0masync_wait\u001b[0m\u001b[0;34m(\u001b[0m\u001b[0;34m)\u001b[0m\u001b[0;34m\u001b[0m\u001b[0;34m\u001b[0m\u001b[0m\n",
      "\u001b[0;32m~/opt/anaconda3/lib/python3.8/site-packages/tensorflow/python/eager/def_function.py\u001b[0m in \u001b[0;36m__call__\u001b[0;34m(self, *args, **kwds)\u001b[0m\n\u001b[1;32m    778\u001b[0m       \u001b[0;32melse\u001b[0m\u001b[0;34m:\u001b[0m\u001b[0;34m\u001b[0m\u001b[0;34m\u001b[0m\u001b[0m\n\u001b[1;32m    779\u001b[0m         \u001b[0mcompiler\u001b[0m \u001b[0;34m=\u001b[0m \u001b[0;34m\"nonXla\"\u001b[0m\u001b[0;34m\u001b[0m\u001b[0;34m\u001b[0m\u001b[0m\n\u001b[0;32m--> 780\u001b[0;31m         \u001b[0mresult\u001b[0m \u001b[0;34m=\u001b[0m \u001b[0mself\u001b[0m\u001b[0;34m.\u001b[0m\u001b[0m_call\u001b[0m\u001b[0;34m(\u001b[0m\u001b[0;34m*\u001b[0m\u001b[0margs\u001b[0m\u001b[0;34m,\u001b[0m \u001b[0;34m**\u001b[0m\u001b[0mkwds\u001b[0m\u001b[0;34m)\u001b[0m\u001b[0;34m\u001b[0m\u001b[0;34m\u001b[0m\u001b[0m\n\u001b[0m\u001b[1;32m    781\u001b[0m \u001b[0;34m\u001b[0m\u001b[0m\n\u001b[1;32m    782\u001b[0m       \u001b[0mnew_tracing_count\u001b[0m \u001b[0;34m=\u001b[0m \u001b[0mself\u001b[0m\u001b[0;34m.\u001b[0m\u001b[0m_get_tracing_count\u001b[0m\u001b[0;34m(\u001b[0m\u001b[0;34m)\u001b[0m\u001b[0;34m\u001b[0m\u001b[0;34m\u001b[0m\u001b[0m\n",
      "\u001b[0;32m~/opt/anaconda3/lib/python3.8/site-packages/tensorflow/python/eager/def_function.py\u001b[0m in \u001b[0;36m_call\u001b[0;34m(self, *args, **kwds)\u001b[0m\n\u001b[1;32m    805\u001b[0m       \u001b[0;31m# In this case we have created variables on the first call, so we run the\u001b[0m\u001b[0;34m\u001b[0m\u001b[0;34m\u001b[0m\u001b[0;34m\u001b[0m\u001b[0m\n\u001b[1;32m    806\u001b[0m       \u001b[0;31m# defunned version which is guaranteed to never create variables.\u001b[0m\u001b[0;34m\u001b[0m\u001b[0;34m\u001b[0m\u001b[0;34m\u001b[0m\u001b[0m\n\u001b[0;32m--> 807\u001b[0;31m       \u001b[0;32mreturn\u001b[0m \u001b[0mself\u001b[0m\u001b[0;34m.\u001b[0m\u001b[0m_stateless_fn\u001b[0m\u001b[0;34m(\u001b[0m\u001b[0;34m*\u001b[0m\u001b[0margs\u001b[0m\u001b[0;34m,\u001b[0m \u001b[0;34m**\u001b[0m\u001b[0mkwds\u001b[0m\u001b[0;34m)\u001b[0m  \u001b[0;31m# pylint: disable=not-callable\u001b[0m\u001b[0;34m\u001b[0m\u001b[0;34m\u001b[0m\u001b[0m\n\u001b[0m\u001b[1;32m    808\u001b[0m     \u001b[0;32melif\u001b[0m \u001b[0mself\u001b[0m\u001b[0;34m.\u001b[0m\u001b[0m_stateful_fn\u001b[0m \u001b[0;32mis\u001b[0m \u001b[0;32mnot\u001b[0m \u001b[0;32mNone\u001b[0m\u001b[0;34m:\u001b[0m\u001b[0;34m\u001b[0m\u001b[0;34m\u001b[0m\u001b[0m\n\u001b[1;32m    809\u001b[0m       \u001b[0;31m# Release the lock early so that multiple threads can perform the call\u001b[0m\u001b[0;34m\u001b[0m\u001b[0;34m\u001b[0m\u001b[0;34m\u001b[0m\u001b[0m\n",
      "\u001b[0;31mTypeError\u001b[0m: 'NoneType' object is not callable"
     ]
    }
   ],
   "source": [
    "# Train the neural network on our training data.\n",
    "#model.fit(df['x'], df['y'], epochs=500)\n",
    "model.fit(X[:,0],X[:,1], epochs=500)"
   ]
  },
  {
   "cell_type": "code",
   "execution_count": 77,
   "metadata": {},
   "outputs": [
    {
     "data": {
      "text/plain": [
       "[<matplotlib.lines.Line2D at 0x7fb898558df0>,\n",
       " <matplotlib.lines.Line2D at 0x7fb8985586d0>]"
      ]
     },
     "execution_count": 77,
     "metadata": {},
     "output_type": "execute_result"
    },
    {
     "data": {
      "image/png": "[encoded data removed]",
      "text/plain": [
       "<Figure size 1008x576 with 1 Axes>"
      ]
     },
     "metadata": {},
     "output_type": "display_data"
    }
   ],
   "source": [
    "plt.plot(X)"
   ]
  },
  {
   "cell_type": "code",
   "execution_count": 13,
   "metadata": {},
   "outputs": [
    {
     "data": {
      "image/png": "[encoded data removed]",
      "text/plain": [
       "<Figure size 1008x576 with 1 Axes>"
      ]
     },
     "metadata": {},
     "output_type": "display_data"
    }
   ],
   "source": [
    "# Plot the predictions (on the training set itself).\n",
    "plt.plot(df['x'], df['y'], 'k.', label='actual')\n",
    "plt.plot(df['x'], model.predict(df['x']), label='prediction')\n",
    "plt.legend();"
   ]
  },
  {
   "cell_type": "markdown",
   "metadata": {},
   "source": [
    "Train a new model using the sigmoid function as the activation function.\n",
    "Using the sigmoid function instead of the linear function which is clearly not a good fit.\n"
   ]
  },
  {
   "cell_type": "code",
   "execution_count": 14,
   "metadata": {},
   "outputs": [],
   "source": [
    "# Change the activation function.\n",
    "model = kr.models.Sequential()\n",
    "model.add(kr.layers.Dense(1, input_shape=(1,), activation='sigmoid', kernel_initializer=\"ones\", bias_initializer=\"zeros\"))\n",
    "model.compile('adam', loss='mean_squared_error')"
   ]
  },
  {
   "cell_type": "code",
   "execution_count": 16,
   "metadata": {},
   "outputs": [],
   "source": [
    "# Without training, let's have a look at the output.\n",
    "\n",
    "\n",
    "predicted_y = model.predict(df['speed'])"
   ]
  },
  {
   "cell_type": "code",
   "execution_count": 17,
   "metadata": {},
   "outputs": [
    {
     "data": {
      "image/png": "[encoded data removed]",
      "text/plain": [
       "<Figure size 1008x576 with 1 Axes>"
      ]
     },
     "metadata": {},
     "output_type": "display_data"
    }
   ],
   "source": [
    "# Let's see what that looks like.\n",
    "plt.plot(df['x'], predicted_y);"
   ]
  },
  {
   "cell_type": "markdown",
   "metadata": {},
   "source": [
    "Now training a different model. This one has a hidden layer with 50 neurons. A different kernel initialiser is used. the batch size is how many x's are sent it at any one time. Instead of sending one x in and adjusting the weights and the biases, send it 10 at a time. This sometimes has a smoothing effect. It still sends each x in 500 times (for 500 epochs) but 10 at a time instead of 1 at a time.\n"
   ]
  },
  {
   "cell_type": "code",
   "execution_count": 23,
   "metadata": {},
   "outputs": [],
   "source": [
    "# Train a different model.\n",
    "model = kr.models.Sequential()\n",
    "model.add(kr.layers.Dense(60, input_shape=(1,), activation='sigmoid', kernel_initializer=\"glorot_uniform\", bias_initializer=\"glorot_uniform\"))\n",
    "model.add(kr.layers.Dense(1, activation='linear', kernel_initializer=\"glorot_uniform\", bias_initializer=\"glorot_uniform\"))\n",
    "model.compile(kr.optimizers.Adam(lr=0.001), loss='mean_squared_error')"
   ]
  },
  {
   "cell_type": "code",
   "execution_count": 24,
   "metadata": {},
   "outputs": [
    {
     "name": "stdout",
     "output_type": "stream",
     "text": [
      "Epoch 1/500\n",
      "50/50 [==============================] - 0s 1ms/step - loss: 3709.0815\n",
      "Epoch 2/500\n",
      "50/50 [==============================] - 0s 1ms/step - loss: 3507.9614\n",
      "Epoch 3/500\n",
      "50/50 [==============================] - 0s 994us/step - loss: 3260.2468\n",
      "Epoch 4/500\n",
      "50/50 [==============================] - 0s 997us/step - loss: 2952.3643\n",
      "Epoch 5/500\n",
      "50/50 [==============================] - 0s 1ms/step - loss: 2685.0396\n",
      "Epoch 6/500\n",
      "50/50 [==============================] - 0s 1ms/step - loss: 2493.1436\n",
      "Epoch 7/500\n",
      "50/50 [==============================] - 0s 1ms/step - loss: 2340.7700\n",
      "Epoch 8/500\n",
      "50/50 [==============================] - 0s 972us/step - loss: 2211.3821\n",
      "Epoch 9/500\n",
      "50/50 [==============================] - 0s 1ms/step - loss: 2095.7632\n",
      "Epoch 10/500\n",
      "50/50 [==============================] - 0s 845us/step - loss: 1990.9000\n",
      "Epoch 11/500\n",
      "50/50 [==============================] - 0s 831us/step - loss: 1893.3652\n",
      "Epoch 12/500\n",
      "50/50 [==============================] - 0s 905us/step - loss: 1804.4495\n",
      "Epoch 13/500\n",
      "50/50 [==============================] - 0s 923us/step - loss: 1724.1759\n",
      "Epoch 14/500\n",
      "50/50 [==============================] - 0s 855us/step - loss: 1651.3237\n",
      "Epoch 15/500\n",
      "50/50 [==============================] - 0s 784us/step - loss: 1584.3972\n",
      "Epoch 16/500\n",
      "50/50 [==============================] - 0s 816us/step - loss: 1522.2018\n",
      "Epoch 17/500\n",
      "50/50 [==============================] - 0s 801us/step - loss: 1463.0817\n",
      "Epoch 18/500\n",
      "50/50 [==============================] - 0s 829us/step - loss: 1408.4507\n",
      "Epoch 19/500\n",
      "50/50 [==============================] - 0s 823us/step - loss: 1355.4594\n",
      "Epoch 20/500\n",
      "50/50 [==============================] - 0s 855us/step - loss: 1305.8339\n",
      "Epoch 21/500\n",
      "50/50 [==============================] - 0s 855us/step - loss: 1258.2068\n",
      "Epoch 22/500\n",
      "50/50 [==============================] - 0s 954us/step - loss: 1212.2113\n",
      "Epoch 23/500\n",
      "50/50 [==============================] - 0s 902us/step - loss: 1170.6859\n",
      "Epoch 24/500\n",
      "50/50 [==============================] - 0s 916us/step - loss: 1127.9017\n",
      "Epoch 25/500\n",
      "50/50 [==============================] - 0s 984us/step - loss: 1087.5033\n",
      "Epoch 26/500\n",
      "50/50 [==============================] - 0s 1ms/step - loss: 1048.7344\n",
      "Epoch 27/500\n",
      "50/50 [==============================] - 0s 1ms/step - loss: 1011.6053\n",
      "Epoch 28/500\n",
      "50/50 [==============================] - 0s 1ms/step - loss: 975.9265\n",
      "Epoch 29/500\n",
      "50/50 [==============================] - 0s 1ms/step - loss: 941.3822\n",
      "Epoch 30/500\n",
      "50/50 [==============================] - 0s 878us/step - loss: 908.6501\n",
      "Epoch 31/500\n",
      "50/50 [==============================] - 0s 809us/step - loss: 876.7968\n",
      "Epoch 32/500\n",
      "50/50 [==============================] - 0s 819us/step - loss: 846.9355\n",
      "Epoch 33/500\n",
      "50/50 [==============================] - 0s 890us/step - loss: 817.3391\n",
      "Epoch 34/500\n",
      "50/50 [==============================] - 0s 884us/step - loss: 789.9286\n",
      "Epoch 35/500\n",
      "50/50 [==============================] - 0s 952us/step - loss: 763.6984\n",
      "Epoch 36/500\n",
      "50/50 [==============================] - 0s 1ms/step - loss: 738.0715\n",
      "Epoch 37/500\n",
      "50/50 [==============================] - 0s 2ms/step - loss: 714.5101\n",
      "Epoch 38/500\n",
      "50/50 [==============================] - 0s 972us/step - loss: 691.1819\n",
      "Epoch 39/500\n",
      "50/50 [==============================] - 0s 973us/step - loss: 669.2812\n",
      "Epoch 40/500\n",
      "50/50 [==============================] - 0s 984us/step - loss: 648.5573\n",
      "Epoch 41/500\n",
      "50/50 [==============================] - 0s 938us/step - loss: 628.3228\n",
      "Epoch 42/500\n",
      "50/50 [==============================] - 0s 889us/step - loss: 609.9413\n",
      "Epoch 43/500\n",
      "50/50 [==============================] - 0s 937us/step - loss: 591.8568\n",
      "Epoch 44/500\n",
      "50/50 [==============================] - 0s 1ms/step - loss: 575.1933\n",
      "Epoch 45/500\n",
      "50/50 [==============================] - 0s 3ms/step - loss: 559.8353\n",
      "Epoch 46/500\n",
      "50/50 [==============================] - 0s 2ms/step - loss: 544.3788\n",
      "Epoch 47/500\n",
      "50/50 [==============================] - 0s 1ms/step - loss: 529.8192\n",
      "Epoch 48/500\n",
      "50/50 [==============================] - 0s 1ms/step - loss: 516.4829\n",
      "Epoch 49/500\n",
      "50/50 [==============================] - 0s 2ms/step - loss: 503.8485\n",
      "Epoch 50/500\n",
      "50/50 [==============================] - 0s 1ms/step - loss: 491.7734\n",
      "Epoch 51/500\n",
      "50/50 [==============================] - 0s 1ms/step - loss: 481.0677\n",
      "Epoch 52/500\n",
      "50/50 [==============================] - 0s 2ms/step - loss: 470.2168\n",
      "Epoch 53/500\n",
      "50/50 [==============================] - 0s 2ms/step - loss: 461.2913\n",
      "Epoch 54/500\n",
      "50/50 [==============================] - 0s 1ms/step - loss: 450.8213\n",
      "Epoch 55/500\n",
      "50/50 [==============================] - 0s 2ms/step - loss: 442.6517\n",
      "Epoch 56/500\n",
      "50/50 [==============================] - 0s 2ms/step - loss: 435.0433\n",
      "Epoch 57/500\n",
      "50/50 [==============================] - 0s 1ms/step - loss: 427.5673\n",
      "Epoch 58/500\n",
      "50/50 [==============================] - 0s 2ms/step - loss: 420.1601\n",
      "Epoch 59/500\n",
      "50/50 [==============================] - 0s 2ms/step - loss: 414.0403\n",
      "Epoch 60/500\n",
      "50/50 [==============================] - 0s 879us/step - loss: 407.7462\n",
      "Epoch 61/500\n",
      "50/50 [==============================] - 0s 779us/step - loss: 402.1625\n",
      "Epoch 62/500\n",
      "50/50 [==============================] - 0s 762us/step - loss: 396.7885\n",
      "Epoch 63/500\n",
      "50/50 [==============================] - 0s 781us/step - loss: 392.7469\n",
      "Epoch 64/500\n",
      "50/50 [==============================] - 0s 769us/step - loss: 388.1287\n",
      "Epoch 65/500\n",
      "50/50 [==============================] - 0s 783us/step - loss: 384.0040\n",
      "Epoch 66/500\n",
      "50/50 [==============================] - 0s 942us/step - loss: 380.1409\n",
      "Epoch 67/500\n",
      "50/50 [==============================] - 0s 947us/step - loss: 376.5894\n",
      "Epoch 68/500\n",
      "50/50 [==============================] - 0s 870us/step - loss: 373.6388\n",
      "Epoch 69/500\n",
      "50/50 [==============================] - 0s 791us/step - loss: 370.6039\n",
      "Epoch 70/500\n",
      "50/50 [==============================] - 0s 2ms/step - loss: 367.7482\n",
      "Epoch 71/500\n",
      "50/50 [==============================] - 0s 3ms/step - loss: 365.6252\n",
      "Epoch 72/500\n",
      "50/50 [==============================] - 0s 2ms/step - loss: 362.7870\n",
      "Epoch 73/500\n",
      "50/50 [==============================] - 0s 947us/step - loss: 360.5570\n",
      "Epoch 74/500\n",
      "50/50 [==============================] - 0s 800us/step - loss: 358.8595\n",
      "Epoch 75/500\n",
      "50/50 [==============================] - 0s 748us/step - loss: 357.0847\n",
      "Epoch 76/500\n",
      "50/50 [==============================] - 0s 765us/step - loss: 355.9327\n",
      "Epoch 77/500\n",
      "50/50 [==============================] - 0s 766us/step - loss: 353.7530\n",
      "Epoch 78/500\n",
      "50/50 [==============================] - 0s 786us/step - loss: 352.9705\n",
      "Epoch 79/500\n",
      "50/50 [==============================] - 0s 2ms/step - loss: 351.7782\n",
      "Epoch 80/500\n",
      "50/50 [==============================] - 0s 2ms/step - loss: 349.3976\n",
      "Epoch 81/500\n",
      "50/50 [==============================] - 0s 2ms/step - loss: 349.0161\n",
      "Epoch 82/500\n",
      "50/50 [==============================] - 0s 1ms/step - loss: 347.4857\n",
      "Epoch 83/500\n",
      "50/50 [==============================] - 0s 818us/step - loss: 346.2825\n",
      "Epoch 84/500\n",
      "50/50 [==============================] - 0s 790us/step - loss: 345.9297\n",
      "Epoch 85/500\n",
      "50/50 [==============================] - 0s 840us/step - loss: 344.8267\n",
      "Epoch 86/500\n",
      "50/50 [==============================] - 0s 780us/step - loss: 344.1256\n",
      "Epoch 87/500\n",
      "50/50 [==============================] - 0s 786us/step - loss: 343.2022\n",
      "Epoch 88/500\n",
      "50/50 [==============================] - 0s 831us/step - loss: 342.2735\n",
      "Epoch 89/500\n",
      "50/50 [==============================] - 0s 902us/step - loss: 341.7377\n",
      "Epoch 90/500\n",
      "50/50 [==============================] - 0s 873us/step - loss: 341.5150\n",
      "Epoch 91/500\n",
      "50/50 [==============================] - 0s 884us/step - loss: 340.2881\n",
      "Epoch 92/500\n",
      "50/50 [==============================] - 0s 878us/step - loss: 340.0936\n",
      "Epoch 93/500\n",
      "50/50 [==============================] - 0s 1ms/step - loss: 339.4465\n",
      "Epoch 94/500\n",
      "50/50 [==============================] - 0s 1ms/step - loss: 338.8418\n",
      "Epoch 95/500\n",
      "50/50 [==============================] - 0s 946us/step - loss: 338.6341\n",
      "Epoch 96/500\n",
      "50/50 [==============================] - 0s 863us/step - loss: 338.4753\n",
      "Epoch 97/500\n",
      "50/50 [==============================] - 0s 820us/step - loss: 337.4112\n",
      "Epoch 98/500\n",
      "50/50 [==============================] - 0s 877us/step - loss: 336.6608\n",
      "Epoch 99/500\n",
      "50/50 [==============================] - 0s 757us/step - loss: 336.3745\n",
      "Epoch 100/500\n",
      "50/50 [==============================] - 0s 756us/step - loss: 337.1697\n",
      "Epoch 101/500\n",
      "50/50 [==============================] - 0s 770us/step - loss: 335.8456\n",
      "Epoch 102/500\n",
      "50/50 [==============================] - 0s 891us/step - loss: 335.0805\n",
      "Epoch 103/500\n",
      "50/50 [==============================] - 0s 888us/step - loss: 334.7890\n",
      "Epoch 104/500\n",
      "50/50 [==============================] - 0s 890us/step - loss: 334.0092\n",
      "Epoch 105/500\n",
      "50/50 [==============================] - 0s 940us/step - loss: 333.7233\n",
      "Epoch 106/500\n",
      "50/50 [==============================] - 0s 891us/step - loss: 333.8570\n",
      "Epoch 107/500\n",
      "50/50 [==============================] - 0s 885us/step - loss: 332.7545\n",
      "Epoch 108/500\n",
      "50/50 [==============================] - 0s 855us/step - loss: 332.3679\n",
      "Epoch 109/500\n",
      "50/50 [==============================] - 0s 891us/step - loss: 332.7248\n",
      "Epoch 110/500\n",
      "50/50 [==============================] - 0s 829us/step - loss: 331.7777\n",
      "Epoch 111/500\n",
      "50/50 [==============================] - 0s 786us/step - loss: 331.4155\n",
      "Epoch 112/500\n",
      "50/50 [==============================] - 0s 835us/step - loss: 330.6933\n",
      "Epoch 113/500\n",
      "50/50 [==============================] - 0s 757us/step - loss: 330.8921\n",
      "Epoch 114/500\n",
      "50/50 [==============================] - 0s 762us/step - loss: 330.3138\n",
      "Epoch 115/500\n",
      "50/50 [==============================] - 0s 799us/step - loss: 329.9924\n",
      "Epoch 116/500\n",
      "50/50 [==============================] - 0s 749us/step - loss: 329.2118\n",
      "Epoch 117/500\n",
      "50/50 [==============================] - 0s 759us/step - loss: 329.1418\n",
      "Epoch 118/500\n",
      "50/50 [==============================] - 0s 768us/step - loss: 328.6826\n",
      "Epoch 119/500\n",
      "50/50 [==============================] - 0s 861us/step - loss: 328.0572\n",
      "Epoch 120/500\n",
      "50/50 [==============================] - 0s 784us/step - loss: 327.8110\n",
      "Epoch 121/500\n",
      "50/50 [==============================] - 0s 823us/step - loss: 327.3836\n",
      "Epoch 122/500\n",
      "50/50 [==============================] - 0s 790us/step - loss: 327.6385\n",
      "Epoch 123/500\n",
      "50/50 [==============================] - 0s 966us/step - loss: 326.9025\n",
      "Epoch 124/500\n",
      "50/50 [==============================] - 0s 887us/step - loss: 327.5673\n",
      "Epoch 125/500\n",
      "50/50 [==============================] - 0s 748us/step - loss: 325.9340\n",
      "Epoch 126/500\n",
      "50/50 [==============================] - 0s 769us/step - loss: 325.9834\n",
      "Epoch 127/500\n",
      "50/50 [==============================] - 0s 754us/step - loss: 325.4012\n",
      "Epoch 128/500\n",
      "50/50 [==============================] - 0s 776us/step - loss: 325.1862\n",
      "Epoch 129/500\n",
      "50/50 [==============================] - 0s 802us/step - loss: 324.6897\n",
      "Epoch 130/500\n",
      "50/50 [==============================] - 0s 765us/step - loss: 324.8602\n",
      "Epoch 131/500\n",
      "50/50 [==============================] - 0s 746us/step - loss: 323.6431\n",
      "Epoch 132/500\n",
      "50/50 [==============================] - 0s 753us/step - loss: 323.5123\n",
      "Epoch 133/500\n",
      "50/50 [==============================] - 0s 755us/step - loss: 323.1533\n",
      "Epoch 134/500\n",
      "50/50 [==============================] - 0s 754us/step - loss: 323.2033\n",
      "Epoch 135/500\n",
      "50/50 [==============================] - 0s 844us/step - loss: 322.4498\n",
      "Epoch 136/500\n",
      "50/50 [==============================] - 0s 895us/step - loss: 322.1270\n",
      "Epoch 137/500\n",
      "50/50 [==============================] - 0s 949us/step - loss: 321.3617\n",
      "Epoch 138/500\n",
      "50/50 [==============================] - 0s 1ms/step - loss: 321.4411\n",
      "Epoch 139/500\n",
      "50/50 [==============================] - 0s 809us/step - loss: 321.2855\n",
      "Epoch 140/500\n",
      "50/50 [==============================] - 0s 787us/step - loss: 320.0298\n",
      "Epoch 141/500\n",
      "50/50 [==============================] - 0s 888us/step - loss: 319.9274\n",
      "Epoch 142/500\n",
      "50/50 [==============================] - 0s 890us/step - loss: 319.2535\n",
      "Epoch 143/500\n",
      "50/50 [==============================] - 0s 765us/step - loss: 318.3368\n",
      "Epoch 144/500\n",
      "50/50 [==============================] - 0s 766us/step - loss: 318.6734\n",
      "Epoch 145/500\n",
      "50/50 [==============================] - 0s 779us/step - loss: 318.6093\n",
      "Epoch 146/500\n",
      "50/50 [==============================] - 0s 772us/step - loss: 317.4408\n",
      "Epoch 147/500\n",
      "50/50 [==============================] - 0s 785us/step - loss: 317.6562\n",
      "Epoch 148/500\n",
      "50/50 [==============================] - 0s 744us/step - loss: 316.6170\n",
      "Epoch 149/500\n",
      "50/50 [==============================] - 0s 757us/step - loss: 316.5360\n",
      "Epoch 150/500\n",
      "50/50 [==============================] - 0s 816us/step - loss: 316.2198\n",
      "Epoch 151/500\n",
      "50/50 [==============================] - 0s 876us/step - loss: 315.7606\n",
      "Epoch 152/500\n",
      "50/50 [==============================] - 0s 887us/step - loss: 315.0928\n",
      "Epoch 153/500\n",
      "50/50 [==============================] - 0s 835us/step - loss: 314.4561\n",
      "Epoch 154/500\n",
      "50/50 [==============================] - 0s 1ms/step - loss: 313.6134\n",
      "Epoch 155/500\n",
      "50/50 [==============================] - 0s 987us/step - loss: 313.8268\n",
      "Epoch 156/500\n",
      "50/50 [==============================] - 0s 1ms/step - loss: 314.2917\n",
      "Epoch 157/500\n",
      "50/50 [==============================] - 0s 965us/step - loss: 312.9449\n",
      "Epoch 158/500\n",
      "50/50 [==============================] - 0s 918us/step - loss: 312.3615\n",
      "Epoch 159/500\n",
      "50/50 [==============================] - 0s 957us/step - loss: 311.6479\n",
      "Epoch 160/500\n",
      "50/50 [==============================] - 0s 934us/step - loss: 311.3311\n",
      "Epoch 161/500\n",
      "50/50 [==============================] - 0s 889us/step - loss: 310.4608\n",
      "Epoch 162/500\n",
      "50/50 [==============================] - 0s 780us/step - loss: 309.9102\n",
      "Epoch 163/500\n",
      "50/50 [==============================] - 0s 751us/step - loss: 309.5413\n",
      "Epoch 164/500\n",
      "50/50 [==============================] - 0s 765us/step - loss: 309.0428\n",
      "Epoch 165/500\n",
      "50/50 [==============================] - 0s 780us/step - loss: 308.7128\n",
      "Epoch 166/500\n",
      "50/50 [==============================] - 0s 782us/step - loss: 308.1076\n",
      "Epoch 167/500\n",
      "50/50 [==============================] - 0s 813us/step - loss: 307.9067\n",
      "Epoch 168/500\n",
      "50/50 [==============================] - 0s 939us/step - loss: 307.2453\n",
      "Epoch 169/500\n",
      "50/50 [==============================] - 0s 946us/step - loss: 306.7131\n",
      "Epoch 170/500\n",
      "50/50 [==============================] - 0s 940us/step - loss: 306.7788\n",
      "Epoch 171/500\n",
      "50/50 [==============================] - 0s 950us/step - loss: 306.4933\n",
      "Epoch 172/500\n",
      "50/50 [==============================] - 0s 819us/step - loss: 305.4079\n",
      "Epoch 173/500\n",
      "50/50 [==============================] - 0s 763us/step - loss: 304.8557\n",
      "Epoch 174/500\n",
      "50/50 [==============================] - 0s 773us/step - loss: 304.6661\n",
      "Epoch 175/500\n",
      "50/50 [==============================] - 0s 761us/step - loss: 303.6405\n",
      "Epoch 176/500\n",
      "50/50 [==============================] - 0s 803us/step - loss: 303.7815\n",
      "Epoch 177/500\n",
      "50/50 [==============================] - 0s 799us/step - loss: 302.9915\n",
      "Epoch 178/500\n",
      "50/50 [==============================] - 0s 783us/step - loss: 302.2744\n",
      "Epoch 179/500\n",
      "50/50 [==============================] - 0s 783us/step - loss: 301.8607\n",
      "Epoch 180/500\n",
      "50/50 [==============================] - 0s 793us/step - loss: 301.6341\n",
      "Epoch 181/500\n",
      "50/50 [==============================] - 0s 780us/step - loss: 301.0673\n",
      "Epoch 182/500\n",
      "50/50 [==============================] - 0s 802us/step - loss: 300.9592\n",
      "Epoch 183/500\n",
      "50/50 [==============================] - 0s 873us/step - loss: 301.0612\n",
      "Epoch 184/500\n",
      "50/50 [==============================] - 0s 844us/step - loss: 299.8338\n",
      "Epoch 185/500\n",
      "50/50 [==============================] - 0s 815us/step - loss: 299.1362\n",
      "Epoch 186/500\n",
      "50/50 [==============================] - 0s 781us/step - loss: 298.9935\n",
      "Epoch 187/500\n",
      "50/50 [==============================] - 0s 772us/step - loss: 298.4789\n",
      "Epoch 188/500\n",
      "50/50 [==============================] - 0s 783us/step - loss: 299.3666\n",
      "Epoch 189/500\n",
      "50/50 [==============================] - 0s 764us/step - loss: 298.9944\n",
      "Epoch 190/500\n",
      "50/50 [==============================] - 0s 790us/step - loss: 297.0572\n",
      "Epoch 191/500\n",
      "50/50 [==============================] - 0s 824us/step - loss: 296.5179\n",
      "Epoch 192/500\n",
      "50/50 [==============================] - 0s 799us/step - loss: 296.3341\n",
      "Epoch 193/500\n"
     ]
    },
    {
     "name": "stdout",
     "output_type": "stream",
     "text": [
      "50/50 [==============================] - 0s 2ms/step - loss: 295.7411\n",
      "Epoch 194/500\n",
      "50/50 [==============================] - 0s 2ms/step - loss: 295.8052\n",
      "Epoch 195/500\n",
      "50/50 [==============================] - 0s 3ms/step - loss: 295.6832\n",
      "Epoch 196/500\n",
      "50/50 [==============================] - 0s 3ms/step - loss: 294.7212\n",
      "Epoch 197/500\n",
      "50/50 [==============================] - 0s 2ms/step - loss: 294.1848\n",
      "Epoch 198/500\n",
      "50/50 [==============================] - 0s 2ms/step - loss: 294.0611\n",
      "Epoch 199/500\n",
      "50/50 [==============================] - 0s 1ms/step - loss: 293.2293\n",
      "Epoch 200/500\n",
      "50/50 [==============================] - 0s 1ms/step - loss: 293.0993\n",
      "Epoch 201/500\n",
      "50/50 [==============================] - 0s 1ms/step - loss: 292.5007\n",
      "Epoch 202/500\n",
      "50/50 [==============================] - 0s 2ms/step - loss: 292.3490\n",
      "Epoch 203/500\n",
      "50/50 [==============================] - 0s 2ms/step - loss: 291.8852\n",
      "Epoch 204/500\n",
      "50/50 [==============================] - 0s 1ms/step - loss: 291.5317\n",
      "Epoch 205/500\n",
      "50/50 [==============================] - 0s 928us/step - loss: 291.0825\n",
      "Epoch 206/500\n",
      "50/50 [==============================] - 0s 1ms/step - loss: 291.1302\n",
      "Epoch 207/500\n",
      "50/50 [==============================] - 0s 1ms/step - loss: 290.5777\n",
      "Epoch 208/500\n",
      "50/50 [==============================] - 0s 950us/step - loss: 290.0759\n",
      "Epoch 209/500\n",
      "50/50 [==============================] - 0s 1ms/step - loss: 289.7012\n",
      "Epoch 210/500\n",
      "50/50 [==============================] - 0s 950us/step - loss: 289.9236\n",
      "Epoch 211/500\n",
      "50/50 [==============================] - 0s 881us/step - loss: 289.0007\n",
      "Epoch 212/500\n",
      "50/50 [==============================] - 0s 2ms/step - loss: 288.3737\n",
      "Epoch 213/500\n",
      "50/50 [==============================] - 0s 2ms/step - loss: 288.1537\n",
      "Epoch 214/500\n",
      "50/50 [==============================] - 0s 2ms/step - loss: 287.6562\n",
      "Epoch 215/500\n",
      "50/50 [==============================] - 0s 2ms/step - loss: 287.2025\n",
      "Epoch 216/500\n",
      "50/50 [==============================] - 0s 1ms/step - loss: 287.0987\n",
      "Epoch 217/500\n",
      "50/50 [==============================] - 0s 1ms/step - loss: 286.7912\n",
      "Epoch 218/500\n",
      "50/50 [==============================] - 0s 2ms/step - loss: 286.0662\n",
      "Epoch 219/500\n",
      "50/50 [==============================] - 0s 2ms/step - loss: 285.8159\n",
      "Epoch 220/500\n",
      "50/50 [==============================] - 0s 2ms/step - loss: 285.4730\n",
      "Epoch 221/500\n",
      "50/50 [==============================] - 0s 891us/step - loss: 285.5099\n",
      "Epoch 222/500\n",
      "50/50 [==============================] - 0s 951us/step - loss: 284.8786\n",
      "Epoch 223/500\n",
      "50/50 [==============================] - 0s 970us/step - loss: 284.4467\n",
      "Epoch 224/500\n",
      "50/50 [==============================] - 0s 917us/step - loss: 284.4031\n",
      "Epoch 225/500\n",
      "50/50 [==============================] - 0s 873us/step - loss: 284.1315\n",
      "Epoch 226/500\n",
      "50/50 [==============================] - 0s 796us/step - loss: 283.5171\n",
      "Epoch 227/500\n",
      "50/50 [==============================] - 0s 792us/step - loss: 283.3573\n",
      "Epoch 228/500\n",
      "50/50 [==============================] - 0s 783us/step - loss: 282.8357\n",
      "Epoch 229/500\n",
      "50/50 [==============================] - 0s 785us/step - loss: 282.6056\n",
      "Epoch 230/500\n",
      "50/50 [==============================] - 0s 812us/step - loss: 282.3931\n",
      "Epoch 231/500\n",
      "50/50 [==============================] - 0s 1ms/step - loss: 281.8480\n",
      "Epoch 232/500\n",
      "50/50 [==============================] - 0s 1ms/step - loss: 281.8246\n",
      "Epoch 233/500\n",
      "50/50 [==============================] - 0s 1ms/step - loss: 281.5793\n",
      "Epoch 234/500\n",
      "50/50 [==============================] - 0s 995us/step - loss: 281.1111\n",
      "Epoch 235/500\n",
      "50/50 [==============================] - 0s 852us/step - loss: 280.6956\n",
      "Epoch 236/500\n",
      "50/50 [==============================] - 0s 972us/step - loss: 280.2816\n",
      "Epoch 237/500\n",
      "50/50 [==============================] - 0s 860us/step - loss: 279.8609\n",
      "Epoch 238/500\n",
      "50/50 [==============================] - 0s 768us/step - loss: 279.6670\n",
      "Epoch 239/500\n",
      "50/50 [==============================] - 0s 780us/step - loss: 279.4629\n",
      "Epoch 240/500\n",
      "50/50 [==============================] - 0s 786us/step - loss: 279.3501\n",
      "Epoch 241/500\n",
      "50/50 [==============================] - 0s 797us/step - loss: 279.0066\n",
      "Epoch 242/500\n",
      "50/50 [==============================] - 0s 800us/step - loss: 278.6085\n",
      "Epoch 243/500\n",
      "50/50 [==============================] - 0s 881us/step - loss: 278.6861\n",
      "Epoch 244/500\n",
      "50/50 [==============================] - 0s 940us/step - loss: 277.9090\n",
      "Epoch 245/500\n",
      "50/50 [==============================] - 0s 906us/step - loss: 277.7335\n",
      "Epoch 246/500\n",
      "50/50 [==============================] - 0s 882us/step - loss: 277.5576\n",
      "Epoch 247/500\n",
      "50/50 [==============================] - 0s 934us/step - loss: 277.3341\n",
      "Epoch 248/500\n",
      "50/50 [==============================] - 0s 937us/step - loss: 276.8355\n",
      "Epoch 249/500\n",
      "50/50 [==============================] - 0s 832us/step - loss: 277.1081\n",
      "Epoch 250/500\n",
      "50/50 [==============================] - 0s 930us/step - loss: 276.5086\n",
      "Epoch 251/500\n",
      "50/50 [==============================] - 0s 926us/step - loss: 276.2184\n",
      "Epoch 252/500\n",
      "50/50 [==============================] - 0s 838us/step - loss: 275.9583\n",
      "Epoch 253/500\n",
      "50/50 [==============================] - 0s 784us/step - loss: 275.4712\n",
      "Epoch 254/500\n",
      "50/50 [==============================] - 0s 885us/step - loss: 275.5996\n",
      "Epoch 255/500\n",
      "50/50 [==============================] - 0s 920us/step - loss: 274.9647\n",
      "Epoch 256/500\n",
      "50/50 [==============================] - 0s 884us/step - loss: 275.1436\n",
      "Epoch 257/500\n",
      "50/50 [==============================] - 0s 898us/step - loss: 274.5837\n",
      "Epoch 258/500\n",
      "50/50 [==============================] - 0s 864us/step - loss: 274.3672\n",
      "Epoch 259/500\n",
      "50/50 [==============================] - 0s 755us/step - loss: 274.0163\n",
      "Epoch 260/500\n",
      "50/50 [==============================] - 0s 787us/step - loss: 274.0845\n",
      "Epoch 261/500\n",
      "50/50 [==============================] - 0s 763us/step - loss: 273.5004\n",
      "Epoch 262/500\n",
      "50/50 [==============================] - 0s 768us/step - loss: 273.3770\n",
      "Epoch 263/500\n",
      "50/50 [==============================] - 0s 780us/step - loss: 273.0982\n",
      "Epoch 264/500\n",
      "50/50 [==============================] - 0s 811us/step - loss: 272.9998\n",
      "Epoch 265/500\n",
      "50/50 [==============================] - 0s 2ms/step - loss: 273.2026\n",
      "Epoch 266/500\n",
      "50/50 [==============================] - 0s 1ms/step - loss: 272.3000\n",
      "Epoch 267/500\n",
      "50/50 [==============================] - 0s 1ms/step - loss: 272.0435\n",
      "Epoch 268/500\n",
      "50/50 [==============================] - 0s 1ms/step - loss: 271.9353\n",
      "Epoch 269/500\n",
      "50/50 [==============================] - 0s 1ms/step - loss: 271.5919\n",
      "Epoch 270/500\n",
      "50/50 [==============================] - 0s 1ms/step - loss: 271.5710\n",
      "Epoch 271/500\n",
      "50/50 [==============================] - 0s 2ms/step - loss: 271.6490\n",
      "Epoch 272/500\n",
      "50/50 [==============================] - 0s 2ms/step - loss: 271.0217\n",
      "Epoch 273/500\n",
      "50/50 [==============================] - 0s 2ms/step - loss: 270.9561\n",
      "Epoch 274/500\n",
      "50/50 [==============================] - 0s 1ms/step - loss: 270.6192\n",
      "Epoch 275/500\n",
      "50/50 [==============================] - 0s 2ms/step - loss: 270.3383\n",
      "Epoch 276/500\n",
      "50/50 [==============================] - 0s 1ms/step - loss: 270.3844\n",
      "Epoch 277/500\n",
      "50/50 [==============================] - 0s 2ms/step - loss: 269.9073\n",
      "Epoch 278/500\n",
      "50/50 [==============================] - 0s 1ms/step - loss: 269.9831\n",
      "Epoch 279/500\n",
      "50/50 [==============================] - 0s 965us/step - loss: 269.7896\n",
      "Epoch 280/500\n",
      "50/50 [==============================] - 0s 978us/step - loss: 269.4567\n",
      "Epoch 281/500\n",
      "50/50 [==============================] - 0s 1ms/step - loss: 269.1312\n",
      "Epoch 282/500\n",
      "50/50 [==============================] - 0s 1ms/step - loss: 269.0536\n",
      "Epoch 283/500\n",
      "50/50 [==============================] - 0s 894us/step - loss: 268.8193\n",
      "Epoch 284/500\n",
      "50/50 [==============================] - 0s 970us/step - loss: 268.8317\n",
      "Epoch 285/500\n",
      "50/50 [==============================] - 0s 1ms/step - loss: 268.5598\n",
      "Epoch 286/500\n",
      "50/50 [==============================] - 0s 1ms/step - loss: 268.5174\n",
      "Epoch 287/500\n",
      "50/50 [==============================] - 0s 923us/step - loss: 268.1393\n",
      "Epoch 288/500\n",
      "50/50 [==============================] - 0s 918us/step - loss: 267.9284\n",
      "Epoch 289/500\n",
      "50/50 [==============================] - 0s 892us/step - loss: 267.9153\n",
      "Epoch 290/500\n",
      "50/50 [==============================] - 0s 936us/step - loss: 268.0925\n",
      "Epoch 291/500\n",
      "50/50 [==============================] - 0s 2ms/step - loss: 267.3700\n",
      "Epoch 292/500\n",
      "50/50 [==============================] - 0s 945us/step - loss: 267.1562\n",
      "Epoch 293/500\n",
      "50/50 [==============================] - 0s 1ms/step - loss: 266.9441\n",
      "Epoch 294/500\n",
      "50/50 [==============================] - 0s 969us/step - loss: 267.0569\n",
      "Epoch 295/500\n",
      "50/50 [==============================] - 0s 843us/step - loss: 266.7644\n",
      "Epoch 296/500\n",
      "50/50 [==============================] - 0s 1ms/step - loss: 266.3785\n",
      "Epoch 297/500\n",
      "50/50 [==============================] - 0s 814us/step - loss: 266.3265\n",
      "Epoch 298/500\n",
      "50/50 [==============================] - 0s 1ms/step - loss: 266.2988\n",
      "Epoch 299/500\n",
      "50/50 [==============================] - 0s 1ms/step - loss: 266.0562\n",
      "Epoch 300/500\n",
      "50/50 [==============================] - 0s 950us/step - loss: 266.0973\n",
      "Epoch 301/500\n",
      "50/50 [==============================] - 0s 955us/step - loss: 265.7453\n",
      "Epoch 302/500\n",
      "50/50 [==============================] - 0s 777us/step - loss: 265.6080\n",
      "Epoch 303/500\n",
      "50/50 [==============================] - 0s 800us/step - loss: 265.7848\n",
      "Epoch 304/500\n",
      "50/50 [==============================] - 0s 761us/step - loss: 265.3224\n",
      "Epoch 305/500\n",
      "50/50 [==============================] - 0s 767us/step - loss: 265.1966\n",
      "Epoch 306/500\n",
      "50/50 [==============================] - 0s 773us/step - loss: 265.1987\n",
      "Epoch 307/500\n",
      "50/50 [==============================] - 0s 781us/step - loss: 265.0028\n",
      "Epoch 308/500\n",
      "50/50 [==============================] - 0s 983us/step - loss: 264.6876\n",
      "Epoch 309/500\n",
      "50/50 [==============================] - 0s 1ms/step - loss: 264.7416\n",
      "Epoch 310/500\n",
      "50/50 [==============================] - 0s 1ms/step - loss: 264.6488\n",
      "Epoch 311/500\n",
      "50/50 [==============================] - 0s 988us/step - loss: 264.3358\n",
      "Epoch 312/500\n",
      "50/50 [==============================] - 0s 984us/step - loss: 264.3732\n",
      "Epoch 313/500\n",
      "50/50 [==============================] - 0s 967us/step - loss: 264.1255\n",
      "Epoch 314/500\n",
      "50/50 [==============================] - 0s 967us/step - loss: 264.1327\n",
      "Epoch 315/500\n",
      "50/50 [==============================] - 0s 950us/step - loss: 263.7103\n",
      "Epoch 316/500\n",
      "50/50 [==============================] - 0s 998us/step - loss: 263.6338\n",
      "Epoch 317/500\n",
      "50/50 [==============================] - 0s 857us/step - loss: 263.5694\n",
      "Epoch 318/500\n",
      "50/50 [==============================] - 0s 1ms/step - loss: 263.3928\n",
      "Epoch 319/500\n",
      "50/50 [==============================] - 0s 1ms/step - loss: 263.1610\n",
      "Epoch 320/500\n",
      "50/50 [==============================] - 0s 1ms/step - loss: 263.1046\n",
      "Epoch 321/500\n",
      "50/50 [==============================] - 0s 1ms/step - loss: 262.9170\n",
      "Epoch 322/500\n",
      "50/50 [==============================] - 0s 1ms/step - loss: 263.0625\n",
      "Epoch 323/500\n",
      "50/50 [==============================] - 0s 987us/step - loss: 262.7681\n",
      "Epoch 324/500\n",
      "50/50 [==============================] - 0s 1ms/step - loss: 262.6545\n",
      "Epoch 325/500\n",
      "50/50 [==============================] - 0s 1ms/step - loss: 262.5420\n",
      "Epoch 326/500\n",
      "50/50 [==============================] - 0s 816us/step - loss: 262.8218\n",
      "Epoch 327/500\n",
      "50/50 [==============================] - 0s 847us/step - loss: 262.7188\n",
      "Epoch 328/500\n",
      "50/50 [==============================] - 0s 826us/step - loss: 262.0672\n",
      "Epoch 329/500\n",
      "50/50 [==============================] - 0s 905us/step - loss: 262.1436\n",
      "Epoch 330/500\n",
      "50/50 [==============================] - 0s 824us/step - loss: 261.7609\n",
      "Epoch 331/500\n",
      "50/50 [==============================] - 0s 980us/step - loss: 261.8231\n",
      "Epoch 332/500\n",
      "50/50 [==============================] - 0s 1ms/step - loss: 261.7818\n",
      "Epoch 333/500\n",
      "50/50 [==============================] - 0s 1ms/step - loss: 261.6380\n",
      "Epoch 334/500\n",
      "50/50 [==============================] - 0s 1ms/step - loss: 261.4274\n",
      "Epoch 335/500\n",
      "50/50 [==============================] - 0s 1ms/step - loss: 261.4344\n",
      "Epoch 336/500\n",
      "50/50 [==============================] - 0s 1ms/step - loss: 261.2499\n",
      "Epoch 337/500\n",
      "50/50 [==============================] - 0s 1ms/step - loss: 261.3312\n",
      "Epoch 338/500\n",
      "50/50 [==============================] - 0s 1ms/step - loss: 261.6170\n",
      "Epoch 339/500\n",
      "50/50 [==============================] - 0s 1ms/step - loss: 261.0792\n",
      "Epoch 340/500\n",
      "50/50 [==============================] - 0s 958us/step - loss: 260.9670\n",
      "Epoch 341/500\n",
      "50/50 [==============================] - 0s 982us/step - loss: 260.9912\n",
      "Epoch 342/500\n",
      "50/50 [==============================] - 0s 926us/step - loss: 261.1278\n",
      "Epoch 343/500\n",
      "50/50 [==============================] - 0s 921us/step - loss: 260.7113\n",
      "Epoch 344/500\n",
      "50/50 [==============================] - 0s 923us/step - loss: 260.6718\n",
      "Epoch 345/500\n",
      "50/50 [==============================] - 0s 992us/step - loss: 260.4283\n",
      "Epoch 346/500\n",
      "50/50 [==============================] - 0s 937us/step - loss: 260.7646\n",
      "Epoch 347/500\n",
      "50/50 [==============================] - 0s 1ms/step - loss: 260.4188\n",
      "Epoch 348/500\n",
      "50/50 [==============================] - 0s 888us/step - loss: 260.1661\n",
      "Epoch 349/500\n",
      "50/50 [==============================] - 0s 849us/step - loss: 260.0760\n",
      "Epoch 350/500\n",
      "50/50 [==============================] - 0s 842us/step - loss: 260.2385\n",
      "Epoch 351/500\n",
      "50/50 [==============================] - 0s 858us/step - loss: 259.8484\n",
      "Epoch 352/500\n",
      "50/50 [==============================] - 0s 842us/step - loss: 259.7954\n",
      "Epoch 353/500\n",
      "50/50 [==============================] - 0s 848us/step - loss: 259.7319\n",
      "Epoch 354/500\n",
      "50/50 [==============================] - 0s 841us/step - loss: 259.7569\n",
      "Epoch 355/500\n",
      "50/50 [==============================] - 0s 820us/step - loss: 259.6136\n",
      "Epoch 356/500\n",
      "50/50 [==============================] - 0s 853us/step - loss: 259.5346\n",
      "Epoch 357/500\n",
      "50/50 [==============================] - 0s 848us/step - loss: 259.4126\n",
      "Epoch 358/500\n",
      "50/50 [==============================] - 0s 827us/step - loss: 259.2449\n",
      "Epoch 359/500\n",
      "50/50 [==============================] - 0s 902us/step - loss: 259.5148\n",
      "Epoch 360/500\n",
      "50/50 [==============================] - 0s 883us/step - loss: 259.4171\n",
      "Epoch 361/500\n",
      "50/50 [==============================] - 0s 914us/step - loss: 259.3042\n",
      "Epoch 362/500\n",
      "50/50 [==============================] - 0s 915us/step - loss: 259.2430\n",
      "Epoch 363/500\n",
      "50/50 [==============================] - 0s 933us/step - loss: 259.3143\n",
      "Epoch 364/500\n",
      "50/50 [==============================] - 0s 1ms/step - loss: 258.8343\n",
      "Epoch 365/500\n",
      "50/50 [==============================] - 0s 1ms/step - loss: 258.8685\n",
      "Epoch 366/500\n",
      "50/50 [==============================] - 0s 923us/step - loss: 258.7964\n",
      "Epoch 367/500\n",
      "50/50 [==============================] - 0s 970us/step - loss: 258.7808\n",
      "Epoch 368/500\n",
      "50/50 [==============================] - 0s 1ms/step - loss: 259.0031\n",
      "Epoch 369/500\n",
      "50/50 [==============================] - 0s 895us/step - loss: 258.6191\n",
      "Epoch 370/500\n",
      "50/50 [==============================] - 0s 918us/step - loss: 258.6302\n",
      "Epoch 371/500\n",
      "50/50 [==============================] - 0s 979us/step - loss: 258.4000\n",
      "Epoch 372/500\n",
      "50/50 [==============================] - 0s 933us/step - loss: 258.5445\n",
      "Epoch 373/500\n",
      "50/50 [==============================] - 0s 1ms/step - loss: 258.2187\n",
      "Epoch 374/500\n",
      "50/50 [==============================] - 0s 1ms/step - loss: 258.2094\n",
      "Epoch 375/500\n",
      "50/50 [==============================] - 0s 1ms/step - loss: 258.4710\n",
      "Epoch 376/500\n",
      "50/50 [==============================] - 0s 983us/step - loss: 258.5452\n",
      "Epoch 377/500\n",
      "50/50 [==============================] - 0s 949us/step - loss: 258.0059\n",
      "Epoch 378/500\n",
      "50/50 [==============================] - 0s 982us/step - loss: 257.9413\n",
      "Epoch 379/500\n",
      "50/50 [==============================] - 0s 957us/step - loss: 257.9224\n",
      "Epoch 380/500\n",
      "50/50 [==============================] - 0s 930us/step - loss: 257.9637\n",
      "Epoch 381/500\n",
      "50/50 [==============================] - 0s 906us/step - loss: 258.0044\n",
      "Epoch 382/500\n",
      "50/50 [==============================] - 0s 999us/step - loss: 257.9287\n",
      "Epoch 383/500\n",
      "50/50 [==============================] - 0s 1ms/step - loss: 258.1283\n",
      "Epoch 384/500\n",
      "50/50 [==============================] - 0s 1ms/step - loss: 257.7754\n",
      "Epoch 385/500\n"
     ]
    },
    {
     "name": "stdout",
     "output_type": "stream",
     "text": [
      "50/50 [==============================] - 0s 1ms/step - loss: 257.6742\n",
      "Epoch 386/500\n",
      "50/50 [==============================] - 0s 1ms/step - loss: 257.4122\n",
      "Epoch 387/500\n",
      "50/50 [==============================] - 0s 913us/step - loss: 257.5081\n",
      "Epoch 388/500\n",
      "50/50 [==============================] - 0s 931us/step - loss: 257.4047\n",
      "Epoch 389/500\n",
      "50/50 [==============================] - 0s 939us/step - loss: 257.4244\n",
      "Epoch 390/500\n",
      "50/50 [==============================] - 0s 987us/step - loss: 257.6174\n",
      "Epoch 391/500\n",
      "50/50 [==============================] - 0s 961us/step - loss: 257.6567\n",
      "Epoch 392/500\n",
      "50/50 [==============================] - 0s 983us/step - loss: 257.1400\n",
      "Epoch 393/500\n",
      "50/50 [==============================] - 0s 1ms/step - loss: 257.1888\n",
      "Epoch 394/500\n",
      "50/50 [==============================] - 0s 1ms/step - loss: 257.2137\n",
      "Epoch 395/500\n",
      "50/50 [==============================] - 0s 926us/step - loss: 257.0151\n",
      "Epoch 396/500\n",
      "50/50 [==============================] - 0s 937us/step - loss: 257.1285\n",
      "Epoch 397/500\n",
      "50/50 [==============================] - 0s 945us/step - loss: 256.9572\n",
      "Epoch 398/500\n",
      "50/50 [==============================] - 0s 943us/step - loss: 256.9315\n",
      "Epoch 399/500\n",
      "50/50 [==============================] - 0s 924us/step - loss: 257.2203\n",
      "Epoch 400/500\n",
      "50/50 [==============================] - 0s 1ms/step - loss: 256.9351\n",
      "Epoch 401/500\n",
      "50/50 [==============================] - 0s 977us/step - loss: 256.9087\n",
      "Epoch 402/500\n",
      "50/50 [==============================] - 0s 964us/step - loss: 256.5392\n",
      "Epoch 403/500\n",
      "50/50 [==============================] - 0s 976us/step - loss: 256.8882\n",
      "Epoch 404/500\n",
      "50/50 [==============================] - 0s 1ms/step - loss: 256.6377\n",
      "Epoch 405/500\n",
      "50/50 [==============================] - 0s 872us/step - loss: 256.7662\n",
      "Epoch 406/500\n",
      "50/50 [==============================] - 0s 828us/step - loss: 256.5055\n",
      "Epoch 407/500\n",
      "50/50 [==============================] - 0s 879us/step - loss: 256.5986\n",
      "Epoch 408/500\n",
      "50/50 [==============================] - 0s 833us/step - loss: 256.6951\n",
      "Epoch 409/500\n",
      "50/50 [==============================] - 0s 869us/step - loss: 256.6507\n",
      "Epoch 410/500\n",
      "50/50 [==============================] - 0s 833us/step - loss: 256.3571\n",
      "Epoch 411/500\n",
      "50/50 [==============================] - 0s 1ms/step - loss: 256.1849\n",
      "Epoch 412/500\n",
      "50/50 [==============================] - 0s 1ms/step - loss: 256.3188\n",
      "Epoch 413/500\n",
      "50/50 [==============================] - 0s 964us/step - loss: 256.3038\n",
      "Epoch 414/500\n",
      "50/50 [==============================] - 0s 993us/step - loss: 256.1315\n",
      "Epoch 415/500\n",
      "50/50 [==============================] - 0s 1ms/step - loss: 256.3133\n",
      "Epoch 416/500\n",
      "50/50 [==============================] - 0s 980us/step - loss: 256.2684\n",
      "Epoch 417/500\n",
      "50/50 [==============================] - 0s 1ms/step - loss: 256.4239\n",
      "Epoch 418/500\n",
      "50/50 [==============================] - 0s 912us/step - loss: 256.1133\n",
      "Epoch 419/500\n",
      "50/50 [==============================] - 0s 977us/step - loss: 256.0155\n",
      "Epoch 420/500\n",
      "50/50 [==============================] - 0s 1ms/step - loss: 256.0052\n",
      "Epoch 421/500\n",
      "50/50 [==============================] - 0s 1ms/step - loss: 255.8071\n",
      "Epoch 422/500\n",
      "50/50 [==============================] - 0s 928us/step - loss: 256.0295\n",
      "Epoch 423/500\n",
      "50/50 [==============================] - 0s 996us/step - loss: 255.8713\n",
      "Epoch 424/500\n",
      "50/50 [==============================] - 0s 1ms/step - loss: 255.8097\n",
      "Epoch 425/500\n",
      "50/50 [==============================] - 0s 878us/step - loss: 255.5926\n",
      "Epoch 426/500\n",
      "50/50 [==============================] - 0s 979us/step - loss: 255.6533\n",
      "Epoch 427/500\n",
      "50/50 [==============================] - 0s 1ms/step - loss: 255.9613\n",
      "Epoch 428/500\n",
      "50/50 [==============================] - 0s 1ms/step - loss: 255.7440\n",
      "Epoch 429/500\n",
      "50/50 [==============================] - 0s 957us/step - loss: 255.9906\n",
      "Epoch 430/500\n",
      "50/50 [==============================] - 0s 973us/step - loss: 255.5682\n",
      "Epoch 431/500\n",
      "50/50 [==============================] - 0s 998us/step - loss: 255.4565\n",
      "Epoch 432/500\n",
      "50/50 [==============================] - 0s 970us/step - loss: 255.5415\n",
      "Epoch 433/500\n",
      "50/50 [==============================] - 0s 952us/step - loss: 255.5543\n",
      "Epoch 434/500\n",
      "50/50 [==============================] - 0s 987us/step - loss: 255.4788\n",
      "Epoch 435/500\n",
      "50/50 [==============================] - 0s 938us/step - loss: 255.5583\n",
      "Epoch 436/500\n",
      "50/50 [==============================] - 0s 1ms/step - loss: 255.6268\n",
      "Epoch 437/500\n",
      "50/50 [==============================] - 0s 1ms/step - loss: 255.4091\n",
      "Epoch 438/500\n",
      "50/50 [==============================] - 0s 1ms/step - loss: 255.4846\n",
      "Epoch 439/500\n",
      "50/50 [==============================] - 0s 854us/step - loss: 255.3958\n",
      "Epoch 440/500\n",
      "50/50 [==============================] - 0s 918us/step - loss: 255.3845\n",
      "Epoch 441/500\n",
      "50/50 [==============================] - 0s 926us/step - loss: 255.0777\n",
      "Epoch 442/500\n",
      "50/50 [==============================] - 0s 965us/step - loss: 255.3165\n",
      "Epoch 443/500\n",
      "50/50 [==============================] - 0s 1ms/step - loss: 255.4057\n",
      "Epoch 444/500\n",
      "50/50 [==============================] - 0s 981us/step - loss: 255.2404\n",
      "Epoch 445/500\n",
      "50/50 [==============================] - 0s 904us/step - loss: 255.3663\n",
      "Epoch 446/500\n",
      "50/50 [==============================] - 0s 910us/step - loss: 255.0974\n",
      "Epoch 447/500\n",
      "50/50 [==============================] - 0s 942us/step - loss: 255.0289\n",
      "Epoch 448/500\n",
      "50/50 [==============================] - 0s 910us/step - loss: 254.8889\n",
      "Epoch 449/500\n",
      "50/50 [==============================] - 0s 992us/step - loss: 254.9576\n",
      "Epoch 450/500\n",
      "50/50 [==============================] - 0s 965us/step - loss: 255.3042\n",
      "Epoch 451/500\n",
      "50/50 [==============================] - 0s 965us/step - loss: 254.9261\n",
      "Epoch 452/500\n",
      "50/50 [==============================] - 0s 894us/step - loss: 254.9700\n",
      "Epoch 453/500\n",
      "50/50 [==============================] - 0s 964us/step - loss: 254.9989\n",
      "Epoch 454/500\n",
      "50/50 [==============================] - 0s 911us/step - loss: 254.8852\n",
      "Epoch 455/500\n",
      "50/50 [==============================] - 0s 944us/step - loss: 255.1965\n",
      "Epoch 456/500\n",
      "50/50 [==============================] - 0s 985us/step - loss: 254.7471\n",
      "Epoch 457/500\n",
      "50/50 [==============================] - 0s 842us/step - loss: 254.8902\n",
      "Epoch 458/500\n",
      "50/50 [==============================] - 0s 869us/step - loss: 254.7973\n",
      "Epoch 459/500\n",
      "50/50 [==============================] - 0s 965us/step - loss: 254.7097\n",
      "Epoch 460/500\n",
      "50/50 [==============================] - 0s 1ms/step - loss: 254.5523\n",
      "Epoch 461/500\n",
      "50/50 [==============================] - 0s 1000us/step - loss: 254.7790\n",
      "Epoch 462/500\n",
      "50/50 [==============================] - 0s 945us/step - loss: 254.8324\n",
      "Epoch 463/500\n",
      "50/50 [==============================] - 0s 899us/step - loss: 254.5218\n",
      "Epoch 464/500\n",
      "50/50 [==============================] - 0s 879us/step - loss: 254.5660\n",
      "Epoch 465/500\n",
      "50/50 [==============================] - 0s 1ms/step - loss: 254.4050\n",
      "Epoch 466/500\n",
      "50/50 [==============================] - 0s 927us/step - loss: 254.4668\n",
      "Epoch 467/500\n",
      "50/50 [==============================] - 0s 871us/step - loss: 254.6280\n",
      "Epoch 468/500\n",
      "50/50 [==============================] - 0s 926us/step - loss: 254.5303\n",
      "Epoch 469/500\n",
      "50/50 [==============================] - 0s 1ms/step - loss: 254.5870\n",
      "Epoch 470/500\n",
      "50/50 [==============================] - 0s 1ms/step - loss: 254.4859\n",
      "Epoch 471/500\n",
      "50/50 [==============================] - 0s 934us/step - loss: 254.3862\n",
      "Epoch 472/500\n",
      "50/50 [==============================] - 0s 849us/step - loss: 254.3822\n",
      "Epoch 473/500\n",
      "50/50 [==============================] - 0s 841us/step - loss: 254.2674\n",
      "Epoch 474/500\n",
      "50/50 [==============================] - 0s 843us/step - loss: 254.3626\n",
      "Epoch 475/500\n",
      "50/50 [==============================] - 0s 890us/step - loss: 254.2219\n",
      "Epoch 476/500\n",
      "50/50 [==============================] - 0s 847us/step - loss: 254.3121\n",
      "Epoch 477/500\n",
      "50/50 [==============================] - 0s 923us/step - loss: 254.2265\n",
      "Epoch 478/500\n",
      "50/50 [==============================] - 0s 835us/step - loss: 254.2766\n",
      "Epoch 479/500\n",
      "50/50 [==============================] - 0s 815us/step - loss: 253.9594\n",
      "Epoch 480/500\n",
      "50/50 [==============================] - 0s 1ms/step - loss: 253.9743\n"
     ]
    },
    {
     "name": "stdout",
     "output_type": "stream",
     "text": [
      "Epoch 481/500\n",
      "50/50 [==============================] - 0s 1ms/step - loss: 254.2479\n",
      "Epoch 482/500\n",
      "50/50 [==============================] - 0s 982us/step - loss: 254.0684\n",
      "Epoch 483/500\n",
      "50/50 [==============================] - 0s 901us/step - loss: 254.0544\n",
      "Epoch 484/500\n",
      "50/50 [==============================] - 0s 799us/step - loss: 254.3590\n",
      "Epoch 485/500\n",
      "50/50 [==============================] - 0s 854us/step - loss: 254.7056\n",
      "Epoch 486/500\n",
      "50/50 [==============================] - 0s 848us/step - loss: 253.9572\n",
      "Epoch 487/500\n",
      "50/50 [==============================] - 0s 850us/step - loss: 253.8017\n",
      "Epoch 488/500\n",
      "50/50 [==============================] - 0s 820us/step - loss: 253.7850\n",
      "Epoch 489/500\n",
      "50/50 [==============================] - 0s 1ms/step - loss: 253.7307\n",
      "Epoch 490/500\n",
      "50/50 [==============================] - 0s 1ms/step - loss: 253.8072\n",
      "Epoch 491/500\n",
      "50/50 [==============================] - 0s 1ms/step - loss: 254.3272\n",
      "Epoch 492/500\n",
      "50/50 [==============================] - 0s 1ms/step - loss: 254.2580\n",
      "Epoch 493/500\n",
      "50/50 [==============================] - 0s 902us/step - loss: 253.9068\n",
      "Epoch 494/500\n",
      "50/50 [==============================] - 0s 946us/step - loss: 253.7396\n",
      "Epoch 495/500\n",
      "50/50 [==============================] - 0s 954us/step - loss: 253.6798\n",
      "Epoch 496/500\n",
      "50/50 [==============================] - 0s 923us/step - loss: 253.8246\n",
      "Epoch 497/500\n",
      "50/50 [==============================] - 0s 970us/step - loss: 253.6198\n",
      "Epoch 498/500\n",
      "50/50 [==============================] - 0s 975us/step - loss: 253.6490\n",
      "Epoch 499/500\n",
      "50/50 [==============================] - 0s 941us/step - loss: 253.6254\n",
      "Epoch 500/500\n",
      "50/50 [==============================] - 0s 992us/step - loss: 253.5649\n"
     ]
    },
    {
     "data": {
      "text/plain": [
       "<tensorflow.python.keras.callbacks.History at 0x7fb897d96640>"
      ]
     },
     "execution_count": 24,
     "metadata": {},
     "output_type": "execute_result"
    }
   ],
   "source": [
    "# Fit the data.\n",
    "model.fit(df['speed'], df['power'], epochs=500, batch_size=10)"
   ]
  },
  {
   "cell_type": "markdown",
   "metadata": {},
   "source": [
    "The loss is still very high"
   ]
  },
  {
   "cell_type": "code",
   "execution_count": 26,
   "metadata": {
    "scrolled": true
   },
   "outputs": [
    {
     "data": {
      "image/png": "[encoded data removed]",
      "text/plain": [
       "<Figure size 1008x576 with 1 Axes>"
      ]
     },
     "metadata": {},
     "output_type": "display_data"
    }
   ],
   "source": [
    "# Now let's see.\n",
    "plt.plot(df['speed'], df['power'], 'k.',label='actual')\n",
    "plt.plot(df['speed'], model.predict(df['power']), 'r.',label='prediction')\n",
    "plt.legend();"
   ]
  },
  {
   "cell_type": "markdown",
   "metadata": {},
   "source": [
    "https://medium.com/the-theory-of-everything/understanding-activation-functions-in-neural-networks-9491262884e0\n",
    "Here I am reading through the article referenced, making notes and some paraphrasing. I will reference properly later.\n",
    "\n",
    "An artificial neuron calculates a weighted sum of its input, adds a bias and then decides whether it should be fired or not. $ Y = \\sum{(\\text{weight} * \\text{input})} + \\text{bias}$\n",
    "The value of Y can be anything from -infinity to + infinity. The neuron does not really know the bounds of the value. So how do we decide whether the neuron should fire or not? This is where the activation functions come in. The activation function will check the Y value produced by the neuron and decide whether outside connections should consider this neuron as activated (fired) or not.\n",
    "\n",
    "Consider a threshold based activation function. If the value of Y is above a certain value then it could declare it as activated, otherwise not. In this case the output is 1 (activated) when the value is greater than than the threshold and 0 otherwise. This is a step function. There are drawbacks to using this method as an activation function for neural networks though when the response is not a binary yes or no.\n",
    "\n",
    "A linear activation function A = cx is a straight line function where activation is proportional to input ( which is the weighted sum from neuron ). In this way it will give a range of activations rather than just binary activations. We can connect some neurons and if more than one fire then we could take the max and decide based on that.\n",
    "\n",
    "The derivative w.r.x is c which means that the gradient has no relationship with X. The descent is going to be on a constant gradient. If there is an error in prediction the changes made by back propagation is constant and not depending on the change in input delta(x).\n",
    "Another problem concerns the connected layers where each layer is activated by a linear function. \n",
    "That activation in turn goes into the next level as input and the second layer calculates weighted sum on that input and it in turn, fires based on another linear activation function.\n",
    "No matter how many layers we have, if all are linear in nature, the final activation function of last layer is nothing but just a linear function of the input of first layer. Therefore two or more layers can be replaced by a single layer. The whole network then is equivalent to  a single layer with linear activation.\n",
    "\n",
    "Thw sigmoid function is smooth and looks somewhat like a step function. It is nonlinear in nature and therefore combinations of layers are also non-linear which means that layers can be stacked. It will also give non binary activations unlike the step function. It has a smooth gradient.\n",
    "\n",
    "Between X values -2 to 2, the Y values are very steep.This means that any small changes in the values of X in that region will cause values of Y to change significantly.This means this function has a tendency to bring the Y values to either end of the curve.\n",
    "It tends to bring the activations to either side of the curve making clear distinctions on prediction. Another advantage over linear function is that the output of the activation function is always going to be in range (0,1) compared to (-inf, inf) of linear function and therefore the activations are bound in a range. \n",
    "Sigmoid functions are one of the most widely used activation functions today. The problems with them is that towards either end of the sigmoid function, the Y values tend to respond very less to changes in X. This means that the gradient at that region is going to be small. It gives rise to a problem of “vanishing gradients”. When the activations reach near the “near-horizontal” part of the curve on either sides, the gradient is small or has vanished ( cannot make significant change because of the extremely small value ). The network refuses to learn further or is drastically slow ( depending on use case and until gradient /computation gets hit by floating point value limits ). There are ways to work around this problem and sigmoid is still very popular in classification problems.\n",
    "The article also looked at the Tanh activation functions which is a scaled sigmoid function and the ReLu function which gives an output x if x is positive and 0 otherwise. These are both non-linear functions.\n",
    "\n",
    "The article finishes by suggesting how to choose the correct activation function. \n",
    "When you know the function you are trying to approximate has certain characteristics, you can choose an activation function which will approximate the function faster leading to faster training process. For example, a sigmoid works well for a classifier "
   ]
  },
  {
   "cell_type": "markdown",
   "metadata": {},
   "source": [
    "https://www.computing.dcu.ie/~humphrys/Notes/Neural/sigmoid.html\n",
    "https://machinelearningmastery.com/tutorial-first-neural-network-python-keras/"
   ]
  },
  {
   "cell_type": "markdown",
   "metadata": {},
   "source": [
    "### End"
   ]
  },
  {
   "cell_type": "code",
   "execution_count": null,
   "metadata": {},
   "outputs": [],
   "source": []
  },
  {
   "cell_type": "code",
   "execution_count": null,
   "metadata": {},
   "outputs": [],
   "source": []
  }
 ],
 "metadata": {
  "kernelspec": {
   "display_name": "Python 3",
   "language": "python",
   "name": "python3"
  },
  "language_info": {
   "codemirror_mode": {
    "name": "ipython",
    "version": 3
   },
   "file_extension": ".py",
   "mimetype": "text/x-python",
   "name": "python",
   "nbconvert_exporter": "python",
   "pygments_lexer": "ipython3",
   "version": "3.8.2"
  }
 },
 "nbformat": 4,
 "nbformat_minor": 4
}
