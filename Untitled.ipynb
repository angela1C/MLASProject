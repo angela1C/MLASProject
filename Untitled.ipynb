{
 "cells": [
  {
   "cell_type": "markdown",
   "metadata": {},
   "source": [
    "# Machine Learning and Statistics Project 2020\n",
    "Author Angela Carpenter\n",
    "\n",
    "https://raw.githubusercontent.com/ianmcloughlin/2020A-machstat-project/master/dataset/powerproduction.csv"
   ]
  },
  {
   "cell_type": "markdown",
   "metadata": {},
   "source": [
    "# Table of Contents\n",
    "- Project Instructions / Overview\n",
    "- Project plan\n",
    "- About this Notebook\n",
    "- Python Libraries\n",
    "- Downloading and running the code\n",
    "- Loading / Reading in the dataset\n",
    "- Exploring the dataset\n",
    "- Describing the dataset\n",
    "- Summary Statistics\n",
    "- Visualising the dataset using plots\n",
    "- Summary and Conclusions\n",
    "- References\n",
    "\n",
    "\n",
    "## Project Instructions\n",
    "\n",
    "In this project you must create a web service that uses machine learning to make pre- dictions based on the data set powerproduction available on Moodle. The goal is to produce a model that accurately predicts wind turbine power output from wind speed values, as in the data set. You must then develop a web service that will respond with predicted power values based on speed values sent as HTTP requests. Your submission must be in the form of a git repository containing, at a minimum, the following items.\n",
    "1. Jupyter notebook that trains a model using the data set. In the notebook you should explain your model and give an analysis of its accuracy.\n",
    "2. Python script that runs a web service based on the model, as above.\n",
    "3. Dockerfile to build and run the web service in a container.\n",
    "4. Standard items in a git repository such as a README.\n",
    "To enhance your submission, you might consider developing and comparing more than one model. Rest assured, all the above concepts will be explored in lecture videos and other materials in the coming semester.\n",
    "\n",
    "## Project Plan\n",
    "\n",
    "- Explore the dataset first using descriptive statistics and some plots\n",
    "- Start by looking at the statistics from my previous project "
   ]
  },
  {
   "cell_type": "code",
   "execution_count": 3,
   "metadata": {},
   "outputs": [],
   "source": [
    "# first importing the following libraries\n",
    "import numpy as np\n",
    "import pandas as pd  \n",
    "import matplotlib.pyplot as plt \n",
    "import seaborn as sns"
   ]
  },
  {
   "cell_type": "code",
   "execution_count": 4,
   "metadata": {},
   "outputs": [],
   "source": [
    "# save link to data and reference the link \n",
    "csv_url = 'https://raw.githubusercontent.com/ianmcloughlin/2020A-machstat-project/master/dataset/powerproduction.csv'"
   ]
  },
  {
   "cell_type": "code",
   "execution_count": 8,
   "metadata": {},
   "outputs": [
    {
     "data": {
      "text/html": [
       "<div>\n",
       "<style scoped>\n",
       "    .dataframe tbody tr th:only-of-type {\n",
       "        vertical-align: middle;\n",
       "    }\n",
       "\n",
       "    .dataframe tbody tr th {\n",
       "        vertical-align: top;\n",
       "    }\n",
       "\n",
       "    .dataframe thead th {\n",
       "        text-align: right;\n",
       "    }\n",
       "</style>\n",
       "<table border=\"1\" class=\"dataframe\">\n",
       "  <thead>\n",
       "    <tr style=\"text-align: right;\">\n",
       "      <th></th>\n",
       "      <th>speed</th>\n",
       "      <th>power</th>\n",
       "    </tr>\n",
       "  </thead>\n",
       "  <tbody>\n",
       "    <tr>\n",
       "      <th>0</th>\n",
       "      <td>0.000</td>\n",
       "      <td>0.0</td>\n",
       "    </tr>\n",
       "    <tr>\n",
       "      <th>1</th>\n",
       "      <td>0.125</td>\n",
       "      <td>0.0</td>\n",
       "    </tr>\n",
       "    <tr>\n",
       "      <th>2</th>\n",
       "      <td>0.150</td>\n",
       "      <td>0.0</td>\n",
       "    </tr>\n",
       "    <tr>\n",
       "      <th>3</th>\n",
       "      <td>0.225</td>\n",
       "      <td>0.0</td>\n",
       "    </tr>\n",
       "    <tr>\n",
       "      <th>4</th>\n",
       "      <td>0.275</td>\n",
       "      <td>0.0</td>\n",
       "    </tr>\n",
       "    <tr>\n",
       "      <th>...</th>\n",
       "      <td>...</td>\n",
       "      <td>...</td>\n",
       "    </tr>\n",
       "    <tr>\n",
       "      <th>495</th>\n",
       "      <td>24.775</td>\n",
       "      <td>0.0</td>\n",
       "    </tr>\n",
       "    <tr>\n",
       "      <th>496</th>\n",
       "      <td>24.850</td>\n",
       "      <td>0.0</td>\n",
       "    </tr>\n",
       "    <tr>\n",
       "      <th>497</th>\n",
       "      <td>24.875</td>\n",
       "      <td>0.0</td>\n",
       "    </tr>\n",
       "    <tr>\n",
       "      <th>498</th>\n",
       "      <td>24.950</td>\n",
       "      <td>0.0</td>\n",
       "    </tr>\n",
       "    <tr>\n",
       "      <th>499</th>\n",
       "      <td>25.000</td>\n",
       "      <td>0.0</td>\n",
       "    </tr>\n",
       "  </tbody>\n",
       "</table>\n",
       "<p>500 rows × 2 columns</p>\n",
       "</div>"
      ],
      "text/plain": [
       "      speed  power\n",
       "0     0.000    0.0\n",
       "1     0.125    0.0\n",
       "2     0.150    0.0\n",
       "3     0.225    0.0\n",
       "4     0.275    0.0\n",
       "..      ...    ...\n",
       "495  24.775    0.0\n",
       "496  24.850    0.0\n",
       "497  24.875    0.0\n",
       "498  24.950    0.0\n",
       "499  25.000    0.0\n",
       "\n",
       "[500 rows x 2 columns]"
      ]
     },
     "execution_count": 8,
     "metadata": {},
     "output_type": "execute_result"
    }
   ],
   "source": [
    "df = pd.read_csv(csv_url)\n",
    "df"
   ]
  },
  {
   "cell_type": "code",
   "execution_count": 17,
   "metadata": {},
   "outputs": [
    {
     "name": "stdout",
     "output_type": "stream",
     "text": [
      "The first few rows in the dataset: \n",
      "\n",
      "    speed  power\n",
      "0  0.000    0.0\n",
      "1  0.125    0.0\n",
      "2  0.150    0.0\n",
      "\n",
      " The final few rows in the dataset \n",
      "       speed  power\n",
      "497  24.875    0.0\n",
      "498  24.950    0.0\n",
      "499  25.000    0.0\n"
     ]
    }
   ],
   "source": [
    "print(\"The first few rows in the dataset: \\n\\n\", df.head(3))  # look at the top 5 rows of the DataFrame df\n",
    "print('\\n The final few rows in the dataset \\n',df.tail(3)) # Look at the bottom 5 rows of the DataFrame"
   ]
  },
  {
   "cell_type": "code",
   "execution_count": 18,
   "metadata": {},
   "outputs": [
    {
     "name": "stdout",
     "output_type": "stream",
     "text": [
      "The index of the tips DataFrame:  RangeIndex(start=0, stop=500, step=1)\n"
     ]
    }
   ],
   "source": [
    "print(\"The index of the DataFrame: \", df.index) # the index or row labels of the DataFrame"
   ]
  },
  {
   "cell_type": "code",
   "execution_count": 19,
   "metadata": {},
   "outputs": [
    {
     "name": "stdout",
     "output_type": "stream",
     "text": [
      "The dtypes in the dataframe are:\n",
      "\n",
      "speed    float64\n",
      "power    float64\n",
      "dtype: object\n"
     ]
    }
   ],
   "source": [
    "print(\"The dtypes in the dataframe are:\", end='\\n\\n')\n",
    "\n",
    "print(df.dtypes) # the data types attributes for each column in df"
   ]
  },
  {
   "cell_type": "code",
   "execution_count": 16,
   "metadata": {},
   "outputs": [
    {
     "name": "stdout",
     "output_type": "stream",
     "text": [
      "speed    0\n",
      "power    0\n",
      "dtype: int64\n"
     ]
    },
    {
     "data": {
      "text/plain": [
       "speed    500\n",
       "power    500\n",
       "dtype: int64"
      ]
     },
     "execution_count": 16,
     "metadata": {},
     "output_type": "execute_result"
    }
   ],
   "source": [
    "print(df.isnull().sum())\n",
    "df.notnull().sum()"
   ]
  },
  {
   "cell_type": "code",
   "execution_count": 25,
   "metadata": {},
   "outputs": [
    {
     "data": {
      "text/html": [
       "<div>\n",
       "<style scoped>\n",
       "    .dataframe tbody tr th:only-of-type {\n",
       "        vertical-align: middle;\n",
       "    }\n",
       "\n",
       "    .dataframe tbody tr th {\n",
       "        vertical-align: top;\n",
       "    }\n",
       "\n",
       "    .dataframe thead th {\n",
       "        text-align: right;\n",
       "    }\n",
       "</style>\n",
       "<table border=\"1\" class=\"dataframe\">\n",
       "  <thead>\n",
       "    <tr style=\"text-align: right;\">\n",
       "      <th></th>\n",
       "      <th>speed</th>\n",
       "      <th>power</th>\n",
       "    </tr>\n",
       "  </thead>\n",
       "  <tbody>\n",
       "    <tr>\n",
       "      <th>0</th>\n",
       "      <td>0.000</td>\n",
       "      <td>0.0</td>\n",
       "    </tr>\n",
       "    <tr>\n",
       "      <th>1</th>\n",
       "      <td>0.125</td>\n",
       "      <td>0.0</td>\n",
       "    </tr>\n",
       "    <tr>\n",
       "      <th>2</th>\n",
       "      <td>0.150</td>\n",
       "      <td>0.0</td>\n",
       "    </tr>\n",
       "    <tr>\n",
       "      <th>3</th>\n",
       "      <td>0.225</td>\n",
       "      <td>0.0</td>\n",
       "    </tr>\n",
       "    <tr>\n",
       "      <th>4</th>\n",
       "      <td>0.275</td>\n",
       "      <td>0.0</td>\n",
       "    </tr>\n",
       "  </tbody>\n",
       "</table>\n",
       "</div>"
      ],
      "text/plain": [
       "   speed  power\n",
       "0  0.000    0.0\n",
       "1  0.125    0.0\n",
       "2  0.150    0.0\n",
       "3  0.225    0.0\n",
       "4  0.275    0.0"
      ]
     },
     "execution_count": 25,
     "metadata": {},
     "output_type": "execute_result"
    }
   ],
   "source": [
    "df.sort_values(by='speed').head()"
   ]
  },
  {
   "cell_type": "code",
   "execution_count": 23,
   "metadata": {},
   "outputs": [
    {
     "data": {
      "text/html": [
       "<div>\n",
       "<style scoped>\n",
       "    .dataframe tbody tr th:only-of-type {\n",
       "        vertical-align: middle;\n",
       "    }\n",
       "\n",
       "    .dataframe tbody tr th {\n",
       "        vertical-align: top;\n",
       "    }\n",
       "\n",
       "    .dataframe thead th {\n",
       "        text-align: right;\n",
       "    }\n",
       "</style>\n",
       "<table border=\"1\" class=\"dataframe\">\n",
       "  <thead>\n",
       "    <tr style=\"text-align: right;\">\n",
       "      <th></th>\n",
       "      <th>speed</th>\n",
       "      <th>power</th>\n",
       "    </tr>\n",
       "  </thead>\n",
       "  <tbody>\n",
       "    <tr>\n",
       "      <th>461</th>\n",
       "      <td>23.273</td>\n",
       "      <td>113.556</td>\n",
       "    </tr>\n",
       "    <tr>\n",
       "      <th>416</th>\n",
       "      <td>20.646</td>\n",
       "      <td>112.362</td>\n",
       "    </tr>\n",
       "    <tr>\n",
       "      <th>447</th>\n",
       "      <td>22.497</td>\n",
       "      <td>109.932</td>\n",
       "    </tr>\n",
       "    <tr>\n",
       "      <th>420</th>\n",
       "      <td>20.871</td>\n",
       "      <td>108.485</td>\n",
       "    </tr>\n",
       "    <tr>\n",
       "      <th>464</th>\n",
       "      <td>23.348</td>\n",
       "      <td>108.167</td>\n",
       "    </tr>\n",
       "  </tbody>\n",
       "</table>\n",
       "</div>"
      ],
      "text/plain": [
       "      speed    power\n",
       "461  23.273  113.556\n",
       "416  20.646  112.362\n",
       "447  22.497  109.932\n",
       "420  20.871  108.485\n",
       "464  23.348  108.167"
      ]
     },
     "execution_count": 23,
     "metadata": {},
     "output_type": "execute_result"
    }
   ],
   "source": [
    "df.sort_values(by='power', ascending=False).head()"
   ]
  },
  {
   "cell_type": "markdown",
   "metadata": {},
   "source": [
    "## Exploring the dataset using statistics"
   ]
  },
  {
   "cell_type": "markdown",
   "metadata": {},
   "source": [
    "There are no categorical variables in this dataset.\n",
    "\n",
    "### Quantitative variables\n",
    "When looking at quantitative variables the characteristics of interest are the centre, spread, modality (the number of peaks in the pdf), the shape of the distribution and the outliers.\n",
    "Pandas `describe` function generates statistics that summarize the central tendency, dispersion and shape of a dataset’s distribution. (excluding NaN values)"
   ]
  },
  {
   "cell_type": "code",
   "execution_count": null,
   "metadata": {},
   "outputs": [],
   "source": []
  },
  {
   "cell_type": "code",
   "execution_count": 28,
   "metadata": {},
   "outputs": [
    {
     "data": {
      "text/html": [
       "<div>\n",
       "<style scoped>\n",
       "    .dataframe tbody tr th:only-of-type {\n",
       "        vertical-align: middle;\n",
       "    }\n",
       "\n",
       "    .dataframe tbody tr th {\n",
       "        vertical-align: top;\n",
       "    }\n",
       "\n",
       "    .dataframe thead th {\n",
       "        text-align: right;\n",
       "    }\n",
       "</style>\n",
       "<table border=\"1\" class=\"dataframe\">\n",
       "  <thead>\n",
       "    <tr style=\"text-align: right;\">\n",
       "      <th></th>\n",
       "      <th>speed</th>\n",
       "      <th>power</th>\n",
       "    </tr>\n",
       "  </thead>\n",
       "  <tbody>\n",
       "    <tr>\n",
       "      <th>count</th>\n",
       "      <td>500.000000</td>\n",
       "      <td>500.000000</td>\n",
       "    </tr>\n",
       "    <tr>\n",
       "      <th>mean</th>\n",
       "      <td>12.590398</td>\n",
       "      <td>48.014584</td>\n",
       "    </tr>\n",
       "    <tr>\n",
       "      <th>std</th>\n",
       "      <td>7.224991</td>\n",
       "      <td>41.614572</td>\n",
       "    </tr>\n",
       "    <tr>\n",
       "      <th>min</th>\n",
       "      <td>0.000000</td>\n",
       "      <td>0.000000</td>\n",
       "    </tr>\n",
       "    <tr>\n",
       "      <th>25%</th>\n",
       "      <td>6.324750</td>\n",
       "      <td>5.288000</td>\n",
       "    </tr>\n",
       "    <tr>\n",
       "      <th>50%</th>\n",
       "      <td>12.550500</td>\n",
       "      <td>41.645500</td>\n",
       "    </tr>\n",
       "    <tr>\n",
       "      <th>75%</th>\n",
       "      <td>18.775250</td>\n",
       "      <td>93.537000</td>\n",
       "    </tr>\n",
       "    <tr>\n",
       "      <th>max</th>\n",
       "      <td>25.000000</td>\n",
       "      <td>113.556000</td>\n",
       "    </tr>\n",
       "  </tbody>\n",
       "</table>\n",
       "</div>"
      ],
      "text/plain": [
       "            speed       power\n",
       "count  500.000000  500.000000\n",
       "mean    12.590398   48.014584\n",
       "std      7.224991   41.614572\n",
       "min      0.000000    0.000000\n",
       "25%      6.324750    5.288000\n",
       "50%     12.550500   41.645500\n",
       "75%     18.775250   93.537000\n",
       "max     25.000000  113.556000"
      ]
     },
     "execution_count": 28,
     "metadata": {},
     "output_type": "execute_result"
    }
   ],
   "source": [
    "# get summary statistics of the numerical values, \n",
    "df.describe() # get statistics summary of the"
   ]
  },
  {
   "cell_type": "markdown",
   "metadata": {},
   "source": [
    "#### Central Tendency statistics of the dataset\n",
    "\n",
    "The **central tendency** or location of the data distribution is determined by the typical or middle values. The arithmetic mean is the sum of all the data values divided by the number of values. While the mean value is the average value in the dataset it may not be typical of the values in the dataset if there are very small or very large values in the dataset. The *median* is another measure of central tendancy - it is the middle value after all the values are put in an ordered list.\n",
    "The mean and median are similar for symmetric distributions whereas for unimodal skewed distributions the mean will be more in the direction of the long tail of the distribution. \n",
    "The median can be considered a more typical value in the dataset or closer to some of the typical values and is also considered [robust](https://en.wikipedia.org/wiki/Robust_statistics) which means that the moving some of the data will not tend to change the value of the median. A few extreme values will not affect the median as they would affect the mean. "
   ]
  },
  {
   "cell_type": "code",
   "execution_count": 33,
   "metadata": {},
   "outputs": [
    {
     "name": "stdout",
     "output_type": "stream",
     "text": [
      "The mean speed value is 12.590 while the median speed value  is 12.550\n",
      "The mean speed value is 48.015 while the median power value  is 41.645\n"
     ]
    }
   ],
   "source": [
    "print(\"The mean speed value is %.3f\" %df['speed'].mean(),\"while the median speed value  is %.3f\" %df['speed'].quantile(q=0.5))\n",
    "print(\"The mean speed value is %.3f\" %df['power'].mean(),\"while the median power value  is %.3f\" %df['power'].quantile(q=0.5))"
   ]
  },
  {
   "cell_type": "markdown",
   "metadata": {},
   "source": [
    "#### Spread statistics\n",
    "There are several statistics that are used to show the spread of the distribution of the data which concerns how far away from the centre the data points are located. The *variance* is a measure of spread which involves calculating the distance (deviation) from the mean for all the data point, squaring each number (to deal with negative deviations)and summing it up before being   divided by the number of data points (or n-1 for a sample variance). The variance is the average of the squared deviations of each observation from the centre or mean of the data. Bigger deviations will make a bigger variance. The resulting variance figure will be in squared units of the original units. The *standard deviation* is the square root of the variance and is in the same units as the data and therefore can be more easily interpreted. The `describe` function shows the standard deviation rather than the variance but the variance can be found using the `var` function.\n",
    "The *range* of values in the data is shown by the minimum and maximum values and is not considered a robust measure of spread but it is useful for showing possible errors or outliers. The other measure of spread is determined by the percentiles or quartiles of the values.  \n",
    "Panda `describe` included the 25%, 50% and 75% quartiles although you can specify which quartiles to include or not. These three values divide the data into quarters. \n",
    "The 25% percentiles is the first quartile and one quarter of the values fall below this. The 50% percentile is the median value where half of the data falls below it and half above it. The 75% percentiles is the 3rd quartile where $\\frac{3}{4}$ of the data points fall below it and one quarter above it. These figures are used to calculate the *Interquartile range (IQR)* which is calculated by taking the 75% percentile or 3rd quartile (Q3) minus the 25% percentile or first quartile (Q1). $$IQR = Q3 - Q1$$\n",
    "Therefore half of the values are captured by the IQR which are the middle values of the data. Data that is more spread out will have a higher IQR. IQR is considered a more robust measure of spread than the variance and standard deviation. `describe` function does not show the IQR value itself but it can be calculated by taking the 25% from the 75% values returned. It will be more clearly shown in the boxplots further down.\n",
    "\n",
    "The skewness of the data is another way of describing data and is a measure of assymetry. The plots will show if there is any skew in the distribution."
   ]
  },
  {
   "cell_type": "code",
   "execution_count": 34,
   "metadata": {},
   "outputs": [
    {
     "name": "stdout",
     "output_type": "stream",
     "text": [
      "The variance and standard deviations of speed values  are 52.200 and 7.225\n",
      "The variance and standard deviations of power values are 1731.773 and 41.615\n"
     ]
    }
   ],
   "source": [
    "print(f\"The variance and standard deviations of speed values  are {df['speed'].var():.3f} and {df['speed'].std():.3f}\")\n",
    "print(f\"The variance and standard deviations of power values are {df['power'].var():.3f} and {df['power'].std():.3f}\")\n"
   ]
  },
  {
   "cell_type": "code",
   "execution_count": 37,
   "metadata": {},
   "outputs": [
    {
     "name": "stdout",
     "output_type": "stream",
     "text": [
      "The minimum speed value is  0.0  while the maximum speed value is  25.0  giving range of  25.0\n",
      "The minimum power value is  0.0  while the maximum power value is  113.556 giving a range of  113.556\n"
     ]
    }
   ],
   "source": [
    "print(\"The minimum speed value is \",df['speed'].min(),\" while the maximum speed value is \", df['speed'].max(), \" giving range of \",df['speed'].max() - df['speed'].min())\n",
    "print(\"The minimum power value is \",df['power'].min(),\" while the maximum power value is \", df['power'].max(), \"giving a range of \",df['power'].max() - df['power'].min())\n"
   ]
  },
  {
   "cell_type": "code",
   "execution_count": 38,
   "metadata": {},
   "outputs": [
    {
     "data": {
      "text/plain": [
       "speed      52.200499\n",
       "power    1731.772627\n",
       "dtype: float64"
      ]
     },
     "execution_count": 38,
     "metadata": {},
     "output_type": "execute_result"
    }
   ],
   "source": [
    "df.var()"
   ]
  },
  {
   "cell_type": "code",
   "execution_count": 41,
   "metadata": {},
   "outputs": [
    {
     "name": "stdout",
     "output_type": "stream",
     "text": [
      "The median speed value is  12.5505  and the median power value is 41.6455 units\n",
      "The speed IQR ranges from 6.32 to  18.78\n",
      "The power IQR ranges from 5.29 to  93.54\n"
     ]
    }
   ],
   "source": [
    "print(\"The median speed value is \",df['speed'].quantile(q=0.5), \" and the median power value is\", df['power'].quantile(q=0.5),\"units\")\n",
    "print(f\"The speed IQR ranges from {df['speed'].quantile(q=0.25):.2f} to  {df['speed'].quantile(q=0.75):.2f}\")\n",
    "print(f\"The power IQR ranges from {df['power'].quantile(q=0.25):.2f} to  {df['power'].quantile(q=0.75):.2f}\")"
   ]
  },
  {
   "cell_type": "markdown",
   "metadata": {},
   "source": [
    "### Describing the dataset visualisations\n",
    "This section will look at some graphical EDA of the univariate data in the dataset.\n",
    "\n",
    "While `pandas` functions were used above to look at a summary statistics of the dataset using statistics, the `seaborn` package will now be used to create some visualisations of the dataset that can be used to verify these summary statistics. \n",
    "Plots can highlight any obvious relationships between the different variables in the dataset. They can also be used to identify any groups of observations that are clearly separate to other groups of observations. There are many different ways to visualise this dataset using the seaborn library and no universal best way and many examples at <https://seaborn.pydata.org> ."
   ]
  },
  {
   "cell_type": "markdown",
   "metadata": {},
   "source": [
    "#### Histogram and Kernel Density estimate plots of Speed and Power values\n",
    "A histogram is a plot that shows the distribution of a single quantitative variable such as the speed or power values. A histogram represents the distribution of data by forming bins along the range of the data and then drawing bars to show the number of observations that fall in each bin. \n",
    "It charts the data using adjacent rectangular bars and displays either the frequency or relative frequency of the measurements for a range of values in each interval. Each interval or range of values is a *bin*. The number of bins can be specified although seaborn and matplotlib will automatically choose this. The number of bins chosen usually depends on the amount of data and the shape of the distribution. `distplot()` uses a simple rule to make a good guess for what the right number is by default, but this can be changed which might reveal other features of the data.\n",
    "\n",
    "The histogram visualises the centre and spread of the distribution as well as showing if there is any skew in the data. Below are the histograms of the Tip amount and the total bill amounts. The mean is shown as the red line and the median as the green dashed line.\n",
    "For symmetric distributions the mean is at the centre of the distribution and coincides with the median. Where the distribution is skewed the mean is further over than the median to the long tail which can be seen below for the total bill amount.\n",
    "\n",
    "\n",
    "The mode is the most frequently occuring value in a distribution. There is no mode function in pandas or even numpy. It is not really used as such except for describing whether a distribution is unimodal, bimodal or multimodal which depends on how many peaks there is in the distribution. In multimodal distributions there is no unique highest mode. \n",
    "\n",
    "Seaborn's `distplot()` function draws a histogram and fit a kernel density estimate (KDE).\n",
    "Distplot is deprecated, `displot` function does not support axes level plotting\n",
    "\n",
    "The kernel density estimate can be a useful tool for plotting the shape of a distribution. It also represents the density of observations on one axis with height along the other axis but involves further calculations where each observation is replaced with a normal gaussian curve centred at that value, these curves are then summed to compute the value of the density at each point in the support grid. The resulting curve is then normalized so that the area under it is equal to 1.\n",
    "A kernel density plot can also be drawn using the `kdeplot` function and with this you can specify a *bandwidth* (bw) parameter which controls how tightly the estimation is fit to the data. \n"
   ]
  },
  {
   "cell_type": "code",
   "execution_count": 61,
   "metadata": {},
   "outputs": [
    {
     "data": {
      "image/png": "[encoded data removed]",
      "text/plain": [
       "<Figure size 360x360 with 1 Axes>"
      ]
     },
     "metadata": {
      "needs_background": "light"
     },
     "output_type": "display_data"
    },
    {
     "data": {
      "image/png": "[encoded data removed]",
      "text/plain": [
       "<Figure size 360x360 with 1 Axes>"
      ]
     },
     "metadata": {
      "needs_background": "light"
     },
     "output_type": "display_data"
    }
   ],
   "source": [
    "%matplotlib inline\n",
    "# set up the subplots and figure sizes\n",
    "#f, axes = plt.subplots(1, 2, figsize=(12, 4))\n",
    "\n",
    "# plot the histograms of Speed values\n",
    "sns.displot(df['speed'], kde=True, rug=True, color=\"blue\", bins=25)\n",
    "# add a vertical line at the mean\n",
    "#axes[0].axvline(df['speed'].mean(), color='yellow', linewidth=2, linestyle=\"--\")\n",
    "# add a vertical line at the median\n",
    "#axes[0].axvline(df['speed'].quantile(q=0.5), color='cyan', linewidth=2, linestyle=\":\")\n",
    "# add a title\n",
    "#axes[0].set_title(\"Histogram of Speed values\")\n",
    "\n",
    "\n",
    "#plot the histogram of Power values\n",
    "sns.displot(df['power'], kde=True, rug=True, color=\"purple\", bins=25)\n",
    "# add a vertical line to show the mean\n",
    "#axes[1].axvline(df['power'].mean(), color='yellow', linewidth=2, linestyle=\"--\")\n",
    "# add a vertical line to show the median\n",
    "#axes[1].axvline(df['power'].quantile(q=0.5), color='cyan', linewidth=2, linestyle=\":\")\n",
    "# add title\n",
    "#axes[1].set_title(\"Histogram of  Power values\");\n",
    "plt.show()"
   ]
  },
  {
   "cell_type": "code",
   "execution_count": 49,
   "metadata": {},
   "outputs": [
    {
     "data": {
      "image/png": "[encoded data removed]",
      "text/plain": [
       "<Figure size 864x288 with 2 Axes>"
      ]
     },
     "metadata": {
      "needs_background": "light"
     },
     "output_type": "display_data"
    }
   ],
   "source": [
    "f, axes = plt.subplots(1, 2, figsize=(12, 4))\n",
    "sns.set(style=\"ticks\", palette=\"pastel\")\n",
    "sns.boxplot(y=df['speed'], ax=axes[0], color=\"blue\")\n",
    "# add a title\n",
    "axes[0].set_title(\"Boxplot of Speed values\")\n",
    "sns.boxplot(y=df['power'], ax=axes[1], color=\"purple\")\n",
    "axes[1].set_title(\"Boxplot of Power Values\");"
   ]
  },
  {
   "cell_type": "markdown",
   "metadata": {},
   "source": [
    "## Regression to investigate a relationship between Speed and Power"
   ]
  },
  {
   "cell_type": "code",
   "execution_count": 66,
   "metadata": {},
   "outputs": [
    {
     "data": {
      "image/png": "[encoded data removed]",
      "text/plain": [
       "<Figure size 432x288 with 1 Axes>"
      ]
     },
     "metadata": {
      "needs_background": "light"
     },
     "output_type": "display_data"
    }
   ],
   "source": [
    "# create the plot\n",
    "sns.scatterplot(x=df['speed'],y=df['power'])\n",
    "# add title\n",
    "plt.title(\"Scatter plot of Speed and Power\");"
   ]
  },
  {
   "cell_type": "code",
   "execution_count": null,
   "metadata": {},
   "outputs": [],
   "source": []
  }
 ],
 "metadata": {
  "kernelspec": {
   "display_name": "Python 3",
   "language": "python",
   "name": "python3"
  },
  "language_info": {
   "codemirror_mode": {
    "name": "ipython",
    "version": 3
   },
   "file_extension": ".py",
   "mimetype": "text/x-python",
   "name": "python",
   "nbconvert_exporter": "python",
   "pygments_lexer": "ipython3",
   "version": "3.8.2"
  }
 },
 "nbformat": 4,
 "nbformat_minor": 4
}
