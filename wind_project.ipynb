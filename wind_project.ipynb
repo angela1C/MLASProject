{
 "cells": [
  {
   "cell_type": "markdown",
   "metadata": {},
   "source": [
    "# Machine Learning and Statistics Project 2020\n",
    "by Angela Carpenter\n"
   ]
  },
  {
   "cell_type": "markdown",
   "metadata": {},
   "source": [
    "# Table of Contents\n",
    "- Project Instructions / Overview\n",
    "- Python Libraries\n",
    "- Loading / Reading in the dataset\n",
    "- Exploratory Data Analysis\n",
    "- Cleaning the Datasets\n",
    "- Regression Models\n",
    "- Neural Networks\n",
    "- Predicting on new data / saving models for web app.\n",
    "- Summary and Conclusions\n",
    "- References\n",
    "\n",
    "\n",
    "## Project Instructions\n",
    "\n",
    "The aim of this project is to create a web service that uses machine learning to make predictions based on the data set powerproduction available on Moodle. The goal is to produce a model that accurately predicts wind turbine power output from wind speed values, as in the data set. A web service must also be developed that will respond with predicted power values based on speed values sent as HTTP requests. \n",
    "\n",
    "\n",
    "\n",
    "\n",
    "### notes to self - scratch all this later\n",
    "\n",
    "\n",
    "- Tidy up the notebook, exclude a lot of the theory which is for my own knowledge\n",
    "\n",
    "- Just make some notes on why I didn't scale or normalise the data\n",
    "- Finish the web app side\n",
    "\n",
    "- Need to tidy up the section on a brief background of wind turbines, just to see how it relates to the s-curve and not going into the physics of how wind turbines actually work. \n",
    "\n",
    "- Need to decide on final parameters for the keras neural network and save a model to use with a flask app.\n",
    "- Load all the libraries at the top\n",
    "- Fix all the references and use numbering\n",
    "- For now I'll put some notes in the readme but will delete later"
   ]
  },
  {
   "cell_type": "markdown",
   "metadata": {},
   "source": [
    "#### Read in the dataset"
   ]
  },
  {
   "cell_type": "markdown",
   "metadata": {},
   "source": [
    "### Libraries used\n",
    "The following python libraries are used in this notebook:\n",
    "\n",
    "\n",
    "- import numpy as np\n",
    "- import pandas as pd  \n",
    "- import matplotlib.pyplot as plt \n",
    "- import seaborn as sns\n",
    "- import pickle\n",
    "- from joblib import dump, load\n",
    "- from sklearn.preprocessing import PolynomialFeatures\n",
    "- from sklearn.model_selection import train_test_split\n",
    "- from sklearn.linear_model import LinearRegression\n",
    "- from sklearn import linear_model\n",
    "- from sklearn.pipeline import Pipeline\n",
    "- from sklearn.metrics import mean_squared_error, r2_score\n",
    "\n",
    "- import tensorflow.keras as kr\n",
    "- print(kr.__version__)"
   ]
  },
  {
   "cell_type": "markdown",
   "metadata": {},
   "source": [
    "#### pickle and joblib\n",
    "The models must be saved for later use in the web service application.\n",
    "For the polynomial regression model, there is the option of  using Python’s built-in persistence model `pickle`. The [scikit-learn documents](\n",
    "https://scikit-learn.org/stable/modules/model_persistence.html) recommend using joblib’s replacement of pickle (dump & load), which is more efficient on objects that carry large numpy arrays internally as is often the case for fitted scikit-learn estimators, but can only pickle to the disk and not to a string.\n",
    "\n",
    "\n"
   ]
  },
  {
   "cell_type": "code",
   "execution_count": 1,
   "metadata": {},
   "outputs": [],
   "source": [
    "# first importing the following libraries\n",
    "import numpy as np\n",
    "import pandas as pd  \n",
    "import matplotlib.pyplot as plt \n",
    "import seaborn as sns\n",
    "\n",
    "#import csv\n",
    "# save a model in scikit-learn by using Python’s built-in persistence model pickle:\n",
    "import pickle\n",
    "# In the specific case of scikit-learn, it may be better to use joblib’s replacement of pickle\n",
    "from joblib import dump, load"
   ]
  },
  {
   "cell_type": "code",
   "execution_count": 2,
   "metadata": {},
   "outputs": [],
   "source": [
    "# save link to data and reference the link \n",
    "csv_url = 'https://raw.githubusercontent.com/ianmcloughlin/2020A-machstat-project/master/dataset/powerproduction.csv'\n",
    "# read the csv data into a pandas dataframe\n",
    "df = pd.read_csv(csv_url)\n",
    "df\n",
    "# write the dataframe to csv\n",
    "df.to_csv('df.csv')\n",
    "# make a copy of the dataframe\n",
    "dfx = df.copy()"
   ]
  },
  {
   "cell_type": "markdown",
   "metadata": {},
   "source": [
    "The power variable represents wind turbine power output and the speed values are wind speed values.\n",
    "I don't think there is a need for this as such"
   ]
  },
  {
   "cell_type": "raw",
   "metadata": {},
   "source": [
    "print(\"The first few rows in the dataset: \\n\\n\", df.head(5))  # look at the top 5 rows of the DataFrame df\n",
    "print('\\n The final few rows in the dataset \\n',df.tail(5)) # Look at the bottom 5 rows of the DataFrame\n",
    "print(\"The index of the DataFrame: \", df.index) # the index or row labels of the DataFrame\n",
    "print(\"The dtypes in the dataframe are:\", end='\\n\\n')\n",
    "\n",
    "print(df.dtypes) # the data types attributes for each column in df"
   ]
  },
  {
   "cell_type": "markdown",
   "metadata": {},
   "source": [
    "### Zero and Null values\n",
    "\n",
    "There are no null values in the dataset but there are some zero values. Null values are not zero in Python.\n",
    "While there is only one zero value for the `speed` variable, there are 49 zero values for the `power` variable.\n",
    "\n",
    "(Will look at the distribution of values to see if the zero values are very unusual compared to the remaining 451 values for the power variable.)"
   ]
  },
  {
   "cell_type": "code",
   "execution_count": 4,
   "metadata": {},
   "outputs": [
    {
     "name": "stdout",
     "output_type": "stream",
     "text": [
      "speed    0\n",
      "power    0\n",
      "dtype: int64\n"
     ]
    },
    {
     "data": {
      "text/plain": [
       "False"
      ]
     },
     "execution_count": 4,
     "metadata": {},
     "output_type": "execute_result"
    }
   ],
   "source": [
    "print(df.isnull().sum())\n",
    "df.notnull().sum()\n",
    "df.isnull().values.any()"
   ]
  },
  {
   "cell_type": "code",
   "execution_count": 5,
   "metadata": {},
   "outputs": [
    {
     "data": {
      "text/plain": [
       "True"
      ]
     },
     "execution_count": 5,
     "metadata": {},
     "output_type": "execute_result"
    }
   ],
   "source": [
    "# https://stackoverflow.com/questions/50767452/check-if-dataframe-has-a-zero-element\n",
    "0 in df.values\n",
    "df.isin([0]).any().any()"
   ]
  },
  {
   "cell_type": "code",
   "execution_count": 6,
   "metadata": {},
   "outputs": [
    {
     "data": {
      "text/plain": [
       "speed     1\n",
       "power    49\n",
       "dtype: int64"
      ]
     },
     "execution_count": 6,
     "metadata": {},
     "output_type": "execute_result"
    }
   ],
   "source": [
    "#https://stackoverflow.com/questions/29229600/counting-number-of-zeros-per-row-by-pandas-dataframe\n",
    "\n",
    "df.isin([0]).sum()"
   ]
  },
  {
   "cell_type": "code",
   "execution_count": 7,
   "metadata": {
    "scrolled": true
   },
   "outputs": [
    {
     "data": {
      "text/html": [
       "<div>\n",
       "<style scoped>\n",
       "    .dataframe tbody tr th:only-of-type {\n",
       "        vertical-align: middle;\n",
       "    }\n",
       "\n",
       "    .dataframe tbody tr th {\n",
       "        vertical-align: top;\n",
       "    }\n",
       "\n",
       "    .dataframe thead th {\n",
       "        text-align: right;\n",
       "    }\n",
       "</style>\n",
       "<table border=\"1\" class=\"dataframe\">\n",
       "  <thead>\n",
       "    <tr style=\"text-align: right;\">\n",
       "      <th></th>\n",
       "      <th>speed</th>\n",
       "      <th>power</th>\n",
       "    </tr>\n",
       "  </thead>\n",
       "  <tbody>\n",
       "    <tr>\n",
       "      <th>0</th>\n",
       "      <td>0.000</td>\n",
       "      <td>0.0</td>\n",
       "    </tr>\n",
       "    <tr>\n",
       "      <th>1</th>\n",
       "      <td>0.125</td>\n",
       "      <td>0.0</td>\n",
       "    </tr>\n",
       "    <tr>\n",
       "      <th>2</th>\n",
       "      <td>0.150</td>\n",
       "      <td>0.0</td>\n",
       "    </tr>\n",
       "    <tr>\n",
       "      <th>3</th>\n",
       "      <td>0.225</td>\n",
       "      <td>0.0</td>\n",
       "    </tr>\n",
       "    <tr>\n",
       "      <th>4</th>\n",
       "      <td>0.275</td>\n",
       "      <td>0.0</td>\n",
       "    </tr>\n",
       "  </tbody>\n",
       "</table>\n",
       "</div>"
      ],
      "text/plain": [
       "   speed  power\n",
       "0  0.000    0.0\n",
       "1  0.125    0.0\n",
       "2  0.150    0.0\n",
       "3  0.225    0.0\n",
       "4  0.275    0.0"
      ]
     },
     "execution_count": 7,
     "metadata": {},
     "output_type": "execute_result"
    }
   ],
   "source": [
    "df.sort_values(by='speed').head()"
   ]
  },
  {
   "cell_type": "code",
   "execution_count": 8,
   "metadata": {},
   "outputs": [
    {
     "data": {
      "text/html": [
       "<div>\n",
       "<style scoped>\n",
       "    .dataframe tbody tr th:only-of-type {\n",
       "        vertical-align: middle;\n",
       "    }\n",
       "\n",
       "    .dataframe tbody tr th {\n",
       "        vertical-align: top;\n",
       "    }\n",
       "\n",
       "    .dataframe thead th {\n",
       "        text-align: right;\n",
       "    }\n",
       "</style>\n",
       "<table border=\"1\" class=\"dataframe\">\n",
       "  <thead>\n",
       "    <tr style=\"text-align: right;\">\n",
       "      <th></th>\n",
       "      <th>speed</th>\n",
       "      <th>power</th>\n",
       "    </tr>\n",
       "  </thead>\n",
       "  <tbody>\n",
       "    <tr>\n",
       "      <th>499</th>\n",
       "      <td>25.000</td>\n",
       "      <td>0.0</td>\n",
       "    </tr>\n",
       "    <tr>\n",
       "      <th>498</th>\n",
       "      <td>24.950</td>\n",
       "      <td>0.0</td>\n",
       "    </tr>\n",
       "    <tr>\n",
       "      <th>497</th>\n",
       "      <td>24.875</td>\n",
       "      <td>0.0</td>\n",
       "    </tr>\n",
       "    <tr>\n",
       "      <th>496</th>\n",
       "      <td>24.850</td>\n",
       "      <td>0.0</td>\n",
       "    </tr>\n",
       "    <tr>\n",
       "      <th>495</th>\n",
       "      <td>24.775</td>\n",
       "      <td>0.0</td>\n",
       "    </tr>\n",
       "  </tbody>\n",
       "</table>\n",
       "</div>"
      ],
      "text/plain": [
       "      speed  power\n",
       "499  25.000    0.0\n",
       "498  24.950    0.0\n",
       "497  24.875    0.0\n",
       "496  24.850    0.0\n",
       "495  24.775    0.0"
      ]
     },
     "execution_count": 8,
     "metadata": {},
     "output_type": "execute_result"
    }
   ],
   "source": [
    "df.sort_values(by='speed', ascending=False).head()"
   ]
  },
  {
   "cell_type": "code",
   "execution_count": 9,
   "metadata": {
    "scrolled": true
   },
   "outputs": [
    {
     "data": {
      "text/html": [
       "<div>\n",
       "<style scoped>\n",
       "    .dataframe tbody tr th:only-of-type {\n",
       "        vertical-align: middle;\n",
       "    }\n",
       "\n",
       "    .dataframe tbody tr th {\n",
       "        vertical-align: top;\n",
       "    }\n",
       "\n",
       "    .dataframe thead th {\n",
       "        text-align: right;\n",
       "    }\n",
       "</style>\n",
       "<table border=\"1\" class=\"dataframe\">\n",
       "  <thead>\n",
       "    <tr style=\"text-align: right;\">\n",
       "      <th></th>\n",
       "      <th>speed</th>\n",
       "      <th>power</th>\n",
       "    </tr>\n",
       "  </thead>\n",
       "  <tbody>\n",
       "    <tr>\n",
       "      <th>461</th>\n",
       "      <td>23.273</td>\n",
       "      <td>113.556</td>\n",
       "    </tr>\n",
       "    <tr>\n",
       "      <th>416</th>\n",
       "      <td>20.646</td>\n",
       "      <td>112.362</td>\n",
       "    </tr>\n",
       "    <tr>\n",
       "      <th>447</th>\n",
       "      <td>22.497</td>\n",
       "      <td>109.932</td>\n",
       "    </tr>\n",
       "    <tr>\n",
       "      <th>420</th>\n",
       "      <td>20.871</td>\n",
       "      <td>108.485</td>\n",
       "    </tr>\n",
       "    <tr>\n",
       "      <th>464</th>\n",
       "      <td>23.348</td>\n",
       "      <td>108.167</td>\n",
       "    </tr>\n",
       "  </tbody>\n",
       "</table>\n",
       "</div>"
      ],
      "text/plain": [
       "      speed    power\n",
       "461  23.273  113.556\n",
       "416  20.646  112.362\n",
       "447  22.497  109.932\n",
       "420  20.871  108.485\n",
       "464  23.348  108.167"
      ]
     },
     "execution_count": 9,
     "metadata": {},
     "output_type": "execute_result"
    }
   ],
   "source": [
    "df.sort_values(by='power', ascending=False).head()"
   ]
  },
  {
   "cell_type": "code",
   "execution_count": 10,
   "metadata": {},
   "outputs": [
    {
     "data": {
      "text/html": [
       "<div>\n",
       "<style scoped>\n",
       "    .dataframe tbody tr th:only-of-type {\n",
       "        vertical-align: middle;\n",
       "    }\n",
       "\n",
       "    .dataframe tbody tr th {\n",
       "        vertical-align: top;\n",
       "    }\n",
       "\n",
       "    .dataframe thead th {\n",
       "        text-align: right;\n",
       "    }\n",
       "</style>\n",
       "<table border=\"1\" class=\"dataframe\">\n",
       "  <thead>\n",
       "    <tr style=\"text-align: right;\">\n",
       "      <th></th>\n",
       "      <th>speed</th>\n",
       "      <th>power</th>\n",
       "    </tr>\n",
       "  </thead>\n",
       "  <tbody>\n",
       "    <tr>\n",
       "      <th>0</th>\n",
       "      <td>0.000</td>\n",
       "      <td>0.0</td>\n",
       "    </tr>\n",
       "    <tr>\n",
       "      <th>111</th>\n",
       "      <td>5.806</td>\n",
       "      <td>0.0</td>\n",
       "    </tr>\n",
       "    <tr>\n",
       "      <th>110</th>\n",
       "      <td>5.781</td>\n",
       "      <td>0.0</td>\n",
       "    </tr>\n",
       "    <tr>\n",
       "      <th>105</th>\n",
       "      <td>5.556</td>\n",
       "      <td>0.0</td>\n",
       "    </tr>\n",
       "    <tr>\n",
       "      <th>89</th>\n",
       "      <td>4.880</td>\n",
       "      <td>0.0</td>\n",
       "    </tr>\n",
       "  </tbody>\n",
       "</table>\n",
       "</div>"
      ],
      "text/plain": [
       "     speed  power\n",
       "0    0.000    0.0\n",
       "111  5.806    0.0\n",
       "110  5.781    0.0\n",
       "105  5.556    0.0\n",
       "89   4.880    0.0"
      ]
     },
     "execution_count": 10,
     "metadata": {},
     "output_type": "execute_result"
    }
   ],
   "source": [
    "df.sort_values(by='power').head()"
   ]
  },
  {
   "cell_type": "code",
   "execution_count": 11,
   "metadata": {
    "scrolled": true
   },
   "outputs": [
    {
     "data": {
      "text/html": [
       "<div>\n",
       "<style scoped>\n",
       "    .dataframe tbody tr th:only-of-type {\n",
       "        vertical-align: middle;\n",
       "    }\n",
       "\n",
       "    .dataframe tbody tr th {\n",
       "        vertical-align: top;\n",
       "    }\n",
       "\n",
       "    .dataframe thead th {\n",
       "        text-align: right;\n",
       "    }\n",
       "</style>\n",
       "<table border=\"1\" class=\"dataframe\">\n",
       "  <thead>\n",
       "    <tr style=\"text-align: right;\">\n",
       "      <th></th>\n",
       "      <th>speed</th>\n",
       "      <th>power</th>\n",
       "    </tr>\n",
       "  </thead>\n",
       "  <tbody>\n",
       "    <tr>\n",
       "      <th>0</th>\n",
       "      <td>0.000</td>\n",
       "      <td>0.0</td>\n",
       "    </tr>\n",
       "    <tr>\n",
       "      <th>1</th>\n",
       "      <td>0.125</td>\n",
       "      <td>0.0</td>\n",
       "    </tr>\n",
       "    <tr>\n",
       "      <th>2</th>\n",
       "      <td>0.150</td>\n",
       "      <td>0.0</td>\n",
       "    </tr>\n",
       "    <tr>\n",
       "      <th>3</th>\n",
       "      <td>0.225</td>\n",
       "      <td>0.0</td>\n",
       "    </tr>\n",
       "    <tr>\n",
       "      <th>4</th>\n",
       "      <td>0.275</td>\n",
       "      <td>0.0</td>\n",
       "    </tr>\n",
       "  </tbody>\n",
       "</table>\n",
       "</div>"
      ],
      "text/plain": [
       "   speed  power\n",
       "0  0.000    0.0\n",
       "1  0.125    0.0\n",
       "2  0.150    0.0\n",
       "3  0.225    0.0\n",
       "4  0.275    0.0"
      ]
     },
     "execution_count": 11,
     "metadata": {},
     "output_type": "execute_result"
    }
   ],
   "source": [
    "df.sort_values(by='speed').head()"
   ]
  },
  {
   "cell_type": "markdown",
   "metadata": {},
   "source": [
    "## Exploratory Data Analysis\n",
    "\n",
    "Exploratory data analysis generally involves both non-graphical methods which include calculation of summary statistics and graphical methods which summarises the data in a picture or a plot. These methods can be univariate where one variable is looked at at a time or multivariate where two or more variables are looked at together to explore relationships. First I will do so some univariate EDA on both of the components before going on to do multivariate EDA. \n",
    "Plots can highlight any obvious relationships between the different variables in the dataset. They can also be used to identify any groups of observations that are clearly separate to other groups of observations."
   ]
  },
  {
   "cell_type": "markdown",
   "metadata": {},
   "source": [
    "### The distribution of speed and power values\n",
    "Histograms are used to show the distribution of a single quantitative variable such as speed or power values, including the centre and spread of the distribution and if there is any skew in the data. \n",
    "\n",
    "The histogram of wind speed looks to be uniformly distributed with wind speed values spread out from zero up to 25 which seems to be the max speed value. Power values on the other hand looks to be bimodal with two defined peaks, one around zero power values and the second around the 100 kilowatt mark. \n",
    "\n",
    "The wind turbine power values seem to have a peak at very low values. This is not surprising given the large number of zero power values in this dataset. Almost 10% of the power values supplied are zero.  There is another peak around values of 95-100. Most of the remaining power values fall between 18 and 85.\n",
    "A scatter plot can be used to see if there is any visible relationship between the two variables. \n",
    "\n",
    "The scatter plot shows a non-linear relationship between wind speed values and power. There does appear to be a linear relationship for mid-range speed values only.\n",
    "- When wind speed increases from very low levels, the power does not increase by much or at all. \n",
    "- The wind turbine power values does start to increase with the wind speed from wind speed values of about 5 to about 18/19. \n",
    "- From wind speeds of 20 onwards to about 25 the power values increase no further and seem to level off. \n",
    "\n",
    "From looking at the curves and knowing very little about wind, you would guess that at very low winds there may not be enough speed to get the turbine up and running and generating power and that there might be a maximum power that can be achieved by the wind turbine regardless of how high the wind can go. Once the turbine is in motion, little is required to keep it going. Some of the power generated might be consumed by the turbine itself at low levels to get it started."
   ]
  },
  {
   "cell_type": "code",
   "execution_count": 12,
   "metadata": {},
   "outputs": [
    {
     "data": {
      "image/png": "[encoded data removed]",
      "text/plain": [
       "<Figure size 864x360 with 2 Axes>"
      ]
     },
     "metadata": {
      "needs_background": "light"
     },
     "output_type": "display_data"
    }
   ],
   "source": [
    "    %matplotlib inline\n",
    "\n",
    "    # plot the histograms of Speed values\n",
    "    f, axs = plt.subplots(1, 2, figsize=(12, 5))\n",
    "    sns.histplot(data=df, x=\"speed\", ax=axs[0], bins=20, kde=True,color=\"blue\")\n",
    "    sns.histplot(data=df, x=\"power\", alpha=.8, legend=False, ax=axs[1], bins=20, kde=True, color=\"purple\")\n",
    "\n",
    "    #plt.title(\"Speed vs Power\");\n",
    "    plt.suptitle(\"The distribution of the variables\")\n",
    "    f.tight_layout()"
   ]
  },
  {
   "cell_type": "markdown",
   "metadata": {},
   "source": [
    "### Summary statistics of the dataset\n",
    "When looking at quantitative variables such as wind speed and power values, the characteristics of interest are the centre, spread, modality (the number of peaks in the pdf), the shape of the distribution and the outliers.\n",
    "Panda's `describe` function generates statistics that summarize the central tendency, dispersion and shape of a dataset’s distribution. (excluding NaN values)\n",
    "The central tendency or location of the data distribution is determined by the typical or middle values. While the mean value is the average value in the dataset it may not be typical of the values in the dataset if there are very small or very large values in the dataset. The median is another measure of central tendancy - it is the middle value after all the values are put in an ordered list.\n",
    "The mean and median are similar for symmetric distributions whereas for unimodal skewed distributions the mean will be more in the direction of the long tail of the distribution. \n",
    "The median can be considered a more typical value in the dataset or closer to some of the typical values and is also considered [robust](https://en.wikipedia.org/wiki/Robust_statistics) which means that removing some of the data will not tend to change the value of the median. A few extreme values will not affect the median as they would affect the mean. \n",
    "In this dataset the mean and median wind speed values are similar at approx 12.5 to 12.6.\n",
    "The median power value is just over 41 compared to the mean power value of 48.\n",
    "As we saw above, there are many zero values for power in the dataset. At least 10% of the power values are zero and probably for valid reasons."
   ]
  },
  {
   "cell_type": "code",
   "execution_count": 13,
   "metadata": {},
   "outputs": [
    {
     "data": {
      "text/html": [
       "<div>\n",
       "<style scoped>\n",
       "    .dataframe tbody tr th:only-of-type {\n",
       "        vertical-align: middle;\n",
       "    }\n",
       "\n",
       "    .dataframe tbody tr th {\n",
       "        vertical-align: top;\n",
       "    }\n",
       "\n",
       "    .dataframe thead th {\n",
       "        text-align: right;\n",
       "    }\n",
       "</style>\n",
       "<table border=\"1\" class=\"dataframe\">\n",
       "  <thead>\n",
       "    <tr style=\"text-align: right;\">\n",
       "      <th></th>\n",
       "      <th>speed</th>\n",
       "      <th>power</th>\n",
       "    </tr>\n",
       "  </thead>\n",
       "  <tbody>\n",
       "    <tr>\n",
       "      <th>count</th>\n",
       "      <td>500.000000</td>\n",
       "      <td>500.000000</td>\n",
       "    </tr>\n",
       "    <tr>\n",
       "      <th>mean</th>\n",
       "      <td>12.590398</td>\n",
       "      <td>48.014584</td>\n",
       "    </tr>\n",
       "    <tr>\n",
       "      <th>std</th>\n",
       "      <td>7.224991</td>\n",
       "      <td>41.614572</td>\n",
       "    </tr>\n",
       "    <tr>\n",
       "      <th>min</th>\n",
       "      <td>0.000000</td>\n",
       "      <td>0.000000</td>\n",
       "    </tr>\n",
       "    <tr>\n",
       "      <th>25%</th>\n",
       "      <td>6.324750</td>\n",
       "      <td>5.288000</td>\n",
       "    </tr>\n",
       "    <tr>\n",
       "      <th>50%</th>\n",
       "      <td>12.550500</td>\n",
       "      <td>41.645500</td>\n",
       "    </tr>\n",
       "    <tr>\n",
       "      <th>75%</th>\n",
       "      <td>18.775250</td>\n",
       "      <td>93.537000</td>\n",
       "    </tr>\n",
       "    <tr>\n",
       "      <th>max</th>\n",
       "      <td>25.000000</td>\n",
       "      <td>113.556000</td>\n",
       "    </tr>\n",
       "  </tbody>\n",
       "</table>\n",
       "</div>"
      ],
      "text/plain": [
       "            speed       power\n",
       "count  500.000000  500.000000\n",
       "mean    12.590398   48.014584\n",
       "std      7.224991   41.614572\n",
       "min      0.000000    0.000000\n",
       "25%      6.324750    5.288000\n",
       "50%     12.550500   41.645500\n",
       "75%     18.775250   93.537000\n",
       "max     25.000000  113.556000"
      ]
     },
     "execution_count": 13,
     "metadata": {},
     "output_type": "execute_result"
    }
   ],
   "source": [
    "# get summary statistics of the numerical values, \n",
    "df.describe() # get statistics summary of the"
   ]
  },
  {
   "cell_type": "code",
   "execution_count": 14,
   "metadata": {},
   "outputs": [
    {
     "name": "stdout",
     "output_type": "stream",
     "text": [
      "The mean speed value is 12.590 while the median speed value  is 12.550\n",
      "The mean power value is 48.015 while the median power value  is 41.645\n"
     ]
    }
   ],
   "source": [
    "print(\"The mean speed value is %.3f\" %df['speed'].mean(),\"while the median speed value  is %.3f\" %df['speed'].quantile(q=0.5))\n",
    "print(\"The mean power value is %.3f\" %df['power'].mean(),\"while the median power value  is %.3f\" %df['power'].quantile(q=0.5))"
   ]
  },
  {
   "cell_type": "markdown",
   "metadata": {},
   "source": [
    "#### Spread statistics\n",
    "The variance and standard deviation statistics can be used to show the spread of the distribution of the speed and power data values and how far away from the centre the data points are located.\n",
    "The variance is the average of the squared deviations of each observation from the centre or mean of the data while the standard deviation is the square root of the variance and is in the same units as the data and therefore can be more easily interpreted. \n",
    "The range of values in the data is shown by the minimum and maximum values and is not considered a robust measure of spread but it is useful for showing possible errors or outliers. "
   ]
  },
  {
   "cell_type": "code",
   "execution_count": 15,
   "metadata": {},
   "outputs": [
    {
     "name": "stdout",
     "output_type": "stream",
     "text": [
      "The standard deviations of speed values  is 7.225\n",
      "The standard deviations of power values is 41.615\n",
      "The minimum speed value is 0.0 while the maximum speed value is 25.0 giving range of 25.0\n",
      "The minimum Power value is 0.0 while the maximum power value is 113.556 giving range of 113.556\n"
     ]
    }
   ],
   "source": [
    "#print(f\"The variance and standard deviations of speed values  are {df['speed'].var():.3f} and {df['speed'].std():.3f}\")\n",
    "#print(f\"The variance and standard deviations of power values are {df['power'].var():.3f} and {df['power'].std():.3f}\")\n",
    "print(f\"The standard deviations of speed values  is {df['speed'].std():.3f}\")\n",
    "print(f\"The standard deviations of power values is {df['power'].std():.3f}\")\n",
    "print(f\"The minimum speed value is {df['speed'].min()} while the maximum speed value is { df['speed'].max()} giving range of {df['speed'].max() - df['speed'].min()}\")\n",
    "print(f\"The minimum Power value is {df['power'].min()} while the maximum power value is { df['power'].max()} giving range of {df['power'].max() - df['power'].min()}\")"
   ]
  },
  {
   "cell_type": "markdown",
   "metadata": {},
   "source": [
    "The percentiles or quartiles of the speed and power values can be used to see the spread of the data values. The Interquartile range (IQR) is calculated by taking the 75% percentile or 3rd quartile minus the 25% percentile or first quartile and captures half of the values, the middle values of the data. Data that is more spread out will have a higher IQR. The IQR is considered a more robust measure of spread than the variance and standard deviation and will be more clearly shown in the boxplots further down. The IQR does not consider the data below the 25% percentile or above the 75% percentile which may contain outliers. The statistics here show that the *power* variable in this dataset is much more spread out or variable than the *speed* variable.  "
   ]
  },
  {
   "cell_type": "code",
   "execution_count": 16,
   "metadata": {},
   "outputs": [
    {
     "name": "stdout",
     "output_type": "stream",
     "text": [
      "The median speed value is 12.5505 with the IQR ranging from 6.32 to  18.78\n",
      "The median power value is 41.6455 with the IQR ranging from 5.29 to  93.54\n"
     ]
    }
   ],
   "source": [
    "print(f\"The median speed value is {df['speed'].quantile(q=0.5)} with the IQR ranging from {df['speed'].quantile(q=0.25):.2f} to  {df['speed'].quantile(q=0.75):.2f}\")\n",
    "print(f\"The median power value is {df['power'].quantile(q=0.5)} with the IQR ranging from {df['power'].quantile(q=0.25):.2f} to  {df['power'].quantile(q=0.75):.2f}\")"
   ]
  },
  {
   "cell_type": "code",
   "execution_count": 17,
   "metadata": {},
   "outputs": [
    {
     "data": {
      "image/png": "[encoded data removed]",
      "text/plain": [
       "<Figure size 864x288 with 2 Axes>"
      ]
     },
     "metadata": {
      "needs_background": "light"
     },
     "output_type": "display_data"
    }
   ],
   "source": [
    "f, axes = plt.subplots(1, 2, figsize=(12, 4))\n",
    "sns.set(style=\"ticks\", palette=\"pastel\")\n",
    "sns.boxplot(y=df['speed'], ax=axes[0], color=\"blue\")\n",
    "# add a title\n",
    "axes[0].set_title(\"Boxplot of Speed values\")\n",
    "sns.boxplot(y=df['power'], ax=axes[1], color=\"purple\")\n",
    "axes[1].set_title(\"Boxplot of Power Values\");"
   ]
  },
  {
   "cell_type": "markdown",
   "metadata": {},
   "source": [
    "## Investigating a relationship between Wind Speed and Wind Turbine Power output"
   ]
  },
  {
   "cell_type": "markdown",
   "metadata": {},
   "source": [
    "The skewness of the data is a measure of assymetry which can be seen by the lopsidedness of a boxplot.\n",
    "Wind speed appears to be quite symmetric. The wind speed boxplot is cut pretty much in half by the median. Power appears to be soemwhat skewed to the right as the boxplot shows more of the box to the right or above the median line.\n",
    "A boxplot with the median closer to the lower quartile is considered positively skewed. Positively skewed data has the mean greater than the median and it can be interpreted as having a higher frequency of high valued scores. The lower values of power are closer together than the higher power values.\n"
   ]
  },
  {
   "cell_type": "markdown",
   "metadata": {},
   "source": [
    "Scatter plots are useful to identify trends and patterns in a dataset which might indicate a relationship between variables. The dataset here contains two numerical variables wind speed and turbine power values. \n",
    "The ordered pairs of numbers consisting of the independent variable wind 'speed' and the dependent variable 'power' output are plotted below resulting in a joint distribution of the two variables. Each point represents an actual observation is the dataset with a speed and a corresponding power value. \n",
    "The scatter plot shows an increasing linear trend in the middle range of the wind speed values. This would indicate that for increasing wind speeds in this range, power output values do increase, but only after a minimum wind speed has been reached. Power outputs then increase in line with increases in wind speed until it reaches a peak and plateaus."
   ]
  },
  {
   "cell_type": "code",
   "execution_count": 18,
   "metadata": {},
   "outputs": [
    {
     "data": {
      "image/png": "[encoded data removed]",
      "text/plain": [
       "<Figure size 864x576 with 1 Axes>"
      ]
     },
     "metadata": {},
     "output_type": "display_data"
    }
   ],
   "source": [
    "# create the plot\n",
    "\n",
    "\n",
    "\n",
    "plt.style.use('ggplot')\n",
    "\n",
    "# Plot size.\n",
    "plt.rcParams['figure.figsize'] = (12, 8)\n",
    "sns.scatterplot(x=df['speed'],y=df['power'], marker=\"x\")\n",
    "plt.grid(True)\n",
    "# add title\n",
    "plt.title(\"Scatter plot of Speed and Power\");"
   ]
  },
  {
   "cell_type": "markdown",
   "metadata": {},
   "source": [
    "#### Correlation and Covariance of Speed and Power values\n",
    " \n",
    "For two quantitative variables such as the wind speed and power values, the covariance and correlation can also be used to determine whether a linear relationship between variables does exist and to show if one variable tends to occur with large or small values of another variable. The correlation statistics puts a numerical value on the strength and direction of the relationship.  The correlation coefficient here of 0.85 shows there is a very strong positive relationship between the wind speed and turbine power output.  The scatter plot shows a non-linear relationship between the variables. There appears to be a curved pattern in the data so the statistic cannot be taken on it's own.\n"
   ]
  },
  {
   "cell_type": "code",
   "execution_count": 19,
   "metadata": {},
   "outputs": [
    {
     "data": {
      "text/html": [
       "<div>\n",
       "<style scoped>\n",
       "    .dataframe tbody tr th:only-of-type {\n",
       "        vertical-align: middle;\n",
       "    }\n",
       "\n",
       "    .dataframe tbody tr th {\n",
       "        vertical-align: top;\n",
       "    }\n",
       "\n",
       "    .dataframe thead th {\n",
       "        text-align: right;\n",
       "    }\n",
       "</style>\n",
       "<table border=\"1\" class=\"dataframe\">\n",
       "  <thead>\n",
       "    <tr style=\"text-align: right;\">\n",
       "      <th></th>\n",
       "      <th>speed</th>\n",
       "      <th>power</th>\n",
       "    </tr>\n",
       "  </thead>\n",
       "  <tbody>\n",
       "    <tr>\n",
       "      <th>speed</th>\n",
       "      <td>1.000000</td>\n",
       "      <td>0.853778</td>\n",
       "    </tr>\n",
       "    <tr>\n",
       "      <th>power</th>\n",
       "      <td>0.853778</td>\n",
       "      <td>1.000000</td>\n",
       "    </tr>\n",
       "  </tbody>\n",
       "</table>\n",
       "</div>"
      ],
      "text/plain": [
       "          speed     power\n",
       "speed  1.000000  0.853778\n",
       "power  0.853778  1.000000"
      ]
     },
     "execution_count": 19,
     "metadata": {},
     "output_type": "execute_result"
    }
   ],
   "source": [
    "df.corr()"
   ]
  },
  {
   "cell_type": "markdown",
   "metadata": {},
   "source": [
    "### Regression plots\n",
    "The Python Seaborn library has some regression plots that can be used to quickly visualise relationships and patterns that may exist in the data. They use statistical models to estimate a simple relationship between sets of observations and are mainly used to visualise patterns in a dataset during the exploratory data analysis.\n",
    "The scatter plot earlier showed a relationship between wind speeds and wind turbine power that is non-linear. There does seem to be a somewhat linear relationship for wind speeds between values of about 10 up to about 18 or so. Therefore it is worth looking at higher order polynomials as well as linear regression.\n",
    "The plot below shows that the polynomial with order 3 looks a much better fit to the line than the first or second order linear regression lines. It is important not to go down the road of overfitting the data though."
   ]
  },
  {
   "cell_type": "code",
   "execution_count": 20,
   "metadata": {},
   "outputs": [
    {
     "data": {
      "image/png": "[encoded data removed]",
      "text/plain": [
       "<Figure size 1008x576 with 4 Axes>"
      ]
     },
     "metadata": {},
     "output_type": "display_data"
    }
   ],
   "source": [
    "f, axes = plt.subplots(2, 2, figsize=(14, 8))\n",
    "x = \"speed\"\n",
    "y = \"power\"\n",
    "sns.regplot(x=\"speed\", y=\"power\", data=df, ax=axes[0,0], label=\"order = 1\", ci=False); axes[0,0].legend()\n",
    "sns.regplot(x=\"speed\", y=\"power\", data=df, order=2, ax=axes[0,1], label=\"order =2\", ci=False); axes[0,1].legend()\n",
    "sns.regplot(x=\"speed\", y=\"power\", data=df, order=3, ax=axes[1,0], label=\"order =3\", ci=False); axes[1,0].legend()\n",
    "sns.regplot(x=\"speed\", y=\"power\", data=df, order=4, ax=axes[1,1], label = \"order=4\"); axes[1,1].legend()\n",
    "plt.legend()\n",
    "plt.suptitle(\"Trying higher order polynomial regression functions to Speed and Power values\")\n",
    "plt.show()"
   ]
  },
  {
   "cell_type": "markdown",
   "metadata": {},
   "source": []
  },
  {
   "cell_type": "markdown",
   "metadata": {},
   "source": [
    "Residual plots can be used to check whether the simple regression model of speed ~ power  is appropriate for a dataset. The seaborn `residplot` fits and removes a simple linear regression and then plots the residual values for each observation. Ideally, these values should be randomly scattered around y = 0. If there is structure in the residuals, this suggests that simple linear regression is not appropriate for the data. The residual plot here has a shape which suggest non-linearity in the data set as expected."
   ]
  },
  {
   "cell_type": "code",
   "execution_count": 21,
   "metadata": {
    "scrolled": true
   },
   "outputs": [
    {
     "data": {
      "image/png": "[encoded data removed]",
      "text/plain": [
       "<Figure size 720x360 with 1 Axes>"
      ]
     },
     "metadata": {},
     "output_type": "display_data"
    }
   ],
   "source": [
    "plt.rcParams['figure.figsize'] = (10, 5)\n",
    "sns.residplot(x=\"speed\", y=\"power\", data=df, scatter_kws={\"s\": 80})\n",
    "plt.title(\"Residual plot\"); plt.show()"
   ]
  },
  {
   "cell_type": "markdown",
   "metadata": {},
   "source": [
    "---\n",
    "## Researching Wind Turbines\n",
    "### Drop most of this, just to explain the S-curve and the reasons for the zero values.\n",
    "\n",
    "The dataset consists of two columns each containing 500 floating numbers under the column names `speed` and `power`. There are no other features provided.  I'm not getting into too much specifics about wind turbines but some background would help in understanding the dataset and the relationship between wind speed and power output.\n",
    "The background to the project is related to wind farms supplying electricity to the supply grid and negotiating prices in advance.  In the electricity market, producers of electricity usually sell their electricity ahead of time and enter into a contract where they agree to produce a certain number of kilowatts of electricity during at a certain time, maybe between 11am one day and the next. The price is negotiated in advance of generating electricity and pushing it onto the supply grid. \n",
    "It is easier for those burning coal or gas or doing nuclear fusion to burn the right amount to generate the right amount of electricity. However with wind turbines you cannot tell how much electricity you will generate tomorrow because your generation of electricity depends on wind power. Therefore you can make an estimate by getting some meterological data from a weather prediction agent such as Met Eireann and use the weather prediction to help you predict how much electricity you are likely to produce. The prediction may not always be correct but you aim to reduce how often your calculations are wrong. The aim is to be able to predict that when wind speed is X amount that the power produced from the turbines is Y amount. \n",
    "\n",
    "A little research here suggests that the wind speed values are measured in metres per second and that the power values are measured in kilowatts.\n",
    "\n",
    "[The Irish Wind Energy Association (IWEA)](https://www.iwea.com/about-us/about-us) is the representative body for the Irish wind industry, working to promote wind energy as an essential, economical and environmentally friendly part of the country’s low-carbon energy future. They note here that in 2018 wind energy provided 29 per cent of Ireland’s electricity. Each quarter, both EirGrid and ESBN publish updated wind farm statistics for Ireland at [ESBN Connected Wind Farms](https://www.esbnetworks.ie/new-connections/generator-connections/generator-connection-statistics). There is currently 4,130 MW of installed capacity in ROI and new Eirgrid link here http://www.eirgridgroup.com/how-the-grid-works/renewables/\n",
    "\n",
    "Also on this website is a question about how much electricity a turbine generates. (See FAQ 16.)\n",
    ">The amount of electricity a turbine can generate depends on the type of turbine and the wind conditions at any time. There are many different models of turbines that can generate different amounts of electricity. Ireland’s largest wind farm is the Galway Wind Park in Connemara. The turbines there are 3 MW turbines. To use them as an example, when the wind is blowing steadily they can each generate 3 MW of electricity. A megawatt (MW) is a unit of energy.A single megawatt is equivalent to around 1,000 kilowatts. Boiling a kettle, for example, takes around two kilowatts.\n",
    "\n",
    "Another website of interest is Eirgrid's [Smart grid dashboard](http://smartgriddashboard.eirgrid.com/#all/about).\n",
    "The [dashboard](http://smartgriddashboard.eirgrid.com/#all/wind)shows actual and forecast wind generation by day, week and month for allwind farms on the system. [sem-o.com](https://www.sem-o.com/links/) also some links as well as Ireland's open data portal at  data.gov.ie and the [EU Open data portal](https://data.europa.eu)\n",
    "\n",
    "[WindEurope](https://windeurope.org/data-and-analysis/) has facts and issues about wind energy in Europe, in particular the section on [Wind Energy Basics](https://windeurope.org/about-wind/wind-basics/). Wind is caused by three things, the heating of the atmosphere by the sun, the rotation of the Earth and the Earth's surface irregularities. *air under high pressure moves toward areas of low pressure – and the greater the difference in pressure, the faster the air flows and the stronger the wind!* Energy is the ability to  do work and can be categorised into  either kinetic energy (the energy of moving objects)\n",
    "or potential energy (energy that is stored). Wind turbines take the kinetic energy that’s in the wind and convert that kinetic energy into mechanical power which is mostly used in the form of electricity.\n",
    "Wind energy captures the energy of the wind and converts it to electricity and is an alternative to burning fossil fuels. It comes from a natural and renewable resourse and it is clean as it produces no greenhouse gas, emits no air pollutants and uses very little water. \n",
    "A wind turbine is a device that converts kinetic energy from the wind into electricity. Their output ranges from as small as 100 kilowatts to as big as 12 megawatts.\n",
    "According to this website, there are three main variables determining how much electricity a turbine can produce,  wind speed, blade radius and air density. (We only have the values for wind speed in the dataset here so will have to assume that the other variables are constant)\n",
    "Stronger winds allow more electricity to be produced with higher turbines being more receptive to strong winds. **Wind turbines generate electricity at wind speeds of 4 – 25 metres per second** [123][Wind Energy Basics](https://windeurope.org/about-wind/wind-basics/)\n",
    "\n",
    "The article also outlines what happens when the wind doesn't blow. A wind farms location is usually chosen purposely and therefore when a wind turbine is not turning it is usually because of maintenance, or because it must be stopped for safety reasons in the case of strong winds or a storm. So safety and maintenances reasons do explain the zero power values we see in the data set at the very high values of wind. \n",
    "The article does note that while sometimes there might not be enough wind to turn a turbine, the wind energy is not lost as the wind energy can be stored  in energy storage systems  for later use whenever wind levels are low.\n",
    "I must look at this again - this could explain why there might be some higher values of power that look unusual compared to the norm for those levels of wind.\n",
    "\n",
    "Another article looks at [how to calculate power output of wind](https://www.windpowerengineering.com/calculate-wind-power-output/) and notes that most *U.S. manufacturers rate their turbines by the amount of power they can safely produce at a particular wind speed, usually chosen between 24 mph or 10.5 m/s and 36 mph or 16 m/s.*\n",
    "This indicates that the power values in the dataset are in metres per second.\n",
    "The article gives a formula that illustrates the factors important to the performance of a wind turbine and notes that the wind speed `V` has an exponent of 3 applied to it meaning that even small increases in wind speeds result in a large increase in power.\n",
    "$Power=k.Cp \\frac{1}{2}\\rho AV^3$  where P = power output in kilowatts, Cp = Maximum power coefficient, $\\rho$ is Air density, A = Rotor swept area, V = wind speed in mph, k = 0.000133 a constant to yield power in kilowatts.\n",
    "\n",
    "Additionally the article notes that although the calculation of wind power illustrates important features about wind turbines, the best measure of wind turbine performance is annual energy output. **The difference between power and energy is that power (kilowatts kW) is the rate at which electricity is consumed, while energy (kilowatt-hours kWh) is the quantity consumed.**\n",
    "I'm not sure if this makes a difference here for this project.\n",
    "\n",
    "A blog post [calculating energy production from weather forecast in Python](https://medium.com/planet-os/calculating-energy-production-from-weather-forecast-in-python-3c990047daa) on medium.com use a linear equation to calculate ideal wind production. They do note that modeling results can be enhanced via statistical analysis of hyper-local time series such as meteorological data and energy production data but for this project we do not have any of this data available.\n",
    "Each wind turbine manufacturer provides an ideal energy production curve for their turbines.\n",
    "The article provides a brief overview which is taken from another article [Wind Turbine Power Curve Modeling Using\n",
    "Advanced Parametric and Nonparametric Methods](http://ieeexplore.ieee.org/iel7/5165391/5433168/06894235.pdf):\n",
    "\n",
    "Of particular relevance to this projects is that a typical wind turbine has three main characteristic speeds, the cut-in speeds (Vc), rated speeds (Vr) and cut-out (Vs) speeds.  This helps explain the s-shaped curve we see for this dataset.\n",
    "- The turbine starts generating power when the wind speed reaches the cut-in value.\n",
    "- The rated speed is the wind speed at which the generator is producing the machine’s rated power.\n",
    "- The power generation is shut down to prevent defects and damage when the wind speed reaches the cut-out speed.\n",
    "Also the differences between the ideal power curves which just describe the potentially maximum output versus reality taking into account many factors as well as measurement variations.\n",
    "*In practice, however, wind turbines are never used under ideal conditions, and the empirical power curves could be substantially different from the theoretical ones due to the location of the turbine, air density, wind velocity distribution, wind direction, mechanical and control issues, as well as uncertainties in measurements.* [1234][Wind Turbine Power Curve Modeling Using\n",
    "Advanced Parametric and Nonparametric Methods](http://ieeexplore.ieee.org/iel7/5165391/5433168/06894235.pdf) linked to from the article on medium.com.\n",
    "(I'm just making notes that may be relevant to this project)\n",
    "While the ideal power curves simply describe potentially maximum output, accuracy could be improved by using more accurate accurate weather forecasts or various statistical methods such as machine learning. As in their case we do not have  historical data which we could use for statistical improvements but nor do we have hyper-local forecasts  as we don't know anything about the data.\n",
    "\n",
    "[Using_machine_learning_to_predict_wind_turbine_power_output](https://www.researchgate.net/publication/257748412_Using_machine_learning_to_predict_wind_turbine_power_output)\n",
    "This article notes that real wind turbines do not achieve their theoretical limit as their performance is a function to of aerodynamics and the need to limit power capture once the rated generator power is reached, at ‘rated’ windspeed. \n",
    ">The generator power, turbine diameter and bladeshape are optimized based on site characteristics such as annual average wind speed and the wind speed distribution. \n",
    "\n",
    "Turbine manufacturers measure their turbine’s ‘powercurve’ (the relationship between power output and windspeed) at turbine test sites where it is calculated from 10 min averaged wind speed ($U=\\bar{\\mu}$) and power.\n",
    "*The typical power curves have an s-shape where at wind speeds less than rated the energy capture is approximately proportional to $U^3$ (known as Region II). At wind speeds above rated, the bladepitch and generator torque are actively controlled to limit the power to the generator’s rated power (Region III).*\n",
    "\n",
    "Variations in atmospheric conditions can lead to changes in turbine power output of 10% or more at the same wind speed. Turbulence and shear and not usually used in the power curves as they are considered  difficult to include in turbine power predictions. The article also mentions that because of intermittency in the wind, wind turbines typically produce 20%–40% of their maximum possible output over the course of a year. There is a lot of uncertainty  in predicting power generation from a turbine using local wind speed data. If the amount of energy is overestimated then the site might not be as profitable as expected while underestimating the energy available at a site might lead to a site not being developed at all. This study simulated the aerodynamic forces on the turbines blades and structures using an aerostructuraland simulator and  created 1796 10 minute wind fields from a stochastic turbulence simulator. The data from the wind fields from the simulations were used to form a database of 1796 observations of 10 min average power (the response) as a function of wind speed, turbulence intensity, and shear exponent (the forcing). \n",
    "\n",
    "They binned the power data into 1 m $s^1$ wide bins and included a plot (figure 3 in the article) of the power curve which shows a Region II between 0.3 metres per second and about 11.5 metres per second, region III is from end the end of region II up to 25 which correspond exactly with our dataset.\n",
    "(The power is in kilowatts though with max value of 1500 so maybe I have the wrong metrics here.)\n",
    "\n",
    "Noted that *although the forcing variables are evenly distributed, variance in power is largest near rated wind speed. This sensitivity may result in large variation between predicted power output and observed power output. Furthermore, the mean power generated in simulations that include turbulence is lower than the no-turbulence cases near rated wind speed.*\n",
    "### Will be removing this mostly.\n",
    "#### wind speeds below 8 metres per second, between 7 and 8 metres per second\n",
    "At wind speeds below 8 m $s^{-1}$, power increases with turbulence intensity and shear. The increase in power due to turbulence arises because turbulent flow with mean speed $U$ carries more power than laminar flow of the same $U$. The changes in power output of +/-20% associated with turbulence are approximately half of the change due to a change in wind speed from 7 to 8 $m^{s−1}$.\n",
    "In contrast, at wind speeds just above and below rated speed, increasing turbulence intensity reduces power output as the turbine cannot capture the extra energy that gusts bring, but a short duration slow down to wind speeds below rated results in a loss of energy. As the mean wind speed increases, the total amount of time with the blades pitched toward feather increases and the wind turbine is more often operating at rated power. At wind speeds much greater than rated, larger turbulence intensities are required to reduce the output of the machine to less than rated power, regardless of shear. In Regions II and III, variation in $Ti$ impacts power performance more than variation in $\\alpha$.\n",
    "\n",
    "The article next looked at using machine learning to predict power output under different conditions by incorporating turbulence intensity and wind shear into power prediction tools. They note that the power output from the turbine is not a linear function of wind speed and so linear regression is not an appropriate technique. Non-linear regression assumes that the relationships are constant throughout the model space (i.e. power output is always proportional to $U^n$ ), which is incorrect, so non-linear regression is also inappropriate. Also, as multivariate bins only work where the training data includes data in all bins this would be computationally or observationally more expensive. Instead they chose a machine learning technique `regression trees` for capturing non-linear changes in response to forcing. Regression trees are models that use simple branching question paths to predict an outcome based on inputs. \n",
    "\n",
    "The turbines responds differently to changes in shear and turbulence at different wind speeds. In Region II, at wind speeds below 8 m $s^−1$, power output increases by up to 10% as turbulence increases or as the magnitude of the shear increases. At wind speeds greater than 8 m $s^−1$ and in Region III, the regression tree modeled power is consistent with the simulated power output: power decreases as turbulence intensity increases and shows weak or no dependence on shear.\n",
    "\n",
    "The article concludes:\n",
    ">simulations suggest and the model clearly demonstrates that the response of the turbine is a complex non-linear function of hub height wind speed, turbulence intensity, and rotor disk shear. At wind speeds below rated speed, the turbine power output is most sensitive to changes in wind speed and speed, turbulence. At rated speed, the turbine is most sensitive to turbulence intensity and shear, and power can change by 10% under typical atmospheric conditions. At wind speeds greater than rated, the turbine responds most to changes in turbulence intensity."
   ]
  },
  {
   "cell_type": "markdown",
   "metadata": {},
   "source": [
    "#### Rated wind speeds\n",
    "https://www.sciencedirect.com/topics/engineering/rated-wind-speed \n",
    "https://www.sciencedirect.com/topics/engineering/rated-wind-speed\n",
    "\n",
    "https://www.wind-watch.org/faq-technology.php\n",
    "Here are a few points from this site although the wind turbines are probably not the same turbines as our dataset. \n",
    "The article earlier showed the power curves for different utility-scale wind turbines which all reach higher maximum powers than the values in this dataset. (Using_machine_learning_to_predict_wind_turbine_power_output)(https://www.researchgate.net/publication/257748412_Using_machine_learning_to_predict_wind_turbine_power_output)\n",
    "\n",
    "The cut-in speeds quoted here are in miles per hour. (to convert miles per hour to metres per second divide by 2.237).\n",
    "\n",
    "- Every wind turbine design has a cut-in wind speed, a rated wind speed, and a cut-out wind speed.\n",
    "- At the cut-in wind speed, the blades start to turn and a trickle of electricity starts to be produced. Around cut-in, the generator may be used as a motor to help the wind overcome inertia and start the blades turning.\n",
    "- The cut-in speed is typically 7 to 9 mph. (equivalent to 3.13 to 4.02 meters per second)\n",
    "- At the rated wind speed, the turbine is able to generate electricity at its maximum, or rated, capacity.\n",
    "- The rated speed is usually in the range of 25 to 35 mph. (equivalent to 11.18 to 13.4 metres per second).\n",
    "\n",
    "- At the cut-out wind speed, the turbine shuts down to avoid damage. The pitch controllers feather the blades to let the wind flow past them and the rotor hub is braked. The wind usually has to return to a much lower speed, called the cut-back-in wind speed, for a certain amount of time before the turbine will restart.\n",
    "- The cut-out speed is generally around 55 mph (24.586 metres per second). The cut-back-in speed is around 45 mph (20.12 metres per second).\n",
    "\n",
    "The rated windspeed of a wind turbine is the wind speed at which a turbine hits its maximum “rated\" or “nameplate\" capacity\" power output.\n",
    "https://www.quora.com/What-do-you-mean-by-the-rated-wind-speed-of-the-wind-turbine\n",
    "\n",
    "\n",
    "https://en.wikipedia.org/wiki/Wind_turbine_design\n",
    ">A wind turbine is designed to produce power over a range of wind speeds. The cut-in speed is around 3–4 m/s for most turbines, and cut-out at 25 m/s. If the rated wind speed is exceeded the power has to be limited. There are various ways to achieve this.\n",
    ">All wind turbines are designed for a maximum wind speed, called the survival speed, above which they will be damaged. The survival speed of commercial wind turbines is in the range of 40 m/s (144 km/h, 89 MPH) to 72 m/s (259 km/h, 161 MPH). The most common survival speed is 60 m/s (216 km/h, 134 MPH). Some have been designed to survive 80 metres per second (290 km/h; 180 mph)"
   ]
  },
  {
   "cell_type": "markdown",
   "metadata": {},
   "source": [
    "24 mph or 10.5 m/s and 36 mph or 16 m/s\n",
    "To convert miles per hours to metres per second divide the speed value by 2.237\n",
    "https://www.metric-conversions.org/speed/miles-per-hour-to-meters-per-second.htm"
   ]
  },
  {
   "cell_type": "markdown",
   "metadata": {},
   "source": [
    "#### How does all this tie in with our dataset?\n",
    "\n",
    "The scatter plot of our dataset did show three distinct sections of the curve, the first section at low values of wind speed where the wind turbine values are clustered around zero (including the 10% of observations that have zero power values), the second section where there seems to be a linear trend between wind speed and power output and thirdly the last section where the values of power have reached a peak at higher wind speeds and plateau, and also the outliers here.\n",
    "We would expect to see power being generated when speed is above 3-4 metres per second.\n",
    "Cut out speed at 24-25 metres per second.\n",
    "Cut back in speed after cut out is 20 meters per second.\n"
   ]
  },
  {
   "cell_type": "markdown",
   "metadata": {},
   "source": [
    "Here I am just using clustering for exploratory data analysis, to see if the data is clustered into three regions."
   ]
  },
  {
   "cell_type": "code",
   "execution_count": 22,
   "metadata": {},
   "outputs": [
    {
     "data": {
      "image/png": "[encoded data removed]",
      "text/plain": [
       "<Figure size 1008x576 with 1 Axes>"
      ]
     },
     "metadata": {},
     "output_type": "display_data"
    }
   ],
   "source": [
    "# Machine learning - KMeans.\n",
    "import sklearn.cluster as skcl\n",
    "x1 = np.array(df.speed)\n",
    "x2 = np.array(df.power)\n",
    "X =  np.vstack([x1, x2]).T\n",
    "X.size \n",
    "# 1000\n",
    "X.shape\n",
    "# (500, 2)\n",
    "# Plots styles.\n",
    "plt.style.use('ggplot')\n",
    "\n",
    "# Plot size.\n",
    "plt.rcParams['figure.figsize'] = (14, 8)\n",
    "# Plot the data set.\n",
    "\n",
    "# Plot the data set.\n",
    "plt.plot(X[:,0], X[:,1], 'x')\n",
    "\n",
    "# Perform kmeans fitting.\n",
    "kmeans = skcl.KMeans(n_clusters=3, random_state=0).fit(X)\n",
    "plt.plot(X[kmeans.labels_ == 0][:,0], X[kmeans.labels_ == 0][:,1], 'gx')\n",
    "plt.plot(X[kmeans.labels_ == 1][:,0], X[kmeans.labels_ == 1][:,1], 'rx')\n",
    "plt.plot(X[kmeans.labels_ == 2][:,0], X[kmeans.labels_ == 2][:,1], 'bx')\n",
    "plt.show()"
   ]
  },
  {
   "cell_type": "code",
   "execution_count": 23,
   "metadata": {},
   "outputs": [
    {
     "data": {
      "text/html": [
       "<div>\n",
       "<style scoped>\n",
       "    .dataframe tbody tr th:only-of-type {\n",
       "        vertical-align: middle;\n",
       "    }\n",
       "\n",
       "    .dataframe tbody tr th {\n",
       "        vertical-align: top;\n",
       "    }\n",
       "\n",
       "    .dataframe thead th {\n",
       "        text-align: right;\n",
       "    }\n",
       "</style>\n",
       "<table border=\"1\" class=\"dataframe\">\n",
       "  <thead>\n",
       "    <tr style=\"text-align: right;\">\n",
       "      <th></th>\n",
       "      <th>speed</th>\n",
       "      <th>power</th>\n",
       "    </tr>\n",
       "  </thead>\n",
       "  <tbody>\n",
       "    <tr>\n",
       "      <th>count</th>\n",
       "      <td>500.000000</td>\n",
       "      <td>500.000000</td>\n",
       "    </tr>\n",
       "    <tr>\n",
       "      <th>mean</th>\n",
       "      <td>12.590398</td>\n",
       "      <td>48.014584</td>\n",
       "    </tr>\n",
       "    <tr>\n",
       "      <th>std</th>\n",
       "      <td>7.224991</td>\n",
       "      <td>41.614572</td>\n",
       "    </tr>\n",
       "    <tr>\n",
       "      <th>min</th>\n",
       "      <td>0.000000</td>\n",
       "      <td>0.000000</td>\n",
       "    </tr>\n",
       "    <tr>\n",
       "      <th>25%</th>\n",
       "      <td>6.324750</td>\n",
       "      <td>5.288000</td>\n",
       "    </tr>\n",
       "    <tr>\n",
       "      <th>50%</th>\n",
       "      <td>12.550500</td>\n",
       "      <td>41.645500</td>\n",
       "    </tr>\n",
       "    <tr>\n",
       "      <th>75%</th>\n",
       "      <td>18.775250</td>\n",
       "      <td>93.537000</td>\n",
       "    </tr>\n",
       "    <tr>\n",
       "      <th>max</th>\n",
       "      <td>25.000000</td>\n",
       "      <td>113.556000</td>\n",
       "    </tr>\n",
       "  </tbody>\n",
       "</table>\n",
       "</div>"
      ],
      "text/plain": [
       "            speed       power\n",
       "count  500.000000  500.000000\n",
       "mean    12.590398   48.014584\n",
       "std      7.224991   41.614572\n",
       "min      0.000000    0.000000\n",
       "25%      6.324750    5.288000\n",
       "50%     12.550500   41.645500\n",
       "75%     18.775250   93.537000\n",
       "max     25.000000  113.556000"
      ]
     },
     "execution_count": 23,
     "metadata": {},
     "output_type": "execute_result"
    }
   ],
   "source": [
    "df.describe()"
   ]
  },
  {
   "cell_type": "code",
   "execution_count": 24,
   "metadata": {},
   "outputs": [
    {
     "data": {
      "text/html": [
       "<div>\n",
       "<style scoped>\n",
       "    .dataframe tbody tr th:only-of-type {\n",
       "        vertical-align: middle;\n",
       "    }\n",
       "\n",
       "    .dataframe tbody tr th {\n",
       "        vertical-align: top;\n",
       "    }\n",
       "\n",
       "    .dataframe thead th {\n",
       "        text-align: right;\n",
       "    }\n",
       "</style>\n",
       "<table border=\"1\" class=\"dataframe\">\n",
       "  <thead>\n",
       "    <tr style=\"text-align: right;\">\n",
       "      <th></th>\n",
       "      <th>speed</th>\n",
       "      <th>power</th>\n",
       "    </tr>\n",
       "  </thead>\n",
       "  <tbody>\n",
       "    <tr>\n",
       "      <th>499</th>\n",
       "      <td>25.000</td>\n",
       "      <td>0.0</td>\n",
       "    </tr>\n",
       "    <tr>\n",
       "      <th>498</th>\n",
       "      <td>24.950</td>\n",
       "      <td>0.0</td>\n",
       "    </tr>\n",
       "    <tr>\n",
       "      <th>497</th>\n",
       "      <td>24.875</td>\n",
       "      <td>0.0</td>\n",
       "    </tr>\n",
       "    <tr>\n",
       "      <th>496</th>\n",
       "      <td>24.850</td>\n",
       "      <td>0.0</td>\n",
       "    </tr>\n",
       "    <tr>\n",
       "      <th>495</th>\n",
       "      <td>24.775</td>\n",
       "      <td>0.0</td>\n",
       "    </tr>\n",
       "  </tbody>\n",
       "</table>\n",
       "</div>"
      ],
      "text/plain": [
       "      speed  power\n",
       "499  25.000    0.0\n",
       "498  24.950    0.0\n",
       "497  24.875    0.0\n",
       "496  24.850    0.0\n",
       "495  24.775    0.0"
      ]
     },
     "execution_count": 24,
     "metadata": {},
     "output_type": "execute_result"
    }
   ],
   "source": [
    "df.sort_values(by='speed', ascending=False).head()"
   ]
  },
  {
   "cell_type": "raw",
   "metadata": {},
   "source": [
    "# show the unique values\n",
    "df.speed.unique()\n",
    "# a count of the unique speed values\n",
    "df.speed.value_counts() # 490\n",
    "# a count of the unique power values\n",
    "df.power.value_counts() # 451"
   ]
  },
  {
   "cell_type": "code",
   "execution_count": 25,
   "metadata": {},
   "outputs": [
    {
     "data": {
      "text/plain": [
       "500"
      ]
     },
     "execution_count": 25,
     "metadata": {},
     "output_type": "execute_result"
    }
   ],
   "source": [
    "len(df.groupby('speed')) # 490\n",
    "df.groupby('speed')['power'].agg(['count', 'size', 'nunique'])\n",
    "len(df.groupby('power')) # 451\n",
    "\n",
    "df.groupby('power')['speed'].agg(['count', 'size', 'nunique'])\n",
    "len(df[['speed', 'power']].drop_duplicates()) # 490"
   ]
  },
  {
   "cell_type": "markdown",
   "metadata": {},
   "source": [
    "### Zero values\n",
    "#### Where do the zero values occur?\n",
    "- There are 49 datapoints where power value is zero\n",
    "- There is only 1 datapoint where speed value is zero (also power)\n",
    "- Ten speed values over 24.4 metres per hour with a corresponding power value of zero\n",
    "- There are no data points with speeds above 24.4 and power not equal to zero\n",
    "- Eight data points where speed is less than 8 metres per second and power value is zero\n",
    "- Four datapoints where speed is greater than 8 and less than 24.4 metres per second and corresponding power values are zero\n",
    "- 24 datapoints where speed is less than 4 metres per second and power is zero"
   ]
  },
  {
   "cell_type": "code",
   "execution_count": 26,
   "metadata": {
    "scrolled": false
   },
   "outputs": [
    {
     "name": "stdout",
     "output_type": "stream",
     "text": [
      "speed    1\n",
      "power    1\n",
      "dtype: int64\n"
     ]
    }
   ],
   "source": [
    "# the rows where both values are zer0\n",
    "print(df[(df['speed']==0) & (df['power']==0)].count()) # only 1"
   ]
  },
  {
   "cell_type": "markdown",
   "metadata": {},
   "source": [
    "#### 49 observations with zero power values"
   ]
  },
  {
   "cell_type": "code",
   "execution_count": 27,
   "metadata": {},
   "outputs": [
    {
     "data": {
      "text/plain": [
       "speed    49\n",
       "power    49\n",
       "dtype: int64"
      ]
     },
     "execution_count": 27,
     "metadata": {},
     "output_type": "execute_result"
    }
   ],
   "source": [
    "df[df.power==0].count()"
   ]
  },
  {
   "cell_type": "markdown",
   "metadata": {},
   "source": [
    "#### Cut-in speeds between 3 and 4 metres per second\n",
    "The cut-in speed is typically 7 to 9 mph. (equivalent to 3.13 to 4.02 meters per second).\n",
    "- 17 observations where speed is less than 3 metres per second"
   ]
  },
  {
   "cell_type": "code",
   "execution_count": 28,
   "metadata": {},
   "outputs": [
    {
     "name": "stdout",
     "output_type": "stream",
     "text": [
      "Zero power values where speed is below 3 metres per second:\n",
      "speed    17\n",
      "power    17\n",
      "dtype: int64\n",
      "Zero power values where speed is between 3 and 4 metres per second:\n",
      "speed    7\n",
      "power    7\n",
      "dtype: int64\n",
      "Zero power values where speed is between 4 and 7 metres per second:\n",
      "speed    9\n",
      "power    9\n",
      "dtype: int64\n",
      "Zero power values where speed is between 7 and 24.4 metres per second:\n",
      "speed    6\n",
      "power    6\n",
      "dtype: int64\n",
      "Zero power values where speed is above 24.4 metres per second:\n",
      "speed    10\n",
      "power    10\n",
      "dtype: int64\n"
     ]
    }
   ],
   "source": [
    "print(f\"Zero power values where speed is below 3 metres per second:\\n{df[(df.speed <3) & (df.power==0.0)].count()}\")\n",
    "print(f\"Zero power values where speed is between 3 and 4 metres per second:\\n{df[(df.speed >3) & (df.speed <4) & (df.power==0.0)].count()}\")\n",
    "print(f\"Zero power values where speed is between 4 and 7 metres per second:\\n{df[(df.speed >4) & (df.speed<7) & (df.power==0.0)].count()}\")\n",
    "print(f\"Zero power values where speed is between 7 and 24.4 metres per second:\\n{df[(df.speed >7) & (df.speed<24.4) & (df.power==0.0)].count()}\")\n",
    "print(f\"Zero power values where speed is above 24.4 metres per second:\\n{df[(df.speed>24.4) & (df.power==0.0)].count()}\")"
   ]
  },
  {
   "cell_type": "markdown",
   "metadata": {},
   "source": [
    "#### Non-zero power values where speed is less than 3 metres per second:\n",
    "There are 39 observations where speed is less than the cut-in speed (of between 3 and 4 metres per second) and the corresponding power value is greater than zero. I think these are the tricky ones to predict. There was mention in the one of the articles referenced earlier that while sometimes there might not be enough wind to turn a turbine, the wind energy is not lost as the wind energy can be stored in energy storage systems for later use whenever wind levels are low."
   ]
  },
  {
   "cell_type": "code",
   "execution_count": 29,
   "metadata": {},
   "outputs": [
    {
     "data": {
      "text/plain": [
       "speed    17\n",
       "power    17\n",
       "dtype: int64"
      ]
     },
     "execution_count": 29,
     "metadata": {},
     "output_type": "execute_result"
    }
   ],
   "source": [
    "df[(df.speed < 3) & (df.power>0.0)].count() # 39\n",
    "df[(df.speed < 3) & (df.power==0.0)].count() # 17\n"
   ]
  },
  {
   "cell_type": "code",
   "execution_count": 30,
   "metadata": {},
   "outputs": [
    {
     "data": {
      "text/plain": [
       "speed    24\n",
       "power    24\n",
       "dtype: int64"
      ]
     },
     "execution_count": 30,
     "metadata": {},
     "output_type": "execute_result"
    }
   ],
   "source": [
    "df[(df.speed < 4) & (df.power>0.0)].count() # 56\n",
    "df[(df.speed < 4) & (df.power==0.0)].count() # 24"
   ]
  },
  {
   "cell_type": "markdown",
   "metadata": {},
   "source": [
    "#### Rated speed\n",
    "At the rated wind speed, the turbine is able to generate electricity at its maximum, or rated, capacity.\n",
    "The rated speed is usually in the range of 25 to 35 mph. (equivalent to 11.18 to 13.4 metres per second).\n",
    "This is based on the research above but we don't know the details of the actual wind turbines being used here.\n",
    "The rated speed for the turbines in this dataset must be greated than this range as they do not reach their maximum capacity until wind speed is greater than 15 metres per second.\n",
    "The max power value in the dataset is 113.556 kws but there are very few observations in the dataset where power is greater than 110. The power curve for this dataset shows the power values levelling off in and around values between 90 and 100. I need to blow the plot up some more to see the exact values.\n",
    "\n",
    "\n"
   ]
  },
  {
   "cell_type": "markdown",
   "metadata": {},
   "source": [
    "#### Power values greater than 100\n",
    "- 31 power values between 80 and 90\n",
    "- 95 power values between 90 and 100\n",
    "- 55  between 100 and 110"
   ]
  },
  {
   "cell_type": "code",
   "execution_count": 31,
   "metadata": {},
   "outputs": [
    {
     "name": "stdout",
     "output_type": "stream",
     "text": [
      "Data points where power is between 80 and 90:\n",
      "speed    31\n",
      "power    31\n",
      "dtype: int64\n",
      "Data points where power is between 90 and 100:\n",
      "speed    95\n",
      "power    95\n",
      "dtype: int64\n",
      "Data points where power is between 100 and 110:\n",
      "speed    55\n",
      "power    55\n",
      "dtype: int64\n",
      "Data points where power greater than 110:\n",
      "speed    2\n",
      "power    2\n",
      "dtype: int64\n"
     ]
    }
   ],
   "source": [
    "print(f\"Data points where power is between 80 and 90:\\n{df[(df.power>80)&(df.power<90)].count()}\")\n",
    "print(f\"Data points where power is between 90 and 100:\\n{df[(df.power>90)&(df.power<100)].count()}\")\n",
    "print(f\"Data points where power is between 100 and 110:\\n{df[(df.power>100)&(df.power<110)].count()}\")\n",
    "print(f\"Data points where power greater than 110:\\n{df[(df.power>110)].count()}\")"
   ]
  },
  {
   "cell_type": "code",
   "execution_count": 32,
   "metadata": {},
   "outputs": [
    {
     "data": {
      "text/plain": [
       "speed    57\n",
       "power    57\n",
       "dtype: int64"
      ]
     },
     "execution_count": 32,
     "metadata": {},
     "output_type": "execute_result"
    }
   ],
   "source": [
    "df[df.power>100].count()"
   ]
  },
  {
   "cell_type": "code",
   "execution_count": 33,
   "metadata": {},
   "outputs": [
    {
     "data": {
      "text/plain": [
       "speed    49\n",
       "power    49\n",
       "dtype: int64"
      ]
     },
     "execution_count": 33,
     "metadata": {},
     "output_type": "execute_result"
    }
   ],
   "source": [
    "df[(df.speed >11) & (df.speed< 13.4)].count()"
   ]
  },
  {
   "cell_type": "markdown",
   "metadata": {},
   "source": [
    "#### Cut-out speeds for safety reasons\n",
    "At the cut-out wind speed, the turbine shuts down to avoid damage.\n",
    "There are 10 observations that fall into the cut-out speed range.\n",
    "There are no datapoints where speed is above the cut-out speed value where power is not zero."
   ]
  },
  {
   "cell_type": "code",
   "execution_count": 34,
   "metadata": {},
   "outputs": [
    {
     "name": "stdout",
     "output_type": "stream",
     "text": [
      "Speed values above 24.4 metres per second:\n",
      "speed    10\n",
      "power    10\n",
      "dtype: int64\n",
      "Zero power values where speed is above 24.4 metres per second:\n",
      "speed    10\n",
      "power    10\n",
      "dtype: int64\n"
     ]
    }
   ],
   "source": [
    "# there are no points in the dataset where speed is greater than 24.4 and power value is not zero\n",
    "print(f\"Speed values above 24.4 metres per second:\\n{df[df.speed>24.4].count()}\") # \n",
    "print(f\"Zero power values where speed is above 24.4 metres per second:\\n{df[(df.speed > 24.4) & (df.power==0.0)].count()}\")"
   ]
  },
  {
   "cell_type": "markdown",
   "metadata": {},
   "source": [
    "#### Speeds between 7 and 8 metres per second:"
   ]
  },
  {
   "cell_type": "code",
   "execution_count": 35,
   "metadata": {},
   "outputs": [
    {
     "data": {
      "text/plain": [
       "speed    2\n",
       "power    2\n",
       "dtype: int64"
      ]
     },
     "execution_count": 35,
     "metadata": {},
     "output_type": "execute_result"
    }
   ],
   "source": [
    "df[(df.speed >7) & (df.speed < 8) & (df.power==0.0)].count()"
   ]
  },
  {
   "cell_type": "markdown",
   "metadata": {},
   "source": [
    "### Dealing with zero values\n"
   ]
  },
  {
   "cell_type": "markdown",
   "metadata": {},
   "source": [
    "\n",
    "After initially trying out the neural network using the complete dataset, the cost did not fall below a certain value and the resulting plots suggested that keeping the zero power values in for the very high values of speed were affecting the calculations. The research showed that there is a cut-out speed between 24 and 25 metres per second for safety reasons.  At the cut-out wind speed, the turbine shuts down to avoid damage. This is enough to justify excluding these observations as we can predict that the power output will be zero when the wind speed exceeds this cut out value. There are only ten observations in the dataset that fall into this range.\n",
    "We can only predict values for power when the turbines are turned on and therefore maybe the model should only be predicting for values of speed where the turbine is on! \n",
    "\n",
    "While there is only one zero value for the speed variable, there are 49 zero values for the power variable. These mostly occur below a certain value of speed but located alongside non-zero power values and there are a few that are associated with medium and higher speed values of speed. Most of the data points in the dataset are unique values. The one datapoint with a zero speed value has a zero power value as expected.\n",
    "\n",
    "Summary of where the zero power values occur:\n",
    "- 17 where speed is less than 3 metres per second\n",
    "- 7 where speed is between 3 and 4 metres per second. This is the cut-in speed\n",
    "- 9 where speed lies between 4 and 7\n",
    "- 6 where speed is between 7 and 24.4\n",
    "- 10 where speed is above 24.4 metres per second. This is the cut-out value.\n",
    "\n",
    "For now I will drop all observations where speed is greater than the cut-out value of 24.4. \n",
    "I will also drop the observations above the cut-in speed of between 3 and 4 metres per second.\n",
    "I will leave in all the observations where speed is less than the cut-in speed including the zero values.\n",
    "(Wind turbines generate electricity at wind speeds of 4 – 25 metres per second [123]Wind Energy Basics)\n",
    "\n",
    "This means that for now I am dropping 25 observations from the dataset where the power values are zero.\n",
    "Ten observations where the wind speed is greater than the cut-off value; the corresponding power is zero as the turbines are off.\n",
    "Fifteen observations where wind speed is greater than the cut-in and less than the cut-out and the power is zero. Assume these represent points where the turbines are turned off for maintenance or other reasons."
   ]
  },
  {
   "cell_type": "code",
   "execution_count": 36,
   "metadata": {},
   "outputs": [],
   "source": [
    "#https://pandas.pydata.org/pandas-docs/stable/reference/api/pandas.DataFrame.drop.html\n",
    "# https://thispointer.com/python-pandas-how-to-drop-rows-in-dataframe-by-conditions-on-column-values/\n",
    "#df.drop(df.loc[(df.speed>24.4)].index, inplace=True)"
   ]
  },
  {
   "cell_type": "code",
   "execution_count": 37,
   "metadata": {},
   "outputs": [],
   "source": [
    "# make a copy of the dataframe\n",
    "dfx = df.copy()"
   ]
  },
  {
   "cell_type": "code",
   "execution_count": 38,
   "metadata": {},
   "outputs": [
    {
     "data": {
      "text/plain": [
       "speed    25\n",
       "power    25\n",
       "dtype: int64"
      ]
     },
     "execution_count": 38,
     "metadata": {},
     "output_type": "execute_result"
    }
   ],
   "source": [
    "dfx.loc[(dfx.speed > 4)&(dfx.power == 0)].count()"
   ]
  },
  {
   "cell_type": "code",
   "execution_count": 39,
   "metadata": {},
   "outputs": [],
   "source": [
    "dfx.drop(dfx.loc[(df.speed > 4)&(dfx.power == 0)].index, inplace=True)"
   ]
  },
  {
   "cell_type": "code",
   "execution_count": 40,
   "metadata": {},
   "outputs": [
    {
     "data": {
      "text/html": [
       "<div>\n",
       "<style scoped>\n",
       "    .dataframe tbody tr th:only-of-type {\n",
       "        vertical-align: middle;\n",
       "    }\n",
       "\n",
       "    .dataframe tbody tr th {\n",
       "        vertical-align: top;\n",
       "    }\n",
       "\n",
       "    .dataframe thead th {\n",
       "        text-align: right;\n",
       "    }\n",
       "</style>\n",
       "<table border=\"1\" class=\"dataframe\">\n",
       "  <thead>\n",
       "    <tr style=\"text-align: right;\">\n",
       "      <th></th>\n",
       "      <th>speed</th>\n",
       "      <th>power</th>\n",
       "    </tr>\n",
       "  </thead>\n",
       "  <tbody>\n",
       "    <tr>\n",
       "      <th>count</th>\n",
       "      <td>475.000000</td>\n",
       "      <td>475.000000</td>\n",
       "    </tr>\n",
       "    <tr>\n",
       "      <th>mean</th>\n",
       "      <td>12.440971</td>\n",
       "      <td>50.541667</td>\n",
       "    </tr>\n",
       "    <tr>\n",
       "      <th>std</th>\n",
       "      <td>7.101231</td>\n",
       "      <td>41.171815</td>\n",
       "    </tr>\n",
       "    <tr>\n",
       "      <th>min</th>\n",
       "      <td>0.000000</td>\n",
       "      <td>0.000000</td>\n",
       "    </tr>\n",
       "    <tr>\n",
       "      <th>25%</th>\n",
       "      <td>6.293500</td>\n",
       "      <td>6.737500</td>\n",
       "    </tr>\n",
       "    <tr>\n",
       "      <th>50%</th>\n",
       "      <td>12.538000</td>\n",
       "      <td>47.282000</td>\n",
       "    </tr>\n",
       "    <tr>\n",
       "      <th>75%</th>\n",
       "      <td>18.531500</td>\n",
       "      <td>94.017500</td>\n",
       "    </tr>\n",
       "    <tr>\n",
       "      <th>max</th>\n",
       "      <td>24.399000</td>\n",
       "      <td>113.556000</td>\n",
       "    </tr>\n",
       "  </tbody>\n",
       "</table>\n",
       "</div>"
      ],
      "text/plain": [
       "            speed       power\n",
       "count  475.000000  475.000000\n",
       "mean    12.440971   50.541667\n",
       "std      7.101231   41.171815\n",
       "min      0.000000    0.000000\n",
       "25%      6.293500    6.737500\n",
       "50%     12.538000   47.282000\n",
       "75%     18.531500   94.017500\n",
       "max     24.399000  113.556000"
      ]
     },
     "execution_count": 40,
     "metadata": {},
     "output_type": "execute_result"
    }
   ],
   "source": [
    "dfx.describe()"
   ]
  },
  {
   "cell_type": "code",
   "execution_count": 41,
   "metadata": {},
   "outputs": [
    {
     "data": {
      "image/png": "[encoded data removed]",
      "text/plain": [
       "<Figure size 1008x432 with 2 Axes>"
      ]
     },
     "metadata": {},
     "output_type": "display_data"
    }
   ],
   "source": [
    "f, axes = plt.subplots(1, 2, figsize=(14, 6))\n",
    "x = \"speed\"\n",
    "y = \"power\"\n",
    "\n",
    "sns.regplot(x=\"speed\", y=\"power\", data=dfx, order=3, ax=axes[0], label=\"order =3\", ci=False, color=\"blue\", marker=\"x\"); axes[0].legend()\n",
    "sns.regplot(x=\"speed\", y=\"power\", data=dfx, order=4, ax=axes[1], label = \"order=4\",marker='x'); axes[1].legend()\n",
    "plt.legend()\n",
    "plt.suptitle(\"Trying higher order polynomial regression functions to Speed and Power values\")\n",
    "plt.show()"
   ]
  },
  {
   "cell_type": "code",
   "execution_count": 42,
   "metadata": {},
   "outputs": [],
   "source": [
    "from sklearn.preprocessing import PolynomialFeatures\n",
    "from sklearn.linear_model import LinearRegression\n",
    "from sklearn.pipeline import Pipeline\n",
    "model = Pipeline([('poly', PolynomialFeatures(degree=3)),('linear', LinearRegression(fit_intercept=False))])"
   ]
  },
  {
   "cell_type": "markdown",
   "metadata": {},
   "source": []
  },
  {
   "cell_type": "markdown",
   "metadata": {},
   "source": [
    "## Machine Learning.\n",
    "\n",
    "The goal of the project is to predict wind power from wind speed and therefore this problem falls into supervised learning. \n",
    ">Supervised learning is where you have input variables (x) and an output variable (Y) and you use an algorithm to learn the mapping function from the input to the output [Machine Learning Mastery](https://machinelearningmastery.com/supervised-and-unsupervised-machine-learning-algorithms/)[]\n",
    "\n",
    "- Regression: Predicting a continuous-valued attribute associated with an object.\n",
    "I had a look at the regression plots earlier, simple linear regression does not adequately model the relationship between the wind and speed values over the entire dataset while higher order polynomials captured more of the relationship. The simple linear model clearly underfit the data. The correlation statistics did show a high correlation between the variables with a value of 0.853778 but this doesn't mean the relationship is linear.\n",
    "There were large sections of the dataset that were either under the regression line or above the regression line.\n",
    "The higher order polynomials did not fit the data perfectly though. The cubic polynomial fits the data better and the fourth order polynomial does seem to be even better for the datapoints at the lower end of wind speed values. However it is important not to overfit the data either as then the model will not capture the general trend of the data.\n",
    "\n",
    "- [Polynomial Regressions - extending linear models](https://scikit-learn.org/stable/modules/linear_model.html#polynomial-regression-extending-linear-models-with-basis-functions)\n",
    "\n",
    "\n",
    ">One common pattern within machine learning is to use linear models trained on nonlinear functions of the data. This approach maintains the generally fast performance of linear methods, while allowing them to fit a much wider range of data.\n",
    "\n",
    "A simple linear regression can be extended by constructing polynomial features from the coefficients.\n",
    "`PolynomialFeatures` transforms an input data matrix into a new data matrix of a given degree. I will use a third degree polynomial here as the data earlier suggested this. In addition there was of this in the research above that \n",
    "*The typical power curves have an s-shape where at wind speeds less than rated the energy capture is approximately proportional to $U^3$* where ($U=\\bar{\\mu}$) is the 10 minute averaged wind speeds.\n",
    "\n",
    "Adding an X-squared to the data allows us to check if there is a quadratic relationship in the data. Adding an x-cubed allows us to check if there is a cubic relationship in the data. This has a snake-shaped curve. \n",
    "Adding polynomials to the regression is like multiple linear regression, as you are adding extra variables.\n",
    "\n",
    "- [Polynomial regression with scikit-learn](https://towardsdatascience.com/polynomial-regression-with-scikit-learn-what-you-should-know-bed9d3296f2)\n",
    "- [How to fit a polynomial curve to data using scikit-learn](https://stackoverflow.com/questions/32660231/how-to-fit-a-polynomial-curve-to-data-using-scikit-learn/32660433)\n"
   ]
  },
  {
   "cell_type": "code",
   "execution_count": 129,
   "metadata": {},
   "outputs": [],
   "source": [
    "from sklearn.preprocessing import PolynomialFeatures\n",
    "from sklearn.model_selection import train_test_split\n",
    "#from sklearn.linear_model import LinearRegression\n",
    "from sklearn import linear_model\n",
    "from sklearn.pipeline import Pipeline\n",
    "import numpy as np\n",
    "dfx\n",
    "# 3 is the best from the earlier seaborn plots\n",
    "\n",
    "# otherwise I end up with a column of zeros \n",
    "poly = PolynomialFeatures(degree=3, include_bias=False)"
   ]
  },
  {
   "cell_type": "markdown",
   "metadata": {},
   "source": [
    "### Split data into training and test sets"
   ]
  },
  {
   "cell_type": "code",
   "execution_count": 130,
   "metadata": {},
   "outputs": [
    {
     "name": "stdout",
     "output_type": "stream",
     "text": [
      "(356, 1) (119, 1) (356, 1) (119, 1)\n"
     ]
    }
   ],
   "source": [
    "\n",
    "# split into input and output columns\n",
    "\n",
    "X, y = dfx.values[:, :-1], dfx.values[:, -1:]\n",
    "# split into train and test datasets\n",
    "X_train, X_test, y_train, y_test = train_test_split(X, y, test_size=0.25, random_state=0)\n",
    "print(X_train.shape, X_test.shape, y_train.shape, y_test.shape)\n",
    "# determine the number of input features\n",
    "n_features = X_train.shape[1]"
   ]
  },
  {
   "cell_type": "markdown",
   "metadata": {},
   "source": [
    "#### Transform the features of x \n",
    "Once transformed they can be used with any linear model. I will apply to the training data only here.\n",
    "Note I will save the features to keep my training set for later use with the neural network model."
   ]
  },
  {
   "cell_type": "code",
   "execution_count": 131,
   "metadata": {},
   "outputs": [],
   "source": [
    "# convert the inputs into a new set of variables, save as X_train_p3 to leave X_train untouched for later use\n",
    "X_train_poly3 = poly.fit_transform(X_train)"
   ]
  },
  {
   "cell_type": "code",
   "execution_count": 132,
   "metadata": {},
   "outputs": [
    {
     "data": {
      "text/plain": [
       "array([[8.08300000e+00, 6.53348890e+01, 5.28101908e+02],\n",
       "       [2.47700000e+00, 6.13552900e+00, 1.51977053e+01],\n",
       "       [1.57660000e+01, 2.48566756e+02, 3.91890348e+03],\n",
       "       ...,\n",
       "       [6.18100000e+00, 3.82047610e+01, 2.36143628e+02],\n",
       "       [2.25200000e+00, 5.07150400e+00, 1.14210270e+01],\n",
       "       [9.43400000e+00, 8.90003560e+01, 8.39629359e+02]])"
      ]
     },
     "execution_count": 132,
     "metadata": {},
     "output_type": "execute_result"
    }
   ],
   "source": [
    "X_train_poly3"
   ]
  },
  {
   "cell_type": "code",
   "execution_count": 133,
   "metadata": {},
   "outputs": [],
   "source": [
    "# also need to transform the test data \n",
    "X_test_poly3 = poly.fit_transform(X_test)"
   ]
  },
  {
   "cell_type": "markdown",
   "metadata": {},
   "source": [
    "Now linear regression can be implemented that can be thought of multiple linear regression as we have added new variables in the form of x squared and x cubed."
   ]
  },
  {
   "cell_type": "code",
   "execution_count": 134,
   "metadata": {},
   "outputs": [],
   "source": [
    "# call the linear regression model\n",
    "model_poly3 = linear_model.LinearRegression()"
   ]
  },
  {
   "cell_type": "code",
   "execution_count": 135,
   "metadata": {},
   "outputs": [
    {
     "data": {
      "text/plain": [
       "LinearRegression()"
      ]
     },
     "execution_count": 135,
     "metadata": {},
     "output_type": "execute_result"
    }
   ],
   "source": [
    "# fit to the training data\n",
    "model_poly3.fit(X_train_poly3, y_train)"
   ]
  },
  {
   "cell_type": "code",
   "execution_count": 136,
   "metadata": {},
   "outputs": [],
   "source": [
    "# predict on the transformed test data\n",
    "poly3_predictions = model_poly3.predict(X_test_poly3)"
   ]
  },
  {
   "cell_type": "markdown",
   "metadata": {},
   "source": [
    "#### Get the coefficients"
   ]
  },
  {
   "cell_type": "code",
   "execution_count": 137,
   "metadata": {},
   "outputs": [
    {
     "data": {
      "text/plain": [
       "array([[-9.69965794,  1.49732   , -0.03967732]])"
      ]
     },
     "execution_count": 137,
     "metadata": {},
     "output_type": "execute_result"
    }
   ],
   "source": [
    "# get the coefficiets\n",
    "model_poly3.coef_"
   ]
  },
  {
   "cell_type": "code",
   "execution_count": 138,
   "metadata": {},
   "outputs": [
    {
     "data": {
      "text/plain": [
       "array([14.35877751])"
      ]
     },
     "execution_count": 138,
     "metadata": {},
     "output_type": "execute_result"
    }
   ],
   "source": [
    "# get the intercept\n",
    "model_poly3.intercept_"
   ]
  },
  {
   "cell_type": "code",
   "execution_count": 139,
   "metadata": {},
   "outputs": [
    {
     "data": {
      "image/png": "[encoded data removed]",
      "text/plain": [
       "<Figure size 1008x576 with 1 Axes>"
      ]
     },
     "metadata": {},
     "output_type": "display_data"
    }
   ],
   "source": [
    "plt.title('Comparing actual data to predicted data')\n",
    "plt.plot(X_test, y_test, 'x', label=\"true values\")\n",
    "plt.plot(X_test, poly3_predictions, 'kx', label=\"predicted values\")\n",
    "plt.legend()\n",
    "\n",
    "plt.show()"
   ]
  },
  {
   "cell_type": "markdown",
   "metadata": {},
   "source": [
    "### Evaluate the model"
   ]
  },
  {
   "cell_type": "markdown",
   "metadata": {},
   "source": [
    "- [sklearn.metrics.r2_score](https://scikit-learn.org/stable/modules/generated/sklearn.metrics.r2_score.html)\n",
    "The coefficient of determination $R^2$ is the proportion of the variance in the dependent variable that is predictable from the independent variable(s).\n",
    "\n",
    "The model can be evaluated using the mean squared error. It calculates the average distance our data points are from the model.  \n",
    "The mean squared error could be further lowered by adding extra polynomials to the model. However you are then in danger of overfitting the model where the model will fail to recognise the general trend. The simple linear model cleared underfit the data. The seaborn regression plots with a 4th order polynomial earlier did show a slightly better fit for speed values under 5 metres per second whereas the 3rd order polynomial is underpredicting and overfitting for sections of the curve. However it does not seem to be a huge improvement so I will leave the regression as is and move on.\n",
    "The root mean squared error is the square root of the average of squared differences between prediction and actual observation.  It is a standard way to measure the error of a model in predicting quantitative data."
   ]
  },
  {
   "cell_type": "code",
   "execution_count": 140,
   "metadata": {},
   "outputs": [],
   "source": [
    "from sklearn.metrics import mean_squared_error, r2_score"
   ]
  },
  {
   "cell_type": "code",
   "execution_count": 141,
   "metadata": {},
   "outputs": [
    {
     "name": "stdout",
     "output_type": "stream",
     "text": [
      "Coefficients: \n",
      " [[-9.69965794  1.49732    -0.03967732]]\n"
     ]
    }
   ],
   "source": [
    "# The coefficients\n",
    "print('Coefficients: \\n', model_poly3.coef_)"
   ]
  },
  {
   "cell_type": "code",
   "execution_count": 142,
   "metadata": {},
   "outputs": [
    {
     "name": "stdout",
     "output_type": "stream",
     "text": [
      "Mean squared error: 33.32\n",
      "Coefficient of determination: 0.98\n",
      "Root Mean Squared Error: 5.77\n"
     ]
    }
   ],
   "source": [
    "print('Mean squared error: %.2f' % mean_squared_error(y_test,poly3_predictions ))\n",
    "# The coefficient of determination: 1 is perfect prediction\n",
    "print('Coefficient of determination: %.2f' % r2_score(y_test, poly3_predictions))\n",
    "print('Root Mean Squared Error: %.2f' % np.sqrt(mean_squared_error(y_test,poly3_predictions )))"
   ]
  },
  {
   "cell_type": "code",
   "execution_count": 143,
   "metadata": {},
   "outputs": [
    {
     "data": {
      "text/plain": [
       "array([[101.8750371]])"
      ]
     },
     "execution_count": 143,
     "metadata": {},
     "output_type": "execute_result"
    }
   ],
   "source": [
    "# Predicting a new result with Polymonial Regression\n",
    "# need to transform the data to be predicted\n",
    "model_poly3.predict(poly.fit_transform([[20]]))"
   ]
  },
  {
   "cell_type": "code",
   "execution_count": 144,
   "metadata": {},
   "outputs": [
    {
     "data": {
      "text/plain": [
       "array([[92.74766278]])"
      ]
     },
     "execution_count": 144,
     "metadata": {},
     "output_type": "execute_result"
    }
   ],
   "source": [
    "# Predicting a new result with Polymonial Regression\n",
    "model_poly3.predict(poly.fit_transform([[24.4]]))"
   ]
  },
  {
   "cell_type": "code",
   "execution_count": 145,
   "metadata": {},
   "outputs": [
    {
     "data": {
      "text/plain": [
       "array([[14.35877751]])"
      ]
     },
     "execution_count": 145,
     "metadata": {},
     "output_type": "execute_result"
    }
   ],
   "source": [
    "# Predicting a new result with Polymonial Regression\n",
    "model_poly3.predict(poly.fit_transform([[0]]))"
   ]
  },
  {
   "cell_type": "markdown",
   "metadata": {},
   "source": [
    "### Save the model for use in the Web application"
   ]
  },
  {
   "cell_type": "code",
   "execution_count": 146,
   "metadata": {},
   "outputs": [
    {
     "data": {
      "text/plain": [
       "array([[-2.33560405]])"
      ]
     },
     "execution_count": 146,
     "metadata": {},
     "output_type": "execute_result"
    }
   ],
   "source": [
    "# Predicting a new result with Polymonial Regression\n",
    "model_poly3.predict(poly.fit_transform([[3]]))"
   ]
  },
  {
   "cell_type": "code",
   "execution_count": 147,
   "metadata": {},
   "outputs": [
    {
     "data": {
      "text/plain": [
       "['model_poly3.joblib']"
      ]
     },
     "execution_count": 147,
     "metadata": {},
     "output_type": "execute_result"
    }
   ],
   "source": [
    "from joblib import dump, load\n",
    "dump(model_poly3, 'model_poly3.joblib') "
   ]
  },
  {
   "cell_type": "code",
   "execution_count": 152,
   "metadata": {},
   "outputs": [
    {
     "data": {
      "text/plain": [
       "['model_poly3.pkl']"
      ]
     },
     "execution_count": 152,
     "metadata": {},
     "output_type": "execute_result"
    }
   ],
   "source": [
    "dump(model_poly3, 'model_poly3.pkl') "
   ]
  },
  {
   "cell_type": "code",
   "execution_count": null,
   "metadata": {},
   "outputs": [],
   "source": []
  },
  {
   "cell_type": "markdown",
   "metadata": {},
   "source": [
    "### Trying to get the right input for predicting in the web app\n",
    "It seems I have 4 coefficients instead of 3 which I think includes a constant 1. See how to exclude this\n",
    "\n",
    "https://scikit-learn.org/stable/modules/generated/sklearn.preprocessing.PolynomialFeatures.html\n",
    "\n",
    "Generate a new feature matrix consisting of all polynomial combinations of the features with degree less than or equal to the specified degree. For example, if an input sample is two dimensional and of the form [a, b], the degree-2 polynomial features are [1, a, b, a^2, ab, b^2].\n",
    "So I will redo and exclude the bias term. set it to false."
   ]
  },
  {
   "cell_type": "code",
   "execution_count": 153,
   "metadata": {},
   "outputs": [
    {
     "data": {
      "text/plain": [
       "array([[  12.,  144., 1728.]])"
      ]
     },
     "execution_count": 153,
     "metadata": {},
     "output_type": "execute_result"
    }
   ],
   "source": [
    "wind12 = poly.fit_transform([[12]])\n",
    "wind12"
   ]
  },
  {
   "cell_type": "code",
   "execution_count": 154,
   "metadata": {},
   "outputs": [
    {
     "data": {
      "text/plain": [
       "array([[45.01454843]])"
      ]
     },
     "execution_count": 154,
     "metadata": {},
     "output_type": "execute_result"
    }
   ],
   "source": [
    "model_poly3.predict(wind12)"
   ]
  },
  {
   "cell_type": "code",
   "execution_count": 155,
   "metadata": {},
   "outputs": [],
   "source": [
    "win12 = [[12, 12**2, 12**3]]\n",
    "win12 =np.array(win12)"
   ]
  },
  {
   "cell_type": "code",
   "execution_count": 151,
   "metadata": {},
   "outputs": [
    {
     "data": {
      "text/plain": [
       "array([[45.01454843]])"
      ]
     },
     "execution_count": 151,
     "metadata": {},
     "output_type": "execute_result"
    }
   ],
   "source": [
    "model_poly3.predict(win12)"
   ]
  },
  {
   "cell_type": "code",
   "execution_count": 156,
   "metadata": {},
   "outputs": [
    {
     "data": {
      "text/plain": [
       "array([[-2.33560405]])"
      ]
     },
     "execution_count": 156,
     "metadata": {},
     "output_type": "execute_result"
    }
   ],
   "source": [
    "wind3 = [[3, 3**2, 3**3]]\n",
    "wind3 = np.array(wind3)\n",
    "model_poly3.predict(wind3)"
   ]
  },
  {
   "cell_type": "markdown",
   "metadata": {},
   "source": [
    "The polynomial curve does quite a good job but similarly to the MLP below, it predicts power values for values over 24.4 which is the cut-off range. \n",
    "Also the transformation has to be taken into account when taking in new values from the end user."
   ]
  },
  {
   "cell_type": "code",
   "execution_count": null,
   "metadata": {},
   "outputs": [],
   "source": []
  },
  {
   "cell_type": "markdown",
   "metadata": {},
   "source": [
    "Machine learning is the science of getting computers to act without being explicitly programmed.\n",
    "- https://www.investopedia.com/terms/n/neuralnetwork.asp#:~:text=A%20neural%20network%20is%20a,organic%20or%20artificial%20in%20nature.\n",
    "- https://en.wikipedia.org/wiki/Artificial_neural_network\n",
    "\n",
    "- https://news.mit.edu/2017/explained-neural-networks-deep-learning-0414\n",
    "\n",
    ">Neural nets are a means of doing machine learning, in which a computer learns to perform some task by analyzing training examples.\n",
    ">Modeled loosely on the human brain, a neural net consists of thousands or even millions of simple processing nodes that are densely interconnected. Most of today’s neural nets are organized into layers of nodes, and they’re “feed-forward,” meaning that data moves through them in only one direction. An individual node might be connected to several nodes in the layer beneath it, from which it receives data, and several nodes in the layer above it, to which it sends data.\n",
    ">To each of its incoming connections, a node will assign a number known as a “weight.” When the network is active, the node receives a different data item — a different number — over each of its connections and multiplies it by the associated weight. It then adds the resulting products together, yielding a single number. If that number is below a threshold value, the node passes no data to the next layer. If the number exceeds the threshold value, the node “fires,” which in today’s neural nets generally means sending the number — the sum of the weighted inputs — along all its outgoing connections.\n",
    "When a neural net is being trained, all of its weights and thresholds are initially set to random values. Training data is fed to the bottom layer — the input layer — and it passes through the succeeding layers, getting multiplied and added together in complex ways, until it finally arrives, radically transformed, at the output layer. During training, the weights and thresholds are continually adjusted until training data with the same labels consistently yield similar outputs.\n",
    "[Mit News](https://news.mit.edu/2017/explained-neural-networks-deep-learning-0414)[nn1]"
   ]
  },
  {
   "cell_type": "markdown",
   "metadata": {},
   "source": [
    "## Machine Learning - Neural Networks\n",
    "\n",
    "Some notes from the lectures:\n",
    "A dataset contains variables, some inputs and outputs. Categorical data, text and image data must first be encoded into floating point numbers. Outputs can be reverse decoded later. Weights are applied to each connection between layers, low weights near 0 meaning that the route is not important while higher values mean this route is important. \n",
    "Some of the dataset can be held back for testing. \n",
    "Neural networks have several layers. The input layer is really a non-layer of neurons with just the inputs. You just provide the input layer to the neural network and this is really the only place the input comes into it.\n",
    "\n",
    "The hidden layers and output layers have proper neurons.\n",
    "The weights and bias are the paramters of the model, you can tweak them to get the neural network to perform better. Often the initial weights might be set to small random values between 0 and 1. \n",
    "Neural networks cares more about the connections between the nodes than the actual nodes themselves. Looks at the signal times the weights for each of the inputs. `w * x` for each input. \n",
    "\n",
    "The bias significes how important something is and is just a number on top of weight times input for each neuron. \n",
    "With neural networks you want to get a high value assigned to the correct output. If the neural network misclassifies an output label then you just feed it back into the algorithm, the weights are changed a little so that the correct output is predicted the next time. It will keep changing until it gets the correct output. \n",
    "Starts out with random values for the weights. These are updated slowly over time to get towards the expected output.\n",
    "\n",
    "Gradient descent is the algorithm through which the weights are updated. Stochastic gradient descent (`sgd`).\n",
    "Each output from each neuron is the same but when the different weights are applied, what is received by the nodes in the next layer are different to what left the nodes on the previous layer.\n",
    "The loss is the cost function, often the MSE mean squared error.\n",
    "\n",
    "A linear function y = x is just a simple function where you give it a single input and expect the same output.\n",
    "\n",
    "Once the neural network is trained and is stable, you can then take a new input, a new datapoint it was not trained on and the neural network should correctly classify it.\n",
    "the complexity in neural networks comes from the number of operations involved especially when there are many layers.\n",
    "\n",
    "---\n",
    "\n",
    "https://machinelearningmastery.com/tensorflow-tutorial-deep-learning-with-tf-keras/\n",
    "Taking notes from another machine learning mastery tutorial.\n",
    "\n",
    "### The 5-step Deep Learning Model Life-Cycle\n",
    "A model has a life-cycle with 5 steps:\n",
    "1. Define the model: \n",
    "Select the type of model and choose the architecture or network topology. Define the number of layers, configure each layer with a number of nodes and activation function, connect the layers together into a cohesive model.\n",
    "\n",
    "2. Compile the model\n",
    "\n",
    "    * This requires selecting a **loss function** that you want to optimise such as mean squared error and to select an algorithm to perform the **optimisation** procedure such as stochastic gradient descent or a modern variation of this called Adam. Also you can select the **performance metrics**  to keep track of during the model training process.\n",
    "    * Call a function to compile the model with the selected configuration to prepare the appropriate data structures required for the efficient use of the selected model. \n",
    "    * The optimizer can be specified as a string for a known optimizer class such as `sgd` for stochastic gradient descent or else you can configure an instance of the optimizer class to use. See [optimizer classes](https://www.tensorflow.org/api_docs/python/tf/keras/optimizers).\n",
    "\n",
    "    * `sgd` - Gradient descent (with momentum) optimizer. The default learning rate is 0.01\n",
    "    The update rule is ` w = w - learning_rate * g` for parameter `w` with  gradient `g` when momentum is 0.\n",
    "    * \n",
    "\n",
    "    *Adam optimization is a stochastic gradient descent method that is based on adaptive estimation of first-order and second-order moments.* [Tensorflow](https://www.tensorflow.org/api_docs/python/tf/keras/optimizers/Adam]\n",
    "    *  The `learning_rate` defaults to 0.001 in the Adam optimizer. \n",
    "\n",
    "    - Loss Functions: class MeanSquaredError: Computes the mean of squares of errors between labels and predictions.\n",
    "    The mean squared error is the one I will be using. There are many more listed in the [keras losses](https://www.tensorflow.org/api_docs/python/tf/keras/losses) documentation.\n",
    "    \n",
    "    * Metrics to evaluate predictions such as `Accuracy`  which calculates how often predictions equal labels, `AUC` computes the approximate area under the curve,  `FalseNegatives` which calculates the number of false negatives and `FalsePositives` calculates the number of false positives, `Precision` computes the precision of the predictions with respect to the labels. \n",
    "    There are many more [metrics](https://www.tensorflow.org/api_docs/python/tf/keras/metrics) which I will come back when I get to that point...\n",
    "\n",
    "3. Fit the model\n",
    "\n",
    "To fit the model you need to select the training configuration such as the number of epochs which are loops through the training dataset. The batch size is the number of samples in an epoch used to estimate model error.\n",
    "(By passing in say 10 at a time instead of 1 at a time can have a smoothing effect)\n",
    "\n",
    "Training applies the chosen optimization algorithm to minimize the chosen loss function and updates the model using the backpropagation of error algorithm. This can be slow depending on the complexity of the model, the size of the training dataset and the hardware being used.\n",
    "\n",
    "There is another machine learning article here on [the importance of batch sizes](https://machinelearningmastery.com/how-to-control-the-speed-and-stability-of-training-neural-networks-with-gradient-descent-batch-size/)\n",
    "\n",
    "\n",
    "\n",
    "4. Evaluate the model\n",
    "\n",
    "This is where the holdout dataset comes into play, data that is not used in the training of the model so you can get an unbiased estimate of the performance of the model when making predictions on new data.\n",
    "\n",
    "5. Make predictions\n",
    "This is the final stage of the life cycle where you take values that you don't have target values and make a prediction.\n",
    "\n",
    "### Sequential model\n",
    "A **sequential** model adds layers to the model one by one in a linear manner, from input to output.\n",
    "    The visible layer of the network is defined by the input shape argument on the first hidden layer. In the wind dataset this will be `(1,)` - the model will expect the input for one sample to be a vector of 1 number.\n",
    "`model.add()` is used to add each layer.\n",
    "\n",
    "There is also a functional model which is more complex but more flexible. It involves explicitly connecting the output of one layer to the input of another layer. Each connection is specified. I will be using the sequential model for this project.\n",
    "\n",
    "###  Develop Multilayer Perceptron Models\n",
    "\n",
    "A Multilayer Perceptron model (MLP) is a standard fully connected neural network model. It is made up of one or more (dense) layers of nodes where each node is connected to all outputs from the previous layer and the output of each node is connected to all the inputs for the nodes in the next layer. This model is suitable for tabular data and can be used for three predictive modeling problems being binary classification, multiclass classification, and regression. \n",
    "The tutorial demostrates using MLP for each of the three predictive modeling problems.\n",
    "\n"
   ]
  },
  {
   "cell_type": "markdown",
   "metadata": {},
   "source": [
    "### Train a model\n",
    "\n",
    "- A **layer** is a simple input-output transformation.\n",
    "- A **model** is a directed acyclic graph of layers. It is like a bigger layer consisting of many sub-layers that can be trained via exposure to data.\n",
    "- Define the input layer, then chain layer transformations on top of the inputs until the final output.\n",
    "- Once the layers have been defined that turn the inputs into outputs, instantiate a `model` object.\n",
    "- A Sequential model is created by passing  a list of layers to the Sequential constructor\n",
    "    `model = keras.Sequential` or by incrementally adding the layers using the `add()` method.\n",
    "- All layers in Keras need to know the shape of their inputs in order to be able to create weights.\n",
    "The shape of the weights depends on the shape of their inputs.\n",
    "- The `Input` object is not a layer. Pass the input_shape() argument to the first layer.\n",
    "- Specify an optimizer and an a loss function using the `compile()` step.\n",
    "- Once the model has been compiled, fit the model to the data using `fit()`.\n",
    "- Two parameters need to be specified alongside the data, the `batch_size`  and the number of `epochs` (iterations on the data).\n",
    "- The `fit` call returns a history object which records what happens over the course of the training.\n",
    "- The `history.history` dict contains per-epoch timeseries of metrics values.\n",
    "- Validation data can be passed to `fit()` to monitor the validation loss & validation metrics which get reported at the end of each epoch.\n",
    "- After `fit()` you can evaluate the performance and generate predictions on new data using `evaluate()`.\n",
    "`loss, acc = model.evaluate(val_dataset)`\n",
    "`print(\"loss: %.2f\" % loss)\n",
    "print(\"acc: %.2f\" % acc)`\n",
    "- Generate numPy arrays of predictions using `predict()`.\n",
    "predictions = model.predict(val_dataset)\n",
    "\n",
    "When passing data to the built-in training loops of a model, NumPy arrays can be used if the data is small and fits in memory or `tf.data.Dataset` objects. The dataset here is only 500 rows."
   ]
  },
  {
   "cell_type": "markdown",
   "metadata": {},
   "source": [
    "\n",
    "https://machinelearningmastery.com/tutorial-first-neural-network-python-keras/ demonstrates a fully connected network structure with three layers.\n",
    "\n",
    "Create a Sequential Model and  add layers one at a time until happy with the network architecture. A sequential neural network is built up in sequential layers.\n",
    "\n",
    "The first thing is to ensure the input layer has the right number of input features. You provide the input layer to the model\n",
    "The dataset here has only a single input feature which is wind speed. How to determine the correct number of layers to use? According to the tutorial its a matter of trial and error really. Generally you need a network large enough to capture the structure of the problem.\n",
    "\n",
    "Fully connected layers are defined using the `Dense` class.  Dense refers to the layer being densely connected to the previous layer. Every node in the previous layer is connected to everything in the current layer.\n",
    "\n",
    "\n",
    "The number of neurons or nodes in the layer as the first argument and specify the activation function using the `activation` argument. The demo uses the `rectified linear unit` activation function referred to as ReLU on the first two layers and the Sigmoid function in the output layer. As far as I recall Ian recommended using just the Sigmoid activation function. According to the tutorial, Sigmoid and Tanh activation functions were the preferred choice  for all layers before but that these days better performance is achieved using the ReLU activation function. I can try one or the other.  A `Sigmoid` layer is used on the outer layer to ensure the network output is between 0 and 1. (This problem though is not looking to classify the data into one of two classes.).\n",
    "The input shape is 1 as there is only 1 input variable. (input_dim=1 or input_shape=(1,))\n",
    "The shape of the input to the model is defined as an argument on the first hidden layer. The first line of code that adds the first Dense layer does 2 things, defines the input or visible layer and the first hidden layer.\n",
    "\n",
    "#### compile\n",
    "Once the model is defined, it can be compiled or built. We specify the learning rate and the loss function which we want to minimise.\n",
    "\n",
    "When compiling, some additional properties are required when training the network. Training a network means finding the best set of weights to map inputs to outputs in our dataset. The loss function must be specified\n",
    ">We must specify the loss function to use to evaluate a set of weights, the optimizer is used to search through different weights for the network and any optional metrics we would like to collect and report during training.\n",
    "\n",
    "The tutorial uses cross entrophy as the loss argument as it is looking at a binary classification problem. We are to stick with mean squared error I think.\n",
    ">The optimizer is defined below as the efficient stochastic gradient descent algorithm “adam“. This is a popular version of gradient descent because it automatically tunes itself and gives good results in a wide range of problems."
   ]
  },
  {
   "cell_type": "markdown",
   "metadata": {},
   "source": [
    "https://medium.com/the-theory-of-everything/understanding-activation-functions-in-neural-networks-9491262884e0\n",
    "Here I am reading through the article referenced, making notes and some paraphrasing. I will reference properly later.\n",
    "\n",
    "An artificial neuron calculates a weighted sum of its input, adds a bias and then decides whether it should be fired or not. $ Y = \\sum{(\\text{weight} * \\text{input})} + \\text{bias}$\n",
    "The value of Y can be anything from -infinity to + infinity. The neuron does not really know the bounds of the value. So how do we decide whether the neuron should fire or not? This is where the activation functions come in. The activation function will check the Y value produced by the neuron and decide whether outside connections should consider this neuron as activated (fired) or not.\n",
    "\n",
    "Consider a threshold based activation function. If the value of Y is above a certain value then it could declare it as activated, otherwise not. In this case the output is 1 (activated) when the value is greater than than the threshold and 0 otherwise. This is a step function. There are drawbacks to using this method as an activation function for neural networks though when the response is not a binary yes or no.\n",
    "\n",
    "A linear activation function A = cx is a straight line function where activation is proportional to input ( which is the weighted sum from neuron ). In this way it will give a range of activations rather than just binary activations. We can connect some neurons and if more than one fire then we could take the max and decide based on that.\n",
    "\n",
    "The derivative w.r.x is c which means that the gradient has no relationship with X. The descent is going to be on a constant gradient. If there is an error in prediction the changes made by back propagation is constant and not depending on the change in input delta(x).\n",
    "Another problem concerns the connected layers where each layer is activated by a linear function. \n",
    "That activation in turn goes into the next level as input and the second layer calculates weighted sum on that input and it in turn, fires based on another linear activation function.\n",
    "No matter how many layers we have, if all are linear in nature, the final activation function of last layer is nothing but just a linear function of the input of first layer. Therefore two or more layers can be replaced by a single layer. The whole network then is equivalent to  a single layer with linear activation.\n",
    "\n",
    "Thw sigmoid function is smooth and looks somewhat like a step function. It is nonlinear in nature and therefore combinations of layers are also non-linear which means that layers can be stacked. It will also give non binary activations unlike the step function. It has a smooth gradient.\n",
    "\n",
    "Between X values -2 to 2, the Y values are very steep.This means that any small changes in the values of X in that region will cause values of Y to change significantly.This means this function has a tendency to bring the Y values to either end of the curve.\n",
    "It tends to bring the activations to either side of the curve making clear distinctions on prediction. Another advantage over linear function is that the output of the activation function is always going to be in range (0,1) compared to (-inf, inf) of linear function and therefore the activations are bound in a range. \n",
    "Sigmoid functions are one of the most widely used activation functions today. The problems with them is that towards either end of the sigmoid function, the Y values tend to respond very less to changes in X. This means that the gradient at that region is going to be small. It gives rise to a problem of “vanishing gradients”. When the activations reach near the “near-horizontal” part of the curve on either sides, the gradient is small or has vanished ( cannot make significant change because of the extremely small value ). The network refuses to learn further or is drastically slow ( depending on use case and until gradient /computation gets hit by floating point value limits ). There are ways to work around this problem and sigmoid is still very popular in classification problems.\n",
    "The article also looked at the Tanh activation functions which is a scaled sigmoid function and the ReLu function which gives an output x if x is positive and 0 otherwise. These are both non-linear functions.\n",
    "\n",
    "The article finishes by suggesting how to choose the correct activation function. \n",
    "When you know the function you are trying to approximate has certain characteristics, you can choose an activation function which will approximate the function faster leading to faster training process. For example, a sigmoid works well for a classifier "
   ]
  },
  {
   "cell_type": "markdown",
   "metadata": {},
   "source": [
    "### Import required packages"
   ]
  },
  {
   "cell_type": "code",
   "execution_count": 198,
   "metadata": {},
   "outputs": [
    {
     "name": "stdout",
     "output_type": "stream",
     "text": [
      "2.4.0\n"
     ]
    }
   ],
   "source": [
    "# Neural networks.\n",
    "import tensorflow.keras as kr\n",
    "print(kr.__version__)\n",
    "\n",
    "# Numerical arrays\n",
    "import numpy as np\n",
    "\n",
    "# Data frames.\n",
    "import pandas as pd\n",
    "\n",
    "# Plotting\n",
    "import matplotlib.pyplot as plt\n",
    "# splitting the data into training and test \n",
    "from sklearn.model_selection import train_test_split\n",
    "\n"
   ]
  },
  {
   "cell_type": "markdown",
   "metadata": {},
   "source": [
    "### The data:"
   ]
  },
  {
   "cell_type": "code",
   "execution_count": 160,
   "metadata": {},
   "outputs": [],
   "source": [
    "# mlp for regression\n",
    "\n",
    "from pandas import read_csv\n",
    "# https://scikit-learn.org/stable/modules/generated/sklearn.model_selection.train_test_split.html#sklearn.model_selection.train_test_split\n",
    "from sklearn.model_selection import train_test_split\n",
    "from tensorflow.keras import Sequential\n",
    "from tensorflow.keras.layers import Dense\n",
    "path = 'https://raw.githubusercontent.com/ianmcloughlin/2020A-machstat-project/master/dataset/powerproduction.csv'\n",
    "data = dfx"
   ]
  },
  {
   "cell_type": "code",
   "execution_count": 89,
   "metadata": {},
   "outputs": [],
   "source": [
    "# already done this in dfx\n",
    "# drop some of the outliers\n",
    "#df.drop(df.loc[(df.speed>24.4)].index, inplace=True)"
   ]
  },
  {
   "cell_type": "code",
   "execution_count": 90,
   "metadata": {},
   "outputs": [
    {
     "data": {
      "text/html": [
       "<div>\n",
       "<style scoped>\n",
       "    .dataframe tbody tr th:only-of-type {\n",
       "        vertical-align: middle;\n",
       "    }\n",
       "\n",
       "    .dataframe tbody tr th {\n",
       "        vertical-align: top;\n",
       "    }\n",
       "\n",
       "    .dataframe thead th {\n",
       "        text-align: right;\n",
       "    }\n",
       "</style>\n",
       "<table border=\"1\" class=\"dataframe\">\n",
       "  <thead>\n",
       "    <tr style=\"text-align: right;\">\n",
       "      <th></th>\n",
       "      <th>speed</th>\n",
       "      <th>power</th>\n",
       "    </tr>\n",
       "  </thead>\n",
       "  <tbody>\n",
       "    <tr>\n",
       "      <th>count</th>\n",
       "      <td>475.000000</td>\n",
       "      <td>475.000000</td>\n",
       "    </tr>\n",
       "    <tr>\n",
       "      <th>mean</th>\n",
       "      <td>12.440971</td>\n",
       "      <td>50.541667</td>\n",
       "    </tr>\n",
       "    <tr>\n",
       "      <th>std</th>\n",
       "      <td>7.101231</td>\n",
       "      <td>41.171815</td>\n",
       "    </tr>\n",
       "    <tr>\n",
       "      <th>min</th>\n",
       "      <td>0.000000</td>\n",
       "      <td>0.000000</td>\n",
       "    </tr>\n",
       "    <tr>\n",
       "      <th>25%</th>\n",
       "      <td>6.293500</td>\n",
       "      <td>6.737500</td>\n",
       "    </tr>\n",
       "    <tr>\n",
       "      <th>50%</th>\n",
       "      <td>12.538000</td>\n",
       "      <td>47.282000</td>\n",
       "    </tr>\n",
       "    <tr>\n",
       "      <th>75%</th>\n",
       "      <td>18.531500</td>\n",
       "      <td>94.017500</td>\n",
       "    </tr>\n",
       "    <tr>\n",
       "      <th>max</th>\n",
       "      <td>24.399000</td>\n",
       "      <td>113.556000</td>\n",
       "    </tr>\n",
       "  </tbody>\n",
       "</table>\n",
       "</div>"
      ],
      "text/plain": [
       "            speed       power\n",
       "count  475.000000  475.000000\n",
       "mean    12.440971   50.541667\n",
       "std      7.101231   41.171815\n",
       "min      0.000000    0.000000\n",
       "25%      6.293500    6.737500\n",
       "50%     12.538000   47.282000\n",
       "75%     18.531500   94.017500\n",
       "max     24.399000  113.556000"
      ]
     },
     "execution_count": 90,
     "metadata": {},
     "output_type": "execute_result"
    }
   ],
   "source": [
    "dfx.describe()"
   ]
  },
  {
   "cell_type": "markdown",
   "metadata": {},
   "source": [
    "### The data split into training and test sets\n",
    "\n",
    "- df is the original dataset with all 500 datapoints,\n",
    "- dfx is another copy where I dropped some of the the rows with zero power when the speed is over a certain value.\n",
    "The ideal machine-learning model is end to end and therefore the preprocessing should be part of the model as much as possible to make the model portable for production.\n",
    "I don't see anything in the Keras documentation for splitting dataset into training and test sets so I will use scikit-learn. This should not make any difference as it is only to split the data. However I initially followed some tutorials that used scikit-learn for scaling or normalising data and now I see that this will be a problem on the web app as the data taken in would have to have the scaling or normalisation applied as the training data. Keras does have some preprocessing layers including the `Normalization` layer for feature normalization.\n",
    "The model I used first below was a multi perceptron neural network on the unscaled data. The predictions were not bad. I then used the `preprocessing.MinMaxScaler()` from scikit-learn below but I am going to use the Normalization layer from tensorflow.keras\n",
    "from tensorflow.keras.layers.experimental.preprocessing import Normalization"
   ]
  },
  {
   "cell_type": "code",
   "execution_count": 47,
   "metadata": {},
   "outputs": [
    {
     "data": {
      "text/plain": [
       "(475, 2)"
      ]
     },
     "execution_count": 47,
     "metadata": {},
     "output_type": "execute_result"
    }
   ],
   "source": [
    "dfx.values.shape"
   ]
  },
  {
   "cell_type": "markdown",
   "metadata": {},
   "source": [
    "### First without normalisation\n",
    "Here the dataset has been split into a training and test set of input and output variables."
   ]
  },
  {
   "cell_type": "code",
   "execution_count": 199,
   "metadata": {},
   "outputs": [
    {
     "name": "stdout",
     "output_type": "stream",
     "text": [
      "(356, 1) (119, 1) (356, 1) (119, 1)\n"
     ]
    }
   ],
   "source": [
    "\n",
    "# split into input and output columns\n",
    "\n",
    "X, y = dfx.values[:, :-1], dfx.values[:, -1:]\n",
    "# split into train and test datasets\n",
    "X_train, X_test, y_train, y_test = train_test_split(X, y, test_size=0.25, random_state=0)\n",
    "print(X_train.shape, X_test.shape, y_train.shape, y_test.shape)\n",
    "# determine the number of input features\n",
    "n_features = X_train.shape[1]"
   ]
  },
  {
   "cell_type": "code",
   "execution_count": 200,
   "metadata": {},
   "outputs": [],
   "source": [
    "# Train a model\n",
    "model = kr.models.Sequential()\n",
    "model.add(kr.layers.Dense(60, input_shape=(1,), activation='sigmoid', kernel_initializer=\"glorot_uniform\", bias_initializer=\"glorot_uniform\"))\n",
    "#model.add(kr.layers.BatchNormalization())\n",
    "model.add(kr.layers.Dense(1, activation='linear', kernel_initializer=\"glorot_uniform\", bias_initializer=\"glorot_uniform\"))"
   ]
  },
  {
   "cell_type": "markdown",
   "metadata": {},
   "source": [
    "### Compile the model"
   ]
  },
  {
   "cell_type": "code",
   "execution_count": 201,
   "metadata": {},
   "outputs": [
    {
     "name": "stdout",
     "output_type": "stream",
     "text": [
      "Model: \"sequential\"\n",
      "_________________________________________________________________\n",
      "Layer (type)                 Output Shape              Param #   \n",
      "=================================================================\n",
      "dense (Dense)                (None, 60)                120       \n",
      "_________________________________________________________________\n",
      "dense_1 (Dense)              (None, 1)                 61        \n",
      "=================================================================\n",
      "Total params: 181\n",
      "Trainable params: 181\n",
      "Non-trainable params: 0\n",
      "_________________________________________________________________\n"
     ]
    }
   ],
   "source": [
    "# \n",
    "model.compile(kr.optimizers.Adam(lr=0.001), loss='mean_squared_error')\n",
    "model.summary()"
   ]
  },
  {
   "cell_type": "markdown",
   "metadata": {},
   "source": [
    "The first dense layer has 100 parameters consisting of 60 neurons and 60 bias terms while the second dense layer is the output layer which has only one neuron with 1 bias and 60 inputs from the previous layer. "
   ]
  },
  {
   "cell_type": "markdown",
   "metadata": {},
   "source": [
    "#### Train the model on the data\n",
    "Following the machine mastery tutorial, I have added in the validation data."
   ]
  },
  {
   "cell_type": "code",
   "execution_count": 202,
   "metadata": {},
   "outputs": [
    {
     "name": "stdout",
     "output_type": "stream",
     "text": [
      "Epoch 1/500\n",
      "36/36 [==============================] - 0s 4ms/step - loss: 4294.2529 - val_loss: 4528.9326\n",
      "Epoch 2/500\n",
      "36/36 [==============================] - 0s 2ms/step - loss: 4119.2817 - val_loss: 4335.1411\n",
      "Epoch 3/500\n",
      "36/36 [==============================] - 0s 2ms/step - loss: 3924.0884 - val_loss: 4100.4028\n",
      "Epoch 4/500\n",
      "36/36 [==============================] - 0s 2ms/step - loss: 3687.3147 - val_loss: 3823.6797\n",
      "Epoch 5/500\n",
      "36/36 [==============================] - 0s 2ms/step - loss: 3431.3928 - val_loss: 3565.0425\n",
      "Epoch 6/500\n",
      "36/36 [==============================] - 0s 2ms/step - loss: 3215.2869 - val_loss: 3356.0125\n",
      "Epoch 7/500\n",
      "36/36 [==============================] - 0s 2ms/step - loss: 3040.9551 - val_loss: 3181.3293\n",
      "Epoch 8/500\n",
      "36/36 [==============================] - 0s 2ms/step - loss: 2892.9316 - val_loss: 3038.8293\n",
      "Epoch 9/500\n",
      "36/36 [==============================] - 0s 2ms/step - loss: 2768.6716 - val_loss: 2909.1125\n",
      "Epoch 10/500\n",
      "36/36 [==============================] - 0s 2ms/step - loss: 2657.5527 - val_loss: 2793.1914\n",
      "Epoch 11/500\n",
      "36/36 [==============================] - 0s 1ms/step - loss: 2557.4243 - val_loss: 2688.2615\n",
      "Epoch 12/500\n",
      "36/36 [==============================] - 0s 2ms/step - loss: 2463.4185 - val_loss: 2587.2983\n",
      "Epoch 13/500\n",
      "36/36 [==============================] - 0s 2ms/step - loss: 2372.1597 - val_loss: 2489.9236\n",
      "Epoch 14/500\n",
      "36/36 [==============================] - 0s 2ms/step - loss: 2285.5320 - val_loss: 2402.1826\n",
      "Epoch 15/500\n",
      "36/36 [==============================] - 0s 2ms/step - loss: 2206.6692 - val_loss: 2313.8220\n",
      "Epoch 16/500\n",
      "36/36 [==============================] - 0s 2ms/step - loss: 2130.7200 - val_loss: 2235.6841\n",
      "Epoch 17/500\n",
      "36/36 [==============================] - 0s 2ms/step - loss: 2060.9302 - val_loss: 2159.4146\n",
      "Epoch 18/500\n",
      "36/36 [==============================] - 0s 2ms/step - loss: 1995.2432 - val_loss: 2084.6230\n",
      "Epoch 19/500\n",
      "36/36 [==============================] - 0s 2ms/step - loss: 1929.3873 - val_loss: 2016.5713\n",
      "Epoch 20/500\n",
      "36/36 [==============================] - 0s 2ms/step - loss: 1867.5328 - val_loss: 1949.4772\n",
      "Epoch 21/500\n",
      "36/36 [==============================] - 0s 2ms/step - loss: 1808.2340 - val_loss: 1883.9946\n",
      "Epoch 22/500\n",
      "36/36 [==============================] - 0s 2ms/step - loss: 1751.4948 - val_loss: 1824.9896\n",
      "Epoch 23/500\n",
      "36/36 [==============================] - 0s 2ms/step - loss: 1698.1782 - val_loss: 1766.5900\n",
      "Epoch 24/500\n",
      "36/36 [==============================] - 0s 2ms/step - loss: 1646.4832 - val_loss: 1712.8094\n",
      "Epoch 25/500\n",
      "36/36 [==============================] - 0s 2ms/step - loss: 1597.4078 - val_loss: 1659.7947\n",
      "Epoch 26/500\n",
      "36/36 [==============================] - 0s 2ms/step - loss: 1550.2832 - val_loss: 1610.5610\n",
      "Epoch 27/500\n",
      "36/36 [==============================] - 0s 2ms/step - loss: 1504.6575 - val_loss: 1562.1718\n",
      "Epoch 28/500\n",
      "36/36 [==============================] - 0s 2ms/step - loss: 1460.3738 - val_loss: 1514.0193\n",
      "Epoch 29/500\n",
      "36/36 [==============================] - 0s 2ms/step - loss: 1416.9370 - val_loss: 1468.1764\n",
      "Epoch 30/500\n",
      "36/36 [==============================] - 0s 2ms/step - loss: 1375.4436 - val_loss: 1423.6531\n",
      "Epoch 31/500\n",
      "36/36 [==============================] - 0s 2ms/step - loss: 1334.8518 - val_loss: 1380.4526\n",
      "Epoch 32/500\n",
      "36/36 [==============================] - 0s 2ms/step - loss: 1295.7307 - val_loss: 1338.8798\n",
      "Epoch 33/500\n",
      "36/36 [==============================] - 0s 2ms/step - loss: 1257.5201 - val_loss: 1299.2795\n",
      "Epoch 34/500\n",
      "36/36 [==============================] - 0s 2ms/step - loss: 1220.3334 - val_loss: 1258.7772\n",
      "Epoch 35/500\n",
      "36/36 [==============================] - 0s 2ms/step - loss: 1183.9504 - val_loss: 1218.5699\n",
      "Epoch 36/500\n",
      "36/36 [==============================] - 0s 2ms/step - loss: 1146.4489 - val_loss: 1180.7852\n",
      "Epoch 37/500\n",
      "36/36 [==============================] - 0s 2ms/step - loss: 1110.1595 - val_loss: 1142.8197\n",
      "Epoch 38/500\n",
      "36/36 [==============================] - 0s 2ms/step - loss: 1075.7775 - val_loss: 1104.4191\n",
      "Epoch 39/500\n",
      "36/36 [==============================] - 0s 2ms/step - loss: 1041.6440 - val_loss: 1071.6073\n",
      "Epoch 40/500\n",
      "36/36 [==============================] - 0s 2ms/step - loss: 1008.5781 - val_loss: 1035.4741\n",
      "Epoch 41/500\n",
      "36/36 [==============================] - 0s 2ms/step - loss: 976.1623 - val_loss: 1002.5139\n",
      "Epoch 42/500\n",
      "36/36 [==============================] - 0s 2ms/step - loss: 944.7190 - val_loss: 970.4448\n",
      "Epoch 43/500\n",
      "36/36 [==============================] - 0s 2ms/step - loss: 914.4446 - val_loss: 938.3005\n",
      "Epoch 44/500\n",
      "36/36 [==============================] - 0s 2ms/step - loss: 884.8516 - val_loss: 907.8535\n",
      "Epoch 45/500\n",
      "36/36 [==============================] - 0s 2ms/step - loss: 856.5248 - val_loss: 878.8284\n",
      "Epoch 46/500\n",
      "36/36 [==============================] - 0s 2ms/step - loss: 828.6699 - val_loss: 849.0832\n",
      "Epoch 47/500\n",
      "36/36 [==============================] - 0s 2ms/step - loss: 802.7809 - val_loss: 820.7001\n",
      "Epoch 48/500\n",
      "36/36 [==============================] - 0s 2ms/step - loss: 776.0560 - val_loss: 794.2444\n",
      "Epoch 49/500\n",
      "36/36 [==============================] - 0s 2ms/step - loss: 750.2698 - val_loss: 767.9191\n",
      "Epoch 50/500\n",
      "36/36 [==============================] - 0s 2ms/step - loss: 725.8577 - val_loss: 741.9310\n",
      "Epoch 51/500\n",
      "36/36 [==============================] - 0s 2ms/step - loss: 701.6980 - val_loss: 718.3552\n",
      "Epoch 52/500\n",
      "36/36 [==============================] - 0s 2ms/step - loss: 678.1075 - val_loss: 693.7797\n",
      "Epoch 53/500\n",
      "36/36 [==============================] - 0s 2ms/step - loss: 655.9509 - val_loss: 670.4487\n",
      "Epoch 54/500\n",
      "36/36 [==============================] - 0s 2ms/step - loss: 633.7191 - val_loss: 647.7465\n",
      "Epoch 55/500\n",
      "36/36 [==============================] - 0s 2ms/step - loss: 612.5920 - val_loss: 625.6217\n",
      "Epoch 56/500\n",
      "36/36 [==============================] - 0s 2ms/step - loss: 592.2263 - val_loss: 604.4916\n",
      "Epoch 57/500\n",
      "36/36 [==============================] - 0s 2ms/step - loss: 573.0891 - val_loss: 583.7009\n",
      "Epoch 58/500\n",
      "36/36 [==============================] - 0s 2ms/step - loss: 553.5387 - val_loss: 563.9934\n",
      "Epoch 59/500\n",
      "36/36 [==============================] - 0s 2ms/step - loss: 535.4143 - val_loss: 544.4487\n",
      "Epoch 60/500\n",
      "36/36 [==============================] - 0s 2ms/step - loss: 516.4698 - val_loss: 526.4585\n",
      "Epoch 61/500\n",
      "36/36 [==============================] - 0s 2ms/step - loss: 498.9332 - val_loss: 508.9242\n",
      "Epoch 62/500\n",
      "36/36 [==============================] - 0s 2ms/step - loss: 482.0781 - val_loss: 490.6521\n",
      "Epoch 63/500\n",
      "36/36 [==============================] - 0s 2ms/step - loss: 465.6326 - val_loss: 473.7116\n",
      "Epoch 64/500\n",
      "36/36 [==============================] - 0s 2ms/step - loss: 450.5115 - val_loss: 457.6182\n",
      "Epoch 65/500\n",
      "36/36 [==============================] - 0s 2ms/step - loss: 434.7813 - val_loss: 442.1805\n",
      "Epoch 66/500\n",
      "36/36 [==============================] - 0s 2ms/step - loss: 420.5095 - val_loss: 426.6832\n",
      "Epoch 67/500\n",
      "36/36 [==============================] - 0s 2ms/step - loss: 406.3718 - val_loss: 412.1117\n",
      "Epoch 68/500\n",
      "36/36 [==============================] - 0s 2ms/step - loss: 392.5624 - val_loss: 397.8556\n",
      "Epoch 69/500\n",
      "36/36 [==============================] - 0s 2ms/step - loss: 379.8993 - val_loss: 384.3919\n",
      "Epoch 70/500\n",
      "36/36 [==============================] - 0s 2ms/step - loss: 366.5286 - val_loss: 371.4781\n",
      "Epoch 71/500\n",
      "36/36 [==============================] - 0s 2ms/step - loss: 354.8742 - val_loss: 359.1555\n",
      "Epoch 72/500\n",
      "36/36 [==============================] - 0s 2ms/step - loss: 343.1758 - val_loss: 346.9433\n",
      "Epoch 73/500\n",
      "36/36 [==============================] - 0s 2ms/step - loss: 331.7208 - val_loss: 335.2128\n",
      "Epoch 74/500\n",
      "36/36 [==============================] - 0s 2ms/step - loss: 321.1039 - val_loss: 324.1851\n",
      "Epoch 75/500\n",
      "36/36 [==============================] - 0s 2ms/step - loss: 310.8436 - val_loss: 313.1608\n",
      "Epoch 76/500\n",
      "36/36 [==============================] - 0s 2ms/step - loss: 301.2817 - val_loss: 303.0238\n",
      "Epoch 77/500\n",
      "36/36 [==============================] - 0s 2ms/step - loss: 291.0869 - val_loss: 293.3657\n",
      "Epoch 78/500\n",
      "36/36 [==============================] - 0s 2ms/step - loss: 282.2634 - val_loss: 283.4762\n",
      "Epoch 79/500\n"
     ]
    },
    {
     "name": "stdout",
     "output_type": "stream",
     "text": [
      "36/36 [==============================] - 0s 2ms/step - loss: 273.4964 - val_loss: 274.6518\n",
      "Epoch 80/500\n",
      "36/36 [==============================] - 0s 2ms/step - loss: 265.1360 - val_loss: 265.8104\n",
      "Epoch 81/500\n",
      "36/36 [==============================] - 0s 2ms/step - loss: 257.0031 - val_loss: 257.3533\n",
      "Epoch 82/500\n",
      "36/36 [==============================] - 0s 2ms/step - loss: 249.7163 - val_loss: 249.4925\n",
      "Epoch 83/500\n",
      "36/36 [==============================] - 0s 2ms/step - loss: 242.7940 - val_loss: 241.6751\n",
      "Epoch 84/500\n",
      "36/36 [==============================] - 0s 2ms/step - loss: 235.1017 - val_loss: 234.5696\n",
      "Epoch 85/500\n",
      "36/36 [==============================] - 0s 2ms/step - loss: 229.2678 - val_loss: 227.2328\n",
      "Epoch 86/500\n",
      "36/36 [==============================] - 0s 2ms/step - loss: 221.5821 - val_loss: 220.6856\n",
      "Epoch 87/500\n",
      "36/36 [==============================] - 0s 2ms/step - loss: 215.5275 - val_loss: 214.0699\n",
      "Epoch 88/500\n",
      "36/36 [==============================] - 0s 2ms/step - loss: 210.6777 - val_loss: 207.9364\n",
      "Epoch 89/500\n",
      "36/36 [==============================] - 0s 2ms/step - loss: 205.2877 - val_loss: 201.8247\n",
      "Epoch 90/500\n",
      "36/36 [==============================] - 0s 2ms/step - loss: 198.5306 - val_loss: 196.6456\n",
      "Epoch 91/500\n",
      "36/36 [==============================] - 0s 2ms/step - loss: 193.1664 - val_loss: 190.9423\n",
      "Epoch 92/500\n",
      "36/36 [==============================] - 0s 2ms/step - loss: 189.1704 - val_loss: 185.9941\n",
      "Epoch 93/500\n",
      "36/36 [==============================] - 0s 2ms/step - loss: 184.3077 - val_loss: 180.7302\n",
      "Epoch 94/500\n",
      "36/36 [==============================] - 0s 2ms/step - loss: 179.0479 - val_loss: 175.5206\n",
      "Epoch 95/500\n",
      "36/36 [==============================] - 0s 2ms/step - loss: 174.2560 - val_loss: 171.1484\n",
      "Epoch 96/500\n",
      "36/36 [==============================] - 0s 2ms/step - loss: 170.7289 - val_loss: 166.7855\n",
      "Epoch 97/500\n",
      "36/36 [==============================] - 0s 2ms/step - loss: 166.9099 - val_loss: 162.9713\n",
      "Epoch 98/500\n",
      "36/36 [==============================] - 0s 2ms/step - loss: 162.1628 - val_loss: 158.4267\n",
      "Epoch 99/500\n",
      "36/36 [==============================] - 0s 2ms/step - loss: 158.3279 - val_loss: 154.5449\n",
      "Epoch 100/500\n",
      "36/36 [==============================] - 0s 2ms/step - loss: 155.2207 - val_loss: 151.1472\n",
      "Epoch 101/500\n",
      "36/36 [==============================] - 0s 3ms/step - loss: 151.5995 - val_loss: 147.5221\n",
      "Epoch 102/500\n",
      "36/36 [==============================] - 0s 2ms/step - loss: 149.0040 - val_loss: 143.8914\n",
      "Epoch 103/500\n",
      "36/36 [==============================] - 0s 2ms/step - loss: 144.8821 - val_loss: 140.5586\n",
      "Epoch 104/500\n",
      "36/36 [==============================] - 0s 2ms/step - loss: 142.2464 - val_loss: 137.3477\n",
      "Epoch 105/500\n",
      "36/36 [==============================] - 0s 2ms/step - loss: 139.6362 - val_loss: 134.3709\n",
      "Epoch 106/500\n",
      "36/36 [==============================] - 0s 2ms/step - loss: 136.6645 - val_loss: 131.5919\n",
      "Epoch 107/500\n",
      "36/36 [==============================] - 0s 2ms/step - loss: 134.2120 - val_loss: 128.6212\n",
      "Epoch 108/500\n",
      "36/36 [==============================] - 0s 1ms/step - loss: 131.3743 - val_loss: 126.5536\n",
      "Epoch 109/500\n",
      "36/36 [==============================] - 0s 2ms/step - loss: 128.5489 - val_loss: 123.4817\n",
      "Epoch 110/500\n",
      "36/36 [==============================] - 0s 1ms/step - loss: 126.3893 - val_loss: 121.7596\n",
      "Epoch 111/500\n",
      "36/36 [==============================] - 0s 1ms/step - loss: 124.2093 - val_loss: 119.0777\n",
      "Epoch 112/500\n",
      "36/36 [==============================] - 0s 1ms/step - loss: 122.1057 - val_loss: 116.6789\n",
      "Epoch 113/500\n",
      "36/36 [==============================] - 0s 2ms/step - loss: 119.8727 - val_loss: 114.6715\n",
      "Epoch 114/500\n",
      "36/36 [==============================] - 0s 2ms/step - loss: 117.8355 - val_loss: 112.6790\n",
      "Epoch 115/500\n",
      "36/36 [==============================] - 0s 2ms/step - loss: 116.2674 - val_loss: 110.6696\n",
      "Epoch 116/500\n",
      "36/36 [==============================] - 0s 2ms/step - loss: 114.9194 - val_loss: 108.6277\n",
      "Epoch 117/500\n",
      "36/36 [==============================] - 0s 2ms/step - loss: 112.2953 - val_loss: 106.8574\n",
      "Epoch 118/500\n",
      "36/36 [==============================] - 0s 2ms/step - loss: 110.8930 - val_loss: 105.4793\n",
      "Epoch 119/500\n",
      "36/36 [==============================] - 0s 2ms/step - loss: 108.9404 - val_loss: 103.3073\n",
      "Epoch 120/500\n",
      "36/36 [==============================] - 0s 2ms/step - loss: 107.7250 - val_loss: 102.3042\n",
      "Epoch 121/500\n",
      "36/36 [==============================] - 0s 2ms/step - loss: 106.0502 - val_loss: 100.3775\n",
      "Epoch 122/500\n",
      "36/36 [==============================] - 0s 2ms/step - loss: 104.6086 - val_loss: 98.7601\n",
      "Epoch 123/500\n",
      "36/36 [==============================] - 0s 2ms/step - loss: 103.1718 - val_loss: 97.9070\n",
      "Epoch 124/500\n",
      "36/36 [==============================] - 0s 2ms/step - loss: 101.9043 - val_loss: 96.3291\n",
      "Epoch 125/500\n",
      "36/36 [==============================] - 0s 2ms/step - loss: 100.5321 - val_loss: 95.0699\n",
      "Epoch 126/500\n",
      "36/36 [==============================] - 0s 2ms/step - loss: 99.2104 - val_loss: 93.5452\n",
      "Epoch 127/500\n",
      "36/36 [==============================] - 0s 2ms/step - loss: 97.9928 - val_loss: 92.3292\n",
      "Epoch 128/500\n",
      "36/36 [==============================] - 0s 2ms/step - loss: 96.9183 - val_loss: 91.1038\n",
      "Epoch 129/500\n",
      "36/36 [==============================] - 0s 2ms/step - loss: 96.4127 - val_loss: 90.0782\n",
      "Epoch 130/500\n",
      "36/36 [==============================] - 0s 2ms/step - loss: 95.1551 - val_loss: 88.9987\n",
      "Epoch 131/500\n",
      "36/36 [==============================] - 0s 2ms/step - loss: 93.7296 - val_loss: 88.3237\n",
      "Epoch 132/500\n",
      "36/36 [==============================] - 0s 2ms/step - loss: 93.2463 - val_loss: 86.9050\n",
      "Epoch 133/500\n",
      "36/36 [==============================] - 0s 1ms/step - loss: 91.9891 - val_loss: 86.7742\n",
      "Epoch 134/500\n",
      "36/36 [==============================] - 0s 2ms/step - loss: 91.0971 - val_loss: 85.5050\n",
      "Epoch 135/500\n",
      "36/36 [==============================] - 0s 2ms/step - loss: 90.0136 - val_loss: 84.4357\n",
      "Epoch 136/500\n",
      "36/36 [==============================] - 0s 1ms/step - loss: 89.2377 - val_loss: 83.4965\n",
      "Epoch 137/500\n",
      "36/36 [==============================] - 0s 2ms/step - loss: 88.4803 - val_loss: 82.6333\n",
      "Epoch 138/500\n",
      "36/36 [==============================] - 0s 2ms/step - loss: 87.8721 - val_loss: 82.2841\n",
      "Epoch 139/500\n",
      "36/36 [==============================] - 0s 2ms/step - loss: 86.9826 - val_loss: 81.2945\n",
      "Epoch 140/500\n",
      "36/36 [==============================] - 0s 1ms/step - loss: 86.0665 - val_loss: 80.6865\n",
      "Epoch 141/500\n",
      "36/36 [==============================] - 0s 2ms/step - loss: 85.7760 - val_loss: 79.8863\n",
      "Epoch 142/500\n",
      "36/36 [==============================] - 0s 2ms/step - loss: 84.8811 - val_loss: 79.3450\n",
      "Epoch 143/500\n",
      "36/36 [==============================] - 0s 2ms/step - loss: 84.8364 - val_loss: 78.3192\n",
      "Epoch 144/500\n",
      "36/36 [==============================] - 0s 2ms/step - loss: 83.7360 - val_loss: 78.0342\n",
      "Epoch 145/500\n",
      "36/36 [==============================] - 0s 2ms/step - loss: 82.9547 - val_loss: 77.2947\n",
      "Epoch 146/500\n",
      "36/36 [==============================] - 0s 2ms/step - loss: 82.1391 - val_loss: 76.5298\n",
      "Epoch 147/500\n",
      "36/36 [==============================] - 0s 2ms/step - loss: 81.7722 - val_loss: 76.4583\n",
      "Epoch 148/500\n",
      "36/36 [==============================] - 0s 2ms/step - loss: 81.1880 - val_loss: 75.5917\n",
      "Epoch 149/500\n",
      "36/36 [==============================] - 0s 2ms/step - loss: 80.7794 - val_loss: 75.3501\n",
      "Epoch 150/500\n",
      "36/36 [==============================] - 0s 2ms/step - loss: 79.8327 - val_loss: 74.4876\n",
      "Epoch 151/500\n",
      "36/36 [==============================] - 0s 2ms/step - loss: 79.8801 - val_loss: 73.8918\n",
      "Epoch 152/500\n",
      "36/36 [==============================] - 0s 2ms/step - loss: 78.9596 - val_loss: 73.8335\n",
      "Epoch 153/500\n",
      "36/36 [==============================] - 0s 2ms/step - loss: 78.6291 - val_loss: 73.3308\n",
      "Epoch 154/500\n",
      "36/36 [==============================] - 0s 2ms/step - loss: 78.2359 - val_loss: 72.5877\n",
      "Epoch 155/500\n",
      "36/36 [==============================] - 0s 2ms/step - loss: 77.6131 - val_loss: 72.2395\n",
      "Epoch 156/500\n",
      "36/36 [==============================] - 0s 2ms/step - loss: 77.6230 - val_loss: 74.1085\n",
      "Epoch 157/500\n",
      "36/36 [==============================] - 0s 2ms/step - loss: 77.0962 - val_loss: 71.2479\n"
     ]
    },
    {
     "name": "stdout",
     "output_type": "stream",
     "text": [
      "Epoch 158/500\n",
      "36/36 [==============================] - 0s 2ms/step - loss: 76.4568 - val_loss: 71.7737\n",
      "Epoch 159/500\n",
      "36/36 [==============================] - 0s 2ms/step - loss: 75.7523 - val_loss: 70.3901\n",
      "Epoch 160/500\n",
      "36/36 [==============================] - 0s 2ms/step - loss: 75.5478 - val_loss: 70.3176\n",
      "Epoch 161/500\n",
      "36/36 [==============================] - 0s 2ms/step - loss: 75.5850 - val_loss: 69.6753\n",
      "Epoch 162/500\n",
      "36/36 [==============================] - 0s 2ms/step - loss: 74.4963 - val_loss: 69.7045\n",
      "Epoch 163/500\n",
      "36/36 [==============================] - 0s 2ms/step - loss: 74.0844 - val_loss: 68.9230\n",
      "Epoch 164/500\n",
      "36/36 [==============================] - 0s 2ms/step - loss: 73.9333 - val_loss: 68.4541\n",
      "Epoch 165/500\n",
      "36/36 [==============================] - 0s 2ms/step - loss: 73.8182 - val_loss: 68.6946\n",
      "Epoch 166/500\n",
      "36/36 [==============================] - 0s 2ms/step - loss: 73.1669 - val_loss: 68.7160\n",
      "Epoch 167/500\n",
      "36/36 [==============================] - 0s 2ms/step - loss: 72.8237 - val_loss: 67.8860\n",
      "Epoch 168/500\n",
      "36/36 [==============================] - 0s 2ms/step - loss: 72.4717 - val_loss: 66.9749\n",
      "Epoch 169/500\n",
      "36/36 [==============================] - 0s 2ms/step - loss: 71.6869 - val_loss: 66.7794\n",
      "Epoch 170/500\n",
      "36/36 [==============================] - 0s 2ms/step - loss: 71.5098 - val_loss: 66.2045\n",
      "Epoch 171/500\n",
      "36/36 [==============================] - 0s 2ms/step - loss: 71.2243 - val_loss: 65.8507\n",
      "Epoch 172/500\n",
      "36/36 [==============================] - 0s 2ms/step - loss: 71.1911 - val_loss: 65.7902\n",
      "Epoch 173/500\n",
      "36/36 [==============================] - 0s 2ms/step - loss: 70.2336 - val_loss: 66.3795\n",
      "Epoch 174/500\n",
      "36/36 [==============================] - 0s 2ms/step - loss: 70.2679 - val_loss: 64.7613\n",
      "Epoch 175/500\n",
      "36/36 [==============================] - 0s 2ms/step - loss: 69.3927 - val_loss: 65.0229\n",
      "Epoch 176/500\n",
      "36/36 [==============================] - 0s 2ms/step - loss: 69.1352 - val_loss: 64.9088\n",
      "Epoch 177/500\n",
      "36/36 [==============================] - 0s 2ms/step - loss: 69.0790 - val_loss: 63.8522\n",
      "Epoch 178/500\n",
      "36/36 [==============================] - 0s 2ms/step - loss: 68.3368 - val_loss: 63.4614\n",
      "Epoch 179/500\n",
      "36/36 [==============================] - 0s 2ms/step - loss: 67.8813 - val_loss: 62.7729\n",
      "Epoch 180/500\n",
      "36/36 [==============================] - 0s 2ms/step - loss: 67.2399 - val_loss: 62.7719\n",
      "Epoch 181/500\n",
      "36/36 [==============================] - 0s 2ms/step - loss: 67.1595 - val_loss: 62.6070\n",
      "Epoch 182/500\n",
      "36/36 [==============================] - 0s 2ms/step - loss: 66.8554 - val_loss: 63.6747\n",
      "Epoch 183/500\n",
      "36/36 [==============================] - 0s 1ms/step - loss: 66.5562 - val_loss: 61.3739\n",
      "Epoch 184/500\n",
      "36/36 [==============================] - 0s 2ms/step - loss: 66.1452 - val_loss: 61.5627\n",
      "Epoch 185/500\n",
      "36/36 [==============================] - 0s 2ms/step - loss: 65.2150 - val_loss: 60.5664\n",
      "Epoch 186/500\n",
      "36/36 [==============================] - 0s 2ms/step - loss: 65.1537 - val_loss: 60.3938\n",
      "Epoch 187/500\n",
      "36/36 [==============================] - 0s 2ms/step - loss: 64.4953 - val_loss: 60.3154\n",
      "Epoch 188/500\n",
      "36/36 [==============================] - 0s 2ms/step - loss: 64.4517 - val_loss: 59.4904\n",
      "Epoch 189/500\n",
      "36/36 [==============================] - 0s 2ms/step - loss: 63.7728 - val_loss: 59.5141\n",
      "Epoch 190/500\n",
      "36/36 [==============================] - 0s 1ms/step - loss: 63.9596 - val_loss: 59.8780\n",
      "Epoch 191/500\n",
      "36/36 [==============================] - 0s 2ms/step - loss: 63.1745 - val_loss: 58.6257\n",
      "Epoch 192/500\n",
      "36/36 [==============================] - 0s 2ms/step - loss: 62.6303 - val_loss: 57.9863\n",
      "Epoch 193/500\n",
      "36/36 [==============================] - 0s 2ms/step - loss: 62.0726 - val_loss: 58.3895\n",
      "Epoch 194/500\n",
      "36/36 [==============================] - 0s 2ms/step - loss: 61.9485 - val_loss: 57.6000\n",
      "Epoch 195/500\n",
      "36/36 [==============================] - 0s 2ms/step - loss: 61.2850 - val_loss: 57.0905\n",
      "Epoch 196/500\n",
      "36/36 [==============================] - 0s 2ms/step - loss: 60.9000 - val_loss: 57.2082\n",
      "Epoch 197/500\n",
      "36/36 [==============================] - 0s 2ms/step - loss: 60.5052 - val_loss: 56.0872\n",
      "Epoch 198/500\n",
      "36/36 [==============================] - 0s 2ms/step - loss: 60.1323 - val_loss: 56.6897\n",
      "Epoch 199/500\n",
      "36/36 [==============================] - 0s 2ms/step - loss: 59.7924 - val_loss: 55.9052\n",
      "Epoch 200/500\n",
      "36/36 [==============================] - 0s 2ms/step - loss: 59.3849 - val_loss: 55.2744\n",
      "Epoch 201/500\n",
      "36/36 [==============================] - 0s 2ms/step - loss: 59.0402 - val_loss: 55.0999\n",
      "Epoch 202/500\n",
      "36/36 [==============================] - 0s 2ms/step - loss: 58.4839 - val_loss: 54.7079\n",
      "Epoch 203/500\n",
      "36/36 [==============================] - 0s 1ms/step - loss: 58.2480 - val_loss: 54.0905\n",
      "Epoch 204/500\n",
      "36/36 [==============================] - 0s 1ms/step - loss: 57.9910 - val_loss: 53.4181\n",
      "Epoch 205/500\n",
      "36/36 [==============================] - 0s 2ms/step - loss: 57.5899 - val_loss: 53.0109\n",
      "Epoch 206/500\n",
      "36/36 [==============================] - 0s 2ms/step - loss: 56.9223 - val_loss: 53.5294\n",
      "Epoch 207/500\n",
      "36/36 [==============================] - 0s 2ms/step - loss: 56.4204 - val_loss: 52.8382\n",
      "Epoch 208/500\n",
      "36/36 [==============================] - 0s 2ms/step - loss: 56.2310 - val_loss: 51.8522\n",
      "Epoch 209/500\n",
      "36/36 [==============================] - 0s 2ms/step - loss: 56.0691 - val_loss: 51.4471\n",
      "Epoch 210/500\n",
      "36/36 [==============================] - 0s 2ms/step - loss: 55.2452 - val_loss: 51.1960\n",
      "Epoch 211/500\n",
      "36/36 [==============================] - 0s 2ms/step - loss: 54.7855 - val_loss: 51.1301\n",
      "Epoch 212/500\n",
      "36/36 [==============================] - 0s 2ms/step - loss: 54.2406 - val_loss: 50.4537\n",
      "Epoch 213/500\n",
      "36/36 [==============================] - 0s 2ms/step - loss: 54.0582 - val_loss: 50.0912\n",
      "Epoch 214/500\n",
      "36/36 [==============================] - 0s 2ms/step - loss: 53.9468 - val_loss: 49.4924\n",
      "Epoch 215/500\n",
      "36/36 [==============================] - 0s 2ms/step - loss: 53.2649 - val_loss: 51.3535\n",
      "Epoch 216/500\n",
      "36/36 [==============================] - 0s 2ms/step - loss: 52.8555 - val_loss: 48.7211\n",
      "Epoch 217/500\n",
      "36/36 [==============================] - 0s 2ms/step - loss: 52.6680 - val_loss: 48.7060\n",
      "Epoch 218/500\n",
      "36/36 [==============================] - 0s 2ms/step - loss: 52.0191 - val_loss: 48.9654\n",
      "Epoch 219/500\n",
      "36/36 [==============================] - 0s 2ms/step - loss: 51.7227 - val_loss: 47.7757\n",
      "Epoch 220/500\n",
      "36/36 [==============================] - 0s 1ms/step - loss: 51.1131 - val_loss: 48.1293\n",
      "Epoch 221/500\n",
      "36/36 [==============================] - 0s 2ms/step - loss: 51.4384 - val_loss: 46.8741\n",
      "Epoch 222/500\n",
      "36/36 [==============================] - 0s 2ms/step - loss: 50.0301 - val_loss: 47.2074\n",
      "Epoch 223/500\n",
      "36/36 [==============================] - 0s 2ms/step - loss: 50.1581 - val_loss: 46.4525\n",
      "Epoch 224/500\n",
      "36/36 [==============================] - 0s 2ms/step - loss: 50.5525 - val_loss: 46.9327\n",
      "Epoch 225/500\n",
      "36/36 [==============================] - 0s 1ms/step - loss: 49.5428 - val_loss: 45.7881\n",
      "Epoch 226/500\n",
      "36/36 [==============================] - 0s 2ms/step - loss: 48.6680 - val_loss: 45.8488\n",
      "Epoch 227/500\n",
      "36/36 [==============================] - 0s 2ms/step - loss: 48.5765 - val_loss: 44.5931\n",
      "Epoch 228/500\n",
      "36/36 [==============================] - 0s 1ms/step - loss: 48.1314 - val_loss: 44.1275\n",
      "Epoch 229/500\n",
      "36/36 [==============================] - 0s 2ms/step - loss: 47.3628 - val_loss: 44.3728\n",
      "Epoch 230/500\n",
      "36/36 [==============================] - 0s 2ms/step - loss: 47.0087 - val_loss: 43.7898\n",
      "Epoch 231/500\n",
      "36/36 [==============================] - 0s 2ms/step - loss: 46.8286 - val_loss: 43.5175\n",
      "Epoch 232/500\n",
      "36/36 [==============================] - 0s 1ms/step - loss: 46.4203 - val_loss: 42.9202\n",
      "Epoch 233/500\n",
      "36/36 [==============================] - 0s 2ms/step - loss: 46.0416 - val_loss: 42.3673\n",
      "Epoch 234/500\n",
      "36/36 [==============================] - 0s 2ms/step - loss: 46.0503 - val_loss: 41.9791\n",
      "Epoch 235/500\n",
      "36/36 [==============================] - 0s 2ms/step - loss: 45.0922 - val_loss: 42.5442\n",
      "Epoch 236/500\n",
      "36/36 [==============================] - 0s 2ms/step - loss: 44.8616 - val_loss: 41.5928\n",
      "Epoch 237/500\n",
      "36/36 [==============================] - 0s 2ms/step - loss: 44.5657 - val_loss: 41.3195\n",
      "Epoch 238/500\n",
      "36/36 [==============================] - 0s 2ms/step - loss: 44.3616 - val_loss: 40.6735\n",
      "Epoch 239/500\n",
      "36/36 [==============================] - 0s 2ms/step - loss: 44.5581 - val_loss: 41.0231\n",
      "Epoch 240/500\n",
      "36/36 [==============================] - 0s 2ms/step - loss: 44.0577 - val_loss: 41.8820\n",
      "Epoch 241/500\n",
      "36/36 [==============================] - 0s 2ms/step - loss: 43.2447 - val_loss: 40.1677\n",
      "Epoch 242/500\n",
      "36/36 [==============================] - 0s 2ms/step - loss: 42.7588 - val_loss: 39.6232\n",
      "Epoch 243/500\n",
      "36/36 [==============================] - 0s 2ms/step - loss: 42.7345 - val_loss: 39.7407\n",
      "Epoch 244/500\n",
      "36/36 [==============================] - 0s 2ms/step - loss: 42.2142 - val_loss: 39.6403\n",
      "Epoch 245/500\n",
      "36/36 [==============================] - 0s 2ms/step - loss: 41.9300 - val_loss: 38.7686\n",
      "Epoch 246/500\n",
      "36/36 [==============================] - 0s 2ms/step - loss: 41.6398 - val_loss: 38.2268\n",
      "Epoch 247/500\n",
      "36/36 [==============================] - 0s 2ms/step - loss: 41.0944 - val_loss: 38.7949\n",
      "Epoch 248/500\n",
      "36/36 [==============================] - 0s 2ms/step - loss: 41.0923 - val_loss: 38.1155\n",
      "Epoch 249/500\n",
      "36/36 [==============================] - 0s 2ms/step - loss: 41.1120 - val_loss: 38.7199\n",
      "Epoch 250/500\n",
      "36/36 [==============================] - 0s 1ms/step - loss: 40.2905 - val_loss: 37.5915\n",
      "Epoch 251/500\n",
      "36/36 [==============================] - 0s 2ms/step - loss: 40.6343 - val_loss: 37.3717\n",
      "Epoch 252/500\n",
      "36/36 [==============================] - 0s 2ms/step - loss: 39.7179 - val_loss: 36.7165\n",
      "Epoch 253/500\n",
      "36/36 [==============================] - 0s 2ms/step - loss: 39.4915 - val_loss: 36.8728\n",
      "Epoch 254/500\n",
      "36/36 [==============================] - 0s 1ms/step - loss: 39.4404 - val_loss: 36.6270\n",
      "Epoch 255/500\n",
      "36/36 [==============================] - 0s 2ms/step - loss: 38.8070 - val_loss: 36.2558\n",
      "Epoch 256/500\n",
      "36/36 [==============================] - 0s 2ms/step - loss: 38.7117 - val_loss: 36.2492\n",
      "Epoch 257/500\n",
      "36/36 [==============================] - 0s 2ms/step - loss: 38.5071 - val_loss: 36.2244\n",
      "Epoch 258/500\n",
      "36/36 [==============================] - 0s 2ms/step - loss: 38.0648 - val_loss: 35.2760\n",
      "Epoch 259/500\n",
      "36/36 [==============================] - 0s 2ms/step - loss: 37.8040 - val_loss: 34.8493\n",
      "Epoch 260/500\n",
      "36/36 [==============================] - 0s 2ms/step - loss: 38.5071 - val_loss: 35.9527\n",
      "Epoch 261/500\n",
      "36/36 [==============================] - 0s 1ms/step - loss: 37.8757 - val_loss: 34.3751\n",
      "Epoch 262/500\n",
      "36/36 [==============================] - 0s 2ms/step - loss: 37.1018 - val_loss: 34.2515\n",
      "Epoch 263/500\n",
      "36/36 [==============================] - 0s 2ms/step - loss: 36.7208 - val_loss: 33.9020\n",
      "Epoch 264/500\n",
      "36/36 [==============================] - 0s 2ms/step - loss: 36.5719 - val_loss: 35.2918\n",
      "Epoch 265/500\n",
      "36/36 [==============================] - 0s 2ms/step - loss: 36.1054 - val_loss: 33.4464\n",
      "Epoch 266/500\n",
      "36/36 [==============================] - 0s 2ms/step - loss: 35.9707 - val_loss: 33.5544\n",
      "Epoch 267/500\n",
      "36/36 [==============================] - 0s 2ms/step - loss: 36.1463 - val_loss: 33.1204\n",
      "Epoch 268/500\n",
      "36/36 [==============================] - 0s 2ms/step - loss: 35.5518 - val_loss: 33.0703\n",
      "Epoch 269/500\n",
      "36/36 [==============================] - 0s 2ms/step - loss: 35.3822 - val_loss: 33.3420\n",
      "Epoch 270/500\n",
      "36/36 [==============================] - 0s 2ms/step - loss: 35.0728 - val_loss: 32.3462\n",
      "Epoch 271/500\n",
      "36/36 [==============================] - 0s 2ms/step - loss: 34.8038 - val_loss: 32.3049\n",
      "Epoch 272/500\n",
      "36/36 [==============================] - 0s 2ms/step - loss: 34.6170 - val_loss: 33.4295\n",
      "Epoch 273/500\n",
      "36/36 [==============================] - 0s 2ms/step - loss: 34.2881 - val_loss: 31.8191\n",
      "Epoch 274/500\n",
      "36/36 [==============================] - 0s 2ms/step - loss: 34.8792 - val_loss: 32.2156\n",
      "Epoch 275/500\n",
      "36/36 [==============================] - 0s 2ms/step - loss: 34.2668 - val_loss: 31.5123\n",
      "Epoch 276/500\n",
      "36/36 [==============================] - 0s 2ms/step - loss: 33.7829 - val_loss: 31.9229\n",
      "Epoch 277/500\n",
      "36/36 [==============================] - 0s 2ms/step - loss: 33.4805 - val_loss: 31.0060\n",
      "Epoch 278/500\n",
      "36/36 [==============================] - 0s 2ms/step - loss: 33.5963 - val_loss: 31.4046\n",
      "Epoch 279/500\n",
      "36/36 [==============================] - 0s 2ms/step - loss: 33.1687 - val_loss: 30.4139\n",
      "Epoch 280/500\n",
      "36/36 [==============================] - 0s 2ms/step - loss: 33.1842 - val_loss: 30.6026\n",
      "Epoch 281/500\n",
      "36/36 [==============================] - 0s 2ms/step - loss: 32.7746 - val_loss: 30.9108\n",
      "Epoch 282/500\n",
      "36/36 [==============================] - 0s 2ms/step - loss: 32.7985 - val_loss: 29.8549\n",
      "Epoch 283/500\n",
      "36/36 [==============================] - 0s 2ms/step - loss: 32.9559 - val_loss: 29.8864\n",
      "Epoch 284/500\n",
      "36/36 [==============================] - 0s 2ms/step - loss: 32.3309 - val_loss: 30.5816\n",
      "Epoch 285/500\n",
      "36/36 [==============================] - 0s 2ms/step - loss: 31.8577 - val_loss: 29.7092\n",
      "Epoch 286/500\n",
      "36/36 [==============================] - 0s 2ms/step - loss: 31.7692 - val_loss: 30.3784\n",
      "Epoch 287/500\n",
      "36/36 [==============================] - 0s 2ms/step - loss: 31.4505 - val_loss: 29.0662\n",
      "Epoch 288/500\n",
      "36/36 [==============================] - 0s 2ms/step - loss: 31.3425 - val_loss: 29.5365\n",
      "Epoch 289/500\n",
      "36/36 [==============================] - 0s 2ms/step - loss: 31.0185 - val_loss: 28.6635\n",
      "Epoch 290/500\n",
      "36/36 [==============================] - 0s 2ms/step - loss: 31.1355 - val_loss: 28.4775\n",
      "Epoch 291/500\n",
      "36/36 [==============================] - 0s 2ms/step - loss: 30.9843 - val_loss: 29.5933\n",
      "Epoch 292/500\n",
      "36/36 [==============================] - 0s 2ms/step - loss: 31.2173 - val_loss: 28.2940\n",
      "Epoch 293/500\n",
      "36/36 [==============================] - 0s 2ms/step - loss: 30.4123 - val_loss: 28.2867\n",
      "Epoch 294/500\n",
      "36/36 [==============================] - 0s 2ms/step - loss: 30.5227 - val_loss: 29.1943\n",
      "Epoch 295/500\n",
      "36/36 [==============================] - 0s 2ms/step - loss: 30.3559 - val_loss: 28.8216\n",
      "Epoch 296/500\n",
      "36/36 [==============================] - 0s 2ms/step - loss: 30.0007 - val_loss: 27.4827\n",
      "Epoch 297/500\n",
      "36/36 [==============================] - 0s 2ms/step - loss: 29.8191 - val_loss: 27.5567\n",
      "Epoch 298/500\n",
      "36/36 [==============================] - 0s 2ms/step - loss: 29.6518 - val_loss: 27.5056\n",
      "Epoch 299/500\n",
      "36/36 [==============================] - 0s 2ms/step - loss: 29.3241 - val_loss: 27.7008\n",
      "Epoch 300/500\n",
      "36/36 [==============================] - 0s 2ms/step - loss: 29.3908 - val_loss: 28.5053\n",
      "Epoch 301/500\n",
      "36/36 [==============================] - 0s 1ms/step - loss: 29.3194 - val_loss: 27.3538\n",
      "Epoch 302/500\n",
      "36/36 [==============================] - 0s 2ms/step - loss: 29.5339 - val_loss: 27.7183\n",
      "Epoch 303/500\n",
      "36/36 [==============================] - 0s 1ms/step - loss: 28.8440 - val_loss: 26.5664\n",
      "Epoch 304/500\n",
      "36/36 [==============================] - 0s 2ms/step - loss: 28.6311 - val_loss: 27.4137\n",
      "Epoch 305/500\n",
      "36/36 [==============================] - 0s 2ms/step - loss: 28.4757 - val_loss: 26.2816\n",
      "Epoch 306/500\n",
      "36/36 [==============================] - 0s 2ms/step - loss: 28.5143 - val_loss: 26.1843\n",
      "Epoch 307/500\n",
      "36/36 [==============================] - 0s 2ms/step - loss: 28.4964 - val_loss: 26.0254\n",
      "Epoch 308/500\n",
      "36/36 [==============================] - 0s 2ms/step - loss: 28.2928 - val_loss: 26.0827\n",
      "Epoch 309/500\n",
      "36/36 [==============================] - 0s 2ms/step - loss: 28.0835 - val_loss: 27.0309\n",
      "Epoch 310/500\n",
      "36/36 [==============================] - 0s 2ms/step - loss: 27.9663 - val_loss: 25.7166\n",
      "Epoch 311/500\n",
      "36/36 [==============================] - 0s 2ms/step - loss: 27.8082 - val_loss: 25.5623\n",
      "Epoch 312/500\n",
      "36/36 [==============================] - 0s 2ms/step - loss: 27.5766 - val_loss: 26.1644\n",
      "Epoch 313/500\n",
      "36/36 [==============================] - 0s 2ms/step - loss: 27.3715 - val_loss: 25.5979\n",
      "Epoch 314/500\n",
      "36/36 [==============================] - 0s 2ms/step - loss: 27.2833 - val_loss: 25.4319\n",
      "Epoch 315/500\n",
      "36/36 [==============================] - 0s 2ms/step - loss: 27.1213 - val_loss: 25.5556\n",
      "Epoch 316/500\n"
     ]
    },
    {
     "name": "stdout",
     "output_type": "stream",
     "text": [
      "36/36 [==============================] - 0s 2ms/step - loss: 26.9589 - val_loss: 25.4144\n",
      "Epoch 317/500\n",
      "36/36 [==============================] - 0s 2ms/step - loss: 26.8753 - val_loss: 25.3020\n",
      "Epoch 318/500\n",
      "36/36 [==============================] - 0s 2ms/step - loss: 26.7374 - val_loss: 24.9256\n",
      "Epoch 319/500\n",
      "36/36 [==============================] - 0s 2ms/step - loss: 26.6388 - val_loss: 24.6497\n",
      "Epoch 320/500\n",
      "36/36 [==============================] - 0s 1ms/step - loss: 26.6474 - val_loss: 24.6397\n",
      "Epoch 321/500\n",
      "36/36 [==============================] - 0s 2ms/step - loss: 26.3780 - val_loss: 24.7216\n",
      "Epoch 322/500\n",
      "36/36 [==============================] - 0s 2ms/step - loss: 26.4270 - val_loss: 25.0477\n",
      "Epoch 323/500\n",
      "36/36 [==============================] - 0s 2ms/step - loss: 26.1495 - val_loss: 24.8354\n",
      "Epoch 324/500\n",
      "36/36 [==============================] - 0s 2ms/step - loss: 26.1114 - val_loss: 24.8902\n",
      "Epoch 325/500\n",
      "36/36 [==============================] - 0s 2ms/step - loss: 26.0227 - val_loss: 24.4469\n",
      "Epoch 326/500\n",
      "36/36 [==============================] - 0s 2ms/step - loss: 25.7869 - val_loss: 24.1651\n",
      "Epoch 327/500\n",
      "36/36 [==============================] - 0s 2ms/step - loss: 25.8118 - val_loss: 24.0210\n",
      "Epoch 328/500\n",
      "36/36 [==============================] - 0s 2ms/step - loss: 25.5954 - val_loss: 24.5993\n",
      "Epoch 329/500\n",
      "36/36 [==============================] - 0s 2ms/step - loss: 25.4887 - val_loss: 24.0677\n",
      "Epoch 330/500\n",
      "36/36 [==============================] - 0s 2ms/step - loss: 25.4243 - val_loss: 23.8346\n",
      "Epoch 331/500\n",
      "36/36 [==============================] - 0s 2ms/step - loss: 25.7482 - val_loss: 24.9213\n",
      "Epoch 332/500\n",
      "36/36 [==============================] - 0s 1ms/step - loss: 25.4327 - val_loss: 24.2086\n",
      "Epoch 333/500\n",
      "36/36 [==============================] - 0s 2ms/step - loss: 25.1705 - val_loss: 23.8302\n",
      "Epoch 334/500\n",
      "36/36 [==============================] - 0s 2ms/step - loss: 25.0753 - val_loss: 23.5446\n",
      "Epoch 335/500\n",
      "36/36 [==============================] - 0s 2ms/step - loss: 25.1240 - val_loss: 24.4257\n",
      "Epoch 336/500\n",
      "36/36 [==============================] - 0s 2ms/step - loss: 24.9485 - val_loss: 23.6261\n",
      "Epoch 337/500\n",
      "36/36 [==============================] - 0s 2ms/step - loss: 24.7633 - val_loss: 23.6215\n",
      "Epoch 338/500\n",
      "36/36 [==============================] - 0s 2ms/step - loss: 24.7130 - val_loss: 22.7889\n",
      "Epoch 339/500\n",
      "36/36 [==============================] - 0s 1ms/step - loss: 24.6302 - val_loss: 22.8173\n",
      "Epoch 340/500\n",
      "36/36 [==============================] - 0s 2ms/step - loss: 24.4466 - val_loss: 23.2468\n",
      "Epoch 341/500\n",
      "36/36 [==============================] - 0s 2ms/step - loss: 24.6596 - val_loss: 24.3648\n",
      "Epoch 342/500\n",
      "36/36 [==============================] - 0s 2ms/step - loss: 24.2545 - val_loss: 22.7991\n",
      "Epoch 343/500\n",
      "36/36 [==============================] - 0s 2ms/step - loss: 24.1124 - val_loss: 23.4882\n",
      "Epoch 344/500\n",
      "36/36 [==============================] - 0s 2ms/step - loss: 24.2382 - val_loss: 22.4358\n",
      "Epoch 345/500\n",
      "36/36 [==============================] - 0s 2ms/step - loss: 24.1092 - val_loss: 22.5697\n",
      "Epoch 346/500\n",
      "36/36 [==============================] - 0s 2ms/step - loss: 24.0119 - val_loss: 22.3932\n",
      "Epoch 347/500\n",
      "36/36 [==============================] - 0s 1ms/step - loss: 23.8278 - val_loss: 22.3110\n",
      "Epoch 348/500\n",
      "36/36 [==============================] - 0s 2ms/step - loss: 23.8783 - val_loss: 22.1027\n",
      "Epoch 349/500\n",
      "36/36 [==============================] - 0s 2ms/step - loss: 23.6169 - val_loss: 22.5099\n",
      "Epoch 350/500\n",
      "36/36 [==============================] - 0s 2ms/step - loss: 23.4959 - val_loss: 22.0979\n",
      "Epoch 351/500\n",
      "36/36 [==============================] - 0s 2ms/step - loss: 23.5334 - val_loss: 22.0288\n",
      "Epoch 352/500\n",
      "36/36 [==============================] - 0s 2ms/step - loss: 23.9064 - val_loss: 22.5120\n",
      "Epoch 353/500\n",
      "36/36 [==============================] - 0s 2ms/step - loss: 23.4008 - val_loss: 22.8221\n",
      "Epoch 354/500\n",
      "36/36 [==============================] - 0s 2ms/step - loss: 23.2830 - val_loss: 21.7153\n",
      "Epoch 355/500\n",
      "36/36 [==============================] - 0s 2ms/step - loss: 23.1313 - val_loss: 22.3309\n",
      "Epoch 356/500\n",
      "36/36 [==============================] - 0s 2ms/step - loss: 23.1806 - val_loss: 21.8990\n",
      "Epoch 357/500\n",
      "36/36 [==============================] - 0s 2ms/step - loss: 22.9460 - val_loss: 22.8584\n",
      "Epoch 358/500\n",
      "36/36 [==============================] - 0s 2ms/step - loss: 23.0489 - val_loss: 21.7702\n",
      "Epoch 359/500\n",
      "36/36 [==============================] - 0s 2ms/step - loss: 23.0982 - val_loss: 22.2246\n",
      "Epoch 360/500\n",
      "36/36 [==============================] - 0s 2ms/step - loss: 22.7983 - val_loss: 21.8899\n",
      "Epoch 361/500\n",
      "36/36 [==============================] - 0s 2ms/step - loss: 22.8493 - val_loss: 21.2078\n",
      "Epoch 362/500\n",
      "36/36 [==============================] - 0s 2ms/step - loss: 22.7816 - val_loss: 22.1493\n",
      "Epoch 363/500\n",
      "36/36 [==============================] - 0s 2ms/step - loss: 22.6019 - val_loss: 21.7383\n",
      "Epoch 364/500\n",
      "36/36 [==============================] - 0s 1ms/step - loss: 22.5776 - val_loss: 22.0271\n",
      "Epoch 365/500\n",
      "36/36 [==============================] - 0s 2ms/step - loss: 22.4550 - val_loss: 21.0956\n",
      "Epoch 366/500\n",
      "36/36 [==============================] - 0s 2ms/step - loss: 22.2888 - val_loss: 22.2331\n",
      "Epoch 367/500\n",
      "36/36 [==============================] - 0s 2ms/step - loss: 22.5249 - val_loss: 21.3013\n",
      "Epoch 368/500\n",
      "36/36 [==============================] - 0s 2ms/step - loss: 22.3305 - val_loss: 20.9514\n",
      "Epoch 369/500\n",
      "36/36 [==============================] - 0s 2ms/step - loss: 22.2662 - val_loss: 21.2067\n",
      "Epoch 370/500\n",
      "36/36 [==============================] - 0s 2ms/step - loss: 22.1393 - val_loss: 22.1269\n",
      "Epoch 371/500\n",
      "36/36 [==============================] - 0s 2ms/step - loss: 22.0887 - val_loss: 20.7465\n",
      "Epoch 372/500\n",
      "36/36 [==============================] - 0s 2ms/step - loss: 22.0638 - val_loss: 21.1410\n",
      "Epoch 373/500\n",
      "36/36 [==============================] - 0s 2ms/step - loss: 21.9903 - val_loss: 21.0517\n",
      "Epoch 374/500\n",
      "36/36 [==============================] - 0s 2ms/step - loss: 21.9284 - val_loss: 21.0930\n",
      "Epoch 375/500\n",
      "36/36 [==============================] - 0s 2ms/step - loss: 22.1228 - val_loss: 20.6615\n",
      "Epoch 376/500\n",
      "36/36 [==============================] - 0s 2ms/step - loss: 21.8060 - val_loss: 21.4217\n",
      "Epoch 377/500\n",
      "36/36 [==============================] - 0s 2ms/step - loss: 21.7969 - val_loss: 20.9726\n",
      "Epoch 378/500\n",
      "36/36 [==============================] - 0s 2ms/step - loss: 21.7623 - val_loss: 21.1850\n",
      "Epoch 379/500\n",
      "36/36 [==============================] - 0s 2ms/step - loss: 21.7616 - val_loss: 21.0772\n",
      "Epoch 380/500\n",
      "36/36 [==============================] - 0s 2ms/step - loss: 21.6257 - val_loss: 21.3150\n",
      "Epoch 381/500\n",
      "36/36 [==============================] - 0s 2ms/step - loss: 21.5032 - val_loss: 20.4411\n",
      "Epoch 382/500\n",
      "36/36 [==============================] - 0s 2ms/step - loss: 21.6483 - val_loss: 20.3129\n",
      "Epoch 383/500\n",
      "36/36 [==============================] - 0s 2ms/step - loss: 21.6088 - val_loss: 20.3771\n",
      "Epoch 384/500\n",
      "36/36 [==============================] - 0s 2ms/step - loss: 21.4973 - val_loss: 20.1105\n",
      "Epoch 385/500\n",
      "36/36 [==============================] - 0s 2ms/step - loss: 21.4718 - val_loss: 20.5059\n",
      "Epoch 386/500\n",
      "36/36 [==============================] - 0s 2ms/step - loss: 21.2417 - val_loss: 20.5915\n",
      "Epoch 387/500\n",
      "36/36 [==============================] - 0s 2ms/step - loss: 21.2311 - val_loss: 20.6912\n",
      "Epoch 388/500\n",
      "36/36 [==============================] - 0s 2ms/step - loss: 21.6503 - val_loss: 21.0606\n",
      "Epoch 389/500\n",
      "36/36 [==============================] - 0s 3ms/step - loss: 21.2162 - val_loss: 20.7634\n",
      "Epoch 390/500\n",
      "36/36 [==============================] - 0s 3ms/step - loss: 21.4552 - val_loss: 20.2360\n",
      "Epoch 391/500\n",
      "36/36 [==============================] - 0s 3ms/step - loss: 21.0534 - val_loss: 20.4150\n",
      "Epoch 392/500\n",
      "36/36 [==============================] - 0s 2ms/step - loss: 21.0656 - val_loss: 20.7679\n",
      "Epoch 393/500\n",
      "36/36 [==============================] - 0s 2ms/step - loss: 20.9041 - val_loss: 19.9792\n",
      "Epoch 394/500\n",
      "36/36 [==============================] - 0s 2ms/step - loss: 20.9748 - val_loss: 20.4884\n",
      "Epoch 395/500\n",
      "36/36 [==============================] - 0s 2ms/step - loss: 20.7708 - val_loss: 19.7396\n",
      "Epoch 396/500\n",
      "36/36 [==============================] - 0s 2ms/step - loss: 21.2264 - val_loss: 19.9872\n",
      "Epoch 397/500\n",
      "36/36 [==============================] - 0s 2ms/step - loss: 20.8809 - val_loss: 19.7717\n",
      "Epoch 398/500\n",
      "36/36 [==============================] - 0s 2ms/step - loss: 21.1773 - val_loss: 20.3631\n",
      "Epoch 399/500\n",
      "36/36 [==============================] - 0s 3ms/step - loss: 20.7538 - val_loss: 20.1312\n",
      "Epoch 400/500\n",
      "36/36 [==============================] - 0s 3ms/step - loss: 21.1904 - val_loss: 20.9306\n",
      "Epoch 401/500\n",
      "36/36 [==============================] - 0s 2ms/step - loss: 20.5339 - val_loss: 19.6779\n",
      "Epoch 402/500\n",
      "36/36 [==============================] - 0s 2ms/step - loss: 20.6102 - val_loss: 19.7797\n",
      "Epoch 403/500\n",
      "36/36 [==============================] - 0s 2ms/step - loss: 20.5158 - val_loss: 20.4554\n",
      "Epoch 404/500\n",
      "36/36 [==============================] - 0s 2ms/step - loss: 20.5991 - val_loss: 19.6235\n",
      "Epoch 405/500\n",
      "36/36 [==============================] - 0s 2ms/step - loss: 20.4302 - val_loss: 20.4649\n",
      "Epoch 406/500\n",
      "36/36 [==============================] - 0s 2ms/step - loss: 20.4214 - val_loss: 19.4450\n",
      "Epoch 407/500\n",
      "36/36 [==============================] - 0s 2ms/step - loss: 20.5485 - val_loss: 20.6718\n",
      "Epoch 408/500\n",
      "36/36 [==============================] - 0s 2ms/step - loss: 20.4838 - val_loss: 20.0283\n",
      "Epoch 409/500\n",
      "36/36 [==============================] - 0s 2ms/step - loss: 20.4263 - val_loss: 19.9892\n",
      "Epoch 410/500\n",
      "36/36 [==============================] - 0s 2ms/step - loss: 20.3412 - val_loss: 19.5992\n",
      "Epoch 411/500\n",
      "36/36 [==============================] - 0s 2ms/step - loss: 20.3135 - val_loss: 20.0965\n",
      "Epoch 412/500\n",
      "36/36 [==============================] - 0s 2ms/step - loss: 20.3829 - val_loss: 20.0994\n",
      "Epoch 413/500\n",
      "36/36 [==============================] - 0s 2ms/step - loss: 20.1605 - val_loss: 19.2270\n",
      "Epoch 414/500\n",
      "36/36 [==============================] - 0s 2ms/step - loss: 20.2089 - val_loss: 19.7164\n",
      "Epoch 415/500\n",
      "36/36 [==============================] - 0s 2ms/step - loss: 20.0847 - val_loss: 19.1091\n",
      "Epoch 416/500\n",
      "36/36 [==============================] - 0s 2ms/step - loss: 20.3382 - val_loss: 19.5372\n",
      "Epoch 417/500\n",
      "36/36 [==============================] - 0s 2ms/step - loss: 20.2290 - val_loss: 19.5639\n",
      "Epoch 418/500\n",
      "36/36 [==============================] - 0s 2ms/step - loss: 20.0378 - val_loss: 19.4494\n",
      "Epoch 419/500\n",
      "36/36 [==============================] - 0s 2ms/step - loss: 19.9558 - val_loss: 19.3781\n",
      "Epoch 420/500\n",
      "36/36 [==============================] - 0s 2ms/step - loss: 19.9545 - val_loss: 18.8779\n",
      "Epoch 421/500\n",
      "36/36 [==============================] - 0s 2ms/step - loss: 20.4809 - val_loss: 18.8683\n",
      "Epoch 422/500\n",
      "36/36 [==============================] - 0s 3ms/step - loss: 20.0335 - val_loss: 19.2522\n",
      "Epoch 423/500\n",
      "36/36 [==============================] - 0s 3ms/step - loss: 20.0018 - val_loss: 20.2335\n",
      "Epoch 424/500\n",
      "36/36 [==============================] - 0s 3ms/step - loss: 19.8661 - val_loss: 19.1701\n",
      "Epoch 425/500\n",
      "36/36 [==============================] - 0s 2ms/step - loss: 19.8560 - val_loss: 19.0895\n",
      "Epoch 426/500\n",
      "36/36 [==============================] - 0s 2ms/step - loss: 19.8362 - val_loss: 18.8718\n",
      "Epoch 427/500\n",
      "36/36 [==============================] - 0s 2ms/step - loss: 19.7769 - val_loss: 19.7004\n",
      "Epoch 428/500\n",
      "36/36 [==============================] - 0s 2ms/step - loss: 19.7793 - val_loss: 19.4261\n",
      "Epoch 429/500\n",
      "36/36 [==============================] - 0s 2ms/step - loss: 19.7249 - val_loss: 19.6372\n",
      "Epoch 430/500\n",
      "36/36 [==============================] - 0s 2ms/step - loss: 19.7494 - val_loss: 19.3156\n",
      "Epoch 431/500\n",
      "36/36 [==============================] - 0s 2ms/step - loss: 19.6309 - val_loss: 18.8137\n",
      "Epoch 432/500\n",
      "36/36 [==============================] - 0s 2ms/step - loss: 19.6587 - val_loss: 19.0881\n",
      "Epoch 433/500\n",
      "36/36 [==============================] - 0s 2ms/step - loss: 19.7495 - val_loss: 20.2685\n",
      "Epoch 434/500\n",
      "36/36 [==============================] - 0s 2ms/step - loss: 19.4653 - val_loss: 18.5415\n",
      "Epoch 435/500\n",
      "36/36 [==============================] - 0s 3ms/step - loss: 19.8743 - val_loss: 19.1775\n",
      "Epoch 436/500\n",
      "36/36 [==============================] - 0s 3ms/step - loss: 19.5659 - val_loss: 18.8510\n",
      "Epoch 437/500\n",
      "36/36 [==============================] - 0s 3ms/step - loss: 19.5734 - val_loss: 19.2179\n",
      "Epoch 438/500\n",
      "36/36 [==============================] - 0s 2ms/step - loss: 19.3671 - val_loss: 18.9056\n",
      "Epoch 439/500\n",
      "36/36 [==============================] - 0s 2ms/step - loss: 19.4799 - val_loss: 19.1177\n",
      "Epoch 440/500\n",
      "36/36 [==============================] - 0s 3ms/step - loss: 19.3916 - val_loss: 19.3032\n",
      "Epoch 441/500\n",
      "36/36 [==============================] - 0s 2ms/step - loss: 19.2979 - val_loss: 18.6616\n",
      "Epoch 442/500\n",
      "36/36 [==============================] - 0s 3ms/step - loss: 19.4005 - val_loss: 18.9172\n",
      "Epoch 443/500\n",
      "36/36 [==============================] - 0s 2ms/step - loss: 19.3552 - val_loss: 18.5751\n",
      "Epoch 444/500\n",
      "36/36 [==============================] - 0s 2ms/step - loss: 19.2741 - val_loss: 19.1646\n",
      "Epoch 445/500\n",
      "36/36 [==============================] - 0s 2ms/step - loss: 19.2875 - val_loss: 18.3270\n",
      "Epoch 446/500\n",
      "36/36 [==============================] - 0s 2ms/step - loss: 19.1824 - val_loss: 19.7408\n",
      "Epoch 447/500\n",
      "36/36 [==============================] - 0s 3ms/step - loss: 19.1924 - val_loss: 18.5489\n",
      "Epoch 448/500\n",
      "36/36 [==============================] - 0s 2ms/step - loss: 19.1907 - val_loss: 18.5929\n",
      "Epoch 449/500\n",
      "36/36 [==============================] - 0s 3ms/step - loss: 19.7020 - val_loss: 18.5416\n",
      "Epoch 450/500\n",
      "36/36 [==============================] - 0s 3ms/step - loss: 19.5264 - val_loss: 19.1743\n",
      "Epoch 451/500\n",
      "36/36 [==============================] - 0s 2ms/step - loss: 19.3252 - val_loss: 19.1881\n",
      "Epoch 452/500\n",
      "36/36 [==============================] - 0s 2ms/step - loss: 19.3594 - val_loss: 18.2386\n",
      "Epoch 453/500\n",
      "36/36 [==============================] - 0s 3ms/step - loss: 19.2189 - val_loss: 18.8547\n",
      "Epoch 454/500\n",
      "36/36 [==============================] - 0s 2ms/step - loss: 19.0544 - val_loss: 18.9479\n",
      "Epoch 455/500\n",
      "36/36 [==============================] - 0s 3ms/step - loss: 19.0726 - val_loss: 18.7605\n",
      "Epoch 456/500\n",
      "36/36 [==============================] - 0s 3ms/step - loss: 19.0093 - val_loss: 18.5942\n",
      "Epoch 457/500\n",
      "36/36 [==============================] - 0s 3ms/step - loss: 19.2060 - val_loss: 18.2527\n",
      "Epoch 458/500\n",
      "36/36 [==============================] - 0s 2ms/step - loss: 18.9735 - val_loss: 19.1751\n",
      "Epoch 459/500\n",
      "36/36 [==============================] - 0s 3ms/step - loss: 19.1569 - val_loss: 18.0785\n",
      "Epoch 460/500\n",
      "36/36 [==============================] - 0s 3ms/step - loss: 18.8864 - val_loss: 19.4016\n",
      "Epoch 461/500\n",
      "36/36 [==============================] - 0s 3ms/step - loss: 18.9430 - val_loss: 18.8161\n",
      "Epoch 462/500\n",
      "36/36 [==============================] - 0s 3ms/step - loss: 18.8128 - val_loss: 18.4459\n",
      "Epoch 463/500\n",
      "36/36 [==============================] - 0s 2ms/step - loss: 18.8956 - val_loss: 18.1711\n",
      "Epoch 464/500\n",
      "36/36 [==============================] - 0s 3ms/step - loss: 19.0099 - val_loss: 18.0818\n",
      "Epoch 465/500\n",
      "36/36 [==============================] - 0s 3ms/step - loss: 19.0425 - val_loss: 18.0544\n",
      "Epoch 466/500\n",
      "36/36 [==============================] - 0s 2ms/step - loss: 18.8863 - val_loss: 18.6908\n",
      "Epoch 467/500\n",
      "36/36 [==============================] - 0s 3ms/step - loss: 18.9321 - val_loss: 19.1587\n",
      "Epoch 468/500\n",
      "36/36 [==============================] - 0s 2ms/step - loss: 18.8586 - val_loss: 17.9182\n",
      "Epoch 469/500\n",
      "36/36 [==============================] - 0s 2ms/step - loss: 18.7843 - val_loss: 19.0962\n",
      "Epoch 470/500\n",
      "36/36 [==============================] - 0s 3ms/step - loss: 18.9827 - val_loss: 18.4669\n",
      "Epoch 471/500\n",
      "36/36 [==============================] - 0s 3ms/step - loss: 18.9054 - val_loss: 18.5235\n",
      "Epoch 472/500\n",
      "36/36 [==============================] - 0s 3ms/step - loss: 18.6629 - val_loss: 18.5298\n",
      "Epoch 473/500\n",
      "36/36 [==============================] - 0s 3ms/step - loss: 18.8441 - val_loss: 18.6183\n",
      "Epoch 474/500\n"
     ]
    },
    {
     "name": "stdout",
     "output_type": "stream",
     "text": [
      "36/36 [==============================] - 0s 3ms/step - loss: 19.2144 - val_loss: 18.8277\n",
      "Epoch 475/500\n",
      "36/36 [==============================] - 0s 3ms/step - loss: 18.7410 - val_loss: 18.1718\n",
      "Epoch 476/500\n",
      "36/36 [==============================] - 0s 2ms/step - loss: 18.5636 - val_loss: 18.4732\n",
      "Epoch 477/500\n",
      "36/36 [==============================] - 0s 3ms/step - loss: 18.7427 - val_loss: 18.8299\n",
      "Epoch 478/500\n",
      "36/36 [==============================] - 0s 3ms/step - loss: 18.6542 - val_loss: 19.0083\n",
      "Epoch 479/500\n",
      "36/36 [==============================] - 0s 2ms/step - loss: 18.6064 - val_loss: 17.7874\n",
      "Epoch 480/500\n",
      "36/36 [==============================] - 0s 3ms/step - loss: 18.5134 - val_loss: 19.8538\n",
      "Epoch 481/500\n",
      "36/36 [==============================] - 0s 2ms/step - loss: 18.9950 - val_loss: 18.3054\n",
      "Epoch 482/500\n",
      "36/36 [==============================] - 0s 3ms/step - loss: 18.7212 - val_loss: 18.1769\n",
      "Epoch 483/500\n",
      "36/36 [==============================] - 0s 3ms/step - loss: 18.5791 - val_loss: 18.0668\n",
      "Epoch 484/500\n",
      "36/36 [==============================] - 0s 2ms/step - loss: 18.5494 - val_loss: 17.6916\n",
      "Epoch 485/500\n",
      "36/36 [==============================] - 0s 2ms/step - loss: 18.6969 - val_loss: 18.9747\n",
      "Epoch 486/500\n",
      "36/36 [==============================] - 0s 2ms/step - loss: 18.5372 - val_loss: 17.9309\n",
      "Epoch 487/500\n",
      "36/36 [==============================] - 0s 2ms/step - loss: 18.3881 - val_loss: 19.1800\n",
      "Epoch 488/500\n",
      "36/36 [==============================] - 0s 2ms/step - loss: 18.5426 - val_loss: 18.1684\n",
      "Epoch 489/500\n",
      "36/36 [==============================] - 0s 2ms/step - loss: 18.5002 - val_loss: 18.1304\n",
      "Epoch 490/500\n",
      "36/36 [==============================] - 0s 2ms/step - loss: 18.4668 - val_loss: 18.7394\n",
      "Epoch 491/500\n",
      "36/36 [==============================] - 0s 3ms/step - loss: 18.4858 - val_loss: 17.8552\n",
      "Epoch 492/500\n",
      "36/36 [==============================] - 0s 3ms/step - loss: 18.4586 - val_loss: 17.9961\n",
      "Epoch 493/500\n",
      "36/36 [==============================] - 0s 3ms/step - loss: 18.4620 - val_loss: 19.3983\n",
      "Epoch 494/500\n",
      "36/36 [==============================] - 0s 2ms/step - loss: 18.6137 - val_loss: 18.7749\n",
      "Epoch 495/500\n",
      "36/36 [==============================] - 0s 3ms/step - loss: 18.5583 - val_loss: 17.8692\n",
      "Epoch 496/500\n",
      "36/36 [==============================] - 0s 3ms/step - loss: 18.3874 - val_loss: 18.2688\n",
      "Epoch 497/500\n",
      "36/36 [==============================] - 0s 3ms/step - loss: 18.3496 - val_loss: 17.9395\n",
      "Epoch 498/500\n",
      "36/36 [==============================] - 0s 3ms/step - loss: 18.3621 - val_loss: 17.9155\n",
      "Epoch 499/500\n",
      "36/36 [==============================] - 0s 3ms/step - loss: 18.2928 - val_loss: 18.8803\n",
      "Epoch 500/500\n",
      "36/36 [==============================] - 0s 3ms/step - loss: 18.3218 - val_loss: 17.9858\n"
     ]
    }
   ],
   "source": [
    "# fit the model\n",
    "#history=model.fit(X_train, y_train, validation_data =(X_test, y_test),epochs=500, batch_size=10) #verbose=0\n",
    "history=model.fit(X_train, y_train, validation_data =(X_test, y_test),epochs=500, batch_size=10) #verbose=0"
   ]
  },
  {
   "cell_type": "markdown",
   "metadata": {},
   "source": [
    "### Evaluate the model"
   ]
  },
  {
   "cell_type": "code",
   "execution_count": 205,
   "metadata": {},
   "outputs": [
    {
     "name": "stdout",
     "output_type": "stream",
     "text": [
      "Train: 18.151, Test: 17.986\n"
     ]
    }
   ],
   "source": [
    "train_mse = model.evaluate(X_train, y_train, verbose=0)\n",
    "test_mse = model.evaluate(X_test, y_test, verbose=0)\n",
    "print('Train: %.3f, Test: %.3f' % (train_mse, test_mse))"
   ]
  },
  {
   "cell_type": "markdown",
   "metadata": {},
   "source": [
    "### Plotting the learning curve\n",
    "\n",
    "Back to the https://machinelearningmastery.com/tensorflow-tutorial-deep-learning-with-tf-keras/ tutorial. The next section looks at plotting model learning curves which plot the performance of the neural network model over time. It helps determine if the model is learning well and whether it is underfitting or overfitting the training set.To do this you need to update the call to to the `fit` function to include a reference to a validation dataset which is a portion of the training dataset not used to fit the model but instead used to evaluate the performance of the model during training. The fit function will then return a history object containing a trace of performance metrics recorded at the end of each training epoch. A learning curve is a plot of the loss on the training dataset and the validation dataset.\n",
    "history = model.fit(X_train, y_train, epochs=500, batch_size=10, verbose=0, validation_split=0.3)\n",
    "plt.title('Learning Curves')\n",
    "plt.xlabel('Epoch')\n",
    "plt.ylabel('Mean Squared Error')\n",
    "plt.plot(history.history['loss'], 'r.',label='train')\n",
    "plt.plot(history.history['val_loss'], 'b.',label='val')\n",
    "plt.legend()\n",
    "plt.show()"
   ]
  },
  {
   "cell_type": "markdown",
   "metadata": {},
   "source": [
    "Learning curves of mean squared error  on the train and test set at the end of each training epoch are graphed below using line plots. These learning curves give an indication of the dynamics while learning the model.\n",
    "https://machinelearningmastery.com/how-to-improve-neural-network-stability-and-modeling-performance-with-data-scaling/"
   ]
  },
  {
   "cell_type": "code",
   "execution_count": 204,
   "metadata": {},
   "outputs": [
    {
     "data": {
      "image/png": "[encoded data removed]",
      "text/plain": [
       "<Figure size 1008x576 with 1 Axes>"
      ]
     },
     "metadata": {},
     "output_type": "display_data"
    }
   ],
   "source": [
    "# plot loss during training\n",
    "plt.title('Mean Squared Error')\n",
    "plt.plot(history.history['loss'], label='train')\n",
    "plt.plot(history.history['val_loss'], label='test')\n",
    "plt.legend()\n",
    "plt.show()"
   ]
  },
  {
   "cell_type": "markdown",
   "metadata": {},
   "source": []
  },
  {
   "cell_type": "markdown",
   "metadata": {},
   "source": [
    "### Predictions\n",
    "Run each x value through the neural network."
   ]
  },
  {
   "cell_type": "code",
   "execution_count": 206,
   "metadata": {
    "scrolled": true
   },
   "outputs": [
    {
     "name": "stdout",
     "output_type": "stream",
     "text": [
      "Model: \"sequential\"\n",
      "_________________________________________________________________\n",
      "Layer (type)                 Output Shape              Param #   \n",
      "=================================================================\n",
      "dense (Dense)                (None, 60)                120       \n",
      "_________________________________________________________________\n",
      "dense_1 (Dense)              (None, 1)                 61        \n",
      "=================================================================\n",
      "Total params: 181\n",
      "Trainable params: 181\n",
      "Non-trainable params: 0\n",
      "_________________________________________________________________\n"
     ]
    }
   ],
   "source": [
    "model.summary()"
   ]
  },
  {
   "cell_type": "code",
   "execution_count": 158,
   "metadata": {
    "scrolled": false
   },
   "outputs": [],
   "source": [
    "#model.predict(X_test)"
   ]
  },
  {
   "cell_type": "code",
   "execution_count": 207,
   "metadata": {},
   "outputs": [],
   "source": [
    "model_predictions = model.predict(X_test)"
   ]
  },
  {
   "cell_type": "markdown",
   "metadata": {},
   "source": [
    "### Compare actual data to predictions on test set"
   ]
  },
  {
   "cell_type": "code",
   "execution_count": 249,
   "metadata": {
    "scrolled": false
   },
   "outputs": [
    {
     "data": {
      "image/png": "[encoded data removed]",
      "text/plain": [
       "<Figure size 1008x576 with 1 Axes>"
      ]
     },
     "metadata": {},
     "output_type": "display_data"
    }
   ],
   "source": [
    "plt.title('Comparing actual data to predicted data')\n",
    "plt.plot(X_test, y_test, 'x', label=\"true values\")\n",
    "plt.plot(X_test, model_predictions, 'bx', label=\"predicted values\")\n",
    "\n",
    "plt.legend()\n",
    "plt.show()"
   ]
  },
  {
   "cell_type": "code",
   "execution_count": 211,
   "metadata": {},
   "outputs": [
    {
     "data": {
      "text/plain": [
       "array([[98.45761]], dtype=float32)"
      ]
     },
     "execution_count": 211,
     "metadata": {},
     "output_type": "execute_result"
    }
   ],
   "source": [
    "model.predict([20])"
   ]
  },
  {
   "cell_type": "markdown",
   "metadata": {},
   "source": [
    "### Problem!\n",
    "\n",
    "Because I took out the values over 24.4 where all the power values were zero, the model is predicting a power value that is incorrect so I need to take this into account in the prediction web app. \n",
    "Also it is predicting a power value when wind speed is zero so this is also incorrect.\n",
    "So here below I experimented by using the entire dataset with the same model and to no avail.\n",
    "Maybe if I add extra layers this might help...\n",
    "\n",
    "Overall the model is better at predicting power for the lower values of wind speed than the 3rd order polynomial regression model ."
   ]
  },
  {
   "cell_type": "code",
   "execution_count": 212,
   "metadata": {},
   "outputs": [
    {
     "data": {
      "text/plain": [
       "array([[3.2875783]], dtype=float32)"
      ]
     },
     "execution_count": 212,
     "metadata": {},
     "output_type": "execute_result"
    }
   ],
   "source": [
    "model.predict([3])"
   ]
  },
  {
   "cell_type": "code",
   "execution_count": 213,
   "metadata": {},
   "outputs": [
    {
     "data": {
      "text/plain": [
       "array([[102.088715]], dtype=float32)"
      ]
     },
     "execution_count": 213,
     "metadata": {},
     "output_type": "execute_result"
    }
   ],
   "source": [
    "model.predict([24.5])"
   ]
  },
  {
   "cell_type": "code",
   "execution_count": 214,
   "metadata": {},
   "outputs": [
    {
     "data": {
      "text/plain": [
       "array([[7.646248]], dtype=float32)"
      ]
     },
     "execution_count": 214,
     "metadata": {},
     "output_type": "execute_result"
    }
   ],
   "source": [
    "model.predict([8])"
   ]
  },
  {
   "cell_type": "code",
   "execution_count": 215,
   "metadata": {},
   "outputs": [
    {
     "data": {
      "text/plain": [
       "array([[101.71444]], dtype=float32)"
      ]
     },
     "execution_count": 215,
     "metadata": {},
     "output_type": "execute_result"
    }
   ],
   "source": [
    "model.predict([23.5])"
   ]
  },
  {
   "cell_type": "code",
   "execution_count": 216,
   "metadata": {},
   "outputs": [
    {
     "data": {
      "text/plain": [
       "array([[3.0309455]], dtype=float32)"
      ]
     },
     "execution_count": 216,
     "metadata": {},
     "output_type": "execute_result"
    }
   ],
   "source": [
    "model.predict([0])"
   ]
  },
  {
   "cell_type": "code",
   "execution_count": 217,
   "metadata": {},
   "outputs": [
    {
     "data": {
      "text/plain": [
       "array([[102.05726]], dtype=float32)"
      ]
     },
     "execution_count": 217,
     "metadata": {},
     "output_type": "execute_result"
    }
   ],
   "source": [
    "model.predict([24.4])"
   ]
  },
  {
   "cell_type": "markdown",
   "metadata": {},
   "source": [
    "### Save the model for use in the web app"
   ]
  },
  {
   "cell_type": "code",
   "execution_count": 224,
   "metadata": {},
   "outputs": [],
   "source": [
    "model.save('model.h5')"
   ]
  },
  {
   "cell_type": "markdown",
   "metadata": {},
   "source": [
    "#### Adding in another layer:"
   ]
  },
  {
   "cell_type": "code",
   "execution_count": 218,
   "metadata": {},
   "outputs": [],
   "source": [
    "# Train a model\n",
    "model2 = kr.models.Sequential()\n",
    "model2.add(kr.layers.Dense(50, input_shape=(1,), activation='sigmoid', kernel_initializer=\"glorot_uniform\", bias_initializer=\"glorot_uniform\"))\n",
    "#model.add(kr.layers.BatchNormalization())\n",
    "model2.add(kr.layers.Dense(50, input_shape=(1,), activation='sigmoid', kernel_initializer=\"glorot_uniform\", bias_initializer=\"glorot_uniform\"))\n",
    "model2.add(kr.layers.Dense(1, activation='linear', kernel_initializer=\"glorot_uniform\", bias_initializer=\"glorot_uniform\"))"
   ]
  },
  {
   "cell_type": "code",
   "execution_count": 219,
   "metadata": {},
   "outputs": [
    {
     "name": "stdout",
     "output_type": "stream",
     "text": [
      "Model: \"sequential_1\"\n",
      "_________________________________________________________________\n",
      "Layer (type)                 Output Shape              Param #   \n",
      "=================================================================\n",
      "dense_2 (Dense)              (None, 50)                100       \n",
      "_________________________________________________________________\n",
      "dense_3 (Dense)              (None, 50)                2550      \n",
      "_________________________________________________________________\n",
      "dense_4 (Dense)              (None, 1)                 51        \n",
      "=================================================================\n",
      "Total params: 2,701\n",
      "Trainable params: 2,701\n",
      "Non-trainable params: 0\n",
      "_________________________________________________________________\n"
     ]
    }
   ],
   "source": [
    "# \n",
    "model2.compile(kr.optimizers.Adam(lr=0.001), loss='mean_squared_error')\n",
    "model2.summary()"
   ]
  },
  {
   "cell_type": "code",
   "execution_count": 220,
   "metadata": {},
   "outputs": [
    {
     "name": "stdout",
     "output_type": "stream",
     "text": [
      "Epoch 1/500\n",
      "36/36 [==============================] - 0s 4ms/step - loss: 4024.6409 - val_loss: 4180.9771\n",
      "Epoch 2/500\n",
      "36/36 [==============================] - 0s 2ms/step - loss: 3771.8252 - val_loss: 3944.7280\n",
      "Epoch 3/500\n",
      "36/36 [==============================] - 0s 2ms/step - loss: 3581.7332 - val_loss: 3778.4614\n",
      "Epoch 4/500\n",
      "36/36 [==============================] - 0s 2ms/step - loss: 3445.3428 - val_loss: 3642.8435\n",
      "Epoch 5/500\n",
      "36/36 [==============================] - 0s 2ms/step - loss: 3333.3154 - val_loss: 3527.8843\n",
      "Epoch 6/500\n",
      "36/36 [==============================] - 0s 3ms/step - loss: 3234.5735 - val_loss: 3429.4871\n",
      "Epoch 7/500\n",
      "36/36 [==============================] - 0s 2ms/step - loss: 3147.4272 - val_loss: 3338.3223\n",
      "Epoch 8/500\n",
      "36/36 [==============================] - 0s 2ms/step - loss: 3066.5386 - val_loss: 3251.7913\n",
      "Epoch 9/500\n",
      "36/36 [==============================] - 0s 2ms/step - loss: 2988.6172 - val_loss: 3169.0166\n",
      "Epoch 10/500\n",
      "36/36 [==============================] - 0s 2ms/step - loss: 2913.2109 - val_loss: 3088.3235\n",
      "Epoch 11/500\n",
      "36/36 [==============================] - 0s 2ms/step - loss: 2839.8171 - val_loss: 3002.8965\n",
      "Epoch 12/500\n",
      "36/36 [==============================] - 0s 2ms/step - loss: 2765.4053 - val_loss: 2924.0740\n",
      "Epoch 13/500\n",
      "36/36 [==============================] - 0s 2ms/step - loss: 2697.2664 - val_loss: 2853.5127\n",
      "Epoch 14/500\n",
      "36/36 [==============================] - 0s 2ms/step - loss: 2634.8367 - val_loss: 2784.1501\n",
      "Epoch 15/500\n",
      "36/36 [==============================] - 0s 2ms/step - loss: 2574.5317 - val_loss: 2722.5972\n",
      "Epoch 16/500\n",
      "36/36 [==============================] - 0s 2ms/step - loss: 2519.6047 - val_loss: 2658.6775\n",
      "Epoch 17/500\n",
      "36/36 [==============================] - 0s 3ms/step - loss: 2464.8772 - val_loss: 2600.1985\n",
      "Epoch 18/500\n",
      "36/36 [==============================] - 0s 2ms/step - loss: 2411.1982 - val_loss: 2541.1726\n",
      "Epoch 19/500\n",
      "36/36 [==============================] - 0s 3ms/step - loss: 2355.8474 - val_loss: 2481.7922\n",
      "Epoch 20/500\n",
      "36/36 [==============================] - 0s 3ms/step - loss: 2299.1392 - val_loss: 2418.7122\n",
      "Epoch 21/500\n",
      "36/36 [==============================] - 0s 5ms/step - loss: 2238.4783 - val_loss: 2354.4326\n",
      "Epoch 22/500\n",
      "36/36 [==============================] - 0s 3ms/step - loss: 2176.0515 - val_loss: 2286.5696\n",
      "Epoch 23/500\n",
      "36/36 [==============================] - 0s 3ms/step - loss: 2111.5908 - val_loss: 2221.3071\n",
      "Epoch 24/500\n",
      "36/36 [==============================] - 0s 2ms/step - loss: 2048.6543 - val_loss: 2153.8420\n",
      "Epoch 25/500\n",
      "36/36 [==============================] - 0s 2ms/step - loss: 1985.7460 - val_loss: 2089.0891\n",
      "Epoch 26/500\n",
      "36/36 [==============================] - 0s 2ms/step - loss: 1925.4556 - val_loss: 2027.7968\n",
      "Epoch 27/500\n",
      "36/36 [==============================] - 0s 2ms/step - loss: 1864.4832 - val_loss: 1962.8455\n",
      "Epoch 28/500\n",
      "36/36 [==============================] - 0s 2ms/step - loss: 1807.4988 - val_loss: 1899.3118\n",
      "Epoch 29/500\n",
      "36/36 [==============================] - 0s 2ms/step - loss: 1749.4844 - val_loss: 1842.1371\n",
      "Epoch 30/500\n",
      "36/36 [==============================] - 0s 2ms/step - loss: 1694.7828 - val_loss: 1782.1881\n",
      "Epoch 31/500\n",
      "36/36 [==============================] - 0s 3ms/step - loss: 1641.7415 - val_loss: 1728.5813\n",
      "Epoch 32/500\n",
      "36/36 [==============================] - 0s 2ms/step - loss: 1589.8485 - val_loss: 1670.8209\n",
      "Epoch 33/500\n",
      "36/36 [==============================] - 0s 2ms/step - loss: 1538.6498 - val_loss: 1618.4945\n",
      "Epoch 34/500\n",
      "36/36 [==============================] - 0s 2ms/step - loss: 1488.9723 - val_loss: 1565.0660\n",
      "Epoch 35/500\n",
      "36/36 [==============================] - 0s 2ms/step - loss: 1440.6586 - val_loss: 1515.4911\n",
      "Epoch 36/500\n",
      "36/36 [==============================] - 0s 2ms/step - loss: 1393.7286 - val_loss: 1464.3872\n",
      "Epoch 37/500\n",
      "36/36 [==============================] - 0s 2ms/step - loss: 1348.0067 - val_loss: 1417.0830\n",
      "Epoch 38/500\n",
      "36/36 [==============================] - 0s 3ms/step - loss: 1304.0566 - val_loss: 1370.0197\n",
      "Epoch 39/500\n",
      "36/36 [==============================] - 0s 3ms/step - loss: 1261.1633 - val_loss: 1323.4180\n",
      "Epoch 40/500\n",
      "36/36 [==============================] - 0s 3ms/step - loss: 1218.7966 - val_loss: 1278.7853\n",
      "Epoch 41/500\n",
      "36/36 [==============================] - 0s 3ms/step - loss: 1177.9999 - val_loss: 1236.3149\n",
      "Epoch 42/500\n",
      "36/36 [==============================] - 0s 3ms/step - loss: 1138.3348 - val_loss: 1193.9340\n",
      "Epoch 43/500\n",
      "36/36 [==============================] - 0s 3ms/step - loss: 1099.7579 - val_loss: 1154.0630\n",
      "Epoch 44/500\n",
      "36/36 [==============================] - 0s 3ms/step - loss: 1063.1055 - val_loss: 1113.2771\n",
      "Epoch 45/500\n",
      "36/36 [==============================] - 0s 3ms/step - loss: 1025.9038 - val_loss: 1076.2489\n",
      "Epoch 46/500\n",
      "36/36 [==============================] - 0s 2ms/step - loss: 991.3274 - val_loss: 1038.8945\n",
      "Epoch 47/500\n",
      "36/36 [==============================] - 0s 3ms/step - loss: 956.9249 - val_loss: 1005.0055\n",
      "Epoch 48/500\n",
      "36/36 [==============================] - 0s 4ms/step - loss: 924.6678 - val_loss: 968.8848\n",
      "Epoch 49/500\n",
      "36/36 [==============================] - 0s 3ms/step - loss: 892.9515 - val_loss: 933.2507\n",
      "Epoch 50/500\n",
      "36/36 [==============================] - 0s 3ms/step - loss: 862.0551 - val_loss: 900.5882\n",
      "Epoch 51/500\n",
      "36/36 [==============================] - 0s 3ms/step - loss: 829.9345 - val_loss: 868.7567\n",
      "Epoch 52/500\n",
      "36/36 [==============================] - 0s 3ms/step - loss: 800.9623 - val_loss: 839.1746\n",
      "Epoch 53/500\n",
      "36/36 [==============================] - 0s 3ms/step - loss: 772.3561 - val_loss: 806.4316\n",
      "Epoch 54/500\n",
      "36/36 [==============================] - 0s 2ms/step - loss: 743.2737 - val_loss: 777.6946\n",
      "Epoch 55/500\n",
      "36/36 [==============================] - 0s 3ms/step - loss: 716.8049 - val_loss: 752.2329\n",
      "Epoch 56/500\n",
      "36/36 [==============================] - 0s 2ms/step - loss: 691.3093 - val_loss: 721.3100\n",
      "Epoch 57/500\n",
      "36/36 [==============================] - 0s 3ms/step - loss: 664.5188 - val_loss: 695.8354\n",
      "Epoch 58/500\n",
      "36/36 [==============================] - 0s 2ms/step - loss: 640.0750 - val_loss: 669.9116\n",
      "Epoch 59/500\n",
      "36/36 [==============================] - 0s 3ms/step - loss: 616.4858 - val_loss: 644.4966\n",
      "Epoch 60/500\n",
      "36/36 [==============================] - 0s 3ms/step - loss: 593.3909 - val_loss: 619.9031\n",
      "Epoch 61/500\n",
      "36/36 [==============================] - 0s 3ms/step - loss: 570.3835 - val_loss: 597.2142\n",
      "Epoch 62/500\n",
      "36/36 [==============================] - 0s 3ms/step - loss: 547.9888 - val_loss: 573.7039\n",
      "Epoch 63/500\n",
      "36/36 [==============================] - 0s 3ms/step - loss: 526.8353 - val_loss: 551.8922\n",
      "Epoch 64/500\n",
      "36/36 [==============================] - 0s 3ms/step - loss: 506.6951 - val_loss: 530.9417\n",
      "Epoch 65/500\n",
      "36/36 [==============================] - 0s 2ms/step - loss: 486.9698 - val_loss: 509.6513\n",
      "Epoch 66/500\n",
      "36/36 [==============================] - 0s 2ms/step - loss: 468.7015 - val_loss: 489.5771\n",
      "Epoch 67/500\n",
      "36/36 [==============================] - 0s 2ms/step - loss: 449.2052 - val_loss: 470.4459\n",
      "Epoch 68/500\n",
      "36/36 [==============================] - 0s 2ms/step - loss: 431.2404 - val_loss: 450.9576\n",
      "Epoch 69/500\n",
      "36/36 [==============================] - 0s 3ms/step - loss: 414.3956 - val_loss: 433.4947\n",
      "Epoch 70/500\n",
      "36/36 [==============================] - 0s 3ms/step - loss: 397.2923 - val_loss: 416.1976\n",
      "Epoch 71/500\n",
      "36/36 [==============================] - 0s 3ms/step - loss: 382.1773 - val_loss: 399.3639\n",
      "Epoch 72/500\n",
      "36/36 [==============================] - 0s 3ms/step - loss: 365.9187 - val_loss: 383.2868\n",
      "Epoch 73/500\n",
      "36/36 [==============================] - 0s 2ms/step - loss: 350.8591 - val_loss: 366.8925\n",
      "Epoch 74/500\n",
      "36/36 [==============================] - 0s 2ms/step - loss: 335.9274 - val_loss: 351.9567\n",
      "Epoch 75/500\n",
      "36/36 [==============================] - 0s 2ms/step - loss: 321.4447 - val_loss: 335.8464\n",
      "Epoch 76/500\n",
      "36/36 [==============================] - 0s 3ms/step - loss: 304.8556 - val_loss: 316.5590\n",
      "Epoch 77/500\n",
      "36/36 [==============================] - 0s 4ms/step - loss: 288.7083 - val_loss: 302.1506\n",
      "Epoch 78/500\n",
      "36/36 [==============================] - 0s 3ms/step - loss: 274.7789 - val_loss: 287.2143\n"
     ]
    },
    {
     "name": "stdout",
     "output_type": "stream",
     "text": [
      "Epoch 79/500\n",
      "36/36 [==============================] - 0s 4ms/step - loss: 261.2628 - val_loss: 274.3331\n",
      "Epoch 80/500\n",
      "36/36 [==============================] - 0s 2ms/step - loss: 249.0735 - val_loss: 259.3979\n",
      "Epoch 81/500\n",
      "36/36 [==============================] - 0s 4ms/step - loss: 236.7438 - val_loss: 247.5428\n",
      "Epoch 82/500\n",
      "36/36 [==============================] - 0s 3ms/step - loss: 225.4797 - val_loss: 237.2946\n",
      "Epoch 83/500\n",
      "36/36 [==============================] - 0s 2ms/step - loss: 214.3448 - val_loss: 224.9501\n",
      "Epoch 84/500\n",
      "36/36 [==============================] - 0s 2ms/step - loss: 204.3270 - val_loss: 213.6035\n",
      "Epoch 85/500\n",
      "36/36 [==============================] - 0s 2ms/step - loss: 191.6381 - val_loss: 201.6855\n",
      "Epoch 86/500\n",
      "36/36 [==============================] - 0s 2ms/step - loss: 180.5807 - val_loss: 188.6526\n",
      "Epoch 87/500\n",
      "36/36 [==============================] - 0s 2ms/step - loss: 169.8555 - val_loss: 177.6272\n",
      "Epoch 88/500\n",
      "36/36 [==============================] - 0s 2ms/step - loss: 160.3257 - val_loss: 168.1717\n",
      "Epoch 89/500\n",
      "36/36 [==============================] - 0s 2ms/step - loss: 151.7319 - val_loss: 159.2015\n",
      "Epoch 90/500\n",
      "36/36 [==============================] - 0s 4ms/step - loss: 144.0451 - val_loss: 151.8158\n",
      "Epoch 91/500\n",
      "36/36 [==============================] - 0s 3ms/step - loss: 136.2692 - val_loss: 143.0420\n",
      "Epoch 92/500\n",
      "36/36 [==============================] - 0s 3ms/step - loss: 129.5021 - val_loss: 136.0212\n",
      "Epoch 93/500\n",
      "36/36 [==============================] - 0s 2ms/step - loss: 122.9662 - val_loss: 129.6890\n",
      "Epoch 94/500\n",
      "36/36 [==============================] - 0s 2ms/step - loss: 116.3084 - val_loss: 122.0938\n",
      "Epoch 95/500\n",
      "36/36 [==============================] - 0s 2ms/step - loss: 111.0417 - val_loss: 116.4242\n",
      "Epoch 96/500\n",
      "36/36 [==============================] - 0s 2ms/step - loss: 105.0617 - val_loss: 108.6879\n",
      "Epoch 97/500\n",
      "36/36 [==============================] - 0s 2ms/step - loss: 99.9239 - val_loss: 104.7499\n",
      "Epoch 98/500\n",
      "36/36 [==============================] - 0s 2ms/step - loss: 95.4828 - val_loss: 98.8826\n",
      "Epoch 99/500\n",
      "36/36 [==============================] - 0s 2ms/step - loss: 90.0729 - val_loss: 93.7466\n",
      "Epoch 100/500\n",
      "36/36 [==============================] - 0s 2ms/step - loss: 86.0918 - val_loss: 90.5379\n",
      "Epoch 101/500\n",
      "36/36 [==============================] - 0s 2ms/step - loss: 81.0932 - val_loss: 88.0335\n",
      "Epoch 102/500\n",
      "36/36 [==============================] - 0s 2ms/step - loss: 77.4915 - val_loss: 83.5558\n",
      "Epoch 103/500\n",
      "36/36 [==============================] - 0s 2ms/step - loss: 73.9801 - val_loss: 75.9517\n",
      "Epoch 104/500\n",
      "36/36 [==============================] - 0s 2ms/step - loss: 70.2086 - val_loss: 72.5050\n",
      "Epoch 105/500\n",
      "36/36 [==============================] - 0s 2ms/step - loss: 66.6597 - val_loss: 68.8630\n",
      "Epoch 106/500\n",
      "36/36 [==============================] - 0s 2ms/step - loss: 63.6950 - val_loss: 66.1688\n",
      "Epoch 107/500\n",
      "36/36 [==============================] - 0s 2ms/step - loss: 60.6589 - val_loss: 65.1709\n",
      "Epoch 108/500\n",
      "36/36 [==============================] - 0s 2ms/step - loss: 58.0930 - val_loss: 61.7893\n",
      "Epoch 109/500\n",
      "36/36 [==============================] - 0s 2ms/step - loss: 56.0608 - val_loss: 56.1012\n",
      "Epoch 110/500\n",
      "36/36 [==============================] - 0s 2ms/step - loss: 52.6306 - val_loss: 55.5885\n",
      "Epoch 111/500\n",
      "36/36 [==============================] - 0s 2ms/step - loss: 50.5459 - val_loss: 50.7112\n",
      "Epoch 112/500\n",
      "36/36 [==============================] - 0s 3ms/step - loss: 48.1917 - val_loss: 50.4247\n",
      "Epoch 113/500\n",
      "36/36 [==============================] - 0s 2ms/step - loss: 46.0449 - val_loss: 47.9131\n",
      "Epoch 114/500\n",
      "36/36 [==============================] - 0s 2ms/step - loss: 44.0974 - val_loss: 46.1649\n",
      "Epoch 115/500\n",
      "36/36 [==============================] - 0s 2ms/step - loss: 42.4858 - val_loss: 42.4071\n",
      "Epoch 116/500\n",
      "36/36 [==============================] - 0s 2ms/step - loss: 40.4941 - val_loss: 40.9263\n",
      "Epoch 117/500\n",
      "36/36 [==============================] - 0s 4ms/step - loss: 39.1337 - val_loss: 38.4110\n",
      "Epoch 118/500\n",
      "36/36 [==============================] - 0s 3ms/step - loss: 37.3509 - val_loss: 38.4037\n",
      "Epoch 119/500\n",
      "36/36 [==============================] - 0s 4ms/step - loss: 35.9374 - val_loss: 36.3396\n",
      "Epoch 120/500\n",
      "36/36 [==============================] - 0s 2ms/step - loss: 35.0559 - val_loss: 34.0235\n",
      "Epoch 121/500\n",
      "36/36 [==============================] - 0s 2ms/step - loss: 33.9815 - val_loss: 32.6896\n",
      "Epoch 122/500\n",
      "36/36 [==============================] - 0s 2ms/step - loss: 32.1085 - val_loss: 31.3943\n",
      "Epoch 123/500\n",
      "36/36 [==============================] - 0s 2ms/step - loss: 30.6367 - val_loss: 31.0210\n",
      "Epoch 124/500\n",
      "36/36 [==============================] - 0s 2ms/step - loss: 29.7888 - val_loss: 29.3684\n",
      "Epoch 125/500\n",
      "36/36 [==============================] - 0s 2ms/step - loss: 28.7486 - val_loss: 28.9097\n",
      "Epoch 126/500\n",
      "36/36 [==============================] - 0s 2ms/step - loss: 27.6723 - val_loss: 28.6033\n",
      "Epoch 127/500\n",
      "36/36 [==============================] - 0s 2ms/step - loss: 27.1372 - val_loss: 26.9090\n",
      "Epoch 128/500\n",
      "36/36 [==============================] - 0s 2ms/step - loss: 26.5683 - val_loss: 26.5002\n",
      "Epoch 129/500\n",
      "36/36 [==============================] - 0s 3ms/step - loss: 25.5395 - val_loss: 26.8976\n",
      "Epoch 130/500\n",
      "36/36 [==============================] - 0s 2ms/step - loss: 24.8545 - val_loss: 26.0247\n",
      "Epoch 131/500\n",
      "36/36 [==============================] - 0s 2ms/step - loss: 24.6140 - val_loss: 23.3028\n",
      "Epoch 132/500\n",
      "36/36 [==============================] - 0s 2ms/step - loss: 23.8060 - val_loss: 22.5936\n",
      "Epoch 133/500\n",
      "36/36 [==============================] - 0s 2ms/step - loss: 22.8474 - val_loss: 24.4953\n",
      "Epoch 134/500\n",
      "36/36 [==============================] - 0s 2ms/step - loss: 22.5731 - val_loss: 21.4672\n",
      "Epoch 135/500\n",
      "36/36 [==============================] - 0s 2ms/step - loss: 22.3284 - val_loss: 22.0139\n",
      "Epoch 136/500\n",
      "36/36 [==============================] - 0s 2ms/step - loss: 21.5999 - val_loss: 22.6843\n",
      "Epoch 137/500\n",
      "36/36 [==============================] - 0s 2ms/step - loss: 21.1265 - val_loss: 20.8609\n",
      "Epoch 138/500\n",
      "36/36 [==============================] - 0s 2ms/step - loss: 20.8857 - val_loss: 19.9870\n",
      "Epoch 139/500\n",
      "36/36 [==============================] - 0s 2ms/step - loss: 20.3463 - val_loss: 20.3041\n",
      "Epoch 140/500\n",
      "36/36 [==============================] - 0s 2ms/step - loss: 19.9836 - val_loss: 19.7422\n",
      "Epoch 141/500\n",
      "36/36 [==============================] - 0s 2ms/step - loss: 19.9764 - val_loss: 18.8054\n",
      "Epoch 142/500\n",
      "36/36 [==============================] - 0s 2ms/step - loss: 19.4962 - val_loss: 18.5408\n",
      "Epoch 143/500\n",
      "36/36 [==============================] - 0s 2ms/step - loss: 19.1384 - val_loss: 20.6957\n",
      "Epoch 144/500\n",
      "36/36 [==============================] - 0s 2ms/step - loss: 18.9750 - val_loss: 18.2775\n",
      "Epoch 145/500\n",
      "36/36 [==============================] - 0s 2ms/step - loss: 18.8612 - val_loss: 18.3920\n",
      "Epoch 146/500\n",
      "36/36 [==============================] - 0s 2ms/step - loss: 19.1597 - val_loss: 19.9271\n",
      "Epoch 147/500\n",
      "36/36 [==============================] - 0s 2ms/step - loss: 18.2782 - val_loss: 19.2445\n",
      "Epoch 148/500\n",
      "36/36 [==============================] - 0s 2ms/step - loss: 18.5475 - val_loss: 17.3116\n",
      "Epoch 149/500\n",
      "36/36 [==============================] - 0s 2ms/step - loss: 18.0105 - val_loss: 19.6973\n",
      "Epoch 150/500\n",
      "36/36 [==============================] - 0s 2ms/step - loss: 18.0052 - val_loss: 20.1703\n",
      "Epoch 151/500\n",
      "36/36 [==============================] - 0s 2ms/step - loss: 17.6907 - val_loss: 17.0127\n",
      "Epoch 152/500\n",
      "36/36 [==============================] - 0s 2ms/step - loss: 17.7260 - val_loss: 17.2539\n",
      "Epoch 153/500\n",
      "36/36 [==============================] - 0s 2ms/step - loss: 17.6706 - val_loss: 18.2625\n",
      "Epoch 154/500\n",
      "36/36 [==============================] - 0s 2ms/step - loss: 17.6659 - val_loss: 18.5633\n",
      "Epoch 155/500\n",
      "36/36 [==============================] - 0s 2ms/step - loss: 17.8918 - val_loss: 17.1589\n",
      "Epoch 156/500\n",
      "36/36 [==============================] - 0s 2ms/step - loss: 17.3961 - val_loss: 16.7383\n",
      "Epoch 157/500\n",
      "36/36 [==============================] - 0s 2ms/step - loss: 17.0624 - val_loss: 19.0643\n",
      "Epoch 158/500\n",
      "36/36 [==============================] - 0s 2ms/step - loss: 17.1854 - val_loss: 17.1615\n",
      "Epoch 159/500\n",
      "36/36 [==============================] - 0s 2ms/step - loss: 17.1968 - val_loss: 16.2922\n",
      "Epoch 160/500\n",
      "36/36 [==============================] - 0s 2ms/step - loss: 17.3791 - val_loss: 16.5503\n",
      "Epoch 161/500\n",
      "36/36 [==============================] - 0s 2ms/step - loss: 17.0774 - val_loss: 17.3295\n",
      "Epoch 162/500\n",
      "36/36 [==============================] - 0s 2ms/step - loss: 16.9722 - val_loss: 18.3598\n",
      "Epoch 163/500\n",
      "36/36 [==============================] - 0s 2ms/step - loss: 16.8222 - val_loss: 17.0627\n",
      "Epoch 164/500\n",
      "36/36 [==============================] - 0s 2ms/step - loss: 16.7338 - val_loss: 17.3700\n",
      "Epoch 165/500\n",
      "36/36 [==============================] - 0s 2ms/step - loss: 16.7933 - val_loss: 17.5256\n",
      "Epoch 166/500\n",
      "36/36 [==============================] - 0s 2ms/step - loss: 16.5482 - val_loss: 17.7102\n",
      "Epoch 167/500\n",
      "36/36 [==============================] - 0s 2ms/step - loss: 16.7288 - val_loss: 17.3490\n",
      "Epoch 168/500\n",
      "36/36 [==============================] - 0s 2ms/step - loss: 17.0123 - val_loss: 17.1008\n",
      "Epoch 169/500\n",
      "36/36 [==============================] - 0s 2ms/step - loss: 16.6911 - val_loss: 17.8032\n",
      "Epoch 170/500\n",
      "36/36 [==============================] - 0s 2ms/step - loss: 16.7343 - val_loss: 16.9417\n",
      "Epoch 171/500\n",
      "36/36 [==============================] - 0s 2ms/step - loss: 16.6267 - val_loss: 16.4378\n",
      "Epoch 172/500\n",
      "36/36 [==============================] - 0s 2ms/step - loss: 16.9518 - val_loss: 17.9069\n",
      "Epoch 173/500\n",
      "36/36 [==============================] - 0s 2ms/step - loss: 16.9093 - val_loss: 16.0689\n",
      "Epoch 174/500\n",
      "36/36 [==============================] - 0s 2ms/step - loss: 17.1471 - val_loss: 17.4825\n",
      "Epoch 175/500\n",
      "36/36 [==============================] - 0s 2ms/step - loss: 16.8477 - val_loss: 17.8407\n",
      "Epoch 176/500\n",
      "36/36 [==============================] - 0s 2ms/step - loss: 16.6403 - val_loss: 18.5072\n",
      "Epoch 177/500\n",
      "36/36 [==============================] - 0s 2ms/step - loss: 16.9360 - val_loss: 15.9925\n",
      "Epoch 178/500\n",
      "36/36 [==============================] - 0s 2ms/step - loss: 17.2699 - val_loss: 17.7268\n",
      "Epoch 179/500\n",
      "36/36 [==============================] - 0s 2ms/step - loss: 16.8059 - val_loss: 16.0161\n",
      "Epoch 180/500\n",
      "36/36 [==============================] - 0s 2ms/step - loss: 16.9484 - val_loss: 16.1811\n",
      "Epoch 181/500\n",
      "36/36 [==============================] - 0s 2ms/step - loss: 16.3907 - val_loss: 20.8186\n",
      "Epoch 182/500\n",
      "36/36 [==============================] - 0s 2ms/step - loss: 16.9542 - val_loss: 16.7170\n",
      "Epoch 183/500\n",
      "36/36 [==============================] - 0s 2ms/step - loss: 18.5375 - val_loss: 16.1031\n",
      "Epoch 184/500\n",
      "36/36 [==============================] - 0s 2ms/step - loss: 16.3863 - val_loss: 16.0848\n",
      "Epoch 185/500\n",
      "36/36 [==============================] - 0s 2ms/step - loss: 16.7257 - val_loss: 15.9659\n",
      "Epoch 186/500\n",
      "36/36 [==============================] - 0s 2ms/step - loss: 17.1684 - val_loss: 17.2658\n",
      "Epoch 187/500\n",
      "36/36 [==============================] - 0s 2ms/step - loss: 16.4730 - val_loss: 15.9555\n",
      "Epoch 188/500\n",
      "36/36 [==============================] - 0s 2ms/step - loss: 16.5448 - val_loss: 16.7987\n",
      "Epoch 189/500\n",
      "36/36 [==============================] - 0s 2ms/step - loss: 16.4125 - val_loss: 17.5062\n",
      "Epoch 190/500\n",
      "36/36 [==============================] - 0s 3ms/step - loss: 16.7872 - val_loss: 17.8781\n",
      "Epoch 191/500\n",
      "36/36 [==============================] - 0s 4ms/step - loss: 16.8956 - val_loss: 17.9172\n",
      "Epoch 192/500\n",
      "36/36 [==============================] - 0s 2ms/step - loss: 16.3782 - val_loss: 16.6944\n",
      "Epoch 193/500\n",
      "36/36 [==============================] - 0s 2ms/step - loss: 17.1462 - val_loss: 16.4139\n",
      "Epoch 194/500\n",
      "36/36 [==============================] - 0s 2ms/step - loss: 16.4952 - val_loss: 16.6607\n",
      "Epoch 195/500\n",
      "36/36 [==============================] - 0s 2ms/step - loss: 16.2843 - val_loss: 16.0898\n",
      "Epoch 196/500\n",
      "36/36 [==============================] - 0s 2ms/step - loss: 16.3958 - val_loss: 16.1189\n",
      "Epoch 197/500\n",
      "36/36 [==============================] - 0s 2ms/step - loss: 16.6663 - val_loss: 18.1592\n",
      "Epoch 198/500\n",
      "36/36 [==============================] - 0s 2ms/step - loss: 16.7843 - val_loss: 15.9563\n",
      "Epoch 199/500\n",
      "36/36 [==============================] - 0s 2ms/step - loss: 16.6399 - val_loss: 16.7527\n",
      "Epoch 200/500\n",
      "36/36 [==============================] - 0s 3ms/step - loss: 16.4811 - val_loss: 17.4635\n",
      "Epoch 201/500\n",
      "36/36 [==============================] - 0s 3ms/step - loss: 16.4824 - val_loss: 16.2935\n",
      "Epoch 202/500\n",
      "36/36 [==============================] - 0s 2ms/step - loss: 16.9976 - val_loss: 16.4512\n",
      "Epoch 203/500\n",
      "36/36 [==============================] - 0s 2ms/step - loss: 16.7803 - val_loss: 15.9625\n",
      "Epoch 204/500\n",
      "36/36 [==============================] - 0s 2ms/step - loss: 16.8819 - val_loss: 17.5979\n",
      "Epoch 205/500\n",
      "36/36 [==============================] - 0s 2ms/step - loss: 16.7331 - val_loss: 18.5123\n",
      "Epoch 206/500\n",
      "36/36 [==============================] - 0s 2ms/step - loss: 16.6241 - val_loss: 17.3730\n",
      "Epoch 207/500\n",
      "36/36 [==============================] - 0s 2ms/step - loss: 16.2937 - val_loss: 16.0315\n",
      "Epoch 208/500\n",
      "36/36 [==============================] - 0s 2ms/step - loss: 16.4284 - val_loss: 16.0141\n",
      "Epoch 209/500\n",
      "36/36 [==============================] - 0s 2ms/step - loss: 16.3920 - val_loss: 17.0042\n",
      "Epoch 210/500\n",
      "36/36 [==============================] - 0s 2ms/step - loss: 16.7156 - val_loss: 16.4967\n",
      "Epoch 211/500\n",
      "36/36 [==============================] - 0s 2ms/step - loss: 16.5493 - val_loss: 15.9744\n",
      "Epoch 212/500\n",
      "36/36 [==============================] - 0s 2ms/step - loss: 16.6625 - val_loss: 17.2443\n",
      "Epoch 213/500\n",
      "36/36 [==============================] - 0s 2ms/step - loss: 17.5645 - val_loss: 17.4134\n",
      "Epoch 214/500\n",
      "36/36 [==============================] - 0s 2ms/step - loss: 16.2655 - val_loss: 16.5136\n",
      "Epoch 215/500\n",
      "36/36 [==============================] - 0s 2ms/step - loss: 16.7399 - val_loss: 16.5233\n",
      "Epoch 216/500\n",
      "36/36 [==============================] - 0s 2ms/step - loss: 16.6804 - val_loss: 17.7224\n",
      "Epoch 217/500\n",
      "36/36 [==============================] - 0s 3ms/step - loss: 16.6428 - val_loss: 16.6545\n",
      "Epoch 218/500\n",
      "36/36 [==============================] - 0s 3ms/step - loss: 16.3371 - val_loss: 16.6294\n",
      "Epoch 219/500\n",
      "36/36 [==============================] - 0s 3ms/step - loss: 16.3875 - val_loss: 16.3718\n",
      "Epoch 220/500\n",
      "36/36 [==============================] - 0s 2ms/step - loss: 16.6687 - val_loss: 16.8729\n",
      "Epoch 221/500\n",
      "36/36 [==============================] - 0s 2ms/step - loss: 16.5007 - val_loss: 16.8548\n",
      "Epoch 222/500\n",
      "36/36 [==============================] - 0s 2ms/step - loss: 16.5295 - val_loss: 16.4799\n",
      "Epoch 223/500\n",
      "36/36 [==============================] - 0s 2ms/step - loss: 16.2297 - val_loss: 17.8356\n",
      "Epoch 224/500\n",
      "36/36 [==============================] - 0s 2ms/step - loss: 16.4894 - val_loss: 17.3346\n",
      "Epoch 225/500\n",
      "36/36 [==============================] - 0s 2ms/step - loss: 16.5068 - val_loss: 16.6265\n",
      "Epoch 226/500\n",
      "36/36 [==============================] - 0s 2ms/step - loss: 16.5552 - val_loss: 18.0319\n",
      "Epoch 227/500\n",
      "36/36 [==============================] - 0s 2ms/step - loss: 16.4301 - val_loss: 16.4926\n",
      "Epoch 228/500\n",
      "36/36 [==============================] - 0s 2ms/step - loss: 16.5960 - val_loss: 17.1782\n",
      "Epoch 229/500\n",
      "36/36 [==============================] - 0s 2ms/step - loss: 16.2860 - val_loss: 22.0102\n",
      "Epoch 230/500\n",
      "36/36 [==============================] - 0s 2ms/step - loss: 17.3074 - val_loss: 19.0480\n",
      "Epoch 231/500\n",
      "36/36 [==============================] - 0s 2ms/step - loss: 16.3476 - val_loss: 17.0612\n",
      "Epoch 232/500\n",
      "36/36 [==============================] - 0s 3ms/step - loss: 16.8469 - val_loss: 20.0055\n",
      "Epoch 233/500\n",
      "36/36 [==============================] - 0s 3ms/step - loss: 16.2400 - val_loss: 18.6252\n",
      "Epoch 234/500\n",
      "36/36 [==============================] - 0s 3ms/step - loss: 16.6718 - val_loss: 16.6034\n",
      "Epoch 235/500\n",
      "36/36 [==============================] - 0s 3ms/step - loss: 16.7086 - val_loss: 16.7083\n",
      "Epoch 236/500\n",
      "36/36 [==============================] - 0s 3ms/step - loss: 16.4835 - val_loss: 19.4993\n",
      "Epoch 237/500\n"
     ]
    },
    {
     "name": "stdout",
     "output_type": "stream",
     "text": [
      "36/36 [==============================] - 0s 3ms/step - loss: 16.7814 - val_loss: 16.2641\n",
      "Epoch 238/500\n",
      "36/36 [==============================] - 0s 3ms/step - loss: 16.8619 - val_loss: 17.8692\n",
      "Epoch 239/500\n",
      "36/36 [==============================] - 0s 3ms/step - loss: 16.8167 - val_loss: 16.0270\n",
      "Epoch 240/500\n",
      "36/36 [==============================] - 0s 2ms/step - loss: 16.4766 - val_loss: 17.0405\n",
      "Epoch 241/500\n",
      "36/36 [==============================] - 0s 2ms/step - loss: 16.6302 - val_loss: 16.8732\n",
      "Epoch 242/500\n",
      "36/36 [==============================] - 0s 2ms/step - loss: 16.6370 - val_loss: 16.4374\n",
      "Epoch 243/500\n",
      "36/36 [==============================] - 0s 2ms/step - loss: 16.4031 - val_loss: 16.1113\n",
      "Epoch 244/500\n",
      "36/36 [==============================] - 0s 4ms/step - loss: 16.5640 - val_loss: 17.2452\n",
      "Epoch 245/500\n",
      "36/36 [==============================] - 0s 3ms/step - loss: 16.7039 - val_loss: 16.4494\n",
      "Epoch 246/500\n",
      "36/36 [==============================] - 0s 3ms/step - loss: 16.6690 - val_loss: 17.2275\n",
      "Epoch 247/500\n",
      "36/36 [==============================] - 0s 3ms/step - loss: 16.5361 - val_loss: 16.5953\n",
      "Epoch 248/500\n",
      "36/36 [==============================] - 0s 3ms/step - loss: 17.4671 - val_loss: 16.0289\n",
      "Epoch 249/500\n",
      "36/36 [==============================] - 0s 3ms/step - loss: 16.2986 - val_loss: 19.3908\n",
      "Epoch 250/500\n",
      "36/36 [==============================] - 0s 3ms/step - loss: 16.3835 - val_loss: 17.6001\n",
      "Epoch 251/500\n",
      "36/36 [==============================] - 0s 3ms/step - loss: 16.3494 - val_loss: 16.3022\n",
      "Epoch 252/500\n",
      "36/36 [==============================] - 0s 3ms/step - loss: 16.5772 - val_loss: 16.2996\n",
      "Epoch 253/500\n",
      "36/36 [==============================] - 0s 3ms/step - loss: 16.5114 - val_loss: 18.8816\n",
      "Epoch 254/500\n",
      "36/36 [==============================] - 0s 3ms/step - loss: 16.6207 - val_loss: 19.3638\n",
      "Epoch 255/500\n",
      "36/36 [==============================] - 0s 3ms/step - loss: 16.4685 - val_loss: 16.5717\n",
      "Epoch 256/500\n",
      "36/36 [==============================] - 0s 3ms/step - loss: 16.4874 - val_loss: 16.0285\n",
      "Epoch 257/500\n",
      "36/36 [==============================] - 0s 2ms/step - loss: 16.6808 - val_loss: 17.4886\n",
      "Epoch 258/500\n",
      "36/36 [==============================] - 0s 2ms/step - loss: 16.6565 - val_loss: 16.5482\n",
      "Epoch 259/500\n",
      "36/36 [==============================] - 0s 2ms/step - loss: 16.7975 - val_loss: 17.7235\n",
      "Epoch 260/500\n",
      "36/36 [==============================] - 0s 2ms/step - loss: 16.6914 - val_loss: 16.5459\n",
      "Epoch 261/500\n",
      "36/36 [==============================] - 0s 3ms/step - loss: 16.4401 - val_loss: 21.2679\n",
      "Epoch 262/500\n",
      "36/36 [==============================] - 0s 3ms/step - loss: 16.9071 - val_loss: 17.1580\n",
      "Epoch 263/500\n",
      "36/36 [==============================] - 0s 3ms/step - loss: 16.3166 - val_loss: 16.3250\n",
      "Epoch 264/500\n",
      "36/36 [==============================] - 0s 3ms/step - loss: 16.4044 - val_loss: 17.0870\n",
      "Epoch 265/500\n",
      "36/36 [==============================] - 0s 3ms/step - loss: 16.3226 - val_loss: 17.2558\n",
      "Epoch 266/500\n",
      "36/36 [==============================] - 0s 3ms/step - loss: 16.4023 - val_loss: 16.3642\n",
      "Epoch 267/500\n",
      "36/36 [==============================] - 0s 2ms/step - loss: 16.9023 - val_loss: 16.7755\n",
      "Epoch 268/500\n",
      "36/36 [==============================] - 0s 4ms/step - loss: 16.4114 - val_loss: 17.1237\n",
      "Epoch 269/500\n",
      "36/36 [==============================] - 0s 3ms/step - loss: 16.6961 - val_loss: 16.9352\n",
      "Epoch 270/500\n",
      "36/36 [==============================] - 0s 3ms/step - loss: 16.6036 - val_loss: 18.2567\n",
      "Epoch 271/500\n",
      "36/36 [==============================] - 0s 3ms/step - loss: 16.7339 - val_loss: 16.2288\n",
      "Epoch 272/500\n",
      "36/36 [==============================] - 0s 3ms/step - loss: 15.9779 - val_loss: 19.8159\n",
      "Epoch 273/500\n",
      "36/36 [==============================] - 0s 2ms/step - loss: 16.4374 - val_loss: 16.2295\n",
      "Epoch 274/500\n",
      "36/36 [==============================] - 0s 2ms/step - loss: 16.8983 - val_loss: 20.1935\n",
      "Epoch 275/500\n",
      "36/36 [==============================] - 0s 3ms/step - loss: 16.7592 - val_loss: 16.4066\n",
      "Epoch 276/500\n",
      "36/36 [==============================] - 0s 3ms/step - loss: 16.6089 - val_loss: 16.1668\n",
      "Epoch 277/500\n",
      "36/36 [==============================] - 0s 3ms/step - loss: 16.4214 - val_loss: 16.1178\n",
      "Epoch 278/500\n",
      "36/36 [==============================] - 0s 3ms/step - loss: 16.4407 - val_loss: 16.0775\n",
      "Epoch 279/500\n",
      "36/36 [==============================] - 0s 3ms/step - loss: 17.1603 - val_loss: 17.8684\n",
      "Epoch 280/500\n",
      "36/36 [==============================] - 0s 2ms/step - loss: 16.7549 - val_loss: 16.1794\n",
      "Epoch 281/500\n",
      "36/36 [==============================] - 0s 4ms/step - loss: 16.9907 - val_loss: 16.0473\n",
      "Epoch 282/500\n",
      "36/36 [==============================] - 0s 4ms/step - loss: 16.7548 - val_loss: 17.8211\n",
      "Epoch 283/500\n",
      "36/36 [==============================] - 0s 2ms/step - loss: 16.4602 - val_loss: 17.5699\n",
      "Epoch 284/500\n",
      "36/36 [==============================] - 0s 2ms/step - loss: 16.8264 - val_loss: 16.6853\n",
      "Epoch 285/500\n",
      "36/36 [==============================] - 0s 3ms/step - loss: 17.1332 - val_loss: 16.0965\n",
      "Epoch 286/500\n",
      "36/36 [==============================] - 0s 2ms/step - loss: 16.7762 - val_loss: 16.2835\n",
      "Epoch 287/500\n",
      "36/36 [==============================] - 0s 3ms/step - loss: 16.5473 - val_loss: 17.0443\n",
      "Epoch 288/500\n",
      "36/36 [==============================] - 0s 3ms/step - loss: 16.4161 - val_loss: 16.2717\n",
      "Epoch 289/500\n",
      "36/36 [==============================] - 0s 3ms/step - loss: 16.4857 - val_loss: 16.1496\n",
      "Epoch 290/500\n",
      "36/36 [==============================] - 0s 3ms/step - loss: 16.6514 - val_loss: 16.9958\n",
      "Epoch 291/500\n",
      "36/36 [==============================] - 0s 2ms/step - loss: 16.5627 - val_loss: 16.2887\n",
      "Epoch 292/500\n",
      "36/36 [==============================] - 0s 2ms/step - loss: 16.5383 - val_loss: 16.2631\n",
      "Epoch 293/500\n",
      "36/36 [==============================] - 0s 2ms/step - loss: 16.6041 - val_loss: 16.9208\n",
      "Epoch 294/500\n",
      "36/36 [==============================] - 0s 2ms/step - loss: 16.4388 - val_loss: 16.3668\n",
      "Epoch 295/500\n",
      "36/36 [==============================] - 0s 2ms/step - loss: 16.3726 - val_loss: 18.2946\n",
      "Epoch 296/500\n",
      "36/36 [==============================] - 0s 2ms/step - loss: 16.5474 - val_loss: 16.3625\n",
      "Epoch 297/500\n",
      "36/36 [==============================] - 0s 2ms/step - loss: 16.5703 - val_loss: 18.3546\n",
      "Epoch 298/500\n",
      "36/36 [==============================] - 0s 2ms/step - loss: 17.0998 - val_loss: 16.1086\n",
      "Epoch 299/500\n",
      "36/36 [==============================] - 0s 2ms/step - loss: 17.0662 - val_loss: 17.4440\n",
      "Epoch 300/500\n",
      "36/36 [==============================] - 0s 2ms/step - loss: 16.3398 - val_loss: 17.7573\n",
      "Epoch 301/500\n",
      "36/36 [==============================] - 0s 2ms/step - loss: 16.3067 - val_loss: 16.1230\n",
      "Epoch 302/500\n",
      "36/36 [==============================] - 0s 2ms/step - loss: 17.0187 - val_loss: 16.9386\n",
      "Epoch 303/500\n",
      "36/36 [==============================] - 0s 2ms/step - loss: 16.6998 - val_loss: 17.0575\n",
      "Epoch 304/500\n",
      "36/36 [==============================] - 0s 2ms/step - loss: 16.5253 - val_loss: 16.4792\n",
      "Epoch 305/500\n",
      "36/36 [==============================] - 0s 2ms/step - loss: 16.3146 - val_loss: 19.9251\n",
      "Epoch 306/500\n",
      "36/36 [==============================] - 0s 2ms/step - loss: 16.9960 - val_loss: 16.8080\n",
      "Epoch 307/500\n",
      "36/36 [==============================] - 0s 2ms/step - loss: 16.4421 - val_loss: 16.1191\n",
      "Epoch 308/500\n",
      "36/36 [==============================] - 0s 2ms/step - loss: 16.5840 - val_loss: 18.2216\n",
      "Epoch 309/500\n",
      "36/36 [==============================] - 0s 2ms/step - loss: 16.6799 - val_loss: 19.6648\n",
      "Epoch 310/500\n",
      "36/36 [==============================] - 0s 2ms/step - loss: 16.4078 - val_loss: 17.2648\n",
      "Epoch 311/500\n",
      "36/36 [==============================] - 0s 2ms/step - loss: 16.1825 - val_loss: 16.3482\n",
      "Epoch 312/500\n",
      "36/36 [==============================] - 0s 2ms/step - loss: 17.3229 - val_loss: 18.8154\n",
      "Epoch 313/500\n",
      "36/36 [==============================] - 0s 2ms/step - loss: 17.0149 - val_loss: 16.3469\n",
      "Epoch 314/500\n",
      "36/36 [==============================] - 0s 2ms/step - loss: 16.5051 - val_loss: 16.8888\n",
      "Epoch 315/500\n",
      "36/36 [==============================] - 0s 2ms/step - loss: 16.6569 - val_loss: 17.6136\n",
      "Epoch 316/500\n",
      "36/36 [==============================] - 0s 3ms/step - loss: 16.5752 - val_loss: 16.6856\n",
      "Epoch 317/500\n",
      "36/36 [==============================] - 0s 2ms/step - loss: 16.3813 - val_loss: 18.0028\n",
      "Epoch 318/500\n",
      "36/36 [==============================] - 0s 2ms/step - loss: 16.4259 - val_loss: 17.3984\n",
      "Epoch 319/500\n",
      "36/36 [==============================] - 0s 2ms/step - loss: 16.9007 - val_loss: 17.6860\n",
      "Epoch 320/500\n",
      "36/36 [==============================] - 0s 2ms/step - loss: 17.1435 - val_loss: 17.7832\n",
      "Epoch 321/500\n",
      "36/36 [==============================] - 0s 2ms/step - loss: 16.5235 - val_loss: 16.8608\n",
      "Epoch 322/500\n",
      "36/36 [==============================] - 0s 2ms/step - loss: 16.5516 - val_loss: 16.3477\n",
      "Epoch 323/500\n",
      "36/36 [==============================] - 0s 2ms/step - loss: 16.4363 - val_loss: 16.4893\n",
      "Epoch 324/500\n",
      "36/36 [==============================] - 0s 2ms/step - loss: 16.8862 - val_loss: 17.9956\n",
      "Epoch 325/500\n",
      "36/36 [==============================] - 0s 2ms/step - loss: 17.2292 - val_loss: 18.5493\n",
      "Epoch 326/500\n",
      "36/36 [==============================] - 0s 2ms/step - loss: 16.5812 - val_loss: 16.3660\n",
      "Epoch 327/500\n",
      "36/36 [==============================] - 0s 2ms/step - loss: 16.3847 - val_loss: 19.2848\n",
      "Epoch 328/500\n",
      "36/36 [==============================] - 0s 2ms/step - loss: 16.9321 - val_loss: 16.2811\n",
      "Epoch 329/500\n",
      "36/36 [==============================] - 0s 2ms/step - loss: 16.6178 - val_loss: 16.4421\n",
      "Epoch 330/500\n",
      "36/36 [==============================] - 0s 2ms/step - loss: 17.2512 - val_loss: 16.5185\n",
      "Epoch 331/500\n",
      "36/36 [==============================] - 0s 2ms/step - loss: 16.9387 - val_loss: 18.3464\n",
      "Epoch 332/500\n",
      "36/36 [==============================] - 0s 2ms/step - loss: 16.7732 - val_loss: 16.2803\n",
      "Epoch 333/500\n",
      "36/36 [==============================] - 0s 3ms/step - loss: 16.7891 - val_loss: 17.1566\n",
      "Epoch 334/500\n",
      "36/36 [==============================] - 0s 2ms/step - loss: 16.4860 - val_loss: 16.3812\n",
      "Epoch 335/500\n",
      "36/36 [==============================] - 0s 2ms/step - loss: 16.5022 - val_loss: 24.8311\n",
      "Epoch 336/500\n",
      "36/36 [==============================] - 0s 2ms/step - loss: 17.6393 - val_loss: 20.2242\n",
      "Epoch 337/500\n",
      "36/36 [==============================] - 0s 2ms/step - loss: 17.2291 - val_loss: 16.2555\n",
      "Epoch 338/500\n",
      "36/36 [==============================] - 0s 2ms/step - loss: 16.7539 - val_loss: 16.6625\n",
      "Epoch 339/500\n",
      "36/36 [==============================] - 0s 2ms/step - loss: 16.5816 - val_loss: 16.2035\n",
      "Epoch 340/500\n",
      "36/36 [==============================] - 0s 2ms/step - loss: 16.3910 - val_loss: 17.6709\n",
      "Epoch 341/500\n",
      "36/36 [==============================] - 0s 2ms/step - loss: 16.7115 - val_loss: 21.6204\n",
      "Epoch 342/500\n",
      "36/36 [==============================] - 0s 2ms/step - loss: 17.4431 - val_loss: 16.9171\n",
      "Epoch 343/500\n",
      "36/36 [==============================] - 0s 2ms/step - loss: 16.2231 - val_loss: 21.6780\n",
      "Epoch 344/500\n",
      "36/36 [==============================] - 0s 2ms/step - loss: 16.8310 - val_loss: 17.2026\n",
      "Epoch 345/500\n",
      "36/36 [==============================] - 0s 2ms/step - loss: 16.6894 - val_loss: 17.8913\n",
      "Epoch 346/500\n",
      "36/36 [==============================] - 0s 2ms/step - loss: 16.4021 - val_loss: 16.1707\n",
      "Epoch 347/500\n",
      "36/36 [==============================] - 0s 2ms/step - loss: 16.9613 - val_loss: 17.0281\n",
      "Epoch 348/500\n",
      "36/36 [==============================] - 0s 2ms/step - loss: 16.6671 - val_loss: 16.9365\n",
      "Epoch 349/500\n",
      "36/36 [==============================] - 0s 3ms/step - loss: 16.4918 - val_loss: 17.3355\n",
      "Epoch 350/500\n",
      "36/36 [==============================] - 0s 4ms/step - loss: 15.9362 - val_loss: 16.1473\n",
      "Epoch 351/500\n",
      "36/36 [==============================] - 0s 2ms/step - loss: 16.5707 - val_loss: 17.1813\n",
      "Epoch 352/500\n",
      "36/36 [==============================] - 0s 2ms/step - loss: 16.4752 - val_loss: 16.1893\n",
      "Epoch 353/500\n",
      "36/36 [==============================] - 0s 2ms/step - loss: 17.0502 - val_loss: 16.4088\n",
      "Epoch 354/500\n",
      "36/36 [==============================] - 0s 2ms/step - loss: 16.5701 - val_loss: 16.9688\n",
      "Epoch 355/500\n",
      "36/36 [==============================] - 0s 2ms/step - loss: 16.3762 - val_loss: 16.1547\n",
      "Epoch 356/500\n",
      "36/36 [==============================] - 0s 2ms/step - loss: 16.7723 - val_loss: 17.1024\n",
      "Epoch 357/500\n",
      "36/36 [==============================] - 0s 2ms/step - loss: 16.5286 - val_loss: 16.1925\n",
      "Epoch 358/500\n",
      "36/36 [==============================] - 0s 2ms/step - loss: 16.3354 - val_loss: 19.0391\n",
      "Epoch 359/500\n",
      "36/36 [==============================] - 0s 2ms/step - loss: 17.5239 - val_loss: 17.0932\n",
      "Epoch 360/500\n",
      "36/36 [==============================] - 0s 2ms/step - loss: 16.6559 - val_loss: 16.3162\n",
      "Epoch 361/500\n",
      "36/36 [==============================] - 0s 2ms/step - loss: 16.8206 - val_loss: 16.6058\n",
      "Epoch 362/500\n",
      "36/36 [==============================] - 0s 2ms/step - loss: 16.3926 - val_loss: 18.3807\n",
      "Epoch 363/500\n",
      "36/36 [==============================] - 0s 2ms/step - loss: 16.3853 - val_loss: 20.5420\n",
      "Epoch 364/500\n",
      "36/36 [==============================] - 0s 2ms/step - loss: 16.4734 - val_loss: 17.9121\n",
      "Epoch 365/500\n",
      "36/36 [==============================] - 0s 2ms/step - loss: 16.3665 - val_loss: 16.4279\n",
      "Epoch 366/500\n",
      "36/36 [==============================] - 0s 2ms/step - loss: 16.5731 - val_loss: 16.3945\n",
      "Epoch 367/500\n",
      "36/36 [==============================] - 0s 2ms/step - loss: 16.2487 - val_loss: 18.3845\n",
      "Epoch 368/500\n",
      "36/36 [==============================] - 0s 2ms/step - loss: 16.4051 - val_loss: 16.9263\n",
      "Epoch 369/500\n",
      "36/36 [==============================] - 0s 2ms/step - loss: 16.4438 - val_loss: 18.3126\n",
      "Epoch 370/500\n",
      "36/36 [==============================] - 0s 3ms/step - loss: 16.4916 - val_loss: 16.1840\n",
      "Epoch 371/500\n",
      "36/36 [==============================] - 0s 2ms/step - loss: 16.3138 - val_loss: 17.4822\n",
      "Epoch 372/500\n",
      "36/36 [==============================] - 0s 2ms/step - loss: 16.3618 - val_loss: 16.5156\n",
      "Epoch 373/500\n",
      "36/36 [==============================] - 0s 2ms/step - loss: 16.5754 - val_loss: 16.2085\n",
      "Epoch 374/500\n",
      "36/36 [==============================] - 0s 2ms/step - loss: 16.6203 - val_loss: 17.6544\n",
      "Epoch 375/500\n",
      "36/36 [==============================] - 0s 2ms/step - loss: 16.4954 - val_loss: 17.0817\n",
      "Epoch 376/500\n",
      "36/36 [==============================] - 0s 2ms/step - loss: 16.3363 - val_loss: 16.7278\n",
      "Epoch 377/500\n",
      "36/36 [==============================] - 0s 2ms/step - loss: 16.3349 - val_loss: 18.1888\n",
      "Epoch 378/500\n",
      "36/36 [==============================] - 0s 2ms/step - loss: 16.3894 - val_loss: 16.1330\n",
      "Epoch 379/500\n",
      "36/36 [==============================] - 0s 2ms/step - loss: 17.0622 - val_loss: 18.2613\n",
      "Epoch 380/500\n",
      "36/36 [==============================] - 0s 2ms/step - loss: 16.4804 - val_loss: 16.3417\n",
      "Epoch 381/500\n",
      "36/36 [==============================] - 0s 2ms/step - loss: 16.6324 - val_loss: 16.6248\n",
      "Epoch 382/500\n",
      "36/36 [==============================] - 0s 2ms/step - loss: 16.3672 - val_loss: 16.2056\n",
      "Epoch 383/500\n",
      "36/36 [==============================] - 0s 2ms/step - loss: 16.4864 - val_loss: 16.8612\n",
      "Epoch 384/500\n",
      "36/36 [==============================] - 0s 3ms/step - loss: 16.2218 - val_loss: 18.5068\n",
      "Epoch 385/500\n",
      "36/36 [==============================] - 0s 3ms/step - loss: 16.7573 - val_loss: 16.3365\n",
      "Epoch 386/500\n",
      "36/36 [==============================] - 0s 2ms/step - loss: 16.3973 - val_loss: 19.1258\n",
      "Epoch 387/500\n",
      "36/36 [==============================] - 0s 2ms/step - loss: 16.4028 - val_loss: 16.9739\n",
      "Epoch 388/500\n",
      "36/36 [==============================] - 0s 2ms/step - loss: 16.3292 - val_loss: 16.2518\n",
      "Epoch 389/500\n",
      "36/36 [==============================] - 0s 2ms/step - loss: 16.5790 - val_loss: 16.4872\n",
      "Epoch 390/500\n",
      "36/36 [==============================] - 0s 2ms/step - loss: 16.5821 - val_loss: 16.1237\n",
      "Epoch 391/500\n",
      "36/36 [==============================] - 0s 2ms/step - loss: 16.8410 - val_loss: 18.2038\n",
      "Epoch 392/500\n",
      "36/36 [==============================] - 0s 2ms/step - loss: 16.2996 - val_loss: 16.8368\n",
      "Epoch 393/500\n",
      "36/36 [==============================] - 0s 2ms/step - loss: 16.8971 - val_loss: 17.5572\n",
      "Epoch 394/500\n",
      "36/36 [==============================] - 0s 2ms/step - loss: 16.7078 - val_loss: 17.2723\n",
      "Epoch 395/500\n"
     ]
    },
    {
     "name": "stdout",
     "output_type": "stream",
     "text": [
      "36/36 [==============================] - 0s 2ms/step - loss: 16.4492 - val_loss: 17.0307\n",
      "Epoch 396/500\n",
      "36/36 [==============================] - 0s 2ms/step - loss: 16.6802 - val_loss: 16.3107\n",
      "Epoch 397/500\n",
      "36/36 [==============================] - 0s 2ms/step - loss: 16.4843 - val_loss: 16.1946\n",
      "Epoch 398/500\n",
      "36/36 [==============================] - 0s 2ms/step - loss: 16.8617 - val_loss: 16.2418\n",
      "Epoch 399/500\n",
      "36/36 [==============================] - 0s 2ms/step - loss: 16.4759 - val_loss: 17.4980\n",
      "Epoch 400/500\n",
      "36/36 [==============================] - 0s 2ms/step - loss: 16.3123 - val_loss: 21.4137\n",
      "Epoch 401/500\n",
      "36/36 [==============================] - 0s 2ms/step - loss: 16.8572 - val_loss: 18.2294\n",
      "Epoch 402/500\n",
      "36/36 [==============================] - 0s 2ms/step - loss: 16.4609 - val_loss: 17.0987\n",
      "Epoch 403/500\n",
      "36/36 [==============================] - 0s 2ms/step - loss: 16.8181 - val_loss: 16.3992\n",
      "Epoch 404/500\n",
      "36/36 [==============================] - 0s 2ms/step - loss: 16.2468 - val_loss: 17.5171\n",
      "Epoch 405/500\n",
      "36/36 [==============================] - 0s 2ms/step - loss: 16.4365 - val_loss: 16.1596\n",
      "Epoch 406/500\n",
      "36/36 [==============================] - 0s 2ms/step - loss: 16.5633 - val_loss: 18.0909\n",
      "Epoch 407/500\n",
      "36/36 [==============================] - 0s 2ms/step - loss: 16.4799 - val_loss: 18.3767\n",
      "Epoch 408/500\n",
      "36/36 [==============================] - 0s 2ms/step - loss: 17.0134 - val_loss: 18.8949\n",
      "Epoch 409/500\n",
      "36/36 [==============================] - 0s 2ms/step - loss: 16.2740 - val_loss: 17.3646\n",
      "Epoch 410/500\n",
      "36/36 [==============================] - 0s 2ms/step - loss: 17.0441 - val_loss: 17.5569\n",
      "Epoch 411/500\n",
      "36/36 [==============================] - 0s 2ms/step - loss: 16.4932 - val_loss: 17.0000\n",
      "Epoch 412/500\n",
      "36/36 [==============================] - 0s 2ms/step - loss: 16.5370 - val_loss: 16.2893\n",
      "Epoch 413/500\n",
      "36/36 [==============================] - 0s 2ms/step - loss: 16.7387 - val_loss: 16.1339\n",
      "Epoch 414/500\n",
      "36/36 [==============================] - 0s 2ms/step - loss: 16.7527 - val_loss: 21.9719\n",
      "Epoch 415/500\n",
      "36/36 [==============================] - 0s 2ms/step - loss: 17.2777 - val_loss: 18.4988\n",
      "Epoch 416/500\n",
      "36/36 [==============================] - 0s 2ms/step - loss: 16.3457 - val_loss: 16.4410\n",
      "Epoch 417/500\n",
      "36/36 [==============================] - 0s 2ms/step - loss: 16.4241 - val_loss: 16.4282\n",
      "Epoch 418/500\n",
      "36/36 [==============================] - 0s 2ms/step - loss: 16.4398 - val_loss: 17.4957\n",
      "Epoch 419/500\n",
      "36/36 [==============================] - 0s 2ms/step - loss: 16.4786 - val_loss: 16.7683\n",
      "Epoch 420/500\n",
      "36/36 [==============================] - 0s 2ms/step - loss: 16.4998 - val_loss: 18.7135\n",
      "Epoch 421/500\n",
      "36/36 [==============================] - 0s 2ms/step - loss: 16.7283 - val_loss: 17.5007\n",
      "Epoch 422/500\n",
      "36/36 [==============================] - 0s 2ms/step - loss: 16.5452 - val_loss: 16.2611\n",
      "Epoch 423/500\n",
      "36/36 [==============================] - 0s 2ms/step - loss: 16.4431 - val_loss: 16.1218\n",
      "Epoch 424/500\n",
      "36/36 [==============================] - 0s 2ms/step - loss: 16.7434 - val_loss: 16.5325\n",
      "Epoch 425/500\n",
      "36/36 [==============================] - 0s 2ms/step - loss: 16.4090 - val_loss: 18.1321\n",
      "Epoch 426/500\n",
      "36/36 [==============================] - 0s 2ms/step - loss: 16.8604 - val_loss: 16.4789\n",
      "Epoch 427/500\n",
      "36/36 [==============================] - 0s 2ms/step - loss: 16.1853 - val_loss: 16.2001\n",
      "Epoch 428/500\n",
      "36/36 [==============================] - 0s 2ms/step - loss: 16.5452 - val_loss: 16.1125\n",
      "Epoch 429/500\n",
      "36/36 [==============================] - 0s 2ms/step - loss: 16.8384 - val_loss: 19.1627\n",
      "Epoch 430/500\n",
      "36/36 [==============================] - 0s 2ms/step - loss: 16.6476 - val_loss: 18.7832\n",
      "Epoch 431/500\n",
      "36/36 [==============================] - 0s 2ms/step - loss: 16.4862 - val_loss: 16.1938\n",
      "Epoch 432/500\n",
      "36/36 [==============================] - 0s 2ms/step - loss: 16.8788 - val_loss: 18.6096\n",
      "Epoch 433/500\n",
      "36/36 [==============================] - 0s 3ms/step - loss: 16.4465 - val_loss: 16.2304\n",
      "Epoch 434/500\n",
      "36/36 [==============================] - 0s 2ms/step - loss: 16.6016 - val_loss: 16.2569\n",
      "Epoch 435/500\n",
      "36/36 [==============================] - 0s 2ms/step - loss: 16.9618 - val_loss: 17.1245\n",
      "Epoch 436/500\n",
      "36/36 [==============================] - 0s 2ms/step - loss: 16.6871 - val_loss: 19.2885\n",
      "Epoch 437/500\n",
      "36/36 [==============================] - 0s 2ms/step - loss: 16.5871 - val_loss: 17.9645\n",
      "Epoch 438/500\n",
      "36/36 [==============================] - 0s 2ms/step - loss: 16.2651 - val_loss: 16.3198\n",
      "Epoch 439/500\n",
      "36/36 [==============================] - 0s 2ms/step - loss: 16.2442 - val_loss: 18.4132\n",
      "Epoch 440/500\n",
      "36/36 [==============================] - 0s 2ms/step - loss: 16.8499 - val_loss: 16.7081\n",
      "Epoch 441/500\n",
      "36/36 [==============================] - 0s 2ms/step - loss: 16.4208 - val_loss: 17.8721\n",
      "Epoch 442/500\n",
      "36/36 [==============================] - 0s 2ms/step - loss: 16.4672 - val_loss: 16.9605\n",
      "Epoch 443/500\n",
      "36/36 [==============================] - 0s 2ms/step - loss: 17.1308 - val_loss: 16.5700\n",
      "Epoch 444/500\n",
      "36/36 [==============================] - 0s 2ms/step - loss: 16.6442 - val_loss: 16.1645\n",
      "Epoch 445/500\n",
      "36/36 [==============================] - 0s 2ms/step - loss: 16.5178 - val_loss: 18.3115\n",
      "Epoch 446/500\n",
      "36/36 [==============================] - 0s 2ms/step - loss: 16.6200 - val_loss: 17.1152\n",
      "Epoch 447/500\n",
      "36/36 [==============================] - 0s 2ms/step - loss: 16.5332 - val_loss: 16.9701\n",
      "Epoch 448/500\n",
      "36/36 [==============================] - 0s 2ms/step - loss: 16.3958 - val_loss: 18.1584\n",
      "Epoch 449/500\n",
      "36/36 [==============================] - 0s 2ms/step - loss: 16.3914 - val_loss: 17.5008\n",
      "Epoch 450/500\n",
      "36/36 [==============================] - 0s 2ms/step - loss: 16.4716 - val_loss: 17.1083\n",
      "Epoch 451/500\n",
      "36/36 [==============================] - 0s 2ms/step - loss: 16.5965 - val_loss: 17.0302\n",
      "Epoch 452/500\n",
      "36/36 [==============================] - 0s 2ms/step - loss: 16.5500 - val_loss: 18.2389\n",
      "Epoch 453/500\n",
      "36/36 [==============================] - 0s 2ms/step - loss: 16.6763 - val_loss: 16.3376\n",
      "Epoch 454/500\n",
      "36/36 [==============================] - 0s 2ms/step - loss: 16.4363 - val_loss: 16.1753\n",
      "Epoch 455/500\n",
      "36/36 [==============================] - 0s 2ms/step - loss: 16.4562 - val_loss: 17.4067\n",
      "Epoch 456/500\n",
      "36/36 [==============================] - 0s 2ms/step - loss: 16.3679 - val_loss: 17.6721\n",
      "Epoch 457/500\n",
      "36/36 [==============================] - 0s 2ms/step - loss: 16.3850 - val_loss: 18.5871\n",
      "Epoch 458/500\n",
      "36/36 [==============================] - 0s 2ms/step - loss: 16.6853 - val_loss: 17.2821\n",
      "Epoch 459/500\n",
      "36/36 [==============================] - 0s 2ms/step - loss: 16.7839 - val_loss: 16.4783\n",
      "Epoch 460/500\n",
      "36/36 [==============================] - 0s 2ms/step - loss: 16.9321 - val_loss: 16.6865\n",
      "Epoch 461/500\n",
      "36/36 [==============================] - 0s 2ms/step - loss: 16.9391 - val_loss: 21.1507\n",
      "Epoch 462/500\n",
      "36/36 [==============================] - 0s 2ms/step - loss: 16.8050 - val_loss: 16.7855\n",
      "Epoch 463/500\n",
      "36/36 [==============================] - 0s 2ms/step - loss: 16.5512 - val_loss: 16.9494\n",
      "Epoch 464/500\n",
      "36/36 [==============================] - 0s 2ms/step - loss: 16.9012 - val_loss: 19.8118\n",
      "Epoch 465/500\n",
      "36/36 [==============================] - 0s 2ms/step - loss: 16.4314 - val_loss: 17.0874\n",
      "Epoch 466/500\n",
      "36/36 [==============================] - 0s 2ms/step - loss: 16.7542 - val_loss: 16.8836\n",
      "Epoch 467/500\n",
      "36/36 [==============================] - 0s 2ms/step - loss: 16.5783 - val_loss: 16.3280\n",
      "Epoch 468/500\n",
      "36/36 [==============================] - 0s 2ms/step - loss: 16.4307 - val_loss: 16.9516\n",
      "Epoch 469/500\n",
      "36/36 [==============================] - 0s 2ms/step - loss: 16.4128 - val_loss: 17.9483\n",
      "Epoch 470/500\n",
      "36/36 [==============================] - 0s 2ms/step - loss: 16.6165 - val_loss: 16.1726\n",
      "Epoch 471/500\n",
      "36/36 [==============================] - 0s 2ms/step - loss: 16.6574 - val_loss: 16.5676\n",
      "Epoch 472/500\n",
      "36/36 [==============================] - 0s 2ms/step - loss: 16.7842 - val_loss: 18.2771\n",
      "Epoch 473/500\n",
      "36/36 [==============================] - 0s 2ms/step - loss: 16.3440 - val_loss: 17.0754\n",
      "Epoch 474/500\n",
      "36/36 [==============================] - 0s 2ms/step - loss: 16.6119 - val_loss: 16.7195\n",
      "Epoch 475/500\n",
      "36/36 [==============================] - 0s 2ms/step - loss: 16.5779 - val_loss: 18.8824\n",
      "Epoch 476/500\n",
      "36/36 [==============================] - 0s 2ms/step - loss: 16.5752 - val_loss: 16.9472\n",
      "Epoch 477/500\n",
      "36/36 [==============================] - 0s 2ms/step - loss: 16.9497 - val_loss: 19.5850\n",
      "Epoch 478/500\n",
      "36/36 [==============================] - 0s 2ms/step - loss: 16.7656 - val_loss: 17.3328\n",
      "Epoch 479/500\n",
      "36/36 [==============================] - 0s 2ms/step - loss: 16.5252 - val_loss: 17.5406\n",
      "Epoch 480/500\n",
      "36/36 [==============================] - 0s 2ms/step - loss: 16.3078 - val_loss: 16.9668\n",
      "Epoch 481/500\n",
      "36/36 [==============================] - 0s 3ms/step - loss: 16.5414 - val_loss: 17.0150\n",
      "Epoch 482/500\n",
      "36/36 [==============================] - 0s 3ms/step - loss: 16.2570 - val_loss: 17.0353\n",
      "Epoch 483/500\n",
      "36/36 [==============================] - 0s 2ms/step - loss: 16.4302 - val_loss: 17.4147\n",
      "Epoch 484/500\n",
      "36/36 [==============================] - 0s 2ms/step - loss: 16.3755 - val_loss: 16.7573\n",
      "Epoch 485/500\n",
      "36/36 [==============================] - 0s 2ms/step - loss: 16.4580 - val_loss: 16.1569\n",
      "Epoch 486/500\n",
      "36/36 [==============================] - 0s 2ms/step - loss: 17.6016 - val_loss: 21.2748\n",
      "Epoch 487/500\n",
      "36/36 [==============================] - 0s 2ms/step - loss: 16.9647 - val_loss: 16.1550\n",
      "Epoch 488/500\n",
      "36/36 [==============================] - 0s 3ms/step - loss: 16.6067 - val_loss: 16.2191\n",
      "Epoch 489/500\n",
      "36/36 [==============================] - 0s 3ms/step - loss: 16.6014 - val_loss: 16.9443\n",
      "Epoch 490/500\n",
      "36/36 [==============================] - 0s 4ms/step - loss: 16.3452 - val_loss: 18.2026\n",
      "Epoch 491/500\n",
      "36/36 [==============================] - 0s 5ms/step - loss: 16.8300 - val_loss: 17.0572\n",
      "Epoch 492/500\n",
      "36/36 [==============================] - 0s 4ms/step - loss: 16.2139 - val_loss: 16.1995\n",
      "Epoch 493/500\n",
      "36/36 [==============================] - 0s 3ms/step - loss: 16.4931 - val_loss: 19.9966\n",
      "Epoch 494/500\n",
      "36/36 [==============================] - 0s 5ms/step - loss: 16.6469 - val_loss: 18.9077\n",
      "Epoch 495/500\n",
      "36/36 [==============================] - 0s 5ms/step - loss: 16.8685 - val_loss: 16.5032\n",
      "Epoch 496/500\n",
      "36/36 [==============================] - 0s 4ms/step - loss: 17.1585 - val_loss: 16.3589\n",
      "Epoch 497/500\n",
      "36/36 [==============================] - 0s 2ms/step - loss: 16.9451 - val_loss: 16.7738\n",
      "Epoch 498/500\n",
      "36/36 [==============================] - 0s 3ms/step - loss: 16.9489 - val_loss: 19.9446\n",
      "Epoch 499/500\n",
      "36/36 [==============================] - 0s 3ms/step - loss: 16.5108 - val_loss: 18.3081\n",
      "Epoch 500/500\n",
      "36/36 [==============================] - 0s 2ms/step - loss: 16.4514 - val_loss: 16.6664\n"
     ]
    }
   ],
   "source": [
    "history=model2.fit(X_train, y_train, validation_data =(X_test, y_test),epochs=500, batch_size=10) #verbose=0"
   ]
  },
  {
   "cell_type": "markdown",
   "metadata": {},
   "source": [
    "Adding in the extra layer did bring down the mean squared error somewhat compared to the first model above."
   ]
  },
  {
   "cell_type": "code",
   "execution_count": 226,
   "metadata": {},
   "outputs": [
    {
     "name": "stdout",
     "output_type": "stream",
     "text": [
      "Train: 16.145, Test: 16.666\n"
     ]
    }
   ],
   "source": [
    "train_mse2 = model2.evaluate(X_train, y_train, verbose=0)\n",
    "test_mse2 = model2.evaluate(X_test, y_test, verbose=0)\n",
    "print('Train: %.3f, Test: %.3f' % (train_mse2, test_mse2))"
   ]
  },
  {
   "cell_type": "code",
   "execution_count": 227,
   "metadata": {},
   "outputs": [
    {
     "name": "stdout",
     "output_type": "stream",
     "text": [
      "Train: 18.151, Test: 17.986\n"
     ]
    }
   ],
   "source": [
    "# from first neural network model with one dense layer\n",
    "print('Train: %.3f, Test: %.3f' % (train_mse, test_mse))"
   ]
  },
  {
   "cell_type": "code",
   "execution_count": 246,
   "metadata": {},
   "outputs": [],
   "source": [
    "model2_predictions = model2.predict(X_test)"
   ]
  },
  {
   "cell_type": "code",
   "execution_count": 223,
   "metadata": {},
   "outputs": [],
   "source": [
    "model2.save('model2.h5')"
   ]
  },
  {
   "cell_type": "markdown",
   "metadata": {},
   "source": [
    "Using the first neural network model the mean squared error was 18.151 on the training data and 17.986 on the validation data. This had one dense layer of 60 neurons. The second neural network model had two dense layer eahc with 50 neurons. The mean squared error fell to 16.145 on the training datat and 16.666 on the validation data.\n",
    "I did use the same training and test split as I had set a random seed earlier. I think you could probably play around with changing parameters in the models but more understanding is really required as to what they are doing.\n",
    "The second model has a far higher number of neurons and while this is a relatively small dataset it might not translate well in terms of processing time to large datasets for the relatively small improvement in reducing loss.\n",
    "I'm not sure yet how they compare in terms of predicting on the same values."
   ]
  },
  {
   "cell_type": "code",
   "execution_count": 233,
   "metadata": {},
   "outputs": [
    {
     "name": "stdout",
     "output_type": "stream",
     "text": [
      "Model: \"sequential\"\n",
      "_________________________________________________________________\n",
      "Layer (type)                 Output Shape              Param #   \n",
      "=================================================================\n",
      "dense (Dense)                (None, 60)                120       \n",
      "_________________________________________________________________\n",
      "dense_1 (Dense)              (None, 1)                 61        \n",
      "=================================================================\n",
      "Total params: 181\n",
      "Trainable params: 181\n",
      "Non-trainable params: 0\n",
      "_________________________________________________________________\n"
     ]
    }
   ],
   "source": [
    "model.summary()"
   ]
  },
  {
   "cell_type": "code",
   "execution_count": 234,
   "metadata": {},
   "outputs": [
    {
     "name": "stdout",
     "output_type": "stream",
     "text": [
      "Model: \"sequential_1\"\n",
      "_________________________________________________________________\n",
      "Layer (type)                 Output Shape              Param #   \n",
      "=================================================================\n",
      "dense_2 (Dense)              (None, 50)                100       \n",
      "_________________________________________________________________\n",
      "dense_3 (Dense)              (None, 50)                2550      \n",
      "_________________________________________________________________\n",
      "dense_4 (Dense)              (None, 1)                 51        \n",
      "=================================================================\n",
      "Total params: 2,701\n",
      "Trainable params: 2,701\n",
      "Non-trainable params: 0\n",
      "_________________________________________________________________\n"
     ]
    }
   ],
   "source": [
    "model2.summary()"
   ]
  },
  {
   "cell_type": "markdown",
   "metadata": {},
   "source": [
    "### Saving and loading the model\n",
    "Instead of having to retrain the model each time,  it can be saved to a file using the `save()` function on the model and loaded later to make predictions using the `load_model()` function. The model is saved in H5 format, an efficient array storage format.\n",
    "For this I need  the `h5py` library. "
   ]
  },
  {
   "cell_type": "raw",
   "metadata": {},
   "source": [
    "\n",
    "from tensorflow.keras.models import load_model"
   ]
  },
  {
   "cell_type": "raw",
   "metadata": {},
   "source": [
    "model = load_model('model.h5')"
   ]
  },
  {
   "cell_type": "raw",
   "metadata": {},
   "source": [
    "model2 = load_model('model.h5')"
   ]
  },
  {
   "cell_type": "markdown",
   "metadata": {},
   "source": [
    "\n",
    "Will need to incorporate some if else statements into the final prediction function.\n",
    "\n",
    "if speed is below cut-in speed predict zero power\n",
    "if speed is above cut-out speed, predict zero power\n",
    "Not sure how to capture the non-zero power values accurately where power has been stored up\n",
    "I don't think we can actually get the most accurate model with only one feature provided.\n"
   ]
  },
  {
   "cell_type": "code",
   "execution_count": 230,
   "metadata": {},
   "outputs": [
    {
     "name": "stdout",
     "output_type": "stream",
     "text": [
      "[[102.05726]]\n"
     ]
    },
    {
     "data": {
      "text/plain": [
       "array([[99.418755]], dtype=float32)"
      ]
     },
     "execution_count": 230,
     "metadata": {},
     "output_type": "execute_result"
    }
   ],
   "source": [
    "print(f\"{model.predict([24.4])}\")\n",
    "model2.predict([24.4])"
   ]
  },
  {
   "cell_type": "code",
   "execution_count": 133,
   "metadata": {},
   "outputs": [],
   "source": [
    "def predict_power(speed):\n",
    "    \n",
    "    if speed >= 24.4:\n",
    "        return 0\n",
    "    if speed < 4:\n",
    "        return 0\n",
    "        \n",
    "        \n",
    "    else:\n",
    "        # TypeError: '>' not supported between instances of 'list' and 'float'\n",
    "        speed = np.array([[speed]])\n",
    "        print(speed.dtype)\n",
    "        power = model.predict(speed)\n",
    "        return power"
   ]
  },
  {
   "cell_type": "code",
   "execution_count": 134,
   "metadata": {},
   "outputs": [
    {
     "data": {
      "text/plain": [
       "0"
      ]
     },
     "execution_count": 134,
     "metadata": {},
     "output_type": "execute_result"
    }
   ],
   "source": [
    "predict_power(24.4)"
   ]
  },
  {
   "cell_type": "code",
   "execution_count": 135,
   "metadata": {},
   "outputs": [
    {
     "name": "stdout",
     "output_type": "stream",
     "text": [
      "int64\n"
     ]
    },
    {
     "data": {
      "text/plain": [
       "array([[3.8954556]], dtype=float32)"
      ]
     },
     "execution_count": 135,
     "metadata": {},
     "output_type": "execute_result"
    }
   ],
   "source": [
    "predict_power(4)"
   ]
  },
  {
   "cell_type": "code",
   "execution_count": 239,
   "metadata": {},
   "outputs": [
    {
     "name": "stdout",
     "output_type": "stream",
     "text": [
      "Predicted: 99.419\n"
     ]
    }
   ],
   "source": [
    "speed = [20.647]\n",
    "yhat= model.predict(speed)\n",
    "print('Predicted: %.3f' % yhat[0])"
   ]
  },
  {
   "cell_type": "markdown",
   "metadata": {},
   "source": [
    "## Cut this\n",
    "## Normalisation / Scaling the data\n",
    "\n",
    "I think this is throwing everything out to be honest. I'm not sure whether both the inputs and outputs should be scaled. Many examples in blogs only scale the inputs or the target variable but in this dataset we only have a single input variable and a single target variable.\n",
    "Without scaling the model does quite a good job considering all it has are two single columns of numbers. The wind speed seems to be uniformly distributed. I might just note it here but in the final model go without scaling.\n",
    "Also need to tidy up this notebook and remove a lot of excess crap!\n",
    "\n",
    "The model can be updated to scale the target variable. \n",
    ">Reducing the scale of the target variable will, in turn, reduce the size of the gradient used to update the weights and result in a more stable model and training process. [Data Scaling to improve the network](https://machinelearningmastery.com/how-to-improve-neural-network-stability-and-modeling-performance-with-data-scaling/)[123345]\n",
    "\n",
    "According to this article, a good rule of thumb is that input variables should be small values, probably in the range of 0-1 or standardized with a zero mean and a standard deviation of one.\n",
    ">If the distribution of the quantity is normal, then it should be standardized, otherwise the data should be normalized.\n",
    "If in doubt, normalise the input sequence.\n",
    "\n",
    ">The output variable is the variable predicted by the network. If the distribution of the value is normal, then you can standardize the output variable. Otherwise, the output variable can be normalized.\n",
    "\n",
    "The distribution of the speed variable in the dataset is not normal so it should be normalised rather than standardised.  Normalization is a rescaling of the data from the original range so that all values are within the range of 0 and 1.\n",
    "\n",
    "\n",
    "The article indicates that good practice with the `MinMaxScaler` and other scaling techniques is to :\n",
    "- Fit the scaler using the available training data. For normalization, this means the training data will be used to estimate the minimum and maximum observable values. Use `fit()` to do this.\n",
    "- Apply the scale to the training data. Use the normalised data to train the model. Use `transform()` to do this.\n",
    "- Apply the scale going forward.\n",
    "`fit_transform()` function can do the two steps in one go.\n",
    "\n",
    "`scaler = MinMaxScaler()` \n",
    "`normalized = scaler.fit_transform(data)` \n",
    "\n",
    "Scikit-learn's preprocessing module can be used to scale the data.\n",
    ">Standardization of datasets is a common requirement for many machine learning estimators implemented in scikit-learn; they might behave badly if the individual features do not more or less look like standard normally distributed data: Gaussian with zero mean and unit variance. In practice we often ignore the shape of the distribution and just transform the data to center it by removing the mean value of each feature, then scale it by dividing non-constant features by their standard deviation.\n",
    "https://scikit-learn.org/stable/modules/preprocessing.html#preprocessing\n",
    "\n",
    "The data can be scaled to lie between a given minimum and maximum value such as between zero and one or so that the maximum absolute value of each feature is scaled to unit size. \n",
    "\n",
    "`scaler = MinMaxScaler(feature_range=(-1,1))`\n",
    "\n",
    "\n",
    "The [Introduction to Keras for Engineers](https://keras.io/getting_started/intro_to_keras_for_engineers/) does suggest that data preprocessing should be done such as feature normalisation.\n",
    "- Do preprocessing such as feature normalisation.\n",
    "The data consists of two columns of data and thats it. The only preprocesing that is applicable here is to rescale the data to small values as in general the input values to a neural network should be close to zero. According to the tutorial  the data should either be rescaled to have zero-mean and unit-variance or the data in the `[0.1]` range. The preprocessing should ideally be done as part of the model to make it more portable in production. In Keras the preprocessing is done via preprocessing layers which can be included directly into your model either during training or after training. Some preprocessing layers have a state, in this case normalization holds the mean and variance of the features and can be obtained by calling `layer.adapt(data)` on a sample or all of the training data.\n",
    "\n",
    "CSV data needs to be parsed, with numerical features converted to floating point tensors and categorical features indexed and converted to integer tensors. Then each feature typically needs to be normalized to zero-mean and unit-variance.\n",
    "\n",
    "---\n",
    "https://machinelearningmastery.com/data-leakage-machine-learning/\n",
    "https://datascience.stackexchange.com/questions/54908/data-normalization-before-or-after-train-test-split#:~:text=3%20Answers&text=Normalization%20across%20instances%20should%20be,data%20from%20the%20training%20set.&text=Using%20any%20information%20coming%20from,the%20evaluation%20of%20the%20performance.\n",
    "\n",
    "Normalization should be done after splitting the data into train and test/validation to avoid data leakage. Data leakage is where information from outside the dataset is used to train the model.\n",
    "Normalization across instances should be done after splitting the data between training and test set, using only the data from the training set. This is because the test set plays the role of fresh unseen data, so it's not supposed to be accessible at the training stage. Using any information coming from the test set before or during training is a potential bias in the evaluation of the performance.\n",
    "\n",
    "As yet I am not fully sure whether I should scale outputs as well as inputs but I think I should as we only have a single input feature to train the model on and predict the outputs.\n",
    "\n",
    "Continuing with following this blog:\n",
    "https://machinelearningmastery.com/how-to-improve-neural-network-stability-and-modeling-performance-with-data-scaling/\n",
    "\n",
    ">It is best practice is to estimate the mean and standard deviation of the training dataset and use these variables to scale the train and test dataset. This is to avoid any data leakage during the model evaluation process.\n",
    ">The scikit-learn transformers expect input data to be matrices of rows and columns, therefore the 1D arrays for the target variable will have to be reshaped into 2D arrays prior to the transforms.\n",
    "\n",
    "I have the data already in 2-d from earlier. Otherwise could do the following:\n",
    "`y_train= y_train.reshape(len(y_train),1)`\n",
    "`y_test = Y_test.reshape(len(y_train), 1)`\n",
    "\n",
    "#### Scaling the data\n",
    "- using min_max scaler:\n",
    "Scale the training data first:\n",
    "\n",
    "Tensorflow.keras has methods for scaling the data also but I've seen more online blogs such as machine learning mastery use sklearn to preprocess and scale, then keras-tensorflow to train the neural network model.\n",
    "\n",
    "#### Scaling using sklearn\n",
    "Here I will scale both the input and output features using the MinMaxScaler() function. This should be done after the data has been split into train test datasets.\n",
    "- Fit the scale using the available training data using fit()\n",
    "- Apply the scale to the training data using transform()\n",
    "- Apply the scale to data going forward - any new data on which you want to make predictions.\n",
    "\n",
    "from tensorflow.keras.layers.experimental.preprocessing import Normalization\n",
    "normalizer = Normalization(axis=-1)"
   ]
  },
  {
   "cell_type": "markdown",
   "metadata": {},
   "source": [
    "\n",
    "### Comparing Models\n",
    "\n",
    "\n",
    "The loss is still quite high and did not come down much despite playing around with the parameters.\n",
    "The ideal loss is is zero and the ideal accuracy is 1.0 or 100%.\n",
    ">The goal is to choose a model configuration and training configuration that achieve the lowest loss and highest accuracy possible for a given dataset\n",
    "- https://machinelearningmastery.com/tutorial-first-neural-network-python-keras/"
   ]
  },
  {
   "cell_type": "markdown",
   "metadata": {},
   "source": [
    "### Plot the predictions from the three models\n",
    "\n",
    "make this look nicer!"
   ]
  },
  {
   "cell_type": "code",
   "execution_count": 265,
   "metadata": {},
   "outputs": [
    {
     "data": {
      "image/png": "[encoded data removed]",
      "text/plain": [
       "<Figure size 1008x576 with 1 Axes>"
      ]
     },
     "metadata": {},
     "output_type": "display_data"
    }
   ],
   "source": [
    "plt.plot(X_test, y_test, '.k', label ='actual')\n",
    "plt.plot(X_test, model_predictions,'b.', label=\"predicted values from Neural Network 1\")\n",
    "plt.plot(X_test, model2_predictions,'r.', label=\"predicted values from Neural Network 1\")\n",
    "plt.plot(X_test, poly3_predictions, 'g.', label=\"predicted values from Polynomial order 3\")\n",
    "plt.xlabel(\"Wind speed\")\n",
    "plt.ylabel(\"power\")\n",
    "plt.title(\"Comparing the predictions from the models\")\n",
    "plt.legend()\n",
    "plt.show()"
   ]
  },
  {
   "cell_type": "markdown",
   "metadata": {},
   "source": [
    "### Look at evaluation metrics for the two models:\n",
    "Root mean squared error below.\n",
    "I will leave out one of the neural networks."
   ]
  },
  {
   "cell_type": "markdown",
   "metadata": {},
   "source": [
    "#### Polynomial 3"
   ]
  },
  {
   "cell_type": "code",
   "execution_count": 257,
   "metadata": {},
   "outputs": [
    {
     "name": "stdout",
     "output_type": "stream",
     "text": [
      "Mean squared error: 33.32\n",
      "Coefficient of determination: 0.98\n",
      "Root Mean Squared Error: 5.77\n"
     ]
    }
   ],
   "source": [
    "print('Mean squared error: %.2f' % mean_squared_error(y_test,poly3_predictions ))\n",
    "# The coefficient of determination: 1 is perfect prediction\n",
    "print('Coefficient of determination: %.2f' % r2_score(y_test, poly3_predictions))\n",
    "print('Root Mean Squared Error: %.2f' % np.sqrt(mean_squared_error(y_test,poly3_predictions )))"
   ]
  },
  {
   "cell_type": "code",
   "execution_count": 258,
   "metadata": {},
   "outputs": [
    {
     "name": "stdout",
     "output_type": "stream",
     "text": [
      "Train: 16.145, Test: 16.666\n"
     ]
    }
   ],
   "source": [
    "train_mse2 = model2.evaluate(X_train, y_train, verbose=0)\n",
    "test_mse2 = model2.evaluate(X_test, y_test, verbose=0)\n",
    "print('Train: %.3f, Test: %.3f' % (train_mse2, test_mse2))"
   ]
  },
  {
   "cell_type": "code",
   "execution_count": 259,
   "metadata": {},
   "outputs": [
    {
     "name": "stdout",
     "output_type": "stream",
     "text": [
      "MSE: 17.986, RMSE: 4.241\n"
     ]
    }
   ],
   "source": [
    "# evaluate the model\n",
    "error = model.evaluate(X_test, y_test, verbose=0)\n",
    "print('MSE: %.3f, RMSE: %.3f' % (error, np.sqrt(error)))"
   ]
  },
  {
   "cell_type": "code",
   "execution_count": 260,
   "metadata": {},
   "outputs": [
    {
     "name": "stdout",
     "output_type": "stream",
     "text": [
      "MSE: 16.666, RMSE: 4.082 \n"
     ]
    }
   ],
   "source": [
    "# evaluate the model2\n",
    "error = model2.evaluate(X_test, y_test, verbose=0)\n",
    "print('MSE: %.3f, RMSE: %.3f ' % (error, np.sqrt(error)))"
   ]
  },
  {
   "cell_type": "code",
   "execution_count": 263,
   "metadata": {},
   "outputs": [
    {
     "name": "stdout",
     "output_type": "stream",
     "text": [
      "4/4 [==============================] - 0s 3ms/step - loss: 17.9858\n"
     ]
    }
   ],
   "source": [
    "accuracy = model.evaluate(X_test, y_test)"
   ]
  },
  {
   "cell_type": "code",
   "execution_count": 164,
   "metadata": {},
   "outputs": [],
   "source": [
    "import tensorflow.keras as kr\n",
    "from tensorflow.keras.models import load_model\n",
    "model = load_model('model.h5')\n",
    "model2=load_model('model2.h5')"
   ]
  },
  {
   "cell_type": "code",
   "execution_count": 170,
   "metadata": {},
   "outputs": [],
   "source": [
    "import pickle\n",
    "import joblib\n",
    "# In the specific case of scikit-learn, it may be better to use joblib’s replacement of pickle\n",
    "#from joblib import dump, load\n",
    "\n",
    "#model_poly3 = joblib.load('model_poly3.joblib')\n",
    "mod_poly3 = joblib.load('model_poly3.pkl')"
   ]
  },
  {
   "cell_type": "code",
   "execution_count": 179,
   "metadata": {},
   "outputs": [
    {
     "data": {
      "text/plain": [
       "array([[45.01454843]])"
      ]
     },
     "execution_count": 179,
     "metadata": {},
     "output_type": "execute_result"
    }
   ],
   "source": [
    "win12 = np.array([[12, 12**2, 12**3]])\n",
    "#win12 =np.array(win12)\n",
    "mod_poly3.predict(win12)"
   ]
  },
  {
   "cell_type": "code",
   "execution_count": 180,
   "metadata": {},
   "outputs": [
    {
     "data": {
      "text/plain": [
       "array([[42.060673]], dtype=float32)"
      ]
     },
     "execution_count": 180,
     "metadata": {},
     "output_type": "execute_result"
    }
   ],
   "source": [
    "model2.predict([12])"
   ]
  },
  {
   "cell_type": "code",
   "execution_count": 181,
   "metadata": {},
   "outputs": [
    {
     "data": {
      "text/plain": [
       "array([[99.418755]], dtype=float32)"
      ]
     },
     "execution_count": 181,
     "metadata": {},
     "output_type": "execute_result"
    }
   ],
   "source": [
    "model2.predict([24.4])"
   ]
  },
  {
   "cell_type": "code",
   "execution_count": 183,
   "metadata": {},
   "outputs": [
    {
     "data": {
      "text/plain": [
       "99.418755"
      ]
     },
     "execution_count": 183,
     "metadata": {},
     "output_type": "execute_result"
    }
   ],
   "source": [
    "model2.predict([24.4])[0][0]"
   ]
  },
  {
   "cell_type": "code",
   "execution_count": 176,
   "metadata": {},
   "outputs": [
    {
     "data": {
      "text/plain": [
       "102.05726"
      ]
     },
     "execution_count": 176,
     "metadata": {},
     "output_type": "execute_result"
    }
   ],
   "source": [
    "model.predict([24.4])[0][0]"
   ]
  },
  {
   "cell_type": "code",
   "execution_count": 185,
   "metadata": {},
   "outputs": [
    {
     "data": {
      "text/plain": [
       "array([[43.186234]], dtype=float32)"
      ]
     },
     "execution_count": 185,
     "metadata": {},
     "output_type": "execute_result"
    }
   ],
   "source": [
    "model.predict([12])"
   ]
  },
  {
   "cell_type": "markdown",
   "metadata": {},
   "source": [
    "\n",
    "### Summary and Conclusions\n",
    "\n",
    "Overall there are limitations in what we can predict given this dataset. As shown above in the research section, usually more features are used in predicting power output from wind speeds. Mention some of these here.\n",
    "It is still impressive how an artificial neural network can quite closely model the power curve given such limited inputs as a single column of numbers.\n",
    "Playing with the neural networks does seem to involve a lot of trial and error but I think I would need to learn more about why you would choose one parameter over another, the number of neurons, number of layers, cost functions etc.\n",
    "The model seems to under predict the power values for the lower values of speed. This is as I expected earlier given that when wind speeds are too low to generate power, the stored power is used later. Look back at the article that mentioned this above.\n",
    "\n",
    "The dataset was cleaned by removing some of the zero values as initially leaving all the zero values in seemed to pull the curve down too much and the predictions were quite a bit off. \n",
    "\n",
    "\n",
    "model.add(kr.layers.BatchNormalization())\n",
    "\n",
    "error = model.evaluate(X_test, y_test, verbose=0)\n",
    "print('MSE: %.3f, RMSE: %.3f' % (error, np.sqrt(error)))\n",
    "\n",
    "The first time I looked at this I was wondering if the data values represented measurements over a particular period of time and if the lower values of power might be related to the time taken for the turbines to get up and running before they could generate any power or if some of the zero power values were related to periodic maintenance when the turbines might get switched off. There does seem to be some linear relationship between the two variables for the middle portion of the dataset and the power generated does seem to level off after a particular point but overall the relationship is strong but non-linear.\n",
    "\n",
    "However looking at the raw data in the csv file, the rows are ordered by ascending values of speed column with the corresponding power values in the other column. There is no indication as to how the data values were collected and therefore I don't think I can make any judgements about the data over a particular timeframe. There are only two columns of numerical data provided with no indication provided as to their measurement units.  I will just focus on trying to use some algorithms to predict the power values based on the input values of speed. "
   ]
  },
  {
   "cell_type": "markdown",
   "metadata": {},
   "source": [
    "https://www.computing.dcu.ie/~humphrys/Notes/Neural/sigmoid.html\n",
    "https://machinelearningmastery.com/tutorial-first-neural-network-python-keras/"
   ]
  },
  {
   "cell_type": "markdown",
   "metadata": {},
   "source": [
    "## References\n",
    "\n",
    "- [power production dataset](https://raw.githubusercontent.com/ianmcloughlin/2020A-machstat-project/master/dataset/powerproduction.csv) from Ian McLoughlin Github\n",
    "\n",
    "### Some resources on wind energy\n",
    "- [The Irish Wind Energy Association (IWEA)](https://www.iwea.com/about-us/about-us)\n",
    "- [ESBN Connected Wind Farms](https://www.esbnetworks.ie/new-connections/generator-connections/generator-connection-statistics). \n",
    "- http://www.eirgridgroup.com/how-the-grid-works/renewables/\n",
    "- [WindEurope](https://windeurope.org/data-and-analysis/)\n",
    "- [how to calculate power output of wind](https://www.windpowerengineering.com/calculate-wind-power-output/)\n",
    "- [calculating energy production from weather forecast in Python](https://medium.com/planet-os/calculating-energy-production-from-weather-forecast-in-python-3c990047daa)\n",
    "- [Wind Turbine Power Curve Modeling Using\n",
    "Advanced Parametric and Nonparametric Methods](http://ieeexplore.ieee.org/iel7/5165391/5433168/06894235.pdf)\n",
    "- https://www.researchgate.net/publication/257748412_Using_machine_learning_to_predict_wind_turbine_power_output\n",
    "\n",
    "- Using machine learning to predict wind turbine power output by A Clifton, L Kilcher, J K Lundquist and P Fleming, ENVIRONMENTAL RESEARCH LETTERS, doi:10.1088/1748-9326/8/2/024009, Environ. Res. Lett. 8 (2013) 024009 (8pp)\n",
    "\n",
    "- Wind Turbine Power Curve Modeling Using Advanced Parametric and Nonparametric Methods by Shahab Shokrzadeh, Student Member, IEEE, Mohammad Jafari Jozani, and Eric Bibeau. IEEE TRANSACTIONS ON SUSTAINABLE ENERGY, VOL. 5, NO. 4, OCTOBER 2014.  Available from https://ieeexplore.ieee.org/stamp/stamp.jsp?arnumber=6894235\n",
    "\n",
    "\n",
    "### \n",
    "\n",
    "- Website: [Machine Learning Mastery](https://machinelearningmastery.com/supervised-and-unsupervised-machine-learning-algorithms/)[12345]\n",
    "\n",
    "- Website: [Polynomial Regression with Scikit learn: What You Should Know](https://towardsdatascience.com/polynomial-regression-with-scikit-learn-what-you-should-know-bed9d3296f2)\n",
    "\n",
    "- Website: [Machine Learning: Polynomial Regression with Python](https://towardsdatascience.com/machine-learning-polynomial-regression-with-python-5328e4e8a386)\n",
    "\n",
    "\n",
    "- Website: [Linear Regression Example](https://scikit-learn.org/stable/auto_examples/linear_model/plot_ols.html#sphx-glr-auto-examples-linear-model-plot-ols-py)\n",
    "\n",
    "- Website: [Polynomial Regression with Python](https://towardsdatascience.com/machine-learning-polynomial-regression-with-python-5328e4e8a386)\n",
    "- Website: [Python | Implementation of Polynomial Regression](https://www.geeksforgeeks.org/python-implementation-of-polynomial-regression/)\n",
    "\n",
    "- Website: [Polynomial Regression in Python](https://medium.com/ai-in-plain-english/implementing-polynomial-regression-in-python-d9aedf520d56)\n",
    "\n",
    "- Video: [Understanding Polynomial Regression](https://www.youtube.com/watch?v=UedwCvFGlvU) by \n",
    "Mazen Ahmed\n",
    "\n",
    "- Website: [What does RMSE really mean?](https://towardsdatascience.com/what-does-rmse-really-mean-806b65f2e48e) Blog article by James Moody\n",
    "\n",
    "- Website: [Batch Normalization Tensorflow Keras Example](https://towardsdatascience.com/backpropagation-and-batch-normalization-in-feedforward-neural-networks-explained-901fd6e5393e)\n",
    "\n",
    "- Website: [How to normalize features in TensorFlow](https://towardsdatascience.com/how-to-normalize-features-in-tensorflow-5b7b0e3a4177)\n",
    "- Website: [Data Leakage in Machine Learning](https://machinelearningmastery.com/data-leakage-machine-learning/)\n",
    "- Website: [How to use Data Scaling Improve Deep Learning Model Stability and Performance](https://machinelearningmastery.com/how-to-improve-neural-network-stability-and-modeling-performance-with-data-scaling/)\n",
    "- Website: [TensorFlow 2 Tutorial: Get Started in Deep Learning With tf.keras](https://machinelearningmastery.com/tensorflow-tutorial-deep-learning-with-tf-keras/)\n",
    "\n",
    "- Website: [Tensorflow](https://www.tensorflow.org/api_docs/python/tf/data/Dataset)\n",
    "- Website: [Install TensorFlow with pip](https://www.tensorflow.org/install/pip)\n",
    "\n",
    "- Website: [Keras Training Guide](https://keras.io/guides/training_with_built_in_methods/)\n",
    "\n",
    "- Website: [pandas.DataFrame.drop](https://pandas.pydata.org/pandas-docs/stable/reference/api/pandas.DataFrame.drop.html)\n",
    "\n",
    "- Website: [pandas.Dataframe.drop](https://pandas.pydata.org/pandas-docs/stable/reference/api/pandas.DataFrame.drop.html\n",
    " https://thispointer.com/python-pandas-how-to-drop-rows-in-dataframe-by-conditions-on-column-values/)"
   ]
  },
  {
   "cell_type": "markdown",
   "metadata": {},
   "source": [
    "### End"
   ]
  }
 ],
 "metadata": {
  "kernelspec": {
   "display_name": "Python 3",
   "language": "python",
   "name": "python3"
  },
  "language_info": {
   "codemirror_mode": {
    "name": "ipython",
    "version": 3
   },
   "file_extension": ".py",
   "mimetype": "text/x-python",
   "name": "python",
   "nbconvert_exporter": "python",
   "pygments_lexer": "ipython3",
   "version": "3.8.2"
  }
 },
 "nbformat": 4,
 "nbformat_minor": 4
}
