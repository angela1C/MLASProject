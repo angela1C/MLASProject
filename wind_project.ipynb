{
 "cells": [
  {
   "cell_type": "markdown",
   "metadata": {},
   "source": [
    "# Machine Learning and Statistics Project 2020\n",
    "by Angela Carpenter\n"
   ]
  },
  {
   "cell_type": "markdown",
   "metadata": {},
   "source": [
    "# Table of Contents\n",
    "- Project Instructions / Overview\n",
    "- Python Libraries\n",
    "- Loading / Reading in the dataset\n",
    "- Exploratory Data Analysis\n",
    "- Cleaning the Datasets\n",
    "- Regression Models\n",
    "- Neural Networks\n",
    "- Predicting on new data / saving models for web app.\n",
    "- Summary and Conclusions\n",
    "- References\n",
    "\n",
    "\n",
    "## Project Instructions\n",
    "\n",
    "The aim of this project is to create a web service that uses machine learning to make predictions based on the data set powerproduction available on Moodle. The goal is to produce a model that accurately predicts wind turbine power output from wind speed values, as in the data set. A web service must also be developed that will respond with predicted power values based on speed values sent as HTTP requests. \n",
    "\n",
    "\n",
    "\n",
    "\n",
    "### notes to self \n",
    "\n",
    "\n",
    "- Tidy up the notebook further\n",
    "- Make some notes on why I didn't scale or normalise the data. remove the section on this\n",
    "- Finish the web app side, it is now working but needs to be made a bit nicer.\n",
    "- Compare and evaluate the models - a few more notes on this.\n",
    "- Finalise a neural network model - adding more layers did not change the loss by a lot.\n",
    "- Rerun the NN again, adding in a validation percentage to the history fit to plot the learning curve\n",
    "- Neither of the models predicts correctlly for high speed values. Maybe the model does need to keep the values over 24.4 in as it is interpolating. However I can filter them using if else in the functions for the web app.\n"
   ]
  },
  {
   "cell_type": "markdown",
   "metadata": {},
   "source": [
    "#### Read in the dataset"
   ]
  },
  {
   "cell_type": "markdown",
   "metadata": {},
   "source": [
    "### Import Python libraries\n"
   ]
  },
  {
   "cell_type": "code",
   "execution_count": 1,
   "metadata": {},
   "outputs": [],
   "source": [
    "# first importing the following libraries\n",
    "import numpy as np\n",
    "# pandas dataframes\n",
    "import pandas as pd  \n",
    "# plotting library\n",
    "import matplotlib.pyplot as plt \n",
    "# another plotting library\n",
    "import seaborn as sns\n",
    "# splitting dataset into training and testing sets\n",
    "from sklearn.model_selection import train_test_split\n",
    "# for polynomial regression \n",
    "from sklearn.preprocessing import PolynomialFeatures\n",
    "# for linear regression \n",
    "from sklearn.linear_model import LinearRegression\n",
    "from sklearn import linear_model\n",
    "# for evaluation metrics\n",
    "from sklearn.metrics import mean_squared_error, r2_score\n",
    "# neural networks\n",
    "import tensorflow.keras as kr\n",
    "from tensorflow.keras import Sequential\n",
    "from tensorflow.keras.layers import Dense\n",
    "# save a model in scikit-learn by using Python’s built-in persistence model pickle:\n",
    "import pickle\n",
    "# In the specific case of scikit-learn, it may be better to use joblib’s replacement of pickle\n",
    "from joblib import dump, load"
   ]
  },
  {
   "cell_type": "markdown",
   "metadata": {},
   "source": [
    "\n",
    "\n",
    "\n"
   ]
  },
  {
   "cell_type": "markdown",
   "metadata": {},
   "source": [
    "### Import the dataset\n",
    "The dataset is available from [Github](https://github.com/ianmcloughlin/2020A-machstat-project).[1]"
   ]
  },
  {
   "cell_type": "code",
   "execution_count": 2,
   "metadata": {},
   "outputs": [],
   "source": [
    "# save link to data and reference the link \n",
    "csv_url = 'https://raw.githubusercontent.com/ianmcloughlin/2020A-machstat-project/master/dataset/powerproduction.csv'\n",
    "# read the csv data into a pandas dataframe\n",
    "df = pd.read_csv(csv_url)\n",
    "df\n",
    "# write the dataframe to csv\n",
    "df.to_csv('df.csv')\n",
    "# make a copy of the dataframe\n",
    "dfx = df.copy()"
   ]
  },
  {
   "cell_type": "markdown",
   "metadata": {},
   "source": [
    "## Exploratory Data Analysis on the dataset\n",
    "The power variable represents wind turbine power output and the speed values are wind speed values. This is all that has been provided. There are no null values in the dataset but there are 49 observations with zero values. \n",
    "While there is only one zero value for the `speed` variable, there are 49 zero values for the `power` variable.\n",
    "Some research below suggests that the wind speed values are measured in metres per second and that the power values are measured in kilowatts.\n",
    "\n",
    "Exploratory data analysis generally involves both non-graphical methods which include calculation of summary statistics and graphical methods which summarises the data in a picture or a plot. These methods can be univariate where one variable is looked at at a time or multivariate where two or more variables are looked at together to explore relationships. First I will do so some univariate EDA on both of the components before going on to do multivariate EDA. \n",
    "Plots can highlight any obvious relationships between the different variables in the dataset. They can also be used to identify any groups of observations that are clearly separate to other groups of observations."
   ]
  },
  {
   "cell_type": "code",
   "execution_count": 3,
   "metadata": {},
   "outputs": [
    {
     "data": {
      "text/html": [
       "<div>\n",
       "<style scoped>\n",
       "    .dataframe tbody tr th:only-of-type {\n",
       "        vertical-align: middle;\n",
       "    }\n",
       "\n",
       "    .dataframe tbody tr th {\n",
       "        vertical-align: top;\n",
       "    }\n",
       "\n",
       "    .dataframe thead th {\n",
       "        text-align: right;\n",
       "    }\n",
       "</style>\n",
       "<table border=\"1\" class=\"dataframe\">\n",
       "  <thead>\n",
       "    <tr style=\"text-align: right;\">\n",
       "      <th></th>\n",
       "      <th>speed</th>\n",
       "      <th>power</th>\n",
       "    </tr>\n",
       "  </thead>\n",
       "  <tbody>\n",
       "    <tr>\n",
       "      <th>0</th>\n",
       "      <td>0.000</td>\n",
       "      <td>0.0</td>\n",
       "    </tr>\n",
       "    <tr>\n",
       "      <th>1</th>\n",
       "      <td>0.125</td>\n",
       "      <td>0.0</td>\n",
       "    </tr>\n",
       "    <tr>\n",
       "      <th>2</th>\n",
       "      <td>0.150</td>\n",
       "      <td>0.0</td>\n",
       "    </tr>\n",
       "    <tr>\n",
       "      <th>3</th>\n",
       "      <td>0.225</td>\n",
       "      <td>0.0</td>\n",
       "    </tr>\n",
       "    <tr>\n",
       "      <th>4</th>\n",
       "      <td>0.275</td>\n",
       "      <td>0.0</td>\n",
       "    </tr>\n",
       "  </tbody>\n",
       "</table>\n",
       "</div>"
      ],
      "text/plain": [
       "   speed  power\n",
       "0  0.000    0.0\n",
       "1  0.125    0.0\n",
       "2  0.150    0.0\n",
       "3  0.225    0.0\n",
       "4  0.275    0.0"
      ]
     },
     "execution_count": 3,
     "metadata": {},
     "output_type": "execute_result"
    }
   ],
   "source": [
    "df.head()\n"
   ]
  },
  {
   "cell_type": "code",
   "execution_count": 4,
   "metadata": {},
   "outputs": [
    {
     "data": {
      "text/html": [
       "<div>\n",
       "<style scoped>\n",
       "    .dataframe tbody tr th:only-of-type {\n",
       "        vertical-align: middle;\n",
       "    }\n",
       "\n",
       "    .dataframe tbody tr th {\n",
       "        vertical-align: top;\n",
       "    }\n",
       "\n",
       "    .dataframe thead th {\n",
       "        text-align: right;\n",
       "    }\n",
       "</style>\n",
       "<table border=\"1\" class=\"dataframe\">\n",
       "  <thead>\n",
       "    <tr style=\"text-align: right;\">\n",
       "      <th></th>\n",
       "      <th>speed</th>\n",
       "      <th>power</th>\n",
       "    </tr>\n",
       "  </thead>\n",
       "  <tbody>\n",
       "    <tr>\n",
       "      <th>495</th>\n",
       "      <td>24.775</td>\n",
       "      <td>0.0</td>\n",
       "    </tr>\n",
       "    <tr>\n",
       "      <th>496</th>\n",
       "      <td>24.850</td>\n",
       "      <td>0.0</td>\n",
       "    </tr>\n",
       "    <tr>\n",
       "      <th>497</th>\n",
       "      <td>24.875</td>\n",
       "      <td>0.0</td>\n",
       "    </tr>\n",
       "    <tr>\n",
       "      <th>498</th>\n",
       "      <td>24.950</td>\n",
       "      <td>0.0</td>\n",
       "    </tr>\n",
       "    <tr>\n",
       "      <th>499</th>\n",
       "      <td>25.000</td>\n",
       "      <td>0.0</td>\n",
       "    </tr>\n",
       "  </tbody>\n",
       "</table>\n",
       "</div>"
      ],
      "text/plain": [
       "      speed  power\n",
       "495  24.775    0.0\n",
       "496  24.850    0.0\n",
       "497  24.875    0.0\n",
       "498  24.950    0.0\n",
       "499  25.000    0.0"
      ]
     },
     "execution_count": 4,
     "metadata": {},
     "output_type": "execute_result"
    }
   ],
   "source": [
    "df.tail()"
   ]
  },
  {
   "cell_type": "code",
   "execution_count": 5,
   "metadata": {},
   "outputs": [
    {
     "data": {
      "text/plain": [
       "speed     1\n",
       "power    49\n",
       "dtype: int64"
      ]
     },
     "execution_count": 5,
     "metadata": {},
     "output_type": "execute_result"
    }
   ],
   "source": [
    "# can have a look at the dataset\n",
    "df.sort_values(by='power', ascending=False).head()\n",
    "df.sort_values(by='power').head()\n",
    "df.sort_values(by='speed').head()\n",
    "# check for null values\n",
    "df.isnull().values.any()\n",
    "df.isnull().sum()\n",
    "# check for zero values\n",
    "df.isin([0]).sum()\n"
   ]
  },
  {
   "cell_type": "markdown",
   "metadata": {},
   "source": [
    "### The distribution of the data\n",
    "A histogram can be used to show the distribution of a single quantitative variable such as speed or power values, including the centre and spread of the distribution and if there is any skew in the data. Wind speed appears to be  uniformly distributed with values spread out from zero up to a maximum value of 25. Power output values on the other hand looks to be bimodal with two defined peaks, one around zero power values and the second around the 100 kilowatt mark. The first peak is betweeen power values of 0 and 5. This is not surprising given the large number of zero power values in this dataset. Almost 10% of the power values supplied are zero.  There is another smaller peak around values of 95-100. Most of the remaining power values fall between 18 and 85."
   ]
  },
  {
   "cell_type": "code",
   "execution_count": 6,
   "metadata": {},
   "outputs": [
    {
     "data": {
      "image/png": "[encoded data removed]",
      "text/plain": [
       "<Figure size 864x360 with 2 Axes>"
      ]
     },
     "metadata": {
      "needs_background": "light"
     },
     "output_type": "display_data"
    }
   ],
   "source": [
    "    %matplotlib inline\n",
    "\n",
    "    # plot the histograms of Speed values\n",
    "    f, axs = plt.subplots(1, 2, figsize=(12, 5))\n",
    "    sns.histplot(data=df, x=\"speed\", ax=axs[0], bins=20, kde=True,color=\"blue\")\n",
    "    sns.histplot(data=df, x=\"power\", alpha=.8, legend=False, ax=axs[1], bins=20, kde=True, color=\"purple\")\n",
    "\n",
    "    #plt.title(\"Speed vs Power\");\n",
    "    plt.suptitle(\"The distribution of the variables\")\n",
    "    f.tight_layout()"
   ]
  },
  {
   "cell_type": "markdown",
   "metadata": {},
   "source": [
    "### Investigating a relationship between the variables"
   ]
  },
  {
   "cell_type": "markdown",
   "metadata": {},
   "source": [
    "Scatter plots are useful to identify trends and patterns in a dataset which might indicate a relationship between two numerical variables such as we have in this dataset. \n",
    "The ordered pairs of numbers consisting of the independent variable wind 'speed' and the dependent variable 'power' output are plotted below resulting in a joint distribution of the two variables. Each point represents an actual observation is the dataset with a speed and a corresponding power value. \n",
    "The scatter plot shows an increasing linear trend in the middle range of the wind speed values. This would indicate that for increasing wind speeds in this range, power output values do increase, but only after a minimum wind speed has been reached. Power outputs then increase in line with increases in wind speed until it reaches a peak and plateaus.\n",
    "- When wind speed increases from very low levels, the power does not increase by much or at all. \n",
    "- The wind turbine power values does start to increase with the wind speed from wind speed values of about 5 to about 18/19. \n",
    "- From wind speeds of 20 onwards to about 25 the power values increase no further and seem to level off. \n",
    "\n",
    "An initial guess would be that at very low winds there may not be enough speed to get the turbine going and also that there might be a maximum power that can be achieved by the wind turbine regardless of how high the wind can go. Once the turbine is in motion, little is required to keep it going. Some of the power generated might be consumed by the turbine itself at low levels to get it started."
   ]
  },
  {
   "cell_type": "code",
   "execution_count": 7,
   "metadata": {},
   "outputs": [
    {
     "data": {
      "image/png": "[encoded data removed]",
      "text/plain": [
       "<Figure size 864x576 with 1 Axes>"
      ]
     },
     "metadata": {},
     "output_type": "display_data"
    }
   ],
   "source": [
    "# create the plot\n",
    "plt.style.use('ggplot')\n",
    "# Plot size.\n",
    "plt.rcParams['figure.figsize'] = (12, 8)\n",
    "sns.scatterplot(x=df['speed'],y=df['power'], marker=\"x\")\n",
    "plt.grid(True)\n",
    "# add title\n",
    "plt.title(\"Scatter plot of Speed and Power\");"
   ]
  },
  {
   "cell_type": "markdown",
   "metadata": {},
   "source": [
    "#### Correlation and Covariance of Speed and Power values\n",
    " \n",
    "For two quantitative variables such as the wind speed and power values, the covariance and correlation can also be used to determine whether a linear relationship between variables does exist and to show if one variable tends to occur with large or small values of another variable. The correlation statistics puts a numerical value on the strength and direction of the relationship.  The correlation coefficient here of 0.85 shows there is a very strong positive relationship between the wind speed and turbine power output.  The scatter plot shows a curved  relationship between the variables. There appears to be a curvilinear pattern in the data so the statistic should be considered alongside the plots."
   ]
  },
  {
   "cell_type": "code",
   "execution_count": 8,
   "metadata": {
    "scrolled": true
   },
   "outputs": [
    {
     "data": {
      "text/html": [
       "<div>\n",
       "<style scoped>\n",
       "    .dataframe tbody tr th:only-of-type {\n",
       "        vertical-align: middle;\n",
       "    }\n",
       "\n",
       "    .dataframe tbody tr th {\n",
       "        vertical-align: top;\n",
       "    }\n",
       "\n",
       "    .dataframe thead th {\n",
       "        text-align: right;\n",
       "    }\n",
       "</style>\n",
       "<table border=\"1\" class=\"dataframe\">\n",
       "  <thead>\n",
       "    <tr style=\"text-align: right;\">\n",
       "      <th></th>\n",
       "      <th>speed</th>\n",
       "      <th>power</th>\n",
       "    </tr>\n",
       "  </thead>\n",
       "  <tbody>\n",
       "    <tr>\n",
       "      <th>speed</th>\n",
       "      <td>1.000000</td>\n",
       "      <td>0.853778</td>\n",
       "    </tr>\n",
       "    <tr>\n",
       "      <th>power</th>\n",
       "      <td>0.853778</td>\n",
       "      <td>1.000000</td>\n",
       "    </tr>\n",
       "  </tbody>\n",
       "</table>\n",
       "</div>"
      ],
      "text/plain": [
       "          speed     power\n",
       "speed  1.000000  0.853778\n",
       "power  0.853778  1.000000"
      ]
     },
     "execution_count": 8,
     "metadata": {},
     "output_type": "execute_result"
    }
   ],
   "source": [
    "df.corr()"
   ]
  },
  {
   "cell_type": "markdown",
   "metadata": {},
   "source": [
    "### Some summary statistics of the dataset:\n",
    "When looking at quantitative variables such as wind speed and power values, the characteristics of interest are the centre, spread, modality, the shape of the distribution and the outliers. Panda's `describe` function generates statistics that summarize the central tendency, dispersion and shape of a dataset’s distribution. (excluding NaN values)\n",
    "The central tendency or location of the data distribution is determined by the typical or middle values. While the mean value is the average value in the dataset it may not be typical of the values in the dataset if there are very small or very large values in the dataset. The median is another measure of central tendancy - it is the middle value after all the values are put in an ordered list.\n",
    "The mean and median are similar for symmetric distributions whereas for unimodal skewed distributions the mean will be more in the direction of the long tail of the distribution. \n",
    "The median can be considered a more typical value in the dataset or closer to some of the typical values and is also considered [robust](https://en.wikipedia.org/wiki/Robust_statistics) which means that removing some of the data will not tend to change the value of the median. A few extreme values will not affect the median as they would affect the mean. \n",
    "In this dataset the mean and median wind speed values are similar at approx 12.5 to 12.6.\n",
    "The median power value is just over 41 compared to the mean power value of 48.\n",
    "As we saw above, there are many zero values for power in the dataset. At least 10% of the power values in the dataset are zero and probably for valid reasons.\n",
    "\n",
    "The variance and standard deviation statistics can be used to show the spread of the distribution of the speed and power data values and how far away from the centre the data points are located.\n",
    "The variance is the average of the squared deviations of each observation from the centre or mean of the data while the standard deviation is the square root of the variance and is in the same units as the data and therefore can be more easily interpreted. \n",
    "The range of values in the data is shown by the minimum and maximum values and is not considered a robust measure of spread but it is useful for showing possible errors or outliers.\n",
    "\n",
    "The percentiles or quartiles of the speed and power values can be used to see the spread of the data values. The Interquartile range (IQR) is calculated by taking the 75% percentile or 3rd quartile minus the 25% percentile or first quartile and captures half of the values, the middle values of the data. Data that is more spread out will have a higher IQR. The IQR is considered a more robust measure of spread than the variance and standard deviation and will be more clearly shown in the boxplots further down. The IQR does not consider the data below the 25% percentile or above the 75% percentile which may contain outliers. The statistics here show that the *power* variable in this dataset is much more spread out or variable than the *speed* variable. "
   ]
  },
  {
   "cell_type": "code",
   "execution_count": 9,
   "metadata": {},
   "outputs": [
    {
     "data": {
      "text/html": [
       "<div>\n",
       "<style scoped>\n",
       "    .dataframe tbody tr th:only-of-type {\n",
       "        vertical-align: middle;\n",
       "    }\n",
       "\n",
       "    .dataframe tbody tr th {\n",
       "        vertical-align: top;\n",
       "    }\n",
       "\n",
       "    .dataframe thead th {\n",
       "        text-align: right;\n",
       "    }\n",
       "</style>\n",
       "<table border=\"1\" class=\"dataframe\">\n",
       "  <thead>\n",
       "    <tr style=\"text-align: right;\">\n",
       "      <th></th>\n",
       "      <th>speed</th>\n",
       "      <th>power</th>\n",
       "    </tr>\n",
       "  </thead>\n",
       "  <tbody>\n",
       "    <tr>\n",
       "      <th>count</th>\n",
       "      <td>500.000000</td>\n",
       "      <td>500.000000</td>\n",
       "    </tr>\n",
       "    <tr>\n",
       "      <th>mean</th>\n",
       "      <td>12.590398</td>\n",
       "      <td>48.014584</td>\n",
       "    </tr>\n",
       "    <tr>\n",
       "      <th>std</th>\n",
       "      <td>7.224991</td>\n",
       "      <td>41.614572</td>\n",
       "    </tr>\n",
       "    <tr>\n",
       "      <th>min</th>\n",
       "      <td>0.000000</td>\n",
       "      <td>0.000000</td>\n",
       "    </tr>\n",
       "    <tr>\n",
       "      <th>25%</th>\n",
       "      <td>6.324750</td>\n",
       "      <td>5.288000</td>\n",
       "    </tr>\n",
       "    <tr>\n",
       "      <th>50%</th>\n",
       "      <td>12.550500</td>\n",
       "      <td>41.645500</td>\n",
       "    </tr>\n",
       "    <tr>\n",
       "      <th>75%</th>\n",
       "      <td>18.775250</td>\n",
       "      <td>93.537000</td>\n",
       "    </tr>\n",
       "    <tr>\n",
       "      <th>max</th>\n",
       "      <td>25.000000</td>\n",
       "      <td>113.556000</td>\n",
       "    </tr>\n",
       "  </tbody>\n",
       "</table>\n",
       "</div>"
      ],
      "text/plain": [
       "            speed       power\n",
       "count  500.000000  500.000000\n",
       "mean    12.590398   48.014584\n",
       "std      7.224991   41.614572\n",
       "min      0.000000    0.000000\n",
       "25%      6.324750    5.288000\n",
       "50%     12.550500   41.645500\n",
       "75%     18.775250   93.537000\n",
       "max     25.000000  113.556000"
      ]
     },
     "execution_count": 9,
     "metadata": {},
     "output_type": "execute_result"
    }
   ],
   "source": [
    "# get summary statistics of the numerical values, \n",
    "df.describe() # get statistics summary of the"
   ]
  },
  {
   "cell_type": "code",
   "execution_count": 10,
   "metadata": {},
   "outputs": [
    {
     "name": "stdout",
     "output_type": "stream",
     "text": [
      "The mean speed value is 12.590 while the median speed value  is 12.550\n",
      "The mean power value is 48.015 while the median power value  is 41.645\n",
      "The standard deviations of speed values  is 7.225\n",
      "The standard deviations of power values is 41.615\n",
      "The minimum speed value is 0.0 while the maximum speed value is 25.0 giving range of 25.0\n",
      "The minimum Power value is 0.0 while the maximum power value is 113.556 giving range of 113.556\n",
      "The median speed value is 12.5505 with the IQR ranging from 6.32 to  18.78\n",
      "The median power value is 41.6455 with the IQR ranging from 5.29 to  93.54\n"
     ]
    }
   ],
   "source": [
    "print(\"The mean speed value is %.3f\" %df['speed'].mean(),\"while the median speed value  is %.3f\" %df['speed'].quantile(q=0.5))\n",
    "print(\"The mean power value is %.3f\" %df['power'].mean(),\"while the median power value  is %.3f\" %df['power'].quantile(q=0.5))\n",
    "#print(f\"The variance and standard deviations of speed values  are {df['speed'].var():.3f} and {df['speed'].std():.3f}\")\n",
    "#print(f\"The variance and standard deviations of power values are {df['power'].var():.3f} and {df['power'].std():.3f}\")\n",
    "print(f\"The standard deviations of speed values  is {df['speed'].std():.3f}\")\n",
    "print(f\"The standard deviations of power values is {df['power'].std():.3f}\")\n",
    "print(f\"The minimum speed value is {df['speed'].min()} while the maximum speed value is { df['speed'].max()} giving range of {df['speed'].max() - df['speed'].min()}\")\n",
    "print(f\"The minimum Power value is {df['power'].min()} while the maximum power value is { df['power'].max()} giving range of {df['power'].max() - df['power'].min()}\")\n",
    "print(f\"The median speed value is {df['speed'].quantile(q=0.5)} with the IQR ranging from {df['speed'].quantile(q=0.25):.2f} to  {df['speed'].quantile(q=0.75):.2f}\")\n",
    "print(f\"The median power value is {df['power'].quantile(q=0.5)} with the IQR ranging from {df['power'].quantile(q=0.25):.2f} to  {df['power'].quantile(q=0.75):.2f}\")"
   ]
  },
  {
   "cell_type": "code",
   "execution_count": 11,
   "metadata": {},
   "outputs": [
    {
     "data": {
      "image/png": "[encoded data removed]",
      "text/plain": [
       "<Figure size 864x288 with 2 Axes>"
      ]
     },
     "metadata": {},
     "output_type": "display_data"
    }
   ],
   "source": [
    "f, axes = plt.subplots(1, 2, figsize=(12, 4))\n",
    "sns.set(style=\"ticks\", palette=\"pastel\")\n",
    "sns.boxplot(y=df['speed'], ax=axes[0], color=\"blue\")\n",
    "# add a title\n",
    "axes[0].set_title(\"Boxplot of Speed values\")\n",
    "sns.boxplot(y=df['power'], ax=axes[1], color=\"purple\")\n",
    "axes[1].set_title(\"Boxplot of Power Values\");"
   ]
  },
  {
   "cell_type": "markdown",
   "metadata": {},
   "source": [
    "The skewness of the data is a measure of assymetry which can be seen by the lopsidedness of a boxplot.\n",
    "Wind speed appears to be quite symmetric. The wind speed boxplot is cut pretty much in half by the median. Power appears to be soemwhat skewed to the right as the boxplot shows more of the box to the right or above the median line.\n",
    "A boxplot with the median closer to the lower quartile is considered positively skewed. Positively skewed data has the mean greater than the median and it can be interpreted as having a higher frequency of high valued scores. The lower values of power are closer together than the higher power values.\n"
   ]
  },
  {
   "cell_type": "markdown",
   "metadata": {},
   "source": [
    "### Regression plots\n",
    "The Python Seaborn library has some regression plots that can be used to quickly visualise relationships and patterns that may exist in the data. They use statistical models to estimate a simple relationship between sets of observations and are mainly used to visualise patterns in a dataset during the exploratory data analysis.\n",
    "The scatter plot earlier showed a relationship between wind speeds and wind turbine power that is non-linear. There does seem to be a somewhat linear relationship for wind speeds between values of about 10 up to about 18 or so. Therefore it is worth looking at higher order polynomials as well as linear regression.\n",
    "The plot below shows that the polynomial with order 3 looks a much better fit to the line than the first or second order linear regression lines. It is important not to go down the road of overfitting the data though."
   ]
  },
  {
   "cell_type": "code",
   "execution_count": 12,
   "metadata": {},
   "outputs": [
    {
     "data": {
      "image/png": "[encoded data removed]",
      "text/plain": [
       "<Figure size 1008x576 with 4 Axes>"
      ]
     },
     "metadata": {},
     "output_type": "display_data"
    }
   ],
   "source": [
    "f, axes = plt.subplots(2, 2, figsize=(14, 8))\n",
    "x = \"speed\"\n",
    "y = \"power\"\n",
    "sns.regplot(x=\"speed\", y=\"power\", data=df, ax=axes[0,0], label=\"order = 1\", ci=False); axes[0,0].legend()\n",
    "sns.regplot(x=\"speed\", y=\"power\", data=df, order=2, ax=axes[0,1], label=\"order =2\", ci=False); axes[0,1].legend()\n",
    "sns.regplot(x=\"speed\", y=\"power\", data=df, order=3, ax=axes[1,0], label=\"order =3\", ci=False); axes[1,0].legend()\n",
    "sns.regplot(x=\"speed\", y=\"power\", data=df, order=4, ax=axes[1,1], label = \"order=4\"); axes[1,1].legend()\n",
    "plt.legend()\n",
    "plt.suptitle(\"Trying higher order polynomial regression functions to Speed and Power values\")\n",
    "plt.show()"
   ]
  },
  {
   "cell_type": "markdown",
   "metadata": {},
   "source": []
  },
  {
   "cell_type": "markdown",
   "metadata": {},
   "source": [
    "Residual plots can be used to check whether the simple regression model of speed ~ power  is appropriate for a dataset. The seaborn `residplot` fits and removes a simple linear regression and then plots the residual values for each observation. Ideally, these values should be randomly scattered around y = 0. If there is structure in the residuals, this suggests that simple linear regression is not appropriate for the data. The residual plot here has a shape which suggest non-linearity in the data set as expected."
   ]
  },
  {
   "cell_type": "code",
   "execution_count": 13,
   "metadata": {
    "scrolled": true
   },
   "outputs": [
    {
     "data": {
      "image/png": "[encoded data removed]",
      "text/plain": [
       "<Figure size 720x360 with 1 Axes>"
      ]
     },
     "metadata": {},
     "output_type": "display_data"
    }
   ],
   "source": [
    "plt.rcParams['figure.figsize'] = (10, 5)\n",
    "sns.residplot(x=\"speed\", y=\"power\", data=df, scatter_kws={\"s\": 80})\n",
    "plt.title(\"Residual plot\"); plt.show()"
   ]
  },
  {
   "cell_type": "markdown",
   "metadata": {},
   "source": [
    "---\n",
    "## Some background information on Wind Turbines\n",
    "### Drop most of this, just to explain the S-curve and the reasons for the zero values.\n",
    "\n",
    "The dataset [1] consists of two columns each containing 500 floating numbers under the column names `speed` and `power`. There are no other features provided.  Before I go any further I will do a little research into the dataset which may help in understanding and  interpreting the relationship between wind speed and power output from a turbine and also in determining what conclusions can be reached based on the dataset alone.\n",
    "\n",
    "Some background to the project was provided in a lecture. In the electricity supply market, the producers usually sell their electricity ahead of time and enter a contract where they agree to produce a certain number of kilowatts of electricity during a particular time frame. The price is negotiated in advance of generating electricity and pushing it onto the supply grid. Wind farms supply electricity to the supply grid and negotiate prices in advance. It is more difficult for wind farms to predict exactly how much electricity they can generate at a future date compared to other electricity producers as their generation of electricity depends on  wind power. \n",
    "For this reason predictions can be estimated based on meterological data from a weather prediction agent such as Met Eireann. The aim is to be able to predict that when wind speed is a certain amount that the power produced from the turbines is a certain amount. \n",
    "\n",
    "[The Irish Wind Energy Association (IWEA)](https://www.iwea.com/about-us/about-us)[2] is the representative body for the Irish wind industry, working to promote wind energy as an essential, economical and environmentally friendly part of the country’s low-carbon energy future. They note here that in 2018 wind energy provided 29 per cent of Ireland’s electricity. Each quarter, both EirGrid and ESBN publish updated wind farm statistics for Ireland at [ESBN Connected Wind Farms](https://www.esbnetworks.ie/new-connections/generator-connections/generator-connection-statistics). There is currently 4,130 MW of installed capacity in the Republic of Ireland. The amount of electricity a turbine can generate depends on the type of turbine and the wind conditions at any time. There are many different models of turbines that can generate different amounts of electricity. Ireland’s largest wind farm is the Galway Wind Park in Connemara which has 3 MW turbines.\n",
    "\n",
    "Eirgrid's [Smart grid dashboard](http://smartgriddashboard.eirgrid.com/#all/about/wind)[3] shows actual and forecast wind generation by day, week and month for allwind farms on the system while [WindEurope](https://windeurope.org/data-and-analysis/) has some facts and issues about wind energy in Europe, in particular the section on [Wind Energy Basics](https://windeurope.org/about-wind/wind-basics/). Wind is caused by three things, the heating of the atmosphere by the sun, the rotation of the Earth and the Earth's surface irregularities. *air under high pressure moves toward areas of low pressure – and the greater the difference in pressure, the faster the air flows and the stronger the wind!* [4] Energy is the ability to  do work and can be categorised into  either kinetic energy (the energy of moving objects) or potential energy (energy that is stored). Wind turbines take the kinetic energy that’s in the wind and convert that kinetic energy into mechanical power which is mostly used in the form of electricity. Wind energy captures the energy of the wind and converts it to electricity and is an alternative to burning fossil fuels. It comes from a natural and renewable resourse and it is clean as it produces no greenhouse gas, emits no air pollutants and uses very little water. \n",
    "A wind turbine is a device that converts kinetic energy from the wind into electricity. Their output ranges from as small as 100 kilowatts to as big as 12 megawatts. According to this website [4], there are three main variables determining how much electricity a turbine can produce,  wind speed, blade radius and air density. Stronger winds allow more electricity to be produced with higher turbines being more receptive to strong winds. We only have the values for wind speed in the dataset here so will have to assume that the other variables are constant.\n",
    "\n",
    "**Wind turbines generate electricity at wind speeds of 4 – 25 metres per second.** [4]\n",
    "The article also outlines what happens when the wind doesn't blow. A wind farms location is usually chosen purposely and therefore when a wind turbine is not turning it is usually because of maintenance, or because it must be stopped for safety reasons in the case of strong winds or a storm. This should account for the zero values we see in the dataset. The article does note that while sometimes there might not be enough wind to turn a turbine, the wind energy is not lost as the wind energy can be stored  in energy storage systems  for later use whenever wind levels are low.\n",
    "\n",
    "Another article looks at [how to calculate power output of wind ](https://www.windpowerengineering.com/calculate-wind-power-output/) [5] and notes that most *U.S. manufacturers rate their turbines by the amount of power they can safely produce at a particular wind speed, usually chosen between 24 mph or 10.5 m/s and 36 mph or 16 m/s.*\n",
    "A formula illustrates the factors important to the performance of a wind turbine and notes that the wind speed `V` has an exponent of 3 applied to it meaning that even small increases in wind speeds result in a large increase in power.\n",
    "$Power=k.Cp \\frac{1}{2}\\rho AV^3$  where P = power output in kilowatts, Cp = Maximum power coefficient, $\\rho$ is Air density, A = Rotor swept area, V = wind speed in mph, k = 0.000133 a constant to yield power in kilowatts. There are other more complex formulas mentioned in other articles but this is not relevent. \n",
    "Additionally the article notes that although the calculation of wind power illustrates important features about wind turbines, the best measure of wind turbine performance is annual energy output. The difference between power and energy is that power (kilowatts kW) is the rate at which electricity is consumed, while energy (kilowatt-hours kWh) is the quantity consumed.\n",
    "\n",
    "I came across a blog post [6] that use a linear equation to calculate ideal wind production where the author notes  that modeling results can be enhanced via statistical analysis of hyper-local time series such as meteorological data and energy production data. Each wind turbine manufacturer provides an ideal energy production curve for their turbines. The article provides a brief overview which is taken from another research article [7]. Of particular relevance is that a typical wind turbine has three main characteristic speeds, the cut-in speeds (Vc), rated speeds (Vr) and cut-out (Vs) speeds which explain the s-shaped curve we see for this dataset.\n",
    "- The turbine starts generating power when the wind speed reaches the cut-in value.\n",
    "- The rated speed is the wind speed at which the generator is producing the machine’s rated power.\n",
    "- The power generation is shut down to prevent defects and damage when the wind speed reaches the cut-out speed.\n",
    "It also mentions the differences between the ideal power curves which just describe the potentially maximum output versus reality taking into account many factors as well as measurement variations.\n",
    "*In practice, however, wind turbines are never used under ideal conditions, and the empirical power curves could be substantially different from the theoretical ones due to the location of the turbine, air density, wind velocity distribution, wind direction, mechanical and control issues, as well as uncertainties in measurements.* [7] \n",
    "\n",
    "While the ideal power curves simply describe potentially maximum output, accuracy could be improved by using more accurate accurate weather forecasts or various statistical methods such as machine learning. We do not have  historical data which we could use for statistical improvements but nor do we have hyper-local forecasts as we don't know the source or time frame of this particular dataset.\n",
    "Another article notes that real wind turbines do not achieve their theoretical limit as their performance is a function to of aerodynamics and the need to limit power capture once the rated generator power is reached, at ‘rated’ windspeed. \n",
    ">The generator power, turbine diameter and bladeshape are optimized based on site characteristics such as annual average wind speed and the wind speed distribution. [8]\n",
    "\n",
    "Turbine manufacturers measure their turbine’s ‘powercurve’ (the relationship between power output and windspeed) at turbine test sites where it is calculated from 10 min averaged wind speed ($U=\\bar{\\mu}$) and power.\n",
    ">The typical power curves have an s-shape where at wind speeds less than rated the energy capture is approximately proportional to $U^3$ (known as Region II). At wind speeds above rated, the bladepitch and generator torque are actively controlled to limit the power to the generator’s rated power (Region III). [8]\n",
    "\n",
    "Variations in atmospheric conditions can lead to changes in turbine power output of 10% or more at the same wind speed. Turbulence and shear and not usually used in the power curves as they are considered  difficult to include in turbine power predictions. The article also mentions that because of intermittency in the wind, wind turbines typically produce 20%–40% of their maximum possible output over the course of a year. There is a lot of uncertainty  in predicting power generation from a turbine using local wind speed data. If the amount of energy is overestimated then the site might not be as profitable as expected while underestimating the energy available at a site might lead to a site not being developed at all. This study simulated the aerodynamic forces on the turbines blades and structures using an aerostructuraland simulator and  created 1796 10-minute wind fields from a stochastic turbulence simulator. The data from the wind fields from the simulations were used to form a database of 1796 observations of 10-min average power (the response) as a function of wind speed, turbulence intensity, and shear exponent (the forcing). The researchers binned the power data into 1 m $s^{-1}$ wide bins and included a plot (figure 3 in the article) of the power curve which shows a Region II between 0.3 metres per second and about 11.5 metres per second, region III is from end the end of region II up to 25 which correspond exactly with our dataset.\n",
    "\n",
    "<div><img src=powerCurveRegionsACliftonetAl.png width=\"500\"></div>\n",
    "Source: Figure 3. Power curve and operating regions for the WindPACT 1.5 MW turbine [8] \n",
    "\n",
    "The authors also noted that although the forcing variables are evenly distributed, variance in power is largest near rated wind speed. This sensitivity may result in large variation between predicted power output and observed power output. Furthermore, the mean power generated in simulations that include turbulence is lower than the no-turbulence cases near rated wind speed.\n",
    "At wind speeds below 8 m $s^{-1}$, power increases with turbulence intensity and shear. The increase in power due to turbulence arises because turbulent flow with mean speed *U* carries more power than laminar flow of the same *U*. The changes in power output of +/-20% associated with turbulence are approximately half of the change due to a change in wind speed from 7 to 8 $m^{s−1}$.\n",
    "In contrast, at wind speeds just above and below rated speed, increasing turbulence intensity reduces power output as the turbine cannot capture the extra energy that gusts bring, but a short duration slow down to wind speeds below rated results in a loss of energy. As the mean wind speed increases, the total amount of time with the blades pitched toward feather increases and the wind turbine is more often operating at rated power. At wind speeds much greater than rated, larger turbulence intensities are required to reduce the output of the machine to less than rated power, regardless of shear. In Regions II and III, variation in $Ti$ impacts power performance more than variation in $\\alpha$.\n",
    "\n",
    "The article next looked at using machine learning to predict power output under different conditions by incorporating turbulence intensity and wind shear into power prediction tools. They note that the power output from the turbine is not a linear function of wind speed and so linear regression is not an appropriate technique. Non-linear regression assumes that the relationships are constant throughout the model space (i.e. power output is always proportional to $U^n$ ), which is incorrect, so non-linear regression is also inappropriate. Also, as multivariate bins only work where the training data includes data in all bins this would be computationally or observationally more expensive. Instead they chose a machine learning technique `regression trees` for capturing non-linear changes in response to forcing. Regression trees are models that use simple branching question paths to predict an outcome based on inputs. \n",
    "\n",
    "The turbines responds differently to changes in shear and turbulence at different wind speeds. In Region II, at wind speeds below 8 m $s^{−1}$, power output increases by up to 10% as turbulence increases or as the magnitude of the shear increases. At wind speeds greater than 8 m $s^{−1}$ and in Region III, the regression tree modeled power is consistent with the simulated power output: power decreases as turbulence intensity increases and shows weak or no dependence on shear.\n",
    "\n",
    "The article concludes:\n",
    ">simulations suggest and the model clearly demonstrates that the response of the turbine is a complex non-linear function of hub height wind speed, turbulence intensity, and rotor disk shear. At wind speeds below rated speed, the turbine power output is most sensitive to changes in wind speed and speed, turbulence. At rated speed, the turbine is most sensitive to turbulence intensity and shear, and power can change by 10% under typical atmospheric conditions. At wind speeds greater than rated, the turbine responds most to changes in turbulence intensity.\n",
    "\n",
    "The article also includes a figure of the power curves for different utility-scale wind turbines which all reach higher maximum powers than the values in this dataset. [8] The cut-in speeds quoted here are in miles per hour which can be converted to metres per second by divide by 2.237.\n",
    "Rated windspeed is the wind speed at which a turbine hits its maximum rated power output.\n",
    "\n",
    "Wikipedia describes wind turbine design as follows:\n",
    ">A wind turbine is designed to produce power over a range of wind speeds. The cut-in speed is around 3–4 m/s for most turbines, and cut-out at 25 m/s. If the rated wind speed is exceeded the power has to be limited. There are various ways to achieve this.\n",
    ">All wind turbines are designed for a maximum wind speed, called the survival speed, above which they will be damaged. The survival speed of commercial wind turbines is in the range of 40 m/s (144 km/h, 89 MPH) to 72 m/s (259 km/h, 161 MPH). The most common survival speed is 60 m/s (216 km/h, 134 MPH). Some have been designed to survive 80 metres per second (290 km/h; 180 mph) [9]\n",
    "\n",
    "Every wind turbine design has a cut-in wind speed, a rated wind speed, and a cut-out wind speed.\n",
    "At the cut-in wind speed, the blades start to turn and a trickle of electricity starts to be produced. Around cut-in, the generator may be used as a motor to help the wind overcome inertia and start the blades turning.[10]\n",
    "The cut-in speed is typically 7 to 9 mph or equivalently to 3 to 4 meters per second.\n",
    "At the rated wind speed, the turbine is able to generate electricity at its maximum, or rated, capacity.\n",
    "The rated speed is usually in the range of 25 to 35 mph (equivalent to 11 to 13.5 metres per second). At the cut-out wind speed, the turbine shuts down to avoid damage. The pitch controllers feather the blades to let the wind flow past them and the rotor hub is braked. The wind usually has to return to a much lower speed, called the cut-back-in wind speed, for a certain amount of time before the turbine will restart. The cut-out speed is generally around 55 mph (24.6 metres per second). The cut-back-in speed is around 45 mph (20 metres per second).[10]\n",
    "\n",
    "\n",
    "Some noteable facts of relevance:\n",
    "- Wind speed is measured in metres per second.\n",
    "- **Wind turbines generate electricity at wind speeds of 4 – 25 metres per second** [4]\n",
    "- A wind farms location is usually chosen purposely and therefore when a wind turbine is not turning it is usually because of maintenance, or because it must be stopped for safety reasons in the case of strong winds or a storm. This would account for the zero values in the dataset.\n",
    "- Sometimes there might not be enough wind to turn a turbine but the wind energy is not lost as it can be stored up to be used later whenever wind levels are low. This might explain the higher than expected values of power for low levels of wind speed that we see in the dataset.\n",
    "- Turbines are rated by the amount of power they can safely produce at a particular wind speed, usually chosen between 24 mph or 10.5 m/s and 36 mph or 16 m/s [5].\n",
    "- In formulas used to illustrate the factors important to the performance of a wind turbine, an exponent of 3 is applied to wind speed.  Small increases in wind speeds result in a large increase in power. [5]\n",
    "- Of particular relevance is that a typical wind turbine has three main characteristic speeds, the cut-in speeds (Vc), rated speeds (Vr) and cut-out (Vs) speeds.  This helps explain the s-shaped curve we see for this dataset [7]\n",
    "    - The turbine starts generating power when the wind speed reaches the cut-in value.\n",
    "    - The rated speed is the wind speed at which the generator is producing the machine’s rated power.\n",
    "    - The power generation is shut down to prevent defects and damage when the wind speed reaches the cut-out speed.\n",
    "\n"
   ]
  },
  {
   "cell_type": "markdown",
   "metadata": {},
   "source": [
    "### Relating the research to the dataset:\n",
    "\n",
    "The scatter plot of our dataset did show three distinct sections of the curve, the first section at low values of wind speed where the wind turbine values are clustered around zero (including the 10% of observations that have zero power values), the second section where there seems to be a linear trend between wind speed and power output and thirdly the last section where the values of power have reached a peak at higher wind speeds and plateau, and also the outliers here.\n",
    "We would expect to see power being generated when speed is above 3-4 metres per second.\n",
    "Cut out speed at 24-25 metres per second.\n",
    "Cut back in speed after cut out is 20 meters per second.\n",
    "\n",
    "There are no null values in the dataset but there are 49 datapoints where power value is zero representing 10% of the observations. There is a single data point where speed value is zero as well as power.\n",
    "- Ten speed values over 24.4 metres per hour with a corresponding power value of zero\n",
    "- There are no data points with speeds above 24.4 and power not equal to zero\n",
    "- Eight data points where speed is less than 8 metres per second and power value is zero\n",
    "- Four datapoints where speed is greater than 8 and less than 24.4 metres per second and corresponding power values are zero\n",
    "- 24 datapoints where speed is less than 4 metres per second and power is zero\n",
    "\n",
    "- The cut-in speed is typically 3 to 4 meters per second. There are 17 observations where speed is less than 3 metres per second.\n",
    "\n",
    "#### Non-zero power values where speed is less than 3 metres per second:\n",
    "There are 39 observations where speed is less than the cut-in speed (of between 3 and 4 metres per second) and the corresponding power value is greater than zero. I think these will be the tricky ones to predict. There was mention in an article referenced above [4] that while sometimes there might not be enough wind to turn a turbine, the wind energy is not lost as the wind energy can be stored in energy storage systems for later use whenever wind levels are low.\n",
    "\n",
    "#### Rated speed\n",
    "At the rated wind speed, the turbine is able to generate electricity at its maximum, or rated, capacity.\n",
    "The rated speed is usually in the range of 25 to 35 mph. (equivalent to 11.18 to 13.4 metres per second).\n",
    "This is based on the research above but we don't know the details of the actual wind turbines being used here.\n",
    "The rated speed for the turbines in this dataset must be greated than this range as they do not reach their maximum capacity until wind speed is greater than 15 metres per second.\n",
    "The max power value in the dataset is 113.556 kws but there are very few observations in the dataset where power is greater than 110. The power curve for this dataset shows the power values levelling off in and around values between 90 and 100. "
   ]
  },
  {
   "cell_type": "code",
   "execution_count": 14,
   "metadata": {},
   "outputs": [
    {
     "data": {
      "text/plain": [
       "speed    49\n",
       "power    49\n",
       "dtype: int64"
      ]
     },
     "execution_count": 14,
     "metadata": {},
     "output_type": "execute_result"
    }
   ],
   "source": [
    "# show the unique values\n",
    "df.speed.unique()\n",
    "len(df.groupby('speed')) # 490\n",
    "# a count of the unique speed values\n",
    "df.speed.value_counts() # 490\n",
    "# a count of the unique power values\n",
    "df.power.value_counts() # 451\n",
    "df.groupby('speed')['power'].agg(['count', 'size', 'nunique'])\n",
    "len(df.groupby('power')) # 451\n",
    "\n",
    "df.groupby('power')['speed'].agg(['count', 'size', 'nunique'])\n",
    "len(df[['speed', 'power']].drop_duplicates()) # 490\n",
    "# the rows where both values are zero\n",
    "df[(df['speed']==0) & (df['power']==0)].count() # only 1\n",
    "df[df.power==0].count() # 49"
   ]
  },
  {
   "cell_type": "code",
   "execution_count": 15,
   "metadata": {},
   "outputs": [
    {
     "name": "stdout",
     "output_type": "stream",
     "text": [
      "The number of observations with a zero power value are as follows:\n",
      "For speed values below 3 metres per second: 17\n",
      "For speed values is between 3 and 4 metres per second: 7\n",
      "For speed values between 4 and 7 metres per second: 9\n",
      "For speed values between 7 and 24.4 metres per second: 6\n",
      "For speed values above 24.4 metres per second: 10\n"
     ]
    }
   ],
   "source": [
    "print(\"The number of observations with a zero power value are as follows:\")\n",
    "print(f\"For speed values below 3 metres per second: {df[(df.speed <3) & (df.power==0.0)].count()[0]}\")\n",
    "print(f\"For speed values is between 3 and 4 metres per second: {df[(df.speed >3) & (df.speed <4) & (df.power==0.0)].count()[0]}\")\n",
    "print(f\"For speed values between 4 and 7 metres per second: {df[(df.speed >4) & (df.speed<7) & (df.power==0.0)].count()[0]}\")\n",
    "print(f\"For speed values between 7 and 24.4 metres per second: {df[(df.speed >7) & (df.speed<24.4) & (df.power==0.0)].count()[0]}\")\n",
    "print(f\"For speed values above 24.4 metres per second: {df[(df.speed>24.4) & (df.power==0.0)].count()[0]}\")"
   ]
  },
  {
   "cell_type": "code",
   "execution_count": 16,
   "metadata": {},
   "outputs": [
    {
     "data": {
      "text/plain": [
       "speed    24\n",
       "power    24\n",
       "dtype: int64"
      ]
     },
     "execution_count": 16,
     "metadata": {},
     "output_type": "execute_result"
    }
   ],
   "source": [
    "df[(df.speed < 3) & (df.power>0.0)].count() # 39\n",
    "df[(df.speed < 3) & (df.power==0.0)].count() # 17\n",
    "df[(df.speed < 4) & (df.power>0.0)].count() # 56\n",
    "df[(df.speed < 4) & (df.power==0.0)].count() # 24"
   ]
  },
  {
   "cell_type": "markdown",
   "metadata": {},
   "source": [
    "#### Power values greater than 100\n"
   ]
  },
  {
   "cell_type": "code",
   "execution_count": 17,
   "metadata": {},
   "outputs": [
    {
     "name": "stdout",
     "output_type": "stream",
     "text": [
      "Number of data points where power is between 80 and 90 kws: 31\n",
      "Number of data points where power is between 90 and 100 kws: 95\n",
      "Number of data points where power is between 100 and 110 kws: 55\n",
      "Number of data points where power is greater than 110 kws: 2\n"
     ]
    }
   ],
   "source": [
    "print(f\"Number of data points where power is between 80 and 90 kws: {df[(df.power>80)&(df.power<90)].count()[0]}\")\n",
    "print(f\"Number of data points where power is between 90 and 100 kws: {df[(df.power>90)&(df.power<100)].count()[0]}\")\n",
    "print(f\"Number of data points where power is between 100 and 110 kws: {df[(df.power>100)&(df.power<110)].count()[0]}\")\n",
    "print(f\"Number of data points where power is greater than 110 kws: {df[(df.power>110)].count()[0]}\")"
   ]
  },
  {
   "cell_type": "markdown",
   "metadata": {},
   "source": [
    "#### Cut-out speeds for safety reasons\n",
    "At the cut-out wind speed, the turbine shuts down to avoid damage.\n",
    "There are 10 observations that fall into the cut-out speed range.\n",
    "There are no datapoints at all where speed is above the cut-out speed value and power value is not zero."
   ]
  },
  {
   "cell_type": "code",
   "execution_count": 18,
   "metadata": {},
   "outputs": [
    {
     "name": "stdout",
     "output_type": "stream",
     "text": [
      "Number of observations where speed values is above 24.4 metres per second: 10\n",
      "Number of observations where power values is zero and speed is above 24.4 metres per second: 10\n"
     ]
    }
   ],
   "source": [
    "# there are no points in the dataset where speed is greater than 24.4 and power value is not zero\n",
    "print(f\"Number of observations where speed values is above 24.4 metres per second: {df[df.speed>24.4].count()[0]}\") # \n",
    "print(f\"Number of observations where power values is zero and speed is above 24.4 metres per second: {df[(df.speed > 24.4) & (df.power==0.0)].count()[0]}\")"
   ]
  },
  {
   "cell_type": "markdown",
   "metadata": {},
   "source": [
    "#### Speeds between 7 and 8 metres per second:"
   ]
  },
  {
   "cell_type": "code",
   "execution_count": 19,
   "metadata": {},
   "outputs": [
    {
     "data": {
      "text/plain": [
       "speed    2\n",
       "power    2\n",
       "dtype: int64"
      ]
     },
     "execution_count": 19,
     "metadata": {},
     "output_type": "execute_result"
    }
   ],
   "source": [
    "df[(df.speed >7) & (df.speed < 8) & (df.power==0.0)].count()"
   ]
  },
  {
   "cell_type": "code",
   "execution_count": 20,
   "metadata": {},
   "outputs": [
    {
     "data": {
      "text/plain": [
       "speed    49\n",
       "power    49\n",
       "dtype: int64"
      ]
     },
     "execution_count": 20,
     "metadata": {},
     "output_type": "execute_result"
    }
   ],
   "source": [
    "df[(df.speed >11) & (df.speed< 13.4)].count()"
   ]
  },
  {
   "cell_type": "markdown",
   "metadata": {},
   "source": [
    "\n"
   ]
  },
  {
   "cell_type": "markdown",
   "metadata": {},
   "source": [
    "### Data cleaning:\n",
    "I debated whether to leave in the observations with zero power values as they do convey some information about the dataset. However after initially trying out the neural network using the complete dataset, the cost did not fall as much as desired and the resulting plots suggested that keeping the zero power values in for the very high values of speed were throwing things out. The research above showed that there is a cut-out speed between 24 and 25 metres per second for safety reasons.  At the cut-out wind speed, the turbine shuts down to avoid damage. This is enough to justify excluding these observations as we can predict that the power output will be zero when the wind speed exceeds this cut out value. There are only ten observations in the dataset that fall into this range.\n",
    "We can only predict values for power when the turbines are turned on and therefore maybe the model should only be predicting for values of speed where the turbine is on! \n",
    "\n",
    "While there is only one zero value for the speed variable, there are 49 zero values for the power variable. These mostly occur below a certain value of speed but located alongside non-zero power values and there are a few that are associated with medium and higher speed values of speed. Most of the data points in the dataset are unique values. The one datapoint with a zero speed value has a zero power value as expected.\n",
    "\n",
    "Summary of where the zero power values occur:\n",
    "- 17 where speed is less than 3 metres per second\n",
    "- 7 where speed is between 3 and 4 metres per second. This is the cut-in speed\n",
    "- 9 where speed lies between 4 and 7\n",
    "- 6 where speed is between 7 and 24.4\n",
    "- 10 where speed is above 24.4 metres per second. This is the cut-out value.\n",
    "\n",
    "Wind turbines generate electricity at wind speeds of 4 – 25 metres per second.\n",
    "For now I will drop all observations where speed is greater than the cut-out value of 24.4 metres per second.\n",
    "I will also drop the observations above the cut-in speed of between 3 and 4 metres per second.\n",
    "I will leave in all the observations where speed is less than the cut-in speed including the zero values.\n",
    "Therefore I am dropping 25 observations from the dataset where the power values are zero.\n",
    "Ten observations where the wind speed is greater than the cut-off value; the corresponding power is zero as the turbines are off.\n",
    "Fifteen observations where wind speed is greater than the cut-in and less than the cut-out and the power is zero. I am assuming that these represent points where the turbines have been turned off for maintenance or other reasons. I may revisit this.\n",
    "I will make a copy of the dataframe for this purpose.\n",
    "\n",
    "### Update:\n",
    "Excluding the zero values results in the models over predicting the power values for the higher values of speed. Leaving in the zero values does pull the curves back down but only after the max speed has been exceeded. I will just use bounds for the function.\n"
   ]
  },
  {
   "cell_type": "code",
   "execution_count": 21,
   "metadata": {},
   "outputs": [],
   "source": [
    "#https://pandas.pydata.org/pandas-docs/stable/reference/api/pandas.DataFrame.drop.html\n",
    "# https://thispointer.com/python-pandas-how-to-drop-rows-in-dataframe-by-conditions-on-column-values/\n",
    "#df.drop(df.loc[(df.speed>24.4)].index, inplace=True)"
   ]
  },
  {
   "cell_type": "code",
   "execution_count": 22,
   "metadata": {},
   "outputs": [],
   "source": [
    "# make a copy of the dataframe\n",
    "dfx = df.copy()"
   ]
  },
  {
   "cell_type": "code",
   "execution_count": 23,
   "metadata": {},
   "outputs": [
    {
     "data": {
      "text/plain": [
       "speed    25\n",
       "power    25\n",
       "dtype: int64"
      ]
     },
     "execution_count": 23,
     "metadata": {},
     "output_type": "execute_result"
    }
   ],
   "source": [
    "# how many rows where wind speed above the cut-in speed and power is zero\n",
    "dfx.loc[(dfx.speed > 4)&(dfx.power == 0)].count()"
   ]
  },
  {
   "cell_type": "code",
   "execution_count": 24,
   "metadata": {},
   "outputs": [],
   "source": [
    "# drop rows from the new dataframe \n",
    "dfx.drop(dfx.loc[(df.speed > 4)&(dfx.power == 0)].index, inplace=True)"
   ]
  },
  {
   "cell_type": "code",
   "execution_count": 25,
   "metadata": {},
   "outputs": [
    {
     "data": {
      "text/html": [
       "<div>\n",
       "<style scoped>\n",
       "    .dataframe tbody tr th:only-of-type {\n",
       "        vertical-align: middle;\n",
       "    }\n",
       "\n",
       "    .dataframe tbody tr th {\n",
       "        vertical-align: top;\n",
       "    }\n",
       "\n",
       "    .dataframe thead th {\n",
       "        text-align: right;\n",
       "    }\n",
       "</style>\n",
       "<table border=\"1\" class=\"dataframe\">\n",
       "  <thead>\n",
       "    <tr style=\"text-align: right;\">\n",
       "      <th></th>\n",
       "      <th>speed</th>\n",
       "      <th>power</th>\n",
       "    </tr>\n",
       "  </thead>\n",
       "  <tbody>\n",
       "    <tr>\n",
       "      <th>count</th>\n",
       "      <td>475.000000</td>\n",
       "      <td>475.000000</td>\n",
       "    </tr>\n",
       "    <tr>\n",
       "      <th>mean</th>\n",
       "      <td>12.440971</td>\n",
       "      <td>50.541667</td>\n",
       "    </tr>\n",
       "    <tr>\n",
       "      <th>std</th>\n",
       "      <td>7.101231</td>\n",
       "      <td>41.171815</td>\n",
       "    </tr>\n",
       "    <tr>\n",
       "      <th>min</th>\n",
       "      <td>0.000000</td>\n",
       "      <td>0.000000</td>\n",
       "    </tr>\n",
       "    <tr>\n",
       "      <th>25%</th>\n",
       "      <td>6.293500</td>\n",
       "      <td>6.737500</td>\n",
       "    </tr>\n",
       "    <tr>\n",
       "      <th>50%</th>\n",
       "      <td>12.538000</td>\n",
       "      <td>47.282000</td>\n",
       "    </tr>\n",
       "    <tr>\n",
       "      <th>75%</th>\n",
       "      <td>18.531500</td>\n",
       "      <td>94.017500</td>\n",
       "    </tr>\n",
       "    <tr>\n",
       "      <th>max</th>\n",
       "      <td>24.399000</td>\n",
       "      <td>113.556000</td>\n",
       "    </tr>\n",
       "  </tbody>\n",
       "</table>\n",
       "</div>"
      ],
      "text/plain": [
       "            speed       power\n",
       "count  475.000000  475.000000\n",
       "mean    12.440971   50.541667\n",
       "std      7.101231   41.171815\n",
       "min      0.000000    0.000000\n",
       "25%      6.293500    6.737500\n",
       "50%     12.538000   47.282000\n",
       "75%     18.531500   94.017500\n",
       "max     24.399000  113.556000"
      ]
     },
     "execution_count": 25,
     "metadata": {},
     "output_type": "execute_result"
    }
   ],
   "source": [
    "# summary statistics\n",
    "dfx.describe()"
   ]
  },
  {
   "cell_type": "markdown",
   "metadata": {},
   "source": [
    "---\n",
    "## Machine Learning.\n",
    "\n",
    "The goal of the project is to predict wind power from wind speed and therefore this problem falls into supervised learning. \n",
    "Supervised machine learning is about creating models that precisely map the given inputs (independent variables, or predictors) to the given outputs (dependent variables, or responses).[11]\n",
    "\n",
    "Regression involves predicting a continuous-valued attribute associated with an object. It is a statistical method used to describe the nature of the relationship between variables which could be positive or negative, linear or nonlinear. \n",
    "Scatter plots visualise a relationship and Pearson’s correlation coefficient is used to measure the strength of a linear relationship. If a scatter plot and the value of the correlation coefficient indicate a linear relationship, the next step is to determine the equation of the regression line which is the data's line of best fit. Often one of the variables is fixed or controlled and is known as the independent or explanatory variable, the aim is to determine how another variable varies known as the dependent  or response variable varies with it. The explanatorty variable is usually represented by `X` while the dependent or response variable is represented by `y`.  Least squares linear regression is a method for predicting the value of a dependent variable `y` such as power, based on the value of an independent variable `x` such as wind speeds.\n",
    "\n",
    "I had a look at the Seaborn regression plots earlier in the exploratory data analysis section, simple linear regression does not adequately model the relationship between the wind and speed values over the entire dataset while higher order polynomials captured more of the relationship. The correlation statistics did show a high correlation between the variables with a value of 0.85.\n",
    "There were large sections of the dataset that were either under the regression line or above the regression line.\n",
    "The higher order polynomials did not fit the data perfectly though. The cubic polynomial fits the data better and the fourth order polynomial does seem to be even better for the datapoints at the lower end of wind speed values. However it is important not to overfit the data either as then the model will not capture the general trend of the data. There is a suggestion in the research above that an exponent of 3 can be applied to the wind speed factor. [5]. *The typical power curves have an s-shape where at wind speeds less than rated the energy capture is approximately proportional to $U^3$* [8] where ($U=\\bar{\\mu}$) is the 10 minute averaged wind speeds. \n",
    "For this reason I will look at polynomial regression using the scikit-learn package.\n",
    "\n",
    ">One common pattern within machine learning is to use linear models trained on nonlinear functions of the data. This approach maintains the generally fast performance of linear methods, while allowing them to fit a much wider range of data. [12]\n",
    "\n",
    "A simple linear regression can be extended by constructing polynomial features from the coefficients. A regression model that is used to model the expected value of a dependent variable y in terms of an independent variable x can be represented by the equation $y=ax+b$. Adding a squared term will create a quadratic model of the form $y=a+b1x+b2^2+e$ where a is the intercept and e is the error rate. Adding a cubed term can be represented by the equation $y=a+b1x+b2x^2+b3x^3+e$. Additional terms can be added. The regression function is linear in terms of the unknown variables and therefore the models are still considered linear from the point of estimation.[15]\n",
    "Scikit-learn's `PolynomialFeatures` transforms an input data matrix into a new data matrix of a given degree.\n",
    "Adding an $X^3$ allows us to check if there is a cubic relationship in the data. A polynomial is a special case pf a linear model that is used to fit non-linear data.  I used a third degree polynomial here as the data earlier suggested a cubic relationship in the data.\n",
    "Adding polynomials to the regression is like multiple linear regression, as you are adding extra variables in the form of powers of each feature as new features. [13] \n",
    "\n"
   ]
  },
  {
   "cell_type": "markdown",
   "metadata": {},
   "source": [
    "### Regression plots on the cleaned data:\n",
    "Below are the regression plots using Seaborn `regplot` function with a 3rd and 4th order applied. This is on the cleaned dataset."
   ]
  },
  {
   "cell_type": "code",
   "execution_count": 26,
   "metadata": {},
   "outputs": [
    {
     "data": {
      "image/png": "[encoded data removed]",
      "text/plain": [
       "<Figure size 1008x432 with 2 Axes>"
      ]
     },
     "metadata": {},
     "output_type": "display_data"
    }
   ],
   "source": [
    "f, axes = plt.subplots(1, 2, figsize=(14, 6))\n",
    "x = \"speed\"\n",
    "y = \"power\"\n",
    "\n",
    "sns.regplot(x=\"speed\", y=\"power\", data=dfx, order=3, ax=axes[0], label=\"order =3\", ci=False, color=\"blue\", marker=\"x\"); axes[0].legend()\n",
    "sns.regplot(x=\"speed\", y=\"power\", data=dfx, order=4, ax=axes[1], label = \"order=4\",marker='x'); axes[1].legend()\n",
    "plt.legend()\n",
    "plt.suptitle(\"Trying higher order polynomial regression functions to Speed and Power values\")\n",
    "plt.show()"
   ]
  },
  {
   "cell_type": "markdown",
   "metadata": {},
   "source": [
    "## Polynomial Regression model\n"
   ]
  },
  {
   "cell_type": "markdown",
   "metadata": {},
   "source": [
    "### Split data into training and test sets\n",
    "Splitting your dataset is essential for an unbiased evaluation of prediction performance. The dataset can be split into two or three random subsets. \n",
    "- A training set:  used to train or fit your model. Training set are used to find the optimal weights or coefficients for linear regression, logistic regression, or neural networks.\n",
    "- A validation set: subset used for unbiased model evaluation during hyperparameter tuning. For each set of hyperparameters, fit the model with the training set and assess it's performance with the validation set.\n",
    "- A test set used for an unbiased evaluation of the final model. This should not be used for fitting or validating the model.\n",
    "In less complex cases, when you don’t have to tune hyperparameters, it’s okay to work with only the training and test sets. [11]\n",
    "\n",
    "Splitting a dataset can also be used for detecting if your model suffers from problems such as underfitting and overfitting. \n",
    "\n",
    "Underfitting usually arises when a model fails to capture the relationships among data. This can occur when  you try to represent non-linear relationships with a linear model. Overfitting occurs when a model has an excessively complex structure and learns both the existing relationships between the variables as well as the noise. Overfitted models usually fail to recognise the general trend of the data. \n",
    "While underfitted models are likely to have poor performance with both the training and testing dataset, overfitted models will usually have strong performance on the training dataset but will have poor performance on the unseen test set.\n",
    "Scikit-learn has a module for splitting the data into training and test sets. The default split is 75% for the training set and 25% for the test set. The random state can be set to make the split reproducible. I initially did not use this but it makes it harder to compare the different machine learning models if you have a different training and test set for each."
   ]
  },
  {
   "cell_type": "markdown",
   "metadata": {},
   "source": [
    "#### Using scikit-learn to split the dataset into training and test subsets:\n",
    "using `sklearn.model_selection.train_test_split`"
   ]
  },
  {
   "cell_type": "code",
   "execution_count": 27,
   "metadata": {},
   "outputs": [
    {
     "name": "stdout",
     "output_type": "stream",
     "text": [
      "(356, 1) (119, 1) (356, 1) (119, 1)\n"
     ]
    }
   ],
   "source": [
    "\n",
    "# split into input and output columns\n",
    "\n",
    "X, y = dfx.values[:, :-1], dfx.values[:, -1:]\n",
    "# split into train and test datasets\n",
    "X_train, X_test, y_train, y_test = train_test_split(X, y, test_size=0.25, random_state=0)\n",
    "print(X_train.shape, X_test.shape, y_train.shape, y_test.shape)\n",
    "# determine the number of input features\n",
    "\n",
    "n_features = X_train.shape[1]"
   ]
  },
  {
   "cell_type": "markdown",
   "metadata": {},
   "source": [
    "#### Full dataset `df`:\n",
    "To use the full dataset `df` including the zero power values change uncomment the line below"
   ]
  },
  {
   "cell_type": "code",
   "execution_count": 28,
   "metadata": {},
   "outputs": [],
   "source": [
    "# split the dataset into input and output columns: df is the full dataset\n",
    "#X, y = df.values[:, :-1], df.values[:, -1:]"
   ]
  },
  {
   "cell_type": "markdown",
   "metadata": {},
   "source": [
    "#### Cleaned dataset `dfx`:"
   ]
  },
  {
   "cell_type": "code",
   "execution_count": 29,
   "metadata": {},
   "outputs": [],
   "source": [
    "# split the dataset into input and output columns: dfx is the cleaned dataset\n",
    "X, y = dfx.values[:, :-1], dfx.values[:, -1:]"
   ]
  },
  {
   "cell_type": "code",
   "execution_count": 30,
   "metadata": {},
   "outputs": [
    {
     "name": "stdout",
     "output_type": "stream",
     "text": [
      "(356, 1) (119, 1) (356, 1) (119, 1)\n"
     ]
    }
   ],
   "source": [
    "\n",
    "# split into train and test datasets\n",
    "X_train, X_test, y_train, y_test = train_test_split(X, y, test_size=0.25, random_state=0)\n",
    "print(X_train.shape, X_test.shape, y_train.shape, y_test.shape)\n",
    "# determine the number of input features\n",
    "n_features = X_train.shape[1]"
   ]
  },
  {
   "cell_type": "markdown",
   "metadata": {},
   "source": [
    "#### Transform the features of x \n",
    "Using Scikit-learns `PolynomialFeatures` to add a cubic variable to the dataset.\n",
    "Once transformed they can be used with any linear model. \n",
    "I will apply to the training data only here.\n"
   ]
  },
  {
   "cell_type": "code",
   "execution_count": 31,
   "metadata": {},
   "outputs": [],
   "source": [
    "# using scikit-learn, set the order to 3 degrees to include a cubic \n",
    "# include_bias=False otherwise I end up with a column of zeros \n",
    "poly3 = PolynomialFeatures(degree=3, include_bias=False)\n",
    "poly4 = PolynomialFeatures(degree=4, include_bias=False)"
   ]
  },
  {
   "cell_type": "code",
   "execution_count": 32,
   "metadata": {},
   "outputs": [],
   "source": [
    "# convert the inputs into a new set of variables, save as X_train_p3 to leave X_train untouched for later use\n",
    "X_train_poly3 = poly3.fit_transform(X_train)\n",
    "X_train_poly4 = poly4.fit_transform(X_train)"
   ]
  },
  {
   "cell_type": "markdown",
   "metadata": {},
   "source": [
    "#### Look at the new features:"
   ]
  },
  {
   "cell_type": "code",
   "execution_count": 33,
   "metadata": {},
   "outputs": [
    {
     "data": {
      "text/plain": [
       "array([[8.08300000e+00, 6.53348890e+01, 5.28101908e+02],\n",
       "       [2.47700000e+00, 6.13552900e+00, 1.51977053e+01],\n",
       "       [1.57660000e+01, 2.48566756e+02, 3.91890348e+03],\n",
       "       ...,\n",
       "       [6.18100000e+00, 3.82047610e+01, 2.36143628e+02],\n",
       "       [2.25200000e+00, 5.07150400e+00, 1.14210270e+01],\n",
       "       [9.43400000e+00, 8.90003560e+01, 8.39629359e+02]])"
      ]
     },
     "execution_count": 33,
     "metadata": {},
     "output_type": "execute_result"
    }
   ],
   "source": [
    "X_train_poly3"
   ]
  },
  {
   "cell_type": "code",
   "execution_count": 34,
   "metadata": {},
   "outputs": [
    {
     "data": {
      "text/plain": [
       "array([[8.08300000e+00, 6.53348890e+01, 5.28101908e+02, 4.26864772e+03],\n",
       "       [2.47700000e+00, 6.13552900e+00, 1.51977053e+01, 3.76447161e+01],\n",
       "       [1.57660000e+01, 2.48566756e+02, 3.91890348e+03, 6.17854322e+04],\n",
       "       ...,\n",
       "       [6.18100000e+00, 3.82047610e+01, 2.36143628e+02, 1.45960376e+03],\n",
       "       [2.25200000e+00, 5.07150400e+00, 1.14210270e+01, 2.57201528e+01],\n",
       "       [9.43400000e+00, 8.90003560e+01, 8.39629359e+02, 7.92106337e+03]])"
      ]
     },
     "execution_count": 34,
     "metadata": {},
     "output_type": "execute_result"
    }
   ],
   "source": [
    "X_train_poly4"
   ]
  },
  {
   "cell_type": "markdown",
   "metadata": {},
   "source": [
    "#### Transform the test set :"
   ]
  },
  {
   "cell_type": "code",
   "execution_count": 35,
   "metadata": {},
   "outputs": [],
   "source": [
    "# also need to transform the test data \n",
    "X_test_poly3 = poly3.fit_transform(X_test)\n",
    "X_test_poly4 = poly4.fit_transform(X_test)"
   ]
  },
  {
   "cell_type": "markdown",
   "metadata": {},
   "source": [
    "Linear regression can  now be implemented. This can be thought of as multiple linear regression as new variables in the form of x-squared and x-cubed have been added to the model"
   ]
  },
  {
   "cell_type": "markdown",
   "metadata": {},
   "source": [
    "#### Fit the model to the training data:"
   ]
  },
  {
   "cell_type": "code",
   "execution_count": 36,
   "metadata": {},
   "outputs": [],
   "source": [
    "# call the linear regression model\n",
    "model_poly3 = linear_model.LinearRegression()\n",
    "model_poly4 = linear_model.LinearRegression()"
   ]
  },
  {
   "cell_type": "code",
   "execution_count": 37,
   "metadata": {},
   "outputs": [
    {
     "data": {
      "text/plain": [
       "LinearRegression()"
      ]
     },
     "execution_count": 37,
     "metadata": {},
     "output_type": "execute_result"
    }
   ],
   "source": [
    "# fit to the training data\n",
    "model_poly3.fit(X_train_poly3, y_train)\n",
    "model_poly4.fit(X_train_poly4, y_train)"
   ]
  },
  {
   "cell_type": "markdown",
   "metadata": {},
   "source": [
    "#### Predict using the polynomial regression model:"
   ]
  },
  {
   "cell_type": "code",
   "execution_count": 38,
   "metadata": {},
   "outputs": [],
   "source": [
    "# predict on the transformed test data\n",
    "poly3_predictions = model_poly3.predict(X_test_poly3)\n",
    "poly4_predictions = model_poly4.predict(X_test_poly4)"
   ]
  },
  {
   "cell_type": "code",
   "execution_count": 39,
   "metadata": {},
   "outputs": [
    {
     "data": {
      "text/plain": [
       "array([[14.35877751]])"
      ]
     },
     "execution_count": 39,
     "metadata": {},
     "output_type": "execute_result"
    }
   ],
   "source": [
    "# Predicting a new result with Polymonial Regression\n",
    "model_poly3.predict(poly3.fit_transform([[0]]))"
   ]
  },
  {
   "cell_type": "code",
   "execution_count": 40,
   "metadata": {},
   "outputs": [
    {
     "data": {
      "text/plain": [
       "array([[9.94417577]])"
      ]
     },
     "execution_count": 40,
     "metadata": {},
     "output_type": "execute_result"
    }
   ],
   "source": [
    "# Predicting a new result with Polymonial Regression\n",
    "model_poly4.predict(poly4.fit_transform([[0]]))"
   ]
  },
  {
   "cell_type": "code",
   "execution_count": 41,
   "metadata": {},
   "outputs": [
    {
     "data": {
      "text/plain": [
       "array([[45.01454843]])"
      ]
     },
     "execution_count": 41,
     "metadata": {},
     "output_type": "execute_result"
    }
   ],
   "source": [
    "model_poly3.predict(poly3.fit_transform([[12]]))"
   ]
  },
  {
   "cell_type": "code",
   "execution_count": 42,
   "metadata": {},
   "outputs": [
    {
     "data": {
      "text/plain": [
       "array([[43.28996568]])"
      ]
     },
     "execution_count": 42,
     "metadata": {},
     "output_type": "execute_result"
    }
   ],
   "source": [
    "# Predicting a new result with Polymonial Regression\n",
    "model_poly4.predict(poly4.fit_transform([[12]]))"
   ]
  },
  {
   "cell_type": "markdown",
   "metadata": {},
   "source": [
    "#### Get the coefficients"
   ]
  },
  {
   "cell_type": "code",
   "execution_count": 43,
   "metadata": {},
   "outputs": [
    {
     "data": {
      "text/plain": [
       "array([[-9.69965794,  1.49732   , -0.03967732]])"
      ]
     },
     "execution_count": 43,
     "metadata": {},
     "output_type": "execute_result"
    }
   ],
   "source": [
    "# get the coefficiets\n",
    "model_poly3.coef_"
   ]
  },
  {
   "cell_type": "code",
   "execution_count": 44,
   "metadata": {},
   "outputs": [
    {
     "data": {
      "text/plain": [
       "array([[-5.98949605e+00,  8.11385527e-01,  3.98058010e-03,\n",
       "        -8.92082165e-04]])"
      ]
     },
     "execution_count": 44,
     "metadata": {},
     "output_type": "execute_result"
    }
   ],
   "source": [
    "# get the coefficiets\n",
    "model_poly4.coef_"
   ]
  },
  {
   "cell_type": "code",
   "execution_count": 45,
   "metadata": {},
   "outputs": [
    {
     "data": {
      "text/plain": [
       "array([14.35877751])"
      ]
     },
     "execution_count": 45,
     "metadata": {},
     "output_type": "execute_result"
    }
   ],
   "source": [
    "# get the intercept\n",
    "model_poly3.intercept_"
   ]
  },
  {
   "cell_type": "code",
   "execution_count": 46,
   "metadata": {},
   "outputs": [
    {
     "data": {
      "text/plain": [
       "array([9.94417577])"
      ]
     },
     "execution_count": 46,
     "metadata": {},
     "output_type": "execute_result"
    }
   ],
   "source": [
    "# get the intercept\n",
    "model_poly4.intercept_"
   ]
  },
  {
   "cell_type": "markdown",
   "metadata": {},
   "source": [
    "#### Visualise the polynomial regression results:\n",
    "The scatter-plot can visualise the polynomial regression results on the test dataset can compared to the actual datapoints."
   ]
  },
  {
   "cell_type": "code",
   "execution_count": 47,
   "metadata": {},
   "outputs": [
    {
     "data": {
      "image/png": "[encoded data removed]",
      "text/plain": [
       "<Figure size 1008x576 with 1 Axes>"
      ]
     },
     "metadata": {},
     "output_type": "display_data"
    }
   ],
   "source": [
    "# create the plot\n",
    "plt.style.use('ggplot')\n",
    "# Plot size.\n",
    "plt.rcParams['figure.figsize'] = (14, 8)\n",
    "plt.title('Comparing actual data to predicted data')\n",
    "plt.plot(X_test, y_test, 'k.', label=\"true values\")\n",
    "plt.plot(X_test, poly3_predictions, 'gx', label=\"predicted values order=3\")\n",
    "plt.plot(X_test, poly4_predictions, 'rx', label=\"predicted values order=4\")\n",
    "plt.xlabel(\"Wind speed m/s\")\n",
    "plt.ylabel(\"Power\")\n",
    "plt.legend()\n",
    "\n",
    "plt.show()"
   ]
  },
  {
   "cell_type": "markdown",
   "metadata": {},
   "source": [
    "### Evaluate the model"
   ]
  },
  {
   "cell_type": "markdown",
   "metadata": {},
   "source": [
    "Scikit-learn has a metrics module that can be used to evaluate the model.\n",
    "[sklearn.metrics.r2_score](https://scikit-learn.org/stable/modules/generated/sklearn.metrics.r2_score.html)\n",
    "The coefficient of determination $R^2$ is the proportion of the variance in the dependent variable that is predictable from the independent variable(s).[16]\n",
    "It shows how good the model is at explaining the behaviour of the dependent variable. The coefficient of determination is the proportion of variation in the dependent variable power that is explained by the regression line and the independent variable wind speed. It is a better indicator of the strength of a linear relationship than the correlation coefficient as it identifies the percentage of variation of the dependent variable that is directly attributable to the variation of the independent variable. \n",
    "\n",
    "The model can be evaluated using the mean squared error. It calculates the average distance our data points are from the model.  \n",
    "The mean squared error could be further lowered by adding extra polynomials to the model. However you are then in danger of overfitting the model where the model will fail to recognise the general trend. The simple linear model cleared underfit the data. The seaborn regression plots with a 4th order polynomial earlier did show a slightly better fit for speed values under 5 metres per second whereas the 3rd order polynomial is underpredicting and overfitting for sections of the curve. However it does not seem to be a huge improvement so I will leave the regression as is and move on. Polynomial regression can be very sensitive to outliers and even a few outliers could seriously affect the results. In addition there are unfortunately fewer model validation tools for the detection of outliers in nonlinear regression than there are for linear regression. [16]\n",
    "\n",
    "The root mean squared error is the square root of the average of squared differences between prediction and actual observation.  It is a standard way to measure the error of a model in predicting quantitative data."
   ]
  },
  {
   "cell_type": "code",
   "execution_count": 48,
   "metadata": {},
   "outputs": [],
   "source": [
    "from sklearn.metrics import mean_squared_error, r2_score"
   ]
  },
  {
   "cell_type": "code",
   "execution_count": 49,
   "metadata": {},
   "outputs": [
    {
     "name": "stdout",
     "output_type": "stream",
     "text": [
      "Coefficients: \n",
      " [[-9.69965794  1.49732    -0.03967732]]\n"
     ]
    }
   ],
   "source": [
    "# The coefficients\n",
    "print('Coefficients: \\n', model_poly3.coef_)"
   ]
  },
  {
   "cell_type": "code",
   "execution_count": 50,
   "metadata": {},
   "outputs": [
    {
     "name": "stdout",
     "output_type": "stream",
     "text": [
      "Results from 3rd degree polynomial regression:\n",
      "Mean squared error: 33.32\n",
      "Coefficient of determination: 0.98\n",
      "Root Mean Squared Error: 5.77\n"
     ]
    }
   ],
   "source": [
    "print(\"Results from 3rd degree polynomial regression:\")\n",
    "print('Mean squared error: %.2f' % mean_squared_error(y_test,poly3_predictions ))\n",
    "# The coefficient of determination: 1 is perfect prediction\n",
    "print('Coefficient of determination: %.2f' % r2_score(y_test, poly3_predictions))\n",
    "print('Root Mean Squared Error: %.2f' % np.sqrt(mean_squared_error(y_test,poly3_predictions )))"
   ]
  },
  {
   "cell_type": "code",
   "execution_count": 51,
   "metadata": {},
   "outputs": [
    {
     "name": "stdout",
     "output_type": "stream",
     "text": [
      "Results from 4th degree polynomial regression:\n",
      "Mean squared error: 30.80\n",
      "Coefficient of determination: 0.98\n",
      "Root Mean Squared Error: 5.55\n"
     ]
    }
   ],
   "source": [
    "print(\"Results from 4th degree polynomial regression:\")\n",
    "print('Mean squared error: %.2f' % mean_squared_error(y_test,poly4_predictions ))\n",
    "# The coefficient of determination: 1 is perfect prediction\n",
    "print('Coefficient of determination: %.2f' % r2_score(y_test, poly4_predictions))\n",
    "print('Root Mean Squared Error: %.2f' % np.sqrt(mean_squared_error(y_test,poly4_predictions )))"
   ]
  },
  {
   "cell_type": "code",
   "execution_count": 52,
   "metadata": {},
   "outputs": [
    {
     "data": {
      "text/plain": [
       "array([[101.8750371]])"
      ]
     },
     "execution_count": 52,
     "metadata": {},
     "output_type": "execute_result"
    }
   ],
   "source": [
    "# Predicting a new result with Polymonial Regression\n",
    "# need to transform the data to be predicted\n",
    "model_poly3.predict(poly3.fit_transform([[20]]))"
   ]
  },
  {
   "cell_type": "code",
   "execution_count": 53,
   "metadata": {},
   "outputs": [
    {
     "data": {
      "text/plain": [
       "array([[103.81995991]])"
      ]
     },
     "execution_count": 53,
     "metadata": {},
     "output_type": "execute_result"
    }
   ],
   "source": [
    "# need to transform the data to be predicted\n",
    "model_poly4.predict(poly4.fit_transform([[20]]))"
   ]
  },
  {
   "cell_type": "code",
   "execution_count": 54,
   "metadata": {},
   "outputs": [
    {
     "data": {
      "text/plain": [
       "array([[92.74766278]])"
      ]
     },
     "execution_count": 54,
     "metadata": {},
     "output_type": "execute_result"
    }
   ],
   "source": [
    "# Predicting a new result with Polymonial Regression\n",
    "model_poly3.predict(poly3.fit_transform([[24.4]]))"
   ]
  },
  {
   "cell_type": "code",
   "execution_count": 55,
   "metadata": {},
   "outputs": [
    {
     "data": {
      "text/plain": [
       "array([[-2.33560405]])"
      ]
     },
     "execution_count": 55,
     "metadata": {},
     "output_type": "execute_result"
    }
   ],
   "source": [
    "# Predicting a new result with Polymonial Regression\n",
    "model_poly3.predict(poly3.fit_transform([[3]]))"
   ]
  },
  {
   "cell_type": "markdown",
   "metadata": {},
   "source": [
    "### Save the model for use in the Web application\n",
    "This project also requires a web service to be developed that will respond with predicted power values based on speed values sent as HTTP requests. Therefore I need to save the model for use outside this notebook.\n",
    "\n",
    "For the polynomial regression model, there is the option of  using Python’s built-in persistence model `pickle`. The [scikit-learn documents](\n",
    "https://scikit-learn.org/stable/modules/model_persistence.html) recommend using joblib’s replacement of pickle (dump & load), which is more efficient on objects that carry large numpy arrays internally as is often the case for fitted scikit-learn estimators, but can only pickle to the disk and not to a string.\n",
    "\n",
    "\n",
    "I had to come back and update the model to exclude the constant 1 as I had 4 coefficients and was working with 3 in the web app, the wind speed, wind speed squared and wind speed cubed values. The [PolynomialFeatures](https://scikit-learn.org/stable/modules/generated/sklearn.preprocessing.PolynomialFeatures.html) documents it \n",
    " generate a new feature matrix consisting of all polynomial combinations of the features with degree less than or equal to the specified degree. For example, if an input sample is two dimensional and of the form `[a, b]`, the degree-2 polynomial features are `[1, a, b, a^2, ab, b^2]`.\n",
    "Therefore I updated the model and set the `include_bias` to False."
   ]
  },
  {
   "cell_type": "code",
   "execution_count": 56,
   "metadata": {},
   "outputs": [
    {
     "data": {
      "text/plain": [
       "['model_poly3.joblib']"
      ]
     },
     "execution_count": 56,
     "metadata": {},
     "output_type": "execute_result"
    }
   ],
   "source": [
    "from joblib import dump, load\n",
    "dump(model_poly3, 'model_poly3.joblib') "
   ]
  },
  {
   "cell_type": "code",
   "execution_count": 57,
   "metadata": {},
   "outputs": [
    {
     "data": {
      "text/plain": [
       "['model_poly3.pkl']"
      ]
     },
     "execution_count": 57,
     "metadata": {},
     "output_type": "execute_result"
    }
   ],
   "source": [
    "dump(model_poly3, 'model_poly3.pkl') "
   ]
  },
  {
   "cell_type": "code",
   "execution_count": 58,
   "metadata": {},
   "outputs": [
    {
     "data": {
      "text/plain": [
       "array([[  12.,  144., 1728.]])"
      ]
     },
     "execution_count": 58,
     "metadata": {},
     "output_type": "execute_result"
    }
   ],
   "source": [
    "wind12 = poly3.fit_transform([[12]])\n",
    "wind12"
   ]
  },
  {
   "cell_type": "code",
   "execution_count": null,
   "metadata": {},
   "outputs": [],
   "source": []
  },
  {
   "cell_type": "code",
   "execution_count": 59,
   "metadata": {},
   "outputs": [
    {
     "data": {
      "text/plain": [
       "array([[45.01454843]])"
      ]
     },
     "execution_count": 59,
     "metadata": {},
     "output_type": "execute_result"
    }
   ],
   "source": [
    "model_poly3.predict(wind12)"
   ]
  },
  {
   "cell_type": "code",
   "execution_count": 60,
   "metadata": {},
   "outputs": [],
   "source": [
    "win12 = [[12, 12**2, 12**3]]\n",
    "win12 =np.array(win12)"
   ]
  },
  {
   "cell_type": "code",
   "execution_count": 61,
   "metadata": {},
   "outputs": [
    {
     "data": {
      "text/plain": [
       "array([[45.01454843]])"
      ]
     },
     "execution_count": 61,
     "metadata": {},
     "output_type": "execute_result"
    }
   ],
   "source": [
    "model_poly3.predict(win12)"
   ]
  },
  {
   "cell_type": "code",
   "execution_count": 62,
   "metadata": {},
   "outputs": [
    {
     "data": {
      "text/plain": [
       "array([[-2.33560405]])"
      ]
     },
     "execution_count": 62,
     "metadata": {},
     "output_type": "execute_result"
    }
   ],
   "source": [
    "wind3 = [[3, 3**2, 3**3]]\n",
    "wind3 = np.array(wind3)\n",
    "model_poly3.predict(wind3)"
   ]
  },
  {
   "cell_type": "markdown",
   "metadata": {},
   "source": [
    "The polynomial curve does quite a good job but similarly to the MLP below, it predicts power values for values over 24.4 which is the cut-off range. \n",
    "Also the transformation has to be taken into account when taking in new values from the end user."
   ]
  },
  {
   "cell_type": "markdown",
   "metadata": {},
   "source": [
    "---\n",
    "## Artificial Neural Network\n",
    "\n",
    "For my second machine learning model I implement an artificial neural network using the `tf.keras` API.\n",
    "In addition to the lecture videos I followed several tutorials in particular those by MachineLearningMastery.com [20] as well as the Tensorflow-Keras documentation and other tutorials documented in the references section below. TensorFlow is the premier open-source deep learning framework developed and maintained by Google. Keras is a deep learning API written in Python, running on top of the machine learning platform TensorFlow.[21] \n",
    "\n",
    "A Multilayer Perceptron model (MLP) is a standard fully connected neural network model. It is made up of one or more (dense) layers of nodes where each node is connected to all outputs from the previous layer and the output of each node is connected to all the inputs for the nodes in the next layer. This model is suitable for tabular data and can be used for three predictive modeling problems being binary classification, multiclass classification, and regression.[20]\n",
    "\n",
    "Machine learning is the science of getting computers to act without being explicitly programmed. Artificial neural networks are a class of machine-learning algorithms  that are used to model complex patterns in datasets through the use of multiple hidden layers and non-linear activation functions. They are designed to simulate the way the human brain analyses and processes information. The computer learns to perform some task by analyzing training examples.\n",
    "\n",
    ">An artificial neural network (ANN) is the piece of a computing system designed to simulate the way the human brain analyzes and processes information. It is the foundation of artificial intelligence (AI) and solves problems that would prove impossible or difficult by human or statistical standards. ANNs have self-learning capabilities that enable them to produce better results as more data becomes available.[17]\n",
    "\n",
    ">Neural nets are a means of doing machine learning, in which a computer learns to perform some task by analyzing training examples. Modeled loosely on the human brain, a neural net consists of thousands or even millions of simple processing nodes that are densely interconnected. Most of today’s neural nets are organized into layers of nodes, and they’re “feed-forward,” meaning that data moves through them in only one direction. An individual node might be connected to several nodes in the layer beneath it, from which it receives data, and several nodes in the layer above it, to which it sends data. To each of its incoming connections, a node will assign a number known as a “weight.” When the network is active, the node receives a different data item — a different number — over each of its connections and multiplies it by the associated weight. It then adds the resulting products together, yielding a single number. If that number is below a threshold value, the node passes no data to the next layer. If the number exceeds the threshold value, the node “fires,” which in today’s neural nets generally means sending the number — the sum of the weighted inputs — along all its outgoing connections.\n",
    "When a neural net is being trained, all of its weights and thresholds are initially set to random values. Training data is fed to the bottom layer — the input layer — and it passes through the succeeding layers, getting multiplied and added together in complex ways, until it finally arrives, radically transformed, at the output layer. During training, the weights and thresholds are continually adjusted until training data with the same labels consistently yield similar outputs.[18]\n"
   ]
  },
  {
   "cell_type": "markdown",
   "metadata": {},
   "source": [
    "Neural networks consist of several layers. A neural network takes an input and passes it through multiple layers of hidden neurons. These hidden neurons can be considered as mini-functions with coefficients that the model must learn. The neural network will output a prediction that represents the combined input of all the neurons.\n",
    "Neural networks are trained iteratively using optimization techniques such as gradient descent. \n",
    "\n",
    "After each cycle of training, an error metric is calculated based on the difference between the prediction and the target. The derivatives of this error metric are calculated and propagated back through the network using a technique called backpropagation. Each neuron’s coefficients (weights) are then adjusted relative to how much they contributed to the total error. This process is repeated iteratively until the network error drops below an acceptable threshold. [19]\n",
    "\n",
    "To use artificial neural networks on a dataset all variables need to be first encoded into floating point numbers. Outputs can be reverse decoded later. A neuron takes a group of weighted inputs, applies an activation function and returns an output. The inputs to a neuron can be features from a training set or the outputs from the previous layer's neurons. The weights and bias are the parameters of the model. The initial weights are often set to small random values and can be adjusted to get the neural network to perform better. Weights are applied along the inputs as they travel along the 'synapses' (the connection between two neurons) to reach the neuron. The neuron then applies an activation function to the sum of the weighted inputs from each incoming synapse and passes the result to all the neurons in the next layer.\n",
    "Weights are applied to each connection. Weights are the values that control the strength of the connection between two neurons.  Inputs are usually multiplied by weight that define how much influence the input will have on the output. The lower the weight the lower the importance of the connection while the higher the weight the higher the importance of the connection. When the inputs are transmitted between the neurons, the weights are applied to  the inputs as well as an additional value known as the bias. The bias are additional constant terms that are attached to each neuron and are added to the weighted input before the activation function is applied. *Bias terms help models represent patterns that do not necessarily pass through the origin.* [19] Bias terms must also be learned by the model.\n",
    "\n",
    "The input layer of a neural network will hold the data to train the model. Neural networks can have several input features each represented by a neuron that represents the unique attributes in the dataset. This dataset has a single input feature, the wind speed in metres per second.\n",
    "\n",
    "The neural network can have one or more hidden layers between the input layer and the output layer. The hidden layers applies an activation function before passing on the results to the next layer. Hidden layers can be fully connected or dense layers where each neuron receives inputs from all the neurons in the previous layer and sends its output to each neuron in the next layer. Alternatively with a convolutional layer the neurons will send their output to only some of the neurons in the next layer. The output layer is the final layer in the neural network and receives its input from the previous hidden layer. It can also apply an activation function and returns an output. The output represents the prediction from the neural network.\n",
    "\n",
    "With neural networks the aim is to get a high value assigned to the correct output. If the neural network misclassifies an output label then it is fed back into the algorithm, the weights are changed a little so that the correct output is predicted the next time and this will keep changing until it gets the correct output. \n",
    "The starting values for the weights are usually random values and which updated over time to achieve the expected output using an algorithm such as gradient descent (or stochastic gradient descent `sgd`) or some other algorithm. \n",
    "\n",
    "The input to a neuron is the sum of the weighted outputs from all the neurons in the previous layer. Each input is multiplied by the weight associated with the synapse or connnection connecting  the input to the current neuron.\n",
    "If there are `n`  inputs or neurons in the previous layer then each neuron in the current layer will have `n` distinct weight with one weight for each connection.\n",
    "For multiple inputs this is $x_1w_1+x_2w_2+x_3w_3$ which is the same equation as used for linear equation. A neural network with a single neuron is actually the same as linear regression except that the neural network post-processes the weighted inputs with an activation function. [19]\n",
    "\n",
    "There are activation function inside each layer of a neural network which modifies the inputs they receive before passing them onto the next layer. Activation functions allow a neural network to model complex non-linear functions. In order to be able to use gradient descent the outputs need to have a slope with which to calculate the error derivative with respect to the weights. If the neuron only outputted a 0 or 1 then this doesn't tell us in what direction the weights need to be updated to reduce the error. \n",
    "\n",
    "A medium article [22] provides some background on activation functions:\n",
    "An artificial neuron calculates a weighted sum of its input, adds a bias and then decides whether it should be fired or not. $Y = \\sum{(\\text{weight} * \\text{input})} + \\text{bias}$\n",
    "The value of Y can be anything from -infinity to + infinity and the neuron does not really know the bounds of the value. To decide whether the neuron should fire or not the activation function checks the $Y$ value produced by the neuron and decides whether outside connections should consider this neuron as activated (fired) or not.\n",
    "With a threshold based activation function, if the value of Y is above a certain value then it can be declared as activated and otherwise not. The output is 1 (activated) when the value is greater than the threshold and 0 otherwise. This is a step function which has drawbacks being used as an activation function when the response is not a binary yes or no. \n",
    "A linear activation function $A=cX$ is a straight line function where activation is proportional to input (which is the weighted sum from neurons). In this way it will give a range of activations rather than just binary activations. We can connect some neurons and if more than one fire then we could take the max and decide based on that. The derivative w.r.x is c which means that the gradient has no relationship with X. The descent is going to be on a constant gradient. If there is an error in prediction the changes made by back propagation is constant and not depending on the change in input delta(x).\n",
    "Another problem concerns the connected layers where each layer is activated by a linear function. \n",
    "That activation in turn goes into the next level as input and the second layer calculates weighted sum on that input and it in turn, fires based on another linear activation function.\n",
    "No matter how many layers we have, if all are linear in nature, the final activation function of last layer is nothing but just a linear function of the input of first layer. Therefore two or more layers can be replaced by a single layer. The whole network then is equivalent to  a single layer with linear activation.\n",
    "The sigmoid function is smooth and looks somewhat like a step function. It is nonlinear in nature and therefore combinations of layers are also non-linear which means that layers can be stacked. It will also give non-binary activations unlike the step function. It has a smooth gradient.\n",
    "Between X values -2 to 2, the Y values are very steep. This means that any small changes in the values of X in that region will cause values of Y to change significantly. This means this function has a tendency to bring the Y values to either end of the curve. It tends to bring the activations to either side of the curve making clear distinctions on prediction. Another advantage over linear function is that the output of the activation function is always going to be in range (0,1) compared to (-inf, inf) of linear function and therefore the activations are bound in a range. \n",
    "Sigmoid functions are one of the most widely used activation functions today. The problems with them is that towards either end of the sigmoid function, the Y values tend to respond less to changes in X. This means that the gradient at that region is going to be small. It gives rise to a problem of “vanishing gradients”. When the activations reach near the “near-horizontal” part of the curve on either sides, the gradient is small or has vanished (cannot make significant change because of the extremely small value). The network refuses to learn further or is drastically slow (depending on use case and until gradient /computation gets hit by floating point value limits ). There are ways to work around this problem and sigmoid is still very popular in classification problems.\n",
    "The article also looked at the Tanh activation functions which is a scaled sigmoid function and the ReLu function which gives an output x if x is positive and 0 otherwise. These are both non-linear functions.\n",
    "The medium article [22] finishes by suggesting how to choose the correct activation function. \n",
    "When you know the function you are trying to approximate has certain characteristics, you can choose an activation function which will approximate the function faster leading to faster training process. \n",
    "\n",
    "\n",
    "The loss function or cost function tells us how well the model predicts for a given set of parameters. It has its own curve and derivative and the slope of this curve informs how to change the parameters to make the model more accurate. The lost or cost functions for regression problems is usually the mean squared error MSE. Other loss functions would be used for classification problems.\n",
    "\n",
    "Once the neural network is trained and is stable, if a new datapoint that it was not trained on is provided to it the neural network should be able to correctly classify it."
   ]
  },
  {
   "cell_type": "markdown",
   "metadata": {},
   "source": [
    "A machine learning model has a life-cycle with 5 steps:[20]\n",
    "\n",
    "[Keras documentation](https://www.tensorflow.org/guide/keras/sequential_mode) \n",
    "\n",
    "#### 1. Define the model: \n",
    "Select the type of model and choose the architecture or network topology. Define the number of layers, configure each layer with a number of nodes and activation function, connect the layers together into a cohesive model.\n",
    "A layer is a simple input-output transformation while a model is a directed acyclic graph of layers. It is like a bigger layer consisting of many sub-layers that can be trained via exposure to data. According to any tutorials I came across, determining the correct number of layers to use is a matter of trial and error really. Generally you need a network large enough to capture the structure of the problem.\n",
    "\n",
    "The input layer is first defined then you chain layer transformations on top of the inputs until the final output.\n",
    "All layers in Keras need to know the shape of their inputs in order to be able to create weights. The shape of the weights depends on the shape of their inputs. The `Input` object is not considerd a layer.\n",
    "The visible layer of the network is defined by the input shape argument on the first hidden layer. In the dataset for this project this will be `(1,)` as there is only a single input variable wind speed. The model will then expect the input for one sample to be a vector of 1 number.\n",
    "\n",
    "There are two main models that are provided in the tensorflow-keras API. A `Sequential` model is appropriate for a plain stack of layers where each layer has exactly one input tensor and one output tensor. A `Sequential` model is not appropriate for models with multiple inputs or outputs. A sequential neural network is built up in sequential layers. It adds layers to the model one by one in a linear manner, from input to output. I will be using the `Sequential` model for this project. A `Sequential` model is created by passing  a list of layers to the Sequential constructor `model = keras.Sequential` or by incrementally adding the layers using the `model.add()` method.\n",
    "There is also a `Functional` model which is more complex but more flexible than the `Sequential` model. For this you need to explicitly connect the output of one layer to the input of another layer. Each connection is specified.\n",
    "\n",
    "Fully connected layers are defined using the `Dense` class - `Dense` refers to the layer being densely connected to the previous layer. Every node in the previous layer is connected to everything in the current layer.\n",
    "The first line of code that adds the first Dense layer does 2 things, defines the input or visible layer and the first hidden layer. The number of neurons or nodes in the layer as the first argument and specify the activation function using the `activation` argument. We were advised to use the Sigmoid activation function for this project so I will do this.  A `Sigmoid` layer is used on the outer layer to ensure the network output is between 0 and 1. \n",
    "According to the tutorials, Sigmoid and Tanh activation functions were the preferred choice  for all layers before but that these days better performance is achieved using the `rectified linear unit` or `ReLU` activation function.\n",
    "\n",
    "Initializers define the way to set the initial random weights of Keras layers. The `kernel_initializer` and `bias_initializer` parameter refers to the distribution or function to use for initialising the weights. Initializers available include `RandomNormal` class , `RandomUniform` class, a `Zeros` class, a `Ones` class. `GlorotNormal` draws samples from a truncated normal distribution centered on 0. `GlorotUniform` draws samples from a uniform distribution within some limits. \n",
    "\n",
    "Once the layers have been defined that turn the inputs into outputs, instantiate a `model` object.\n",
    "\n",
    "\n",
    "\n",
    "#### 2. Compile the model\n",
    "Once the model is defined, it can be compiled or built using the `compile()` method passing in the selected loss functions and optimizer functions.  For this project we use the mean squared error as the cost function we are considering a regression problem.\n",
    "Loss functions such as  `MeanSquaredError` computes the mean of squares of errors between labels and predictions.\n",
    "There are many more listed in the [keras losses](https://www.tensorflow.org/api_docs/python/tf/keras/losses) documentation.\n",
    "\n",
    "The optimizer performs the optimisation procedure such as stochastic gradient descent or `Adam` . Adam is a modern variation of stochastic gradient descent method which automatically tunes itself and gives good results in a wide range of problems. The optimizer can be specified as a string for a known optimizer class such as `sgd` for stochastic gradient descent or else you can configure an instance of the [optimizer classes](https://www.tensorflow.org/api_docs/python/tf/keras/optimizers) to use.\n",
    "`sgd` is a gradient descent (with momentum) optimizer. It has a default learning rate of 0.01\n",
    "The update rule is ` w = w - learning_rate * g` for parameter `w` with  gradient `g` when momentum is 0.\n",
    "The `learning_rate` defaults to 0.001 in the Adam optimizer. \n",
    "\n",
    "You can also  select some performance metrics to keep track of and report during the model training process\n",
    "Metrics to evaluate predictions from the model include `Accuracy` to calculates how often predictions equal labels, `AUC`  computes the approximate area under the curve,  `FalseNegatives` calculates the number of false negatives and `FalsePositives`  calculates the number of false positives, `Precision` computes the precision of the predictions with respect to the labels. \n",
    "\n",
    "#### 3. Fit the model\n",
    "- Once the model has been compiled, fit the model to the data using `fit()`.\n",
    "To fit the model you need to select the training configuration such as the number of epochs which are loops or iterations through the training dataset. The batch size is the number of samples in an epoch used to estimate model error. By passing in for example 10 at a time instead of 1 at a time can have a smoothing effect.\n",
    "\n",
    "Training applies the chosen optimization algorithm to minimize the chosen loss function and updates the model using the backpropagation of error algorithm. This can be slow depending on the complexity of the model, the size of the training dataset and the hardware being used.\n",
    "The `fit` call returns a history object which records what happens over the course of the training.\n",
    "- The `history.history` dict contains per-epoch timeseries of metrics values.\n",
    "- Validation data can be passed to `fit()` to monitor the validation loss & validation metrics which get reported at the end of each epoch.\n",
    "\n",
    "When passing data to the built-in training loops of a model, NumPy arrays can be used if the data is small and fits in memory or `tf.data.Dataset` objects. The dataset here is only 500 rows.\n",
    "\n",
    "#### 4. Evaluate the model\n",
    "After `fit()` you can evaluate the performance and generate predictions on new data using `evaluate()`.\n",
    "This is where the holdout dataset comes into play, data that is not used in the training of the model so you can get an unbiased estimate of the performance of the model when making predictions on new data.\n",
    "\n",
    "#### 5. Make predictions using the model\n",
    "This is the final stage of the life cycle where you take values that you don't have target values and make a prediction using the model\n",
    "- Generate numPy arrays of predictions using `predict()`.\n",
    "`predictions = model.predict(val_dataset)`\n",
    "\n",
    "\n",
    "\n",
    "```python\n",
    "loss, acc = model.evaluate(val_dataset)\n",
    "print(\"loss: %.2f\" % loss)\n",
    "print(\"acc: %.2f\" % acc)\n",
    "acc: %.2f\" % acc)\n",
    "```"
   ]
  },
  {
   "cell_type": "markdown",
   "metadata": {},
   "source": [
    "### Implement model 2: A neural network"
   ]
  },
  {
   "cell_type": "markdown",
   "metadata": {},
   "source": [
    "### The data:\n",
    "I am using the dataframe `dfx` where some of the zero values were dropped.\n",
    "I can alternatively try using the `df` dataframe consisting of all 500 rows."
   ]
  },
  {
   "cell_type": "code",
   "execution_count": 63,
   "metadata": {},
   "outputs": [
    {
     "data": {
      "text/html": [
       "<div>\n",
       "<style scoped>\n",
       "    .dataframe tbody tr th:only-of-type {\n",
       "        vertical-align: middle;\n",
       "    }\n",
       "\n",
       "    .dataframe tbody tr th {\n",
       "        vertical-align: top;\n",
       "    }\n",
       "\n",
       "    .dataframe thead th {\n",
       "        text-align: right;\n",
       "    }\n",
       "</style>\n",
       "<table border=\"1\" class=\"dataframe\">\n",
       "  <thead>\n",
       "    <tr style=\"text-align: right;\">\n",
       "      <th></th>\n",
       "      <th>speed</th>\n",
       "      <th>power</th>\n",
       "    </tr>\n",
       "  </thead>\n",
       "  <tbody>\n",
       "    <tr>\n",
       "      <th>count</th>\n",
       "      <td>475.000000</td>\n",
       "      <td>475.000000</td>\n",
       "    </tr>\n",
       "    <tr>\n",
       "      <th>mean</th>\n",
       "      <td>12.440971</td>\n",
       "      <td>50.541667</td>\n",
       "    </tr>\n",
       "    <tr>\n",
       "      <th>std</th>\n",
       "      <td>7.101231</td>\n",
       "      <td>41.171815</td>\n",
       "    </tr>\n",
       "    <tr>\n",
       "      <th>min</th>\n",
       "      <td>0.000000</td>\n",
       "      <td>0.000000</td>\n",
       "    </tr>\n",
       "    <tr>\n",
       "      <th>25%</th>\n",
       "      <td>6.293500</td>\n",
       "      <td>6.737500</td>\n",
       "    </tr>\n",
       "    <tr>\n",
       "      <th>50%</th>\n",
       "      <td>12.538000</td>\n",
       "      <td>47.282000</td>\n",
       "    </tr>\n",
       "    <tr>\n",
       "      <th>75%</th>\n",
       "      <td>18.531500</td>\n",
       "      <td>94.017500</td>\n",
       "    </tr>\n",
       "    <tr>\n",
       "      <th>max</th>\n",
       "      <td>24.399000</td>\n",
       "      <td>113.556000</td>\n",
       "    </tr>\n",
       "  </tbody>\n",
       "</table>\n",
       "</div>"
      ],
      "text/plain": [
       "            speed       power\n",
       "count  475.000000  475.000000\n",
       "mean    12.440971   50.541667\n",
       "std      7.101231   41.171815\n",
       "min      0.000000    0.000000\n",
       "25%      6.293500    6.737500\n",
       "50%     12.538000   47.282000\n",
       "75%     18.531500   94.017500\n",
       "max     24.399000  113.556000"
      ]
     },
     "execution_count": 63,
     "metadata": {},
     "output_type": "execute_result"
    }
   ],
   "source": [
    "dfx.describe()"
   ]
  },
  {
   "cell_type": "markdown",
   "metadata": {},
   "source": [
    "### Split the data into training and test sets\n",
    "\n",
    "The ideal machine-learning model is end to end and therefore the preprocessing should be part of the model as much as possible to make the model portable for production. However I have already split the dataset earlier for the polynomial regression model and need to be able to compare the models."
   ]
  },
  {
   "cell_type": "code",
   "execution_count": 64,
   "metadata": {},
   "outputs": [
    {
     "name": "stdout",
     "output_type": "stream",
     "text": [
      "(356, 1) (119, 1) (356, 1) (119, 1)\n"
     ]
    }
   ],
   "source": [
    "print(X_train.shape, X_test.shape, y_train.shape, y_test.shape)\n",
    "# determine the number of input features\n",
    "n_features = X_train.shape[1]"
   ]
  },
  {
   "cell_type": "code",
   "execution_count": 65,
   "metadata": {},
   "outputs": [
    {
     "data": {
      "text/plain": [
       "(475, 2)"
      ]
     },
     "execution_count": 65,
     "metadata": {},
     "output_type": "execute_result"
    }
   ],
   "source": [
    "dfx.values.shape"
   ]
  },
  {
   "cell_type": "markdown",
   "metadata": {},
   "source": [
    "### First without normalisation\n",
    "I initially followed some tutorials that used scikit-learn for scaling or normalising data and now I see that this will be a problem on the web app as the data taken in would have to have the scaling or normalisation applied as the training data. Keras does have some preprocessing layers including the `Normalization` layer for feature normalization.\n",
    "The model I used first below was a multi perceptron neural network on the unscaled data. The predictions were not bad. I then used the `preprocessing.MinMaxScaler()` from scikit-learn below but I am going to use the Normalization layer from tensorflow.keras\n",
    "from tensorflow.keras.layers.experimental.preprocessing import Normalization"
   ]
  },
  {
   "cell_type": "code",
   "execution_count": 66,
   "metadata": {},
   "outputs": [],
   "source": [
    "# Train a model\n",
    "model = kr.models.Sequential()\n",
    "initializer = kr.initializers.RandomUniform(minval=0., maxval=24.3)\n",
    "model.add(kr.layers.Dense(30, input_shape=(1,), activation='sigmoid', kernel_initializer=initializer, bias_initializer=initializer))\n",
    "model.add(kr.layers.Dense(40, input_shape=(1,), activation='sigmoid', kernel_initializer=\"glorot_uniform\", bias_initializer=\"glorot_uniform\"))\n",
    "model.add(kr.layers.Dense(1, activation='linear', kernel_initializer=\"glorot_uniform\", bias_initializer=\"glorot_uniform\"))"
   ]
  },
  {
   "cell_type": "markdown",
   "metadata": {},
   "source": [
    "### Compile the model"
   ]
  },
  {
   "cell_type": "code",
   "execution_count": 67,
   "metadata": {},
   "outputs": [
    {
     "name": "stdout",
     "output_type": "stream",
     "text": [
      "Model: \"sequential\"\n",
      "_________________________________________________________________\n",
      "Layer (type)                 Output Shape              Param #   \n",
      "=================================================================\n",
      "dense (Dense)                (None, 30)                60        \n",
      "_________________________________________________________________\n",
      "dense_1 (Dense)              (None, 40)                1240      \n",
      "_________________________________________________________________\n",
      "dense_2 (Dense)              (None, 1)                 41        \n",
      "=================================================================\n",
      "Total params: 1,341\n",
      "Trainable params: 1,341\n",
      "Non-trainable params: 0\n",
      "_________________________________________________________________\n"
     ]
    }
   ],
   "source": [
    "# \n",
    "model.compile(kr.optimizers.Adam(lr=0.001), loss='mean_squared_error')\n",
    "model.summary()"
   ]
  },
  {
   "cell_type": "markdown",
   "metadata": {},
   "source": [
    "The first dense layer has 120 parameters consisting of 60 neurons and 60 bias terms while the second dense layer is the output layer which has only one neuron with 1 bias and 60 inputs from the previous layer. "
   ]
  },
  {
   "cell_type": "markdown",
   "metadata": {},
   "source": [
    "#### Train the model on the data"
   ]
  },
  {
   "cell_type": "code",
   "execution_count": 68,
   "metadata": {},
   "outputs": [
    {
     "name": "stdout",
     "output_type": "stream",
     "text": [
      "Epoch 1/500\n",
      "29/29 [==============================] - 0s 5ms/step - loss: 4096.5957 - val_loss: 4015.9971\n",
      "Epoch 2/500\n",
      "29/29 [==============================] - 0s 2ms/step - loss: 3900.7175 - val_loss: 3833.4465\n",
      "Epoch 3/500\n",
      "29/29 [==============================] - 0s 2ms/step - loss: 3736.0000 - val_loss: 3687.4045\n",
      "Epoch 4/500\n",
      "29/29 [==============================] - 0s 2ms/step - loss: 3608.9495 - val_loss: 3575.5291\n",
      "Epoch 5/500\n",
      "29/29 [==============================] - 0s 2ms/step - loss: 3507.7092 - val_loss: 3478.9404\n",
      "Epoch 6/500\n",
      "29/29 [==============================] - 0s 2ms/step - loss: 3420.1465 - val_loss: 3389.9373\n",
      "Epoch 7/500\n",
      "29/29 [==============================] - 0s 2ms/step - loss: 3336.7178 - val_loss: 3313.5081\n",
      "Epoch 8/500\n",
      "29/29 [==============================] - 0s 2ms/step - loss: 3263.3616 - val_loss: 3239.5317\n",
      "Epoch 9/500\n",
      "29/29 [==============================] - 0s 2ms/step - loss: 3194.2131 - val_loss: 3170.2751\n",
      "Epoch 10/500\n",
      "29/29 [==============================] - 0s 2ms/step - loss: 3127.5474 - val_loss: 3108.3547\n",
      "Epoch 11/500\n",
      "29/29 [==============================] - 0s 2ms/step - loss: 3064.8716 - val_loss: 3045.2761\n",
      "Epoch 12/500\n",
      "29/29 [==============================] - 0s 2ms/step - loss: 3003.3379 - val_loss: 2981.1694\n",
      "Epoch 13/500\n",
      "29/29 [==============================] - 0s 2ms/step - loss: 2942.7876 - val_loss: 2921.8923\n",
      "Epoch 14/500\n",
      "29/29 [==============================] - 0s 2ms/step - loss: 2885.5120 - val_loss: 2864.4561\n",
      "Epoch 15/500\n",
      "29/29 [==============================] - 0s 2ms/step - loss: 2832.0681 - val_loss: 2807.8740\n",
      "Epoch 16/500\n",
      "29/29 [==============================] - 0s 2ms/step - loss: 2779.3267 - val_loss: 2759.3687\n",
      "Epoch 17/500\n",
      "29/29 [==============================] - 0s 2ms/step - loss: 2730.9097 - val_loss: 2710.3071\n",
      "Epoch 18/500\n",
      "29/29 [==============================] - 0s 2ms/step - loss: 2684.3569 - val_loss: 2662.2275\n",
      "Epoch 19/500\n",
      "29/29 [==============================] - 0s 2ms/step - loss: 2639.0571 - val_loss: 2618.9790\n",
      "Epoch 20/500\n",
      "29/29 [==============================] - 0s 2ms/step - loss: 2596.8193 - val_loss: 2575.5576\n",
      "Epoch 21/500\n",
      "29/29 [==============================] - 0s 2ms/step - loss: 2554.8127 - val_loss: 2532.8611\n",
      "Epoch 22/500\n",
      "29/29 [==============================] - 0s 2ms/step - loss: 2514.9753 - val_loss: 2493.2959\n",
      "Epoch 23/500\n",
      "29/29 [==============================] - 0s 2ms/step - loss: 2476.1396 - val_loss: 2455.1584\n",
      "Epoch 24/500\n",
      "29/29 [==============================] - 0s 2ms/step - loss: 2439.5234 - val_loss: 2417.6709\n",
      "Epoch 25/500\n",
      "29/29 [==============================] - 0s 2ms/step - loss: 2403.8171 - val_loss: 2382.6885\n",
      "Epoch 26/500\n",
      "29/29 [==============================] - 0s 2ms/step - loss: 2371.4800 - val_loss: 2347.5278\n",
      "Epoch 27/500\n",
      "29/29 [==============================] - 0s 2ms/step - loss: 2337.7437 - val_loss: 2316.8259\n",
      "Epoch 28/500\n",
      "29/29 [==============================] - 0s 2ms/step - loss: 2307.5562 - val_loss: 2284.6802\n",
      "Epoch 29/500\n",
      "29/29 [==============================] - 0s 2ms/step - loss: 2277.0923 - val_loss: 2255.0503\n",
      "Epoch 30/500\n",
      "29/29 [==============================] - 0s 2ms/step - loss: 2248.5273 - val_loss: 2226.1018\n",
      "Epoch 31/500\n",
      "29/29 [==============================] - 0s 2ms/step - loss: 2221.4641 - val_loss: 2199.0874\n",
      "Epoch 32/500\n",
      "29/29 [==============================] - 0s 2ms/step - loss: 2195.9893 - val_loss: 2172.1890\n",
      "Epoch 33/500\n",
      "29/29 [==============================] - 0s 2ms/step - loss: 2170.0779 - val_loss: 2148.0557\n",
      "Epoch 34/500\n",
      "29/29 [==============================] - 0s 2ms/step - loss: 2146.1929 - val_loss: 2121.7385\n",
      "Epoch 35/500\n",
      "29/29 [==============================] - 0s 2ms/step - loss: 2121.8069 - val_loss: 2098.3174\n",
      "Epoch 36/500\n",
      "29/29 [==============================] - 0s 2ms/step - loss: 2100.7109 - val_loss: 2075.2124\n",
      "Epoch 37/500\n",
      "29/29 [==============================] - 0s 2ms/step - loss: 2079.1653 - val_loss: 2053.3848\n",
      "Epoch 38/500\n",
      "29/29 [==============================] - 0s 2ms/step - loss: 2058.0835 - val_loss: 2035.0419\n",
      "Epoch 39/500\n",
      "29/29 [==============================] - 0s 2ms/step - loss: 2040.1467 - val_loss: 2013.7319\n",
      "Epoch 40/500\n",
      "29/29 [==============================] - 0s 2ms/step - loss: 2020.9276 - val_loss: 1995.6289\n",
      "Epoch 41/500\n",
      "29/29 [==============================] - 0s 2ms/step - loss: 2004.0244 - val_loss: 1977.9634\n",
      "Epoch 42/500\n",
      "29/29 [==============================] - 0s 2ms/step - loss: 1987.7878 - val_loss: 1960.2690\n",
      "Epoch 43/500\n",
      "29/29 [==============================] - 0s 2ms/step - loss: 1971.3510 - val_loss: 1945.5985\n",
      "Epoch 44/500\n",
      "29/29 [==============================] - 0s 2ms/step - loss: 1957.2889 - val_loss: 1929.8010\n",
      "Epoch 45/500\n",
      "29/29 [==============================] - 0s 2ms/step - loss: 1942.3701 - val_loss: 1915.7542\n",
      "Epoch 46/500\n",
      "29/29 [==============================] - 0s 2ms/step - loss: 1929.0162 - val_loss: 1902.2662\n",
      "Epoch 47/500\n",
      "29/29 [==============================] - 0s 2ms/step - loss: 1916.0790 - val_loss: 1889.1699\n",
      "Epoch 48/500\n",
      "29/29 [==============================] - 0s 2ms/step - loss: 1903.4951 - val_loss: 1876.2051\n",
      "Epoch 49/500\n",
      "29/29 [==============================] - 0s 2ms/step - loss: 1891.4373 - val_loss: 1863.3540\n",
      "Epoch 50/500\n",
      "29/29 [==============================] - 0s 2ms/step - loss: 1880.3295 - val_loss: 1852.0536\n",
      "Epoch 51/500\n",
      "29/29 [==============================] - 0s 2ms/step - loss: 1869.3330 - val_loss: 1841.0731\n",
      "Epoch 52/500\n",
      "29/29 [==============================] - 0s 2ms/step - loss: 1859.6455 - val_loss: 1830.4536\n",
      "Epoch 53/500\n",
      "29/29 [==============================] - 0s 2ms/step - loss: 1850.2313 - val_loss: 1821.0103\n",
      "Epoch 54/500\n",
      "29/29 [==============================] - 0s 2ms/step - loss: 1841.1111 - val_loss: 1811.9380\n",
      "Epoch 55/500\n",
      "29/29 [==============================] - 0s 2ms/step - loss: 1832.8615 - val_loss: 1803.1589\n",
      "Epoch 56/500\n",
      "29/29 [==============================] - 0s 2ms/step - loss: 1824.5719 - val_loss: 1795.3689\n",
      "Epoch 57/500\n",
      "29/29 [==============================] - 0s 2ms/step - loss: 1817.6362 - val_loss: 1787.1984\n",
      "Epoch 58/500\n",
      "29/29 [==============================] - 0s 2ms/step - loss: 1810.4717 - val_loss: 1780.0896\n",
      "Epoch 59/500\n",
      "29/29 [==============================] - 0s 2ms/step - loss: 1803.7286 - val_loss: 1773.1818\n",
      "Epoch 60/500\n",
      "29/29 [==============================] - 0s 2ms/step - loss: 1797.4209 - val_loss: 1766.8146\n",
      "Epoch 61/500\n",
      "29/29 [==============================] - 0s 2ms/step - loss: 1791.3805 - val_loss: 1761.0077\n",
      "Epoch 62/500\n",
      "29/29 [==============================] - 0s 2ms/step - loss: 1785.7756 - val_loss: 1754.6740\n",
      "Epoch 63/500\n",
      "29/29 [==============================] - 0s 2ms/step - loss: 1780.4293 - val_loss: 1748.8866\n",
      "Epoch 64/500\n",
      "29/29 [==============================] - 0s 2ms/step - loss: 1775.5107 - val_loss: 1742.9208\n",
      "Epoch 65/500\n",
      "29/29 [==============================] - 0s 2ms/step - loss: 1770.0476 - val_loss: 1738.3306\n",
      "Epoch 66/500\n",
      "29/29 [==============================] - 0s 2ms/step - loss: 1765.6392 - val_loss: 1733.2092\n",
      "Epoch 67/500\n",
      "29/29 [==============================] - 0s 2ms/step - loss: 1761.1294 - val_loss: 1728.6626\n",
      "Epoch 68/500\n",
      "29/29 [==============================] - 0s 2ms/step - loss: 1757.2665 - val_loss: 1724.6685\n",
      "Epoch 69/500\n",
      "29/29 [==============================] - 0s 2ms/step - loss: 1753.9604 - val_loss: 1720.6462\n",
      "Epoch 70/500\n",
      "29/29 [==============================] - 0s 2ms/step - loss: 1750.5139 - val_loss: 1716.7095\n",
      "Epoch 71/500\n",
      "29/29 [==============================] - 0s 3ms/step - loss: 1747.2568 - val_loss: 1712.7372\n",
      "Epoch 72/500\n",
      "29/29 [==============================] - 0s 4ms/step - loss: 1744.1624 - val_loss: 1710.7827\n",
      "Epoch 73/500\n",
      "29/29 [==============================] - 0s 3ms/step - loss: 1741.9213 - val_loss: 1707.2280\n",
      "Epoch 74/500\n",
      "29/29 [==============================] - 0s 2ms/step - loss: 1739.4012 - val_loss: 1704.3278\n",
      "Epoch 75/500\n",
      "29/29 [==============================] - 0s 2ms/step - loss: 1736.9874 - val_loss: 1702.8667\n",
      "Epoch 76/500\n",
      "29/29 [==============================] - 0s 2ms/step - loss: 1734.9818 - val_loss: 1700.4202\n",
      "Epoch 77/500\n",
      "29/29 [==============================] - 0s 2ms/step - loss: 1733.0171 - val_loss: 1697.8423\n",
      "Epoch 78/500\n"
     ]
    },
    {
     "name": "stdout",
     "output_type": "stream",
     "text": [
      "29/29 [==============================] - 0s 2ms/step - loss: 1730.9442 - val_loss: 1695.7628\n",
      "Epoch 79/500\n",
      "29/29 [==============================] - 0s 2ms/step - loss: 1729.4209 - val_loss: 1693.4976\n",
      "Epoch 80/500\n",
      "29/29 [==============================] - 0s 2ms/step - loss: 1727.3217 - val_loss: 1691.7651\n",
      "Epoch 81/500\n",
      "29/29 [==============================] - 0s 4ms/step - loss: 1725.8494 - val_loss: 1689.6621\n",
      "Epoch 82/500\n",
      "29/29 [==============================] - 0s 5ms/step - loss: 1724.3795 - val_loss: 1687.8574\n",
      "Epoch 83/500\n",
      "29/29 [==============================] - 0s 4ms/step - loss: 1722.7178 - val_loss: 1686.4297\n",
      "Epoch 84/500\n",
      "29/29 [==============================] - 0s 4ms/step - loss: 1721.3809 - val_loss: 1684.9791\n",
      "Epoch 85/500\n",
      "29/29 [==============================] - 0s 4ms/step - loss: 1720.3115 - val_loss: 1683.0800\n",
      "Epoch 86/500\n",
      "29/29 [==============================] - 0s 5ms/step - loss: 1718.9995 - val_loss: 1682.1742\n",
      "Epoch 87/500\n",
      "29/29 [==============================] - 0s 3ms/step - loss: 1718.3771 - val_loss: 1681.0944\n",
      "Epoch 88/500\n",
      "29/29 [==============================] - 0s 3ms/step - loss: 1717.6051 - val_loss: 1680.5641\n",
      "Epoch 89/500\n",
      "29/29 [==============================] - 0s 4ms/step - loss: 1716.8711 - val_loss: 1679.6880\n",
      "Epoch 90/500\n",
      "29/29 [==============================] - 0s 5ms/step - loss: 1716.1439 - val_loss: 1678.7061\n",
      "Epoch 91/500\n",
      "29/29 [==============================] - 0s 5ms/step - loss: 1715.5850 - val_loss: 1678.1963\n",
      "Epoch 92/500\n",
      "29/29 [==============================] - 0s 4ms/step - loss: 1714.9486 - val_loss: 1677.2050\n",
      "Epoch 93/500\n",
      "29/29 [==============================] - 0s 4ms/step - loss: 1714.3750 - val_loss: 1676.2943\n",
      "Epoch 94/500\n",
      "29/29 [==============================] - 0s 2ms/step - loss: 1713.7253 - val_loss: 1675.7349\n",
      "Epoch 95/500\n",
      "29/29 [==============================] - 0s 2ms/step - loss: 1713.2136 - val_loss: 1674.9003\n",
      "Epoch 96/500\n",
      "29/29 [==============================] - 0s 2ms/step - loss: 1712.9205 - val_loss: 1674.7661\n",
      "Epoch 97/500\n",
      "29/29 [==============================] - 0s 2ms/step - loss: 1712.8466 - val_loss: 1673.8501\n",
      "Epoch 98/500\n",
      "29/29 [==============================] - 0s 2ms/step - loss: 1712.0524 - val_loss: 1673.5317\n",
      "Epoch 99/500\n",
      "29/29 [==============================] - 0s 2ms/step - loss: 1711.8047 - val_loss: 1673.1304\n",
      "Epoch 100/500\n",
      "29/29 [==============================] - 0s 2ms/step - loss: 1711.4484 - val_loss: 1672.6340\n",
      "Epoch 101/500\n",
      "29/29 [==============================] - 0s 2ms/step - loss: 1711.1378 - val_loss: 1672.3928\n",
      "Epoch 102/500\n",
      "29/29 [==============================] - 0s 2ms/step - loss: 1710.8153 - val_loss: 1671.7368\n",
      "Epoch 103/500\n",
      "29/29 [==============================] - 0s 2ms/step - loss: 1710.5979 - val_loss: 1671.4791\n",
      "Epoch 104/500\n",
      "29/29 [==============================] - 0s 2ms/step - loss: 1710.4041 - val_loss: 1671.3198\n",
      "Epoch 105/500\n",
      "29/29 [==============================] - 0s 2ms/step - loss: 1710.2494 - val_loss: 1671.1254\n",
      "Epoch 106/500\n",
      "29/29 [==============================] - 0s 2ms/step - loss: 1710.0884 - val_loss: 1670.6266\n",
      "Epoch 107/500\n",
      "29/29 [==============================] - 0s 2ms/step - loss: 1709.9073 - val_loss: 1670.6017\n",
      "Epoch 108/500\n",
      "29/29 [==============================] - 0s 2ms/step - loss: 1709.7350 - val_loss: 1670.2555\n",
      "Epoch 109/500\n",
      "29/29 [==============================] - 0s 2ms/step - loss: 1709.6028 - val_loss: 1670.0272\n",
      "Epoch 110/500\n",
      "29/29 [==============================] - 0s 2ms/step - loss: 1709.5073 - val_loss: 1669.8551\n",
      "Epoch 111/500\n",
      "29/29 [==============================] - 0s 2ms/step - loss: 1709.4358 - val_loss: 1669.8359\n",
      "Epoch 112/500\n",
      "29/29 [==============================] - 0s 2ms/step - loss: 1709.5073 - val_loss: 1669.6704\n",
      "Epoch 113/500\n",
      "29/29 [==============================] - 0s 2ms/step - loss: 1709.5625 - val_loss: 1669.3463\n",
      "Epoch 114/500\n",
      "29/29 [==============================] - 0s 2ms/step - loss: 1709.3909 - val_loss: 1669.3989\n",
      "Epoch 115/500\n",
      "29/29 [==============================] - 0s 2ms/step - loss: 1709.2399 - val_loss: 1669.2753\n",
      "Epoch 116/500\n",
      "29/29 [==============================] - 0s 2ms/step - loss: 1709.2662 - val_loss: 1669.2524\n",
      "Epoch 117/500\n",
      "29/29 [==============================] - 0s 2ms/step - loss: 1709.2670 - val_loss: 1669.2415\n",
      "Epoch 118/500\n",
      "29/29 [==============================] - 0s 2ms/step - loss: 1709.1348 - val_loss: 1669.1353\n",
      "Epoch 119/500\n",
      "29/29 [==============================] - 0s 2ms/step - loss: 1708.9951 - val_loss: 1668.9331\n",
      "Epoch 120/500\n",
      "29/29 [==============================] - 0s 2ms/step - loss: 1708.9818 - val_loss: 1668.9188\n",
      "Epoch 121/500\n",
      "29/29 [==============================] - 0s 2ms/step - loss: 1708.9297 - val_loss: 1668.7006\n",
      "Epoch 122/500\n",
      "29/29 [==============================] - 0s 2ms/step - loss: 1708.8877 - val_loss: 1668.7092\n",
      "Epoch 123/500\n",
      "29/29 [==============================] - 0s 2ms/step - loss: 1709.1575 - val_loss: 1668.4294\n",
      "Epoch 124/500\n",
      "29/29 [==============================] - 0s 2ms/step - loss: 1708.7563 - val_loss: 1668.4453\n",
      "Epoch 125/500\n",
      "29/29 [==============================] - 0s 2ms/step - loss: 1708.7075 - val_loss: 1668.4346\n",
      "Epoch 126/500\n",
      "29/29 [==============================] - 0s 2ms/step - loss: 1708.6901 - val_loss: 1668.4082\n",
      "Epoch 127/500\n",
      "29/29 [==============================] - 0s 2ms/step - loss: 1708.7687 - val_loss: 1668.4531\n",
      "Epoch 128/500\n",
      "29/29 [==============================] - 0s 2ms/step - loss: 1708.7880 - val_loss: 1668.2051\n",
      "Epoch 129/500\n",
      "29/29 [==============================] - 0s 2ms/step - loss: 1708.9109 - val_loss: 1668.0707\n",
      "Epoch 130/500\n",
      "29/29 [==============================] - 0s 3ms/step - loss: 1708.7421 - val_loss: 1668.3149\n",
      "Epoch 131/500\n",
      "29/29 [==============================] - 0s 2ms/step - loss: 1708.7275 - val_loss: 1668.2196\n",
      "Epoch 132/500\n",
      "29/29 [==============================] - 0s 2ms/step - loss: 1708.4927 - val_loss: 1668.0038\n",
      "Epoch 133/500\n",
      "29/29 [==============================] - 0s 2ms/step - loss: 1708.4492 - val_loss: 1667.8750\n",
      "Epoch 134/500\n",
      "29/29 [==============================] - 0s 2ms/step - loss: 1708.4808 - val_loss: 1667.5552\n",
      "Epoch 135/500\n",
      "29/29 [==============================] - 0s 2ms/step - loss: 1707.4188 - val_loss: 1664.4707\n",
      "Epoch 136/500\n",
      "29/29 [==============================] - 0s 2ms/step - loss: 1701.5902 - val_loss: 1659.7994\n",
      "Epoch 137/500\n",
      "29/29 [==============================] - 0s 2ms/step - loss: 1697.8090 - val_loss: 1656.6860\n",
      "Epoch 138/500\n",
      "29/29 [==============================] - 0s 2ms/step - loss: 1693.1868 - val_loss: 1649.5577\n",
      "Epoch 139/500\n",
      "29/29 [==============================] - 0s 2ms/step - loss: 1685.1842 - val_loss: 1643.9048\n",
      "Epoch 140/500\n",
      "29/29 [==============================] - 0s 2ms/step - loss: 1676.9855 - val_loss: 1633.7694\n",
      "Epoch 141/500\n",
      "29/29 [==============================] - 0s 3ms/step - loss: 1667.1829 - val_loss: 1622.4047\n",
      "Epoch 142/500\n",
      "29/29 [==============================] - 0s 2ms/step - loss: 1656.0951 - val_loss: 1611.9418\n",
      "Epoch 143/500\n",
      "29/29 [==============================] - 0s 2ms/step - loss: 1641.8171 - val_loss: 1599.1586\n",
      "Epoch 144/500\n",
      "29/29 [==============================] - 0s 2ms/step - loss: 1627.5820 - val_loss: 1585.0386\n",
      "Epoch 145/500\n",
      "29/29 [==============================] - 0s 2ms/step - loss: 1612.1116 - val_loss: 1569.7247\n",
      "Epoch 146/500\n",
      "29/29 [==============================] - 0s 2ms/step - loss: 1598.5697 - val_loss: 1553.3706\n",
      "Epoch 147/500\n",
      "29/29 [==============================] - 0s 2ms/step - loss: 1576.8889 - val_loss: 1533.9974\n",
      "Epoch 148/500\n",
      "29/29 [==============================] - 0s 2ms/step - loss: 1555.8306 - val_loss: 1510.2460\n",
      "Epoch 149/500\n",
      "29/29 [==============================] - 0s 2ms/step - loss: 1530.1641 - val_loss: 1488.5123\n",
      "Epoch 150/500\n",
      "29/29 [==============================] - 0s 2ms/step - loss: 1498.9612 - val_loss: 1447.9115\n",
      "Epoch 151/500\n",
      "29/29 [==============================] - 0s 2ms/step - loss: 1454.7544 - val_loss: 1407.6307\n",
      "Epoch 152/500\n",
      "29/29 [==============================] - 0s 2ms/step - loss: 1415.2117 - val_loss: 1371.9425\n",
      "Epoch 153/500\n",
      "29/29 [==============================] - 0s 2ms/step - loss: 1382.9546 - val_loss: 1338.0085\n",
      "Epoch 154/500\n",
      "29/29 [==============================] - 0s 2ms/step - loss: 1341.9202 - val_loss: 1300.4852\n"
     ]
    },
    {
     "name": "stdout",
     "output_type": "stream",
     "text": [
      "Epoch 155/500\n",
      "29/29 [==============================] - 0s 2ms/step - loss: 1304.2094 - val_loss: 1262.0896\n",
      "Epoch 156/500\n",
      "29/29 [==============================] - 0s 2ms/step - loss: 1258.3148 - val_loss: 1217.5439\n",
      "Epoch 157/500\n",
      "29/29 [==============================] - 0s 2ms/step - loss: 1215.3668 - val_loss: 1179.1625\n",
      "Epoch 158/500\n",
      "29/29 [==============================] - 0s 2ms/step - loss: 1176.7887 - val_loss: 1143.1772\n",
      "Epoch 159/500\n",
      "29/29 [==============================] - 0s 2ms/step - loss: 1140.9303 - val_loss: 1107.9659\n",
      "Epoch 160/500\n",
      "29/29 [==============================] - 0s 2ms/step - loss: 1103.1134 - val_loss: 1071.1343\n",
      "Epoch 161/500\n",
      "29/29 [==============================] - 0s 2ms/step - loss: 1071.7761 - val_loss: 1039.7378\n",
      "Epoch 162/500\n",
      "29/29 [==============================] - 0s 2ms/step - loss: 1035.6390 - val_loss: 1008.2693\n",
      "Epoch 163/500\n",
      "29/29 [==============================] - 0s 2ms/step - loss: 1004.8912 - val_loss: 977.5657\n",
      "Epoch 164/500\n",
      "29/29 [==============================] - 0s 2ms/step - loss: 973.0100 - val_loss: 948.6179\n",
      "Epoch 165/500\n",
      "29/29 [==============================] - 0s 2ms/step - loss: 944.3307 - val_loss: 916.6759\n",
      "Epoch 166/500\n",
      "29/29 [==============================] - 0s 2ms/step - loss: 914.8129 - val_loss: 887.1476\n",
      "Epoch 167/500\n",
      "29/29 [==============================] - 0s 2ms/step - loss: 883.1387 - val_loss: 855.4417\n",
      "Epoch 168/500\n",
      "29/29 [==============================] - 0s 2ms/step - loss: 852.0949 - val_loss: 829.0218\n",
      "Epoch 169/500\n",
      "29/29 [==============================] - 0s 2ms/step - loss: 826.4144 - val_loss: 797.1354\n",
      "Epoch 170/500\n",
      "29/29 [==============================] - 0s 2ms/step - loss: 789.6600 - val_loss: 767.2976\n",
      "Epoch 171/500\n",
      "29/29 [==============================] - 0s 2ms/step - loss: 762.4119 - val_loss: 738.8168\n",
      "Epoch 172/500\n",
      "29/29 [==============================] - 0s 2ms/step - loss: 735.0519 - val_loss: 713.4791\n",
      "Epoch 173/500\n",
      "29/29 [==============================] - 0s 2ms/step - loss: 710.1733 - val_loss: 690.7469\n",
      "Epoch 174/500\n",
      "29/29 [==============================] - 0s 2ms/step - loss: 686.8683 - val_loss: 667.1441\n",
      "Epoch 175/500\n",
      "29/29 [==============================] - 0s 2ms/step - loss: 665.2280 - val_loss: 647.0695\n",
      "Epoch 176/500\n",
      "29/29 [==============================] - 0s 2ms/step - loss: 640.9791 - val_loss: 616.8108\n",
      "Epoch 177/500\n",
      "29/29 [==============================] - 0s 2ms/step - loss: 611.9915 - val_loss: 591.5651\n",
      "Epoch 178/500\n",
      "29/29 [==============================] - 0s 2ms/step - loss: 587.6280 - val_loss: 569.0142\n",
      "Epoch 179/500\n",
      "29/29 [==============================] - 0s 2ms/step - loss: 563.8903 - val_loss: 541.7629\n",
      "Epoch 180/500\n",
      "29/29 [==============================] - 0s 2ms/step - loss: 536.5720 - val_loss: 517.0164\n",
      "Epoch 181/500\n",
      "29/29 [==============================] - 0s 1ms/step - loss: 514.1498 - val_loss: 495.2908\n",
      "Epoch 182/500\n",
      "29/29 [==============================] - 0s 1ms/step - loss: 494.3534 - val_loss: 477.0518\n",
      "Epoch 183/500\n",
      "29/29 [==============================] - 0s 2ms/step - loss: 472.2549 - val_loss: 453.1617\n",
      "Epoch 184/500\n",
      "29/29 [==============================] - 0s 2ms/step - loss: 448.2317 - val_loss: 431.6999\n",
      "Epoch 185/500\n",
      "29/29 [==============================] - 0s 3ms/step - loss: 428.7281 - val_loss: 412.3778\n",
      "Epoch 186/500\n",
      "29/29 [==============================] - 0s 2ms/step - loss: 410.3195 - val_loss: 396.4068\n",
      "Epoch 187/500\n",
      "29/29 [==============================] - 0s 2ms/step - loss: 392.5752 - val_loss: 377.7533\n",
      "Epoch 188/500\n",
      "29/29 [==============================] - 0s 2ms/step - loss: 377.7504 - val_loss: 362.5800\n",
      "Epoch 189/500\n",
      "29/29 [==============================] - 0s 2ms/step - loss: 362.6378 - val_loss: 347.8444\n",
      "Epoch 190/500\n",
      "29/29 [==============================] - 0s 2ms/step - loss: 348.3376 - val_loss: 333.6722\n",
      "Epoch 191/500\n",
      "29/29 [==============================] - 0s 2ms/step - loss: 334.9153 - val_loss: 322.4406\n",
      "Epoch 192/500\n",
      "29/29 [==============================] - 0s 2ms/step - loss: 321.4583 - val_loss: 306.9691\n",
      "Epoch 193/500\n",
      "29/29 [==============================] - 0s 2ms/step - loss: 304.9138 - val_loss: 288.7289\n",
      "Epoch 194/500\n",
      "29/29 [==============================] - 0s 2ms/step - loss: 286.1812 - val_loss: 271.4374\n",
      "Epoch 195/500\n",
      "29/29 [==============================] - 0s 2ms/step - loss: 268.6642 - val_loss: 253.7542\n",
      "Epoch 196/500\n",
      "29/29 [==============================] - 0s 2ms/step - loss: 250.7689 - val_loss: 238.0657\n",
      "Epoch 197/500\n",
      "29/29 [==============================] - 0s 2ms/step - loss: 232.7287 - val_loss: 219.6077\n",
      "Epoch 198/500\n",
      "29/29 [==============================] - 0s 2ms/step - loss: 214.8700 - val_loss: 205.3472\n",
      "Epoch 199/500\n",
      "29/29 [==============================] - 0s 2ms/step - loss: 199.9116 - val_loss: 190.7812\n",
      "Epoch 200/500\n",
      "29/29 [==============================] - 0s 2ms/step - loss: 186.9309 - val_loss: 178.6713\n",
      "Epoch 201/500\n",
      "29/29 [==============================] - 0s 2ms/step - loss: 175.7030 - val_loss: 169.2635\n",
      "Epoch 202/500\n",
      "29/29 [==============================] - 0s 2ms/step - loss: 164.9515 - val_loss: 157.0205\n",
      "Epoch 203/500\n",
      "29/29 [==============================] - 0s 2ms/step - loss: 154.7380 - val_loss: 150.4361\n",
      "Epoch 204/500\n",
      "29/29 [==============================] - 0s 2ms/step - loss: 146.0807 - val_loss: 139.3928\n",
      "Epoch 205/500\n",
      "29/29 [==============================] - 0s 2ms/step - loss: 136.8124 - val_loss: 131.1407\n",
      "Epoch 206/500\n",
      "29/29 [==============================] - 0s 2ms/step - loss: 129.4719 - val_loss: 123.6651\n",
      "Epoch 207/500\n",
      "29/29 [==============================] - 0s 2ms/step - loss: 121.0390 - val_loss: 115.8833\n",
      "Epoch 208/500\n",
      "29/29 [==============================] - 0s 2ms/step - loss: 114.6843 - val_loss: 109.7263\n",
      "Epoch 209/500\n",
      "29/29 [==============================] - 0s 2ms/step - loss: 107.9432 - val_loss: 103.6195\n",
      "Epoch 210/500\n",
      "29/29 [==============================] - 0s 2ms/step - loss: 101.4473 - val_loss: 96.9954\n",
      "Epoch 211/500\n",
      "29/29 [==============================] - 0s 2ms/step - loss: 95.6461 - val_loss: 91.7549\n",
      "Epoch 212/500\n",
      "29/29 [==============================] - 0s 2ms/step - loss: 90.6172 - val_loss: 86.1218\n",
      "Epoch 213/500\n",
      "29/29 [==============================] - 0s 2ms/step - loss: 85.3185 - val_loss: 81.3394\n",
      "Epoch 214/500\n",
      "29/29 [==============================] - 0s 2ms/step - loss: 80.5703 - val_loss: 77.0988\n",
      "Epoch 215/500\n",
      "29/29 [==============================] - 0s 2ms/step - loss: 76.5002 - val_loss: 73.2403\n",
      "Epoch 216/500\n",
      "29/29 [==============================] - 0s 2ms/step - loss: 71.8159 - val_loss: 68.9042\n",
      "Epoch 217/500\n",
      "29/29 [==============================] - 0s 2ms/step - loss: 68.2232 - val_loss: 66.4504\n",
      "Epoch 218/500\n",
      "29/29 [==============================] - 0s 2ms/step - loss: 64.5733 - val_loss: 61.8530\n",
      "Epoch 219/500\n",
      "29/29 [==============================] - 0s 2ms/step - loss: 60.9427 - val_loss: 59.3484\n",
      "Epoch 220/500\n",
      "29/29 [==============================] - 0s 2ms/step - loss: 57.9798 - val_loss: 55.3621\n",
      "Epoch 221/500\n",
      "29/29 [==============================] - 0s 2ms/step - loss: 54.4648 - val_loss: 52.4366\n",
      "Epoch 222/500\n",
      "29/29 [==============================] - 0s 2ms/step - loss: 50.6851 - val_loss: 49.3191\n",
      "Epoch 223/500\n",
      "29/29 [==============================] - 0s 2ms/step - loss: 47.7691 - val_loss: 46.5180\n",
      "Epoch 224/500\n",
      "29/29 [==============================] - 0s 2ms/step - loss: 45.7760 - val_loss: 43.9712\n",
      "Epoch 225/500\n",
      "29/29 [==============================] - 0s 2ms/step - loss: 42.9272 - val_loss: 41.7946\n",
      "Epoch 226/500\n",
      "29/29 [==============================] - 0s 2ms/step - loss: 40.9922 - val_loss: 39.8850\n",
      "Epoch 227/500\n",
      "29/29 [==============================] - 0s 2ms/step - loss: 38.9901 - val_loss: 40.1072\n",
      "Epoch 228/500\n",
      "29/29 [==============================] - 0s 2ms/step - loss: 37.2333 - val_loss: 36.2186\n",
      "Epoch 229/500\n",
      "29/29 [==============================] - 0s 2ms/step - loss: 35.6794 - val_loss: 34.6137\n",
      "Epoch 230/500\n",
      "29/29 [==============================] - 0s 2ms/step - loss: 34.7993 - val_loss: 33.9851\n",
      "Epoch 231/500\n",
      "29/29 [==============================] - 0s 2ms/step - loss: 32.7777 - val_loss: 32.8505\n",
      "Epoch 232/500\n",
      "29/29 [==============================] - 0s 2ms/step - loss: 31.3514 - val_loss: 31.1872\n",
      "Epoch 233/500\n"
     ]
    },
    {
     "name": "stdout",
     "output_type": "stream",
     "text": [
      "29/29 [==============================] - 0s 2ms/step - loss: 30.0740 - val_loss: 29.9712\n",
      "Epoch 234/500\n",
      "29/29 [==============================] - 0s 2ms/step - loss: 29.1224 - val_loss: 28.8624\n",
      "Epoch 235/500\n",
      "29/29 [==============================] - 0s 2ms/step - loss: 27.9991 - val_loss: 28.1039\n",
      "Epoch 236/500\n",
      "29/29 [==============================] - 0s 2ms/step - loss: 27.0939 - val_loss: 26.6424\n",
      "Epoch 237/500\n",
      "29/29 [==============================] - 0s 2ms/step - loss: 26.5790 - val_loss: 26.1190\n",
      "Epoch 238/500\n",
      "29/29 [==============================] - 0s 2ms/step - loss: 25.5165 - val_loss: 25.5207\n",
      "Epoch 239/500\n",
      "29/29 [==============================] - 0s 2ms/step - loss: 25.1451 - val_loss: 26.2260\n",
      "Epoch 240/500\n",
      "29/29 [==============================] - 0s 2ms/step - loss: 24.0847 - val_loss: 23.9146\n",
      "Epoch 241/500\n",
      "29/29 [==============================] - 0s 2ms/step - loss: 23.6301 - val_loss: 24.5480\n",
      "Epoch 242/500\n",
      "29/29 [==============================] - 0s 2ms/step - loss: 23.5819 - val_loss: 23.2519\n",
      "Epoch 243/500\n",
      "29/29 [==============================] - 0s 2ms/step - loss: 22.4714 - val_loss: 22.4897\n",
      "Epoch 244/500\n",
      "29/29 [==============================] - 0s 2ms/step - loss: 22.0415 - val_loss: 23.3943\n",
      "Epoch 245/500\n",
      "29/29 [==============================] - 0s 2ms/step - loss: 21.3898 - val_loss: 21.1907\n",
      "Epoch 246/500\n",
      "29/29 [==============================] - 0s 2ms/step - loss: 21.2046 - val_loss: 20.9893\n",
      "Epoch 247/500\n",
      "29/29 [==============================] - 0s 2ms/step - loss: 21.2392 - val_loss: 23.7742\n",
      "Epoch 248/500\n",
      "29/29 [==============================] - 0s 2ms/step - loss: 20.7224 - val_loss: 20.8863\n",
      "Epoch 249/500\n",
      "29/29 [==============================] - 0s 2ms/step - loss: 20.4229 - val_loss: 20.5185\n",
      "Epoch 250/500\n",
      "29/29 [==============================] - 0s 2ms/step - loss: 19.8926 - val_loss: 21.3360\n",
      "Epoch 251/500\n",
      "29/29 [==============================] - 0s 2ms/step - loss: 19.6236 - val_loss: 19.3397\n",
      "Epoch 252/500\n",
      "29/29 [==============================] - 0s 2ms/step - loss: 19.7474 - val_loss: 19.5371\n",
      "Epoch 253/500\n",
      "29/29 [==============================] - 0s 2ms/step - loss: 19.5408 - val_loss: 19.3580\n",
      "Epoch 254/500\n",
      "29/29 [==============================] - 0s 2ms/step - loss: 19.1359 - val_loss: 19.0567\n",
      "Epoch 255/500\n",
      "29/29 [==============================] - 0s 2ms/step - loss: 19.2585 - val_loss: 18.9072\n",
      "Epoch 256/500\n",
      "29/29 [==============================] - 0s 2ms/step - loss: 19.1525 - val_loss: 18.5165\n",
      "Epoch 257/500\n",
      "29/29 [==============================] - 0s 2ms/step - loss: 18.9818 - val_loss: 18.8212\n",
      "Epoch 258/500\n",
      "29/29 [==============================] - 0s 2ms/step - loss: 18.4998 - val_loss: 19.6249\n",
      "Epoch 259/500\n",
      "29/29 [==============================] - 0s 2ms/step - loss: 18.7783 - val_loss: 18.1019\n",
      "Epoch 260/500\n",
      "29/29 [==============================] - 0s 2ms/step - loss: 18.5651 - val_loss: 18.0169\n",
      "Epoch 261/500\n",
      "29/29 [==============================] - 0s 2ms/step - loss: 18.4708 - val_loss: 18.4808\n",
      "Epoch 262/500\n",
      "29/29 [==============================] - 0s 2ms/step - loss: 18.2587 - val_loss: 18.2579\n",
      "Epoch 263/500\n",
      "29/29 [==============================] - 0s 2ms/step - loss: 18.1874 - val_loss: 18.5568\n",
      "Epoch 264/500\n",
      "29/29 [==============================] - 0s 2ms/step - loss: 18.4171 - val_loss: 17.8133\n",
      "Epoch 265/500\n",
      "29/29 [==============================] - 0s 2ms/step - loss: 18.2279 - val_loss: 17.8023\n",
      "Epoch 266/500\n",
      "29/29 [==============================] - 0s 2ms/step - loss: 18.2785 - val_loss: 18.7768\n",
      "Epoch 267/500\n",
      "29/29 [==============================] - 0s 2ms/step - loss: 18.2390 - val_loss: 17.6582\n",
      "Epoch 268/500\n",
      "29/29 [==============================] - 0s 2ms/step - loss: 17.9776 - val_loss: 17.4554\n",
      "Epoch 269/500\n",
      "29/29 [==============================] - 0s 2ms/step - loss: 18.0780 - val_loss: 17.5290\n",
      "Epoch 270/500\n",
      "29/29 [==============================] - 0s 2ms/step - loss: 18.0783 - val_loss: 17.3506\n",
      "Epoch 271/500\n",
      "29/29 [==============================] - 0s 2ms/step - loss: 18.1912 - val_loss: 20.0405\n",
      "Epoch 272/500\n",
      "29/29 [==============================] - 0s 2ms/step - loss: 18.0759 - val_loss: 18.4707\n",
      "Epoch 273/500\n",
      "29/29 [==============================] - 0s 2ms/step - loss: 18.1444 - val_loss: 17.3532\n",
      "Epoch 274/500\n",
      "29/29 [==============================] - 0s 2ms/step - loss: 17.9658 - val_loss: 17.2907\n",
      "Epoch 275/500\n",
      "29/29 [==============================] - 0s 2ms/step - loss: 17.9481 - val_loss: 17.3624\n",
      "Epoch 276/500\n",
      "29/29 [==============================] - 0s 2ms/step - loss: 17.7760 - val_loss: 18.2578\n",
      "Epoch 277/500\n",
      "29/29 [==============================] - 0s 2ms/step - loss: 17.6762 - val_loss: 16.9342\n",
      "Epoch 278/500\n",
      "29/29 [==============================] - 0s 2ms/step - loss: 18.2489 - val_loss: 16.9172\n",
      "Epoch 279/500\n",
      "29/29 [==============================] - 0s 2ms/step - loss: 17.8646 - val_loss: 17.7519\n",
      "Epoch 280/500\n",
      "29/29 [==============================] - 0s 2ms/step - loss: 17.5205 - val_loss: 16.8178\n",
      "Epoch 281/500\n",
      "29/29 [==============================] - 0s 2ms/step - loss: 17.7223 - val_loss: 18.3827\n",
      "Epoch 282/500\n",
      "29/29 [==============================] - 0s 2ms/step - loss: 17.6938 - val_loss: 17.5309\n",
      "Epoch 283/500\n",
      "29/29 [==============================] - 0s 2ms/step - loss: 17.5904 - val_loss: 17.4296\n",
      "Epoch 284/500\n",
      "29/29 [==============================] - 0s 2ms/step - loss: 17.9827 - val_loss: 16.9826\n",
      "Epoch 285/500\n",
      "29/29 [==============================] - 0s 2ms/step - loss: 18.2108 - val_loss: 17.4287\n",
      "Epoch 286/500\n",
      "29/29 [==============================] - 0s 2ms/step - loss: 18.3215 - val_loss: 17.2105\n",
      "Epoch 287/500\n",
      "29/29 [==============================] - 0s 2ms/step - loss: 17.6054 - val_loss: 17.3187\n",
      "Epoch 288/500\n",
      "29/29 [==============================] - 0s 2ms/step - loss: 17.5827 - val_loss: 16.9486\n",
      "Epoch 289/500\n",
      "29/29 [==============================] - 0s 2ms/step - loss: 17.9915 - val_loss: 16.7576\n",
      "Epoch 290/500\n",
      "29/29 [==============================] - 0s 2ms/step - loss: 17.9340 - val_loss: 19.1632\n",
      "Epoch 291/500\n",
      "29/29 [==============================] - 0s 2ms/step - loss: 18.0497 - val_loss: 16.6742\n",
      "Epoch 292/500\n",
      "29/29 [==============================] - 0s 2ms/step - loss: 18.0704 - val_loss: 16.7514\n",
      "Epoch 293/500\n",
      "29/29 [==============================] - 0s 2ms/step - loss: 17.7301 - val_loss: 16.8284\n",
      "Epoch 294/500\n",
      "29/29 [==============================] - 0s 2ms/step - loss: 17.6373 - val_loss: 16.6777\n",
      "Epoch 295/500\n",
      "29/29 [==============================] - 0s 2ms/step - loss: 17.9868 - val_loss: 16.7875\n",
      "Epoch 296/500\n",
      "29/29 [==============================] - 0s 2ms/step - loss: 17.6025 - val_loss: 17.2488\n",
      "Epoch 297/500\n",
      "29/29 [==============================] - 0s 2ms/step - loss: 17.5757 - val_loss: 16.6097\n",
      "Epoch 298/500\n",
      "29/29 [==============================] - 0s 2ms/step - loss: 17.5968 - val_loss: 16.5280\n",
      "Epoch 299/500\n",
      "29/29 [==============================] - 0s 2ms/step - loss: 17.6426 - val_loss: 18.0445\n",
      "Epoch 300/500\n",
      "29/29 [==============================] - 0s 2ms/step - loss: 17.9591 - val_loss: 18.4238\n",
      "Epoch 301/500\n",
      "29/29 [==============================] - 0s 2ms/step - loss: 18.0313 - val_loss: 16.6086\n",
      "Epoch 302/500\n",
      "29/29 [==============================] - 0s 2ms/step - loss: 17.6065 - val_loss: 17.4760\n",
      "Epoch 303/500\n",
      "29/29 [==============================] - 0s 2ms/step - loss: 17.5041 - val_loss: 16.5907\n",
      "Epoch 304/500\n",
      "29/29 [==============================] - 0s 2ms/step - loss: 17.4608 - val_loss: 16.5073\n",
      "Epoch 305/500\n",
      "29/29 [==============================] - 0s 2ms/step - loss: 17.8291 - val_loss: 16.6852\n",
      "Epoch 306/500\n",
      "29/29 [==============================] - 0s 2ms/step - loss: 17.4971 - val_loss: 16.8715\n",
      "Epoch 307/500\n",
      "29/29 [==============================] - 0s 2ms/step - loss: 17.5465 - val_loss: 16.4986\n",
      "Epoch 308/500\n",
      "29/29 [==============================] - 0s 2ms/step - loss: 17.9726 - val_loss: 16.4355\n",
      "Epoch 309/500\n",
      "29/29 [==============================] - 0s 2ms/step - loss: 17.2430 - val_loss: 18.8710\n",
      "Epoch 310/500\n",
      "29/29 [==============================] - 0s 2ms/step - loss: 17.6215 - val_loss: 16.4288\n",
      "Epoch 311/500\n",
      "29/29 [==============================] - 0s 2ms/step - loss: 17.6887 - val_loss: 16.5068\n",
      "Epoch 312/500\n"
     ]
    },
    {
     "name": "stdout",
     "output_type": "stream",
     "text": [
      "29/29 [==============================] - 0s 2ms/step - loss: 17.5318 - val_loss: 16.9511\n",
      "Epoch 313/500\n",
      "29/29 [==============================] - 0s 2ms/step - loss: 17.5826 - val_loss: 18.6039\n",
      "Epoch 314/500\n",
      "29/29 [==============================] - 0s 2ms/step - loss: 17.7188 - val_loss: 16.8466\n",
      "Epoch 315/500\n",
      "29/29 [==============================] - 0s 2ms/step - loss: 18.5799 - val_loss: 17.3379\n",
      "Epoch 316/500\n",
      "29/29 [==============================] - 0s 2ms/step - loss: 17.5536 - val_loss: 17.6339\n",
      "Epoch 317/500\n",
      "29/29 [==============================] - 0s 2ms/step - loss: 17.4736 - val_loss: 16.5007\n",
      "Epoch 318/500\n",
      "29/29 [==============================] - 0s 2ms/step - loss: 17.4164 - val_loss: 16.2827\n",
      "Epoch 319/500\n",
      "29/29 [==============================] - 0s 2ms/step - loss: 17.5581 - val_loss: 17.8799\n",
      "Epoch 320/500\n",
      "29/29 [==============================] - 0s 2ms/step - loss: 17.6906 - val_loss: 16.1210\n",
      "Epoch 321/500\n",
      "29/29 [==============================] - 0s 2ms/step - loss: 17.3996 - val_loss: 16.2000\n",
      "Epoch 322/500\n",
      "29/29 [==============================] - 0s 2ms/step - loss: 17.5938 - val_loss: 16.4901\n",
      "Epoch 323/500\n",
      "29/29 [==============================] - 0s 2ms/step - loss: 17.4410 - val_loss: 16.2323\n",
      "Epoch 324/500\n",
      "29/29 [==============================] - 0s 2ms/step - loss: 17.5602 - val_loss: 16.3321\n",
      "Epoch 325/500\n",
      "29/29 [==============================] - 0s 2ms/step - loss: 17.3415 - val_loss: 16.2959\n",
      "Epoch 326/500\n",
      "29/29 [==============================] - 0s 2ms/step - loss: 17.4792 - val_loss: 16.2169\n",
      "Epoch 327/500\n",
      "29/29 [==============================] - 0s 2ms/step - loss: 17.7195 - val_loss: 17.6949\n",
      "Epoch 328/500\n",
      "29/29 [==============================] - 0s 2ms/step - loss: 17.4321 - val_loss: 16.1495\n",
      "Epoch 329/500\n",
      "29/29 [==============================] - 0s 2ms/step - loss: 17.4427 - val_loss: 17.6854\n",
      "Epoch 330/500\n",
      "29/29 [==============================] - 0s 2ms/step - loss: 17.4953 - val_loss: 16.2544\n",
      "Epoch 331/500\n",
      "29/29 [==============================] - 0s 2ms/step - loss: 17.3806 - val_loss: 16.0715\n",
      "Epoch 332/500\n",
      "29/29 [==============================] - 0s 2ms/step - loss: 17.5900 - val_loss: 16.8608\n",
      "Epoch 333/500\n",
      "29/29 [==============================] - 0s 2ms/step - loss: 17.2499 - val_loss: 15.9757\n",
      "Epoch 334/500\n",
      "29/29 [==============================] - 0s 2ms/step - loss: 17.7503 - val_loss: 16.5834\n",
      "Epoch 335/500\n",
      "29/29 [==============================] - 0s 2ms/step - loss: 17.7269 - val_loss: 16.1484\n",
      "Epoch 336/500\n",
      "29/29 [==============================] - 0s 2ms/step - loss: 17.3274 - val_loss: 17.2848\n",
      "Epoch 337/500\n",
      "29/29 [==============================] - 0s 2ms/step - loss: 17.4918 - val_loss: 18.4588\n",
      "Epoch 338/500\n",
      "29/29 [==============================] - 0s 2ms/step - loss: 17.6159 - val_loss: 16.4998\n",
      "Epoch 339/500\n",
      "29/29 [==============================] - 0s 2ms/step - loss: 17.7218 - val_loss: 16.7674\n",
      "Epoch 340/500\n",
      "29/29 [==============================] - 0s 2ms/step - loss: 17.4645 - val_loss: 18.3707\n",
      "Epoch 341/500\n",
      "29/29 [==============================] - 0s 2ms/step - loss: 17.8185 - val_loss: 17.7801\n",
      "Epoch 342/500\n",
      "29/29 [==============================] - 0s 2ms/step - loss: 17.7185 - val_loss: 16.4650\n",
      "Epoch 343/500\n",
      "29/29 [==============================] - 0s 2ms/step - loss: 17.3841 - val_loss: 18.6786\n",
      "Epoch 344/500\n",
      "29/29 [==============================] - 0s 2ms/step - loss: 17.5372 - val_loss: 16.3059\n",
      "Epoch 345/500\n",
      "29/29 [==============================] - 0s 2ms/step - loss: 17.4311 - val_loss: 16.1418\n",
      "Epoch 346/500\n",
      "29/29 [==============================] - 0s 2ms/step - loss: 17.4610 - val_loss: 16.0821\n",
      "Epoch 347/500\n",
      "29/29 [==============================] - 0s 2ms/step - loss: 17.5793 - val_loss: 16.0746\n",
      "Epoch 348/500\n",
      "29/29 [==============================] - 0s 2ms/step - loss: 17.5997 - val_loss: 15.9977\n",
      "Epoch 349/500\n",
      "29/29 [==============================] - 0s 2ms/step - loss: 17.3332 - val_loss: 16.9932\n",
      "Epoch 350/500\n",
      "29/29 [==============================] - 0s 2ms/step - loss: 17.6940 - val_loss: 17.0280\n",
      "Epoch 351/500\n",
      "29/29 [==============================] - 0s 2ms/step - loss: 17.5596 - val_loss: 16.1709\n",
      "Epoch 352/500\n",
      "29/29 [==============================] - 0s 2ms/step - loss: 17.6972 - val_loss: 16.1047\n",
      "Epoch 353/500\n",
      "29/29 [==============================] - 0s 2ms/step - loss: 17.3450 - val_loss: 16.0730\n",
      "Epoch 354/500\n",
      "29/29 [==============================] - 0s 2ms/step - loss: 17.5134 - val_loss: 16.9947\n",
      "Epoch 355/500\n",
      "29/29 [==============================] - 0s 2ms/step - loss: 17.4735 - val_loss: 16.9005\n",
      "Epoch 356/500\n",
      "29/29 [==============================] - 0s 2ms/step - loss: 18.2490 - val_loss: 19.8621\n",
      "Epoch 357/500\n",
      "29/29 [==============================] - 0s 2ms/step - loss: 17.9336 - val_loss: 16.0248\n",
      "Epoch 358/500\n",
      "29/29 [==============================] - 0s 2ms/step - loss: 17.7783 - val_loss: 15.9754\n",
      "Epoch 359/500\n",
      "29/29 [==============================] - 0s 2ms/step - loss: 17.6074 - val_loss: 15.9408\n",
      "Epoch 360/500\n",
      "29/29 [==============================] - 0s 2ms/step - loss: 17.8944 - val_loss: 15.7554\n",
      "Epoch 361/500\n",
      "29/29 [==============================] - 0s 2ms/step - loss: 17.5013 - val_loss: 15.9895\n",
      "Epoch 362/500\n",
      "29/29 [==============================] - 0s 2ms/step - loss: 17.5816 - val_loss: 15.9667\n",
      "Epoch 363/500\n",
      "29/29 [==============================] - 0s 2ms/step - loss: 17.4306 - val_loss: 16.8758\n",
      "Epoch 364/500\n",
      "29/29 [==============================] - 0s 2ms/step - loss: 17.3806 - val_loss: 16.0255\n",
      "Epoch 365/500\n",
      "29/29 [==============================] - 0s 2ms/step - loss: 17.5930 - val_loss: 16.1283\n",
      "Epoch 366/500\n",
      "29/29 [==============================] - 0s 2ms/step - loss: 17.7253 - val_loss: 17.2909\n",
      "Epoch 367/500\n",
      "29/29 [==============================] - 0s 2ms/step - loss: 17.4986 - val_loss: 16.8707\n",
      "Epoch 368/500\n",
      "29/29 [==============================] - 0s 2ms/step - loss: 17.5940 - val_loss: 16.3262\n",
      "Epoch 369/500\n",
      "29/29 [==============================] - 0s 2ms/step - loss: 17.8675 - val_loss: 15.9941\n",
      "Epoch 370/500\n",
      "29/29 [==============================] - 0s 2ms/step - loss: 17.9153 - val_loss: 15.8685\n",
      "Epoch 371/500\n",
      "29/29 [==============================] - 0s 2ms/step - loss: 17.3535 - val_loss: 16.9881\n",
      "Epoch 372/500\n",
      "29/29 [==============================] - 0s 2ms/step - loss: 17.8455 - val_loss: 15.8341\n",
      "Epoch 373/500\n",
      "29/29 [==============================] - 0s 2ms/step - loss: 17.4768 - val_loss: 17.0565\n",
      "Epoch 374/500\n",
      "29/29 [==============================] - 0s 2ms/step - loss: 17.5530 - val_loss: 17.5522\n",
      "Epoch 375/500\n",
      "29/29 [==============================] - 0s 2ms/step - loss: 17.5993 - val_loss: 16.3206\n",
      "Epoch 376/500\n",
      "29/29 [==============================] - 0s 2ms/step - loss: 17.4480 - val_loss: 15.9648\n",
      "Epoch 377/500\n",
      "29/29 [==============================] - 0s 2ms/step - loss: 17.2537 - val_loss: 17.2392\n",
      "Epoch 378/500\n",
      "29/29 [==============================] - 0s 2ms/step - loss: 17.2906 - val_loss: 15.9190\n",
      "Epoch 379/500\n",
      "29/29 [==============================] - 0s 2ms/step - loss: 17.8542 - val_loss: 15.8524\n",
      "Epoch 380/500\n",
      "29/29 [==============================] - 0s 2ms/step - loss: 17.6535 - val_loss: 15.7307\n",
      "Epoch 381/500\n",
      "29/29 [==============================] - 0s 2ms/step - loss: 18.0876 - val_loss: 15.7383\n",
      "Epoch 382/500\n",
      "29/29 [==============================] - 0s 2ms/step - loss: 17.4725 - val_loss: 17.5569\n",
      "Epoch 383/500\n",
      "29/29 [==============================] - 0s 2ms/step - loss: 17.5710 - val_loss: 17.6124\n",
      "Epoch 384/500\n",
      "29/29 [==============================] - 0s 2ms/step - loss: 17.2788 - val_loss: 15.8018\n",
      "Epoch 385/500\n",
      "29/29 [==============================] - 0s 2ms/step - loss: 17.4654 - val_loss: 15.6553\n",
      "Epoch 386/500\n",
      "29/29 [==============================] - 0s 2ms/step - loss: 17.8734 - val_loss: 16.1340\n",
      "Epoch 387/500\n",
      "29/29 [==============================] - 0s 2ms/step - loss: 18.3168 - val_loss: 15.8585\n",
      "Epoch 388/500\n",
      "29/29 [==============================] - 0s 2ms/step - loss: 17.4946 - val_loss: 15.8014\n",
      "Epoch 389/500\n",
      "29/29 [==============================] - 0s 2ms/step - loss: 17.6948 - val_loss: 18.3005\n",
      "Epoch 390/500\n",
      "29/29 [==============================] - 0s 2ms/step - loss: 17.4502 - val_loss: 16.6247\n",
      "Epoch 391/500\n"
     ]
    },
    {
     "name": "stdout",
     "output_type": "stream",
     "text": [
      "29/29 [==============================] - 0s 2ms/step - loss: 17.3691 - val_loss: 15.7575\n",
      "Epoch 392/500\n",
      "29/29 [==============================] - 0s 2ms/step - loss: 17.3168 - val_loss: 15.8731\n",
      "Epoch 393/500\n",
      "29/29 [==============================] - 0s 2ms/step - loss: 17.9942 - val_loss: 16.3732\n",
      "Epoch 394/500\n",
      "29/29 [==============================] - 0s 2ms/step - loss: 17.6498 - val_loss: 15.7802\n",
      "Epoch 395/500\n",
      "29/29 [==============================] - 0s 2ms/step - loss: 17.4679 - val_loss: 15.9402\n",
      "Epoch 396/500\n",
      "29/29 [==============================] - 0s 2ms/step - loss: 17.4812 - val_loss: 16.6055\n",
      "Epoch 397/500\n",
      "29/29 [==============================] - 0s 2ms/step - loss: 17.8622 - val_loss: 16.4991\n",
      "Epoch 398/500\n",
      "29/29 [==============================] - 0s 2ms/step - loss: 17.7380 - val_loss: 16.7016\n",
      "Epoch 399/500\n",
      "29/29 [==============================] - 0s 2ms/step - loss: 17.2820 - val_loss: 16.7329\n",
      "Epoch 400/500\n",
      "29/29 [==============================] - 0s 2ms/step - loss: 17.6034 - val_loss: 16.0338\n",
      "Epoch 401/500\n",
      "29/29 [==============================] - 0s 2ms/step - loss: 17.2367 - val_loss: 15.7903\n",
      "Epoch 402/500\n",
      "29/29 [==============================] - 0s 2ms/step - loss: 17.8447 - val_loss: 15.8189\n",
      "Epoch 403/500\n",
      "29/29 [==============================] - 0s 2ms/step - loss: 17.7443 - val_loss: 17.7477\n",
      "Epoch 404/500\n",
      "29/29 [==============================] - 0s 2ms/step - loss: 17.5590 - val_loss: 15.7019\n",
      "Epoch 405/500\n",
      "29/29 [==============================] - 0s 2ms/step - loss: 17.6037 - val_loss: 16.2732\n",
      "Epoch 406/500\n",
      "29/29 [==============================] - 0s 2ms/step - loss: 17.4357 - val_loss: 15.8442\n",
      "Epoch 407/500\n",
      "29/29 [==============================] - 0s 2ms/step - loss: 17.2255 - val_loss: 15.6802\n",
      "Epoch 408/500\n",
      "29/29 [==============================] - 0s 2ms/step - loss: 17.6617 - val_loss: 16.0161\n",
      "Epoch 409/500\n",
      "29/29 [==============================] - 0s 2ms/step - loss: 17.3875 - val_loss: 15.7797\n",
      "Epoch 410/500\n",
      "29/29 [==============================] - 0s 2ms/step - loss: 17.3812 - val_loss: 17.0860\n",
      "Epoch 411/500\n",
      "29/29 [==============================] - 0s 2ms/step - loss: 17.5841 - val_loss: 16.1194\n",
      "Epoch 412/500\n",
      "29/29 [==============================] - 0s 2ms/step - loss: 17.2926 - val_loss: 18.1860\n",
      "Epoch 413/500\n",
      "29/29 [==============================] - 0s 2ms/step - loss: 17.4540 - val_loss: 15.6182\n",
      "Epoch 414/500\n",
      "29/29 [==============================] - 0s 2ms/step - loss: 17.8516 - val_loss: 15.9476\n",
      "Epoch 415/500\n",
      "29/29 [==============================] - 0s 2ms/step - loss: 18.6758 - val_loss: 16.2962\n",
      "Epoch 416/500\n",
      "29/29 [==============================] - 0s 2ms/step - loss: 17.4434 - val_loss: 16.5116\n",
      "Epoch 417/500\n",
      "29/29 [==============================] - 0s 2ms/step - loss: 17.4040 - val_loss: 16.4454\n",
      "Epoch 418/500\n",
      "29/29 [==============================] - 0s 2ms/step - loss: 17.4802 - val_loss: 15.9120\n",
      "Epoch 419/500\n",
      "29/29 [==============================] - 0s 2ms/step - loss: 17.3753 - val_loss: 16.2232\n",
      "Epoch 420/500\n",
      "29/29 [==============================] - 0s 2ms/step - loss: 18.3594 - val_loss: 15.8066\n",
      "Epoch 421/500\n",
      "29/29 [==============================] - 0s 2ms/step - loss: 17.5417 - val_loss: 17.0259\n",
      "Epoch 422/500\n",
      "29/29 [==============================] - 0s 2ms/step - loss: 17.5374 - val_loss: 15.9465\n",
      "Epoch 423/500\n",
      "29/29 [==============================] - 0s 2ms/step - loss: 17.3944 - val_loss: 15.8702\n",
      "Epoch 424/500\n",
      "29/29 [==============================] - 0s 2ms/step - loss: 17.1559 - val_loss: 16.2781\n",
      "Epoch 425/500\n",
      "29/29 [==============================] - 0s 2ms/step - loss: 18.1531 - val_loss: 15.8703\n",
      "Epoch 426/500\n",
      "29/29 [==============================] - 0s 2ms/step - loss: 17.2599 - val_loss: 15.6039\n",
      "Epoch 427/500\n",
      "29/29 [==============================] - 0s 2ms/step - loss: 17.2223 - val_loss: 16.8657\n",
      "Epoch 428/500\n",
      "29/29 [==============================] - 0s 2ms/step - loss: 17.3762 - val_loss: 15.9244\n",
      "Epoch 429/500\n",
      "29/29 [==============================] - 0s 2ms/step - loss: 17.3924 - val_loss: 16.1492\n",
      "Epoch 430/500\n",
      "29/29 [==============================] - 0s 2ms/step - loss: 17.4236 - val_loss: 15.5656\n",
      "Epoch 431/500\n",
      "29/29 [==============================] - 0s 2ms/step - loss: 17.5684 - val_loss: 15.6222\n",
      "Epoch 432/500\n",
      "29/29 [==============================] - 0s 2ms/step - loss: 17.3069 - val_loss: 15.6335\n",
      "Epoch 433/500\n",
      "29/29 [==============================] - 0s 2ms/step - loss: 17.4662 - val_loss: 15.9310\n",
      "Epoch 434/500\n",
      "29/29 [==============================] - 0s 2ms/step - loss: 17.4267 - val_loss: 16.4747\n",
      "Epoch 435/500\n",
      "29/29 [==============================] - 0s 2ms/step - loss: 17.3161 - val_loss: 16.8075\n",
      "Epoch 436/500\n",
      "29/29 [==============================] - 0s 2ms/step - loss: 17.3251 - val_loss: 15.9985\n",
      "Epoch 437/500\n",
      "29/29 [==============================] - 0s 2ms/step - loss: 17.1884 - val_loss: 16.0400\n",
      "Epoch 438/500\n",
      "29/29 [==============================] - 0s 2ms/step - loss: 17.3932 - val_loss: 16.6837\n",
      "Epoch 439/500\n",
      "29/29 [==============================] - 0s 2ms/step - loss: 17.1123 - val_loss: 15.7168\n",
      "Epoch 440/500\n",
      "29/29 [==============================] - 0s 2ms/step - loss: 17.3067 - val_loss: 16.4861\n",
      "Epoch 441/500\n",
      "29/29 [==============================] - 0s 2ms/step - loss: 17.7684 - val_loss: 15.7215\n",
      "Epoch 442/500\n",
      "29/29 [==============================] - 0s 2ms/step - loss: 17.4735 - val_loss: 16.1496\n",
      "Epoch 443/500\n",
      "29/29 [==============================] - 0s 2ms/step - loss: 17.6396 - val_loss: 16.4576\n",
      "Epoch 444/500\n",
      "29/29 [==============================] - 0s 2ms/step - loss: 17.3003 - val_loss: 17.1486\n",
      "Epoch 445/500\n",
      "29/29 [==============================] - 0s 5ms/step - loss: 17.6539 - val_loss: 15.8122\n",
      "Epoch 446/500\n",
      "29/29 [==============================] - ETA: 0s - loss: 17.44 - 0s 4ms/step - loss: 17.4633 - val_loss: 16.4538\n",
      "Epoch 447/500\n",
      "29/29 [==============================] - 0s 4ms/step - loss: 17.1714 - val_loss: 15.7004\n",
      "Epoch 448/500\n",
      "29/29 [==============================] - 0s 3ms/step - loss: 17.4215 - val_loss: 16.4396\n",
      "Epoch 449/500\n",
      "29/29 [==============================] - 0s 2ms/step - loss: 17.6348 - val_loss: 15.7702\n",
      "Epoch 450/500\n",
      "29/29 [==============================] - 0s 4ms/step - loss: 17.5205 - val_loss: 15.5825\n",
      "Epoch 451/500\n",
      "29/29 [==============================] - 0s 3ms/step - loss: 17.4234 - val_loss: 15.6642\n",
      "Epoch 452/500\n",
      "29/29 [==============================] - 0s 3ms/step - loss: 17.3797 - val_loss: 15.7554\n",
      "Epoch 453/500\n",
      "29/29 [==============================] - 0s 4ms/step - loss: 17.1992 - val_loss: 15.8960\n",
      "Epoch 454/500\n",
      "29/29 [==============================] - 0s 4ms/step - loss: 17.3955 - val_loss: 15.7485\n",
      "Epoch 455/500\n",
      "29/29 [==============================] - 0s 2ms/step - loss: 17.3121 - val_loss: 15.6401\n",
      "Epoch 456/500\n",
      "29/29 [==============================] - 0s 2ms/step - loss: 17.2998 - val_loss: 15.6214\n",
      "Epoch 457/500\n",
      "29/29 [==============================] - 0s 2ms/step - loss: 17.5793 - val_loss: 17.1942\n",
      "Epoch 458/500\n",
      "29/29 [==============================] - 0s 2ms/step - loss: 17.8838 - val_loss: 15.6742\n",
      "Epoch 459/500\n",
      "29/29 [==============================] - 0s 2ms/step - loss: 17.5253 - val_loss: 16.2840\n",
      "Epoch 460/500\n",
      "29/29 [==============================] - 0s 2ms/step - loss: 17.2977 - val_loss: 15.6435\n",
      "Epoch 461/500\n",
      "29/29 [==============================] - 0s 4ms/step - loss: 17.4728 - val_loss: 15.6663\n",
      "Epoch 462/500\n",
      "29/29 [==============================] - 0s 4ms/step - loss: 17.2518 - val_loss: 15.7264\n",
      "Epoch 463/500\n",
      "29/29 [==============================] - 0s 4ms/step - loss: 17.1536 - val_loss: 16.2853\n",
      "Epoch 464/500\n",
      "29/29 [==============================] - 0s 3ms/step - loss: 17.4306 - val_loss: 15.4398\n",
      "Epoch 465/500\n",
      "29/29 [==============================] - 0s 4ms/step - loss: 17.0903 - val_loss: 17.1004\n",
      "Epoch 466/500\n",
      "29/29 [==============================] - 0s 4ms/step - loss: 17.5159 - val_loss: 16.0914\n",
      "Epoch 467/500\n",
      "29/29 [==============================] - 0s 3ms/step - loss: 17.4463 - val_loss: 17.4863\n",
      "Epoch 468/500\n",
      "29/29 [==============================] - 0s 4ms/step - loss: 18.0144 - val_loss: 17.4657\n",
      "Epoch 469/500\n",
      "29/29 [==============================] - 0s 4ms/step - loss: 17.5882 - val_loss: 16.6560\n",
      "Epoch 470/500\n"
     ]
    },
    {
     "name": "stdout",
     "output_type": "stream",
     "text": [
      "29/29 [==============================] - 0s 4ms/step - loss: 17.7950 - val_loss: 16.1494\n",
      "Epoch 471/500\n",
      "29/29 [==============================] - 0s 4ms/step - loss: 17.2323 - val_loss: 15.6396\n",
      "Epoch 472/500\n",
      "29/29 [==============================] - 0s 4ms/step - loss: 17.1652 - val_loss: 16.3538\n",
      "Epoch 473/500\n",
      "29/29 [==============================] - 0s 4ms/step - loss: 17.1638 - val_loss: 15.9112\n",
      "Epoch 474/500\n",
      "29/29 [==============================] - 0s 4ms/step - loss: 17.2330 - val_loss: 16.3851\n",
      "Epoch 475/500\n",
      "29/29 [==============================] - 0s 3ms/step - loss: 17.2052 - val_loss: 15.6073\n",
      "Epoch 476/500\n",
      "29/29 [==============================] - 0s 2ms/step - loss: 17.4666 - val_loss: 15.5811\n",
      "Epoch 477/500\n",
      "29/29 [==============================] - 0s 2ms/step - loss: 17.3895 - val_loss: 15.6790\n",
      "Epoch 478/500\n",
      "29/29 [==============================] - 0s 2ms/step - loss: 17.6048 - val_loss: 15.8613\n",
      "Epoch 479/500\n",
      "29/29 [==============================] - 0s 2ms/step - loss: 17.3301 - val_loss: 16.1262\n",
      "Epoch 480/500\n",
      "29/29 [==============================] - 0s 5ms/step - loss: 17.3641 - val_loss: 18.0066\n",
      "Epoch 481/500\n",
      "29/29 [==============================] - 0s 4ms/step - loss: 17.2805 - val_loss: 15.4046\n",
      "Epoch 482/500\n",
      "29/29 [==============================] - 0s 4ms/step - loss: 17.2492 - val_loss: 15.6394\n",
      "Epoch 483/500\n",
      "29/29 [==============================] - 0s 4ms/step - loss: 17.7755 - val_loss: 15.6187\n",
      "Epoch 484/500\n",
      "29/29 [==============================] - 0s 4ms/step - loss: 17.4961 - val_loss: 15.5625\n",
      "Epoch 485/500\n",
      "29/29 [==============================] - 0s 4ms/step - loss: 17.3370 - val_loss: 17.8495\n",
      "Epoch 486/500\n",
      "29/29 [==============================] - 0s 4ms/step - loss: 17.2003 - val_loss: 16.4844\n",
      "Epoch 487/500\n",
      "29/29 [==============================] - 0s 3ms/step - loss: 17.6322 - val_loss: 15.6778\n",
      "Epoch 488/500\n",
      "29/29 [==============================] - 0s 2ms/step - loss: 17.6203 - val_loss: 15.7829\n",
      "Epoch 489/500\n",
      "29/29 [==============================] - 0s 2ms/step - loss: 17.1717 - val_loss: 15.7799\n",
      "Epoch 490/500\n",
      "29/29 [==============================] - 0s 2ms/step - loss: 17.2020 - val_loss: 16.7658\n",
      "Epoch 491/500\n",
      "29/29 [==============================] - 0s 2ms/step - loss: 17.4167 - val_loss: 16.2191\n",
      "Epoch 492/500\n",
      "29/29 [==============================] - 0s 2ms/step - loss: 17.5296 - val_loss: 15.7285\n",
      "Epoch 493/500\n",
      "29/29 [==============================] - 0s 2ms/step - loss: 17.5072 - val_loss: 15.5889\n",
      "Epoch 494/500\n",
      "29/29 [==============================] - 0s 2ms/step - loss: 17.6159 - val_loss: 15.7985\n",
      "Epoch 495/500\n",
      "29/29 [==============================] - 0s 4ms/step - loss: 17.2956 - val_loss: 16.2890\n",
      "Epoch 496/500\n",
      "29/29 [==============================] - 0s 5ms/step - loss: 17.9602 - val_loss: 16.5637\n",
      "Epoch 497/500\n",
      "29/29 [==============================] - 0s 4ms/step - loss: 17.7657 - val_loss: 15.5793\n",
      "Epoch 498/500\n",
      "29/29 [==============================] - 0s 4ms/step - loss: 17.5546 - val_loss: 16.5419\n",
      "Epoch 499/500\n",
      "29/29 [==============================] - 0s 3ms/step - loss: 17.3357 - val_loss: 15.7415\n",
      "Epoch 500/500\n",
      "29/29 [==============================] - 0s 3ms/step - loss: 17.1879 - val_loss: 16.8366\n"
     ]
    }
   ],
   "source": [
    "# fit the model\n",
    "\n",
    "#history=model.fit(X_train, y_train, validation_data =(X_test, y_test),epochs=500, batch_size=10) #verbose=0\n",
    "history = model.fit(X_train, y_train, epochs=500, batch_size=10, validation_split=0.2)"
   ]
  },
  {
   "cell_type": "markdown",
   "metadata": {},
   "source": [
    "### Evaluate the model"
   ]
  },
  {
   "cell_type": "code",
   "execution_count": 69,
   "metadata": {},
   "outputs": [
    {
     "name": "stdout",
     "output_type": "stream",
     "text": [
      "Train: 17.186, Test: 18.027\n"
     ]
    }
   ],
   "source": [
    "train_mse = model.evaluate(X_train, y_train, verbose=0)\n",
    "test_mse = model.evaluate(X_test, y_test, verbose=0)\n",
    "print('Train: %.3f, Test: %.3f' % (train_mse, test_mse))"
   ]
  },
  {
   "cell_type": "markdown",
   "metadata": {},
   "source": [
    "### Plotting the learning curve\n",
    "\n",
    "You can also plot the model learning curves which plot the performance of the neural network model over time. It helps determine if the model is learning well and whether it is underfitting or overfitting the training set. To do this you need to update the call to to the `fit` function to include a reference to a validation dataset which is a portion of the training dataset not used to fit the model but instead used to evaluate the performance of the model during training. The fit function will then return a history object containing a trace of performance metrics recorded at the end of each training epoch. A learning curve is a plot of the loss on the training dataset and the validation dataset.\n",
    "Learning curves of mean squared error  on the train and test set at the end of each training epoch are graphed below using line plots. These learning curves give an indication of the dynamics while learning the model.\n",
    "https://machinelearningmastery.com/how-to-improve-neural-network-stability-and-modeling-performance-with-data-scaling/"
   ]
  },
  {
   "cell_type": "code",
   "execution_count": 70,
   "metadata": {},
   "outputs": [
    {
     "data": {
      "image/png": "[encoded data removed]",
      "text/plain": [
       "<Figure size 1008x576 with 1 Axes>"
      ]
     },
     "metadata": {},
     "output_type": "display_data"
    }
   ],
   "source": [
    "#history = model.fit(X_train, y_train, epochs=500, batch_size=10, verbose=0, validation_split=0.3)\n",
    "plt.title('Learning Curves')\n",
    "plt.xlabel('Epoch')\n",
    "plt.ylabel('Mean Squared Error')\n",
    "plt.plot(history.history['loss'], 'r.',label='train')\n",
    "plt.plot(history.history['val_loss'], 'b.',label='val')\n",
    "plt.legend()\n",
    "plt.show()"
   ]
  },
  {
   "cell_type": "markdown",
   "metadata": {},
   "source": []
  },
  {
   "cell_type": "code",
   "execution_count": 71,
   "metadata": {},
   "outputs": [
    {
     "data": {
      "image/png": "[encoded data removed]",
      "text/plain": [
       "<Figure size 1008x576 with 1 Axes>"
      ]
     },
     "metadata": {},
     "output_type": "display_data"
    }
   ],
   "source": [
    "# plot loss during training\n",
    "plt.title('Mean Squared Error')\n",
    "plt.plot(history.history['loss'], label='train')\n",
    "plt.plot(history.history['val_loss'], label='validation')\n",
    "plt.legend()\n",
    "plt.show()"
   ]
  },
  {
   "cell_type": "markdown",
   "metadata": {},
   "source": [
    "### Predictions using the neural network model:\n",
    "Run each x value through the neural network."
   ]
  },
  {
   "cell_type": "code",
   "execution_count": 72,
   "metadata": {
    "scrolled": true
   },
   "outputs": [
    {
     "name": "stdout",
     "output_type": "stream",
     "text": [
      "Model: \"sequential\"\n",
      "_________________________________________________________________\n",
      "Layer (type)                 Output Shape              Param #   \n",
      "=================================================================\n",
      "dense (Dense)                (None, 30)                60        \n",
      "_________________________________________________________________\n",
      "dense_1 (Dense)              (None, 40)                1240      \n",
      "_________________________________________________________________\n",
      "dense_2 (Dense)              (None, 1)                 41        \n",
      "=================================================================\n",
      "Total params: 1,341\n",
      "Trainable params: 1,341\n",
      "Non-trainable params: 0\n",
      "_________________________________________________________________\n"
     ]
    }
   ],
   "source": [
    "model.summary()"
   ]
  },
  {
   "cell_type": "code",
   "execution_count": 73,
   "metadata": {
    "scrolled": false
   },
   "outputs": [],
   "source": [
    "#model.predict(X_test)"
   ]
  },
  {
   "cell_type": "code",
   "execution_count": 74,
   "metadata": {},
   "outputs": [],
   "source": [
    "model_predictions = model.predict(X_test)"
   ]
  },
  {
   "cell_type": "markdown",
   "metadata": {},
   "source": [
    "### Compare actual data to predictions on test set"
   ]
  },
  {
   "cell_type": "code",
   "execution_count": 75,
   "metadata": {
    "scrolled": false
   },
   "outputs": [
    {
     "data": {
      "image/png": "[encoded data removed]",
      "text/plain": [
       "<Figure size 1008x576 with 1 Axes>"
      ]
     },
     "metadata": {},
     "output_type": "display_data"
    }
   ],
   "source": [
    "plt.title('Comparing actual data to predicted data')\n",
    "plt.plot(X_test, y_test, 'k.', label=\"true values\")\n",
    "plt.plot(X_test, model_predictions, 'rx', label=\"predicted values\")\n",
    "\n",
    "plt.legend()\n",
    "plt.show()"
   ]
  },
  {
   "cell_type": "code",
   "execution_count": 76,
   "metadata": {},
   "outputs": [
    {
     "data": {
      "text/plain": [
       "array([[2.2128172]], dtype=float32)"
      ]
     },
     "execution_count": 76,
     "metadata": {},
     "output_type": "execute_result"
    }
   ],
   "source": [
    "model.predict([0])"
   ]
  },
  {
   "cell_type": "markdown",
   "metadata": {},
   "source": [
    "### Problem!\n",
    "\n",
    "Because I took out the values over 24.4 where all the power values were zero, the model is predicting a power value that is incorrect so I need to take this into account in the prediction web app. \n",
    "Also it is predicting a power value when wind speed is zero so this is also incorrect.\n",
    "So here below I experimented by using the entire dataset with the same model and to no avail.\n",
    "Maybe if I add extra layers this might help...\n",
    "\n",
    "Overall the model is better at predicting power for the lower values of wind speed than the 3rd order polynomial regression model.\n",
    "I changed the kernel_initializer to random_uniform and specified a min and max values as I thought this might help but the model still predicts a non-zero values for zero wind speeds and for speeds greater than the cut-off wind speed of 24.4 metres per second."
   ]
  },
  {
   "cell_type": "code",
   "execution_count": 77,
   "metadata": {},
   "outputs": [
    {
     "data": {
      "text/plain": [
       "array([[2.8661857]], dtype=float32)"
      ]
     },
     "execution_count": 77,
     "metadata": {},
     "output_type": "execute_result"
    }
   ],
   "source": [
    "model.predict([3])"
   ]
  },
  {
   "cell_type": "code",
   "execution_count": 78,
   "metadata": {},
   "outputs": [
    {
     "data": {
      "text/plain": [
       "array([[100.26763]], dtype=float32)"
      ]
     },
     "execution_count": 78,
     "metadata": {},
     "output_type": "execute_result"
    }
   ],
   "source": [
    "model.predict([24.5])"
   ]
  },
  {
   "cell_type": "code",
   "execution_count": 79,
   "metadata": {},
   "outputs": [
    {
     "data": {
      "text/plain": [
       "array([[8.980427]], dtype=float32)"
      ]
     },
     "execution_count": 79,
     "metadata": {},
     "output_type": "execute_result"
    }
   ],
   "source": [
    "model.predict([8])"
   ]
  },
  {
   "cell_type": "code",
   "execution_count": 80,
   "metadata": {},
   "outputs": [
    {
     "data": {
      "text/plain": [
       "array([[100.05834]], dtype=float32)"
      ]
     },
     "execution_count": 80,
     "metadata": {},
     "output_type": "execute_result"
    }
   ],
   "source": [
    "model.predict([23.5])"
   ]
  },
  {
   "cell_type": "code",
   "execution_count": 81,
   "metadata": {},
   "outputs": [
    {
     "data": {
      "text/plain": [
       "array([[2.2128172]], dtype=float32)"
      ]
     },
     "execution_count": 81,
     "metadata": {},
     "output_type": "execute_result"
    }
   ],
   "source": [
    "model.predict([0])"
   ]
  },
  {
   "cell_type": "code",
   "execution_count": 82,
   "metadata": {},
   "outputs": [
    {
     "data": {
      "text/plain": [
       "array([[100.24982]], dtype=float32)"
      ]
     },
     "execution_count": 82,
     "metadata": {},
     "output_type": "execute_result"
    }
   ],
   "source": [
    "model.predict([24.4])"
   ]
  },
  {
   "cell_type": "markdown",
   "metadata": {},
   "source": [
    "### Save the model for use in the web app"
   ]
  },
  {
   "cell_type": "code",
   "execution_count": 83,
   "metadata": {},
   "outputs": [],
   "source": [
    "model.save('model.h5')"
   ]
  },
  {
   "cell_type": "markdown",
   "metadata": {},
   "source": [
    "### Another neural network model\n",
    "Here I will add another layer and increase the number of neurons in each layer. This will make the model more computationally expensive.\n",
    "\n",
    "\n",
    "model = kr.models.Sequential()\n",
    "initializer = kr.initializers.RandomUniform(minval=0., maxval=24.3)\n",
    "model.add(kr.layers.Dense(30, input_shape=(1,), activation='sigmoid', kernel_initializer=initializer, bias_initializer=initializer))\n",
    "model.add(kr.layers.Dense(30, input_shape=(1,), activation='sigmoid', kernel_initializer=\"glorot_uniform\", bias_initializer=\"glorot_uniform\"))\n",
    "model.add(kr.layers.Dense(1, activation='linear', kernel_initializer=\"glorot_uniform\", bias_initializer=\"glorot_uniform\"))"
   ]
  },
  {
   "cell_type": "code",
   "execution_count": 84,
   "metadata": {},
   "outputs": [],
   "source": [
    "# Train a model\n",
    "model2 = kr.models.Sequential()\n",
    "initializer = kr.initializers.RandomUniform(minval=0., maxval=24.3)\n",
    "model2.add(kr.layers.Dense(50, input_shape=(1,), activation='sigmoid', kernel_initializer=initializer, bias_initializer=initializer))\n",
    "\n",
    "model2.add(kr.layers.Dense(50, input_shape=(1,), activation='sigmoid', kernel_initializer=\"glorot_uniform\", bias_initializer=\"glorot_uniform\"))\n",
    "model2.add(kr.layers.Dense(1, activation='linear', kernel_initializer=\"glorot_uniform\", bias_initializer=\"glorot_uniform\"))"
   ]
  },
  {
   "cell_type": "code",
   "execution_count": 85,
   "metadata": {},
   "outputs": [
    {
     "name": "stdout",
     "output_type": "stream",
     "text": [
      "Model: \"sequential_1\"\n",
      "_________________________________________________________________\n",
      "Layer (type)                 Output Shape              Param #   \n",
      "=================================================================\n",
      "dense_3 (Dense)              (None, 50)                100       \n",
      "_________________________________________________________________\n",
      "dense_4 (Dense)              (None, 50)                2550      \n",
      "_________________________________________________________________\n",
      "dense_5 (Dense)              (None, 1)                 51        \n",
      "=================================================================\n",
      "Total params: 2,701\n",
      "Trainable params: 2,701\n",
      "Non-trainable params: 0\n",
      "_________________________________________________________________\n"
     ]
    }
   ],
   "source": [
    "# \n",
    "model2.compile(kr.optimizers.Adam(lr=0.001), loss='mean_squared_error')\n",
    "model2.summary()"
   ]
  },
  {
   "cell_type": "code",
   "execution_count": 86,
   "metadata": {},
   "outputs": [
    {
     "name": "stdout",
     "output_type": "stream",
     "text": [
      "Epoch 1/500\n",
      "29/29 [==============================] - 0s 5ms/step - loss: 4037.5669 - val_loss: 3934.2751\n",
      "Epoch 2/500\n",
      "29/29 [==============================] - 0s 2ms/step - loss: 3809.9749 - val_loss: 3737.9944\n",
      "Epoch 3/500\n",
      "29/29 [==============================] - 0s 2ms/step - loss: 3654.6064 - val_loss: 3619.2666\n",
      "Epoch 4/500\n",
      "29/29 [==============================] - 0s 2ms/step - loss: 3552.8425 - val_loss: 3527.7122\n",
      "Epoch 5/500\n",
      "29/29 [==============================] - 0s 3ms/step - loss: 3466.0244 - val_loss: 3440.8647\n",
      "Epoch 6/500\n",
      "29/29 [==============================] - 0s 2ms/step - loss: 3381.4490 - val_loss: 3355.1204\n",
      "Epoch 7/500\n",
      "29/29 [==============================] - 0s 2ms/step - loss: 3300.7520 - val_loss: 3278.3611\n",
      "Epoch 8/500\n",
      "29/29 [==============================] - 0s 2ms/step - loss: 3228.8062 - val_loss: 3205.2839\n",
      "Epoch 9/500\n",
      "29/29 [==============================] - 0s 2ms/step - loss: 3158.9961 - val_loss: 3133.3091\n",
      "Epoch 10/500\n",
      "29/29 [==============================] - 0s 2ms/step - loss: 3089.8691 - val_loss: 3071.4189\n",
      "Epoch 11/500\n",
      "29/29 [==============================] - 0s 2ms/step - loss: 3028.4558 - val_loss: 3007.1992\n",
      "Epoch 12/500\n",
      "29/29 [==============================] - 0s 2ms/step - loss: 2967.7131 - val_loss: 2949.2546\n",
      "Epoch 13/500\n",
      "29/29 [==============================] - 0s 2ms/step - loss: 2911.6216 - val_loss: 2890.0686\n",
      "Epoch 14/500\n",
      "29/29 [==============================] - 0s 2ms/step - loss: 2856.4927 - val_loss: 2836.0928\n",
      "Epoch 15/500\n",
      "29/29 [==============================] - 0s 2ms/step - loss: 2802.3010 - val_loss: 2778.4963\n",
      "Epoch 16/500\n",
      "29/29 [==============================] - 0s 2ms/step - loss: 2744.2891 - val_loss: 2721.8892\n",
      "Epoch 17/500\n",
      "29/29 [==============================] - 0s 2ms/step - loss: 2692.0239 - val_loss: 2669.0054\n",
      "Epoch 18/500\n",
      "29/29 [==============================] - 0s 2ms/step - loss: 2641.6865 - val_loss: 2618.2996\n",
      "Epoch 19/500\n",
      "29/29 [==============================] - 0s 2ms/step - loss: 2591.2983 - val_loss: 2562.8081\n",
      "Epoch 20/500\n",
      "29/29 [==============================] - 0s 2ms/step - loss: 2538.7534 - val_loss: 2514.7424\n",
      "Epoch 21/500\n",
      "29/29 [==============================] - 0s 2ms/step - loss: 2494.3647 - val_loss: 2467.3242\n",
      "Epoch 22/500\n",
      "29/29 [==============================] - 0s 2ms/step - loss: 2449.5195 - val_loss: 2426.8057\n",
      "Epoch 23/500\n",
      "29/29 [==============================] - 0s 2ms/step - loss: 2410.5649 - val_loss: 2385.3049\n",
      "Epoch 24/500\n",
      "29/29 [==============================] - 0s 2ms/step - loss: 2371.6030 - val_loss: 2347.6975\n",
      "Epoch 25/500\n",
      "29/29 [==============================] - 0s 2ms/step - loss: 2335.9104 - val_loss: 2310.2100\n",
      "Epoch 26/500\n",
      "29/29 [==============================] - 0s 2ms/step - loss: 2299.5476 - val_loss: 2276.1768\n",
      "Epoch 27/500\n",
      "29/29 [==============================] - 0s 3ms/step - loss: 2266.8984 - val_loss: 2236.6023\n",
      "Epoch 28/500\n",
      "29/29 [==============================] - 0s 3ms/step - loss: 2229.3164 - val_loss: 2205.2446\n",
      "Epoch 29/500\n",
      "29/29 [==============================] - 0s 3ms/step - loss: 2197.4580 - val_loss: 2170.5415\n",
      "Epoch 30/500\n",
      "29/29 [==============================] - 0s 2ms/step - loss: 2165.8889 - val_loss: 2139.7534\n",
      "Epoch 31/500\n",
      "29/29 [==============================] - 0s 3ms/step - loss: 2137.8806 - val_loss: 2112.1765\n",
      "Epoch 32/500\n",
      "29/29 [==============================] - 0s 4ms/step - loss: 2111.4033 - val_loss: 2085.1213\n",
      "Epoch 33/500\n",
      "29/29 [==============================] - 0s 3ms/step - loss: 2085.7214 - val_loss: 2059.5657\n",
      "Epoch 34/500\n",
      "29/29 [==============================] - 0s 4ms/step - loss: 2062.0481 - val_loss: 2035.9670\n",
      "Epoch 35/500\n",
      "29/29 [==============================] - 0s 4ms/step - loss: 2040.4951 - val_loss: 2014.5248\n",
      "Epoch 36/500\n",
      "29/29 [==============================] - 0s 3ms/step - loss: 2019.2788 - val_loss: 1989.8025\n",
      "Epoch 37/500\n",
      "29/29 [==============================] - 0s 3ms/step - loss: 1995.2938 - val_loss: 1967.6415\n",
      "Epoch 38/500\n",
      "29/29 [==============================] - 0s 4ms/step - loss: 1974.3221 - val_loss: 1944.8641\n",
      "Epoch 39/500\n",
      "29/29 [==============================] - 0s 3ms/step - loss: 1954.8053 - val_loss: 1926.0173\n",
      "Epoch 40/500\n",
      "29/29 [==============================] - 0s 3ms/step - loss: 1936.7047 - val_loss: 1908.9403\n",
      "Epoch 41/500\n",
      "29/29 [==============================] - 0s 4ms/step - loss: 1920.2749 - val_loss: 1891.2290\n",
      "Epoch 42/500\n",
      "29/29 [==============================] - 0s 4ms/step - loss: 1905.0031 - val_loss: 1874.1443\n",
      "Epoch 43/500\n",
      "29/29 [==============================] - 0s 4ms/step - loss: 1889.3112 - val_loss: 1860.8025\n",
      "Epoch 44/500\n",
      "29/29 [==============================] - 0s 2ms/step - loss: 1876.3264 - val_loss: 1845.9084\n",
      "Epoch 45/500\n",
      "29/29 [==============================] - 0s 2ms/step - loss: 1863.2665 - val_loss: 1835.1083\n",
      "Epoch 46/500\n",
      "29/29 [==============================] - 0s 2ms/step - loss: 1852.1089 - val_loss: 1823.0747\n",
      "Epoch 47/500\n",
      "29/29 [==============================] - 0s 2ms/step - loss: 1841.3580 - val_loss: 1810.6016\n",
      "Epoch 48/500\n",
      "29/29 [==============================] - 0s 2ms/step - loss: 1830.4564 - val_loss: 1800.4688\n",
      "Epoch 49/500\n",
      "29/29 [==============================] - 0s 2ms/step - loss: 1821.6337 - val_loss: 1790.2589\n",
      "Epoch 50/500\n",
      "29/29 [==============================] - 0s 2ms/step - loss: 1812.7782 - val_loss: 1781.5714\n",
      "Epoch 51/500\n",
      "29/29 [==============================] - 0s 4ms/step - loss: 1804.8932 - val_loss: 1773.8011\n",
      "Epoch 52/500\n",
      "29/29 [==============================] - 0s 3ms/step - loss: 1797.6534 - val_loss: 1765.8171\n",
      "Epoch 53/500\n",
      "29/29 [==============================] - 0s 2ms/step - loss: 1790.5050 - val_loss: 1759.2192\n",
      "Epoch 54/500\n",
      "29/29 [==============================] - 0s 2ms/step - loss: 1784.1664 - val_loss: 1752.2592\n",
      "Epoch 55/500\n",
      "29/29 [==============================] - 0s 2ms/step - loss: 1778.1407 - val_loss: 1746.0118\n",
      "Epoch 56/500\n",
      "29/29 [==============================] - 0s 2ms/step - loss: 1772.2424 - val_loss: 1740.0425\n",
      "Epoch 57/500\n",
      "29/29 [==============================] - 0s 2ms/step - loss: 1766.6862 - val_loss: 1734.1973\n",
      "Epoch 58/500\n",
      "29/29 [==============================] - 0s 2ms/step - loss: 1761.7650 - val_loss: 1729.3025\n",
      "Epoch 59/500\n",
      "29/29 [==============================] - 0s 2ms/step - loss: 1757.3467 - val_loss: 1724.0729\n",
      "Epoch 60/500\n",
      "29/29 [==============================] - 0s 2ms/step - loss: 1753.4576 - val_loss: 1719.6351\n",
      "Epoch 61/500\n",
      "29/29 [==============================] - 0s 2ms/step - loss: 1749.7354 - val_loss: 1715.8450\n",
      "Epoch 62/500\n",
      "29/29 [==============================] - 0s 2ms/step - loss: 1746.5206 - val_loss: 1712.2168\n",
      "Epoch 63/500\n",
      "29/29 [==============================] - 0s 2ms/step - loss: 1743.3245 - val_loss: 1709.1847\n",
      "Epoch 64/500\n",
      "29/29 [==============================] - 0s 2ms/step - loss: 1740.6703 - val_loss: 1705.7474\n",
      "Epoch 65/500\n",
      "29/29 [==============================] - 0s 3ms/step - loss: 1737.8947 - val_loss: 1703.4265\n",
      "Epoch 66/500\n",
      "29/29 [==============================] - 0s 2ms/step - loss: 1735.4570 - val_loss: 1700.4966\n",
      "Epoch 67/500\n",
      "29/29 [==============================] - 0s 2ms/step - loss: 1733.1659 - val_loss: 1697.7726\n",
      "Epoch 68/500\n",
      "29/29 [==============================] - 0s 2ms/step - loss: 1730.9329 - val_loss: 1695.7351\n",
      "Epoch 69/500\n",
      "29/29 [==============================] - 0s 2ms/step - loss: 1728.8943 - val_loss: 1693.2214\n",
      "Epoch 70/500\n",
      "29/29 [==============================] - 0s 2ms/step - loss: 1727.1041 - val_loss: 1691.3688\n",
      "Epoch 71/500\n",
      "29/29 [==============================] - 0s 2ms/step - loss: 1725.5427 - val_loss: 1689.4698\n",
      "Epoch 72/500\n",
      "29/29 [==============================] - 0s 2ms/step - loss: 1723.8119 - val_loss: 1687.3315\n",
      "Epoch 73/500\n",
      "29/29 [==============================] - 0s 2ms/step - loss: 1722.2711 - val_loss: 1685.8824\n",
      "Epoch 74/500\n",
      "29/29 [==============================] - 0s 2ms/step - loss: 1720.8732 - val_loss: 1684.1917\n",
      "Epoch 75/500\n",
      "29/29 [==============================] - 0s 2ms/step - loss: 1719.5627 - val_loss: 1682.6493\n",
      "Epoch 76/500\n",
      "29/29 [==============================] - 0s 2ms/step - loss: 1718.6544 - val_loss: 1681.2471\n",
      "Epoch 77/500\n",
      "29/29 [==============================] - 0s 2ms/step - loss: 1718.2771 - val_loss: 1680.7799\n",
      "Epoch 78/500\n"
     ]
    },
    {
     "name": "stdout",
     "output_type": "stream",
     "text": [
      "29/29 [==============================] - 0s 2ms/step - loss: 1717.1069 - val_loss: 1680.0980\n",
      "Epoch 79/500\n",
      "29/29 [==============================] - 0s 2ms/step - loss: 1716.4124 - val_loss: 1679.0579\n",
      "Epoch 80/500\n",
      "29/29 [==============================] - 0s 2ms/step - loss: 1715.6768 - val_loss: 1677.9229\n",
      "Epoch 81/500\n",
      "29/29 [==============================] - 0s 2ms/step - loss: 1714.9493 - val_loss: 1677.3773\n",
      "Epoch 82/500\n",
      "29/29 [==============================] - 0s 2ms/step - loss: 1714.3650 - val_loss: 1676.0486\n",
      "Epoch 83/500\n",
      "29/29 [==============================] - 0s 2ms/step - loss: 1713.5760 - val_loss: 1675.5813\n",
      "Epoch 84/500\n",
      "29/29 [==============================] - 0s 2ms/step - loss: 1713.0446 - val_loss: 1674.7246\n",
      "Epoch 85/500\n",
      "29/29 [==============================] - 0s 2ms/step - loss: 1713.1595 - val_loss: 1673.8092\n",
      "Epoch 86/500\n",
      "29/29 [==============================] - 0s 2ms/step - loss: 1712.1868 - val_loss: 1673.8900\n",
      "Epoch 87/500\n",
      "29/29 [==============================] - 0s 2ms/step - loss: 1711.9939 - val_loss: 1673.4952\n",
      "Epoch 88/500\n",
      "29/29 [==============================] - 0s 2ms/step - loss: 1711.7181 - val_loss: 1673.1470\n",
      "Epoch 89/500\n",
      "29/29 [==============================] - 0s 2ms/step - loss: 1711.4882 - val_loss: 1672.7511\n",
      "Epoch 90/500\n",
      "29/29 [==============================] - 0s 2ms/step - loss: 1711.4106 - val_loss: 1671.9846\n",
      "Epoch 91/500\n",
      "29/29 [==============================] - 0s 2ms/step - loss: 1710.8022 - val_loss: 1671.6287\n",
      "Epoch 92/500\n",
      "29/29 [==============================] - 0s 2ms/step - loss: 1710.9711 - val_loss: 1671.0586\n",
      "Epoch 93/500\n",
      "29/29 [==============================] - 0s 2ms/step - loss: 1710.4093 - val_loss: 1671.1255\n",
      "Epoch 94/500\n",
      "29/29 [==============================] - 0s 2ms/step - loss: 1710.3134 - val_loss: 1670.9729\n",
      "Epoch 95/500\n",
      "29/29 [==============================] - 0s 2ms/step - loss: 1710.1783 - val_loss: 1670.8252\n",
      "Epoch 96/500\n",
      "29/29 [==============================] - 0s 2ms/step - loss: 1709.9325 - val_loss: 1670.5408\n",
      "Epoch 97/500\n",
      "29/29 [==============================] - 0s 2ms/step - loss: 1709.7883 - val_loss: 1670.3177\n",
      "Epoch 98/500\n",
      "29/29 [==============================] - 0s 2ms/step - loss: 1709.5400 - val_loss: 1669.9443\n",
      "Epoch 99/500\n",
      "29/29 [==============================] - 0s 2ms/step - loss: 1709.4844 - val_loss: 1669.7294\n",
      "Epoch 100/500\n",
      "29/29 [==============================] - 0s 2ms/step - loss: 1709.5840 - val_loss: 1669.4530\n",
      "Epoch 101/500\n",
      "29/29 [==============================] - 0s 2ms/step - loss: 1709.4729 - val_loss: 1669.4274\n",
      "Epoch 102/500\n",
      "29/29 [==============================] - 0s 2ms/step - loss: 1709.3978 - val_loss: 1669.2548\n",
      "Epoch 103/500\n",
      "29/29 [==============================] - 0s 2ms/step - loss: 1709.1790 - val_loss: 1669.2791\n",
      "Epoch 104/500\n",
      "29/29 [==============================] - 0s 2ms/step - loss: 1709.1799 - val_loss: 1669.0225\n",
      "Epoch 105/500\n",
      "29/29 [==============================] - 0s 2ms/step - loss: 1709.1279 - val_loss: 1668.9015\n",
      "Epoch 106/500\n",
      "29/29 [==============================] - 0s 2ms/step - loss: 1708.9928 - val_loss: 1668.9978\n",
      "Epoch 107/500\n",
      "29/29 [==============================] - 0s 2ms/step - loss: 1709.1545 - val_loss: 1668.9419\n",
      "Epoch 108/500\n",
      "29/29 [==============================] - 0s 2ms/step - loss: 1709.0463 - val_loss: 1668.8394\n",
      "Epoch 109/500\n",
      "29/29 [==============================] - 0s 2ms/step - loss: 1708.9139 - val_loss: 1668.7679\n",
      "Epoch 110/500\n",
      "29/29 [==============================] - 0s 2ms/step - loss: 1708.9194 - val_loss: 1668.7319\n",
      "Epoch 111/500\n",
      "29/29 [==============================] - 0s 2ms/step - loss: 1709.0405 - val_loss: 1668.6504\n",
      "Epoch 112/500\n",
      "29/29 [==============================] - 0s 2ms/step - loss: 1708.9873 - val_loss: 1668.4296\n",
      "Epoch 113/500\n",
      "29/29 [==============================] - 0s 2ms/step - loss: 1708.9498 - val_loss: 1668.5516\n",
      "Epoch 114/500\n",
      "29/29 [==============================] - 0s 2ms/step - loss: 1708.8925 - val_loss: 1668.4907\n",
      "Epoch 115/500\n",
      "29/29 [==============================] - 0s 2ms/step - loss: 1708.9626 - val_loss: 1668.4172\n",
      "Epoch 116/500\n",
      "29/29 [==============================] - 0s 2ms/step - loss: 1708.8425 - val_loss: 1668.3547\n",
      "Epoch 117/500\n",
      "29/29 [==============================] - 0s 2ms/step - loss: 1709.2501 - val_loss: 1668.5645\n",
      "Epoch 118/500\n",
      "29/29 [==============================] - 0s 2ms/step - loss: 1708.8641 - val_loss: 1668.3329\n",
      "Epoch 119/500\n",
      "29/29 [==============================] - 0s 2ms/step - loss: 1708.7836 - val_loss: 1668.2751\n",
      "Epoch 120/500\n",
      "29/29 [==============================] - 0s 2ms/step - loss: 1708.7684 - val_loss: 1668.3212\n",
      "Epoch 121/500\n",
      "29/29 [==============================] - 0s 2ms/step - loss: 1709.0889 - val_loss: 1668.2780\n",
      "Epoch 122/500\n",
      "29/29 [==============================] - 0s 2ms/step - loss: 1708.7839 - val_loss: 1668.3873\n",
      "Epoch 123/500\n",
      "29/29 [==============================] - 0s 2ms/step - loss: 1708.8585 - val_loss: 1668.3071\n",
      "Epoch 124/500\n",
      "29/29 [==============================] - 0s 2ms/step - loss: 1709.0405 - val_loss: 1668.2913\n",
      "Epoch 125/500\n",
      "29/29 [==============================] - 0s 2ms/step - loss: 1708.7148 - val_loss: 1668.1251\n",
      "Epoch 126/500\n",
      "29/29 [==============================] - 0s 2ms/step - loss: 1708.5419 - val_loss: 1667.8033\n",
      "Epoch 127/500\n",
      "29/29 [==============================] - 0s 2ms/step - loss: 1706.9993 - val_loss: 1664.9830\n",
      "Epoch 128/500\n",
      "29/29 [==============================] - 0s 2ms/step - loss: 1705.6735 - val_loss: 1663.7162\n",
      "Epoch 129/500\n",
      "29/29 [==============================] - 0s 2ms/step - loss: 1703.5673 - val_loss: 1661.2847\n",
      "Epoch 130/500\n",
      "29/29 [==============================] - 0s 2ms/step - loss: 1699.8170 - val_loss: 1657.1802\n",
      "Epoch 131/500\n",
      "29/29 [==============================] - 0s 2ms/step - loss: 1696.5604 - val_loss: 1653.3477\n",
      "Epoch 132/500\n",
      "29/29 [==============================] - 0s 2ms/step - loss: 1691.9270 - val_loss: 1648.3508\n",
      "Epoch 133/500\n",
      "29/29 [==============================] - 0s 2ms/step - loss: 1685.5212 - val_loss: 1643.7808\n",
      "Epoch 134/500\n",
      "29/29 [==============================] - 0s 2ms/step - loss: 1682.4994 - val_loss: 1639.1625\n",
      "Epoch 135/500\n",
      "29/29 [==============================] - 0s 2ms/step - loss: 1676.0935 - val_loss: 1634.8939\n",
      "Epoch 136/500\n",
      "29/29 [==============================] - 0s 2ms/step - loss: 1672.1500 - val_loss: 1629.4767\n",
      "Epoch 137/500\n",
      "29/29 [==============================] - 0s 2ms/step - loss: 1664.1628 - val_loss: 1618.8752\n",
      "Epoch 138/500\n",
      "29/29 [==============================] - 0s 2ms/step - loss: 1655.3091 - val_loss: 1611.2952\n",
      "Epoch 139/500\n",
      "29/29 [==============================] - 0s 2ms/step - loss: 1644.3468 - val_loss: 1604.8483\n",
      "Epoch 140/500\n",
      "29/29 [==============================] - 0s 2ms/step - loss: 1637.0919 - val_loss: 1595.6746\n",
      "Epoch 141/500\n",
      "29/29 [==============================] - 0s 2ms/step - loss: 1627.4541 - val_loss: 1588.0542\n",
      "Epoch 142/500\n",
      "29/29 [==============================] - 0s 2ms/step - loss: 1618.4369 - val_loss: 1580.1470\n",
      "Epoch 143/500\n",
      "29/29 [==============================] - 0s 2ms/step - loss: 1610.8381 - val_loss: 1570.6910\n",
      "Epoch 144/500\n",
      "29/29 [==============================] - 0s 2ms/step - loss: 1600.1383 - val_loss: 1561.9912\n",
      "Epoch 145/500\n",
      "29/29 [==============================] - 0s 2ms/step - loss: 1594.8174 - val_loss: 1554.7769\n",
      "Epoch 146/500\n",
      "29/29 [==============================] - 0s 2ms/step - loss: 1585.6041 - val_loss: 1547.7676\n",
      "Epoch 147/500\n",
      "29/29 [==============================] - 0s 2ms/step - loss: 1579.5187 - val_loss: 1539.9478\n",
      "Epoch 148/500\n",
      "29/29 [==============================] - 0s 2ms/step - loss: 1572.3177 - val_loss: 1529.5059\n",
      "Epoch 149/500\n",
      "29/29 [==============================] - 0s 2ms/step - loss: 1558.9054 - val_loss: 1523.2502\n",
      "Epoch 150/500\n",
      "29/29 [==============================] - 0s 2ms/step - loss: 1547.9381 - val_loss: 1512.0951\n",
      "Epoch 151/500\n",
      "29/29 [==============================] - 0s 2ms/step - loss: 1541.3676 - val_loss: 1503.1575\n",
      "Epoch 152/500\n",
      "29/29 [==============================] - 0s 2ms/step - loss: 1532.2068 - val_loss: 1496.6620\n",
      "Epoch 153/500\n",
      "29/29 [==============================] - 0s 2ms/step - loss: 1525.3075 - val_loss: 1487.5946\n",
      "Epoch 154/500\n",
      "29/29 [==============================] - 0s 2ms/step - loss: 1515.2986 - val_loss: 1476.1411\n"
     ]
    },
    {
     "name": "stdout",
     "output_type": "stream",
     "text": [
      "Epoch 155/500\n",
      "29/29 [==============================] - 0s 2ms/step - loss: 1505.0128 - val_loss: 1466.0360\n",
      "Epoch 156/500\n",
      "29/29 [==============================] - 0s 2ms/step - loss: 1492.6128 - val_loss: 1456.8221\n",
      "Epoch 157/500\n",
      "29/29 [==============================] - 0s 2ms/step - loss: 1484.3182 - val_loss: 1446.5420\n",
      "Epoch 158/500\n",
      "29/29 [==============================] - 0s 2ms/step - loss: 1477.1887 - val_loss: 1436.5127\n",
      "Epoch 159/500\n",
      "29/29 [==============================] - 0s 2ms/step - loss: 1465.6780 - val_loss: 1426.8562\n",
      "Epoch 160/500\n",
      "29/29 [==============================] - 0s 2ms/step - loss: 1457.5355 - val_loss: 1417.4078\n",
      "Epoch 161/500\n",
      "29/29 [==============================] - 0s 2ms/step - loss: 1441.7850 - val_loss: 1402.9016\n",
      "Epoch 162/500\n",
      "29/29 [==============================] - 0s 2ms/step - loss: 1426.9442 - val_loss: 1390.0265\n",
      "Epoch 163/500\n",
      "29/29 [==============================] - 0s 2ms/step - loss: 1414.2759 - val_loss: 1373.7329\n",
      "Epoch 164/500\n",
      "29/29 [==============================] - 0s 2ms/step - loss: 1396.8036 - val_loss: 1356.9331\n",
      "Epoch 165/500\n",
      "29/29 [==============================] - 0s 2ms/step - loss: 1378.9091 - val_loss: 1338.5544\n",
      "Epoch 166/500\n",
      "29/29 [==============================] - 0s 2ms/step - loss: 1359.7007 - val_loss: 1318.7910\n",
      "Epoch 167/500\n",
      "29/29 [==============================] - 0s 2ms/step - loss: 1337.9418 - val_loss: 1298.6337\n",
      "Epoch 168/500\n",
      "29/29 [==============================] - 0s 2ms/step - loss: 1314.6632 - val_loss: 1275.5598\n",
      "Epoch 169/500\n",
      "29/29 [==============================] - 0s 2ms/step - loss: 1292.6198 - val_loss: 1251.1434\n",
      "Epoch 170/500\n",
      "29/29 [==============================] - 0s 2ms/step - loss: 1259.3999 - val_loss: 1218.2181\n",
      "Epoch 171/500\n",
      "29/29 [==============================] - 0s 2ms/step - loss: 1225.0209 - val_loss: 1183.8191\n",
      "Epoch 172/500\n",
      "29/29 [==============================] - 0s 2ms/step - loss: 1194.2650 - val_loss: 1149.1698\n",
      "Epoch 173/500\n",
      "29/29 [==============================] - 0s 2ms/step - loss: 1149.2687 - val_loss: 1107.5542\n",
      "Epoch 174/500\n",
      "29/29 [==============================] - 0s 2ms/step - loss: 1108.8745 - val_loss: 1073.2456\n",
      "Epoch 175/500\n",
      "29/29 [==============================] - 0s 2ms/step - loss: 1075.2054 - val_loss: 1040.1162\n",
      "Epoch 176/500\n",
      "29/29 [==============================] - 0s 2ms/step - loss: 1040.9631 - val_loss: 1000.3627\n",
      "Epoch 177/500\n",
      "29/29 [==============================] - 0s 2ms/step - loss: 999.1376 - val_loss: 965.9015\n",
      "Epoch 178/500\n",
      "29/29 [==============================] - 0s 2ms/step - loss: 971.6220 - val_loss: 932.4820\n",
      "Epoch 179/500\n",
      "29/29 [==============================] - 0s 2ms/step - loss: 932.9908 - val_loss: 901.7393\n",
      "Epoch 180/500\n",
      "29/29 [==============================] - 0s 2ms/step - loss: 900.5031 - val_loss: 876.2381\n",
      "Epoch 181/500\n",
      "29/29 [==============================] - 0s 2ms/step - loss: 871.6708 - val_loss: 846.1494\n",
      "Epoch 182/500\n",
      "29/29 [==============================] - 0s 2ms/step - loss: 843.1437 - val_loss: 815.0063\n",
      "Epoch 183/500\n",
      "29/29 [==============================] - 0s 2ms/step - loss: 814.0231 - val_loss: 780.0133\n",
      "Epoch 184/500\n",
      "29/29 [==============================] - 0s 2ms/step - loss: 774.1247 - val_loss: 749.0770\n",
      "Epoch 185/500\n",
      "29/29 [==============================] - 0s 2ms/step - loss: 735.0358 - val_loss: 705.8914\n",
      "Epoch 186/500\n",
      "29/29 [==============================] - 0s 2ms/step - loss: 695.1627 - val_loss: 670.5178\n",
      "Epoch 187/500\n",
      "29/29 [==============================] - 0s 2ms/step - loss: 663.6866 - val_loss: 639.3227\n",
      "Epoch 188/500\n",
      "29/29 [==============================] - 0s 2ms/step - loss: 633.4484 - val_loss: 610.1326\n",
      "Epoch 189/500\n",
      "29/29 [==============================] - 0s 3ms/step - loss: 605.1595 - val_loss: 581.3477\n",
      "Epoch 190/500\n",
      "29/29 [==============================] - 0s 2ms/step - loss: 575.7662 - val_loss: 555.5105\n",
      "Epoch 191/500\n",
      "29/29 [==============================] - 0s 2ms/step - loss: 548.7015 - val_loss: 525.7522\n",
      "Epoch 192/500\n",
      "29/29 [==============================] - 0s 2ms/step - loss: 524.2369 - val_loss: 502.8933\n",
      "Epoch 193/500\n",
      "29/29 [==============================] - 0s 2ms/step - loss: 492.7981 - val_loss: 478.0665\n",
      "Epoch 194/500\n",
      "29/29 [==============================] - 0s 2ms/step - loss: 475.7260 - val_loss: 452.5691\n",
      "Epoch 195/500\n",
      "29/29 [==============================] - 0s 2ms/step - loss: 449.3507 - val_loss: 431.8635\n",
      "Epoch 196/500\n",
      "29/29 [==============================] - 0s 2ms/step - loss: 425.6744 - val_loss: 409.0060\n",
      "Epoch 197/500\n",
      "29/29 [==============================] - 0s 2ms/step - loss: 405.5102 - val_loss: 389.0089\n",
      "Epoch 198/500\n",
      "29/29 [==============================] - 0s 2ms/step - loss: 387.3344 - val_loss: 371.6466\n",
      "Epoch 199/500\n",
      "29/29 [==============================] - 0s 2ms/step - loss: 367.7505 - val_loss: 353.2279\n",
      "Epoch 200/500\n",
      "29/29 [==============================] - 0s 2ms/step - loss: 351.5587 - val_loss: 339.2303\n",
      "Epoch 201/500\n",
      "29/29 [==============================] - 0s 2ms/step - loss: 337.1705 - val_loss: 323.5843\n",
      "Epoch 202/500\n",
      "29/29 [==============================] - 0s 2ms/step - loss: 319.9609 - val_loss: 306.4915\n",
      "Epoch 203/500\n",
      "29/29 [==============================] - 0s 2ms/step - loss: 306.6046 - val_loss: 291.3258\n",
      "Epoch 204/500\n",
      "29/29 [==============================] - 0s 2ms/step - loss: 289.8302 - val_loss: 277.2600\n",
      "Epoch 205/500\n",
      "29/29 [==============================] - 0s 2ms/step - loss: 276.6482 - val_loss: 264.8674\n",
      "Epoch 206/500\n",
      "29/29 [==============================] - 0s 2ms/step - loss: 264.1466 - val_loss: 251.4142\n",
      "Epoch 207/500\n",
      "29/29 [==============================] - 0s 2ms/step - loss: 252.2347 - val_loss: 239.9847\n",
      "Epoch 208/500\n",
      "29/29 [==============================] - 0s 2ms/step - loss: 239.5468 - val_loss: 229.2788\n",
      "Epoch 209/500\n",
      "29/29 [==============================] - 0s 2ms/step - loss: 229.6301 - val_loss: 217.5616\n",
      "Epoch 210/500\n",
      "29/29 [==============================] - 0s 2ms/step - loss: 217.7574 - val_loss: 208.0984\n",
      "Epoch 211/500\n",
      "29/29 [==============================] - 0s 2ms/step - loss: 207.2361 - val_loss: 196.5622\n",
      "Epoch 212/500\n",
      "29/29 [==============================] - 0s 2ms/step - loss: 197.6992 - val_loss: 186.5964\n",
      "Epoch 213/500\n",
      "29/29 [==============================] - 0s 2ms/step - loss: 187.8483 - val_loss: 177.3492\n",
      "Epoch 214/500\n",
      "29/29 [==============================] - 0s 2ms/step - loss: 178.4230 - val_loss: 168.3345\n",
      "Epoch 215/500\n",
      "29/29 [==============================] - 0s 2ms/step - loss: 168.9404 - val_loss: 159.8654\n",
      "Epoch 216/500\n",
      "29/29 [==============================] - 0s 2ms/step - loss: 161.2859 - val_loss: 151.6860\n",
      "Epoch 217/500\n",
      "29/29 [==============================] - 0s 2ms/step - loss: 153.0176 - val_loss: 143.8592\n",
      "Epoch 218/500\n",
      "29/29 [==============================] - 0s 2ms/step - loss: 145.4384 - val_loss: 136.5694\n",
      "Epoch 219/500\n",
      "29/29 [==============================] - 0s 2ms/step - loss: 137.7435 - val_loss: 128.5057\n",
      "Epoch 220/500\n",
      "29/29 [==============================] - 0s 2ms/step - loss: 128.6652 - val_loss: 120.2462\n",
      "Epoch 221/500\n",
      "29/29 [==============================] - 0s 2ms/step - loss: 119.9827 - val_loss: 113.4152\n",
      "Epoch 222/500\n",
      "29/29 [==============================] - 0s 2ms/step - loss: 113.0893 - val_loss: 106.3489\n",
      "Epoch 223/500\n",
      "29/29 [==============================] - 0s 2ms/step - loss: 106.6412 - val_loss: 100.3555\n",
      "Epoch 224/500\n",
      "29/29 [==============================] - 0s 2ms/step - loss: 101.0088 - val_loss: 97.1008\n",
      "Epoch 225/500\n",
      "29/29 [==============================] - 0s 2ms/step - loss: 95.8039 - val_loss: 90.0962\n",
      "Epoch 226/500\n",
      "29/29 [==============================] - 0s 2ms/step - loss: 89.8065 - val_loss: 84.4706\n",
      "Epoch 227/500\n",
      "29/29 [==============================] - 0s 2ms/step - loss: 84.9189 - val_loss: 81.4647\n",
      "Epoch 228/500\n",
      "29/29 [==============================] - 0s 2ms/step - loss: 79.3785 - val_loss: 75.4219\n",
      "Epoch 229/500\n",
      "29/29 [==============================] - 0s 2ms/step - loss: 74.5730 - val_loss: 70.9556\n",
      "Epoch 230/500\n",
      "29/29 [==============================] - 0s 2ms/step - loss: 69.1378 - val_loss: 65.5493\n",
      "Epoch 231/500\n",
      "29/29 [==============================] - 0s 2ms/step - loss: 64.5148 - val_loss: 61.4262\n",
      "Epoch 232/500\n",
      "29/29 [==============================] - 0s 2ms/step - loss: 60.5587 - val_loss: 57.6307\n"
     ]
    },
    {
     "name": "stdout",
     "output_type": "stream",
     "text": [
      "Epoch 233/500\n",
      "29/29 [==============================] - 0s 2ms/step - loss: 56.9321 - val_loss: 53.9694\n",
      "Epoch 234/500\n",
      "29/29 [==============================] - 0s 2ms/step - loss: 53.4605 - val_loss: 51.1045\n",
      "Epoch 235/500\n",
      "29/29 [==============================] - 0s 2ms/step - loss: 50.4381 - val_loss: 48.5109\n",
      "Epoch 236/500\n",
      "29/29 [==============================] - 0s 2ms/step - loss: 47.8236 - val_loss: 46.3448\n",
      "Epoch 237/500\n",
      "29/29 [==============================] - 0s 2ms/step - loss: 45.3790 - val_loss: 44.4951\n",
      "Epoch 238/500\n",
      "29/29 [==============================] - 0s 2ms/step - loss: 43.4247 - val_loss: 41.6439\n",
      "Epoch 239/500\n",
      "29/29 [==============================] - 0s 2ms/step - loss: 41.5050 - val_loss: 39.4247\n",
      "Epoch 240/500\n",
      "29/29 [==============================] - 0s 2ms/step - loss: 39.2971 - val_loss: 37.6727\n",
      "Epoch 241/500\n",
      "29/29 [==============================] - 0s 2ms/step - loss: 37.1842 - val_loss: 36.4948\n",
      "Epoch 242/500\n",
      "29/29 [==============================] - 0s 2ms/step - loss: 35.5593 - val_loss: 35.1656\n",
      "Epoch 243/500\n",
      "29/29 [==============================] - 0s 2ms/step - loss: 34.0503 - val_loss: 33.2802\n",
      "Epoch 244/500\n",
      "29/29 [==============================] - 0s 2ms/step - loss: 32.6054 - val_loss: 32.5410\n",
      "Epoch 245/500\n",
      "29/29 [==============================] - 0s 2ms/step - loss: 31.3238 - val_loss: 30.8825\n",
      "Epoch 246/500\n",
      "29/29 [==============================] - 0s 2ms/step - loss: 30.1632 - val_loss: 30.3420\n",
      "Epoch 247/500\n",
      "29/29 [==============================] - 0s 2ms/step - loss: 29.2305 - val_loss: 29.0697\n",
      "Epoch 248/500\n",
      "29/29 [==============================] - 0s 2ms/step - loss: 28.0647 - val_loss: 28.0097\n",
      "Epoch 249/500\n",
      "29/29 [==============================] - 0s 2ms/step - loss: 27.1572 - val_loss: 27.7819\n",
      "Epoch 250/500\n",
      "29/29 [==============================] - 0s 2ms/step - loss: 26.7175 - val_loss: 27.2423\n",
      "Epoch 251/500\n",
      "29/29 [==============================] - 0s 2ms/step - loss: 25.8119 - val_loss: 25.8064\n",
      "Epoch 252/500\n",
      "29/29 [==============================] - 0s 2ms/step - loss: 25.2271 - val_loss: 25.6091\n",
      "Epoch 253/500\n",
      "29/29 [==============================] - 0s 2ms/step - loss: 24.2878 - val_loss: 24.6659\n",
      "Epoch 254/500\n",
      "29/29 [==============================] - 0s 2ms/step - loss: 24.0785 - val_loss: 25.1001\n",
      "Epoch 255/500\n",
      "29/29 [==============================] - 0s 2ms/step - loss: 23.7014 - val_loss: 23.6226\n",
      "Epoch 256/500\n",
      "29/29 [==============================] - 0s 2ms/step - loss: 22.8632 - val_loss: 23.8926\n",
      "Epoch 257/500\n",
      "29/29 [==============================] - 0s 2ms/step - loss: 22.4432 - val_loss: 23.6214\n",
      "Epoch 258/500\n",
      "29/29 [==============================] - 0s 2ms/step - loss: 21.9299 - val_loss: 23.1070\n",
      "Epoch 259/500\n",
      "29/29 [==============================] - 0s 2ms/step - loss: 21.4059 - val_loss: 22.6005\n",
      "Epoch 260/500\n",
      "29/29 [==============================] - 0s 2ms/step - loss: 20.8614 - val_loss: 21.6509\n",
      "Epoch 261/500\n",
      "29/29 [==============================] - 0s 2ms/step - loss: 21.1227 - val_loss: 21.7587\n",
      "Epoch 262/500\n",
      "29/29 [==============================] - 0s 2ms/step - loss: 20.5699 - val_loss: 21.1922\n",
      "Epoch 263/500\n",
      "29/29 [==============================] - 0s 2ms/step - loss: 19.9072 - val_loss: 21.9885\n",
      "Epoch 264/500\n",
      "29/29 [==============================] - 0s 2ms/step - loss: 19.9032 - val_loss: 21.0317\n",
      "Epoch 265/500\n",
      "29/29 [==============================] - 0s 2ms/step - loss: 19.6214 - val_loss: 20.6993\n",
      "Epoch 266/500\n",
      "29/29 [==============================] - 0s 2ms/step - loss: 19.5940 - val_loss: 20.7963\n",
      "Epoch 267/500\n",
      "29/29 [==============================] - 0s 2ms/step - loss: 19.4234 - val_loss: 21.7482\n",
      "Epoch 268/500\n",
      "29/29 [==============================] - 0s 2ms/step - loss: 19.4985 - val_loss: 20.7438\n",
      "Epoch 269/500\n",
      "29/29 [==============================] - 0s 2ms/step - loss: 19.2136 - val_loss: 20.1198\n",
      "Epoch 270/500\n",
      "29/29 [==============================] - 0s 2ms/step - loss: 19.3468 - val_loss: 20.1129\n",
      "Epoch 271/500\n",
      "29/29 [==============================] - 0s 2ms/step - loss: 19.0109 - val_loss: 21.1430\n",
      "Epoch 272/500\n",
      "29/29 [==============================] - 0s 2ms/step - loss: 18.9419 - val_loss: 19.6646\n",
      "Epoch 273/500\n",
      "29/29 [==============================] - 0s 2ms/step - loss: 18.6107 - val_loss: 19.1083\n",
      "Epoch 274/500\n",
      "29/29 [==============================] - 0s 2ms/step - loss: 18.9934 - val_loss: 21.2590\n",
      "Epoch 275/500\n",
      "29/29 [==============================] - 0s 2ms/step - loss: 18.8064 - val_loss: 20.0726\n",
      "Epoch 276/500\n",
      "29/29 [==============================] - 0s 3ms/step - loss: 18.5871 - val_loss: 20.8617\n",
      "Epoch 277/500\n",
      "29/29 [==============================] - 0s 2ms/step - loss: 18.5612 - val_loss: 19.4336\n",
      "Epoch 278/500\n",
      "29/29 [==============================] - 0s 2ms/step - loss: 18.3006 - val_loss: 18.8444\n",
      "Epoch 279/500\n",
      "29/29 [==============================] - 0s 2ms/step - loss: 18.9697 - val_loss: 18.6766\n",
      "Epoch 280/500\n",
      "29/29 [==============================] - 0s 2ms/step - loss: 18.5699 - val_loss: 18.9521\n",
      "Epoch 281/500\n",
      "29/29 [==============================] - 0s 2ms/step - loss: 18.3491 - val_loss: 18.8223\n",
      "Epoch 282/500\n",
      "29/29 [==============================] - 0s 2ms/step - loss: 18.6661 - val_loss: 18.7358\n",
      "Epoch 283/500\n",
      "29/29 [==============================] - 0s 2ms/step - loss: 18.0642 - val_loss: 20.0992\n",
      "Epoch 284/500\n",
      "29/29 [==============================] - 0s 2ms/step - loss: 18.7302 - val_loss: 18.4016\n",
      "Epoch 285/500\n",
      "29/29 [==============================] - 0s 4ms/step - loss: 17.9935 - val_loss: 18.2180\n",
      "Epoch 286/500\n",
      "29/29 [==============================] - 0s 3ms/step - loss: 18.1533 - val_loss: 19.6908\n",
      "Epoch 287/500\n",
      "29/29 [==============================] - 0s 4ms/step - loss: 18.2330 - val_loss: 20.1878\n",
      "Epoch 288/500\n",
      "29/29 [==============================] - 0s 4ms/step - loss: 18.5984 - val_loss: 18.4714\n",
      "Epoch 289/500\n",
      "29/29 [==============================] - 0s 4ms/step - loss: 18.3302 - val_loss: 18.8091\n",
      "Epoch 290/500\n",
      "29/29 [==============================] - 0s 4ms/step - loss: 18.0836 - val_loss: 17.8122\n",
      "Epoch 291/500\n",
      "29/29 [==============================] - 0s 3ms/step - loss: 17.9002 - val_loss: 18.7140\n",
      "Epoch 292/500\n",
      "29/29 [==============================] - 0s 3ms/step - loss: 17.8751 - val_loss: 18.6179\n",
      "Epoch 293/500\n",
      "29/29 [==============================] - 0s 4ms/step - loss: 17.6829 - val_loss: 17.9311\n",
      "Epoch 294/500\n",
      "29/29 [==============================] - 0s 3ms/step - loss: 18.0311 - val_loss: 17.5720\n",
      "Epoch 295/500\n",
      "29/29 [==============================] - 0s 3ms/step - loss: 18.6887 - val_loss: 17.4189\n",
      "Epoch 296/500\n",
      "29/29 [==============================] - 0s 3ms/step - loss: 18.7427 - val_loss: 20.7079\n",
      "Epoch 297/500\n",
      "29/29 [==============================] - 0s 5ms/step - loss: 18.0895 - val_loss: 17.6063\n",
      "Epoch 298/500\n",
      "29/29 [==============================] - 0s 4ms/step - loss: 17.9194 - val_loss: 17.4432\n",
      "Epoch 299/500\n",
      "29/29 [==============================] - 0s 4ms/step - loss: 17.7034 - val_loss: 18.4634\n",
      "Epoch 300/500\n",
      "29/29 [==============================] - 0s 3ms/step - loss: 17.8717 - val_loss: 17.4667\n",
      "Epoch 301/500\n",
      "29/29 [==============================] - 0s 2ms/step - loss: 17.6347 - val_loss: 17.2180\n",
      "Epoch 302/500\n",
      "29/29 [==============================] - 0s 2ms/step - loss: 17.5306 - val_loss: 17.7721\n",
      "Epoch 303/500\n",
      "29/29 [==============================] - 0s 2ms/step - loss: 17.8873 - val_loss: 18.7168\n",
      "Epoch 304/500\n",
      "29/29 [==============================] - 0s 2ms/step - loss: 17.8128 - val_loss: 16.9673\n",
      "Epoch 305/500\n",
      "29/29 [==============================] - 0s 2ms/step - loss: 18.0849 - val_loss: 16.9721\n",
      "Epoch 306/500\n",
      "29/29 [==============================] - 0s 2ms/step - loss: 17.5866 - val_loss: 17.6458\n",
      "Epoch 307/500\n",
      "29/29 [==============================] - 0s 2ms/step - loss: 17.5209 - val_loss: 16.9351\n",
      "Epoch 308/500\n",
      "29/29 [==============================] - 0s 2ms/step - loss: 17.8567 - val_loss: 16.8761\n",
      "Epoch 309/500\n",
      "29/29 [==============================] - 0s 2ms/step - loss: 17.6754 - val_loss: 17.2086\n",
      "Epoch 310/500\n",
      "29/29 [==============================] - 0s 2ms/step - loss: 17.4810 - val_loss: 17.0167\n",
      "Epoch 311/500\n",
      "29/29 [==============================] - 0s 2ms/step - loss: 17.8733 - val_loss: 17.9611\n",
      "Epoch 312/500\n"
     ]
    },
    {
     "name": "stdout",
     "output_type": "stream",
     "text": [
      "29/29 [==============================] - 0s 2ms/step - loss: 17.7571 - val_loss: 19.0025\n",
      "Epoch 313/500\n",
      "29/29 [==============================] - 0s 2ms/step - loss: 18.0235 - val_loss: 18.8975\n",
      "Epoch 314/500\n",
      "29/29 [==============================] - 0s 2ms/step - loss: 17.6255 - val_loss: 16.6592\n",
      "Epoch 315/500\n",
      "29/29 [==============================] - 0s 2ms/step - loss: 17.5308 - val_loss: 17.1313\n",
      "Epoch 316/500\n",
      "29/29 [==============================] - 0s 2ms/step - loss: 18.0941 - val_loss: 16.7291\n",
      "Epoch 317/500\n",
      "29/29 [==============================] - 0s 2ms/step - loss: 17.7471 - val_loss: 16.5413\n",
      "Epoch 318/500\n",
      "29/29 [==============================] - 0s 2ms/step - loss: 17.9876 - val_loss: 16.4020\n",
      "Epoch 319/500\n",
      "29/29 [==============================] - 0s 2ms/step - loss: 17.4153 - val_loss: 17.9220\n",
      "Epoch 320/500\n",
      "29/29 [==============================] - 0s 2ms/step - loss: 17.1968 - val_loss: 16.6239\n",
      "Epoch 321/500\n",
      "29/29 [==============================] - 0s 2ms/step - loss: 18.0041 - val_loss: 16.3376\n",
      "Epoch 322/500\n",
      "29/29 [==============================] - 0s 2ms/step - loss: 17.4362 - val_loss: 16.7978\n",
      "Epoch 323/500\n",
      "29/29 [==============================] - 0s 2ms/step - loss: 17.8282 - val_loss: 16.8197\n",
      "Epoch 324/500\n",
      "29/29 [==============================] - 0s 2ms/step - loss: 17.3694 - val_loss: 17.0450\n",
      "Epoch 325/500\n",
      "29/29 [==============================] - 0s 2ms/step - loss: 17.5492 - val_loss: 16.9879\n",
      "Epoch 326/500\n",
      "29/29 [==============================] - 0s 2ms/step - loss: 17.4463 - val_loss: 16.2271\n",
      "Epoch 327/500\n",
      "29/29 [==============================] - 0s 2ms/step - loss: 17.4802 - val_loss: 16.2288\n",
      "Epoch 328/500\n",
      "29/29 [==============================] - 0s 2ms/step - loss: 17.3261 - val_loss: 16.6351\n",
      "Epoch 329/500\n",
      "29/29 [==============================] - 0s 2ms/step - loss: 17.3987 - val_loss: 16.1726\n",
      "Epoch 330/500\n",
      "29/29 [==============================] - 0s 2ms/step - loss: 17.1522 - val_loss: 17.3692\n",
      "Epoch 331/500\n",
      "29/29 [==============================] - 0s 2ms/step - loss: 17.8420 - val_loss: 17.1894\n",
      "Epoch 332/500\n",
      "29/29 [==============================] - 0s 3ms/step - loss: 17.6668 - val_loss: 16.0787\n",
      "Epoch 333/500\n",
      "29/29 [==============================] - 0s 3ms/step - loss: 18.1500 - val_loss: 19.4780\n",
      "Epoch 334/500\n",
      "29/29 [==============================] - 0s 4ms/step - loss: 18.4996 - val_loss: 18.8534\n",
      "Epoch 335/500\n",
      "29/29 [==============================] - 0s 3ms/step - loss: 18.1742 - val_loss: 20.7727\n",
      "Epoch 336/500\n",
      "29/29 [==============================] - 0s 3ms/step - loss: 17.8034 - val_loss: 16.5180\n",
      "Epoch 337/500\n",
      "29/29 [==============================] - 0s 4ms/step - loss: 17.4034 - val_loss: 16.3905\n",
      "Epoch 338/500\n",
      "29/29 [==============================] - 0s 2ms/step - loss: 17.3797 - val_loss: 16.1435\n",
      "Epoch 339/500\n",
      "29/29 [==============================] - 0s 4ms/step - loss: 17.6080 - val_loss: 16.3229\n",
      "Epoch 340/500\n",
      "29/29 [==============================] - 0s 5ms/step - loss: 17.7861 - val_loss: 16.4394\n",
      "Epoch 341/500\n",
      "29/29 [==============================] - 0s 4ms/step - loss: 17.8952 - val_loss: 16.0253\n",
      "Epoch 342/500\n",
      "29/29 [==============================] - 0s 5ms/step - loss: 17.5588 - val_loss: 16.6638\n",
      "Epoch 343/500\n",
      "29/29 [==============================] - 0s 3ms/step - loss: 18.0821 - val_loss: 16.1166\n",
      "Epoch 344/500\n",
      "29/29 [==============================] - 0s 3ms/step - loss: 17.5127 - val_loss: 15.8364\n",
      "Epoch 345/500\n",
      "29/29 [==============================] - 0s 3ms/step - loss: 17.3321 - val_loss: 16.3638\n",
      "Epoch 346/500\n",
      "29/29 [==============================] - 0s 4ms/step - loss: 17.8329 - val_loss: 17.2628\n",
      "Epoch 347/500\n",
      "29/29 [==============================] - 0s 4ms/step - loss: 17.7996 - val_loss: 16.7830\n",
      "Epoch 348/500\n",
      "29/29 [==============================] - 0s 4ms/step - loss: 17.7009 - val_loss: 18.2960\n",
      "Epoch 349/500\n",
      "29/29 [==============================] - 0s 3ms/step - loss: 18.2437 - val_loss: 17.4240\n",
      "Epoch 350/500\n",
      "29/29 [==============================] - 0s 3ms/step - loss: 17.7235 - val_loss: 18.1382\n",
      "Epoch 351/500\n",
      "29/29 [==============================] - 0s 3ms/step - loss: 17.3375 - val_loss: 16.2806\n",
      "Epoch 352/500\n",
      "29/29 [==============================] - 0s 3ms/step - loss: 17.4477 - val_loss: 15.9449\n",
      "Epoch 353/500\n",
      "29/29 [==============================] - 0s 3ms/step - loss: 17.5547 - val_loss: 16.7727\n",
      "Epoch 354/500\n",
      "29/29 [==============================] - 0s 3ms/step - loss: 17.3779 - val_loss: 15.8782\n",
      "Epoch 355/500\n",
      "29/29 [==============================] - 0s 3ms/step - loss: 17.6296 - val_loss: 18.1183\n",
      "Epoch 356/500\n",
      "29/29 [==============================] - 0s 3ms/step - loss: 17.5052 - val_loss: 17.5662\n",
      "Epoch 357/500\n",
      "29/29 [==============================] - 0s 3ms/step - loss: 17.8291 - val_loss: 17.0425\n",
      "Epoch 358/500\n",
      "29/29 [==============================] - 0s 4ms/step - loss: 17.1663 - val_loss: 15.5858\n",
      "Epoch 359/500\n",
      "29/29 [==============================] - 0s 3ms/step - loss: 17.3626 - val_loss: 15.8445\n",
      "Epoch 360/500\n",
      "29/29 [==============================] - 0s 5ms/step - loss: 18.3089 - val_loss: 16.0522\n",
      "Epoch 361/500\n",
      "29/29 [==============================] - 0s 4ms/step - loss: 17.1081 - val_loss: 17.4885\n",
      "Epoch 362/500\n",
      "29/29 [==============================] - 0s 4ms/step - loss: 17.7302 - val_loss: 15.8205\n",
      "Epoch 363/500\n",
      "29/29 [==============================] - 0s 4ms/step - loss: 17.2077 - val_loss: 17.0977\n",
      "Epoch 364/500\n",
      "29/29 [==============================] - 0s 3ms/step - loss: 17.6631 - val_loss: 15.6670\n",
      "Epoch 365/500\n",
      "29/29 [==============================] - 0s 3ms/step - loss: 17.6273 - val_loss: 17.6283\n",
      "Epoch 366/500\n",
      "29/29 [==============================] - 0s 3ms/step - loss: 17.4784 - val_loss: 17.8379\n",
      "Epoch 367/500\n",
      "29/29 [==============================] - 0s 3ms/step - loss: 18.0869 - val_loss: 16.9363\n",
      "Epoch 368/500\n",
      "29/29 [==============================] - 0s 4ms/step - loss: 17.7270 - val_loss: 16.1686\n",
      "Epoch 369/500\n",
      "29/29 [==============================] - 0s 3ms/step - loss: 17.2775 - val_loss: 16.1366\n",
      "Epoch 370/500\n",
      "29/29 [==============================] - 0s 4ms/step - loss: 17.4714 - val_loss: 15.9818\n",
      "Epoch 371/500\n",
      "29/29 [==============================] - 0s 4ms/step - loss: 17.3665 - val_loss: 16.3801\n",
      "Epoch 372/500\n",
      "29/29 [==============================] - 0s 4ms/step - loss: 17.2922 - val_loss: 15.6373\n",
      "Epoch 373/500\n",
      "29/29 [==============================] - 0s 2ms/step - loss: 17.7193 - val_loss: 15.6597\n",
      "Epoch 374/500\n",
      "29/29 [==============================] - 0s 4ms/step - loss: 17.1562 - val_loss: 17.7680\n",
      "Epoch 375/500\n",
      "29/29 [==============================] - 0s 5ms/step - loss: 17.9772 - val_loss: 18.5823\n",
      "Epoch 376/500\n",
      "29/29 [==============================] - 0s 4ms/step - loss: 17.3486 - val_loss: 16.1340\n",
      "Epoch 377/500\n",
      "29/29 [==============================] - 0s 4ms/step - loss: 17.2637 - val_loss: 17.5924\n",
      "Epoch 378/500\n",
      "29/29 [==============================] - 0s 3ms/step - loss: 17.9949 - val_loss: 16.1417\n",
      "Epoch 379/500\n",
      "29/29 [==============================] - 0s 4ms/step - loss: 17.6253 - val_loss: 16.1822\n",
      "Epoch 380/500\n",
      "29/29 [==============================] - 0s 4ms/step - loss: 17.4515 - val_loss: 16.4595\n",
      "Epoch 381/500\n",
      "29/29 [==============================] - 0s 3ms/step - loss: 17.5017 - val_loss: 16.4266\n",
      "Epoch 382/500\n",
      "29/29 [==============================] - 0s 2ms/step - loss: 17.2411 - val_loss: 16.1279\n",
      "Epoch 383/500\n",
      "29/29 [==============================] - 0s 2ms/step - loss: 18.9182 - val_loss: 15.9655\n",
      "Epoch 384/500\n",
      "29/29 [==============================] - 0s 2ms/step - loss: 17.8275 - val_loss: 16.1577\n",
      "Epoch 385/500\n",
      "29/29 [==============================] - 0s 2ms/step - loss: 17.0122 - val_loss: 23.8795\n",
      "Epoch 386/500\n",
      "29/29 [==============================] - 0s 2ms/step - loss: 19.3634 - val_loss: 18.5847\n",
      "Epoch 387/500\n",
      "29/29 [==============================] - 0s 2ms/step - loss: 17.8515 - val_loss: 16.6720\n",
      "Epoch 388/500\n",
      "29/29 [==============================] - 0s 4ms/step - loss: 17.3879 - val_loss: 15.8765\n",
      "Epoch 389/500\n",
      "29/29 [==============================] - 0s 4ms/step - loss: 17.3330 - val_loss: 15.9834\n",
      "Epoch 390/500\n",
      "29/29 [==============================] - 0s 3ms/step - loss: 17.5334 - val_loss: 16.0754\n",
      "Epoch 391/500\n"
     ]
    },
    {
     "name": "stdout",
     "output_type": "stream",
     "text": [
      "29/29 [==============================] - 0s 4ms/step - loss: 17.3984 - val_loss: 15.9580\n",
      "Epoch 392/500\n",
      "29/29 [==============================] - 0s 4ms/step - loss: 17.9047 - val_loss: 15.8005\n",
      "Epoch 393/500\n",
      "29/29 [==============================] - 0s 4ms/step - loss: 18.7481 - val_loss: 16.5214\n",
      "Epoch 394/500\n",
      "29/29 [==============================] - 0s 3ms/step - loss: 17.7653 - val_loss: 16.3049\n",
      "Epoch 395/500\n",
      "29/29 [==============================] - 0s 4ms/step - loss: 17.7688 - val_loss: 16.2761\n",
      "Epoch 396/500\n",
      "29/29 [==============================] - 0s 2ms/step - loss: 18.4593 - val_loss: 16.0938\n",
      "Epoch 397/500\n",
      "29/29 [==============================] - 0s 3ms/step - loss: 18.9913 - val_loss: 15.9118\n",
      "Epoch 398/500\n",
      "29/29 [==============================] - 0s 4ms/step - loss: 17.1586 - val_loss: 15.9712\n",
      "Epoch 399/500\n",
      "29/29 [==============================] - 0s 4ms/step - loss: 17.7834 - val_loss: 16.7535\n",
      "Epoch 400/500\n",
      "29/29 [==============================] - 0s 5ms/step - loss: 17.5290 - val_loss: 16.5813\n",
      "Epoch 401/500\n",
      "29/29 [==============================] - 0s 3ms/step - loss: 17.1377 - val_loss: 17.3046\n",
      "Epoch 402/500\n",
      "29/29 [==============================] - 0s 3ms/step - loss: 17.6246 - val_loss: 15.8190\n",
      "Epoch 403/500\n",
      "29/29 [==============================] - 0s 5ms/step - loss: 17.5288 - val_loss: 16.9496\n",
      "Epoch 404/500\n",
      "29/29 [==============================] - 0s 3ms/step - loss: 17.7985 - val_loss: 16.6885\n",
      "Epoch 405/500\n",
      "29/29 [==============================] - 0s 2ms/step - loss: 17.4265 - val_loss: 16.2660\n",
      "Epoch 406/500\n",
      "29/29 [==============================] - 0s 2ms/step - loss: 17.4365 - val_loss: 15.8378\n",
      "Epoch 407/500\n",
      "29/29 [==============================] - 0s 3ms/step - loss: 17.9267 - val_loss: 15.9288\n",
      "Epoch 408/500\n",
      "29/29 [==============================] - 0s 4ms/step - loss: 17.6135 - val_loss: 15.7168\n",
      "Epoch 409/500\n",
      "29/29 [==============================] - 0s 4ms/step - loss: 17.4065 - val_loss: 15.8417\n",
      "Epoch 410/500\n",
      "29/29 [==============================] - 0s 4ms/step - loss: 17.4054 - val_loss: 16.0289\n",
      "Epoch 411/500\n",
      "29/29 [==============================] - 0s 4ms/step - loss: 17.3723 - val_loss: 18.5204\n",
      "Epoch 412/500\n",
      "29/29 [==============================] - 0s 4ms/step - loss: 18.0485 - val_loss: 16.9475\n",
      "Epoch 413/500\n",
      "29/29 [==============================] - 0s 4ms/step - loss: 17.3792 - val_loss: 15.5321\n",
      "Epoch 414/500\n",
      "29/29 [==============================] - 0s 3ms/step - loss: 17.4826 - val_loss: 15.7745\n",
      "Epoch 415/500\n",
      "29/29 [==============================] - 0s 2ms/step - loss: 17.3436 - val_loss: 18.5842\n",
      "Epoch 416/500\n",
      "29/29 [==============================] - 0s 2ms/step - loss: 17.5979 - val_loss: 16.1178\n",
      "Epoch 417/500\n",
      "29/29 [==============================] - 0s 2ms/step - loss: 17.4140 - val_loss: 15.8292\n",
      "Epoch 418/500\n",
      "29/29 [==============================] - 0s 2ms/step - loss: 17.4097 - val_loss: 15.8658\n",
      "Epoch 419/500\n",
      "29/29 [==============================] - 0s 2ms/step - loss: 17.3174 - val_loss: 15.7972\n",
      "Epoch 420/500\n",
      "29/29 [==============================] - 0s 3ms/step - loss: 17.2884 - val_loss: 15.7594\n",
      "Epoch 421/500\n",
      "29/29 [==============================] - 0s 3ms/step - loss: 17.6511 - val_loss: 15.6920\n",
      "Epoch 422/500\n",
      "29/29 [==============================] - 0s 3ms/step - loss: 17.3276 - val_loss: 15.6673\n",
      "Epoch 423/500\n",
      "29/29 [==============================] - 0s 3ms/step - loss: 17.4439 - val_loss: 15.9124\n",
      "Epoch 424/500\n",
      "29/29 [==============================] - 0s 4ms/step - loss: 18.3875 - val_loss: 16.7446\n",
      "Epoch 425/500\n",
      "29/29 [==============================] - 0s 4ms/step - loss: 17.3280 - val_loss: 16.9283\n",
      "Epoch 426/500\n",
      "29/29 [==============================] - 0s 3ms/step - loss: 17.8549 - val_loss: 17.4705\n",
      "Epoch 427/500\n",
      "29/29 [==============================] - 0s 4ms/step - loss: 17.1518 - val_loss: 15.6975\n",
      "Epoch 428/500\n",
      "29/29 [==============================] - 0s 3ms/step - loss: 17.0617 - val_loss: 15.7257\n",
      "Epoch 429/500\n",
      "29/29 [==============================] - 0s 4ms/step - loss: 17.4740 - val_loss: 17.1121\n",
      "Epoch 430/500\n",
      "29/29 [==============================] - 0s 3ms/step - loss: 17.4678 - val_loss: 16.5962\n",
      "Epoch 431/500\n",
      "29/29 [==============================] - 0s 3ms/step - loss: 17.4225 - val_loss: 17.1647\n",
      "Epoch 432/500\n",
      "29/29 [==============================] - 0s 4ms/step - loss: 17.8650 - val_loss: 17.2543\n",
      "Epoch 433/500\n",
      "29/29 [==============================] - 0s 4ms/step - loss: 17.4791 - val_loss: 15.7732\n",
      "Epoch 434/500\n",
      "29/29 [==============================] - 0s 5ms/step - loss: 17.5232 - val_loss: 16.0215\n",
      "Epoch 435/500\n",
      "29/29 [==============================] - 0s 4ms/step - loss: 17.3800 - val_loss: 15.7658\n",
      "Epoch 436/500\n",
      "29/29 [==============================] - 0s 4ms/step - loss: 17.3965 - val_loss: 16.5173\n",
      "Epoch 437/500\n",
      "29/29 [==============================] - 0s 4ms/step - loss: 18.0812 - val_loss: 17.7808\n",
      "Epoch 438/500\n",
      "29/29 [==============================] - 0s 3ms/step - loss: 17.4383 - val_loss: 15.8343\n",
      "Epoch 439/500\n",
      "29/29 [==============================] - 0s 4ms/step - loss: 18.1353 - val_loss: 16.1061\n",
      "Epoch 440/500\n",
      "29/29 [==============================] - 0s 4ms/step - loss: 17.5727 - val_loss: 16.3853\n",
      "Epoch 441/500\n",
      "29/29 [==============================] - 0s 4ms/step - loss: 17.8507 - val_loss: 15.7230\n",
      "Epoch 442/500\n",
      "29/29 [==============================] - 0s 5ms/step - loss: 17.6459 - val_loss: 16.7063\n",
      "Epoch 443/500\n",
      "29/29 [==============================] - 0s 4ms/step - loss: 17.3643 - val_loss: 16.8253\n",
      "Epoch 444/500\n",
      "29/29 [==============================] - 0s 3ms/step - loss: 17.4411 - val_loss: 18.3120\n",
      "Epoch 445/500\n",
      "29/29 [==============================] - 0s 4ms/step - loss: 17.7453 - val_loss: 16.7892\n",
      "Epoch 446/500\n",
      "29/29 [==============================] - 0s 5ms/step - loss: 17.5330 - val_loss: 17.5112\n",
      "Epoch 447/500\n",
      "29/29 [==============================] - 0s 3ms/step - loss: 17.2018 - val_loss: 16.3256\n",
      "Epoch 448/500\n",
      "29/29 [==============================] - 0s 2ms/step - loss: 17.3108 - val_loss: 17.2527\n",
      "Epoch 449/500\n",
      "29/29 [==============================] - 0s 3ms/step - loss: 17.3740 - val_loss: 16.2865\n",
      "Epoch 450/500\n",
      "29/29 [==============================] - 0s 2ms/step - loss: 17.5464 - val_loss: 15.4429\n",
      "Epoch 451/500\n",
      "29/29 [==============================] - 0s 2ms/step - loss: 17.5170 - val_loss: 15.6875\n",
      "Epoch 452/500\n",
      "29/29 [==============================] - 0s 3ms/step - loss: 17.3251 - val_loss: 16.2356\n",
      "Epoch 453/500\n",
      "29/29 [==============================] - 0s 2ms/step - loss: 17.3362 - val_loss: 16.6212\n",
      "Epoch 454/500\n",
      "29/29 [==============================] - 0s 3ms/step - loss: 17.3545 - val_loss: 15.7839\n",
      "Epoch 455/500\n",
      "29/29 [==============================] - 0s 2ms/step - loss: 17.3877 - val_loss: 16.0129\n",
      "Epoch 456/500\n",
      "29/29 [==============================] - 0s 2ms/step - loss: 17.3188 - val_loss: 17.2481\n",
      "Epoch 457/500\n",
      "29/29 [==============================] - 0s 4ms/step - loss: 17.9222 - val_loss: 15.9702\n",
      "Epoch 458/500\n",
      "29/29 [==============================] - 0s 3ms/step - loss: 17.5938 - val_loss: 15.7058\n",
      "Epoch 459/500\n",
      "29/29 [==============================] - 0s 3ms/step - loss: 17.5482 - val_loss: 15.7132\n",
      "Epoch 460/500\n",
      "29/29 [==============================] - 0s 2ms/step - loss: 17.2489 - val_loss: 15.9598\n",
      "Epoch 461/500\n",
      "29/29 [==============================] - 0s 2ms/step - loss: 17.3194 - val_loss: 16.0352\n",
      "Epoch 462/500\n",
      "29/29 [==============================] - 0s 3ms/step - loss: 17.3768 - val_loss: 15.5711\n",
      "Epoch 463/500\n",
      "29/29 [==============================] - 0s 3ms/step - loss: 17.5299 - val_loss: 16.4697\n",
      "Epoch 464/500\n",
      "29/29 [==============================] - 0s 3ms/step - loss: 17.8863 - val_loss: 15.9032\n",
      "Epoch 465/500\n",
      "29/29 [==============================] - 0s 2ms/step - loss: 17.4759 - val_loss: 16.2002\n",
      "Epoch 466/500\n",
      "29/29 [==============================] - 0s 2ms/step - loss: 18.2521 - val_loss: 18.2898\n",
      "Epoch 467/500\n",
      "29/29 [==============================] - 0s 2ms/step - loss: 17.8029 - val_loss: 15.6768\n",
      "Epoch 468/500\n",
      "29/29 [==============================] - 0s 2ms/step - loss: 17.6012 - val_loss: 15.9359\n",
      "Epoch 469/500\n",
      "29/29 [==============================] - 0s 2ms/step - loss: 18.2822 - val_loss: 16.3793\n",
      "Epoch 470/500\n"
     ]
    },
    {
     "name": "stdout",
     "output_type": "stream",
     "text": [
      "29/29 [==============================] - 0s 3ms/step - loss: 17.8536 - val_loss: 15.6943\n",
      "Epoch 471/500\n",
      "29/29 [==============================] - 0s 2ms/step - loss: 17.3761 - val_loss: 15.6182\n",
      "Epoch 472/500\n",
      "29/29 [==============================] - 0s 3ms/step - loss: 17.3002 - val_loss: 16.7298\n",
      "Epoch 473/500\n",
      "29/29 [==============================] - 0s 3ms/step - loss: 17.4079 - val_loss: 15.9506\n",
      "Epoch 474/500\n",
      "29/29 [==============================] - 0s 3ms/step - loss: 17.2887 - val_loss: 15.8517\n",
      "Epoch 475/500\n",
      "29/29 [==============================] - 0s 3ms/step - loss: 17.2987 - val_loss: 15.6309\n",
      "Epoch 476/500\n",
      "29/29 [==============================] - 0s 3ms/step - loss: 17.6965 - val_loss: 16.2646\n",
      "Epoch 477/500\n",
      "29/29 [==============================] - 0s 2ms/step - loss: 17.2829 - val_loss: 15.7399\n",
      "Epoch 478/500\n",
      "29/29 [==============================] - 0s 2ms/step - loss: 17.3459 - val_loss: 16.4246\n",
      "Epoch 479/500\n",
      "29/29 [==============================] - 0s 2ms/step - loss: 17.6273 - val_loss: 15.9636\n",
      "Epoch 480/500\n",
      "29/29 [==============================] - 0s 3ms/step - loss: 17.6436 - val_loss: 15.7201\n",
      "Epoch 481/500\n",
      "29/29 [==============================] - 0s 3ms/step - loss: 17.0577 - val_loss: 17.0852\n",
      "Epoch 482/500\n",
      "29/29 [==============================] - 0s 3ms/step - loss: 17.3960 - val_loss: 16.1693\n",
      "Epoch 483/500\n",
      "29/29 [==============================] - 0s 3ms/step - loss: 18.0198 - val_loss: 15.8093\n",
      "Epoch 484/500\n",
      "29/29 [==============================] - 0s 3ms/step - loss: 17.4671 - val_loss: 16.2163\n",
      "Epoch 485/500\n",
      "29/29 [==============================] - 0s 3ms/step - loss: 17.9039 - val_loss: 15.7704\n",
      "Epoch 486/500\n",
      "29/29 [==============================] - 0s 3ms/step - loss: 17.4259 - val_loss: 15.7199\n",
      "Epoch 487/500\n",
      "29/29 [==============================] - 0s 3ms/step - loss: 17.1233 - val_loss: 16.8447\n",
      "Epoch 488/500\n",
      "29/29 [==============================] - 0s 4ms/step - loss: 17.5768 - val_loss: 17.5675\n",
      "Epoch 489/500\n",
      "29/29 [==============================] - 0s 3ms/step - loss: 17.0711 - val_loss: 17.1547\n",
      "Epoch 490/500\n",
      "29/29 [==============================] - 0s 3ms/step - loss: 17.5003 - val_loss: 16.1838\n",
      "Epoch 491/500\n",
      "29/29 [==============================] - 0s 3ms/step - loss: 17.8268 - val_loss: 16.5045\n",
      "Epoch 492/500\n",
      "29/29 [==============================] - 0s 4ms/step - loss: 17.2622 - val_loss: 16.1843\n",
      "Epoch 493/500\n",
      "29/29 [==============================] - 0s 4ms/step - loss: 18.6100 - val_loss: 16.4943\n",
      "Epoch 494/500\n",
      "29/29 [==============================] - 0s 3ms/step - loss: 18.8794 - val_loss: 15.3899\n",
      "Epoch 495/500\n",
      "29/29 [==============================] - 0s 4ms/step - loss: 17.5116 - val_loss: 15.9361\n",
      "Epoch 496/500\n",
      "29/29 [==============================] - 0s 3ms/step - loss: 17.6678 - val_loss: 15.9623\n",
      "Epoch 497/500\n",
      "29/29 [==============================] - 0s 5ms/step - loss: 17.6756 - val_loss: 15.5642\n",
      "Epoch 498/500\n",
      "29/29 [==============================] - 0s 4ms/step - loss: 17.1827 - val_loss: 15.8254\n",
      "Epoch 499/500\n",
      "29/29 [==============================] - 0s 3ms/step - loss: 17.6773 - val_loss: 15.8025\n",
      "Epoch 500/500\n",
      "29/29 [==============================] - 0s 3ms/step - loss: 17.2023 - val_loss: 18.6425\n"
     ]
    }
   ],
   "source": [
    "history2=model2.fit(X_train, y_train, validation_split=0.2,epochs=500, batch_size=10) #verbose=0"
   ]
  },
  {
   "cell_type": "markdown",
   "metadata": {},
   "source": [
    "Adding in the extra layer did bring down the mean squared error somewhat compared to the first model above."
   ]
  },
  {
   "cell_type": "code",
   "execution_count": 87,
   "metadata": {},
   "outputs": [
    {
     "name": "stdout",
     "output_type": "stream",
     "text": [
      "Train: 18.602, Test: 21.195\n"
     ]
    }
   ],
   "source": [
    "train_mse2 = model2.evaluate(X_train, y_train, verbose=0)\n",
    "test_mse2 = model2.evaluate(X_test, y_test, verbose=0)\n",
    "print('Train: %.3f, Test: %.3f' % (train_mse2, test_mse2))"
   ]
  },
  {
   "cell_type": "code",
   "execution_count": 88,
   "metadata": {},
   "outputs": [
    {
     "name": "stdout",
     "output_type": "stream",
     "text": [
      "Train: 17.186, Test: 18.027\n"
     ]
    }
   ],
   "source": [
    "# from first neural network model with one dense layer\n",
    "print('Train: %.3f, Test: %.3f' % (train_mse, test_mse))"
   ]
  },
  {
   "cell_type": "code",
   "execution_count": 89,
   "metadata": {},
   "outputs": [],
   "source": [
    "model2_predictions = model2.predict(X_test)"
   ]
  },
  {
   "cell_type": "code",
   "execution_count": 90,
   "metadata": {},
   "outputs": [],
   "source": [
    "model2.save('model2.h5')"
   ]
  },
  {
   "cell_type": "markdown",
   "metadata": {},
   "source": [
    "Using the first neural network model the mean squared error was 18.151 on the training data and 17.986 on the validation data. This had one dense layer of 60 neurons. The second neural network model had two dense layer eahc with 50 neurons. The mean squared error fell to 16.145 on the training datat and 16.666 on the validation data.\n",
    "I did use the same training and test split as I had set a random seed earlier. I think you could probably play around with changing parameters in the models but more understanding is really required as to what they are doing.\n",
    "The second model has a far higher number of neurons and while this is a relatively small dataset it might not translate well in terms of processing time to large datasets for the relatively small improvement in reducing loss.\n",
    "I'm not sure yet how they compare in terms of predicting on the same values."
   ]
  },
  {
   "cell_type": "code",
   "execution_count": 91,
   "metadata": {},
   "outputs": [
    {
     "name": "stdout",
     "output_type": "stream",
     "text": [
      "Model: \"sequential\"\n",
      "_________________________________________________________________\n",
      "Layer (type)                 Output Shape              Param #   \n",
      "=================================================================\n",
      "dense (Dense)                (None, 30)                60        \n",
      "_________________________________________________________________\n",
      "dense_1 (Dense)              (None, 40)                1240      \n",
      "_________________________________________________________________\n",
      "dense_2 (Dense)              (None, 1)                 41        \n",
      "=================================================================\n",
      "Total params: 1,341\n",
      "Trainable params: 1,341\n",
      "Non-trainable params: 0\n",
      "_________________________________________________________________\n"
     ]
    }
   ],
   "source": [
    "model.summary()"
   ]
  },
  {
   "cell_type": "code",
   "execution_count": 92,
   "metadata": {},
   "outputs": [
    {
     "name": "stdout",
     "output_type": "stream",
     "text": [
      "Model: \"sequential_1\"\n",
      "_________________________________________________________________\n",
      "Layer (type)                 Output Shape              Param #   \n",
      "=================================================================\n",
      "dense_3 (Dense)              (None, 50)                100       \n",
      "_________________________________________________________________\n",
      "dense_4 (Dense)              (None, 50)                2550      \n",
      "_________________________________________________________________\n",
      "dense_5 (Dense)              (None, 1)                 51        \n",
      "=================================================================\n",
      "Total params: 2,701\n",
      "Trainable params: 2,701\n",
      "Non-trainable params: 0\n",
      "_________________________________________________________________\n"
     ]
    }
   ],
   "source": [
    "model2.summary()"
   ]
  },
  {
   "cell_type": "markdown",
   "metadata": {},
   "source": [
    "### Saving and loading the model\n",
    "Instead of having to retrain the model each time,  it can be saved to a file using the `save()` function on the model and loaded later to make predictions using the `load_model()` function. The model is saved in H5 format, an efficient array storage format.\n",
    "For this I need  the `h5py` library. "
   ]
  },
  {
   "cell_type": "raw",
   "metadata": {},
   "source": [
    "\n",
    "from tensorflow.keras.models import load_model"
   ]
  },
  {
   "cell_type": "raw",
   "metadata": {},
   "source": [
    "model = load_model('model.h5')"
   ]
  },
  {
   "cell_type": "raw",
   "metadata": {},
   "source": [
    "model2 = load_model('model.h5')"
   ]
  },
  {
   "cell_type": "markdown",
   "metadata": {},
   "source": [
    "\n",
    "Will need to incorporate some if else statements into the final prediction function.\n",
    "\n",
    "if speed is below cut-in speed predict zero power\n",
    "if speed is above cut-out speed, predict zero power\n",
    "Not sure how to capture the non-zero power values accurately where power has been stored up\n",
    "I don't think we can actually get the most accurate model with only one feature provided.\n"
   ]
  },
  {
   "cell_type": "code",
   "execution_count": 93,
   "metadata": {},
   "outputs": [
    {
     "name": "stdout",
     "output_type": "stream",
     "text": [
      "[[100.24982]]\n"
     ]
    },
    {
     "data": {
      "text/plain": [
       "array([[100.435875]], dtype=float32)"
      ]
     },
     "execution_count": 93,
     "metadata": {},
     "output_type": "execute_result"
    }
   ],
   "source": [
    "print(f\"{model.predict([24.4])}\")\n",
    "model2.predict([24.4])"
   ]
  },
  {
   "cell_type": "code",
   "execution_count": 94,
   "metadata": {},
   "outputs": [],
   "source": [
    "def predict_power(speed):\n",
    "    \n",
    "    if speed >= 24.4:\n",
    "        return 0\n",
    "    if speed < 4:\n",
    "        return 0\n",
    "        \n",
    "        \n",
    "    else:\n",
    "        # TypeError: '>' not supported between instances of 'list' and 'float'\n",
    "        speed = np.array([[speed]])\n",
    "        print(speed.dtype)\n",
    "        power = model.predict(speed)\n",
    "        return power"
   ]
  },
  {
   "cell_type": "code",
   "execution_count": 95,
   "metadata": {},
   "outputs": [
    {
     "data": {
      "text/plain": [
       "0"
      ]
     },
     "execution_count": 95,
     "metadata": {},
     "output_type": "execute_result"
    }
   ],
   "source": [
    "predict_power(24.4)"
   ]
  },
  {
   "cell_type": "code",
   "execution_count": 96,
   "metadata": {},
   "outputs": [
    {
     "name": "stdout",
     "output_type": "stream",
     "text": [
      "int64\n"
     ]
    },
    {
     "data": {
      "text/plain": [
       "array([[6.153325]], dtype=float32)"
      ]
     },
     "execution_count": 96,
     "metadata": {},
     "output_type": "execute_result"
    }
   ],
   "source": [
    "predict_power(4)"
   ]
  },
  {
   "cell_type": "code",
   "execution_count": 97,
   "metadata": {},
   "outputs": [
    {
     "name": "stdout",
     "output_type": "stream",
     "text": [
      "Predicted: 93.160\n"
     ]
    }
   ],
   "source": [
    "speed = [20.647]\n",
    "yhat= model.predict(speed)\n",
    "print('Predicted: %.3f' % yhat[0])"
   ]
  },
  {
   "cell_type": "markdown",
   "metadata": {},
   "source": [
    "\n",
    "### Comparing Models\n",
    "\n",
    "\n",
    "The loss is still quite high and did not come down much despite playing around with the parameters.\n",
    "The ideal loss is is zero and the ideal accuracy is 1.0 or 100%.\n",
    ">The goal is to choose a model configuration and training configuration that achieve the lowest loss and highest accuracy possible for a given dataset\n",
    "- https://machinelearningmastery.com/tutorial-first-neural-network-python-keras/"
   ]
  },
  {
   "cell_type": "markdown",
   "metadata": {},
   "source": [
    "### Plot the predictions from the three models\n",
    "\n",
    "make this look nicer!"
   ]
  },
  {
   "cell_type": "code",
   "execution_count": 94,
   "metadata": {},
   "outputs": [
    {
     "data": {
      "image/png": "[encoded data removed]",
      "text/plain": [
       "<Figure size 1008x576 with 1 Axes>"
      ]
     },
     "metadata": {},
     "output_type": "display_data"
    }
   ],
   "source": [
    "plt.plot(X_test, y_test, '.k', label ='actual')\n",
    "plt.plot(X_test, model_predictions,'b.', label=\"predicted values from Neural Network 1\")\n",
    "plt.plot(X_test, model2_predictions,'y.', label=\"predicted values from Neural Network 2\")\n",
    "plt.plot(X_test, poly3_predictions, 'g.', label=\"predicted values from Polynomial order 3\")\n",
    "plt.plot(X_test, poly4_predictions, 'r.', label=\"predicted values from Polynomial order 4\")\n",
    "plt.xlabel(\"Wind speed\")\n",
    "plt.ylabel(\"power\")\n",
    "plt.title(\"Comparing the predictions from the models\")\n",
    "plt.legend()\n",
    "plt.show()"
   ]
  },
  {
   "cell_type": "markdown",
   "metadata": {},
   "source": [
    "### Look at evaluation metrics for the two models:\n",
    "Root mean squared error below.\n",
    "I will leave out one of the neural networks."
   ]
  },
  {
   "cell_type": "markdown",
   "metadata": {},
   "source": [
    "#### Polynomial 3"
   ]
  },
  {
   "cell_type": "code",
   "execution_count": 95,
   "metadata": {},
   "outputs": [
    {
     "name": "stdout",
     "output_type": "stream",
     "text": [
      "Mean squared error: 33.32\n",
      "Coefficient of determination: 0.98\n",
      "Root Mean Squared Error: 5.77\n"
     ]
    }
   ],
   "source": [
    "print('Mean squared error: %.2f' % mean_squared_error(y_test,poly3_predictions ))\n",
    "# The coefficient of determination: 1 is perfect prediction\n",
    "print('Coefficient of determination: %.2f' % r2_score(y_test, poly3_predictions))\n",
    "print('Root Mean Squared Error: %.2f' % np.sqrt(mean_squared_error(y_test,poly3_predictions )))"
   ]
  },
  {
   "cell_type": "code",
   "execution_count": 96,
   "metadata": {},
   "outputs": [
    {
     "name": "stdout",
     "output_type": "stream",
     "text": [
      "Train: 18.602, Test: 21.195\n"
     ]
    }
   ],
   "source": [
    "train_mse2 = model2.evaluate(X_train, y_train, verbose=0)\n",
    "test_mse2 = model2.evaluate(X_test, y_test, verbose=0)\n",
    "print('Train: %.3f, Test: %.3f' % (train_mse2, test_mse2))"
   ]
  },
  {
   "cell_type": "code",
   "execution_count": 97,
   "metadata": {},
   "outputs": [
    {
     "name": "stdout",
     "output_type": "stream",
     "text": [
      "MSE: 18.027, RMSE: 4.246\n"
     ]
    }
   ],
   "source": [
    "# evaluate the model\n",
    "error = model.evaluate(X_test, y_test, verbose=0)\n",
    "print('MSE: %.3f, RMSE: %.3f' % (error, np.sqrt(error)))"
   ]
  },
  {
   "cell_type": "code",
   "execution_count": 98,
   "metadata": {},
   "outputs": [
    {
     "name": "stdout",
     "output_type": "stream",
     "text": [
      "MSE: 21.195, RMSE: 4.604 \n"
     ]
    }
   ],
   "source": [
    "# evaluate the model2\n",
    "error = model2.evaluate(X_test, y_test, verbose=0)\n",
    "print('MSE: %.3f, RMSE: %.3f ' % (error, np.sqrt(error)))"
   ]
  },
  {
   "cell_type": "code",
   "execution_count": 99,
   "metadata": {},
   "outputs": [
    {
     "name": "stdout",
     "output_type": "stream",
     "text": [
      "4/4 [==============================] - 0s 1ms/step - loss: 18.0266\n"
     ]
    }
   ],
   "source": [
    "accuracy = model.evaluate(X_test, y_test)"
   ]
  },
  {
   "cell_type": "code",
   "execution_count": 100,
   "metadata": {},
   "outputs": [],
   "source": [
    "import tensorflow.keras as kr\n",
    "from tensorflow.keras.models import load_model\n",
    "model = load_model('model.h5')\n",
    "model2=load_model('model2.h5')"
   ]
  },
  {
   "cell_type": "code",
   "execution_count": 101,
   "metadata": {},
   "outputs": [],
   "source": [
    "import pickle\n",
    "import joblib\n",
    "# In the specific case of scikit-learn, it may be better to use joblib’s replacement of pickle\n",
    "#from joblib import dump, load\n",
    "\n",
    "#model_poly3 = joblib.load('model_poly3.joblib')\n",
    "mod_poly3 = joblib.load('model_poly3.pkl')"
   ]
  },
  {
   "cell_type": "code",
   "execution_count": 102,
   "metadata": {},
   "outputs": [
    {
     "data": {
      "text/plain": [
       "array([[45.01454843]])"
      ]
     },
     "execution_count": 102,
     "metadata": {},
     "output_type": "execute_result"
    }
   ],
   "source": [
    "win12 = np.array([[12, 12**2, 12**3]])\n",
    "#win12 =np.array(win12)\n",
    "mod_poly3.predict(win12)"
   ]
  },
  {
   "cell_type": "code",
   "execution_count": 103,
   "metadata": {},
   "outputs": [
    {
     "data": {
      "text/plain": [
       "array([[44.032757]], dtype=float32)"
      ]
     },
     "execution_count": 103,
     "metadata": {},
     "output_type": "execute_result"
    }
   ],
   "source": [
    "model2.predict([[12]])"
   ]
  },
  {
   "cell_type": "code",
   "execution_count": 104,
   "metadata": {},
   "outputs": [
    {
     "name": "stdout",
     "output_type": "stream",
     "text": [
      "WARNING:tensorflow:5 out of the last 13 calls to <function Model.make_predict_function.<locals>.predict_function at 0x7fcad3baa310> triggered tf.function retracing. Tracing is expensive and the excessive number of tracings could be due to (1) creating @tf.function repeatedly in a loop, (2) passing tensors with different shapes, (3) passing Python objects instead of tensors. For (1), please define your @tf.function outside of the loop. For (2), @tf.function has experimental_relax_shapes=True option that relaxes argument shapes that can avoid unnecessary retracing. For (3), please refer to https://www.tensorflow.org/tutorials/customization/performance#python_or_tensor_args and https://www.tensorflow.org/api_docs/python/tf/function for  more details.\n"
     ]
    },
    {
     "data": {
      "text/plain": [
       "array([[100.435875]], dtype=float32)"
      ]
     },
     "execution_count": 104,
     "metadata": {},
     "output_type": "execute_result"
    }
   ],
   "source": [
    "model2.predict([24.4])"
   ]
  },
  {
   "cell_type": "code",
   "execution_count": null,
   "metadata": {},
   "outputs": [],
   "source": [
    "model2.predict([24.4])[0][0]"
   ]
  },
  {
   "cell_type": "code",
   "execution_count": null,
   "metadata": {},
   "outputs": [],
   "source": [
    "model.predict([24.4])[0][0]"
   ]
  },
  {
   "cell_type": "code",
   "execution_count": null,
   "metadata": {},
   "outputs": [],
   "source": [
    "model.predict([12])"
   ]
  },
  {
   "cell_type": "markdown",
   "metadata": {},
   "source": [
    "\n",
    "### Summary and Conclusions\n",
    "\n",
    "Overall there are limitations in what we can predict given this dataset. As shown above in the research section, usually more features are used in predicting power output from wind speeds. Mention some of these here.\n",
    "It is still impressive how an artificial neural network can quite closely model the power curve given such limited inputs as a single column of numbers.\n",
    "Playing with the neural networks does seem to involve a lot of trial and error but I think I would need to learn more about why you would choose one parameter over another, the number of neurons, number of layers, cost functions etc.\n",
    "The model seems to under predict the power values for the lower values of speed. This is as I expected earlier given that when wind speeds are too low to generate power, the stored power is used later. Look back at the article that mentioned this above.\n",
    "\n",
    "The dataset was cleaned by removing some of the zero values as initially leaving all the zero values in seemed to pull the curve down too much and the predictions were quite a bit off. \n",
    "\n",
    "\n",
    "error = model.evaluate(X_test, y_test, verbose=0)\n",
    "print('MSE: %.3f, RMSE: %.3f' % (error, np.sqrt(error)))\n",
    "\n",
    "The first time I looked at this I was wondering if the data values represented measurements over a particular period of time and if the lower values of power might be related to the time taken for the turbines to get up and running before they could generate any power or if some of the zero power values were related to periodic maintenance when the turbines might get switched off. There does seem to be some linear relationship between the two variables for the middle portion of the dataset and the power generated does seem to level off after a particular point but overall the relationship is strong but non-linear.\n",
    "\n",
    "However looking at the raw data in the csv file, the rows are ordered by ascending values of speed column with the corresponding power values in the other column. There is no indication as to how the data values were collected and therefore I don't think I can make any judgements about the data over a particular timeframe. There are only two columns of numerical data provided with no indication provided as to their measurement units.  I will just focus on trying to use some algorithms to predict the power values based on the input values of speed. "
   ]
  },
  {
   "cell_type": "markdown",
   "metadata": {},
   "source": [
    "# References\n",
    "- [1] Dataset: [power production dataset](https://raw.githubusercontent.com/ianmcloughlin/2020A-machstat-project/master/dataset/powerproduction.csv) from Ian McLoughlin Github\n",
    "\n",
    "- [2] Website: [The Irish Wind Energy Association (IWEA)](https://www.iwea.com/about-us/about-us)\n",
    "- [3] Website: [Smart grid dashboard](http://smartgriddashboard.eirgrid.com/#all/about/wind\n",
    "- [4] Website: [Wind Energy Basics](https://windeurope.org/about-wind/wind-basics/)\n",
    "- [5] Website: [how to calculate power output of wind](https://www.windpowerengineering.com/calculate-wind-power-output/)\n",
    "- [6] Website [calculating energy production from weather forecast in Python](https://medium.com/planet-os/calculating-energy-production-from-weather-forecast-in-python-3c990047daa)\n",
    "- [7] Research Article: [Wind Turbine Power Curve Modeling Using\n",
    "Advanced Parametric and Nonparametric Methods](http://ieeexplore.ieee.org/iel7/5165391/5433168/06894235.pdf) link provided by [6]\n",
    "- [8] [Using_machine_learning_to_predict_wind_turbine_power_output](https://www.researchgate.net/publication/257748412_Using_machine_learning_to_predict_wind_turbine_power_output)\n",
    "- [9] Website: [Wikipedia](https://en.wikipedia.org/wiki/Wind_turbine_design)\n",
    "- [10] Website: https://www.wind-watch.org/faq-technology.php\n",
    "\n",
    "- Using machine learning to predict wind turbine power output by A Clifton, L Kilcher, J K Lundquist and P Fleming, ENVIRONMENTAL RESEARCH LETTERS, doi:10.1088/1748-9326/8/2/024009, Environ. Res. Lett. 8 (2013) 024009 (8pp)\n",
    "\n",
    "- Wind Turbine Power Curve Modeling Using Advanced Parametric and Nonparametric Methods by Shahab Shokrzadeh, Student Member, IEEE, Mohammad Jafari Jozani, and Eric Bibeau. IEEE TRANSACTIONS ON SUSTAINABLE ENERGY, VOL. 5, NO. 4, OCTOBER 2014.  Available from https://ieeexplore.ieee.org/stamp/stamp.jsp?arnumber=6894235\n",
    "\n",
    "### Machine learning:\n",
    "- [11]Website: [The Importance of Data Splitting](https://realpython.com/train-test-split-python-data/)\n",
    "- [12] Website [Polynomial Regressions - extending linear models](https://scikit-learn.org/stable/modules/linear_model.html#polynomial-regression-extending-linear-models-with-basis-functions)\n",
    "- [13][Polynomial Regression with Scikit learn: What You Should Know](https://towardsdatascience.com/polynomial-regression-with-scikit-learn-what-you-should-know-bed9d3296f2)\n",
    "- [14][How to fit a polynomial curve to data using scikit-learn](https://stackoverflow.com/questions/32660231/how-to-fit-a-polynomial-curve-to-data-using-scikit-learn/32660433)\n",
    "- [15][Python Implementation of Polynomial Regression](https://www.geeksforgeeks.org/python-implementation-of-polynomial-regression/)\n",
    "- [16][sklearn.metrics.r2_score](https://scikit-learn.org/stable/modules/generated/sklearn.metrics.r2_score.html)\n",
    "- [17][Artificial Neural Networks](https://www.investopedia.com/terms/a/artificial-neural-networks-ann.asp#:~:text=An%20artificial%20neural%20network%20(ANN)%20is%20the%20piece%20of%20a,by%20human%20or%20statistical%20standards.)\n",
    "- [18][Mit News](https://news.mit.edu/2017/explained-neural-networks-deep-learning-0414)\n",
    "- [19][Neural Networks Concepts](https://ml-cheatsheet.readthedocs.io/en/latest/nn_concepts.html)\n",
    "- [20][Tensorflow Tutorial](https://machinelearningmastery.com/tensorflow-tutorial-deep-learning-with-tf-keras/)\n",
    "\n",
    "\n",
    "- [21][Tensorflow/tf/keras](https://www.tensorflow.org/api_docs/python/tf/keras)\n",
    "\n",
    "- [22] [Tensorflow](https://www.tensorflow.org/api_docs/python/tf/keras/optimizers/Adam]\n",
    "- Website: [Machine Learning Mastery](https://machinelearningmastery.com/supervised-and-unsupervised-machine-learning-algorithms/)\n",
    "- [23][Activation functions](https://medium.com/the-theory-of-everything/understanding-activation-functions-in-neural-networks-9491262884e0)\n",
    "\n",
    "- [Sequential Mode](https://www.tensorflow.org/guide/keras/sequential_mode)\n",
    "-  [the importance of batch sizes](https://machinelearningmastery.com/how-to-control-the-speed-and-stability-of-training-neural-networks-with-gradient-descent-batch-size/)\n",
    "\n",
    "-  [Data Leakage  in Machine Learning](https://machinelearningmastery.com/data-leakage-machine-learning/)\n",
    "- [Normalisation before or after splitting the data into training and test sets](https://datascience.stackexchange.com/questions/54908/data-normalization-before-or-after-train-test-split#:~:text=3%20Answers&text=Normalization%20across%20instances%20should%20be,data%20from%20the%20training%20set.&text=Using%20any%20information%20coming%20from,the%20evaluation%20of%20the%20performance.)\n",
    "- [Neural Networks](https://www.investopedia.com/terms/n/neuralnetwork.asp#:~:text=A%20neural%20network%20is%20a,organic%20or%20artificial%20in%20nature.)\n",
    "- [Artificial Neural Network](https://en.wikipedia.org/wiki/Artificial_neural_network)\n",
    "\n",
    "- https://news.mit.edu/2017/explained-neural-networks-deep-learning-0414\n",
    "\n",
    "- https://ml-cheatsheet.readthedocs.io/en/latest/index.html\n",
    "\n",
    "### Other wind turbine research:\n",
    "- [sem-o.com](https://www.sem-o.com/links/) some more links on \n",
    "- [WindEurope](https://windeurope.org/data-and-analysis/)\n",
    "- http://www.eirgridgroup.com/how-the-grid-works/renewables/\n",
    "- https://www.wind-watch.org/faq-technology.php\n",
    "- https://www.sciencedirect.com/topics/engineering/rated-wind-speed \n",
    "\n",
    "\n",
    "\n",
    "- Website: [Machine Learning: Polynomial Regression with Python](https://towardsdatascience.com/machine-learning-polynomial-regression-with-python-5328e4e8a386)\n",
    "\n",
    "\n",
    "- Website: [Linear Regression Example](https://scikit-learn.org/stable/auto_examples/linear_model/plot_ols.html#sphx-glr-auto-examples-linear-model-plot-ols-py)\n",
    "\n",
    "- Website: [Polynomial Regression with Python](https://towardsdatascience.com/machine-learning-polynomial-regression-with-python-5328e4e8a386)\n",
    "- Website: [Python | Implementation of Polynomial Regression](https://www.geeksforgeeks.org/python-implementation-of-polynomial-regression/)\n",
    "\n",
    "- Website: [Polynomial Regression in Python](https://medium.com/ai-in-plain-english/implementing-polynomial-regression-in-python-d9aedf520d56)\n",
    "\n",
    "- Video: [Understanding Polynomial Regression](https://www.youtube.com/watch?v=UedwCvFGlvU) by \n",
    "Mazen Ahmed\n",
    "\n",
    "- Website: [What does RMSE really mean?](https://towardsdatascience.com/what-does-rmse-really-mean-806b65f2e48e) Blog article by James Moody\n",
    "\n",
    "- Website: [Batch Normalization Tensorflow Keras Example](https://towardsdatascience.com/backpropagation-and-batch-normalization-in-feedforward-neural-networks-explained-901fd6e5393e)\n",
    "\n",
    "- Website: [How to normalize features in TensorFlow](https://towardsdatascience.com/how-to-normalize-features-in-tensorflow-5b7b0e3a4177)\n",
    "- Website: [Data Leakage in Machine Learning](https://machinelearningmastery.com/data-leakage-machine-learning/)\n",
    "- Website: [Tutorial on First Neural Network with Python Keras](https://machinelearningmastery.com/tutorial-first-neural-network-python-keras/)\n",
    "- Website: [How to use Data Scaling Improve Deep Learning Model Stability and Performance](https://machinelearningmastery.com/how-to-improve-neural-network-stability-and-modeling-performance-with-data-scaling/)\n",
    "- Website: [TensorFlow 2 Tutorial: Get Started in Deep Learning With tf.keras](https://machinelearningmastery.com/tensorflow-tutorial-deep-learning-with-tf-keras/)\n",
    "\n",
    "- Website: [Tensorflow](https://www.tensorflow.org/api_docs/python/tf/data/Dataset)\n",
    "- Website: [Install TensorFlow with pip](https://www.tensorflow.org/install/pip)\n",
    "\n",
    "- Website: [Keras Training Guide](https://keras.io/guides/training_with_built_in_methods/)\n",
    "\n",
    "- Website: [pandas.DataFrame.drop](https://pandas.pydata.org/pandas-docs/stable/reference/api/pandas.DataFrame.drop.html)\n",
    "\n",
    "- Website: [pandas.Dataframe.drop](https://pandas.pydata.org/pandas-docs/stable/reference/api/pandas.DataFrame.drop.html\n",
    " https://thispointer.com/python-pandas-how-to-drop-rows-in-dataframe-by-conditions-on-column-values/)\n",
    " \n",
    "- Website: [Neural Network](https://www.computing.dcu.ie/~humphrys/Notes/Neural/sigmoid.html)"
   ]
  },
  {
   "cell_type": "markdown",
   "metadata": {},
   "source": [
    "### End"
   ]
  },
  {
   "cell_type": "markdown",
   "metadata": {},
   "source": [
    "\n",
    "### Normalisation / Scaling the data or not!\n",
    "The [Introduction to Keras for Engineers](https://keras.io/getting_started/intro_to_keras_for_engineers/) does suggest that data preprocessing should be done such as feature normalisation.\n",
    "- Do preprocessing such as feature normalisation.\n",
    "The data consists of two columns of data and thats it. The only preprocesing that is applicable here is to rescale the data to small values as in general the input values to a neural network should be close to zero. According to the tutorial  the data should either be rescaled to have zero-mean and unit-variance or the data in the `[0.1]` range. The preprocessing should ideally be done as part of the model to make it more portable in production. In Keras the preprocessing is done via preprocessing layers which can be included directly into your model either during training or after training. Some preprocessing layers have a state, in this case normalization holds the mean and variance of the features and can be obtained by calling `layer.adapt(data)` on a sample or all of the training data.\n",
    "\n",
    "CSV data needs to be parsed, with numerical features converted to floating point tensors and categorical features indexed and converted to integer tensors. Then each feature typically needs to be normalized to zero-mean and unit-variance.\n",
    "\n",
    "Many examples in blogs only scale the inputs or the target variable but in this dataset we only have a single input variable and a single target variable. Without scaling the model does quite a good job considering all it has are two single columns of numbers. The wind speed seems to be uniformly distributed. I might just note it here but in the final model go without scaling.\n",
    "The model can be updated to scale the target variable. \n",
    ">Reducing the scale of the target variable will, in turn, reduce the size of the gradient used to update the weights and result in a more stable model and training process. [Data Scaling to improve the network](https://machinelearningmastery.com/how-to-improve-neural-network-stability-and-modeling-performance-with-data-scaling/)[123345]\n",
    "\n",
    "According to this article, a good rule of thumb is that input variables should be small values, probably in the range of 0-1 or standardized with a zero mean and a standard deviation of one.\n",
    ">If the distribution of the quantity is normal, then it should be standardized, otherwise the data should be normalized.\n",
    "If in doubt, normalise the input sequence.\n",
    "\n",
    ">The output variable is the variable predicted by the network. If the distribution of the value is normal, then you can standardize the output variable. Otherwise, the output variable can be normalized.\n",
    "\n",
    "Normalization is a rescaling of the data from the original range so that all values are within the range of 0 and 1. \n",
    "Scikit-learn's preprocessing module can be used to scale the data.\n",
    ">Standardization of datasets is a common requirement for many machine learning estimators implemented in scikit-learn; they might behave badly if the individual features do not more or less look like standard normally distributed data: Gaussian with zero mean and unit variance. In practice we often ignore the shape of the distribution and just transform the data to center it by removing the mean value of each feature, then scale it by dividing non-constant features by their standard deviation.\n",
    "https://scikit-learn.org/stable/modules/preprocessing.html#preprocessing\n",
    "\n",
    "The data can be scaled to lie between a given minimum and maximum value such as between zero and one or so that the maximum absolute value of each feature is scaled to unit size. \n",
    "\n",
    "Normalization should be done after splitting the data into train and test/validation to avoid data leakage. Data leakage is where information from outside the dataset is used to train the model.\n",
    "Normalization across instances should be done after splitting the data between training and test set, using only the data from the training set. This is because the test set plays the role of fresh unseen data, so it's not supposed to be accessible at the training stage. Using any information coming from the test set before or during training is a potential bias in the evaluation of the performance.\n",
    "\n",
    "As yet I am not fully sure whether I should scale outputs as well as inputs but I think I should as we only have a single input feature to train the model on and predict the outputs.\n",
    "\n",
    "Continuing with following this blog:\n",
    "https://machinelearningmastery.com/how-to-improve-neural-network-stability-and-modeling-performance-with-data-scaling/\n",
    "\n",
    ">It is best practice is to estimate the mean and standard deviation of the training dataset and use these variables to scale the train and test dataset. This is to avoid any data leakage during the model evaluation process.\n",
    ">The scikit-learn transformers expect input data to be matrices of rows and columns, therefore the 1D arrays for the target variable will have to be reshaped into 2D arrays prior to the transforms.\n",
    "\n"
   ]
  }
 ],
 "metadata": {
  "kernelspec": {
   "display_name": "Python 3",
   "language": "python",
   "name": "python3"
  },
  "language_info": {
   "codemirror_mode": {
    "name": "ipython",
    "version": 3
   },
   "file_extension": ".py",
   "mimetype": "text/x-python",
   "name": "python",
   "nbconvert_exporter": "python",
   "pygments_lexer": "ipython3",
   "version": "3.8.2"
  }
 },
 "nbformat": 4,
 "nbformat_minor": 4
}
