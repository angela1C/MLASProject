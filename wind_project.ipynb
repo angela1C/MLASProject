{
 "cells": [
  {
   "cell_type": "markdown",
   "metadata": {},
   "source": [
    "# Machine Learning and Statistics Project 2020\n",
    "by Angela Carpenter\n"
   ]
  },
  {
   "cell_type": "markdown",
   "metadata": {},
   "source": [
    "# Table of Contents\n",
    "- Project Instructions / Overview\n",
    "- Python Libraries\n",
    "- Loading / Reading in the dataset\n",
    "- Exploratory Data Analysis\n",
    "- Cleaning the Datasets\n",
    "- Regression Models\n",
    "- Neural Networks\n",
    "- Predicting on new data / saving models for web app.\n",
    "- Summary and Conclusions\n",
    "- References\n",
    "\n",
    "\n",
    "## Project Instructions\n",
    "\n",
    "The aim of this project is to create a web service that uses machine learning to make predictions based on the data set powerproduction available on Moodle. The goal is to produce a model that accurately predicts wind turbine power output from wind speed values, as in the data set. A web service must also be developed that will respond with predicted power values based on speed values sent as HTTP requests. \n",
    "\n",
    "\n",
    "\n",
    "\n",
    "### notes to self \n",
    "\n",
    "\n",
    "- Tidy up the notebook further\n",
    "- Make some notes on why I didn't scale or normalise the data. remove the section on this\n",
    "- Finish the web app side, it is now working but needs to be made a bit nicer.\n",
    "- Compare and evaluate the models - a few more notes on this.\n",
    "- Finalise a neural network model - adding more layers did not change the loss by a lot.\n",
    "- Rerun the NN again, adding in a validation percentage to the history fit to plot the learning curve\n",
    "- Neither of the models predicts correctlly for high speed values. Maybe the model does need to keep the values over 24.4 in as it is interpolating. However I can filter them using if else in the functions for the web app.\n"
   ]
  },
  {
   "cell_type": "markdown",
   "metadata": {},
   "source": [
    "#### Read in the dataset"
   ]
  },
  {
   "cell_type": "markdown",
   "metadata": {},
   "source": [
    "### Import Python libraries\n"
   ]
  },
  {
   "cell_type": "code",
   "execution_count": 1,
   "metadata": {},
   "outputs": [],
   "source": [
    "# first importing the following libraries\n",
    "import numpy as np\n",
    "# pandas dataframes\n",
    "import pandas as pd  \n",
    "# plotting library\n",
    "import matplotlib.pyplot as plt \n",
    "# another plotting library\n",
    "import seaborn as sns\n",
    "# splitting dataset into training and testing sets\n",
    "from sklearn.model_selection import train_test_split\n",
    "# for polynomial regression \n",
    "from sklearn.preprocessing import PolynomialFeatures\n",
    "# for linear regression \n",
    "from sklearn.linear_model import LinearRegression\n",
    "from sklearn import linear_model\n",
    "# for evaluation metrics\n",
    "from sklearn.metrics import mean_squared_error, r2_score\n",
    "# neural networks\n",
    "import tensorflow.keras as kr\n",
    "from tensorflow.keras import Sequential\n",
    "from tensorflow.keras.layers import Dense\n",
    "# save a model in scikit-learn by using Python’s built-in persistence model pickle:\n",
    "import pickle\n",
    "# In the specific case of scikit-learn, it may be better to use joblib’s replacement of pickle\n",
    "from joblib import dump, load"
   ]
  },
  {
   "cell_type": "markdown",
   "metadata": {},
   "source": [
    "\n",
    "\n",
    "\n"
   ]
  },
  {
   "cell_type": "markdown",
   "metadata": {},
   "source": [
    "### Import the dataset\n",
    "The dataset is available from [Github](https://github.com/ianmcloughlin/2020A-machstat-project).[1]"
   ]
  },
  {
   "cell_type": "code",
   "execution_count": 2,
   "metadata": {},
   "outputs": [],
   "source": [
    "# save link to data and reference the link \n",
    "csv_url = 'https://raw.githubusercontent.com/ianmcloughlin/2020A-machstat-project/master/dataset/powerproduction.csv'\n",
    "# read the csv data into a pandas dataframe\n",
    "df = pd.read_csv(csv_url)\n",
    "df\n",
    "# write the dataframe to csv\n",
    "df.to_csv('df.csv')\n",
    "# make a copy of the dataframe\n",
    "dfx = df.copy()"
   ]
  },
  {
   "cell_type": "markdown",
   "metadata": {},
   "source": [
    "## Exploratory Data Analysis on the dataset\n",
    "The power variable represents wind turbine power output and the speed values are wind speed values. This is all that has been provided. There are no null values in the dataset but there are 49 observations with zero values. \n",
    "While there is only one zero value for the `speed` variable, there are 49 zero values for the `power` variable.\n",
    "Some research below suggests that the wind speed values are measured in metres per second and that the power values are measured in kilowatts.\n",
    "\n",
    "Exploratory data analysis generally involves both non-graphical methods which include calculation of summary statistics and graphical methods which summarises the data in a picture or a plot. These methods can be univariate where one variable is looked at at a time or multivariate where two or more variables are looked at together to explore relationships. First I will do so some univariate EDA on both of the components before going on to do multivariate EDA. \n",
    "Plots can highlight any obvious relationships between the different variables in the dataset. They can also be used to identify any groups of observations that are clearly separate to other groups of observations."
   ]
  },
  {
   "cell_type": "code",
   "execution_count": 3,
   "metadata": {},
   "outputs": [
    {
     "data": {
      "text/html": [
       "<div>\n",
       "<style scoped>\n",
       "    .dataframe tbody tr th:only-of-type {\n",
       "        vertical-align: middle;\n",
       "    }\n",
       "\n",
       "    .dataframe tbody tr th {\n",
       "        vertical-align: top;\n",
       "    }\n",
       "\n",
       "    .dataframe thead th {\n",
       "        text-align: right;\n",
       "    }\n",
       "</style>\n",
       "<table border=\"1\" class=\"dataframe\">\n",
       "  <thead>\n",
       "    <tr style=\"text-align: right;\">\n",
       "      <th></th>\n",
       "      <th>speed</th>\n",
       "      <th>power</th>\n",
       "    </tr>\n",
       "  </thead>\n",
       "  <tbody>\n",
       "    <tr>\n",
       "      <th>0</th>\n",
       "      <td>0.000</td>\n",
       "      <td>0.0</td>\n",
       "    </tr>\n",
       "    <tr>\n",
       "      <th>1</th>\n",
       "      <td>0.125</td>\n",
       "      <td>0.0</td>\n",
       "    </tr>\n",
       "    <tr>\n",
       "      <th>2</th>\n",
       "      <td>0.150</td>\n",
       "      <td>0.0</td>\n",
       "    </tr>\n",
       "    <tr>\n",
       "      <th>3</th>\n",
       "      <td>0.225</td>\n",
       "      <td>0.0</td>\n",
       "    </tr>\n",
       "    <tr>\n",
       "      <th>4</th>\n",
       "      <td>0.275</td>\n",
       "      <td>0.0</td>\n",
       "    </tr>\n",
       "  </tbody>\n",
       "</table>\n",
       "</div>"
      ],
      "text/plain": [
       "   speed  power\n",
       "0  0.000    0.0\n",
       "1  0.125    0.0\n",
       "2  0.150    0.0\n",
       "3  0.225    0.0\n",
       "4  0.275    0.0"
      ]
     },
     "execution_count": 3,
     "metadata": {},
     "output_type": "execute_result"
    }
   ],
   "source": [
    "df.head()\n"
   ]
  },
  {
   "cell_type": "code",
   "execution_count": 4,
   "metadata": {},
   "outputs": [
    {
     "data": {
      "text/plain": [
       "speed     1\n",
       "power    49\n",
       "dtype: int64"
      ]
     },
     "execution_count": 4,
     "metadata": {},
     "output_type": "execute_result"
    }
   ],
   "source": [
    "# can have a look at the dataset\n",
    "df.sort_values(by='power', ascending=False).head()\n",
    "df.sort_values(by='power').head()\n",
    "df.sort_values(by='speed').head()\n",
    "# check for null values\n",
    "df.isnull().values.any()\n",
    "df.isnull().sum()\n",
    "# check for zero values\n",
    "df.isin([0]).sum()\n"
   ]
  },
  {
   "cell_type": "markdown",
   "metadata": {},
   "source": [
    "### The distribution of the data\n",
    "A histogram can be used to show the distribution of a single quantitative variable such as speed or power values, including the centre and spread of the distribution and if there is any skew in the data. Wind speed appears to be  uniformly distributed with values spread out from zero up to a maximum value of 25. Power output values on the other hand looks to be bimodal with two defined peaks, one around zero power values and the second around the 100 kilowatt mark. The first peak is betweeen power values of 0 and 5. This is not surprising given the large number of zero power values in this dataset. Almost 10% of the power values supplied are zero.  There is another smaller peak around values of 95-100. Most of the remaining power values fall between 18 and 85."
   ]
  },
  {
   "cell_type": "code",
   "execution_count": 5,
   "metadata": {},
   "outputs": [
    {
     "data": {
      "image/png": "[encoded data removed]",
      "text/plain": [
       "<Figure size 864x360 with 2 Axes>"
      ]
     },
     "metadata": {
      "needs_background": "light"
     },
     "output_type": "display_data"
    }
   ],
   "source": [
    "    %matplotlib inline\n",
    "\n",
    "    # plot the histograms of Speed values\n",
    "    f, axs = plt.subplots(1, 2, figsize=(12, 5))\n",
    "    sns.histplot(data=df, x=\"speed\", ax=axs[0], bins=20, kde=True,color=\"blue\")\n",
    "    sns.histplot(data=df, x=\"power\", alpha=.8, legend=False, ax=axs[1], bins=20, kde=True, color=\"purple\")\n",
    "\n",
    "    #plt.title(\"Speed vs Power\");\n",
    "    plt.suptitle(\"The distribution of the variables\")\n",
    "    f.tight_layout()"
   ]
  },
  {
   "cell_type": "markdown",
   "metadata": {},
   "source": [
    "### Investigating a relationship between the variables"
   ]
  },
  {
   "cell_type": "markdown",
   "metadata": {},
   "source": [
    "Scatter plots are useful to identify trends and patterns in a dataset which might indicate a relationship between two numerical variables such as we have in this dataset. \n",
    "The ordered pairs of numbers consisting of the independent variable wind 'speed' and the dependent variable 'power' output are plotted below resulting in a joint distribution of the two variables. Each point represents an actual observation is the dataset with a speed and a corresponding power value. \n",
    "The scatter plot shows an increasing linear trend in the middle range of the wind speed values. This would indicate that for increasing wind speeds in this range, power output values do increase, but only after a minimum wind speed has been reached. Power outputs then increase in line with increases in wind speed until it reaches a peak and plateaus.\n",
    "- When wind speed increases from very low levels, the power does not increase by much or at all. \n",
    "- The wind turbine power values does start to increase with the wind speed from wind speed values of about 5 to about 18/19. \n",
    "- From wind speeds of 20 onwards to about 25 the power values increase no further and seem to level off. \n",
    "\n",
    "An initial guess would be that at very low winds there may not be enough speed to get the turbine going and also that there might be a maximum power that can be achieved by the wind turbine regardless of how high the wind can go. Once the turbine is in motion, little is required to keep it going. Some of the power generated might be consumed by the turbine itself at low levels to get it started."
   ]
  },
  {
   "cell_type": "code",
   "execution_count": 6,
   "metadata": {},
   "outputs": [
    {
     "data": {
      "image/png": "[encoded data removed]",
      "text/plain": [
       "<Figure size 864x576 with 1 Axes>"
      ]
     },
     "metadata": {},
     "output_type": "display_data"
    }
   ],
   "source": [
    "# create the plot\n",
    "plt.style.use('ggplot')\n",
    "# Plot size.\n",
    "plt.rcParams['figure.figsize'] = (12, 8)\n",
    "sns.scatterplot(x=df['speed'],y=df['power'], marker=\"x\")\n",
    "plt.grid(True)\n",
    "# add title\n",
    "plt.title(\"Scatter plot of Speed and Power\");"
   ]
  },
  {
   "cell_type": "markdown",
   "metadata": {},
   "source": [
    "#### Correlation and Covariance of Speed and Power values\n",
    " \n",
    "For two quantitative variables such as the wind speed and power values, the covariance and correlation can also be used to determine whether a linear relationship between variables does exist and to show if one variable tends to occur with large or small values of another variable. The correlation statistics puts a numerical value on the strength and direction of the relationship.  The correlation coefficient here of 0.85 shows there is a very strong positive relationship between the wind speed and turbine power output.  The scatter plot shows a curved  relationship between the variables. There appears to be a curvilinear pattern in the data so the statistic should be considered alongside the plots."
   ]
  },
  {
   "cell_type": "code",
   "execution_count": 7,
   "metadata": {
    "scrolled": true
   },
   "outputs": [
    {
     "data": {
      "text/html": [
       "<div>\n",
       "<style scoped>\n",
       "    .dataframe tbody tr th:only-of-type {\n",
       "        vertical-align: middle;\n",
       "    }\n",
       "\n",
       "    .dataframe tbody tr th {\n",
       "        vertical-align: top;\n",
       "    }\n",
       "\n",
       "    .dataframe thead th {\n",
       "        text-align: right;\n",
       "    }\n",
       "</style>\n",
       "<table border=\"1\" class=\"dataframe\">\n",
       "  <thead>\n",
       "    <tr style=\"text-align: right;\">\n",
       "      <th></th>\n",
       "      <th>speed</th>\n",
       "      <th>power</th>\n",
       "    </tr>\n",
       "  </thead>\n",
       "  <tbody>\n",
       "    <tr>\n",
       "      <th>speed</th>\n",
       "      <td>1.000000</td>\n",
       "      <td>0.853778</td>\n",
       "    </tr>\n",
       "    <tr>\n",
       "      <th>power</th>\n",
       "      <td>0.853778</td>\n",
       "      <td>1.000000</td>\n",
       "    </tr>\n",
       "  </tbody>\n",
       "</table>\n",
       "</div>"
      ],
      "text/plain": [
       "          speed     power\n",
       "speed  1.000000  0.853778\n",
       "power  0.853778  1.000000"
      ]
     },
     "execution_count": 7,
     "metadata": {},
     "output_type": "execute_result"
    }
   ],
   "source": [
    "df.corr()"
   ]
  },
  {
   "cell_type": "markdown",
   "metadata": {},
   "source": [
    "### Some summary statistics of the dataset:\n",
    "When looking at quantitative variables such as wind speed and power values, the characteristics of interest are the centre, spread, modality, the shape of the distribution and the outliers. Panda's `describe` function generates statistics that summarize the central tendency, dispersion and shape of a dataset’s distribution. (excluding NaN values)\n",
    "The central tendency or location of the data distribution is determined by the typical or middle values. While the mean value is the average value in the dataset it may not be typical of the values in the dataset if there are very small or very large values in the dataset. The median is another measure of central tendancy - it is the middle value after all the values are put in an ordered list.\n",
    "The mean and median are similar for symmetric distributions whereas for unimodal skewed distributions the mean will be more in the direction of the long tail of the distribution. \n",
    "The median can be considered a more typical value in the dataset or closer to some of the typical values and is also considered [robust](https://en.wikipedia.org/wiki/Robust_statistics) which means that removing some of the data will not tend to change the value of the median. A few extreme values will not affect the median as they would affect the mean. \n",
    "In this dataset the mean and median wind speed values are similar at approx 12.5 to 12.6.\n",
    "The median power value is just over 41 compared to the mean power value of 48.\n",
    "As we saw above, there are many zero values for power in the dataset. At least 10% of the power values in the dataset are zero and probably for valid reasons.\n",
    "\n",
    "The variance and standard deviation statistics can be used to show the spread of the distribution of the speed and power data values and how far away from the centre the data points are located.\n",
    "The variance is the average of the squared deviations of each observation from the centre or mean of the data while the standard deviation is the square root of the variance and is in the same units as the data and therefore can be more easily interpreted. \n",
    "The range of values in the data is shown by the minimum and maximum values and is not considered a robust measure of spread but it is useful for showing possible errors or outliers.\n",
    "\n",
    "The percentiles or quartiles of the speed and power values can be used to see the spread of the data values. The Interquartile range (IQR) is calculated by taking the 75% percentile or 3rd quartile minus the 25% percentile or first quartile and captures half of the values, the middle values of the data. Data that is more spread out will have a higher IQR. The IQR is considered a more robust measure of spread than the variance and standard deviation and will be more clearly shown in the boxplots further down. The IQR does not consider the data below the 25% percentile or above the 75% percentile which may contain outliers. The statistics here show that the *power* variable in this dataset is much more spread out or variable than the *speed* variable. "
   ]
  },
  {
   "cell_type": "code",
   "execution_count": 8,
   "metadata": {},
   "outputs": [
    {
     "data": {
      "text/html": [
       "<div>\n",
       "<style scoped>\n",
       "    .dataframe tbody tr th:only-of-type {\n",
       "        vertical-align: middle;\n",
       "    }\n",
       "\n",
       "    .dataframe tbody tr th {\n",
       "        vertical-align: top;\n",
       "    }\n",
       "\n",
       "    .dataframe thead th {\n",
       "        text-align: right;\n",
       "    }\n",
       "</style>\n",
       "<table border=\"1\" class=\"dataframe\">\n",
       "  <thead>\n",
       "    <tr style=\"text-align: right;\">\n",
       "      <th></th>\n",
       "      <th>speed</th>\n",
       "      <th>power</th>\n",
       "    </tr>\n",
       "  </thead>\n",
       "  <tbody>\n",
       "    <tr>\n",
       "      <th>count</th>\n",
       "      <td>500.000000</td>\n",
       "      <td>500.000000</td>\n",
       "    </tr>\n",
       "    <tr>\n",
       "      <th>mean</th>\n",
       "      <td>12.590398</td>\n",
       "      <td>48.014584</td>\n",
       "    </tr>\n",
       "    <tr>\n",
       "      <th>std</th>\n",
       "      <td>7.224991</td>\n",
       "      <td>41.614572</td>\n",
       "    </tr>\n",
       "    <tr>\n",
       "      <th>min</th>\n",
       "      <td>0.000000</td>\n",
       "      <td>0.000000</td>\n",
       "    </tr>\n",
       "    <tr>\n",
       "      <th>25%</th>\n",
       "      <td>6.324750</td>\n",
       "      <td>5.288000</td>\n",
       "    </tr>\n",
       "    <tr>\n",
       "      <th>50%</th>\n",
       "      <td>12.550500</td>\n",
       "      <td>41.645500</td>\n",
       "    </tr>\n",
       "    <tr>\n",
       "      <th>75%</th>\n",
       "      <td>18.775250</td>\n",
       "      <td>93.537000</td>\n",
       "    </tr>\n",
       "    <tr>\n",
       "      <th>max</th>\n",
       "      <td>25.000000</td>\n",
       "      <td>113.556000</td>\n",
       "    </tr>\n",
       "  </tbody>\n",
       "</table>\n",
       "</div>"
      ],
      "text/plain": [
       "            speed       power\n",
       "count  500.000000  500.000000\n",
       "mean    12.590398   48.014584\n",
       "std      7.224991   41.614572\n",
       "min      0.000000    0.000000\n",
       "25%      6.324750    5.288000\n",
       "50%     12.550500   41.645500\n",
       "75%     18.775250   93.537000\n",
       "max     25.000000  113.556000"
      ]
     },
     "execution_count": 8,
     "metadata": {},
     "output_type": "execute_result"
    }
   ],
   "source": [
    "# get summary statistics of the numerical values, \n",
    "df.describe() # get statistics summary of the"
   ]
  },
  {
   "cell_type": "code",
   "execution_count": 9,
   "metadata": {},
   "outputs": [
    {
     "name": "stdout",
     "output_type": "stream",
     "text": [
      "The mean speed value is 12.590 while the median speed value  is 12.550\n",
      "The mean power value is 48.015 while the median power value  is 41.645\n",
      "The standard deviations of speed values  is 7.225\n",
      "The standard deviations of power values is 41.615\n",
      "The minimum speed value is 0.0 while the maximum speed value is 25.0 giving range of 25.0\n",
      "The minimum Power value is 0.0 while the maximum power value is 113.556 giving range of 113.556\n",
      "The median speed value is 12.5505 with the IQR ranging from 6.32 to  18.78\n",
      "The median power value is 41.6455 with the IQR ranging from 5.29 to  93.54\n"
     ]
    }
   ],
   "source": [
    "print(\"The mean speed value is %.3f\" %df['speed'].mean(),\"while the median speed value  is %.3f\" %df['speed'].quantile(q=0.5))\n",
    "print(\"The mean power value is %.3f\" %df['power'].mean(),\"while the median power value  is %.3f\" %df['power'].quantile(q=0.5))\n",
    "#print(f\"The variance and standard deviations of speed values  are {df['speed'].var():.3f} and {df['speed'].std():.3f}\")\n",
    "#print(f\"The variance and standard deviations of power values are {df['power'].var():.3f} and {df['power'].std():.3f}\")\n",
    "print(f\"The standard deviations of speed values  is {df['speed'].std():.3f}\")\n",
    "print(f\"The standard deviations of power values is {df['power'].std():.3f}\")\n",
    "print(f\"The minimum speed value is {df['speed'].min()} while the maximum speed value is { df['speed'].max()} giving range of {df['speed'].max() - df['speed'].min()}\")\n",
    "print(f\"The minimum Power value is {df['power'].min()} while the maximum power value is { df['power'].max()} giving range of {df['power'].max() - df['power'].min()}\")\n",
    "print(f\"The median speed value is {df['speed'].quantile(q=0.5)} with the IQR ranging from {df['speed'].quantile(q=0.25):.2f} to  {df['speed'].quantile(q=0.75):.2f}\")\n",
    "print(f\"The median power value is {df['power'].quantile(q=0.5)} with the IQR ranging from {df['power'].quantile(q=0.25):.2f} to  {df['power'].quantile(q=0.75):.2f}\")"
   ]
  },
  {
   "cell_type": "code",
   "execution_count": 10,
   "metadata": {},
   "outputs": [
    {
     "data": {
      "image/png": "[encoded data removed]",
      "text/plain": [
       "<Figure size 864x288 with 2 Axes>"
      ]
     },
     "metadata": {},
     "output_type": "display_data"
    }
   ],
   "source": [
    "f, axes = plt.subplots(1, 2, figsize=(12, 4))\n",
    "sns.set(style=\"ticks\", palette=\"pastel\")\n",
    "sns.boxplot(y=df['speed'], ax=axes[0], color=\"blue\")\n",
    "# add a title\n",
    "axes[0].set_title(\"Boxplot of Speed values\")\n",
    "sns.boxplot(y=df['power'], ax=axes[1], color=\"purple\")\n",
    "axes[1].set_title(\"Boxplot of Power Values\");"
   ]
  },
  {
   "cell_type": "markdown",
   "metadata": {},
   "source": [
    "The skewness of the data is a measure of assymetry which can be seen by the lopsidedness of a boxplot.\n",
    "Wind speed appears to be quite symmetric. The wind speed boxplot is cut pretty much in half by the median. Power appears to be soemwhat skewed to the right as the boxplot shows more of the box to the right or above the median line.\n",
    "A boxplot with the median closer to the lower quartile is considered positively skewed. Positively skewed data has the mean greater than the median and it can be interpreted as having a higher frequency of high valued scores. The lower values of power are closer together than the higher power values.\n"
   ]
  },
  {
   "cell_type": "markdown",
   "metadata": {},
   "source": [
    "### Regression plots\n",
    "The Python Seaborn library has some regression plots that can be used to quickly visualise relationships and patterns that may exist in the data. They use statistical models to estimate a simple relationship between sets of observations and are mainly used to visualise patterns in a dataset during the exploratory data analysis.\n",
    "The scatter plot earlier showed a relationship between wind speeds and wind turbine power that is non-linear. There does seem to be a somewhat linear relationship for wind speeds between values of about 10 up to about 18 or so. Therefore it is worth looking at higher order polynomials as well as linear regression.\n",
    "The plot below shows that the polynomial with order 3 looks a much better fit to the line than the first or second order linear regression lines. It is important not to go down the road of overfitting the data though."
   ]
  },
  {
   "cell_type": "code",
   "execution_count": 11,
   "metadata": {},
   "outputs": [
    {
     "data": {
      "image/png": "[encoded data removed]",
      "text/plain": [
       "<Figure size 1008x576 with 4 Axes>"
      ]
     },
     "metadata": {},
     "output_type": "display_data"
    }
   ],
   "source": [
    "f, axes = plt.subplots(2, 2, figsize=(14, 8))\n",
    "x = \"speed\"\n",
    "y = \"power\"\n",
    "sns.regplot(x=\"speed\", y=\"power\", data=df, ax=axes[0,0], label=\"order = 1\", ci=False); axes[0,0].legend()\n",
    "sns.regplot(x=\"speed\", y=\"power\", data=df, order=2, ax=axes[0,1], label=\"order =2\", ci=False); axes[0,1].legend()\n",
    "sns.regplot(x=\"speed\", y=\"power\", data=df, order=3, ax=axes[1,0], label=\"order =3\", ci=False); axes[1,0].legend()\n",
    "sns.regplot(x=\"speed\", y=\"power\", data=df, order=4, ax=axes[1,1], label = \"order=4\"); axes[1,1].legend()\n",
    "plt.legend()\n",
    "plt.suptitle(\"Trying higher order polynomial regression functions to Speed and Power values\")\n",
    "plt.show()"
   ]
  },
  {
   "cell_type": "markdown",
   "metadata": {},
   "source": []
  },
  {
   "cell_type": "markdown",
   "metadata": {},
   "source": [
    "Residual plots can be used to check whether the simple regression model of speed ~ power  is appropriate for a dataset. The seaborn `residplot` fits and removes a simple linear regression and then plots the residual values for each observation. Ideally, these values should be randomly scattered around y = 0. If there is structure in the residuals, this suggests that simple linear regression is not appropriate for the data. The residual plot here has a shape which suggest non-linearity in the data set as expected."
   ]
  },
  {
   "cell_type": "code",
   "execution_count": 12,
   "metadata": {
    "scrolled": true
   },
   "outputs": [
    {
     "data": {
      "image/png": "[encoded data removed]",
      "text/plain": [
       "<Figure size 720x360 with 1 Axes>"
      ]
     },
     "metadata": {},
     "output_type": "display_data"
    }
   ],
   "source": [
    "plt.rcParams['figure.figsize'] = (10, 5)\n",
    "sns.residplot(x=\"speed\", y=\"power\", data=df, scatter_kws={\"s\": 80})\n",
    "plt.title(\"Residual plot\"); plt.show()"
   ]
  },
  {
   "cell_type": "markdown",
   "metadata": {},
   "source": [
    "---\n",
    "## Some background information on Wind Turbines\n",
    "### Drop most of this, just to explain the S-curve and the reasons for the zero values.\n",
    "\n",
    "The dataset [1] consists of two columns each containing 500 floating numbers under the column names `speed` and `power`. There are no other features provided.  Before I go any further I will do a little research into the dataset which may help in understanding and  interpreting the relationship between wind speed and power output from a turbine and also in determining what conclusions can be reached based on the dataset alone.\n",
    "\n",
    "Some background to the project was provided in a lecture. In the electricity supply market, the producers usually sell their electricity ahead of time and enter a contract where they agree to produce a certain number of kilowatts of electricity during a particular time frame. The price is negotiated in advance of generating electricity and pushing it onto the supply grid. Wind farms supply electricity to the supply grid and negotiate prices in advance. It is more difficult for wind farms to predict exactly how much electricity they can generate at a future date compared to other electricity producers as their generation of electricity depends on  wind power. \n",
    "For this reason predictions can be estimated based on meterological data from a weather prediction agent such as Met Eireann. The aim is to be able to predict that when wind speed is a certain amount that the power produced from the turbines is a certain amount. \n",
    "\n",
    "[The Irish Wind Energy Association (IWEA)](https://www.iwea.com/about-us/about-us)[2] is the representative body for the Irish wind industry, working to promote wind energy as an essential, economical and environmentally friendly part of the country’s low-carbon energy future. They note here that in 2018 wind energy provided 29 per cent of Ireland’s electricity. Each quarter, both EirGrid and ESBN publish updated wind farm statistics for Ireland at [ESBN Connected Wind Farms](https://www.esbnetworks.ie/new-connections/generator-connections/generator-connection-statistics). There is currently 4,130 MW of installed capacity in the Republic of Ireland. The amount of electricity a turbine can generate depends on the type of turbine and the wind conditions at any time. There are many different models of turbines that can generate different amounts of electricity. Ireland’s largest wind farm is the Galway Wind Park in Connemara which has 3 MW turbines.\n",
    "\n",
    "Eirgrid's [Smart grid dashboard](http://smartgriddashboard.eirgrid.com/#all/about/wind)[3] shows actual and forecast wind generation by day, week and month for allwind farms on the system while [WindEurope](https://windeurope.org/data-and-analysis/) has some facts and issues about wind energy in Europe, in particular the section on [Wind Energy Basics](https://windeurope.org/about-wind/wind-basics/). Wind is caused by three things, the heating of the atmosphere by the sun, the rotation of the Earth and the Earth's surface irregularities. *air under high pressure moves toward areas of low pressure – and the greater the difference in pressure, the faster the air flows and the stronger the wind!* [4] Energy is the ability to  do work and can be categorised into  either kinetic energy (the energy of moving objects) or potential energy (energy that is stored). Wind turbines take the kinetic energy that’s in the wind and convert that kinetic energy into mechanical power which is mostly used in the form of electricity. Wind energy captures the energy of the wind and converts it to electricity and is an alternative to burning fossil fuels. It comes from a natural and renewable resourse and it is clean as it produces no greenhouse gas, emits no air pollutants and uses very little water. \n",
    "A wind turbine is a device that converts kinetic energy from the wind into electricity. Their output ranges from as small as 100 kilowatts to as big as 12 megawatts. According to this website [4], there are three main variables determining how much electricity a turbine can produce,  wind speed, blade radius and air density. Stronger winds allow more electricity to be produced with higher turbines being more receptive to strong winds. We only have the values for wind speed in the dataset here so will have to assume that the other variables are constant.\n",
    "\n",
    "**Wind turbines generate electricity at wind speeds of 4 – 25 metres per second.** [4]\n",
    "The article also outlines what happens when the wind doesn't blow. A wind farms location is usually chosen purposely and therefore when a wind turbine is not turning it is usually because of maintenance, or because it must be stopped for safety reasons in the case of strong winds or a storm. This should account for the zero values we see in the dataset. The article does note that while sometimes there might not be enough wind to turn a turbine, the wind energy is not lost as the wind energy can be stored  in energy storage systems  for later use whenever wind levels are low.\n",
    "\n",
    "Another article looks at [how to calculate power output of wind ](https://www.windpowerengineering.com/calculate-wind-power-output/) [5] and notes that most *U.S. manufacturers rate their turbines by the amount of power they can safely produce at a particular wind speed, usually chosen between 24 mph or 10.5 m/s and 36 mph or 16 m/s.*\n",
    "A formula illustrates the factors important to the performance of a wind turbine and notes that the wind speed `V` has an exponent of 3 applied to it meaning that even small increases in wind speeds result in a large increase in power.\n",
    "$Power=k.Cp \\frac{1}{2}\\rho AV^3$  where P = power output in kilowatts, Cp = Maximum power coefficient, $\\rho$ is Air density, A = Rotor swept area, V = wind speed in mph, k = 0.000133 a constant to yield power in kilowatts. There are other more complex formulas mentioned in other articles but this is not relevent. \n",
    "Additionally the article notes that although the calculation of wind power illustrates important features about wind turbines, the best measure of wind turbine performance is annual energy output. The difference between power and energy is that power (kilowatts kW) is the rate at which electricity is consumed, while energy (kilowatt-hours kWh) is the quantity consumed.\n",
    "\n",
    "I came across a blog post [6] that use a linear equation to calculate ideal wind production where the author notes  that modeling results can be enhanced via statistical analysis of hyper-local time series such as meteorological data and energy production data. Each wind turbine manufacturer provides an ideal energy production curve for their turbines. The article provides a brief overview which is taken from another research article [7]. Of particular relevance is that a typical wind turbine has three main characteristic speeds, the cut-in speeds (Vc), rated speeds (Vr) and cut-out (Vs) speeds which explain the s-shaped curve we see for this dataset.\n",
    "- The turbine starts generating power when the wind speed reaches the cut-in value.\n",
    "- The rated speed is the wind speed at which the generator is producing the machine’s rated power.\n",
    "- The power generation is shut down to prevent defects and damage when the wind speed reaches the cut-out speed.\n",
    "It also mentions the differences between the ideal power curves which just describe the potentially maximum output versus reality taking into account many factors as well as measurement variations.\n",
    "*In practice, however, wind turbines are never used under ideal conditions, and the empirical power curves could be substantially different from the theoretical ones due to the location of the turbine, air density, wind velocity distribution, wind direction, mechanical and control issues, as well as uncertainties in measurements.* [7] \n",
    "\n",
    "While the ideal power curves simply describe potentially maximum output, accuracy could be improved by using more accurate accurate weather forecasts or various statistical methods such as machine learning. We do not have  historical data which we could use for statistical improvements but nor do we have hyper-local forecasts as we don't know the source or time frame of this particular dataset.\n",
    "Another article notes that real wind turbines do not achieve their theoretical limit as their performance is a function to of aerodynamics and the need to limit power capture once the rated generator power is reached, at ‘rated’ windspeed. \n",
    ">The generator power, turbine diameter and bladeshape are optimized based on site characteristics such as annual average wind speed and the wind speed distribution. [8]\n",
    "\n",
    "Turbine manufacturers measure their turbine’s ‘powercurve’ (the relationship between power output and windspeed) at turbine test sites where it is calculated from 10 min averaged wind speed ($U=\\bar{\\mu}$) and power.\n",
    ">The typical power curves have an s-shape where at wind speeds less than rated the energy capture is approximately proportional to $U^3$ (known as Region II). At wind speeds above rated, the bladepitch and generator torque are actively controlled to limit the power to the generator’s rated power (Region III). [8]\n",
    "\n",
    "Variations in atmospheric conditions can lead to changes in turbine power output of 10% or more at the same wind speed. Turbulence and shear and not usually used in the power curves as they are considered  difficult to include in turbine power predictions. The article also mentions that because of intermittency in the wind, wind turbines typically produce 20%–40% of their maximum possible output over the course of a year. There is a lot of uncertainty  in predicting power generation from a turbine using local wind speed data. If the amount of energy is overestimated then the site might not be as profitable as expected while underestimating the energy available at a site might lead to a site not being developed at all. This study simulated the aerodynamic forces on the turbines blades and structures using an aerostructuraland simulator and  created 1796 10-minute wind fields from a stochastic turbulence simulator. The data from the wind fields from the simulations were used to form a database of 1796 observations of 10-min average power (the response) as a function of wind speed, turbulence intensity, and shear exponent (the forcing). The researchers binned the power data into 1 m $s^{-1}$ wide bins and included a plot (figure 3 in the article) of the power curve which shows a Region II between 0.3 metres per second and about 11.5 metres per second, region III is from end the end of region II up to 25 which correspond exactly with our dataset.\n",
    "\n",
    "<div><img src=powerCurveRegionsACliftonetAl.png width=\"500\"></div>\n",
    "Source: Figure 3. Power curve and operating regions for the WindPACT 1.5 MW turbine [8] \n",
    "\n",
    "The authors also noted that although the forcing variables are evenly distributed, variance in power is largest near rated wind speed. This sensitivity may result in large variation between predicted power output and observed power output. Furthermore, the mean power generated in simulations that include turbulence is lower than the no-turbulence cases near rated wind speed.\n",
    "At wind speeds below 8 m $s^{-1}$, power increases with turbulence intensity and shear. The increase in power due to turbulence arises because turbulent flow with mean speed *U* carries more power than laminar flow of the same *U*. The changes in power output of +/-20% associated with turbulence are approximately half of the change due to a change in wind speed from 7 to 8 $m^{s−1}$.\n",
    "In contrast, at wind speeds just above and below rated speed, increasing turbulence intensity reduces power output as the turbine cannot capture the extra energy that gusts bring, but a short duration slow down to wind speeds below rated results in a loss of energy. As the mean wind speed increases, the total amount of time with the blades pitched toward feather increases and the wind turbine is more often operating at rated power. At wind speeds much greater than rated, larger turbulence intensities are required to reduce the output of the machine to less than rated power, regardless of shear. In Regions II and III, variation in $Ti$ impacts power performance more than variation in $\\alpha$.\n",
    "\n",
    "The article next looked at using machine learning to predict power output under different conditions by incorporating turbulence intensity and wind shear into power prediction tools. They note that the power output from the turbine is not a linear function of wind speed and so linear regression is not an appropriate technique. Non-linear regression assumes that the relationships are constant throughout the model space (i.e. power output is always proportional to $U^n$ ), which is incorrect, so non-linear regression is also inappropriate. Also, as multivariate bins only work where the training data includes data in all bins this would be computationally or observationally more expensive. Instead they chose a machine learning technique `regression trees` for capturing non-linear changes in response to forcing. Regression trees are models that use simple branching question paths to predict an outcome based on inputs. \n",
    "\n",
    "The turbines responds differently to changes in shear and turbulence at different wind speeds. In Region II, at wind speeds below 8 m $s^{−1}$, power output increases by up to 10% as turbulence increases or as the magnitude of the shear increases. At wind speeds greater than 8 m $s^{−1}$ and in Region III, the regression tree modeled power is consistent with the simulated power output: power decreases as turbulence intensity increases and shows weak or no dependence on shear.\n",
    "\n",
    "The article concludes:\n",
    ">simulations suggest and the model clearly demonstrates that the response of the turbine is a complex non-linear function of hub height wind speed, turbulence intensity, and rotor disk shear. At wind speeds below rated speed, the turbine power output is most sensitive to changes in wind speed and speed, turbulence. At rated speed, the turbine is most sensitive to turbulence intensity and shear, and power can change by 10% under typical atmospheric conditions. At wind speeds greater than rated, the turbine responds most to changes in turbulence intensity.\n",
    "\n",
    "The article also includes a figure of the power curves for different utility-scale wind turbines which all reach higher maximum powers than the values in this dataset. [8] The cut-in speeds quoted here are in miles per hour which can be converted to metres per second by divide by 2.237.\n",
    "Rated windspeed is the wind speed at which a turbine hits its maximum rated power output.\n",
    "\n",
    "Wikipedia describes wind turbine design as follows:\n",
    ">A wind turbine is designed to produce power over a range of wind speeds. The cut-in speed is around 3–4 m/s for most turbines, and cut-out at 25 m/s. If the rated wind speed is exceeded the power has to be limited. There are various ways to achieve this.\n",
    ">All wind turbines are designed for a maximum wind speed, called the survival speed, above which they will be damaged. The survival speed of commercial wind turbines is in the range of 40 m/s (144 km/h, 89 MPH) to 72 m/s (259 km/h, 161 MPH). The most common survival speed is 60 m/s (216 km/h, 134 MPH). Some have been designed to survive 80 metres per second (290 km/h; 180 mph) [9]\n",
    "\n",
    "Every wind turbine design has a cut-in wind speed, a rated wind speed, and a cut-out wind speed.\n",
    "At the cut-in wind speed, the blades start to turn and a trickle of electricity starts to be produced. Around cut-in, the generator may be used as a motor to help the wind overcome inertia and start the blades turning.[10]\n",
    "The cut-in speed is typically 7 to 9 mph or equivalently to 3 to 4 meters per second.\n",
    "At the rated wind speed, the turbine is able to generate electricity at its maximum, or rated, capacity.\n",
    "The rated speed is usually in the range of 25 to 35 mph (equivalent to 11 to 13.5 metres per second). At the cut-out wind speed, the turbine shuts down to avoid damage. The pitch controllers feather the blades to let the wind flow past them and the rotor hub is braked. The wind usually has to return to a much lower speed, called the cut-back-in wind speed, for a certain amount of time before the turbine will restart. The cut-out speed is generally around 55 mph (24.6 metres per second). The cut-back-in speed is around 45 mph (20 metres per second).[10]\n",
    "\n",
    "\n",
    "Some noteable facts of relevance:\n",
    "- Wind speed is measured in metres per second.\n",
    "- **Wind turbines generate electricity at wind speeds of 4 – 25 metres per second** [4]\n",
    "- A wind farms location is usually chosen purposely and therefore when a wind turbine is not turning it is usually because of maintenance, or because it must be stopped for safety reasons in the case of strong winds or a storm. This would account for the zero values in the dataset.\n",
    "- Sometimes there might not be enough wind to turn a turbine but the wind energy is not lost as it can be stored up to be used later whenever wind levels are low. This might explain the higher than expected values of power for low levels of wind speed that we see in the dataset.\n",
    "- Turbines are rated by the amount of power they can safely produce at a particular wind speed, usually chosen between 24 mph or 10.5 m/s and 36 mph or 16 m/s [5].\n",
    "- In formulas used to illustrate the factors important to the performance of a wind turbine, an exponent of 3 is applied to wind speed.  Small increases in wind speeds result in a large increase in power. [5]\n",
    "- Of particular relevance is that a typical wind turbine has three main characteristic speeds, the cut-in speeds (Vc), rated speeds (Vr) and cut-out (Vs) speeds.  This helps explain the s-shaped curve we see for this dataset [7]\n",
    "    - The turbine starts generating power when the wind speed reaches the cut-in value.\n",
    "    - The rated speed is the wind speed at which the generator is producing the machine’s rated power.\n",
    "    - The power generation is shut down to prevent defects and damage when the wind speed reaches the cut-out speed.\n",
    "\n"
   ]
  },
  {
   "cell_type": "markdown",
   "metadata": {},
   "source": [
    "### Relating the research to the dataset:\n",
    "\n",
    "The scatter plot of our dataset did show three distinct sections of the curve, the first section at low values of wind speed where the wind turbine values are clustered around zero (including the 10% of observations that have zero power values), the second section where there seems to be a linear trend between wind speed and power output and thirdly the last section where the values of power have reached a peak at higher wind speeds and plateau, and also the outliers here.\n",
    "We would expect to see power being generated when speed is above 3-4 metres per second.\n",
    "Cut out speed at 24-25 metres per second.\n",
    "Cut back in speed after cut out is 20 meters per second.\n",
    "\n",
    "There are no null values in the dataset but there are 49 datapoints where power value is zero representing 10% of the observations. There is a single data point where speed value is zero as well as power.\n",
    "- Ten speed values over 24.4 metres per hour with a corresponding power value of zero\n",
    "- There are no data points with speeds above 24.4 and power not equal to zero\n",
    "- Eight data points where speed is less than 8 metres per second and power value is zero\n",
    "- Four datapoints where speed is greater than 8 and less than 24.4 metres per second and corresponding power values are zero\n",
    "- 24 datapoints where speed is less than 4 metres per second and power is zero\n",
    "\n",
    "- The cut-in speed is typically 3 to 4 meters per second. There are 17 observations where speed is less than 3 metres per second.\n",
    "\n",
    "#### Non-zero power values where speed is less than 3 metres per second:\n",
    "There are 39 observations where speed is less than the cut-in speed (of between 3 and 4 metres per second) and the corresponding power value is greater than zero. I think these will be the tricky ones to predict. There was mention in an article referenced above [4] that while sometimes there might not be enough wind to turn a turbine, the wind energy is not lost as the wind energy can be stored in energy storage systems for later use whenever wind levels are low.\n",
    "\n",
    "#### Rated speed\n",
    "At the rated wind speed, the turbine is able to generate electricity at its maximum, or rated, capacity.\n",
    "The rated speed is usually in the range of 25 to 35 mph. (equivalent to 11.18 to 13.4 metres per second).\n",
    "This is based on the research above but we don't know the details of the actual wind turbines being used here.\n",
    "The rated speed for the turbines in this dataset must be greated than this range as they do not reach their maximum capacity until wind speed is greater than 15 metres per second.\n",
    "The max power value in the dataset is 113.556 kws but there are very few observations in the dataset where power is greater than 110. The power curve for this dataset shows the power values levelling off in and around values between 90 and 100. "
   ]
  },
  {
   "cell_type": "code",
   "execution_count": 13,
   "metadata": {},
   "outputs": [
    {
     "data": {
      "text/plain": [
       "speed    49\n",
       "power    49\n",
       "dtype: int64"
      ]
     },
     "execution_count": 13,
     "metadata": {},
     "output_type": "execute_result"
    }
   ],
   "source": [
    "# show the unique values\n",
    "df.speed.unique()\n",
    "len(df.groupby('speed')) # 490\n",
    "# a count of the unique speed values\n",
    "df.speed.value_counts() # 490\n",
    "# a count of the unique power values\n",
    "df.power.value_counts() # 451\n",
    "df.groupby('speed')['power'].agg(['count', 'size', 'nunique'])\n",
    "len(df.groupby('power')) # 451\n",
    "\n",
    "df.groupby('power')['speed'].agg(['count', 'size', 'nunique'])\n",
    "len(df[['speed', 'power']].drop_duplicates()) # 490\n",
    "# the rows where both values are zero\n",
    "df[(df['speed']==0) & (df['power']==0)].count() # only 1\n",
    "df[df.power==0].count() # 49"
   ]
  },
  {
   "cell_type": "code",
   "execution_count": 14,
   "metadata": {},
   "outputs": [
    {
     "name": "stdout",
     "output_type": "stream",
     "text": [
      "The number of observations with a zero power value are as follows:\n",
      "For speed values below 3 metres per second: 17\n",
      "For speed values is between 3 and 4 metres per second: 7\n",
      "For speed values between 4 and 7 metres per second: 9\n",
      "For speed values between 7 and 24.4 metres per second: 6\n",
      "For speed values above 24.4 metres per second: 10\n"
     ]
    }
   ],
   "source": [
    "print(\"The number of observations with a zero power value are as follows:\")\n",
    "print(f\"For speed values below 3 metres per second: {df[(df.speed <3) & (df.power==0.0)].count()[0]}\")\n",
    "print(f\"For speed values is between 3 and 4 metres per second: {df[(df.speed >3) & (df.speed <4) & (df.power==0.0)].count()[0]}\")\n",
    "print(f\"For speed values between 4 and 7 metres per second: {df[(df.speed >4) & (df.speed<7) & (df.power==0.0)].count()[0]}\")\n",
    "print(f\"For speed values between 7 and 24.4 metres per second: {df[(df.speed >7) & (df.speed<24.4) & (df.power==0.0)].count()[0]}\")\n",
    "print(f\"For speed values above 24.4 metres per second: {df[(df.speed>24.4) & (df.power==0.0)].count()[0]}\")"
   ]
  },
  {
   "cell_type": "code",
   "execution_count": 15,
   "metadata": {},
   "outputs": [
    {
     "data": {
      "text/plain": [
       "speed    24\n",
       "power    24\n",
       "dtype: int64"
      ]
     },
     "execution_count": 15,
     "metadata": {},
     "output_type": "execute_result"
    }
   ],
   "source": [
    "df[(df.speed < 3) & (df.power>0.0)].count() # 39\n",
    "df[(df.speed < 3) & (df.power==0.0)].count() # 17\n",
    "df[(df.speed < 4) & (df.power>0.0)].count() # 56\n",
    "df[(df.speed < 4) & (df.power==0.0)].count() # 24"
   ]
  },
  {
   "cell_type": "markdown",
   "metadata": {},
   "source": [
    "#### Power values greater than 100\n"
   ]
  },
  {
   "cell_type": "code",
   "execution_count": 16,
   "metadata": {},
   "outputs": [
    {
     "name": "stdout",
     "output_type": "stream",
     "text": [
      "Number of data points where power is between 80 and 90 kws: 31\n",
      "Number of data points where power is between 90 and 100 kws: 95\n",
      "Number of data points where power is between 100 and 110 kws: 55\n",
      "Number of data points where power is greater than 110 kws: 2\n"
     ]
    }
   ],
   "source": [
    "print(f\"Number of data points where power is between 80 and 90 kws: {df[(df.power>80)&(df.power<90)].count()[0]}\")\n",
    "print(f\"Number of data points where power is between 90 and 100 kws: {df[(df.power>90)&(df.power<100)].count()[0]}\")\n",
    "print(f\"Number of data points where power is between 100 and 110 kws: {df[(df.power>100)&(df.power<110)].count()[0]}\")\n",
    "print(f\"Number of data points where power is greater than 110 kws: {df[(df.power>110)].count()[0]}\")"
   ]
  },
  {
   "cell_type": "markdown",
   "metadata": {},
   "source": [
    "#### Cut-out speeds for safety reasons\n",
    "At the cut-out wind speed, the turbine shuts down to avoid damage.\n",
    "There are 10 observations that fall into the cut-out speed range.\n",
    "There are no datapoints at all where speed is above the cut-out speed value and power value is not zero."
   ]
  },
  {
   "cell_type": "code",
   "execution_count": 17,
   "metadata": {},
   "outputs": [
    {
     "name": "stdout",
     "output_type": "stream",
     "text": [
      "Number of observations where speed values is above 24.4 metres per second: 10\n",
      "Number of observations where power values is zero and speed is above 24.4 metres per second: 10\n"
     ]
    }
   ],
   "source": [
    "# there are no points in the dataset where speed is greater than 24.4 and power value is not zero\n",
    "print(f\"Number of observations where speed values is above 24.4 metres per second: {df[df.speed>24.4].count()[0]}\") # \n",
    "print(f\"Number of observations where power values is zero and speed is above 24.4 metres per second: {df[(df.speed > 24.4) & (df.power==0.0)].count()[0]}\")"
   ]
  },
  {
   "cell_type": "markdown",
   "metadata": {},
   "source": [
    "#### Speeds between 7 and 8 metres per second:"
   ]
  },
  {
   "cell_type": "code",
   "execution_count": 18,
   "metadata": {},
   "outputs": [
    {
     "data": {
      "text/plain": [
       "speed    2\n",
       "power    2\n",
       "dtype: int64"
      ]
     },
     "execution_count": 18,
     "metadata": {},
     "output_type": "execute_result"
    }
   ],
   "source": [
    "df[(df.speed >7) & (df.speed < 8) & (df.power==0.0)].count()"
   ]
  },
  {
   "cell_type": "code",
   "execution_count": 19,
   "metadata": {},
   "outputs": [
    {
     "data": {
      "text/plain": [
       "speed    49\n",
       "power    49\n",
       "dtype: int64"
      ]
     },
     "execution_count": 19,
     "metadata": {},
     "output_type": "execute_result"
    }
   ],
   "source": [
    "df[(df.speed >11) & (df.speed< 13.4)].count()"
   ]
  },
  {
   "cell_type": "markdown",
   "metadata": {},
   "source": [
    "\n"
   ]
  },
  {
   "cell_type": "markdown",
   "metadata": {},
   "source": [
    "### Data cleaning:\n",
    "I debated whether to leave in the observations with zero power values as they do convey some information about the dataset. However after initially trying out the neural network using the complete dataset, the cost did not fall as much as desired and the resulting plots suggested that keeping the zero power values in for the very high values of speed were throwing things out. The research above showed that there is a cut-out speed between 24 and 25 metres per second for safety reasons.  At the cut-out wind speed, the turbine shuts down to avoid damage. This is enough to justify excluding these observations as we can predict that the power output will be zero when the wind speed exceeds this cut out value. There are only ten observations in the dataset that fall into this range.\n",
    "We can only predict values for power when the turbines are turned on and therefore maybe the model should only be predicting for values of speed where the turbine is on! \n",
    "\n",
    "While there is only one zero value for the speed variable, there are 49 zero values for the power variable. These mostly occur below a certain value of speed but located alongside non-zero power values and there are a few that are associated with medium and higher speed values of speed. Most of the data points in the dataset are unique values. The one datapoint with a zero speed value has a zero power value as expected.\n",
    "\n",
    "Summary of where the zero power values occur:\n",
    "- 17 where speed is less than 3 metres per second\n",
    "- 7 where speed is between 3 and 4 metres per second. This is the cut-in speed\n",
    "- 9 where speed lies between 4 and 7\n",
    "- 6 where speed is between 7 and 24.4\n",
    "- 10 where speed is above 24.4 metres per second. This is the cut-out value.\n",
    "\n",
    "Wind turbines generate electricity at wind speeds of 4 – 25 metres per second.\n",
    "For now I will drop all observations where speed is greater than the cut-out value of 24.4 metres per second.\n",
    "I will also drop the observations above the cut-in speed of between 3 and 4 metres per second.\n",
    "I will leave in all the observations where speed is less than the cut-in speed including the zero values.\n",
    "Therefore I am dropping 25 observations from the dataset where the power values are zero.\n",
    "Ten observations where the wind speed is greater than the cut-off value; the corresponding power is zero as the turbines are off.\n",
    "Fifteen observations where wind speed is greater than the cut-in and less than the cut-out and the power is zero. I am assuming that these represent points where the turbines have been turned off for maintenance or other reasons. I may revisit this.\n",
    "I will make a copy of the dataframe for this purpose."
   ]
  },
  {
   "cell_type": "code",
   "execution_count": 20,
   "metadata": {},
   "outputs": [],
   "source": [
    "#https://pandas.pydata.org/pandas-docs/stable/reference/api/pandas.DataFrame.drop.html\n",
    "# https://thispointer.com/python-pandas-how-to-drop-rows-in-dataframe-by-conditions-on-column-values/\n",
    "#df.drop(df.loc[(df.speed>24.4)].index, inplace=True)"
   ]
  },
  {
   "cell_type": "code",
   "execution_count": 21,
   "metadata": {},
   "outputs": [],
   "source": [
    "# make a copy of the dataframe\n",
    "dfx = df.copy()"
   ]
  },
  {
   "cell_type": "code",
   "execution_count": 22,
   "metadata": {},
   "outputs": [
    {
     "data": {
      "text/plain": [
       "speed    25\n",
       "power    25\n",
       "dtype: int64"
      ]
     },
     "execution_count": 22,
     "metadata": {},
     "output_type": "execute_result"
    }
   ],
   "source": [
    "# how many rows where wind speed above the cut-in speed and power is zero\n",
    "dfx.loc[(dfx.speed > 4)&(dfx.power == 0)].count()"
   ]
  },
  {
   "cell_type": "code",
   "execution_count": 23,
   "metadata": {},
   "outputs": [],
   "source": [
    "# drop rows from the new dataframe \n",
    "dfx.drop(dfx.loc[(df.speed > 4)&(dfx.power == 0)].index, inplace=True)"
   ]
  },
  {
   "cell_type": "code",
   "execution_count": 24,
   "metadata": {},
   "outputs": [
    {
     "data": {
      "text/html": [
       "<div>\n",
       "<style scoped>\n",
       "    .dataframe tbody tr th:only-of-type {\n",
       "        vertical-align: middle;\n",
       "    }\n",
       "\n",
       "    .dataframe tbody tr th {\n",
       "        vertical-align: top;\n",
       "    }\n",
       "\n",
       "    .dataframe thead th {\n",
       "        text-align: right;\n",
       "    }\n",
       "</style>\n",
       "<table border=\"1\" class=\"dataframe\">\n",
       "  <thead>\n",
       "    <tr style=\"text-align: right;\">\n",
       "      <th></th>\n",
       "      <th>speed</th>\n",
       "      <th>power</th>\n",
       "    </tr>\n",
       "  </thead>\n",
       "  <tbody>\n",
       "    <tr>\n",
       "      <th>count</th>\n",
       "      <td>475.000000</td>\n",
       "      <td>475.000000</td>\n",
       "    </tr>\n",
       "    <tr>\n",
       "      <th>mean</th>\n",
       "      <td>12.440971</td>\n",
       "      <td>50.541667</td>\n",
       "    </tr>\n",
       "    <tr>\n",
       "      <th>std</th>\n",
       "      <td>7.101231</td>\n",
       "      <td>41.171815</td>\n",
       "    </tr>\n",
       "    <tr>\n",
       "      <th>min</th>\n",
       "      <td>0.000000</td>\n",
       "      <td>0.000000</td>\n",
       "    </tr>\n",
       "    <tr>\n",
       "      <th>25%</th>\n",
       "      <td>6.293500</td>\n",
       "      <td>6.737500</td>\n",
       "    </tr>\n",
       "    <tr>\n",
       "      <th>50%</th>\n",
       "      <td>12.538000</td>\n",
       "      <td>47.282000</td>\n",
       "    </tr>\n",
       "    <tr>\n",
       "      <th>75%</th>\n",
       "      <td>18.531500</td>\n",
       "      <td>94.017500</td>\n",
       "    </tr>\n",
       "    <tr>\n",
       "      <th>max</th>\n",
       "      <td>24.399000</td>\n",
       "      <td>113.556000</td>\n",
       "    </tr>\n",
       "  </tbody>\n",
       "</table>\n",
       "</div>"
      ],
      "text/plain": [
       "            speed       power\n",
       "count  475.000000  475.000000\n",
       "mean    12.440971   50.541667\n",
       "std      7.101231   41.171815\n",
       "min      0.000000    0.000000\n",
       "25%      6.293500    6.737500\n",
       "50%     12.538000   47.282000\n",
       "75%     18.531500   94.017500\n",
       "max     24.399000  113.556000"
      ]
     },
     "execution_count": 24,
     "metadata": {},
     "output_type": "execute_result"
    }
   ],
   "source": [
    "# summary statistics\n",
    "dfx.describe()"
   ]
  },
  {
   "cell_type": "markdown",
   "metadata": {},
   "source": [
    "---\n",
    "## Machine Learning.\n",
    "\n",
    "The goal of the project is to predict wind power from wind speed and therefore this problem falls into supervised learning. \n",
    "Supervised machine learning is about creating models that precisely map the given inputs (independent variables, or predictors) to the given outputs (dependent variables, or responses).[11]\n",
    "\n",
    "Regression involves predicting a continuous-valued attribute associated with an object. It is a statistical method used to describe the nature of the relationship between variables which could be positive or negative, linear or nonlinear. \n",
    "Scatter plots visualise a relationship and Pearson’s correlation coefficient is used to measure the strength of a linear relationship. If a scatter plot and the value of the correlation coefficient indicate a linear relationship, the next step is to determine the equation of the regression line which is the data's line of best fit. Often one of the variables is fixed or controlled and is known as the independent or explanatory variable, the aim is to determine how another variable varies known as the dependent  or response variable varies with it. The explanatorty variable is usually represented by `X` while the dependent or response variable is represented by `y`.  Least squares linear regression is a method for predicting the value of a dependent variable `y` such as power, based on the value of an independent variable `x` such as wind speeds.\n",
    "\n",
    "I had a look at the Seaborn regression plots earlier in the exploratory data analysis section, simple linear regression does not adequately model the relationship between the wind and speed values over the entire dataset while higher order polynomials captured more of the relationship. The correlation statistics did show a high correlation between the variables with a value of 0.85.\n",
    "There were large sections of the dataset that were either under the regression line or above the regression line.\n",
    "The higher order polynomials did not fit the data perfectly though. The cubic polynomial fits the data better and the fourth order polynomial does seem to be even better for the datapoints at the lower end of wind speed values. However it is important not to overfit the data either as then the model will not capture the general trend of the data. There is a suggestion in the research above that an exponent of 3 can be applied to the wind speed factor. [5]. *The typical power curves have an s-shape where at wind speeds less than rated the energy capture is approximately proportional to $U^3$* [8] where ($U=\\bar{\\mu}$) is the 10 minute averaged wind speeds. \n",
    "For this reason I will look at polynomial regression using the scikit-learn package.\n",
    "\n",
    ">One common pattern within machine learning is to use linear models trained on nonlinear functions of the data. This approach maintains the generally fast performance of linear methods, while allowing them to fit a much wider range of data. [12]\n",
    "\n",
    "A simple linear regression can be extended by constructing polynomial features from the coefficients. A regression model that is used to model the expected value of a dependent variable y in terms of an independent variable x can be represented by the equation $y=ax+b$. Adding a squared term will create a quadratic model of the form $y=a+b1x+b2^2+e$ where a is the intercept and e is the error rate. Adding a cubed term can be represented by the equation $y=a+b1x+b2x^2+b3x^3+e$. Additional terms can be added. The regression function is linear in terms of the unknown variables and therefore the models are still considered linear from the point of estimation.[15]\n",
    "Scikit-learn's `PolynomialFeatures` transforms an input data matrix into a new data matrix of a given degree.\n",
    "Adding an $X^3$ allows us to check if there is a cubic relationship in the data. A polynomial is a special case pf a linear model that is used to fit non-linear data.  I used a third degree polynomial here as the data earlier suggested a cubic relationship in the data.\n",
    "Adding polynomials to the regression is like multiple linear regression, as you are adding extra variables in the form of powers of each feature as new features. [13] \n",
    "\n"
   ]
  },
  {
   "cell_type": "markdown",
   "metadata": {},
   "source": [
    "### Regression plots on the cleaned data:\n",
    "Below are the regression plots using Seaborn `regplot` function with a 3rd and 4th order applied. This is on the cleaned dataset."
   ]
  },
  {
   "cell_type": "code",
   "execution_count": 25,
   "metadata": {},
   "outputs": [
    {
     "data": {
      "image/png": "[encoded data removed]",
      "text/plain": [
       "<Figure size 1008x432 with 2 Axes>"
      ]
     },
     "metadata": {},
     "output_type": "display_data"
    }
   ],
   "source": [
    "f, axes = plt.subplots(1, 2, figsize=(14, 6))\n",
    "x = \"speed\"\n",
    "y = \"power\"\n",
    "\n",
    "sns.regplot(x=\"speed\", y=\"power\", data=dfx, order=3, ax=axes[0], label=\"order =3\", ci=False, color=\"blue\", marker=\"x\"); axes[0].legend()\n",
    "sns.regplot(x=\"speed\", y=\"power\", data=dfx, order=4, ax=axes[1], label = \"order=4\",marker='x'); axes[1].legend()\n",
    "plt.legend()\n",
    "plt.suptitle(\"Trying higher order polynomial regression functions to Speed and Power values\")\n",
    "plt.show()"
   ]
  },
  {
   "cell_type": "markdown",
   "metadata": {},
   "source": [
    "## Polynomial Regression model\n"
   ]
  },
  {
   "cell_type": "markdown",
   "metadata": {},
   "source": [
    "### Split data into training and test sets\n",
    "Splitting your dataset is essential for an unbiased evaluation of prediction performance. The dataset can be split into two or three random subsets. \n",
    "- A training set:  used to train or fit your model. Training set are used to find the optimal weights or coefficients for linear regression, logistic regression, or neural networks.\n",
    "- A validation set: subset used for unbiased model evaluation during hyperparameter tuning. For each set of hyperparameters, fit the model with the training set and assess it's performance with the validation set.\n",
    "- A test set used for an unbiased evaluation of the final model. This should not be used for fitting or validating the model.\n",
    "In less complex cases, when you don’t have to tune hyperparameters, it’s okay to work with only the training and test sets. [11]\n",
    "\n",
    "Splitting a dataset can also be used for detecting if your model suffers from problems such as underfitting and overfitting. \n",
    "\n",
    "Underfitting usually arises when a model fails to capture the relationships among data. This can occur when  you try to represent non-linear relationships with a linear model. Overfitting occurs when a model has an excessively complex structure and learns both the existing relationships between the variables as well as the noise. Overfitted models usually fail to recognise the general trend of the data. \n",
    "While underfitted models are likely to have poor performance with both the training and testing dataset, overfitted models will usually have strong performance on the training dataset but will have poor performance on the unseen test set.\n",
    "Scikit-learn has a module for splitting the data into training and test sets. The default split is 75% for the training set and 25% for the test set. The random state can be set to make the split reproducible. I initially did not use this but it makes it harder to compare the different machine learning models if you have a different training and test set for each."
   ]
  },
  {
   "cell_type": "markdown",
   "metadata": {},
   "source": [
    "#### Using scikit-learn to split the dataset into training and test subsets:\n",
    "using `sklearn.model_selection.train_test_split`"
   ]
  },
  {
   "cell_type": "code",
   "execution_count": 26,
   "metadata": {},
   "outputs": [
    {
     "name": "stdout",
     "output_type": "stream",
     "text": [
      "(356, 1) (119, 1) (356, 1) (119, 1)\n"
     ]
    }
   ],
   "source": [
    "\n",
    "# split into input and output columns\n",
    "\n",
    "X, y = dfx.values[:, :-1], dfx.values[:, -1:]\n",
    "# split into train and test datasets\n",
    "X_train, X_test, y_train, y_test = train_test_split(X, y, test_size=0.25, random_state=0)\n",
    "print(X_train.shape, X_test.shape, y_train.shape, y_test.shape)\n",
    "# determine the number of input features\n",
    "n_features = X_train.shape[1]"
   ]
  },
  {
   "cell_type": "markdown",
   "metadata": {},
   "source": [
    "#### Transform the features of x \n",
    "Using Scikit-learns `PolynomialFeatures` to add a cubic variable to the dataset.\n",
    "Once transformed they can be used with any linear model. \n",
    "I will apply to the training data only here.\n"
   ]
  },
  {
   "cell_type": "code",
   "execution_count": 27,
   "metadata": {},
   "outputs": [],
   "source": [
    "# using scikit-learn, set the order to 3 degrees to include a cubic \n",
    "# include_bias=False otherwise I end up with a column of zeros \n",
    "poly = PolynomialFeatures(degree=3, include_bias=False)"
   ]
  },
  {
   "cell_type": "code",
   "execution_count": 28,
   "metadata": {},
   "outputs": [],
   "source": [
    "# convert the inputs into a new set of variables, save as X_train_p3 to leave X_train untouched for later use\n",
    "X_train_poly3 = poly.fit_transform(X_train)"
   ]
  },
  {
   "cell_type": "markdown",
   "metadata": {},
   "source": [
    "#### Look at the new features:"
   ]
  },
  {
   "cell_type": "code",
   "execution_count": 29,
   "metadata": {},
   "outputs": [
    {
     "data": {
      "text/plain": [
       "array([[8.08300000e+00, 6.53348890e+01, 5.28101908e+02],\n",
       "       [2.47700000e+00, 6.13552900e+00, 1.51977053e+01],\n",
       "       [1.57660000e+01, 2.48566756e+02, 3.91890348e+03],\n",
       "       ...,\n",
       "       [6.18100000e+00, 3.82047610e+01, 2.36143628e+02],\n",
       "       [2.25200000e+00, 5.07150400e+00, 1.14210270e+01],\n",
       "       [9.43400000e+00, 8.90003560e+01, 8.39629359e+02]])"
      ]
     },
     "execution_count": 29,
     "metadata": {},
     "output_type": "execute_result"
    }
   ],
   "source": [
    "X_train_poly3"
   ]
  },
  {
   "cell_type": "markdown",
   "metadata": {},
   "source": [
    "#### Transform the test set :"
   ]
  },
  {
   "cell_type": "code",
   "execution_count": 30,
   "metadata": {},
   "outputs": [],
   "source": [
    "# also need to transform the test data \n",
    "X_test_poly3 = poly.fit_transform(X_test)"
   ]
  },
  {
   "cell_type": "markdown",
   "metadata": {},
   "source": [
    "Linear regression can  now be implemented. This can be thought of as multiple linear regression as new variables in the form of x-squared and x-cubed have been added to the model"
   ]
  },
  {
   "cell_type": "markdown",
   "metadata": {},
   "source": [
    "#### Fit the model to the training data:"
   ]
  },
  {
   "cell_type": "code",
   "execution_count": 31,
   "metadata": {},
   "outputs": [],
   "source": [
    "# call the linear regression model\n",
    "model_poly3 = linear_model.LinearRegression()"
   ]
  },
  {
   "cell_type": "code",
   "execution_count": 32,
   "metadata": {},
   "outputs": [
    {
     "data": {
      "text/plain": [
       "LinearRegression()"
      ]
     },
     "execution_count": 32,
     "metadata": {},
     "output_type": "execute_result"
    }
   ],
   "source": [
    "# fit to the training data\n",
    "model_poly3.fit(X_train_poly3, y_train)"
   ]
  },
  {
   "cell_type": "markdown",
   "metadata": {},
   "source": [
    "#### Predict using the polynomial regression model:"
   ]
  },
  {
   "cell_type": "code",
   "execution_count": 33,
   "metadata": {},
   "outputs": [],
   "source": [
    "# predict on the transformed test data\n",
    "poly3_predictions = model_poly3.predict(X_test_poly3)"
   ]
  },
  {
   "cell_type": "code",
   "execution_count": 34,
   "metadata": {},
   "outputs": [
    {
     "data": {
      "text/plain": [
       "array([[14.35877751]])"
      ]
     },
     "execution_count": 34,
     "metadata": {},
     "output_type": "execute_result"
    }
   ],
   "source": [
    "# Predicting a new result with Polymonial Regression\n",
    "model_poly3.predict(poly.fit_transform([[0]]))"
   ]
  },
  {
   "cell_type": "code",
   "execution_count": 35,
   "metadata": {},
   "outputs": [
    {
     "data": {
      "text/plain": [
       "array([[45.01454843]])"
      ]
     },
     "execution_count": 35,
     "metadata": {},
     "output_type": "execute_result"
    }
   ],
   "source": [
    "model_poly3.predict(poly.fit_transform([[12]]))"
   ]
  },
  {
   "cell_type": "markdown",
   "metadata": {},
   "source": [
    "#### Get the coefficients"
   ]
  },
  {
   "cell_type": "code",
   "execution_count": 36,
   "metadata": {},
   "outputs": [
    {
     "data": {
      "text/plain": [
       "array([[-9.69965794,  1.49732   , -0.03967732]])"
      ]
     },
     "execution_count": 36,
     "metadata": {},
     "output_type": "execute_result"
    }
   ],
   "source": [
    "# get the coefficiets\n",
    "model_poly3.coef_"
   ]
  },
  {
   "cell_type": "code",
   "execution_count": 37,
   "metadata": {},
   "outputs": [
    {
     "data": {
      "text/plain": [
       "array([14.35877751])"
      ]
     },
     "execution_count": 37,
     "metadata": {},
     "output_type": "execute_result"
    }
   ],
   "source": [
    "# get the intercept\n",
    "model_poly3.intercept_"
   ]
  },
  {
   "cell_type": "markdown",
   "metadata": {},
   "source": [
    "#### Visualise the polynomial regression results:\n",
    "The scatter-plot can visualise the polynomial regression results on the test dataset can compared to the actual datapoints."
   ]
  },
  {
   "cell_type": "code",
   "execution_count": 38,
   "metadata": {},
   "outputs": [
    {
     "data": {
      "image/png": "[encoded data removed]",
      "text/plain": [
       "<Figure size 720x360 with 1 Axes>"
      ]
     },
     "metadata": {},
     "output_type": "display_data"
    }
   ],
   "source": [
    "plt.title('Comparing actual data to predicted data')\n",
    "plt.plot(X_test, y_test, 'x', label=\"true values\")\n",
    "plt.plot(X_test, poly3_predictions, 'kx', label=\"predicted values\")\n",
    "plt.xlabel(\"Wind speed m/s\")\n",
    "plt.ylabel(\"Power\")\n",
    "plt.legend()\n",
    "\n",
    "plt.show()"
   ]
  },
  {
   "cell_type": "markdown",
   "metadata": {},
   "source": [
    "### Evaluate the model"
   ]
  },
  {
   "cell_type": "markdown",
   "metadata": {},
   "source": [
    "Scikit-learn has a metrics module that can be used to evaluate the model.\n",
    "[sklearn.metrics.r2_score](https://scikit-learn.org/stable/modules/generated/sklearn.metrics.r2_score.html)\n",
    "The coefficient of determination $R^2$ is the proportion of the variance in the dependent variable that is predictable from the independent variable(s).[16]\n",
    "It shows how good the model is at explaining the behaviour of the dependent variable. The coefficient of determination is the proportion of variation in the dependent variable power that is explained by the regression line and the independent variable wind speed. It is a better indicator of the strength of a linear relationship than the correlation coefficient as it identifies the percentage of variation of the dependent variable that is directly attributable to the variation of the independent variable. \n",
    "\n",
    "The model can be evaluated using the mean squared error. It calculates the average distance our data points are from the model.  \n",
    "The mean squared error could be further lowered by adding extra polynomials to the model. However you are then in danger of overfitting the model where the model will fail to recognise the general trend. The simple linear model cleared underfit the data. The seaborn regression plots with a 4th order polynomial earlier did show a slightly better fit for speed values under 5 metres per second whereas the 3rd order polynomial is underpredicting and overfitting for sections of the curve. However it does not seem to be a huge improvement so I will leave the regression as is and move on. Polynomial regression can be very sensitive to outliers and even a few outliers could seriously affect the results. In addition there are unfortunately fewer model validation tools for the detection of outliers in nonlinear regression than there are for linear regression. [16]\n",
    "\n",
    "The root mean squared error is the square root of the average of squared differences between prediction and actual observation.  It is a standard way to measure the error of a model in predicting quantitative data."
   ]
  },
  {
   "cell_type": "code",
   "execution_count": 39,
   "metadata": {},
   "outputs": [],
   "source": [
    "from sklearn.metrics import mean_squared_error, r2_score"
   ]
  },
  {
   "cell_type": "code",
   "execution_count": 40,
   "metadata": {},
   "outputs": [
    {
     "name": "stdout",
     "output_type": "stream",
     "text": [
      "Coefficients: \n",
      " [[-9.69965794  1.49732    -0.03967732]]\n"
     ]
    }
   ],
   "source": [
    "# The coefficients\n",
    "print('Coefficients: \\n', model_poly3.coef_)"
   ]
  },
  {
   "cell_type": "code",
   "execution_count": 41,
   "metadata": {},
   "outputs": [
    {
     "name": "stdout",
     "output_type": "stream",
     "text": [
      "Mean squared error: 33.32\n",
      "Coefficient of determination: 0.98\n",
      "Root Mean Squared Error: 5.77\n"
     ]
    }
   ],
   "source": [
    "print('Mean squared error: %.2f' % mean_squared_error(y_test,poly3_predictions ))\n",
    "# The coefficient of determination: 1 is perfect prediction\n",
    "print('Coefficient of determination: %.2f' % r2_score(y_test, poly3_predictions))\n",
    "print('Root Mean Squared Error: %.2f' % np.sqrt(mean_squared_error(y_test,poly3_predictions )))"
   ]
  },
  {
   "cell_type": "code",
   "execution_count": 42,
   "metadata": {},
   "outputs": [
    {
     "data": {
      "text/plain": [
       "array([[101.8750371]])"
      ]
     },
     "execution_count": 42,
     "metadata": {},
     "output_type": "execute_result"
    }
   ],
   "source": [
    "# Predicting a new result with Polymonial Regression\n",
    "# need to transform the data to be predicted\n",
    "model_poly3.predict(poly.fit_transform([[20]]))"
   ]
  },
  {
   "cell_type": "code",
   "execution_count": 43,
   "metadata": {},
   "outputs": [
    {
     "data": {
      "text/plain": [
       "array([[92.74766278]])"
      ]
     },
     "execution_count": 43,
     "metadata": {},
     "output_type": "execute_result"
    }
   ],
   "source": [
    "# Predicting a new result with Polymonial Regression\n",
    "model_poly3.predict(poly.fit_transform([[24.4]]))"
   ]
  },
  {
   "cell_type": "code",
   "execution_count": 44,
   "metadata": {},
   "outputs": [
    {
     "data": {
      "text/plain": [
       "array([[-2.33560405]])"
      ]
     },
     "execution_count": 44,
     "metadata": {},
     "output_type": "execute_result"
    }
   ],
   "source": [
    "# Predicting a new result with Polymonial Regression\n",
    "model_poly3.predict(poly.fit_transform([[3]]))"
   ]
  },
  {
   "cell_type": "markdown",
   "metadata": {},
   "source": [
    "### Save the model for use in the Web application\n",
    "This project also requires a web service to be developed that will respond with predicted power values based on speed values sent as HTTP requests. Therefore I need to save the model for use outside this notebook.\n",
    "\n",
    "For the polynomial regression model, there is the option of  using Python’s built-in persistence model `pickle`. The [scikit-learn documents](\n",
    "https://scikit-learn.org/stable/modules/model_persistence.html) recommend using joblib’s replacement of pickle (dump & load), which is more efficient on objects that carry large numpy arrays internally as is often the case for fitted scikit-learn estimators, but can only pickle to the disk and not to a string.\n",
    "\n",
    "\n",
    "I had to come back and update the model to exclude the constant 1 as I had 4 coefficients and was working with 3 in the web app, the wind speed, wind speed squared and wind speed cubed values. The [PolynomialFeatures](https://scikit-learn.org/stable/modules/generated/sklearn.preprocessing.PolynomialFeatures.html) documents it \n",
    " generate a new feature matrix consisting of all polynomial combinations of the features with degree less than or equal to the specified degree. For example, if an input sample is two dimensional and of the form `[a, b]`, the degree-2 polynomial features are `[1, a, b, a^2, ab, b^2]`.\n",
    "Therefore I updated the model and set the `include_bias` to False."
   ]
  },
  {
   "cell_type": "code",
   "execution_count": 45,
   "metadata": {},
   "outputs": [
    {
     "data": {
      "text/plain": [
       "['model_poly3.joblib']"
      ]
     },
     "execution_count": 45,
     "metadata": {},
     "output_type": "execute_result"
    }
   ],
   "source": [
    "from joblib import dump, load\n",
    "dump(model_poly3, 'model_poly3.joblib') "
   ]
  },
  {
   "cell_type": "code",
   "execution_count": 46,
   "metadata": {},
   "outputs": [
    {
     "data": {
      "text/plain": [
       "['model_poly3.pkl']"
      ]
     },
     "execution_count": 46,
     "metadata": {},
     "output_type": "execute_result"
    }
   ],
   "source": [
    "dump(model_poly3, 'model_poly3.pkl') "
   ]
  },
  {
   "cell_type": "code",
   "execution_count": 47,
   "metadata": {},
   "outputs": [
    {
     "data": {
      "text/plain": [
       "array([[  12.,  144., 1728.]])"
      ]
     },
     "execution_count": 47,
     "metadata": {},
     "output_type": "execute_result"
    }
   ],
   "source": [
    "wind12 = poly.fit_transform([[12]])\n",
    "wind12"
   ]
  },
  {
   "cell_type": "code",
   "execution_count": 48,
   "metadata": {},
   "outputs": [
    {
     "data": {
      "text/plain": [
       "array([[45.01454843]])"
      ]
     },
     "execution_count": 48,
     "metadata": {},
     "output_type": "execute_result"
    }
   ],
   "source": [
    "model_poly3.predict(wind12)"
   ]
  },
  {
   "cell_type": "code",
   "execution_count": 49,
   "metadata": {},
   "outputs": [],
   "source": [
    "win12 = [[12, 12**2, 12**3]]\n",
    "win12 =np.array(win12)"
   ]
  },
  {
   "cell_type": "code",
   "execution_count": 50,
   "metadata": {},
   "outputs": [
    {
     "data": {
      "text/plain": [
       "array([[45.01454843]])"
      ]
     },
     "execution_count": 50,
     "metadata": {},
     "output_type": "execute_result"
    }
   ],
   "source": [
    "model_poly3.predict(win12)"
   ]
  },
  {
   "cell_type": "code",
   "execution_count": 51,
   "metadata": {},
   "outputs": [
    {
     "data": {
      "text/plain": [
       "array([[-2.33560405]])"
      ]
     },
     "execution_count": 51,
     "metadata": {},
     "output_type": "execute_result"
    }
   ],
   "source": [
    "wind3 = [[3, 3**2, 3**3]]\n",
    "wind3 = np.array(wind3)\n",
    "model_poly3.predict(wind3)"
   ]
  },
  {
   "cell_type": "markdown",
   "metadata": {},
   "source": [
    "The polynomial curve does quite a good job but similarly to the MLP below, it predicts power values for values over 24.4 which is the cut-off range. \n",
    "Also the transformation has to be taken into account when taking in new values from the end user."
   ]
  },
  {
   "cell_type": "markdown",
   "metadata": {},
   "source": [
    "---\n",
    "## Artificial Neural Network\n",
    "\n",
    "Machine learning is the science of getting computers to act without being explicitly programmed. Artificial neural networks are designed to simulate the way the human brain analyses and processes information. They are a used for doing machine learning where a computer learns to perform some task by analyzing training examples.\n",
    "\n",
    ">An artificial neural network (ANN) is the piece of a computing system designed to simulate the way the human brain analyzes and processes information. It is the foundation of artificial intelligence (AI) and solves problems that would prove impossible or difficult by human or statistical standards. ANNs have self-learning capabilities that enable them to produce better results as more data becomes available.[17]\n",
    "\n",
    ">Neural nets are a means of doing machine learning, in which a computer learns to perform some task by analyzing training examples. Modeled loosely on the human brain, a neural net consists of thousands or even millions of simple processing nodes that are densely interconnected. Most of today’s neural nets are organized into layers of nodes, and they’re “feed-forward,” meaning that data moves through them in only one direction. An individual node might be connected to several nodes in the layer beneath it, from which it receives data, and several nodes in the layer above it, to which it sends data. To each of its incoming connections, a node will assign a number known as a “weight.” When the network is active, the node receives a different data item — a different number — over each of its connections and multiplies it by the associated weight. It then adds the resulting products together, yielding a single number. If that number is below a threshold value, the node passes no data to the next layer. If the number exceeds the threshold value, the node “fires,” which in today’s neural nets generally means sending the number — the sum of the weighted inputs — along all its outgoing connections.\n",
    "When a neural net is being trained, all of its weights and thresholds are initially set to random values. Training data is fed to the bottom layer — the input layer — and it passes through the succeeding layers, getting multiplied and added together in complex ways, until it finally arrives, radically transformed, at the output layer. During training, the weights and thresholds are continually adjusted until training data with the same labels consistently yield similar outputs.[18]\n"
   ]
  },
  {
   "cell_type": "markdown",
   "metadata": {},
   "source": [
    "A dataset contains variables with some inputs and outputs. To use artificial neural networks on a dataset all variables need to be first encoded into floating point numbers. Outputs can be reverse decoded later. Neural networks have several layers. The input layer is not really considered a layer of neurons. The hidden layers and output layers have proper neurons. The weights and bias are the parameters of the model. They can be tweaked to get the neural network to perform better. The initial weights are often set to small random values.\n",
    "Weights are applied to each connection between layers, low weights near 0 meaning that the route is not important while higher values mean this route is important. \n",
    "Neural networks consider the connections between the nodes rather than the actual nodes themselves. Looks at the signal times the weights for each of the inputs. `w * x` for each input. The bias significes how important something is and is a number on top of weight times input for each neuron. \n",
    "With neural networks you want to get a high value assigned to the correct output. If the neural network misclassifies an output label then it is fed back into the algorithm, the weights are changed a little so that the correct output is predicted the next time. It will keep changing until it gets the correct output. \n",
    "Starts out with random values for the weights. These are updated slowly over time to get towards the expected output. An algorithm such as gradient descent is commonly used for updating the weights.\n",
    "\n",
    "Gradient descent or stochastic gradient descent `sgd` is the algorithm through which the weights are updated.\n",
    "Each output from each neuron is the same but when the different weights are applied, what is received by the nodes in the next layer are different to what left the nodes on the previous layer.\n",
    "The loss is the cost function such as the mean squared error MSE for regression problems. There are other loss functions used for classification problems.\n",
    "\n",
    "Once the neural network is trained and is stable, if a new datapoint that it was not trained on is provided to it the  neural network should correctly classify it.\n",
    "For my second machine learning model I implement an artificial neural network using the `tf.keras` API.\n",
    "In addition to the lecture videos I followed several tutorials in particular those by MachineLearningMastery.com [19] as well as the Tensorflow-Keras documentation. TensorFlow is the premier open-source deep learning framework developed and maintained by Google. Keras is a deep learning API written in Python, running on top of the machine learning platform TensorFlow.[20] \n",
    "\n",
    "A Multilayer Perceptron model (MLP) is a standard fully connected neural network model. It is made up of one or more (dense) layers of nodes where each node is connected to all outputs from the previous layer and the output of each node is connected to all the inputs for the nodes in the next layer. This model is suitable for tabular data and can be used for three predictive modeling problems being binary classification, multiclass classification, and regression.[19]\n",
    "\n",
    "### The 5-step Deep Learning Model Life-Cycle \n",
    "A machine learning model has a life-cycle with 5 steps:[19]\n",
    "\n",
    "#### 1. Define the model: \n",
    "Select the type of model and choose the architecture or network topology. Define the number of layers, configure each layer with a number of nodes and activation function, connect the layers together into a cohesive model.\n",
    "\n",
    "#### 2. Compile the model\n",
    "\n",
    "This step requires selecting a loss function to be optimised such as mean squared error and an algorithm to perform the optimisation procedure such as stochastic gradient descent or a modern variation of this called `Adam`. Adam optimization is a stochastic gradient descent method that is based on adaptive estimation of first-order and second-order moments.[21]\n",
    "You can also  select the performance metrics to keep track of during the model training process.\n",
    "Call a function to compile the model with the selected configuration to prepare the appropriate data structures required for the efficient use of the selected model. \n",
    "The optimizer can be specified as a string for a known optimizer class such as `sgd` for stochastic gradient descent or else you can configure an instance of the [optimizer classes](https://www.tensorflow.org/api_docs/python/tf/keras/optimizers) to use.\n",
    "`sgd` is a gradient descent (with momentum) optimizer. It has a default learning rate of 0.01\n",
    "The update rule is ` w = w - learning_rate * g` for parameter `w` with  gradient `g` when momentum is 0.\n",
    "The `learning_rate` defaults to 0.001 in the Adam optimizer. \n",
    "\n",
    "Loss functions such as  `MeanSquaredError` computes the mean of squares of errors between labels and predictions.\n",
    "The mean squared error is the one I will be using. There are many more listed in the [keras losses](https://www.tensorflow.org/api_docs/python/tf/keras/losses) documentation.\n",
    "    \n",
    "Metrics to evaluate predictions include `Accuracy` to calculates how often predictions equal labels, `AUC`  computes the approximate area under the curve,  `FalseNegatives` calculates the number of false negatives and `FalsePositives`  calculates the number of false positives, `Precision` computes the precision of the predictions with respect to the labels. \n",
    "\n",
    "#### 3. Fit the model\n",
    "\n",
    "To fit the model you need to select the training configuration such as the number of epochs. These are loops through the training dataset. The batch size is the number of samples in an epoch used to estimate model error.\n",
    "By passing in for example 10 at a time instead of 1 at a time can have a smoothing effect.\n",
    "\n",
    "Training applies the chosen optimization algorithm to minimize the chosen loss function and updates the model using the backpropagation of error algorithm. This can be slow depending on the complexity of the model, the size of the training dataset and the hardware being used.\n",
    "\n",
    "#### 4. Evaluate the model\n",
    "\n",
    "This is where the holdout dataset comes into play, data that is not used in the training of the model so you can get an unbiased estimate of the performance of the model when making predictions on new data.\n",
    "\n",
    "#### 5. Make predictions using the model\n",
    "This is the final stage of the life cycle where you take values that you don't have target values and make a prediction using the model\n",
    "\n",
    "\n",
    "There are two main models that are provided in the tensorflow-keras API. A `Sequential` model is appropriate for a plain stack of layers where each layer has exactly one input tensor and one output tensor. A `Sequential` model is not appropriate for models with multiple inputs or outputs. A sequential neural network is built up in sequential layers. It adds layers to the model one by one in a linear manner, from input to output. I will be using the `Sequential` model for this project.\n",
    "The visible layer of the network is defined by the input shape argument on the first hidden layer. In the dataswt for this project this will be `(1,)` - the model will expect the input for one sample to be a vector of 1 number.\n",
    "`model.add()` is used to add each layer.\n",
    "Create a `Sequential` model and  add layers one at a time until happy with the network architecture. \n",
    "\n",
    "There is also a `Functional` model which is more complex but more flexible than the `Sequential` model. For this you need to explicitly connect the output of one layer to the input of another layer. Each connection is specified. \n",
    "\n"
   ]
  },
  {
   "cell_type": "markdown",
   "metadata": {},
   "source": [
    "Some summary notes from the [tensorflow/keras](https://www.tensorflow.org/guide/keras/sequential_mode) guide:\n",
    "A layer is a simple input-output transformation while a model is a directed acyclic graph of layers. It is like a bigger layer consisting of many sub-layers that can be trained via exposure to data.\n",
    "- First define the input layer, then chain layer transformations on top of the inputs until the final output. \n",
    "- Once the layers have been defined that turn the inputs into outputs, instantiate a `model` object.\n",
    "- A `Sequential` model is created by passing  a list of layers to the Sequential constructor `model = keras.Sequential` or by incrementally adding the layers using the `add()` method.\n",
    "- All layers in Keras need to know the shape of their inputs in order to be able to create weights. The shape of the weights depends on the shape of their inputs.\n",
    "- The `Input` object is not a layer. Pass the input_shape() argument to the first layer.\n",
    "- Specify an optimizer and an a loss function using the `compile()` step.\n",
    "- Once the model has been compiled, fit the model to the data using `fit()`.\n",
    "- Two parameters need to be specified alongside the data, the `batch_size`  and the number of `epochs` (iterations on the data).\n",
    "- The `fit` call returns a history object which records what happens over the course of the training.\n",
    "- The `history.history` dict contains per-epoch timeseries of metrics values.\n",
    "- Validation data can be passed to `fit()` to monitor the validation loss & validation metrics which get reported at the end of each epoch.\n",
    "- After `fit()` you can evaluate the performance and generate predictions on new data using `evaluate()`.\n",
    "\n",
    "```python\n",
    "loss, acc = model.evaluate(val_dataset)\n",
    "print(\"loss: %.2f\" % loss)\n",
    "print(\"acc: %.2f\" % acc)\n",
    "```\n",
    "- Generate numPy arrays of predictions using `predict()`.\n",
    "`predictions = model.predict(val_dataset)`\n",
    "\n",
    "When passing data to the built-in training loops of a model, NumPy arrays can be used if the data is small and fits in memory or `tf.data.Dataset` objects. The dataset here is only 500 rows."
   ]
  },
  {
   "cell_type": "markdown",
   "metadata": {},
   "source": [
    "Below I will use a Sequential model and provide the input layer to the model and specify the number of features which in this case is 1 - the wind speed values.\n",
    "According to the tutorials, determining the correct number of layers to use is a matter of trial and error really. Generally you need a network large enough to capture the structure of the problem.\n",
    "\n",
    "Fully connected layers are defined using the `Dense` class - `Dense` refers to the layer being densely connected to the previous layer. Every node in the previous layer is connected to everything in the current layer.\n",
    "The input shape is 1 as there is only 1 input variable. (input_dim=1 or input_shape=(1,))\n",
    "The shape of the input to the model is defined as an argument on the first hidden layer. The first line of code that adds the first Dense layer does 2 things, defines the input or visible layer and the first hidden layer.\n",
    "\n",
    "The number of neurons or nodes in the layer as the first argument and specify the activation function using the `activation` argument. We were advised to use the Sigmoid activation function for this project so I will do this.  A `Sigmoid` layer is used on the outer layer to ensure the network output is between 0 and 1. \n",
    "\n",
    "According to the tutorials, Sigmoid and Tanh activation functions were the preferred choice  for all layers before but that these days better performance is achieved using the `rectified linear unit` or `ReLU` activation function.\n",
    "\n",
    "\n",
    "Once the model is defined, it can be compiled or built. Specify the learning rate and the loss function to be minimised. When compiling, some additional properties are required when training the network. Training a network means finding the best set of weights to map inputs to outputs in our dataset. The loss function must be specified. For this project we use the mean squared error.\n",
    ">We must specify the loss function to use to evaluate a set of weights, the optimizer is used to search through different weights for the network and any optional metrics we would like to collect and report during training.\n",
    "\n",
    ">The optimizer is defined below as the efficient stochastic gradient descent algorithm “adam“. This is a popular version of gradient descent because it automatically tunes itself and gives good results in a wide range of problems."
   ]
  },
  {
   "cell_type": "markdown",
   "metadata": {},
   "source": [
    "A medium article [22] provides some background on activation functions:\n",
    "\n",
    "An artificial neuron calculates a weighted sum of its input, adds a bias and then decides whether it should be fired or not. $Y = \\sum{(\\text{weight} * \\text{input})} + \\text{bias}$\n",
    "The value of Y can be anything from -infinity to + infinity and the neuron does not really know the bounds of the value. To decide whether the neuron should fire or not the activation function checks the $Y$ value produced by the neuron and decides whether outside connections should consider this neuron as activated (fired) or not.\n",
    "With a threshold based activation function, if the value of Y is above a certain value then it can be declared as activated and otherwise not. The output is 1 (activated) when the value is greater than the threshold and 0 otherwise. This is a step function which has drawbacks being used as an activation function when the response is not a binary yes or no. \n",
    "A linear activation function $A=cX$ is a straight line function where activation is proportional to input (which is the weighted sum from neurons). In this way it will give a range of activations rather than just binary activations. We can connect some neurons and if more than one fire then we could take the max and decide based on that. The derivative w.r.x is c which means that the gradient has no relationship with X. The descent is going to be on a constant gradient. If there is an error in prediction the changes made by back propagation is constant and not depending on the change in input delta(x).\n",
    "Another problem concerns the connected layers where each layer is activated by a linear function. \n",
    "That activation in turn goes into the next level as input and the second layer calculates weighted sum on that input and it in turn, fires based on another linear activation function.\n",
    "No matter how many layers we have, if all are linear in nature, the final activation function of last layer is nothing but just a linear function of the input of first layer. Therefore two or more layers can be replaced by a single layer. The whole network then is equivalent to  a single layer with linear activation.\n",
    "\n",
    "The sigmoid function is smooth and looks somewhat like a step function. It is nonlinear in nature and therefore combinations of layers are also non-linear which means that layers can be stacked. It will also give non-binary activations unlike the step function. It has a smooth gradient.\n",
    "\n",
    "Between X values -2 to 2, the Y values are very steep. This means that any small changes in the values of X in that region will cause values of Y to change significantly. This means this function has a tendency to bring the Y values to either end of the curve. It tends to bring the activations to either side of the curve making clear distinctions on prediction. Another advantage over linear function is that the output of the activation function is always going to be in range (0,1) compared to (-inf, inf) of linear function and therefore the activations are bound in a range. \n",
    "Sigmoid functions are one of the most widely used activation functions today. The problems with them is that towards either end of the sigmoid function, the Y values tend to respond less to changes in X. This means that the gradient at that region is going to be small. It gives rise to a problem of “vanishing gradients”. When the activations reach near the “near-horizontal” part of the curve on either sides, the gradient is small or has vanished (cannot make significant change because of the extremely small value). The network refuses to learn further or is drastically slow (depending on use case and until gradient /computation gets hit by floating point value limits ). There are ways to work around this problem and sigmoid is still very popular in classification problems.\n",
    "The article also looked at the Tanh activation functions which is a scaled sigmoid function and the ReLu function which gives an output x if x is positive and 0 otherwise. These are both non-linear functions.\n",
    "\n",
    "The article finishes by suggesting how to choose the correct activation function. \n",
    "When you know the function you are trying to approximate has certain characteristics, you can choose an activation function which will approximate the function faster leading to faster training process. "
   ]
  },
  {
   "cell_type": "markdown",
   "metadata": {},
   "source": [
    "### The data:\n",
    "I am using the dataframe `dfx` where some of the zero values were dropped."
   ]
  },
  {
   "cell_type": "code",
   "execution_count": 52,
   "metadata": {},
   "outputs": [
    {
     "data": {
      "text/html": [
       "<div>\n",
       "<style scoped>\n",
       "    .dataframe tbody tr th:only-of-type {\n",
       "        vertical-align: middle;\n",
       "    }\n",
       "\n",
       "    .dataframe tbody tr th {\n",
       "        vertical-align: top;\n",
       "    }\n",
       "\n",
       "    .dataframe thead th {\n",
       "        text-align: right;\n",
       "    }\n",
       "</style>\n",
       "<table border=\"1\" class=\"dataframe\">\n",
       "  <thead>\n",
       "    <tr style=\"text-align: right;\">\n",
       "      <th></th>\n",
       "      <th>speed</th>\n",
       "      <th>power</th>\n",
       "    </tr>\n",
       "  </thead>\n",
       "  <tbody>\n",
       "    <tr>\n",
       "      <th>count</th>\n",
       "      <td>475.000000</td>\n",
       "      <td>475.000000</td>\n",
       "    </tr>\n",
       "    <tr>\n",
       "      <th>mean</th>\n",
       "      <td>12.440971</td>\n",
       "      <td>50.541667</td>\n",
       "    </tr>\n",
       "    <tr>\n",
       "      <th>std</th>\n",
       "      <td>7.101231</td>\n",
       "      <td>41.171815</td>\n",
       "    </tr>\n",
       "    <tr>\n",
       "      <th>min</th>\n",
       "      <td>0.000000</td>\n",
       "      <td>0.000000</td>\n",
       "    </tr>\n",
       "    <tr>\n",
       "      <th>25%</th>\n",
       "      <td>6.293500</td>\n",
       "      <td>6.737500</td>\n",
       "    </tr>\n",
       "    <tr>\n",
       "      <th>50%</th>\n",
       "      <td>12.538000</td>\n",
       "      <td>47.282000</td>\n",
       "    </tr>\n",
       "    <tr>\n",
       "      <th>75%</th>\n",
       "      <td>18.531500</td>\n",
       "      <td>94.017500</td>\n",
       "    </tr>\n",
       "    <tr>\n",
       "      <th>max</th>\n",
       "      <td>24.399000</td>\n",
       "      <td>113.556000</td>\n",
       "    </tr>\n",
       "  </tbody>\n",
       "</table>\n",
       "</div>"
      ],
      "text/plain": [
       "            speed       power\n",
       "count  475.000000  475.000000\n",
       "mean    12.440971   50.541667\n",
       "std      7.101231   41.171815\n",
       "min      0.000000    0.000000\n",
       "25%      6.293500    6.737500\n",
       "50%     12.538000   47.282000\n",
       "75%     18.531500   94.017500\n",
       "max     24.399000  113.556000"
      ]
     },
     "execution_count": 52,
     "metadata": {},
     "output_type": "execute_result"
    }
   ],
   "source": [
    "dfx.describe()"
   ]
  },
  {
   "cell_type": "markdown",
   "metadata": {},
   "source": [
    "### Split the data into training and test sets\n",
    "\n",
    "The ideal machine-learning model is end to end and therefore the preprocessing should be part of the model as much as possible to make the model portable for production. However I have already split the dataset earlier for the polynomial regression model and need to be able to compare the models."
   ]
  },
  {
   "cell_type": "code",
   "execution_count": 53,
   "metadata": {},
   "outputs": [
    {
     "name": "stdout",
     "output_type": "stream",
     "text": [
      "(356, 1) (119, 1) (356, 1) (119, 1)\n"
     ]
    }
   ],
   "source": [
    "print(X_train.shape, X_test.shape, y_train.shape, y_test.shape)\n",
    "# determine the number of input features\n",
    "n_features = X_train.shape[1]"
   ]
  },
  {
   "cell_type": "code",
   "execution_count": 54,
   "metadata": {},
   "outputs": [
    {
     "data": {
      "text/plain": [
       "(475, 2)"
      ]
     },
     "execution_count": 54,
     "metadata": {},
     "output_type": "execute_result"
    }
   ],
   "source": [
    "dfx.values.shape"
   ]
  },
  {
   "cell_type": "markdown",
   "metadata": {},
   "source": [
    "### First without normalisation\n",
    "I initially followed some tutorials that used scikit-learn for scaling or normalising data and now I see that this will be a problem on the web app as the data taken in would have to have the scaling or normalisation applied as the training data. Keras does have some preprocessing layers including the `Normalization` layer for feature normalization.\n",
    "The model I used first below was a multi perceptron neural network on the unscaled data. The predictions were not bad. I then used the `preprocessing.MinMaxScaler()` from scikit-learn below but I am going to use the Normalization layer from tensorflow.keras\n",
    "from tensorflow.keras.layers.experimental.preprocessing import Normalization"
   ]
  },
  {
   "cell_type": "code",
   "execution_count": 55,
   "metadata": {},
   "outputs": [],
   "source": [
    "# Train a model\n",
    "model = kr.models.Sequential()\n",
    "model.add(kr.layers.Dense(60, input_shape=(1,), activation='sigmoid', kernel_initializer=\"glorot_uniform\", bias_initializer=\"glorot_uniform\"))\n",
    "\n",
    "model.add(kr.layers.Dense(1, activation='linear', kernel_initializer=\"glorot_uniform\", bias_initializer=\"glorot_uniform\"))"
   ]
  },
  {
   "cell_type": "markdown",
   "metadata": {},
   "source": [
    "### Compile the model"
   ]
  },
  {
   "cell_type": "code",
   "execution_count": 56,
   "metadata": {},
   "outputs": [
    {
     "name": "stdout",
     "output_type": "stream",
     "text": [
      "Model: \"sequential\"\n",
      "_________________________________________________________________\n",
      "Layer (type)                 Output Shape              Param #   \n",
      "=================================================================\n",
      "dense (Dense)                (None, 60)                120       \n",
      "_________________________________________________________________\n",
      "dense_1 (Dense)              (None, 1)                 61        \n",
      "=================================================================\n",
      "Total params: 181\n",
      "Trainable params: 181\n",
      "Non-trainable params: 0\n",
      "_________________________________________________________________\n"
     ]
    }
   ],
   "source": [
    "# \n",
    "model.compile(kr.optimizers.Adam(lr=0.001), loss='mean_squared_error')\n",
    "model.summary()"
   ]
  },
  {
   "cell_type": "markdown",
   "metadata": {},
   "source": [
    "The first dense layer has 120 parameters consisting of 60 neurons and 60 bias terms while the second dense layer is the output layer which has only one neuron with 1 bias and 60 inputs from the previous layer. "
   ]
  },
  {
   "cell_type": "markdown",
   "metadata": {},
   "source": [
    "#### Train the model on the data"
   ]
  },
  {
   "cell_type": "code",
   "execution_count": 57,
   "metadata": {},
   "outputs": [
    {
     "name": "stdout",
     "output_type": "stream",
     "text": [
      "Epoch 1/500\n",
      "29/29 [==============================] - 0s 5ms/step - loss: 4028.6306 - val_loss: 3980.2119\n",
      "Epoch 2/500\n",
      "29/29 [==============================] - 0s 2ms/step - loss: 3886.7834 - val_loss: 3835.4229\n",
      "Epoch 3/500\n",
      "29/29 [==============================] - 0s 2ms/step - loss: 3738.9609 - val_loss: 3680.9839\n",
      "Epoch 4/500\n",
      "29/29 [==============================] - 0s 2ms/step - loss: 3579.9734 - val_loss: 3511.1782\n",
      "Epoch 5/500\n",
      "29/29 [==============================] - 0s 2ms/step - loss: 3415.0186 - val_loss: 3350.3208\n",
      "Epoch 6/500\n",
      "29/29 [==============================] - 0s 2ms/step - loss: 3260.7368 - val_loss: 3198.8423\n",
      "Epoch 7/500\n",
      "29/29 [==============================] - 0s 2ms/step - loss: 3119.5166 - val_loss: 3065.4463\n",
      "Epoch 8/500\n",
      "29/29 [==============================] - 0s 2ms/step - loss: 2998.5444 - val_loss: 2953.9319\n",
      "Epoch 9/500\n",
      "29/29 [==============================] - 0s 2ms/step - loss: 2893.6909 - val_loss: 2851.9824\n",
      "Epoch 10/500\n",
      "29/29 [==============================] - 0s 2ms/step - loss: 2797.0464 - val_loss: 2758.4937\n",
      "Epoch 11/500\n",
      "29/29 [==============================] - 0s 2ms/step - loss: 2710.7961 - val_loss: 2673.2070\n",
      "Epoch 12/500\n",
      "29/29 [==============================] - 0s 2ms/step - loss: 2629.1611 - val_loss: 2594.1487\n",
      "Epoch 13/500\n",
      "29/29 [==============================] - 0s 2ms/step - loss: 2552.0295 - val_loss: 2519.7744\n",
      "Epoch 14/500\n",
      "29/29 [==============================] - 0s 2ms/step - loss: 2481.3369 - val_loss: 2446.7307\n",
      "Epoch 15/500\n",
      "29/29 [==============================] - 0s 2ms/step - loss: 2412.2942 - val_loss: 2379.5820\n",
      "Epoch 16/500\n",
      "29/29 [==============================] - 0s 2ms/step - loss: 2346.2913 - val_loss: 2315.4802\n",
      "Epoch 17/500\n",
      "29/29 [==============================] - 0s 2ms/step - loss: 2281.8154 - val_loss: 2249.1409\n",
      "Epoch 18/500\n",
      "29/29 [==============================] - 0s 2ms/step - loss: 2218.7275 - val_loss: 2184.3015\n",
      "Epoch 19/500\n",
      "29/29 [==============================] - 0s 2ms/step - loss: 2157.7825 - val_loss: 2125.7087\n",
      "Epoch 20/500\n",
      "29/29 [==============================] - 0s 2ms/step - loss: 2100.7476 - val_loss: 2070.0288\n",
      "Epoch 21/500\n",
      "29/29 [==============================] - 0s 2ms/step - loss: 2047.4166 - val_loss: 2011.7311\n",
      "Epoch 22/500\n",
      "29/29 [==============================] - 0s 2ms/step - loss: 1991.4751 - val_loss: 1962.3077\n",
      "Epoch 23/500\n",
      "29/29 [==============================] - 0s 2ms/step - loss: 1941.1523 - val_loss: 1913.5455\n",
      "Epoch 24/500\n",
      "29/29 [==============================] - 0s 2ms/step - loss: 1892.7462 - val_loss: 1863.1899\n",
      "Epoch 25/500\n",
      "29/29 [==============================] - 0s 2ms/step - loss: 1844.0391 - val_loss: 1814.5425\n",
      "Epoch 26/500\n",
      "29/29 [==============================] - 0s 2ms/step - loss: 1798.4503 - val_loss: 1768.8425\n",
      "Epoch 27/500\n",
      "29/29 [==============================] - 0s 2ms/step - loss: 1753.9012 - val_loss: 1726.3234\n",
      "Epoch 28/500\n",
      "29/29 [==============================] - 0s 2ms/step - loss: 1711.6245 - val_loss: 1684.0641\n",
      "Epoch 29/500\n",
      "29/29 [==============================] - 0s 2ms/step - loss: 1669.7460 - val_loss: 1643.3667\n",
      "Epoch 30/500\n",
      "29/29 [==============================] - 0s 2ms/step - loss: 1629.3317 - val_loss: 1603.0308\n",
      "Epoch 31/500\n",
      "29/29 [==============================] - 0s 2ms/step - loss: 1590.0028 - val_loss: 1563.3784\n",
      "Epoch 32/500\n",
      "29/29 [==============================] - 0s 2ms/step - loss: 1550.9792 - val_loss: 1525.6997\n",
      "Epoch 33/500\n",
      "29/29 [==============================] - 0s 2ms/step - loss: 1514.3160 - val_loss: 1488.7402\n",
      "Epoch 34/500\n",
      "29/29 [==============================] - 0s 2ms/step - loss: 1477.7887 - val_loss: 1453.6061\n",
      "Epoch 35/500\n",
      "29/29 [==============================] - 0s 2ms/step - loss: 1442.2560 - val_loss: 1417.0233\n",
      "Epoch 36/500\n",
      "29/29 [==============================] - 0s 2ms/step - loss: 1407.0676 - val_loss: 1384.0702\n",
      "Epoch 37/500\n",
      "29/29 [==============================] - 0s 2ms/step - loss: 1372.4695 - val_loss: 1349.2271\n",
      "Epoch 38/500\n",
      "29/29 [==============================] - 0s 2ms/step - loss: 1338.1649 - val_loss: 1314.9330\n",
      "Epoch 39/500\n",
      "29/29 [==============================] - 0s 2ms/step - loss: 1305.1298 - val_loss: 1283.3303\n",
      "Epoch 40/500\n",
      "29/29 [==============================] - 0s 2ms/step - loss: 1273.2275 - val_loss: 1248.9800\n",
      "Epoch 41/500\n",
      "29/29 [==============================] - 0s 2ms/step - loss: 1240.2401 - val_loss: 1218.3229\n",
      "Epoch 42/500\n",
      "29/29 [==============================] - 0s 2ms/step - loss: 1208.5546 - val_loss: 1188.5109\n",
      "Epoch 43/500\n",
      "29/29 [==============================] - 0s 2ms/step - loss: 1178.2157 - val_loss: 1158.1287\n",
      "Epoch 44/500\n",
      "29/29 [==============================] - 0s 2ms/step - loss: 1148.3221 - val_loss: 1127.7795\n",
      "Epoch 45/500\n",
      "29/29 [==============================] - 0s 2ms/step - loss: 1119.2729 - val_loss: 1099.1117\n",
      "Epoch 46/500\n",
      "29/29 [==============================] - 0s 2ms/step - loss: 1090.6021 - val_loss: 1071.1460\n",
      "Epoch 47/500\n",
      "29/29 [==============================] - 0s 2ms/step - loss: 1063.1726 - val_loss: 1044.7217\n",
      "Epoch 48/500\n",
      "29/29 [==============================] - 0s 2ms/step - loss: 1036.2421 - val_loss: 1019.1292\n",
      "Epoch 49/500\n",
      "29/29 [==============================] - 0s 2ms/step - loss: 1010.7241 - val_loss: 992.4020\n",
      "Epoch 50/500\n",
      "29/29 [==============================] - 0s 2ms/step - loss: 984.2946 - val_loss: 967.8412\n",
      "Epoch 51/500\n",
      "29/29 [==============================] - 0s 2ms/step - loss: 959.1195 - val_loss: 942.8980\n",
      "Epoch 52/500\n",
      "29/29 [==============================] - 0s 2ms/step - loss: 934.3887 - val_loss: 918.6545\n",
      "Epoch 53/500\n",
      "29/29 [==============================] - 0s 2ms/step - loss: 910.6543 - val_loss: 895.3936\n",
      "Epoch 54/500\n",
      "29/29 [==============================] - 0s 2ms/step - loss: 887.1320 - val_loss: 872.2292\n",
      "Epoch 55/500\n",
      "29/29 [==============================] - 0s 2ms/step - loss: 863.5416 - val_loss: 849.5823\n",
      "Epoch 56/500\n",
      "29/29 [==============================] - 0s 2ms/step - loss: 841.2430 - val_loss: 827.7053\n",
      "Epoch 57/500\n",
      "29/29 [==============================] - 0s 2ms/step - loss: 819.1972 - val_loss: 806.5208\n",
      "Epoch 58/500\n",
      "29/29 [==============================] - 0s 2ms/step - loss: 797.1635 - val_loss: 785.4221\n",
      "Epoch 59/500\n",
      "29/29 [==============================] - 0s 2ms/step - loss: 775.8920 - val_loss: 763.8796\n",
      "Epoch 60/500\n",
      "29/29 [==============================] - 0s 2ms/step - loss: 755.2764 - val_loss: 742.2604\n",
      "Epoch 61/500\n",
      "29/29 [==============================] - 0s 2ms/step - loss: 733.8846 - val_loss: 722.8845\n",
      "Epoch 62/500\n",
      "29/29 [==============================] - 0s 2ms/step - loss: 714.8069 - val_loss: 704.1490\n",
      "Epoch 63/500\n",
      "29/29 [==============================] - 0s 2ms/step - loss: 695.4277 - val_loss: 684.7087\n",
      "Epoch 64/500\n",
      "29/29 [==============================] - 0s 2ms/step - loss: 676.5044 - val_loss: 666.6122\n",
      "Epoch 65/500\n",
      "29/29 [==============================] - 0s 2ms/step - loss: 658.3782 - val_loss: 649.0867\n",
      "Epoch 66/500\n",
      "29/29 [==============================] - 0s 2ms/step - loss: 640.4316 - val_loss: 630.8798\n",
      "Epoch 67/500\n",
      "29/29 [==============================] - 0s 2ms/step - loss: 622.2155 - val_loss: 613.8807\n",
      "Epoch 68/500\n",
      "29/29 [==============================] - 0s 2ms/step - loss: 605.6404 - val_loss: 597.2126\n",
      "Epoch 69/500\n",
      "29/29 [==============================] - 0s 2ms/step - loss: 588.8240 - val_loss: 581.2219\n",
      "Epoch 70/500\n",
      "29/29 [==============================] - 0s 2ms/step - loss: 573.5331 - val_loss: 564.2604\n",
      "Epoch 71/500\n",
      "29/29 [==============================] - 0s 2ms/step - loss: 556.2675 - val_loss: 548.9628\n",
      "Epoch 72/500\n",
      "29/29 [==============================] - 0s 2ms/step - loss: 541.4598 - val_loss: 533.0027\n",
      "Epoch 73/500\n",
      "29/29 [==============================] - 0s 2ms/step - loss: 525.9399 - val_loss: 517.8562\n",
      "Epoch 74/500\n",
      "29/29 [==============================] - 0s 2ms/step - loss: 512.3463 - val_loss: 504.9164\n",
      "Epoch 75/500\n",
      "29/29 [==============================] - 0s 2ms/step - loss: 497.0179 - val_loss: 490.2784\n",
      "Epoch 76/500\n",
      "29/29 [==============================] - 0s 2ms/step - loss: 483.7317 - val_loss: 476.6957\n",
      "Epoch 77/500\n",
      "29/29 [==============================] - 0s 2ms/step - loss: 469.7327 - val_loss: 463.2003\n",
      "Epoch 78/500\n",
      "29/29 [==============================] - 0s 2ms/step - loss: 456.3629 - val_loss: 450.1505\n"
     ]
    },
    {
     "name": "stdout",
     "output_type": "stream",
     "text": [
      "Epoch 79/500\n",
      "29/29 [==============================] - 0s 2ms/step - loss: 443.5942 - val_loss: 437.6552\n",
      "Epoch 80/500\n",
      "29/29 [==============================] - 0s 2ms/step - loss: 431.6471 - val_loss: 425.0543\n",
      "Epoch 81/500\n",
      "29/29 [==============================] - 0s 2ms/step - loss: 420.0439 - val_loss: 413.2776\n",
      "Epoch 82/500\n",
      "29/29 [==============================] - 0s 2ms/step - loss: 407.0273 - val_loss: 402.9197\n",
      "Epoch 83/500\n",
      "29/29 [==============================] - 0s 2ms/step - loss: 396.0809 - val_loss: 391.5165\n",
      "Epoch 84/500\n",
      "29/29 [==============================] - 0s 2ms/step - loss: 385.0308 - val_loss: 380.0729\n",
      "Epoch 85/500\n",
      "29/29 [==============================] - 0s 2ms/step - loss: 376.3760 - val_loss: 368.9213\n",
      "Epoch 86/500\n",
      "29/29 [==============================] - 0s 2ms/step - loss: 364.3010 - val_loss: 361.1992\n",
      "Epoch 87/500\n",
      "29/29 [==============================] - 0s 2ms/step - loss: 355.4910 - val_loss: 348.8002\n",
      "Epoch 88/500\n",
      "29/29 [==============================] - 0s 2ms/step - loss: 344.3499 - val_loss: 339.6765\n",
      "Epoch 89/500\n",
      "29/29 [==============================] - 0s 2ms/step - loss: 335.0540 - val_loss: 329.3620\n",
      "Epoch 90/500\n",
      "29/29 [==============================] - 0s 2ms/step - loss: 325.9644 - val_loss: 320.9856\n",
      "Epoch 91/500\n",
      "29/29 [==============================] - 0s 2ms/step - loss: 318.8174 - val_loss: 314.1285\n",
      "Epoch 92/500\n",
      "29/29 [==============================] - 0s 2ms/step - loss: 308.3059 - val_loss: 302.8859\n",
      "Epoch 93/500\n",
      "29/29 [==============================] - 0s 2ms/step - loss: 299.8386 - val_loss: 295.6307\n",
      "Epoch 94/500\n",
      "29/29 [==============================] - 0s 2ms/step - loss: 291.9510 - val_loss: 287.1225\n",
      "Epoch 95/500\n",
      "29/29 [==============================] - 0s 2ms/step - loss: 284.0916 - val_loss: 279.3341\n",
      "Epoch 96/500\n",
      "29/29 [==============================] - 0s 2ms/step - loss: 276.6964 - val_loss: 272.3920\n",
      "Epoch 97/500\n",
      "29/29 [==============================] - 0s 2ms/step - loss: 269.4706 - val_loss: 264.7831\n",
      "Epoch 98/500\n",
      "29/29 [==============================] - 0s 2ms/step - loss: 262.0883 - val_loss: 257.4746\n",
      "Epoch 99/500\n",
      "29/29 [==============================] - 0s 2ms/step - loss: 255.8080 - val_loss: 250.5960\n",
      "Epoch 100/500\n",
      "29/29 [==============================] - 0s 2ms/step - loss: 250.9493 - val_loss: 244.3697\n",
      "Epoch 101/500\n",
      "29/29 [==============================] - 0s 2ms/step - loss: 243.3754 - val_loss: 238.4671\n",
      "Epoch 102/500\n",
      "29/29 [==============================] - 0s 2ms/step - loss: 236.6788 - val_loss: 231.2707\n",
      "Epoch 103/500\n",
      "29/29 [==============================] - 0s 2ms/step - loss: 230.2182 - val_loss: 226.1174\n",
      "Epoch 104/500\n",
      "29/29 [==============================] - 0s 2ms/step - loss: 224.4398 - val_loss: 219.9967\n",
      "Epoch 105/500\n",
      "29/29 [==============================] - 0s 2ms/step - loss: 219.1580 - val_loss: 213.1196\n",
      "Epoch 106/500\n",
      "29/29 [==============================] - 0s 2ms/step - loss: 213.0129 - val_loss: 209.1758\n",
      "Epoch 107/500\n",
      "29/29 [==============================] - 0s 2ms/step - loss: 208.3714 - val_loss: 204.1412\n",
      "Epoch 108/500\n",
      "29/29 [==============================] - 0s 2ms/step - loss: 203.5496 - val_loss: 198.5016\n",
      "Epoch 109/500\n",
      "29/29 [==============================] - 0s 2ms/step - loss: 199.2124 - val_loss: 192.5567\n",
      "Epoch 110/500\n",
      "29/29 [==============================] - 0s 2ms/step - loss: 193.7159 - val_loss: 188.6949\n",
      "Epoch 111/500\n",
      "29/29 [==============================] - 0s 2ms/step - loss: 189.1115 - val_loss: 184.4207\n",
      "Epoch 112/500\n",
      "29/29 [==============================] - 0s 2ms/step - loss: 184.8594 - val_loss: 179.1747\n",
      "Epoch 113/500\n",
      "29/29 [==============================] - 0s 2ms/step - loss: 180.7727 - val_loss: 175.0460\n",
      "Epoch 114/500\n",
      "29/29 [==============================] - 0s 2ms/step - loss: 176.4739 - val_loss: 171.9729\n",
      "Epoch 115/500\n",
      "29/29 [==============================] - 0s 2ms/step - loss: 172.8285 - val_loss: 167.5562\n",
      "Epoch 116/500\n",
      "29/29 [==============================] - 0s 2ms/step - loss: 170.0218 - val_loss: 163.2907\n",
      "Epoch 117/500\n",
      "29/29 [==============================] - 0s 2ms/step - loss: 165.1102 - val_loss: 158.7593\n",
      "Epoch 118/500\n",
      "29/29 [==============================] - 0s 2ms/step - loss: 162.4355 - val_loss: 155.3820\n",
      "Epoch 119/500\n",
      "29/29 [==============================] - 0s 2ms/step - loss: 158.3083 - val_loss: 152.3441\n",
      "Epoch 120/500\n",
      "29/29 [==============================] - 0s 2ms/step - loss: 155.2994 - val_loss: 149.6503\n",
      "Epoch 121/500\n",
      "29/29 [==============================] - 0s 2ms/step - loss: 151.9494 - val_loss: 144.9767\n",
      "Epoch 122/500\n",
      "29/29 [==============================] - 0s 2ms/step - loss: 149.0980 - val_loss: 142.1934\n",
      "Epoch 123/500\n",
      "29/29 [==============================] - 0s 2ms/step - loss: 145.8764 - val_loss: 139.3892\n",
      "Epoch 124/500\n",
      "29/29 [==============================] - 0s 2ms/step - loss: 143.3971 - val_loss: 136.3526\n",
      "Epoch 125/500\n",
      "29/29 [==============================] - 0s 2ms/step - loss: 140.1108 - val_loss: 134.1379\n",
      "Epoch 126/500\n",
      "29/29 [==============================] - 0s 2ms/step - loss: 138.1217 - val_loss: 130.6758\n",
      "Epoch 127/500\n",
      "29/29 [==============================] - 0s 2ms/step - loss: 135.1205 - val_loss: 129.1097\n",
      "Epoch 128/500\n",
      "29/29 [==============================] - 0s 2ms/step - loss: 133.1223 - val_loss: 125.9904\n",
      "Epoch 129/500\n",
      "29/29 [==============================] - 0s 2ms/step - loss: 130.9041 - val_loss: 122.8064\n",
      "Epoch 130/500\n",
      "29/29 [==============================] - 0s 2ms/step - loss: 128.1266 - val_loss: 122.6453\n",
      "Epoch 131/500\n",
      "29/29 [==============================] - 0s 2ms/step - loss: 126.0430 - val_loss: 117.4879\n",
      "Epoch 132/500\n",
      "29/29 [==============================] - 0s 2ms/step - loss: 123.8252 - val_loss: 116.2362\n",
      "Epoch 133/500\n",
      "29/29 [==============================] - 0s 2ms/step - loss: 121.8481 - val_loss: 113.6758\n",
      "Epoch 134/500\n",
      "29/29 [==============================] - 0s 2ms/step - loss: 119.5500 - val_loss: 111.9067\n",
      "Epoch 135/500\n",
      "29/29 [==============================] - 0s 2ms/step - loss: 118.0053 - val_loss: 110.2225\n",
      "Epoch 136/500\n",
      "29/29 [==============================] - 0s 2ms/step - loss: 115.9537 - val_loss: 108.7965\n",
      "Epoch 137/500\n",
      "29/29 [==============================] - 0s 2ms/step - loss: 114.2262 - val_loss: 105.8438\n",
      "Epoch 138/500\n",
      "29/29 [==============================] - 0s 2ms/step - loss: 112.2350 - val_loss: 103.8796\n",
      "Epoch 139/500\n",
      "29/29 [==============================] - 0s 2ms/step - loss: 111.2141 - val_loss: 103.2687\n",
      "Epoch 140/500\n",
      "29/29 [==============================] - 0s 2ms/step - loss: 109.3365 - val_loss: 100.6831\n",
      "Epoch 141/500\n",
      "29/29 [==============================] - 0s 2ms/step - loss: 107.8704 - val_loss: 99.6097\n",
      "Epoch 142/500\n",
      "29/29 [==============================] - 0s 2ms/step - loss: 105.7850 - val_loss: 97.1739\n",
      "Epoch 143/500\n",
      "29/29 [==============================] - 0s 2ms/step - loss: 104.8236 - val_loss: 95.9585\n",
      "Epoch 144/500\n",
      "29/29 [==============================] - 0s 2ms/step - loss: 103.5600 - val_loss: 94.7897\n",
      "Epoch 145/500\n",
      "29/29 [==============================] - 0s 2ms/step - loss: 101.7395 - val_loss: 92.6190\n",
      "Epoch 146/500\n",
      "29/29 [==============================] - 0s 2ms/step - loss: 100.4743 - val_loss: 91.3021\n",
      "Epoch 147/500\n",
      "29/29 [==============================] - 0s 2ms/step - loss: 99.2681 - val_loss: 91.6467\n",
      "Epoch 148/500\n",
      "29/29 [==============================] - 0s 2ms/step - loss: 99.1390 - val_loss: 88.6006\n",
      "Epoch 149/500\n",
      "29/29 [==============================] - 0s 2ms/step - loss: 96.7411 - val_loss: 87.9982\n",
      "Epoch 150/500\n",
      "29/29 [==============================] - 0s 2ms/step - loss: 95.8527 - val_loss: 85.5891\n",
      "Epoch 151/500\n",
      "29/29 [==============================] - 0s 2ms/step - loss: 94.5949 - val_loss: 85.2336\n",
      "Epoch 152/500\n",
      "29/29 [==============================] - 0s 2ms/step - loss: 93.6257 - val_loss: 84.5657\n",
      "Epoch 153/500\n",
      "29/29 [==============================] - 0s 2ms/step - loss: 92.3495 - val_loss: 82.2890\n",
      "Epoch 154/500\n",
      "29/29 [==============================] - 0s 2ms/step - loss: 91.7161 - val_loss: 81.7470\n",
      "Epoch 155/500\n",
      "29/29 [==============================] - 0s 2ms/step - loss: 90.6320 - val_loss: 79.9766\n",
      "Epoch 156/500\n",
      "29/29 [==============================] - 0s 2ms/step - loss: 89.5620 - val_loss: 80.4237\n",
      "Epoch 157/500\n"
     ]
    },
    {
     "name": "stdout",
     "output_type": "stream",
     "text": [
      "29/29 [==============================] - 0s 2ms/step - loss: 88.9740 - val_loss: 78.4775\n",
      "Epoch 158/500\n",
      "29/29 [==============================] - 0s 2ms/step - loss: 89.3260 - val_loss: 77.5899\n",
      "Epoch 159/500\n",
      "29/29 [==============================] - 0s 2ms/step - loss: 87.0250 - val_loss: 76.4019\n",
      "Epoch 160/500\n",
      "29/29 [==============================] - 0s 2ms/step - loss: 86.4350 - val_loss: 75.7486\n",
      "Epoch 161/500\n",
      "29/29 [==============================] - 0s 2ms/step - loss: 85.3762 - val_loss: 74.6607\n",
      "Epoch 162/500\n",
      "29/29 [==============================] - 0s 2ms/step - loss: 84.8531 - val_loss: 74.3668\n",
      "Epoch 163/500\n",
      "29/29 [==============================] - 0s 2ms/step - loss: 84.5128 - val_loss: 73.9613\n",
      "Epoch 164/500\n",
      "29/29 [==============================] - 0s 2ms/step - loss: 83.6906 - val_loss: 72.6356\n",
      "Epoch 165/500\n",
      "29/29 [==============================] - 0s 2ms/step - loss: 82.4427 - val_loss: 71.4383\n",
      "Epoch 166/500\n",
      "29/29 [==============================] - 0s 2ms/step - loss: 81.9379 - val_loss: 71.1160\n",
      "Epoch 167/500\n",
      "29/29 [==============================] - 0s 2ms/step - loss: 81.6258 - val_loss: 71.0806\n",
      "Epoch 168/500\n",
      "29/29 [==============================] - 0s 2ms/step - loss: 80.7110 - val_loss: 69.1357\n",
      "Epoch 169/500\n",
      "29/29 [==============================] - 0s 2ms/step - loss: 80.0447 - val_loss: 69.2270\n",
      "Epoch 170/500\n",
      "29/29 [==============================] - 0s 2ms/step - loss: 79.3183 - val_loss: 68.5495\n",
      "Epoch 171/500\n",
      "29/29 [==============================] - 0s 2ms/step - loss: 78.9484 - val_loss: 67.5502\n",
      "Epoch 172/500\n",
      "29/29 [==============================] - 0s 2ms/step - loss: 78.2983 - val_loss: 67.6356\n",
      "Epoch 173/500\n",
      "29/29 [==============================] - 0s 2ms/step - loss: 77.7140 - val_loss: 67.0245\n",
      "Epoch 174/500\n",
      "29/29 [==============================] - 0s 2ms/step - loss: 77.2332 - val_loss: 66.2036\n",
      "Epoch 175/500\n",
      "29/29 [==============================] - 0s 2ms/step - loss: 76.7478 - val_loss: 64.9029\n",
      "Epoch 176/500\n",
      "29/29 [==============================] - 0s 2ms/step - loss: 76.4235 - val_loss: 65.1432\n",
      "Epoch 177/500\n",
      "29/29 [==============================] - 0s 2ms/step - loss: 75.7128 - val_loss: 64.0709\n",
      "Epoch 178/500\n",
      "29/29 [==============================] - 0s 2ms/step - loss: 75.1513 - val_loss: 63.9901\n",
      "Epoch 179/500\n",
      "29/29 [==============================] - 0s 2ms/step - loss: 75.1935 - val_loss: 63.1047\n",
      "Epoch 180/500\n",
      "29/29 [==============================] - 0s 2ms/step - loss: 74.5449 - val_loss: 62.5968\n",
      "Epoch 181/500\n",
      "29/29 [==============================] - 0s 2ms/step - loss: 73.9309 - val_loss: 62.5204\n",
      "Epoch 182/500\n",
      "29/29 [==============================] - 0s 2ms/step - loss: 73.4647 - val_loss: 62.0504\n",
      "Epoch 183/500\n",
      "29/29 [==============================] - 0s 2ms/step - loss: 73.2310 - val_loss: 61.6698\n",
      "Epoch 184/500\n",
      "29/29 [==============================] - 0s 2ms/step - loss: 73.1280 - val_loss: 61.6725\n",
      "Epoch 185/500\n",
      "29/29 [==============================] - 0s 2ms/step - loss: 72.7133 - val_loss: 60.8382\n",
      "Epoch 186/500\n",
      "29/29 [==============================] - 0s 2ms/step - loss: 72.0370 - val_loss: 60.3721\n",
      "Epoch 187/500\n",
      "29/29 [==============================] - 0s 2ms/step - loss: 71.8717 - val_loss: 59.6156\n",
      "Epoch 188/500\n",
      "29/29 [==============================] - 0s 2ms/step - loss: 71.7922 - val_loss: 59.0074\n",
      "Epoch 189/500\n",
      "29/29 [==============================] - 0s 2ms/step - loss: 70.9259 - val_loss: 59.7350\n",
      "Epoch 190/500\n",
      "29/29 [==============================] - 0s 2ms/step - loss: 70.5405 - val_loss: 58.7315\n",
      "Epoch 191/500\n",
      "29/29 [==============================] - 0s 2ms/step - loss: 70.1080 - val_loss: 58.0886\n",
      "Epoch 192/500\n",
      "29/29 [==============================] - 0s 2ms/step - loss: 69.9796 - val_loss: 58.5117\n",
      "Epoch 193/500\n",
      "29/29 [==============================] - 0s 2ms/step - loss: 70.2440 - val_loss: 57.8811\n",
      "Epoch 194/500\n",
      "29/29 [==============================] - 0s 2ms/step - loss: 70.0088 - val_loss: 58.4181\n",
      "Epoch 195/500\n",
      "29/29 [==============================] - 0s 2ms/step - loss: 69.0761 - val_loss: 56.4265\n",
      "Epoch 196/500\n",
      "29/29 [==============================] - 0s 2ms/step - loss: 68.5971 - val_loss: 56.8024\n",
      "Epoch 197/500\n",
      "29/29 [==============================] - 0s 2ms/step - loss: 68.6051 - val_loss: 57.1384\n",
      "Epoch 198/500\n",
      "29/29 [==============================] - 0s 2ms/step - loss: 68.3173 - val_loss: 55.3901\n",
      "Epoch 199/500\n",
      "29/29 [==============================] - 0s 2ms/step - loss: 68.5168 - val_loss: 55.7193\n",
      "Epoch 200/500\n",
      "29/29 [==============================] - 0s 2ms/step - loss: 68.0016 - val_loss: 54.7500\n",
      "Epoch 201/500\n",
      "29/29 [==============================] - 0s 2ms/step - loss: 67.6896 - val_loss: 55.1874\n",
      "Epoch 202/500\n",
      "29/29 [==============================] - 0s 2ms/step - loss: 67.0252 - val_loss: 54.6507\n",
      "Epoch 203/500\n",
      "29/29 [==============================] - 0s 2ms/step - loss: 66.9335 - val_loss: 54.9364\n",
      "Epoch 204/500\n",
      "29/29 [==============================] - 0s 2ms/step - loss: 66.6171 - val_loss: 54.0942\n",
      "Epoch 205/500\n",
      "29/29 [==============================] - 0s 2ms/step - loss: 66.0472 - val_loss: 54.9593\n",
      "Epoch 206/500\n",
      "29/29 [==============================] - 0s 2ms/step - loss: 66.4723 - val_loss: 55.0214\n",
      "Epoch 207/500\n",
      "29/29 [==============================] - 0s 2ms/step - loss: 67.1044 - val_loss: 53.6333\n",
      "Epoch 208/500\n",
      "29/29 [==============================] - 0s 2ms/step - loss: 66.1840 - val_loss: 53.3590\n",
      "Epoch 209/500\n",
      "29/29 [==============================] - 0s 2ms/step - loss: 65.7493 - val_loss: 53.2194\n",
      "Epoch 210/500\n",
      "29/29 [==============================] - 0s 2ms/step - loss: 65.3060 - val_loss: 53.0010\n",
      "Epoch 211/500\n",
      "29/29 [==============================] - 0s 2ms/step - loss: 64.9810 - val_loss: 52.4389\n",
      "Epoch 212/500\n",
      "29/29 [==============================] - 0s 2ms/step - loss: 64.3591 - val_loss: 51.7669\n",
      "Epoch 213/500\n",
      "29/29 [==============================] - 0s 2ms/step - loss: 64.2735 - val_loss: 52.6038\n",
      "Epoch 214/500\n",
      "29/29 [==============================] - 0s 2ms/step - loss: 63.9929 - val_loss: 51.6263\n",
      "Epoch 215/500\n",
      "29/29 [==============================] - 0s 2ms/step - loss: 63.8726 - val_loss: 51.0321\n",
      "Epoch 216/500\n",
      "29/29 [==============================] - 0s 2ms/step - loss: 63.5396 - val_loss: 51.0650\n",
      "Epoch 217/500\n",
      "29/29 [==============================] - 0s 2ms/step - loss: 63.7607 - val_loss: 51.9050\n",
      "Epoch 218/500\n",
      "29/29 [==============================] - 0s 2ms/step - loss: 63.9911 - val_loss: 50.8199\n",
      "Epoch 219/500\n",
      "29/29 [==============================] - 0s 2ms/step - loss: 63.2060 - val_loss: 50.7215\n",
      "Epoch 220/500\n",
      "29/29 [==============================] - 0s 2ms/step - loss: 63.0852 - val_loss: 49.8311\n",
      "Epoch 221/500\n",
      "29/29 [==============================] - 0s 2ms/step - loss: 62.6409 - val_loss: 49.6754\n",
      "Epoch 222/500\n",
      "29/29 [==============================] - 0s 2ms/step - loss: 62.0326 - val_loss: 50.1850\n",
      "Epoch 223/500\n",
      "29/29 [==============================] - 0s 2ms/step - loss: 62.0508 - val_loss: 49.2041\n",
      "Epoch 224/500\n",
      "29/29 [==============================] - 0s 2ms/step - loss: 62.4560 - val_loss: 49.2537\n",
      "Epoch 225/500\n",
      "29/29 [==============================] - 0s 2ms/step - loss: 61.2900 - val_loss: 48.6602\n",
      "Epoch 226/500\n",
      "29/29 [==============================] - 0s 2ms/step - loss: 60.9895 - val_loss: 49.1424\n",
      "Epoch 227/500\n",
      "29/29 [==============================] - 0s 2ms/step - loss: 60.9861 - val_loss: 48.8872\n",
      "Epoch 228/500\n",
      "29/29 [==============================] - 0s 2ms/step - loss: 60.5254 - val_loss: 47.9496\n",
      "Epoch 229/500\n",
      "29/29 [==============================] - 0s 2ms/step - loss: 60.8801 - val_loss: 47.9633\n",
      "Epoch 230/500\n",
      "29/29 [==============================] - 0s 2ms/step - loss: 60.7833 - val_loss: 48.2404\n",
      "Epoch 231/500\n",
      "29/29 [==============================] - 0s 2ms/step - loss: 59.8075 - val_loss: 47.9780\n",
      "Epoch 232/500\n",
      "29/29 [==============================] - 0s 2ms/step - loss: 59.8434 - val_loss: 47.1338\n",
      "Epoch 233/500\n",
      "29/29 [==============================] - 0s 2ms/step - loss: 59.6234 - val_loss: 46.9951\n",
      "Epoch 234/500\n",
      "29/29 [==============================] - 0s 2ms/step - loss: 58.9314 - val_loss: 46.7046\n",
      "Epoch 235/500\n",
      "29/29 [==============================] - 0s 2ms/step - loss: 58.8250 - val_loss: 46.6594\n",
      "Epoch 236/500\n"
     ]
    },
    {
     "name": "stdout",
     "output_type": "stream",
     "text": [
      "29/29 [==============================] - 0s 2ms/step - loss: 58.3111 - val_loss: 46.4986\n",
      "Epoch 237/500\n",
      "29/29 [==============================] - 0s 2ms/step - loss: 58.1805 - val_loss: 46.3494\n",
      "Epoch 238/500\n",
      "29/29 [==============================] - 0s 2ms/step - loss: 57.9615 - val_loss: 45.6211\n",
      "Epoch 239/500\n",
      "29/29 [==============================] - 0s 2ms/step - loss: 57.6190 - val_loss: 45.3877\n",
      "Epoch 240/500\n",
      "29/29 [==============================] - 0s 2ms/step - loss: 57.9775 - val_loss: 46.1728\n",
      "Epoch 241/500\n",
      "29/29 [==============================] - 0s 2ms/step - loss: 57.1352 - val_loss: 44.3727\n",
      "Epoch 242/500\n",
      "29/29 [==============================] - 0s 2ms/step - loss: 56.5161 - val_loss: 44.6229\n",
      "Epoch 243/500\n",
      "29/29 [==============================] - 0s 2ms/step - loss: 56.4010 - val_loss: 44.6853\n",
      "Epoch 244/500\n",
      "29/29 [==============================] - 0s 2ms/step - loss: 55.9294 - val_loss: 43.8822\n",
      "Epoch 245/500\n",
      "29/29 [==============================] - 0s 2ms/step - loss: 55.7854 - val_loss: 43.9906\n",
      "Epoch 246/500\n",
      "29/29 [==============================] - 0s 2ms/step - loss: 55.6188 - val_loss: 44.2375\n",
      "Epoch 247/500\n",
      "29/29 [==============================] - 0s 2ms/step - loss: 55.3602 - val_loss: 43.7583\n",
      "Epoch 248/500\n",
      "29/29 [==============================] - 0s 2ms/step - loss: 54.9700 - val_loss: 42.6351\n",
      "Epoch 249/500\n",
      "29/29 [==============================] - 0s 2ms/step - loss: 54.3302 - val_loss: 42.5989\n",
      "Epoch 250/500\n",
      "29/29 [==============================] - 0s 2ms/step - loss: 54.0233 - val_loss: 42.2524\n",
      "Epoch 251/500\n",
      "29/29 [==============================] - 0s 2ms/step - loss: 53.8312 - val_loss: 41.7757\n",
      "Epoch 252/500\n",
      "29/29 [==============================] - 0s 2ms/step - loss: 53.4131 - val_loss: 42.7083\n",
      "Epoch 253/500\n",
      "29/29 [==============================] - 0s 2ms/step - loss: 53.2209 - val_loss: 41.0260\n",
      "Epoch 254/500\n",
      "29/29 [==============================] - 0s 2ms/step - loss: 53.6276 - val_loss: 40.5694\n",
      "Epoch 255/500\n",
      "29/29 [==============================] - 0s 2ms/step - loss: 52.9386 - val_loss: 41.9173\n",
      "Epoch 256/500\n",
      "29/29 [==============================] - 0s 2ms/step - loss: 52.3554 - val_loss: 40.6508\n",
      "Epoch 257/500\n",
      "29/29 [==============================] - 0s 2ms/step - loss: 52.0349 - val_loss: 40.2035\n",
      "Epoch 258/500\n",
      "29/29 [==============================] - 0s 2ms/step - loss: 51.3936 - val_loss: 40.5231\n",
      "Epoch 259/500\n",
      "29/29 [==============================] - 0s 2ms/step - loss: 51.2008 - val_loss: 40.2165\n",
      "Epoch 260/500\n",
      "29/29 [==============================] - 0s 2ms/step - loss: 50.7909 - val_loss: 39.6885\n",
      "Epoch 261/500\n",
      "29/29 [==============================] - 0s 2ms/step - loss: 50.7976 - val_loss: 40.3430\n",
      "Epoch 262/500\n",
      "29/29 [==============================] - 0s 2ms/step - loss: 50.1210 - val_loss: 38.8386\n",
      "Epoch 263/500\n",
      "29/29 [==============================] - 0s 2ms/step - loss: 49.9926 - val_loss: 38.5611\n",
      "Epoch 264/500\n",
      "29/29 [==============================] - 0s 2ms/step - loss: 49.7431 - val_loss: 39.0655\n",
      "Epoch 265/500\n",
      "29/29 [==============================] - 0s 2ms/step - loss: 49.2581 - val_loss: 37.6925\n",
      "Epoch 266/500\n",
      "29/29 [==============================] - 0s 2ms/step - loss: 49.0886 - val_loss: 38.3113\n",
      "Epoch 267/500\n",
      "29/29 [==============================] - 0s 2ms/step - loss: 48.5885 - val_loss: 37.7522\n",
      "Epoch 268/500\n",
      "29/29 [==============================] - 0s 2ms/step - loss: 48.1577 - val_loss: 37.5919\n",
      "Epoch 269/500\n",
      "29/29 [==============================] - 0s 2ms/step - loss: 48.0278 - val_loss: 38.0008\n",
      "Epoch 270/500\n",
      "29/29 [==============================] - 0s 2ms/step - loss: 47.7126 - val_loss: 36.6952\n",
      "Epoch 271/500\n",
      "29/29 [==============================] - 0s 2ms/step - loss: 47.5353 - val_loss: 36.0147\n",
      "Epoch 272/500\n",
      "29/29 [==============================] - 0s 2ms/step - loss: 46.8277 - val_loss: 36.9529\n",
      "Epoch 273/500\n",
      "29/29 [==============================] - 0s 2ms/step - loss: 46.9162 - val_loss: 36.1429\n",
      "Epoch 274/500\n",
      "29/29 [==============================] - 0s 2ms/step - loss: 46.2997 - val_loss: 35.7757\n",
      "Epoch 275/500\n",
      "29/29 [==============================] - 0s 2ms/step - loss: 45.8906 - val_loss: 35.7795\n",
      "Epoch 276/500\n",
      "29/29 [==============================] - 0s 2ms/step - loss: 45.9540 - val_loss: 35.8823\n",
      "Epoch 277/500\n",
      "29/29 [==============================] - 0s 2ms/step - loss: 45.2625 - val_loss: 34.8041\n",
      "Epoch 278/500\n",
      "29/29 [==============================] - 0s 2ms/step - loss: 45.0244 - val_loss: 35.3045\n",
      "Epoch 279/500\n",
      "29/29 [==============================] - 0s 2ms/step - loss: 44.8493 - val_loss: 34.1957\n",
      "Epoch 280/500\n",
      "29/29 [==============================] - 0s 2ms/step - loss: 44.3950 - val_loss: 34.3272\n",
      "Epoch 281/500\n",
      "29/29 [==============================] - 0s 2ms/step - loss: 44.1932 - val_loss: 34.0518\n",
      "Epoch 282/500\n",
      "29/29 [==============================] - 0s 2ms/step - loss: 43.7886 - val_loss: 33.8589\n",
      "Epoch 283/500\n",
      "29/29 [==============================] - 0s 2ms/step - loss: 43.6697 - val_loss: 33.1182\n",
      "Epoch 284/500\n",
      "29/29 [==============================] - 0s 2ms/step - loss: 43.4137 - val_loss: 33.5113\n",
      "Epoch 285/500\n",
      "29/29 [==============================] - 0s 2ms/step - loss: 42.8587 - val_loss: 33.0586\n",
      "Epoch 286/500\n",
      "29/29 [==============================] - 0s 2ms/step - loss: 42.7318 - val_loss: 32.1658\n",
      "Epoch 287/500\n",
      "29/29 [==============================] - 0s 2ms/step - loss: 42.4093 - val_loss: 32.9822\n",
      "Epoch 288/500\n",
      "29/29 [==============================] - 0s 2ms/step - loss: 41.9628 - val_loss: 31.7765\n",
      "Epoch 289/500\n",
      "29/29 [==============================] - 0s 2ms/step - loss: 41.7233 - val_loss: 31.8426\n",
      "Epoch 290/500\n",
      "29/29 [==============================] - 0s 2ms/step - loss: 41.3270 - val_loss: 31.8355\n",
      "Epoch 291/500\n",
      "29/29 [==============================] - 0s 2ms/step - loss: 41.1007 - val_loss: 31.5857\n",
      "Epoch 292/500\n",
      "29/29 [==============================] - 0s 2ms/step - loss: 40.9452 - val_loss: 31.1752\n",
      "Epoch 293/500\n",
      "29/29 [==============================] - 0s 2ms/step - loss: 40.5931 - val_loss: 31.0266\n",
      "Epoch 294/500\n",
      "29/29 [==============================] - 0s 2ms/step - loss: 40.3852 - val_loss: 30.9480\n",
      "Epoch 295/500\n",
      "29/29 [==============================] - 0s 2ms/step - loss: 40.1517 - val_loss: 30.5979\n",
      "Epoch 296/500\n",
      "29/29 [==============================] - 0s 2ms/step - loss: 39.8411 - val_loss: 30.5467\n",
      "Epoch 297/500\n",
      "29/29 [==============================] - 0s 2ms/step - loss: 39.4325 - val_loss: 29.9965\n",
      "Epoch 298/500\n",
      "29/29 [==============================] - 0s 2ms/step - loss: 39.3113 - val_loss: 29.6041\n",
      "Epoch 299/500\n",
      "29/29 [==============================] - 0s 2ms/step - loss: 39.0430 - val_loss: 29.4820\n",
      "Epoch 300/500\n",
      "29/29 [==============================] - 0s 2ms/step - loss: 38.6516 - val_loss: 29.1934\n",
      "Epoch 301/500\n",
      "29/29 [==============================] - 0s 2ms/step - loss: 38.4065 - val_loss: 29.3719\n",
      "Epoch 302/500\n",
      "29/29 [==============================] - 0s 2ms/step - loss: 38.2327 - val_loss: 28.7150\n",
      "Epoch 303/500\n",
      "29/29 [==============================] - 0s 2ms/step - loss: 38.1051 - val_loss: 28.9675\n",
      "Epoch 304/500\n",
      "29/29 [==============================] - 0s 2ms/step - loss: 37.7705 - val_loss: 28.3982\n",
      "Epoch 305/500\n",
      "29/29 [==============================] - 0s 2ms/step - loss: 37.7131 - val_loss: 28.9544\n",
      "Epoch 306/500\n",
      "29/29 [==============================] - 0s 2ms/step - loss: 37.3902 - val_loss: 28.4158\n",
      "Epoch 307/500\n",
      "29/29 [==============================] - 0s 2ms/step - loss: 37.1201 - val_loss: 27.8697\n",
      "Epoch 308/500\n",
      "29/29 [==============================] - 0s 2ms/step - loss: 37.0075 - val_loss: 27.8058\n",
      "Epoch 309/500\n",
      "29/29 [==============================] - 0s 2ms/step - loss: 36.5199 - val_loss: 27.4598\n",
      "Epoch 310/500\n",
      "29/29 [==============================] - 0s 2ms/step - loss: 36.3158 - val_loss: 27.4801\n",
      "Epoch 311/500\n",
      "29/29 [==============================] - 0s 2ms/step - loss: 36.2312 - val_loss: 27.5751\n",
      "Epoch 312/500\n",
      "29/29 [==============================] - 0s 2ms/step - loss: 35.9516 - val_loss: 27.2903\n",
      "Epoch 313/500\n",
      "29/29 [==============================] - 0s 2ms/step - loss: 35.6549 - val_loss: 26.8245\n",
      "Epoch 314/500\n",
      "29/29 [==============================] - 0s 2ms/step - loss: 35.4086 - val_loss: 26.7376\n",
      "Epoch 315/500\n"
     ]
    },
    {
     "name": "stdout",
     "output_type": "stream",
     "text": [
      "29/29 [==============================] - 0s 2ms/step - loss: 35.4227 - val_loss: 26.3864\n",
      "Epoch 316/500\n",
      "29/29 [==============================] - 0s 2ms/step - loss: 35.3574 - val_loss: 26.9503\n",
      "Epoch 317/500\n",
      "29/29 [==============================] - 0s 2ms/step - loss: 35.3404 - val_loss: 26.2335\n",
      "Epoch 318/500\n",
      "29/29 [==============================] - 0s 2ms/step - loss: 34.7904 - val_loss: 26.1551\n",
      "Epoch 319/500\n",
      "29/29 [==============================] - 0s 2ms/step - loss: 34.5974 - val_loss: 26.0123\n",
      "Epoch 320/500\n",
      "29/29 [==============================] - 0s 2ms/step - loss: 34.3861 - val_loss: 25.8701\n",
      "Epoch 321/500\n",
      "29/29 [==============================] - 0s 2ms/step - loss: 34.0935 - val_loss: 25.5769\n",
      "Epoch 322/500\n",
      "29/29 [==============================] - 0s 2ms/step - loss: 34.0015 - val_loss: 25.3808\n",
      "Epoch 323/500\n",
      "29/29 [==============================] - 0s 2ms/step - loss: 33.6994 - val_loss: 24.9818\n",
      "Epoch 324/500\n",
      "29/29 [==============================] - 0s 2ms/step - loss: 33.6546 - val_loss: 25.0096\n",
      "Epoch 325/500\n",
      "29/29 [==============================] - 0s 2ms/step - loss: 33.3853 - val_loss: 24.5977\n",
      "Epoch 326/500\n",
      "29/29 [==============================] - 0s 2ms/step - loss: 33.2490 - val_loss: 25.1139\n",
      "Epoch 327/500\n",
      "29/29 [==============================] - 0s 2ms/step - loss: 33.0125 - val_loss: 25.2353\n",
      "Epoch 328/500\n",
      "29/29 [==============================] - 0s 2ms/step - loss: 32.9165 - val_loss: 25.0121\n",
      "Epoch 329/500\n",
      "29/29 [==============================] - 0s 2ms/step - loss: 32.9029 - val_loss: 24.5730\n",
      "Epoch 330/500\n",
      "29/29 [==============================] - 0s 2ms/step - loss: 32.4873 - val_loss: 24.4873\n",
      "Epoch 331/500\n",
      "29/29 [==============================] - 0s 2ms/step - loss: 32.5585 - val_loss: 24.6119\n",
      "Epoch 332/500\n",
      "29/29 [==============================] - 0s 2ms/step - loss: 32.3816 - val_loss: 23.9078\n",
      "Epoch 333/500\n",
      "29/29 [==============================] - 0s 2ms/step - loss: 31.9950 - val_loss: 24.8364\n",
      "Epoch 334/500\n",
      "29/29 [==============================] - 0s 2ms/step - loss: 31.7063 - val_loss: 23.3661\n",
      "Epoch 335/500\n",
      "29/29 [==============================] - 0s 2ms/step - loss: 31.8436 - val_loss: 24.1023\n",
      "Epoch 336/500\n",
      "29/29 [==============================] - 0s 2ms/step - loss: 31.6186 - val_loss: 23.4376\n",
      "Epoch 337/500\n",
      "29/29 [==============================] - 0s 2ms/step - loss: 31.3495 - val_loss: 23.5837\n",
      "Epoch 338/500\n",
      "29/29 [==============================] - 0s 2ms/step - loss: 31.7258 - val_loss: 22.8087\n",
      "Epoch 339/500\n",
      "29/29 [==============================] - 0s 2ms/step - loss: 31.4212 - val_loss: 23.4667\n",
      "Epoch 340/500\n",
      "29/29 [==============================] - 0s 2ms/step - loss: 30.9666 - val_loss: 22.9562\n",
      "Epoch 341/500\n",
      "29/29 [==============================] - 0s 2ms/step - loss: 30.8026 - val_loss: 23.1479\n",
      "Epoch 342/500\n",
      "29/29 [==============================] - 0s 2ms/step - loss: 30.7644 - val_loss: 22.8243\n",
      "Epoch 343/500\n",
      "29/29 [==============================] - 0s 2ms/step - loss: 30.5083 - val_loss: 22.6005\n",
      "Epoch 344/500\n",
      "29/29 [==============================] - 0s 2ms/step - loss: 30.5244 - val_loss: 22.4530\n",
      "Epoch 345/500\n",
      "29/29 [==============================] - 0s 2ms/step - loss: 30.5234 - val_loss: 22.5064\n",
      "Epoch 346/500\n",
      "29/29 [==============================] - 0s 2ms/step - loss: 30.2250 - val_loss: 22.7240\n",
      "Epoch 347/500\n",
      "29/29 [==============================] - 0s 2ms/step - loss: 29.9562 - val_loss: 21.8462\n",
      "Epoch 348/500\n",
      "29/29 [==============================] - 0s 2ms/step - loss: 29.9010 - val_loss: 22.1127\n",
      "Epoch 349/500\n",
      "29/29 [==============================] - 0s 2ms/step - loss: 29.7854 - val_loss: 22.2332\n",
      "Epoch 350/500\n",
      "29/29 [==============================] - 0s 2ms/step - loss: 29.7806 - val_loss: 22.0008\n",
      "Epoch 351/500\n",
      "29/29 [==============================] - 0s 2ms/step - loss: 29.4661 - val_loss: 22.2499\n",
      "Epoch 352/500\n",
      "29/29 [==============================] - 0s 2ms/step - loss: 29.4326 - val_loss: 21.2564\n",
      "Epoch 353/500\n",
      "29/29 [==============================] - 0s 2ms/step - loss: 29.3502 - val_loss: 21.5026\n",
      "Epoch 354/500\n",
      "29/29 [==============================] - 0s 2ms/step - loss: 29.1588 - val_loss: 21.3713\n",
      "Epoch 355/500\n",
      "29/29 [==============================] - 0s 2ms/step - loss: 29.0824 - val_loss: 21.5738\n",
      "Epoch 356/500\n",
      "29/29 [==============================] - 0s 2ms/step - loss: 29.0165 - val_loss: 21.2520\n",
      "Epoch 357/500\n",
      "29/29 [==============================] - 0s 2ms/step - loss: 28.7726 - val_loss: 21.3051\n",
      "Epoch 358/500\n",
      "29/29 [==============================] - 0s 2ms/step - loss: 28.6028 - val_loss: 21.3004\n",
      "Epoch 359/500\n",
      "29/29 [==============================] - 0s 2ms/step - loss: 28.8290 - val_loss: 21.1725\n",
      "Epoch 360/500\n",
      "29/29 [==============================] - 0s 2ms/step - loss: 28.6544 - val_loss: 20.9158\n",
      "Epoch 361/500\n",
      "29/29 [==============================] - 0s 2ms/step - loss: 28.3689 - val_loss: 20.5493\n",
      "Epoch 362/500\n",
      "29/29 [==============================] - 0s 2ms/step - loss: 28.2063 - val_loss: 20.8013\n",
      "Epoch 363/500\n",
      "29/29 [==============================] - 0s 2ms/step - loss: 28.1078 - val_loss: 20.4435\n",
      "Epoch 364/500\n",
      "29/29 [==============================] - 0s 2ms/step - loss: 28.1875 - val_loss: 20.5175\n",
      "Epoch 365/500\n",
      "29/29 [==============================] - 0s 2ms/step - loss: 28.2008 - val_loss: 20.9167\n",
      "Epoch 366/500\n",
      "29/29 [==============================] - 0s 2ms/step - loss: 27.7405 - val_loss: 20.5045\n",
      "Epoch 367/500\n",
      "29/29 [==============================] - 0s 2ms/step - loss: 27.8258 - val_loss: 20.6134\n",
      "Epoch 368/500\n",
      "29/29 [==============================] - 0s 2ms/step - loss: 27.6908 - val_loss: 20.3804\n",
      "Epoch 369/500\n",
      "29/29 [==============================] - 0s 2ms/step - loss: 27.9388 - val_loss: 19.9450\n",
      "Epoch 370/500\n",
      "29/29 [==============================] - 0s 2ms/step - loss: 27.6457 - val_loss: 20.3831\n",
      "Epoch 371/500\n",
      "29/29 [==============================] - 0s 2ms/step - loss: 27.1650 - val_loss: 20.0240\n",
      "Epoch 372/500\n",
      "29/29 [==============================] - 0s 2ms/step - loss: 27.1752 - val_loss: 20.0769\n",
      "Epoch 373/500\n",
      "29/29 [==============================] - 0s 2ms/step - loss: 27.3842 - val_loss: 21.2721\n",
      "Epoch 374/500\n",
      "29/29 [==============================] - 0s 2ms/step - loss: 27.0122 - val_loss: 19.6459\n",
      "Epoch 375/500\n",
      "29/29 [==============================] - 0s 2ms/step - loss: 26.9153 - val_loss: 20.0174\n",
      "Epoch 376/500\n",
      "29/29 [==============================] - 0s 2ms/step - loss: 26.9059 - val_loss: 19.4894\n",
      "Epoch 377/500\n",
      "29/29 [==============================] - 0s 2ms/step - loss: 26.7834 - val_loss: 19.6354\n",
      "Epoch 378/500\n",
      "29/29 [==============================] - 0s 2ms/step - loss: 26.6250 - val_loss: 19.9706\n",
      "Epoch 379/500\n",
      "29/29 [==============================] - 0s 2ms/step - loss: 26.5147 - val_loss: 19.5534\n",
      "Epoch 380/500\n",
      "29/29 [==============================] - 0s 2ms/step - loss: 26.4362 - val_loss: 19.3639\n",
      "Epoch 381/500\n",
      "29/29 [==============================] - 0s 2ms/step - loss: 26.4481 - val_loss: 19.4893\n",
      "Epoch 382/500\n",
      "29/29 [==============================] - 0s 2ms/step - loss: 26.2704 - val_loss: 19.4274\n",
      "Epoch 383/500\n",
      "29/29 [==============================] - 0s 2ms/step - loss: 26.6462 - val_loss: 18.9248\n",
      "Epoch 384/500\n",
      "29/29 [==============================] - 0s 2ms/step - loss: 26.1777 - val_loss: 18.9865\n",
      "Epoch 385/500\n",
      "29/29 [==============================] - 0s 2ms/step - loss: 25.9408 - val_loss: 19.4135\n",
      "Epoch 386/500\n",
      "29/29 [==============================] - 0s 2ms/step - loss: 25.9635 - val_loss: 19.4489\n",
      "Epoch 387/500\n",
      "29/29 [==============================] - 0s 2ms/step - loss: 25.7720 - val_loss: 18.8224\n",
      "Epoch 388/500\n",
      "29/29 [==============================] - 0s 2ms/step - loss: 25.9266 - val_loss: 18.7494\n",
      "Epoch 389/500\n",
      "29/29 [==============================] - 0s 2ms/step - loss: 25.6125 - val_loss: 18.8692\n",
      "Epoch 390/500\n",
      "29/29 [==============================] - 0s 2ms/step - loss: 25.6384 - val_loss: 18.8390\n",
      "Epoch 391/500\n",
      "29/29 [==============================] - 0s 2ms/step - loss: 26.0707 - val_loss: 19.5982\n",
      "Epoch 392/500\n",
      "29/29 [==============================] - 0s 2ms/step - loss: 25.3889 - val_loss: 18.7092\n",
      "Epoch 393/500\n",
      "29/29 [==============================] - 0s 2ms/step - loss: 25.2422 - val_loss: 18.9620\n",
      "Epoch 394/500\n"
     ]
    },
    {
     "name": "stdout",
     "output_type": "stream",
     "text": [
      "29/29 [==============================] - 0s 2ms/step - loss: 25.2006 - val_loss: 18.4494\n",
      "Epoch 395/500\n",
      "29/29 [==============================] - 0s 2ms/step - loss: 25.1307 - val_loss: 19.1262\n",
      "Epoch 396/500\n",
      "29/29 [==============================] - 0s 2ms/step - loss: 24.9728 - val_loss: 18.4526\n",
      "Epoch 397/500\n",
      "29/29 [==============================] - 0s 2ms/step - loss: 24.9541 - val_loss: 18.4579\n",
      "Epoch 398/500\n",
      "29/29 [==============================] - 0s 2ms/step - loss: 25.0047 - val_loss: 18.3259\n",
      "Epoch 399/500\n",
      "29/29 [==============================] - 0s 2ms/step - loss: 24.8152 - val_loss: 18.2007\n",
      "Epoch 400/500\n",
      "29/29 [==============================] - 0s 2ms/step - loss: 24.7177 - val_loss: 18.4397\n",
      "Epoch 401/500\n",
      "29/29 [==============================] - 0s 2ms/step - loss: 24.5669 - val_loss: 18.0099\n",
      "Epoch 402/500\n",
      "29/29 [==============================] - 0s 2ms/step - loss: 24.6605 - val_loss: 18.4109\n",
      "Epoch 403/500\n",
      "29/29 [==============================] - 0s 2ms/step - loss: 24.7737 - val_loss: 17.8247\n",
      "Epoch 404/500\n",
      "29/29 [==============================] - 0s 2ms/step - loss: 24.4886 - val_loss: 18.6025\n",
      "Epoch 405/500\n",
      "29/29 [==============================] - 0s 2ms/step - loss: 24.2760 - val_loss: 17.9723\n",
      "Epoch 406/500\n",
      "29/29 [==============================] - 0s 2ms/step - loss: 24.2899 - val_loss: 17.9735\n",
      "Epoch 407/500\n",
      "29/29 [==============================] - 0s 2ms/step - loss: 24.5418 - val_loss: 18.6339\n",
      "Epoch 408/500\n",
      "29/29 [==============================] - 0s 2ms/step - loss: 24.3670 - val_loss: 17.9645\n",
      "Epoch 409/500\n",
      "29/29 [==============================] - 0s 2ms/step - loss: 24.0883 - val_loss: 17.5266\n",
      "Epoch 410/500\n",
      "29/29 [==============================] - 0s 2ms/step - loss: 24.0529 - val_loss: 17.7217\n",
      "Epoch 411/500\n",
      "29/29 [==============================] - 0s 2ms/step - loss: 23.9105 - val_loss: 17.7276\n",
      "Epoch 412/500\n",
      "29/29 [==============================] - 0s 2ms/step - loss: 23.9118 - val_loss: 17.5423\n",
      "Epoch 413/500\n",
      "29/29 [==============================] - 0s 2ms/step - loss: 24.1045 - val_loss: 18.2406\n",
      "Epoch 414/500\n",
      "29/29 [==============================] - 0s 2ms/step - loss: 23.7366 - val_loss: 17.3546\n",
      "Epoch 415/500\n",
      "29/29 [==============================] - 0s 2ms/step - loss: 23.6508 - val_loss: 17.3881\n",
      "Epoch 416/500\n",
      "29/29 [==============================] - 0s 2ms/step - loss: 23.9948 - val_loss: 17.9585\n",
      "Epoch 417/500\n",
      "29/29 [==============================] - 0s 2ms/step - loss: 23.6081 - val_loss: 17.3413\n",
      "Epoch 418/500\n",
      "29/29 [==============================] - 0s 2ms/step - loss: 23.5423 - val_loss: 17.3463\n",
      "Epoch 419/500\n",
      "29/29 [==============================] - 0s 2ms/step - loss: 23.4212 - val_loss: 17.2801\n",
      "Epoch 420/500\n",
      "29/29 [==============================] - 0s 2ms/step - loss: 23.5646 - val_loss: 17.2268\n",
      "Epoch 421/500\n",
      "29/29 [==============================] - 0s 2ms/step - loss: 23.4890 - val_loss: 17.0928\n",
      "Epoch 422/500\n",
      "29/29 [==============================] - 0s 2ms/step - loss: 23.3157 - val_loss: 17.3970\n",
      "Epoch 423/500\n",
      "29/29 [==============================] - 0s 2ms/step - loss: 23.3530 - val_loss: 16.8851\n",
      "Epoch 424/500\n",
      "29/29 [==============================] - 0s 2ms/step - loss: 23.0928 - val_loss: 17.4061\n",
      "Epoch 425/500\n",
      "29/29 [==============================] - 0s 2ms/step - loss: 23.1116 - val_loss: 17.1323\n",
      "Epoch 426/500\n",
      "29/29 [==============================] - 0s 2ms/step - loss: 23.0378 - val_loss: 17.3310\n",
      "Epoch 427/500\n",
      "29/29 [==============================] - 0s 2ms/step - loss: 23.0813 - val_loss: 17.1240\n",
      "Epoch 428/500\n",
      "29/29 [==============================] - 0s 2ms/step - loss: 22.9761 - val_loss: 17.1920\n",
      "Epoch 429/500\n",
      "29/29 [==============================] - 0s 2ms/step - loss: 23.1413 - val_loss: 17.7821\n",
      "Epoch 430/500\n",
      "29/29 [==============================] - 0s 2ms/step - loss: 23.1275 - val_loss: 17.3377\n",
      "Epoch 431/500\n",
      "29/29 [==============================] - 0s 2ms/step - loss: 22.8277 - val_loss: 16.9929\n",
      "Epoch 432/500\n",
      "29/29 [==============================] - 0s 2ms/step - loss: 22.8672 - val_loss: 16.6849\n",
      "Epoch 433/500\n",
      "29/29 [==============================] - 0s 2ms/step - loss: 22.7074 - val_loss: 16.8357\n",
      "Epoch 434/500\n",
      "29/29 [==============================] - 0s 2ms/step - loss: 22.7152 - val_loss: 17.1453\n",
      "Epoch 435/500\n",
      "29/29 [==============================] - 0s 2ms/step - loss: 22.6174 - val_loss: 16.4983\n",
      "Epoch 436/500\n",
      "29/29 [==============================] - 0s 2ms/step - loss: 22.5651 - val_loss: 16.6640\n",
      "Epoch 437/500\n",
      "29/29 [==============================] - 0s 2ms/step - loss: 22.5787 - val_loss: 16.8745\n",
      "Epoch 438/500\n",
      "29/29 [==============================] - 0s 2ms/step - loss: 22.4912 - val_loss: 16.5533\n",
      "Epoch 439/500\n",
      "29/29 [==============================] - 0s 2ms/step - loss: 22.4040 - val_loss: 16.6783\n",
      "Epoch 440/500\n",
      "29/29 [==============================] - 0s 2ms/step - loss: 22.5758 - val_loss: 16.2761\n",
      "Epoch 441/500\n",
      "29/29 [==============================] - 0s 2ms/step - loss: 22.7890 - val_loss: 16.7345\n",
      "Epoch 442/500\n",
      "29/29 [==============================] - 0s 2ms/step - loss: 22.2685 - val_loss: 16.8066\n",
      "Epoch 443/500\n",
      "29/29 [==============================] - 0s 2ms/step - loss: 22.2821 - val_loss: 16.4914\n",
      "Epoch 444/500\n",
      "29/29 [==============================] - 0s 2ms/step - loss: 22.2745 - val_loss: 16.2884\n",
      "Epoch 445/500\n",
      "29/29 [==============================] - 0s 2ms/step - loss: 22.0838 - val_loss: 16.4865\n",
      "Epoch 446/500\n",
      "29/29 [==============================] - 0s 2ms/step - loss: 22.4553 - val_loss: 16.1747\n",
      "Epoch 447/500\n",
      "29/29 [==============================] - 0s 2ms/step - loss: 22.1785 - val_loss: 16.2753\n",
      "Epoch 448/500\n",
      "29/29 [==============================] - 0s 2ms/step - loss: 22.0047 - val_loss: 16.4330\n",
      "Epoch 449/500\n",
      "29/29 [==============================] - 0s 2ms/step - loss: 22.1520 - val_loss: 16.6099\n",
      "Epoch 450/500\n",
      "29/29 [==============================] - 0s 2ms/step - loss: 21.9774 - val_loss: 16.5583\n",
      "Epoch 451/500\n",
      "29/29 [==============================] - 0s 2ms/step - loss: 21.9742 - val_loss: 16.0131\n",
      "Epoch 452/500\n",
      "29/29 [==============================] - 0s 2ms/step - loss: 22.0387 - val_loss: 16.0843\n",
      "Epoch 453/500\n",
      "29/29 [==============================] - 0s 2ms/step - loss: 21.8501 - val_loss: 16.2660\n",
      "Epoch 454/500\n",
      "29/29 [==============================] - 0s 2ms/step - loss: 21.9250 - val_loss: 16.1662\n",
      "Epoch 455/500\n",
      "29/29 [==============================] - 0s 2ms/step - loss: 21.8138 - val_loss: 16.1031\n",
      "Epoch 456/500\n",
      "29/29 [==============================] - 0s 2ms/step - loss: 21.7822 - val_loss: 16.4872\n",
      "Epoch 457/500\n",
      "29/29 [==============================] - 0s 2ms/step - loss: 21.7877 - val_loss: 15.9964\n",
      "Epoch 458/500\n",
      "29/29 [==============================] - 0s 2ms/step - loss: 21.7595 - val_loss: 16.0877\n",
      "Epoch 459/500\n",
      "29/29 [==============================] - 0s 2ms/step - loss: 21.6239 - val_loss: 15.9941\n",
      "Epoch 460/500\n",
      "29/29 [==============================] - 0s 2ms/step - loss: 21.6055 - val_loss: 16.1638\n",
      "Epoch 461/500\n",
      "29/29 [==============================] - 0s 2ms/step - loss: 21.5999 - val_loss: 16.4397\n",
      "Epoch 462/500\n",
      "29/29 [==============================] - 0s 2ms/step - loss: 21.6203 - val_loss: 15.9912\n",
      "Epoch 463/500\n",
      "29/29 [==============================] - 0s 2ms/step - loss: 21.5931 - val_loss: 16.0191\n",
      "Epoch 464/500\n",
      "29/29 [==============================] - 0s 2ms/step - loss: 21.9622 - val_loss: 16.5079\n",
      "Epoch 465/500\n",
      "29/29 [==============================] - 0s 2ms/step - loss: 21.5016 - val_loss: 16.2111\n",
      "Epoch 466/500\n",
      "29/29 [==============================] - 0s 2ms/step - loss: 21.4516 - val_loss: 15.9519\n",
      "Epoch 467/500\n",
      "29/29 [==============================] - 0s 2ms/step - loss: 21.4217 - val_loss: 15.9149\n",
      "Epoch 468/500\n",
      "29/29 [==============================] - 0s 2ms/step - loss: 21.4961 - val_loss: 15.9388\n",
      "Epoch 469/500\n",
      "29/29 [==============================] - 0s 2ms/step - loss: 21.4270 - val_loss: 15.7403\n",
      "Epoch 470/500\n",
      "29/29 [==============================] - 0s 2ms/step - loss: 21.3082 - val_loss: 15.9342\n",
      "Epoch 471/500\n",
      "29/29 [==============================] - 0s 2ms/step - loss: 21.2401 - val_loss: 15.8707\n",
      "Epoch 472/500\n",
      "29/29 [==============================] - 0s 2ms/step - loss: 21.2745 - val_loss: 16.0532\n",
      "Epoch 473/500\n"
     ]
    },
    {
     "name": "stdout",
     "output_type": "stream",
     "text": [
      "29/29 [==============================] - 0s 2ms/step - loss: 21.2364 - val_loss: 16.1246\n",
      "Epoch 474/500\n",
      "29/29 [==============================] - 0s 2ms/step - loss: 21.2076 - val_loss: 15.9217\n",
      "Epoch 475/500\n",
      "29/29 [==============================] - 0s 2ms/step - loss: 21.1610 - val_loss: 15.5663\n",
      "Epoch 476/500\n",
      "29/29 [==============================] - 0s 2ms/step - loss: 21.3663 - val_loss: 15.6769\n",
      "Epoch 477/500\n",
      "29/29 [==============================] - 0s 2ms/step - loss: 21.1771 - val_loss: 15.7367\n",
      "Epoch 478/500\n",
      "29/29 [==============================] - 0s 2ms/step - loss: 21.1038 - val_loss: 15.7277\n",
      "Epoch 479/500\n",
      "29/29 [==============================] - 0s 2ms/step - loss: 21.0569 - val_loss: 15.6939\n",
      "Epoch 480/500\n",
      "29/29 [==============================] - 0s 2ms/step - loss: 21.0596 - val_loss: 15.9272\n",
      "Epoch 481/500\n",
      "29/29 [==============================] - 0s 2ms/step - loss: 21.0014 - val_loss: 15.6900\n",
      "Epoch 482/500\n",
      "29/29 [==============================] - 0s 2ms/step - loss: 21.0266 - val_loss: 16.1826\n",
      "Epoch 483/500\n",
      "29/29 [==============================] - 0s 2ms/step - loss: 21.0434 - val_loss: 15.6294\n",
      "Epoch 484/500\n",
      "29/29 [==============================] - 0s 2ms/step - loss: 21.0090 - val_loss: 15.6897\n",
      "Epoch 485/500\n",
      "29/29 [==============================] - 0s 2ms/step - loss: 20.8660 - val_loss: 15.5817\n",
      "Epoch 486/500\n",
      "29/29 [==============================] - 0s 2ms/step - loss: 20.9251 - val_loss: 15.9540\n",
      "Epoch 487/500\n",
      "29/29 [==============================] - 0s 2ms/step - loss: 20.9319 - val_loss: 15.8270\n",
      "Epoch 488/500\n",
      "29/29 [==============================] - 0s 2ms/step - loss: 20.7699 - val_loss: 15.6212\n",
      "Epoch 489/500\n",
      "29/29 [==============================] - 0s 2ms/step - loss: 20.7612 - val_loss: 15.6356\n",
      "Epoch 490/500\n",
      "29/29 [==============================] - 0s 2ms/step - loss: 20.7199 - val_loss: 15.6465\n",
      "Epoch 491/500\n",
      "29/29 [==============================] - 0s 2ms/step - loss: 20.6341 - val_loss: 15.4631\n",
      "Epoch 492/500\n",
      "29/29 [==============================] - 0s 2ms/step - loss: 20.7199 - val_loss: 15.3912\n",
      "Epoch 493/500\n",
      "29/29 [==============================] - 0s 2ms/step - loss: 20.6506 - val_loss: 15.6248\n",
      "Epoch 494/500\n",
      "29/29 [==============================] - 0s 2ms/step - loss: 20.6097 - val_loss: 15.4695\n",
      "Epoch 495/500\n",
      "29/29 [==============================] - 0s 2ms/step - loss: 20.5810 - val_loss: 15.6678\n",
      "Epoch 496/500\n",
      "29/29 [==============================] - 0s 2ms/step - loss: 20.6917 - val_loss: 15.5968\n",
      "Epoch 497/500\n",
      "29/29 [==============================] - 0s 2ms/step - loss: 20.6120 - val_loss: 15.8373\n",
      "Epoch 498/500\n",
      "29/29 [==============================] - 0s 2ms/step - loss: 20.6736 - val_loss: 15.5517\n",
      "Epoch 499/500\n",
      "29/29 [==============================] - 0s 2ms/step - loss: 20.5646 - val_loss: 15.3589\n",
      "Epoch 500/500\n",
      "29/29 [==============================] - 0s 2ms/step - loss: 20.6046 - val_loss: 15.7301\n"
     ]
    }
   ],
   "source": [
    "# fit the model\n",
    "\n",
    "#history=model.fit(X_train, y_train, validation_data =(X_test, y_test),epochs=500, batch_size=10) #verbose=0\n",
    "history = model.fit(X_train, y_train, epochs=500, batch_size=10, validation_split=0.2)"
   ]
  },
  {
   "cell_type": "markdown",
   "metadata": {},
   "source": [
    "### Evaluate the model"
   ]
  },
  {
   "cell_type": "code",
   "execution_count": 58,
   "metadata": {},
   "outputs": [
    {
     "name": "stdout",
     "output_type": "stream",
     "text": [
      "Train: 19.444, Test: 19.567\n"
     ]
    }
   ],
   "source": [
    "train_mse = model.evaluate(X_train, y_train, verbose=0)\n",
    "test_mse = model.evaluate(X_test, y_test, verbose=0)\n",
    "print('Train: %.3f, Test: %.3f' % (train_mse, test_mse))"
   ]
  },
  {
   "cell_type": "markdown",
   "metadata": {},
   "source": [
    "### Plotting the learning curve\n",
    "\n",
    "You can also plot the model learning curves which plot the performance of the neural network model over time. It helps determine if the model is learning well and whether it is underfitting or overfitting the training set. To do this you need to update the call to to the `fit` function to include a reference to a validation dataset which is a portion of the training dataset not used to fit the model but instead used to evaluate the performance of the model during training. The fit function will then return a history object containing a trace of performance metrics recorded at the end of each training epoch. A learning curve is a plot of the loss on the training dataset and the validation dataset.\n",
    "Learning curves of mean squared error  on the train and test set at the end of each training epoch are graphed below using line plots. These learning curves give an indication of the dynamics while learning the model.\n",
    "https://machinelearningmastery.com/how-to-improve-neural-network-stability-and-modeling-performance-with-data-scaling/"
   ]
  },
  {
   "cell_type": "code",
   "execution_count": 59,
   "metadata": {},
   "outputs": [
    {
     "data": {
      "image/png": "[encoded data removed]",
      "text/plain": [
       "<Figure size 720x360 with 1 Axes>"
      ]
     },
     "metadata": {},
     "output_type": "display_data"
    }
   ],
   "source": [
    "#history = model.fit(X_train, y_train, epochs=500, batch_size=10, verbose=0, validation_split=0.3)\n",
    "plt.title('Learning Curves')\n",
    "plt.xlabel('Epoch')\n",
    "plt.ylabel('Mean Squared Error')\n",
    "plt.plot(history.history['loss'], 'r.',label='train')\n",
    "plt.plot(history.history['val_loss'], 'b.',label='val')\n",
    "plt.legend()\n",
    "plt.show()"
   ]
  },
  {
   "cell_type": "markdown",
   "metadata": {},
   "source": []
  },
  {
   "cell_type": "code",
   "execution_count": 60,
   "metadata": {},
   "outputs": [
    {
     "data": {
      "image/png": "[encoded data removed]",
      "text/plain": [
       "<Figure size 720x360 with 1 Axes>"
      ]
     },
     "metadata": {},
     "output_type": "display_data"
    }
   ],
   "source": [
    "# plot loss during training\n",
    "plt.title('Mean Squared Error')\n",
    "plt.plot(history.history['loss'], label='train')\n",
    "plt.plot(history.history['val_loss'], label='validation')\n",
    "plt.legend()\n",
    "plt.show()"
   ]
  },
  {
   "cell_type": "markdown",
   "metadata": {},
   "source": [
    "### Predictions using the neural network model:\n",
    "Run each x value through the neural network."
   ]
  },
  {
   "cell_type": "code",
   "execution_count": 61,
   "metadata": {
    "scrolled": true
   },
   "outputs": [
    {
     "name": "stdout",
     "output_type": "stream",
     "text": [
      "Model: \"sequential\"\n",
      "_________________________________________________________________\n",
      "Layer (type)                 Output Shape              Param #   \n",
      "=================================================================\n",
      "dense (Dense)                (None, 60)                120       \n",
      "_________________________________________________________________\n",
      "dense_1 (Dense)              (None, 1)                 61        \n",
      "=================================================================\n",
      "Total params: 181\n",
      "Trainable params: 181\n",
      "Non-trainable params: 0\n",
      "_________________________________________________________________\n"
     ]
    }
   ],
   "source": [
    "model.summary()"
   ]
  },
  {
   "cell_type": "code",
   "execution_count": 62,
   "metadata": {
    "scrolled": false
   },
   "outputs": [],
   "source": [
    "#model.predict(X_test)"
   ]
  },
  {
   "cell_type": "code",
   "execution_count": 63,
   "metadata": {},
   "outputs": [],
   "source": [
    "model_predictions = model.predict(X_test)"
   ]
  },
  {
   "cell_type": "markdown",
   "metadata": {},
   "source": [
    "### Compare actual data to predictions on test set"
   ]
  },
  {
   "cell_type": "code",
   "execution_count": 64,
   "metadata": {
    "scrolled": false
   },
   "outputs": [
    {
     "data": {
      "image/png": "[encoded data removed]",
      "text/plain": [
       "<Figure size 720x360 with 1 Axes>"
      ]
     },
     "metadata": {},
     "output_type": "display_data"
    }
   ],
   "source": [
    "plt.title('Comparing actual data to predicted data')\n",
    "plt.plot(X_test, y_test, 'r.', label=\"true values\")\n",
    "plt.plot(X_test, model_predictions, 'kx', label=\"predicted values\")\n",
    "\n",
    "plt.legend()\n",
    "plt.show()"
   ]
  },
  {
   "cell_type": "code",
   "execution_count": 65,
   "metadata": {},
   "outputs": [
    {
     "data": {
      "text/plain": [
       "array([[98.654724]], dtype=float32)"
      ]
     },
     "execution_count": 65,
     "metadata": {},
     "output_type": "execute_result"
    }
   ],
   "source": [
    "model.predict([20])"
   ]
  },
  {
   "cell_type": "markdown",
   "metadata": {},
   "source": [
    "### Problem!\n",
    "\n",
    "Because I took out the values over 24.4 where all the power values were zero, the model is predicting a power value that is incorrect so I need to take this into account in the prediction web app. \n",
    "Also it is predicting a power value when wind speed is zero so this is also incorrect.\n",
    "So here below I experimented by using the entire dataset with the same model and to no avail.\n",
    "Maybe if I add extra layers this might help...\n",
    "\n",
    "Overall the model is better at predicting power for the lower values of wind speed than the 3rd order polynomial regression model ."
   ]
  },
  {
   "cell_type": "code",
   "execution_count": 66,
   "metadata": {},
   "outputs": [
    {
     "data": {
      "text/plain": [
       "array([[3.2302403]], dtype=float32)"
      ]
     },
     "execution_count": 66,
     "metadata": {},
     "output_type": "execute_result"
    }
   ],
   "source": [
    "model.predict([3])"
   ]
  },
  {
   "cell_type": "code",
   "execution_count": 67,
   "metadata": {},
   "outputs": [
    {
     "data": {
      "text/plain": [
       "array([[102.38715]], dtype=float32)"
      ]
     },
     "execution_count": 67,
     "metadata": {},
     "output_type": "execute_result"
    }
   ],
   "source": [
    "model.predict([24.5])"
   ]
  },
  {
   "cell_type": "code",
   "execution_count": 68,
   "metadata": {},
   "outputs": [
    {
     "data": {
      "text/plain": [
       "array([[8.232391]], dtype=float32)"
      ]
     },
     "execution_count": 68,
     "metadata": {},
     "output_type": "execute_result"
    }
   ],
   "source": [
    "model.predict([8])"
   ]
  },
  {
   "cell_type": "code",
   "execution_count": 69,
   "metadata": {},
   "outputs": [
    {
     "data": {
      "text/plain": [
       "array([[102.00781]], dtype=float32)"
      ]
     },
     "execution_count": 69,
     "metadata": {},
     "output_type": "execute_result"
    }
   ],
   "source": [
    "model.predict([23.5])"
   ]
  },
  {
   "cell_type": "code",
   "execution_count": 70,
   "metadata": {},
   "outputs": [
    {
     "data": {
      "text/plain": [
       "array([[3.1544046]], dtype=float32)"
      ]
     },
     "execution_count": 70,
     "metadata": {},
     "output_type": "execute_result"
    }
   ],
   "source": [
    "model.predict([0])"
   ]
  },
  {
   "cell_type": "code",
   "execution_count": 71,
   "metadata": {},
   "outputs": [
    {
     "data": {
      "text/plain": [
       "array([[102.35542]], dtype=float32)"
      ]
     },
     "execution_count": 71,
     "metadata": {},
     "output_type": "execute_result"
    }
   ],
   "source": [
    "model.predict([24.4])"
   ]
  },
  {
   "cell_type": "markdown",
   "metadata": {},
   "source": [
    "### Save the model for use in the web app"
   ]
  },
  {
   "cell_type": "code",
   "execution_count": 72,
   "metadata": {},
   "outputs": [],
   "source": [
    "model.save('model.h5')"
   ]
  },
  {
   "cell_type": "markdown",
   "metadata": {},
   "source": [
    "#### Adding in another layer:"
   ]
  },
  {
   "cell_type": "code",
   "execution_count": 73,
   "metadata": {},
   "outputs": [],
   "source": [
    "# Train a model\n",
    "model2 = kr.models.Sequential()\n",
    "model2.add(kr.layers.Dense(50, input_shape=(1,), activation='sigmoid', kernel_initializer=\"glorot_uniform\", bias_initializer=\"glorot_uniform\"))\n",
    "#model.add(kr.layers.BatchNormalization())\n",
    "model2.add(kr.layers.Dense(50, input_shape=(1,), activation='sigmoid', kernel_initializer=\"glorot_uniform\", bias_initializer=\"glorot_uniform\"))\n",
    "model2.add(kr.layers.Dense(1, activation='linear', kernel_initializer=\"glorot_uniform\", bias_initializer=\"glorot_uniform\"))"
   ]
  },
  {
   "cell_type": "code",
   "execution_count": 74,
   "metadata": {},
   "outputs": [
    {
     "name": "stdout",
     "output_type": "stream",
     "text": [
      "Model: \"sequential_1\"\n",
      "_________________________________________________________________\n",
      "Layer (type)                 Output Shape              Param #   \n",
      "=================================================================\n",
      "dense_2 (Dense)              (None, 50)                100       \n",
      "_________________________________________________________________\n",
      "dense_3 (Dense)              (None, 50)                2550      \n",
      "_________________________________________________________________\n",
      "dense_4 (Dense)              (None, 1)                 51        \n",
      "=================================================================\n",
      "Total params: 2,701\n",
      "Trainable params: 2,701\n",
      "Non-trainable params: 0\n",
      "_________________________________________________________________\n"
     ]
    }
   ],
   "source": [
    "# \n",
    "model2.compile(kr.optimizers.Adam(lr=0.001), loss='mean_squared_error')\n",
    "model2.summary()"
   ]
  },
  {
   "cell_type": "code",
   "execution_count": 75,
   "metadata": {},
   "outputs": [
    {
     "name": "stdout",
     "output_type": "stream",
     "text": [
      "Epoch 1/500\n",
      "36/36 [==============================] - 0s 4ms/step - loss: 4150.3369 - val_loss: 4323.4019\n",
      "Epoch 2/500\n",
      "36/36 [==============================] - 0s 2ms/step - loss: 3901.6521 - val_loss: 4090.2190\n",
      "Epoch 3/500\n",
      "36/36 [==============================] - 0s 2ms/step - loss: 3722.9753 - val_loss: 3934.2168\n",
      "Epoch 4/500\n",
      "36/36 [==============================] - 0s 2ms/step - loss: 3603.1450 - val_loss: 3827.9133\n",
      "Epoch 5/500\n",
      "36/36 [==============================] - 0s 2ms/step - loss: 3513.3110 - val_loss: 3739.4922\n",
      "Epoch 6/500\n",
      "36/36 [==============================] - 0s 2ms/step - loss: 3436.9460 - val_loss: 3658.9932\n",
      "Epoch 7/500\n",
      "36/36 [==============================] - 0s 2ms/step - loss: 3365.2148 - val_loss: 3583.7891\n",
      "Epoch 8/500\n",
      "36/36 [==============================] - 0s 2ms/step - loss: 3296.7998 - val_loss: 3509.0168\n",
      "Epoch 9/500\n",
      "36/36 [==============================] - 0s 2ms/step - loss: 3228.8005 - val_loss: 3436.1697\n",
      "Epoch 10/500\n",
      "36/36 [==============================] - 0s 2ms/step - loss: 3164.0576 - val_loss: 3365.7336\n",
      "Epoch 11/500\n",
      "36/36 [==============================] - 0s 2ms/step - loss: 3101.8096 - val_loss: 3302.0132\n",
      "Epoch 12/500\n",
      "36/36 [==============================] - 0s 2ms/step - loss: 3043.2427 - val_loss: 3238.7993\n",
      "Epoch 13/500\n",
      "36/36 [==============================] - 0s 2ms/step - loss: 2987.0310 - val_loss: 3178.2305\n",
      "Epoch 14/500\n",
      "36/36 [==============================] - 0s 2ms/step - loss: 2933.3279 - val_loss: 3120.4307\n",
      "Epoch 15/500\n",
      "36/36 [==============================] - 0s 2ms/step - loss: 2881.5952 - val_loss: 3064.9927\n",
      "Epoch 16/500\n",
      "36/36 [==============================] - 0s 2ms/step - loss: 2831.5491 - val_loss: 3012.3833\n",
      "Epoch 17/500\n",
      "36/36 [==============================] - 0s 2ms/step - loss: 2784.1709 - val_loss: 2957.9990\n",
      "Epoch 18/500\n",
      "36/36 [==============================] - 0s 2ms/step - loss: 2737.5254 - val_loss: 2907.8186\n",
      "Epoch 19/500\n",
      "36/36 [==============================] - 0s 2ms/step - loss: 2692.3748 - val_loss: 2860.2959\n",
      "Epoch 20/500\n",
      "36/36 [==============================] - 0s 2ms/step - loss: 2649.7456 - val_loss: 2812.6331\n",
      "Epoch 21/500\n",
      "36/36 [==============================] - 0s 2ms/step - loss: 2608.7285 - val_loss: 2765.6611\n",
      "Epoch 22/500\n",
      "36/36 [==============================] - 0s 2ms/step - loss: 2567.7939 - val_loss: 2722.8562\n",
      "Epoch 23/500\n",
      "36/36 [==============================] - 0s 2ms/step - loss: 2528.9319 - val_loss: 2678.7764\n",
      "Epoch 24/500\n",
      "36/36 [==============================] - 0s 2ms/step - loss: 2489.4204 - val_loss: 2636.3660\n",
      "Epoch 25/500\n",
      "36/36 [==============================] - 0s 2ms/step - loss: 2449.2605 - val_loss: 2592.3853\n",
      "Epoch 26/500\n",
      "36/36 [==============================] - 0s 2ms/step - loss: 2407.9182 - val_loss: 2547.2793\n",
      "Epoch 27/500\n",
      "36/36 [==============================] - 0s 2ms/step - loss: 2363.6775 - val_loss: 2499.0696\n",
      "Epoch 28/500\n",
      "36/36 [==============================] - 0s 2ms/step - loss: 2318.3044 - val_loss: 2449.4995\n",
      "Epoch 29/500\n",
      "36/36 [==============================] - 0s 2ms/step - loss: 2271.4915 - val_loss: 2401.0178\n",
      "Epoch 30/500\n",
      "36/36 [==============================] - 0s 2ms/step - loss: 2223.6284 - val_loss: 2351.3181\n",
      "Epoch 31/500\n",
      "36/36 [==============================] - 0s 2ms/step - loss: 2175.8110 - val_loss: 2301.9282\n",
      "Epoch 32/500\n",
      "36/36 [==============================] - 0s 2ms/step - loss: 2128.6941 - val_loss: 2252.2959\n",
      "Epoch 33/500\n",
      "36/36 [==============================] - 0s 2ms/step - loss: 2082.3242 - val_loss: 2203.4321\n",
      "Epoch 34/500\n",
      "36/36 [==============================] - 0s 2ms/step - loss: 2036.2509 - val_loss: 2153.6868\n",
      "Epoch 35/500\n",
      "36/36 [==============================] - 0s 2ms/step - loss: 1990.6139 - val_loss: 2106.7288\n",
      "Epoch 36/500\n",
      "36/36 [==============================] - 0s 2ms/step - loss: 1945.4178 - val_loss: 2058.7180\n",
      "Epoch 37/500\n",
      "36/36 [==============================] - 0s 2ms/step - loss: 1900.9447 - val_loss: 2011.8518\n",
      "Epoch 38/500\n",
      "36/36 [==============================] - 0s 2ms/step - loss: 1857.7527 - val_loss: 1965.4139\n",
      "Epoch 39/500\n",
      "36/36 [==============================] - 0s 2ms/step - loss: 1814.2352 - val_loss: 1920.8488\n",
      "Epoch 40/500\n",
      "36/36 [==============================] - 0s 2ms/step - loss: 1773.1134 - val_loss: 1876.0708\n",
      "Epoch 41/500\n",
      "36/36 [==============================] - 0s 2ms/step - loss: 1732.5314 - val_loss: 1832.1926\n",
      "Epoch 42/500\n",
      "36/36 [==============================] - 0s 2ms/step - loss: 1691.8862 - val_loss: 1789.4246\n",
      "Epoch 43/500\n",
      "36/36 [==============================] - 0s 2ms/step - loss: 1652.2511 - val_loss: 1748.2463\n",
      "Epoch 44/500\n",
      "36/36 [==============================] - 0s 2ms/step - loss: 1614.0717 - val_loss: 1708.1719\n",
      "Epoch 45/500\n",
      "36/36 [==============================] - 0s 2ms/step - loss: 1576.7449 - val_loss: 1666.5239\n",
      "Epoch 46/500\n",
      "36/36 [==============================] - 0s 2ms/step - loss: 1539.4376 - val_loss: 1628.3657\n",
      "Epoch 47/500\n",
      "36/36 [==============================] - 0s 2ms/step - loss: 1503.3108 - val_loss: 1589.8257\n",
      "Epoch 48/500\n",
      "36/36 [==============================] - 0s 2ms/step - loss: 1468.2565 - val_loss: 1551.3124\n",
      "Epoch 49/500\n",
      "36/36 [==============================] - 0s 2ms/step - loss: 1433.5295 - val_loss: 1515.0071\n",
      "Epoch 50/500\n",
      "36/36 [==============================] - 0s 4ms/step - loss: 1399.5358 - val_loss: 1478.6270\n",
      "Epoch 51/500\n",
      "36/36 [==============================] - 0s 3ms/step - loss: 1366.3914 - val_loss: 1442.6066\n",
      "Epoch 52/500\n",
      "36/36 [==============================] - 0s 4ms/step - loss: 1333.9155 - val_loss: 1407.9255\n",
      "Epoch 53/500\n",
      "36/36 [==============================] - 0s 3ms/step - loss: 1302.1742 - val_loss: 1374.5464\n",
      "Epoch 54/500\n",
      "36/36 [==============================] - 0s 4ms/step - loss: 1270.8629 - val_loss: 1341.7996\n",
      "Epoch 55/500\n",
      "36/36 [==============================] - 0s 3ms/step - loss: 1240.3204 - val_loss: 1309.6956\n",
      "Epoch 56/500\n",
      "36/36 [==============================] - 0s 4ms/step - loss: 1210.3527 - val_loss: 1277.4149\n",
      "Epoch 57/500\n",
      "36/36 [==============================] - 0s 3ms/step - loss: 1181.3374 - val_loss: 1247.4563\n",
      "Epoch 58/500\n",
      "36/36 [==============================] - 0s 3ms/step - loss: 1152.5796 - val_loss: 1215.2158\n",
      "Epoch 59/500\n",
      "36/36 [==============================] - 0s 3ms/step - loss: 1123.9847 - val_loss: 1186.0697\n",
      "Epoch 60/500\n",
      "36/36 [==============================] - 0s 4ms/step - loss: 1095.9751 - val_loss: 1156.5770\n",
      "Epoch 61/500\n",
      "36/36 [==============================] - 0s 4ms/step - loss: 1068.5898 - val_loss: 1126.5873\n",
      "Epoch 62/500\n",
      "36/36 [==============================] - 0s 4ms/step - loss: 1041.7072 - val_loss: 1098.5892\n",
      "Epoch 63/500\n",
      "36/36 [==============================] - 0s 2ms/step - loss: 1015.9489 - val_loss: 1070.7676\n",
      "Epoch 64/500\n",
      "36/36 [==============================] - 0s 2ms/step - loss: 990.0123 - val_loss: 1042.8085\n",
      "Epoch 65/500\n",
      "36/36 [==============================] - 0s 2ms/step - loss: 964.0463 - val_loss: 1016.7073\n",
      "Epoch 66/500\n",
      "36/36 [==============================] - 0s 2ms/step - loss: 940.4171 - val_loss: 989.9274\n",
      "Epoch 67/500\n",
      "36/36 [==============================] - 0s 2ms/step - loss: 916.1200 - val_loss: 965.2263\n",
      "Epoch 68/500\n",
      "36/36 [==============================] - 0s 2ms/step - loss: 891.7393 - val_loss: 940.4279\n",
      "Epoch 69/500\n",
      "36/36 [==============================] - 0s 2ms/step - loss: 869.2656 - val_loss: 915.0674\n",
      "Epoch 70/500\n",
      "36/36 [==============================] - 0s 2ms/step - loss: 846.2189 - val_loss: 890.9652\n",
      "Epoch 71/500\n",
      "36/36 [==============================] - 0s 2ms/step - loss: 824.6387 - val_loss: 870.1907\n",
      "Epoch 72/500\n",
      "36/36 [==============================] - 0s 2ms/step - loss: 802.7134 - val_loss: 845.2085\n",
      "Epoch 73/500\n",
      "36/36 [==============================] - 0s 2ms/step - loss: 781.0112 - val_loss: 823.4505\n",
      "Epoch 74/500\n",
      "36/36 [==============================] - 0s 2ms/step - loss: 760.3843 - val_loss: 799.8845\n",
      "Epoch 75/500\n",
      "36/36 [==============================] - 0s 2ms/step - loss: 736.5289 - val_loss: 771.9009\n",
      "Epoch 76/500\n",
      "36/36 [==============================] - 0s 2ms/step - loss: 705.8194 - val_loss: 735.9731\n",
      "Epoch 77/500\n",
      "36/36 [==============================] - 0s 2ms/step - loss: 671.0599 - val_loss: 699.6904\n",
      "Epoch 78/500\n"
     ]
    },
    {
     "name": "stdout",
     "output_type": "stream",
     "text": [
      "36/36 [==============================] - 0s 2ms/step - loss: 640.9738 - val_loss: 671.0056\n",
      "Epoch 79/500\n",
      "36/36 [==============================] - 0s 2ms/step - loss: 613.3199 - val_loss: 642.6657\n",
      "Epoch 80/500\n",
      "36/36 [==============================] - 0s 2ms/step - loss: 588.5765 - val_loss: 615.0986\n",
      "Epoch 81/500\n",
      "36/36 [==============================] - 0s 2ms/step - loss: 565.2770 - val_loss: 592.5972\n",
      "Epoch 82/500\n",
      "36/36 [==============================] - 0s 2ms/step - loss: 543.8541 - val_loss: 569.3584\n",
      "Epoch 83/500\n",
      "36/36 [==============================] - 0s 2ms/step - loss: 522.7624 - val_loss: 549.3743\n",
      "Epoch 84/500\n",
      "36/36 [==============================] - 0s 2ms/step - loss: 503.5775 - val_loss: 528.7001\n",
      "Epoch 85/500\n",
      "36/36 [==============================] - 0s 2ms/step - loss: 484.1739 - val_loss: 508.1838\n",
      "Epoch 86/500\n",
      "36/36 [==============================] - 0s 2ms/step - loss: 466.6544 - val_loss: 489.8601\n",
      "Epoch 87/500\n",
      "36/36 [==============================] - 0s 2ms/step - loss: 449.0325 - val_loss: 471.5117\n",
      "Epoch 88/500\n",
      "36/36 [==============================] - 0s 2ms/step - loss: 432.7141 - val_loss: 453.7162\n",
      "Epoch 89/500\n",
      "36/36 [==============================] - 0s 2ms/step - loss: 417.4039 - val_loss: 437.6632\n",
      "Epoch 90/500\n",
      "36/36 [==============================] - 0s 2ms/step - loss: 401.0593 - val_loss: 421.8937\n",
      "Epoch 91/500\n",
      "36/36 [==============================] - 0s 2ms/step - loss: 385.9936 - val_loss: 405.9386\n",
      "Epoch 92/500\n",
      "36/36 [==============================] - 0s 2ms/step - loss: 371.8163 - val_loss: 390.9756\n",
      "Epoch 93/500\n",
      "36/36 [==============================] - 0s 2ms/step - loss: 358.5916 - val_loss: 375.9844\n",
      "Epoch 94/500\n",
      "36/36 [==============================] - 0s 2ms/step - loss: 344.9595 - val_loss: 363.8640\n",
      "Epoch 95/500\n",
      "36/36 [==============================] - 0s 5ms/step - loss: 331.6946 - val_loss: 350.1180\n",
      "Epoch 96/500\n",
      "36/36 [==============================] - 0s 4ms/step - loss: 319.3340 - val_loss: 336.3892\n",
      "Epoch 97/500\n",
      "36/36 [==============================] - 0s 3ms/step - loss: 307.5414 - val_loss: 324.9483\n",
      "Epoch 98/500\n",
      "36/36 [==============================] - 0s 4ms/step - loss: 295.8284 - val_loss: 311.8305\n",
      "Epoch 99/500\n",
      "36/36 [==============================] - 0s 3ms/step - loss: 284.6804 - val_loss: 299.5048\n",
      "Epoch 100/500\n",
      "36/36 [==============================] - 0s 2ms/step - loss: 273.8918 - val_loss: 288.6144\n",
      "Epoch 101/500\n",
      "36/36 [==============================] - 0s 2ms/step - loss: 263.4454 - val_loss: 277.4756\n",
      "Epoch 102/500\n",
      "36/36 [==============================] - 0s 2ms/step - loss: 253.2620 - val_loss: 268.4553\n",
      "Epoch 103/500\n",
      "36/36 [==============================] - 0s 2ms/step - loss: 243.8220 - val_loss: 258.0916\n",
      "Epoch 104/500\n",
      "36/36 [==============================] - 0s 2ms/step - loss: 234.0995 - val_loss: 246.7988\n",
      "Epoch 105/500\n",
      "36/36 [==============================] - 0s 2ms/step - loss: 225.8407 - val_loss: 236.5635\n",
      "Epoch 106/500\n",
      "36/36 [==============================] - 0s 2ms/step - loss: 216.6320 - val_loss: 230.1553\n",
      "Epoch 107/500\n",
      "36/36 [==============================] - 0s 2ms/step - loss: 208.3154 - val_loss: 220.1436\n",
      "Epoch 108/500\n",
      "36/36 [==============================] - 0s 2ms/step - loss: 200.6047 - val_loss: 210.7412\n",
      "Epoch 109/500\n",
      "36/36 [==============================] - 0s 2ms/step - loss: 192.5276 - val_loss: 205.3555\n",
      "Epoch 110/500\n",
      "36/36 [==============================] - 0s 2ms/step - loss: 184.9206 - val_loss: 195.6738\n",
      "Epoch 111/500\n",
      "36/36 [==============================] - 0s 4ms/step - loss: 178.1196 - val_loss: 186.7964\n",
      "Epoch 112/500\n",
      "36/36 [==============================] - 0s 5ms/step - loss: 171.1709 - val_loss: 180.5256\n",
      "Epoch 113/500\n",
      "36/36 [==============================] - 0s 4ms/step - loss: 164.1716 - val_loss: 173.9896\n",
      "Epoch 114/500\n",
      "36/36 [==============================] - 0s 4ms/step - loss: 157.7158 - val_loss: 166.1416\n",
      "Epoch 115/500\n",
      "36/36 [==============================] - 0s 4ms/step - loss: 151.4341 - val_loss: 159.2101\n",
      "Epoch 116/500\n",
      "36/36 [==============================] - 0s 3ms/step - loss: 145.8665 - val_loss: 155.5920\n",
      "Epoch 117/500\n",
      "36/36 [==============================] - 0s 4ms/step - loss: 139.8158 - val_loss: 146.4885\n",
      "Epoch 118/500\n",
      "36/36 [==============================] - 0s 4ms/step - loss: 134.1392 - val_loss: 142.0117\n",
      "Epoch 119/500\n",
      "36/36 [==============================] - 0s 4ms/step - loss: 128.5041 - val_loss: 139.3167\n",
      "Epoch 120/500\n",
      "36/36 [==============================] - 0s 5ms/step - loss: 123.7545 - val_loss: 131.6395\n",
      "Epoch 121/500\n",
      "36/36 [==============================] - 0s 4ms/step - loss: 118.8185 - val_loss: 125.6244\n",
      "Epoch 122/500\n",
      "36/36 [==============================] - 0s 3ms/step - loss: 114.1879 - val_loss: 119.5336\n",
      "Epoch 123/500\n",
      "36/36 [==============================] - 0s 3ms/step - loss: 109.1306 - val_loss: 114.2688\n",
      "Epoch 124/500\n",
      "36/36 [==============================] - 0s 3ms/step - loss: 104.9042 - val_loss: 108.7978\n",
      "Epoch 125/500\n",
      "36/36 [==============================] - 0s 4ms/step - loss: 100.7434 - val_loss: 104.8696\n",
      "Epoch 126/500\n",
      "36/36 [==============================] - 0s 4ms/step - loss: 96.5597 - val_loss: 100.3759\n",
      "Epoch 127/500\n",
      "36/36 [==============================] - 0s 4ms/step - loss: 93.0301 - val_loss: 96.5037\n",
      "Epoch 128/500\n",
      "36/36 [==============================] - 0s 4ms/step - loss: 89.0526 - val_loss: 92.7978\n",
      "Epoch 129/500\n",
      "36/36 [==============================] - 0s 2ms/step - loss: 85.5453 - val_loss: 89.0918\n",
      "Epoch 130/500\n",
      "36/36 [==============================] - 0s 4ms/step - loss: 82.3794 - val_loss: 87.6015\n",
      "Epoch 131/500\n",
      "36/36 [==============================] - 0s 3ms/step - loss: 78.8167 - val_loss: 83.4347\n",
      "Epoch 132/500\n",
      "36/36 [==============================] - 0s 4ms/step - loss: 75.6203 - val_loss: 77.5317\n",
      "Epoch 133/500\n",
      "36/36 [==============================] - 0s 5ms/step - loss: 73.0159 - val_loss: 74.2194\n",
      "Epoch 134/500\n",
      "36/36 [==============================] - 0s 3ms/step - loss: 69.7547 - val_loss: 70.9352\n",
      "Epoch 135/500\n",
      "36/36 [==============================] - 0s 3ms/step - loss: 66.9090 - val_loss: 68.1885\n",
      "Epoch 136/500\n",
      "36/36 [==============================] - 0s 3ms/step - loss: 64.3364 - val_loss: 65.9948\n",
      "Epoch 137/500\n",
      "36/36 [==============================] - 0s 3ms/step - loss: 61.9001 - val_loss: 62.7923\n",
      "Epoch 138/500\n",
      "36/36 [==============================] - 0s 3ms/step - loss: 59.3111 - val_loss: 60.0715\n",
      "Epoch 139/500\n",
      "36/36 [==============================] - 0s 3ms/step - loss: 57.0116 - val_loss: 61.3504\n",
      "Epoch 140/500\n",
      "36/36 [==============================] - 0s 2ms/step - loss: 55.1924 - val_loss: 57.8603\n",
      "Epoch 141/500\n",
      "36/36 [==============================] - 0s 3ms/step - loss: 52.8520 - val_loss: 53.7426\n",
      "Epoch 142/500\n",
      "36/36 [==============================] - 0s 3ms/step - loss: 50.7935 - val_loss: 51.9273\n",
      "Epoch 143/500\n",
      "36/36 [==============================] - 0s 4ms/step - loss: 48.9645 - val_loss: 50.3972\n",
      "Epoch 144/500\n",
      "36/36 [==============================] - 0s 3ms/step - loss: 47.0171 - val_loss: 54.0278\n",
      "Epoch 145/500\n",
      "36/36 [==============================] - 0s 4ms/step - loss: 46.6789 - val_loss: 45.3088\n",
      "Epoch 146/500\n",
      "36/36 [==============================] - 0s 3ms/step - loss: 44.1373 - val_loss: 44.7274\n",
      "Epoch 147/500\n",
      "36/36 [==============================] - 0s 4ms/step - loss: 42.1381 - val_loss: 43.1817\n",
      "Epoch 148/500\n",
      "36/36 [==============================] - 0s 3ms/step - loss: 40.8849 - val_loss: 41.1673\n",
      "Epoch 149/500\n",
      "36/36 [==============================] - 0s 4ms/step - loss: 39.0210 - val_loss: 39.1142\n",
      "Epoch 150/500\n",
      "36/36 [==============================] - 0s 3ms/step - loss: 37.7207 - val_loss: 37.5038\n",
      "Epoch 151/500\n",
      "36/36 [==============================] - 0s 3ms/step - loss: 36.3772 - val_loss: 37.7866\n",
      "Epoch 152/500\n",
      "36/36 [==============================] - 0s 4ms/step - loss: 35.4598 - val_loss: 35.8937\n",
      "Epoch 153/500\n",
      "36/36 [==============================] - 0s 3ms/step - loss: 34.1288 - val_loss: 33.7148\n",
      "Epoch 154/500\n",
      "36/36 [==============================] - 0s 3ms/step - loss: 33.0623 - val_loss: 34.2479\n",
      "Epoch 155/500\n",
      "36/36 [==============================] - 0s 3ms/step - loss: 32.1547 - val_loss: 33.7384\n",
      "Epoch 156/500\n",
      "36/36 [==============================] - 0s 4ms/step - loss: 30.8694 - val_loss: 30.8223\n"
     ]
    },
    {
     "name": "stdout",
     "output_type": "stream",
     "text": [
      "Epoch 157/500\n",
      "36/36 [==============================] - 0s 3ms/step - loss: 29.9167 - val_loss: 29.7374\n",
      "Epoch 158/500\n",
      "36/36 [==============================] - 0s 3ms/step - loss: 29.1119 - val_loss: 29.7658\n",
      "Epoch 159/500\n",
      "36/36 [==============================] - 0s 3ms/step - loss: 28.4087 - val_loss: 32.9112\n",
      "Epoch 160/500\n",
      "36/36 [==============================] - 0s 3ms/step - loss: 28.3210 - val_loss: 30.1935\n",
      "Epoch 161/500\n",
      "36/36 [==============================] - 0s 3ms/step - loss: 27.8015 - val_loss: 26.1655\n",
      "Epoch 162/500\n",
      "36/36 [==============================] - 0s 4ms/step - loss: 26.0692 - val_loss: 26.2715\n",
      "Epoch 163/500\n",
      "36/36 [==============================] - 0s 4ms/step - loss: 25.3787 - val_loss: 25.1730\n",
      "Epoch 164/500\n",
      "36/36 [==============================] - 0s 3ms/step - loss: 24.6477 - val_loss: 24.8542\n",
      "Epoch 165/500\n",
      "36/36 [==============================] - 0s 3ms/step - loss: 24.0707 - val_loss: 24.1607\n",
      "Epoch 166/500\n",
      "36/36 [==============================] - 0s 3ms/step - loss: 23.4877 - val_loss: 22.9874\n",
      "Epoch 167/500\n",
      "36/36 [==============================] - 0s 3ms/step - loss: 23.7749 - val_loss: 23.8542\n",
      "Epoch 168/500\n",
      "36/36 [==============================] - 0s 3ms/step - loss: 22.6111 - val_loss: 22.0579\n",
      "Epoch 169/500\n",
      "36/36 [==============================] - 0s 3ms/step - loss: 22.2039 - val_loss: 21.6453\n",
      "Epoch 170/500\n",
      "36/36 [==============================] - 0s 4ms/step - loss: 22.0479 - val_loss: 21.3638\n",
      "Epoch 171/500\n",
      "36/36 [==============================] - 0s 4ms/step - loss: 21.6858 - val_loss: 21.5230\n",
      "Epoch 172/500\n",
      "36/36 [==============================] - 0s 4ms/step - loss: 20.7856 - val_loss: 20.8603\n",
      "Epoch 173/500\n",
      "36/36 [==============================] - 0s 4ms/step - loss: 20.5078 - val_loss: 21.2609\n",
      "Epoch 174/500\n",
      "36/36 [==============================] - 0s 3ms/step - loss: 20.3576 - val_loss: 20.9760\n",
      "Epoch 175/500\n",
      "36/36 [==============================] - 0s 4ms/step - loss: 19.8967 - val_loss: 19.8919\n",
      "Epoch 176/500\n",
      "36/36 [==============================] - 0s 3ms/step - loss: 19.6762 - val_loss: 19.4700\n",
      "Epoch 177/500\n",
      "36/36 [==============================] - 0s 3ms/step - loss: 19.4243 - val_loss: 20.0860\n",
      "Epoch 178/500\n",
      "36/36 [==============================] - 0s 4ms/step - loss: 19.0318 - val_loss: 19.0652\n",
      "Epoch 179/500\n",
      "36/36 [==============================] - 0s 4ms/step - loss: 18.6713 - val_loss: 19.6486\n",
      "Epoch 180/500\n",
      "36/36 [==============================] - 0s 4ms/step - loss: 18.6050 - val_loss: 18.9918\n",
      "Epoch 181/500\n",
      "36/36 [==============================] - 0s 3ms/step - loss: 18.3249 - val_loss: 19.4524\n",
      "Epoch 182/500\n",
      "36/36 [==============================] - 0s 4ms/step - loss: 18.3075 - val_loss: 19.4308\n",
      "Epoch 183/500\n",
      "36/36 [==============================] - 0s 4ms/step - loss: 17.9266 - val_loss: 20.9393\n",
      "Epoch 184/500\n",
      "36/36 [==============================] - 0s 5ms/step - loss: 17.6494 - val_loss: 20.0477\n",
      "Epoch 185/500\n",
      "36/36 [==============================] - 0s 4ms/step - loss: 17.5794 - val_loss: 17.9052\n",
      "Epoch 186/500\n",
      "36/36 [==============================] - 0s 3ms/step - loss: 17.3303 - val_loss: 17.0674\n",
      "Epoch 187/500\n",
      "36/36 [==============================] - 0s 4ms/step - loss: 17.4470 - val_loss: 18.7460\n",
      "Epoch 188/500\n",
      "36/36 [==============================] - 0s 4ms/step - loss: 17.4238 - val_loss: 20.1240\n",
      "Epoch 189/500\n",
      "36/36 [==============================] - 0s 4ms/step - loss: 17.2706 - val_loss: 17.0060\n",
      "Epoch 190/500\n",
      "36/36 [==============================] - 0s 4ms/step - loss: 17.2821 - val_loss: 16.6812\n",
      "Epoch 191/500\n",
      "36/36 [==============================] - 0s 4ms/step - loss: 17.3085 - val_loss: 17.0111\n",
      "Epoch 192/500\n",
      "36/36 [==============================] - 0s 4ms/step - loss: 16.7554 - val_loss: 16.5547\n",
      "Epoch 193/500\n",
      "36/36 [==============================] - 0s 3ms/step - loss: 16.8856 - val_loss: 17.7532\n",
      "Epoch 194/500\n",
      "36/36 [==============================] - 0s 4ms/step - loss: 16.7293 - val_loss: 16.5451\n",
      "Epoch 195/500\n",
      "36/36 [==============================] - 0s 5ms/step - loss: 16.6322 - val_loss: 16.4785\n",
      "Epoch 196/500\n",
      "36/36 [==============================] - 0s 5ms/step - loss: 16.7846 - val_loss: 16.6386\n",
      "Epoch 197/500\n",
      "36/36 [==============================] - 0s 4ms/step - loss: 16.9584 - val_loss: 18.4578\n",
      "Epoch 198/500\n",
      "36/36 [==============================] - 0s 4ms/step - loss: 17.6213 - val_loss: 16.4690\n",
      "Epoch 199/500\n",
      "36/36 [==============================] - 0s 2ms/step - loss: 16.7820 - val_loss: 16.5795\n",
      "Epoch 200/500\n",
      "36/36 [==============================] - 0s 2ms/step - loss: 16.8817 - val_loss: 17.3014\n",
      "Epoch 201/500\n",
      "36/36 [==============================] - 0s 2ms/step - loss: 16.7579 - val_loss: 18.3991\n",
      "Epoch 202/500\n",
      "36/36 [==============================] - 0s 2ms/step - loss: 16.7857 - val_loss: 18.4545\n",
      "Epoch 203/500\n",
      "36/36 [==============================] - 0s 2ms/step - loss: 17.6912 - val_loss: 16.3577\n",
      "Epoch 204/500\n",
      "36/36 [==============================] - 0s 2ms/step - loss: 16.4012 - val_loss: 16.9446\n",
      "Epoch 205/500\n",
      "36/36 [==============================] - 0s 2ms/step - loss: 16.9976 - val_loss: 18.4587\n",
      "Epoch 206/500\n",
      "36/36 [==============================] - 0s 2ms/step - loss: 17.0824 - val_loss: 19.3226\n",
      "Epoch 207/500\n",
      "36/36 [==============================] - 0s 2ms/step - loss: 17.1723 - val_loss: 16.3002\n",
      "Epoch 208/500\n",
      "36/36 [==============================] - 0s 2ms/step - loss: 16.3180 - val_loss: 18.2741\n",
      "Epoch 209/500\n",
      "36/36 [==============================] - 0s 2ms/step - loss: 16.5768 - val_loss: 20.3298\n",
      "Epoch 210/500\n",
      "36/36 [==============================] - 0s 3ms/step - loss: 16.8697 - val_loss: 16.1911\n",
      "Epoch 211/500\n",
      "36/36 [==============================] - 0s 4ms/step - loss: 16.5104 - val_loss: 16.3008\n",
      "Epoch 212/500\n",
      "36/36 [==============================] - 0s 3ms/step - loss: 16.9877 - val_loss: 16.6326\n",
      "Epoch 213/500\n",
      "36/36 [==============================] - 0s 2ms/step - loss: 16.5823 - val_loss: 16.3239\n",
      "Epoch 214/500\n",
      "36/36 [==============================] - 0s 2ms/step - loss: 16.4740 - val_loss: 20.5922\n",
      "Epoch 215/500\n",
      "36/36 [==============================] - 0s 2ms/step - loss: 16.5595 - val_loss: 18.1680\n",
      "Epoch 216/500\n",
      "36/36 [==============================] - 0s 2ms/step - loss: 16.8461 - val_loss: 17.6538\n",
      "Epoch 217/500\n",
      "36/36 [==============================] - 0s 2ms/step - loss: 16.3686 - val_loss: 17.0792\n",
      "Epoch 218/500\n",
      "36/36 [==============================] - 0s 4ms/step - loss: 16.4717 - val_loss: 19.1513\n",
      "Epoch 219/500\n",
      "36/36 [==============================] - 0s 3ms/step - loss: 17.0154 - val_loss: 16.6217\n",
      "Epoch 220/500\n",
      "36/36 [==============================] - 0s 2ms/step - loss: 17.0326 - val_loss: 17.6287\n",
      "Epoch 221/500\n",
      "36/36 [==============================] - 0s 2ms/step - loss: 16.2394 - val_loss: 16.2427\n",
      "Epoch 222/500\n",
      "36/36 [==============================] - 0s 2ms/step - loss: 16.7271 - val_loss: 16.4569\n",
      "Epoch 223/500\n",
      "36/36 [==============================] - 0s 2ms/step - loss: 16.5880 - val_loss: 16.2036\n",
      "Epoch 224/500\n",
      "36/36 [==============================] - 0s 2ms/step - loss: 16.7434 - val_loss: 18.6608\n",
      "Epoch 225/500\n",
      "36/36 [==============================] - 0s 2ms/step - loss: 16.7730 - val_loss: 16.2822\n",
      "Epoch 226/500\n",
      "36/36 [==============================] - 0s 2ms/step - loss: 16.7153 - val_loss: 16.3649\n",
      "Epoch 227/500\n",
      "36/36 [==============================] - 0s 2ms/step - loss: 16.6909 - val_loss: 16.7507\n",
      "Epoch 228/500\n",
      "36/36 [==============================] - 0s 2ms/step - loss: 16.2459 - val_loss: 17.9816\n",
      "Epoch 229/500\n",
      "36/36 [==============================] - 0s 2ms/step - loss: 16.4466 - val_loss: 17.6752\n",
      "Epoch 230/500\n",
      "36/36 [==============================] - 0s 2ms/step - loss: 16.5020 - val_loss: 17.0159\n",
      "Epoch 231/500\n",
      "36/36 [==============================] - 0s 2ms/step - loss: 16.2596 - val_loss: 16.1797\n",
      "Epoch 232/500\n",
      "36/36 [==============================] - 0s 2ms/step - loss: 16.8805 - val_loss: 16.8150\n",
      "Epoch 233/500\n",
      "36/36 [==============================] - 0s 2ms/step - loss: 16.5621 - val_loss: 17.4151\n",
      "Epoch 234/500\n",
      "36/36 [==============================] - 0s 3ms/step - loss: 16.7473 - val_loss: 18.1415\n",
      "Epoch 235/500\n",
      "36/36 [==============================] - 0s 4ms/step - loss: 16.5093 - val_loss: 17.8506\n",
      "Epoch 236/500\n"
     ]
    },
    {
     "name": "stdout",
     "output_type": "stream",
     "text": [
      "36/36 [==============================] - 0s 3ms/step - loss: 17.3899 - val_loss: 16.6399\n",
      "Epoch 237/500\n",
      "36/36 [==============================] - 0s 3ms/step - loss: 16.5511 - val_loss: 17.4188\n",
      "Epoch 238/500\n",
      "36/36 [==============================] - 0s 3ms/step - loss: 16.2737 - val_loss: 18.3014\n",
      "Epoch 239/500\n",
      "36/36 [==============================] - 0s 4ms/step - loss: 16.4959 - val_loss: 16.1828\n",
      "Epoch 240/500\n",
      "36/36 [==============================] - 0s 4ms/step - loss: 16.3906 - val_loss: 17.0510\n",
      "Epoch 241/500\n",
      "36/36 [==============================] - 0s 3ms/step - loss: 16.6769 - val_loss: 16.5797\n",
      "Epoch 242/500\n",
      "36/36 [==============================] - 0s 4ms/step - loss: 16.3628 - val_loss: 16.2593\n",
      "Epoch 243/500\n",
      "36/36 [==============================] - 0s 3ms/step - loss: 16.3523 - val_loss: 17.2778\n",
      "Epoch 244/500\n",
      "36/36 [==============================] - 0s 2ms/step - loss: 17.2999 - val_loss: 16.9828\n",
      "Epoch 245/500\n",
      "36/36 [==============================] - 0s 2ms/step - loss: 16.3441 - val_loss: 16.3366\n",
      "Epoch 246/500\n",
      "36/36 [==============================] - 0s 2ms/step - loss: 16.4627 - val_loss: 17.9961\n",
      "Epoch 247/500\n",
      "36/36 [==============================] - 0s 2ms/step - loss: 17.1357 - val_loss: 18.3879\n",
      "Epoch 248/500\n",
      "36/36 [==============================] - 0s 2ms/step - loss: 16.2981 - val_loss: 16.6864\n",
      "Epoch 249/500\n",
      "36/36 [==============================] - 0s 2ms/step - loss: 16.7131 - val_loss: 18.2417\n",
      "Epoch 250/500\n",
      "36/36 [==============================] - 0s 2ms/step - loss: 16.5998 - val_loss: 17.0345\n",
      "Epoch 251/500\n",
      "36/36 [==============================] - 0s 2ms/step - loss: 16.8186 - val_loss: 17.4914\n",
      "Epoch 252/500\n",
      "36/36 [==============================] - 0s 4ms/step - loss: 16.2556 - val_loss: 19.7721\n",
      "Epoch 253/500\n",
      "36/36 [==============================] - 0s 3ms/step - loss: 16.4429 - val_loss: 16.5735\n",
      "Epoch 254/500\n",
      "36/36 [==============================] - 0s 4ms/step - loss: 16.6442 - val_loss: 18.8790\n",
      "Epoch 255/500\n",
      "36/36 [==============================] - 0s 4ms/step - loss: 16.3497 - val_loss: 18.8055\n",
      "Epoch 256/500\n",
      "36/36 [==============================] - 0s 4ms/step - loss: 16.3303 - val_loss: 19.5432\n",
      "Epoch 257/500\n",
      "36/36 [==============================] - 0s 4ms/step - loss: 16.4994 - val_loss: 16.7311\n",
      "Epoch 258/500\n",
      "36/36 [==============================] - 0s 3ms/step - loss: 16.5057 - val_loss: 16.4372\n",
      "Epoch 259/500\n",
      "36/36 [==============================] - 0s 4ms/step - loss: 16.7742 - val_loss: 17.1545\n",
      "Epoch 260/500\n",
      "36/36 [==============================] - 0s 4ms/step - loss: 16.4476 - val_loss: 17.6062\n",
      "Epoch 261/500\n",
      "36/36 [==============================] - 0s 4ms/step - loss: 16.5140 - val_loss: 17.1677\n",
      "Epoch 262/500\n",
      "36/36 [==============================] - 0s 3ms/step - loss: 16.5280 - val_loss: 16.2733\n",
      "Epoch 263/500\n",
      "36/36 [==============================] - 0s 3ms/step - loss: 16.5739 - val_loss: 18.8175\n",
      "Epoch 264/500\n",
      "36/36 [==============================] - 0s 3ms/step - loss: 16.5453 - val_loss: 16.9087\n",
      "Epoch 265/500\n",
      "36/36 [==============================] - 0s 3ms/step - loss: 16.3033 - val_loss: 17.2979\n",
      "Epoch 266/500\n",
      "36/36 [==============================] - 0s 4ms/step - loss: 16.7257 - val_loss: 17.6107\n",
      "Epoch 267/500\n",
      "36/36 [==============================] - 0s 4ms/step - loss: 16.5239 - val_loss: 20.1411\n",
      "Epoch 268/500\n",
      "36/36 [==============================] - 0s 3ms/step - loss: 17.2418 - val_loss: 17.3102\n",
      "Epoch 269/500\n",
      "36/36 [==============================] - 0s 3ms/step - loss: 16.3421 - val_loss: 17.5788\n",
      "Epoch 270/500\n",
      "36/36 [==============================] - 0s 3ms/step - loss: 16.3422 - val_loss: 17.7901\n",
      "Epoch 271/500\n",
      "36/36 [==============================] - 0s 4ms/step - loss: 16.5205 - val_loss: 18.4458\n",
      "Epoch 272/500\n",
      "36/36 [==============================] - 0s 3ms/step - loss: 16.7107 - val_loss: 16.5802\n",
      "Epoch 273/500\n",
      "36/36 [==============================] - 0s 4ms/step - loss: 16.5471 - val_loss: 17.8160\n",
      "Epoch 274/500\n",
      "36/36 [==============================] - 0s 6ms/step - loss: 16.2853 - val_loss: 22.1920\n",
      "Epoch 275/500\n",
      "36/36 [==============================] - 0s 4ms/step - loss: 17.6628 - val_loss: 16.1811\n",
      "Epoch 276/500\n",
      "36/36 [==============================] - 0s 3ms/step - loss: 17.9082 - val_loss: 16.5436\n",
      "Epoch 277/500\n",
      "36/36 [==============================] - 0s 2ms/step - loss: 16.4219 - val_loss: 17.1460\n",
      "Epoch 278/500\n",
      "36/36 [==============================] - 0s 2ms/step - loss: 17.0158 - val_loss: 16.2634\n",
      "Epoch 279/500\n",
      "36/36 [==============================] - 0s 2ms/step - loss: 16.4293 - val_loss: 16.6221\n",
      "Epoch 280/500\n",
      "36/36 [==============================] - 0s 2ms/step - loss: 16.3943 - val_loss: 16.7421\n",
      "Epoch 281/500\n",
      "36/36 [==============================] - 0s 2ms/step - loss: 16.8220 - val_loss: 19.1755\n",
      "Epoch 282/500\n",
      "36/36 [==============================] - 0s 2ms/step - loss: 16.5381 - val_loss: 17.0514\n",
      "Epoch 283/500\n",
      "36/36 [==============================] - 0s 2ms/step - loss: 16.8117 - val_loss: 17.0564\n",
      "Epoch 284/500\n",
      "36/36 [==============================] - 0s 2ms/step - loss: 16.3280 - val_loss: 17.3889\n",
      "Epoch 285/500\n",
      "36/36 [==============================] - 0s 2ms/step - loss: 17.0921 - val_loss: 17.6679\n",
      "Epoch 286/500\n",
      "36/36 [==============================] - 0s 2ms/step - loss: 16.6520 - val_loss: 18.2965\n",
      "Epoch 287/500\n",
      "36/36 [==============================] - 0s 2ms/step - loss: 16.7088 - val_loss: 16.6703\n",
      "Epoch 288/500\n",
      "36/36 [==============================] - 0s 2ms/step - loss: 16.7002 - val_loss: 18.2524\n",
      "Epoch 289/500\n",
      "36/36 [==============================] - 0s 2ms/step - loss: 16.6986 - val_loss: 18.6258\n",
      "Epoch 290/500\n",
      "36/36 [==============================] - 0s 2ms/step - loss: 16.5169 - val_loss: 16.1545\n",
      "Epoch 291/500\n",
      "36/36 [==============================] - 0s 2ms/step - loss: 16.9778 - val_loss: 17.1376\n",
      "Epoch 292/500\n",
      "36/36 [==============================] - 0s 2ms/step - loss: 16.3356 - val_loss: 19.0935\n",
      "Epoch 293/500\n",
      "36/36 [==============================] - 0s 2ms/step - loss: 16.4262 - val_loss: 19.1935\n",
      "Epoch 294/500\n",
      "36/36 [==============================] - 0s 2ms/step - loss: 16.3589 - val_loss: 19.0130\n",
      "Epoch 295/500\n",
      "36/36 [==============================] - 0s 2ms/step - loss: 16.3818 - val_loss: 16.8693\n",
      "Epoch 296/500\n",
      "36/36 [==============================] - 0s 2ms/step - loss: 16.4327 - val_loss: 17.4800\n",
      "Epoch 297/500\n",
      "36/36 [==============================] - 0s 4ms/step - loss: 16.3050 - val_loss: 18.0554\n",
      "Epoch 298/500\n",
      "36/36 [==============================] - 0s 3ms/step - loss: 16.3775 - val_loss: 16.2577\n",
      "Epoch 299/500\n",
      "36/36 [==============================] - 0s 3ms/step - loss: 16.4376 - val_loss: 17.9969\n",
      "Epoch 300/500\n",
      "36/36 [==============================] - 0s 3ms/step - loss: 16.4484 - val_loss: 16.2763\n",
      "Epoch 301/500\n",
      "36/36 [==============================] - 0s 3ms/step - loss: 16.9940 - val_loss: 16.3185\n",
      "Epoch 302/500\n",
      "36/36 [==============================] - 0s 3ms/step - loss: 16.5520 - val_loss: 18.6805\n",
      "Epoch 303/500\n",
      "36/36 [==============================] - 0s 3ms/step - loss: 16.9263 - val_loss: 16.4049\n",
      "Epoch 304/500\n",
      "36/36 [==============================] - 0s 3ms/step - loss: 16.3338 - val_loss: 16.1541\n",
      "Epoch 305/500\n",
      "36/36 [==============================] - 0s 3ms/step - loss: 16.6494 - val_loss: 16.3097\n",
      "Epoch 306/500\n",
      "36/36 [==============================] - 0s 4ms/step - loss: 16.8310 - val_loss: 17.2970\n",
      "Epoch 307/500\n",
      "36/36 [==============================] - 0s 2ms/step - loss: 16.6031 - val_loss: 18.8401\n",
      "Epoch 308/500\n",
      "36/36 [==============================] - 0s 3ms/step - loss: 16.3994 - val_loss: 17.8940\n",
      "Epoch 309/500\n",
      "36/36 [==============================] - 0s 3ms/step - loss: 17.7153 - val_loss: 17.3106\n",
      "Epoch 310/500\n",
      "36/36 [==============================] - 0s 5ms/step - loss: 16.6776 - val_loss: 16.1981\n",
      "Epoch 311/500\n",
      "36/36 [==============================] - 0s 3ms/step - loss: 16.5661 - val_loss: 16.6971\n",
      "Epoch 312/500\n",
      "36/36 [==============================] - 0s 3ms/step - loss: 16.7762 - val_loss: 16.6409\n",
      "Epoch 313/500\n",
      "36/36 [==============================] - 0s 3ms/step - loss: 16.6909 - val_loss: 16.3883\n",
      "Epoch 314/500\n",
      "36/36 [==============================] - 0s 3ms/step - loss: 16.7689 - val_loss: 20.8263\n",
      "Epoch 315/500\n"
     ]
    },
    {
     "name": "stdout",
     "output_type": "stream",
     "text": [
      "36/36 [==============================] - 0s 3ms/step - loss: 16.6246 - val_loss: 17.0734\n",
      "Epoch 316/500\n",
      "36/36 [==============================] - 0s 2ms/step - loss: 16.5309 - val_loss: 17.4805\n",
      "Epoch 317/500\n",
      "36/36 [==============================] - 0s 2ms/step - loss: 16.4319 - val_loss: 18.1828\n",
      "Epoch 318/500\n",
      "36/36 [==============================] - 0s 2ms/step - loss: 16.4273 - val_loss: 16.9812\n",
      "Epoch 319/500\n",
      "36/36 [==============================] - 0s 3ms/step - loss: 17.1925 - val_loss: 16.4211\n",
      "Epoch 320/500\n",
      "36/36 [==============================] - 0s 3ms/step - loss: 16.6623 - val_loss: 16.3098\n",
      "Epoch 321/500\n",
      "36/36 [==============================] - 0s 3ms/step - loss: 16.5151 - val_loss: 17.4536\n",
      "Epoch 322/500\n",
      "36/36 [==============================] - 0s 3ms/step - loss: 16.5338 - val_loss: 16.4773\n",
      "Epoch 323/500\n",
      "36/36 [==============================] - 0s 3ms/step - loss: 16.4424 - val_loss: 18.3609\n",
      "Epoch 324/500\n",
      "36/36 [==============================] - 0s 3ms/step - loss: 16.7559 - val_loss: 16.7877\n",
      "Epoch 325/500\n",
      "36/36 [==============================] - 0s 3ms/step - loss: 16.8357 - val_loss: 16.4050\n",
      "Epoch 326/500\n",
      "36/36 [==============================] - 0s 3ms/step - loss: 16.4887 - val_loss: 16.9340\n",
      "Epoch 327/500\n",
      "36/36 [==============================] - 0s 2ms/step - loss: 16.2032 - val_loss: 17.7893\n",
      "Epoch 328/500\n",
      "36/36 [==============================] - 0s 2ms/step - loss: 16.3629 - val_loss: 19.7560\n",
      "Epoch 329/500\n",
      "36/36 [==============================] - 0s 2ms/step - loss: 16.6042 - val_loss: 16.4734\n",
      "Epoch 330/500\n",
      "36/36 [==============================] - 0s 3ms/step - loss: 16.4944 - val_loss: 16.2749\n",
      "Epoch 331/500\n",
      "36/36 [==============================] - 0s 3ms/step - loss: 17.0147 - val_loss: 18.5425\n",
      "Epoch 332/500\n",
      "36/36 [==============================] - 0s 3ms/step - loss: 16.2851 - val_loss: 16.1657\n",
      "Epoch 333/500\n",
      "36/36 [==============================] - 0s 3ms/step - loss: 16.5407 - val_loss: 18.1056\n",
      "Epoch 334/500\n",
      "36/36 [==============================] - 0s 4ms/step - loss: 16.3138 - val_loss: 17.7975\n",
      "Epoch 335/500\n",
      "36/36 [==============================] - 0s 3ms/step - loss: 17.0495 - val_loss: 17.4541\n",
      "Epoch 336/500\n",
      "36/36 [==============================] - 0s 4ms/step - loss: 16.5411 - val_loss: 16.8855\n",
      "Epoch 337/500\n",
      "36/36 [==============================] - 0s 3ms/step - loss: 16.8105 - val_loss: 18.5423\n",
      "Epoch 338/500\n",
      "36/36 [==============================] - 0s 3ms/step - loss: 16.3170 - val_loss: 17.0840\n",
      "Epoch 339/500\n",
      "36/36 [==============================] - 0s 3ms/step - loss: 16.8035 - val_loss: 18.2401\n",
      "Epoch 340/500\n",
      "36/36 [==============================] - 0s 3ms/step - loss: 16.7149 - val_loss: 16.5982\n",
      "Epoch 341/500\n",
      "36/36 [==============================] - 0s 3ms/step - loss: 16.6716 - val_loss: 16.2797\n",
      "Epoch 342/500\n",
      "36/36 [==============================] - 0s 3ms/step - loss: 16.5927 - val_loss: 18.3919\n",
      "Epoch 343/500\n",
      "36/36 [==============================] - 0s 3ms/step - loss: 16.3417 - val_loss: 16.8942\n",
      "Epoch 344/500\n",
      "36/36 [==============================] - 0s 3ms/step - loss: 16.5207 - val_loss: 16.3505\n",
      "Epoch 345/500\n",
      "36/36 [==============================] - 0s 4ms/step - loss: 16.2135 - val_loss: 17.5608\n",
      "Epoch 346/500\n",
      "36/36 [==============================] - 0s 3ms/step - loss: 16.8282 - val_loss: 19.4772\n",
      "Epoch 347/500\n",
      "36/36 [==============================] - 0s 3ms/step - loss: 18.0919 - val_loss: 16.3501\n",
      "Epoch 348/500\n",
      "36/36 [==============================] - 0s 3ms/step - loss: 16.5132 - val_loss: 16.8349\n",
      "Epoch 349/500\n",
      "36/36 [==============================] - 0s 4ms/step - loss: 16.2328 - val_loss: 20.5727\n",
      "Epoch 350/500\n",
      "36/36 [==============================] - 0s 3ms/step - loss: 16.6632 - val_loss: 19.4221\n",
      "Epoch 351/500\n",
      "36/36 [==============================] - 0s 3ms/step - loss: 16.8312 - val_loss: 16.1847\n",
      "Epoch 352/500\n",
      "36/36 [==============================] - 0s 3ms/step - loss: 16.5395 - val_loss: 16.6637\n",
      "Epoch 353/500\n",
      "36/36 [==============================] - 0s 3ms/step - loss: 16.4804 - val_loss: 18.6370\n",
      "Epoch 354/500\n",
      "36/36 [==============================] - 0s 3ms/step - loss: 16.7005 - val_loss: 16.5962\n",
      "Epoch 355/500\n",
      "36/36 [==============================] - 0s 3ms/step - loss: 16.3048 - val_loss: 16.1789\n",
      "Epoch 356/500\n",
      "36/36 [==============================] - 0s 3ms/step - loss: 16.7449 - val_loss: 17.3373\n",
      "Epoch 357/500\n",
      "36/36 [==============================] - 0s 3ms/step - loss: 16.5695 - val_loss: 18.8570\n",
      "Epoch 358/500\n",
      "36/36 [==============================] - 0s 4ms/step - loss: 16.8112 - val_loss: 16.6234\n",
      "Epoch 359/500\n",
      "36/36 [==============================] - 0s 3ms/step - loss: 16.4905 - val_loss: 16.4674\n",
      "Epoch 360/500\n",
      "36/36 [==============================] - 0s 3ms/step - loss: 16.3538 - val_loss: 18.5371\n",
      "Epoch 361/500\n",
      "36/36 [==============================] - 0s 3ms/step - loss: 16.7183 - val_loss: 16.9554\n",
      "Epoch 362/500\n",
      "36/36 [==============================] - 0s 3ms/step - loss: 16.8398 - val_loss: 18.1899\n",
      "Epoch 363/500\n",
      "36/36 [==============================] - 0s 4ms/step - loss: 16.7153 - val_loss: 16.9674\n",
      "Epoch 364/500\n",
      "36/36 [==============================] - 0s 3ms/step - loss: 16.7565 - val_loss: 16.4354\n",
      "Epoch 365/500\n",
      "36/36 [==============================] - 0s 3ms/step - loss: 16.2722 - val_loss: 16.2706\n",
      "Epoch 366/500\n",
      "36/36 [==============================] - 0s 4ms/step - loss: 16.7011 - val_loss: 18.6040\n",
      "Epoch 367/500\n",
      "36/36 [==============================] - 0s 3ms/step - loss: 17.0273 - val_loss: 16.2877\n",
      "Epoch 368/500\n",
      "36/36 [==============================] - 0s 3ms/step - loss: 16.9155 - val_loss: 17.0701\n",
      "Epoch 369/500\n",
      "36/36 [==============================] - 0s 3ms/step - loss: 16.7126 - val_loss: 18.0655\n",
      "Epoch 370/500\n",
      "36/36 [==============================] - 0s 4ms/step - loss: 16.4185 - val_loss: 16.2183\n",
      "Epoch 371/500\n",
      "36/36 [==============================] - 0s 4ms/step - loss: 16.7478 - val_loss: 19.5659\n",
      "Epoch 372/500\n",
      "36/36 [==============================] - 0s 4ms/step - loss: 16.4688 - val_loss: 17.0838\n",
      "Epoch 373/500\n",
      "36/36 [==============================] - 0s 5ms/step - loss: 16.5617 - val_loss: 17.2827\n",
      "Epoch 374/500\n",
      "36/36 [==============================] - 0s 4ms/step - loss: 16.2003 - val_loss: 20.4479\n",
      "Epoch 375/500\n",
      "36/36 [==============================] - 0s 4ms/step - loss: 16.7060 - val_loss: 17.4664\n",
      "Epoch 376/500\n",
      "36/36 [==============================] - 0s 2ms/step - loss: 16.4759 - val_loss: 22.8046\n",
      "Epoch 377/500\n",
      "36/36 [==============================] - 0s 2ms/step - loss: 16.7476 - val_loss: 18.2528\n",
      "Epoch 378/500\n",
      "36/36 [==============================] - 0s 2ms/step - loss: 16.5631 - val_loss: 16.9549\n",
      "Epoch 379/500\n",
      "36/36 [==============================] - 0s 2ms/step - loss: 16.4175 - val_loss: 16.8115\n",
      "Epoch 380/500\n",
      "36/36 [==============================] - 0s 2ms/step - loss: 16.4813 - val_loss: 16.5267\n",
      "Epoch 381/500\n",
      "36/36 [==============================] - 0s 2ms/step - loss: 16.3297 - val_loss: 17.8344\n",
      "Epoch 382/500\n",
      "36/36 [==============================] - 0s 2ms/step - loss: 16.5127 - val_loss: 16.9853\n",
      "Epoch 383/500\n",
      "36/36 [==============================] - 0s 3ms/step - loss: 16.7671 - val_loss: 16.9861\n",
      "Epoch 384/500\n",
      "36/36 [==============================] - 0s 4ms/step - loss: 17.4956 - val_loss: 16.7505\n",
      "Epoch 385/500\n",
      "36/36 [==============================] - 0s 3ms/step - loss: 16.3876 - val_loss: 16.4202\n",
      "Epoch 386/500\n",
      "36/36 [==============================] - 0s 3ms/step - loss: 16.3133 - val_loss: 16.2812\n",
      "Epoch 387/500\n",
      "36/36 [==============================] - 0s 3ms/step - loss: 16.4858 - val_loss: 17.2336\n",
      "Epoch 388/500\n",
      "36/36 [==============================] - 0s 3ms/step - loss: 16.5483 - val_loss: 17.5391\n",
      "Epoch 389/500\n",
      "36/36 [==============================] - 0s 3ms/step - loss: 16.8142 - val_loss: 16.3101\n",
      "Epoch 390/500\n",
      "36/36 [==============================] - 0s 3ms/step - loss: 16.4816 - val_loss: 16.1755\n",
      "Epoch 391/500\n",
      "36/36 [==============================] - 0s 3ms/step - loss: 16.3407 - val_loss: 16.6625\n",
      "Epoch 392/500\n",
      "36/36 [==============================] - 0s 4ms/step - loss: 16.4446 - val_loss: 16.6447\n",
      "Epoch 393/500\n",
      "36/36 [==============================] - 0s 2ms/step - loss: 16.4361 - val_loss: 16.6482\n",
      "Epoch 394/500\n"
     ]
    },
    {
     "name": "stdout",
     "output_type": "stream",
     "text": [
      "36/36 [==============================] - 0s 2ms/step - loss: 16.5829 - val_loss: 16.8822\n",
      "Epoch 395/500\n",
      "36/36 [==============================] - 0s 5ms/step - loss: 16.4389 - val_loss: 17.3525\n",
      "Epoch 396/500\n",
      "36/36 [==============================] - 0s 5ms/step - loss: 16.2129 - val_loss: 16.5795\n",
      "Epoch 397/500\n",
      "36/36 [==============================] - 0s 5ms/step - loss: 16.3253 - val_loss: 17.0300\n",
      "Epoch 398/500\n",
      "36/36 [==============================] - 0s 2ms/step - loss: 16.4374 - val_loss: 16.4988\n",
      "Epoch 399/500\n",
      "36/36 [==============================] - 0s 2ms/step - loss: 16.4146 - val_loss: 18.9278\n",
      "Epoch 400/500\n",
      "36/36 [==============================] - 0s 2ms/step - loss: 16.5082 - val_loss: 18.1835\n",
      "Epoch 401/500\n",
      "36/36 [==============================] - 0s 2ms/step - loss: 17.1704 - val_loss: 16.3818\n",
      "Epoch 402/500\n",
      "36/36 [==============================] - 0s 2ms/step - loss: 16.6692 - val_loss: 18.1262\n",
      "Epoch 403/500\n",
      "36/36 [==============================] - 0s 2ms/step - loss: 16.3261 - val_loss: 19.6307\n",
      "Epoch 404/500\n",
      "36/36 [==============================] - 0s 5ms/step - loss: 16.6130 - val_loss: 16.2367\n",
      "Epoch 405/500\n",
      "36/36 [==============================] - 0s 4ms/step - loss: 17.0231 - val_loss: 16.2313\n",
      "Epoch 406/500\n",
      "36/36 [==============================] - 0s 3ms/step - loss: 16.8519 - val_loss: 17.8601\n",
      "Epoch 407/500\n",
      "36/36 [==============================] - 0s 3ms/step - loss: 16.7083 - val_loss: 17.0369\n",
      "Epoch 408/500\n",
      "36/36 [==============================] - 0s 3ms/step - loss: 16.4682 - val_loss: 17.8361\n",
      "Epoch 409/500\n",
      "36/36 [==============================] - 0s 2ms/step - loss: 16.3792 - val_loss: 16.7300\n",
      "Epoch 410/500\n",
      "36/36 [==============================] - 0s 4ms/step - loss: 16.4465 - val_loss: 16.8008\n",
      "Epoch 411/500\n",
      "36/36 [==============================] - 0s 6ms/step - loss: 16.4830 - val_loss: 16.5555\n",
      "Epoch 412/500\n",
      "36/36 [==============================] - 0s 4ms/step - loss: 16.7307 - val_loss: 17.0399\n",
      "Epoch 413/500\n",
      "36/36 [==============================] - 0s 4ms/step - loss: 16.5733 - val_loss: 16.1865\n",
      "Epoch 414/500\n",
      "36/36 [==============================] - 0s 5ms/step - loss: 16.5637 - val_loss: 16.2504\n",
      "Epoch 415/500\n",
      "36/36 [==============================] - 0s 3ms/step - loss: 16.6977 - val_loss: 16.9998\n",
      "Epoch 416/500\n",
      "36/36 [==============================] - 0s 3ms/step - loss: 16.9704 - val_loss: 19.0563\n",
      "Epoch 417/500\n",
      "36/36 [==============================] - 0s 6ms/step - loss: 16.4441 - val_loss: 17.3799\n",
      "Epoch 418/500\n",
      "36/36 [==============================] - 0s 3ms/step - loss: 16.5086 - val_loss: 17.9746\n",
      "Epoch 419/500\n",
      "36/36 [==============================] - 0s 3ms/step - loss: 16.4249 - val_loss: 16.3490\n",
      "Epoch 420/500\n",
      "36/36 [==============================] - 0s 2ms/step - loss: 16.6610 - val_loss: 16.5257\n",
      "Epoch 421/500\n",
      "36/36 [==============================] - 0s 2ms/step - loss: 16.4380 - val_loss: 16.9699\n",
      "Epoch 422/500\n",
      "36/36 [==============================] - 0s 2ms/step - loss: 16.3438 - val_loss: 17.1217\n",
      "Epoch 423/500\n",
      "36/36 [==============================] - 0s 2ms/step - loss: 16.3510 - val_loss: 16.5483\n",
      "Epoch 424/500\n",
      "36/36 [==============================] - 0s 5ms/step - loss: 17.1710 - val_loss: 16.2677\n",
      "Epoch 425/500\n",
      "36/36 [==============================] - 0s 3ms/step - loss: 16.2163 - val_loss: 16.7278\n",
      "Epoch 426/500\n",
      "36/36 [==============================] - 0s 3ms/step - loss: 16.3859 - val_loss: 16.6362\n",
      "Epoch 427/500\n",
      "36/36 [==============================] - 0s 2ms/step - loss: 16.5835 - val_loss: 17.2066\n",
      "Epoch 428/500\n",
      "36/36 [==============================] - 0s 2ms/step - loss: 16.2686 - val_loss: 17.7482\n",
      "Epoch 429/500\n",
      "36/36 [==============================] - 0s 2ms/step - loss: 16.6139 - val_loss: 16.4470\n",
      "Epoch 430/500\n",
      "36/36 [==============================] - 0s 2ms/step - loss: 16.2645 - val_loss: 17.8787\n",
      "Epoch 431/500\n",
      "36/36 [==============================] - 0s 2ms/step - loss: 16.4824 - val_loss: 16.5254\n",
      "Epoch 432/500\n",
      "36/36 [==============================] - 0s 4ms/step - loss: 16.4484 - val_loss: 16.1456\n",
      "Epoch 433/500\n",
      "36/36 [==============================] - 0s 3ms/step - loss: 16.7960 - val_loss: 19.1539\n",
      "Epoch 434/500\n",
      "36/36 [==============================] - 0s 4ms/step - loss: 17.3501 - val_loss: 16.3918\n",
      "Epoch 435/500\n",
      "36/36 [==============================] - 0s 3ms/step - loss: 17.0136 - val_loss: 20.0772\n",
      "Epoch 436/500\n",
      "36/36 [==============================] - 0s 3ms/step - loss: 16.6417 - val_loss: 20.2355\n",
      "Epoch 437/500\n",
      "36/36 [==============================] - 0s 2ms/step - loss: 16.8937 - val_loss: 16.6570\n",
      "Epoch 438/500\n",
      "36/36 [==============================] - 0s 2ms/step - loss: 16.4753 - val_loss: 16.2126\n",
      "Epoch 439/500\n",
      "36/36 [==============================] - 0s 2ms/step - loss: 16.4367 - val_loss: 16.1953\n",
      "Epoch 440/500\n",
      "36/36 [==============================] - 0s 2ms/step - loss: 16.6665 - val_loss: 16.2456\n",
      "Epoch 441/500\n",
      "36/36 [==============================] - 0s 2ms/step - loss: 16.7935 - val_loss: 16.9831\n",
      "Epoch 442/500\n",
      "36/36 [==============================] - 0s 3ms/step - loss: 16.4720 - val_loss: 18.1614\n",
      "Epoch 443/500\n",
      "36/36 [==============================] - 0s 3ms/step - loss: 16.5881 - val_loss: 16.7667\n",
      "Epoch 444/500\n",
      "36/36 [==============================] - 0s 3ms/step - loss: 16.5121 - val_loss: 16.2612\n",
      "Epoch 445/500\n",
      "36/36 [==============================] - 0s 3ms/step - loss: 16.4478 - val_loss: 17.3853\n",
      "Epoch 446/500\n",
      "36/36 [==============================] - 0s 3ms/step - loss: 16.5994 - val_loss: 16.5628\n",
      "Epoch 447/500\n",
      "36/36 [==============================] - 0s 3ms/step - loss: 16.4587 - val_loss: 17.1395\n",
      "Epoch 448/500\n",
      "36/36 [==============================] - 0s 2ms/step - loss: 16.6465 - val_loss: 16.1928\n",
      "Epoch 449/500\n",
      "36/36 [==============================] - 0s 2ms/step - loss: 16.5102 - val_loss: 17.4227\n",
      "Epoch 450/500\n",
      "36/36 [==============================] - 0s 2ms/step - loss: 17.1326 - val_loss: 16.6258\n",
      "Epoch 451/500\n",
      "36/36 [==============================] - 0s 2ms/step - loss: 16.4536 - val_loss: 16.5180\n",
      "Epoch 452/500\n",
      "36/36 [==============================] - 0s 2ms/step - loss: 16.9608 - val_loss: 18.2516\n",
      "Epoch 453/500\n",
      "36/36 [==============================] - 0s 4ms/step - loss: 16.7623 - val_loss: 16.3472\n",
      "Epoch 454/500\n",
      "36/36 [==============================] - 0s 5ms/step - loss: 16.3768 - val_loss: 17.0053\n",
      "Epoch 455/500\n",
      "36/36 [==============================] - 0s 4ms/step - loss: 16.4868 - val_loss: 17.5729\n",
      "Epoch 456/500\n",
      "36/36 [==============================] - 0s 3ms/step - loss: 16.5980 - val_loss: 16.1976\n",
      "Epoch 457/500\n",
      "36/36 [==============================] - 0s 3ms/step - loss: 16.7342 - val_loss: 16.2085\n",
      "Epoch 458/500\n",
      "36/36 [==============================] - 0s 3ms/step - loss: 16.2342 - val_loss: 16.2822\n",
      "Epoch 459/500\n",
      "36/36 [==============================] - 0s 2ms/step - loss: 16.6109 - val_loss: 16.4621\n",
      "Epoch 460/500\n",
      "36/36 [==============================] - 0s 2ms/step - loss: 16.3016 - val_loss: 18.3830\n",
      "Epoch 461/500\n",
      "36/36 [==============================] - 0s 2ms/step - loss: 16.4957 - val_loss: 17.2205\n",
      "Epoch 462/500\n",
      "36/36 [==============================] - 0s 2ms/step - loss: 16.6147 - val_loss: 16.3650\n",
      "Epoch 463/500\n",
      "36/36 [==============================] - 0s 4ms/step - loss: 16.4911 - val_loss: 16.3770\n",
      "Epoch 464/500\n",
      "36/36 [==============================] - 0s 4ms/step - loss: 16.8089 - val_loss: 16.4340\n",
      "Epoch 465/500\n",
      "36/36 [==============================] - 0s 3ms/step - loss: 16.7477 - val_loss: 17.7968\n",
      "Epoch 466/500\n",
      "36/36 [==============================] - 0s 3ms/step - loss: 16.5433 - val_loss: 17.0311\n",
      "Epoch 467/500\n",
      "36/36 [==============================] - 0s 4ms/step - loss: 16.8656 - val_loss: 19.3251\n",
      "Epoch 468/500\n",
      "36/36 [==============================] - 0s 3ms/step - loss: 16.8453 - val_loss: 16.2776\n",
      "Epoch 469/500\n",
      "36/36 [==============================] - 0s 2ms/step - loss: 16.2116 - val_loss: 16.2031\n",
      "Epoch 470/500\n",
      "36/36 [==============================] - 0s 4ms/step - loss: 16.8395 - val_loss: 17.8326\n",
      "Epoch 471/500\n",
      "36/36 [==============================] - 0s 3ms/step - loss: 16.3634 - val_loss: 17.1840\n",
      "Epoch 472/500\n",
      "36/36 [==============================] - 0s 3ms/step - loss: 16.5946 - val_loss: 16.9004\n",
      "Epoch 473/500\n"
     ]
    },
    {
     "name": "stdout",
     "output_type": "stream",
     "text": [
      "36/36 [==============================] - 0s 3ms/step - loss: 16.6613 - val_loss: 18.9536\n",
      "Epoch 474/500\n",
      "36/36 [==============================] - 0s 3ms/step - loss: 16.3262 - val_loss: 16.4063\n",
      "Epoch 475/500\n",
      "36/36 [==============================] - 0s 2ms/step - loss: 16.3156 - val_loss: 17.4138\n",
      "Epoch 476/500\n",
      "36/36 [==============================] - 0s 2ms/step - loss: 16.6891 - val_loss: 16.4006\n",
      "Epoch 477/500\n",
      "36/36 [==============================] - 0s 2ms/step - loss: 16.4111 - val_loss: 16.6877\n",
      "Epoch 478/500\n",
      "36/36 [==============================] - 0s 4ms/step - loss: 16.8116 - val_loss: 18.4833\n",
      "Epoch 479/500\n",
      "36/36 [==============================] - 0s 4ms/step - loss: 16.6157 - val_loss: 16.5146\n",
      "Epoch 480/500\n",
      "36/36 [==============================] - 0s 3ms/step - loss: 16.4509 - val_loss: 16.7023\n",
      "Epoch 481/500\n",
      "36/36 [==============================] - 0s 3ms/step - loss: 16.5043 - val_loss: 16.3685\n",
      "Epoch 482/500\n",
      "36/36 [==============================] - 0s 3ms/step - loss: 16.7512 - val_loss: 16.5084\n",
      "Epoch 483/500\n",
      "36/36 [==============================] - 0s 2ms/step - loss: 16.6252 - val_loss: 18.0311\n",
      "Epoch 484/500\n",
      "36/36 [==============================] - 0s 2ms/step - loss: 16.5065 - val_loss: 16.4184\n",
      "Epoch 485/500\n",
      "36/36 [==============================] - 0s 2ms/step - loss: 16.4298 - val_loss: 16.3430\n",
      "Epoch 486/500\n",
      "36/36 [==============================] - 0s 4ms/step - loss: 16.6421 - val_loss: 18.4333\n",
      "Epoch 487/500\n",
      "36/36 [==============================] - 0s 3ms/step - loss: 16.3762 - val_loss: 16.3524\n",
      "Epoch 488/500\n",
      "36/36 [==============================] - 0s 4ms/step - loss: 16.4427 - val_loss: 18.1810\n",
      "Epoch 489/500\n",
      "36/36 [==============================] - 0s 3ms/step - loss: 16.3687 - val_loss: 16.3734\n",
      "Epoch 490/500\n",
      "36/36 [==============================] - 0s 4ms/step - loss: 17.2626 - val_loss: 16.5750\n",
      "Epoch 491/500\n",
      "36/36 [==============================] - 0s 3ms/step - loss: 16.9475 - val_loss: 16.3059\n",
      "Epoch 492/500\n",
      "36/36 [==============================] - 0s 3ms/step - loss: 16.6960 - val_loss: 20.0524\n",
      "Epoch 493/500\n",
      "36/36 [==============================] - 0s 2ms/step - loss: 17.0039 - val_loss: 16.6251\n",
      "Epoch 494/500\n",
      "36/36 [==============================] - 0s 2ms/step - loss: 16.6841 - val_loss: 18.9979\n",
      "Epoch 495/500\n",
      "36/36 [==============================] - 0s 2ms/step - loss: 16.6947 - val_loss: 16.6690\n",
      "Epoch 496/500\n",
      "36/36 [==============================] - 0s 4ms/step - loss: 16.2542 - val_loss: 19.3991\n",
      "Epoch 497/500\n",
      "36/36 [==============================] - 0s 4ms/step - loss: 16.4911 - val_loss: 17.0246\n",
      "Epoch 498/500\n",
      "36/36 [==============================] - 0s 4ms/step - loss: 16.5079 - val_loss: 17.4054\n",
      "Epoch 499/500\n",
      "36/36 [==============================] - 0s 4ms/step - loss: 17.2871 - val_loss: 16.1905\n",
      "Epoch 500/500\n",
      "36/36 [==============================] - 0s 3ms/step - loss: 16.6639 - val_loss: 16.6559\n"
     ]
    }
   ],
   "source": [
    "history=model2.fit(X_train, y_train, validation_data =(X_test, y_test),epochs=500, batch_size=10) #verbose=0"
   ]
  },
  {
   "cell_type": "markdown",
   "metadata": {},
   "source": [
    "Adding in the extra layer did bring down the mean squared error somewhat compared to the first model above."
   ]
  },
  {
   "cell_type": "code",
   "execution_count": 76,
   "metadata": {},
   "outputs": [
    {
     "name": "stdout",
     "output_type": "stream",
     "text": [
      "Train: 16.213, Test: 16.656\n"
     ]
    }
   ],
   "source": [
    "train_mse2 = model2.evaluate(X_train, y_train, verbose=0)\n",
    "test_mse2 = model2.evaluate(X_test, y_test, verbose=0)\n",
    "print('Train: %.3f, Test: %.3f' % (train_mse2, test_mse2))"
   ]
  },
  {
   "cell_type": "code",
   "execution_count": 77,
   "metadata": {},
   "outputs": [
    {
     "name": "stdout",
     "output_type": "stream",
     "text": [
      "Train: 19.444, Test: 19.567\n"
     ]
    }
   ],
   "source": [
    "# from first neural network model with one dense layer\n",
    "print('Train: %.3f, Test: %.3f' % (train_mse, test_mse))"
   ]
  },
  {
   "cell_type": "code",
   "execution_count": 78,
   "metadata": {},
   "outputs": [],
   "source": [
    "model2_predictions = model2.predict(X_test)"
   ]
  },
  {
   "cell_type": "code",
   "execution_count": 79,
   "metadata": {},
   "outputs": [],
   "source": [
    "model2.save('model2.h5')"
   ]
  },
  {
   "cell_type": "markdown",
   "metadata": {},
   "source": [
    "Using the first neural network model the mean squared error was 18.151 on the training data and 17.986 on the validation data. This had one dense layer of 60 neurons. The second neural network model had two dense layer eahc with 50 neurons. The mean squared error fell to 16.145 on the training datat and 16.666 on the validation data.\n",
    "I did use the same training and test split as I had set a random seed earlier. I think you could probably play around with changing parameters in the models but more understanding is really required as to what they are doing.\n",
    "The second model has a far higher number of neurons and while this is a relatively small dataset it might not translate well in terms of processing time to large datasets for the relatively small improvement in reducing loss.\n",
    "I'm not sure yet how they compare in terms of predicting on the same values."
   ]
  },
  {
   "cell_type": "code",
   "execution_count": 80,
   "metadata": {},
   "outputs": [
    {
     "name": "stdout",
     "output_type": "stream",
     "text": [
      "Model: \"sequential\"\n",
      "_________________________________________________________________\n",
      "Layer (type)                 Output Shape              Param #   \n",
      "=================================================================\n",
      "dense (Dense)                (None, 60)                120       \n",
      "_________________________________________________________________\n",
      "dense_1 (Dense)              (None, 1)                 61        \n",
      "=================================================================\n",
      "Total params: 181\n",
      "Trainable params: 181\n",
      "Non-trainable params: 0\n",
      "_________________________________________________________________\n"
     ]
    }
   ],
   "source": [
    "model.summary()"
   ]
  },
  {
   "cell_type": "code",
   "execution_count": 81,
   "metadata": {},
   "outputs": [
    {
     "name": "stdout",
     "output_type": "stream",
     "text": [
      "Model: \"sequential_1\"\n",
      "_________________________________________________________________\n",
      "Layer (type)                 Output Shape              Param #   \n",
      "=================================================================\n",
      "dense_2 (Dense)              (None, 50)                100       \n",
      "_________________________________________________________________\n",
      "dense_3 (Dense)              (None, 50)                2550      \n",
      "_________________________________________________________________\n",
      "dense_4 (Dense)              (None, 1)                 51        \n",
      "=================================================================\n",
      "Total params: 2,701\n",
      "Trainable params: 2,701\n",
      "Non-trainable params: 0\n",
      "_________________________________________________________________\n"
     ]
    }
   ],
   "source": [
    "model2.summary()"
   ]
  },
  {
   "cell_type": "markdown",
   "metadata": {},
   "source": [
    "### Saving and loading the model\n",
    "Instead of having to retrain the model each time,  it can be saved to a file using the `save()` function on the model and loaded later to make predictions using the `load_model()` function. The model is saved in H5 format, an efficient array storage format.\n",
    "For this I need  the `h5py` library. "
   ]
  },
  {
   "cell_type": "raw",
   "metadata": {},
   "source": [
    "\n",
    "from tensorflow.keras.models import load_model"
   ]
  },
  {
   "cell_type": "raw",
   "metadata": {},
   "source": [
    "model = load_model('model.h5')"
   ]
  },
  {
   "cell_type": "raw",
   "metadata": {},
   "source": [
    "model2 = load_model('model.h5')"
   ]
  },
  {
   "cell_type": "markdown",
   "metadata": {},
   "source": [
    "\n",
    "Will need to incorporate some if else statements into the final prediction function.\n",
    "\n",
    "if speed is below cut-in speed predict zero power\n",
    "if speed is above cut-out speed, predict zero power\n",
    "Not sure how to capture the non-zero power values accurately where power has been stored up\n",
    "I don't think we can actually get the most accurate model with only one feature provided.\n"
   ]
  },
  {
   "cell_type": "code",
   "execution_count": 82,
   "metadata": {},
   "outputs": [
    {
     "name": "stdout",
     "output_type": "stream",
     "text": [
      "[[102.35542]]\n"
     ]
    },
    {
     "data": {
      "text/plain": [
       "array([[99.308586]], dtype=float32)"
      ]
     },
     "execution_count": 82,
     "metadata": {},
     "output_type": "execute_result"
    }
   ],
   "source": [
    "print(f\"{model.predict([24.4])}\")\n",
    "model2.predict([24.4])"
   ]
  },
  {
   "cell_type": "code",
   "execution_count": 83,
   "metadata": {},
   "outputs": [],
   "source": [
    "def predict_power(speed):\n",
    "    \n",
    "    if speed >= 24.4:\n",
    "        return 0\n",
    "    if speed < 4:\n",
    "        return 0\n",
    "        \n",
    "        \n",
    "    else:\n",
    "        # TypeError: '>' not supported between instances of 'list' and 'float'\n",
    "        speed = np.array([[speed]])\n",
    "        print(speed.dtype)\n",
    "        power = model.predict(speed)\n",
    "        return power"
   ]
  },
  {
   "cell_type": "code",
   "execution_count": 84,
   "metadata": {},
   "outputs": [
    {
     "data": {
      "text/plain": [
       "0"
      ]
     },
     "execution_count": 84,
     "metadata": {},
     "output_type": "execute_result"
    }
   ],
   "source": [
    "predict_power(24.4)"
   ]
  },
  {
   "cell_type": "code",
   "execution_count": 85,
   "metadata": {},
   "outputs": [
    {
     "name": "stdout",
     "output_type": "stream",
     "text": [
      "int64\n"
     ]
    },
    {
     "data": {
      "text/plain": [
       "array([[3.1434197]], dtype=float32)"
      ]
     },
     "execution_count": 85,
     "metadata": {},
     "output_type": "execute_result"
    }
   ],
   "source": [
    "predict_power(4)"
   ]
  },
  {
   "cell_type": "code",
   "execution_count": 86,
   "metadata": {},
   "outputs": [
    {
     "name": "stdout",
     "output_type": "stream",
     "text": [
      "Predicted: 99.646\n"
     ]
    }
   ],
   "source": [
    "speed = [20.647]\n",
    "yhat= model.predict(speed)\n",
    "print('Predicted: %.3f' % yhat[0])"
   ]
  },
  {
   "cell_type": "markdown",
   "metadata": {},
   "source": [
    "\n",
    "### Comparing Models\n",
    "\n",
    "\n",
    "The loss is still quite high and did not come down much despite playing around with the parameters.\n",
    "The ideal loss is is zero and the ideal accuracy is 1.0 or 100%.\n",
    ">The goal is to choose a model configuration and training configuration that achieve the lowest loss and highest accuracy possible for a given dataset\n",
    "- https://machinelearningmastery.com/tutorial-first-neural-network-python-keras/"
   ]
  },
  {
   "cell_type": "markdown",
   "metadata": {},
   "source": [
    "### Plot the predictions from the three models\n",
    "\n",
    "make this look nicer!"
   ]
  },
  {
   "cell_type": "code",
   "execution_count": 87,
   "metadata": {},
   "outputs": [
    {
     "data": {
      "image/png": "[encoded data removed]",
      "text/plain": [
       "<Figure size 720x360 with 1 Axes>"
      ]
     },
     "metadata": {},
     "output_type": "display_data"
    }
   ],
   "source": [
    "plt.plot(X_test, y_test, '.k', label ='actual')\n",
    "plt.plot(X_test, model_predictions,'b.', label=\"predicted values from Neural Network 1\")\n",
    "plt.plot(X_test, model2_predictions,'r.', label=\"predicted values from Neural Network 1\")\n",
    "plt.plot(X_test, poly3_predictions, 'g.', label=\"predicted values from Polynomial order 3\")\n",
    "plt.xlabel(\"Wind speed\")\n",
    "plt.ylabel(\"power\")\n",
    "plt.title(\"Comparing the predictions from the models\")\n",
    "plt.legend()\n",
    "plt.show()"
   ]
  },
  {
   "cell_type": "markdown",
   "metadata": {},
   "source": [
    "### Look at evaluation metrics for the two models:\n",
    "Root mean squared error below.\n",
    "I will leave out one of the neural networks."
   ]
  },
  {
   "cell_type": "markdown",
   "metadata": {},
   "source": [
    "#### Polynomial 3"
   ]
  },
  {
   "cell_type": "code",
   "execution_count": 88,
   "metadata": {},
   "outputs": [
    {
     "name": "stdout",
     "output_type": "stream",
     "text": [
      "Mean squared error: 33.32\n",
      "Coefficient of determination: 0.98\n",
      "Root Mean Squared Error: 5.77\n"
     ]
    }
   ],
   "source": [
    "print('Mean squared error: %.2f' % mean_squared_error(y_test,poly3_predictions ))\n",
    "# The coefficient of determination: 1 is perfect prediction\n",
    "print('Coefficient of determination: %.2f' % r2_score(y_test, poly3_predictions))\n",
    "print('Root Mean Squared Error: %.2f' % np.sqrt(mean_squared_error(y_test,poly3_predictions )))"
   ]
  },
  {
   "cell_type": "code",
   "execution_count": 89,
   "metadata": {},
   "outputs": [
    {
     "name": "stdout",
     "output_type": "stream",
     "text": [
      "Train: 16.213, Test: 16.656\n"
     ]
    }
   ],
   "source": [
    "train_mse2 = model2.evaluate(X_train, y_train, verbose=0)\n",
    "test_mse2 = model2.evaluate(X_test, y_test, verbose=0)\n",
    "print('Train: %.3f, Test: %.3f' % (train_mse2, test_mse2))"
   ]
  },
  {
   "cell_type": "code",
   "execution_count": 90,
   "metadata": {},
   "outputs": [
    {
     "name": "stdout",
     "output_type": "stream",
     "text": [
      "MSE: 19.567, RMSE: 4.423\n"
     ]
    }
   ],
   "source": [
    "# evaluate the model\n",
    "error = model.evaluate(X_test, y_test, verbose=0)\n",
    "print('MSE: %.3f, RMSE: %.3f' % (error, np.sqrt(error)))"
   ]
  },
  {
   "cell_type": "code",
   "execution_count": 91,
   "metadata": {},
   "outputs": [
    {
     "name": "stdout",
     "output_type": "stream",
     "text": [
      "MSE: 16.656, RMSE: 4.081 \n"
     ]
    }
   ],
   "source": [
    "# evaluate the model2\n",
    "error = model2.evaluate(X_test, y_test, verbose=0)\n",
    "print('MSE: %.3f, RMSE: %.3f ' % (error, np.sqrt(error)))"
   ]
  },
  {
   "cell_type": "code",
   "execution_count": 92,
   "metadata": {},
   "outputs": [
    {
     "name": "stdout",
     "output_type": "stream",
     "text": [
      "4/4 [==============================] - 0s 2ms/step - loss: 19.5669\n"
     ]
    }
   ],
   "source": [
    "accuracy = model.evaluate(X_test, y_test)"
   ]
  },
  {
   "cell_type": "code",
   "execution_count": 93,
   "metadata": {},
   "outputs": [],
   "source": [
    "import tensorflow.keras as kr\n",
    "from tensorflow.keras.models import load_model\n",
    "model = load_model('model.h5')\n",
    "model2=load_model('model2.h5')"
   ]
  },
  {
   "cell_type": "code",
   "execution_count": 94,
   "metadata": {},
   "outputs": [],
   "source": [
    "import pickle\n",
    "import joblib\n",
    "# In the specific case of scikit-learn, it may be better to use joblib’s replacement of pickle\n",
    "#from joblib import dump, load\n",
    "\n",
    "#model_poly3 = joblib.load('model_poly3.joblib')\n",
    "mod_poly3 = joblib.load('model_poly3.pkl')"
   ]
  },
  {
   "cell_type": "code",
   "execution_count": 95,
   "metadata": {},
   "outputs": [
    {
     "data": {
      "text/plain": [
       "array([[45.01454843]])"
      ]
     },
     "execution_count": 95,
     "metadata": {},
     "output_type": "execute_result"
    }
   ],
   "source": [
    "win12 = np.array([[12, 12**2, 12**3]])\n",
    "#win12 =np.array(win12)\n",
    "mod_poly3.predict(win12)"
   ]
  },
  {
   "cell_type": "code",
   "execution_count": 96,
   "metadata": {},
   "outputs": [
    {
     "name": "stdout",
     "output_type": "stream",
     "text": [
      "WARNING:tensorflow:5 out of the last 14 calls to <function Model.make_predict_function.<locals>.predict_function at 0x7fd61feec1f0> triggered tf.function retracing. Tracing is expensive and the excessive number of tracings could be due to (1) creating @tf.function repeatedly in a loop, (2) passing tensors with different shapes, (3) passing Python objects instead of tensors. For (1), please define your @tf.function outside of the loop. For (2), @tf.function has experimental_relax_shapes=True option that relaxes argument shapes that can avoid unnecessary retracing. For (3), please refer to https://www.tensorflow.org/tutorials/customization/performance#python_or_tensor_args and https://www.tensorflow.org/api_docs/python/tf/function for  more details.\n"
     ]
    },
    {
     "data": {
      "text/plain": [
       "array([[42.421165]], dtype=float32)"
      ]
     },
     "execution_count": 96,
     "metadata": {},
     "output_type": "execute_result"
    }
   ],
   "source": [
    "model2.predict([12])"
   ]
  },
  {
   "cell_type": "code",
   "execution_count": 97,
   "metadata": {},
   "outputs": [
    {
     "name": "stdout",
     "output_type": "stream",
     "text": [
      "WARNING:tensorflow:6 out of the last 15 calls to <function Model.make_predict_function.<locals>.predict_function at 0x7fd61feec1f0> triggered tf.function retracing. Tracing is expensive and the excessive number of tracings could be due to (1) creating @tf.function repeatedly in a loop, (2) passing tensors with different shapes, (3) passing Python objects instead of tensors. For (1), please define your @tf.function outside of the loop. For (2), @tf.function has experimental_relax_shapes=True option that relaxes argument shapes that can avoid unnecessary retracing. For (3), please refer to https://www.tensorflow.org/tutorials/customization/performance#python_or_tensor_args and https://www.tensorflow.org/api_docs/python/tf/function for  more details.\n"
     ]
    },
    {
     "data": {
      "text/plain": [
       "array([[99.308586]], dtype=float32)"
      ]
     },
     "execution_count": 97,
     "metadata": {},
     "output_type": "execute_result"
    }
   ],
   "source": [
    "model2.predict([24.4])"
   ]
  },
  {
   "cell_type": "code",
   "execution_count": 98,
   "metadata": {},
   "outputs": [
    {
     "data": {
      "text/plain": [
       "99.308586"
      ]
     },
     "execution_count": 98,
     "metadata": {},
     "output_type": "execute_result"
    }
   ],
   "source": [
    "model2.predict([24.4])[0][0]"
   ]
  },
  {
   "cell_type": "code",
   "execution_count": 99,
   "metadata": {},
   "outputs": [
    {
     "name": "stdout",
     "output_type": "stream",
     "text": [
      "WARNING:tensorflow:6 out of the last 12 calls to <function Model.make_predict_function.<locals>.predict_function at 0x7fd61fe53280> triggered tf.function retracing. Tracing is expensive and the excessive number of tracings could be due to (1) creating @tf.function repeatedly in a loop, (2) passing tensors with different shapes, (3) passing Python objects instead of tensors. For (1), please define your @tf.function outside of the loop. For (2), @tf.function has experimental_relax_shapes=True option that relaxes argument shapes that can avoid unnecessary retracing. For (3), please refer to https://www.tensorflow.org/tutorials/customization/performance#python_or_tensor_args and https://www.tensorflow.org/api_docs/python/tf/function for  more details.\n"
     ]
    },
    {
     "data": {
      "text/plain": [
       "102.35542"
      ]
     },
     "execution_count": 99,
     "metadata": {},
     "output_type": "execute_result"
    }
   ],
   "source": [
    "model.predict([24.4])[0][0]"
   ]
  },
  {
   "cell_type": "code",
   "execution_count": 100,
   "metadata": {},
   "outputs": [
    {
     "name": "stdout",
     "output_type": "stream",
     "text": [
      "WARNING:tensorflow:7 out of the last 13 calls to <function Model.make_predict_function.<locals>.predict_function at 0x7fd61fe53280> triggered tf.function retracing. Tracing is expensive and the excessive number of tracings could be due to (1) creating @tf.function repeatedly in a loop, (2) passing tensors with different shapes, (3) passing Python objects instead of tensors. For (1), please define your @tf.function outside of the loop. For (2), @tf.function has experimental_relax_shapes=True option that relaxes argument shapes that can avoid unnecessary retracing. For (3), please refer to https://www.tensorflow.org/tutorials/customization/performance#python_or_tensor_args and https://www.tensorflow.org/api_docs/python/tf/function for  more details.\n"
     ]
    },
    {
     "data": {
      "text/plain": [
       "array([[44.346535]], dtype=float32)"
      ]
     },
     "execution_count": 100,
     "metadata": {},
     "output_type": "execute_result"
    }
   ],
   "source": [
    "model.predict([12])"
   ]
  },
  {
   "cell_type": "markdown",
   "metadata": {},
   "source": [
    "\n",
    "### Summary and Conclusions\n",
    "\n",
    "Overall there are limitations in what we can predict given this dataset. As shown above in the research section, usually more features are used in predicting power output from wind speeds. Mention some of these here.\n",
    "It is still impressive how an artificial neural network can quite closely model the power curve given such limited inputs as a single column of numbers.\n",
    "Playing with the neural networks does seem to involve a lot of trial and error but I think I would need to learn more about why you would choose one parameter over another, the number of neurons, number of layers, cost functions etc.\n",
    "The model seems to under predict the power values for the lower values of speed. This is as I expected earlier given that when wind speeds are too low to generate power, the stored power is used later. Look back at the article that mentioned this above.\n",
    "\n",
    "The dataset was cleaned by removing some of the zero values as initially leaving all the zero values in seemed to pull the curve down too much and the predictions were quite a bit off. \n",
    "\n",
    "\n",
    "error = model.evaluate(X_test, y_test, verbose=0)\n",
    "print('MSE: %.3f, RMSE: %.3f' % (error, np.sqrt(error)))\n",
    "\n",
    "The first time I looked at this I was wondering if the data values represented measurements over a particular period of time and if the lower values of power might be related to the time taken for the turbines to get up and running before they could generate any power or if some of the zero power values were related to periodic maintenance when the turbines might get switched off. There does seem to be some linear relationship between the two variables for the middle portion of the dataset and the power generated does seem to level off after a particular point but overall the relationship is strong but non-linear.\n",
    "\n",
    "However looking at the raw data in the csv file, the rows are ordered by ascending values of speed column with the corresponding power values in the other column. There is no indication as to how the data values were collected and therefore I don't think I can make any judgements about the data over a particular timeframe. There are only two columns of numerical data provided with no indication provided as to their measurement units.  I will just focus on trying to use some algorithms to predict the power values based on the input values of speed. "
   ]
  },
  {
   "cell_type": "markdown",
   "metadata": {},
   "source": [
    "# References\n",
    "- [1] Dataset: [power production dataset](https://raw.githubusercontent.com/ianmcloughlin/2020A-machstat-project/master/dataset/powerproduction.csv) from Ian McLoughlin Github\n",
    "\n",
    "- [2] Website: [The Irish Wind Energy Association (IWEA)](https://www.iwea.com/about-us/about-us)\n",
    "- [3] Website: [Smart grid dashboard](http://smartgriddashboard.eirgrid.com/#all/about/wind\n",
    "- [4] Website: [Wind Energy Basics](https://windeurope.org/about-wind/wind-basics/)\n",
    "- [5] Website: [how to calculate power output of wind](https://www.windpowerengineering.com/calculate-wind-power-output/)\n",
    "- [6] Website [calculating energy production from weather forecast in Python](https://medium.com/planet-os/calculating-energy-production-from-weather-forecast-in-python-3c990047daa)\n",
    "- [7] Research Article: [Wind Turbine Power Curve Modeling Using\n",
    "Advanced Parametric and Nonparametric Methods](http://ieeexplore.ieee.org/iel7/5165391/5433168/06894235.pdf) link provided by [6]\n",
    "- [8] [Using_machine_learning_to_predict_wind_turbine_power_output](https://www.researchgate.net/publication/257748412_Using_machine_learning_to_predict_wind_turbine_power_output)\n",
    "- [9] Website: [Wikipedia](https://en.wikipedia.org/wiki/Wind_turbine_design)\n",
    "- [10] Website: https://www.wind-watch.org/faq-technology.php\n",
    "\n",
    "- Using machine learning to predict wind turbine power output by A Clifton, L Kilcher, J K Lundquist and P Fleming, ENVIRONMENTAL RESEARCH LETTERS, doi:10.1088/1748-9326/8/2/024009, Environ. Res. Lett. 8 (2013) 024009 (8pp)\n",
    "\n",
    "- Wind Turbine Power Curve Modeling Using Advanced Parametric and Nonparametric Methods by Shahab Shokrzadeh, Student Member, IEEE, Mohammad Jafari Jozani, and Eric Bibeau. IEEE TRANSACTIONS ON SUSTAINABLE ENERGY, VOL. 5, NO. 4, OCTOBER 2014.  Available from https://ieeexplore.ieee.org/stamp/stamp.jsp?arnumber=6894235\n",
    "\n",
    "### Machine learning:\n",
    "- [11]Website: [The Importance of Data Splitting](https://realpython.com/train-test-split-python-data/)\n",
    "- [12] Website [Polynomial Regressions - extending linear models](https://scikit-learn.org/stable/modules/linear_model.html#polynomial-regression-extending-linear-models-with-basis-functions)\n",
    "- [13][Polynomial Regression with Scikit learn: What You Should Know](https://towardsdatascience.com/polynomial-regression-with-scikit-learn-what-you-should-know-bed9d3296f2)\n",
    "- [14][How to fit a polynomial curve to data using scikit-learn](https://stackoverflow.com/questions/32660231/how-to-fit-a-polynomial-curve-to-data-using-scikit-learn/32660433)\n",
    "- [15][Python Implementation of Polynomial Regression](https://www.geeksforgeeks.org/python-implementation-of-polynomial-regression/)\n",
    "- [16][sklearn.metrics.r2_score](https://scikit-learn.org/stable/modules/generated/sklearn.metrics.r2_score.html)\n",
    "- [17][Artificial Neural Networks](https://www.investopedia.com/terms/a/artificial-neural-networks-ann.asp#:~:text=An%20artificial%20neural%20network%20(ANN)%20is%20the%20piece%20of%20a,by%20human%20or%20statistical%20standards.)\n",
    "- [18][Mit News](https://news.mit.edu/2017/explained-neural-networks-deep-learning-0414)\n",
    "- [19][Tensorflow Tutorial](https://machinelearningmastery.com/tensorflow-tutorial-deep-learning-with-tf-keras/)\n",
    "- [20][Tensorflow/tf/keras](https://www.tensorflow.org/api_docs/python/tf/keras)\n",
    "\n",
    "- [21] [Tensorflow](https://www.tensorflow.org/api_docs/python/tf/keras/optimizers/Adam]\n",
    "- Website: [Machine Learning Mastery](https://machinelearningmastery.com/supervised-and-unsupervised-machine-learning-algorithms/)\n",
    "- [22][Activation functions](https://medium.com/the-theory-of-everything/understanding-activation-functions-in-neural-networks-9491262884e0)\n",
    "\n",
    "-  [the importance of batch sizes](https://machinelearningmastery.com/how-to-control-the-speed-and-stability-of-training-neural-networks-with-gradient-descent-batch-size/)\n",
    "\n",
    "-  [Data Leakage  in Machine Learning](https://machinelearningmastery.com/data-leakage-machine-learning/)\n",
    "- [Normalisation before or after splitting the data into training and test sets](https://datascience.stackexchange.com/questions/54908/data-normalization-before-or-after-train-test-split#:~:text=3%20Answers&text=Normalization%20across%20instances%20should%20be,data%20from%20the%20training%20set.&text=Using%20any%20information%20coming%20from,the%20evaluation%20of%20the%20performance.)\n",
    "- [Neural Networks](https://www.investopedia.com/terms/n/neuralnetwork.asp#:~:text=A%20neural%20network%20is%20a,organic%20or%20artificial%20in%20nature.)\n",
    "- [Artificial Neural Network](https://en.wikipedia.org/wiki/Artificial_neural_network)\n",
    "\n",
    "- https://news.mit.edu/2017/explained-neural-networks-deep-learning-0414\n",
    "\n",
    "### Other wind turbine research:\n",
    "- [sem-o.com](https://www.sem-o.com/links/) some more links on \n",
    "- [WindEurope](https://windeurope.org/data-and-analysis/)\n",
    "- http://www.eirgridgroup.com/how-the-grid-works/renewables/\n",
    "- https://www.wind-watch.org/faq-technology.php\n",
    "- https://www.sciencedirect.com/topics/engineering/rated-wind-speed \n",
    "\n",
    "\n",
    "\n",
    "- Website: [Machine Learning: Polynomial Regression with Python](https://towardsdatascience.com/machine-learning-polynomial-regression-with-python-5328e4e8a386)\n",
    "\n",
    "\n",
    "- Website: [Linear Regression Example](https://scikit-learn.org/stable/auto_examples/linear_model/plot_ols.html#sphx-glr-auto-examples-linear-model-plot-ols-py)\n",
    "\n",
    "- Website: [Polynomial Regression with Python](https://towardsdatascience.com/machine-learning-polynomial-regression-with-python-5328e4e8a386)\n",
    "- Website: [Python | Implementation of Polynomial Regression](https://www.geeksforgeeks.org/python-implementation-of-polynomial-regression/)\n",
    "\n",
    "- Website: [Polynomial Regression in Python](https://medium.com/ai-in-plain-english/implementing-polynomial-regression-in-python-d9aedf520d56)\n",
    "\n",
    "- Video: [Understanding Polynomial Regression](https://www.youtube.com/watch?v=UedwCvFGlvU) by \n",
    "Mazen Ahmed\n",
    "\n",
    "- Website: [What does RMSE really mean?](https://towardsdatascience.com/what-does-rmse-really-mean-806b65f2e48e) Blog article by James Moody\n",
    "\n",
    "- Website: [Batch Normalization Tensorflow Keras Example](https://towardsdatascience.com/backpropagation-and-batch-normalization-in-feedforward-neural-networks-explained-901fd6e5393e)\n",
    "\n",
    "- Website: [How to normalize features in TensorFlow](https://towardsdatascience.com/how-to-normalize-features-in-tensorflow-5b7b0e3a4177)\n",
    "- Website: [Data Leakage in Machine Learning](https://machinelearningmastery.com/data-leakage-machine-learning/)\n",
    "- Website: [Tutorial on First Neural Network with Python Keras](https://machinelearningmastery.com/tutorial-first-neural-network-python-keras/)\n",
    "- Website: [How to use Data Scaling Improve Deep Learning Model Stability and Performance](https://machinelearningmastery.com/how-to-improve-neural-network-stability-and-modeling-performance-with-data-scaling/)\n",
    "- Website: [TensorFlow 2 Tutorial: Get Started in Deep Learning With tf.keras](https://machinelearningmastery.com/tensorflow-tutorial-deep-learning-with-tf-keras/)\n",
    "\n",
    "- Website: [Tensorflow](https://www.tensorflow.org/api_docs/python/tf/data/Dataset)\n",
    "- Website: [Install TensorFlow with pip](https://www.tensorflow.org/install/pip)\n",
    "\n",
    "- Website: [Keras Training Guide](https://keras.io/guides/training_with_built_in_methods/)\n",
    "\n",
    "- Website: [pandas.DataFrame.drop](https://pandas.pydata.org/pandas-docs/stable/reference/api/pandas.DataFrame.drop.html)\n",
    "\n",
    "- Website: [pandas.Dataframe.drop](https://pandas.pydata.org/pandas-docs/stable/reference/api/pandas.DataFrame.drop.html\n",
    " https://thispointer.com/python-pandas-how-to-drop-rows-in-dataframe-by-conditions-on-column-values/)\n",
    " \n",
    "- Website: [Neural Network](https://www.computing.dcu.ie/~humphrys/Notes/Neural/sigmoid.html)"
   ]
  },
  {
   "cell_type": "markdown",
   "metadata": {},
   "source": [
    "### End"
   ]
  },
  {
   "cell_type": "markdown",
   "metadata": {},
   "source": [
    "\n",
    "### Normalisation / Scaling the data or not!\n",
    "The [Introduction to Keras for Engineers](https://keras.io/getting_started/intro_to_keras_for_engineers/) does suggest that data preprocessing should be done such as feature normalisation.\n",
    "- Do preprocessing such as feature normalisation.\n",
    "The data consists of two columns of data and thats it. The only preprocesing that is applicable here is to rescale the data to small values as in general the input values to a neural network should be close to zero. According to the tutorial  the data should either be rescaled to have zero-mean and unit-variance or the data in the `[0.1]` range. The preprocessing should ideally be done as part of the model to make it more portable in production. In Keras the preprocessing is done via preprocessing layers which can be included directly into your model either during training or after training. Some preprocessing layers have a state, in this case normalization holds the mean and variance of the features and can be obtained by calling `layer.adapt(data)` on a sample or all of the training data.\n",
    "\n",
    "CSV data needs to be parsed, with numerical features converted to floating point tensors and categorical features indexed and converted to integer tensors. Then each feature typically needs to be normalized to zero-mean and unit-variance.\n",
    "\n",
    "Many examples in blogs only scale the inputs or the target variable but in this dataset we only have a single input variable and a single target variable. Without scaling the model does quite a good job considering all it has are two single columns of numbers. The wind speed seems to be uniformly distributed. I might just note it here but in the final model go without scaling.\n",
    "The model can be updated to scale the target variable. \n",
    ">Reducing the scale of the target variable will, in turn, reduce the size of the gradient used to update the weights and result in a more stable model and training process. [Data Scaling to improve the network](https://machinelearningmastery.com/how-to-improve-neural-network-stability-and-modeling-performance-with-data-scaling/)[123345]\n",
    "\n",
    "According to this article, a good rule of thumb is that input variables should be small values, probably in the range of 0-1 or standardized with a zero mean and a standard deviation of one.\n",
    ">If the distribution of the quantity is normal, then it should be standardized, otherwise the data should be normalized.\n",
    "If in doubt, normalise the input sequence.\n",
    "\n",
    ">The output variable is the variable predicted by the network. If the distribution of the value is normal, then you can standardize the output variable. Otherwise, the output variable can be normalized.\n",
    "\n",
    "Normalization is a rescaling of the data from the original range so that all values are within the range of 0 and 1. \n",
    "Scikit-learn's preprocessing module can be used to scale the data.\n",
    ">Standardization of datasets is a common requirement for many machine learning estimators implemented in scikit-learn; they might behave badly if the individual features do not more or less look like standard normally distributed data: Gaussian with zero mean and unit variance. In practice we often ignore the shape of the distribution and just transform the data to center it by removing the mean value of each feature, then scale it by dividing non-constant features by their standard deviation.\n",
    "https://scikit-learn.org/stable/modules/preprocessing.html#preprocessing\n",
    "\n",
    "The data can be scaled to lie between a given minimum and maximum value such as between zero and one or so that the maximum absolute value of each feature is scaled to unit size. \n",
    "\n",
    "Normalization should be done after splitting the data into train and test/validation to avoid data leakage. Data leakage is where information from outside the dataset is used to train the model.\n",
    "Normalization across instances should be done after splitting the data between training and test set, using only the data from the training set. This is because the test set plays the role of fresh unseen data, so it's not supposed to be accessible at the training stage. Using any information coming from the test set before or during training is a potential bias in the evaluation of the performance.\n",
    "\n",
    "As yet I am not fully sure whether I should scale outputs as well as inputs but I think I should as we only have a single input feature to train the model on and predict the outputs.\n",
    "\n",
    "Continuing with following this blog:\n",
    "https://machinelearningmastery.com/how-to-improve-neural-network-stability-and-modeling-performance-with-data-scaling/\n",
    "\n",
    ">It is best practice is to estimate the mean and standard deviation of the training dataset and use these variables to scale the train and test dataset. This is to avoid any data leakage during the model evaluation process.\n",
    ">The scikit-learn transformers expect input data to be matrices of rows and columns, therefore the 1D arrays for the target variable will have to be reshaped into 2D arrays prior to the transforms.\n",
    "\n"
   ]
  }
 ],
 "metadata": {
  "kernelspec": {
   "display_name": "Python 3",
   "language": "python",
   "name": "python3"
  },
  "language_info": {
   "codemirror_mode": {
    "name": "ipython",
    "version": 3
   },
   "file_extension": ".py",
   "mimetype": "text/x-python",
   "name": "python",
   "nbconvert_exporter": "python",
   "pygments_lexer": "ipython3",
   "version": "3.8.2"
  }
 },
 "nbformat": 4,
 "nbformat_minor": 4
}
