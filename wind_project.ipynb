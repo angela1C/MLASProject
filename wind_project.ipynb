{
 "cells": [
  {
   "cell_type": "markdown",
   "metadata": {},
   "source": [
    "# Machine Learning and Statistics Project 2020\n",
    "by Angela Carpenter\n",
    "- [power production dataset](https://raw.githubusercontent.com/ianmcloughlin/2020A-machstat-project/master/dataset/powerproduction.csv) from Ian McLoughlin Github"
   ]
  },
  {
   "cell_type": "markdown",
   "metadata": {},
   "source": [
    "# Table of Contents\n",
    "- Project Instructions / Overview\n",
    "- Project plan\n",
    "- About this Notebook\n",
    "- Python Libraries\n",
    "- Downloading and running the code\n",
    "- Loading / Reading in the dataset\n",
    "- Exploring the dataset\n",
    "- Describing the dataset\n",
    "- Summary Statistics\n",
    "- Visualising the dataset using plots\n",
    "- Summary and Conclusions\n",
    "- References\n",
    "\n",
    "\n",
    "## Project Instructions\n",
    "\n",
    "In this project you must create a web service that uses machine learning to make pre- dictions based on the data set powerproduction available on Moodle. The goal is to produce a model that accurately predicts wind turbine power output from wind speed values, as in the data set. You must then develop a web service that will respond with predicted power values based on speed values sent as HTTP requests. Your submission must be in the form of a git repository containing, at a minimum, the following items.\n",
    "1. Jupyter notebook that trains a model using the data set. In the notebook you should explain your model and give an analysis of its accuracy.\n",
    "2. Python script that runs a web service based on the model, as above.\n",
    "3. Dockerfile to build and run the web service in a container.\n",
    "4. Standard items in a git repository such as a README.\n",
    "To enhance your submission, you might consider developing and comparing more than one model. Rest assured, all the above concepts will be explored in lecture videos and other materials in the coming semester.\n",
    "\n",
    "### notes to self\n",
    "\n",
    "The goal of this project is to produce a model that accurately predicts wind turbine power output from wind speed values, as in the data set. The first time I looked at this I was wondering if the data values represented measurements over a particular period of time and if the lower values of power might be related to the time taken for the turbines to get up and running before they could generate any power or if some of the zero power values were related to periodic maintenance when the turbines might get switched off. There does seem to be some linear relationship between the two variables for the middle portion of the dataset and the power generated does seem to level off after a particular point but overall the relationship is strong but non-linear.\n",
    "\n",
    "However looking at the raw data in the csv file, the rows are ordered by ascending values of speed column with the corresponding power values in the other column. There is no indication as to how the data values were collected and therefore I don't think I can make any judgements about the data over a particular timeframe. There are only two columns of numerical data provided with no indication provided as to their measurement units.  I will just focus on trying to use some algorithms to predict the power values based on the input values of speed.  \n",
    "\n",
    "- whether to keep all zeros in or out\n",
    "- scaling the input and output values\n",
    "- I trained a neural network with and without the zeros, definitely the learning curve looks much better when the zeros are dropped. I first only dropped the zero values for the very high speed values as the turbines would be switched off in dangerous winds. I then tried dropping all, then some!\n",
    "- I also need to look at the web app side of it so I won't get carried away on training the model until I have this up and running even if the model is not perfect. It seems to be a case of playing around with the parameters and it is surprising how well the NN models the data given only single numerical values fed into it.\n",
    "- dfx is a copy of df with some zeros dropped (speed values over 24.4)\n",
    "- dfz is a copy of df with all zeros dropped, or maybe it was zeros where power was over a certain value. Anyway its near the end of the notebook.\n",
    "- I will probably lose all the numpy polyfit regression models and maybe leave in the higher order polynomial using scikit learn.\n",
    "- I might look again at scikit learn to see if there are any other models to try. if I have time that it...\n",
    "- I do have docker installed.\n",
    "- I am following some machine learning mastery tutorials which are really informative. Also the keras for engineers.\n",
    "- cleaned up some unnecesary statistics below and consolidated the exploratory plots.\n",
    "- Need to tidy up the section on a brief background of wind turbines, just to see how it relates to the s-curve and not going into the physics of how wind turbines actually work. \n",
    "- I did the seabron regression plots on the full dataset so I might just try it quickly on the cleaned dataset without all the zero values.\n",
    "- Need to decide on final parameters for the keras neural network and save a model to use with a flask app.\n",
    "- Need to set up the flask app and virtual envirnoment. First clean up this notebook some more.\n",
    "- the h5 file does not seem to be correct. maybe there is another format to save it as.\n",
    "\n"
   ]
  },
  {
   "cell_type": "markdown",
   "metadata": {},
   "source": [
    "#### Read in the dataset"
   ]
  },
  {
   "cell_type": "code",
   "execution_count": 1,
   "metadata": {},
   "outputs": [],
   "source": [
    "# first importing the following libraries\n",
    "import numpy as np\n",
    "import pandas as pd  \n",
    "import matplotlib.pyplot as plt \n",
    "import seaborn as sns\n",
    "\n",
    "import csv"
   ]
  },
  {
   "cell_type": "code",
   "execution_count": 2,
   "metadata": {},
   "outputs": [],
   "source": [
    "# save link to data and reference the link \n",
    "csv_url = 'https://raw.githubusercontent.com/ianmcloughlin/2020A-machstat-project/master/dataset/powerproduction.csv'\n",
    "# read the csv data into a pandas dataframe\n",
    "df = pd.read_csv(csv_url)\n",
    "df\n",
    "# write the dataframe to csv\n",
    "df.to_csv('df.csv')\n",
    "# make a copy of the dataframe\n",
    "dfx = df.copy()"
   ]
  },
  {
   "cell_type": "markdown",
   "metadata": {},
   "source": [
    "The power variable represents wind turbine power output and the speed values are wind speed values."
   ]
  },
  {
   "cell_type": "markdown",
   "metadata": {},
   "source": [
    "The [DataFrame.to_numpy()](https://pandas.pydata.org/docs/reference/api/pandas.DataFrame.to_numpy.html#pandas.DataFrame.to_numpy) function `df.to_numpy()` gives a NumPy representation of the underlying data. It converts the dataframe to a numpy array which may be useful here given that the data is all numerical types (floats64)."
   ]
  },
  {
   "cell_type": "code",
   "execution_count": 3,
   "metadata": {},
   "outputs": [
    {
     "name": "stdout",
     "output_type": "stream",
     "text": [
      "The first few rows in the dataset: \n",
      "\n",
      "    speed  power\n",
      "0  0.000    0.0\n",
      "1  0.125    0.0\n",
      "2  0.150    0.0\n",
      "\n",
      " The final few rows in the dataset \n",
      "       speed  power\n",
      "497  24.875    0.0\n",
      "498  24.950    0.0\n",
      "499  25.000    0.0\n",
      "The index of the DataFrame:  RangeIndex(start=0, stop=500, step=1)\n",
      "The dtypes in the dataframe are:\n",
      "\n",
      "speed    float64\n",
      "power    float64\n",
      "dtype: object\n"
     ]
    }
   ],
   "source": [
    "print(\"The first few rows in the dataset: \\n\\n\", df.head(3))  # look at the top 5 rows of the DataFrame df\n",
    "print('\\n The final few rows in the dataset \\n',df.tail(3)) # Look at the bottom 5 rows of the DataFrame\n",
    "print(\"The index of the DataFrame: \", df.index) # the index or row labels of the DataFrame\n",
    "print(\"The dtypes in the dataframe are:\", end='\\n\\n')\n",
    "\n",
    "print(df.dtypes) # the data types attributes for each column in df"
   ]
  },
  {
   "cell_type": "markdown",
   "metadata": {},
   "source": [
    "### Zero and Null values\n",
    "\n",
    "There are no null values in the dataset but there are some zero values. Null values are not zero in Python.\n",
    "While there is only one zero value for the `speed` variable, there are 49 zero values for the `power` variable.\n",
    "\n",
    "(Will look at the distribution of values to see if the zero values are very unusual compared to the remaining 451 values for the power variable.)"
   ]
  },
  {
   "cell_type": "code",
   "execution_count": 4,
   "metadata": {},
   "outputs": [
    {
     "name": "stdout",
     "output_type": "stream",
     "text": [
      "speed    0\n",
      "power    0\n",
      "dtype: int64\n"
     ]
    },
    {
     "data": {
      "text/plain": [
       "False"
      ]
     },
     "execution_count": 4,
     "metadata": {},
     "output_type": "execute_result"
    }
   ],
   "source": [
    "print(df.isnull().sum())\n",
    "df.notnull().sum()\n",
    "df.isnull().values.any()"
   ]
  },
  {
   "cell_type": "code",
   "execution_count": 5,
   "metadata": {},
   "outputs": [
    {
     "data": {
      "text/plain": [
       "True"
      ]
     },
     "execution_count": 5,
     "metadata": {},
     "output_type": "execute_result"
    }
   ],
   "source": [
    "# https://stackoverflow.com/questions/50767452/check-if-dataframe-has-a-zero-element\n",
    "0 in df.values\n",
    "df.isin([0]).any().any()"
   ]
  },
  {
   "cell_type": "code",
   "execution_count": 6,
   "metadata": {},
   "outputs": [
    {
     "data": {
      "text/plain": [
       "speed     1\n",
       "power    49\n",
       "dtype: int64"
      ]
     },
     "execution_count": 6,
     "metadata": {},
     "output_type": "execute_result"
    }
   ],
   "source": [
    "#https://stackoverflow.com/questions/29229600/counting-number-of-zeros-per-row-by-pandas-dataframe\n",
    "\n",
    "df.isin([0]).sum()"
   ]
  },
  {
   "cell_type": "code",
   "execution_count": 7,
   "metadata": {
    "scrolled": true
   },
   "outputs": [
    {
     "data": {
      "text/html": [
       "<div>\n",
       "<style scoped>\n",
       "    .dataframe tbody tr th:only-of-type {\n",
       "        vertical-align: middle;\n",
       "    }\n",
       "\n",
       "    .dataframe tbody tr th {\n",
       "        vertical-align: top;\n",
       "    }\n",
       "\n",
       "    .dataframe thead th {\n",
       "        text-align: right;\n",
       "    }\n",
       "</style>\n",
       "<table border=\"1\" class=\"dataframe\">\n",
       "  <thead>\n",
       "    <tr style=\"text-align: right;\">\n",
       "      <th></th>\n",
       "      <th>speed</th>\n",
       "      <th>power</th>\n",
       "    </tr>\n",
       "  </thead>\n",
       "  <tbody>\n",
       "    <tr>\n",
       "      <th>0</th>\n",
       "      <td>0.000</td>\n",
       "      <td>0.0</td>\n",
       "    </tr>\n",
       "    <tr>\n",
       "      <th>1</th>\n",
       "      <td>0.125</td>\n",
       "      <td>0.0</td>\n",
       "    </tr>\n",
       "    <tr>\n",
       "      <th>2</th>\n",
       "      <td>0.150</td>\n",
       "      <td>0.0</td>\n",
       "    </tr>\n",
       "    <tr>\n",
       "      <th>3</th>\n",
       "      <td>0.225</td>\n",
       "      <td>0.0</td>\n",
       "    </tr>\n",
       "    <tr>\n",
       "      <th>4</th>\n",
       "      <td>0.275</td>\n",
       "      <td>0.0</td>\n",
       "    </tr>\n",
       "  </tbody>\n",
       "</table>\n",
       "</div>"
      ],
      "text/plain": [
       "   speed  power\n",
       "0  0.000    0.0\n",
       "1  0.125    0.0\n",
       "2  0.150    0.0\n",
       "3  0.225    0.0\n",
       "4  0.275    0.0"
      ]
     },
     "execution_count": 7,
     "metadata": {},
     "output_type": "execute_result"
    }
   ],
   "source": [
    "df.sort_values(by='speed').head()"
   ]
  },
  {
   "cell_type": "code",
   "execution_count": 8,
   "metadata": {},
   "outputs": [
    {
     "data": {
      "text/html": [
       "<div>\n",
       "<style scoped>\n",
       "    .dataframe tbody tr th:only-of-type {\n",
       "        vertical-align: middle;\n",
       "    }\n",
       "\n",
       "    .dataframe tbody tr th {\n",
       "        vertical-align: top;\n",
       "    }\n",
       "\n",
       "    .dataframe thead th {\n",
       "        text-align: right;\n",
       "    }\n",
       "</style>\n",
       "<table border=\"1\" class=\"dataframe\">\n",
       "  <thead>\n",
       "    <tr style=\"text-align: right;\">\n",
       "      <th></th>\n",
       "      <th>speed</th>\n",
       "      <th>power</th>\n",
       "    </tr>\n",
       "  </thead>\n",
       "  <tbody>\n",
       "    <tr>\n",
       "      <th>499</th>\n",
       "      <td>25.000</td>\n",
       "      <td>0.0</td>\n",
       "    </tr>\n",
       "    <tr>\n",
       "      <th>498</th>\n",
       "      <td>24.950</td>\n",
       "      <td>0.0</td>\n",
       "    </tr>\n",
       "    <tr>\n",
       "      <th>497</th>\n",
       "      <td>24.875</td>\n",
       "      <td>0.0</td>\n",
       "    </tr>\n",
       "    <tr>\n",
       "      <th>496</th>\n",
       "      <td>24.850</td>\n",
       "      <td>0.0</td>\n",
       "    </tr>\n",
       "    <tr>\n",
       "      <th>495</th>\n",
       "      <td>24.775</td>\n",
       "      <td>0.0</td>\n",
       "    </tr>\n",
       "  </tbody>\n",
       "</table>\n",
       "</div>"
      ],
      "text/plain": [
       "      speed  power\n",
       "499  25.000    0.0\n",
       "498  24.950    0.0\n",
       "497  24.875    0.0\n",
       "496  24.850    0.0\n",
       "495  24.775    0.0"
      ]
     },
     "execution_count": 8,
     "metadata": {},
     "output_type": "execute_result"
    }
   ],
   "source": [
    "df.sort_values(by='speed', ascending=False).head()"
   ]
  },
  {
   "cell_type": "code",
   "execution_count": 9,
   "metadata": {
    "scrolled": true
   },
   "outputs": [
    {
     "data": {
      "text/html": [
       "<div>\n",
       "<style scoped>\n",
       "    .dataframe tbody tr th:only-of-type {\n",
       "        vertical-align: middle;\n",
       "    }\n",
       "\n",
       "    .dataframe tbody tr th {\n",
       "        vertical-align: top;\n",
       "    }\n",
       "\n",
       "    .dataframe thead th {\n",
       "        text-align: right;\n",
       "    }\n",
       "</style>\n",
       "<table border=\"1\" class=\"dataframe\">\n",
       "  <thead>\n",
       "    <tr style=\"text-align: right;\">\n",
       "      <th></th>\n",
       "      <th>speed</th>\n",
       "      <th>power</th>\n",
       "    </tr>\n",
       "  </thead>\n",
       "  <tbody>\n",
       "    <tr>\n",
       "      <th>461</th>\n",
       "      <td>23.273</td>\n",
       "      <td>113.556</td>\n",
       "    </tr>\n",
       "    <tr>\n",
       "      <th>416</th>\n",
       "      <td>20.646</td>\n",
       "      <td>112.362</td>\n",
       "    </tr>\n",
       "    <tr>\n",
       "      <th>447</th>\n",
       "      <td>22.497</td>\n",
       "      <td>109.932</td>\n",
       "    </tr>\n",
       "    <tr>\n",
       "      <th>420</th>\n",
       "      <td>20.871</td>\n",
       "      <td>108.485</td>\n",
       "    </tr>\n",
       "    <tr>\n",
       "      <th>464</th>\n",
       "      <td>23.348</td>\n",
       "      <td>108.167</td>\n",
       "    </tr>\n",
       "  </tbody>\n",
       "</table>\n",
       "</div>"
      ],
      "text/plain": [
       "      speed    power\n",
       "461  23.273  113.556\n",
       "416  20.646  112.362\n",
       "447  22.497  109.932\n",
       "420  20.871  108.485\n",
       "464  23.348  108.167"
      ]
     },
     "execution_count": 9,
     "metadata": {},
     "output_type": "execute_result"
    }
   ],
   "source": [
    "df.sort_values(by='power', ascending=False).head()"
   ]
  },
  {
   "cell_type": "code",
   "execution_count": 10,
   "metadata": {},
   "outputs": [
    {
     "data": {
      "text/html": [
       "<div>\n",
       "<style scoped>\n",
       "    .dataframe tbody tr th:only-of-type {\n",
       "        vertical-align: middle;\n",
       "    }\n",
       "\n",
       "    .dataframe tbody tr th {\n",
       "        vertical-align: top;\n",
       "    }\n",
       "\n",
       "    .dataframe thead th {\n",
       "        text-align: right;\n",
       "    }\n",
       "</style>\n",
       "<table border=\"1\" class=\"dataframe\">\n",
       "  <thead>\n",
       "    <tr style=\"text-align: right;\">\n",
       "      <th></th>\n",
       "      <th>speed</th>\n",
       "      <th>power</th>\n",
       "    </tr>\n",
       "  </thead>\n",
       "  <tbody>\n",
       "    <tr>\n",
       "      <th>0</th>\n",
       "      <td>0.000</td>\n",
       "      <td>0.0</td>\n",
       "    </tr>\n",
       "    <tr>\n",
       "      <th>111</th>\n",
       "      <td>5.806</td>\n",
       "      <td>0.0</td>\n",
       "    </tr>\n",
       "    <tr>\n",
       "      <th>110</th>\n",
       "      <td>5.781</td>\n",
       "      <td>0.0</td>\n",
       "    </tr>\n",
       "    <tr>\n",
       "      <th>105</th>\n",
       "      <td>5.556</td>\n",
       "      <td>0.0</td>\n",
       "    </tr>\n",
       "    <tr>\n",
       "      <th>89</th>\n",
       "      <td>4.880</td>\n",
       "      <td>0.0</td>\n",
       "    </tr>\n",
       "  </tbody>\n",
       "</table>\n",
       "</div>"
      ],
      "text/plain": [
       "     speed  power\n",
       "0    0.000    0.0\n",
       "111  5.806    0.0\n",
       "110  5.781    0.0\n",
       "105  5.556    0.0\n",
       "89   4.880    0.0"
      ]
     },
     "execution_count": 10,
     "metadata": {},
     "output_type": "execute_result"
    }
   ],
   "source": [
    "df.sort_values(by='power').head()"
   ]
  },
  {
   "cell_type": "code",
   "execution_count": 11,
   "metadata": {
    "scrolled": true
   },
   "outputs": [
    {
     "data": {
      "text/html": [
       "<div>\n",
       "<style scoped>\n",
       "    .dataframe tbody tr th:only-of-type {\n",
       "        vertical-align: middle;\n",
       "    }\n",
       "\n",
       "    .dataframe tbody tr th {\n",
       "        vertical-align: top;\n",
       "    }\n",
       "\n",
       "    .dataframe thead th {\n",
       "        text-align: right;\n",
       "    }\n",
       "</style>\n",
       "<table border=\"1\" class=\"dataframe\">\n",
       "  <thead>\n",
       "    <tr style=\"text-align: right;\">\n",
       "      <th></th>\n",
       "      <th>speed</th>\n",
       "      <th>power</th>\n",
       "    </tr>\n",
       "  </thead>\n",
       "  <tbody>\n",
       "    <tr>\n",
       "      <th>0</th>\n",
       "      <td>0.000</td>\n",
       "      <td>0.0</td>\n",
       "    </tr>\n",
       "    <tr>\n",
       "      <th>1</th>\n",
       "      <td>0.125</td>\n",
       "      <td>0.0</td>\n",
       "    </tr>\n",
       "    <tr>\n",
       "      <th>2</th>\n",
       "      <td>0.150</td>\n",
       "      <td>0.0</td>\n",
       "    </tr>\n",
       "    <tr>\n",
       "      <th>3</th>\n",
       "      <td>0.225</td>\n",
       "      <td>0.0</td>\n",
       "    </tr>\n",
       "    <tr>\n",
       "      <th>4</th>\n",
       "      <td>0.275</td>\n",
       "      <td>0.0</td>\n",
       "    </tr>\n",
       "  </tbody>\n",
       "</table>\n",
       "</div>"
      ],
      "text/plain": [
       "   speed  power\n",
       "0  0.000    0.0\n",
       "1  0.125    0.0\n",
       "2  0.150    0.0\n",
       "3  0.225    0.0\n",
       "4  0.275    0.0"
      ]
     },
     "execution_count": 11,
     "metadata": {},
     "output_type": "execute_result"
    }
   ],
   "source": [
    "df.sort_values(by='speed').head()"
   ]
  },
  {
   "cell_type": "markdown",
   "metadata": {},
   "source": [
    "## Exploratory Data Analysis\n",
    "\n",
    "Exploratory data analysis generally involves both non-graphical methods which include calculation of summary statistics and graphical methods which summarises the data in a picture or a plot. These methods can be univariate where one variable is looked at at a time or multivariate where two or more variables are looked at together to explore relationships. First I will do so some univariate EDA on both of the components before going on to do multivariate EDA. \n",
    "Plots can highlight any obvious relationships between the different variables in the dataset. They can also be used to identify any groups of observations that are clearly separate to other groups of observations."
   ]
  },
  {
   "cell_type": "markdown",
   "metadata": {},
   "source": [
    "### The distribution of speed and power values\n",
    "Histograms are used to show the distribution of a single quantitative variable such as speed or power values, including the centre and spread of the distribution and if there is any skew in the data. \n",
    "\n",
    "The histogram of wind speed looks to be uniformly distributed with wind speed values spread out from zero up to 25 which seems to be the max speed value. Power values on the other hand looks to be bimodal with two defined peaks, one around zero power values and the second around the 100 kilowatt mark. \n",
    "\n",
    "The wind turbine power values seem to have a peak at very low values. This is not surprising given the large number of zero power values in this dataset. Almost 10% of the power values supplied are zero.  There is another peak around values of 95-100. Most of the remaining power values fall between 18 and 85.\n",
    "A scatter plot can be used to see if there is any visible relationship between the two variables. \n",
    "\n",
    "The scatter plot shows a non-linear relationship between wind speed values and power. There does appear to be a linear relationship for mid-range speed values only.\n",
    "- When wind speed increases from very low levels, the power does not increase by much or at all. \n",
    "- The wind turbine power values does start to increase with the wind speed from wind speed values of about 5 to about 18/19. \n",
    "- From wind speeds of 20 onwards to about 25 the power values increase no further and seem to level off. \n",
    "\n",
    "From looking at the curves and knowing very little about wind, you would guess that at very low winds there may not be enough speed to get the turbine up and running and generating power and that there might be a maximum power that can be achieved by the wind turbine regardless of how high the wind can go. Once the turbine is in motion, little is required to keep it going. Some of the power generated might be consumed by the turbine itself at low levels to get it started."
   ]
  },
  {
   "cell_type": "code",
   "execution_count": 12,
   "metadata": {},
   "outputs": [
    {
     "data": {
      "image/png": "[encoded data removed]",
      "text/plain": [
       "<Figure size 864x360 with 2 Axes>"
      ]
     },
     "metadata": {
      "needs_background": "light"
     },
     "output_type": "display_data"
    }
   ],
   "source": [
    "    %matplotlib inline\n",
    "\n",
    "    # plot the histograms of Speed values\n",
    "    f, axs = plt.subplots(1, 2, figsize=(12, 5))\n",
    "    sns.histplot(data=df, x=\"speed\", ax=axs[0], bins=20, kde=True,color=\"blue\")\n",
    "    sns.histplot(data=df, x=\"power\", alpha=.8, legend=False, ax=axs[1], bins=20, kde=True, color=\"purple\")\n",
    "\n",
    "    #plt.title(\"Speed vs Power\");\n",
    "    plt.suptitle(\"The distribution of the variables\")\n",
    "    f.tight_layout()"
   ]
  },
  {
   "cell_type": "markdown",
   "metadata": {},
   "source": [
    "### Summary statistics of the dataset\n",
    "When looking at quantitative variables such as wind speed and power values, the characteristics of interest are the centre, spread, modality (the number of peaks in the pdf), the shape of the distribution and the outliers.\n",
    "Panda's `describe` function generates statistics that summarize the central tendency, dispersion and shape of a dataset’s distribution. (excluding NaN values)\n",
    "The central tendency or location of the data distribution is determined by the typical or middle values. While the mean value is the average value in the dataset it may not be typical of the values in the dataset if there are very small or very large values in the dataset. The median is another measure of central tendancy - it is the middle value after all the values are put in an ordered list.\n",
    "The mean and median are similar for symmetric distributions whereas for unimodal skewed distributions the mean will be more in the direction of the long tail of the distribution. \n",
    "The median can be considered a more typical value in the dataset or closer to some of the typical values and is also considered [robust](https://en.wikipedia.org/wiki/Robust_statistics) which means that removing some of the data will not tend to change the value of the median. A few extreme values will not affect the median as they would affect the mean. \n",
    "In this dataset the mean and median wind speed values are similar at approx 12.5 to 12.6.\n",
    "The median power value is just over 41 compared to the mean power value of 48.\n",
    "As we saw above, there are many zero values for power in the dataset. At least 10% of the power values are zero and probably for valid reasons."
   ]
  },
  {
   "cell_type": "code",
   "execution_count": 13,
   "metadata": {},
   "outputs": [
    {
     "data": {
      "text/html": [
       "<div>\n",
       "<style scoped>\n",
       "    .dataframe tbody tr th:only-of-type {\n",
       "        vertical-align: middle;\n",
       "    }\n",
       "\n",
       "    .dataframe tbody tr th {\n",
       "        vertical-align: top;\n",
       "    }\n",
       "\n",
       "    .dataframe thead th {\n",
       "        text-align: right;\n",
       "    }\n",
       "</style>\n",
       "<table border=\"1\" class=\"dataframe\">\n",
       "  <thead>\n",
       "    <tr style=\"text-align: right;\">\n",
       "      <th></th>\n",
       "      <th>speed</th>\n",
       "      <th>power</th>\n",
       "    </tr>\n",
       "  </thead>\n",
       "  <tbody>\n",
       "    <tr>\n",
       "      <th>count</th>\n",
       "      <td>500.000000</td>\n",
       "      <td>500.000000</td>\n",
       "    </tr>\n",
       "    <tr>\n",
       "      <th>mean</th>\n",
       "      <td>12.590398</td>\n",
       "      <td>48.014584</td>\n",
       "    </tr>\n",
       "    <tr>\n",
       "      <th>std</th>\n",
       "      <td>7.224991</td>\n",
       "      <td>41.614572</td>\n",
       "    </tr>\n",
       "    <tr>\n",
       "      <th>min</th>\n",
       "      <td>0.000000</td>\n",
       "      <td>0.000000</td>\n",
       "    </tr>\n",
       "    <tr>\n",
       "      <th>25%</th>\n",
       "      <td>6.324750</td>\n",
       "      <td>5.288000</td>\n",
       "    </tr>\n",
       "    <tr>\n",
       "      <th>50%</th>\n",
       "      <td>12.550500</td>\n",
       "      <td>41.645500</td>\n",
       "    </tr>\n",
       "    <tr>\n",
       "      <th>75%</th>\n",
       "      <td>18.775250</td>\n",
       "      <td>93.537000</td>\n",
       "    </tr>\n",
       "    <tr>\n",
       "      <th>max</th>\n",
       "      <td>25.000000</td>\n",
       "      <td>113.556000</td>\n",
       "    </tr>\n",
       "  </tbody>\n",
       "</table>\n",
       "</div>"
      ],
      "text/plain": [
       "            speed       power\n",
       "count  500.000000  500.000000\n",
       "mean    12.590398   48.014584\n",
       "std      7.224991   41.614572\n",
       "min      0.000000    0.000000\n",
       "25%      6.324750    5.288000\n",
       "50%     12.550500   41.645500\n",
       "75%     18.775250   93.537000\n",
       "max     25.000000  113.556000"
      ]
     },
     "execution_count": 13,
     "metadata": {},
     "output_type": "execute_result"
    }
   ],
   "source": [
    "# get summary statistics of the numerical values, \n",
    "df.describe() # get statistics summary of the"
   ]
  },
  {
   "cell_type": "code",
   "execution_count": 14,
   "metadata": {},
   "outputs": [
    {
     "name": "stdout",
     "output_type": "stream",
     "text": [
      "The mean speed value is 12.590 while the median speed value  is 12.550\n",
      "The mean power value is 48.015 while the median power value  is 41.645\n"
     ]
    }
   ],
   "source": [
    "print(\"The mean speed value is %.3f\" %df['speed'].mean(),\"while the median speed value  is %.3f\" %df['speed'].quantile(q=0.5))\n",
    "print(\"The mean power value is %.3f\" %df['power'].mean(),\"while the median power value  is %.3f\" %df['power'].quantile(q=0.5))"
   ]
  },
  {
   "cell_type": "markdown",
   "metadata": {},
   "source": [
    "#### Spread statistics\n",
    "The variance and standard deviation statistics can be used to show the spread of the distribution of the speed and power data values and how far away from the centre the data points are located.\n",
    "The variance is the average of the squared deviations of each observation from the centre or mean of the data while the standard deviation is the square root of the variance and is in the same units as the data and therefore can be more easily interpreted. \n",
    "The range of values in the data is shown by the minimum and maximum values and is not considered a robust measure of spread but it is useful for showing possible errors or outliers. "
   ]
  },
  {
   "cell_type": "code",
   "execution_count": 15,
   "metadata": {},
   "outputs": [
    {
     "name": "stdout",
     "output_type": "stream",
     "text": [
      "The standard deviations of speed values  is 7.225\n",
      "The standard deviations of power values is 41.615\n",
      "The minimum speed value is 0.0 while the maximum speed value is 25.0 giving range of 25.0\n",
      "The minimum Power value is 0.0 while the maximum power value is 113.556 giving range of 113.556\n"
     ]
    }
   ],
   "source": [
    "#print(f\"The variance and standard deviations of speed values  are {df['speed'].var():.3f} and {df['speed'].std():.3f}\")\n",
    "#print(f\"The variance and standard deviations of power values are {df['power'].var():.3f} and {df['power'].std():.3f}\")\n",
    "print(f\"The standard deviations of speed values  is {df['speed'].std():.3f}\")\n",
    "print(f\"The standard deviations of power values is {df['power'].std():.3f}\")\n",
    "print(f\"The minimum speed value is {df['speed'].min()} while the maximum speed value is { df['speed'].max()} giving range of {df['speed'].max() - df['speed'].min()}\")\n",
    "print(f\"The minimum Power value is {df['power'].min()} while the maximum power value is { df['power'].max()} giving range of {df['power'].max() - df['power'].min()}\")"
   ]
  },
  {
   "cell_type": "markdown",
   "metadata": {},
   "source": [
    "The percentiles or quartiles of the speed and power values can be used to see the spread of the data values. The Interquartile range (IQR) is calculated by taking the 75% percentile or 3rd quartile minus the 25% percentile or first quartile and captures half of the values, the middle values of the data. Data that is more spread out will have a higher IQR. The IQR is considered a more robust measure of spread than the variance and standard deviation and will be more clearly shown in the boxplots further down. The IQR does not consider the data below the 25% percentile or above the 75% percentile which may contain outliers. The statistics here show that the *power* variable in this dataset is much more spread out or variable than the *speed* variable.  "
   ]
  },
  {
   "cell_type": "code",
   "execution_count": 16,
   "metadata": {},
   "outputs": [
    {
     "name": "stdout",
     "output_type": "stream",
     "text": [
      "The median speed value is 12.5505 with the IQR ranging from 6.32 to  18.78\n",
      "The median power value is 41.6455 with the IQR ranging from 5.29 to  93.54\n"
     ]
    }
   ],
   "source": [
    "print(f\"The median speed value is {df['speed'].quantile(q=0.5)} with the IQR ranging from {df['speed'].quantile(q=0.25):.2f} to  {df['speed'].quantile(q=0.75):.2f}\")\n",
    "print(f\"The median power value is {df['power'].quantile(q=0.5)} with the IQR ranging from {df['power'].quantile(q=0.25):.2f} to  {df['power'].quantile(q=0.75):.2f}\")"
   ]
  },
  {
   "cell_type": "code",
   "execution_count": 17,
   "metadata": {},
   "outputs": [
    {
     "data": {
      "image/png": "[encoded data removed]",
      "text/plain": [
       "<Figure size 864x288 with 2 Axes>"
      ]
     },
     "metadata": {
      "needs_background": "light"
     },
     "output_type": "display_data"
    }
   ],
   "source": [
    "f, axes = plt.subplots(1, 2, figsize=(12, 4))\n",
    "sns.set(style=\"ticks\", palette=\"pastel\")\n",
    "sns.boxplot(y=df['speed'], ax=axes[0], color=\"blue\")\n",
    "# add a title\n",
    "axes[0].set_title(\"Boxplot of Speed values\")\n",
    "sns.boxplot(y=df['power'], ax=axes[1], color=\"purple\")\n",
    "axes[1].set_title(\"Boxplot of Power Values\");"
   ]
  },
  {
   "cell_type": "markdown",
   "metadata": {},
   "source": [
    "## Investigating a relationship between Wind Speed and Wind Turbine Power output"
   ]
  },
  {
   "cell_type": "markdown",
   "metadata": {},
   "source": [
    "The skewness of the data is a measure of assymetry which can be seen by the lopsidedness of a boxplot.\n",
    "Wind speed appears to be quite symmetric. The wind speed boxplot is cut pretty much in half by the median. Power appears to be soemwhat skewed to the right as the boxplot shows more of the box to the right or above the median line.\n",
    "A boxplot with the median closer to the lower quartile is considered positively skewed. Positively skewed data has the mean greater than the median and it can be interpreted as having a higher frequency of high valued scores. The lower values of power are closer together than the higher power values.\n"
   ]
  },
  {
   "cell_type": "markdown",
   "metadata": {},
   "source": [
    "Scatter plots are useful to identify trends and patterns in a dataset which might indicate a relationship between variables. The dataset here contains two numerical variables wind speed and turbine power values. \n",
    "The ordered pairs of numbers consisting of the independent variable wind 'speed' and the dependent variable 'power' output are plotted below resulting in a joint distribution of the two variables. Each point represents an actual observation is the dataset with a speed and a corresponding power value. \n",
    "The scatter plot shows an increasing linear trend in the middle range of the wind speed values. This would indicate that for increasing wind speeds in this range, power output values do increase, but only after a minimum wind speed has been reached. Power outputs then increase in line with increases in wind speed until it reaches a peak and plateaus."
   ]
  },
  {
   "cell_type": "code",
   "execution_count": 18,
   "metadata": {},
   "outputs": [
    {
     "data": {
      "image/png": "[encoded data removed]",
      "text/plain": [
       "<Figure size 1008x720 with 1 Axes>"
      ]
     },
     "metadata": {},
     "output_type": "display_data"
    }
   ],
   "source": [
    "# create the plot\n",
    "\n",
    "\n",
    "\n",
    "plt.style.use('ggplot')\n",
    "\n",
    "# Plot size.\n",
    "plt.rcParams['figure.figsize'] = (14, 10)\n",
    "sns.scatterplot(x=df['speed'],y=df['power'])\n",
    "plt.grid(True)\n",
    "# add title\n",
    "plt.title(\"Scatter plot of Speed and Power\");"
   ]
  },
  {
   "cell_type": "markdown",
   "metadata": {},
   "source": [
    "#### Correlation and Covariance of Speed and Power values\n",
    " \n",
    "For two quantitative variables such as the wind speed and power values, the covariance and correlation can also be used to determine whether a linear relationship between variables does exist and to show if one variable tends to occur with large or small values of another variable. The correlation statistics puts a numerical value on the strength and direction of the relationship. The scatter plot shows a non-linear relationship between the variables. There appears to be a curved pattern in the data so the statistic cannot be taken on it's own.\n",
    "\n",
    "\n",
    "[Covariance](https://en.wikipedia.org/wiki/Covariance) is a measure of the joint variability of two random variables and the (Pearson) [correlation coefficient](https://en.wikipedia.org/wiki/Pearson_correlation_coefficient) is the normalised version of the covariance which shows by its magnitude the strength of the linear relation. The covariance can be used to see how much two variables such as wind speed and wind turbine power vary with each other and in what direction turbine power output will move when wind speed value moves. \n",
    "If the covariance here is positive it would mean that when the wind speed measurement is above it's mean then the wind turbine power measurement will more than likely be above it's mean also and vice versa. \n",
    "If the covarince here is negative, when wind speed measurements are above their mean value, then the wind turbine power output is likely to be below its mean value.\n",
    "If there is a zero covariance (or a covariance value close to zero) this implies that the two variables wind speed and wind turbine output vary independently of each other. \n",
    "\n",
    "The correlation statistics are computed from pairs of arguments. If there is a strong positive relationship between the wind speed and wind turbine power output variables, we would expect to see a correlation coefficient close to 1. A strong negative relationship would have a correlation coefficient value close to -1. A value close to zero would indicate that there is no relationship between the variables. The correlation is easier to interpret than the covariance as it does not depend on the units of measurement or which variable is the independent variable and which is the dependent variable. \n",
    "\n",
    "Pandas has functions for calculating the covariance and correlation coefficients. The correlation coefficient here of 0.85 shows there is a very strong positive relationship between the wind speed and turbine power output. It should be noted that correlation however is not the same as causation.\n",
    "\n",
    "The plots show that the relationship is non-linear though. Maybe look at rand correlation.\n",
    "https://realpython.com/numpy-scipy-pandas-correlation-python/"
   ]
  },
  {
   "cell_type": "code",
   "execution_count": 19,
   "metadata": {},
   "outputs": [
    {
     "name": "stdout",
     "output_type": "stream",
     "text": [
      "(0.8537775037188595, 2.8596889641534797e-143)\n",
      "SpearmanrResult(correlation=0.8187276026588616, pvalue=4.4287029757150813e-122)\n"
     ]
    },
    {
     "data": {
      "text/plain": [
       "KendalltauResult(correlation=0.7275042154337987, pvalue=1.630169049999099e-129)"
      ]
     },
     "execution_count": 19,
     "metadata": {},
     "output_type": "execute_result"
    }
   ],
   "source": [
    "import numpy as np\n",
    "import scipy.stats\n",
    "print(scipy.stats.pearsonr(df['speed'], df['power']))\n",
    "print(scipy.stats.spearmanr(df['speed'], df['power']))\n",
    "scipy.stats.kendalltau(df['speed'], df['power'])"
   ]
  },
  {
   "cell_type": "code",
   "execution_count": 20,
   "metadata": {},
   "outputs": [
    {
     "data": {
      "text/html": [
       "<div>\n",
       "<style scoped>\n",
       "    .dataframe tbody tr th:only-of-type {\n",
       "        vertical-align: middle;\n",
       "    }\n",
       "\n",
       "    .dataframe tbody tr th {\n",
       "        vertical-align: top;\n",
       "    }\n",
       "\n",
       "    .dataframe thead th {\n",
       "        text-align: right;\n",
       "    }\n",
       "</style>\n",
       "<table border=\"1\" class=\"dataframe\">\n",
       "  <thead>\n",
       "    <tr style=\"text-align: right;\">\n",
       "      <th></th>\n",
       "      <th>speed</th>\n",
       "      <th>power</th>\n",
       "    </tr>\n",
       "  </thead>\n",
       "  <tbody>\n",
       "    <tr>\n",
       "      <th>speed</th>\n",
       "      <td>1.000000</td>\n",
       "      <td>0.853778</td>\n",
       "    </tr>\n",
       "    <tr>\n",
       "      <th>power</th>\n",
       "      <td>0.853778</td>\n",
       "      <td>1.000000</td>\n",
       "    </tr>\n",
       "  </tbody>\n",
       "</table>\n",
       "</div>"
      ],
      "text/plain": [
       "          speed     power\n",
       "speed  1.000000  0.853778\n",
       "power  0.853778  1.000000"
      ]
     },
     "execution_count": 20,
     "metadata": {},
     "output_type": "execute_result"
    }
   ],
   "source": [
    "df.cov()\n",
    "df.corr()"
   ]
  },
  {
   "cell_type": "markdown",
   "metadata": {},
   "source": [
    "### Regression plots\n",
    "The Python Seaborn library has some regression plots that can be used to quickly visualise relationships and patterns that may exist in the data. They use statistical models to estimate a simple relationship between sets of observations and are mainly used to visualise patterns in a dataset during the exploratory data analysis.\n",
    "The scatter plot earlier showed a relationship between wind speeds and wind turbine power that is non-linear. There does seem to be a somewhat linear relationship for wind speeds between values of about 10 up to about 18 or so. Therefore it is worth looking at higher order polynomials as well as linear regression.\n",
    "The plot below shows that the polynomial with order 3 looks a much better fit to the line than the first or second order linear regression lines. "
   ]
  },
  {
   "cell_type": "code",
   "execution_count": 21,
   "metadata": {},
   "outputs": [
    {
     "data": {
      "image/png": "[encoded data removed]",
      "text/plain": [
       "<Figure size 864x432 with 4 Axes>"
      ]
     },
     "metadata": {},
     "output_type": "display_data"
    }
   ],
   "source": [
    "f, axes = plt.subplots(2, 2, figsize=(12, 6))\n",
    "x = \"speed\"\n",
    "y = \"power\"\n",
    "sns.regplot(x=\"speed\", y=\"power\", data=df, ax=axes[0,0], label=\"order = 1\", ci=False); axes[0,0].legend()\n",
    "sns.regplot(x=\"speed\", y=\"power\", data=df, order=2, ax=axes[0,1], label=\"order =2\", ci=False); axes[0,1].legend()\n",
    "sns.regplot(x=\"speed\", y=\"power\", data=df, order=3, ax=axes[1,0], label=\"order =3\", ci=False); axes[1,0].legend()\n",
    "sns.regplot(x=\"speed\", y=\"power\", data=df, order=4, ax=axes[1,1], label = \"order=4\"); axes[1,1].legend()\n",
    "plt.legend()\n",
    "plt.suptitle(\"Trying higher order polynomial regression functions to Speed and Power values\")\n",
    "plt.show()"
   ]
  },
  {
   "cell_type": "markdown",
   "metadata": {},
   "source": []
  },
  {
   "cell_type": "markdown",
   "metadata": {},
   "source": [
    "Residual plots can be used to check whether the simple regression model of speed ~ power  is appropriate for a dataset. The seaborn `residplot` fits and removes a simple linear regression and then plots the residual values for each observation. Ideally, these values should be randomly scattered around y = 0. If there is structure in the residuals, this suggests that simple linear regression is not appropriate for the data.\n",
    "\n",
    "The residual plot here does have a shape which suggest non-linearity in the data set."
   ]
  },
  {
   "cell_type": "code",
   "execution_count": 22,
   "metadata": {
    "scrolled": true
   },
   "outputs": [
    {
     "data": {
      "image/png": "[encoded data removed]",
      "text/plain": [
       "<Figure size 1008x720 with 1 Axes>"
      ]
     },
     "metadata": {},
     "output_type": "display_data"
    }
   ],
   "source": [
    "sns.residplot(x=\"speed\", y=\"power\", data=df, scatter_kws={\"s\": 80})\n",
    "plt.title(\"Residual plot\"); plt.show()"
   ]
  },
  {
   "cell_type": "markdown",
   "metadata": {},
   "source": [
    "---\n",
    "## Researching Wind Turbines\n",
    "### Drop most of this, just to explain the S-curve and the reasons for the zero values.\n",
    "\n",
    "The dataset consists of two columns each containing 500 floating numbers under the column names `speed` and `power`. There are no other features provided.  I'm not getting into too much specifics about wind turbines but some background would help in understanding the dataset and the relationship between wind speed and power output.\n",
    "The background to the project is related to wind farms supplying electricity to the supply grid and negotiating prices in advance.  In the electricity market, producers of electricity usually sell their electricity ahead of time and enter into a contract where they agree to produce a certain number of kilowatts of electricity during at a certain time, maybe between 11am one day and the next. The price is negotiated in advance of generating electricity and pushing it onto the supply grid. \n",
    "It is easier for those burning coal or gas or doing nuclear fusion to burn the right amount to generate the right amount of electricity. However with wind turbines you cannot tell how much electricity you will generate tomorrow because your generation of electricity depends on wind power. Therefore you can make an estimate by getting some meterological data from a weather prediction agent such as Met Eireann and use the weather prediction to help you predict how much electricity you are likely to produce. The prediction may not always be correct but you aim to reduce how often your calculations are wrong. The aim is to be able to predict that when wind speed is X amount that the power produced from the turbines is Y amount. \n",
    "\n",
    "A little research here suggests that the wind speed values are measured in metres per second and that the power values are measured in kilowatts.\n",
    "\n",
    "[The Irish Wind Energy Association (IWEA)](https://www.iwea.com/about-us/about-us) is the representative body for the Irish wind industry, working to promote wind energy as an essential, economical and environmentally friendly part of the country’s low-carbon energy future. They note here that in 2018 wind energy provided 29 per cent of Ireland’s electricity. Each quarter, both EirGrid and ESBN publish updated wind farm statistics for Ireland at [ESBN Connected Wind Farms](https://www.esbnetworks.ie/new-connections/generator-connections/generator-connection-statistics). There is currently 4,130 MW of installed capacity in ROI and new Eirgrid link here http://www.eirgridgroup.com/how-the-grid-works/renewables/\n",
    "\n",
    "Also on this website is a question about how much electricity a turbine generates. (See FAQ 16.)\n",
    ">The amount of electricity a turbine can generate depends on the type of turbine and the wind conditions at any time. There are many different models of turbines that can generate different amounts of electricity. Ireland’s largest wind farm is the Galway Wind Park in Connemara. The turbines there are 3 MW turbines. To use them as an example, when the wind is blowing steadily they can each generate 3 MW of electricity. A megawatt (MW) is a unit of energy.A single megawatt is equivalent to around 1,000 kilowatts. Boiling a kettle, for example, takes around two kilowatts.\n",
    "\n",
    "Another website of interest is Eirgrid's [Smart grid dashboard](http://smartgriddashboard.eirgrid.com/#all/about).\n",
    "The [dashboard](http://smartgriddashboard.eirgrid.com/#all/wind)shows actual and forecast wind generation by day, week and month for allwind farms on the system. [sem-o.com](https://www.sem-o.com/links/) also some links as well as Ireland's open data portal at  data.gov.ie and the [EU Open data portal](https://data.europa.eu)\n",
    "\n",
    "[WindEurope](https://windeurope.org/data-and-analysis/) has facts and issues about wind energy in Europe, in particular the section on [Wind Energy Basics](https://windeurope.org/about-wind/wind-basics/). Wind is caused by three things, the heating of the atmosphere by the sun, the rotation of the Earth and the Earth's surface irregularities. *air under high pressure moves toward areas of low pressure – and the greater the difference in pressure, the faster the air flows and the stronger the wind!* Energy is the ability to  do work and can be categorised into  either kinetic energy (the energy of moving objects)\n",
    "or potential energy (energy that is stored). Wind turbines take the kinetic energy that’s in the wind and convert that kinetic energy into mechanical power which is mostly used in the form of electricity.\n",
    "Wind energy captures the energy of the wind and converts it to electricity and is an alternative to burning fossil fuels. It comes from a natural and renewable resourse and it is clean as it produces no greenhouse gas, emits no air pollutants and uses very little water. \n",
    "A wind turbine is a device that converts kinetic energy from the wind into electricity. Their output ranges from as small as 100 kilowatts to as big as 12 megawatts.\n",
    "According to this website, there are three main variables determining how much electricity a turbine can produce,  wind speed, blade radius and air density. (We only have the values for wind speed in the dataset here so will have to assume that the other variables are constant)\n",
    "Stronger winds allow more electricity to be produced with higher turbines being more receptive to strong winds. **Wind turbines generate electricity at wind speeds of 4 – 25 metres per second** [123][Wind Energy Basics](https://windeurope.org/about-wind/wind-basics/)\n",
    "\n",
    "The article also outlines what happens when the wind doesn't blow. A wind farms location is usually chosen purposely and therefore when a wind turbine is not turning it is usually because of maintenance, or because it must be stopped for safety reasons in the case of strong winds or a storm. So safety and maintenances reasons do explain the zero power values we see in the data set at the very high values of wind. \n",
    "The article does note that while sometimes there might not be enough wind to turn a turbine, the wind energy is not lost as the wind energy can be stored  in energy storage systems  for later use whenever wind levels are low.\n",
    "I must look at this again - this could explain why there might be some higher values of power that look unusual compared to the norm for those levels of wind.\n",
    "\n",
    "Another article looks at [how to calculate power output of wind](https://www.windpowerengineering.com/calculate-wind-power-output/) and notes that most *U.S. manufacturers rate their turbines by the amount of power they can safely produce at a particular wind speed, usually chosen between 24 mph or 10.5 m/s and 36 mph or 16 m/s.*\n",
    "This indicates that the power values in the dataset are in metres per second.\n",
    "The article gives a formula that illustrates the factors important to the performance of a wind turbine and notes that the wind speed `V` has an exponent of 3 applied to it meaning that even small increases in wind speeds result in a large increase in power.\n",
    "$Power=k.Cp \\frac{1}{2}\\rho AV^3$  where P = power output in kilowatts, Cp = Maximum power coefficient, $\\rho$ is Air density, A = Rotor swept area, V = wind speed in mph, k = 0.000133 a constant to yield power in kilowatts.\n",
    "\n",
    "Additionally the article notes that although the calculation of wind power illustrates important features about wind turbines, the best measure of wind turbine performance is annual energy output. **The difference between power and energy is that power (kilowatts kW) is the rate at which electricity is consumed, while energy (kilowatt-hours kWh) is the quantity consumed.**\n",
    "I'm not sure if this makes a difference here for this project.\n",
    "\n",
    "A blog post [calculating energy production from weather forecast in Python](https://medium.com/planet-os/calculating-energy-production-from-weather-forecast-in-python-3c990047daa) on medium.com use a linear equation to calculate ideal wind production. They do note that modeling results can be enhanced via statistical analysis of hyper-local time series such as meteorological data and energy production data but for this project we do not have any of this data available.\n",
    "Each wind turbine manufacturer provides an ideal energy production curve for their turbines.\n",
    "The article provides a brief overview which is taken from another article [Wind Turbine Power Curve Modeling Using\n",
    "Advanced Parametric and Nonparametric Methods](http://ieeexplore.ieee.org/iel7/5165391/5433168/06894235.pdf):\n",
    "\n",
    "Of particular relevance to this projects is that a typical wind turbine has three main characteristic speeds, the cut-in speeds (Vc), rated speeds (Vr) and cut-out (Vs) speeds.  This helps explain the s-shaped curve we see for this dataset.\n",
    "- The turbine starts generating power when the wind speed reaches the cut-in value.\n",
    "- The rated speed is the wind speed at which the generator is producing the machine’s rated power.\n",
    "- The power generation is shut down to prevent defects and damage when the wind speed reaches the cut-out speed.\n",
    "Also the differences between the ideal power curves which just describe the potentially maximum output versus reality taking into account many factors as well as measurement variations.\n",
    "*In practice, however, wind turbines are never used under ideal conditions, and the empirical power curves could be substantially different from the theoretical ones due to the location of the turbine, air density, wind velocity distribution, wind direction, mechanical and control issues, as well as uncertainties in measurements.* [1234][Wind Turbine Power Curve Modeling Using\n",
    "Advanced Parametric and Nonparametric Methods](http://ieeexplore.ieee.org/iel7/5165391/5433168/06894235.pdf) linked to from the article on medium.com.\n",
    "(I'm just making notes that may be relevant to this project)\n",
    "While the ideal power curves simply describe potentially maximum output, accuracy could be improved by using more accurate accurate weather forecasts or various statistical methods such as machine learning. As in their case we do not have  historical data which we could use for statistical improvements but nor do we have hyper-local forecasts  as we don't know anything about the data.\n",
    "\n",
    "[Using_machine_learning_to_predict_wind_turbine_power_output](https://www.researchgate.net/publication/257748412_Using_machine_learning_to_predict_wind_turbine_power_output)\n",
    "This article notes that real wind turbines do not achieve their theoretical limit as their performance is a function to of aerodynamics and the need to limit power capture once the rated generator power is reached, at ‘rated’ windspeed. \n",
    ">The generator power, turbine diameter and bladeshape are optimized based on site characteristics such as annual average wind speed and the wind speed distribution. \n",
    "\n",
    "Turbine manufacturers measure their turbine’s ‘powercurve’ (the relationship between power output and windspeed) at turbine test sites where it is calculated from 10 min averaged wind speed ($U=\\bar{\\mu}$) and power.\n",
    "*The typical power curves have an s-shape where at wind speeds less than rated the energy capture is approximately proportional to $U^3$ (known as Region II). At wind speeds above rated, the bladepitch and generator torque are actively controlled to limit the power to the generator’s rated power (Region III).*\n",
    "\n",
    "Variations in atmospheric conditions can lead to changes in turbine power output of 10% or more at the same wind speed. Turbulence and shear and not usually used in the power curves as they are considered  difficult to include in turbine power predictions. The article also mentions that because of intermittency in the wind, wind turbines typically produce 20%–40% of their maximum possible output over the course of a year. There is a lot of uncertainty  in predicting power generation from a turbine using local wind speed data. If the amount of energy is overestimated then the site might not be as profitable as expected while underestimating the energy available at a site might lead to a site not being developed at all. This study simulated the aerodynamic forces on the turbines blades and structures using an aerostructuraland simulator and  created 1796 10 minute wind fields from a stochastic turbulence simulator. The data from the wind fields from the simulations were used to form a database of 1796 observations of 10 min average power (the response) as a function of wind speed, turbulence intensity, and shear exponent (the forcing). \n",
    "\n",
    "They binned the power data into 1 m $s^1$ wide bins and included a plot (figure 3 in the article) of the power curve which shows a Region II between 0.3 metres per second and about 11.5 metres per second, region III is from end the end of region II up to 25 which correspond exactly with our dataset.\n",
    "(The power is in kilowatts though with max value of 1500 so maybe I have the wrong metrics here.)\n",
    "\n",
    "Noted that *although the forcing variables are evenly distributed, variance in power is largest near rated wind speed. This sensitivity may result in large variation between predicted power output and observed power output. Furthermore, the mean power generated in simulations that include turbulence is lower than the no-turbulence cases near rated wind speed.*\n",
    "### Will be removing this mostly.\n",
    "#### wind speeds below 8 metres per second, between 7 and 8 metres per second\n",
    "At wind speeds below 8 m $s^{-1}$, power increases with turbulence intensity and shear. The increase in power due to turbulence arises because turbulent flow with mean speed $U$ carries more power than laminar flow of the same $U$. The changes in power output of +/-20% associated with turbulence are approximately half of the change due to a change in wind speed from 7 to 8 $m^{s−1}$.\n",
    "In contrast, at wind speeds just above and below rated speed, increasing turbulence intensity reduces power output as the turbine cannot capture the extra energy that gusts bring, but a short duration slow down to wind speeds below rated results in a loss of energy. As the mean wind speed increases, the total amount of time with the blades pitched toward feather increases and the wind turbine is more often operating at rated power. At wind speeds much greater than rated, larger turbulence intensities are required to reduce the output of the machine to less than rated power, regardless of shear. In Regions II and III, variation in $Ti$ impacts power performance more than variation in $\\alpha$.\n",
    "\n",
    "The article next looked at using machine learning to predict power output under different conditions by incorporating turbulence intensity and wind shear into power prediction tools. They note that the power output from the turbine is not a linear function of wind speed and so linear regression is not an appropriate technique. Non-linear regression assumes that the relationships are constant throughout the model space (i.e. power output is always proportional to $U^n$ ), which is incorrect, so non-linear regression is also inappropriate. Also, as multivariate bins only work where the training data includes data in all bins this would be computationally or observationally more expensive. Instead they chose a machine learning technique `regression trees` for capturing non-linear changes in response to forcing. Regression trees are models that use simple branching question paths to predict an outcome based on inputs. \n",
    "\n",
    "The turbines responds differently to changes in shear and turbulence at different wind speeds. In Region II, at wind speeds below 8 m $s^−1$, power output increases by up to 10% as turbulence increases or as the magnitude of the shear increases. At wind speeds greater than 8 m $s^−1$ and in Region III, the regression tree modeled power is consistent with the simulated power output: power decreases as turbulence intensity increases and shows weak or no dependence on shear.\n",
    "\n",
    "The article concludes:\n",
    ">simulations suggest and the model clearly demonstrates that the response of the turbine is a complex non-linear function of hub height wind speed, turbulence intensity, and rotor disk shear. At wind speeds below rated speed, the turbine power output is most sensitive to changes in wind speed and speed, turbulence. At rated speed, the turbine is most sensitive to turbulence intensity and shear, and power can change by 10% under typical atmospheric conditions. At wind speeds greater than rated, the turbine responds most to changes in turbulence intensity."
   ]
  },
  {
   "cell_type": "markdown",
   "metadata": {},
   "source": [
    "#### Rated wind speeds\n",
    "https://www.sciencedirect.com/topics/engineering/rated-wind-speed \n",
    "https://www.sciencedirect.com/topics/engineering/rated-wind-speed\n",
    "\n",
    "https://www.wind-watch.org/faq-technology.php\n",
    "Here are a few points from this site although the wind turbines are probably not the same turbines as our dataset. \n",
    "The article earlier showed the power curves for different utility-scale wind turbines which all reach higher maximum powers than the values in this dataset. (Using_machine_learning_to_predict_wind_turbine_power_output)(https://www.researchgate.net/publication/257748412_Using_machine_learning_to_predict_wind_turbine_power_output)\n",
    "\n",
    "The cut-in speeds quoted here are in miles per hour. (to convert miles per hour to metres per second divide by 2.237).\n",
    "\n",
    "- Every wind turbine design has a cut-in wind speed, a rated wind speed, and a cut-out wind speed.\n",
    "- At the cut-in wind speed, the blades start to turn and a trickle of electricity starts to be produced. Around cut-in, the generator may be used as a motor to help the wind overcome inertia and start the blades turning.\n",
    "- The cut-in speed is typically 7 to 9 mph. (equivalent to 3.13 to 4.02 meters per second)\n",
    "- At the rated wind speed, the turbine is able to generate electricity at its maximum, or rated, capacity.\n",
    "- The rated speed is usually in the range of 25 to 35 mph. (equivalent to 11.18 to 13.4 metres per second).\n",
    "\n",
    "- At the cut-out wind speed, the turbine shuts down to avoid damage. The pitch controllers feather the blades to let the wind flow past them and the rotor hub is braked. The wind usually has to return to a much lower speed, called the cut-back-in wind speed, for a certain amount of time before the turbine will restart.\n",
    "- The cut-out speed is generally around 55 mph (24.586 metres per second). The cut-back-in speed is around 45 mph (20.12 metres per second).\n",
    "\n",
    "The rated windspeed of a wind turbine is the wind speed at which a turbine hits its maximum “rated\" or “nameplate\" capacity\" power output.\n",
    "https://www.quora.com/What-do-you-mean-by-the-rated-wind-speed-of-the-wind-turbine\n",
    "\n",
    "\n",
    "https://en.wikipedia.org/wiki/Wind_turbine_design\n",
    ">A wind turbine is designed to produce power over a range of wind speeds. The cut-in speed is around 3–4 m/s for most turbines, and cut-out at 25 m/s. If the rated wind speed is exceeded the power has to be limited. There are various ways to achieve this.\n",
    ">All wind turbines are designed for a maximum wind speed, called the survival speed, above which they will be damaged. The survival speed of commercial wind turbines is in the range of 40 m/s (144 km/h, 89 MPH) to 72 m/s (259 km/h, 161 MPH). The most common survival speed is 60 m/s (216 km/h, 134 MPH). Some have been designed to survive 80 metres per second (290 km/h; 180 mph)"
   ]
  },
  {
   "cell_type": "markdown",
   "metadata": {},
   "source": [
    "24 mph or 10.5 m/s and 36 mph or 16 m/s\n",
    "To convert miles per hours to metres per second divide the speed value by 2.237\n",
    "https://www.metric-conversions.org/speed/miles-per-hour-to-meters-per-second.htm"
   ]
  },
  {
   "cell_type": "markdown",
   "metadata": {},
   "source": [
    "#### How does all this tie in with our dataset?\n",
    "\n",
    "The scatter plot of our dataset did show three distinct sections of the curve, the first section at low values of wind speed where the wind turbine values are clustered around zero (including the 10% of observations that have zero power values), the second section where there seems to be a linear trend between wind speed and power output and thirdly the last section where the values of power have reached a peak at higher wind speeds and plateau, and also the outliers here.\n",
    "We would expect to see power being generated when speed is above 3-4 metres per second.\n",
    "Cut out speed at 24-25 metres per second.\n",
    "Cut back in speed after cut out is 20 meters per second.\n"
   ]
  },
  {
   "cell_type": "markdown",
   "metadata": {},
   "source": [
    "Here I am just using clustering for exploratory data analysis, to see if the data is clustered into three regions."
   ]
  },
  {
   "cell_type": "code",
   "execution_count": 23,
   "metadata": {},
   "outputs": [
    {
     "data": {
      "text/plain": [
       "[<matplotlib.lines.Line2D at 0x7f9ec756dc40>]"
      ]
     },
     "execution_count": 23,
     "metadata": {},
     "output_type": "execute_result"
    },
    {
     "data": {
      "image/png": "[encoded data removed]",
      "text/plain": [
       "<Figure size 720x432 with 1 Axes>"
      ]
     },
     "metadata": {},
     "output_type": "display_data"
    }
   ],
   "source": [
    "# Machine learning - KMeans.\n",
    "import sklearn.cluster as skcl\n",
    "x1 = np.array(df.speed)\n",
    "x2 = np.array(df.power)\n",
    "X =  np.vstack([x1, x2]).T\n",
    "X.size \n",
    "# 1000\n",
    "X.shape\n",
    "# (500, 2)\n",
    "# Plots styles.\n",
    "plt.style.use('ggplot')\n",
    "\n",
    "# Plot size.\n",
    "plt.rcParams['figure.figsize'] = (10, 6)\n",
    "# Plot the data set.\n",
    "\n",
    "# Plot the data set.\n",
    "plt.plot(X[:,0], X[:,1], 'x')\n",
    "\n",
    "# Perform kmeans fitting.\n",
    "kmeans = skcl.KMeans(n_clusters=3, random_state=0).fit(X)\n",
    "plt.plot(X[kmeans.labels_ == 0][:,0], X[kmeans.labels_ == 0][:,1], 'gx')\n",
    "plt.plot(X[kmeans.labels_ == 1][:,0], X[kmeans.labels_ == 1][:,1], 'rx')\n",
    "plt.plot(X[kmeans.labels_ == 2][:,0], X[kmeans.labels_ == 2][:,1], 'bx')"
   ]
  },
  {
   "cell_type": "code",
   "execution_count": 24,
   "metadata": {},
   "outputs": [
    {
     "data": {
      "text/html": [
       "<div>\n",
       "<style scoped>\n",
       "    .dataframe tbody tr th:only-of-type {\n",
       "        vertical-align: middle;\n",
       "    }\n",
       "\n",
       "    .dataframe tbody tr th {\n",
       "        vertical-align: top;\n",
       "    }\n",
       "\n",
       "    .dataframe thead th {\n",
       "        text-align: right;\n",
       "    }\n",
       "</style>\n",
       "<table border=\"1\" class=\"dataframe\">\n",
       "  <thead>\n",
       "    <tr style=\"text-align: right;\">\n",
       "      <th></th>\n",
       "      <th>speed</th>\n",
       "      <th>power</th>\n",
       "    </tr>\n",
       "  </thead>\n",
       "  <tbody>\n",
       "    <tr>\n",
       "      <th>count</th>\n",
       "      <td>500.000000</td>\n",
       "      <td>500.000000</td>\n",
       "    </tr>\n",
       "    <tr>\n",
       "      <th>mean</th>\n",
       "      <td>12.590398</td>\n",
       "      <td>48.014584</td>\n",
       "    </tr>\n",
       "    <tr>\n",
       "      <th>std</th>\n",
       "      <td>7.224991</td>\n",
       "      <td>41.614572</td>\n",
       "    </tr>\n",
       "    <tr>\n",
       "      <th>min</th>\n",
       "      <td>0.000000</td>\n",
       "      <td>0.000000</td>\n",
       "    </tr>\n",
       "    <tr>\n",
       "      <th>25%</th>\n",
       "      <td>6.324750</td>\n",
       "      <td>5.288000</td>\n",
       "    </tr>\n",
       "    <tr>\n",
       "      <th>50%</th>\n",
       "      <td>12.550500</td>\n",
       "      <td>41.645500</td>\n",
       "    </tr>\n",
       "    <tr>\n",
       "      <th>75%</th>\n",
       "      <td>18.775250</td>\n",
       "      <td>93.537000</td>\n",
       "    </tr>\n",
       "    <tr>\n",
       "      <th>max</th>\n",
       "      <td>25.000000</td>\n",
       "      <td>113.556000</td>\n",
       "    </tr>\n",
       "  </tbody>\n",
       "</table>\n",
       "</div>"
      ],
      "text/plain": [
       "            speed       power\n",
       "count  500.000000  500.000000\n",
       "mean    12.590398   48.014584\n",
       "std      7.224991   41.614572\n",
       "min      0.000000    0.000000\n",
       "25%      6.324750    5.288000\n",
       "50%     12.550500   41.645500\n",
       "75%     18.775250   93.537000\n",
       "max     25.000000  113.556000"
      ]
     },
     "execution_count": 24,
     "metadata": {},
     "output_type": "execute_result"
    }
   ],
   "source": [
    "df.describe()"
   ]
  },
  {
   "cell_type": "code",
   "execution_count": 25,
   "metadata": {},
   "outputs": [
    {
     "data": {
      "text/html": [
       "<div>\n",
       "<style scoped>\n",
       "    .dataframe tbody tr th:only-of-type {\n",
       "        vertical-align: middle;\n",
       "    }\n",
       "\n",
       "    .dataframe tbody tr th {\n",
       "        vertical-align: top;\n",
       "    }\n",
       "\n",
       "    .dataframe thead th {\n",
       "        text-align: right;\n",
       "    }\n",
       "</style>\n",
       "<table border=\"1\" class=\"dataframe\">\n",
       "  <thead>\n",
       "    <tr style=\"text-align: right;\">\n",
       "      <th></th>\n",
       "      <th>speed</th>\n",
       "      <th>power</th>\n",
       "    </tr>\n",
       "  </thead>\n",
       "  <tbody>\n",
       "    <tr>\n",
       "      <th>499</th>\n",
       "      <td>25.000</td>\n",
       "      <td>0.0</td>\n",
       "    </tr>\n",
       "    <tr>\n",
       "      <th>498</th>\n",
       "      <td>24.950</td>\n",
       "      <td>0.0</td>\n",
       "    </tr>\n",
       "    <tr>\n",
       "      <th>497</th>\n",
       "      <td>24.875</td>\n",
       "      <td>0.0</td>\n",
       "    </tr>\n",
       "    <tr>\n",
       "      <th>496</th>\n",
       "      <td>24.850</td>\n",
       "      <td>0.0</td>\n",
       "    </tr>\n",
       "    <tr>\n",
       "      <th>495</th>\n",
       "      <td>24.775</td>\n",
       "      <td>0.0</td>\n",
       "    </tr>\n",
       "  </tbody>\n",
       "</table>\n",
       "</div>"
      ],
      "text/plain": [
       "      speed  power\n",
       "499  25.000    0.0\n",
       "498  24.950    0.0\n",
       "497  24.875    0.0\n",
       "496  24.850    0.0\n",
       "495  24.775    0.0"
      ]
     },
     "execution_count": 25,
     "metadata": {},
     "output_type": "execute_result"
    }
   ],
   "source": [
    "df.sort_values(by='speed', ascending=False).head()"
   ]
  },
  {
   "cell_type": "raw",
   "metadata": {},
   "source": [
    "# show the unique values\n",
    "df.speed.unique()\n",
    "# a count of the unique speed values\n",
    "df.speed.value_counts() # 490\n",
    "# a count of the unique power values\n",
    "df.power.value_counts() # 451"
   ]
  },
  {
   "cell_type": "code",
   "execution_count": 26,
   "metadata": {},
   "outputs": [
    {
     "data": {
      "text/plain": [
       "500"
      ]
     },
     "execution_count": 26,
     "metadata": {},
     "output_type": "execute_result"
    }
   ],
   "source": [
    "len(df.groupby('speed')) # 490\n",
    "df.groupby('speed')['power'].agg(['count', 'size', 'nunique'])\n",
    "len(df.groupby('power')) # 451\n",
    "\n",
    "df.groupby('power')['speed'].agg(['count', 'size', 'nunique'])\n",
    "len(df[['speed', 'power']].drop_duplicates()) # 490"
   ]
  },
  {
   "cell_type": "markdown",
   "metadata": {},
   "source": [
    "### Zero values\n",
    "#### Where do the zero values occur?\n",
    "- There are 49 datapoints where power value is zero\n",
    "- There is only 1 datapoint where speed value is zero (also power)\n",
    "- Ten speed values over 24.4 metres per hour with a corresponding power value of zero\n",
    "- There are no data points with speeds above 24.4 and power not equal to zero\n",
    "- Eight data points where speed is less than 8 metres per second and power value is zero\n",
    "- Four datapoints where speed is greater than 8 and less than 24.4 metres per second and corresponding power values are zero\n",
    "- 24 datapoints where speed is less than 4 metres per second and power is zero"
   ]
  },
  {
   "cell_type": "code",
   "execution_count": 27,
   "metadata": {
    "scrolled": false
   },
   "outputs": [
    {
     "name": "stdout",
     "output_type": "stream",
     "text": [
      "speed    1\n",
      "power    1\n",
      "dtype: int64\n"
     ]
    }
   ],
   "source": [
    "# the rows where both values are zer0\n",
    "print(df[(df['speed']==0) & (df['power']==0)].count()) # only 1"
   ]
  },
  {
   "cell_type": "markdown",
   "metadata": {},
   "source": [
    "#### 49 observations with zero power values"
   ]
  },
  {
   "cell_type": "code",
   "execution_count": 28,
   "metadata": {},
   "outputs": [
    {
     "data": {
      "text/plain": [
       "speed    49\n",
       "power    49\n",
       "dtype: int64"
      ]
     },
     "execution_count": 28,
     "metadata": {},
     "output_type": "execute_result"
    }
   ],
   "source": [
    "df[df.power==0].count()"
   ]
  },
  {
   "cell_type": "markdown",
   "metadata": {},
   "source": [
    "#### Cut-in speeds between 3 and 4 metres per second\n",
    "The cut-in speed is typically 7 to 9 mph. (equivalent to 3.13 to 4.02 meters per second).\n",
    "- 17 observations where speed is less than 3 metres per second"
   ]
  },
  {
   "cell_type": "code",
   "execution_count": 29,
   "metadata": {},
   "outputs": [
    {
     "name": "stdout",
     "output_type": "stream",
     "text": [
      "Zero power values where speed is below 3 metres per second:\n",
      "speed    17\n",
      "power    17\n",
      "dtype: int64\n",
      "Zero power values where speed is between 3 and 4 metres per second:\n",
      "speed    7\n",
      "power    7\n",
      "dtype: int64\n",
      "Zero power values where speed is between 4 and 7 metres per second:\n",
      "speed    9\n",
      "power    9\n",
      "dtype: int64\n",
      "Zero power values where speed is between 7 and 24.4 metres per second:\n",
      "speed    6\n",
      "power    6\n",
      "dtype: int64\n",
      "Zero power values where speed is above 24.4 metres per second:\n",
      "speed    10\n",
      "power    10\n",
      "dtype: int64\n"
     ]
    }
   ],
   "source": [
    "print(f\"Zero power values where speed is below 3 metres per second:\\n{df[(df.speed <3) & (df.power==0.0)].count()}\")\n",
    "print(f\"Zero power values where speed is between 3 and 4 metres per second:\\n{df[(df.speed >3) & (df.speed <4) & (df.power==0.0)].count()}\")\n",
    "print(f\"Zero power values where speed is between 4 and 7 metres per second:\\n{df[(df.speed >4) & (df.speed<7) & (df.power==0.0)].count()}\")\n",
    "print(f\"Zero power values where speed is between 7 and 24.4 metres per second:\\n{df[(df.speed >7) & (df.speed<24.4) & (df.power==0.0)].count()}\")\n",
    "print(f\"Zero power values where speed is above 24.4 metres per second:\\n{df[(df.speed>24.4) & (df.power==0.0)].count()}\")"
   ]
  },
  {
   "cell_type": "markdown",
   "metadata": {},
   "source": [
    "#### Non-zero power values where speed is less than 3 metres per second:\n",
    "There are 39 observations where speed is less than the cut-in speed (of between 3 and 4 metres per second) and the corresponding power value is greater than zero. I think these are the tricky ones to predict. There was mention in the one of the articles referenced earlier that while sometimes there might not be enough wind to turn a turbine, the wind energy is not lost as the wind energy can be stored in energy storage systems for later use whenever wind levels are low."
   ]
  },
  {
   "cell_type": "code",
   "execution_count": 30,
   "metadata": {},
   "outputs": [
    {
     "data": {
      "text/plain": [
       "speed    17\n",
       "power    17\n",
       "dtype: int64"
      ]
     },
     "execution_count": 30,
     "metadata": {},
     "output_type": "execute_result"
    }
   ],
   "source": [
    "df[(df.speed < 3) & (df.power>0.0)].count() # 39\n",
    "df[(df.speed < 3) & (df.power==0.0)].count() # 17\n"
   ]
  },
  {
   "cell_type": "code",
   "execution_count": 31,
   "metadata": {},
   "outputs": [
    {
     "data": {
      "text/plain": [
       "speed    24\n",
       "power    24\n",
       "dtype: int64"
      ]
     },
     "execution_count": 31,
     "metadata": {},
     "output_type": "execute_result"
    }
   ],
   "source": [
    "df[(df.speed < 4) & (df.power>0.0)].count() # 56\n",
    "df[(df.speed < 4) & (df.power==0.0)].count() # 24"
   ]
  },
  {
   "cell_type": "markdown",
   "metadata": {},
   "source": [
    "#### Rated speed\n",
    "At the rated wind speed, the turbine is able to generate electricity at its maximum, or rated, capacity.\n",
    "The rated speed is usually in the range of 25 to 35 mph. (equivalent to 11.18 to 13.4 metres per second).\n",
    "This is based on the research above but we don't know the details of the actual wind turbines being used here.\n",
    "The rated speed for the turbines in this dataset must be greated than this range as they do not reach their maximum capacity until wind speed is greater than 15 metres per second.\n",
    "The max power value in the dataset is 113.556 kws but there are very few observations in the dataset where power is greater than 110. The power curve for this dataset shows the power values levelling off in and around values between 90 and 100. I need to blow the plot up some more to see the exact values.\n",
    "\n",
    "\n"
   ]
  },
  {
   "cell_type": "markdown",
   "metadata": {},
   "source": [
    "#### Power values greater than 100\n",
    "- 31 power values between 80 and 90\n",
    "- 95 power values between 90 and 100\n",
    "- 55  between 100 and 110"
   ]
  },
  {
   "cell_type": "code",
   "execution_count": 32,
   "metadata": {},
   "outputs": [
    {
     "name": "stdout",
     "output_type": "stream",
     "text": [
      "Data points where power is between 80 and 90:\n",
      "speed    31\n",
      "power    31\n",
      "dtype: int64\n",
      "Data points where power is between 90 and 100:\n",
      "speed    95\n",
      "power    95\n",
      "dtype: int64\n",
      "Data points where power is between 100 and 110:\n",
      "speed    55\n",
      "power    55\n",
      "dtype: int64\n",
      "Data points where power greater than 110:\n",
      "speed    2\n",
      "power    2\n",
      "dtype: int64\n"
     ]
    }
   ],
   "source": [
    "print(f\"Data points where power is between 80 and 90:\\n{df[(df.power>80)&(df.power<90)].count()}\")\n",
    "print(f\"Data points where power is between 90 and 100:\\n{df[(df.power>90)&(df.power<100)].count()}\")\n",
    "print(f\"Data points where power is between 100 and 110:\\n{df[(df.power>100)&(df.power<110)].count()}\")\n",
    "print(f\"Data points where power greater than 110:\\n{df[(df.power>110)].count()}\")"
   ]
  },
  {
   "cell_type": "code",
   "execution_count": 33,
   "metadata": {},
   "outputs": [
    {
     "data": {
      "text/plain": [
       "speed    57\n",
       "power    57\n",
       "dtype: int64"
      ]
     },
     "execution_count": 33,
     "metadata": {},
     "output_type": "execute_result"
    }
   ],
   "source": [
    "df[df.power>100].count()"
   ]
  },
  {
   "cell_type": "code",
   "execution_count": 34,
   "metadata": {},
   "outputs": [
    {
     "data": {
      "text/plain": [
       "speed    49\n",
       "power    49\n",
       "dtype: int64"
      ]
     },
     "execution_count": 34,
     "metadata": {},
     "output_type": "execute_result"
    }
   ],
   "source": [
    "df[(df.speed >11) & (df.speed< 13.4)].count()"
   ]
  },
  {
   "cell_type": "markdown",
   "metadata": {},
   "source": [
    "#### Cut-out speeds for safety reasons\n",
    "At the cut-out wind speed, the turbine shuts down to avoid damage.\n",
    "There are 10 observations that fall into the cut-out speed range.\n",
    "There are no datapoints where speed is above the cut-out speed value where power is not zero."
   ]
  },
  {
   "cell_type": "code",
   "execution_count": 35,
   "metadata": {},
   "outputs": [
    {
     "name": "stdout",
     "output_type": "stream",
     "text": [
      "Speed values above 24.4 metres per second:\n",
      "speed    10\n",
      "power    10\n",
      "dtype: int64\n",
      "Zero power values where speed is above 24.4 metres per second:\n",
      "speed    10\n",
      "power    10\n",
      "dtype: int64\n"
     ]
    }
   ],
   "source": [
    "# there are no points in the dataset where speed is greater than 24.4 and power value is not zero\n",
    "print(f\"Speed values above 24.4 metres per second:\\n{df[df.speed>24.4].count()}\") # \n",
    "print(f\"Zero power values where speed is above 24.4 metres per second:\\n{df[(df.speed > 24.4) & (df.power==0.0)].count()}\")"
   ]
  },
  {
   "cell_type": "markdown",
   "metadata": {},
   "source": [
    "#### Speeds between 7 and 8 metres per second:"
   ]
  },
  {
   "cell_type": "code",
   "execution_count": 36,
   "metadata": {},
   "outputs": [
    {
     "data": {
      "text/plain": [
       "speed    2\n",
       "power    2\n",
       "dtype: int64"
      ]
     },
     "execution_count": 36,
     "metadata": {},
     "output_type": "execute_result"
    }
   ],
   "source": [
    "df[(df.speed >7) & (df.speed < 8) & (df.power==0.0)].count()"
   ]
  },
  {
   "cell_type": "markdown",
   "metadata": {},
   "source": [
    "### Dealing with zero values\n"
   ]
  },
  {
   "cell_type": "markdown",
   "metadata": {},
   "source": [
    "\n",
    "After initially trying out the neural network using the complete dataset, the cost did not fall below a certain value and the resulting plots suggested that keeping the zero power values in for the very high values of speed were affecting the calculations. The research showed that there is a cut-out speed between 24 and 25 metres per second for safety reasons.  At the cut-out wind speed, the turbine shuts down to avoid damage. This is enough to justify excluding these observations as we can predict that the power output will be zero when the wind speed exceeds this cut out value. There are only ten observations in the dataset that fall into this range.\n",
    "We can only predict values for power when the turbines are turned on and therefore maybe the model should only be predicting for values of speed where the turbine is on! \n",
    "\n",
    "While there is only one zero value for the speed variable, there are 49 zero values for the power variable. These mostly occur below a certain value of speed but located alongside non-zero power values and there are a few that are associated with medium and higher speed values of speed. Most of the data points in the dataset are unique values. The one datapoint with a zero speed value has a zero power value as expected.\n",
    "\n",
    "Summary of where the zero power values occur:\n",
    "- 17 where speed is less than 3 metres per second\n",
    "- 7 where speed is between 3 and 4 metres per second. This is the cut-in speed\n",
    "- 9 where speed lies between 4 and 7\n",
    "- 6 where speed is between 7 and 24.4\n",
    "- 10 where speed is above 24.4 metres per second. This is the cut-out value.\n",
    "\n",
    "For now I will drop all observations where speed is greater than the cut-out value of 24.4. \n",
    "I will also drop the observations above the cut-in speed of between 3 and 4 metres per second.\n",
    "I will leave in all the observations where speed is less than the cut-in speed including the zero values.\n",
    "(Wind turbines generate electricity at wind speeds of 4 – 25 metres per second [123]Wind Energy Basics)\n",
    "\n",
    "This means that for now I am dropping 25 observations from the dataset where the power values are zero.\n",
    "Ten observations where the wind speed is greater than the cut-off value; the corresponding power is zero as the turbines are off.\n",
    "Fifteen observations where wind speed is greater than the cut-in and less than the cut-out and the power is zero. Assume these represent points where the turbines are turned off for maintenance or other reasons."
   ]
  },
  {
   "cell_type": "code",
   "execution_count": 37,
   "metadata": {},
   "outputs": [],
   "source": [
    "#https://pandas.pydata.org/pandas-docs/stable/reference/api/pandas.DataFrame.drop.html\n",
    "# https://thispointer.com/python-pandas-how-to-drop-rows-in-dataframe-by-conditions-on-column-values/\n",
    "#df.drop(df.loc[(df.speed>24.4)].index, inplace=True)"
   ]
  },
  {
   "cell_type": "code",
   "execution_count": 38,
   "metadata": {},
   "outputs": [],
   "source": [
    "# make a copy of the dataframe\n",
    "dfx = df.copy()"
   ]
  },
  {
   "cell_type": "code",
   "execution_count": 39,
   "metadata": {},
   "outputs": [
    {
     "data": {
      "text/plain": [
       "speed    25\n",
       "power    25\n",
       "dtype: int64"
      ]
     },
     "execution_count": 39,
     "metadata": {},
     "output_type": "execute_result"
    }
   ],
   "source": [
    "dfx.loc[(dfx.speed > 4)&(dfx.power == 0)].count()"
   ]
  },
  {
   "cell_type": "code",
   "execution_count": 40,
   "metadata": {},
   "outputs": [],
   "source": [
    "dfx.drop(dfx.loc[(df.speed > 4)&(dfx.power == 0)].index, inplace=True)"
   ]
  },
  {
   "cell_type": "code",
   "execution_count": 41,
   "metadata": {},
   "outputs": [
    {
     "data": {
      "text/html": [
       "<div>\n",
       "<style scoped>\n",
       "    .dataframe tbody tr th:only-of-type {\n",
       "        vertical-align: middle;\n",
       "    }\n",
       "\n",
       "    .dataframe tbody tr th {\n",
       "        vertical-align: top;\n",
       "    }\n",
       "\n",
       "    .dataframe thead th {\n",
       "        text-align: right;\n",
       "    }\n",
       "</style>\n",
       "<table border=\"1\" class=\"dataframe\">\n",
       "  <thead>\n",
       "    <tr style=\"text-align: right;\">\n",
       "      <th></th>\n",
       "      <th>speed</th>\n",
       "      <th>power</th>\n",
       "    </tr>\n",
       "  </thead>\n",
       "  <tbody>\n",
       "    <tr>\n",
       "      <th>count</th>\n",
       "      <td>475.000000</td>\n",
       "      <td>475.000000</td>\n",
       "    </tr>\n",
       "    <tr>\n",
       "      <th>mean</th>\n",
       "      <td>12.440971</td>\n",
       "      <td>50.541667</td>\n",
       "    </tr>\n",
       "    <tr>\n",
       "      <th>std</th>\n",
       "      <td>7.101231</td>\n",
       "      <td>41.171815</td>\n",
       "    </tr>\n",
       "    <tr>\n",
       "      <th>min</th>\n",
       "      <td>0.000000</td>\n",
       "      <td>0.000000</td>\n",
       "    </tr>\n",
       "    <tr>\n",
       "      <th>25%</th>\n",
       "      <td>6.293500</td>\n",
       "      <td>6.737500</td>\n",
       "    </tr>\n",
       "    <tr>\n",
       "      <th>50%</th>\n",
       "      <td>12.538000</td>\n",
       "      <td>47.282000</td>\n",
       "    </tr>\n",
       "    <tr>\n",
       "      <th>75%</th>\n",
       "      <td>18.531500</td>\n",
       "      <td>94.017500</td>\n",
       "    </tr>\n",
       "    <tr>\n",
       "      <th>max</th>\n",
       "      <td>24.399000</td>\n",
       "      <td>113.556000</td>\n",
       "    </tr>\n",
       "  </tbody>\n",
       "</table>\n",
       "</div>"
      ],
      "text/plain": [
       "            speed       power\n",
       "count  475.000000  475.000000\n",
       "mean    12.440971   50.541667\n",
       "std      7.101231   41.171815\n",
       "min      0.000000    0.000000\n",
       "25%      6.293500    6.737500\n",
       "50%     12.538000   47.282000\n",
       "75%     18.531500   94.017500\n",
       "max     24.399000  113.556000"
      ]
     },
     "execution_count": 41,
     "metadata": {},
     "output_type": "execute_result"
    }
   ],
   "source": [
    "dfx.describe()"
   ]
  },
  {
   "cell_type": "code",
   "execution_count": 42,
   "metadata": {},
   "outputs": [
    {
     "data": {
      "image/png": "[encoded data removed]",
      "text/plain": [
       "<Figure size 720x432 with 1 Axes>"
      ]
     },
     "metadata": {},
     "output_type": "display_data"
    }
   ],
   "source": [
    "\n",
    "x = \"speed\"\n",
    "y = \"power\"\n",
    "\n",
    "sns.regplot(x=\"speed\", y=\"power\", data=dfx, order=4, label=\"order =3\", ci=False)\n",
    "\n",
    "plt.suptitle(\"Trying higher order polynomial regression functions to Speed and Power values\")\n",
    "plt.show()"
   ]
  },
  {
   "cell_type": "markdown",
   "metadata": {},
   "source": [
    "I did try polynomial regression using scikit-learn but the model tends to over predict at the lower values of wind speed. As does the neural network in the end!"
   ]
  },
  {
   "cell_type": "code",
   "execution_count": null,
   "metadata": {},
   "outputs": [],
   "source": [
    "from sklearn.preprocessing import PolynomialFeatures\n",
    "from sklearn.linear_model import LinearRegression\n",
    "from sklearn.pipeline import Pipeline\n",
    "model = Pipeline([('poly', PolynomialFeatures(degree=3)),('linear', LinearRegression(fit_intercept=False))])"
   ]
  },
  {
   "cell_type": "code",
   "execution_count": 46,
   "metadata": {},
   "outputs": [],
   "source": [
    "iso_reg = IsotonicRegression().fit(dfx.speed, dfx.power)"
   ]
  },
  {
   "cell_type": "markdown",
   "metadata": {},
   "source": []
  },
  {
   "cell_type": "markdown",
   "metadata": {},
   "source": [
    "# Machine Learning.\n",
    "\n",
    "The goal of the project is to predict wind power from wind speed and therefore this problem falls into supervised learning. \n",
    ">Supervised learning is where you have input variables (x) and an output variable (Y) and you use an algorithm to learn the mapping function from the input to the output [Machine Learning Mastery](https://machinelearningmastery.com/supervised-and-unsupervised-machine-learning-algorithms/) which is precisely what we have been asked to do here.\n",
    "\n",
    "The algorithms I will start looking at are as follows:\n",
    "\n",
    "- Regression: Predicting a continuous-valued attribute associated with an object.\n",
    "I had a look at the regression plots earlier, simple linear regression does not adequately model the relationship between the wind and speed values over the entire dataset while higher order polynomials captured more of the relationship. The simple linear model clearly underfit the data. The correlation statistics did show a high correlation between the variables with a value of 0.853778 but this doesn't mean the relationship is linear.\n",
    "There were large sections of the dataset that were either under the regression line or above the regression line.\n",
    "The higher order polynomials did not fit the data perfectly though. The cubic polynomial fits the data better and the fourth order polynomial does seem to be even better for the datapoints at the lower end.\n",
    "Now that some of the zero values have been removed I will look at fitting a curve again using a higher order polynomial. The numpy polyfit function can be used for this or alternatively scipy curve_fit function or scikit-learns polynomial regression. \n",
    "Actually I'm leaving this out for now and just including the neural networks. Nope I'm putting it back in! Just in case the tensorflow issues continue with docker.\n",
    "\n",
    "\n",
    "https://scikit-learn.org/stable/modules/linear_model.html#polynomial-regression-extending-linear-models-with-basis-functions\n",
    "\n",
    ">One common pattern within machine learning is to use linear models trained on nonlinear functions of the data. This approach maintains the generally fast performance of linear methods, while allowing them to fit a much wider range of data.\n",
    "\n",
    "A simple linear regression can be extended by constructing polynomial features from the coefficients.\n",
    "`PolynomialFeatures` transforms an input data matrix into a new data matrix of a given degree. I will use a third degree polynomial here as the data earlier suggested this. In addition there was of this in the research above that \n",
    "*The typical power curves have an s-shape where at wind speeds less than rated the energy capture is approximately proportional to $U^3$* where ($U=\\bar{\\mu}$) is the 10 minute averaged wind speeds.\n",
    "\n",
    "\n",
    "https://towardsdatascience.com/polynomial-regression-with-scikit-learn-what-you-should-know-bed9d3296f2\n",
    "\n",
    "https://stackoverflow.com/questions/32660231/how-to-fit-a-polynomial-curve-to-data-using-scikit-learn/32660433"
   ]
  },
  {
   "cell_type": "code",
   "execution_count": 211,
   "metadata": {},
   "outputs": [],
   "source": [
    "from sklearn.preprocessing import PolynomialFeatures\n",
    "#from sklearn.linear_model import LinearRegression\n",
    "from sklearn import linear_model\n",
    "from sklearn.pipeline import Pipeline\n",
    "import numpy as np\n",
    "dfx\n",
    "# no point in doing any less than 3 from the plots above\n",
    "poly = PolynomialFeatures(degree=3)"
   ]
  },
  {
   "cell_type": "markdown",
   "metadata": {},
   "source": [
    "### Split data into training and test sets"
   ]
  },
  {
   "cell_type": "code",
   "execution_count": 212,
   "metadata": {},
   "outputs": [
    {
     "name": "stdout",
     "output_type": "stream",
     "text": [
      "(356, 1) (119, 1) (356, 1) (119, 1)\n"
     ]
    }
   ],
   "source": [
    "\n",
    "# split into input and output columns\n",
    "\n",
    "X, y = dfx.values[:, :-1], dfx.values[:, -1:]\n",
    "# split into train and test datasets\n",
    "X_train, X_test, y_train, y_test = train_test_split(X, y, test_size=0.25, random_state=0)\n",
    "print(X_train.shape, X_test.shape, y_train.shape, y_test.shape)\n",
    "# determine the number of input features\n",
    "n_features = X_train.shape[1]"
   ]
  },
  {
   "cell_type": "markdown",
   "metadata": {},
   "source": [
    "#### Transform the features of x \n",
    "Once transformed they can be used with any linear model. I will apply to the training data only here."
   ]
  },
  {
   "cell_type": "code",
   "execution_count": 213,
   "metadata": {},
   "outputs": [],
   "source": [
    "X_train_p3 = poly.fit_transform(X_train)"
   ]
  },
  {
   "cell_type": "code",
   "execution_count": 214,
   "metadata": {},
   "outputs": [],
   "source": [
    "# also need to transform the test data \n",
    "X_test_p3 = poly.fit_transform(X_test)"
   ]
  },
  {
   "cell_type": "code",
   "execution_count": 215,
   "metadata": {},
   "outputs": [],
   "source": [
    "model_p3 = linear_model.LinearRegression()"
   ]
  },
  {
   "cell_type": "code",
   "execution_count": 216,
   "metadata": {},
   "outputs": [
    {
     "data": {
      "text/plain": [
       "LinearRegression()"
      ]
     },
     "execution_count": 216,
     "metadata": {},
     "output_type": "execute_result"
    }
   ],
   "source": [
    "model_p3.fit(X_train_p3, y_train)"
   ]
  },
  {
   "cell_type": "code",
   "execution_count": 223,
   "metadata": {},
   "outputs": [],
   "source": [
    "p3_predictions = model_p3.predict(X_test_p3)"
   ]
  },
  {
   "cell_type": "markdown",
   "metadata": {},
   "source": [
    "#### Get the coefficients"
   ]
  },
  {
   "cell_type": "code",
   "execution_count": 221,
   "metadata": {},
   "outputs": [
    {
     "data": {
      "text/plain": [
       "array([[ 0.        , -9.69965794,  1.49732   , -0.03967732]])"
      ]
     },
     "execution_count": 221,
     "metadata": {},
     "output_type": "execute_result"
    }
   ],
   "source": [
    "model_p3.coef_"
   ]
  },
  {
   "cell_type": "code",
   "execution_count": 222,
   "metadata": {},
   "outputs": [
    {
     "data": {
      "text/plain": [
       "array([14.35877751])"
      ]
     },
     "execution_count": 222,
     "metadata": {},
     "output_type": "execute_result"
    }
   ],
   "source": [
    "model_p3.intercept_"
   ]
  },
  {
   "cell_type": "code",
   "execution_count": 235,
   "metadata": {},
   "outputs": [
    {
     "data": {
      "image/png": "[encoded data removed]",
      "text/plain": [
       "<Figure size 720x432 with 1 Axes>"
      ]
     },
     "metadata": {},
     "output_type": "display_data"
    }
   ],
   "source": [
    "plt.title('Comparing actual data to predicted data')\n",
    "plt.plot(X_test, y_test, 'x', label=\"true values\")\n",
    "plt.plot(X_test, p3_predictions, 'bx', label=\"predicted values\")\n",
    "plt.legend()\n",
    "\n",
    "plt.show()"
   ]
  },
  {
   "cell_type": "markdown",
   "metadata": {},
   "source": [
    "https://scikit-learn.org/stable/modules/generated/sklearn.metrics.r2_score.html\n",
    "The coefficient of determination $R^2$ is the proportion of the variance in the dependent variable that is predictable from the independent variable(s).\n",
    "\n",
    "https://scikit-learn.org/stable/auto_examples/linear_model/plot_ols.html#sphx-glr-auto-examples-linear-model-plot-ols-py\n",
    "\n",
    "https://towardsdatascience.com/machine-learning-polynomial-regression-with-python-5328e4e8a386"
   ]
  },
  {
   "cell_type": "code",
   "execution_count": 230,
   "metadata": {},
   "outputs": [],
   "source": [
    "from sklearn.metrics import mean_squared_error, r2_score"
   ]
  },
  {
   "cell_type": "code",
   "execution_count": 231,
   "metadata": {},
   "outputs": [
    {
     "name": "stdout",
     "output_type": "stream",
     "text": [
      "Coefficients: \n",
      " [[ 0.         -9.69965794  1.49732    -0.03967732]]\n"
     ]
    }
   ],
   "source": [
    "# The coefficients\n",
    "print('Coefficients: \\n', model_p3.coef_)"
   ]
  },
  {
   "cell_type": "code",
   "execution_count": 232,
   "metadata": {},
   "outputs": [
    {
     "name": "stdout",
     "output_type": "stream",
     "text": [
      "Mean squared error: 33.32\n"
     ]
    }
   ],
   "source": [
    "print('Mean squared error: %.2f' % mean_squared_error(y_test,p3_predictions ))"
   ]
  },
  {
   "cell_type": "code",
   "execution_count": 233,
   "metadata": {},
   "outputs": [
    {
     "name": "stdout",
     "output_type": "stream",
     "text": [
      "Coefficient of determination: 0.98\n"
     ]
    }
   ],
   "source": [
    "# The coefficient of determination: 1 is perfect prediction\n",
    "print('Coefficient of determination: %.2f'\n",
    "      % r2_score(y_test, p3_predictions))\n"
   ]
  },
  {
   "cell_type": "code",
   "execution_count": 241,
   "metadata": {},
   "outputs": [
    {
     "data": {
      "text/plain": [
       "array([[101.8750371]])"
      ]
     },
     "execution_count": 241,
     "metadata": {},
     "output_type": "execute_result"
    }
   ],
   "source": [
    "# Predicting a new result with Polymonial Regression\n",
    "model_p3.predict(poly.fit_transform([[20]]))"
   ]
  },
  {
   "cell_type": "code",
   "execution_count": 242,
   "metadata": {},
   "outputs": [
    {
     "data": {
      "text/plain": [
       "array([[92.74766278]])"
      ]
     },
     "execution_count": 242,
     "metadata": {},
     "output_type": "execute_result"
    }
   ],
   "source": [
    "# Predicting a new result with Polymonial Regression\n",
    "model_p3.predict(poly.fit_transform([[24.4]]))"
   ]
  },
  {
   "cell_type": "code",
   "execution_count": 243,
   "metadata": {},
   "outputs": [
    {
     "data": {
      "text/plain": [
       "array([[14.35877751]])"
      ]
     },
     "execution_count": 243,
     "metadata": {},
     "output_type": "execute_result"
    }
   ],
   "source": [
    "# Predicting a new result with Polymonial Regression\n",
    "model_p3.predict(poly.fit_transform([[0]]))"
   ]
  },
  {
   "cell_type": "code",
   "execution_count": 244,
   "metadata": {},
   "outputs": [
    {
     "data": {
      "text/plain": [
       "array([[-2.33560405]])"
      ]
     },
     "execution_count": 244,
     "metadata": {},
     "output_type": "execute_result"
    }
   ],
   "source": [
    "# Predicting a new result with Polymonial Regression\n",
    "model_p3.predict(poly.fit_transform([[3]]))"
   ]
  },
  {
   "cell_type": "markdown",
   "metadata": {},
   "source": [
    "The polynomial curve does quite a good job but similarly to the MLP below, it predicts power values for values over 24.4 which is the cut-off range. \n",
    "Also the transformation has to be taken into account when taking in new values from the end user."
   ]
  },
  {
   "cell_type": "markdown",
   "metadata": {},
   "source": [
    "Machine learning is the science of getting computers to act without being explicitly programmed.\n",
    "- https://www.investopedia.com/terms/n/neuralnetwork.asp#:~:text=A%20neural%20network%20is%20a,organic%20or%20artificial%20in%20nature.\n",
    "- https://en.wikipedia.org/wiki/Artificial_neural_network\n",
    "\n",
    "- https://news.mit.edu/2017/explained-neural-networks-deep-learning-0414\n",
    "\n",
    ">Neural nets are a means of doing machine learning, in which a computer learns to perform some task by analyzing training examples.\n",
    ">Modeled loosely on the human brain, a neural net consists of thousands or even millions of simple processing nodes that are densely interconnected. Most of today’s neural nets are organized into layers of nodes, and they’re “feed-forward,” meaning that data moves through them in only one direction. An individual node might be connected to several nodes in the layer beneath it, from which it receives data, and several nodes in the layer above it, to which it sends data.\n",
    ">To each of its incoming connections, a node will assign a number known as a “weight.” When the network is active, the node receives a different data item — a different number — over each of its connections and multiplies it by the associated weight. It then adds the resulting products together, yielding a single number. If that number is below a threshold value, the node passes no data to the next layer. If the number exceeds the threshold value, the node “fires,” which in today’s neural nets generally means sending the number — the sum of the weighted inputs — along all its outgoing connections.\n",
    "When a neural net is being trained, all of its weights and thresholds are initially set to random values. Training data is fed to the bottom layer — the input layer — and it passes through the succeeding layers, getting multiplied and added together in complex ways, until it finally arrives, radically transformed, at the output layer. During training, the weights and thresholds are continually adjusted until training data with the same labels consistently yield similar outputs.\n",
    "[Mit News](https://news.mit.edu/2017/explained-neural-networks-deep-learning-0414)[nn1]"
   ]
  },
  {
   "cell_type": "markdown",
   "metadata": {},
   "source": [
    "## Machine Learning - Neural Networks\n",
    "\n",
    "Some notes from the lectures:\n",
    "A dataset contains variables, some inputs and outputs. Categorical data, text and image data must first be encoded into floating point numbers. Outputs can be reverse decoded later. Weights are applied to each connection between layers, low weights near 0 meaning that the route is not important while higher values mean this route is important. \n",
    "Some of the dataset can be held back for testing. \n",
    "Neural networks have several layers. The input layer is really a non-layer of neurons with just the inputs. You just provide the input layer to the neural network and this is really the only place the input comes into it.\n",
    "\n",
    "The hidden layers and output layers have proper neurons.\n",
    "The weights and bias are the paramters of the model, you can tweak them to get the neural network to perform better. Often the initial weights might be set to small random values between 0 and 1. \n",
    "Neural networks cares more about the connections between the nodes than the actual nodes themselves. Looks at the signal times the weights for each of the inputs. `w * x` for each input. \n",
    "\n",
    "The bias significes how important something is and is just a number on top of weight times input for each neuron. \n",
    "With neural networks you want to get a high value assigned to the correct output. If the neural network misclassifies an output label then you just feed it back into the algorithm, the weights are changed a little so that the correct output is predicted the next time. It will keep changing until it gets the correct output. \n",
    "Starts out with random values for the weights. These are updated slowly over time to get towards the expected output.\n",
    "\n",
    "Gradient descent is the algorithm through which the weights are updated. Stochastic gradient descent (`sgd`).\n",
    "Each output from each neuron is the same but when the different weights are applied, what is received by the nodes in the next layer are different to what left the nodes on the previous layer.\n",
    "The loss is the cost function, often the MSE mean squared error.\n",
    "\n",
    "A linear function y = x is just a simple function where you give it a single input and expect the same output.\n",
    "\n",
    "Once the neural network is trained and is stable, you can then take a new input, a new datapoint it was not trained on and the neural network should correctly classify it.\n",
    "the complexity in neural networks comes from the number of operations involved especially when there are many layers.\n",
    "\n",
    "---\n",
    "\n",
    "https://machinelearningmastery.com/tensorflow-tutorial-deep-learning-with-tf-keras/\n",
    "Taking notes from another machine learning mastery tutorial.\n",
    "\n",
    "### The 5-step Deep Learning Model Life-Cycle\n",
    "A model has a life-cycle with 5 steps:\n",
    "1. Define the model: \n",
    "Select the type of model and choose the architecture or network topology. Define the number of layers, configure each layer with a number of nodes and activation function, connect the layers together into a cohesive model.\n",
    "\n",
    "2. Compile the model\n",
    "\n",
    "    * This requires selecting a **loss function** that you want to optimise such as mean squared error and to select an algorithm to perform the **optimisation** procedure such as stochastic gradient descent or a modern variation of this called Adam. Also you can select the **performance metrics**  to keep track of during the model training process.\n",
    "    * Call a function to compile the model with the selected configuration to prepare the appropriate data structures required for the efficient use of the selected model. \n",
    "    * The optimizer can be specified as a string for a known optimizer class such as `sgd` for stochastic gradient descent or else you can configure an instance of the optimizer class to use. See [optimizer classes](https://www.tensorflow.org/api_docs/python/tf/keras/optimizers).\n",
    "\n",
    "    * `sgd` - Gradient descent (with momentum) optimizer. The default learning rate is 0.01\n",
    "    The update rule is ` w = w - learning_rate * g` for parameter `w` with  gradient `g` when momentum is 0.\n",
    "    * \n",
    "\n",
    "    *Adam optimization is a stochastic gradient descent method that is based on adaptive estimation of first-order and second-order moments.* [Tensorflow](https://www.tensorflow.org/api_docs/python/tf/keras/optimizers/Adam]\n",
    "    *  The `learning_rate` defaults to 0.001 in the Adam optimizer. \n",
    "\n",
    "    - Loss Functions: class MeanSquaredError: Computes the mean of squares of errors between labels and predictions.\n",
    "    The mean squared error is the one I will be using. There are many more listed in the [keras losses](https://www.tensorflow.org/api_docs/python/tf/keras/losses) documentation.\n",
    "    \n",
    "    * Metrics to evaluate predictions such as `Accuracy`  which calculates how often predictions equal labels, `AUC` computes the approximate area under the curve,  `FalseNegatives` which calculates the number of false negatives and `FalsePositives` calculates the number of false positives, `Precision` computes the precision of the predictions with respect to the labels. \n",
    "    There are many more [metrics](https://www.tensorflow.org/api_docs/python/tf/keras/metrics) which I will come back when I get to that point...\n",
    "\n",
    "3. Fit the model\n",
    "\n",
    "To fit the model you need to select the training configuration such as the number of epochs which are loops through the training dataset. The batch size is the number of samples in an epoch used to estimate model error.\n",
    "(By passing in say 10 at a time instead of 1 at a time can have a smoothing effect)\n",
    "\n",
    "Training applies the chosen optimization algorithm to minimize the chosen loss function and updates the model using the backpropagation of error algorithm. This can be slow depending on the complexity of the model, the size of the training dataset and the hardware being used.\n",
    "\n",
    "There is another machine learning article here on [the importance of batch sizes](https://machinelearningmastery.com/how-to-control-the-speed-and-stability-of-training-neural-networks-with-gradient-descent-batch-size/)\n",
    "\n",
    "\n",
    "\n",
    "4. Evaluate the model\n",
    "\n",
    "This is where the holdout dataset comes into play, data that is not used in the training of the model so you can get an unbiased estimate of the performance of the model when making predictions on new data.\n",
    "\n",
    "5. Make predictions\n",
    "This is the final stage of the life cycle where you take values that you don't have target values and make a prediction.\n",
    "\n",
    "### Sequential model\n",
    "A **sequential** model adds layers to the model one by one in a linear manner, from input to output.\n",
    "    The visible layer of the network is defined by the input shape argument on the first hidden layer. In the wind dataset this will be `(1,)` - the model will expect the input for one sample to be a vector of 1 number.\n",
    "`model.add()` is used to add each layer.\n",
    "\n",
    "There is also a functional model which is more complex but more flexible. It involves explicitly connecting the output of one layer to the input of another layer. Each connection is specified. I will be using the sequential model for this project.\n",
    "\n",
    "###  Develop Multilayer Perceptron Models\n",
    "\n",
    "A Multilayer Perceptron model (MLP) is a standard fully connected neural network model. It is made up of one or more (dense) layers of nodes where each node is connected to all outputs from the previous layer and the output of each node is connected to all the inputs for the nodes in the next layer. This model is suitable for tabular data and can be used for three predictive modeling problems being binary classification, multiclass classification, and regression. \n",
    "The tutorial demostrates using MLP for each of the three predictive modeling problems.\n",
    "\n"
   ]
  },
  {
   "cell_type": "markdown",
   "metadata": {},
   "source": [
    "### Train a model\n",
    "\n",
    "- A **layer** is a simple input-output transformation.\n",
    "- A **model** is a directed acyclic graph of layers. It is like a bigger layer consisting of many sub-layers that can be trained via exposure to data.\n",
    "- Define the input layer, then chain layer transformations on top of the inputs until the final output.\n",
    "- Once the layers have been defined that turn the inputs into outputs, instantiate a `model` object.\n",
    "- A Sequential model is created by passing  a list of layers to the Sequential constructor\n",
    "    `model = keras.Sequential` or by incrementally adding the layers using the `add()` method.\n",
    "- All layers in Keras need to know the shape of their inputs in order to be able to create weights.\n",
    "The shape of the weights depends on the shape of their inputs.\n",
    "- The `Input` object is not a layer. Pass the input_shape() argument to the first layer.\n",
    "- Specify an optimizer and an a loss function using the `compile()` step.\n",
    "- Once the model has been compiled, fit the model to the data using `fit()`.\n",
    "- Two parameters need to be specified alongside the data, the `batch_size`  and the number of `epochs` (iterations on the data).\n",
    "- The `fit` call returns a history object which records what happens over the course of the training.\n",
    "- The `history.history` dict contains per-epoch timeseries of metrics values.\n",
    "- Validation data can be passed to `fit()` to monitor the validation loss & validation metrics which get reported at the end of each epoch.\n",
    "- After `fit()` you can evaluate the performance and generate predictions on new data using `evaluate()`.\n",
    "`loss, acc = model.evaluate(val_dataset)`\n",
    "`print(\"loss: %.2f\" % loss)\n",
    "print(\"acc: %.2f\" % acc)`\n",
    "- Generate numPy arrays of predictions using `predict()`.\n",
    "predictions = model.predict(val_dataset)\n",
    "\n",
    "When passing data to the built-in training loops of a model, NumPy arrays can be used if the data is small and fits in memory or `tf.data.Dataset` objects. The dataset here is only 500 rows."
   ]
  },
  {
   "cell_type": "markdown",
   "metadata": {},
   "source": [
    "### Import required packages"
   ]
  },
  {
   "cell_type": "code",
   "execution_count": 148,
   "metadata": {},
   "outputs": [
    {
     "name": "stdout",
     "output_type": "stream",
     "text": [
      "2.4.0\n"
     ]
    }
   ],
   "source": [
    "# Neural networks.\n",
    "import tensorflow.keras as kr\n",
    "print(kr.__version__)\n",
    "\n",
    "# Numerical arrays\n",
    "import numpy as np\n",
    "\n",
    "# Data frames.\n",
    "import pandas as pd\n",
    "\n",
    "# Plotting\n",
    "import matplotlib.pyplot as plt\n",
    "# splitting the data into training and test \n",
    "from sklearn.model_selection import train_test_split\n",
    "\n"
   ]
  },
  {
   "cell_type": "markdown",
   "metadata": {},
   "source": [
    "### The data:"
   ]
  },
  {
   "cell_type": "code",
   "execution_count": 149,
   "metadata": {},
   "outputs": [],
   "source": [
    "# mlp for regression\n",
    "\n",
    "from pandas import read_csv\n",
    "# https://scikit-learn.org/stable/modules/generated/sklearn.model_selection.train_test_split.html#sklearn.model_selection.train_test_split\n",
    "from sklearn.model_selection import train_test_split\n",
    "from tensorflow.keras import Sequential\n",
    "from tensorflow.keras.layers import Dense\n",
    "path = 'https://raw.githubusercontent.com/ianmcloughlin/2020A-machstat-project/master/dataset/powerproduction.csv'\n",
    "data = dfx"
   ]
  },
  {
   "cell_type": "code",
   "execution_count": 89,
   "metadata": {},
   "outputs": [],
   "source": [
    "# already done this in dfx\n",
    "# drop some of the outliers\n",
    "#df.drop(df.loc[(df.speed>24.4)].index, inplace=True)"
   ]
  },
  {
   "cell_type": "code",
   "execution_count": 90,
   "metadata": {},
   "outputs": [
    {
     "data": {
      "text/html": [
       "<div>\n",
       "<style scoped>\n",
       "    .dataframe tbody tr th:only-of-type {\n",
       "        vertical-align: middle;\n",
       "    }\n",
       "\n",
       "    .dataframe tbody tr th {\n",
       "        vertical-align: top;\n",
       "    }\n",
       "\n",
       "    .dataframe thead th {\n",
       "        text-align: right;\n",
       "    }\n",
       "</style>\n",
       "<table border=\"1\" class=\"dataframe\">\n",
       "  <thead>\n",
       "    <tr style=\"text-align: right;\">\n",
       "      <th></th>\n",
       "      <th>speed</th>\n",
       "      <th>power</th>\n",
       "    </tr>\n",
       "  </thead>\n",
       "  <tbody>\n",
       "    <tr>\n",
       "      <th>count</th>\n",
       "      <td>475.000000</td>\n",
       "      <td>475.000000</td>\n",
       "    </tr>\n",
       "    <tr>\n",
       "      <th>mean</th>\n",
       "      <td>12.440971</td>\n",
       "      <td>50.541667</td>\n",
       "    </tr>\n",
       "    <tr>\n",
       "      <th>std</th>\n",
       "      <td>7.101231</td>\n",
       "      <td>41.171815</td>\n",
       "    </tr>\n",
       "    <tr>\n",
       "      <th>min</th>\n",
       "      <td>0.000000</td>\n",
       "      <td>0.000000</td>\n",
       "    </tr>\n",
       "    <tr>\n",
       "      <th>25%</th>\n",
       "      <td>6.293500</td>\n",
       "      <td>6.737500</td>\n",
       "    </tr>\n",
       "    <tr>\n",
       "      <th>50%</th>\n",
       "      <td>12.538000</td>\n",
       "      <td>47.282000</td>\n",
       "    </tr>\n",
       "    <tr>\n",
       "      <th>75%</th>\n",
       "      <td>18.531500</td>\n",
       "      <td>94.017500</td>\n",
       "    </tr>\n",
       "    <tr>\n",
       "      <th>max</th>\n",
       "      <td>24.399000</td>\n",
       "      <td>113.556000</td>\n",
       "    </tr>\n",
       "  </tbody>\n",
       "</table>\n",
       "</div>"
      ],
      "text/plain": [
       "            speed       power\n",
       "count  475.000000  475.000000\n",
       "mean    12.440971   50.541667\n",
       "std      7.101231   41.171815\n",
       "min      0.000000    0.000000\n",
       "25%      6.293500    6.737500\n",
       "50%     12.538000   47.282000\n",
       "75%     18.531500   94.017500\n",
       "max     24.399000  113.556000"
      ]
     },
     "execution_count": 90,
     "metadata": {},
     "output_type": "execute_result"
    }
   ],
   "source": [
    "dfx.describe()"
   ]
  },
  {
   "cell_type": "markdown",
   "metadata": {},
   "source": [
    "### The data split into training and test sets\n",
    "\n",
    "- df is the original dataset with all 500 datapoints,\n",
    "- dfx is another copy where I dropped some of the the rows with zero power when the speed is over a certain value.\n",
    "The ideal machine-learning model is end to end and therefore the preprocessing should be part of the model as much as possible to make the model portable for production.\n",
    "I don't see anything in the Keras documentation for splitting dataset into training and test sets so I will use scikit-learn. This should not make any difference as it is only to split the data. However I initially followed some tutorials that used scikit-learn for scaling or normalising data and now I see that this will be a problem on the web app as the data taken in would have to have the scaling or normalisation applied as the training data. Keras does have some preprocessing layers including the `Normalization` layer for feature normalization.\n",
    "The model I used first below was a multi perceptron neural network on the unscaled data. The predictions were not bad. I then used the `preprocessing.MinMaxScaler()` from scikit-learn below but I am going to use the Normalization layer from tensorflow.keras\n",
    "from tensorflow.keras.layers.experimental.preprocessing import Normalization"
   ]
  },
  {
   "cell_type": "code",
   "execution_count": 47,
   "metadata": {},
   "outputs": [
    {
     "data": {
      "text/plain": [
       "(475, 2)"
      ]
     },
     "execution_count": 47,
     "metadata": {},
     "output_type": "execute_result"
    }
   ],
   "source": [
    "dfx.values.shape"
   ]
  },
  {
   "cell_type": "markdown",
   "metadata": {},
   "source": [
    "### First without normalisation\n",
    "Here the dataset has been split into a training and test set of input and output variables."
   ]
  },
  {
   "cell_type": "code",
   "execution_count": 96,
   "metadata": {},
   "outputs": [
    {
     "name": "stdout",
     "output_type": "stream",
     "text": [
      "(356, 1) (119, 1) (356, 1) (119, 1)\n"
     ]
    }
   ],
   "source": [
    "\n",
    "# split into input and output columns\n",
    "\n",
    "X, y = dfx.values[:, :-1], dfx.values[:, -1:]\n",
    "# split into train and test datasets\n",
    "X_train, X_test, y_train, y_test = train_test_split(X, y, test_size=0.25, random_state=0)\n",
    "print(X_train.shape, X_test.shape, y_train.shape, y_test.shape)\n",
    "# determine the number of input features\n",
    "n_features = X_train.shape[1]"
   ]
  },
  {
   "cell_type": "code",
   "execution_count": 97,
   "metadata": {},
   "outputs": [],
   "source": [
    "# Train a model\n",
    "model = kr.models.Sequential()\n",
    "model.add(kr.layers.Dense(50, input_shape=(1,), activation='sigmoid', kernel_initializer=\"glorot_uniform\", bias_initializer=\"glorot_uniform\"))\n",
    "#model.add(kr.layers.BatchNormalization())\n",
    "model.add(kr.layers.Dense(1, activation='linear', kernel_initializer=\"glorot_uniform\", bias_initializer=\"glorot_uniform\"))"
   ]
  },
  {
   "cell_type": "markdown",
   "metadata": {},
   "source": [
    "### Compile the model"
   ]
  },
  {
   "cell_type": "code",
   "execution_count": 98,
   "metadata": {},
   "outputs": [
    {
     "name": "stdout",
     "output_type": "stream",
     "text": [
      "Model: \"sequential_3\"\n",
      "_________________________________________________________________\n",
      "Layer (type)                 Output Shape              Param #   \n",
      "=================================================================\n",
      "dense_6 (Dense)              (None, 50)                100       \n",
      "_________________________________________________________________\n",
      "dense_7 (Dense)              (None, 1)                 51        \n",
      "=================================================================\n",
      "Total params: 151\n",
      "Trainable params: 151\n",
      "Non-trainable params: 0\n",
      "_________________________________________________________________\n"
     ]
    }
   ],
   "source": [
    "# \n",
    "model.compile(kr.optimizers.Adam(lr=0.001), loss='mean_squared_error')\n",
    "model.summary()"
   ]
  },
  {
   "cell_type": "markdown",
   "metadata": {},
   "source": [
    "The first dense layer has 100 parameters consisting of 50 neurons and 50 bias terms while the second dense layer is the output layer which has only one neuron with 1 bias and 50 inputs from the previous layer. "
   ]
  },
  {
   "cell_type": "markdown",
   "metadata": {},
   "source": [
    "#### Train the model on the data\n",
    "Following the machine mastery tutorial, I have added in the validation data."
   ]
  },
  {
   "cell_type": "code",
   "execution_count": 99,
   "metadata": {},
   "outputs": [
    {
     "name": "stdout",
     "output_type": "stream",
     "text": [
      "Epoch 1/500\n",
      "36/36 [==============================] - 0s 4ms/step - loss: 3749.2554 - val_loss: 3963.0386\n",
      "Epoch 2/500\n",
      "36/36 [==============================] - 0s 2ms/step - loss: 3616.2083 - val_loss: 3818.7139\n",
      "Epoch 3/500\n",
      "36/36 [==============================] - 0s 3ms/step - loss: 3480.3132 - val_loss: 3662.8557\n",
      "Epoch 4/500\n",
      "36/36 [==============================] - 0s 2ms/step - loss: 3326.4998 - val_loss: 3488.8208\n",
      "Epoch 5/500\n",
      "36/36 [==============================] - 0s 2ms/step - loss: 3157.9690 - val_loss: 3304.6423\n",
      "Epoch 6/500\n",
      "36/36 [==============================] - 0s 2ms/step - loss: 2998.6978 - val_loss: 3144.5308\n",
      "Epoch 7/500\n",
      "36/36 [==============================] - 0s 2ms/step - loss: 2861.6191 - val_loss: 3003.8994\n",
      "Epoch 8/500\n",
      "36/36 [==============================] - 0s 2ms/step - loss: 2739.9722 - val_loss: 2880.0803\n",
      "Epoch 9/500\n",
      "36/36 [==============================] - 0s 2ms/step - loss: 2633.4941 - val_loss: 2773.8232\n",
      "Epoch 10/500\n",
      "36/36 [==============================] - 0s 2ms/step - loss: 2540.7041 - val_loss: 2673.1213\n",
      "Epoch 11/500\n",
      "36/36 [==============================] - 0s 2ms/step - loss: 2453.3379 - val_loss: 2584.3230\n",
      "Epoch 12/500\n",
      "36/36 [==============================] - 0s 2ms/step - loss: 2373.8521 - val_loss: 2497.0334\n",
      "Epoch 13/500\n",
      "36/36 [==============================] - 0s 4ms/step - loss: 2297.0952 - val_loss: 2414.7195\n",
      "Epoch 14/500\n",
      "36/36 [==============================] - 0s 4ms/step - loss: 2221.9700 - val_loss: 2334.3772\n",
      "Epoch 15/500\n",
      "36/36 [==============================] - 0s 3ms/step - loss: 2149.9087 - val_loss: 2251.6675\n",
      "Epoch 16/500\n",
      "36/36 [==============================] - 0s 4ms/step - loss: 2078.6104 - val_loss: 2182.1064\n",
      "Epoch 17/500\n",
      "36/36 [==============================] - 0s 3ms/step - loss: 2014.5081 - val_loss: 2111.7998\n",
      "Epoch 18/500\n",
      "36/36 [==============================] - 0s 3ms/step - loss: 1952.4851 - val_loss: 2045.3582\n",
      "Epoch 19/500\n",
      "36/36 [==============================] - 0s 2ms/step - loss: 1894.4142 - val_loss: 1983.4995\n",
      "Epoch 20/500\n",
      "36/36 [==============================] - 0s 2ms/step - loss: 1838.5894 - val_loss: 1923.7235\n",
      "Epoch 21/500\n",
      "36/36 [==============================] - 0s 3ms/step - loss: 1785.4279 - val_loss: 1864.5612\n",
      "Epoch 22/500\n",
      "36/36 [==============================] - 0s 3ms/step - loss: 1733.2942 - val_loss: 1811.0980\n",
      "Epoch 23/500\n",
      "36/36 [==============================] - 0s 2ms/step - loss: 1683.9045 - val_loss: 1758.9146\n",
      "Epoch 24/500\n",
      "36/36 [==============================] - 0s 2ms/step - loss: 1636.5035 - val_loss: 1707.7714\n",
      "Epoch 25/500\n",
      "36/36 [==============================] - 0s 2ms/step - loss: 1590.1708 - val_loss: 1657.8771\n",
      "Epoch 26/500\n",
      "36/36 [==============================] - 0s 2ms/step - loss: 1546.1619 - val_loss: 1608.9489\n",
      "Epoch 27/500\n",
      "36/36 [==============================] - 0s 2ms/step - loss: 1502.1085 - val_loss: 1564.0015\n",
      "Epoch 28/500\n",
      "36/36 [==============================] - 0s 2ms/step - loss: 1460.3983 - val_loss: 1518.2527\n",
      "Epoch 29/500\n",
      "36/36 [==============================] - 0s 2ms/step - loss: 1419.0217 - val_loss: 1475.3859\n",
      "Epoch 30/500\n",
      "36/36 [==============================] - 0s 2ms/step - loss: 1379.2368 - val_loss: 1434.1958\n",
      "Epoch 31/500\n",
      "36/36 [==============================] - 0s 2ms/step - loss: 1341.8152 - val_loss: 1390.0193\n",
      "Epoch 32/500\n",
      "36/36 [==============================] - 0s 2ms/step - loss: 1302.1008 - val_loss: 1351.1202\n",
      "Epoch 33/500\n",
      "36/36 [==============================] - 0s 2ms/step - loss: 1264.9524 - val_loss: 1312.1761\n",
      "Epoch 34/500\n",
      "36/36 [==============================] - 0s 2ms/step - loss: 1228.3728 - val_loss: 1274.0117\n",
      "Epoch 35/500\n",
      "36/36 [==============================] - 0s 3ms/step - loss: 1193.4785 - val_loss: 1235.5035\n",
      "Epoch 36/500\n",
      "36/36 [==============================] - 0s 2ms/step - loss: 1158.7186 - val_loss: 1200.0559\n",
      "Epoch 37/500\n",
      "36/36 [==============================] - 0s 2ms/step - loss: 1124.9211 - val_loss: 1163.6575\n",
      "Epoch 38/500\n",
      "36/36 [==============================] - 0s 2ms/step - loss: 1091.4526 - val_loss: 1129.4133\n",
      "Epoch 39/500\n",
      "36/36 [==============================] - 0s 3ms/step - loss: 1060.1704 - val_loss: 1094.4142\n",
      "Epoch 40/500\n",
      "36/36 [==============================] - 0s 4ms/step - loss: 1027.8462 - val_loss: 1063.0647\n",
      "Epoch 41/500\n",
      "36/36 [==============================] - 0s 3ms/step - loss: 997.7472 - val_loss: 1029.4073\n",
      "Epoch 42/500\n",
      "36/36 [==============================] - 0s 3ms/step - loss: 967.2637 - val_loss: 999.2588\n",
      "Epoch 43/500\n",
      "36/36 [==============================] - 0s 2ms/step - loss: 938.4127 - val_loss: 968.1972\n",
      "Epoch 44/500\n",
      "36/36 [==============================] - 0s 2ms/step - loss: 909.8549 - val_loss: 939.1003\n",
      "Epoch 45/500\n",
      "36/36 [==============================] - 0s 2ms/step - loss: 883.4217 - val_loss: 908.2432\n",
      "Epoch 46/500\n",
      "36/36 [==============================] - 0s 2ms/step - loss: 854.8109 - val_loss: 882.0939\n",
      "Epoch 47/500\n",
      "36/36 [==============================] - 0s 2ms/step - loss: 829.2961 - val_loss: 853.0443\n",
      "Epoch 48/500\n",
      "36/36 [==============================] - 0s 3ms/step - loss: 802.9583 - val_loss: 827.7175\n",
      "Epoch 49/500\n",
      "36/36 [==============================] - 0s 4ms/step - loss: 778.3051 - val_loss: 801.4427\n",
      "Epoch 50/500\n",
      "36/36 [==============================] - 0s 3ms/step - loss: 754.0902 - val_loss: 775.4531\n",
      "Epoch 51/500\n",
      "36/36 [==============================] - 0s 3ms/step - loss: 729.9249 - val_loss: 750.8281\n",
      "Epoch 52/500\n",
      "36/36 [==============================] - 0s 3ms/step - loss: 707.2167 - val_loss: 726.7977\n",
      "Epoch 53/500\n",
      "36/36 [==============================] - 0s 3ms/step - loss: 685.2549 - val_loss: 703.7878\n",
      "Epoch 54/500\n",
      "36/36 [==============================] - 0s 3ms/step - loss: 663.0143 - val_loss: 682.0156\n",
      "Epoch 55/500\n",
      "36/36 [==============================] - 0s 3ms/step - loss: 642.0465 - val_loss: 659.1342\n",
      "Epoch 56/500\n",
      "36/36 [==============================] - 0s 3ms/step - loss: 621.3597 - val_loss: 637.7738\n",
      "Epoch 57/500\n",
      "36/36 [==============================] - 0s 3ms/step - loss: 602.4500 - val_loss: 617.8475\n",
      "Epoch 58/500\n",
      "36/36 [==============================] - 0s 2ms/step - loss: 582.7263 - val_loss: 596.9924\n",
      "Epoch 59/500\n",
      "36/36 [==============================] - 0s 3ms/step - loss: 564.1337 - val_loss: 577.5721\n",
      "Epoch 60/500\n",
      "36/36 [==============================] - 0s 4ms/step - loss: 545.3281 - val_loss: 558.9476\n",
      "Epoch 61/500\n",
      "36/36 [==============================] - 0s 3ms/step - loss: 528.0543 - val_loss: 540.8667\n",
      "Epoch 62/500\n",
      "36/36 [==============================] - 0s 2ms/step - loss: 510.9435 - val_loss: 522.9589\n",
      "Epoch 63/500\n",
      "36/36 [==============================] - 0s 2ms/step - loss: 494.4723 - val_loss: 505.6457\n",
      "Epoch 64/500\n",
      "36/36 [==============================] - 0s 3ms/step - loss: 478.3873 - val_loss: 489.2979\n",
      "Epoch 65/500\n",
      "36/36 [==============================] - 0s 3ms/step - loss: 463.2400 - val_loss: 473.4739\n",
      "Epoch 66/500\n",
      "36/36 [==============================] - 0s 2ms/step - loss: 447.8585 - val_loss: 457.5262\n",
      "Epoch 67/500\n",
      "36/36 [==============================] - 0s 2ms/step - loss: 434.8117 - val_loss: 441.8976\n",
      "Epoch 68/500\n",
      "36/36 [==============================] - 0s 2ms/step - loss: 420.6529 - val_loss: 427.3849\n",
      "Epoch 69/500\n",
      "36/36 [==============================] - 0s 2ms/step - loss: 405.9618 - val_loss: 413.7780\n",
      "Epoch 70/500\n",
      "36/36 [==============================] - 0s 3ms/step - loss: 393.3230 - val_loss: 400.1176\n",
      "Epoch 71/500\n",
      "36/36 [==============================] - 0s 3ms/step - loss: 380.4388 - val_loss: 387.2673\n",
      "Epoch 72/500\n",
      "36/36 [==============================] - 0s 3ms/step - loss: 368.4523 - val_loss: 374.2762\n",
      "Epoch 73/500\n",
      "36/36 [==============================] - 0s 3ms/step - loss: 356.1931 - val_loss: 362.2094\n",
      "Epoch 74/500\n",
      "36/36 [==============================] - 0s 3ms/step - loss: 345.5941 - val_loss: 350.2882\n",
      "Epoch 75/500\n",
      "36/36 [==============================] - 0s 3ms/step - loss: 334.2333 - val_loss: 339.3330\n",
      "Epoch 76/500\n",
      "36/36 [==============================] - 0s 3ms/step - loss: 323.6154 - val_loss: 327.8658\n",
      "Epoch 77/500\n",
      "36/36 [==============================] - 0s 4ms/step - loss: 313.5337 - val_loss: 317.6558\n",
      "Epoch 78/500\n",
      "36/36 [==============================] - 0s 2ms/step - loss: 303.7135 - val_loss: 306.8766\n",
      "Epoch 79/500\n"
     ]
    },
    {
     "name": "stdout",
     "output_type": "stream",
     "text": [
      "36/36 [==============================] - 0s 3ms/step - loss: 294.6305 - val_loss: 297.3616\n",
      "Epoch 80/500\n",
      "36/36 [==============================] - 0s 3ms/step - loss: 285.0694 - val_loss: 287.8213\n",
      "Epoch 81/500\n",
      "36/36 [==============================] - 0s 2ms/step - loss: 276.2690 - val_loss: 278.7201\n",
      "Epoch 82/500\n",
      "36/36 [==============================] - 0s 2ms/step - loss: 267.5367 - val_loss: 269.8921\n",
      "Epoch 83/500\n",
      "36/36 [==============================] - 0s 2ms/step - loss: 259.5703 - val_loss: 261.3786\n",
      "Epoch 84/500\n",
      "36/36 [==============================] - 0s 2ms/step - loss: 252.0456 - val_loss: 252.8864\n",
      "Epoch 85/500\n",
      "36/36 [==============================] - 0s 4ms/step - loss: 244.5393 - val_loss: 244.9307\n",
      "Epoch 86/500\n",
      "36/36 [==============================] - 0s 3ms/step - loss: 238.0327 - val_loss: 237.4666\n",
      "Epoch 87/500\n",
      "36/36 [==============================] - 0s 2ms/step - loss: 230.2668 - val_loss: 230.1042\n",
      "Epoch 88/500\n",
      "36/36 [==============================] - 0s 2ms/step - loss: 223.0776 - val_loss: 222.9909\n",
      "Epoch 89/500\n",
      "36/36 [==============================] - 0s 2ms/step - loss: 216.7251 - val_loss: 216.3267\n",
      "Epoch 90/500\n",
      "36/36 [==============================] - 0s 2ms/step - loss: 210.3212 - val_loss: 209.9157\n",
      "Epoch 91/500\n",
      "36/36 [==============================] - 0s 2ms/step - loss: 204.7686 - val_loss: 203.2110\n",
      "Epoch 92/500\n",
      "36/36 [==============================] - 0s 2ms/step - loss: 198.9308 - val_loss: 197.7127\n",
      "Epoch 93/500\n",
      "36/36 [==============================] - 0s 2ms/step - loss: 193.0904 - val_loss: 191.7434\n",
      "Epoch 94/500\n",
      "36/36 [==============================] - 0s 2ms/step - loss: 188.3219 - val_loss: 186.1398\n",
      "Epoch 95/500\n",
      "36/36 [==============================] - 0s 2ms/step - loss: 182.8810 - val_loss: 180.6984\n",
      "Epoch 96/500\n",
      "36/36 [==============================] - 0s 2ms/step - loss: 178.0886 - val_loss: 175.6496\n",
      "Epoch 97/500\n",
      "36/36 [==============================] - 0s 2ms/step - loss: 173.2735 - val_loss: 170.6384\n",
      "Epoch 98/500\n",
      "36/36 [==============================] - 0s 2ms/step - loss: 169.0065 - val_loss: 165.8289\n",
      "Epoch 99/500\n",
      "36/36 [==============================] - 0s 2ms/step - loss: 164.3330 - val_loss: 161.4944\n",
      "Epoch 100/500\n",
      "36/36 [==============================] - 0s 2ms/step - loss: 160.2596 - val_loss: 157.0832\n",
      "Epoch 101/500\n",
      "36/36 [==============================] - 0s 2ms/step - loss: 156.5696 - val_loss: 152.9210\n",
      "Epoch 102/500\n",
      "36/36 [==============================] - 0s 2ms/step - loss: 152.0689 - val_loss: 148.6150\n",
      "Epoch 103/500\n",
      "36/36 [==============================] - 0s 2ms/step - loss: 148.2667 - val_loss: 144.8451\n",
      "Epoch 104/500\n",
      "36/36 [==============================] - 0s 2ms/step - loss: 145.0207 - val_loss: 141.2195\n",
      "Epoch 105/500\n",
      "36/36 [==============================] - 0s 3ms/step - loss: 141.3174 - val_loss: 137.5785\n",
      "Epoch 106/500\n",
      "36/36 [==============================] - 0s 3ms/step - loss: 138.1765 - val_loss: 134.3809\n",
      "Epoch 107/500\n",
      "36/36 [==============================] - 0s 3ms/step - loss: 134.8268 - val_loss: 130.9609\n",
      "Epoch 108/500\n",
      "36/36 [==============================] - 0s 3ms/step - loss: 131.7544 - val_loss: 127.5936\n",
      "Epoch 109/500\n",
      "36/36 [==============================] - 0s 3ms/step - loss: 129.1466 - val_loss: 124.5737\n",
      "Epoch 110/500\n",
      "36/36 [==============================] - 0s 3ms/step - loss: 126.0918 - val_loss: 121.7140\n",
      "Epoch 111/500\n",
      "36/36 [==============================] - 0s 3ms/step - loss: 123.5377 - val_loss: 118.9331\n",
      "Epoch 112/500\n",
      "36/36 [==============================] - 0s 3ms/step - loss: 121.2606 - val_loss: 116.6402\n",
      "Epoch 113/500\n",
      "36/36 [==============================] - 0s 2ms/step - loss: 118.8693 - val_loss: 113.8289\n",
      "Epoch 114/500\n",
      "36/36 [==============================] - 0s 3ms/step - loss: 116.1579 - val_loss: 111.6933\n",
      "Epoch 115/500\n",
      "36/36 [==============================] - 0s 3ms/step - loss: 113.9857 - val_loss: 108.8112\n",
      "Epoch 116/500\n",
      "36/36 [==============================] - 0s 2ms/step - loss: 111.3789 - val_loss: 106.4325\n",
      "Epoch 117/500\n",
      "36/36 [==============================] - 0s 3ms/step - loss: 109.2592 - val_loss: 104.4208\n",
      "Epoch 118/500\n",
      "36/36 [==============================] - 0s 3ms/step - loss: 107.1726 - val_loss: 102.6357\n",
      "Epoch 119/500\n",
      "36/36 [==============================] - 0s 2ms/step - loss: 105.3862 - val_loss: 100.2655\n",
      "Epoch 120/500\n",
      "36/36 [==============================] - 0s 2ms/step - loss: 103.7769 - val_loss: 98.2324\n",
      "Epoch 121/500\n",
      "36/36 [==============================] - 0s 2ms/step - loss: 101.5273 - val_loss: 96.4684\n",
      "Epoch 122/500\n",
      "36/36 [==============================] - 0s 2ms/step - loss: 99.9861 - val_loss: 94.6366\n",
      "Epoch 123/500\n",
      "36/36 [==============================] - 0s 3ms/step - loss: 98.3083 - val_loss: 92.9486\n",
      "Epoch 124/500\n",
      "36/36 [==============================] - 0s 3ms/step - loss: 97.0215 - val_loss: 91.9246\n",
      "Epoch 125/500\n",
      "36/36 [==============================] - 0s 2ms/step - loss: 95.0314 - val_loss: 89.6182\n",
      "Epoch 126/500\n",
      "36/36 [==============================] - 0s 3ms/step - loss: 93.9506 - val_loss: 88.1255\n",
      "Epoch 127/500\n",
      "36/36 [==============================] - 0s 3ms/step - loss: 92.2446 - val_loss: 86.6598\n",
      "Epoch 128/500\n",
      "36/36 [==============================] - 0s 3ms/step - loss: 91.0955 - val_loss: 85.2384\n",
      "Epoch 129/500\n",
      "36/36 [==============================] - 0s 3ms/step - loss: 90.2753 - val_loss: 83.8658\n",
      "Epoch 130/500\n",
      "36/36 [==============================] - 0s 3ms/step - loss: 88.0956 - val_loss: 82.8611\n",
      "Epoch 131/500\n",
      "36/36 [==============================] - 0s 3ms/step - loss: 86.9927 - val_loss: 81.9449\n",
      "Epoch 132/500\n",
      "36/36 [==============================] - 0s 2ms/step - loss: 85.7139 - val_loss: 80.3438\n",
      "Epoch 133/500\n",
      "36/36 [==============================] - 0s 2ms/step - loss: 85.5325 - val_loss: 79.1931\n",
      "Epoch 134/500\n",
      "36/36 [==============================] - 0s 2ms/step - loss: 83.9589 - val_loss: 79.2743\n",
      "Epoch 135/500\n",
      "36/36 [==============================] - 0s 2ms/step - loss: 82.4205 - val_loss: 77.0972\n",
      "Epoch 136/500\n",
      "36/36 [==============================] - 0s 2ms/step - loss: 81.8592 - val_loss: 76.1659\n",
      "Epoch 137/500\n",
      "36/36 [==============================] - 0s 2ms/step - loss: 80.6442 - val_loss: 75.2636\n",
      "Epoch 138/500\n",
      "36/36 [==============================] - 0s 2ms/step - loss: 79.8456 - val_loss: 75.0115\n",
      "Epoch 139/500\n",
      "36/36 [==============================] - 0s 2ms/step - loss: 79.2328 - val_loss: 73.4362\n",
      "Epoch 140/500\n",
      "36/36 [==============================] - 0s 2ms/step - loss: 78.0953 - val_loss: 72.8165\n",
      "Epoch 141/500\n",
      "36/36 [==============================] - 0s 2ms/step - loss: 77.5520 - val_loss: 72.0875\n",
      "Epoch 142/500\n",
      "36/36 [==============================] - 0s 2ms/step - loss: 76.4191 - val_loss: 71.0966\n",
      "Epoch 143/500\n",
      "36/36 [==============================] - 0s 2ms/step - loss: 75.7727 - val_loss: 70.3355\n",
      "Epoch 144/500\n",
      "36/36 [==============================] - 0s 2ms/step - loss: 75.1990 - val_loss: 69.7624\n",
      "Epoch 145/500\n",
      "36/36 [==============================] - 0s 2ms/step - loss: 74.3752 - val_loss: 69.2112\n",
      "Epoch 146/500\n",
      "36/36 [==============================] - 0s 2ms/step - loss: 73.6713 - val_loss: 68.5231\n",
      "Epoch 147/500\n",
      "36/36 [==============================] - 0s 2ms/step - loss: 73.0965 - val_loss: 68.0919\n",
      "Epoch 148/500\n",
      "36/36 [==============================] - 0s 2ms/step - loss: 72.6152 - val_loss: 67.1681\n",
      "Epoch 149/500\n",
      "36/36 [==============================] - 0s 2ms/step - loss: 72.2690 - val_loss: 67.1148\n",
      "Epoch 150/500\n",
      "36/36 [==============================] - 0s 2ms/step - loss: 71.7609 - val_loss: 66.7073\n",
      "Epoch 151/500\n",
      "36/36 [==============================] - 0s 2ms/step - loss: 70.9055 - val_loss: 65.4029\n",
      "Epoch 152/500\n",
      "36/36 [==============================] - 0s 2ms/step - loss: 70.1680 - val_loss: 64.8437\n",
      "Epoch 153/500\n",
      "36/36 [==============================] - 0s 2ms/step - loss: 69.7625 - val_loss: 64.8577\n",
      "Epoch 154/500\n",
      "36/36 [==============================] - 0s 2ms/step - loss: 69.5916 - val_loss: 64.7546\n",
      "Epoch 155/500\n",
      "36/36 [==============================] - 0s 2ms/step - loss: 69.0910 - val_loss: 63.4805\n",
      "Epoch 156/500\n",
      "36/36 [==============================] - 0s 2ms/step - loss: 68.7445 - val_loss: 63.8226\n",
      "Epoch 157/500\n",
      "36/36 [==============================] - 0s 2ms/step - loss: 68.0840 - val_loss: 63.6045\n",
      "Epoch 158/500\n"
     ]
    },
    {
     "name": "stdout",
     "output_type": "stream",
     "text": [
      "36/36 [==============================] - 0s 2ms/step - loss: 68.1147 - val_loss: 62.0192\n",
      "Epoch 159/500\n",
      "36/36 [==============================] - 0s 2ms/step - loss: 66.9889 - val_loss: 62.6291\n",
      "Epoch 160/500\n",
      "36/36 [==============================] - 0s 2ms/step - loss: 66.6016 - val_loss: 61.5967\n",
      "Epoch 161/500\n",
      "36/36 [==============================] - 0s 2ms/step - loss: 66.0929 - val_loss: 61.2416\n",
      "Epoch 162/500\n",
      "36/36 [==============================] - 0s 2ms/step - loss: 65.9725 - val_loss: 60.4881\n",
      "Epoch 163/500\n",
      "36/36 [==============================] - 0s 2ms/step - loss: 65.2811 - val_loss: 61.0041\n",
      "Epoch 164/500\n",
      "36/36 [==============================] - 0s 1ms/step - loss: 64.9943 - val_loss: 60.0138\n",
      "Epoch 165/500\n",
      "36/36 [==============================] - 0s 2ms/step - loss: 64.5470 - val_loss: 59.4327\n",
      "Epoch 166/500\n",
      "36/36 [==============================] - 0s 2ms/step - loss: 64.0284 - val_loss: 59.1644\n",
      "Epoch 167/500\n",
      "36/36 [==============================] - 0s 2ms/step - loss: 63.8842 - val_loss: 59.0846\n",
      "Epoch 168/500\n",
      "36/36 [==============================] - 0s 2ms/step - loss: 63.8377 - val_loss: 58.5061\n",
      "Epoch 169/500\n",
      "36/36 [==============================] - 0s 2ms/step - loss: 64.1527 - val_loss: 60.8229\n",
      "Epoch 170/500\n",
      "36/36 [==============================] - 0s 2ms/step - loss: 62.5559 - val_loss: 57.6756\n",
      "Epoch 171/500\n",
      "36/36 [==============================] - 0s 2ms/step - loss: 62.7049 - val_loss: 58.3516\n",
      "Epoch 172/500\n",
      "36/36 [==============================] - 0s 2ms/step - loss: 62.8321 - val_loss: 57.9268\n",
      "Epoch 173/500\n",
      "36/36 [==============================] - 0s 2ms/step - loss: 62.1770 - val_loss: 57.5179\n",
      "Epoch 174/500\n",
      "36/36 [==============================] - 0s 2ms/step - loss: 61.2018 - val_loss: 56.6168\n",
      "Epoch 175/500\n",
      "36/36 [==============================] - 0s 2ms/step - loss: 61.1244 - val_loss: 56.5247\n",
      "Epoch 176/500\n",
      "36/36 [==============================] - 0s 2ms/step - loss: 60.8429 - val_loss: 56.7582\n",
      "Epoch 177/500\n",
      "36/36 [==============================] - 0s 1ms/step - loss: 60.3244 - val_loss: 55.7952\n",
      "Epoch 178/500\n",
      "36/36 [==============================] - 0s 2ms/step - loss: 60.1120 - val_loss: 55.8379\n",
      "Epoch 179/500\n",
      "36/36 [==============================] - 0s 2ms/step - loss: 59.7005 - val_loss: 55.1917\n",
      "Epoch 180/500\n",
      "36/36 [==============================] - 0s 2ms/step - loss: 59.4006 - val_loss: 54.8294\n",
      "Epoch 181/500\n",
      "36/36 [==============================] - 0s 2ms/step - loss: 59.2245 - val_loss: 54.5434\n",
      "Epoch 182/500\n",
      "36/36 [==============================] - 0s 2ms/step - loss: 58.7466 - val_loss: 54.1011\n",
      "Epoch 183/500\n",
      "36/36 [==============================] - 0s 2ms/step - loss: 58.4876 - val_loss: 54.5562\n",
      "Epoch 184/500\n",
      "36/36 [==============================] - 0s 2ms/step - loss: 58.2030 - val_loss: 53.7547\n",
      "Epoch 185/500\n",
      "36/36 [==============================] - 0s 2ms/step - loss: 57.8842 - val_loss: 53.4673\n",
      "Epoch 186/500\n",
      "36/36 [==============================] - 0s 2ms/step - loss: 57.6821 - val_loss: 53.2932\n",
      "Epoch 187/500\n",
      "36/36 [==============================] - 0s 1ms/step - loss: 57.5270 - val_loss: 53.2768\n",
      "Epoch 188/500\n",
      "36/36 [==============================] - 0s 2ms/step - loss: 57.1091 - val_loss: 53.0959\n",
      "Epoch 189/500\n",
      "36/36 [==============================] - 0s 2ms/step - loss: 56.9226 - val_loss: 52.8539\n",
      "Epoch 190/500\n",
      "36/36 [==============================] - 0s 2ms/step - loss: 56.7280 - val_loss: 51.8729\n",
      "Epoch 191/500\n",
      "36/36 [==============================] - 0s 2ms/step - loss: 56.3508 - val_loss: 51.6561\n",
      "Epoch 192/500\n",
      "36/36 [==============================] - 0s 2ms/step - loss: 55.6648 - val_loss: 52.6890\n",
      "Epoch 193/500\n",
      "36/36 [==============================] - 0s 1ms/step - loss: 55.8512 - val_loss: 52.2666\n",
      "Epoch 194/500\n",
      "36/36 [==============================] - 0s 1ms/step - loss: 55.2253 - val_loss: 51.0787\n",
      "Epoch 195/500\n",
      "36/36 [==============================] - 0s 2ms/step - loss: 54.9035 - val_loss: 50.8938\n",
      "Epoch 196/500\n",
      "36/36 [==============================] - 0s 2ms/step - loss: 54.6566 - val_loss: 50.6726\n",
      "Epoch 197/500\n",
      "36/36 [==============================] - 0s 2ms/step - loss: 54.4463 - val_loss: 51.0154\n",
      "Epoch 198/500\n",
      "36/36 [==============================] - 0s 2ms/step - loss: 54.0558 - val_loss: 49.7866\n",
      "Epoch 199/500\n",
      "36/36 [==============================] - 0s 2ms/step - loss: 53.8263 - val_loss: 49.7594\n",
      "Epoch 200/500\n",
      "36/36 [==============================] - 0s 2ms/step - loss: 53.6350 - val_loss: 50.5897\n",
      "Epoch 201/500\n",
      "36/36 [==============================] - 0s 2ms/step - loss: 53.1152 - val_loss: 49.0272\n",
      "Epoch 202/500\n",
      "36/36 [==============================] - 0s 2ms/step - loss: 53.3459 - val_loss: 48.8432\n",
      "Epoch 203/500\n",
      "36/36 [==============================] - 0s 2ms/step - loss: 53.1446 - val_loss: 49.3059\n",
      "Epoch 204/500\n",
      "36/36 [==============================] - 0s 2ms/step - loss: 52.5461 - val_loss: 48.1948\n",
      "Epoch 205/500\n",
      "36/36 [==============================] - 0s 2ms/step - loss: 51.9283 - val_loss: 48.5100\n",
      "Epoch 206/500\n",
      "36/36 [==============================] - 0s 2ms/step - loss: 51.8671 - val_loss: 48.1138\n",
      "Epoch 207/500\n",
      "36/36 [==============================] - 0s 2ms/step - loss: 51.6192 - val_loss: 47.7537\n",
      "Epoch 208/500\n",
      "36/36 [==============================] - 0s 2ms/step - loss: 51.2781 - val_loss: 47.1463\n",
      "Epoch 209/500\n",
      "36/36 [==============================] - 0s 2ms/step - loss: 51.1290 - val_loss: 47.1331\n",
      "Epoch 210/500\n",
      "36/36 [==============================] - 0s 2ms/step - loss: 50.9145 - val_loss: 48.2571\n",
      "Epoch 211/500\n",
      "36/36 [==============================] - 0s 2ms/step - loss: 50.2497 - val_loss: 46.4317\n",
      "Epoch 212/500\n",
      "36/36 [==============================] - 0s 2ms/step - loss: 50.3952 - val_loss: 46.3959\n",
      "Epoch 213/500\n",
      "36/36 [==============================] - 0s 2ms/step - loss: 50.1086 - val_loss: 47.3308\n",
      "Epoch 214/500\n",
      "36/36 [==============================] - 0s 2ms/step - loss: 50.2858 - val_loss: 46.3983\n",
      "Epoch 215/500\n",
      "36/36 [==============================] - 0s 1ms/step - loss: 49.2945 - val_loss: 45.4691\n",
      "Epoch 216/500\n",
      "36/36 [==============================] - 0s 2ms/step - loss: 49.3328 - val_loss: 45.0513\n",
      "Epoch 217/500\n",
      "36/36 [==============================] - 0s 1ms/step - loss: 49.1828 - val_loss: 45.0982\n",
      "Epoch 218/500\n",
      "36/36 [==============================] - 0s 2ms/step - loss: 48.4067 - val_loss: 44.7372\n",
      "Epoch 219/500\n",
      "36/36 [==============================] - 0s 2ms/step - loss: 48.2999 - val_loss: 44.2721\n",
      "Epoch 220/500\n",
      "36/36 [==============================] - 0s 2ms/step - loss: 47.9442 - val_loss: 44.5523\n",
      "Epoch 221/500\n",
      "36/36 [==============================] - 0s 2ms/step - loss: 47.9043 - val_loss: 44.9382\n",
      "Epoch 222/500\n",
      "36/36 [==============================] - 0s 2ms/step - loss: 47.5809 - val_loss: 44.0985\n",
      "Epoch 223/500\n",
      "36/36 [==============================] - 0s 2ms/step - loss: 47.3113 - val_loss: 43.8330\n",
      "Epoch 224/500\n",
      "36/36 [==============================] - 0s 2ms/step - loss: 46.9200 - val_loss: 43.3361\n",
      "Epoch 225/500\n",
      "36/36 [==============================] - 0s 2ms/step - loss: 46.4212 - val_loss: 42.7343\n",
      "Epoch 226/500\n",
      "36/36 [==============================] - 0s 2ms/step - loss: 46.1668 - val_loss: 43.6623\n",
      "Epoch 227/500\n",
      "36/36 [==============================] - 0s 2ms/step - loss: 45.9345 - val_loss: 42.6002\n",
      "Epoch 228/500\n",
      "36/36 [==============================] - 0s 1ms/step - loss: 45.4706 - val_loss: 41.9083\n",
      "Epoch 229/500\n",
      "36/36 [==============================] - 0s 1ms/step - loss: 45.3302 - val_loss: 41.6360\n",
      "Epoch 230/500\n",
      "36/36 [==============================] - 0s 1ms/step - loss: 45.1711 - val_loss: 42.7424\n",
      "Epoch 231/500\n",
      "36/36 [==============================] - 0s 2ms/step - loss: 45.0064 - val_loss: 41.3988\n",
      "Epoch 232/500\n",
      "36/36 [==============================] - 0s 2ms/step - loss: 45.0723 - val_loss: 42.4999\n",
      "Epoch 233/500\n",
      "36/36 [==============================] - 0s 2ms/step - loss: 44.3735 - val_loss: 41.2924\n",
      "Epoch 234/500\n",
      "36/36 [==============================] - 0s 2ms/step - loss: 43.9150 - val_loss: 40.4231\n",
      "Epoch 235/500\n",
      "36/36 [==============================] - 0s 2ms/step - loss: 43.6634 - val_loss: 40.8053\n",
      "Epoch 236/500\n",
      "36/36 [==============================] - 0s 2ms/step - loss: 43.4387 - val_loss: 40.2100\n",
      "Epoch 237/500\n"
     ]
    },
    {
     "name": "stdout",
     "output_type": "stream",
     "text": [
      "36/36 [==============================] - 0s 2ms/step - loss: 43.0480 - val_loss: 39.9243\n",
      "Epoch 238/500\n",
      "36/36 [==============================] - 0s 2ms/step - loss: 42.8238 - val_loss: 40.8161\n",
      "Epoch 239/500\n",
      "36/36 [==============================] - 0s 2ms/step - loss: 42.7284 - val_loss: 39.3256\n",
      "Epoch 240/500\n",
      "36/36 [==============================] - 0s 2ms/step - loss: 42.4696 - val_loss: 38.9652\n",
      "Epoch 241/500\n",
      "36/36 [==============================] - 0s 2ms/step - loss: 42.2205 - val_loss: 38.8614\n",
      "Epoch 242/500\n",
      "36/36 [==============================] - 0s 2ms/step - loss: 41.8479 - val_loss: 38.6531\n",
      "Epoch 243/500\n",
      "36/36 [==============================] - 0s 2ms/step - loss: 41.8490 - val_loss: 39.2189\n",
      "Epoch 244/500\n",
      "36/36 [==============================] - 0s 2ms/step - loss: 41.3743 - val_loss: 38.5517\n",
      "Epoch 245/500\n",
      "36/36 [==============================] - 0s 2ms/step - loss: 41.3743 - val_loss: 38.2061\n",
      "Epoch 246/500\n",
      "36/36 [==============================] - 0s 2ms/step - loss: 41.1072 - val_loss: 37.9710\n",
      "Epoch 247/500\n",
      "36/36 [==============================] - 0s 2ms/step - loss: 40.8614 - val_loss: 37.6408\n",
      "Epoch 248/500\n",
      "36/36 [==============================] - 0s 2ms/step - loss: 40.4525 - val_loss: 37.4261\n",
      "Epoch 249/500\n",
      "36/36 [==============================] - 0s 2ms/step - loss: 40.2175 - val_loss: 37.2351\n",
      "Epoch 250/500\n",
      "36/36 [==============================] - 0s 2ms/step - loss: 39.9672 - val_loss: 37.0855\n",
      "Epoch 251/500\n",
      "36/36 [==============================] - 0s 2ms/step - loss: 39.9649 - val_loss: 36.5375\n",
      "Epoch 252/500\n",
      "36/36 [==============================] - 0s 2ms/step - loss: 39.7344 - val_loss: 36.3050\n",
      "Epoch 253/500\n",
      "36/36 [==============================] - 0s 2ms/step - loss: 39.5950 - val_loss: 36.3095\n",
      "Epoch 254/500\n",
      "36/36 [==============================] - 0s 2ms/step - loss: 39.1056 - val_loss: 36.0437\n",
      "Epoch 255/500\n",
      "36/36 [==============================] - 0s 2ms/step - loss: 38.9039 - val_loss: 36.0980\n",
      "Epoch 256/500\n",
      "36/36 [==============================] - 0s 2ms/step - loss: 38.6508 - val_loss: 35.7724\n",
      "Epoch 257/500\n",
      "36/36 [==============================] - 0s 2ms/step - loss: 38.5660 - val_loss: 35.6837\n",
      "Epoch 258/500\n",
      "36/36 [==============================] - 0s 2ms/step - loss: 38.2947 - val_loss: 35.3284\n",
      "Epoch 259/500\n",
      "36/36 [==============================] - 0s 2ms/step - loss: 37.9598 - val_loss: 35.1067\n",
      "Epoch 260/500\n",
      "36/36 [==============================] - 0s 2ms/step - loss: 37.6955 - val_loss: 35.2703\n",
      "Epoch 261/500\n",
      "36/36 [==============================] - 0s 2ms/step - loss: 37.9462 - val_loss: 34.6680\n",
      "Epoch 262/500\n",
      "36/36 [==============================] - 0s 2ms/step - loss: 37.7101 - val_loss: 36.8484\n",
      "Epoch 263/500\n",
      "36/36 [==============================] - 0s 2ms/step - loss: 37.7804 - val_loss: 34.0780\n",
      "Epoch 264/500\n",
      "36/36 [==============================] - 0s 3ms/step - loss: 36.9201 - val_loss: 34.7039\n",
      "Epoch 265/500\n",
      "36/36 [==============================] - 0s 2ms/step - loss: 36.8650 - val_loss: 34.1423\n",
      "Epoch 266/500\n",
      "36/36 [==============================] - 0s 2ms/step - loss: 36.4284 - val_loss: 33.3598\n",
      "Epoch 267/500\n",
      "36/36 [==============================] - 0s 2ms/step - loss: 36.7858 - val_loss: 33.2711\n",
      "Epoch 268/500\n",
      "36/36 [==============================] - 0s 2ms/step - loss: 36.0035 - val_loss: 33.4165\n",
      "Epoch 269/500\n",
      "36/36 [==============================] - 0s 2ms/step - loss: 35.9601 - val_loss: 33.0224\n",
      "Epoch 270/500\n",
      "36/36 [==============================] - 0s 2ms/step - loss: 35.5209 - val_loss: 33.0564\n",
      "Epoch 271/500\n",
      "36/36 [==============================] - 0s 2ms/step - loss: 35.4226 - val_loss: 32.3752\n",
      "Epoch 272/500\n",
      "36/36 [==============================] - 0s 2ms/step - loss: 35.2423 - val_loss: 32.6660\n",
      "Epoch 273/500\n",
      "36/36 [==============================] - 0s 5ms/step - loss: 34.8765 - val_loss: 32.0188\n",
      "Epoch 274/500\n",
      "36/36 [==============================] - 0s 2ms/step - loss: 34.6833 - val_loss: 32.1642\n",
      "Epoch 275/500\n",
      "36/36 [==============================] - 0s 2ms/step - loss: 34.6812 - val_loss: 31.5817\n",
      "Epoch 276/500\n",
      "36/36 [==============================] - 0s 2ms/step - loss: 34.7574 - val_loss: 33.2519\n",
      "Epoch 277/500\n",
      "36/36 [==============================] - 0s 2ms/step - loss: 34.2353 - val_loss: 31.1650\n",
      "Epoch 278/500\n",
      "36/36 [==============================] - 0s 2ms/step - loss: 34.1126 - val_loss: 31.2359\n",
      "Epoch 279/500\n",
      "36/36 [==============================] - 0s 2ms/step - loss: 33.9087 - val_loss: 30.9936\n",
      "Epoch 280/500\n",
      "36/36 [==============================] - 0s 2ms/step - loss: 33.4669 - val_loss: 30.8092\n",
      "Epoch 281/500\n",
      "36/36 [==============================] - 0s 2ms/step - loss: 33.2634 - val_loss: 31.4472\n",
      "Epoch 282/500\n",
      "36/36 [==============================] - 0s 2ms/step - loss: 33.0591 - val_loss: 30.6211\n",
      "Epoch 283/500\n",
      "36/36 [==============================] - 0s 2ms/step - loss: 32.9126 - val_loss: 30.7017\n",
      "Epoch 284/500\n",
      "36/36 [==============================] - 0s 2ms/step - loss: 32.8705 - val_loss: 30.7534\n",
      "Epoch 285/500\n",
      "36/36 [==============================] - 0s 2ms/step - loss: 32.6367 - val_loss: 30.3903\n",
      "Epoch 286/500\n",
      "36/36 [==============================] - 0s 2ms/step - loss: 32.4934 - val_loss: 30.3127\n",
      "Epoch 287/500\n",
      "36/36 [==============================] - 0s 2ms/step - loss: 32.2447 - val_loss: 29.5755\n",
      "Epoch 288/500\n",
      "36/36 [==============================] - 0s 2ms/step - loss: 32.1966 - val_loss: 29.3775\n",
      "Epoch 289/500\n",
      "36/36 [==============================] - 0s 2ms/step - loss: 31.9323 - val_loss: 30.7518\n",
      "Epoch 290/500\n",
      "36/36 [==============================] - 0s 2ms/step - loss: 31.9790 - val_loss: 29.8036\n",
      "Epoch 291/500\n",
      "36/36 [==============================] - 0s 2ms/step - loss: 32.0039 - val_loss: 29.9706\n",
      "Epoch 292/500\n",
      "36/36 [==============================] - 0s 2ms/step - loss: 31.2254 - val_loss: 28.7891\n",
      "Epoch 293/500\n",
      "36/36 [==============================] - 0s 2ms/step - loss: 31.0786 - val_loss: 29.1525\n",
      "Epoch 294/500\n",
      "36/36 [==============================] - 0s 2ms/step - loss: 30.9275 - val_loss: 28.6618\n",
      "Epoch 295/500\n",
      "36/36 [==============================] - 0s 2ms/step - loss: 30.8344 - val_loss: 28.8973\n",
      "Epoch 296/500\n",
      "36/36 [==============================] - 0s 2ms/step - loss: 30.6495 - val_loss: 28.6508\n",
      "Epoch 297/500\n",
      "36/36 [==============================] - 0s 2ms/step - loss: 30.4935 - val_loss: 28.1532\n",
      "Epoch 298/500\n",
      "36/36 [==============================] - 0s 2ms/step - loss: 30.3028 - val_loss: 28.3137\n",
      "Epoch 299/500\n",
      "36/36 [==============================] - 0s 2ms/step - loss: 30.2560 - val_loss: 28.0051\n",
      "Epoch 300/500\n",
      "36/36 [==============================] - 0s 1ms/step - loss: 30.0103 - val_loss: 27.7926\n",
      "Epoch 301/500\n",
      "36/36 [==============================] - 0s 2ms/step - loss: 29.8031 - val_loss: 27.9470\n",
      "Epoch 302/500\n",
      "36/36 [==============================] - 0s 2ms/step - loss: 29.7999 - val_loss: 27.5778\n",
      "Epoch 303/500\n",
      "36/36 [==============================] - 0s 2ms/step - loss: 29.5907 - val_loss: 27.2576\n",
      "Epoch 304/500\n",
      "36/36 [==============================] - 0s 2ms/step - loss: 29.4088 - val_loss: 27.6584\n",
      "Epoch 305/500\n",
      "36/36 [==============================] - 0s 2ms/step - loss: 29.3519 - val_loss: 27.2999\n",
      "Epoch 306/500\n",
      "36/36 [==============================] - 0s 2ms/step - loss: 29.2801 - val_loss: 27.0059\n",
      "Epoch 307/500\n",
      "36/36 [==============================] - 0s 1ms/step - loss: 28.9783 - val_loss: 26.7096\n",
      "Epoch 308/500\n",
      "36/36 [==============================] - 0s 2ms/step - loss: 29.4313 - val_loss: 27.6821\n",
      "Epoch 309/500\n",
      "36/36 [==============================] - 0s 1ms/step - loss: 28.6696 - val_loss: 26.3746\n",
      "Epoch 310/500\n",
      "36/36 [==============================] - 0s 2ms/step - loss: 28.4964 - val_loss: 26.3272\n",
      "Epoch 311/500\n",
      "36/36 [==============================] - 0s 2ms/step - loss: 28.4373 - val_loss: 26.3513\n",
      "Epoch 312/500\n",
      "36/36 [==============================] - 0s 1ms/step - loss: 28.2721 - val_loss: 25.9968\n",
      "Epoch 313/500\n",
      "36/36 [==============================] - 0s 1ms/step - loss: 28.1898 - val_loss: 27.0184\n",
      "Epoch 314/500\n",
      "36/36 [==============================] - 0s 2ms/step - loss: 28.1587 - val_loss: 26.3175\n",
      "Epoch 315/500\n",
      "36/36 [==============================] - 0s 2ms/step - loss: 28.1868 - val_loss: 25.7208\n",
      "Epoch 316/500\n"
     ]
    },
    {
     "name": "stdout",
     "output_type": "stream",
     "text": [
      "36/36 [==============================] - 0s 2ms/step - loss: 27.7572 - val_loss: 25.4757\n",
      "Epoch 317/500\n",
      "36/36 [==============================] - 0s 2ms/step - loss: 27.7439 - val_loss: 27.2535\n",
      "Epoch 318/500\n",
      "36/36 [==============================] - 0s 2ms/step - loss: 27.8268 - val_loss: 25.8692\n",
      "Epoch 319/500\n",
      "36/36 [==============================] - 0s 2ms/step - loss: 27.2656 - val_loss: 25.1681\n",
      "Epoch 320/500\n",
      "36/36 [==============================] - 0s 2ms/step - loss: 27.2415 - val_loss: 25.6482\n",
      "Epoch 321/500\n",
      "36/36 [==============================] - 0s 2ms/step - loss: 26.9975 - val_loss: 25.0854\n",
      "Epoch 322/500\n",
      "36/36 [==============================] - 0s 2ms/step - loss: 27.0364 - val_loss: 24.8969\n",
      "Epoch 323/500\n",
      "36/36 [==============================] - 0s 2ms/step - loss: 26.8741 - val_loss: 25.4766\n",
      "Epoch 324/500\n",
      "36/36 [==============================] - 0s 2ms/step - loss: 26.8949 - val_loss: 24.5840\n",
      "Epoch 325/500\n",
      "36/36 [==============================] - 0s 2ms/step - loss: 26.8491 - val_loss: 24.5833\n",
      "Epoch 326/500\n",
      "36/36 [==============================] - 0s 2ms/step - loss: 26.6043 - val_loss: 25.0723\n",
      "Epoch 327/500\n",
      "36/36 [==============================] - 0s 2ms/step - loss: 26.5262 - val_loss: 24.2669\n",
      "Epoch 328/500\n",
      "36/36 [==============================] - 0s 2ms/step - loss: 26.4127 - val_loss: 24.2450\n",
      "Epoch 329/500\n",
      "36/36 [==============================] - 0s 2ms/step - loss: 26.2015 - val_loss: 25.4419\n",
      "Epoch 330/500\n",
      "36/36 [==============================] - 0s 2ms/step - loss: 26.0200 - val_loss: 23.9373\n",
      "Epoch 331/500\n",
      "36/36 [==============================] - 0s 2ms/step - loss: 25.8780 - val_loss: 24.5000\n",
      "Epoch 332/500\n",
      "36/36 [==============================] - 0s 2ms/step - loss: 25.8660 - val_loss: 24.2274\n",
      "Epoch 333/500\n",
      "36/36 [==============================] - 0s 1ms/step - loss: 25.7572 - val_loss: 24.1197\n",
      "Epoch 334/500\n",
      "36/36 [==============================] - 0s 2ms/step - loss: 25.5400 - val_loss: 24.0633\n",
      "Epoch 335/500\n",
      "36/36 [==============================] - 0s 2ms/step - loss: 25.4396 - val_loss: 24.1494\n",
      "Epoch 336/500\n",
      "36/36 [==============================] - 0s 1ms/step - loss: 25.3696 - val_loss: 24.4438\n",
      "Epoch 337/500\n",
      "36/36 [==============================] - 0s 2ms/step - loss: 25.3115 - val_loss: 23.7682\n",
      "Epoch 338/500\n",
      "36/36 [==============================] - 0s 2ms/step - loss: 25.0926 - val_loss: 23.4430\n",
      "Epoch 339/500\n",
      "36/36 [==============================] - 0s 2ms/step - loss: 25.0378 - val_loss: 23.4186\n",
      "Epoch 340/500\n",
      "36/36 [==============================] - 0s 2ms/step - loss: 25.0493 - val_loss: 23.0276\n",
      "Epoch 341/500\n",
      "36/36 [==============================] - 0s 2ms/step - loss: 24.8977 - val_loss: 23.1814\n",
      "Epoch 342/500\n",
      "36/36 [==============================] - 0s 1ms/step - loss: 24.8334 - val_loss: 23.5414\n",
      "Epoch 343/500\n",
      "36/36 [==============================] - 0s 2ms/step - loss: 24.5601 - val_loss: 23.2304\n",
      "Epoch 344/500\n",
      "36/36 [==============================] - 0s 2ms/step - loss: 24.5574 - val_loss: 22.5935\n",
      "Epoch 345/500\n",
      "36/36 [==============================] - 0s 2ms/step - loss: 24.4165 - val_loss: 22.7779\n",
      "Epoch 346/500\n",
      "36/36 [==============================] - 0s 2ms/step - loss: 24.3777 - val_loss: 22.9973\n",
      "Epoch 347/500\n",
      "36/36 [==============================] - 0s 2ms/step - loss: 24.1707 - val_loss: 22.1859\n",
      "Epoch 348/500\n",
      "36/36 [==============================] - 0s 2ms/step - loss: 24.3387 - val_loss: 22.6800\n",
      "Epoch 349/500\n",
      "36/36 [==============================] - 0s 2ms/step - loss: 24.0301 - val_loss: 22.4588\n",
      "Epoch 350/500\n",
      "36/36 [==============================] - 0s 2ms/step - loss: 23.7866 - val_loss: 22.0416\n",
      "Epoch 351/500\n",
      "36/36 [==============================] - 0s 2ms/step - loss: 23.7053 - val_loss: 22.8091\n",
      "Epoch 352/500\n",
      "36/36 [==============================] - 0s 2ms/step - loss: 23.5982 - val_loss: 22.2427\n",
      "Epoch 353/500\n",
      "36/36 [==============================] - 0s 2ms/step - loss: 23.6301 - val_loss: 22.1718\n",
      "Epoch 354/500\n",
      "36/36 [==============================] - 0s 2ms/step - loss: 23.4203 - val_loss: 21.7800\n",
      "Epoch 355/500\n",
      "36/36 [==============================] - 0s 2ms/step - loss: 23.3177 - val_loss: 21.6616\n",
      "Epoch 356/500\n",
      "36/36 [==============================] - 0s 2ms/step - loss: 23.3514 - val_loss: 22.2572\n",
      "Epoch 357/500\n",
      "36/36 [==============================] - 0s 2ms/step - loss: 23.1244 - val_loss: 21.4128\n",
      "Epoch 358/500\n",
      "36/36 [==============================] - 0s 2ms/step - loss: 23.0819 - val_loss: 21.7436\n",
      "Epoch 359/500\n",
      "36/36 [==============================] - 0s 2ms/step - loss: 22.9565 - val_loss: 21.2949\n",
      "Epoch 360/500\n",
      "36/36 [==============================] - 0s 2ms/step - loss: 23.0853 - val_loss: 21.4497\n",
      "Epoch 361/500\n",
      "36/36 [==============================] - 0s 1ms/step - loss: 22.7776 - val_loss: 21.2691\n",
      "Epoch 362/500\n",
      "36/36 [==============================] - 0s 1ms/step - loss: 22.6323 - val_loss: 21.4642\n",
      "Epoch 363/500\n",
      "36/36 [==============================] - 0s 1ms/step - loss: 22.6206 - val_loss: 21.5082\n",
      "Epoch 364/500\n",
      "36/36 [==============================] - 0s 2ms/step - loss: 22.5392 - val_loss: 21.4765\n",
      "Epoch 365/500\n",
      "36/36 [==============================] - 0s 2ms/step - loss: 22.4607 - val_loss: 21.1527\n",
      "Epoch 366/500\n",
      "36/36 [==============================] - 0s 2ms/step - loss: 22.3591 - val_loss: 22.5958\n",
      "Epoch 367/500\n",
      "36/36 [==============================] - 0s 2ms/step - loss: 22.5783 - val_loss: 20.6158\n",
      "Epoch 368/500\n",
      "36/36 [==============================] - 0s 1ms/step - loss: 22.7046 - val_loss: 20.6964\n",
      "Epoch 369/500\n",
      "36/36 [==============================] - 0s 2ms/step - loss: 22.2452 - val_loss: 21.2440\n",
      "Epoch 370/500\n",
      "36/36 [==============================] - 0s 2ms/step - loss: 22.1600 - val_loss: 21.1732\n",
      "Epoch 371/500\n",
      "36/36 [==============================] - 0s 2ms/step - loss: 21.9540 - val_loss: 20.9423\n",
      "Epoch 372/500\n",
      "36/36 [==============================] - 0s 2ms/step - loss: 22.0181 - val_loss: 20.5078\n",
      "Epoch 373/500\n",
      "36/36 [==============================] - 0s 2ms/step - loss: 21.8524 - val_loss: 20.8523\n",
      "Epoch 374/500\n",
      "36/36 [==============================] - 0s 2ms/step - loss: 21.7867 - val_loss: 20.6942\n",
      "Epoch 375/500\n",
      "36/36 [==============================] - 0s 2ms/step - loss: 21.7196 - val_loss: 20.7457\n",
      "Epoch 376/500\n",
      "36/36 [==============================] - 0s 2ms/step - loss: 21.8822 - val_loss: 21.0577\n",
      "Epoch 377/500\n",
      "36/36 [==============================] - 0s 2ms/step - loss: 21.5330 - val_loss: 20.2713\n",
      "Epoch 378/500\n",
      "36/36 [==============================] - 0s 2ms/step - loss: 21.5336 - val_loss: 20.3422\n",
      "Epoch 379/500\n",
      "36/36 [==============================] - 0s 2ms/step - loss: 21.4865 - val_loss: 20.2761\n",
      "Epoch 380/500\n",
      "36/36 [==============================] - 0s 2ms/step - loss: 21.5192 - val_loss: 20.5952\n",
      "Epoch 381/500\n",
      "36/36 [==============================] - 0s 3ms/step - loss: 21.3492 - val_loss: 20.0711\n",
      "Epoch 382/500\n",
      "36/36 [==============================] - 0s 2ms/step - loss: 21.2937 - val_loss: 20.6833\n",
      "Epoch 383/500\n",
      "36/36 [==============================] - 0s 2ms/step - loss: 21.3207 - val_loss: 20.5531\n",
      "Epoch 384/500\n",
      "36/36 [==============================] - 0s 2ms/step - loss: 21.1589 - val_loss: 20.0090\n",
      "Epoch 385/500\n",
      "36/36 [==============================] - 0s 2ms/step - loss: 21.1347 - val_loss: 20.0694\n",
      "Epoch 386/500\n",
      "36/36 [==============================] - 0s 2ms/step - loss: 21.1092 - val_loss: 19.9346\n",
      "Epoch 387/500\n",
      "36/36 [==============================] - 0s 2ms/step - loss: 21.1612 - val_loss: 19.6590\n",
      "Epoch 388/500\n",
      "36/36 [==============================] - 0s 2ms/step - loss: 21.2321 - val_loss: 21.7610\n",
      "Epoch 389/500\n",
      "36/36 [==============================] - 0s 2ms/step - loss: 20.9183 - val_loss: 19.6558\n",
      "Epoch 390/500\n",
      "36/36 [==============================] - 0s 2ms/step - loss: 21.0895 - val_loss: 20.3600\n",
      "Epoch 391/500\n",
      "36/36 [==============================] - 0s 2ms/step - loss: 20.8936 - val_loss: 20.4503\n",
      "Epoch 392/500\n",
      "36/36 [==============================] - 0s 2ms/step - loss: 20.8745 - val_loss: 20.2714\n",
      "Epoch 393/500\n",
      "36/36 [==============================] - 0s 2ms/step - loss: 20.9323 - val_loss: 20.2769\n",
      "Epoch 394/500\n",
      "36/36 [==============================] - 0s 2ms/step - loss: 20.8021 - val_loss: 20.3376\n",
      "Epoch 395/500\n"
     ]
    },
    {
     "name": "stdout",
     "output_type": "stream",
     "text": [
      "36/36 [==============================] - 0s 2ms/step - loss: 20.6898 - val_loss: 19.5991\n",
      "Epoch 396/500\n",
      "36/36 [==============================] - 0s 2ms/step - loss: 20.6319 - val_loss: 19.4243\n",
      "Epoch 397/500\n",
      "36/36 [==============================] - 0s 2ms/step - loss: 20.6109 - val_loss: 20.1546\n",
      "Epoch 398/500\n",
      "36/36 [==============================] - 0s 2ms/step - loss: 20.4873 - val_loss: 19.4067\n",
      "Epoch 399/500\n",
      "36/36 [==============================] - 0s 2ms/step - loss: 20.5645 - val_loss: 19.1072\n",
      "Epoch 400/500\n",
      "36/36 [==============================] - 0s 2ms/step - loss: 20.4022 - val_loss: 20.2026\n",
      "Epoch 401/500\n",
      "36/36 [==============================] - 0s 2ms/step - loss: 20.3343 - val_loss: 19.1509\n",
      "Epoch 402/500\n",
      "36/36 [==============================] - 0s 2ms/step - loss: 20.3614 - val_loss: 19.2759\n",
      "Epoch 403/500\n",
      "36/36 [==============================] - 0s 2ms/step - loss: 20.2897 - val_loss: 19.9041\n",
      "Epoch 404/500\n",
      "36/36 [==============================] - 0s 2ms/step - loss: 20.6368 - val_loss: 19.3277\n",
      "Epoch 405/500\n",
      "36/36 [==============================] - 0s 2ms/step - loss: 20.1607 - val_loss: 19.6677\n",
      "Epoch 406/500\n",
      "36/36 [==============================] - 0s 2ms/step - loss: 20.2083 - val_loss: 19.2290\n",
      "Epoch 407/500\n",
      "36/36 [==============================] - 0s 2ms/step - loss: 20.1722 - val_loss: 19.6426\n",
      "Epoch 408/500\n",
      "36/36 [==============================] - 0s 1ms/step - loss: 20.3127 - val_loss: 18.8986\n",
      "Epoch 409/500\n",
      "36/36 [==============================] - 0s 1ms/step - loss: 20.2968 - val_loss: 18.8670\n",
      "Epoch 410/500\n",
      "36/36 [==============================] - 0s 2ms/step - loss: 19.9868 - val_loss: 19.1411\n",
      "Epoch 411/500\n",
      "36/36 [==============================] - 0s 2ms/step - loss: 19.9726 - val_loss: 19.1696\n",
      "Epoch 412/500\n",
      "36/36 [==============================] - 0s 2ms/step - loss: 19.9699 - val_loss: 19.2807\n",
      "Epoch 413/500\n",
      "36/36 [==============================] - 0s 2ms/step - loss: 19.9339 - val_loss: 19.2464\n",
      "Epoch 414/500\n",
      "36/36 [==============================] - 0s 2ms/step - loss: 19.9190 - val_loss: 19.2152\n",
      "Epoch 415/500\n",
      "36/36 [==============================] - 0s 2ms/step - loss: 19.8830 - val_loss: 18.6071\n",
      "Epoch 416/500\n",
      "36/36 [==============================] - 0s 2ms/step - loss: 19.8086 - val_loss: 19.7124\n",
      "Epoch 417/500\n",
      "36/36 [==============================] - 0s 2ms/step - loss: 19.8489 - val_loss: 19.5119\n",
      "Epoch 418/500\n",
      "36/36 [==============================] - 0s 1ms/step - loss: 19.7054 - val_loss: 18.9621\n",
      "Epoch 419/500\n",
      "36/36 [==============================] - 0s 2ms/step - loss: 19.7157 - val_loss: 18.7245\n",
      "Epoch 420/500\n",
      "36/36 [==============================] - 0s 2ms/step - loss: 19.6203 - val_loss: 18.8808\n",
      "Epoch 421/500\n",
      "36/36 [==============================] - 0s 2ms/step - loss: 19.6772 - val_loss: 18.5902\n",
      "Epoch 422/500\n",
      "36/36 [==============================] - 0s 2ms/step - loss: 19.5220 - val_loss: 19.3140\n",
      "Epoch 423/500\n",
      "36/36 [==============================] - 0s 2ms/step - loss: 19.5682 - val_loss: 18.5996\n",
      "Epoch 424/500\n",
      "36/36 [==============================] - 0s 2ms/step - loss: 19.5127 - val_loss: 18.7408\n",
      "Epoch 425/500\n",
      "36/36 [==============================] - 0s 2ms/step - loss: 19.5600 - val_loss: 18.6271\n",
      "Epoch 426/500\n",
      "36/36 [==============================] - 0s 2ms/step - loss: 19.4630 - val_loss: 18.4540\n",
      "Epoch 427/500\n",
      "36/36 [==============================] - 0s 2ms/step - loss: 19.4664 - val_loss: 18.2524\n",
      "Epoch 428/500\n",
      "36/36 [==============================] - 0s 2ms/step - loss: 19.4827 - val_loss: 19.2075\n",
      "Epoch 429/500\n",
      "36/36 [==============================] - 0s 2ms/step - loss: 19.4152 - val_loss: 19.1259\n",
      "Epoch 430/500\n",
      "36/36 [==============================] - 0s 1ms/step - loss: 19.5047 - val_loss: 18.5682\n",
      "Epoch 431/500\n",
      "36/36 [==============================] - 0s 2ms/step - loss: 19.4606 - val_loss: 18.0814\n",
      "Epoch 432/500\n",
      "36/36 [==============================] - 0s 2ms/step - loss: 19.3425 - val_loss: 19.5775\n",
      "Epoch 433/500\n",
      "36/36 [==============================] - 0s 2ms/step - loss: 19.3876 - val_loss: 18.6155\n",
      "Epoch 434/500\n",
      "36/36 [==============================] - 0s 2ms/step - loss: 19.2175 - val_loss: 18.5261\n",
      "Epoch 435/500\n",
      "36/36 [==============================] - 0s 2ms/step - loss: 19.1519 - val_loss: 19.1866\n",
      "Epoch 436/500\n",
      "36/36 [==============================] - 0s 2ms/step - loss: 19.1821 - val_loss: 18.6232\n",
      "Epoch 437/500\n",
      "36/36 [==============================] - 0s 2ms/step - loss: 19.1292 - val_loss: 18.6100\n",
      "Epoch 438/500\n",
      "36/36 [==============================] - 0s 2ms/step - loss: 19.1291 - val_loss: 18.1960\n",
      "Epoch 439/500\n",
      "36/36 [==============================] - 0s 2ms/step - loss: 19.1336 - val_loss: 18.8500\n",
      "Epoch 440/500\n",
      "36/36 [==============================] - 0s 2ms/step - loss: 19.2194 - val_loss: 18.5064\n",
      "Epoch 441/500\n",
      "36/36 [==============================] - 0s 2ms/step - loss: 19.0069 - val_loss: 18.3064\n",
      "Epoch 442/500\n",
      "36/36 [==============================] - 0s 2ms/step - loss: 18.9938 - val_loss: 18.2672\n",
      "Epoch 443/500\n",
      "36/36 [==============================] - 0s 2ms/step - loss: 18.9295 - val_loss: 18.1506\n",
      "Epoch 444/500\n",
      "36/36 [==============================] - 0s 2ms/step - loss: 19.0543 - val_loss: 17.9739\n",
      "Epoch 445/500\n",
      "36/36 [==============================] - 0s 2ms/step - loss: 19.0022 - val_loss: 17.9169\n",
      "Epoch 446/500\n",
      "36/36 [==============================] - 0s 2ms/step - loss: 19.0494 - val_loss: 18.5910\n",
      "Epoch 447/500\n",
      "36/36 [==============================] - 0s 2ms/step - loss: 19.0276 - val_loss: 18.2300\n",
      "Epoch 448/500\n",
      "36/36 [==============================] - 0s 2ms/step - loss: 18.9608 - val_loss: 17.9623\n",
      "Epoch 449/500\n",
      "36/36 [==============================] - 0s 2ms/step - loss: 18.9282 - val_loss: 18.7358\n",
      "Epoch 450/500\n",
      "36/36 [==============================] - 0s 2ms/step - loss: 18.9398 - val_loss: 18.9027\n",
      "Epoch 451/500\n",
      "36/36 [==============================] - 0s 2ms/step - loss: 18.7591 - val_loss: 18.0946\n",
      "Epoch 452/500\n",
      "36/36 [==============================] - 0s 2ms/step - loss: 18.7788 - val_loss: 18.2216\n",
      "Epoch 453/500\n",
      "36/36 [==============================] - 0s 2ms/step - loss: 18.9228 - val_loss: 18.1797\n",
      "Epoch 454/500\n",
      "36/36 [==============================] - 0s 2ms/step - loss: 18.7242 - val_loss: 17.8235\n",
      "Epoch 455/500\n",
      "36/36 [==============================] - 0s 2ms/step - loss: 18.7593 - val_loss: 18.3303\n",
      "Epoch 456/500\n",
      "36/36 [==============================] - 0s 2ms/step - loss: 18.6557 - val_loss: 18.7006\n",
      "Epoch 457/500\n",
      "36/36 [==============================] - 0s 2ms/step - loss: 18.6724 - val_loss: 17.9328\n",
      "Epoch 458/500\n",
      "36/36 [==============================] - 0s 2ms/step - loss: 18.7046 - val_loss: 18.2141\n",
      "Epoch 459/500\n",
      "36/36 [==============================] - 0s 2ms/step - loss: 18.7836 - val_loss: 17.5661\n",
      "Epoch 460/500\n",
      "36/36 [==============================] - 0s 2ms/step - loss: 18.7586 - val_loss: 17.9530\n",
      "Epoch 461/500\n",
      "36/36 [==============================] - 0s 2ms/step - loss: 18.6961 - val_loss: 18.3648\n",
      "Epoch 462/500\n",
      "36/36 [==============================] - 0s 2ms/step - loss: 18.5988 - val_loss: 18.1794\n",
      "Epoch 463/500\n",
      "36/36 [==============================] - 0s 2ms/step - loss: 18.5150 - val_loss: 18.0783\n",
      "Epoch 464/500\n",
      "36/36 [==============================] - 0s 2ms/step - loss: 18.4542 - val_loss: 17.4779\n",
      "Epoch 465/500\n",
      "36/36 [==============================] - 0s 2ms/step - loss: 18.6152 - val_loss: 18.0074\n",
      "Epoch 466/500\n",
      "36/36 [==============================] - 0s 2ms/step - loss: 18.5505 - val_loss: 18.1969\n",
      "Epoch 467/500\n",
      "36/36 [==============================] - 0s 2ms/step - loss: 18.5833 - val_loss: 17.7702\n",
      "Epoch 468/500\n",
      "36/36 [==============================] - 0s 2ms/step - loss: 18.4608 - val_loss: 18.1368\n",
      "Epoch 469/500\n",
      "36/36 [==============================] - 0s 2ms/step - loss: 18.4256 - val_loss: 17.8279\n",
      "Epoch 470/500\n",
      "36/36 [==============================] - 0s 2ms/step - loss: 18.3472 - val_loss: 18.5959\n",
      "Epoch 471/500\n",
      "36/36 [==============================] - 0s 2ms/step - loss: 18.7381 - val_loss: 18.0872\n",
      "Epoch 472/500\n",
      "36/36 [==============================] - 0s 2ms/step - loss: 18.5096 - val_loss: 17.8369\n",
      "Epoch 473/500\n",
      "36/36 [==============================] - 0s 2ms/step - loss: 18.3832 - val_loss: 17.7975\n",
      "Epoch 474/500\n"
     ]
    },
    {
     "name": "stdout",
     "output_type": "stream",
     "text": [
      "36/36 [==============================] - 0s 2ms/step - loss: 18.4236 - val_loss: 18.5799\n",
      "Epoch 475/500\n",
      "36/36 [==============================] - 0s 2ms/step - loss: 18.2372 - val_loss: 17.4827\n",
      "Epoch 476/500\n",
      "36/36 [==============================] - 0s 2ms/step - loss: 18.3083 - val_loss: 18.8640\n",
      "Epoch 477/500\n",
      "36/36 [==============================] - 0s 2ms/step - loss: 18.2911 - val_loss: 17.6802\n",
      "Epoch 478/500\n",
      "36/36 [==============================] - 0s 2ms/step - loss: 18.2011 - val_loss: 17.9428\n",
      "Epoch 479/500\n",
      "36/36 [==============================] - 0s 2ms/step - loss: 18.3799 - val_loss: 17.5806\n",
      "Epoch 480/500\n",
      "36/36 [==============================] - 0s 2ms/step - loss: 18.3154 - val_loss: 17.4050\n",
      "Epoch 481/500\n",
      "36/36 [==============================] - 0s 1ms/step - loss: 18.1940 - val_loss: 17.8889\n",
      "Epoch 482/500\n",
      "36/36 [==============================] - 0s 2ms/step - loss: 18.2050 - val_loss: 17.6977\n",
      "Epoch 483/500\n",
      "36/36 [==============================] - 0s 2ms/step - loss: 18.2026 - val_loss: 17.6392\n",
      "Epoch 484/500\n",
      "36/36 [==============================] - 0s 2ms/step - loss: 18.6452 - val_loss: 19.4122\n",
      "Epoch 485/500\n",
      "36/36 [==============================] - 0s 2ms/step - loss: 18.5226 - val_loss: 18.5176\n",
      "Epoch 486/500\n",
      "36/36 [==============================] - 0s 2ms/step - loss: 18.3801 - val_loss: 18.3217\n",
      "Epoch 487/500\n",
      "36/36 [==============================] - 0s 2ms/step - loss: 18.1462 - val_loss: 17.5274\n",
      "Epoch 488/500\n",
      "36/36 [==============================] - 0s 1ms/step - loss: 18.2026 - val_loss: 17.2310\n",
      "Epoch 489/500\n",
      "36/36 [==============================] - 0s 2ms/step - loss: 18.1906 - val_loss: 17.4274\n",
      "Epoch 490/500\n",
      "36/36 [==============================] - 0s 1ms/step - loss: 18.0547 - val_loss: 18.1621\n",
      "Epoch 491/500\n",
      "36/36 [==============================] - 0s 2ms/step - loss: 18.0860 - val_loss: 17.3344\n",
      "Epoch 492/500\n",
      "36/36 [==============================] - 0s 1ms/step - loss: 18.0565 - val_loss: 17.6303\n",
      "Epoch 493/500\n",
      "36/36 [==============================] - 0s 2ms/step - loss: 18.1987 - val_loss: 17.1061\n",
      "Epoch 494/500\n",
      "36/36 [==============================] - 0s 2ms/step - loss: 18.1889 - val_loss: 17.5118\n",
      "Epoch 495/500\n",
      "36/36 [==============================] - 0s 2ms/step - loss: 17.9950 - val_loss: 17.3039\n",
      "Epoch 496/500\n",
      "36/36 [==============================] - 0s 2ms/step - loss: 18.4857 - val_loss: 17.7655\n",
      "Epoch 497/500\n",
      "36/36 [==============================] - 0s 2ms/step - loss: 18.2619 - val_loss: 17.7484\n",
      "Epoch 498/500\n",
      "36/36 [==============================] - 0s 2ms/step - loss: 17.9001 - val_loss: 17.0741\n",
      "Epoch 499/500\n",
      "36/36 [==============================] - 0s 2ms/step - loss: 18.1364 - val_loss: 17.7988\n",
      "Epoch 500/500\n",
      "36/36 [==============================] - 0s 2ms/step - loss: 17.9740 - val_loss: 17.7986\n"
     ]
    }
   ],
   "source": [
    "# fit the model\n",
    "#history=model.fit(X_train, y_train, validation_data =(X_test, y_test),epochs=500, batch_size=10) #verbose=0\n",
    "history=model.fit(X_train, y_train, validation_data =(X_test, y_test),epochs=500, batch_size=10) #verbose=0"
   ]
  },
  {
   "cell_type": "markdown",
   "metadata": {},
   "source": [
    "### Evaluate the model"
   ]
  },
  {
   "cell_type": "code",
   "execution_count": 100,
   "metadata": {},
   "outputs": [
    {
     "name": "stdout",
     "output_type": "stream",
     "text": [
      "Train: 17.838, Test: 17.799\n"
     ]
    }
   ],
   "source": [
    "train_mse = model.evaluate(X_train, y_train, verbose=0)\n",
    "test_mse = model.evaluate(X_test, y_test, verbose=0)\n",
    "print('Train: %.3f, Test: %.3f' % (train_mse, test_mse))"
   ]
  },
  {
   "cell_type": "code",
   "execution_count": null,
   "metadata": {},
   "outputs": [],
   "source": []
  },
  {
   "cell_type": "markdown",
   "metadata": {},
   "source": [
    "Learning curves of mean squared error  on the train and test set at the end of each training epoch are graphed below using line plots. These learning curves give an indication of the dynamics while learning the model.\n",
    "https://machinelearningmastery.com/how-to-improve-neural-network-stability-and-modeling-performance-with-data-scaling/"
   ]
  },
  {
   "cell_type": "code",
   "execution_count": 101,
   "metadata": {},
   "outputs": [
    {
     "data": {
      "image/png": "[encoded data removed]",
      "text/plain": [
       "<Figure size 720x432 with 1 Axes>"
      ]
     },
     "metadata": {},
     "output_type": "display_data"
    }
   ],
   "source": [
    "# plot loss during training\n",
    "plt.title('Mean Squared Error')\n",
    "plt.plot(history.history['loss'], label='train')\n",
    "plt.plot(history.history['val_loss'], label='test')\n",
    "plt.legend()\n",
    "plt.show()"
   ]
  },
  {
   "cell_type": "markdown",
   "metadata": {},
   "source": []
  },
  {
   "cell_type": "markdown",
   "metadata": {},
   "source": [
    "### Predictions\n",
    "Run each x value through the neural network."
   ]
  },
  {
   "cell_type": "code",
   "execution_count": 102,
   "metadata": {
    "scrolled": true
   },
   "outputs": [
    {
     "name": "stdout",
     "output_type": "stream",
     "text": [
      "Model: \"sequential_3\"\n",
      "_________________________________________________________________\n",
      "Layer (type)                 Output Shape              Param #   \n",
      "=================================================================\n",
      "dense_6 (Dense)              (None, 50)                100       \n",
      "_________________________________________________________________\n",
      "dense_7 (Dense)              (None, 1)                 51        \n",
      "=================================================================\n",
      "Total params: 151\n",
      "Trainable params: 151\n",
      "Non-trainable params: 0\n",
      "_________________________________________________________________\n"
     ]
    }
   ],
   "source": [
    "model.summary()"
   ]
  },
  {
   "cell_type": "code",
   "execution_count": 158,
   "metadata": {
    "scrolled": false
   },
   "outputs": [],
   "source": [
    "#model.predict(X_test)"
   ]
  },
  {
   "cell_type": "code",
   "execution_count": 104,
   "metadata": {},
   "outputs": [],
   "source": [
    "model_predictions = model.predict(X_test)"
   ]
  },
  {
   "cell_type": "code",
   "execution_count": 105,
   "metadata": {},
   "outputs": [
    {
     "name": "stdout",
     "output_type": "stream",
     "text": [
      "12/12 [==============================] - 0s 1ms/step - loss: 17.8383\n"
     ]
    },
    {
     "data": {
      "text/plain": [
       "17.838321685791016"
      ]
     },
     "execution_count": 105,
     "metadata": {},
     "output_type": "execute_result"
    }
   ],
   "source": [
    "model.evaluate(X_train, y_train)"
   ]
  },
  {
   "cell_type": "code",
   "execution_count": 106,
   "metadata": {
    "scrolled": true
   },
   "outputs": [
    {
     "name": "stdout",
     "output_type": "stream",
     "text": [
      "4/4 [==============================] - 0s 2ms/step - loss: 17.7986\n"
     ]
    },
    {
     "data": {
      "text/plain": [
       "17.798648834228516"
      ]
     },
     "execution_count": 106,
     "metadata": {},
     "output_type": "execute_result"
    }
   ],
   "source": [
    "model.evaluate(X_test, y_test)"
   ]
  },
  {
   "cell_type": "markdown",
   "metadata": {},
   "source": [
    "### Compare actual data to predictions on test set"
   ]
  },
  {
   "cell_type": "code",
   "execution_count": 108,
   "metadata": {
    "scrolled": false
   },
   "outputs": [
    {
     "data": {
      "image/png": "[encoded data removed]",
      "text/plain": [
       "<Figure size 720x432 with 1 Axes>"
      ]
     },
     "metadata": {},
     "output_type": "display_data"
    }
   ],
   "source": [
    "plt.title('Comparing actual data to predicted data')\n",
    "plt.plot(X_test, y_test, 'x', label=\"true values\")\n",
    "plt.plot(X_test, model_predictions, 'bx', label=\"predicted values\")\n",
    "plt.legend()\n",
    "plt.show()"
   ]
  },
  {
   "cell_type": "code",
   "execution_count": 70,
   "metadata": {},
   "outputs": [
    {
     "data": {
      "text/plain": [
       "array([[98.06293]], dtype=float32)"
      ]
     },
     "execution_count": 70,
     "metadata": {},
     "output_type": "execute_result"
    }
   ],
   "source": [
    "model.predict([20])"
   ]
  },
  {
   "cell_type": "markdown",
   "metadata": {},
   "source": [
    "### Problem!\n",
    "\n",
    "Because I took out the values over 24.4 where all the power values were zero, the model is predicting a power value that is incorrect so I need to take this into account in the prediction web app. \n",
    "Also it is predicting a power value when wind speed is zero so this is also incorrect.\n",
    "So here below I experimented by using the entire dataset with the same model and to no avail.\n",
    "Maybe if I add extra layers this might help..."
   ]
  },
  {
   "cell_type": "code",
   "execution_count": 109,
   "metadata": {},
   "outputs": [
    {
     "data": {
      "text/plain": [
       "array([[3.1875482]], dtype=float32)"
      ]
     },
     "execution_count": 109,
     "metadata": {},
     "output_type": "execute_result"
    }
   ],
   "source": [
    "model.predict([3])"
   ]
  },
  {
   "cell_type": "code",
   "execution_count": 110,
   "metadata": {},
   "outputs": [
    {
     "data": {
      "text/plain": [
       "array([[101.824356]], dtype=float32)"
      ]
     },
     "execution_count": 110,
     "metadata": {},
     "output_type": "execute_result"
    }
   ],
   "source": [
    "model.predict([24.5])"
   ]
  },
  {
   "cell_type": "code",
   "execution_count": 111,
   "metadata": {},
   "outputs": [
    {
     "data": {
      "text/plain": [
       "array([[8.235916]], dtype=float32)"
      ]
     },
     "execution_count": 111,
     "metadata": {},
     "output_type": "execute_result"
    }
   ],
   "source": [
    "model.predict([8])"
   ]
  },
  {
   "cell_type": "code",
   "execution_count": 112,
   "metadata": {},
   "outputs": [
    {
     "data": {
      "text/plain": [
       "array([[101.50144]], dtype=float32)"
      ]
     },
     "execution_count": 112,
     "metadata": {},
     "output_type": "execute_result"
    }
   ],
   "source": [
    "model.predict([23.5])"
   ]
  },
  {
   "cell_type": "code",
   "execution_count": 113,
   "metadata": {},
   "outputs": [
    {
     "data": {
      "text/plain": [
       "array([[2.9507816]], dtype=float32)"
      ]
     },
     "execution_count": 113,
     "metadata": {},
     "output_type": "execute_result"
    }
   ],
   "source": [
    "model.predict([0])"
   ]
  },
  {
   "cell_type": "code",
   "execution_count": 114,
   "metadata": {},
   "outputs": [
    {
     "data": {
      "text/plain": [
       "array([[101.79743]], dtype=float32)"
      ]
     },
     "execution_count": 114,
     "metadata": {},
     "output_type": "execute_result"
    }
   ],
   "source": [
    "model.predict([24.4])"
   ]
  },
  {
   "cell_type": "code",
   "execution_count": 115,
   "metadata": {},
   "outputs": [],
   "source": [
    "# Train a model\n",
    "model2 = kr.models.Sequential()\n",
    "model2.add(kr.layers.Dense(50, input_shape=(1,), activation='sigmoid', kernel_initializer=\"glorot_uniform\", bias_initializer=\"glorot_uniform\"))\n",
    "#model.add(kr.layers.BatchNormalization())\n",
    "model2.add(kr.layers.Dense(50, input_shape=(1,), activation='sigmoid', kernel_initializer=\"glorot_uniform\", bias_initializer=\"glorot_uniform\"))\n",
    "model2.add(kr.layers.Dense(1, activation='linear', kernel_initializer=\"glorot_uniform\", bias_initializer=\"glorot_uniform\"))"
   ]
  },
  {
   "cell_type": "code",
   "execution_count": 116,
   "metadata": {},
   "outputs": [
    {
     "name": "stdout",
     "output_type": "stream",
     "text": [
      "Model: \"sequential_4\"\n",
      "_________________________________________________________________\n",
      "Layer (type)                 Output Shape              Param #   \n",
      "=================================================================\n",
      "dense_8 (Dense)              (None, 50)                100       \n",
      "_________________________________________________________________\n",
      "dense_9 (Dense)              (None, 50)                2550      \n",
      "_________________________________________________________________\n",
      "dense_10 (Dense)             (None, 1)                 51        \n",
      "=================================================================\n",
      "Total params: 2,701\n",
      "Trainable params: 2,701\n",
      "Non-trainable params: 0\n",
      "_________________________________________________________________\n"
     ]
    }
   ],
   "source": [
    "# \n",
    "model2.compile(kr.optimizers.Adam(lr=0.001), loss='mean_squared_error')\n",
    "model2.summary()"
   ]
  },
  {
   "cell_type": "code",
   "execution_count": 117,
   "metadata": {},
   "outputs": [
    {
     "name": "stdout",
     "output_type": "stream",
     "text": [
      "Epoch 1/500\n",
      "36/36 [==============================] - 0s 5ms/step - loss: 3796.5017 - val_loss: 3940.0867\n",
      "Epoch 2/500\n",
      "36/36 [==============================] - 0s 2ms/step - loss: 3544.5432 - val_loss: 3700.7109\n",
      "Epoch 3/500\n",
      "36/36 [==============================] - 0s 2ms/step - loss: 3357.5596 - val_loss: 3531.2468\n",
      "Epoch 4/500\n",
      "36/36 [==============================] - 0s 2ms/step - loss: 3222.8621 - val_loss: 3397.0002\n",
      "Epoch 5/500\n",
      "36/36 [==============================] - 0s 2ms/step - loss: 3104.9109 - val_loss: 3277.1675\n",
      "Epoch 6/500\n",
      "36/36 [==============================] - 0s 2ms/step - loss: 2996.9832 - val_loss: 3164.8630\n",
      "Epoch 7/500\n",
      "36/36 [==============================] - 0s 2ms/step - loss: 2901.6885 - val_loss: 3066.0002\n",
      "Epoch 8/500\n",
      "36/36 [==============================] - 0s 2ms/step - loss: 2816.0747 - val_loss: 2975.9041\n",
      "Epoch 9/500\n",
      "36/36 [==============================] - 0s 3ms/step - loss: 2738.8828 - val_loss: 2891.3862\n",
      "Epoch 10/500\n",
      "36/36 [==============================] - 0s 3ms/step - loss: 2663.1638 - val_loss: 2809.1868\n",
      "Epoch 11/500\n",
      "36/36 [==============================] - 0s 3ms/step - loss: 2588.4973 - val_loss: 2726.4539\n",
      "Epoch 12/500\n",
      "36/36 [==============================] - 0s 3ms/step - loss: 2520.3535 - val_loss: 2653.7632\n",
      "Epoch 13/500\n",
      "36/36 [==============================] - 0s 2ms/step - loss: 2457.2412 - val_loss: 2587.3999\n",
      "Epoch 14/500\n",
      "36/36 [==============================] - 0s 2ms/step - loss: 2399.5073 - val_loss: 2522.9431\n",
      "Epoch 15/500\n",
      "36/36 [==============================] - 0s 2ms/step - loss: 2344.6877 - val_loss: 2462.5857\n",
      "Epoch 16/500\n",
      "36/36 [==============================] - 0s 2ms/step - loss: 2292.9880 - val_loss: 2405.1841\n",
      "Epoch 17/500\n",
      "36/36 [==============================] - 0s 2ms/step - loss: 2242.3284 - val_loss: 2350.6953\n",
      "Epoch 18/500\n",
      "36/36 [==============================] - 0s 2ms/step - loss: 2194.0288 - val_loss: 2294.7715\n",
      "Epoch 19/500\n",
      "36/36 [==============================] - 0s 3ms/step - loss: 2142.6528 - val_loss: 2239.7358\n",
      "Epoch 20/500\n",
      "36/36 [==============================] - 0s 3ms/step - loss: 2089.1169 - val_loss: 2181.4717\n",
      "Epoch 21/500\n",
      "36/36 [==============================] - 0s 3ms/step - loss: 2030.9152 - val_loss: 2121.0386\n",
      "Epoch 22/500\n",
      "36/36 [==============================] - 0s 3ms/step - loss: 1970.5574 - val_loss: 2057.5312\n",
      "Epoch 23/500\n",
      "36/36 [==============================] - 0s 3ms/step - loss: 1910.1110 - val_loss: 1991.8773\n",
      "Epoch 24/500\n",
      "36/36 [==============================] - 0s 3ms/step - loss: 1845.3915 - val_loss: 1925.2528\n",
      "Epoch 25/500\n",
      "36/36 [==============================] - 0s 2ms/step - loss: 1782.6652 - val_loss: 1861.0123\n",
      "Epoch 26/500\n",
      "36/36 [==============================] - 0s 3ms/step - loss: 1717.3926 - val_loss: 1787.3132\n",
      "Epoch 27/500\n",
      "36/36 [==============================] - 0s 3ms/step - loss: 1650.4235 - val_loss: 1721.6761\n",
      "Epoch 28/500\n",
      "36/36 [==============================] - 0s 3ms/step - loss: 1586.4542 - val_loss: 1652.2090\n",
      "Epoch 29/500\n",
      "36/36 [==============================] - 0s 3ms/step - loss: 1522.9677 - val_loss: 1586.3928\n",
      "Epoch 30/500\n",
      "36/36 [==============================] - 0s 3ms/step - loss: 1460.5338 - val_loss: 1523.3582\n",
      "Epoch 31/500\n",
      "36/36 [==============================] - 0s 3ms/step - loss: 1402.6447 - val_loss: 1461.7836\n",
      "Epoch 32/500\n",
      "36/36 [==============================] - 0s 3ms/step - loss: 1345.6842 - val_loss: 1402.3907\n",
      "Epoch 33/500\n",
      "36/36 [==============================] - 0s 4ms/step - loss: 1288.5985 - val_loss: 1346.3358\n",
      "Epoch 34/500\n",
      "36/36 [==============================] - 0s 2ms/step - loss: 1236.3138 - val_loss: 1289.7935\n",
      "Epoch 35/500\n",
      "36/36 [==============================] - 0s 2ms/step - loss: 1184.3286 - val_loss: 1236.0366\n",
      "Epoch 36/500\n",
      "36/36 [==============================] - 0s 2ms/step - loss: 1135.2932 - val_loss: 1183.4067\n",
      "Epoch 37/500\n",
      "36/36 [==============================] - 0s 3ms/step - loss: 1088.4043 - val_loss: 1133.2888\n",
      "Epoch 38/500\n",
      "36/36 [==============================] - 0s 3ms/step - loss: 1041.4058 - val_loss: 1084.7372\n",
      "Epoch 39/500\n",
      "36/36 [==============================] - 0s 2ms/step - loss: 997.3701 - val_loss: 1038.7223\n",
      "Epoch 40/500\n",
      "36/36 [==============================] - 0s 2ms/step - loss: 954.7960 - val_loss: 994.6743\n",
      "Epoch 41/500\n",
      "36/36 [==============================] - 0s 3ms/step - loss: 914.1158 - val_loss: 951.3508\n",
      "Epoch 42/500\n",
      "36/36 [==============================] - 0s 3ms/step - loss: 875.1810 - val_loss: 912.3178\n",
      "Epoch 43/500\n",
      "36/36 [==============================] - 0s 3ms/step - loss: 837.8839 - val_loss: 870.0142\n",
      "Epoch 44/500\n",
      "36/36 [==============================] - 0s 3ms/step - loss: 801.7684 - val_loss: 832.3569\n",
      "Epoch 45/500\n",
      "36/36 [==============================] - 0s 3ms/step - loss: 765.2269 - val_loss: 799.0255\n",
      "Epoch 46/500\n",
      "36/36 [==============================] - 0s 3ms/step - loss: 734.0624 - val_loss: 760.5326\n",
      "Epoch 47/500\n",
      "36/36 [==============================] - 0s 2ms/step - loss: 700.3400 - val_loss: 728.3839\n",
      "Epoch 48/500\n",
      "36/36 [==============================] - 0s 3ms/step - loss: 669.3469 - val_loss: 695.3405\n",
      "Epoch 49/500\n",
      "36/36 [==============================] - 0s 2ms/step - loss: 640.7470 - val_loss: 665.2292\n",
      "Epoch 50/500\n",
      "36/36 [==============================] - 0s 2ms/step - loss: 611.5469 - val_loss: 634.4434\n",
      "Epoch 51/500\n",
      "36/36 [==============================] - 0s 2ms/step - loss: 583.8066 - val_loss: 605.6425\n",
      "Epoch 52/500\n",
      "36/36 [==============================] - 0s 2ms/step - loss: 557.0614 - val_loss: 577.9826\n",
      "Epoch 53/500\n",
      "36/36 [==============================] - 0s 3ms/step - loss: 531.5988 - val_loss: 550.4893\n",
      "Epoch 54/500\n",
      "36/36 [==============================] - 0s 3ms/step - loss: 506.4388 - val_loss: 526.6331\n",
      "Epoch 55/500\n",
      "36/36 [==============================] - 0s 3ms/step - loss: 484.6393 - val_loss: 501.1516\n",
      "Epoch 56/500\n",
      "36/36 [==============================] - 0s 2ms/step - loss: 461.4949 - val_loss: 477.3571\n",
      "Epoch 57/500\n",
      "36/36 [==============================] - 0s 2ms/step - loss: 438.8127 - val_loss: 455.1321\n",
      "Epoch 58/500\n",
      "36/36 [==============================] - 0s 2ms/step - loss: 418.1517 - val_loss: 433.4853\n",
      "Epoch 59/500\n",
      "36/36 [==============================] - 0s 2ms/step - loss: 398.4313 - val_loss: 412.9997\n",
      "Epoch 60/500\n",
      "36/36 [==============================] - 0s 2ms/step - loss: 379.2086 - val_loss: 393.3394\n",
      "Epoch 61/500\n",
      "36/36 [==============================] - 0s 2ms/step - loss: 360.7874 - val_loss: 374.2919\n",
      "Epoch 62/500\n",
      "36/36 [==============================] - 0s 2ms/step - loss: 343.0915 - val_loss: 355.4539\n",
      "Epoch 63/500\n",
      "36/36 [==============================] - 0s 2ms/step - loss: 326.6444 - val_loss: 337.5802\n",
      "Epoch 64/500\n",
      "36/36 [==============================] - 0s 2ms/step - loss: 309.8147 - val_loss: 322.5903\n",
      "Epoch 65/500\n",
      "36/36 [==============================] - 0s 4ms/step - loss: 294.2184 - val_loss: 305.7950\n",
      "Epoch 66/500\n",
      "36/36 [==============================] - 0s 3ms/step - loss: 280.1392 - val_loss: 290.4011\n",
      "Epoch 67/500\n",
      "36/36 [==============================] - 0s 3ms/step - loss: 266.2323 - val_loss: 275.9657\n",
      "Epoch 68/500\n",
      "36/36 [==============================] - 0s 3ms/step - loss: 252.3204 - val_loss: 262.3055\n",
      "Epoch 69/500\n",
      "36/36 [==============================] - 0s 2ms/step - loss: 239.2339 - val_loss: 248.2222\n",
      "Epoch 70/500\n",
      "36/36 [==============================] - 0s 2ms/step - loss: 226.8957 - val_loss: 237.5621\n",
      "Epoch 71/500\n",
      "36/36 [==============================] - 0s 2ms/step - loss: 215.7860 - val_loss: 224.0659\n",
      "Epoch 72/500\n",
      "36/36 [==============================] - 0s 2ms/step - loss: 204.2727 - val_loss: 212.5632\n",
      "Epoch 73/500\n",
      "36/36 [==============================] - 0s 2ms/step - loss: 194.1665 - val_loss: 202.7682\n",
      "Epoch 74/500\n",
      "36/36 [==============================] - 0s 3ms/step - loss: 183.7613 - val_loss: 190.6459\n",
      "Epoch 75/500\n",
      "36/36 [==============================] - 0s 3ms/step - loss: 174.1680 - val_loss: 181.7250\n",
      "Epoch 76/500\n",
      "36/36 [==============================] - 0s 3ms/step - loss: 164.7945 - val_loss: 172.8517\n",
      "Epoch 77/500\n",
      "36/36 [==============================] - 0s 3ms/step - loss: 156.3802 - val_loss: 162.2831\n",
      "Epoch 78/500\n",
      "36/36 [==============================] - 0s 2ms/step - loss: 147.9927 - val_loss: 157.0267\n",
      "Epoch 79/500\n"
     ]
    },
    {
     "name": "stdout",
     "output_type": "stream",
     "text": [
      "36/36 [==============================] - 0s 2ms/step - loss: 140.5906 - val_loss: 147.0076\n",
      "Epoch 80/500\n",
      "36/36 [==============================] - 0s 2ms/step - loss: 132.8943 - val_loss: 138.0490\n",
      "Epoch 81/500\n",
      "36/36 [==============================] - 0s 2ms/step - loss: 126.1253 - val_loss: 132.3019\n",
      "Epoch 82/500\n",
      "36/36 [==============================] - 0s 2ms/step - loss: 119.5108 - val_loss: 124.8421\n",
      "Epoch 83/500\n",
      "36/36 [==============================] - 0s 2ms/step - loss: 112.8006 - val_loss: 117.3105\n",
      "Epoch 84/500\n",
      "36/36 [==============================] - 0s 3ms/step - loss: 107.2624 - val_loss: 111.1256\n",
      "Epoch 85/500\n",
      "36/36 [==============================] - 0s 3ms/step - loss: 101.6383 - val_loss: 105.3102\n",
      "Epoch 86/500\n",
      "36/36 [==============================] - 0s 2ms/step - loss: 96.5124 - val_loss: 98.8058\n",
      "Epoch 87/500\n",
      "36/36 [==============================] - 0s 2ms/step - loss: 89.9946 - val_loss: 92.3768\n",
      "Epoch 88/500\n",
      "36/36 [==============================] - 0s 2ms/step - loss: 83.8023 - val_loss: 88.1249\n",
      "Epoch 89/500\n",
      "36/36 [==============================] - 0s 2ms/step - loss: 78.2704 - val_loss: 86.8579\n",
      "Epoch 90/500\n",
      "36/36 [==============================] - 0s 2ms/step - loss: 73.2995 - val_loss: 76.8596\n",
      "Epoch 91/500\n",
      "36/36 [==============================] - 0s 2ms/step - loss: 67.3608 - val_loss: 72.3071\n",
      "Epoch 92/500\n",
      "36/36 [==============================] - 0s 2ms/step - loss: 62.7900 - val_loss: 65.7716\n",
      "Epoch 93/500\n",
      "36/36 [==============================] - 0s 2ms/step - loss: 59.1374 - val_loss: 60.9450\n",
      "Epoch 94/500\n",
      "36/36 [==============================] - 0s 2ms/step - loss: 55.2952 - val_loss: 57.1573\n",
      "Epoch 95/500\n",
      "36/36 [==============================] - 0s 2ms/step - loss: 52.0415 - val_loss: 55.5896\n",
      "Epoch 96/500\n",
      "36/36 [==============================] - 0s 2ms/step - loss: 49.2415 - val_loss: 53.0118\n",
      "Epoch 97/500\n",
      "36/36 [==============================] - 0s 2ms/step - loss: 46.7258 - val_loss: 47.8690\n",
      "Epoch 98/500\n",
      "36/36 [==============================] - 0s 2ms/step - loss: 44.2749 - val_loss: 46.4183\n",
      "Epoch 99/500\n",
      "36/36 [==============================] - 0s 2ms/step - loss: 42.2305 - val_loss: 41.7849\n",
      "Epoch 100/500\n",
      "36/36 [==============================] - 0s 2ms/step - loss: 40.2950 - val_loss: 39.4408\n",
      "Epoch 101/500\n",
      "36/36 [==============================] - 0s 2ms/step - loss: 37.5214 - val_loss: 38.5159\n",
      "Epoch 102/500\n",
      "36/36 [==============================] - 0s 2ms/step - loss: 35.5476 - val_loss: 38.3208\n",
      "Epoch 103/500\n",
      "36/36 [==============================] - 0s 3ms/step - loss: 34.1354 - val_loss: 33.5587\n",
      "Epoch 104/500\n",
      "36/36 [==============================] - 0s 3ms/step - loss: 32.5282 - val_loss: 35.5540\n",
      "Epoch 105/500\n",
      "36/36 [==============================] - 0s 3ms/step - loss: 31.2785 - val_loss: 35.9724\n",
      "Epoch 106/500\n",
      "36/36 [==============================] - 0s 4ms/step - loss: 31.5362 - val_loss: 31.5217\n",
      "Epoch 107/500\n",
      "36/36 [==============================] - 0s 3ms/step - loss: 29.2761 - val_loss: 29.2931\n",
      "Epoch 108/500\n",
      "36/36 [==============================] - 0s 3ms/step - loss: 27.7044 - val_loss: 28.2604\n",
      "Epoch 109/500\n",
      "36/36 [==============================] - 0s 2ms/step - loss: 26.8514 - val_loss: 29.1602\n",
      "Epoch 110/500\n",
      "36/36 [==============================] - 0s 2ms/step - loss: 26.3898 - val_loss: 24.6760\n",
      "Epoch 111/500\n",
      "36/36 [==============================] - 0s 3ms/step - loss: 24.9767 - val_loss: 23.9970\n",
      "Epoch 112/500\n",
      "36/36 [==============================] - 0s 3ms/step - loss: 23.9559 - val_loss: 25.1279\n",
      "Epoch 113/500\n",
      "36/36 [==============================] - 0s 3ms/step - loss: 23.5405 - val_loss: 23.3531\n",
      "Epoch 114/500\n",
      "36/36 [==============================] - 0s 3ms/step - loss: 22.6905 - val_loss: 21.7390\n",
      "Epoch 115/500\n",
      "36/36 [==============================] - 0s 3ms/step - loss: 22.6087 - val_loss: 21.1906\n",
      "Epoch 116/500\n",
      "36/36 [==============================] - 0s 3ms/step - loss: 22.2959 - val_loss: 20.8640\n",
      "Epoch 117/500\n",
      "36/36 [==============================] - 0s 3ms/step - loss: 21.7288 - val_loss: 21.7120\n",
      "Epoch 118/500\n",
      "36/36 [==============================] - 0s 3ms/step - loss: 20.8570 - val_loss: 21.0222\n",
      "Epoch 119/500\n",
      "36/36 [==============================] - 0s 2ms/step - loss: 20.2046 - val_loss: 21.9940\n",
      "Epoch 120/500\n",
      "36/36 [==============================] - 0s 2ms/step - loss: 19.9065 - val_loss: 21.1280\n",
      "Epoch 121/500\n",
      "36/36 [==============================] - 0s 3ms/step - loss: 19.7639 - val_loss: 20.7785\n",
      "Epoch 122/500\n",
      "36/36 [==============================] - 0s 3ms/step - loss: 19.4216 - val_loss: 19.4675\n",
      "Epoch 123/500\n",
      "36/36 [==============================] - 0s 3ms/step - loss: 19.5805 - val_loss: 18.1755\n",
      "Epoch 124/500\n",
      "36/36 [==============================] - 0s 3ms/step - loss: 18.9181 - val_loss: 19.0256\n",
      "Epoch 125/500\n",
      "36/36 [==============================] - 0s 4ms/step - loss: 18.5053 - val_loss: 17.4807\n",
      "Epoch 126/500\n",
      "36/36 [==============================] - 0s 3ms/step - loss: 18.0144 - val_loss: 20.0784\n",
      "Epoch 127/500\n",
      "36/36 [==============================] - 0s 3ms/step - loss: 18.1480 - val_loss: 17.0754\n",
      "Epoch 128/500\n",
      "36/36 [==============================] - 0s 3ms/step - loss: 17.9908 - val_loss: 17.3123\n",
      "Epoch 129/500\n",
      "36/36 [==============================] - 0s 3ms/step - loss: 17.9105 - val_loss: 17.2253\n",
      "Epoch 130/500\n",
      "36/36 [==============================] - 0s 3ms/step - loss: 18.0062 - val_loss: 19.2404\n",
      "Epoch 131/500\n",
      "36/36 [==============================] - 0s 3ms/step - loss: 17.5197 - val_loss: 16.7786\n",
      "Epoch 132/500\n",
      "36/36 [==============================] - 0s 3ms/step - loss: 17.2862 - val_loss: 16.4537\n",
      "Epoch 133/500\n",
      "36/36 [==============================] - 0s 2ms/step - loss: 17.4177 - val_loss: 17.5447\n",
      "Epoch 134/500\n",
      "36/36 [==============================] - 0s 2ms/step - loss: 17.3016 - val_loss: 16.3421\n",
      "Epoch 135/500\n",
      "36/36 [==============================] - 0s 2ms/step - loss: 17.2980 - val_loss: 17.3362\n",
      "Epoch 136/500\n",
      "36/36 [==============================] - 0s 2ms/step - loss: 17.0026 - val_loss: 16.7318\n",
      "Epoch 137/500\n",
      "36/36 [==============================] - 0s 2ms/step - loss: 16.9637 - val_loss: 20.1580\n",
      "Epoch 138/500\n",
      "36/36 [==============================] - 0s 2ms/step - loss: 17.7441 - val_loss: 17.6179\n",
      "Epoch 139/500\n",
      "36/36 [==============================] - 0s 2ms/step - loss: 16.9454 - val_loss: 16.2183\n",
      "Epoch 140/500\n",
      "36/36 [==============================] - 0s 2ms/step - loss: 17.0158 - val_loss: 16.2434\n",
      "Epoch 141/500\n",
      "36/36 [==============================] - 0s 4ms/step - loss: 17.1019 - val_loss: 15.8299\n",
      "Epoch 142/500\n",
      "36/36 [==============================] - 0s 3ms/step - loss: 17.2507 - val_loss: 19.3392\n",
      "Epoch 143/500\n",
      "36/36 [==============================] - 0s 3ms/step - loss: 16.9360 - val_loss: 15.9846\n",
      "Epoch 144/500\n",
      "36/36 [==============================] - 0s 4ms/step - loss: 16.7326 - val_loss: 15.7821\n",
      "Epoch 145/500\n",
      "36/36 [==============================] - 0s 3ms/step - loss: 17.1369 - val_loss: 17.2605\n",
      "Epoch 146/500\n",
      "36/36 [==============================] - 0s 3ms/step - loss: 16.8161 - val_loss: 15.9858\n",
      "Epoch 147/500\n",
      "36/36 [==============================] - 0s 3ms/step - loss: 16.7420 - val_loss: 15.9300\n",
      "Epoch 148/500\n",
      "36/36 [==============================] - 0s 3ms/step - loss: 16.6907 - val_loss: 16.1208\n",
      "Epoch 149/500\n",
      "36/36 [==============================] - 0s 4ms/step - loss: 16.8417 - val_loss: 16.6309\n",
      "Epoch 150/500\n",
      "36/36 [==============================] - 0s 3ms/step - loss: 16.6835 - val_loss: 19.4780\n",
      "Epoch 151/500\n",
      "36/36 [==============================] - 0s 3ms/step - loss: 17.1524 - val_loss: 16.2573\n",
      "Epoch 152/500\n",
      "36/36 [==============================] - 0s 2ms/step - loss: 16.7160 - val_loss: 15.6461\n",
      "Epoch 153/500\n",
      "36/36 [==============================] - 0s 4ms/step - loss: 16.6625 - val_loss: 15.8086\n",
      "Epoch 154/500\n",
      "36/36 [==============================] - 0s 3ms/step - loss: 16.6911 - val_loss: 15.6785\n",
      "Epoch 155/500\n",
      "36/36 [==============================] - 0s 3ms/step - loss: 16.7592 - val_loss: 16.6398\n",
      "Epoch 156/500\n",
      "36/36 [==============================] - 0s 2ms/step - loss: 16.5863 - val_loss: 15.8029\n",
      "Epoch 157/500\n",
      "36/36 [==============================] - 0s 4ms/step - loss: 17.7155 - val_loss: 20.2740\n",
      "Epoch 158/500\n"
     ]
    },
    {
     "name": "stdout",
     "output_type": "stream",
     "text": [
      "36/36 [==============================] - 0s 4ms/step - loss: 16.6401 - val_loss: 17.0492\n",
      "Epoch 159/500\n",
      "36/36 [==============================] - 0s 3ms/step - loss: 16.4381 - val_loss: 18.8638\n",
      "Epoch 160/500\n",
      "36/36 [==============================] - 0s 3ms/step - loss: 16.9298 - val_loss: 15.6506\n",
      "Epoch 161/500\n",
      "36/36 [==============================] - 0s 3ms/step - loss: 16.4357 - val_loss: 16.7718\n",
      "Epoch 162/500\n",
      "36/36 [==============================] - 0s 3ms/step - loss: 16.4571 - val_loss: 18.3935\n",
      "Epoch 163/500\n",
      "36/36 [==============================] - 0s 3ms/step - loss: 17.4812 - val_loss: 18.6079\n",
      "Epoch 164/500\n",
      "36/36 [==============================] - 0s 3ms/step - loss: 16.7025 - val_loss: 15.7003\n",
      "Epoch 165/500\n",
      "36/36 [==============================] - 0s 3ms/step - loss: 17.2109 - val_loss: 16.4993\n",
      "Epoch 166/500\n",
      "36/36 [==============================] - 0s 4ms/step - loss: 16.7214 - val_loss: 15.6374\n",
      "Epoch 167/500\n",
      "36/36 [==============================] - 0s 2ms/step - loss: 17.0491 - val_loss: 17.1400\n",
      "Epoch 168/500\n",
      "36/36 [==============================] - 0s 2ms/step - loss: 16.4257 - val_loss: 15.6953\n",
      "Epoch 169/500\n",
      "36/36 [==============================] - 0s 3ms/step - loss: 16.4147 - val_loss: 16.3752\n",
      "Epoch 170/500\n",
      "36/36 [==============================] - 0s 4ms/step - loss: 16.3498 - val_loss: 17.1365\n",
      "Epoch 171/500\n",
      "36/36 [==============================] - 0s 3ms/step - loss: 16.6067 - val_loss: 17.1489\n",
      "Epoch 172/500\n",
      "36/36 [==============================] - 0s 4ms/step - loss: 16.4189 - val_loss: 16.1652\n",
      "Epoch 173/500\n",
      "36/36 [==============================] - 0s 4ms/step - loss: 16.6690 - val_loss: 17.6267\n",
      "Epoch 174/500\n",
      "36/36 [==============================] - 0s 3ms/step - loss: 16.3453 - val_loss: 17.0757\n",
      "Epoch 175/500\n",
      "36/36 [==============================] - 0s 3ms/step - loss: 16.6838 - val_loss: 15.8319\n",
      "Epoch 176/500\n",
      "36/36 [==============================] - 0s 2ms/step - loss: 16.4144 - val_loss: 16.4658\n",
      "Epoch 177/500\n",
      "36/36 [==============================] - 0s 2ms/step - loss: 16.7411 - val_loss: 16.2599\n",
      "Epoch 178/500\n",
      "36/36 [==============================] - 0s 3ms/step - loss: 16.9443 - val_loss: 16.4076\n",
      "Epoch 179/500\n",
      "36/36 [==============================] - 0s 4ms/step - loss: 16.8408 - val_loss: 16.0325\n",
      "Epoch 180/500\n",
      "36/36 [==============================] - 0s 3ms/step - loss: 17.1581 - val_loss: 19.8987\n",
      "Epoch 181/500\n",
      "36/36 [==============================] - 0s 3ms/step - loss: 16.9105 - val_loss: 18.1511\n",
      "Epoch 182/500\n",
      "36/36 [==============================] - 0s 3ms/step - loss: 16.4544 - val_loss: 17.8996\n",
      "Epoch 183/500\n",
      "36/36 [==============================] - 0s 3ms/step - loss: 16.5791 - val_loss: 15.7156\n",
      "Epoch 184/500\n",
      "36/36 [==============================] - 0s 3ms/step - loss: 17.0085 - val_loss: 17.8492\n",
      "Epoch 185/500\n",
      "36/36 [==============================] - 0s 3ms/step - loss: 16.7078 - val_loss: 15.7742\n",
      "Epoch 186/500\n",
      "36/36 [==============================] - 0s 4ms/step - loss: 16.4822 - val_loss: 18.0404\n",
      "Epoch 187/500\n",
      "36/36 [==============================] - 0s 3ms/step - loss: 16.3574 - val_loss: 18.0126\n",
      "Epoch 188/500\n",
      "36/36 [==============================] - 0s 3ms/step - loss: 16.4710 - val_loss: 15.8759\n",
      "Epoch 189/500\n",
      "36/36 [==============================] - 0s 3ms/step - loss: 16.7623 - val_loss: 16.2927\n",
      "Epoch 190/500\n",
      "36/36 [==============================] - 0s 4ms/step - loss: 16.4825 - val_loss: 19.1662\n",
      "Epoch 191/500\n",
      "36/36 [==============================] - 0s 2ms/step - loss: 16.7605 - val_loss: 15.7045\n",
      "Epoch 192/500\n",
      "36/36 [==============================] - 0s 2ms/step - loss: 16.7037 - val_loss: 15.7525\n",
      "Epoch 193/500\n",
      "36/36 [==============================] - 0s 2ms/step - loss: 16.3692 - val_loss: 15.6990\n",
      "Epoch 194/500\n",
      "36/36 [==============================] - 0s 2ms/step - loss: 16.6939 - val_loss: 16.3899\n",
      "Epoch 195/500\n",
      "36/36 [==============================] - 0s 2ms/step - loss: 16.7075 - val_loss: 15.9856\n",
      "Epoch 196/500\n",
      "36/36 [==============================] - 0s 4ms/step - loss: 16.7194 - val_loss: 18.3531\n",
      "Epoch 197/500\n",
      "36/36 [==============================] - 0s 3ms/step - loss: 16.5890 - val_loss: 16.3292\n",
      "Epoch 198/500\n",
      "36/36 [==============================] - 0s 2ms/step - loss: 17.6047 - val_loss: 16.1933\n",
      "Epoch 199/500\n",
      "36/36 [==============================] - 0s 3ms/step - loss: 16.9740 - val_loss: 20.9738\n",
      "Epoch 200/500\n",
      "36/36 [==============================] - 0s 2ms/step - loss: 16.4416 - val_loss: 18.2659\n",
      "Epoch 201/500\n",
      "36/36 [==============================] - 0s 2ms/step - loss: 16.6973 - val_loss: 17.0613\n",
      "Epoch 202/500\n",
      "36/36 [==============================] - 0s 2ms/step - loss: 16.4157 - val_loss: 15.7338\n",
      "Epoch 203/500\n",
      "36/36 [==============================] - 0s 2ms/step - loss: 16.7720 - val_loss: 15.8561\n",
      "Epoch 204/500\n",
      "36/36 [==============================] - 0s 3ms/step - loss: 16.9127 - val_loss: 17.0661\n",
      "Epoch 205/500\n",
      "36/36 [==============================] - 0s 4ms/step - loss: 16.7375 - val_loss: 17.3924\n",
      "Epoch 206/500\n",
      "36/36 [==============================] - 0s 3ms/step - loss: 16.8114 - val_loss: 16.4391\n",
      "Epoch 207/500\n",
      "36/36 [==============================] - 0s 2ms/step - loss: 16.5958 - val_loss: 18.6571\n",
      "Epoch 208/500\n",
      "36/36 [==============================] - 0s 3ms/step - loss: 16.5629 - val_loss: 16.6794\n",
      "Epoch 209/500\n",
      "36/36 [==============================] - 0s 2ms/step - loss: 16.4270 - val_loss: 17.5597\n",
      "Epoch 210/500\n",
      "36/36 [==============================] - 0s 3ms/step - loss: 16.7054 - val_loss: 16.6220\n",
      "Epoch 211/500\n",
      "36/36 [==============================] - 0s 3ms/step - loss: 16.5023 - val_loss: 15.7386\n",
      "Epoch 212/500\n",
      "36/36 [==============================] - 0s 2ms/step - loss: 16.5877 - val_loss: 17.3417\n",
      "Epoch 213/500\n",
      "36/36 [==============================] - 0s 2ms/step - loss: 17.1896 - val_loss: 15.8320\n",
      "Epoch 214/500\n",
      "36/36 [==============================] - 0s 3ms/step - loss: 16.9546 - val_loss: 17.4529\n",
      "Epoch 215/500\n",
      "36/36 [==============================] - 0s 4ms/step - loss: 16.7960 - val_loss: 16.1127\n",
      "Epoch 216/500\n",
      "36/36 [==============================] - 0s 3ms/step - loss: 16.7570 - val_loss: 18.7711\n",
      "Epoch 217/500\n",
      "36/36 [==============================] - 0s 4ms/step - loss: 16.8206 - val_loss: 15.8025\n",
      "Epoch 218/500\n",
      "36/36 [==============================] - 0s 3ms/step - loss: 16.7092 - val_loss: 16.3556\n",
      "Epoch 219/500\n",
      "36/36 [==============================] - 0s 4ms/step - loss: 16.3297 - val_loss: 15.8830\n",
      "Epoch 220/500\n",
      "36/36 [==============================] - 0s 2ms/step - loss: 16.6567 - val_loss: 15.7273\n",
      "Epoch 221/500\n",
      "36/36 [==============================] - 0s 3ms/step - loss: 16.9599 - val_loss: 15.8446\n",
      "Epoch 222/500\n",
      "36/36 [==============================] - 0s 3ms/step - loss: 16.4205 - val_loss: 15.9353\n",
      "Epoch 223/500\n",
      "36/36 [==============================] - 0s 4ms/step - loss: 16.5041 - val_loss: 17.2072\n",
      "Epoch 224/500\n",
      "36/36 [==============================] - 0s 4ms/step - loss: 16.8872 - val_loss: 16.4921\n",
      "Epoch 225/500\n",
      "36/36 [==============================] - 0s 2ms/step - loss: 16.4593 - val_loss: 19.1487\n",
      "Epoch 226/500\n",
      "36/36 [==============================] - 0s 2ms/step - loss: 16.8600 - val_loss: 16.8320\n",
      "Epoch 227/500\n",
      "36/36 [==============================] - 0s 2ms/step - loss: 16.5860 - val_loss: 16.3063\n",
      "Epoch 228/500\n",
      "36/36 [==============================] - 0s 2ms/step - loss: 16.7745 - val_loss: 15.8442\n",
      "Epoch 229/500\n",
      "36/36 [==============================] - 0s 2ms/step - loss: 16.5468 - val_loss: 16.6493\n",
      "Epoch 230/500\n",
      "36/36 [==============================] - 0s 2ms/step - loss: 16.4024 - val_loss: 16.8091\n",
      "Epoch 231/500\n",
      "36/36 [==============================] - 0s 2ms/step - loss: 16.4408 - val_loss: 16.0273\n",
      "Epoch 232/500\n",
      "36/36 [==============================] - 0s 3ms/step - loss: 16.4391 - val_loss: 16.1175\n",
      "Epoch 233/500\n",
      "36/36 [==============================] - 0s 3ms/step - loss: 16.8371 - val_loss: 17.7740\n",
      "Epoch 234/500\n",
      "36/36 [==============================] - 0s 2ms/step - loss: 16.8274 - val_loss: 21.5725\n",
      "Epoch 235/500\n",
      "36/36 [==============================] - 0s 2ms/step - loss: 16.7901 - val_loss: 17.5919\n",
      "Epoch 236/500\n",
      "36/36 [==============================] - 0s 2ms/step - loss: 16.6068 - val_loss: 16.4612\n",
      "Epoch 237/500\n"
     ]
    },
    {
     "name": "stdout",
     "output_type": "stream",
     "text": [
      "36/36 [==============================] - 0s 3ms/step - loss: 16.4752 - val_loss: 17.0848\n",
      "Epoch 238/500\n",
      "36/36 [==============================] - 0s 4ms/step - loss: 16.4606 - val_loss: 17.1654\n",
      "Epoch 239/500\n",
      "36/36 [==============================] - 0s 4ms/step - loss: 17.9187 - val_loss: 16.8806\n",
      "Epoch 240/500\n",
      "36/36 [==============================] - 0s 4ms/step - loss: 17.2955 - val_loss: 17.1084\n",
      "Epoch 241/500\n",
      "36/36 [==============================] - 0s 4ms/step - loss: 16.5537 - val_loss: 16.4752\n",
      "Epoch 242/500\n",
      "36/36 [==============================] - 0s 3ms/step - loss: 17.0243 - val_loss: 15.7882\n",
      "Epoch 243/500\n",
      "36/36 [==============================] - 0s 2ms/step - loss: 16.6525 - val_loss: 17.3073\n",
      "Epoch 244/500\n",
      "36/36 [==============================] - 0s 2ms/step - loss: 16.4244 - val_loss: 17.4380\n",
      "Epoch 245/500\n",
      "36/36 [==============================] - 0s 2ms/step - loss: 16.3971 - val_loss: 15.7466\n",
      "Epoch 246/500\n",
      "36/36 [==============================] - 0s 2ms/step - loss: 16.6572 - val_loss: 15.7700\n",
      "Epoch 247/500\n",
      "36/36 [==============================] - 0s 2ms/step - loss: 16.4325 - val_loss: 16.2416\n",
      "Epoch 248/500\n",
      "36/36 [==============================] - 0s 3ms/step - loss: 16.5479 - val_loss: 17.4410\n",
      "Epoch 249/500\n",
      "36/36 [==============================] - 0s 3ms/step - loss: 17.2443 - val_loss: 19.1569\n",
      "Epoch 250/500\n",
      "36/36 [==============================] - 0s 2ms/step - loss: 16.6762 - val_loss: 15.8512\n",
      "Epoch 251/500\n",
      "36/36 [==============================] - 0s 2ms/step - loss: 16.8290 - val_loss: 19.8312\n",
      "Epoch 252/500\n",
      "36/36 [==============================] - 0s 2ms/step - loss: 16.7917 - val_loss: 16.6798\n",
      "Epoch 253/500\n",
      "36/36 [==============================] - 0s 2ms/step - loss: 16.7972 - val_loss: 15.9888\n",
      "Epoch 254/500\n",
      "36/36 [==============================] - 0s 2ms/step - loss: 17.0179 - val_loss: 16.7223\n",
      "Epoch 255/500\n",
      "36/36 [==============================] - 0s 2ms/step - loss: 16.4757 - val_loss: 15.7696\n",
      "Epoch 256/500\n",
      "36/36 [==============================] - 0s 3ms/step - loss: 16.3351 - val_loss: 18.4088\n",
      "Epoch 257/500\n",
      "36/36 [==============================] - 0s 2ms/step - loss: 16.9153 - val_loss: 16.0073\n",
      "Epoch 258/500\n",
      "36/36 [==============================] - 0s 2ms/step - loss: 16.6565 - val_loss: 16.8273\n",
      "Epoch 259/500\n",
      "36/36 [==============================] - 0s 2ms/step - loss: 16.5235 - val_loss: 17.8009\n",
      "Epoch 260/500\n",
      "36/36 [==============================] - 0s 2ms/step - loss: 16.7233 - val_loss: 16.1576\n",
      "Epoch 261/500\n",
      "36/36 [==============================] - 0s 2ms/step - loss: 16.5049 - val_loss: 15.9862\n",
      "Epoch 262/500\n",
      "36/36 [==============================] - 0s 2ms/step - loss: 16.6943 - val_loss: 16.7625\n",
      "Epoch 263/500\n",
      "36/36 [==============================] - 0s 2ms/step - loss: 16.5772 - val_loss: 16.1712\n",
      "Epoch 264/500\n",
      "36/36 [==============================] - 0s 2ms/step - loss: 16.5602 - val_loss: 16.2177\n",
      "Epoch 265/500\n",
      "36/36 [==============================] - 0s 2ms/step - loss: 16.6444 - val_loss: 15.9745\n",
      "Epoch 266/500\n",
      "36/36 [==============================] - 0s 2ms/step - loss: 16.2815 - val_loss: 15.7741\n",
      "Epoch 267/500\n",
      "36/36 [==============================] - 0s 2ms/step - loss: 17.3180 - val_loss: 16.3674\n",
      "Epoch 268/500\n",
      "36/36 [==============================] - 0s 2ms/step - loss: 16.6098 - val_loss: 19.0445\n",
      "Epoch 269/500\n",
      "36/36 [==============================] - 0s 2ms/step - loss: 16.7895 - val_loss: 15.9805\n",
      "Epoch 270/500\n",
      "36/36 [==============================] - 0s 2ms/step - loss: 16.4479 - val_loss: 16.4429\n",
      "Epoch 271/500\n",
      "36/36 [==============================] - 0s 2ms/step - loss: 16.6573 - val_loss: 16.1254\n",
      "Epoch 272/500\n",
      "36/36 [==============================] - 0s 2ms/step - loss: 16.4409 - val_loss: 17.6360\n",
      "Epoch 273/500\n",
      "36/36 [==============================] - 0s 2ms/step - loss: 16.9891 - val_loss: 17.2756\n",
      "Epoch 274/500\n",
      "36/36 [==============================] - 0s 2ms/step - loss: 16.4919 - val_loss: 15.8451\n",
      "Epoch 275/500\n",
      "36/36 [==============================] - 0s 2ms/step - loss: 16.2272 - val_loss: 16.7323\n",
      "Epoch 276/500\n",
      "36/36 [==============================] - 0s 2ms/step - loss: 16.4112 - val_loss: 19.0310\n",
      "Epoch 277/500\n",
      "36/36 [==============================] - 0s 2ms/step - loss: 16.6142 - val_loss: 18.9428\n",
      "Epoch 278/500\n",
      "36/36 [==============================] - 0s 2ms/step - loss: 16.5404 - val_loss: 15.7689\n",
      "Epoch 279/500\n",
      "36/36 [==============================] - 0s 2ms/step - loss: 17.3668 - val_loss: 15.8410\n",
      "Epoch 280/500\n",
      "36/36 [==============================] - 0s 2ms/step - loss: 16.5234 - val_loss: 19.2131\n",
      "Epoch 281/500\n",
      "36/36 [==============================] - 0s 2ms/step - loss: 16.4806 - val_loss: 16.0318\n",
      "Epoch 282/500\n",
      "36/36 [==============================] - 0s 2ms/step - loss: 16.5527 - val_loss: 16.5941\n",
      "Epoch 283/500\n",
      "36/36 [==============================] - 0s 2ms/step - loss: 16.6032 - val_loss: 15.7646\n",
      "Epoch 284/500\n",
      "36/36 [==============================] - 0s 2ms/step - loss: 16.8652 - val_loss: 15.9541\n",
      "Epoch 285/500\n",
      "36/36 [==============================] - 0s 2ms/step - loss: 17.3332 - val_loss: 17.4624\n",
      "Epoch 286/500\n",
      "36/36 [==============================] - 0s 2ms/step - loss: 16.8712 - val_loss: 15.8811\n",
      "Epoch 287/500\n",
      "36/36 [==============================] - 0s 2ms/step - loss: 16.6240 - val_loss: 16.4467\n",
      "Epoch 288/500\n",
      "36/36 [==============================] - 0s 2ms/step - loss: 16.9088 - val_loss: 16.5246\n",
      "Epoch 289/500\n",
      "36/36 [==============================] - 0s 2ms/step - loss: 16.8203 - val_loss: 16.2905\n",
      "Epoch 290/500\n",
      "36/36 [==============================] - 0s 2ms/step - loss: 16.8573 - val_loss: 17.1150\n",
      "Epoch 291/500\n",
      "36/36 [==============================] - 0s 2ms/step - loss: 16.6634 - val_loss: 15.8402\n",
      "Epoch 292/500\n",
      "36/36 [==============================] - 0s 2ms/step - loss: 16.9752 - val_loss: 17.2742\n",
      "Epoch 293/500\n",
      "36/36 [==============================] - 0s 2ms/step - loss: 16.7340 - val_loss: 16.1624\n",
      "Epoch 294/500\n",
      "36/36 [==============================] - 0s 2ms/step - loss: 16.5249 - val_loss: 15.8516\n",
      "Epoch 295/500\n",
      "36/36 [==============================] - 0s 2ms/step - loss: 16.9454 - val_loss: 18.2565\n",
      "Epoch 296/500\n",
      "36/36 [==============================] - 0s 2ms/step - loss: 16.7598 - val_loss: 15.8120\n",
      "Epoch 297/500\n",
      "36/36 [==============================] - 0s 2ms/step - loss: 17.0265 - val_loss: 17.0273\n",
      "Epoch 298/500\n",
      "36/36 [==============================] - 0s 2ms/step - loss: 16.8097 - val_loss: 20.9740\n",
      "Epoch 299/500\n",
      "36/36 [==============================] - 0s 2ms/step - loss: 17.1895 - val_loss: 17.6561\n",
      "Epoch 300/500\n",
      "36/36 [==============================] - 0s 2ms/step - loss: 17.6714 - val_loss: 16.2795\n",
      "Epoch 301/500\n",
      "36/36 [==============================] - 0s 2ms/step - loss: 16.5929 - val_loss: 15.9205\n",
      "Epoch 302/500\n",
      "36/36 [==============================] - 0s 2ms/step - loss: 16.6025 - val_loss: 15.8235\n",
      "Epoch 303/500\n",
      "36/36 [==============================] - 0s 2ms/step - loss: 16.2743 - val_loss: 17.8759\n",
      "Epoch 304/500\n",
      "36/36 [==============================] - 0s 2ms/step - loss: 16.7220 - val_loss: 18.4115\n",
      "Epoch 305/500\n",
      "36/36 [==============================] - 0s 2ms/step - loss: 17.0687 - val_loss: 15.8179\n",
      "Epoch 306/500\n",
      "36/36 [==============================] - 0s 2ms/step - loss: 18.2672 - val_loss: 15.9099\n",
      "Epoch 307/500\n",
      "36/36 [==============================] - 0s 2ms/step - loss: 17.0769 - val_loss: 18.0401\n",
      "Epoch 308/500\n",
      "36/36 [==============================] - 0s 2ms/step - loss: 16.3501 - val_loss: 16.1874\n",
      "Epoch 309/500\n",
      "36/36 [==============================] - 0s 2ms/step - loss: 16.4736 - val_loss: 16.6114\n",
      "Epoch 310/500\n",
      "36/36 [==============================] - 0s 2ms/step - loss: 16.3694 - val_loss: 16.3772\n",
      "Epoch 311/500\n",
      "36/36 [==============================] - 0s 2ms/step - loss: 16.7700 - val_loss: 16.2109\n",
      "Epoch 312/500\n",
      "36/36 [==============================] - 0s 2ms/step - loss: 16.4614 - val_loss: 16.1421\n",
      "Epoch 313/500\n",
      "36/36 [==============================] - 0s 2ms/step - loss: 16.8345 - val_loss: 16.7329\n",
      "Epoch 314/500\n",
      "36/36 [==============================] - 0s 2ms/step - loss: 16.5967 - val_loss: 15.8179\n",
      "Epoch 315/500\n",
      "36/36 [==============================] - 0s 2ms/step - loss: 16.6101 - val_loss: 16.3313\n",
      "Epoch 316/500\n"
     ]
    },
    {
     "name": "stdout",
     "output_type": "stream",
     "text": [
      "36/36 [==============================] - 0s 2ms/step - loss: 16.6607 - val_loss: 18.5399\n",
      "Epoch 317/500\n",
      "36/36 [==============================] - 0s 2ms/step - loss: 16.5873 - val_loss: 16.3768\n",
      "Epoch 318/500\n",
      "36/36 [==============================] - 0s 2ms/step - loss: 16.4462 - val_loss: 16.3413\n",
      "Epoch 319/500\n",
      "36/36 [==============================] - 0s 2ms/step - loss: 16.3716 - val_loss: 17.2724\n",
      "Epoch 320/500\n",
      "36/36 [==============================] - 0s 2ms/step - loss: 16.6407 - val_loss: 16.7923\n",
      "Epoch 321/500\n",
      "36/36 [==============================] - 0s 2ms/step - loss: 16.5063 - val_loss: 16.1472\n",
      "Epoch 322/500\n",
      "36/36 [==============================] - 0s 2ms/step - loss: 16.6173 - val_loss: 16.9044\n",
      "Epoch 323/500\n",
      "36/36 [==============================] - 0s 2ms/step - loss: 16.5056 - val_loss: 18.8232\n",
      "Epoch 324/500\n",
      "36/36 [==============================] - 0s 2ms/step - loss: 16.4465 - val_loss: 15.8567\n",
      "Epoch 325/500\n",
      "36/36 [==============================] - 0s 2ms/step - loss: 17.2428 - val_loss: 18.2763\n",
      "Epoch 326/500\n",
      "36/36 [==============================] - 0s 2ms/step - loss: 16.4708 - val_loss: 17.4388\n",
      "Epoch 327/500\n",
      "36/36 [==============================] - 0s 2ms/step - loss: 16.5454 - val_loss: 16.5156\n",
      "Epoch 328/500\n",
      "36/36 [==============================] - 0s 2ms/step - loss: 17.5676 - val_loss: 16.0420\n",
      "Epoch 329/500\n",
      "36/36 [==============================] - 0s 4ms/step - loss: 16.6542 - val_loss: 16.5543\n",
      "Epoch 330/500\n",
      "36/36 [==============================] - 0s 4ms/step - loss: 16.6342 - val_loss: 15.8331\n",
      "Epoch 331/500\n",
      "36/36 [==============================] - 0s 4ms/step - loss: 17.5740 - val_loss: 17.7726\n",
      "Epoch 332/500\n",
      "36/36 [==============================] - 0s 3ms/step - loss: 16.4881 - val_loss: 17.4330\n",
      "Epoch 333/500\n",
      "36/36 [==============================] - 0s 3ms/step - loss: 16.3607 - val_loss: 17.3488\n",
      "Epoch 334/500\n",
      "36/36 [==============================] - 0s 3ms/step - loss: 16.2612 - val_loss: 15.9213\n",
      "Epoch 335/500\n",
      "36/36 [==============================] - 0s 3ms/step - loss: 16.5131 - val_loss: 17.9721\n",
      "Epoch 336/500\n",
      "36/36 [==============================] - 0s 2ms/step - loss: 16.4944 - val_loss: 15.8732\n",
      "Epoch 337/500\n",
      "36/36 [==============================] - 0s 2ms/step - loss: 16.6316 - val_loss: 16.9088\n",
      "Epoch 338/500\n",
      "36/36 [==============================] - 0s 2ms/step - loss: 16.4555 - val_loss: 15.8741\n",
      "Epoch 339/500\n",
      "36/36 [==============================] - 0s 2ms/step - loss: 16.8282 - val_loss: 15.8381\n",
      "Epoch 340/500\n",
      "36/36 [==============================] - 0s 2ms/step - loss: 16.5229 - val_loss: 18.9942\n",
      "Epoch 341/500\n",
      "36/36 [==============================] - 0s 2ms/step - loss: 16.7844 - val_loss: 18.3398\n",
      "Epoch 342/500\n",
      "36/36 [==============================] - 0s 2ms/step - loss: 16.3300 - val_loss: 16.4814\n",
      "Epoch 343/500\n",
      "36/36 [==============================] - 0s 2ms/step - loss: 16.5718 - val_loss: 17.1670\n",
      "Epoch 344/500\n",
      "36/36 [==============================] - 0s 2ms/step - loss: 16.5922 - val_loss: 15.9109\n",
      "Epoch 345/500\n",
      "36/36 [==============================] - 0s 2ms/step - loss: 16.2710 - val_loss: 17.9846\n",
      "Epoch 346/500\n",
      "36/36 [==============================] - 0s 2ms/step - loss: 17.0216 - val_loss: 17.4384\n",
      "Epoch 347/500\n",
      "36/36 [==============================] - 0s 2ms/step - loss: 16.9236 - val_loss: 15.9479\n",
      "Epoch 348/500\n",
      "36/36 [==============================] - 0s 2ms/step - loss: 16.3260 - val_loss: 15.8562\n",
      "Epoch 349/500\n",
      "36/36 [==============================] - 0s 2ms/step - loss: 16.7802 - val_loss: 15.9426\n",
      "Epoch 350/500\n",
      "36/36 [==============================] - 0s 2ms/step - loss: 16.4943 - val_loss: 16.7609\n",
      "Epoch 351/500\n",
      "36/36 [==============================] - 0s 2ms/step - loss: 16.4196 - val_loss: 16.2701\n",
      "Epoch 352/500\n",
      "36/36 [==============================] - 0s 2ms/step - loss: 16.3662 - val_loss: 16.5994\n",
      "Epoch 353/500\n",
      "36/36 [==============================] - 0s 2ms/step - loss: 16.3241 - val_loss: 17.7245\n",
      "Epoch 354/500\n",
      "36/36 [==============================] - 0s 2ms/step - loss: 16.4024 - val_loss: 15.8565\n",
      "Epoch 355/500\n",
      "36/36 [==============================] - 0s 2ms/step - loss: 17.8030 - val_loss: 25.1477\n",
      "Epoch 356/500\n",
      "36/36 [==============================] - 0s 2ms/step - loss: 18.5482 - val_loss: 15.8683\n",
      "Epoch 357/500\n",
      "36/36 [==============================] - 0s 2ms/step - loss: 16.9024 - val_loss: 15.9448\n",
      "Epoch 358/500\n",
      "36/36 [==============================] - 0s 2ms/step - loss: 16.9323 - val_loss: 16.9647\n",
      "Epoch 359/500\n",
      "36/36 [==============================] - 0s 2ms/step - loss: 16.4526 - val_loss: 15.8871\n",
      "Epoch 360/500\n",
      "36/36 [==============================] - 0s 2ms/step - loss: 17.1652 - val_loss: 16.4182\n",
      "Epoch 361/500\n",
      "36/36 [==============================] - 0s 2ms/step - loss: 16.5914 - val_loss: 17.2860\n",
      "Epoch 362/500\n",
      "36/36 [==============================] - 0s 2ms/step - loss: 16.4191 - val_loss: 16.1356\n",
      "Epoch 363/500\n",
      "36/36 [==============================] - 0s 2ms/step - loss: 16.5858 - val_loss: 15.9725\n",
      "Epoch 364/500\n",
      "36/36 [==============================] - 0s 2ms/step - loss: 16.7533 - val_loss: 17.3008\n",
      "Epoch 365/500\n",
      "36/36 [==============================] - 0s 2ms/step - loss: 16.5514 - val_loss: 17.1251\n",
      "Epoch 366/500\n",
      "36/36 [==============================] - 0s 2ms/step - loss: 16.5508 - val_loss: 16.6265\n",
      "Epoch 367/500\n",
      "36/36 [==============================] - 0s 2ms/step - loss: 16.5788 - val_loss: 16.2558\n",
      "Epoch 368/500\n",
      "36/36 [==============================] - 0s 2ms/step - loss: 16.3695 - val_loss: 17.5958\n",
      "Epoch 369/500\n",
      "36/36 [==============================] - 0s 2ms/step - loss: 16.6211 - val_loss: 18.0408\n",
      "Epoch 370/500\n",
      "36/36 [==============================] - 0s 2ms/step - loss: 16.4577 - val_loss: 16.6516\n",
      "Epoch 371/500\n",
      "36/36 [==============================] - 0s 2ms/step - loss: 16.4095 - val_loss: 16.1074\n",
      "Epoch 372/500\n",
      "36/36 [==============================] - 0s 2ms/step - loss: 16.3746 - val_loss: 17.4161\n",
      "Epoch 373/500\n",
      "36/36 [==============================] - 0s 4ms/step - loss: 16.4355 - val_loss: 15.9332\n",
      "Epoch 374/500\n",
      "36/36 [==============================] - 0s 4ms/step - loss: 16.3917 - val_loss: 17.8234\n",
      "Epoch 375/500\n",
      "36/36 [==============================] - 0s 3ms/step - loss: 16.4803 - val_loss: 17.1103\n",
      "Epoch 376/500\n",
      "36/36 [==============================] - 0s 3ms/step - loss: 16.4136 - val_loss: 17.2222\n",
      "Epoch 377/500\n",
      "36/36 [==============================] - 0s 3ms/step - loss: 16.2828 - val_loss: 16.1945\n",
      "Epoch 378/500\n",
      "36/36 [==============================] - 0s 2ms/step - loss: 16.7698 - val_loss: 17.5563\n",
      "Epoch 379/500\n",
      "36/36 [==============================] - 0s 2ms/step - loss: 16.2698 - val_loss: 16.9563\n",
      "Epoch 380/500\n",
      "36/36 [==============================] - 0s 2ms/step - loss: 16.4250 - val_loss: 16.1056\n",
      "Epoch 381/500\n",
      "36/36 [==============================] - 0s 2ms/step - loss: 16.2617 - val_loss: 19.4417\n",
      "Epoch 382/500\n",
      "36/36 [==============================] - 0s 2ms/step - loss: 16.6368 - val_loss: 17.3693\n",
      "Epoch 383/500\n",
      "36/36 [==============================] - 0s 2ms/step - loss: 16.3612 - val_loss: 17.2598\n",
      "Epoch 384/500\n",
      "36/36 [==============================] - 0s 2ms/step - loss: 16.5598 - val_loss: 16.8894\n",
      "Epoch 385/500\n",
      "36/36 [==============================] - 0s 2ms/step - loss: 16.6058 - val_loss: 16.0839\n",
      "Epoch 386/500\n",
      "36/36 [==============================] - 0s 2ms/step - loss: 16.4481 - val_loss: 16.1722\n",
      "Epoch 387/500\n",
      "36/36 [==============================] - 0s 2ms/step - loss: 16.5286 - val_loss: 16.0731\n",
      "Epoch 388/500\n",
      "36/36 [==============================] - 0s 2ms/step - loss: 16.5831 - val_loss: 20.3057\n",
      "Epoch 389/500\n",
      "36/36 [==============================] - 0s 2ms/step - loss: 16.3059 - val_loss: 15.9709\n",
      "Epoch 390/500\n",
      "36/36 [==============================] - 0s 2ms/step - loss: 16.5511 - val_loss: 16.4577\n",
      "Epoch 391/500\n",
      "36/36 [==============================] - 0s 2ms/step - loss: 16.4471 - val_loss: 16.0016\n",
      "Epoch 392/500\n",
      "36/36 [==============================] - 0s 2ms/step - loss: 16.6791 - val_loss: 15.9325\n",
      "Epoch 393/500\n",
      "36/36 [==============================] - 0s 2ms/step - loss: 16.6800 - val_loss: 16.2223\n",
      "Epoch 394/500\n",
      "36/36 [==============================] - 0s 2ms/step - loss: 16.9915 - val_loss: 15.8904\n",
      "Epoch 395/500\n"
     ]
    },
    {
     "name": "stdout",
     "output_type": "stream",
     "text": [
      "36/36 [==============================] - 0s 2ms/step - loss: 16.5086 - val_loss: 16.1049\n",
      "Epoch 396/500\n",
      "36/36 [==============================] - 0s 2ms/step - loss: 16.3957 - val_loss: 17.2525\n",
      "Epoch 397/500\n",
      "36/36 [==============================] - 0s 2ms/step - loss: 16.4370 - val_loss: 17.1371\n",
      "Epoch 398/500\n",
      "36/36 [==============================] - 0s 2ms/step - loss: 16.4664 - val_loss: 18.2297\n",
      "Epoch 399/500\n",
      "36/36 [==============================] - 0s 2ms/step - loss: 16.7612 - val_loss: 16.0301\n",
      "Epoch 400/500\n",
      "36/36 [==============================] - 0s 2ms/step - loss: 16.5163 - val_loss: 16.2247\n",
      "Epoch 401/500\n",
      "36/36 [==============================] - 0s 2ms/step - loss: 16.5560 - val_loss: 16.0993\n",
      "Epoch 402/500\n",
      "36/36 [==============================] - 0s 2ms/step - loss: 16.6944 - val_loss: 17.6404\n",
      "Epoch 403/500\n",
      "36/36 [==============================] - 0s 2ms/step - loss: 16.7609 - val_loss: 18.4972\n",
      "Epoch 404/500\n",
      "36/36 [==============================] - 0s 2ms/step - loss: 16.8990 - val_loss: 22.5351\n",
      "Epoch 405/500\n",
      "36/36 [==============================] - 0s 3ms/step - loss: 16.7951 - val_loss: 16.0368\n",
      "Epoch 406/500\n",
      "36/36 [==============================] - 0s 2ms/step - loss: 16.6196 - val_loss: 16.6199\n",
      "Epoch 407/500\n",
      "36/36 [==============================] - 0s 2ms/step - loss: 16.5558 - val_loss: 16.4436\n",
      "Epoch 408/500\n",
      "36/36 [==============================] - 0s 2ms/step - loss: 16.5041 - val_loss: 16.2156\n",
      "Epoch 409/500\n",
      "36/36 [==============================] - 0s 2ms/step - loss: 16.5454 - val_loss: 17.6432\n",
      "Epoch 410/500\n",
      "36/36 [==============================] - 0s 2ms/step - loss: 16.6927 - val_loss: 18.5861\n",
      "Epoch 411/500\n",
      "36/36 [==============================] - 0s 2ms/step - loss: 16.6816 - val_loss: 16.8981\n",
      "Epoch 412/500\n",
      "36/36 [==============================] - 0s 2ms/step - loss: 16.6428 - val_loss: 18.7669\n",
      "Epoch 413/500\n",
      "36/36 [==============================] - 0s 2ms/step - loss: 16.4333 - val_loss: 17.5300\n",
      "Epoch 414/500\n",
      "36/36 [==============================] - 0s 2ms/step - loss: 16.3931 - val_loss: 16.4804\n",
      "Epoch 415/500\n",
      "36/36 [==============================] - 0s 2ms/step - loss: 16.4629 - val_loss: 18.6417\n",
      "Epoch 416/500\n",
      "36/36 [==============================] - 0s 2ms/step - loss: 16.5193 - val_loss: 17.5991\n",
      "Epoch 417/500\n",
      "36/36 [==============================] - 0s 2ms/step - loss: 16.8057 - val_loss: 17.3587\n",
      "Epoch 418/500\n",
      "36/36 [==============================] - 0s 2ms/step - loss: 17.1332 - val_loss: 18.3272\n",
      "Epoch 419/500\n",
      "36/36 [==============================] - 0s 2ms/step - loss: 16.4950 - val_loss: 19.0518\n",
      "Epoch 420/500\n",
      "36/36 [==============================] - 0s 2ms/step - loss: 16.8435 - val_loss: 15.9429\n",
      "Epoch 421/500\n",
      "36/36 [==============================] - 0s 2ms/step - loss: 17.2092 - val_loss: 18.1810\n",
      "Epoch 422/500\n",
      "36/36 [==============================] - 0s 2ms/step - loss: 16.7198 - val_loss: 20.8271\n",
      "Epoch 423/500\n",
      "36/36 [==============================] - 0s 2ms/step - loss: 16.6944 - val_loss: 17.8836\n",
      "Epoch 424/500\n",
      "36/36 [==============================] - 0s 2ms/step - loss: 16.6019 - val_loss: 16.0886\n",
      "Epoch 425/500\n",
      "36/36 [==============================] - 0s 2ms/step - loss: 16.3060 - val_loss: 19.8258\n",
      "Epoch 426/500\n",
      "36/36 [==============================] - 0s 2ms/step - loss: 16.7316 - val_loss: 16.9017\n",
      "Epoch 427/500\n",
      "36/36 [==============================] - 0s 2ms/step - loss: 16.3796 - val_loss: 17.6276\n",
      "Epoch 428/500\n",
      "36/36 [==============================] - 0s 2ms/step - loss: 16.5826 - val_loss: 17.5716\n",
      "Epoch 429/500\n",
      "36/36 [==============================] - 0s 2ms/step - loss: 16.8485 - val_loss: 16.5621\n",
      "Epoch 430/500\n",
      "36/36 [==============================] - 0s 2ms/step - loss: 16.9604 - val_loss: 19.3278\n",
      "Epoch 431/500\n",
      "36/36 [==============================] - 0s 2ms/step - loss: 17.4669 - val_loss: 17.4871\n",
      "Epoch 432/500\n",
      "36/36 [==============================] - 0s 2ms/step - loss: 16.4532 - val_loss: 17.1929\n",
      "Epoch 433/500\n",
      "36/36 [==============================] - 0s 2ms/step - loss: 16.4886 - val_loss: 16.0507\n",
      "Epoch 434/500\n",
      "36/36 [==============================] - 0s 2ms/step - loss: 16.7519 - val_loss: 19.4552\n",
      "Epoch 435/500\n",
      "36/36 [==============================] - 0s 2ms/step - loss: 16.6576 - val_loss: 18.2814\n",
      "Epoch 436/500\n",
      "36/36 [==============================] - 0s 2ms/step - loss: 16.4331 - val_loss: 18.3100\n",
      "Epoch 437/500\n",
      "36/36 [==============================] - 0s 3ms/step - loss: 16.4429 - val_loss: 16.4269\n",
      "Epoch 438/500\n",
      "36/36 [==============================] - 0s 3ms/step - loss: 16.5917 - val_loss: 18.2662\n",
      "Epoch 439/500\n",
      "36/36 [==============================] - 0s 3ms/step - loss: 16.5990 - val_loss: 16.7512\n",
      "Epoch 440/500\n",
      "36/36 [==============================] - 0s 2ms/step - loss: 16.6359 - val_loss: 18.3119\n",
      "Epoch 441/500\n",
      "36/36 [==============================] - 0s 2ms/step - loss: 16.5618 - val_loss: 17.4243\n",
      "Epoch 442/500\n",
      "36/36 [==============================] - 0s 2ms/step - loss: 16.3959 - val_loss: 16.7962\n",
      "Epoch 443/500\n",
      "36/36 [==============================] - 0s 2ms/step - loss: 16.2256 - val_loss: 23.2674\n",
      "Epoch 444/500\n",
      "36/36 [==============================] - 0s 2ms/step - loss: 17.8094 - val_loss: 16.8025\n",
      "Epoch 445/500\n",
      "36/36 [==============================] - 0s 2ms/step - loss: 16.4444 - val_loss: 16.3470\n",
      "Epoch 446/500\n",
      "36/36 [==============================] - 0s 2ms/step - loss: 16.6588 - val_loss: 17.3706\n",
      "Epoch 447/500\n",
      "36/36 [==============================] - 0s 2ms/step - loss: 16.1990 - val_loss: 22.6933\n",
      "Epoch 448/500\n",
      "36/36 [==============================] - 0s 3ms/step - loss: 17.3603 - val_loss: 20.4898\n",
      "Epoch 449/500\n",
      "36/36 [==============================] - 0s 3ms/step - loss: 17.2183 - val_loss: 15.9525\n",
      "Epoch 450/500\n",
      "36/36 [==============================] - 0s 2ms/step - loss: 16.4078 - val_loss: 18.1361\n",
      "Epoch 451/500\n",
      "36/36 [==============================] - 0s 2ms/step - loss: 16.1840 - val_loss: 20.8370\n",
      "Epoch 452/500\n",
      "36/36 [==============================] - 0s 2ms/step - loss: 17.2089 - val_loss: 17.8708\n",
      "Epoch 453/500\n",
      "36/36 [==============================] - 0s 2ms/step - loss: 16.3941 - val_loss: 16.1868\n",
      "Epoch 454/500\n",
      "36/36 [==============================] - 0s 2ms/step - loss: 16.2249 - val_loss: 16.3911\n",
      "Epoch 455/500\n",
      "36/36 [==============================] - 0s 2ms/step - loss: 16.9214 - val_loss: 18.1680\n",
      "Epoch 456/500\n",
      "36/36 [==============================] - 0s 2ms/step - loss: 16.6568 - val_loss: 15.9449\n",
      "Epoch 457/500\n",
      "36/36 [==============================] - 0s 2ms/step - loss: 16.8924 - val_loss: 16.3045\n",
      "Epoch 458/500\n",
      "36/36 [==============================] - 0s 3ms/step - loss: 16.7513 - val_loss: 16.3252\n",
      "Epoch 459/500\n",
      "36/36 [==============================] - 0s 2ms/step - loss: 16.3405 - val_loss: 16.4371\n",
      "Epoch 460/500\n",
      "36/36 [==============================] - 0s 2ms/step - loss: 16.9701 - val_loss: 16.8582\n",
      "Epoch 461/500\n",
      "36/36 [==============================] - 0s 2ms/step - loss: 16.7037 - val_loss: 19.7484\n",
      "Epoch 462/500\n",
      "36/36 [==============================] - 0s 2ms/step - loss: 16.4568 - val_loss: 16.3217\n",
      "Epoch 463/500\n",
      "36/36 [==============================] - 0s 2ms/step - loss: 16.2962 - val_loss: 16.8098\n",
      "Epoch 464/500\n",
      "36/36 [==============================] - 0s 2ms/step - loss: 16.5230 - val_loss: 15.9584\n",
      "Epoch 465/500\n",
      "36/36 [==============================] - 0s 2ms/step - loss: 16.5912 - val_loss: 16.0288\n",
      "Epoch 466/500\n",
      "36/36 [==============================] - 0s 2ms/step - loss: 16.7009 - val_loss: 16.8427\n",
      "Epoch 467/500\n",
      "36/36 [==============================] - 0s 2ms/step - loss: 16.4413 - val_loss: 16.5726\n",
      "Epoch 468/500\n",
      "36/36 [==============================] - 0s 2ms/step - loss: 16.8294 - val_loss: 16.0682\n",
      "Epoch 469/500\n",
      "36/36 [==============================] - 0s 2ms/step - loss: 16.7457 - val_loss: 16.0056\n",
      "Epoch 470/500\n",
      "36/36 [==============================] - 0s 2ms/step - loss: 16.7324 - val_loss: 20.8290\n",
      "Epoch 471/500\n",
      "36/36 [==============================] - 0s 2ms/step - loss: 16.8131 - val_loss: 16.0913\n",
      "Epoch 472/500\n",
      "36/36 [==============================] - 0s 2ms/step - loss: 17.1642 - val_loss: 15.9589\n",
      "Epoch 473/500\n",
      "36/36 [==============================] - 0s 2ms/step - loss: 17.0757 - val_loss: 21.6762\n",
      "Epoch 474/500\n"
     ]
    },
    {
     "name": "stdout",
     "output_type": "stream",
     "text": [
      "36/36 [==============================] - 0s 2ms/step - loss: 17.1118 - val_loss: 16.4376\n",
      "Epoch 475/500\n",
      "36/36 [==============================] - 0s 2ms/step - loss: 16.4764 - val_loss: 15.9713\n",
      "Epoch 476/500\n",
      "36/36 [==============================] - 0s 3ms/step - loss: 16.4202 - val_loss: 16.9649\n",
      "Epoch 477/500\n",
      "36/36 [==============================] - 0s 4ms/step - loss: 16.9744 - val_loss: 16.3839\n",
      "Epoch 478/500\n",
      "36/36 [==============================] - 0s 3ms/step - loss: 16.8093 - val_loss: 16.7106\n",
      "Epoch 479/500\n",
      "36/36 [==============================] - 0s 3ms/step - loss: 16.4145 - val_loss: 19.0127\n",
      "Epoch 480/500\n",
      "36/36 [==============================] - 0s 3ms/step - loss: 16.2855 - val_loss: 16.4740\n",
      "Epoch 481/500\n",
      "36/36 [==============================] - 0s 4ms/step - loss: 16.3452 - val_loss: 16.6594\n",
      "Epoch 482/500\n",
      "36/36 [==============================] - 0s 3ms/step - loss: 16.4609 - val_loss: 17.3850\n",
      "Epoch 483/500\n",
      "36/36 [==============================] - 0s 2ms/step - loss: 16.3340 - val_loss: 17.4874\n",
      "Epoch 484/500\n",
      "36/36 [==============================] - 0s 2ms/step - loss: 16.5045 - val_loss: 16.1123\n",
      "Epoch 485/500\n",
      "36/36 [==============================] - 0s 2ms/step - loss: 16.4488 - val_loss: 16.6520\n",
      "Epoch 486/500\n",
      "36/36 [==============================] - 0s 2ms/step - loss: 16.7523 - val_loss: 16.4438\n",
      "Epoch 487/500\n",
      "36/36 [==============================] - 0s 2ms/step - loss: 16.4826 - val_loss: 16.2726\n",
      "Epoch 488/500\n",
      "36/36 [==============================] - 0s 2ms/step - loss: 16.2690 - val_loss: 19.9379\n",
      "Epoch 489/500\n",
      "36/36 [==============================] - 0s 2ms/step - loss: 16.7664 - val_loss: 17.9059\n",
      "Epoch 490/500\n",
      "36/36 [==============================] - 0s 3ms/step - loss: 16.6944 - val_loss: 16.0268\n",
      "Epoch 491/500\n",
      "36/36 [==============================] - 0s 2ms/step - loss: 16.6468 - val_loss: 18.0578\n",
      "Epoch 492/500\n",
      "36/36 [==============================] - 0s 6ms/step - loss: 16.7805 - val_loss: 16.3013\n",
      "Epoch 493/500\n",
      "36/36 [==============================] - 0s 3ms/step - loss: 16.5528 - val_loss: 16.6655\n",
      "Epoch 494/500\n",
      "36/36 [==============================] - 0s 2ms/step - loss: 16.2116 - val_loss: 18.1425\n",
      "Epoch 495/500\n",
      "36/36 [==============================] - 0s 3ms/step - loss: 16.6804 - val_loss: 18.1885\n",
      "Epoch 496/500\n",
      "36/36 [==============================] - 0s 2ms/step - loss: 16.3785 - val_loss: 18.1122\n",
      "Epoch 497/500\n",
      "36/36 [==============================] - 0s 3ms/step - loss: 16.5399 - val_loss: 17.5958\n",
      "Epoch 498/500\n",
      "36/36 [==============================] - 0s 4ms/step - loss: 16.4630 - val_loss: 17.1733\n",
      "Epoch 499/500\n",
      "36/36 [==============================] - 0s 3ms/step - loss: 16.3698 - val_loss: 17.1821\n",
      "Epoch 500/500\n",
      "36/36 [==============================] - 0s 2ms/step - loss: 16.4720 - val_loss: 16.6268\n"
     ]
    }
   ],
   "source": [
    "history=model2.fit(X_train, y_train, validation_data =(X_test, y_test),epochs=500, batch_size=10) #verbose=0"
   ]
  },
  {
   "cell_type": "markdown",
   "metadata": {},
   "source": [
    "Adding in the extra layer did bring down the mean squared error somewhat compared to the first model above."
   ]
  },
  {
   "cell_type": "code",
   "execution_count": 118,
   "metadata": {},
   "outputs": [
    {
     "name": "stdout",
     "output_type": "stream",
     "text": [
      "Train: 16.129, Test: 16.627\n"
     ]
    }
   ],
   "source": [
    "train_mse2 = model2.evaluate(X_train, y_train, verbose=0)\n",
    "test_mse2 = model2.evaluate(X_test, y_test, verbose=0)\n",
    "print('Train: %.3f, Test: %.3f' % (train_mse2, test_mse2))"
   ]
  },
  {
   "cell_type": "code",
   "execution_count": 120,
   "metadata": {},
   "outputs": [
    {
     "name": "stdout",
     "output_type": "stream",
     "text": [
      "Train: 17.838, Test: 17.799\n"
     ]
    }
   ],
   "source": [
    "# from model 1\n",
    "print('Train: %.3f, Test: %.3f' % (train_mse, test_mse))"
   ]
  },
  {
   "cell_type": "code",
   "execution_count": 121,
   "metadata": {},
   "outputs": [],
   "source": [
    "model2.save('model2.h5')"
   ]
  },
  {
   "cell_type": "markdown",
   "metadata": {},
   "source": [
    "\n",
    "Will need to incorporate some if else statements into the final prediction function.\n",
    "\n",
    "if speed is below cut-in speed predict zero power\n",
    "if speed is above cut-out speed, predict zero power\n",
    "Not sure how to capture the non-zero power values accurately where power has been stored up\n",
    "I don't think we can actually get the most accurate model with only one feature provided.\n"
   ]
  },
  {
   "cell_type": "code",
   "execution_count": 100,
   "metadata": {},
   "outputs": [
    {
     "data": {
      "text/plain": [
       "array([[91.95961]], dtype=float32)"
      ]
     },
     "execution_count": 100,
     "metadata": {},
     "output_type": "execute_result"
    }
   ],
   "source": [
    "model.predict([24.4])"
   ]
  },
  {
   "cell_type": "code",
   "execution_count": 133,
   "metadata": {},
   "outputs": [],
   "source": [
    "def predict_power(speed):\n",
    "    \n",
    "    if speed >= 24.4:\n",
    "        return 0\n",
    "    if speed < 4:\n",
    "        return 0\n",
    "        \n",
    "        \n",
    "    else:\n",
    "        # TypeError: '>' not supported between instances of 'list' and 'float'\n",
    "        speed = np.array([[speed]])\n",
    "        print(speed.dtype)\n",
    "        power = model.predict(speed)\n",
    "        return power"
   ]
  },
  {
   "cell_type": "code",
   "execution_count": 134,
   "metadata": {},
   "outputs": [
    {
     "data": {
      "text/plain": [
       "0"
      ]
     },
     "execution_count": 134,
     "metadata": {},
     "output_type": "execute_result"
    }
   ],
   "source": [
    "predict_power(24.4)"
   ]
  },
  {
   "cell_type": "code",
   "execution_count": 135,
   "metadata": {},
   "outputs": [
    {
     "name": "stdout",
     "output_type": "stream",
     "text": [
      "int64\n"
     ]
    },
    {
     "data": {
      "text/plain": [
       "array([[3.8954556]], dtype=float32)"
      ]
     },
     "execution_count": 135,
     "metadata": {},
     "output_type": "execute_result"
    }
   ],
   "source": [
    "predict_power(4)"
   ]
  },
  {
   "cell_type": "markdown",
   "metadata": {},
   "source": [
    "## Normalisation\n",
    "\n",
    "I think this is throwing everything out to be honest. I'm not sure whether both the inputs and outputs should be scaled. Many examples in blogs only scale the inputs or the target variable but in this dataset we only have a single input variable and a single target variable.\n",
    "Without scaling the model does quite a good job considering all it has are two single columns of numbers. The wind speed seems to be uniformly distributed. I might just note it here but in the final model go without scaling.\n",
    "Also need to tidy up this notebook and remove a lot of excess crap!\n"
   ]
  },
  {
   "cell_type": "markdown",
   "metadata": {},
   "source": []
  },
  {
   "cell_type": "markdown",
   "metadata": {},
   "source": [
    "### Scaling the data\n",
    "\n",
    "The model can be updated to scale the target variable. \n",
    ">Reducing the scale of the target variable will, in turn, reduce the size of the gradient used to update the weights and result in a more stable model and training process.\n",
    "\n",
    "https://machinelearningmastery.com/how-to-improve-neural-network-stability-and-modeling-performance-with-data-scaling/\n",
    "\n",
    "According to this article, a good rule of thumb is that input variables should be small values, probably in the range of 0-1 or standardized with a zero mean and a standard deviation of one.\n",
    ">If the distribution of the quantity is normal, then it should be standardized, otherwise the data should be normalized.\n",
    "If in doubt, normalise the input sequence.\n",
    "\n",
    ">The output variable is the variable predicted by the network. If the distribution of the value is normal, then you can standardize the output variable. Otherwise, the output variable can be normalized.\n",
    "\n",
    "The distribution of the speed variable in the dataset is not normal so it should be normalised rather than standardised.  Normalization is a rescaling of the data from the original range so that all values are within the range of 0 and 1.\n",
    "\n",
    "The article indicates that good practice with the `MinMaxScaler` and other scaling techniques is to :\n",
    "- Fit the scaler using the available training data. For normalization, this means the training data will be used to estimate the minimum and maximum observable values. Use `fit()` to do this.\n",
    "- Apply the scale to the training data. Use the normalised data to train the model. Use `transform()` to do this.\n",
    "- Apply the scale going forward.\n",
    "`fit_transform()` function can do the two steps in one go.\n",
    "\n",
    "`scaler = MinMaxScaler()` \n",
    "`normalized = scaler.fit_transform(data)` \n",
    "\n",
    "Scikit-learn's preprocessing module can be used to scale the data.\n",
    ">Standardization of datasets is a common requirement for many machine learning estimators implemented in scikit-learn; they might behave badly if the individual features do not more or less look like standard normally distributed data: Gaussian with zero mean and unit variance. In practice we often ignore the shape of the distribution and just transform the data to center it by removing the mean value of each feature, then scale it by dividing non-constant features by their standard deviation.\n",
    "https://scikit-learn.org/stable/modules/preprocessing.html#preprocessing\n",
    "\n",
    "The data can be scaled to lie between a given minimum and maximum value such as between zero and one or so that the maximum absolute value of each feature is scaled to unit size. \n",
    "\n",
    "`scaler = MinMaxScaler(feature_range=(-1,1))`\n",
    "\n",
    "\n",
    "The [Introduction to Keras for Engineers](https://keras.io/getting_started/intro_to_keras_for_engineers/) does suggest that data preprocessing should be done such as feature normalisation.\n",
    "- Do preprocessing such as feature normalisation.\n",
    "The data consists of two columns of data and thats it. The only preprocesing that is applicable here is to rescale the data to small values as in general the input values to a neural network should be close to zero. According to the tutorial  the data should either be rescaled to have zero-mean and unit-variance or the data in the `[0.1]` range. The preprocessing should ideally be done as part of the model to make it more portable in production. In Keras the preprocessing is done via preprocessing layers which can be included directly into your model either during training or after training. Some preprocessing layers have a state, in this case normalization holds the mean and variance of the features and can be obtained by calling `layer.adapt(data)` on a sample or all of the training data.\n",
    "\n",
    "CSV data needs to be parsed, with numerical features converted to floating point tensors and categorical features indexed and converted to integer tensors. Then each feature typically needs to be normalized to zero-mean and unit-variance.\n",
    "\n",
    "---\n",
    "https://machinelearningmastery.com/data-leakage-machine-learning/\n",
    "https://datascience.stackexchange.com/questions/54908/data-normalization-before-or-after-train-test-split#:~:text=3%20Answers&text=Normalization%20across%20instances%20should%20be,data%20from%20the%20training%20set.&text=Using%20any%20information%20coming%20from,the%20evaluation%20of%20the%20performance.\n",
    "\n",
    "Normalization should be done after splitting the data into train and test/validation to avoid data leakage. Data leakage is where information from outside the dataset is used to train the model.\n",
    "Normalization across instances should be done after splitting the data between training and test set, using only the data from the training set. This is because the test set plays the role of fresh unseen data, so it's not supposed to be accessible at the training stage. Using any information coming from the test set before or during training is a potential bias in the evaluation of the performance.\n",
    "\n",
    "As yet I am not fully sure whether I should scale outputs as well as inputs but I think I should as we only have a single input feature to train the model on and predict the outputs.\n",
    "\n",
    "Continuing with following this blog:\n",
    "https://machinelearningmastery.com/how-to-improve-neural-network-stability-and-modeling-performance-with-data-scaling/\n",
    "\n",
    ">It is best practice is to estimate the mean and standard deviation of the training dataset and use these variables to scale the train and test dataset. This is to avoid any data leakage during the model evaluation process.\n",
    ">The scikit-learn transformers expect input data to be matrices of rows and columns, therefore the 1D arrays for the target variable will have to be reshaped into 2D arrays prior to the transforms.\n",
    "\n",
    "I have the data already in 2-d from earlier. Otherwise could do the following:\n",
    "`y_train= y_train.reshape(len(y_train),1)`\n",
    "`y_test = Y_test.reshape(len(y_train), 1)`\n"
   ]
  },
  {
   "cell_type": "code",
   "execution_count": 281,
   "metadata": {},
   "outputs": [
    {
     "name": "stdout",
     "output_type": "stream",
     "text": [
      "(356, 1) (119, 1) (356, 1) (119, 1)\n"
     ]
    }
   ],
   "source": [
    "# split into input and output columns\n",
    "\n",
    "X, y = dfx.values[:, :-1], dfx.values[:, -1:]\n",
    "# split into train and test datasets\n",
    "X_train, X_test, y_train, y_test = train_test_split(X, y, test_size=0.25, random_state=0)\n",
    "print(X_train.shape, X_test.shape, y_train.shape, y_test.shape)\n",
    "# determine the number of input features\n",
    "n_features = X_train.shape[1]"
   ]
  },
  {
   "cell_type": "raw",
   "metadata": {},
   "source": [
    "from tensorflow.keras.layers.experimental.preprocessing import Normalization\n",
    "normalizer = Normalization(axis=-1)"
   ]
  },
  {
   "cell_type": "code",
   "execution_count": 282,
   "metadata": {},
   "outputs": [],
   "source": [
    "\n",
    "# split into input and output columns\n",
    "\n",
    "X, y = dfx.values[:, :-1], dfx.values[:, -1:]\n",
    "# data has both the wind speed and power columns\n",
    "data = dfx.values"
   ]
  },
  {
   "cell_type": "code",
   "execution_count": 283,
   "metadata": {},
   "outputs": [
    {
     "name": "stdout",
     "output_type": "stream",
     "text": [
      "12.440970526315779\n",
      "50.54166736842105\n"
     ]
    }
   ],
   "source": [
    "print(dfx.speed.mean())\n",
    "print(dfx.power.mean())"
   ]
  },
  {
   "cell_type": "code",
   "execution_count": 284,
   "metadata": {},
   "outputs": [
    {
     "data": {
      "text/plain": [
       "0.814611339847262"
      ]
     },
     "execution_count": 284,
     "metadata": {},
     "output_type": "execute_result"
    }
   ],
   "source": [
    "(dfx.power/dfx.power.mean()).mean()\n",
    "(dfx.power/dfx.power.mean()).std()"
   ]
  },
  {
   "cell_type": "code",
   "execution_count": 285,
   "metadata": {
    "scrolled": true
   },
   "outputs": [
    {
     "data": {
      "text/plain": [
       "1.000000000000001"
      ]
     },
     "execution_count": 285,
     "metadata": {},
     "output_type": "execute_result"
    }
   ],
   "source": [
    "(dfx.speed/dfx.speed.mean()).mean()"
   ]
  },
  {
   "cell_type": "code",
   "execution_count": 286,
   "metadata": {},
   "outputs": [],
   "source": [
    "from tensorflow.keras.utils import normalize"
   ]
  },
  {
   "cell_type": "code",
   "execution_count": 287,
   "metadata": {},
   "outputs": [],
   "source": [
    "#X_train = normalize(X_train, axis=1)\n",
    "#X_test = normalize(X_test, axis=1)\n",
    "#y_train = normalize(y_train, axis=1)\n",
    "#y_test = normalize(y_test, axis=1)"
   ]
  },
  {
   "cell_type": "raw",
   "metadata": {},
   "source": [
    "print(f\"X_train mean and variance of normalised data {X_train.mean()}, {X_train.var()}\")\n",
    "print(f\"X_test mean and variance of normalised data {X_test.mean()}, {X_test.var()}\")\n",
    "print(f\"y_train mean and variance of normalised data {y_train.mean()}, {y_train.var()}\")\n",
    "print(f\"y_test mean and variance of normalised data {y_test.mean()}, {y_test.var()}\")"
   ]
  },
  {
   "cell_type": "markdown",
   "metadata": {},
   "source": [
    "https://towardsdatascience.com/backpropagation-and-batch-normalization-in-feedforward-neural-networks-explained-901fd6e5393e"
   ]
  },
  {
   "cell_type": "markdown",
   "metadata": {},
   "source": [
    "### Train a model"
   ]
  },
  {
   "cell_type": "code",
   "execution_count": 288,
   "metadata": {},
   "outputs": [],
   "source": [
    "# Train a model\n",
    "model3 = kr.models.Sequential()\n",
    "model3.add(kr.layers.Dense(50, input_shape=(1,), activation='sigmoid', kernel_initializer=\"glorot_uniform\", bias_initializer=\"glorot_uniform\"))#model.add(kr.layers.BatchNormalization())\n",
    "model3.add(kr.layers.BatchNormalization())\n",
    "\n",
    "\n",
    "#model3.add(kr.layers.Dense(50, input_shape=(1,), activation='sigmoid', kernel_initializer=\"glorot_uniform\", bias_initializer=\"glorot_uniform\"))\n",
    "#model3.add(kr.layers.Dense(1, activation='linear', kernel_initializer=\"glorot_uniform\", bias_initializer=\"glorot_uniform\"))\n",
    "model3.add(kr.layers.Dense(1, activation='linear', kernel_initializer=\"glorot_uniform\", bias_initializer=\"glorot_uniform\"))"
   ]
  },
  {
   "cell_type": "markdown",
   "metadata": {},
   "source": [
    "### Compile a model"
   ]
  },
  {
   "cell_type": "code",
   "execution_count": 289,
   "metadata": {},
   "outputs": [
    {
     "name": "stdout",
     "output_type": "stream",
     "text": [
      "Model: \"sequential_3\"\n",
      "_________________________________________________________________\n",
      "Layer (type)                 Output Shape              Param #   \n",
      "=================================================================\n",
      "dense_6 (Dense)              (None, 50)                100       \n",
      "_________________________________________________________________\n",
      "dense_7 (Dense)              (None, 1)                 51        \n",
      "=================================================================\n",
      "Total params: 151\n",
      "Trainable params: 151\n",
      "Non-trainable params: 0\n",
      "_________________________________________________________________\n"
     ]
    }
   ],
   "source": [
    "# \n",
    "model.compile(kr.optimizers.Adam(lr=0.001), loss='mean_squared_error')\n",
    "model.summary()"
   ]
  },
  {
   "cell_type": "markdown",
   "metadata": {},
   "source": [
    "### Fit the model to the data"
   ]
  },
  {
   "cell_type": "code",
   "execution_count": 290,
   "metadata": {},
   "outputs": [
    {
     "name": "stdout",
     "output_type": "stream",
     "text": [
      "Epoch 1/500\n",
      "36/36 [==============================] - 0s 4ms/step - loss: 16.8510 - val_loss: 16.1850\n",
      "Epoch 2/500\n",
      "36/36 [==============================] - 0s 2ms/step - loss: 16.6537 - val_loss: 15.9538\n",
      "Epoch 3/500\n",
      "36/36 [==============================] - 0s 2ms/step - loss: 16.6497 - val_loss: 15.6218\n",
      "Epoch 4/500\n",
      "36/36 [==============================] - 0s 2ms/step - loss: 16.7396 - val_loss: 15.8899\n",
      "Epoch 5/500\n",
      "36/36 [==============================] - 0s 2ms/step - loss: 16.7519 - val_loss: 15.5928\n",
      "Epoch 6/500\n",
      "36/36 [==============================] - 0s 2ms/step - loss: 16.7994 - val_loss: 15.6680\n",
      "Epoch 7/500\n",
      "36/36 [==============================] - 0s 2ms/step - loss: 16.8162 - val_loss: 15.4496\n",
      "Epoch 8/500\n",
      "36/36 [==============================] - 0s 2ms/step - loss: 16.6580 - val_loss: 15.6237\n",
      "Epoch 9/500\n",
      "36/36 [==============================] - 0s 2ms/step - loss: 16.7870 - val_loss: 15.8558\n",
      "Epoch 10/500\n",
      "36/36 [==============================] - 0s 2ms/step - loss: 16.6621 - val_loss: 16.1980\n",
      "Epoch 11/500\n",
      "36/36 [==============================] - 0s 2ms/step - loss: 16.7729 - val_loss: 15.5489\n",
      "Epoch 12/500\n",
      "36/36 [==============================] - 0s 2ms/step - loss: 16.7302 - val_loss: 15.6094\n",
      "Epoch 13/500\n",
      "36/36 [==============================] - 0s 2ms/step - loss: 16.9436 - val_loss: 17.0806\n",
      "Epoch 14/500\n",
      "36/36 [==============================] - 0s 2ms/step - loss: 16.7371 - val_loss: 15.7198\n",
      "Epoch 15/500\n",
      "36/36 [==============================] - 0s 2ms/step - loss: 16.7009 - val_loss: 15.5692\n",
      "Epoch 16/500\n",
      "36/36 [==============================] - 0s 2ms/step - loss: 16.8081 - val_loss: 15.7700\n",
      "Epoch 17/500\n",
      "36/36 [==============================] - 0s 2ms/step - loss: 16.6217 - val_loss: 15.9383\n",
      "Epoch 18/500\n",
      "36/36 [==============================] - 0s 2ms/step - loss: 16.8227 - val_loss: 15.6408\n",
      "Epoch 19/500\n",
      "36/36 [==============================] - 0s 2ms/step - loss: 16.6367 - val_loss: 15.9405\n",
      "Epoch 20/500\n",
      "36/36 [==============================] - 0s 2ms/step - loss: 16.7112 - val_loss: 15.5631\n",
      "Epoch 21/500\n",
      "36/36 [==============================] - 0s 2ms/step - loss: 16.8301 - val_loss: 15.3748\n",
      "Epoch 22/500\n",
      "36/36 [==============================] - 0s 2ms/step - loss: 16.7858 - val_loss: 16.4614\n",
      "Epoch 23/500\n",
      "36/36 [==============================] - 0s 2ms/step - loss: 16.5615 - val_loss: 15.3630\n",
      "Epoch 24/500\n",
      "36/36 [==============================] - 0s 2ms/step - loss: 16.7451 - val_loss: 16.6359\n",
      "Epoch 25/500\n",
      "36/36 [==============================] - 0s 2ms/step - loss: 16.7494 - val_loss: 15.5244\n",
      "Epoch 26/500\n",
      "36/36 [==============================] - 0s 2ms/step - loss: 16.9139 - val_loss: 15.9283\n",
      "Epoch 27/500\n",
      "36/36 [==============================] - 0s 2ms/step - loss: 17.2262 - val_loss: 17.0387\n",
      "Epoch 28/500\n",
      "36/36 [==============================] - 0s 2ms/step - loss: 16.7817 - val_loss: 16.2015\n",
      "Epoch 29/500\n",
      "36/36 [==============================] - 0s 2ms/step - loss: 16.6768 - val_loss: 15.6553\n",
      "Epoch 30/500\n",
      "36/36 [==============================] - 0s 2ms/step - loss: 16.9582 - val_loss: 16.8273\n",
      "Epoch 31/500\n",
      "36/36 [==============================] - 0s 2ms/step - loss: 16.9223 - val_loss: 15.5335\n",
      "Epoch 32/500\n",
      "36/36 [==============================] - 0s 2ms/step - loss: 16.8827 - val_loss: 15.5780\n",
      "Epoch 33/500\n",
      "36/36 [==============================] - 0s 2ms/step - loss: 16.7821 - val_loss: 15.7852\n",
      "Epoch 34/500\n",
      "36/36 [==============================] - 0s 2ms/step - loss: 16.6702 - val_loss: 15.5739\n",
      "Epoch 35/500\n",
      "36/36 [==============================] - 0s 2ms/step - loss: 16.7364 - val_loss: 15.4594\n",
      "Epoch 36/500\n",
      "36/36 [==============================] - 0s 2ms/step - loss: 16.6171 - val_loss: 17.2872\n",
      "Epoch 37/500\n",
      "36/36 [==============================] - 0s 2ms/step - loss: 16.9288 - val_loss: 15.8273\n",
      "Epoch 38/500\n",
      "36/36 [==============================] - 0s 2ms/step - loss: 16.7303 - val_loss: 15.7874\n",
      "Epoch 39/500\n",
      "36/36 [==============================] - 0s 2ms/step - loss: 16.6952 - val_loss: 15.3907\n",
      "Epoch 40/500\n",
      "36/36 [==============================] - 0s 2ms/step - loss: 16.8833 - val_loss: 15.4544\n",
      "Epoch 41/500\n",
      "36/36 [==============================] - 0s 2ms/step - loss: 16.6409 - val_loss: 16.0543\n",
      "Epoch 42/500\n",
      "36/36 [==============================] - 0s 2ms/step - loss: 16.7411 - val_loss: 15.4127\n",
      "Epoch 43/500\n",
      "36/36 [==============================] - 0s 2ms/step - loss: 16.6809 - val_loss: 15.8167\n",
      "Epoch 44/500\n",
      "36/36 [==============================] - 0s 2ms/step - loss: 16.7156 - val_loss: 16.3947\n",
      "Epoch 45/500\n",
      "36/36 [==============================] - 0s 2ms/step - loss: 16.6941 - val_loss: 15.4211\n",
      "Epoch 46/500\n",
      "36/36 [==============================] - 0s 2ms/step - loss: 16.8005 - val_loss: 15.4505\n",
      "Epoch 47/500\n",
      "36/36 [==============================] - 0s 2ms/step - loss: 16.7846 - val_loss: 15.7560\n",
      "Epoch 48/500\n",
      "36/36 [==============================] - 0s 2ms/step - loss: 16.7857 - val_loss: 16.2181\n",
      "Epoch 49/500\n",
      "36/36 [==============================] - 0s 2ms/step - loss: 16.6968 - val_loss: 15.4727\n",
      "Epoch 50/500\n",
      "36/36 [==============================] - 0s 2ms/step - loss: 16.6609 - val_loss: 16.4517\n",
      "Epoch 51/500\n",
      "36/36 [==============================] - 0s 2ms/step - loss: 16.7604 - val_loss: 15.3582\n",
      "Epoch 52/500\n",
      "36/36 [==============================] - 0s 2ms/step - loss: 16.6543 - val_loss: 16.1791\n",
      "Epoch 53/500\n",
      "36/36 [==============================] - 0s 2ms/step - loss: 16.6244 - val_loss: 15.6493\n",
      "Epoch 54/500\n",
      "36/36 [==============================] - 0s 2ms/step - loss: 16.6807 - val_loss: 15.6515\n",
      "Epoch 55/500\n",
      "36/36 [==============================] - 0s 2ms/step - loss: 16.6612 - val_loss: 16.0903\n",
      "Epoch 56/500\n",
      "36/36 [==============================] - 0s 2ms/step - loss: 16.6613 - val_loss: 16.0257\n",
      "Epoch 57/500\n",
      "36/36 [==============================] - 0s 2ms/step - loss: 16.6961 - val_loss: 15.6655\n",
      "Epoch 58/500\n",
      "36/36 [==============================] - 0s 2ms/step - loss: 16.7458 - val_loss: 15.4262\n",
      "Epoch 59/500\n",
      "36/36 [==============================] - 0s 2ms/step - loss: 16.9349 - val_loss: 15.4130\n",
      "Epoch 60/500\n",
      "36/36 [==============================] - 0s 2ms/step - loss: 16.6642 - val_loss: 16.6986\n",
      "Epoch 61/500\n",
      "36/36 [==============================] - 0s 2ms/step - loss: 17.1289 - val_loss: 16.1355\n",
      "Epoch 62/500\n",
      "36/36 [==============================] - 0s 2ms/step - loss: 16.8331 - val_loss: 16.3193\n",
      "Epoch 63/500\n",
      "36/36 [==============================] - 0s 2ms/step - loss: 16.8461 - val_loss: 15.3650\n",
      "Epoch 64/500\n",
      "36/36 [==============================] - 0s 2ms/step - loss: 16.7949 - val_loss: 15.7092\n",
      "Epoch 65/500\n",
      "36/36 [==============================] - 0s 2ms/step - loss: 16.8108 - val_loss: 15.3837\n",
      "Epoch 66/500\n",
      "36/36 [==============================] - 0s 2ms/step - loss: 16.7240 - val_loss: 15.7446\n",
      "Epoch 67/500\n",
      "36/36 [==============================] - 0s 2ms/step - loss: 16.6029 - val_loss: 15.7735\n",
      "Epoch 68/500\n",
      "36/36 [==============================] - 0s 2ms/step - loss: 16.6632 - val_loss: 15.5930\n",
      "Epoch 69/500\n",
      "36/36 [==============================] - 0s 2ms/step - loss: 16.7997 - val_loss: 15.2667\n",
      "Epoch 70/500\n",
      "36/36 [==============================] - 0s 2ms/step - loss: 16.6079 - val_loss: 16.1608\n",
      "Epoch 71/500\n",
      "36/36 [==============================] - 0s 2ms/step - loss: 16.8086 - val_loss: 16.5685\n",
      "Epoch 72/500\n",
      "36/36 [==============================] - 0s 2ms/step - loss: 16.7617 - val_loss: 15.7565\n",
      "Epoch 73/500\n",
      "36/36 [==============================] - 0s 2ms/step - loss: 16.7060 - val_loss: 16.3662\n",
      "Epoch 74/500\n",
      "36/36 [==============================] - 0s 2ms/step - loss: 16.7354 - val_loss: 15.5964\n",
      "Epoch 75/500\n",
      "36/36 [==============================] - 0s 2ms/step - loss: 16.7234 - val_loss: 15.7453\n",
      "Epoch 76/500\n",
      "36/36 [==============================] - 0s 2ms/step - loss: 16.7621 - val_loss: 15.4445\n",
      "Epoch 77/500\n",
      "36/36 [==============================] - 0s 2ms/step - loss: 16.6357 - val_loss: 15.8898\n",
      "Epoch 78/500\n",
      "36/36 [==============================] - 0s 2ms/step - loss: 16.7124 - val_loss: 15.8949\n",
      "Epoch 79/500\n",
      "36/36 [==============================] - 0s 2ms/step - loss: 16.7877 - val_loss: 15.6655\n",
      "Epoch 80/500\n",
      "36/36 [==============================] - 0s 2ms/step - loss: 16.5788 - val_loss: 16.1401\n",
      "Epoch 81/500\n"
     ]
    },
    {
     "name": "stdout",
     "output_type": "stream",
     "text": [
      "36/36 [==============================] - 0s 2ms/step - loss: 16.8410 - val_loss: 15.4743\n",
      "Epoch 82/500\n",
      "36/36 [==============================] - 0s 2ms/step - loss: 16.6256 - val_loss: 16.2304\n",
      "Epoch 83/500\n",
      "36/36 [==============================] - 0s 2ms/step - loss: 16.6095 - val_loss: 15.4514\n",
      "Epoch 84/500\n",
      "36/36 [==============================] - 0s 2ms/step - loss: 16.6199 - val_loss: 16.1052\n",
      "Epoch 85/500\n",
      "36/36 [==============================] - 0s 2ms/step - loss: 16.7943 - val_loss: 15.4754\n",
      "Epoch 86/500\n",
      "36/36 [==============================] - 0s 2ms/step - loss: 16.6894 - val_loss: 15.4572\n",
      "Epoch 87/500\n",
      "36/36 [==============================] - 0s 2ms/step - loss: 16.7176 - val_loss: 15.7517\n",
      "Epoch 88/500\n",
      "36/36 [==============================] - 0s 2ms/step - loss: 16.6231 - val_loss: 15.5241\n",
      "Epoch 89/500\n",
      "36/36 [==============================] - 0s 2ms/step - loss: 16.8804 - val_loss: 15.9380\n",
      "Epoch 90/500\n",
      "36/36 [==============================] - 0s 2ms/step - loss: 17.1665 - val_loss: 15.5544\n",
      "Epoch 91/500\n",
      "36/36 [==============================] - 0s 2ms/step - loss: 16.7096 - val_loss: 15.6435\n",
      "Epoch 92/500\n",
      "36/36 [==============================] - 0s 2ms/step - loss: 16.7601 - val_loss: 16.3797\n",
      "Epoch 93/500\n",
      "36/36 [==============================] - 0s 2ms/step - loss: 16.6449 - val_loss: 15.6386\n",
      "Epoch 94/500\n",
      "36/36 [==============================] - 0s 2ms/step - loss: 16.6369 - val_loss: 15.8097\n",
      "Epoch 95/500\n",
      "36/36 [==============================] - 0s 2ms/step - loss: 16.6608 - val_loss: 16.2795\n",
      "Epoch 96/500\n",
      "36/36 [==============================] - 0s 2ms/step - loss: 16.6863 - val_loss: 15.5474\n",
      "Epoch 97/500\n",
      "36/36 [==============================] - 0s 2ms/step - loss: 16.6963 - val_loss: 15.7607\n",
      "Epoch 98/500\n",
      "36/36 [==============================] - 0s 1ms/step - loss: 16.6122 - val_loss: 15.9628\n",
      "Epoch 99/500\n",
      "36/36 [==============================] - 0s 2ms/step - loss: 16.6192 - val_loss: 15.4783\n",
      "Epoch 100/500\n",
      "36/36 [==============================] - 0s 2ms/step - loss: 16.6470 - val_loss: 15.8827\n",
      "Epoch 101/500\n",
      "36/36 [==============================] - 0s 2ms/step - loss: 16.6820 - val_loss: 15.5978\n",
      "Epoch 102/500\n",
      "36/36 [==============================] - 0s 2ms/step - loss: 16.7136 - val_loss: 15.6781\n",
      "Epoch 103/500\n",
      "36/36 [==============================] - 0s 3ms/step - loss: 16.7140 - val_loss: 15.4001\n",
      "Epoch 104/500\n",
      "36/36 [==============================] - 0s 3ms/step - loss: 16.7254 - val_loss: 16.3630\n",
      "Epoch 105/500\n",
      "36/36 [==============================] - 0s 3ms/step - loss: 16.8456 - val_loss: 17.1452\n",
      "Epoch 106/500\n",
      "36/36 [==============================] - 0s 2ms/step - loss: 16.8970 - val_loss: 15.5151\n",
      "Epoch 107/500\n",
      "36/36 [==============================] - 0s 3ms/step - loss: 16.8342 - val_loss: 15.1757\n",
      "Epoch 108/500\n",
      "36/36 [==============================] - 0s 3ms/step - loss: 16.8303 - val_loss: 15.9065\n",
      "Epoch 109/500\n",
      "36/36 [==============================] - 0s 2ms/step - loss: 16.5736 - val_loss: 15.4573\n",
      "Epoch 110/500\n",
      "36/36 [==============================] - 0s 3ms/step - loss: 16.7856 - val_loss: 15.9699\n",
      "Epoch 111/500\n",
      "36/36 [==============================] - 0s 3ms/step - loss: 16.7266 - val_loss: 15.7907\n",
      "Epoch 112/500\n",
      "36/36 [==============================] - 0s 3ms/step - loss: 16.7671 - val_loss: 15.6914\n",
      "Epoch 113/500\n",
      "36/36 [==============================] - 0s 3ms/step - loss: 16.6000 - val_loss: 15.7286\n",
      "Epoch 114/500\n",
      "36/36 [==============================] - 0s 3ms/step - loss: 16.8118 - val_loss: 16.3192\n",
      "Epoch 115/500\n",
      "36/36 [==============================] - 0s 3ms/step - loss: 16.8981 - val_loss: 17.3320\n",
      "Epoch 116/500\n",
      "36/36 [==============================] - 0s 3ms/step - loss: 16.7534 - val_loss: 15.2001\n",
      "Epoch 117/500\n",
      "36/36 [==============================] - 0s 2ms/step - loss: 16.8301 - val_loss: 15.6979\n",
      "Epoch 118/500\n",
      "36/36 [==============================] - 0s 2ms/step - loss: 16.6478 - val_loss: 16.6361\n",
      "Epoch 119/500\n",
      "36/36 [==============================] - 0s 2ms/step - loss: 16.6393 - val_loss: 15.6025\n",
      "Epoch 120/500\n",
      "36/36 [==============================] - 0s 2ms/step - loss: 16.7419 - val_loss: 15.4033\n",
      "Epoch 121/500\n",
      "36/36 [==============================] - 0s 2ms/step - loss: 16.6735 - val_loss: 15.6815\n",
      "Epoch 122/500\n",
      "36/36 [==============================] - 0s 2ms/step - loss: 16.7356 - val_loss: 16.0653\n",
      "Epoch 123/500\n",
      "36/36 [==============================] - 0s 2ms/step - loss: 16.7531 - val_loss: 16.4686\n",
      "Epoch 124/500\n",
      "36/36 [==============================] - 0s 2ms/step - loss: 16.9791 - val_loss: 16.8080\n",
      "Epoch 125/500\n",
      "36/36 [==============================] - 0s 2ms/step - loss: 16.8074 - val_loss: 15.5852\n",
      "Epoch 126/500\n",
      "36/36 [==============================] - 0s 2ms/step - loss: 16.6314 - val_loss: 15.8925\n",
      "Epoch 127/500\n",
      "36/36 [==============================] - 0s 3ms/step - loss: 16.6685 - val_loss: 15.8059\n",
      "Epoch 128/500\n",
      "36/36 [==============================] - 0s 3ms/step - loss: 16.6892 - val_loss: 15.8886\n",
      "Epoch 129/500\n",
      "36/36 [==============================] - 0s 3ms/step - loss: 16.6743 - val_loss: 15.4012\n",
      "Epoch 130/500\n",
      "36/36 [==============================] - 0s 3ms/step - loss: 16.6941 - val_loss: 16.3654\n",
      "Epoch 131/500\n",
      "36/36 [==============================] - 0s 3ms/step - loss: 16.5443 - val_loss: 15.4910\n",
      "Epoch 132/500\n",
      "36/36 [==============================] - 0s 3ms/step - loss: 16.9093 - val_loss: 15.5837\n",
      "Epoch 133/500\n",
      "36/36 [==============================] - 0s 4ms/step - loss: 16.8750 - val_loss: 15.8655\n",
      "Epoch 134/500\n",
      "36/36 [==============================] - 0s 3ms/step - loss: 16.6716 - val_loss: 16.0715\n",
      "Epoch 135/500\n",
      "36/36 [==============================] - 0s 3ms/step - loss: 16.5907 - val_loss: 15.3718\n",
      "Epoch 136/500\n",
      "36/36 [==============================] - 0s 3ms/step - loss: 16.7728 - val_loss: 16.5063\n",
      "Epoch 137/500\n",
      "36/36 [==============================] - 0s 3ms/step - loss: 16.8952 - val_loss: 15.9440\n",
      "Epoch 138/500\n",
      "36/36 [==============================] - 0s 3ms/step - loss: 16.6839 - val_loss: 15.3757\n",
      "Epoch 139/500\n",
      "36/36 [==============================] - 0s 2ms/step - loss: 16.8088 - val_loss: 15.8125\n",
      "Epoch 140/500\n",
      "36/36 [==============================] - 0s 3ms/step - loss: 16.6900 - val_loss: 15.5316\n",
      "Epoch 141/500\n",
      "36/36 [==============================] - 0s 3ms/step - loss: 16.7639 - val_loss: 16.1050\n",
      "Epoch 142/500\n",
      "36/36 [==============================] - 0s 3ms/step - loss: 16.6680 - val_loss: 16.0664\n",
      "Epoch 143/500\n",
      "36/36 [==============================] - 0s 3ms/step - loss: 16.6263 - val_loss: 15.8779\n",
      "Epoch 144/500\n",
      "36/36 [==============================] - 0s 3ms/step - loss: 16.6276 - val_loss: 16.1661\n",
      "Epoch 145/500\n",
      "36/36 [==============================] - 0s 2ms/step - loss: 16.8288 - val_loss: 16.5989\n",
      "Epoch 146/500\n",
      "36/36 [==============================] - 0s 2ms/step - loss: 16.6463 - val_loss: 15.2933\n",
      "Epoch 147/500\n",
      "36/36 [==============================] - 0s 2ms/step - loss: 16.6980 - val_loss: 16.5365\n",
      "Epoch 148/500\n",
      "36/36 [==============================] - 0s 3ms/step - loss: 16.9025 - val_loss: 16.4619\n",
      "Epoch 149/500\n",
      "36/36 [==============================] - 0s 3ms/step - loss: 16.5900 - val_loss: 15.6687\n",
      "Epoch 150/500\n",
      "36/36 [==============================] - 0s 3ms/step - loss: 16.7158 - val_loss: 15.4952\n",
      "Epoch 151/500\n",
      "36/36 [==============================] - 0s 2ms/step - loss: 16.9876 - val_loss: 15.3823\n",
      "Epoch 152/500\n",
      "36/36 [==============================] - 0s 2ms/step - loss: 16.8594 - val_loss: 16.2046\n",
      "Epoch 153/500\n",
      "36/36 [==============================] - 0s 2ms/step - loss: 16.6588 - val_loss: 15.5633\n",
      "Epoch 154/500\n",
      "36/36 [==============================] - 0s 2ms/step - loss: 16.6400 - val_loss: 15.8942\n",
      "Epoch 155/500\n",
      "36/36 [==============================] - 0s 2ms/step - loss: 16.7880 - val_loss: 16.1757\n",
      "Epoch 156/500\n",
      "36/36 [==============================] - 0s 2ms/step - loss: 16.6465 - val_loss: 15.8426\n",
      "Epoch 157/500\n",
      "36/36 [==============================] - 0s 2ms/step - loss: 16.5971 - val_loss: 15.6849\n",
      "Epoch 158/500\n",
      "36/36 [==============================] - 0s 2ms/step - loss: 16.7346 - val_loss: 15.5476\n",
      "Epoch 159/500\n",
      "36/36 [==============================] - 0s 3ms/step - loss: 16.7692 - val_loss: 16.0279\n",
      "Epoch 160/500\n",
      "36/36 [==============================] - 0s 3ms/step - loss: 16.7042 - val_loss: 15.9030\n"
     ]
    },
    {
     "name": "stdout",
     "output_type": "stream",
     "text": [
      "Epoch 161/500\n",
      "36/36 [==============================] - 0s 3ms/step - loss: 16.6932 - val_loss: 15.7356\n",
      "Epoch 162/500\n",
      "36/36 [==============================] - 0s 3ms/step - loss: 16.6077 - val_loss: 15.5500\n",
      "Epoch 163/500\n",
      "36/36 [==============================] - 0s 3ms/step - loss: 16.6322 - val_loss: 16.2510\n",
      "Epoch 164/500\n",
      "36/36 [==============================] - 0s 2ms/step - loss: 16.7017 - val_loss: 15.9060\n",
      "Epoch 165/500\n",
      "36/36 [==============================] - 0s 2ms/step - loss: 16.6462 - val_loss: 15.3406\n",
      "Epoch 166/500\n",
      "36/36 [==============================] - 0s 3ms/step - loss: 16.6306 - val_loss: 15.8178\n",
      "Epoch 167/500\n",
      "36/36 [==============================] - 0s 2ms/step - loss: 16.7429 - val_loss: 16.3272\n",
      "Epoch 168/500\n",
      "36/36 [==============================] - 0s 2ms/step - loss: 16.6704 - val_loss: 15.5933\n",
      "Epoch 169/500\n",
      "36/36 [==============================] - 0s 2ms/step - loss: 16.6441 - val_loss: 15.7432\n",
      "Epoch 170/500\n",
      "36/36 [==============================] - 0s 2ms/step - loss: 16.6770 - val_loss: 15.9342\n",
      "Epoch 171/500\n",
      "36/36 [==============================] - 0s 2ms/step - loss: 16.8202 - val_loss: 16.9927\n",
      "Epoch 172/500\n",
      "36/36 [==============================] - 0s 2ms/step - loss: 16.8938 - val_loss: 15.3220\n",
      "Epoch 173/500\n",
      "36/36 [==============================] - 0s 2ms/step - loss: 16.6358 - val_loss: 16.1598\n",
      "Epoch 174/500\n",
      "36/36 [==============================] - 0s 2ms/step - loss: 16.6372 - val_loss: 15.7037\n",
      "Epoch 175/500\n",
      "36/36 [==============================] - 0s 2ms/step - loss: 16.5681 - val_loss: 16.4060\n",
      "Epoch 176/500\n",
      "36/36 [==============================] - 0s 2ms/step - loss: 16.6121 - val_loss: 15.2105\n",
      "Epoch 177/500\n",
      "36/36 [==============================] - 0s 2ms/step - loss: 16.7653 - val_loss: 15.6522\n",
      "Epoch 178/500\n",
      "36/36 [==============================] - 0s 2ms/step - loss: 16.7286 - val_loss: 15.9208\n",
      "Epoch 179/500\n",
      "36/36 [==============================] - 0s 3ms/step - loss: 16.6777 - val_loss: 16.4946\n",
      "Epoch 180/500\n",
      "36/36 [==============================] - 0s 3ms/step - loss: 16.6019 - val_loss: 15.9415\n",
      "Epoch 181/500\n",
      "36/36 [==============================] - 0s 3ms/step - loss: 16.7491 - val_loss: 15.9204\n",
      "Epoch 182/500\n",
      "36/36 [==============================] - 0s 2ms/step - loss: 16.6071 - val_loss: 15.4219\n",
      "Epoch 183/500\n",
      "36/36 [==============================] - 0s 3ms/step - loss: 16.6685 - val_loss: 16.7717\n",
      "Epoch 184/500\n",
      "36/36 [==============================] - 0s 3ms/step - loss: 16.8207 - val_loss: 15.9316\n",
      "Epoch 185/500\n",
      "36/36 [==============================] - 0s 3ms/step - loss: 16.7901 - val_loss: 17.8045\n",
      "Epoch 186/500\n",
      "36/36 [==============================] - 0s 3ms/step - loss: 16.9185 - val_loss: 16.3472\n",
      "Epoch 187/500\n",
      "36/36 [==============================] - 0s 3ms/step - loss: 16.6063 - val_loss: 15.6729\n",
      "Epoch 188/500\n",
      "36/36 [==============================] - 0s 3ms/step - loss: 16.6800 - val_loss: 15.8717\n",
      "Epoch 189/500\n",
      "36/36 [==============================] - 0s 2ms/step - loss: 16.6234 - val_loss: 16.9642\n",
      "Epoch 190/500\n",
      "36/36 [==============================] - 0s 3ms/step - loss: 16.8257 - val_loss: 15.6619\n",
      "Epoch 191/500\n",
      "36/36 [==============================] - 0s 2ms/step - loss: 16.5934 - val_loss: 15.7440\n",
      "Epoch 192/500\n",
      "36/36 [==============================] - 0s 4ms/step - loss: 16.6674 - val_loss: 15.8637\n",
      "Epoch 193/500\n",
      "36/36 [==============================] - 0s 2ms/step - loss: 16.9004 - val_loss: 15.1650\n",
      "Epoch 194/500\n",
      "36/36 [==============================] - 0s 3ms/step - loss: 16.6499 - val_loss: 16.5079\n",
      "Epoch 195/500\n",
      "36/36 [==============================] - 0s 3ms/step - loss: 16.8000 - val_loss: 15.2578\n",
      "Epoch 196/500\n",
      "36/36 [==============================] - 0s 2ms/step - loss: 17.0159 - val_loss: 15.7844\n",
      "Epoch 197/500\n",
      "36/36 [==============================] - 0s 3ms/step - loss: 16.7420 - val_loss: 17.0928\n",
      "Epoch 198/500\n",
      "36/36 [==============================] - 0s 3ms/step - loss: 16.7336 - val_loss: 15.9117\n",
      "Epoch 199/500\n",
      "36/36 [==============================] - 0s 3ms/step - loss: 16.5810 - val_loss: 16.2328\n",
      "Epoch 200/500\n",
      "36/36 [==============================] - 0s 3ms/step - loss: 16.5629 - val_loss: 15.2646\n",
      "Epoch 201/500\n",
      "36/36 [==============================] - 0s 3ms/step - loss: 16.7023 - val_loss: 16.1194\n",
      "Epoch 202/500\n",
      "36/36 [==============================] - 0s 3ms/step - loss: 16.6564 - val_loss: 15.4929\n",
      "Epoch 203/500\n",
      "36/36 [==============================] - 0s 3ms/step - loss: 16.7108 - val_loss: 16.2153\n",
      "Epoch 204/500\n",
      "36/36 [==============================] - 0s 2ms/step - loss: 16.7918 - val_loss: 16.0295\n",
      "Epoch 205/500\n",
      "36/36 [==============================] - 0s 2ms/step - loss: 16.7902 - val_loss: 16.5572\n",
      "Epoch 206/500\n",
      "36/36 [==============================] - 0s 2ms/step - loss: 16.7949 - val_loss: 15.7235\n",
      "Epoch 207/500\n",
      "36/36 [==============================] - 0s 2ms/step - loss: 16.7094 - val_loss: 16.7669\n",
      "Epoch 208/500\n",
      "36/36 [==============================] - 0s 2ms/step - loss: 16.8131 - val_loss: 15.5740\n",
      "Epoch 209/500\n",
      "36/36 [==============================] - 0s 2ms/step - loss: 16.6271 - val_loss: 16.9107\n",
      "Epoch 210/500\n",
      "36/36 [==============================] - 0s 3ms/step - loss: 16.7081 - val_loss: 15.7507\n",
      "Epoch 211/500\n",
      "36/36 [==============================] - 0s 3ms/step - loss: 16.8444 - val_loss: 15.1701\n",
      "Epoch 212/500\n",
      "36/36 [==============================] - 0s 3ms/step - loss: 16.7080 - val_loss: 16.1166\n",
      "Epoch 213/500\n",
      "36/36 [==============================] - 0s 3ms/step - loss: 16.7545 - val_loss: 16.7509\n",
      "Epoch 214/500\n",
      "36/36 [==============================] - 0s 3ms/step - loss: 16.7398 - val_loss: 15.8366\n",
      "Epoch 215/500\n",
      "36/36 [==============================] - 0s 2ms/step - loss: 16.6303 - val_loss: 15.6582\n",
      "Epoch 216/500\n",
      "36/36 [==============================] - 0s 2ms/step - loss: 16.7784 - val_loss: 15.4612\n",
      "Epoch 217/500\n",
      "36/36 [==============================] - 0s 3ms/step - loss: 16.7108 - val_loss: 16.0933\n",
      "Epoch 218/500\n",
      "36/36 [==============================] - 0s 3ms/step - loss: 16.7061 - val_loss: 15.5091\n",
      "Epoch 219/500\n",
      "36/36 [==============================] - 0s 2ms/step - loss: 16.7105 - val_loss: 16.8375\n",
      "Epoch 220/500\n",
      "36/36 [==============================] - 0s 3ms/step - loss: 17.0551 - val_loss: 15.5800\n",
      "Epoch 221/500\n",
      "36/36 [==============================] - 0s 2ms/step - loss: 16.6765 - val_loss: 15.6259\n",
      "Epoch 222/500\n",
      "36/36 [==============================] - 0s 2ms/step - loss: 16.6051 - val_loss: 16.0040\n",
      "Epoch 223/500\n",
      "36/36 [==============================] - 0s 2ms/step - loss: 16.8545 - val_loss: 16.8784\n",
      "Epoch 224/500\n",
      "36/36 [==============================] - 0s 2ms/step - loss: 16.9180 - val_loss: 16.8166\n",
      "Epoch 225/500\n",
      "36/36 [==============================] - 0s 2ms/step - loss: 16.6011 - val_loss: 15.5132\n",
      "Epoch 226/500\n",
      "36/36 [==============================] - 0s 2ms/step - loss: 16.7357 - val_loss: 15.5752\n",
      "Epoch 227/500\n",
      "36/36 [==============================] - 0s 2ms/step - loss: 16.9777 - val_loss: 16.5676\n",
      "Epoch 228/500\n",
      "36/36 [==============================] - 0s 3ms/step - loss: 16.6926 - val_loss: 15.8055\n",
      "Epoch 229/500\n",
      "36/36 [==============================] - 0s 3ms/step - loss: 16.7172 - val_loss: 16.2827\n",
      "Epoch 230/500\n",
      "36/36 [==============================] - 0s 4ms/step - loss: 16.6339 - val_loss: 15.8088\n",
      "Epoch 231/500\n",
      "36/36 [==============================] - 0s 3ms/step - loss: 16.8152 - val_loss: 17.5530\n",
      "Epoch 232/500\n",
      "36/36 [==============================] - 0s 3ms/step - loss: 16.7704 - val_loss: 15.8693\n",
      "Epoch 233/500\n",
      "36/36 [==============================] - 0s 2ms/step - loss: 16.6173 - val_loss: 16.4309\n",
      "Epoch 234/500\n",
      "36/36 [==============================] - 0s 2ms/step - loss: 16.7060 - val_loss: 15.6464\n",
      "Epoch 235/500\n",
      "36/36 [==============================] - 0s 2ms/step - loss: 16.6317 - val_loss: 15.5235\n",
      "Epoch 236/500\n",
      "36/36 [==============================] - 0s 3ms/step - loss: 16.5827 - val_loss: 16.2804\n",
      "Epoch 237/500\n",
      "36/36 [==============================] - 0s 3ms/step - loss: 16.7164 - val_loss: 16.6428\n",
      "Epoch 238/500\n",
      "36/36 [==============================] - 0s 2ms/step - loss: 16.6240 - val_loss: 15.6048\n",
      "Epoch 239/500\n",
      "36/36 [==============================] - 0s 2ms/step - loss: 16.6061 - val_loss: 15.8339\n",
      "Epoch 240/500\n"
     ]
    },
    {
     "name": "stdout",
     "output_type": "stream",
     "text": [
      "36/36 [==============================] - 0s 3ms/step - loss: 16.7887 - val_loss: 16.2089\n",
      "Epoch 241/500\n",
      "36/36 [==============================] - 0s 2ms/step - loss: 16.6618 - val_loss: 15.4522\n",
      "Epoch 242/500\n",
      "36/36 [==============================] - 0s 2ms/step - loss: 16.7013 - val_loss: 15.4843\n",
      "Epoch 243/500\n",
      "36/36 [==============================] - 0s 2ms/step - loss: 16.6134 - val_loss: 15.8314\n",
      "Epoch 244/500\n",
      "36/36 [==============================] - 0s 3ms/step - loss: 16.7909 - val_loss: 15.7359\n",
      "Epoch 245/500\n",
      "36/36 [==============================] - 0s 3ms/step - loss: 16.6098 - val_loss: 15.8515\n",
      "Epoch 246/500\n",
      "36/36 [==============================] - 0s 3ms/step - loss: 16.6438 - val_loss: 16.1488\n",
      "Epoch 247/500\n",
      "36/36 [==============================] - 0s 3ms/step - loss: 16.5736 - val_loss: 15.8329\n",
      "Epoch 248/500\n",
      "36/36 [==============================] - 0s 3ms/step - loss: 16.9375 - val_loss: 16.2903\n",
      "Epoch 249/500\n",
      "36/36 [==============================] - 0s 3ms/step - loss: 16.8315 - val_loss: 15.8209\n",
      "Epoch 250/500\n",
      "36/36 [==============================] - 0s 3ms/step - loss: 16.6483 - val_loss: 16.3357\n",
      "Epoch 251/500\n",
      "36/36 [==============================] - 0s 2ms/step - loss: 16.5955 - val_loss: 15.4408\n",
      "Epoch 252/500\n",
      "36/36 [==============================] - 0s 3ms/step - loss: 16.6993 - val_loss: 16.9654\n",
      "Epoch 253/500\n",
      "36/36 [==============================] - 0s 3ms/step - loss: 16.6197 - val_loss: 15.5535\n",
      "Epoch 254/500\n",
      "36/36 [==============================] - ETA: 0s - loss: 16.59 - 0s 2ms/step - loss: 16.5998 - val_loss: 15.7478\n",
      "Epoch 255/500\n",
      "36/36 [==============================] - 0s 2ms/step - loss: 16.6800 - val_loss: 16.1140\n",
      "Epoch 256/500\n",
      "36/36 [==============================] - 0s 2ms/step - loss: 16.6057 - val_loss: 16.2072\n",
      "Epoch 257/500\n",
      "36/36 [==============================] - 0s 3ms/step - loss: 16.6235 - val_loss: 15.8330\n",
      "Epoch 258/500\n",
      "36/36 [==============================] - 0s 3ms/step - loss: 16.7245 - val_loss: 15.9368\n",
      "Epoch 259/500\n",
      "36/36 [==============================] - 0s 2ms/step - loss: 16.6855 - val_loss: 15.4638\n",
      "Epoch 260/500\n",
      "36/36 [==============================] - 0s 3ms/step - loss: 16.9620 - val_loss: 16.0828\n",
      "Epoch 261/500\n",
      "36/36 [==============================] - 0s 3ms/step - loss: 16.5861 - val_loss: 15.9509\n",
      "Epoch 262/500\n",
      "36/36 [==============================] - 0s 3ms/step - loss: 16.6720 - val_loss: 15.5160\n",
      "Epoch 263/500\n",
      "36/36 [==============================] - 0s 3ms/step - loss: 16.6462 - val_loss: 16.0031\n",
      "Epoch 264/500\n",
      "36/36 [==============================] - 0s 3ms/step - loss: 16.5953 - val_loss: 16.3615\n",
      "Epoch 265/500\n",
      "36/36 [==============================] - 0s 3ms/step - loss: 16.6722 - val_loss: 15.4918\n",
      "Epoch 266/500\n",
      "36/36 [==============================] - 0s 3ms/step - loss: 16.7249 - val_loss: 15.6200\n",
      "Epoch 267/500\n",
      "36/36 [==============================] - 0s 3ms/step - loss: 16.8207 - val_loss: 15.3068\n",
      "Epoch 268/500\n",
      "36/36 [==============================] - 0s 3ms/step - loss: 16.4587 - val_loss: 16.6239\n",
      "Epoch 269/500\n",
      "36/36 [==============================] - 0s 3ms/step - loss: 16.7133 - val_loss: 15.5424\n",
      "Epoch 270/500\n",
      "36/36 [==============================] - 0s 3ms/step - loss: 16.6075 - val_loss: 15.5090\n",
      "Epoch 271/500\n",
      "36/36 [==============================] - 0s 2ms/step - loss: 16.6264 - val_loss: 16.0725\n",
      "Epoch 272/500\n",
      "36/36 [==============================] - 0s 2ms/step - loss: 16.7594 - val_loss: 15.3312\n",
      "Epoch 273/500\n",
      "36/36 [==============================] - 0s 2ms/step - loss: 16.8490 - val_loss: 16.0016\n",
      "Epoch 274/500\n",
      "36/36 [==============================] - 0s 3ms/step - loss: 16.8786 - val_loss: 15.9758\n",
      "Epoch 275/500\n",
      "36/36 [==============================] - 0s 3ms/step - loss: 16.5682 - val_loss: 16.2127\n",
      "Epoch 276/500\n",
      "36/36 [==============================] - 0s 3ms/step - loss: 16.6989 - val_loss: 16.1313\n",
      "Epoch 277/500\n",
      "36/36 [==============================] - 0s 3ms/step - loss: 16.6970 - val_loss: 16.9627\n",
      "Epoch 278/500\n",
      "36/36 [==============================] - 0s 2ms/step - loss: 16.7612 - val_loss: 16.2846\n",
      "Epoch 279/500\n",
      "36/36 [==============================] - 0s 3ms/step - loss: 16.7197 - val_loss: 16.3281\n",
      "Epoch 280/500\n",
      "36/36 [==============================] - 0s 2ms/step - loss: 16.8032 - val_loss: 16.1437\n",
      "Epoch 281/500\n",
      "36/36 [==============================] - 0s 2ms/step - loss: 16.7642 - val_loss: 15.4331\n",
      "Epoch 282/500\n",
      "36/36 [==============================] - 0s 2ms/step - loss: 16.6131 - val_loss: 15.7372\n",
      "Epoch 283/500\n",
      "36/36 [==============================] - 0s 2ms/step - loss: 16.5960 - val_loss: 15.8181\n",
      "Epoch 284/500\n",
      "36/36 [==============================] - 0s 2ms/step - loss: 16.6146 - val_loss: 15.6275\n",
      "Epoch 285/500\n",
      "36/36 [==============================] - 0s 2ms/step - loss: 16.6967 - val_loss: 16.2257\n",
      "Epoch 286/500\n",
      "36/36 [==============================] - 0s 2ms/step - loss: 16.6066 - val_loss: 15.6834\n",
      "Epoch 287/500\n",
      "36/36 [==============================] - 0s 2ms/step - loss: 16.5919 - val_loss: 15.5860\n",
      "Epoch 288/500\n",
      "36/36 [==============================] - 0s 3ms/step - loss: 16.6292 - val_loss: 15.3900\n",
      "Epoch 289/500\n",
      "36/36 [==============================] - 0s 3ms/step - loss: 16.6493 - val_loss: 16.4170\n",
      "Epoch 290/500\n",
      "36/36 [==============================] - 0s 3ms/step - loss: 16.6127 - val_loss: 15.8590\n",
      "Epoch 291/500\n",
      "36/36 [==============================] - 0s 3ms/step - loss: 16.6405 - val_loss: 15.9105\n",
      "Epoch 292/500\n",
      "36/36 [==============================] - 0s 3ms/step - loss: 16.5871 - val_loss: 16.0042\n",
      "Epoch 293/500\n",
      "36/36 [==============================] - 0s 3ms/step - loss: 16.6842 - val_loss: 16.1433\n",
      "Epoch 294/500\n",
      "36/36 [==============================] - 0s 3ms/step - loss: 16.6882 - val_loss: 15.6683\n",
      "Epoch 295/500\n",
      "36/36 [==============================] - 0s 3ms/step - loss: 16.6722 - val_loss: 16.2795\n",
      "Epoch 296/500\n",
      "36/36 [==============================] - 0s 2ms/step - loss: 16.6172 - val_loss: 16.3075\n",
      "Epoch 297/500\n",
      "36/36 [==============================] - 0s 2ms/step - loss: 16.5510 - val_loss: 15.5763\n",
      "Epoch 298/500\n",
      "36/36 [==============================] - 0s 2ms/step - loss: 16.6056 - val_loss: 16.2663\n",
      "Epoch 299/500\n",
      "36/36 [==============================] - 0s 2ms/step - loss: 16.5914 - val_loss: 15.4896\n",
      "Epoch 300/500\n",
      "36/36 [==============================] - 0s 2ms/step - loss: 16.6130 - val_loss: 16.6226\n",
      "Epoch 301/500\n",
      "36/36 [==============================] - 0s 2ms/step - loss: 16.6707 - val_loss: 15.5818\n",
      "Epoch 302/500\n",
      "36/36 [==============================] - 0s 3ms/step - loss: 16.5673 - val_loss: 16.7408\n",
      "Epoch 303/500\n",
      "36/36 [==============================] - 0s 3ms/step - loss: 16.6814 - val_loss: 16.1439\n",
      "Epoch 304/500\n",
      "36/36 [==============================] - 0s 3ms/step - loss: 17.2052 - val_loss: 15.4733\n",
      "Epoch 305/500\n",
      "36/36 [==============================] - 0s 3ms/step - loss: 16.6495 - val_loss: 16.0824\n",
      "Epoch 306/500\n",
      "36/36 [==============================] - 0s 3ms/step - loss: 16.5383 - val_loss: 15.3553\n",
      "Epoch 307/500\n",
      "36/36 [==============================] - 0s 3ms/step - loss: 16.8562 - val_loss: 15.4247\n",
      "Epoch 308/500\n",
      "36/36 [==============================] - 0s 3ms/step - loss: 16.8524 - val_loss: 16.0766\n",
      "Epoch 309/500\n",
      "36/36 [==============================] - 0s 3ms/step - loss: 16.5815 - val_loss: 15.6597\n",
      "Epoch 310/500\n",
      "36/36 [==============================] - 0s 2ms/step - loss: 16.6559 - val_loss: 16.0922\n",
      "Epoch 311/500\n",
      "36/36 [==============================] - 0s 2ms/step - loss: 16.6763 - val_loss: 17.3921\n",
      "Epoch 312/500\n",
      "36/36 [==============================] - 0s 2ms/step - loss: 16.8225 - val_loss: 15.9496\n",
      "Epoch 313/500\n",
      "36/36 [==============================] - 0s 2ms/step - loss: 16.6173 - val_loss: 16.2191\n",
      "Epoch 314/500\n",
      "36/36 [==============================] - 0s 2ms/step - loss: 16.6230 - val_loss: 15.5644\n",
      "Epoch 315/500\n",
      "36/36 [==============================] - 0s 2ms/step - loss: 16.7592 - val_loss: 15.6043\n",
      "Epoch 316/500\n",
      "36/36 [==============================] - 0s 2ms/step - loss: 16.5913 - val_loss: 16.2973\n",
      "Epoch 317/500\n",
      "36/36 [==============================] - 0s 2ms/step - loss: 16.8093 - val_loss: 17.0929\n",
      "Epoch 318/500\n",
      "36/36 [==============================] - 0s 2ms/step - loss: 16.5363 - val_loss: 15.2623\n",
      "Epoch 319/500\n"
     ]
    },
    {
     "name": "stdout",
     "output_type": "stream",
     "text": [
      "36/36 [==============================] - 0s 2ms/step - loss: 16.6182 - val_loss: 16.1329\n",
      "Epoch 320/500\n",
      "36/36 [==============================] - 0s 2ms/step - loss: 16.5362 - val_loss: 15.3868\n",
      "Epoch 321/500\n",
      "36/36 [==============================] - 0s 2ms/step - loss: 16.8325 - val_loss: 16.8422\n",
      "Epoch 322/500\n",
      "36/36 [==============================] - 0s 2ms/step - loss: 16.7402 - val_loss: 16.4772\n",
      "Epoch 323/500\n",
      "36/36 [==============================] - 0s 3ms/step - loss: 16.5901 - val_loss: 15.9570\n",
      "Epoch 324/500\n",
      "36/36 [==============================] - 0s 2ms/step - loss: 16.5733 - val_loss: 15.5203\n",
      "Epoch 325/500\n",
      "36/36 [==============================] - 0s 3ms/step - loss: 16.6530 - val_loss: 15.7405\n",
      "Epoch 326/500\n",
      "36/36 [==============================] - 0s 2ms/step - loss: 16.6379 - val_loss: 17.1914\n",
      "Epoch 327/500\n",
      "36/36 [==============================] - 0s 3ms/step - loss: 16.6556 - val_loss: 15.7042\n",
      "Epoch 328/500\n",
      "36/36 [==============================] - 0s 3ms/step - loss: 16.5865 - val_loss: 15.3034\n",
      "Epoch 329/500\n",
      "36/36 [==============================] - 0s 2ms/step - loss: 16.7730 - val_loss: 15.5574\n",
      "Epoch 330/500\n",
      "36/36 [==============================] - 0s 2ms/step - loss: 16.6349 - val_loss: 17.8366\n",
      "Epoch 331/500\n",
      "36/36 [==============================] - 0s 2ms/step - loss: 16.6715 - val_loss: 15.3174\n",
      "Epoch 332/500\n",
      "36/36 [==============================] - 0s 2ms/step - loss: 16.6575 - val_loss: 15.8695\n",
      "Epoch 333/500\n",
      "36/36 [==============================] - 0s 2ms/step - loss: 16.6047 - val_loss: 15.7669\n",
      "Epoch 334/500\n",
      "36/36 [==============================] - 0s 2ms/step - loss: 16.5868 - val_loss: 15.3149\n",
      "Epoch 335/500\n",
      "36/36 [==============================] - 0s 2ms/step - loss: 16.7237 - val_loss: 16.0625\n",
      "Epoch 336/500\n",
      "36/36 [==============================] - 0s 2ms/step - loss: 16.8691 - val_loss: 15.2447\n",
      "Epoch 337/500\n",
      "36/36 [==============================] - 0s 2ms/step - loss: 16.6577 - val_loss: 15.8713\n",
      "Epoch 338/500\n",
      "36/36 [==============================] - 0s 3ms/step - loss: 16.7616 - val_loss: 16.5516\n",
      "Epoch 339/500\n",
      "36/36 [==============================] - 0s 2ms/step - loss: 16.9265 - val_loss: 15.8003\n",
      "Epoch 340/500\n",
      "36/36 [==============================] - 0s 2ms/step - loss: 16.7873 - val_loss: 17.1604\n",
      "Epoch 341/500\n",
      "36/36 [==============================] - 0s 2ms/step - loss: 16.9442 - val_loss: 16.2406\n",
      "Epoch 342/500\n",
      "36/36 [==============================] - 0s 2ms/step - loss: 17.0775 - val_loss: 15.2556\n",
      "Epoch 343/500\n",
      "36/36 [==============================] - 0s 2ms/step - loss: 16.5362 - val_loss: 16.1872\n",
      "Epoch 344/500\n",
      "36/36 [==============================] - 0s 2ms/step - loss: 16.6462 - val_loss: 15.9465\n",
      "Epoch 345/500\n",
      "36/36 [==============================] - 0s 2ms/step - loss: 16.5500 - val_loss: 15.6675\n",
      "Epoch 346/500\n",
      "36/36 [==============================] - 0s 2ms/step - loss: 16.6391 - val_loss: 16.0492\n",
      "Epoch 347/500\n",
      "36/36 [==============================] - 0s 2ms/step - loss: 16.6569 - val_loss: 15.8384\n",
      "Epoch 348/500\n",
      "36/36 [==============================] - 0s 2ms/step - loss: 16.5970 - val_loss: 17.4906\n",
      "Epoch 349/500\n",
      "36/36 [==============================] - 0s 3ms/step - loss: 17.0276 - val_loss: 15.6197\n",
      "Epoch 350/500\n",
      "36/36 [==============================] - 0s 3ms/step - loss: 16.6021 - val_loss: 15.7795\n",
      "Epoch 351/500\n",
      "36/36 [==============================] - 0s 3ms/step - loss: 16.5945 - val_loss: 15.9037\n",
      "Epoch 352/500\n",
      "36/36 [==============================] - 0s 2ms/step - loss: 16.6755 - val_loss: 15.4556\n",
      "Epoch 353/500\n",
      "36/36 [==============================] - 0s 3ms/step - loss: 16.8115 - val_loss: 15.8844\n",
      "Epoch 354/500\n",
      "36/36 [==============================] - 0s 2ms/step - loss: 16.6265 - val_loss: 15.3769\n",
      "Epoch 355/500\n",
      "36/36 [==============================] - 0s 2ms/step - loss: 16.6946 - val_loss: 15.4740\n",
      "Epoch 356/500\n",
      "36/36 [==============================] - 0s 2ms/step - loss: 16.5641 - val_loss: 15.9645\n",
      "Epoch 357/500\n",
      "36/36 [==============================] - 0s 2ms/step - loss: 16.5751 - val_loss: 16.0408\n",
      "Epoch 358/500\n",
      "36/36 [==============================] - 0s 2ms/step - loss: 16.5923 - val_loss: 15.3719\n",
      "Epoch 359/500\n",
      "36/36 [==============================] - 0s 2ms/step - loss: 16.6869 - val_loss: 16.2689\n",
      "Epoch 360/500\n",
      "36/36 [==============================] - 0s 3ms/step - loss: 16.5831 - val_loss: 16.1657\n",
      "Epoch 361/500\n",
      "36/36 [==============================] - 0s 3ms/step - loss: 16.6463 - val_loss: 15.3987\n",
      "Epoch 362/500\n",
      "36/36 [==============================] - 0s 2ms/step - loss: 16.6086 - val_loss: 15.6703\n",
      "Epoch 363/500\n",
      "36/36 [==============================] - 0s 2ms/step - loss: 16.5866 - val_loss: 15.8787\n",
      "Epoch 364/500\n",
      "36/36 [==============================] - 0s 2ms/step - loss: 16.7663 - val_loss: 15.6879\n",
      "Epoch 365/500\n",
      "36/36 [==============================] - 0s 2ms/step - loss: 16.5874 - val_loss: 15.6267\n",
      "Epoch 366/500\n",
      "36/36 [==============================] - 0s 2ms/step - loss: 16.5818 - val_loss: 15.4750\n",
      "Epoch 367/500\n",
      "36/36 [==============================] - 0s 2ms/step - loss: 17.0538 - val_loss: 16.6339\n",
      "Epoch 368/500\n",
      "36/36 [==============================] - 0s 2ms/step - loss: 16.6895 - val_loss: 16.2832\n",
      "Epoch 369/500\n",
      "36/36 [==============================] - 0s 2ms/step - loss: 16.8025 - val_loss: 16.1680\n",
      "Epoch 370/500\n",
      "36/36 [==============================] - 0s 2ms/step - loss: 16.6172 - val_loss: 15.8567\n",
      "Epoch 371/500\n",
      "36/36 [==============================] - 0s 2ms/step - loss: 16.5572 - val_loss: 16.2612\n",
      "Epoch 372/500\n",
      "36/36 [==============================] - 0s 2ms/step - loss: 16.6950 - val_loss: 16.1782\n",
      "Epoch 373/500\n",
      "36/36 [==============================] - 0s 2ms/step - loss: 16.5261 - val_loss: 15.6482\n",
      "Epoch 374/500\n",
      "36/36 [==============================] - 0s 3ms/step - loss: 16.6118 - val_loss: 15.6302\n",
      "Epoch 375/500\n",
      "36/36 [==============================] - 0s 2ms/step - loss: 16.5710 - val_loss: 15.7756\n",
      "Epoch 376/500\n",
      "36/36 [==============================] - 0s 2ms/step - loss: 16.6801 - val_loss: 16.2533\n",
      "Epoch 377/500\n",
      "36/36 [==============================] - 0s 2ms/step - loss: 16.6153 - val_loss: 16.0741\n",
      "Epoch 378/500\n",
      "36/36 [==============================] - 0s 3ms/step - loss: 16.7405 - val_loss: 16.9201\n",
      "Epoch 379/500\n",
      "36/36 [==============================] - 0s 3ms/step - loss: 16.6687 - val_loss: 15.6395\n",
      "Epoch 380/500\n",
      "36/36 [==============================] - 0s 3ms/step - loss: 16.6673 - val_loss: 15.4854\n",
      "Epoch 381/500\n",
      "36/36 [==============================] - 0s 3ms/step - loss: 16.6409 - val_loss: 16.8198\n",
      "Epoch 382/500\n",
      "36/36 [==============================] - 0s 2ms/step - loss: 16.6540 - val_loss: 15.6717\n",
      "Epoch 383/500\n",
      "36/36 [==============================] - 0s 3ms/step - loss: 16.5607 - val_loss: 15.8884\n",
      "Epoch 384/500\n",
      "36/36 [==============================] - 0s 3ms/step - loss: 16.5518 - val_loss: 16.1671\n",
      "Epoch 385/500\n",
      "36/36 [==============================] - 0s 3ms/step - loss: 16.5664 - val_loss: 15.2994\n",
      "Epoch 386/500\n",
      "36/36 [==============================] - 0s 2ms/step - loss: 16.6377 - val_loss: 15.7221\n",
      "Epoch 387/500\n",
      "36/36 [==============================] - 0s 2ms/step - loss: 16.5635 - val_loss: 15.9986\n",
      "Epoch 388/500\n",
      "36/36 [==============================] - 0s 2ms/step - loss: 16.5563 - val_loss: 16.0607\n",
      "Epoch 389/500\n",
      "36/36 [==============================] - 0s 2ms/step - loss: 16.5909 - val_loss: 16.2016\n",
      "Epoch 390/500\n",
      "36/36 [==============================] - 0s 2ms/step - loss: 16.6999 - val_loss: 15.9701\n",
      "Epoch 391/500\n",
      "36/36 [==============================] - 0s 2ms/step - loss: 16.7119 - val_loss: 16.5042\n",
      "Epoch 392/500\n",
      "36/36 [==============================] - 0s 2ms/step - loss: 16.7194 - val_loss: 15.9069\n",
      "Epoch 393/500\n",
      "36/36 [==============================] - 0s 2ms/step - loss: 16.7622 - val_loss: 15.3739\n",
      "Epoch 394/500\n",
      "36/36 [==============================] - 0s 2ms/step - loss: 16.8056 - val_loss: 16.0586\n",
      "Epoch 395/500\n",
      "36/36 [==============================] - 0s 2ms/step - loss: 16.6804 - val_loss: 16.1564\n",
      "Epoch 396/500\n",
      "36/36 [==============================] - 0s 3ms/step - loss: 16.6176 - val_loss: 15.1946\n",
      "Epoch 397/500\n",
      "36/36 [==============================] - 0s 2ms/step - loss: 16.9012 - val_loss: 17.1860\n",
      "Epoch 398/500\n"
     ]
    },
    {
     "name": "stdout",
     "output_type": "stream",
     "text": [
      "36/36 [==============================] - 0s 2ms/step - loss: 16.6415 - val_loss: 16.1529\n",
      "Epoch 399/500\n",
      "36/36 [==============================] - 0s 2ms/step - loss: 16.6656 - val_loss: 15.5902\n",
      "Epoch 400/500\n",
      "36/36 [==============================] - 0s 3ms/step - loss: 16.6098 - val_loss: 16.1726\n",
      "Epoch 401/500\n",
      "36/36 [==============================] - 0s 2ms/step - loss: 16.7147 - val_loss: 15.8688\n",
      "Epoch 402/500\n",
      "36/36 [==============================] - 0s 2ms/step - loss: 17.0385 - val_loss: 15.9739\n",
      "Epoch 403/500\n",
      "36/36 [==============================] - 0s 2ms/step - loss: 16.5917 - val_loss: 15.4404\n",
      "Epoch 404/500\n",
      "36/36 [==============================] - 0s 2ms/step - loss: 16.6411 - val_loss: 15.9819\n",
      "Epoch 405/500\n",
      "36/36 [==============================] - 0s 2ms/step - loss: 16.5898 - val_loss: 15.8348\n",
      "Epoch 406/500\n",
      "36/36 [==============================] - 0s 3ms/step - loss: 16.6496 - val_loss: 15.4205\n",
      "Epoch 407/500\n",
      "36/36 [==============================] - 0s 2ms/step - loss: 16.7027 - val_loss: 16.5155\n",
      "Epoch 408/500\n",
      "36/36 [==============================] - 0s 2ms/step - loss: 16.5462 - val_loss: 15.5686\n",
      "Epoch 409/500\n",
      "36/36 [==============================] - 0s 2ms/step - loss: 16.5633 - val_loss: 15.5081\n",
      "Epoch 410/500\n",
      "36/36 [==============================] - 0s 2ms/step - loss: 16.5616 - val_loss: 15.7926\n",
      "Epoch 411/500\n",
      "36/36 [==============================] - 0s 3ms/step - loss: 16.6220 - val_loss: 16.1194\n",
      "Epoch 412/500\n",
      "36/36 [==============================] - 0s 2ms/step - loss: 16.5909 - val_loss: 15.4710\n",
      "Epoch 413/500\n",
      "36/36 [==============================] - 0s 2ms/step - loss: 16.6533 - val_loss: 15.8687\n",
      "Epoch 414/500\n",
      "36/36 [==============================] - 0s 2ms/step - loss: 16.5422 - val_loss: 15.2612\n",
      "Epoch 415/500\n",
      "36/36 [==============================] - 0s 2ms/step - loss: 16.7555 - val_loss: 15.9984\n",
      "Epoch 416/500\n",
      "36/36 [==============================] - 0s 2ms/step - loss: 16.5376 - val_loss: 15.3894\n",
      "Epoch 417/500\n",
      "36/36 [==============================] - 0s 3ms/step - loss: 16.6252 - val_loss: 16.8023\n",
      "Epoch 418/500\n",
      "36/36 [==============================] - 0s 2ms/step - loss: 16.7488 - val_loss: 16.5034\n",
      "Epoch 419/500\n",
      "36/36 [==============================] - 0s 2ms/step - loss: 16.6441 - val_loss: 16.0105\n",
      "Epoch 420/500\n",
      "36/36 [==============================] - 0s 2ms/step - loss: 16.8123 - val_loss: 15.3184\n",
      "Epoch 421/500\n",
      "36/36 [==============================] - 0s 2ms/step - loss: 16.6618 - val_loss: 15.5621\n",
      "Epoch 422/500\n",
      "36/36 [==============================] - 0s 2ms/step - loss: 16.7128 - val_loss: 15.7337\n",
      "Epoch 423/500\n",
      "36/36 [==============================] - 0s 2ms/step - loss: 16.6515 - val_loss: 15.5978\n",
      "Epoch 424/500\n",
      "36/36 [==============================] - 0s 2ms/step - loss: 16.5503 - val_loss: 15.7088\n",
      "Epoch 425/500\n",
      "36/36 [==============================] - 0s 2ms/step - loss: 16.7133 - val_loss: 15.6146\n",
      "Epoch 426/500\n",
      "36/36 [==============================] - 0s 2ms/step - loss: 16.5854 - val_loss: 16.1951\n",
      "Epoch 427/500\n",
      "36/36 [==============================] - 0s 2ms/step - loss: 16.7120 - val_loss: 15.8207\n",
      "Epoch 428/500\n",
      "36/36 [==============================] - 0s 2ms/step - loss: 16.6366 - val_loss: 15.4951\n",
      "Epoch 429/500\n",
      "36/36 [==============================] - 0s 2ms/step - loss: 16.5698 - val_loss: 15.9991\n",
      "Epoch 430/500\n",
      "36/36 [==============================] - 0s 3ms/step - loss: 16.5787 - val_loss: 15.8687\n",
      "Epoch 431/500\n",
      "36/36 [==============================] - 0s 3ms/step - loss: 16.7282 - val_loss: 15.8001\n",
      "Epoch 432/500\n",
      "36/36 [==============================] - 0s 3ms/step - loss: 16.5798 - val_loss: 17.0483\n",
      "Epoch 433/500\n",
      "36/36 [==============================] - 0s 3ms/step - loss: 16.8027 - val_loss: 15.4621\n",
      "Epoch 434/500\n",
      "36/36 [==============================] - 0s 4ms/step - loss: 16.7013 - val_loss: 15.3856\n",
      "Epoch 435/500\n",
      "36/36 [==============================] - 0s 3ms/step - loss: 16.7288 - val_loss: 16.0822\n",
      "Epoch 436/500\n",
      "36/36 [==============================] - 0s 2ms/step - loss: 16.5661 - val_loss: 15.5187\n",
      "Epoch 437/500\n",
      "36/36 [==============================] - 0s 3ms/step - loss: 16.5905 - val_loss: 15.7004\n",
      "Epoch 438/500\n",
      "36/36 [==============================] - 0s 2ms/step - loss: 16.7072 - val_loss: 15.3652\n",
      "Epoch 439/500\n",
      "36/36 [==============================] - 0s 3ms/step - loss: 16.9288 - val_loss: 15.7555\n",
      "Epoch 440/500\n",
      "36/36 [==============================] - 0s 2ms/step - loss: 16.5982 - val_loss: 15.7428\n",
      "Epoch 441/500\n",
      "36/36 [==============================] - 0s 2ms/step - loss: 16.6163 - val_loss: 16.5861\n",
      "Epoch 442/500\n",
      "36/36 [==============================] - 0s 2ms/step - loss: 16.4818 - val_loss: 15.3061\n",
      "Epoch 443/500\n",
      "36/36 [==============================] - 0s 2ms/step - loss: 16.7225 - val_loss: 16.2986\n",
      "Epoch 444/500\n",
      "36/36 [==============================] - 0s 3ms/step - loss: 16.5671 - val_loss: 15.7041\n",
      "Epoch 445/500\n",
      "36/36 [==============================] - 0s 2ms/step - loss: 16.5651 - val_loss: 15.6108\n",
      "Epoch 446/500\n",
      "36/36 [==============================] - 0s 2ms/step - loss: 16.7357 - val_loss: 15.3886\n",
      "Epoch 447/500\n",
      "36/36 [==============================] - 0s 2ms/step - loss: 16.5858 - val_loss: 15.9019\n",
      "Epoch 448/500\n",
      "36/36 [==============================] - 0s 3ms/step - loss: 16.6190 - val_loss: 15.4216\n",
      "Epoch 449/500\n",
      "36/36 [==============================] - 0s 3ms/step - loss: 17.1103 - val_loss: 17.1876\n",
      "Epoch 450/500\n",
      "36/36 [==============================] - 0s 2ms/step - loss: 16.6690 - val_loss: 16.1682\n",
      "Epoch 451/500\n",
      "36/36 [==============================] - 0s 2ms/step - loss: 16.6018 - val_loss: 15.9966\n",
      "Epoch 452/500\n",
      "36/36 [==============================] - 0s 2ms/step - loss: 16.6809 - val_loss: 16.6336\n",
      "Epoch 453/500\n",
      "36/36 [==============================] - 0s 2ms/step - loss: 16.7637 - val_loss: 16.5446\n",
      "Epoch 454/500\n",
      "36/36 [==============================] - 0s 2ms/step - loss: 16.6316 - val_loss: 15.5946\n",
      "Epoch 455/500\n",
      "36/36 [==============================] - 0s 3ms/step - loss: 16.6652 - val_loss: 16.5164\n",
      "Epoch 456/500\n",
      "36/36 [==============================] - 0s 2ms/step - loss: 16.6241 - val_loss: 15.6169\n",
      "Epoch 457/500\n",
      "36/36 [==============================] - 0s 3ms/step - loss: 16.6177 - val_loss: 16.3351\n",
      "Epoch 458/500\n",
      "36/36 [==============================] - 0s 3ms/step - loss: 16.6403 - val_loss: 15.4000\n",
      "Epoch 459/500\n",
      "36/36 [==============================] - 0s 3ms/step - loss: 16.6058 - val_loss: 15.7430\n",
      "Epoch 460/500\n",
      "36/36 [==============================] - 0s 3ms/step - loss: 16.5875 - val_loss: 16.4467\n",
      "Epoch 461/500\n",
      "36/36 [==============================] - 0s 2ms/step - loss: 16.5243 - val_loss: 15.2545\n",
      "Epoch 462/500\n",
      "36/36 [==============================] - 0s 2ms/step - loss: 16.6875 - val_loss: 16.5370\n",
      "Epoch 463/500\n",
      "36/36 [==============================] - 0s 3ms/step - loss: 16.6281 - val_loss: 15.7579\n",
      "Epoch 464/500\n",
      "36/36 [==============================] - 0s 2ms/step - loss: 16.6467 - val_loss: 15.8861\n",
      "Epoch 465/500\n",
      "36/36 [==============================] - 0s 3ms/step - loss: 16.5699 - val_loss: 15.8643\n",
      "Epoch 466/500\n",
      "36/36 [==============================] - 0s 2ms/step - loss: 16.5499 - val_loss: 16.1005\n",
      "Epoch 467/500\n",
      "36/36 [==============================] - 0s 2ms/step - loss: 16.6890 - val_loss: 15.9971\n",
      "Epoch 468/500\n",
      "36/36 [==============================] - 0s 2ms/step - loss: 16.7120 - val_loss: 16.3152\n",
      "Epoch 469/500\n",
      "36/36 [==============================] - 0s 2ms/step - loss: 16.6255 - val_loss: 15.6494\n",
      "Epoch 470/500\n",
      "36/36 [==============================] - 0s 2ms/step - loss: 16.6377 - val_loss: 15.9970\n",
      "Epoch 471/500\n",
      "36/36 [==============================] - 0s 2ms/step - loss: 16.6224 - val_loss: 15.6271\n",
      "Epoch 472/500\n",
      "36/36 [==============================] - 0s 2ms/step - loss: 16.6565 - val_loss: 15.5848\n",
      "Epoch 473/500\n",
      "36/36 [==============================] - 0s 3ms/step - loss: 16.6711 - val_loss: 15.6739\n",
      "Epoch 474/500\n",
      "36/36 [==============================] - 0s 3ms/step - loss: 16.5474 - val_loss: 15.6415\n",
      "Epoch 475/500\n",
      "36/36 [==============================] - 0s 3ms/step - loss: 16.5440 - val_loss: 17.5242\n",
      "Epoch 476/500\n",
      "36/36 [==============================] - 0s 2ms/step - loss: 16.8528 - val_loss: 15.8096\n",
      "Epoch 477/500\n"
     ]
    },
    {
     "name": "stdout",
     "output_type": "stream",
     "text": [
      "36/36 [==============================] - 0s 2ms/step - loss: 16.7093 - val_loss: 15.6653\n",
      "Epoch 478/500\n",
      "36/36 [==============================] - 0s 2ms/step - loss: 16.7190 - val_loss: 16.0480\n",
      "Epoch 479/500\n",
      "36/36 [==============================] - 0s 2ms/step - loss: 16.7439 - val_loss: 16.4247\n",
      "Epoch 480/500\n",
      "36/36 [==============================] - 0s 2ms/step - loss: 16.6623 - val_loss: 15.6472\n",
      "Epoch 481/500\n",
      "36/36 [==============================] - 0s 2ms/step - loss: 16.6302 - val_loss: 15.9067\n",
      "Epoch 482/500\n",
      "36/36 [==============================] - 0s 3ms/step - loss: 16.6091 - val_loss: 15.9965\n",
      "Epoch 483/500\n",
      "36/36 [==============================] - 0s 3ms/step - loss: 16.6927 - val_loss: 15.4173\n",
      "Epoch 484/500\n",
      "36/36 [==============================] - 0s 4ms/step - loss: 16.6789 - val_loss: 15.5847\n",
      "Epoch 485/500\n",
      "36/36 [==============================] - 0s 3ms/step - loss: 16.6167 - val_loss: 15.5997\n",
      "Epoch 486/500\n",
      "36/36 [==============================] - 0s 3ms/step - loss: 16.6749 - val_loss: 15.5375\n",
      "Epoch 487/500\n",
      "36/36 [==============================] - 0s 2ms/step - loss: 16.5857 - val_loss: 15.6483\n",
      "Epoch 488/500\n",
      "36/36 [==============================] - 0s 2ms/step - loss: 16.5265 - val_loss: 16.1941\n",
      "Epoch 489/500\n",
      "36/36 [==============================] - 0s 2ms/step - loss: 16.7453 - val_loss: 15.2648\n",
      "Epoch 490/500\n",
      "36/36 [==============================] - 0s 2ms/step - loss: 16.7104 - val_loss: 16.5942\n",
      "Epoch 491/500\n",
      "36/36 [==============================] - 0s 2ms/step - loss: 16.5693 - val_loss: 16.0851\n",
      "Epoch 492/500\n",
      "36/36 [==============================] - 0s 2ms/step - loss: 16.6948 - val_loss: 16.3622\n",
      "Epoch 493/500\n",
      "36/36 [==============================] - 0s 2ms/step - loss: 16.5171 - val_loss: 15.4422\n",
      "Epoch 494/500\n",
      "36/36 [==============================] - 0s 2ms/step - loss: 16.7136 - val_loss: 15.7869\n",
      "Epoch 495/500\n",
      "36/36 [==============================] - 0s 3ms/step - loss: 16.6159 - val_loss: 16.6907\n",
      "Epoch 496/500\n",
      "36/36 [==============================] - 0s 3ms/step - loss: 16.5813 - val_loss: 15.4588\n",
      "Epoch 497/500\n",
      "36/36 [==============================] - 0s 3ms/step - loss: 16.5637 - val_loss: 16.1155\n",
      "Epoch 498/500\n",
      "36/36 [==============================] - 0s 3ms/step - loss: 16.6129 - val_loss: 15.4731\n",
      "Epoch 499/500\n",
      "36/36 [==============================] - 0s 3ms/step - loss: 16.6325 - val_loss: 16.2229\n",
      "Epoch 500/500\n",
      "36/36 [==============================] - 0s 3ms/step - loss: 16.8592 - val_loss: 15.2492\n"
     ]
    }
   ],
   "source": [
    "# fit the model\n",
    "#history=model.fit(X_train, y_train, validation_data =(X_test, y_test),epochs=500, batch_size=10) #verbose=0\n",
    "history=model.fit(X_train, y_train, validation_data =(X_test, y_test),epochs=500, batch_size=10) #verbose=0"
   ]
  },
  {
   "cell_type": "markdown",
   "metadata": {},
   "source": [
    "###  Evaluate the model"
   ]
  },
  {
   "cell_type": "code",
   "execution_count": 291,
   "metadata": {},
   "outputs": [
    {
     "name": "stdout",
     "output_type": "stream",
     "text": [
      "Train: 16.731, Test: 15.249\n"
     ]
    }
   ],
   "source": [
    "train_mse = model.evaluate(X_train, y_train, verbose=0)\n",
    "test_mse = model.evaluate(X_test, y_test, verbose=0)\n",
    "print('Train: %.3f, Test: %.3f' % (train_mse, test_mse))"
   ]
  },
  {
   "cell_type": "markdown",
   "metadata": {},
   "source": [
    "### Make predictions"
   ]
  },
  {
   "cell_type": "code",
   "execution_count": 292,
   "metadata": {},
   "outputs": [
    {
     "data": {
      "image/png": "[encoded data removed]",
      "text/plain": [
       "<Figure size 720x432 with 1 Axes>"
      ]
     },
     "metadata": {},
     "output_type": "display_data"
    }
   ],
   "source": [
    "plt.title('Comparing actual data to predicted data')\n",
    "plt.plot(X_test, y_test, 'x', label=\"true values\")\n",
    "plt.plot(X_test, model_predictions, 'bx', label=\"predicted values\")\n",
    "plt.legend()\n",
    "plt.show()"
   ]
  },
  {
   "cell_type": "code",
   "execution_count": 293,
   "metadata": {},
   "outputs": [],
   "source": [
    "model_predictions = model.predict(X_test)"
   ]
  },
  {
   "cell_type": "code",
   "execution_count": 295,
   "metadata": {},
   "outputs": [
    {
     "data": {
      "image/png": "[encoded data removed]",
      "text/plain": [
       "<Figure size 720x432 with 1 Axes>"
      ]
     },
     "metadata": {},
     "output_type": "display_data"
    }
   ],
   "source": [
    "# plot loss during training\n",
    "plt.title('Mean Squared Error')\n",
    "plt.plot(history.history['loss'], label='train')\n",
    "plt.plot(history.history['val_loss'], label='test')\n",
    "plt.legend()\n",
    "plt.show()"
   ]
  },
  {
   "cell_type": "code",
   "execution_count": 297,
   "metadata": {},
   "outputs": [
    {
     "data": {
      "image/png": "[encoded data removed]",
      "text/plain": [
       "<Figure size 720x432 with 1 Axes>"
      ]
     },
     "metadata": {},
     "output_type": "display_data"
    }
   ],
   "source": [
    "plt.title('Comparing actual data to predicted data')\n",
    "plt.plot(X_test, y_test, 'x', label=\"true values\")\n",
    "plt.plot(X_test, model_predictions, 'bx', label=\"predicted values\")\n",
    "plt.legend()\n",
    "plt.show()"
   ]
  },
  {
   "cell_type": "markdown",
   "metadata": {},
   "source": [
    "#### Scaling the data\n",
    "- using min_max scaler:\n",
    "Scale the training data first:\n",
    "\n",
    "Tensorflow.keras has methods for scaling the data also but I've seen more online blogs such as machine learning mastery use sklearn to preprocess and scale, then keras-tensorflow to train the neural network model.\n",
    "\n",
    "#### Scaling using sklearn\n",
    "Here I will scale both the input and output features using the MinMaxScaler() function. This should be done after the data has been split into train test datasets.\n",
    "- Fit the scale using the available training data using fit()\n",
    "- Apply the scale to the training data using transform()\n",
    "- Apply the scale to data going forward - any new data on which you want to make predictions."
   ]
  },
  {
   "cell_type": "markdown",
   "metadata": {},
   "source": [
    "### Scaling the target variable"
   ]
  },
  {
   "cell_type": "raw",
   "metadata": {},
   "source": [
    "from sklearn import preprocessing\n",
    "#min_max_scaler = preprocessing.MinMaxScaler(feature_range=(-1,1))\n",
    "# create a scaler:\n",
    "min_max_scaler = preprocessing.MinMaxScaler()\n",
    "# fit scaler on data\n",
    "y_train =min_max_scaler.fit(y_train)\n",
    "# transform training dataset\n",
    "y_test = min_max_scaler.fit(y_test)\n"
   ]
  },
  {
   "cell_type": "markdown",
   "metadata": {},
   "source": [
    "### Scaling the input variable"
   ]
  },
  {
   "cell_type": "raw",
   "metadata": {},
   "source": [
    "min_max_scaler = preprocessing.MinMaxScaler()\n",
    "# fit scaler on data\n",
    "X_train =min_max_scaler.fit(X_train)\n",
    "# transform training dataset\n",
    "X_test = min_max_scaler.fit(X_test)"
   ]
  },
  {
   "cell_type": "code",
   "execution_count": null,
   "metadata": {},
   "outputs": [],
   "source": []
  },
  {
   "cell_type": "markdown",
   "metadata": {},
   "source": [
    "### Going ahead again without scaling the data:\n",
    "I did add in the BatchNormalization layer though."
   ]
  },
  {
   "cell_type": "markdown",
   "metadata": {},
   "source": [
    "### Define the model:"
   ]
  },
  {
   "cell_type": "code",
   "execution_count": null,
   "metadata": {},
   "outputs": [],
   "source": [
    "# Train a model\n",
    "model = kr.models.Sequential()\n",
    "model.add(kr.layers.Dense(50, input_shape=(1,), activation='sigmoid', kernel_initializer=\"glorot_uniform\", bias_initializer=\"glorot_uniform\"))\n",
    "model.add(kr.layers.BatchNormalization())\n",
    "model.add(kr.layers.Dense(1, activation='linear', kernel_initializer=\"glorot_uniform\", bias_initializer=\"glorot_uniform\"))"
   ]
  },
  {
   "cell_type": "markdown",
   "metadata": {},
   "source": [
    "### Compile the model"
   ]
  },
  {
   "cell_type": "code",
   "execution_count": null,
   "metadata": {},
   "outputs": [],
   "source": [
    "# \n",
    "model.compile(kr.optimizers.Adam(lr=0.001), loss='mean_squared_error')\n",
    "model.summary()"
   ]
  },
  {
   "cell_type": "code",
   "execution_count": null,
   "metadata": {},
   "outputs": [],
   "source": [
    "# fit the model\n",
    "history=model.fit(X_train, y_train, validation_data =(X_test, y_test),epochs=500, batch_size=10) #verbose=0"
   ]
  },
  {
   "cell_type": "code",
   "execution_count": null,
   "metadata": {},
   "outputs": [],
   "source": [
    "model.fit(X_train, y_train, epochs=500, batch_size=10) #verbose=0"
   ]
  },
  {
   "cell_type": "raw",
   "metadata": {},
   "source": [
    "train_mse = model.evaluate(X_train, y_train, verbose=0)\n",
    "test_mse = model.evaluate(X_test, y_test, verbose=0)\n",
    "print('Train: %.3f, Test: %.3f' % (train_mse, test_mse))"
   ]
  },
  {
   "cell_type": "raw",
   "metadata": {},
   "source": [
    "# plot loss during training\n",
    "plt.title('Mean Squared Error')\n",
    "plt.plot(history.history['loss'], label='train')\n",
    "plt.plot(history.history['val_loss'], label='test')\n",
    "plt.legend()\n",
    "plt.show()"
   ]
  },
  {
   "cell_type": "markdown",
   "metadata": {},
   "source": [
    "### Note!\n",
    "While the scaling worked the first time, it threw an error the second time even though I started again.\n",
    "Will leave it for now and focus on the web app\n",
    "I am commenting out the cells here. Will try later."
   ]
  },
  {
   "cell_type": "code",
   "execution_count": null,
   "metadata": {},
   "outputs": [],
   "source": []
  },
  {
   "cell_type": "raw",
   "metadata": {},
   "source": [
    "X_test_minmax = min_max_scaler.transform(X_test)"
   ]
  },
  {
   "cell_type": "raw",
   "metadata": {},
   "source": [
    "from tensorflow.keras.layers.experimental.preprocessing import Normalization\n",
    "\n",
    "training_data = X_train\n",
    "\n",
    "normalizer = Normalization(axis=1)\n",
    "normalizer.adapt(X)\n",
    "\n",
    "\n",
    "normalized_data = normalizer(training_data)\n",
    "print(\"var: %.4f\" % np.var(normalized_data))\n",
    "print(\"mean: %.4f\" % np.mean(normalized_data))"
   ]
  },
  {
   "cell_type": "code",
   "execution_count": null,
   "metadata": {},
   "outputs": [],
   "source": [
    "# normalised data using tensorflow.keras.layers.experimental.preprocessing import Normalization\n",
    "#normalized_data"
   ]
  },
  {
   "cell_type": "code",
   "execution_count": null,
   "metadata": {},
   "outputs": [],
   "source": [
    "#X_train_minmax"
   ]
  },
  {
   "cell_type": "code",
   "execution_count": null,
   "metadata": {},
   "outputs": [],
   "source": [
    "#y_train_minmax"
   ]
  },
  {
   "cell_type": "raw",
   "metadata": {},
   "source": [
    "# Plot style.\n",
    "plt.style.use(\"ggplot\")\n",
    "\n",
    "# Plot size.\n",
    "plt.rcParams['figure.figsize'] = [14, 8]"
   ]
  },
  {
   "cell_type": "markdown",
   "metadata": {},
   "source": [
    "### Plotting the learning curve\n",
    "\n",
    "Back to the https://machinelearningmastery.com/tensorflow-tutorial-deep-learning-with-tf-keras/ tutorial. The next section looks at plotting model learning curves which plot the performance of the neural network model over time. It helps determine if the model is learning well and whether it is underfitting or overfitting the training set.To do this you need to update the call to to the `fit` function to include a reference to a validation dataset which is a portion of the training dataset not used to fit the model but instead used to evaluate the performance of the model during training. The fit function will then return a history object containing a trace of performance metrics recorded at the end of each training epoch. A learning curve is a plot of the loss on the training dataset and the validation dataset."
   ]
  },
  {
   "cell_type": "raw",
   "metadata": {},
   "source": [
    "history = model.fit(X_train, y_train, epochs=500, batch_size=10, verbose=0, validation_split=0.3)"
   ]
  },
  {
   "cell_type": "raw",
   "metadata": {},
   "source": [
    "plt.title('Learning Curves')\n",
    "plt.xlabel('Epoch')\n",
    "plt.ylabel('Mean Squared Error')\n",
    "plt.plot(history.history['loss'], 'r.',label='train')\n",
    "plt.plot(history.history['val_loss'], 'b.',label='val')\n",
    "plt.legend()\n",
    "plt.show()"
   ]
  },
  {
   "cell_type": "markdown",
   "metadata": {},
   "source": [
    "Immediately the difference is obvious in the learning curve when all the 49 points with zero power values are dropped. It might not be right though!\n",
    "Compromise here with some values dropped where speed is greater than a particular value. I chose 7 for now."
   ]
  },
  {
   "cell_type": "raw",
   "metadata": {},
   "source": [
    "# compile the model\n",
    "model.compile(optimizer='adam', loss='mse')"
   ]
  },
  {
   "cell_type": "markdown",
   "metadata": {},
   "source": [
    "### Fit the model"
   ]
  },
  {
   "cell_type": "code",
   "execution_count": null,
   "metadata": {},
   "outputs": [],
   "source": [
    "# fit the model\n",
    "model.fit(X_train, y_train, epochs=500, batch_size=10) #verbose=0"
   ]
  },
  {
   "cell_type": "markdown",
   "metadata": {},
   "source": [
    "### Evaluate the model:"
   ]
  },
  {
   "cell_type": "code",
   "execution_count": null,
   "metadata": {},
   "outputs": [],
   "source": [
    "# evaluate the model\n",
    "error = model.evaluate(X_test, y_test, verbose=0)\n",
    "print('MSE: %.3f, RMSE: %.3f' % (error, sqrt(error)))"
   ]
  },
  {
   "cell_type": "markdown",
   "metadata": {},
   "source": [
    "This is the initial plot I did before comparing the actual data set to the predicted values using the model. When I did this first I didn't split the data."
   ]
  },
  {
   "cell_type": "code",
   "execution_count": null,
   "metadata": {},
   "outputs": [],
   "source": [
    "# see how well the model does\n",
    "plt.plot(dfx['speed'], dfx['power'], 'k.',label='actual')\n",
    "plt.plot(dfx['speed'], model.predict(dfx['speed']), 'r.',label='prediction')\n",
    "plt.legend();"
   ]
  },
  {
   "cell_type": "code",
   "execution_count": null,
   "metadata": {},
   "outputs": [],
   "source": [
    "# plot actual data \n",
    "plt.plot(dfx['speed'], dfx['power'], 'k.',label='actual')\n",
    "# plot predicted values for the test set\n",
    "plt.plot(X_test, y_test, 'r.', label='predicted on test set')"
   ]
  },
  {
   "cell_type": "raw",
   "metadata": {},
   "source": [
    "row = [5,10,15,20]\n",
    "yhat = model.predict([row])\n",
    "print('Predicted: %.3f' % yhat)"
   ]
  },
  {
   "cell_type": "code",
   "execution_count": null,
   "metadata": {},
   "outputs": [],
   "source": []
  },
  {
   "cell_type": "markdown",
   "metadata": {},
   "source": [
    "### Saving and loading the model\n",
    "Instead of having to retrain the model each time,  it can be saved to a file using the `save()` function on the model and loaded later to make predictions using the `load_model()` function. The model is saved in H5 format, an efficient array storage format.\n",
    "For this I need  the `h5py` library. "
   ]
  },
  {
   "cell_type": "code",
   "execution_count": null,
   "metadata": {},
   "outputs": [],
   "source": [
    "#pip install h5py"
   ]
  },
  {
   "cell_type": "code",
   "execution_count": 17,
   "metadata": {},
   "outputs": [],
   "source": [
    "model.save('model.h5')"
   ]
  },
  {
   "cell_type": "code",
   "execution_count": 18,
   "metadata": {},
   "outputs": [],
   "source": [
    "model = kr.models.load_model('model.h5')"
   ]
  },
  {
   "cell_type": "code",
   "execution_count": 19,
   "metadata": {},
   "outputs": [
    {
     "name": "stdout",
     "output_type": "stream",
     "text": [
      "Predicted: 99.327\n"
     ]
    }
   ],
   "source": [
    "speed = [20.647]\n",
    "yhat= model.predict(speed)\n",
    "print('Predicted: %.3f' % yhat[0])"
   ]
  },
  {
   "cell_type": "code",
   "execution_count": 20,
   "metadata": {},
   "outputs": [
    {
     "name": "stdout",
     "output_type": "stream",
     "text": [
      "Predicted: 100.749\n"
     ]
    }
   ],
   "source": [
    "speed = [22]\n",
    "yhat= model.predict(speed)\n",
    "print('Predicted: %.3f' % yhat[0])"
   ]
  },
  {
   "cell_type": "code",
   "execution_count": 21,
   "metadata": {},
   "outputs": [
    {
     "name": "stdout",
     "output_type": "stream",
     "text": [
      "Predicted: 2.598\n"
     ]
    }
   ],
   "source": [
    "speed = [5]\n",
    "yhat= model.predict(speed)\n",
    "print('Predicted: %.3f' % yhat[0])"
   ]
  },
  {
   "cell_type": "markdown",
   "metadata": {},
   "source": [
    "### Update:\n",
    "I ran through this again without scaling either the input or output variables as I ran into problems doing both in the same notebook. Will come back to this.\n"
   ]
  },
  {
   "cell_type": "markdown",
   "metadata": {},
   "source": [
    "The model seems to under predict the power values for the lower values of speed. This is as I expected earlier given that when wind speeds are too low to generate power, the stored power is used later. Look back at the article that mentioned this above."
   ]
  },
  {
   "cell_type": "code",
   "execution_count": null,
   "metadata": {},
   "outputs": [],
   "source": []
  },
  {
   "cell_type": "code",
   "execution_count": null,
   "metadata": {},
   "outputs": [],
   "source": []
  },
  {
   "cell_type": "code",
   "execution_count": null,
   "metadata": {},
   "outputs": [],
   "source": []
  },
  {
   "cell_type": "code",
   "execution_count": null,
   "metadata": {},
   "outputs": [],
   "source": []
  },
  {
   "cell_type": "code",
   "execution_count": null,
   "metadata": {},
   "outputs": [],
   "source": []
  },
  {
   "cell_type": "code",
   "execution_count": null,
   "metadata": {},
   "outputs": [],
   "source": []
  },
  {
   "cell_type": "code",
   "execution_count": null,
   "metadata": {},
   "outputs": [],
   "source": []
  },
  {
   "cell_type": "markdown",
   "metadata": {},
   "source": [
    "\n",
    "https://machinelearningmastery.com/tutorial-first-neural-network-python-keras/ demonstrates a fully connected network structure with three layers.\n",
    "\n",
    "Create a Sequential Model and  add layers one at a time until happy with the network architecture. A sequential neural network is built up in sequential layers.\n",
    "\n",
    "The first thing is to ensure the input layer has the right number of input features. You provide the input layer to the model\n",
    "The dataset here has only a single input feature which is wind speed. How to determine the correct number of layers to use? According to the tutorial its a matter of trial and error really. Generally you need a network large enough to capture the structure of the problem.\n",
    "\n",
    "Fully connected layers are defined using the `Dense` class.  Dense refers to the layer being densely connected to the previous layer. Every node in the previous layer is connected to everything in the current layer.\n",
    "\n",
    "\n",
    "The number of neurons or nodes in the layer as the first argument and specify the activation function using the `activation` argument. The demo uses the `rectified linear unit` activation function referred to as ReLU on the first two layers and the Sigmoid function in the output layer. As far as I recall Ian recommended using just the Sigmoid activation function. According to the tutorial, Sigmoid and Tanh activation functions were the preferred choice  for all layers before but that these days better performance is achieved using the ReLU activation function. I can try one or the other.  A `Sigmoid` layer is used on the outer layer to ensure the network output is between 0 and 1. (This problem though is not looking to classify the data into one of two classes.).\n",
    "The input shape is 1 as there is only 1 input variable. (input_dim=1 or input_shape=(1,))\n",
    "The shape of the input to the model is defined as an argument on the first hidden layer. The first line of code that adds the first Dense layer does 2 things, defines the input or visible layer and the first hidden layer.\n",
    "\n",
    "#### compile\n",
    "Once the model is defined, it can be compiled or built. We specify the learning rate and the loss function which we want to minimise.\n",
    "\n",
    "When compiling, some additional properties are required when training the network. Training a network means finding the best set of weights to map inputs to outputs in our dataset. The loss function must be specified\n",
    ">We must specify the loss function to use to evaluate a set of weights, the optimizer is used to search through different weights for the network and any optional metrics we would like to collect and report during training.\n",
    "\n",
    "The tutorial uses cross entrophy as the loss argument as it is looking at a binary classification problem. We are to stick with mean squared error I think.\n",
    ">The optimizer is defined below as the efficient stochastic gradient descent algorithm “adam“. This is a popular version of gradient descent because it automatically tunes itself and gives good results in a wide range of problems."
   ]
  },
  {
   "cell_type": "raw",
   "metadata": {},
   "source": [
    "# Create a neural network with 50 neurons.\n",
    "model = kr.models.Sequential()\n",
    "# the first layer with one input, kernel_initializer='ones' \n",
    "model.add(kr.layers.Dense(1, input_shape=(1,), activation=\"linear\", kernel_initializer='glorot_uniform', bias_initializer='zeros'))\n",
    "\n",
    "model.add(kr.layers.Dense(50, activation='sigmoid'))\n",
    "model.add(kr.layers.Dense(1, activation=\"linear\",  kernel_initializer='glorot_uniform'))"
   ]
  },
  {
   "cell_type": "code",
   "execution_count": null,
   "metadata": {},
   "outputs": [],
   "source": [
    "\n",
    "# Train a different model\n",
    "model = kr.models.Sequential()\n",
    "model.add(kr.layers.Dense(50, input_shape=(1,), activation='sigmoid', kernel_initializer=\"glorot_uniform\", bias_initializer=\"glorot_uniform\"))\n",
    "model.add(kr.layers.Dense(50, input_shape=(1,), activation='sigmoid', kernel_initializer=\"glorot_uniform\", bias_initializer=\"glorot_uniform\"))\n",
    "model.add(kr.layers.Dense(1, activation='linear', kernel_initializer=\"glorot_uniform\", bias_initializer=\"glorot_uniform\"))\n",
    "model.compile(kr.optimizers.Adam(lr=0.001), loss='mean_squared_error')"
   ]
  },
  {
   "cell_type": "markdown",
   "metadata": {},
   "source": [
    "\n"
   ]
  },
  {
   "cell_type": "code",
   "execution_count": null,
   "metadata": {},
   "outputs": [],
   "source": [
    "model.compile('adam', loss='mean_squared_error')\n",
    "model.summary()"
   ]
  },
  {
   "cell_type": "markdown",
   "metadata": {},
   "source": [
    "The model shows 153 total parameters. This is made up of the single input in the input layer, 50 neurons plus 50 bias terms in the hidden layer.\n"
   ]
  },
  {
   "cell_type": "markdown",
   "metadata": {},
   "source": []
  },
  {
   "cell_type": "code",
   "execution_count": null,
   "metadata": {},
   "outputs": [],
   "source": [
    "model.fit(X_train,y_train, epochs=500)"
   ]
  },
  {
   "cell_type": "markdown",
   "metadata": {},
   "source": [
    "Train a new model using the sigmoid function as the activation function.\n",
    "Using the sigmoid function instead of the linear function which is clearly not a good fit.\n"
   ]
  },
  {
   "cell_type": "markdown",
   "metadata": {},
   "source": [
    "Now training a different model. This one has a hidden layer with 60 neurons. A different kernel initialiser is used. the batch size is how many x's are sent it at any one time. Instead of sending one x in and adjusting the weights and the biases, send it 10 at a time. This sometimes has a smoothing effect. It still sends each x in 500 times (for 500 epochs) but 10 at a time instead of 1 at a time.\n"
   ]
  },
  {
   "cell_type": "raw",
   "metadata": {},
   "source": [
    "# Train a different model.\n",
    "model = kr.models.Sequential()\n",
    "model.add(kr.layers.Dense(60, input_shape=(1,), activation='sigmoid', kernel_initializer=\"glorot_uniform\", bias_initializer=\"glorot_uniform\"))\n",
    "model.add(kr.layers.Dense(1, activation='linear', kernel_initializer=\"glorot_uniform\", bias_initializer=\"glorot_uniform\"))\n",
    "model.compile(kr.optimizers.Adam(lr=0.001), loss='mean_squared_error', metrics=['accuracy'])"
   ]
  },
  {
   "cell_type": "raw",
   "metadata": {},
   "source": [
    "# Fit the data.\n",
    "model.fit(df['speed'], df['power'], epochs=500, batch_size=10)"
   ]
  },
  {
   "cell_type": "code",
   "execution_count": null,
   "metadata": {},
   "outputs": [],
   "source": [
    "accuracy = model.evaluate(x, y)"
   ]
  },
  {
   "cell_type": "markdown",
   "metadata": {},
   "source": [
    "The zero values for power at high levels of speed does seem to be pulling the curve down so maybe I need to take them out. The rest of the data seems to be quite well modelled.\n",
    "I need to read more into this. Overall it is still impressive that with only a single numerical input for speed you can still get such a close match to what the power values look like.\n",
    "\n",
    "The loss is still quite high and did not come down much despite playing around with the parameters.\n",
    "The ideal loss is is zero and the ideal accuracy is 1.0 or 100%.\n",
    ">The goal is to choose a model configuration and training configuration that achieve the lowest loss and highest accuracy possible for a given dataset\n",
    "- https://machinelearningmastery.com/tutorial-first-neural-network-python-keras/\n",
    "\n",
    "I need to split the data also into a training and test set.\n",
    "See https://scikit-learn.org/stable/modules/cross_validation.html\n",
    "`from sklearn.model_selection import train_test_split` \n",
    "`X_train, X_test, y_train, y_test = train_test_split(\n",
    "...     X, y, test_size=0.4, random_state=0)`"
   ]
  },
  {
   "cell_type": "markdown",
   "metadata": {},
   "source": [
    "https://medium.com/the-theory-of-everything/understanding-activation-functions-in-neural-networks-9491262884e0\n",
    "Here I am reading through the article referenced, making notes and some paraphrasing. I will reference properly later.\n",
    "\n",
    "An artificial neuron calculates a weighted sum of its input, adds a bias and then decides whether it should be fired or not. $ Y = \\sum{(\\text{weight} * \\text{input})} + \\text{bias}$\n",
    "The value of Y can be anything from -infinity to + infinity. The neuron does not really know the bounds of the value. So how do we decide whether the neuron should fire or not? This is where the activation functions come in. The activation function will check the Y value produced by the neuron and decide whether outside connections should consider this neuron as activated (fired) or not.\n",
    "\n",
    "Consider a threshold based activation function. If the value of Y is above a certain value then it could declare it as activated, otherwise not. In this case the output is 1 (activated) when the value is greater than than the threshold and 0 otherwise. This is a step function. There are drawbacks to using this method as an activation function for neural networks though when the response is not a binary yes or no.\n",
    "\n",
    "A linear activation function A = cx is a straight line function where activation is proportional to input ( which is the weighted sum from neuron ). In this way it will give a range of activations rather than just binary activations. We can connect some neurons and if more than one fire then we could take the max and decide based on that.\n",
    "\n",
    "The derivative w.r.x is c which means that the gradient has no relationship with X. The descent is going to be on a constant gradient. If there is an error in prediction the changes made by back propagation is constant and not depending on the change in input delta(x).\n",
    "Another problem concerns the connected layers where each layer is activated by a linear function. \n",
    "That activation in turn goes into the next level as input and the second layer calculates weighted sum on that input and it in turn, fires based on another linear activation function.\n",
    "No matter how many layers we have, if all are linear in nature, the final activation function of last layer is nothing but just a linear function of the input of first layer. Therefore two or more layers can be replaced by a single layer. The whole network then is equivalent to  a single layer with linear activation.\n",
    "\n",
    "Thw sigmoid function is smooth and looks somewhat like a step function. It is nonlinear in nature and therefore combinations of layers are also non-linear which means that layers can be stacked. It will also give non binary activations unlike the step function. It has a smooth gradient.\n",
    "\n",
    "Between X values -2 to 2, the Y values are very steep.This means that any small changes in the values of X in that region will cause values of Y to change significantly.This means this function has a tendency to bring the Y values to either end of the curve.\n",
    "It tends to bring the activations to either side of the curve making clear distinctions on prediction. Another advantage over linear function is that the output of the activation function is always going to be in range (0,1) compared to (-inf, inf) of linear function and therefore the activations are bound in a range. \n",
    "Sigmoid functions are one of the most widely used activation functions today. The problems with them is that towards either end of the sigmoid function, the Y values tend to respond very less to changes in X. This means that the gradient at that region is going to be small. It gives rise to a problem of “vanishing gradients”. When the activations reach near the “near-horizontal” part of the curve on either sides, the gradient is small or has vanished ( cannot make significant change because of the extremely small value ). The network refuses to learn further or is drastically slow ( depending on use case and until gradient /computation gets hit by floating point value limits ). There are ways to work around this problem and sigmoid is still very popular in classification problems.\n",
    "The article also looked at the Tanh activation functions which is a scaled sigmoid function and the ReLu function which gives an output x if x is positive and 0 otherwise. These are both non-linear functions.\n",
    "\n",
    "The article finishes by suggesting how to choose the correct activation function. \n",
    "When you know the function you are trying to approximate has certain characteristics, you can choose an activation function which will approximate the function faster leading to faster training process. For example, a sigmoid works well for a classifier "
   ]
  },
  {
   "cell_type": "markdown",
   "metadata": {},
   "source": [
    "https://www.computing.dcu.ie/~humphrys/Notes/Neural/sigmoid.html\n",
    "https://machinelearningmastery.com/tutorial-first-neural-network-python-keras/"
   ]
  },
  {
   "cell_type": "markdown",
   "metadata": {},
   "source": [
    "## References\n",
    "\n",
    "### Some resources on wind energy\n",
    "- [The Irish Wind Energy Association (IWEA)](https://www.iwea.com/about-us/about-us)\n",
    "- [ESBN Connected Wind Farms](https://www.esbnetworks.ie/new-connections/generator-connections/generator-connection-statistics). \n",
    "- http://www.eirgridgroup.com/how-the-grid-works/renewables/\n",
    "- [WindEurope](https://windeurope.org/data-and-analysis/)\n",
    "- [how to calculate power output of wind](https://www.windpowerengineering.com/calculate-wind-power-output/)\n",
    "- [calculating energy production from weather forecast in Python](https://medium.com/planet-os/calculating-energy-production-from-weather-forecast-in-python-3c990047daa)\n",
    "- [Wind Turbine Power Curve Modeling Using\n",
    "Advanced Parametric and Nonparametric Methods](http://ieeexplore.ieee.org/iel7/5165391/5433168/06894235.pdf)\n",
    "- https://www.researchgate.net/publication/257748412_Using_machine_learning_to_predict_wind_turbine_power_output\n",
    "\n",
    "- Using machine learning to predict wind turbine power output by A Clifton, L Kilcher, J K Lundquist and P Fleming, ENVIRONMENTAL RESEARCH LETTERS, doi:10.1088/1748-9326/8/2/024009, Environ. Res. Lett. 8 (2013) 024009 (8pp)\n",
    "\n",
    "- Wind Turbine Power Curve Modeling Using Advanced Parametric and Nonparametric Methods by Shahab Shokrzadeh, Student Member, IEEE, Mohammad Jafari Jozani, and Eric Bibeau. IEEE TRANSACTIONS ON SUSTAINABLE ENERGY, VOL. 5, NO. 4, OCTOBER 2014.  Available from https://ieeexplore.ieee.org/stamp/stamp.jsp?arnumber=6894235\n"
   ]
  },
  {
   "cell_type": "markdown",
   "metadata": {},
   "source": [
    "### End"
   ]
  },
  {
   "cell_type": "code",
   "execution_count": null,
   "metadata": {},
   "outputs": [],
   "source": []
  },
  {
   "cell_type": "code",
   "execution_count": null,
   "metadata": {},
   "outputs": [],
   "source": []
  }
 ],
 "metadata": {
  "kernelspec": {
   "display_name": "Python 3",
   "language": "python",
   "name": "python3"
  },
  "language_info": {
   "codemirror_mode": {
    "name": "ipython",
    "version": 3
   },
   "file_extension": ".py",
   "mimetype": "text/x-python",
   "name": "python",
   "nbconvert_exporter": "python",
   "pygments_lexer": "ipython3",
   "version": "3.8.2"
  }
 },
 "nbformat": 4,
 "nbformat_minor": 4
}
