{
 "cells": [
  {
   "cell_type": "markdown",
   "metadata": {},
   "source": [
    "# Machine Learning and Statistics Project 2020\n",
    "Author Angela Carpenter\n",
    "- [power production dataset](https://raw.githubusercontent.com/ianmcloughlin/2020A-machstat-project/master/dataset/powerproduction.csv) from Ian McLoughlin Github"
   ]
  },
  {
   "cell_type": "markdown",
   "metadata": {},
   "source": [
    "# Table of Contents\n",
    "- Project Instructions / Overview\n",
    "- Project plan\n",
    "- About this Notebook\n",
    "- Python Libraries\n",
    "- Downloading and running the code\n",
    "- Loading / Reading in the dataset\n",
    "- Exploring the dataset\n",
    "- Describing the dataset\n",
    "- Summary Statistics\n",
    "- Visualising the dataset using plots\n",
    "- Summary and Conclusions\n",
    "- References\n",
    "\n",
    "\n",
    "## Project Instructions\n",
    "\n",
    "In this project you must create a web service that uses machine learning to make pre- dictions based on the data set powerproduction available on Moodle. The goal is to produce a model that accurately predicts wind turbine power output from wind speed values, as in the data set. You must then develop a web service that will respond with predicted power values based on speed values sent as HTTP requests. Your submission must be in the form of a git repository containing, at a minimum, the following items.\n",
    "1. Jupyter notebook that trains a model using the data set. In the notebook you should explain your model and give an analysis of its accuracy.\n",
    "2. Python script that runs a web service based on the model, as above.\n",
    "3. Dockerfile to build and run the web service in a container.\n",
    "4. Standard items in a git repository such as a README.\n",
    "To enhance your submission, you might consider developing and comparing more than one model. Rest assured, all the above concepts will be explored in lecture videos and other materials in the coming semester.\n",
    "\n",
    "## Project Plan\n",
    "I will add to this as I go from step to step.\n",
    "\n",
    "- Explore the dataset first using descriptive statistics and some plots. I think the plots should come first.\n",
    "- Look at the distribution of the data\n",
    "- Check for missing value and outliers\n",
    "- Looking at any visual relationship between wind speed and turbine power output.\n",
    "- Look up some background information on wind turbines\n",
    "- Clean dataset if necessary and redo statistics\n",
    "- some machine learning!\n"
   ]
  },
  {
   "cell_type": "code",
   "execution_count": 1,
   "metadata": {},
   "outputs": [],
   "source": [
    "# first importing the following libraries\n",
    "import numpy as np\n",
    "import pandas as pd  \n",
    "import matplotlib.pyplot as plt \n",
    "import seaborn as sns\n",
    "\n",
    "import csv"
   ]
  },
  {
   "cell_type": "code",
   "execution_count": 2,
   "metadata": {},
   "outputs": [],
   "source": [
    "# save link to data and reference the link \n",
    "csv_url = 'https://raw.githubusercontent.com/ianmcloughlin/2020A-machstat-project/master/dataset/powerproduction.csv'\n",
    "# read the csv data into a pandas dataframe\n",
    "df = pd.read_csv(csv_url)\n",
    "df\n",
    "# write the dataframe to csv\n",
    "df.to_csv('df.csv')"
   ]
  },
  {
   "cell_type": "code",
   "execution_count": 3,
   "metadata": {},
   "outputs": [
    {
     "name": "stdout",
     "output_type": "stream",
     "text": [
      "The first few rows in the dataset: \n",
      "\n",
      "    speed  power\n",
      "0  0.000    0.0\n",
      "1  0.125    0.0\n",
      "2  0.150    0.0\n",
      "\n",
      " The final few rows in the dataset \n",
      "       speed  power\n",
      "497  24.875    0.0\n",
      "498  24.950    0.0\n",
      "499  25.000    0.0\n"
     ]
    }
   ],
   "source": [
    "print(\"The first few rows in the dataset: \\n\\n\", df.head(3))  # look at the top 5 rows of the DataFrame df\n",
    "print('\\n The final few rows in the dataset \\n',df.tail(3)) # Look at the bottom 5 rows of the DataFrame"
   ]
  },
  {
   "cell_type": "code",
   "execution_count": 4,
   "metadata": {},
   "outputs": [
    {
     "name": "stdout",
     "output_type": "stream",
     "text": [
      "The index of the DataFrame:  RangeIndex(start=0, stop=500, step=1)\n",
      "The dtypes in the dataframe are:\n",
      "\n",
      "speed    float64\n",
      "power    float64\n",
      "dtype: object\n"
     ]
    }
   ],
   "source": [
    "print(\"The index of the DataFrame: \", df.index) # the index or row labels of the DataFrame\n",
    "print(\"The dtypes in the dataframe are:\", end='\\n\\n')\n",
    "\n",
    "print(df.dtypes) # the data types attributes for each column in df"
   ]
  },
  {
   "cell_type": "markdown",
   "metadata": {},
   "source": [
    "### Null values\n",
    "Here I check for null values. The `isnull` function returns no null values, yet there does appear to be null values when you look at the head and tail of the dataset so I need to investigate this further. \n",
    "I think my problem is that zero values are not Null values in Python. Null values are not zero in Python.(https://realpython.com/courses/python-none/)\n",
    "\n",
    "https://stackoverflow.com/questions/50767452/check-if-dataframe-has-a-zero-element"
   ]
  },
  {
   "cell_type": "code",
   "execution_count": 5,
   "metadata": {},
   "outputs": [
    {
     "name": "stdout",
     "output_type": "stream",
     "text": [
      "speed    0\n",
      "power    0\n",
      "dtype: int64\n"
     ]
    },
    {
     "data": {
      "text/plain": [
       "speed    500\n",
       "power    500\n",
       "dtype: int64"
      ]
     },
     "execution_count": 5,
     "metadata": {},
     "output_type": "execute_result"
    }
   ],
   "source": [
    "print(df.isnull().sum())\n",
    "df.notnull().sum()"
   ]
  },
  {
   "cell_type": "code",
   "execution_count": 6,
   "metadata": {},
   "outputs": [
    {
     "data": {
      "text/plain": [
       "False"
      ]
     },
     "execution_count": 6,
     "metadata": {},
     "output_type": "execute_result"
    }
   ],
   "source": [
    "df.isnull().values.any()"
   ]
  },
  {
   "cell_type": "markdown",
   "metadata": {},
   "source": [
    "### Zero values\n",
    "There are no null values in the dataset but there are some zero values. While there is only one zero value for the `speed` variable, there is a whopping 49 zero values for the `power` variable!\n",
    "I looked at some plots below but will bring them up here.\n",
    "Look at the distribution of values to see if the zero values are very unusual compared to the remaining 451 values for the power variable. I don't know much yet about wind turbines but I would have thought that there should be more smaller values for wind speed than power. For instance on a very dry still day, maybe there would be very little or even no speed at all in the wind? However the dataset has only 1 zero value for speed.\n",
    "\n",
    "From the project description, the power variable represents wind turbine power output and the speed values are wind speed values.\n"
   ]
  },
  {
   "cell_type": "code",
   "execution_count": 7,
   "metadata": {},
   "outputs": [
    {
     "data": {
      "text/plain": [
       "0.08"
      ]
     },
     "execution_count": 7,
     "metadata": {},
     "output_type": "execute_result"
    }
   ],
   "source": [
    "#The proportion of zero values \n",
    "40/500"
   ]
  },
  {
   "cell_type": "markdown",
   "metadata": {},
   "source": [
    "### Visualise the data\n",
    "I will visualise the data here before looking at the summary statistics below.\n",
    "The histogram of wind speed looks quite uniform when the default number of bins are used, spread across speeds from almost zero to 25. (I need to see what exactly is being measured here, how wind speed is represented).\n",
    "The wind turbine power values seem to have a peak at very low values. This is not surprising given the large number of zero power values in this dataset. Almost 10% of the power values supplied are zero.  There is another peak around values of 95-100. Most of the remaining power values fall between 18 and 85.\n",
    "A scatter plot can show if there is any visible relationship between the two variables. For \n"
   ]
  },
  {
   "cell_type": "markdown",
   "metadata": {},
   "source": [
    "### Visualise the relationship between wind speed and wind turbine power:\n",
    "The scatter plot below a linear relationship between wind speed values and power for mid-range speed values only.\n",
    "- When wind speed increases from very low levels, the power does not increase by much or at all. \n",
    "- The wind turbine power values does start to increase with the wind speed from wind speed values of about 5 to about 18/19. \n",
    "- From wind speeds of 20 onwards to about 25 the power values increase no further and seem to level off. \n",
    "\n",
    "Before I go and look up some info on wind turbines, I can make some guesses here.\n",
    "- Perhaps at very low levels of wind speed, there is simply not enough speed to get any level of movement going and at a particular speed level the power maxes out, that there is simply no way for the turbine to generate more power no matter how fast the wind becomes after a certain level. \n",
    "- Maybe once the turbine is started up from zero it will take some time before any measurable units of power can be generated, and once a sufficient level of wind speed is reached, it takes little change in speed to keep the turbine going and small reductions in speed would have little impact on the turbine once it is in motion.\n",
    "- Maybe some of the power being generated is actually being consumed by the turbine. Maybe after a while once the turbine gets going, it requires little energy to continue.\n",
    "\n",
    "#### Update!\n",
    "The goal of this project is to produce a model that accurately predicts wind turbine power output from wind speed values, as in the data set. The first time I looked at this I was wondering if the data values represented measurements over a particular period of time and if the lower values of power might be related to the time taken for the turbines to get up and running before they could generate any power or if some of the zero power values were related to periodic maintenance when the turbines might get switched off. There does seem to be some linear relationship between the two variables for the middle portion of the dataset and the power generated does seem to level off after a particular point.\n",
    "\n",
    "However looking at the raw data in the csv file, the rows are ordered by ascending values of speed column with the corresponding power values in the other column. There is no indication as to how the data values were collected and therefore I don't think I can make any judgements about the data over a particular timeframe. There are only two columns of numerical data provided with no indication provided as to their measurement units.  I will just focus on trying to use some algorithms to predict the power values based on the input values of speed.  "
   ]
  },
  {
   "cell_type": "code",
   "execution_count": 8,
   "metadata": {},
   "outputs": [
    {
     "data": {
      "image/png": "[encoded data removed]",
      "text/plain": [
       "<Figure size 432x288 with 1 Axes>"
      ]
     },
     "metadata": {
      "needs_background": "light"
     },
     "output_type": "display_data"
    }
   ],
   "source": [
    "# create the plot\n",
    "sns.scatterplot(x=df['speed'],y=df['power'])\n",
    "# add title\n",
    "plt.title(\"Scatter plot of Speed and Power\");"
   ]
  },
  {
   "cell_type": "code",
   "execution_count": 9,
   "metadata": {},
   "outputs": [
    {
     "data": {
      "text/plain": [
       "True"
      ]
     },
     "execution_count": 9,
     "metadata": {},
     "output_type": "execute_result"
    }
   ],
   "source": [
    "# https://stackoverflow.com/questions/50767452/check-if-dataframe-has-a-zero-element\n",
    "0 in df.values\n",
    "df.isin([0]).any().any()"
   ]
  },
  {
   "cell_type": "code",
   "execution_count": 10,
   "metadata": {},
   "outputs": [
    {
     "data": {
      "text/plain": [
       "speed     1\n",
       "power    49\n",
       "dtype: int64"
      ]
     },
     "execution_count": 10,
     "metadata": {},
     "output_type": "execute_result"
    }
   ],
   "source": [
    "#https://stackoverflow.com/questions/29229600/counting-number-of-zeros-per-row-by-pandas-dataframe\n",
    "\n",
    "df.isin([0]).sum()"
   ]
  },
  {
   "cell_type": "code",
   "execution_count": 11,
   "metadata": {},
   "outputs": [
    {
     "data": {
      "text/html": [
       "<div>\n",
       "<style scoped>\n",
       "    .dataframe tbody tr th:only-of-type {\n",
       "        vertical-align: middle;\n",
       "    }\n",
       "\n",
       "    .dataframe tbody tr th {\n",
       "        vertical-align: top;\n",
       "    }\n",
       "\n",
       "    .dataframe thead th {\n",
       "        text-align: right;\n",
       "    }\n",
       "</style>\n",
       "<table border=\"1\" class=\"dataframe\">\n",
       "  <thead>\n",
       "    <tr style=\"text-align: right;\">\n",
       "      <th></th>\n",
       "      <th>speed</th>\n",
       "      <th>power</th>\n",
       "    </tr>\n",
       "  </thead>\n",
       "  <tbody>\n",
       "    <tr>\n",
       "      <th>0</th>\n",
       "      <td>0.000</td>\n",
       "      <td>0.0</td>\n",
       "    </tr>\n",
       "    <tr>\n",
       "      <th>1</th>\n",
       "      <td>0.125</td>\n",
       "      <td>0.0</td>\n",
       "    </tr>\n",
       "    <tr>\n",
       "      <th>2</th>\n",
       "      <td>0.150</td>\n",
       "      <td>0.0</td>\n",
       "    </tr>\n",
       "    <tr>\n",
       "      <th>3</th>\n",
       "      <td>0.225</td>\n",
       "      <td>0.0</td>\n",
       "    </tr>\n",
       "    <tr>\n",
       "      <th>4</th>\n",
       "      <td>0.275</td>\n",
       "      <td>0.0</td>\n",
       "    </tr>\n",
       "  </tbody>\n",
       "</table>\n",
       "</div>"
      ],
      "text/plain": [
       "   speed  power\n",
       "0  0.000    0.0\n",
       "1  0.125    0.0\n",
       "2  0.150    0.0\n",
       "3  0.225    0.0\n",
       "4  0.275    0.0"
      ]
     },
     "execution_count": 11,
     "metadata": {},
     "output_type": "execute_result"
    }
   ],
   "source": [
    "df.sort_values(by='speed').head()"
   ]
  },
  {
   "cell_type": "code",
   "execution_count": 12,
   "metadata": {},
   "outputs": [
    {
     "data": {
      "text/html": [
       "<div>\n",
       "<style scoped>\n",
       "    .dataframe tbody tr th:only-of-type {\n",
       "        vertical-align: middle;\n",
       "    }\n",
       "\n",
       "    .dataframe tbody tr th {\n",
       "        vertical-align: top;\n",
       "    }\n",
       "\n",
       "    .dataframe thead th {\n",
       "        text-align: right;\n",
       "    }\n",
       "</style>\n",
       "<table border=\"1\" class=\"dataframe\">\n",
       "  <thead>\n",
       "    <tr style=\"text-align: right;\">\n",
       "      <th></th>\n",
       "      <th>speed</th>\n",
       "      <th>power</th>\n",
       "    </tr>\n",
       "  </thead>\n",
       "  <tbody>\n",
       "    <tr>\n",
       "      <th>499</th>\n",
       "      <td>25.000</td>\n",
       "      <td>0.0</td>\n",
       "    </tr>\n",
       "    <tr>\n",
       "      <th>498</th>\n",
       "      <td>24.950</td>\n",
       "      <td>0.0</td>\n",
       "    </tr>\n",
       "    <tr>\n",
       "      <th>497</th>\n",
       "      <td>24.875</td>\n",
       "      <td>0.0</td>\n",
       "    </tr>\n",
       "    <tr>\n",
       "      <th>496</th>\n",
       "      <td>24.850</td>\n",
       "      <td>0.0</td>\n",
       "    </tr>\n",
       "    <tr>\n",
       "      <th>495</th>\n",
       "      <td>24.775</td>\n",
       "      <td>0.0</td>\n",
       "    </tr>\n",
       "  </tbody>\n",
       "</table>\n",
       "</div>"
      ],
      "text/plain": [
       "      speed  power\n",
       "499  25.000    0.0\n",
       "498  24.950    0.0\n",
       "497  24.875    0.0\n",
       "496  24.850    0.0\n",
       "495  24.775    0.0"
      ]
     },
     "execution_count": 12,
     "metadata": {},
     "output_type": "execute_result"
    }
   ],
   "source": [
    "df.sort_values(by='speed', ascending=False).head()"
   ]
  },
  {
   "cell_type": "code",
   "execution_count": 13,
   "metadata": {},
   "outputs": [
    {
     "data": {
      "text/html": [
       "<div>\n",
       "<style scoped>\n",
       "    .dataframe tbody tr th:only-of-type {\n",
       "        vertical-align: middle;\n",
       "    }\n",
       "\n",
       "    .dataframe tbody tr th {\n",
       "        vertical-align: top;\n",
       "    }\n",
       "\n",
       "    .dataframe thead th {\n",
       "        text-align: right;\n",
       "    }\n",
       "</style>\n",
       "<table border=\"1\" class=\"dataframe\">\n",
       "  <thead>\n",
       "    <tr style=\"text-align: right;\">\n",
       "      <th></th>\n",
       "      <th>speed</th>\n",
       "      <th>power</th>\n",
       "    </tr>\n",
       "  </thead>\n",
       "  <tbody>\n",
       "    <tr>\n",
       "      <th>461</th>\n",
       "      <td>23.273</td>\n",
       "      <td>113.556</td>\n",
       "    </tr>\n",
       "    <tr>\n",
       "      <th>416</th>\n",
       "      <td>20.646</td>\n",
       "      <td>112.362</td>\n",
       "    </tr>\n",
       "    <tr>\n",
       "      <th>447</th>\n",
       "      <td>22.497</td>\n",
       "      <td>109.932</td>\n",
       "    </tr>\n",
       "    <tr>\n",
       "      <th>420</th>\n",
       "      <td>20.871</td>\n",
       "      <td>108.485</td>\n",
       "    </tr>\n",
       "    <tr>\n",
       "      <th>464</th>\n",
       "      <td>23.348</td>\n",
       "      <td>108.167</td>\n",
       "    </tr>\n",
       "  </tbody>\n",
       "</table>\n",
       "</div>"
      ],
      "text/plain": [
       "      speed    power\n",
       "461  23.273  113.556\n",
       "416  20.646  112.362\n",
       "447  22.497  109.932\n",
       "420  20.871  108.485\n",
       "464  23.348  108.167"
      ]
     },
     "execution_count": 13,
     "metadata": {},
     "output_type": "execute_result"
    }
   ],
   "source": [
    "df.sort_values(by='power', ascending=False).head()"
   ]
  },
  {
   "cell_type": "code",
   "execution_count": 14,
   "metadata": {},
   "outputs": [
    {
     "data": {
      "text/html": [
       "<div>\n",
       "<style scoped>\n",
       "    .dataframe tbody tr th:only-of-type {\n",
       "        vertical-align: middle;\n",
       "    }\n",
       "\n",
       "    .dataframe tbody tr th {\n",
       "        vertical-align: top;\n",
       "    }\n",
       "\n",
       "    .dataframe thead th {\n",
       "        text-align: right;\n",
       "    }\n",
       "</style>\n",
       "<table border=\"1\" class=\"dataframe\">\n",
       "  <thead>\n",
       "    <tr style=\"text-align: right;\">\n",
       "      <th></th>\n",
       "      <th>speed</th>\n",
       "      <th>power</th>\n",
       "    </tr>\n",
       "  </thead>\n",
       "  <tbody>\n",
       "    <tr>\n",
       "      <th>0</th>\n",
       "      <td>0.000</td>\n",
       "      <td>0.0</td>\n",
       "    </tr>\n",
       "    <tr>\n",
       "      <th>111</th>\n",
       "      <td>5.806</td>\n",
       "      <td>0.0</td>\n",
       "    </tr>\n",
       "    <tr>\n",
       "      <th>110</th>\n",
       "      <td>5.781</td>\n",
       "      <td>0.0</td>\n",
       "    </tr>\n",
       "    <tr>\n",
       "      <th>105</th>\n",
       "      <td>5.556</td>\n",
       "      <td>0.0</td>\n",
       "    </tr>\n",
       "    <tr>\n",
       "      <th>89</th>\n",
       "      <td>4.880</td>\n",
       "      <td>0.0</td>\n",
       "    </tr>\n",
       "  </tbody>\n",
       "</table>\n",
       "</div>"
      ],
      "text/plain": [
       "     speed  power\n",
       "0    0.000    0.0\n",
       "111  5.806    0.0\n",
       "110  5.781    0.0\n",
       "105  5.556    0.0\n",
       "89   4.880    0.0"
      ]
     },
     "execution_count": 14,
     "metadata": {},
     "output_type": "execute_result"
    }
   ],
   "source": [
    "df.sort_values(by='power').head()"
   ]
  },
  {
   "cell_type": "code",
   "execution_count": 15,
   "metadata": {},
   "outputs": [
    {
     "data": {
      "text/html": [
       "<div>\n",
       "<style scoped>\n",
       "    .dataframe tbody tr th:only-of-type {\n",
       "        vertical-align: middle;\n",
       "    }\n",
       "\n",
       "    .dataframe tbody tr th {\n",
       "        vertical-align: top;\n",
       "    }\n",
       "\n",
       "    .dataframe thead th {\n",
       "        text-align: right;\n",
       "    }\n",
       "</style>\n",
       "<table border=\"1\" class=\"dataframe\">\n",
       "  <thead>\n",
       "    <tr style=\"text-align: right;\">\n",
       "      <th></th>\n",
       "      <th>speed</th>\n",
       "      <th>power</th>\n",
       "    </tr>\n",
       "  </thead>\n",
       "  <tbody>\n",
       "    <tr>\n",
       "      <th>0</th>\n",
       "      <td>0.000</td>\n",
       "      <td>0.0</td>\n",
       "    </tr>\n",
       "    <tr>\n",
       "      <th>1</th>\n",
       "      <td>0.125</td>\n",
       "      <td>0.0</td>\n",
       "    </tr>\n",
       "    <tr>\n",
       "      <th>2</th>\n",
       "      <td>0.150</td>\n",
       "      <td>0.0</td>\n",
       "    </tr>\n",
       "    <tr>\n",
       "      <th>3</th>\n",
       "      <td>0.225</td>\n",
       "      <td>0.0</td>\n",
       "    </tr>\n",
       "    <tr>\n",
       "      <th>4</th>\n",
       "      <td>0.275</td>\n",
       "      <td>0.0</td>\n",
       "    </tr>\n",
       "  </tbody>\n",
       "</table>\n",
       "</div>"
      ],
      "text/plain": [
       "   speed  power\n",
       "0  0.000    0.0\n",
       "1  0.125    0.0\n",
       "2  0.150    0.0\n",
       "3  0.225    0.0\n",
       "4  0.275    0.0"
      ]
     },
     "execution_count": 15,
     "metadata": {},
     "output_type": "execute_result"
    }
   ],
   "source": [
    "df.sort_values(by='speed').head()"
   ]
  },
  {
   "cell_type": "markdown",
   "metadata": {},
   "source": [
    "The [DataFrame.to_numpy()](https://pandas.pydata.org/docs/reference/api/pandas.DataFrame.to_numpy.html#pandas.DataFrame.to_numpy) function `df.to_numpy()` gives a NumPy representation of the underlying data. It converts the dataframe to a numpy array which may be useful here given that the data is all numerical types (floats64)."
   ]
  },
  {
   "cell_type": "markdown",
   "metadata": {},
   "source": [
    "## Exploring the dataset using statistics"
   ]
  },
  {
   "cell_type": "markdown",
   "metadata": {},
   "source": [
    "There are no categorical variables in this dataset.\n",
    "\n",
    "### Quantitative variables\n",
    "When looking at quantitative variables the characteristics of interest are the centre, spread, modality (the number of peaks in the pdf), the shape of the distribution and the outliers.\n",
    "Pandas `describe` function generates statistics that summarize the central tendency, dispersion and shape of a dataset’s distribution. (excluding NaN values)"
   ]
  },
  {
   "cell_type": "code",
   "execution_count": 17,
   "metadata": {},
   "outputs": [
    {
     "data": {
      "text/html": [
       "<div>\n",
       "<style scoped>\n",
       "    .dataframe tbody tr th:only-of-type {\n",
       "        vertical-align: middle;\n",
       "    }\n",
       "\n",
       "    .dataframe tbody tr th {\n",
       "        vertical-align: top;\n",
       "    }\n",
       "\n",
       "    .dataframe thead th {\n",
       "        text-align: right;\n",
       "    }\n",
       "</style>\n",
       "<table border=\"1\" class=\"dataframe\">\n",
       "  <thead>\n",
       "    <tr style=\"text-align: right;\">\n",
       "      <th></th>\n",
       "      <th>speed</th>\n",
       "      <th>power</th>\n",
       "    </tr>\n",
       "  </thead>\n",
       "  <tbody>\n",
       "    <tr>\n",
       "      <th>count</th>\n",
       "      <td>500.000000</td>\n",
       "      <td>500.000000</td>\n",
       "    </tr>\n",
       "    <tr>\n",
       "      <th>mean</th>\n",
       "      <td>12.590398</td>\n",
       "      <td>48.014584</td>\n",
       "    </tr>\n",
       "    <tr>\n",
       "      <th>std</th>\n",
       "      <td>7.224991</td>\n",
       "      <td>41.614572</td>\n",
       "    </tr>\n",
       "    <tr>\n",
       "      <th>min</th>\n",
       "      <td>0.000000</td>\n",
       "      <td>0.000000</td>\n",
       "    </tr>\n",
       "    <tr>\n",
       "      <th>25%</th>\n",
       "      <td>6.324750</td>\n",
       "      <td>5.288000</td>\n",
       "    </tr>\n",
       "    <tr>\n",
       "      <th>50%</th>\n",
       "      <td>12.550500</td>\n",
       "      <td>41.645500</td>\n",
       "    </tr>\n",
       "    <tr>\n",
       "      <th>75%</th>\n",
       "      <td>18.775250</td>\n",
       "      <td>93.537000</td>\n",
       "    </tr>\n",
       "    <tr>\n",
       "      <th>max</th>\n",
       "      <td>25.000000</td>\n",
       "      <td>113.556000</td>\n",
       "    </tr>\n",
       "  </tbody>\n",
       "</table>\n",
       "</div>"
      ],
      "text/plain": [
       "            speed       power\n",
       "count  500.000000  500.000000\n",
       "mean    12.590398   48.014584\n",
       "std      7.224991   41.614572\n",
       "min      0.000000    0.000000\n",
       "25%      6.324750    5.288000\n",
       "50%     12.550500   41.645500\n",
       "75%     18.775250   93.537000\n",
       "max     25.000000  113.556000"
      ]
     },
     "execution_count": 17,
     "metadata": {},
     "output_type": "execute_result"
    }
   ],
   "source": [
    "# get summary statistics of the numerical values, \n",
    "df.describe() # get statistics summary of the"
   ]
  },
  {
   "cell_type": "markdown",
   "metadata": {},
   "source": [
    "#### Central Tendency statistics of the dataset\n",
    "\n",
    "The **central tendency** or location of the data distribution is determined by the typical or middle values. The arithmetic mean is the sum of all the data values divided by the number of values. While the mean value is the average value in the dataset it may not be typical of the values in the dataset if there are very small or very large values in the dataset. The *median* is another measure of central tendancy - it is the middle value after all the values are put in an ordered list.\n",
    "The mean and median are similar for symmetric distributions whereas for unimodal skewed distributions the mean will be more in the direction of the long tail of the distribution. \n",
    "The median can be considered a more typical value in the dataset or closer to some of the typical values and is also considered [robust](https://en.wikipedia.org/wiki/Robust_statistics) which means that removing some of the data will not tend to change the value of the median. A few extreme values will not affect the median as they would affect the mean. \n",
    "In this dataset the mean and median wind speed values are similar at approx 12.5 to 12.6.\n",
    "The median power value is just over 41 compared to the mean power value of 48.\n",
    "As we saw above, there are many zero values for power in the dataset. At least 10% of the power values are zero and probably for valid reasons.\n",
    "\n"
   ]
  },
  {
   "cell_type": "code",
   "execution_count": 18,
   "metadata": {},
   "outputs": [
    {
     "name": "stdout",
     "output_type": "stream",
     "text": [
      "The mean speed value is 12.590 while the median speed value  is 12.550\n",
      "The mean power value is 48.015 while the median power value  is 41.645\n"
     ]
    }
   ],
   "source": [
    "print(\"The mean speed value is %.3f\" %df['speed'].mean(),\"while the median speed value  is %.3f\" %df['speed'].quantile(q=0.5))\n",
    "print(\"The mean power value is %.3f\" %df['power'].mean(),\"while the median power value  is %.3f\" %df['power'].quantile(q=0.5))"
   ]
  },
  {
   "cell_type": "markdown",
   "metadata": {},
   "source": [
    "#### Spread statistics\n",
    "There are several statistics that are used to show the spread of the distribution of the data which concerns how far away from the centre the data points are located. The variance is the average of the squared deviations of each observation from the centre or mean of the data. Bigger deviations will make a bigger variance. The resulting variance figure will be in squared units of the original units. The *standard deviation* is the square root of the variance and is in the same units as the data and therefore can be more easily interpreted. "
   ]
  },
  {
   "cell_type": "code",
   "execution_count": 19,
   "metadata": {},
   "outputs": [
    {
     "name": "stdout",
     "output_type": "stream",
     "text": [
      "The standard deviations of speed values  is 7.225\n",
      "The standard deviations of power values is 41.615\n"
     ]
    }
   ],
   "source": [
    "#print(f\"The variance and standard deviations of speed values  are {df['speed'].var():.3f} and {df['speed'].std():.3f}\")\n",
    "#print(f\"The variance and standard deviations of power values are {df['power'].var():.3f} and {df['power'].std():.3f}\")\n",
    "print(f\"The standard deviations of speed values  is {df['speed'].std():.3f}\")\n",
    "print(f\"The standard deviations of power values is {df['power'].std():.3f}\")\n",
    "# df.var()"
   ]
  },
  {
   "cell_type": "markdown",
   "metadata": {},
   "source": [
    "The *range* of values in the data is shown by the minimum and maximum values and is not considered a robust measure of spread but it is useful for showing possible errors or outliers. "
   ]
  },
  {
   "cell_type": "code",
   "execution_count": 20,
   "metadata": {},
   "outputs": [
    {
     "name": "stdout",
     "output_type": "stream",
     "text": [
      "The minimum speed value is 0.0 while the maximum speed value is 25.0 giving range of 25.0\n",
      "The minimum Power value is 0.0 while the maximum power value is 113.556 giving range of 113.556\n"
     ]
    }
   ],
   "source": [
    "print(f\"The minimum speed value is {df['speed'].min()} while the maximum speed value is { df['speed'].max()} giving range of {df['speed'].max() - df['speed'].min()}\")\n",
    "\n",
    "print(f\"The minimum Power value is {df['power'].min()} while the maximum power value is { df['power'].max()} giving range of {df['power'].max() - df['power'].min()}\")"
   ]
  },
  {
   "cell_type": "markdown",
   "metadata": {},
   "source": [
    "Another measure of spread is determined by the percentiles or quartiles of the values.  \n",
    "The 25% percentiles is the first quartile and one quarter of the values fall below this. \n",
    "The 50% percentile is the median value where half of the data falls below it and half above it. \n",
    "-The 75% percentiles is the 3rd quartile where $\\frac{3}{4}$ of the data points fall below it and one quarter above it. These figures are used to calculate the *Interquartile range (IQR)* which is calculated by taking the 75% percentile or 3rd quartile (Q3) minus the 25% percentile or first quartile (Q1). $$IQR = Q3 - Q1$$\n",
    "Therefore half of the values are captured by the IQR which are the middle values of the data. Data that is more spread out will have a higher IQR. The IQR is considered a more robust measure of spread than the variance and standard deviation and will be more clearly shown in the boxplots further down. The IQR does not consider the data below the 25% percentile or above the 75% percentile which may contain outliers. The statistics here show that the **power** variable in this dataset is much more spread out or variable than the **speed** variable.  "
   ]
  },
  {
   "cell_type": "code",
   "execution_count": 21,
   "metadata": {},
   "outputs": [
    {
     "name": "stdout",
     "output_type": "stream",
     "text": [
      "The median speed value is 12.5505 with the IQR ranging from 6.32 to  18.78\n",
      "The median power value is 41.6455 with the IQR ranging from 5.29 to  93.54\n"
     ]
    }
   ],
   "source": [
    "print(f\"The median speed value is {df['speed'].quantile(q=0.5)} with the IQR ranging from {df['speed'].quantile(q=0.25):.2f} to  {df['speed'].quantile(q=0.75):.2f}\")\n",
    "print(f\"The median power value is {df['power'].quantile(q=0.5)} with the IQR ranging from {df['power'].quantile(q=0.25):.2f} to  {df['power'].quantile(q=0.75):.2f}\")"
   ]
  },
  {
   "cell_type": "code",
   "execution_count": 22,
   "metadata": {},
   "outputs": [
    {
     "data": {
      "image/png": "[encoded data removed]",
      "text/plain": [
       "<Figure size 864x288 with 2 Axes>"
      ]
     },
     "metadata": {
      "needs_background": "light"
     },
     "output_type": "display_data"
    }
   ],
   "source": [
    "f, axes = plt.subplots(1, 2, figsize=(12, 4))\n",
    "sns.set(style=\"ticks\", palette=\"pastel\")\n",
    "sns.boxplot(y=df['speed'], ax=axes[0], color=\"blue\")\n",
    "# add a title\n",
    "axes[0].set_title(\"Boxplot of Speed values\")\n",
    "sns.boxplot(y=df['power'], ax=axes[1], color=\"purple\")\n",
    "axes[1].set_title(\"Boxplot of Power Values\");"
   ]
  },
  {
   "cell_type": "markdown",
   "metadata": {},
   "source": [
    "The skewness of the data is a measure of assymetry which can be seen by the lopsidedness of a boxplot.\n",
    "Wind speed appears to be quite symmetric. The wind speed boxplot is cut pretty much in half by the median. Power appears to be soemwhat skewed to the right as the boxplot shows more of the box to the right or above the median line.\n",
    "A boxplot with the median closer to the lower quartile is considered positively skewed. Positively skewed data has the mean greater than the median and it can be interpreted as having a higher frequency of high valued scores. The lower values of power are closer together than the higher power values.\n"
   ]
  },
  {
   "cell_type": "markdown",
   "metadata": {},
   "source": [
    "### Describing the dataset visualisations - maybe move some visualisations up before the statistics\n",
    "This section will look at some graphical EDA of the univariate data in the dataset.\n",
    "Some visualisations of the dataset that can be used to verify these summary statistics. \n",
    "Plots can highlight any obvious relationships between the different variables in the dataset. They can also be used to identify any groups of observations that are clearly separate to other groups of observations."
   ]
  },
  {
   "cell_type": "markdown",
   "metadata": {},
   "source": [
    "#### Histogram and Kernel Density estimate plots of Speed and Power values\n",
    "Histograms can be used to show the distribution of a single quantitative variable such as the speed or power in this dataset. A histogram visualises the centre and spread of the distribution as well as showing if there is any skew in the data. \n",
    "Such a plot charts the data using adjacent rectangular bars and displays either the frequency or relative frequency of the measurements for a range of values in each interval. Each interval or range of values is a *bin*. The number of bins can be specified although seaborn and matplotlib will automatically choose this. The number of bins chosen usually depends on the amount of data and the shape of the distribution. Changing the number of bins can reveal some other features of the data.\n",
    "\n",
    "\n",
    "(The mode is the most frequently occuring value in a distribution. There is no mode function in pandas or even numpy. It is not really used as such except for describing whether a distribution is unimodal, bimodal or multimodal which depends on how many peaks there is in the distribution. In multimodal distributions there is no unique highest mode.)\n",
    "\n",
    "The histogram of wind speed looks to be uniformly distributed with wind speed values spread out from zero up to 25 which seems to be the max speed value. Power values on the other hand looks bimodla with two defined peaks, one around zero power values and the second around the 100 kilowatt mark. "
   ]
  },
  {
   "cell_type": "code",
   "execution_count": 23,
   "metadata": {},
   "outputs": [
    {
     "data": {
      "image/png": "[encoded data removed]",
      "text/plain": [
       "<Figure size 576x288 with 2 Axes>"
      ]
     },
     "metadata": {
      "needs_background": "light"
     },
     "output_type": "display_data"
    }
   ],
   "source": [
    "%matplotlib inline\n",
    "\n",
    "# plot the histograms of Speed values\n",
    "f, axs = plt.subplots(1, 2, figsize=(8, 4))\n",
    "sns.histplot(data=df, x=\"speed\", ax=axs[0], bins=20, kde=True,color=\"blue\")\n",
    "sns.histplot(data=df, x=\"power\", alpha=.8, legend=False, ax=axs[1], bins=20, kde=True, color=\"purple\")\n",
    "plt.suptitle(\"Distributions of the Speed and Power variables\")\n",
    "f.tight_layout()"
   ]
  },
  {
   "cell_type": "markdown",
   "metadata": {},
   "source": [
    "## Investigating a relationship between Wind Speed and Wind Turbine Power output"
   ]
  },
  {
   "cell_type": "markdown",
   "metadata": {},
   "source": [
    "Scatter plots are useful to identify trends and patterns in a dataset which might indicate a relationship between variables. The dataset here contains two numerical variables wind speed and turbine power values. \n",
    "The ordered pairs of numbers consisting of the independent variable 'wind speed' and the dependent variable 'power output' are plotted below resulting in a joint distribution of the two variables. Each point represents an actual observation is the dataset with a speed and a corresponding power value. \n",
    "The scatter plot shows an increasing linear trend in the middle range of the wind speed values. This would indicate that for increasing wind speeds in this range, power output values do increase, but only after a minimum wind speed has been reached. Power outputs then increase in line with increases in wind speed until it reaches a peak and plateaus.\n",
    "The correlation statistics puts a numerical value on the strength and direction of the relationship. "
   ]
  },
  {
   "cell_type": "code",
   "execution_count": 24,
   "metadata": {},
   "outputs": [
    {
     "data": {
      "image/png": "[encoded data removed]",
      "text/plain": [
       "<Figure size 432x288 with 1 Axes>"
      ]
     },
     "metadata": {
      "needs_background": "light"
     },
     "output_type": "display_data"
    }
   ],
   "source": [
    "# create the plot\n",
    "sns.scatterplot(x=df['speed'],y=df['power'])\n",
    "# add title\n",
    "plt.title(\"Scatter plot of Speed and Power\");"
   ]
  },
  {
   "cell_type": "markdown",
   "metadata": {},
   "source": [
    "### Correlation and Covariance of Speed and Power values\n",
    "For two quantitative variables such as the wind speed and power values, the covariance and correlation can be used to determine whether a linear relationship between variables does exist and to show if one variable tends to occur with large or small values of another variable.\n",
    "\n",
    "The [Covariance](https://en.wikipedia.org/wiki/Covariance) is a measure of the joint variability of two random variables and the (Pearson) [correlation coefficient](https://en.wikipedia.org/wiki/Pearson_correlation_coefficient) is the normalised version of the covariance which shows by its magnitude the strength of the linear relation.\n",
    "\n",
    "The covariance can be used to see how much two variables such as wind speed and wind turbine power vary with each other and in what direction turbine power output will move when wind speed value moves. \n",
    "If the covariance here is positive it would mean that when the wind speed measurement is above it's mean then the wind turbine power measurement will more than likely be above it's mean also and vice versa. \n",
    "If the covarince here is negative, when wind speed measurements are above their mean value, then the wind turbine power output is likely to be below its mean value.\n",
    "If there is a zero covariance (or a covariance value close to zero) this implies that the two variables wind speed and wind turbine output vary independently of each other. \n",
    "\n",
    "The correlation statistics are computed from pairs of arguments. If there is a strong positive relationship between the wind speed and wind turbine power output variables, we would expect to see a correlation coefficient close to 1. A strong negative relationship would have a correlation coefficient value close to -1. A value close to zero would indicate that there is no relationship between the variables. The correlation is easier to interpret than the covariance as it does not depend on the units of measurement or which variable is the independent variable and which is the dependent variable. \n",
    "\n",
    "Pandas can be used to easily calculate the covariance and correlation coefficient. The correlation coefficient here of 0.85 shows there is a very strong positive relationship between the wind speed and turbine power output.\n",
    "\n",
    "(It should be noted that correlation however is not the same as causation.)\n"
   ]
  },
  {
   "cell_type": "code",
   "execution_count": 25,
   "metadata": {},
   "outputs": [
    {
     "data": {
      "text/html": [
       "<div>\n",
       "<style scoped>\n",
       "    .dataframe tbody tr th:only-of-type {\n",
       "        vertical-align: middle;\n",
       "    }\n",
       "\n",
       "    .dataframe tbody tr th {\n",
       "        vertical-align: top;\n",
       "    }\n",
       "\n",
       "    .dataframe thead th {\n",
       "        text-align: right;\n",
       "    }\n",
       "</style>\n",
       "<table border=\"1\" class=\"dataframe\">\n",
       "  <thead>\n",
       "    <tr style=\"text-align: right;\">\n",
       "      <th></th>\n",
       "      <th>speed</th>\n",
       "      <th>power</th>\n",
       "    </tr>\n",
       "  </thead>\n",
       "  <tbody>\n",
       "    <tr>\n",
       "      <th>speed</th>\n",
       "      <td>1.000000</td>\n",
       "      <td>0.853778</td>\n",
       "    </tr>\n",
       "    <tr>\n",
       "      <th>power</th>\n",
       "      <td>0.853778</td>\n",
       "      <td>1.000000</td>\n",
       "    </tr>\n",
       "  </tbody>\n",
       "</table>\n",
       "</div>"
      ],
      "text/plain": [
       "          speed     power\n",
       "speed  1.000000  0.853778\n",
       "power  0.853778  1.000000"
      ]
     },
     "execution_count": 25,
     "metadata": {},
     "output_type": "execute_result"
    }
   ],
   "source": [
    "df.cov()\n",
    "df.corr()"
   ]
  },
  {
   "cell_type": "markdown",
   "metadata": {},
   "source": [
    "### Regression plots\n",
    "The Python Seaborn library has some regression plots that can be used to quickly visualise relationships and patterns that may exist in the data. They use statistical models to estimate a simple relationship between sets of observations and are mainly used to visualise patterns in a dataset during the exploratory data analysis. There are other Python libraries such as **statsmodels** that are recommended for looking at more quantitative measures concerning the fit of the regression models which can be looked at later on!.\n",
    "\n",
    "The scatter plot earlier showed a relationship between wind speeds and wind turbine power that is not quite linear. There does seem to be a somewhat linear relationship for wind speeds between values of about 10 up to about 18 or so. Therefore it is worth looking at higher order polynomials as well as linear regression.\n",
    "The plot below shows that the polynomial with order 3 looks a much better fit to the line than the first or second order linear regression lines. "
   ]
  },
  {
   "cell_type": "code",
   "execution_count": 26,
   "metadata": {},
   "outputs": [
    {
     "data": {
      "image/png": "[encoded data removed]",
      "text/plain": [
       "<Figure size 864x432 with 4 Axes>"
      ]
     },
     "metadata": {
      "needs_background": "light"
     },
     "output_type": "display_data"
    }
   ],
   "source": [
    "f, axes = plt.subplots(2, 2, figsize=(12, 6))\n",
    "x = \"speed\"\n",
    "y = \"power\"\n",
    "sns.regplot(x=\"speed\", y=\"power\", data=df, ax=axes[0,0], label=\"order = 1\", ci=False); axes[0,0].legend()\n",
    "sns.regplot(x=\"speed\", y=\"power\", data=df, order=2, ax=axes[0,1], label=\"order =2\", ci=False); axes[0,1].legend()\n",
    "sns.regplot(x=\"speed\", y=\"power\", data=df, order=3, ax=axes[1,0], label=\"order =3\", ci=False); axes[1,0].legend()\n",
    "sns.regplot(x=\"speed\", y=\"power\", data=df, order=4, ax=axes[1,1], label = \"order=4\"); axes[1,1].legend()\n",
    "plt.legend()\n",
    "plt.suptitle(\"Trying higher order polynomial regression functions to Speed and Power values\")\n",
    "plt.show()"
   ]
  },
  {
   "cell_type": "markdown",
   "metadata": {},
   "source": []
  },
  {
   "cell_type": "markdown",
   "metadata": {},
   "source": [
    "#### Using a lowess smoother to fit a regression of speed and power\n",
    "Another way of fitting a nonparametric regression is to use\n",
    "[lowess smoothing](https://www.statisticshowto.datasciencecentral.com/lowess-smoothing/) to fit a line to a scatter plot where noisy data values, sparse data points or weak interrelationships might interfere with your ability to see a line of best fit. (Lowess smoothing is also used for linear regression where least squares fitting doesn’t create a line of good fit or is too labor-intensive to use)\n",
    "\n",
    "Lowess are non-parametric strategies for fitting a smooth curve to data points. A parametric fitting assumes the data fits some distribution which can misrepresent the data whereas non-parametric smoothers try to fund a curve of best fit without assuming the data must fit some distribution shape.\n"
   ]
  },
  {
   "cell_type": "code",
   "execution_count": 27,
   "metadata": {},
   "outputs": [
    {
     "data": {
      "image/png": "[encoded data removed]",
      "text/plain": [
       "<Figure size 360x360 with 1 Axes>"
      ]
     },
     "metadata": {
      "needs_background": "light"
     },
     "output_type": "display_data"
    }
   ],
   "source": [
    "sns.lmplot(x=\"speed\", y=\"power\", data=df, lowess=True)\n",
    "plt.title(\"using a lowess smoother\")\n",
    "plt.show()"
   ]
  },
  {
   "cell_type": "markdown",
   "metadata": {},
   "source": [
    "Residual plots can be used to check whether the simple regression model of speed ~ power  is appropriate for a dataset.\n",
    "A residplot fits and removes a simple linear regression and then plots the residual values for each observation. Ideally, these values should be randomly scattered around y = 0. If there is structure in the residuals, this suggests that simple linear regression is not appropriate for the data.\n",
    "\n",
    "If the residual plot does have a shape this suggest non-linearity in the data set."
   ]
  },
  {
   "cell_type": "code",
   "execution_count": 28,
   "metadata": {
    "scrolled": true
   },
   "outputs": [
    {
     "data": {
      "image/png": "[encoded data removed]",
      "text/plain": [
       "<Figure size 432x288 with 1 Axes>"
      ]
     },
     "metadata": {
      "needs_background": "light"
     },
     "output_type": "display_data"
    }
   ],
   "source": [
    "sns.residplot(x=\"speed\", y=\"power\", data=df, scatter_kws={\"s\": 80})\n",
    "plt.title(\"Residual plot\"); plt.show()"
   ]
  },
  {
   "cell_type": "markdown",
   "metadata": {},
   "source": [
    "---\n",
    "## Researching Wind Turbines\n",
    "As there is little in the dataset apart from two columns of 500 floating numbers, I need to do a little research to find out what these values represent and how they are quantified. Power is probably in kilowatts and speed in something per hour!. There is a mention of 15 metres per second at the turbine in the video.\n",
    "I am looking up some information about Irish wind farms. I'm presuming where exactly the data came from does not matter. \n",
    "\n",
    "[The Irish Wind Energy Association (IWEA)](https://www.iwea.com/about-us/about-us) is the representative body for the Irish wind industry, working to promote wind energy as an essential, economical and environmentally friendly part of the country’s low-carbon energy future. \n",
    "They note here that in 2018 wind energy provided 29 per cent of Ireland’s electricity.\n",
    "\n",
    "Their [FAQs](https://www.iwea.com/about-wind/faqs) page tells us that each quarter, both EirGrid and ESBN publish updated wind farm statistics for Ireland at the following links:\n",
    "[ESBN Connected Wind Farms](https://www.esbnetworks.ie/new-connections/generator-connections/generator-connection-statistics).\n",
    "There is currently 4,130 MW of installed capacity in ROI and new Eirgrid link here http://www.eirgridgroup.com/how-the-grid-works/renewables/\n",
    "\n",
    "Also on this website is a question about how much electricity a turbine generates. (See FAQ 16.)\n",
    "\n",
    ">The amount of electricity a turbine can generate depends on the type of turbine and the wind conditions at any time. There are many different models of turbines that can generate different amounts of electricity. Ireland’s largest wind farm is the Galway Wind Park in Connemara. The turbines there are 3 MW turbines. To use them as an example, when the wind is blowing steadily they can each generate 3 MW of electricity. A megawatt (MW) is a unit of energy.A single megawatt is equivalent to around 1,000 kilowatts. Boiling a kettle, for example, takes around two kilowatts.\n",
    "\n",
    "Another website of interest is Eirgrid's [Smart grid dashboard](http://smartgriddashboard.eirgrid.com/#all/about).\n",
    "The [dashboard](http://smartgriddashboard.eirgrid.com/#all/wind)shows actual and forecast wind generation by day, week and month for allwind farms on the system.\n",
    "\n",
    "The [sem-o.com](https://www.sem-o.com/links/) that we looked at in Data Representation might be worth a look also. It has a page of links. Not sure yet how much detail if any I need. The data.gov.ie might have some datasets.\n",
    "Also the EU Open data portal has some datasets.\n",
    "https://data.europa.eu/euodp/en/data/dataset/jrc-emhires-wind-generation-time-series\n",
    "[Electricity from wind power; AC; production mix, at power plant; < 1kV (Location: RER)](https://data.europa.eu/euodp/en/data/dataset/jrc-eplca-fe1c3d03-072b-4da7-8fff-3505f9b01efc)\n",
    "\n",
    "- [WindEurope](https://windeurope.org/data-and-analysis/) has facts and issues about wind energy in Europe, in particular the section on [Wind Energy Basics](https://windeurope.org/about-wind/wind-basics/)\n",
    "\n",
    "Watching the video on this project again, the lecturer Ian notes how the idea for the project came about. \n",
    "Say a company produces power using wind turbines. In the electricity market, producers of electricity would sell their electricity ahead of time.  They enter into a contract that says they will produce so many kilowatts  electricity during at a certain time, maybe between 11am tomorrow and 11am the next day. The price is negotiated today and tomorrow you start generating electricity and pushing it onto the supply grid. \n",
    "It is easier for those burning coal or gas or doing nuclear fusion to burn the right amount to generate the right amount of electricity. With wind turbines however you don't know how much electricity you will generate tomorrow because your generation of electricity depends on wind power. As you don't know how much wind there is going to be tomorrow you make an estimate by getting some meterological data from Met Eireann or some other weather prediction agent and use the weather prediction to help you predict how much electricity you are likely to produce. The prediction may not always be correct but you aim to reduce how often your calculations are wrong.\n",
    "\n",
    "A first step in that kind of workflow would be to say when the wind speed is X amount, for example at 15 metres per second at the turbine, how much power is produced from the wind turbines. The wind turbine supplier would have provided a rough estimate of how much power the turbine is capable of producing at 15 metres per second. Knowing all this is not really necessary for this project but to instead take the dataset with the two columns of numerical values and be able to predict one of the numbers from the other.\n",
    "\n"
   ]
  },
  {
   "cell_type": "markdown",
   "metadata": {},
   "source": [
    "\n",
    "Based on above, it is likely that the wind speed is measuring in so many metres per second. The video mentions 15 as an example but I need to check this out. Power is most likely in kilowatts. I need to look up some more on this.\n",
    "As noted above in the initial investigation of the dataset, there are quite a number of zero values for power in the dataset. I need to determine whether these values are valid and if so should they remain in the data when I go to the next step of training a model. As theorised earlier, perhaps some of the low or zero values are there when a wind turbine is powered on after being off and taking some time or effort to be productive. However I need to check as I don't know the physics or technical reasons behind this. While most of the zero power values are associated with low values of speed, there are some that are not and occur when the wind speed is actually at it's max in the dataset so therefore there must be another reason that the power output is zero at such levels, as if the wind turbine is actually power off completely and maybe this is the case. Maybe it switches off after a certain max wind speed for safety or other reasons. These values do look like outliers on the scatter plot.\n",
    "The scatter plot seems to have three different trends apparent as shown earlier, the first section at low values of wind speed where the wind turbine values are clustered around zero (including the 10% of observations that have zero power values), the second section where there seems to be a linear trend between wind speed and power output and thirdly the last section where the values of power have reached a peak at higher wind speeds and plateau, and also the outliers here.\n",
    "\n",
    "\n",
    "---\n",
    "### How does wind energy work\n",
    "Find out some more on how wind energy works. Look at the section on [Wind Energy Basics](https://windeurope.org/about-wind/wind-basics/) on WindEurope website.\n",
    "Few facts here:\n",
    "- energy is the ability to do work\n",
    "- [What is Energy ?](https://windeurope.org/about-wind/wind-basics/). \n",
    ">Generally, energy can be categorised into either kinetic energy (the energy of moving objects) or potential energy (energy that is stored). The different types of energy include thermal energy, radiant energy, chemical energy, electrical energy, motion energy, sound energy, elastic energy and gravitational energy.\n",
    "In the case of wind energy, wind turbines take the kinetic energy that’s in the wind and convert that kinetic energy into mechanical power. We mostly use this mechanical power in the form of electricity.\n",
    "\n",
    "There is plenty more her on how wind is actually caused by 3 things: the heating of the atmosphere by the sun,  the rotation of the earth and the Earth's surface irregularities.\n",
    "Wind energy captures the energy of the wind and converts it to electricity. It is an alternative to burninf fossil fuels.\n",
    "A wind turbine is a device that converts kinetic energy from the wind into electricity. A group of wind turbines is a wind farm. There are both on-shore and off-shore types. Their output ranges from as small as 100 kilowatts to as big as 12 megawatts.\n",
    "There are three main variables determining how much electricity a turbine can produce.\n",
    "- Wind speed\n",
    "- Blade radius\n",
    "- Air density.\n",
    "\n",
    "Our dataset only has wind speed and power values so perhaps we can assume these values are constant for the dataset, particularly I would think the blade radius. \n",
    "The article also outlines what happens when the wind doesn't blow. A wind farms location is usually chosen purposely. Therefore when a wind turbine is not turning it is usually because of maintenance, or because it must be stopped for safety reasons in case of strong winds or a storm. So safety reasons would account for the zero power values at the very high values of wind speed and maintenance could account for some of the other zero values Therefore I may need to see exactly what the pattern is here. Perhaps then some of the zero values should be ommited from some of the analysis and model training, or perhaps done alongside."
   ]
  },
  {
   "cell_type": "code",
   "execution_count": 29,
   "metadata": {},
   "outputs": [
    {
     "data": {
      "text/html": [
       "<div>\n",
       "<style scoped>\n",
       "    .dataframe tbody tr th:only-of-type {\n",
       "        vertical-align: middle;\n",
       "    }\n",
       "\n",
       "    .dataframe tbody tr th {\n",
       "        vertical-align: top;\n",
       "    }\n",
       "\n",
       "    .dataframe thead th {\n",
       "        text-align: right;\n",
       "    }\n",
       "</style>\n",
       "<table border=\"1\" class=\"dataframe\">\n",
       "  <thead>\n",
       "    <tr style=\"text-align: right;\">\n",
       "      <th></th>\n",
       "      <th>speed</th>\n",
       "      <th>power</th>\n",
       "    </tr>\n",
       "  </thead>\n",
       "  <tbody>\n",
       "    <tr>\n",
       "      <th>count</th>\n",
       "      <td>500.000000</td>\n",
       "      <td>500.000000</td>\n",
       "    </tr>\n",
       "    <tr>\n",
       "      <th>mean</th>\n",
       "      <td>12.590398</td>\n",
       "      <td>48.014584</td>\n",
       "    </tr>\n",
       "    <tr>\n",
       "      <th>std</th>\n",
       "      <td>7.224991</td>\n",
       "      <td>41.614572</td>\n",
       "    </tr>\n",
       "    <tr>\n",
       "      <th>min</th>\n",
       "      <td>0.000000</td>\n",
       "      <td>0.000000</td>\n",
       "    </tr>\n",
       "    <tr>\n",
       "      <th>25%</th>\n",
       "      <td>6.324750</td>\n",
       "      <td>5.288000</td>\n",
       "    </tr>\n",
       "    <tr>\n",
       "      <th>50%</th>\n",
       "      <td>12.550500</td>\n",
       "      <td>41.645500</td>\n",
       "    </tr>\n",
       "    <tr>\n",
       "      <th>75%</th>\n",
       "      <td>18.775250</td>\n",
       "      <td>93.537000</td>\n",
       "    </tr>\n",
       "    <tr>\n",
       "      <th>max</th>\n",
       "      <td>25.000000</td>\n",
       "      <td>113.556000</td>\n",
       "    </tr>\n",
       "  </tbody>\n",
       "</table>\n",
       "</div>"
      ],
      "text/plain": [
       "            speed       power\n",
       "count  500.000000  500.000000\n",
       "mean    12.590398   48.014584\n",
       "std      7.224991   41.614572\n",
       "min      0.000000    0.000000\n",
       "25%      6.324750    5.288000\n",
       "50%     12.550500   41.645500\n",
       "75%     18.775250   93.537000\n",
       "max     25.000000  113.556000"
      ]
     },
     "execution_count": 29,
     "metadata": {},
     "output_type": "execute_result"
    }
   ],
   "source": [
    "df.describe()"
   ]
  },
  {
   "cell_type": "code",
   "execution_count": 30,
   "metadata": {},
   "outputs": [
    {
     "data": {
      "text/html": [
       "<div>\n",
       "<style scoped>\n",
       "    .dataframe tbody tr th:only-of-type {\n",
       "        vertical-align: middle;\n",
       "    }\n",
       "\n",
       "    .dataframe tbody tr th {\n",
       "        vertical-align: top;\n",
       "    }\n",
       "\n",
       "    .dataframe thead th {\n",
       "        text-align: right;\n",
       "    }\n",
       "</style>\n",
       "<table border=\"1\" class=\"dataframe\">\n",
       "  <thead>\n",
       "    <tr style=\"text-align: right;\">\n",
       "      <th></th>\n",
       "      <th>speed</th>\n",
       "      <th>power</th>\n",
       "    </tr>\n",
       "  </thead>\n",
       "  <tbody>\n",
       "    <tr>\n",
       "      <th>499</th>\n",
       "      <td>25.000</td>\n",
       "      <td>0.0</td>\n",
       "    </tr>\n",
       "    <tr>\n",
       "      <th>498</th>\n",
       "      <td>24.950</td>\n",
       "      <td>0.0</td>\n",
       "    </tr>\n",
       "    <tr>\n",
       "      <th>497</th>\n",
       "      <td>24.875</td>\n",
       "      <td>0.0</td>\n",
       "    </tr>\n",
       "    <tr>\n",
       "      <th>496</th>\n",
       "      <td>24.850</td>\n",
       "      <td>0.0</td>\n",
       "    </tr>\n",
       "    <tr>\n",
       "      <th>495</th>\n",
       "      <td>24.775</td>\n",
       "      <td>0.0</td>\n",
       "    </tr>\n",
       "  </tbody>\n",
       "</table>\n",
       "</div>"
      ],
      "text/plain": [
       "      speed  power\n",
       "499  25.000    0.0\n",
       "498  24.950    0.0\n",
       "497  24.875    0.0\n",
       "496  24.850    0.0\n",
       "495  24.775    0.0"
      ]
     },
     "execution_count": 30,
     "metadata": {},
     "output_type": "execute_result"
    }
   ],
   "source": [
    "df.sort_values(by='speed', ascending=False).head()"
   ]
  },
  {
   "cell_type": "markdown",
   "metadata": {},
   "source": [
    "### Cleaning the dataset\n",
    "#### update!\n",
    "I have decided to drop some of the zero values after all. After trying to use neural networks below, the cost did not fall below a certain value and it seems to me from the resulting plots that the zero power values at the highest speed values (>24.4) were throwing things out. I think we can just say that when speed values are over 24.4 approx that the power values will be zero as it looks like the turbines are switched off for safety. We can only predict values for power when the turbines are turned on! \n",
    "\n",
    "So first a refresher on where all the zero values occur. While there is only one zero value for the speed variable, there are 40 zero values for the power variable. These mostly occur below a certain value of speed but located alongside non-zero power values and there are a few that are associated with medium and higher speed values of speed. Most of the data points in the dataset are unique values. The one datapoint with a zero speed value has a zero power value as expected.\n"
   ]
  },
  {
   "cell_type": "raw",
   "metadata": {},
   "source": [
    "# show the unique values\n",
    "df.speed.unique()\n",
    "# a count of the unique speed values\n",
    "df.speed.value_counts() # 490\n",
    "# a count of the unique power values\n",
    "df.power.value_counts() # 451"
   ]
  },
  {
   "cell_type": "code",
   "execution_count": 112,
   "metadata": {},
   "outputs": [
    {
     "data": {
      "text/plain": [
       "490"
      ]
     },
     "execution_count": 112,
     "metadata": {},
     "output_type": "execute_result"
    }
   ],
   "source": [
    "len(df.groupby('speed')) # 490\n",
    "df.groupby('speed')['power'].agg(['count', 'size', 'nunique'])\n",
    "len(df.groupby('power')) # 451\n",
    "\n",
    "df.groupby('power')['speed'].agg(['count', 'size', 'nunique'])\n",
    "len(df[['speed', 'power']].drop_duplicates()) # 490"
   ]
  },
  {
   "cell_type": "markdown",
   "metadata": {},
   "source": [
    "#### Where do the zero values occur?"
   ]
  },
  {
   "cell_type": "raw",
   "metadata": {},
   "source": [
    "# pull out the rows where power is zero\n",
    "df[df.power==0]"
   ]
  },
  {
   "cell_type": "code",
   "execution_count": 136,
   "metadata": {
    "scrolled": false
   },
   "outputs": [
    {
     "data": {
      "text/plain": [
       "speed    1\n",
       "power    1\n",
       "dtype: int64"
      ]
     },
     "execution_count": 136,
     "metadata": {},
     "output_type": "execute_result"
    }
   ],
   "source": [
    "# the rows where both values are zer0\n",
    "df[(df['speed']==0) & (df['power']==0)].count() # only 1"
   ]
  },
  {
   "cell_type": "code",
   "execution_count": 92,
   "metadata": {
    "scrolled": true
   },
   "outputs": [
    {
     "data": {
      "text/plain": [
       "speed    39\n",
       "power    39\n",
       "dtype: int64"
      ]
     },
     "execution_count": 92,
     "metadata": {},
     "output_type": "execute_result"
    }
   ],
   "source": [
    "# 39 zero power values\n",
    "df[df['power']==0].count(0)"
   ]
  },
  {
   "cell_type": "code",
   "execution_count": 134,
   "metadata": {
    "scrolled": false
   },
   "outputs": [
    {
     "data": {
      "text/html": [
       "<div>\n",
       "<style scoped>\n",
       "    .dataframe tbody tr th:only-of-type {\n",
       "        vertical-align: middle;\n",
       "    }\n",
       "\n",
       "    .dataframe tbody tr th {\n",
       "        vertical-align: top;\n",
       "    }\n",
       "\n",
       "    .dataframe thead th {\n",
       "        text-align: right;\n",
       "    }\n",
       "</style>\n",
       "<table border=\"1\" class=\"dataframe\">\n",
       "  <thead>\n",
       "    <tr style=\"text-align: right;\">\n",
       "      <th></th>\n",
       "      <th>speed</th>\n",
       "      <th>power</th>\n",
       "    </tr>\n",
       "  </thead>\n",
       "  <tbody>\n",
       "  </tbody>\n",
       "</table>\n",
       "</div>"
      ],
      "text/plain": [
       "Empty DataFrame\n",
       "Columns: [speed, power]\n",
       "Index: []"
      ]
     },
     "execution_count": 134,
     "metadata": {},
     "output_type": "execute_result"
    }
   ],
   "source": [
    "# there are no points where speed is greater than 24.4 and power value is not zero\n",
    "df[df.speed>24.4]\n",
    "df[(df.speed > 24.4) & (df.power>0.0)]"
   ]
  },
  {
   "cell_type": "code",
   "execution_count": 73,
   "metadata": {
    "scrolled": true
   },
   "outputs": [
    {
     "data": {
      "text/html": [
       "<div>\n",
       "<style scoped>\n",
       "    .dataframe tbody tr th:only-of-type {\n",
       "        vertical-align: middle;\n",
       "    }\n",
       "\n",
       "    .dataframe tbody tr th {\n",
       "        vertical-align: top;\n",
       "    }\n",
       "\n",
       "    .dataframe thead th {\n",
       "        text-align: right;\n",
       "    }\n",
       "</style>\n",
       "<table border=\"1\" class=\"dataframe\">\n",
       "  <thead>\n",
       "    <tr style=\"text-align: right;\">\n",
       "      <th></th>\n",
       "      <th>speed</th>\n",
       "      <th>power</th>\n",
       "    </tr>\n",
       "  </thead>\n",
       "  <tbody>\n",
       "    <tr>\n",
       "      <th>490</th>\n",
       "      <td>24.499</td>\n",
       "      <td>0.0</td>\n",
       "    </tr>\n",
       "    <tr>\n",
       "      <th>491</th>\n",
       "      <td>24.525</td>\n",
       "      <td>0.0</td>\n",
       "    </tr>\n",
       "    <tr>\n",
       "      <th>492</th>\n",
       "      <td>24.575</td>\n",
       "      <td>0.0</td>\n",
       "    </tr>\n",
       "    <tr>\n",
       "      <th>493</th>\n",
       "      <td>24.650</td>\n",
       "      <td>0.0</td>\n",
       "    </tr>\n",
       "    <tr>\n",
       "      <th>494</th>\n",
       "      <td>24.750</td>\n",
       "      <td>0.0</td>\n",
       "    </tr>\n",
       "    <tr>\n",
       "      <th>495</th>\n",
       "      <td>24.775</td>\n",
       "      <td>0.0</td>\n",
       "    </tr>\n",
       "    <tr>\n",
       "      <th>496</th>\n",
       "      <td>24.850</td>\n",
       "      <td>0.0</td>\n",
       "    </tr>\n",
       "    <tr>\n",
       "      <th>497</th>\n",
       "      <td>24.875</td>\n",
       "      <td>0.0</td>\n",
       "    </tr>\n",
       "    <tr>\n",
       "      <th>498</th>\n",
       "      <td>24.950</td>\n",
       "      <td>0.0</td>\n",
       "    </tr>\n",
       "    <tr>\n",
       "      <th>499</th>\n",
       "      <td>25.000</td>\n",
       "      <td>0.0</td>\n",
       "    </tr>\n",
       "  </tbody>\n",
       "</table>\n",
       "</div>"
      ],
      "text/plain": [
       "      speed  power\n",
       "490  24.499    0.0\n",
       "491  24.525    0.0\n",
       "492  24.575    0.0\n",
       "493  24.650    0.0\n",
       "494  24.750    0.0\n",
       "495  24.775    0.0\n",
       "496  24.850    0.0\n",
       "497  24.875    0.0\n",
       "498  24.950    0.0\n",
       "499  25.000    0.0"
      ]
     },
     "execution_count": 73,
     "metadata": {},
     "output_type": "execute_result"
    }
   ],
   "source": [
    "df.loc[(df.speed>24.4)]"
   ]
  },
  {
   "cell_type": "code",
   "execution_count": 143,
   "metadata": {},
   "outputs": [],
   "source": [
    "#https://pandas.pydata.org/pandas-docs/stable/reference/api/pandas.DataFrame.drop.html\n",
    "# https://thispointer.com/python-pandas-how-to-drop-rows-in-dataframe-by-conditions-on-column-values/\n",
    "df.drop(df.loc[(df.speed>24.4)].index, inplace=True)"
   ]
  },
  {
   "cell_type": "code",
   "execution_count": 144,
   "metadata": {
    "scrolled": true
   },
   "outputs": [
    {
     "data": {
      "text/html": [
       "<div>\n",
       "<style scoped>\n",
       "    .dataframe tbody tr th:only-of-type {\n",
       "        vertical-align: middle;\n",
       "    }\n",
       "\n",
       "    .dataframe tbody tr th {\n",
       "        vertical-align: top;\n",
       "    }\n",
       "\n",
       "    .dataframe thead th {\n",
       "        text-align: right;\n",
       "    }\n",
       "</style>\n",
       "<table border=\"1\" class=\"dataframe\">\n",
       "  <thead>\n",
       "    <tr style=\"text-align: right;\">\n",
       "      <th></th>\n",
       "      <th>speed</th>\n",
       "      <th>power</th>\n",
       "    </tr>\n",
       "  </thead>\n",
       "  <tbody>\n",
       "    <tr>\n",
       "      <th>count</th>\n",
       "      <td>490.000000</td>\n",
       "      <td>490.000000</td>\n",
       "    </tr>\n",
       "    <tr>\n",
       "      <th>mean</th>\n",
       "      <td>12.342347</td>\n",
       "      <td>48.994473</td>\n",
       "    </tr>\n",
       "    <tr>\n",
       "      <th>std</th>\n",
       "      <td>7.084113</td>\n",
       "      <td>41.461788</td>\n",
       "    </tr>\n",
       "    <tr>\n",
       "      <th>min</th>\n",
       "      <td>0.000000</td>\n",
       "      <td>0.000000</td>\n",
       "    </tr>\n",
       "    <tr>\n",
       "      <th>25%</th>\n",
       "      <td>6.162250</td>\n",
       "      <td>5.643750</td>\n",
       "    </tr>\n",
       "    <tr>\n",
       "      <th>50%</th>\n",
       "      <td>12.374500</td>\n",
       "      <td>44.094500</td>\n",
       "    </tr>\n",
       "    <tr>\n",
       "      <th>75%</th>\n",
       "      <td>18.411750</td>\n",
       "      <td>93.697000</td>\n",
       "    </tr>\n",
       "    <tr>\n",
       "      <th>max</th>\n",
       "      <td>24.399000</td>\n",
       "      <td>113.556000</td>\n",
       "    </tr>\n",
       "  </tbody>\n",
       "</table>\n",
       "</div>"
      ],
      "text/plain": [
       "            speed       power\n",
       "count  490.000000  490.000000\n",
       "mean    12.342347   48.994473\n",
       "std      7.084113   41.461788\n",
       "min      0.000000    0.000000\n",
       "25%      6.162250    5.643750\n",
       "50%     12.374500   44.094500\n",
       "75%     18.411750   93.697000\n",
       "max     24.399000  113.556000"
      ]
     },
     "execution_count": 144,
     "metadata": {},
     "output_type": "execute_result"
    }
   ],
   "source": [
    "df.describe()"
   ]
  },
  {
   "cell_type": "markdown",
   "metadata": {},
   "source": [
    "# Machine Learning.\n",
    "\n",
    "Here I am going to start looking at applying some machine learning algorithms to the dataset. \n",
    "\n",
    "The goal of the project is to predict wind power from wind speed and therefore this problem falls into supervised learning. \n",
    ">Supervised learning is where you have input variables (x) and an output variable (Y) and you use an algorithm to learn the mapping function from the input to the output [Machine Learning Mastery](https://machinelearningmastery.com/supervised-and-unsupervised-machine-learning-algorithms/) which is precisely what we have been asked to do here.\n",
    "\n",
    "The algorithms I will start looking at are as follows:\n",
    "\n",
    "- Regression: Predicting a continuous-valued attribute associated with an object.\n",
    "I had a look at the regression plots earlier, simple linear regression does not adequately model the relationship between the wind and speed values over the entire dataset while higher order polynomials captured more of the relationship. The simple linear model clearly underfit the data. The correlation statistics did show a high correlation between the variables with a value of 0.853778 but this doesn't mean the relationship is linear.\n",
    "There were large sections of the dataset that were either under the regression line or above the regression line.\n",
    "The higher order polynomials did not fit the data perfectly though. \n",
    "\n",
    "The first round I did not clean the dataset. I don't think there is any loss of information now by dropping the zero values of power for the very high values of speed. \n",
    "I also had not split the dataset into a training and test set as it was more for exploratory analysis.\n",
    "I think I did do some scaling..\n",
    "\n",
    "I used numpy polyfit functions the first time around but now will use scikit learn.\n",
    "https://scikit-learn.org/stable/modules/linear_model.html#ordinary-least-squares\n",
    "LinearRegression fits a linear model with coefficients to minimize the residual sum of squares between the observed targets in the dataset, and the targets predicted by the linear approximation. LinearRegression will take in its fit method arrays X, y and will store the coefficients of the linear model in its coef_ member:\n"
   ]
  },
  {
   "cell_type": "code",
   "execution_count": 139,
   "metadata": {},
   "outputs": [],
   "source": [
    "# first importing the following libraries\n",
    "# Numerical arrays.\n",
    "import numpy as np\n",
    "import pandas as pd  \n",
    "# plotting\n",
    "import matplotlib.pyplot as plt \n",
    "import seaborn as sns\n",
    "\n",
    "import csv\n",
    "# Import linear_model from sklearn.\n",
    "import sklearn.linear_model as lm"
   ]
  },
  {
   "cell_type": "code",
   "execution_count": 141,
   "metadata": {},
   "outputs": [
    {
     "data": {
      "text/html": [
       "<div>\n",
       "<style scoped>\n",
       "    .dataframe tbody tr th:only-of-type {\n",
       "        vertical-align: middle;\n",
       "    }\n",
       "\n",
       "    .dataframe tbody tr th {\n",
       "        vertical-align: top;\n",
       "    }\n",
       "\n",
       "    .dataframe thead th {\n",
       "        text-align: right;\n",
       "    }\n",
       "</style>\n",
       "<table border=\"1\" class=\"dataframe\">\n",
       "  <thead>\n",
       "    <tr style=\"text-align: right;\">\n",
       "      <th></th>\n",
       "      <th>speed</th>\n",
       "      <th>power</th>\n",
       "    </tr>\n",
       "  </thead>\n",
       "  <tbody>\n",
       "    <tr>\n",
       "      <th>count</th>\n",
       "      <td>500.000000</td>\n",
       "      <td>500.000000</td>\n",
       "    </tr>\n",
       "    <tr>\n",
       "      <th>mean</th>\n",
       "      <td>12.590398</td>\n",
       "      <td>48.014584</td>\n",
       "    </tr>\n",
       "    <tr>\n",
       "      <th>std</th>\n",
       "      <td>7.224991</td>\n",
       "      <td>41.614572</td>\n",
       "    </tr>\n",
       "    <tr>\n",
       "      <th>min</th>\n",
       "      <td>0.000000</td>\n",
       "      <td>0.000000</td>\n",
       "    </tr>\n",
       "    <tr>\n",
       "      <th>25%</th>\n",
       "      <td>6.324750</td>\n",
       "      <td>5.288000</td>\n",
       "    </tr>\n",
       "    <tr>\n",
       "      <th>50%</th>\n",
       "      <td>12.550500</td>\n",
       "      <td>41.645500</td>\n",
       "    </tr>\n",
       "    <tr>\n",
       "      <th>75%</th>\n",
       "      <td>18.775250</td>\n",
       "      <td>93.537000</td>\n",
       "    </tr>\n",
       "    <tr>\n",
       "      <th>max</th>\n",
       "      <td>25.000000</td>\n",
       "      <td>113.556000</td>\n",
       "    </tr>\n",
       "  </tbody>\n",
       "</table>\n",
       "</div>"
      ],
      "text/plain": [
       "            speed       power\n",
       "count  500.000000  500.000000\n",
       "mean    12.590398   48.014584\n",
       "std      7.224991   41.614572\n",
       "min      0.000000    0.000000\n",
       "25%      6.324750    5.288000\n",
       "50%     12.550500   41.645500\n",
       "75%     18.775250   93.537000\n",
       "max     25.000000  113.556000"
      ]
     },
     "execution_count": 141,
     "metadata": {},
     "output_type": "execute_result"
    }
   ],
   "source": [
    "df.describe()"
   ]
  },
  {
   "cell_type": "code",
   "execution_count": 34,
   "metadata": {},
   "outputs": [
    {
     "data": {
      "text/html": [
       "<div>\n",
       "<style scoped>\n",
       "    .dataframe tbody tr th:only-of-type {\n",
       "        vertical-align: middle;\n",
       "    }\n",
       "\n",
       "    .dataframe tbody tr th {\n",
       "        vertical-align: top;\n",
       "    }\n",
       "\n",
       "    .dataframe thead th {\n",
       "        text-align: right;\n",
       "    }\n",
       "</style>\n",
       "<table border=\"1\" class=\"dataframe\">\n",
       "  <thead>\n",
       "    <tr style=\"text-align: right;\">\n",
       "      <th></th>\n",
       "      <th>speed</th>\n",
       "      <th>power</th>\n",
       "    </tr>\n",
       "  </thead>\n",
       "  <tbody>\n",
       "    <tr>\n",
       "      <th>speed</th>\n",
       "      <td>1.000000</td>\n",
       "      <td>0.853778</td>\n",
       "    </tr>\n",
       "    <tr>\n",
       "      <th>power</th>\n",
       "      <td>0.853778</td>\n",
       "      <td>1.000000</td>\n",
       "    </tr>\n",
       "  </tbody>\n",
       "</table>\n",
       "</div>"
      ],
      "text/plain": [
       "          speed     power\n",
       "speed  1.000000  0.853778\n",
       "power  0.853778  1.000000"
      ]
     },
     "execution_count": 34,
     "metadata": {},
     "output_type": "execute_result"
    }
   ],
   "source": [
    "df.corr()"
   ]
  },
  {
   "cell_type": "code",
   "execution_count": 145,
   "metadata": {},
   "outputs": [],
   "source": [
    "# Plots styles.\n",
    "plt.style.use('ggplot')\n",
    "\n",
    "# Plot size.\n",
    "plt.rcParams['figure.figsize'] = (10, 6)"
   ]
  },
  {
   "cell_type": "code",
   "execution_count": 146,
   "metadata": {},
   "outputs": [],
   "source": [
    "# assign speed to x and power to y\n",
    "x = df.speed\n",
    "y = df.power"
   ]
  },
  {
   "cell_type": "code",
   "execution_count": 147,
   "metadata": {},
   "outputs": [
    {
     "data": {
      "text/plain": [
       "[<matplotlib.lines.Line2D at 0x7fb482447a60>]"
      ]
     },
     "execution_count": 147,
     "metadata": {},
     "output_type": "execute_result"
    },
    {
     "data": {
      "image/png": "[encoded data removed]",
      "text/plain": [
       "<Figure size 720x432 with 1 Axes>"
      ]
     },
     "metadata": {},
     "output_type": "display_data"
    }
   ],
   "source": [
    "# Plot x versus y.\n",
    "plt.plot(x, y, 'k.')"
   ]
  },
  {
   "cell_type": "code",
   "execution_count": 148,
   "metadata": {},
   "outputs": [
    {
     "data": {
      "text/plain": [
       "array([  5.46239532, -18.42430465])"
      ]
     },
     "execution_count": 148,
     "metadata": {},
     "output_type": "execute_result"
    }
   ],
   "source": [
    "# Do regression on the x and y arrays using numpy.\n",
    "np.polyfit(x, y, 1)"
   ]
  },
  {
   "cell_type": "code",
   "execution_count": 149,
   "metadata": {},
   "outputs": [
    {
     "data": {
      "text/plain": [
       "(5.4623953170946296, -18.42430465093683)"
      ]
     },
     "execution_count": 149,
     "metadata": {},
     "output_type": "execute_result"
    }
   ],
   "source": [
    "# Create variables with those values.\n",
    "m, c = np.polyfit(x, y, 1)\n",
    "# Have a look at m and c.\n",
    "m, c"
   ]
  },
  {
   "cell_type": "markdown",
   "metadata": {},
   "source": [
    "As the plot below shows, there are sections of the fitted line where all the values either fall below the line or above the line. If a linear model was suitable you would expect to see the line going through the centre of the data. The quadratic model does not improve on this. The cubic polynomial fits the data better and the fourth order polynomial does seem to be even better for the datapoints at the lower end."
   ]
  },
  {
   "cell_type": "raw",
   "metadata": {},
   "source": [
    "# Plot x and y and the regression line in red.\n",
    "plt.plot(x, y, 'k.')\n",
    "plt.plot(x, m * x + c, 'r-')"
   ]
  },
  {
   "cell_type": "code",
   "execution_count": 150,
   "metadata": {},
   "outputs": [
    {
     "data": {
      "text/plain": [
       "(5.462395317094629, -18.42430465093676)"
      ]
     },
     "execution_count": 150,
     "metadata": {},
     "output_type": "execute_result"
    }
   ],
   "source": [
    "# Calculate mean x and mean y.\n",
    "x_avg = np.mean(x)\n",
    "y_avg = np.mean(y)\n",
    "\n",
    "# Subtract means from x and y.\n",
    "x_zero = x - x_avg\n",
    "y_zero = y - y_avg\n",
    "\n",
    "# Dot product of mean-adjusted x and y divided by dot product of mean adjusted x with itself.\n",
    "m = np.sum(x_zero * y_zero) / np.sum(x_zero * x_zero)\n",
    "# Subtract m times average x from average y.\n",
    "c = y_avg - m * x_avg\n",
    "\n",
    "# Let's have a look - same values as above.\n",
    "m, c"
   ]
  },
  {
   "cell_type": "raw",
   "metadata": {},
   "source": [
    "# Create variables with those values.\n",
    "a, b, c = np.polyfit(x, y, 2)\n",
    "\n",
    "# Plot the line and the points.\n",
    "plt.plot(x, y, 'k.')\n",
    "plt.plot(x, a * x * x + b * x + c, 'r-')"
   ]
  },
  {
   "cell_type": "markdown",
   "metadata": {},
   "source": [
    "$ax^3+bx^2+cx+d=0$"
   ]
  },
  {
   "cell_type": "code",
   "execution_count": 151,
   "metadata": {},
   "outputs": [],
   "source": [
    "# Create variables with those values.\n",
    "a,b,c,d =np.polyfit(x, y, 3)"
   ]
  },
  {
   "cell_type": "code",
   "execution_count": 152,
   "metadata": {},
   "outputs": [
    {
     "data": {
      "text/plain": [
       "[<matplotlib.lines.Line2D at 0x7fb48249aa90>]"
      ]
     },
     "execution_count": 152,
     "metadata": {},
     "output_type": "execute_result"
    },
    {
     "data": {
      "image/png": "[encoded data removed]",
      "text/plain": [
       "<Figure size 720x432 with 1 Axes>"
      ]
     },
     "metadata": {},
     "output_type": "display_data"
    }
   ],
   "source": [
    "# Plot the line and the points.\n",
    "plt.plot(x, y, 'k.')\n",
    "plt.plot(x, a * x * x *x + b * x * x+ c*x + d, 'r-')"
   ]
  },
  {
   "cell_type": "markdown",
   "metadata": {},
   "source": [
    "### A Fourth order polynomial\n",
    "$ax^4+bx^3+cx^2+dx +e=0$\n"
   ]
  },
  {
   "cell_type": "code",
   "execution_count": 153,
   "metadata": {},
   "outputs": [],
   "source": [
    "# Create variables with those values.\n",
    "a,b,c,d,e =np.polyfit(x, y, 4)"
   ]
  },
  {
   "cell_type": "code",
   "execution_count": 154,
   "metadata": {},
   "outputs": [
    {
     "data": {
      "text/plain": [
       "[<matplotlib.lines.Line2D at 0x7fb4824f41c0>]"
      ]
     },
     "execution_count": 154,
     "metadata": {},
     "output_type": "execute_result"
    },
    {
     "data": {
      "image/png": "[encoded data removed]",
      "text/plain": [
       "<Figure size 720x432 with 1 Axes>"
      ]
     },
     "metadata": {},
     "output_type": "display_data"
    }
   ],
   "source": [
    "# Plot the line and the points.\n",
    "plt.plot(x, y, 'k.')\n",
    "plt.plot(x, a * x * x *x* x + b * x * x* x + c * x * x + d* x + e, 'r-')"
   ]
  },
  {
   "cell_type": "markdown",
   "metadata": {},
   "source": [
    "https://scikit-learn.org/stable/modules/linear_model.html#ordinary-least-squares\n",
    "\n",
    "LinearRegression fits a linear model with coefficients to minimize the residual sum of squares between the observed targets in the dataset, and the targets predicted by the linear approximation.\n",
    "LinearRegression will take in its fit method arrays X, y and will store the coefficients  of the linear model in its coef_ member:"
   ]
  },
  {
   "cell_type": "code",
   "execution_count": 155,
   "metadata": {},
   "outputs": [
    {
     "data": {
      "text/plain": [
       "(490, 1)"
      ]
     },
     "execution_count": 155,
     "metadata": {},
     "output_type": "execute_result"
    }
   ],
   "source": [
    "# assign speed to x and power to y, \n",
    "x = np.array(df.speed)\n",
    "y = np.array(df.power)\n",
    "# for indexing the array\n",
    "x = x[:, np.newaxis]\n",
    "x.shape\n",
    "y = y[:, np.newaxis]\n",
    "y.shape"
   ]
  },
  {
   "cell_type": "code",
   "execution_count": 165,
   "metadata": {},
   "outputs": [],
   "source": [
    "# Create a linear regression model instance.\n",
    "reg = lm.LinearRegression()"
   ]
  },
  {
   "cell_type": "code",
   "execution_count": 166,
   "metadata": {},
   "outputs": [
    {
     "data": {
      "text/plain": [
       "LinearRegression()"
      ]
     },
     "execution_count": 166,
     "metadata": {},
     "output_type": "execute_result"
    }
   ],
   "source": [
    "# Train the model using the training sets\n",
    "reg.fit(x,y)"
   ]
  },
  {
   "cell_type": "code",
   "execution_count": 167,
   "metadata": {},
   "outputs": [
    {
     "data": {
      "text/plain": [
       "array([-18.42430465])"
      ]
     },
     "execution_count": 167,
     "metadata": {},
     "output_type": "execute_result"
    }
   ],
   "source": [
    "# Here's our intercept.\n",
    "reg.intercept_"
   ]
  },
  {
   "cell_type": "code",
   "execution_count": 168,
   "metadata": {},
   "outputs": [
    {
     "data": {
      "text/plain": [
       "array([[5.46239532]])"
      ]
     },
     "execution_count": 168,
     "metadata": {},
     "output_type": "execute_result"
    }
   ],
   "source": [
    "reg.coef_"
   ]
  },
  {
   "cell_type": "code",
   "execution_count": 169,
   "metadata": {},
   "outputs": [
    {
     "data": {
      "text/plain": [
       "0.8710461537065195"
      ]
     },
     "execution_count": 169,
     "metadata": {},
     "output_type": "execute_result"
    }
   ],
   "source": [
    "# See how good our fit is.\n",
    "reg.score(x, y)"
   ]
  },
  {
   "cell_type": "code",
   "execution_count": 170,
   "metadata": {},
   "outputs": [],
   "source": [
    "#plt.plot(x, y, 'x')"
   ]
  },
  {
   "cell_type": "code",
   "execution_count": 162,
   "metadata": {},
   "outputs": [],
   "source": [
    "#reg = lm.Ridge(alpha=.5)"
   ]
  },
  {
   "cell_type": "markdown",
   "metadata": {},
   "source": [
    "Machine learning is the science of getting computers to act without being explicitly programmed.\n",
    "- https://www.investopedia.com/terms/n/neuralnetwork.asp#:~:text=A%20neural%20network%20is%20a,organic%20or%20artificial%20in%20nature.\n",
    "- https://en.wikipedia.org/wiki/Artificial_neural_network\n",
    "\n",
    "- https://news.mit.edu/2017/explained-neural-networks-deep-learning-0414\n",
    "\n",
    ">Neural nets are a means of doing machine learning, in which a computer learns to perform some task by analyzing training examples.\n",
    ">Modeled loosely on the human brain, a neural net consists of thousands or even millions of simple processing nodes that are densely interconnected. Most of today’s neural nets are organized into layers of nodes, and they’re “feed-forward,” meaning that data moves through them in only one direction. An individual node might be connected to several nodes in the layer beneath it, from which it receives data, and several nodes in the layer above it, to which it sends data.\n",
    ">To each of its incoming connections, a node will assign a number known as a “weight.” When the network is active, the node receives a different data item — a different number — over each of its connections and multiplies it by the associated weight. It then adds the resulting products together, yielding a single number. If that number is below a threshold value, the node passes no data to the next layer. If the number exceeds the threshold value, the node “fires,” which in today’s neural nets generally means sending the number — the sum of the weighted inputs — along all its outgoing connections.\n",
    "When a neural net is being trained, all of its weights and thresholds are initially set to random values. Training data is fed to the bottom layer — the input layer — and it passes through the succeeding layers, getting multiplied and added together in complex ways, until it finally arrives, radically transformed, at the output layer. During training, the weights and thresholds are continually adjusted until training data with the same labels consistently yield similar outputs.\n",
    "[Mit News](https://news.mit.edu/2017/explained-neural-networks-deep-learning-0414)[nn1]"
   ]
  },
  {
   "cell_type": "markdown",
   "metadata": {},
   "source": [
    "## Machine Learning - Neural Networks\n",
    "\n",
    "Here I will go through the lecture notes first and apply some of the techniques.\n",
    "Some notes from the lectures:\n",
    "A dataset contains variables, some inputs and outputs. Categorical data, text and image data must first be encoded into floating point numbers. Outputs can be reverse decoded later. Weights are applied to each connection between layers, low weights near 0 meaning that the route is not important while higher values mean this route is important. \n",
    "Some of the dataset can be held back for testing. \n",
    "Neural networks have several layers. The input layer is really a non-layer of neurons with just the inputs. You just provide the input layer to the neural network and this is really the only place the input comes into it.\n",
    "\n",
    "The hidden layers and output layers have proper neurons.\n",
    "The weights and bias are the paramters of the model, you can tweak them to get the neural network to perform better. Often the initial weights might be set to small random values between 0 and 1. \n",
    "Neural networks cares more about the connections between the nodes than the actual nodes themselves. Looks at the signal times the weights for each of the inputs. `w * x` for each input. \n",
    "\n",
    "The bias significes how important something is and is just a number on top of weight times input for each neuron. \n",
    "With neural networks you want to get a high value assigned to the correct output. If the neural network misclassifies an output label then you just feed it back into the algorithm, the weights are changed a little so that the correct output is predicted the next time. It will keep changing until it gets the correct output. \n",
    "Starts out with random values for the weights. These are updated slowly over time to get towards the expected output.\n",
    "\n",
    "\n",
    "Gradient descent is the algorithm through which the weights are updated. Stochastic gradient descent (`sgd`).\n",
    "Each output from each neuron is the same but when the different weights are applied, what is received by the nodes in the next layer are different to what left the nodes on the previous layer.\n",
    "The loss is the cost function, often the MSE mean squared error.\n",
    "\n",
    "A linear function y = x is just a simple function where you give it a single input and expect the same output.\n",
    "\n",
    "Once the neural network is trained and is stable, you can then take a new input, a new datapoint it was not trained on and the neural network should correctly classify it.\n",
    "the complexity in neural networks comes from the number of operations involved especially when there are many layers.\n",
    "\n",
    "---\n",
    "\n",
    "https://machinelearningmastery.com/tensorflow-tutorial-deep-learning-with-tf-keras/\n",
    "Taking notes from another machine learning mastery tutorial.\n",
    "\n",
    "### The 5-step Deep Learning Model Life-Cycle\n",
    "A model has a life-cycle with 5 steps:\n",
    "1. Define the model: \n",
    "Select the type of model and choose the architecture or network topology. Define the number of layers, configure each layer with a number of nodes and activation function, connect the layers together into a cohesive model.\n",
    "\n",
    "2. Compile the model\n",
    "\n",
    "    * This requires selecting a **loss function** that you want to optimise such as mean squared error and to select an algorithm to perform the **optimisation** procedure such as stochastic gradient descent or a modern variation of this called Adam. Also you can select the **performance metrics**  to keep track of during the model training process.\n",
    "    * Call a function to compile the model with the selected configuration to prepare the appropriate data structures required for the efficient use of the selected model. \n",
    "    * The optimizer can be specified as a string for a known optimizer class such as `sgd` for stochastic gradient descent or else you can configure an instance of the optimizer class to use. See [optimizer classes](https://www.tensorflow.org/api_docs/python/tf/keras/optimizers).\n",
    "\n",
    "    * `sgd` - Gradient descent (with momentum) optimizer. The default learning rate is 0.01\n",
    "    The update rule is ` w = w - learning_rate * g` for parameter `w` with  gradient `g` when momentum is 0.\n",
    "    * \n",
    "\n",
    "    *Adam optimization is a stochastic gradient descent method that is based on adaptive estimation of first-order and second-order moments.* [Tensorflow](https://www.tensorflow.org/api_docs/python/tf/keras/optimizers/Adam]\n",
    "    *  The `learning_rate` defaults to 0.001 in the Adam optimizer. \n",
    "\n",
    "    - Loss Functions: class MeanSquaredError: Computes the mean of squares of errors between labels and predictions.\n",
    "    The mean squared error is the one I will be using. There are many more listed in the [keras losses](https://www.tensorflow.org/api_docs/python/tf/keras/losses) documentation.\n",
    "    \n",
    "    * Metrics to evaluate predictions such as `Accuracy`  which calculates how often predictions equal labels, `AUC` computes the approximate area under the curve,  `FalseNegatives` which calculates the number of false negatives and `FalsePositives` calculates the number of false positives, `Precision` computes the precision of the predictions with respect to the labels. \n",
    "    There are many more [metrics](https://www.tensorflow.org/api_docs/python/tf/keras/metrics) which I will come back when I get to that point...\n",
    "\n",
    "3. Fit the model\n",
    "\n",
    "To fit the model you need to select the training configuration such as the number of epochs which are loops through the training dataset. The batch size is the number of samples in an epoch used to estimate model error.\n",
    "(By passing in say 10 at a time instead of 1 at a time can have a smoothing effect)\n",
    "\n",
    "Training applies the chosen optimization algorithm to minimize the chosen loss function and updates the model using the backpropagation of error algorithm. This can be slow depending on the complexity of the model, the size of the training dataset and the hardware being used.\n",
    "\n",
    "There is another machine learning article here on [the importance of batch sizes](https://machinelearningmastery.com/how-to-control-the-speed-and-stability-of-training-neural-networks-with-gradient-descent-batch-size/)\n",
    "\n",
    "\n",
    "\n",
    "4. Evaluate the model\n",
    "\n",
    "This is where the holdout dataset comes into play, data that is not used in the training of the model so you can get an unbiased estimate of the performance of the model when making predictions on new data.\n",
    "\n",
    "5. Make predictions\n",
    "This is the final stage of the life cycle where you take values that you don't have target values and make a prediction.\n",
    "\n",
    "### Sequential model\n",
    "A **sequential** model adds layers to the model one by one in a linear manner, from input to output.\n",
    "    The visible layer of the network is defined by the input shape argument on the first hidden layer. In the wind dataset this will be `(1,)` - the model will expect the input for one sample to be a vector of 1 number.\n",
    "`model.add()` is used to add each layer.\n",
    "\n",
    "There is also a functional model which is more complex but more flexible. It involves explicitly connecting the output of one layer to the input of another layer. Each connection is specified. I will be using the sequential model for this project.\n",
    "\n",
    "###  Develop Multilayer Perceptron Models\n",
    "\n",
    "A Multilayer Perceptron model (MLP)is a standard fully connected neural network model. It is made up of one or more (dense) layers of nodes where each node is connected to all outputs from the previous layer and the output of each node is connected to all the inputs for the nodes in the next layer. This model is suitable for tabular data and can be used for three predictive modeling problems being binary classification, multiclass classification, and regression. \n",
    "The tutorial demostrates using MLP for each of the three predictive modeling problems.\n",
    "\n"
   ]
  },
  {
   "cell_type": "markdown",
   "metadata": {},
   "source": [
    "### Import required packages"
   ]
  },
  {
   "cell_type": "code",
   "execution_count": 241,
   "metadata": {},
   "outputs": [
    {
     "name": "stdout",
     "output_type": "stream",
     "text": [
      "2.4.0\n"
     ]
    }
   ],
   "source": [
    "# Neural networks.\n",
    "import tensorflow.keras as kr\n",
    "print(kr.__version__)\n",
    "\n",
    "# Numerical arrays\n",
    "import numpy as np\n",
    "\n",
    "# Data frames.\n",
    "import pandas as pd\n",
    "\n",
    "# Plotting\n",
    "import matplotlib.pyplot as plt\n",
    "# splitting the data into training and test \n",
    "from sklearn.model_selection import train_test_split\n",
    "\n"
   ]
  },
  {
   "cell_type": "markdown",
   "metadata": {},
   "source": [
    "### The data:"
   ]
  },
  {
   "cell_type": "code",
   "execution_count": 242,
   "metadata": {},
   "outputs": [],
   "source": [
    "# mlp for regression\n",
    "from numpy import sqrt\n",
    "from pandas import read_csv\n",
    "from sklearn.model_selection import train_test_split\n",
    "from tensorflow.keras import Sequential\n",
    "from tensorflow.keras.layers import Dense\n",
    "path = 'https://raw.githubusercontent.com/ianmcloughlin/2020A-machstat-project/master/dataset/powerproduction.csv'\n",
    "df = pd.read_csv(csv_url)"
   ]
  },
  {
   "cell_type": "code",
   "execution_count": 243,
   "metadata": {},
   "outputs": [],
   "source": [
    "df\n",
    "# drop some of the outliers\n",
    "df.drop(df.loc[(df.speed>24.4)].index, inplace=True)"
   ]
  },
  {
   "cell_type": "markdown",
   "metadata": {},
   "source": [
    "### The data split into training and test sets"
   ]
  },
  {
   "cell_type": "code",
   "execution_count": 244,
   "metadata": {},
   "outputs": [
    {
     "name": "stdout",
     "output_type": "stream",
     "text": [
      "(328, 1) (162, 1) (328,) (162,)\n"
     ]
    }
   ],
   "source": [
    "\n",
    "# split into input and output columns\n",
    "X, y = df.values[:, :-1], df.values[:, -1]\n",
    "# split into train and test datasets\n",
    "X_train, X_test, y_train, y_test = train_test_split(X, y, test_size=0.33)\n",
    "print(X_train.shape, X_test.shape, y_train.shape, y_test.shape)\n",
    "# determine the number of input features\n",
    "n_features = X_train.shape[1]"
   ]
  },
  {
   "cell_type": "markdown",
   "metadata": {},
   "source": [
    "### Define the model:"
   ]
  },
  {
   "cell_type": "code",
   "execution_count": 245,
   "metadata": {},
   "outputs": [],
   "source": [
    "\n",
    "# Train a model\n",
    "model = kr.models.Sequential()\n",
    "model.add(kr.layers.Dense(50, input_shape=(1,), activation='sigmoid', kernel_initializer=\"glorot_uniform\", bias_initializer=\"glorot_uniform\"))\n",
    "model.add(kr.layers.Dense(1, activation='linear', kernel_initializer=\"glorot_uniform\", bias_initializer=\"glorot_uniform\"))\n",
    "model.compile(kr.optimizers.Adam(lr=0.001), loss='mean_squared_error')"
   ]
  },
  {
   "cell_type": "markdown",
   "metadata": {},
   "source": [
    "### Compile the model"
   ]
  },
  {
   "cell_type": "code",
   "execution_count": 246,
   "metadata": {},
   "outputs": [
    {
     "name": "stdout",
     "output_type": "stream",
     "text": [
      "Model: \"sequential_8\"\n",
      "_________________________________________________________________\n",
      "Layer (type)                 Output Shape              Param #   \n",
      "=================================================================\n",
      "dense_25 (Dense)             (None, 50)                100       \n",
      "_________________________________________________________________\n",
      "dense_26 (Dense)             (None, 1)                 51        \n",
      "=================================================================\n",
      "Total params: 151\n",
      "Trainable params: 151\n",
      "Non-trainable params: 0\n",
      "_________________________________________________________________\n"
     ]
    }
   ],
   "source": [
    "model.compile('adam', loss='mean_squared_error')\n",
    "model.summary()"
   ]
  },
  {
   "cell_type": "code",
   "execution_count": null,
   "metadata": {},
   "outputs": [],
   "source": []
  },
  {
   "cell_type": "raw",
   "metadata": {},
   "source": [
    "# compile the model\n",
    "model.compile(optimizer='adam', loss='mse')"
   ]
  },
  {
   "cell_type": "markdown",
   "metadata": {},
   "source": [
    "### Fit the model"
   ]
  },
  {
   "cell_type": "code",
   "execution_count": 249,
   "metadata": {},
   "outputs": [
    {
     "name": "stdout",
     "output_type": "stream",
     "text": [
      "Epoch 1/500\n",
      "17/17 [==============================] - 0s 2ms/step - loss: 103.1471\n",
      "Epoch 2/500\n",
      "17/17 [==============================] - 0s 2ms/step - loss: 102.8209\n",
      "Epoch 3/500\n",
      "17/17 [==============================] - 0s 2ms/step - loss: 102.9949\n",
      "Epoch 4/500\n",
      "17/17 [==============================] - 0s 2ms/step - loss: 102.8304\n",
      "Epoch 5/500\n",
      "17/17 [==============================] - 0s 2ms/step - loss: 102.7107\n",
      "Epoch 6/500\n",
      "17/17 [==============================] - 0s 3ms/step - loss: 102.9575\n",
      "Epoch 7/500\n",
      "17/17 [==============================] - 0s 2ms/step - loss: 102.9718\n",
      "Epoch 8/500\n",
      "17/17 [==============================] - 0s 2ms/step - loss: 102.6314\n",
      "Epoch 9/500\n",
      "17/17 [==============================] - 0s 2ms/step - loss: 102.6548\n",
      "Epoch 10/500\n",
      "17/17 [==============================] - 0s 2ms/step - loss: 102.7963\n",
      "Epoch 11/500\n",
      "17/17 [==============================] - 0s 2ms/step - loss: 102.6714\n",
      "Epoch 12/500\n",
      "17/17 [==============================] - 0s 2ms/step - loss: 102.6132\n",
      "Epoch 13/500\n",
      "17/17 [==============================] - 0s 2ms/step - loss: 102.5994\n",
      "Epoch 14/500\n",
      "17/17 [==============================] - 0s 2ms/step - loss: 102.5403\n",
      "Epoch 15/500\n",
      "17/17 [==============================] - 0s 4ms/step - loss: 102.6344\n",
      "Epoch 16/500\n",
      "17/17 [==============================] - 0s 3ms/step - loss: 102.8817\n",
      "Epoch 17/500\n",
      "17/17 [==============================] - 0s 2ms/step - loss: 102.9196\n",
      "Epoch 18/500\n",
      "17/17 [==============================] - 0s 2ms/step - loss: 102.7387\n",
      "Epoch 19/500\n",
      "17/17 [==============================] - 0s 4ms/step - loss: 102.6528\n",
      "Epoch 20/500\n",
      "17/17 [==============================] - 0s 3ms/step - loss: 102.7445\n",
      "Epoch 21/500\n",
      "17/17 [==============================] - 0s 2ms/step - loss: 102.6723\n",
      "Epoch 22/500\n",
      "17/17 [==============================] - 0s 2ms/step - loss: 102.5363\n",
      "Epoch 23/500\n",
      "17/17 [==============================] - 0s 2ms/step - loss: 102.7886\n",
      "Epoch 24/500\n",
      "17/17 [==============================] - 0s 2ms/step - loss: 102.7385\n",
      "Epoch 25/500\n",
      "17/17 [==============================] - 0s 2ms/step - loss: 102.6338\n",
      "Epoch 26/500\n",
      "17/17 [==============================] - 0s 2ms/step - loss: 102.8085\n",
      "Epoch 27/500\n",
      "17/17 [==============================] - 0s 2ms/step - loss: 102.4714\n",
      "Epoch 28/500\n",
      "17/17 [==============================] - 0s 2ms/step - loss: 102.9437\n",
      "Epoch 29/500\n",
      "17/17 [==============================] - 0s 2ms/step - loss: 102.7462\n",
      "Epoch 30/500\n",
      "17/17 [==============================] - 0s 2ms/step - loss: 102.5180\n",
      "Epoch 31/500\n",
      "17/17 [==============================] - 0s 2ms/step - loss: 102.6580\n",
      "Epoch 32/500\n",
      "17/17 [==============================] - 0s 2ms/step - loss: 102.6408\n",
      "Epoch 33/500\n",
      "17/17 [==============================] - 0s 2ms/step - loss: 102.6106\n",
      "Epoch 34/500\n",
      "17/17 [==============================] - 0s 2ms/step - loss: 102.7217\n",
      "Epoch 35/500\n",
      "17/17 [==============================] - 0s 4ms/step - loss: 102.5738\n",
      "Epoch 36/500\n",
      "17/17 [==============================] - 0s 4ms/step - loss: 102.5874\n",
      "Epoch 37/500\n",
      "17/17 [==============================] - 0s 2ms/step - loss: 102.5828\n",
      "Epoch 38/500\n",
      "17/17 [==============================] - 0s 2ms/step - loss: 102.5409\n",
      "Epoch 39/500\n",
      "17/17 [==============================] - 0s 2ms/step - loss: 102.5519\n",
      "Epoch 40/500\n",
      "17/17 [==============================] - 0s 2ms/step - loss: 102.5519\n",
      "Epoch 41/500\n",
      "17/17 [==============================] - 0s 2ms/step - loss: 102.6081\n",
      "Epoch 42/500\n",
      "17/17 [==============================] - 0s 2ms/step - loss: 102.6945\n",
      "Epoch 43/500\n",
      "17/17 [==============================] - 0s 2ms/step - loss: 102.6144\n",
      "Epoch 44/500\n",
      "17/17 [==============================] - 0s 2ms/step - loss: 102.6032\n",
      "Epoch 45/500\n",
      "17/17 [==============================] - 0s 2ms/step - loss: 102.8111\n",
      "Epoch 46/500\n",
      "17/17 [==============================] - 0s 3ms/step - loss: 102.4227\n",
      "Epoch 47/500\n",
      "17/17 [==============================] - 0s 3ms/step - loss: 102.6600\n",
      "Epoch 48/500\n",
      "17/17 [==============================] - 0s 2ms/step - loss: 102.6363\n",
      "Epoch 49/500\n",
      "17/17 [==============================] - 0s 2ms/step - loss: 102.4591\n",
      "Epoch 50/500\n",
      "17/17 [==============================] - 0s 2ms/step - loss: 102.5205\n",
      "Epoch 51/500\n",
      "17/17 [==============================] - 0s 3ms/step - loss: 102.6812\n",
      "Epoch 52/500\n",
      "17/17 [==============================] - 0s 3ms/step - loss: 102.4999\n",
      "Epoch 53/500\n",
      "17/17 [==============================] - 0s 3ms/step - loss: 102.9887\n",
      "Epoch 54/500\n",
      "17/17 [==============================] - 0s 2ms/step - loss: 102.4969\n",
      "Epoch 55/500\n",
      "17/17 [==============================] - 0s 2ms/step - loss: 102.4908\n",
      "Epoch 56/500\n",
      "17/17 [==============================] - 0s 2ms/step - loss: 102.6409\n",
      "Epoch 57/500\n",
      "17/17 [==============================] - 0s 2ms/step - loss: 102.5950\n",
      "Epoch 58/500\n",
      "17/17 [==============================] - 0s 2ms/step - loss: 102.5127\n",
      "Epoch 59/500\n",
      "17/17 [==============================] - 0s 2ms/step - loss: 102.4881\n",
      "Epoch 60/500\n",
      "17/17 [==============================] - 0s 1ms/step - loss: 102.7724\n",
      "Epoch 61/500\n",
      "17/17 [==============================] - 0s 2ms/step - loss: 102.5326\n",
      "Epoch 62/500\n",
      "17/17 [==============================] - 0s 2ms/step - loss: 102.6302\n",
      "Epoch 63/500\n",
      "17/17 [==============================] - 0s 1ms/step - loss: 102.5363\n",
      "Epoch 64/500\n",
      "17/17 [==============================] - 0s 2ms/step - loss: 102.4750\n",
      "Epoch 65/500\n",
      "17/17 [==============================] - 0s 2ms/step - loss: 102.4993\n",
      "Epoch 66/500\n",
      "17/17 [==============================] - 0s 1ms/step - loss: 102.4955\n",
      "Epoch 67/500\n",
      "17/17 [==============================] - 0s 2ms/step - loss: 102.5618\n",
      "Epoch 68/500\n",
      "17/17 [==============================] - 0s 3ms/step - loss: 102.5948\n",
      "Epoch 69/500\n",
      "17/17 [==============================] - 0s 3ms/step - loss: 102.6697\n",
      "Epoch 70/500\n",
      "17/17 [==============================] - 0s 3ms/step - loss: 102.5263\n",
      "Epoch 71/500\n",
      "17/17 [==============================] - 0s 2ms/step - loss: 102.4532\n",
      "Epoch 72/500\n",
      "17/17 [==============================] - 0s 2ms/step - loss: 102.5038\n",
      "Epoch 73/500\n",
      "17/17 [==============================] - 0s 2ms/step - loss: 102.3509\n",
      "Epoch 74/500\n",
      "17/17 [==============================] - 0s 3ms/step - loss: 102.6833\n",
      "Epoch 75/500\n",
      "17/17 [==============================] - 0s 2ms/step - loss: 102.7970\n",
      "Epoch 76/500\n",
      "17/17 [==============================] - 0s 2ms/step - loss: 102.5676\n",
      "Epoch 77/500\n",
      "17/17 [==============================] - 0s 2ms/step - loss: 102.5534\n",
      "Epoch 78/500\n",
      "17/17 [==============================] - 0s 2ms/step - loss: 102.4408\n",
      "Epoch 79/500\n",
      "17/17 [==============================] - 0s 2ms/step - loss: 103.0147\n",
      "Epoch 80/500\n",
      "17/17 [==============================] - 0s 2ms/step - loss: 102.7503\n",
      "Epoch 81/500\n",
      "17/17 [==============================] - 0s 2ms/step - loss: 102.5142\n",
      "Epoch 82/500\n",
      "17/17 [==============================] - 0s 2ms/step - loss: 102.4822\n",
      "Epoch 83/500\n",
      "17/17 [==============================] - 0s 2ms/step - loss: 102.6913\n",
      "Epoch 84/500\n",
      "17/17 [==============================] - 0s 2ms/step - loss: 102.5513\n",
      "Epoch 85/500\n",
      "17/17 [==============================] - 0s 3ms/step - loss: 102.4506\n",
      "Epoch 86/500\n",
      "17/17 [==============================] - 0s 2ms/step - loss: 102.4303\n",
      "Epoch 87/500\n",
      "17/17 [==============================] - 0s 2ms/step - loss: 102.5666\n",
      "Epoch 88/500\n",
      "17/17 [==============================] - 0s 3ms/step - loss: 102.4832\n",
      "Epoch 89/500\n",
      "17/17 [==============================] - 0s 2ms/step - loss: 102.5581\n",
      "Epoch 90/500\n",
      "17/17 [==============================] - 0s 3ms/step - loss: 102.4865\n",
      "Epoch 91/500\n",
      "17/17 [==============================] - 0s 3ms/step - loss: 102.5553\n",
      "Epoch 92/500\n",
      "17/17 [==============================] - 0s 2ms/step - loss: 102.4818\n",
      "Epoch 93/500\n",
      "17/17 [==============================] - 0s 2ms/step - loss: 102.4879\n",
      "Epoch 94/500\n",
      "17/17 [==============================] - 0s 2ms/step - loss: 102.6143\n",
      "Epoch 95/500\n",
      "17/17 [==============================] - 0s 1ms/step - loss: 102.4429\n",
      "Epoch 96/500\n",
      "17/17 [==============================] - 0s 2ms/step - loss: 102.4955\n",
      "Epoch 97/500\n",
      "17/17 [==============================] - 0s 2ms/step - loss: 102.6386\n",
      "Epoch 98/500\n",
      "17/17 [==============================] - 0s 2ms/step - loss: 102.7416\n",
      "Epoch 99/500\n"
     ]
    },
    {
     "name": "stdout",
     "output_type": "stream",
     "text": [
      "17/17 [==============================] - 0s 2ms/step - loss: 102.4281\n",
      "Epoch 100/500\n",
      "17/17 [==============================] - 0s 2ms/step - loss: 102.6073\n",
      "Epoch 101/500\n",
      "17/17 [==============================] - 0s 2ms/step - loss: 102.4814\n",
      "Epoch 102/500\n",
      "17/17 [==============================] - 0s 2ms/step - loss: 102.4957\n",
      "Epoch 103/500\n",
      "17/17 [==============================] - 0s 1ms/step - loss: 102.5316\n",
      "Epoch 104/500\n",
      "17/17 [==============================] - 0s 2ms/step - loss: 102.4817\n",
      "Epoch 105/500\n",
      "17/17 [==============================] - 0s 2ms/step - loss: 102.8287\n",
      "Epoch 106/500\n",
      "17/17 [==============================] - 0s 2ms/step - loss: 102.6320\n",
      "Epoch 107/500\n",
      "17/17 [==============================] - 0s 2ms/step - loss: 102.6486\n",
      "Epoch 108/500\n",
      "17/17 [==============================] - 0s 2ms/step - loss: 102.4973\n",
      "Epoch 109/500\n",
      "17/17 [==============================] - 0s 1ms/step - loss: 102.5967\n",
      "Epoch 110/500\n",
      "17/17 [==============================] - 0s 2ms/step - loss: 102.7070\n",
      "Epoch 111/500\n",
      "17/17 [==============================] - 0s 2ms/step - loss: 102.6810\n",
      "Epoch 112/500\n",
      "17/17 [==============================] - 0s 2ms/step - loss: 102.6535\n",
      "Epoch 113/500\n",
      "17/17 [==============================] - 0s 2ms/step - loss: 102.5405\n",
      "Epoch 114/500\n",
      "17/17 [==============================] - 0s 1ms/step - loss: 102.4785\n",
      "Epoch 115/500\n",
      "17/17 [==============================] - 0s 2ms/step - loss: 102.4979\n",
      "Epoch 116/500\n",
      "17/17 [==============================] - 0s 2ms/step - loss: 102.5545\n",
      "Epoch 117/500\n",
      "17/17 [==============================] - 0s 2ms/step - loss: 102.5662\n",
      "Epoch 118/500\n",
      "17/17 [==============================] - 0s 1ms/step - loss: 102.7800\n",
      "Epoch 119/500\n",
      "17/17 [==============================] - 0s 2ms/step - loss: 102.4999\n",
      "Epoch 120/500\n",
      "17/17 [==============================] - 0s 1ms/step - loss: 102.5623\n",
      "Epoch 121/500\n",
      "17/17 [==============================] - 0s 2ms/step - loss: 102.7561\n",
      "Epoch 122/500\n",
      "17/17 [==============================] - 0s 2ms/step - loss: 102.4975\n",
      "Epoch 123/500\n",
      "17/17 [==============================] - 0s 2ms/step - loss: 102.5439\n",
      "Epoch 124/500\n",
      "17/17 [==============================] - 0s 2ms/step - loss: 102.8537\n",
      "Epoch 125/500\n",
      "17/17 [==============================] - 0s 2ms/step - loss: 102.5872\n",
      "Epoch 126/500\n",
      "17/17 [==============================] - 0s 2ms/step - loss: 102.4265\n",
      "Epoch 127/500\n",
      "17/17 [==============================] - 0s 1ms/step - loss: 102.4939\n",
      "Epoch 128/500\n",
      "17/17 [==============================] - 0s 1ms/step - loss: 102.5073\n",
      "Epoch 129/500\n",
      "17/17 [==============================] - 0s 2ms/step - loss: 102.3803\n",
      "Epoch 130/500\n",
      "17/17 [==============================] - 0s 2ms/step - loss: 102.4373\n",
      "Epoch 131/500\n",
      "17/17 [==============================] - 0s 2ms/step - loss: 102.3972\n",
      "Epoch 132/500\n",
      "17/17 [==============================] - 0s 2ms/step - loss: 102.5329\n",
      "Epoch 133/500\n",
      "17/17 [==============================] - 0s 2ms/step - loss: 103.2694\n",
      "Epoch 134/500\n",
      "17/17 [==============================] - 0s 2ms/step - loss: 102.3715\n",
      "Epoch 135/500\n",
      "17/17 [==============================] - 0s 2ms/step - loss: 102.4857\n",
      "Epoch 136/500\n",
      "17/17 [==============================] - 0s 2ms/step - loss: 102.5732\n",
      "Epoch 137/500\n",
      "17/17 [==============================] - 0s 3ms/step - loss: 102.4172\n",
      "Epoch 138/500\n",
      "17/17 [==============================] - 0s 2ms/step - loss: 102.5132\n",
      "Epoch 139/500\n",
      "17/17 [==============================] - 0s 2ms/step - loss: 102.4352\n",
      "Epoch 140/500\n",
      "17/17 [==============================] - 0s 2ms/step - loss: 102.4002\n",
      "Epoch 141/500\n",
      "17/17 [==============================] - 0s 2ms/step - loss: 102.4846\n",
      "Epoch 142/500\n",
      "17/17 [==============================] - 0s 2ms/step - loss: 102.3863\n",
      "Epoch 143/500\n",
      "17/17 [==============================] - 0s 2ms/step - loss: 102.3917\n",
      "Epoch 144/500\n",
      "17/17 [==============================] - 0s 2ms/step - loss: 102.4199\n",
      "Epoch 145/500\n",
      "17/17 [==============================] - 0s 2ms/step - loss: 102.4055\n",
      "Epoch 146/500\n",
      "17/17 [==============================] - 0s 1ms/step - loss: 102.4680\n",
      "Epoch 147/500\n",
      "17/17 [==============================] - 0s 1ms/step - loss: 102.4061\n",
      "Epoch 148/500\n",
      "17/17 [==============================] - 0s 1ms/step - loss: 102.3706\n",
      "Epoch 149/500\n",
      "17/17 [==============================] - 0s 1ms/step - loss: 102.4032\n",
      "Epoch 150/500\n",
      "17/17 [==============================] - 0s 2ms/step - loss: 102.4318\n",
      "Epoch 151/500\n",
      "17/17 [==============================] - 0s 2ms/step - loss: 102.6350\n",
      "Epoch 152/500\n",
      "17/17 [==============================] - 0s 3ms/step - loss: 102.5067\n",
      "Epoch 153/500\n",
      "17/17 [==============================] - 0s 2ms/step - loss: 102.4241\n",
      "Epoch 154/500\n",
      "17/17 [==============================] - 0s 2ms/step - loss: 102.4304\n",
      "Epoch 155/500\n",
      "17/17 [==============================] - 0s 2ms/step - loss: 102.4608\n",
      "Epoch 156/500\n",
      "17/17 [==============================] - 0s 1ms/step - loss: 102.5860\n",
      "Epoch 157/500\n",
      "17/17 [==============================] - 0s 2ms/step - loss: 102.5186\n",
      "Epoch 158/500\n",
      "17/17 [==============================] - 0s 2ms/step - loss: 102.5260\n",
      "Epoch 159/500\n",
      "17/17 [==============================] - 0s 2ms/step - loss: 102.5515\n",
      "Epoch 160/500\n",
      "17/17 [==============================] - 0s 3ms/step - loss: 102.3705\n",
      "Epoch 161/500\n",
      "17/17 [==============================] - 0s 2ms/step - loss: 102.4752\n",
      "Epoch 162/500\n",
      "17/17 [==============================] - 0s 2ms/step - loss: 102.5201\n",
      "Epoch 163/500\n",
      "17/17 [==============================] - 0s 2ms/step - loss: 102.3800\n",
      "Epoch 164/500\n",
      "17/17 [==============================] - 0s 2ms/step - loss: 102.3940\n",
      "Epoch 165/500\n",
      "17/17 [==============================] - 0s 1ms/step - loss: 102.4455\n",
      "Epoch 166/500\n",
      "17/17 [==============================] - 0s 2ms/step - loss: 102.4331\n",
      "Epoch 167/500\n",
      "17/17 [==============================] - 0s 1ms/step - loss: 102.6735\n",
      "Epoch 168/500\n",
      "17/17 [==============================] - 0s 2ms/step - loss: 102.3062\n",
      "Epoch 169/500\n",
      "17/17 [==============================] - 0s 2ms/step - loss: 102.4352\n",
      "Epoch 170/500\n",
      "17/17 [==============================] - 0s 2ms/step - loss: 102.4884\n",
      "Epoch 171/500\n",
      "17/17 [==============================] - 0s 2ms/step - loss: 102.6030\n",
      "Epoch 172/500\n",
      "17/17 [==============================] - 0s 2ms/step - loss: 102.5779\n",
      "Epoch 173/500\n",
      "17/17 [==============================] - 0s 2ms/step - loss: 102.4475\n",
      "Epoch 174/500\n",
      "17/17 [==============================] - 0s 2ms/step - loss: 102.5103\n",
      "Epoch 175/500\n",
      "17/17 [==============================] - 0s 2ms/step - loss: 102.4768\n",
      "Epoch 176/500\n",
      "17/17 [==============================] - 0s 2ms/step - loss: 102.4025\n",
      "Epoch 177/500\n",
      "17/17 [==============================] - 0s 1ms/step - loss: 102.3516\n",
      "Epoch 178/500\n",
      "17/17 [==============================] - 0s 1ms/step - loss: 102.4209\n",
      "Epoch 179/500\n",
      "17/17 [==============================] - 0s 2ms/step - loss: 102.7571\n",
      "Epoch 180/500\n",
      "17/17 [==============================] - 0s 2ms/step - loss: 102.4197\n",
      "Epoch 181/500\n",
      "17/17 [==============================] - 0s 2ms/step - loss: 102.4111\n",
      "Epoch 182/500\n",
      "17/17 [==============================] - 0s 2ms/step - loss: 102.4348\n",
      "Epoch 183/500\n",
      "17/17 [==============================] - 0s 1ms/step - loss: 102.3968\n",
      "Epoch 184/500\n",
      "17/17 [==============================] - 0s 2ms/step - loss: 102.3926\n",
      "Epoch 185/500\n",
      "17/17 [==============================] - 0s 2ms/step - loss: 102.3215\n",
      "Epoch 186/500\n",
      "17/17 [==============================] - 0s 2ms/step - loss: 102.3804\n",
      "Epoch 187/500\n",
      "17/17 [==============================] - 0s 2ms/step - loss: 102.4851\n",
      "Epoch 188/500\n",
      "17/17 [==============================] - 0s 2ms/step - loss: 102.3583\n",
      "Epoch 189/500\n",
      "17/17 [==============================] - 0s 1ms/step - loss: 102.5906\n",
      "Epoch 190/500\n",
      "17/17 [==============================] - 0s 2ms/step - loss: 102.3995\n",
      "Epoch 191/500\n",
      "17/17 [==============================] - 0s 2ms/step - loss: 102.3257\n",
      "Epoch 192/500\n",
      "17/17 [==============================] - 0s 2ms/step - loss: 102.4016\n",
      "Epoch 193/500\n",
      "17/17 [==============================] - 0s 2ms/step - loss: 102.3623\n",
      "Epoch 194/500\n",
      "17/17 [==============================] - 0s 2ms/step - loss: 102.4492\n",
      "Epoch 195/500\n",
      "17/17 [==============================] - 0s 2ms/step - loss: 102.6878\n",
      "Epoch 196/500\n"
     ]
    },
    {
     "name": "stdout",
     "output_type": "stream",
     "text": [
      "17/17 [==============================] - 0s 2ms/step - loss: 102.3719\n",
      "Epoch 197/500\n",
      "17/17 [==============================] - 0s 2ms/step - loss: 102.5769\n",
      "Epoch 198/500\n",
      "17/17 [==============================] - 0s 2ms/step - loss: 102.3700\n",
      "Epoch 199/500\n",
      "17/17 [==============================] - 0s 2ms/step - loss: 102.7760\n",
      "Epoch 200/500\n",
      "17/17 [==============================] - 0s 2ms/step - loss: 102.7230\n",
      "Epoch 201/500\n",
      "17/17 [==============================] - 0s 2ms/step - loss: 102.5898\n",
      "Epoch 202/500\n",
      "17/17 [==============================] - 0s 2ms/step - loss: 102.2586\n",
      "Epoch 203/500\n",
      "17/17 [==============================] - 0s 2ms/step - loss: 102.3493\n",
      "Epoch 204/500\n",
      "17/17 [==============================] - 0s 2ms/step - loss: 102.3942\n",
      "Epoch 205/500\n",
      "17/17 [==============================] - 0s 2ms/step - loss: 102.3613\n",
      "Epoch 206/500\n",
      "17/17 [==============================] - 0s 2ms/step - loss: 102.5738\n",
      "Epoch 207/500\n",
      "17/17 [==============================] - 0s 2ms/step - loss: 102.4086\n",
      "Epoch 208/500\n",
      "17/17 [==============================] - 0s 2ms/step - loss: 102.3641\n",
      "Epoch 209/500\n",
      "17/17 [==============================] - 0s 2ms/step - loss: 102.3632\n",
      "Epoch 210/500\n",
      "17/17 [==============================] - 0s 2ms/step - loss: 102.3415\n",
      "Epoch 211/500\n",
      "17/17 [==============================] - 0s 1ms/step - loss: 102.3686\n",
      "Epoch 212/500\n",
      "17/17 [==============================] - 0s 1ms/step - loss: 102.3596\n",
      "Epoch 213/500\n",
      "17/17 [==============================] - 0s 2ms/step - loss: 102.4501\n",
      "Epoch 214/500\n",
      "17/17 [==============================] - 0s 2ms/step - loss: 102.3382\n",
      "Epoch 215/500\n",
      "17/17 [==============================] - 0s 2ms/step - loss: 102.5193\n",
      "Epoch 216/500\n",
      "17/17 [==============================] - 0s 2ms/step - loss: 102.3222\n",
      "Epoch 217/500\n",
      "17/17 [==============================] - 0s 1ms/step - loss: 102.3431\n",
      "Epoch 218/500\n",
      "17/17 [==============================] - 0s 2ms/step - loss: 102.3287\n",
      "Epoch 219/500\n",
      "17/17 [==============================] - 0s 2ms/step - loss: 102.3339\n",
      "Epoch 220/500\n",
      "17/17 [==============================] - 0s 2ms/step - loss: 102.3309\n",
      "Epoch 221/500\n",
      "17/17 [==============================] - 0s 2ms/step - loss: 102.3125\n",
      "Epoch 222/500\n",
      "17/17 [==============================] - 0s 2ms/step - loss: 102.3089\n",
      "Epoch 223/500\n",
      "17/17 [==============================] - 0s 2ms/step - loss: 102.3188\n",
      "Epoch 224/500\n",
      "17/17 [==============================] - 0s 1ms/step - loss: 102.3774\n",
      "Epoch 225/500\n",
      "17/17 [==============================] - 0s 2ms/step - loss: 102.3558\n",
      "Epoch 226/500\n",
      "17/17 [==============================] - 0s 2ms/step - loss: 102.3317\n",
      "Epoch 227/500\n",
      "17/17 [==============================] - 0s 2ms/step - loss: 102.5180\n",
      "Epoch 228/500\n",
      "17/17 [==============================] - 0s 2ms/step - loss: 102.3318\n",
      "Epoch 229/500\n",
      "17/17 [==============================] - 0s 2ms/step - loss: 102.3326\n",
      "Epoch 230/500\n",
      "17/17 [==============================] - 0s 2ms/step - loss: 102.4131\n",
      "Epoch 231/500\n",
      "17/17 [==============================] - 0s 3ms/step - loss: 102.3184\n",
      "Epoch 232/500\n",
      "17/17 [==============================] - 0s 2ms/step - loss: 102.2695\n",
      "Epoch 233/500\n",
      "17/17 [==============================] - 0s 2ms/step - loss: 102.2977\n",
      "Epoch 234/500\n",
      "17/17 [==============================] - 0s 2ms/step - loss: 102.5293\n",
      "Epoch 235/500\n",
      "17/17 [==============================] - 0s 2ms/step - loss: 102.6094\n",
      "Epoch 236/500\n",
      "17/17 [==============================] - 0s 2ms/step - loss: 102.2501\n",
      "Epoch 237/500\n",
      "17/17 [==============================] - 0s 2ms/step - loss: 102.3953\n",
      "Epoch 238/500\n",
      "17/17 [==============================] - 0s 2ms/step - loss: 102.6991\n",
      "Epoch 239/500\n",
      "17/17 [==============================] - 0s 2ms/step - loss: 102.4465\n",
      "Epoch 240/500\n",
      "17/17 [==============================] - 0s 2ms/step - loss: 102.8382\n",
      "Epoch 241/500\n",
      "17/17 [==============================] - 0s 2ms/step - loss: 102.3618\n",
      "Epoch 242/500\n",
      "17/17 [==============================] - 0s 2ms/step - loss: 102.6133\n",
      "Epoch 243/500\n",
      "17/17 [==============================] - 0s 2ms/step - loss: 102.2214\n",
      "Epoch 244/500\n",
      "17/17 [==============================] - 0s 2ms/step - loss: 102.4544\n",
      "Epoch 245/500\n",
      "17/17 [==============================] - 0s 2ms/step - loss: 102.7045\n",
      "Epoch 246/500\n",
      "17/17 [==============================] - 0s 1ms/step - loss: 102.2650\n",
      "Epoch 247/500\n",
      "17/17 [==============================] - 0s 2ms/step - loss: 102.4612\n",
      "Epoch 248/500\n",
      "17/17 [==============================] - 0s 2ms/step - loss: 102.3911\n",
      "Epoch 249/500\n",
      "17/17 [==============================] - 0s 2ms/step - loss: 102.2923\n",
      "Epoch 250/500\n",
      "17/17 [==============================] - 0s 2ms/step - loss: 102.2954\n",
      "Epoch 251/500\n",
      "17/17 [==============================] - 0s 2ms/step - loss: 102.5739\n",
      "Epoch 252/500\n",
      "17/17 [==============================] - 0s 2ms/step - loss: 102.2640\n",
      "Epoch 253/500\n",
      "17/17 [==============================] - 0s 2ms/step - loss: 102.3043\n",
      "Epoch 254/500\n",
      "17/17 [==============================] - 0s 2ms/step - loss: 102.4875\n",
      "Epoch 255/500\n",
      "17/17 [==============================] - 0s 2ms/step - loss: 102.4093\n",
      "Epoch 256/500\n",
      "17/17 [==============================] - 0s 2ms/step - loss: 102.3054\n",
      "Epoch 257/500\n",
      "17/17 [==============================] - 0s 2ms/step - loss: 102.3656\n",
      "Epoch 258/500\n",
      "17/17 [==============================] - 0s 2ms/step - loss: 102.4024\n",
      "Epoch 259/500\n",
      "17/17 [==============================] - 0s 2ms/step - loss: 102.2831\n",
      "Epoch 260/500\n",
      "17/17 [==============================] - 0s 2ms/step - loss: 102.4394\n",
      "Epoch 261/500\n",
      "17/17 [==============================] - 0s 2ms/step - loss: 102.3475\n",
      "Epoch 262/500\n",
      "17/17 [==============================] - 0s 2ms/step - loss: 102.3405\n",
      "Epoch 263/500\n",
      "17/17 [==============================] - 0s 2ms/step - loss: 102.2804\n",
      "Epoch 264/500\n",
      "17/17 [==============================] - 0s 3ms/step - loss: 102.4141\n",
      "Epoch 265/500\n",
      "17/17 [==============================] - 0s 2ms/step - loss: 102.3124\n",
      "Epoch 266/500\n",
      "17/17 [==============================] - 0s 2ms/step - loss: 102.5157\n",
      "Epoch 267/500\n",
      "17/17 [==============================] - 0s 2ms/step - loss: 102.5986\n",
      "Epoch 268/500\n",
      "17/17 [==============================] - 0s 2ms/step - loss: 102.5138\n",
      "Epoch 269/500\n",
      "17/17 [==============================] - 0s 1ms/step - loss: 103.0410\n",
      "Epoch 270/500\n",
      "17/17 [==============================] - 0s 2ms/step - loss: 102.5270\n",
      "Epoch 271/500\n",
      "17/17 [==============================] - 0s 2ms/step - loss: 102.4961\n",
      "Epoch 272/500\n",
      "17/17 [==============================] - 0s 1ms/step - loss: 102.3919\n",
      "Epoch 273/500\n",
      "17/17 [==============================] - 0s 2ms/step - loss: 102.2620\n",
      "Epoch 274/500\n",
      "17/17 [==============================] - 0s 2ms/step - loss: 102.2777\n",
      "Epoch 275/500\n",
      "17/17 [==============================] - 0s 1ms/step - loss: 102.2428\n",
      "Epoch 276/500\n",
      "17/17 [==============================] - 0s 2ms/step - loss: 102.4009\n",
      "Epoch 277/500\n",
      "17/17 [==============================] - 0s 2ms/step - loss: 102.6835\n",
      "Epoch 278/500\n",
      "17/17 [==============================] - 0s 2ms/step - loss: 102.1684\n",
      "Epoch 279/500\n",
      "17/17 [==============================] - 0s 2ms/step - loss: 102.5026\n",
      "Epoch 280/500\n",
      "17/17 [==============================] - 0s 2ms/step - loss: 102.6976\n",
      "Epoch 281/500\n",
      "17/17 [==============================] - 0s 1ms/step - loss: 102.5431\n",
      "Epoch 282/500\n",
      "17/17 [==============================] - 0s 2ms/step - loss: 102.3108\n",
      "Epoch 283/500\n",
      "17/17 [==============================] - 0s 1ms/step - loss: 102.2606\n",
      "Epoch 284/500\n",
      "17/17 [==============================] - 0s 1ms/step - loss: 102.3115\n",
      "Epoch 285/500\n",
      "17/17 [==============================] - 0s 2ms/step - loss: 102.2893\n",
      "Epoch 286/500\n",
      "17/17 [==============================] - 0s 1ms/step - loss: 102.5508\n",
      "Epoch 287/500\n",
      "17/17 [==============================] - 0s 2ms/step - loss: 102.2300\n",
      "Epoch 288/500\n",
      "17/17 [==============================] - 0s 2ms/step - loss: 102.4546\n",
      "Epoch 289/500\n",
      "17/17 [==============================] - 0s 2ms/step - loss: 102.2639\n",
      "Epoch 290/500\n",
      "17/17 [==============================] - 0s 2ms/step - loss: 102.2685\n",
      "Epoch 291/500\n",
      "17/17 [==============================] - 0s 2ms/step - loss: 102.4625\n",
      "Epoch 292/500\n",
      "17/17 [==============================] - 0s 2ms/step - loss: 102.3504\n",
      "Epoch 293/500\n"
     ]
    },
    {
     "name": "stdout",
     "output_type": "stream",
     "text": [
      "17/17 [==============================] - 0s 2ms/step - loss: 102.3311\n",
      "Epoch 294/500\n",
      "17/17 [==============================] - 0s 1ms/step - loss: 102.3106\n",
      "Epoch 295/500\n",
      "17/17 [==============================] - 0s 1ms/step - loss: 102.2957\n",
      "Epoch 296/500\n",
      "17/17 [==============================] - 0s 2ms/step - loss: 102.3883\n",
      "Epoch 297/500\n",
      "17/17 [==============================] - 0s 1ms/step - loss: 102.3198\n",
      "Epoch 298/500\n",
      "17/17 [==============================] - 0s 2ms/step - loss: 102.2865\n",
      "Epoch 299/500\n",
      "17/17 [==============================] - 0s 2ms/step - loss: 102.3020\n",
      "Epoch 300/500\n",
      "17/17 [==============================] - 0s 2ms/step - loss: 102.3753\n",
      "Epoch 301/500\n",
      "17/17 [==============================] - 0s 1ms/step - loss: 102.4739\n",
      "Epoch 302/500\n",
      "17/17 [==============================] - 0s 1ms/step - loss: 102.1739\n",
      "Epoch 303/500\n",
      "17/17 [==============================] - 0s 1ms/step - loss: 102.2539\n",
      "Epoch 304/500\n",
      "17/17 [==============================] - 0s 2ms/step - loss: 102.2987\n",
      "Epoch 305/500\n",
      "17/17 [==============================] - 0s 2ms/step - loss: 102.4573\n",
      "Epoch 306/500\n",
      "17/17 [==============================] - 0s 2ms/step - loss: 102.2849\n",
      "Epoch 307/500\n",
      "17/17 [==============================] - 0s 2ms/step - loss: 102.2445\n",
      "Epoch 308/500\n",
      "17/17 [==============================] - 0s 2ms/step - loss: 102.4438\n",
      "Epoch 309/500\n",
      "17/17 [==============================] - 0s 4ms/step - loss: 102.4339\n",
      "Epoch 310/500\n",
      "17/17 [==============================] - 0s 3ms/step - loss: 102.2818\n",
      "Epoch 311/500\n",
      "17/17 [==============================] - 0s 3ms/step - loss: 102.2916\n",
      "Epoch 312/500\n",
      "17/17 [==============================] - 0s 2ms/step - loss: 102.3715\n",
      "Epoch 313/500\n",
      "17/17 [==============================] - 0s 2ms/step - loss: 102.3296\n",
      "Epoch 314/500\n",
      "17/17 [==============================] - 0s 2ms/step - loss: 102.2824\n",
      "Epoch 315/500\n",
      "17/17 [==============================] - 0s 2ms/step - loss: 102.2834\n",
      "Epoch 316/500\n",
      "17/17 [==============================] - 0s 2ms/step - loss: 102.1471\n",
      "Epoch 317/500\n",
      "17/17 [==============================] - 0s 2ms/step - loss: 102.3200\n",
      "Epoch 318/500\n",
      "17/17 [==============================] - 0s 2ms/step - loss: 102.3719\n",
      "Epoch 319/500\n",
      "17/17 [==============================] - 0s 2ms/step - loss: 102.2581\n",
      "Epoch 320/500\n",
      "17/17 [==============================] - 0s 1ms/step - loss: 102.2606\n",
      "Epoch 321/500\n",
      "17/17 [==============================] - 0s 2ms/step - loss: 102.6701\n",
      "Epoch 322/500\n",
      "17/17 [==============================] - 0s 1ms/step - loss: 102.2005\n",
      "Epoch 323/500\n",
      "17/17 [==============================] - 0s 2ms/step - loss: 102.5301\n",
      "Epoch 324/500\n",
      "17/17 [==============================] - 0s 2ms/step - loss: 102.2245\n",
      "Epoch 325/500\n",
      "17/17 [==============================] - 0s 1ms/step - loss: 102.2975\n",
      "Epoch 326/500\n",
      "17/17 [==============================] - 0s 2ms/step - loss: 102.5897\n",
      "Epoch 327/500\n",
      "17/17 [==============================] - 0s 1ms/step - loss: 102.3542\n",
      "Epoch 328/500\n",
      "17/17 [==============================] - 0s 4ms/step - loss: 102.2810\n",
      "Epoch 329/500\n",
      "17/17 [==============================] - 0s 3ms/step - loss: 102.5615\n",
      "Epoch 330/500\n",
      "17/17 [==============================] - 0s 2ms/step - loss: 102.1806\n",
      "Epoch 331/500\n",
      "17/17 [==============================] - 0s 3ms/step - loss: 102.2800\n",
      "Epoch 332/500\n",
      "17/17 [==============================] - 0s 4ms/step - loss: 102.2458\n",
      "Epoch 333/500\n",
      "17/17 [==============================] - 0s 2ms/step - loss: 102.2561\n",
      "Epoch 334/500\n",
      "17/17 [==============================] - 0s 2ms/step - loss: 102.5056\n",
      "Epoch 335/500\n",
      "17/17 [==============================] - 0s 2ms/step - loss: 102.2353\n",
      "Epoch 336/500\n",
      "17/17 [==============================] - 0s 2ms/step - loss: 102.2418\n",
      "Epoch 337/500\n",
      "17/17 [==============================] - 0s 4ms/step - loss: 102.3000\n",
      "Epoch 338/500\n",
      "17/17 [==============================] - 0s 3ms/step - loss: 102.3300\n",
      "Epoch 339/500\n",
      "17/17 [==============================] - 0s 2ms/step - loss: 102.3708\n",
      "Epoch 340/500\n",
      "17/17 [==============================] - 0s 2ms/step - loss: 102.2977\n",
      "Epoch 341/500\n",
      "17/17 [==============================] - 0s 2ms/step - loss: 102.4153\n",
      "Epoch 342/500\n",
      "17/17 [==============================] - 0s 2ms/step - loss: 102.2224\n",
      "Epoch 343/500\n",
      "17/17 [==============================] - 0s 2ms/step - loss: 102.2439\n",
      "Epoch 344/500\n",
      "17/17 [==============================] - 0s 3ms/step - loss: 102.3319\n",
      "Epoch 345/500\n",
      "17/17 [==============================] - 0s 2ms/step - loss: 102.2569\n",
      "Epoch 346/500\n",
      "17/17 [==============================] - 0s 2ms/step - loss: 102.4436\n",
      "Epoch 347/500\n",
      "17/17 [==============================] - 0s 1ms/step - loss: 102.2480\n",
      "Epoch 348/500\n",
      "17/17 [==============================] - 0s 2ms/step - loss: 102.4313\n",
      "Epoch 349/500\n",
      "17/17 [==============================] - 0s 2ms/step - loss: 102.2873\n",
      "Epoch 350/500\n",
      "17/17 [==============================] - 0s 3ms/step - loss: 102.3817\n",
      "Epoch 351/500\n",
      "17/17 [==============================] - 0s 2ms/step - loss: 102.2295\n",
      "Epoch 352/500\n",
      "17/17 [==============================] - 0s 2ms/step - loss: 102.2911\n",
      "Epoch 353/500\n",
      "17/17 [==============================] - 0s 2ms/step - loss: 102.2858\n",
      "Epoch 354/500\n",
      "17/17 [==============================] - 0s 2ms/step - loss: 102.2599\n",
      "Epoch 355/500\n",
      "17/17 [==============================] - 0s 2ms/step - loss: 102.4800\n",
      "Epoch 356/500\n",
      "17/17 [==============================] - 0s 2ms/step - loss: 102.3651\n",
      "Epoch 357/500\n",
      "17/17 [==============================] - 0s 2ms/step - loss: 102.4347\n",
      "Epoch 358/500\n",
      "17/17 [==============================] - 0s 2ms/step - loss: 102.3047\n",
      "Epoch 359/500\n",
      "17/17 [==============================] - 0s 3ms/step - loss: 102.2795\n",
      "Epoch 360/500\n",
      "17/17 [==============================] - 0s 2ms/step - loss: 102.3096\n",
      "Epoch 361/500\n",
      "17/17 [==============================] - 0s 2ms/step - loss: 102.4072\n",
      "Epoch 362/500\n",
      "17/17 [==============================] - 0s 1ms/step - loss: 102.3691\n",
      "Epoch 363/500\n",
      "17/17 [==============================] - 0s 2ms/step - loss: 102.3162\n",
      "Epoch 364/500\n",
      "17/17 [==============================] - 0s 2ms/step - loss: 102.2759\n",
      "Epoch 365/500\n",
      "17/17 [==============================] - 0s 2ms/step - loss: 102.2251\n",
      "Epoch 366/500\n",
      "17/17 [==============================] - 0s 1ms/step - loss: 102.3287\n",
      "Epoch 367/500\n",
      "17/17 [==============================] - 0s 2ms/step - loss: 102.1964\n",
      "Epoch 368/500\n",
      "17/17 [==============================] - 0s 2ms/step - loss: 102.3902\n",
      "Epoch 369/500\n",
      "17/17 [==============================] - 0s 2ms/step - loss: 102.2328\n",
      "Epoch 370/500\n",
      "17/17 [==============================] - 0s 2ms/step - loss: 102.2122\n",
      "Epoch 371/500\n",
      "17/17 [==============================] - 0s 2ms/step - loss: 102.2821\n",
      "Epoch 372/500\n",
      "17/17 [==============================] - 0s 2ms/step - loss: 102.3882\n",
      "Epoch 373/500\n",
      "17/17 [==============================] - 0s 2ms/step - loss: 102.2531\n",
      "Epoch 374/500\n",
      "17/17 [==============================] - 0s 2ms/step - loss: 102.2906\n",
      "Epoch 375/500\n",
      "17/17 [==============================] - 0s 2ms/step - loss: 102.3793\n",
      "Epoch 376/500\n",
      "17/17 [==============================] - 0s 1ms/step - loss: 102.4224\n",
      "Epoch 377/500\n",
      "17/17 [==============================] - 0s 2ms/step - loss: 102.2125\n",
      "Epoch 378/500\n",
      "17/17 [==============================] - 0s 2ms/step - loss: 102.4962\n",
      "Epoch 379/500\n",
      "17/17 [==============================] - 0s 2ms/step - loss: 102.9136\n",
      "Epoch 380/500\n",
      "17/17 [==============================] - 0s 2ms/step - loss: 102.2173\n",
      "Epoch 381/500\n",
      "17/17 [==============================] - 0s 2ms/step - loss: 102.4405\n",
      "Epoch 382/500\n",
      "17/17 [==============================] - 0s 2ms/step - loss: 102.1478\n",
      "Epoch 383/500\n",
      "17/17 [==============================] - 0s 2ms/step - loss: 102.2481\n",
      "Epoch 384/500\n",
      "17/17 [==============================] - 0s 1ms/step - loss: 102.4845\n",
      "Epoch 385/500\n",
      "17/17 [==============================] - 0s 1ms/step - loss: 102.4968\n",
      "Epoch 386/500\n",
      "17/17 [==============================] - 0s 2ms/step - loss: 102.4004\n",
      "Epoch 387/500\n",
      "17/17 [==============================] - 0s 1ms/step - loss: 102.2548\n",
      "Epoch 388/500\n",
      "17/17 [==============================] - 0s 1ms/step - loss: 102.3035\n",
      "Epoch 389/500\n",
      "17/17 [==============================] - 0s 2ms/step - loss: 102.1468\n",
      "Epoch 390/500\n"
     ]
    },
    {
     "name": "stdout",
     "output_type": "stream",
     "text": [
      "17/17 [==============================] - 0s 2ms/step - loss: 102.2032\n",
      "Epoch 391/500\n",
      "17/17 [==============================] - 0s 2ms/step - loss: 102.2562\n",
      "Epoch 392/500\n",
      "17/17 [==============================] - 0s 2ms/step - loss: 102.2633\n",
      "Epoch 393/500\n",
      "17/17 [==============================] - 0s 1ms/step - loss: 102.1791\n",
      "Epoch 394/500\n",
      "17/17 [==============================] - 0s 2ms/step - loss: 102.4331\n",
      "Epoch 395/500\n",
      "17/17 [==============================] - 0s 2ms/step - loss: 102.3402\n",
      "Epoch 396/500\n",
      "17/17 [==============================] - 0s 2ms/step - loss: 102.2179\n",
      "Epoch 397/500\n",
      "17/17 [==============================] - 0s 2ms/step - loss: 102.3182\n",
      "Epoch 398/500\n",
      "17/17 [==============================] - 0s 2ms/step - loss: 102.2018\n",
      "Epoch 399/500\n",
      "17/17 [==============================] - 0s 2ms/step - loss: 102.2475\n",
      "Epoch 400/500\n",
      "17/17 [==============================] - 0s 2ms/step - loss: 102.3303\n",
      "Epoch 401/500\n",
      "17/17 [==============================] - 0s 1ms/step - loss: 102.2976\n",
      "Epoch 402/500\n",
      "17/17 [==============================] - 0s 2ms/step - loss: 102.2562\n",
      "Epoch 403/500\n",
      "17/17 [==============================] - 0s 2ms/step - loss: 102.2807\n",
      "Epoch 404/500\n",
      "17/17 [==============================] - 0s 2ms/step - loss: 102.1317\n",
      "Epoch 405/500\n",
      "17/17 [==============================] - 0s 2ms/step - loss: 102.3696\n",
      "Epoch 406/500\n",
      "17/17 [==============================] - 0s 2ms/step - loss: 102.5271\n",
      "Epoch 407/500\n",
      "17/17 [==============================] - 0s 2ms/step - loss: 102.5795\n",
      "Epoch 408/500\n",
      "17/17 [==============================] - 0s 2ms/step - loss: 102.1682\n",
      "Epoch 409/500\n",
      "17/17 [==============================] - 0s 2ms/step - loss: 102.2643\n",
      "Epoch 410/500\n",
      "17/17 [==============================] - 0s 2ms/step - loss: 102.2233\n",
      "Epoch 411/500\n",
      "17/17 [==============================] - 0s 2ms/step - loss: 102.3786\n",
      "Epoch 412/500\n",
      "17/17 [==============================] - 0s 1ms/step - loss: 102.1004\n",
      "Epoch 413/500\n",
      "17/17 [==============================] - 0s 1ms/step - loss: 102.4713\n",
      "Epoch 414/500\n",
      "17/17 [==============================] - 0s 1ms/step - loss: 102.1619\n",
      "Epoch 415/500\n",
      "17/17 [==============================] - 0s 2ms/step - loss: 102.3508\n",
      "Epoch 416/500\n",
      "17/17 [==============================] - 0s 2ms/step - loss: 102.2237\n",
      "Epoch 417/500\n",
      "17/17 [==============================] - 0s 2ms/step - loss: 102.1728\n",
      "Epoch 418/500\n",
      "17/17 [==============================] - 0s 2ms/step - loss: 102.3244\n",
      "Epoch 419/500\n",
      "17/17 [==============================] - 0s 2ms/step - loss: 102.1969\n",
      "Epoch 420/500\n",
      "17/17 [==============================] - 0s 1ms/step - loss: 102.2318\n",
      "Epoch 421/500\n",
      "17/17 [==============================] - 0s 1ms/step - loss: 102.3572\n",
      "Epoch 422/500\n",
      "17/17 [==============================] - 0s 2ms/step - loss: 102.4863\n",
      "Epoch 423/500\n",
      "17/17 [==============================] - 0s 2ms/step - loss: 102.4799\n",
      "Epoch 424/500\n",
      "17/17 [==============================] - 0s 2ms/step - loss: 102.1870\n",
      "Epoch 425/500\n",
      "17/17 [==============================] - 0s 2ms/step - loss: 102.2357\n",
      "Epoch 426/500\n",
      "17/17 [==============================] - 0s 2ms/step - loss: 102.1953\n",
      "Epoch 427/500\n",
      "17/17 [==============================] - 0s 2ms/step - loss: 102.2412\n",
      "Epoch 428/500\n",
      "17/17 [==============================] - 0s 2ms/step - loss: 102.3158\n",
      "Epoch 429/500\n",
      "17/17 [==============================] - 0s 2ms/step - loss: 102.6338\n",
      "Epoch 430/500\n",
      "17/17 [==============================] - 0s 2ms/step - loss: 102.4758\n",
      "Epoch 431/500\n",
      "17/17 [==============================] - 0s 2ms/step - loss: 102.2647\n",
      "Epoch 432/500\n",
      "17/17 [==============================] - 0s 2ms/step - loss: 102.2609\n",
      "Epoch 433/500\n",
      "17/17 [==============================] - 0s 2ms/step - loss: 102.2420\n",
      "Epoch 434/500\n",
      "17/17 [==============================] - 0s 2ms/step - loss: 102.2196\n",
      "Epoch 435/500\n",
      "17/17 [==============================] - 0s 1ms/step - loss: 102.3020\n",
      "Epoch 436/500\n",
      "17/17 [==============================] - 0s 1ms/step - loss: 102.4682\n",
      "Epoch 437/500\n",
      "17/17 [==============================] - 0s 2ms/step - loss: 102.2395\n",
      "Epoch 438/500\n",
      "17/17 [==============================] - 0s 2ms/step - loss: 102.3692\n",
      "Epoch 439/500\n",
      "17/17 [==============================] - 0s 1ms/step - loss: 102.3644\n",
      "Epoch 440/500\n",
      "17/17 [==============================] - 0s 2ms/step - loss: 102.3652\n",
      "Epoch 441/500\n",
      "17/17 [==============================] - 0s 1ms/step - loss: 102.2334\n",
      "Epoch 442/500\n",
      "17/17 [==============================] - 0s 2ms/step - loss: 102.3444\n",
      "Epoch 443/500\n",
      "17/17 [==============================] - 0s 2ms/step - loss: 102.4687\n",
      "Epoch 444/500\n",
      "17/17 [==============================] - 0s 1ms/step - loss: 102.1412\n",
      "Epoch 445/500\n",
      "17/17 [==============================] - 0s 2ms/step - loss: 102.2876\n",
      "Epoch 446/500\n",
      "17/17 [==============================] - 0s 2ms/step - loss: 102.2018\n",
      "Epoch 447/500\n",
      "17/17 [==============================] - 0s 2ms/step - loss: 102.2095\n",
      "Epoch 448/500\n",
      "17/17 [==============================] - 0s 2ms/step - loss: 102.2145\n",
      "Epoch 449/500\n",
      "17/17 [==============================] - 0s 3ms/step - loss: 102.3064\n",
      "Epoch 450/500\n",
      "17/17 [==============================] - 0s 2ms/step - loss: 102.1233\n",
      "Epoch 451/500\n",
      "17/17 [==============================] - 0s 1ms/step - loss: 102.2536\n",
      "Epoch 452/500\n",
      "17/17 [==============================] - 0s 2ms/step - loss: 102.1726\n",
      "Epoch 453/500\n",
      "17/17 [==============================] - 0s 2ms/step - loss: 102.2310\n",
      "Epoch 454/500\n",
      "17/17 [==============================] - 0s 2ms/step - loss: 102.1579\n",
      "Epoch 455/500\n",
      "17/17 [==============================] - 0s 2ms/step - loss: 102.2606\n",
      "Epoch 456/500\n",
      "17/17 [==============================] - 0s 2ms/step - loss: 102.3167\n",
      "Epoch 457/500\n",
      "17/17 [==============================] - 0s 2ms/step - loss: 102.2265\n",
      "Epoch 458/500\n",
      "17/17 [==============================] - 0s 2ms/step - loss: 102.2363\n",
      "Epoch 459/500\n",
      "17/17 [==============================] - 0s 2ms/step - loss: 102.1452\n",
      "Epoch 460/500\n",
      "17/17 [==============================] - 0s 2ms/step - loss: 102.2730\n",
      "Epoch 461/500\n",
      "17/17 [==============================] - 0s 2ms/step - loss: 102.2686\n",
      "Epoch 462/500\n",
      "17/17 [==============================] - 0s 2ms/step - loss: 102.8500\n",
      "Epoch 463/500\n",
      "17/17 [==============================] - 0s 2ms/step - loss: 102.1765\n",
      "Epoch 464/500\n",
      "17/17 [==============================] - 0s 1ms/step - loss: 102.3118\n",
      "Epoch 465/500\n",
      "17/17 [==============================] - 0s 2ms/step - loss: 102.3107\n",
      "Epoch 466/500\n",
      "17/17 [==============================] - 0s 1ms/step - loss: 102.4055\n",
      "Epoch 467/500\n",
      "17/17 [==============================] - 0s 2ms/step - loss: 102.3926\n",
      "Epoch 468/500\n",
      "17/17 [==============================] - 0s 1ms/step - loss: 102.2660\n",
      "Epoch 469/500\n",
      "17/17 [==============================] - 0s 1ms/step - loss: 102.2555\n",
      "Epoch 470/500\n",
      "17/17 [==============================] - 0s 2ms/step - loss: 102.1643\n",
      "Epoch 471/500\n",
      "17/17 [==============================] - 0s 1ms/step - loss: 102.3166\n",
      "Epoch 472/500\n",
      "17/17 [==============================] - 0s 2ms/step - loss: 102.1643\n",
      "Epoch 473/500\n",
      "17/17 [==============================] - 0s 2ms/step - loss: 102.1753\n",
      "Epoch 474/500\n",
      "17/17 [==============================] - 0s 2ms/step - loss: 102.2214\n",
      "Epoch 475/500\n",
      "17/17 [==============================] - 0s 2ms/step - loss: 102.2453\n",
      "Epoch 476/500\n",
      "17/17 [==============================] - 0s 2ms/step - loss: 102.1094\n",
      "Epoch 477/500\n",
      "17/17 [==============================] - 0s 1ms/step - loss: 102.1712\n",
      "Epoch 478/500\n",
      "17/17 [==============================] - 0s 2ms/step - loss: 102.3043\n",
      "Epoch 479/500\n",
      "17/17 [==============================] - 0s 2ms/step - loss: 102.2637\n",
      "Epoch 480/500\n",
      "17/17 [==============================] - 0s 2ms/step - loss: 102.2199\n",
      "Epoch 481/500\n",
      "17/17 [==============================] - 0s 2ms/step - loss: 102.1796\n",
      "Epoch 482/500\n",
      "17/17 [==============================] - 0s 2ms/step - loss: 102.1224\n",
      "Epoch 483/500\n",
      "17/17 [==============================] - 0s 2ms/step - loss: 102.2344\n",
      "Epoch 484/500\n",
      "17/17 [==============================] - 0s 2ms/step - loss: 102.2308\n",
      "Epoch 485/500\n",
      "17/17 [==============================] - 0s 2ms/step - loss: 102.2077\n",
      "Epoch 486/500\n",
      "17/17 [==============================] - 0s 2ms/step - loss: 102.1692\n",
      "Epoch 487/500\n"
     ]
    },
    {
     "name": "stdout",
     "output_type": "stream",
     "text": [
      "17/17 [==============================] - 0s 2ms/step - loss: 102.1374\n",
      "Epoch 488/500\n",
      "17/17 [==============================] - 0s 2ms/step - loss: 102.2564\n",
      "Epoch 489/500\n",
      "17/17 [==============================] - 0s 2ms/step - loss: 102.7653\n",
      "Epoch 490/500\n",
      "17/17 [==============================] - 0s 2ms/step - loss: 102.3354\n",
      "Epoch 491/500\n",
      "17/17 [==============================] - 0s 2ms/step - loss: 102.0446\n",
      "Epoch 492/500\n",
      "17/17 [==============================] - 0s 2ms/step - loss: 102.3268\n",
      "Epoch 493/500\n",
      "17/17 [==============================] - 0s 2ms/step - loss: 102.2167\n",
      "Epoch 494/500\n",
      "17/17 [==============================] - 0s 2ms/step - loss: 102.2456\n",
      "Epoch 495/500\n",
      "17/17 [==============================] - 0s 2ms/step - loss: 102.0994\n",
      "Epoch 496/500\n",
      "17/17 [==============================] - 0s 2ms/step - loss: 102.3427\n",
      "Epoch 497/500\n",
      "17/17 [==============================] - 0s 2ms/step - loss: 102.7597\n",
      "Epoch 498/500\n",
      "17/17 [==============================] - 0s 1ms/step - loss: 102.7677\n",
      "Epoch 499/500\n",
      "17/17 [==============================] - 0s 2ms/step - loss: 102.1738\n",
      "Epoch 500/500\n",
      "17/17 [==============================] - 0s 1ms/step - loss: 102.2414\n"
     ]
    },
    {
     "data": {
      "text/plain": [
       "<tensorflow.python.keras.callbacks.History at 0x7fb464670550>"
      ]
     },
     "execution_count": 249,
     "metadata": {},
     "output_type": "execute_result"
    }
   ],
   "source": [
    "# fit the model\n",
    "model.fit(X_train, y_train, epochs=500, batch_size=20) #verbose=0"
   ]
  },
  {
   "cell_type": "markdown",
   "metadata": {},
   "source": [
    "### Evaluate the model:"
   ]
  },
  {
   "cell_type": "code",
   "execution_count": 250,
   "metadata": {},
   "outputs": [
    {
     "name": "stdout",
     "output_type": "stream",
     "text": [
      "MSE: 18.595, RMSE: 4.312\n"
     ]
    }
   ],
   "source": [
    "# evaluate the model\n",
    "error = model.evaluate(X_test, y_test, verbose=0)\n",
    "print('MSE: %.3f, RMSE: %.3f' % (error, sqrt(error)))"
   ]
  },
  {
   "cell_type": "markdown",
   "metadata": {},
   "source": [
    "This is the initial plot I did before comparing the actual data set to the predicted values using the model. When I did this first I didn't split the data."
   ]
  },
  {
   "cell_type": "raw",
   "metadata": {
    "scrolled": true
   },
   "source": [
    "# see how well the model does\n",
    "plt.plot(df['speed'], df['power'], 'k.',label='actual')\n",
    "plt.plot(df['speed'], model.predict(df['speed']), 'r.',label='prediction')\n",
    "plt.legend();"
   ]
  },
  {
   "cell_type": "code",
   "execution_count": 257,
   "metadata": {},
   "outputs": [
    {
     "data": {
      "text/plain": [
       "[<matplotlib.lines.Line2D at 0x7fb466a649d0>]"
      ]
     },
     "execution_count": 257,
     "metadata": {},
     "output_type": "execute_result"
    },
    {
     "data": {
      "image/png": "[encoded data removed]",
      "text/plain": [
       "<Figure size 1008x576 with 1 Axes>"
      ]
     },
     "metadata": {},
     "output_type": "display_data"
    }
   ],
   "source": [
    "# plot actual data \n",
    "plt.plot(df['speed'], df['power'], 'k.',label='actual')\n",
    "# plot predicted values for the test set\n",
    "plt.plot(X_test, y_test, 'r.', label='predicted on test set')"
   ]
  },
  {
   "cell_type": "raw",
   "metadata": {},
   "source": [
    "row = [5,10,15,20]\n",
    "yhat = model.predict([row])\n",
    "print('Predicted: %.3f' % yhat)"
   ]
  },
  {
   "cell_type": "markdown",
   "metadata": {},
   "source": [
    "### Here!\n",
    "\n",
    "I have followed both the machine learning mastery tutorial and Ian's class and applied to the data.\n",
    "I did split the data set this time, some zero values have been taken out. I think I need to eliminate some more but I'll come back to this. The curve looks pretty good. \n",
    "\n",
    "I did not scale or preprocess the data this time. Will decide later.\n",
    "\n",
    "\n",
    "From here down I will probably cut. a lot of duplication now with above.\n",
    "\n",
    "\n",
    "First referring to the [Introduction to Keras for Engineers](https://keras.io/getting_started/intro_to_keras_for_engineers/) article and making some notes.\n",
    "\n",
    "\n",
    "- First we need to prepare the data before training the model by by turning it into either NumPy arrays or tf.data.Dataset objects). \n",
    "The dataset for this project is in csv format. I have already read it into a pandas dataframe but it can be easily converted into a numpy array. \n",
    "\n",
    "x = np.array(df.speed)\n",
    "y = np.array(df.power)\n",
    "\n",
    "- Do preprocessing such as feature normalisation.\n",
    "The data consists of two columns of data and thats it. The only preprocesing that is applicable here is to rescale the data to small values as in general the input values to a neural network should be close to zero. According to the tutorial  the data should either be rescaled to have zero-mean and unit-variance or the data in the `[0.1]` range. The preprocessing should ideally be done as part of the model to make it more portable in production. In Keras the preprocessing is done via preprocessing layers which can be included directly into your model either during training or after training. Some preprocessing layers have a state, in this case normalization holds the mean and variance of the features and can be obtained by calling `layer.adapt(data)` on a sample or all of the training data.\n",
    "\n",
    "## Data loading and preprocessing\n",
    ">Neural networks don't process raw data, like text files, encoded JPEG image files, or CSV files. They process vectorized & standardized representations.\n",
    "\n",
    "CSV data needs to be parsed, with numerical features converted to floating point tensors and categorical features indexed and converted to integer tensors. Then each feature typically needs to be normalized to zero-mean and unit-variance.\n",
    "\n",
    "\n",
    "\n",
    "Build a model that turns your data into useful predictions\n",
    "Train your model with the built-in Keras fit() method\n",
    "Evaluate your model on a test data and how to use it for inference on new data\n",
    "Customize what fit() does,\n",
    "Speed up training by leveraging multiple GPUs. - I don't think we will need this here!\n",
    "Refine your model through hyperparameter tuning"
   ]
  },
  {
   "cell_type": "code",
   "execution_count": null,
   "metadata": {},
   "outputs": [],
   "source": []
  },
  {
   "cell_type": "code",
   "execution_count": 201,
   "metadata": {},
   "outputs": [],
   "source": [
    "x = np.array(df.speed)\n",
    "y = np.array(df.power)"
   ]
  },
  {
   "cell_type": "code",
   "execution_count": 202,
   "metadata": {},
   "outputs": [
    {
     "data": {
      "text/plain": [
       "(490, 2)"
      ]
     },
     "execution_count": 202,
     "metadata": {},
     "output_type": "execute_result"
    }
   ],
   "source": [
    "X =  np.vstack([x, y]).T\n",
    "X.size \n",
    "# 1000\n",
    "X.shape\n",
    "# (500, 2)"
   ]
  },
  {
   "cell_type": "code",
   "execution_count": 203,
   "metadata": {},
   "outputs": [
    {
     "name": "stdout",
     "output_type": "stream",
     "text": [
      "30.66841020408163\n"
     ]
    }
   ],
   "source": [
    "mean = np.mean(X)\n",
    "X -= mean\n",
    "print(mean)\n",
    "std = np.std(X, axis=0)\n",
    "X /= std\n"
   ]
  },
  {
   "cell_type": "code",
   "execution_count": 176,
   "metadata": {},
   "outputs": [
    {
     "name": "stdout",
     "output_type": "stream",
     "text": [
      "var: 1.0000\n",
      "mean: -0.0000\n"
     ]
    }
   ],
   "source": [
    "from tensorflow.keras.layers.experimental.preprocessing import Normalization\n",
    "\n",
    "# Example image data, with values in the [0, 255] range\n",
    "training_data = X\n",
    "\n",
    "normalizer = Normalization(axis=1)\n",
    "normalizer.adapt(X)\n",
    "\n",
    "\n",
    "normalized_data = normalizer(training_data)\n",
    "print(\"var: %.4f\" % np.var(normalized_data))\n",
    "print(\"mean: %.4f\" % np.mean(normalized_data))"
   ]
  },
  {
   "cell_type": "raw",
   "metadata": {},
   "source": [
    "normalized_data"
   ]
  },
  {
   "cell_type": "raw",
   "metadata": {},
   "source": []
  },
  {
   "cell_type": "code",
   "execution_count": 179,
   "metadata": {},
   "outputs": [],
   "source": [
    "# Plot style.\n",
    "plt.style.use(\"ggplot\")\n",
    "\n",
    "# Plot size.\n",
    "plt.rcParams['figure.figsize'] = [14, 8]"
   ]
  },
  {
   "cell_type": "markdown",
   "metadata": {},
   "source": [
    "\n",
    "The data is already numerical so no encoding is required.\n",
    "The training set will be the speed and power values from the dataset.\n",
    "I initially followed the lectures and used just one neuron but this did not do so well.\n",
    "\n",
    "For now I am following the notebooks provided by Ian and a few tutorials on Machine Learning Mastery.\n",
    "https://machinelearningmastery.com/tutorial-first-neural-network-python-keras/ demonstrates a fully connected network structure with three layers.\n",
    "\n",
    "Create a Sequential Model and  add layers one at a time until happy with the network architecture. A sequential neural network is built up in sequential layers.\n",
    "\n",
    "The first thing is to ensure the input layer has the right number of input features. You provide the input layer to the model\n",
    "The dataset here has only a single input feature which is wind speed. How to determine the correct number of layers to use? According to the tutorial its a matter of trial and error really. Generally you need a network large enough to capture the structure of the problem.\n",
    "\n",
    "Fully connected layers are defined using the `Dense` class.  Dense refers to the layer being densely connected to the previous layer. Every node in the previous layer is connected to everything in the current layer.\n",
    "\n",
    "\n",
    "The number of neurons or nodes in the layer as the first argument and specify the activation function using the `activation` argument. The demo uses the `rectified linear unit` activation function referred to as ReLU on the first two layers and the Sigmoid function in the output layer. As far as I recall Ian recommended using just the Sigmoid activation function. According to the tutorial, Sigmoid and Tanh activation functions were the preferred choice  for all layers before but that these days better performance is achieved using the ReLU activation function. I can try one or the other.  A `Sigmoid` layer is used on the outer layer to ensure the network output is between 0 and 1. (This problem though is not looking to classify the data into one of two classes.).\n",
    "The input shape is 1 as there is only 1 input variable. (input_dim=1 or input_shape=(1,))\n",
    "The shape of the input to the model is defined as an argument on the first hidden layer. The first line of code that adds the first Dense layer does 2 things, defines the input or visible layer and the first hidden layer.\n",
    "\n",
    "\n",
    "\n",
    "\n",
    "\n",
    "#### compile\n",
    "Once the model is defined, it can be compiled or built. We specify the learning rate and the loss function which we want to minimise.\n",
    "\n",
    "When compiling, some additional properties are required when training the network. Training a network means finding the best set of weights to map inputs to outputs in our dataset. The loss function must be specified\n",
    ">We must specify the loss function to use to evaluate a set of weights, the optimizer is used to search through different weights for the network and any optional metrics we would like to collect and report during training.\n",
    "\n",
    "The tutorial uses cross entrophy as the loss argument as it is looking at a binary classification problem. We are to stick with mean squared error I think.\n",
    ">The optimizer is defined below as the efficient stochastic gradient descent algorithm “adam“. This is a popular version of gradient descent because it automatically tunes itself and gives good results in a wide range of problems."
   ]
  },
  {
   "cell_type": "raw",
   "metadata": {},
   "source": [
    "# Create a neural network with 50 neurons.\n",
    "model = kr.models.Sequential()\n",
    "# the first layer with one input, kernel_initializer='ones' \n",
    "model.add(kr.layers.Dense(1, input_shape=(1,), activation=\"linear\", kernel_initializer='glorot_uniform', bias_initializer='zeros'))\n",
    "\n",
    "model.add(kr.layers.Dense(50, activation='sigmoid'))\n",
    "model.add(kr.layers.Dense(1, activation=\"linear\",  kernel_initializer='glorot_uniform'))"
   ]
  },
  {
   "cell_type": "code",
   "execution_count": 191,
   "metadata": {},
   "outputs": [],
   "source": [
    "\n",
    "# Train a different model\n",
    "model = kr.models.Sequential()\n",
    "model.add(kr.layers.Dense(50, input_shape=(1,), activation='sigmoid', kernel_initializer=\"glorot_uniform\", bias_initializer=\"glorot_uniform\"))\n",
    "model.add(kr.layers.Dense(1, activation='linear', kernel_initializer=\"glorot_uniform\", bias_initializer=\"glorot_uniform\"))\n",
    "model.compile(kr.optimizers.Adam(lr=0.001), loss='mean_squared_error')"
   ]
  },
  {
   "cell_type": "markdown",
   "metadata": {},
   "source": [
    "\n"
   ]
  },
  {
   "cell_type": "code",
   "execution_count": 184,
   "metadata": {},
   "outputs": [
    {
     "name": "stdout",
     "output_type": "stream",
     "text": [
      "Model: \"sequential_4\"\n",
      "_________________________________________________________________\n",
      "Layer (type)                 Output Shape              Param #   \n",
      "=================================================================\n",
      "dense_11 (Dense)             (None, 1)                 2         \n",
      "_________________________________________________________________\n",
      "dense_12 (Dense)             (None, 50)                100       \n",
      "_________________________________________________________________\n",
      "dense_13 (Dense)             (None, 1)                 51        \n",
      "=================================================================\n",
      "Total params: 153\n",
      "Trainable params: 153\n",
      "Non-trainable params: 0\n",
      "_________________________________________________________________\n"
     ]
    }
   ],
   "source": [
    "model.compile('adam', loss='mean_squared_error')\n",
    "model.summary()"
   ]
  },
  {
   "cell_type": "markdown",
   "metadata": {},
   "source": [
    "The model shows 153 total parameters. This is made up of the single input in the input layer, 50 neurons plus 50 bias terms in the hidden layer.\n"
   ]
  },
  {
   "cell_type": "markdown",
   "metadata": {},
   "source": []
  },
  {
   "cell_type": "code",
   "execution_count": 192,
   "metadata": {},
   "outputs": [],
   "source": [
    "# This is the unprocessed or unscaled data\n",
    "x = df['speed']\n",
    "y = df['power']"
   ]
  },
  {
   "cell_type": "raw",
   "metadata": {},
   "source": [
    "model.fit(x,y, epochs=500)"
   ]
  },
  {
   "cell_type": "raw",
   "metadata": {},
   "source": [
    "X[:,1]"
   ]
  },
  {
   "cell_type": "raw",
   "metadata": {},
   "source": [
    "# Train the neural network on our training data.\n",
    "#model.fit(df['x'], df['y'], epochs=500)\n",
    "model.fit(X[:,0],X[:,1], epochs=500, batch_size=10)"
   ]
  },
  {
   "cell_type": "markdown",
   "metadata": {},
   "source": [
    "Train a new model using the sigmoid function as the activation function.\n",
    "Using the sigmoid function instead of the linear function which is clearly not a good fit.\n"
   ]
  },
  {
   "cell_type": "markdown",
   "metadata": {},
   "source": [
    "Now training a different model. This one has a hidden layer with 60 neurons. A different kernel initialiser is used. the batch size is how many x's are sent it at any one time. Instead of sending one x in and adjusting the weights and the biases, send it 10 at a time. This sometimes has a smoothing effect. It still sends each x in 500 times (for 500 epochs) but 10 at a time instead of 1 at a time.\n"
   ]
  },
  {
   "cell_type": "raw",
   "metadata": {},
   "source": [
    "# Train a different model.\n",
    "model = kr.models.Sequential()\n",
    "model.add(kr.layers.Dense(60, input_shape=(1,), activation='sigmoid', kernel_initializer=\"glorot_uniform\", bias_initializer=\"glorot_uniform\"))\n",
    "model.add(kr.layers.Dense(1, activation='linear', kernel_initializer=\"glorot_uniform\", bias_initializer=\"glorot_uniform\"))\n",
    "model.compile(kr.optimizers.Adam(lr=0.001), loss='mean_squared_error', metrics=['accuracy'])"
   ]
  },
  {
   "cell_type": "raw",
   "metadata": {},
   "source": [
    "# Fit the data.\n",
    "model.fit(df['speed'], df['power'], epochs=500, batch_size=10)"
   ]
  },
  {
   "cell_type": "code",
   "execution_count": 200,
   "metadata": {},
   "outputs": [
    {
     "name": "stdout",
     "output_type": "stream",
     "text": [
      "16/16 [==============================] - 0s 1ms/step - loss: 75.1917 - accuracy: 0.0000e+00\n"
     ]
    }
   ],
   "source": [
    "accuracy = model.evaluate(x, y)"
   ]
  },
  {
   "cell_type": "markdown",
   "metadata": {},
   "source": [
    "The zero values for power at high levels of speed does seem to be pulling the curve down so maybe I need to take them out. The rest of the data seems to be quite well modelled.\n",
    "I need to read more into this. Overall it is still impressive that with only a single numerical input for speed you can still get such a close match to what the power values look like.\n",
    "\n",
    "The loss is still quite high and did not come down much despite playing around with the parameters.\n",
    "The ideal loss is is zero and the ideal accuracy is 1.0 or 100%.\n",
    ">The goal is to choose a model configuration and training configuration that achieve the lowest loss and highest accuracy possible for a given dataset\n",
    "- https://machinelearningmastery.com/tutorial-first-neural-network-python-keras/\n",
    "\n",
    "I need to split the data also into a training and test set.\n",
    "See https://scikit-learn.org/stable/modules/cross_validation.html\n",
    "`from sklearn.model_selection import train_test_split` \n",
    "`X_train, X_test, y_train, y_test = train_test_split(\n",
    "...     X, y, test_size=0.4, random_state=0)`"
   ]
  },
  {
   "cell_type": "markdown",
   "metadata": {},
   "source": [
    "https://medium.com/the-theory-of-everything/understanding-activation-functions-in-neural-networks-9491262884e0\n",
    "Here I am reading through the article referenced, making notes and some paraphrasing. I will reference properly later.\n",
    "\n",
    "An artificial neuron calculates a weighted sum of its input, adds a bias and then decides whether it should be fired or not. $ Y = \\sum{(\\text{weight} * \\text{input})} + \\text{bias}$\n",
    "The value of Y can be anything from -infinity to + infinity. The neuron does not really know the bounds of the value. So how do we decide whether the neuron should fire or not? This is where the activation functions come in. The activation function will check the Y value produced by the neuron and decide whether outside connections should consider this neuron as activated (fired) or not.\n",
    "\n",
    "Consider a threshold based activation function. If the value of Y is above a certain value then it could declare it as activated, otherwise not. In this case the output is 1 (activated) when the value is greater than than the threshold and 0 otherwise. This is a step function. There are drawbacks to using this method as an activation function for neural networks though when the response is not a binary yes or no.\n",
    "\n",
    "A linear activation function A = cx is a straight line function where activation is proportional to input ( which is the weighted sum from neuron ). In this way it will give a range of activations rather than just binary activations. We can connect some neurons and if more than one fire then we could take the max and decide based on that.\n",
    "\n",
    "The derivative w.r.x is c which means that the gradient has no relationship with X. The descent is going to be on a constant gradient. If there is an error in prediction the changes made by back propagation is constant and not depending on the change in input delta(x).\n",
    "Another problem concerns the connected layers where each layer is activated by a linear function. \n",
    "That activation in turn goes into the next level as input and the second layer calculates weighted sum on that input and it in turn, fires based on another linear activation function.\n",
    "No matter how many layers we have, if all are linear in nature, the final activation function of last layer is nothing but just a linear function of the input of first layer. Therefore two or more layers can be replaced by a single layer. The whole network then is equivalent to  a single layer with linear activation.\n",
    "\n",
    "Thw sigmoid function is smooth and looks somewhat like a step function. It is nonlinear in nature and therefore combinations of layers are also non-linear which means that layers can be stacked. It will also give non binary activations unlike the step function. It has a smooth gradient.\n",
    "\n",
    "Between X values -2 to 2, the Y values are very steep.This means that any small changes in the values of X in that region will cause values of Y to change significantly.This means this function has a tendency to bring the Y values to either end of the curve.\n",
    "It tends to bring the activations to either side of the curve making clear distinctions on prediction. Another advantage over linear function is that the output of the activation function is always going to be in range (0,1) compared to (-inf, inf) of linear function and therefore the activations are bound in a range. \n",
    "Sigmoid functions are one of the most widely used activation functions today. The problems with them is that towards either end of the sigmoid function, the Y values tend to respond very less to changes in X. This means that the gradient at that region is going to be small. It gives rise to a problem of “vanishing gradients”. When the activations reach near the “near-horizontal” part of the curve on either sides, the gradient is small or has vanished ( cannot make significant change because of the extremely small value ). The network refuses to learn further or is drastically slow ( depending on use case and until gradient /computation gets hit by floating point value limits ). There are ways to work around this problem and sigmoid is still very popular in classification problems.\n",
    "The article also looked at the Tanh activation functions which is a scaled sigmoid function and the ReLu function which gives an output x if x is positive and 0 otherwise. These are both non-linear functions.\n",
    "\n",
    "The article finishes by suggesting how to choose the correct activation function. \n",
    "When you know the function you are trying to approximate has certain characteristics, you can choose an activation function which will approximate the function faster leading to faster training process. For example, a sigmoid works well for a classifier "
   ]
  },
  {
   "cell_type": "markdown",
   "metadata": {},
   "source": [
    "https://www.computing.dcu.ie/~humphrys/Notes/Neural/sigmoid.html\n",
    "https://machinelearningmastery.com/tutorial-first-neural-network-python-keras/"
   ]
  },
  {
   "cell_type": "markdown",
   "metadata": {},
   "source": [
    "### End"
   ]
  },
  {
   "cell_type": "code",
   "execution_count": null,
   "metadata": {},
   "outputs": [],
   "source": []
  },
  {
   "cell_type": "code",
   "execution_count": null,
   "metadata": {},
   "outputs": [],
   "source": []
  }
 ],
 "metadata": {
  "kernelspec": {
   "display_name": "Python 3",
   "language": "python",
   "name": "python3"
  },
  "language_info": {
   "codemirror_mode": {
    "name": "ipython",
    "version": 3
   },
   "file_extension": ".py",
   "mimetype": "text/x-python",
   "name": "python",
   "nbconvert_exporter": "python",
   "pygments_lexer": "ipython3",
   "version": "3.8.2"
  }
 },
 "nbformat": 4,
 "nbformat_minor": 4
}
