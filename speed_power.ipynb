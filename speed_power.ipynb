{
 "cells": [
  {
   "cell_type": "markdown",
   "metadata": {},
   "source": [
    "# Machine Learning and Statistics Project 2020\n",
    "by Angela Carpenter\n",
    "- [power production dataset](https://raw.githubusercontent.com/ianmcloughlin/2020A-machstat-project/master/dataset/powerproduction.csv) from Ian McLoughlin Github"
   ]
  },
  {
   "cell_type": "markdown",
   "metadata": {},
   "source": [
    "# Table of Contents\n",
    "- Project Instructions / Overview\n",
    "- Project plan\n",
    "- About this Notebook\n",
    "- Python Libraries\n",
    "- Downloading and running the code\n",
    "- Loading / Reading in the dataset\n",
    "- Exploring the dataset\n",
    "- Describing the dataset\n",
    "- Summary Statistics\n",
    "- Visualising the dataset using plots\n",
    "- Summary and Conclusions\n",
    "- References\n",
    "\n",
    "\n",
    "## Project Instructions\n",
    "\n",
    "In this project you must create a web service that uses machine learning to make pre- dictions based on the data set powerproduction available on Moodle. The goal is to produce a model that accurately predicts wind turbine power output from wind speed values, as in the data set. You must then develop a web service that will respond with predicted power values based on speed values sent as HTTP requests. Your submission must be in the form of a git repository containing, at a minimum, the following items.\n",
    "1. Jupyter notebook that trains a model using the data set. In the notebook you should explain your model and give an analysis of its accuracy.\n",
    "2. Python script that runs a web service based on the model, as above.\n",
    "3. Dockerfile to build and run the web service in a container.\n",
    "4. Standard items in a git repository such as a README.\n",
    "To enhance your submission, you might consider developing and comparing more than one model. Rest assured, all the above concepts will be explored in lecture videos and other materials in the coming semester.\n",
    "\n",
    "### notes to self\n",
    "\n",
    "The goal of this project is to produce a model that accurately predicts wind turbine power output from wind speed values, as in the data set. The first time I looked at this I was wondering if the data values represented measurements over a particular period of time and if the lower values of power might be related to the time taken for the turbines to get up and running before they could generate any power or if some of the zero power values were related to periodic maintenance when the turbines might get switched off. There does seem to be some linear relationship between the two variables for the middle portion of the dataset and the power generated does seem to level off after a particular point but overall the relationship is strong but non-linear.\n",
    "\n",
    "However looking at the raw data in the csv file, the rows are ordered by ascending values of speed column with the corresponding power values in the other column. There is no indication as to how the data values were collected and therefore I don't think I can make any judgements about the data over a particular timeframe. There are only two columns of numerical data provided with no indication provided as to their measurement units.  I will just focus on trying to use some algorithms to predict the power values based on the input values of speed.  \n",
    "\n",
    "- whether to keep all zeros in or out\n",
    "- scaling the input and output values\n",
    "- I trained a neural network with and without the zeros, definitely the learning curve looks much better when the zeros are dropped. I first only dropped the zero values for the very high speed values as the turbines would be switched off in dangerous winds. I then tried dropping all, then some!\n",
    "- I also need to look at the web app side of it so I won't get carried away on training the model until I have this up and running even if the model is not perfect. It seems to be a case of playing around with the parameters and it is surprising how well the NN models the data given only single numerical values fed into it.\n",
    "- dfx is a copy of df with some zeros dropped (speed values over 24.4)\n",
    "- dfz is a copy of df with all zeros dropped, or maybe it was zeros where power was over a certain value. Anyway its near the end of the notebook.\n",
    "- I will probably lose all the numpy polyfit regression models and maybe leave in the higher order polynomial using scikit learn.\n",
    "- I might look again at scikit learn to see if there are any other models to try. if I have time that it...\n",
    "- I do have docker installed.\n",
    "- I am following some machine learning mastery tutorials which are really informative. Also the keras for engineers.\n",
    "- cleaned up some unnecesary statistics below and consolidated the exploratory plots.\n",
    "- Need to tidy up the section on a brief background of wind turbines, just to see how it relates to the s-curve and not going into the physics of how wind turbines actually work. \n",
    "- I did the seabron regression plots on the full dataset so I might just try it quickly on the cleaned dataset without all the zero values.\n",
    "- Need to decide on final parameters for the keras neural network and save a model to use with a flask app.\n",
    "- Need to set up the flask app and virtual envirnoment. First clean up this notebook some more.\n",
    "- the h5 file does not seem to be correct. maybe there is another format to save it as.\n",
    "\n"
   ]
  },
  {
   "cell_type": "markdown",
   "metadata": {},
   "source": [
    "#### Read in the dataset"
   ]
  },
  {
   "cell_type": "code",
   "execution_count": 8,
   "metadata": {},
   "outputs": [],
   "source": [
    "# first importing the following libraries\n",
    "import numpy as np\n",
    "import pandas as pd  \n",
    "import matplotlib.pyplot as plt \n",
    "import seaborn as sns\n",
    "\n",
    "import csv"
   ]
  },
  {
   "cell_type": "code",
   "execution_count": 9,
   "metadata": {},
   "outputs": [],
   "source": [
    "# save link to data and reference the link \n",
    "csv_url = 'https://raw.githubusercontent.com/ianmcloughlin/2020A-machstat-project/master/dataset/powerproduction.csv'\n",
    "# read the csv data into a pandas dataframe\n",
    "df = pd.read_csv(csv_url)\n",
    "df\n",
    "# write the dataframe to csv\n",
    "df.to_csv('df.csv')\n",
    "# make a copy of the dataframe\n",
    "dfx = df.copy()"
   ]
  },
  {
   "cell_type": "markdown",
   "metadata": {},
   "source": [
    "The power variable represents wind turbine power output and the speed values are wind speed values."
   ]
  },
  {
   "cell_type": "markdown",
   "metadata": {},
   "source": [
    "The [DataFrame.to_numpy()](https://pandas.pydata.org/docs/reference/api/pandas.DataFrame.to_numpy.html#pandas.DataFrame.to_numpy) function `df.to_numpy()` gives a NumPy representation of the underlying data. It converts the dataframe to a numpy array which may be useful here given that the data is all numerical types (floats64)."
   ]
  },
  {
   "cell_type": "code",
   "execution_count": 10,
   "metadata": {},
   "outputs": [
    {
     "name": "stdout",
     "output_type": "stream",
     "text": [
      "The first few rows in the dataset: \n",
      "\n",
      "    speed  power\n",
      "0  0.000    0.0\n",
      "1  0.125    0.0\n",
      "2  0.150    0.0\n",
      "\n",
      " The final few rows in the dataset \n",
      "       speed  power\n",
      "497  24.875    0.0\n",
      "498  24.950    0.0\n",
      "499  25.000    0.0\n",
      "The index of the DataFrame:  RangeIndex(start=0, stop=500, step=1)\n",
      "The dtypes in the dataframe are:\n",
      "\n",
      "speed    float64\n",
      "power    float64\n",
      "dtype: object\n"
     ]
    }
   ],
   "source": [
    "print(\"The first few rows in the dataset: \\n\\n\", df.head(3))  # look at the top 5 rows of the DataFrame df\n",
    "print('\\n The final few rows in the dataset \\n',df.tail(3)) # Look at the bottom 5 rows of the DataFrame\n",
    "print(\"The index of the DataFrame: \", df.index) # the index or row labels of the DataFrame\n",
    "print(\"The dtypes in the dataframe are:\", end='\\n\\n')\n",
    "\n",
    "print(df.dtypes) # the data types attributes for each column in df"
   ]
  },
  {
   "cell_type": "markdown",
   "metadata": {},
   "source": [
    "### Zero and Null values\n",
    "\n",
    "There are no null values in the dataset but there are some zero values. Null values are not zero in Python.\n",
    "While there is only one zero value for the `speed` variable, there are 49 zero values for the `power` variable.\n",
    "\n",
    "(Will look at the distribution of values to see if the zero values are very unusual compared to the remaining 451 values for the power variable.)"
   ]
  },
  {
   "cell_type": "code",
   "execution_count": 32,
   "metadata": {},
   "outputs": [
    {
     "name": "stdout",
     "output_type": "stream",
     "text": [
      "speed    0\n",
      "power    0\n",
      "dtype: int64\n"
     ]
    },
    {
     "data": {
      "text/plain": [
       "False"
      ]
     },
     "execution_count": 32,
     "metadata": {},
     "output_type": "execute_result"
    }
   ],
   "source": [
    "print(df.isnull().sum())\n",
    "df.notnull().sum()\n",
    "df.isnull().values.any()"
   ]
  },
  {
   "cell_type": "code",
   "execution_count": 13,
   "metadata": {},
   "outputs": [
    {
     "data": {
      "text/plain": [
       "True"
      ]
     },
     "execution_count": 13,
     "metadata": {},
     "output_type": "execute_result"
    }
   ],
   "source": [
    "# https://stackoverflow.com/questions/50767452/check-if-dataframe-has-a-zero-element\n",
    "0 in df.values\n",
    "df.isin([0]).any().any()"
   ]
  },
  {
   "cell_type": "code",
   "execution_count": 14,
   "metadata": {},
   "outputs": [
    {
     "data": {
      "text/plain": [
       "speed     1\n",
       "power    49\n",
       "dtype: int64"
      ]
     },
     "execution_count": 14,
     "metadata": {},
     "output_type": "execute_result"
    }
   ],
   "source": [
    "#https://stackoverflow.com/questions/29229600/counting-number-of-zeros-per-row-by-pandas-dataframe\n",
    "\n",
    "df.isin([0]).sum()"
   ]
  },
  {
   "cell_type": "code",
   "execution_count": 15,
   "metadata": {
    "scrolled": true
   },
   "outputs": [
    {
     "data": {
      "text/html": [
       "<div>\n",
       "<style scoped>\n",
       "    .dataframe tbody tr th:only-of-type {\n",
       "        vertical-align: middle;\n",
       "    }\n",
       "\n",
       "    .dataframe tbody tr th {\n",
       "        vertical-align: top;\n",
       "    }\n",
       "\n",
       "    .dataframe thead th {\n",
       "        text-align: right;\n",
       "    }\n",
       "</style>\n",
       "<table border=\"1\" class=\"dataframe\">\n",
       "  <thead>\n",
       "    <tr style=\"text-align: right;\">\n",
       "      <th></th>\n",
       "      <th>speed</th>\n",
       "      <th>power</th>\n",
       "    </tr>\n",
       "  </thead>\n",
       "  <tbody>\n",
       "    <tr>\n",
       "      <th>0</th>\n",
       "      <td>0.000</td>\n",
       "      <td>0.0</td>\n",
       "    </tr>\n",
       "    <tr>\n",
       "      <th>1</th>\n",
       "      <td>0.125</td>\n",
       "      <td>0.0</td>\n",
       "    </tr>\n",
       "    <tr>\n",
       "      <th>2</th>\n",
       "      <td>0.150</td>\n",
       "      <td>0.0</td>\n",
       "    </tr>\n",
       "    <tr>\n",
       "      <th>3</th>\n",
       "      <td>0.225</td>\n",
       "      <td>0.0</td>\n",
       "    </tr>\n",
       "    <tr>\n",
       "      <th>4</th>\n",
       "      <td>0.275</td>\n",
       "      <td>0.0</td>\n",
       "    </tr>\n",
       "  </tbody>\n",
       "</table>\n",
       "</div>"
      ],
      "text/plain": [
       "   speed  power\n",
       "0  0.000    0.0\n",
       "1  0.125    0.0\n",
       "2  0.150    0.0\n",
       "3  0.225    0.0\n",
       "4  0.275    0.0"
      ]
     },
     "execution_count": 15,
     "metadata": {},
     "output_type": "execute_result"
    }
   ],
   "source": [
    "df.sort_values(by='speed').head()"
   ]
  },
  {
   "cell_type": "code",
   "execution_count": 16,
   "metadata": {},
   "outputs": [
    {
     "data": {
      "text/html": [
       "<div>\n",
       "<style scoped>\n",
       "    .dataframe tbody tr th:only-of-type {\n",
       "        vertical-align: middle;\n",
       "    }\n",
       "\n",
       "    .dataframe tbody tr th {\n",
       "        vertical-align: top;\n",
       "    }\n",
       "\n",
       "    .dataframe thead th {\n",
       "        text-align: right;\n",
       "    }\n",
       "</style>\n",
       "<table border=\"1\" class=\"dataframe\">\n",
       "  <thead>\n",
       "    <tr style=\"text-align: right;\">\n",
       "      <th></th>\n",
       "      <th>speed</th>\n",
       "      <th>power</th>\n",
       "    </tr>\n",
       "  </thead>\n",
       "  <tbody>\n",
       "    <tr>\n",
       "      <th>499</th>\n",
       "      <td>25.000</td>\n",
       "      <td>0.0</td>\n",
       "    </tr>\n",
       "    <tr>\n",
       "      <th>498</th>\n",
       "      <td>24.950</td>\n",
       "      <td>0.0</td>\n",
       "    </tr>\n",
       "    <tr>\n",
       "      <th>497</th>\n",
       "      <td>24.875</td>\n",
       "      <td>0.0</td>\n",
       "    </tr>\n",
       "    <tr>\n",
       "      <th>496</th>\n",
       "      <td>24.850</td>\n",
       "      <td>0.0</td>\n",
       "    </tr>\n",
       "    <tr>\n",
       "      <th>495</th>\n",
       "      <td>24.775</td>\n",
       "      <td>0.0</td>\n",
       "    </tr>\n",
       "  </tbody>\n",
       "</table>\n",
       "</div>"
      ],
      "text/plain": [
       "      speed  power\n",
       "499  25.000    0.0\n",
       "498  24.950    0.0\n",
       "497  24.875    0.0\n",
       "496  24.850    0.0\n",
       "495  24.775    0.0"
      ]
     },
     "execution_count": 16,
     "metadata": {},
     "output_type": "execute_result"
    }
   ],
   "source": [
    "df.sort_values(by='speed', ascending=False).head()"
   ]
  },
  {
   "cell_type": "code",
   "execution_count": 17,
   "metadata": {
    "scrolled": true
   },
   "outputs": [
    {
     "data": {
      "text/html": [
       "<div>\n",
       "<style scoped>\n",
       "    .dataframe tbody tr th:only-of-type {\n",
       "        vertical-align: middle;\n",
       "    }\n",
       "\n",
       "    .dataframe tbody tr th {\n",
       "        vertical-align: top;\n",
       "    }\n",
       "\n",
       "    .dataframe thead th {\n",
       "        text-align: right;\n",
       "    }\n",
       "</style>\n",
       "<table border=\"1\" class=\"dataframe\">\n",
       "  <thead>\n",
       "    <tr style=\"text-align: right;\">\n",
       "      <th></th>\n",
       "      <th>speed</th>\n",
       "      <th>power</th>\n",
       "    </tr>\n",
       "  </thead>\n",
       "  <tbody>\n",
       "    <tr>\n",
       "      <th>461</th>\n",
       "      <td>23.273</td>\n",
       "      <td>113.556</td>\n",
       "    </tr>\n",
       "    <tr>\n",
       "      <th>416</th>\n",
       "      <td>20.646</td>\n",
       "      <td>112.362</td>\n",
       "    </tr>\n",
       "    <tr>\n",
       "      <th>447</th>\n",
       "      <td>22.497</td>\n",
       "      <td>109.932</td>\n",
       "    </tr>\n",
       "    <tr>\n",
       "      <th>420</th>\n",
       "      <td>20.871</td>\n",
       "      <td>108.485</td>\n",
       "    </tr>\n",
       "    <tr>\n",
       "      <th>464</th>\n",
       "      <td>23.348</td>\n",
       "      <td>108.167</td>\n",
       "    </tr>\n",
       "  </tbody>\n",
       "</table>\n",
       "</div>"
      ],
      "text/plain": [
       "      speed    power\n",
       "461  23.273  113.556\n",
       "416  20.646  112.362\n",
       "447  22.497  109.932\n",
       "420  20.871  108.485\n",
       "464  23.348  108.167"
      ]
     },
     "execution_count": 17,
     "metadata": {},
     "output_type": "execute_result"
    }
   ],
   "source": [
    "df.sort_values(by='power', ascending=False).head()"
   ]
  },
  {
   "cell_type": "code",
   "execution_count": 18,
   "metadata": {},
   "outputs": [
    {
     "data": {
      "text/html": [
       "<div>\n",
       "<style scoped>\n",
       "    .dataframe tbody tr th:only-of-type {\n",
       "        vertical-align: middle;\n",
       "    }\n",
       "\n",
       "    .dataframe tbody tr th {\n",
       "        vertical-align: top;\n",
       "    }\n",
       "\n",
       "    .dataframe thead th {\n",
       "        text-align: right;\n",
       "    }\n",
       "</style>\n",
       "<table border=\"1\" class=\"dataframe\">\n",
       "  <thead>\n",
       "    <tr style=\"text-align: right;\">\n",
       "      <th></th>\n",
       "      <th>speed</th>\n",
       "      <th>power</th>\n",
       "    </tr>\n",
       "  </thead>\n",
       "  <tbody>\n",
       "    <tr>\n",
       "      <th>0</th>\n",
       "      <td>0.000</td>\n",
       "      <td>0.0</td>\n",
       "    </tr>\n",
       "    <tr>\n",
       "      <th>111</th>\n",
       "      <td>5.806</td>\n",
       "      <td>0.0</td>\n",
       "    </tr>\n",
       "    <tr>\n",
       "      <th>110</th>\n",
       "      <td>5.781</td>\n",
       "      <td>0.0</td>\n",
       "    </tr>\n",
       "    <tr>\n",
       "      <th>105</th>\n",
       "      <td>5.556</td>\n",
       "      <td>0.0</td>\n",
       "    </tr>\n",
       "    <tr>\n",
       "      <th>89</th>\n",
       "      <td>4.880</td>\n",
       "      <td>0.0</td>\n",
       "    </tr>\n",
       "  </tbody>\n",
       "</table>\n",
       "</div>"
      ],
      "text/plain": [
       "     speed  power\n",
       "0    0.000    0.0\n",
       "111  5.806    0.0\n",
       "110  5.781    0.0\n",
       "105  5.556    0.0\n",
       "89   4.880    0.0"
      ]
     },
     "execution_count": 18,
     "metadata": {},
     "output_type": "execute_result"
    }
   ],
   "source": [
    "df.sort_values(by='power').head()"
   ]
  },
  {
   "cell_type": "code",
   "execution_count": 19,
   "metadata": {
    "scrolled": true
   },
   "outputs": [
    {
     "data": {
      "text/html": [
       "<div>\n",
       "<style scoped>\n",
       "    .dataframe tbody tr th:only-of-type {\n",
       "        vertical-align: middle;\n",
       "    }\n",
       "\n",
       "    .dataframe tbody tr th {\n",
       "        vertical-align: top;\n",
       "    }\n",
       "\n",
       "    .dataframe thead th {\n",
       "        text-align: right;\n",
       "    }\n",
       "</style>\n",
       "<table border=\"1\" class=\"dataframe\">\n",
       "  <thead>\n",
       "    <tr style=\"text-align: right;\">\n",
       "      <th></th>\n",
       "      <th>speed</th>\n",
       "      <th>power</th>\n",
       "    </tr>\n",
       "  </thead>\n",
       "  <tbody>\n",
       "    <tr>\n",
       "      <th>0</th>\n",
       "      <td>0.000</td>\n",
       "      <td>0.0</td>\n",
       "    </tr>\n",
       "    <tr>\n",
       "      <th>1</th>\n",
       "      <td>0.125</td>\n",
       "      <td>0.0</td>\n",
       "    </tr>\n",
       "    <tr>\n",
       "      <th>2</th>\n",
       "      <td>0.150</td>\n",
       "      <td>0.0</td>\n",
       "    </tr>\n",
       "    <tr>\n",
       "      <th>3</th>\n",
       "      <td>0.225</td>\n",
       "      <td>0.0</td>\n",
       "    </tr>\n",
       "    <tr>\n",
       "      <th>4</th>\n",
       "      <td>0.275</td>\n",
       "      <td>0.0</td>\n",
       "    </tr>\n",
       "  </tbody>\n",
       "</table>\n",
       "</div>"
      ],
      "text/plain": [
       "   speed  power\n",
       "0  0.000    0.0\n",
       "1  0.125    0.0\n",
       "2  0.150    0.0\n",
       "3  0.225    0.0\n",
       "4  0.275    0.0"
      ]
     },
     "execution_count": 19,
     "metadata": {},
     "output_type": "execute_result"
    }
   ],
   "source": [
    "df.sort_values(by='speed').head()"
   ]
  },
  {
   "cell_type": "markdown",
   "metadata": {},
   "source": [
    "## Exploratory Data Analysis\n",
    "\n",
    "Exploratory data analysis generally involves both non-graphical methods which include calculation of summary statistics and graphical methods which summarises the data in a picture or a plot. These methods can be univariate where one variable is looked at at a time or multivariate where two or more variables are looked at together to explore relationships. First I will do so some univariate EDA on both of the components before going on to do multivariate EDA. \n",
    "Plots can highlight any obvious relationships between the different variables in the dataset. They can also be used to identify any groups of observations that are clearly separate to other groups of observations."
   ]
  },
  {
   "cell_type": "markdown",
   "metadata": {},
   "source": [
    "### The distribution of speed and power values\n",
    "Histograms are used to show the distribution of a single quantitative variable such as speed or power values, including the centre and spread of the distribution and if there is any skew in the data. \n",
    "\n",
    "The histogram of wind speed looks to be uniformly distributed with wind speed values spread out from zero up to 25 which seems to be the max speed value. Power values on the other hand looks to be bimodal with two defined peaks, one around zero power values and the second around the 100 kilowatt mark. \n",
    "\n",
    "The wind turbine power values seem to have a peak at very low values. This is not surprising given the large number of zero power values in this dataset. Almost 10% of the power values supplied are zero.  There is another peak around values of 95-100. Most of the remaining power values fall between 18 and 85.\n",
    "A scatter plot can be used to see if there is any visible relationship between the two variables. \n",
    "\n",
    "The scatter plot shows a non-linear relationship between wind speed values and power. There does appear to be a linear relationship for mid-range speed values only.\n",
    "- When wind speed increases from very low levels, the power does not increase by much or at all. \n",
    "- The wind turbine power values does start to increase with the wind speed from wind speed values of about 5 to about 18/19. \n",
    "- From wind speeds of 20 onwards to about 25 the power values increase no further and seem to level off. \n",
    "\n",
    "From looking at the curves and knowing very little about wind, you would guess that at very low winds there may not be enough speed to get the turbine up and running and generating power and that there might be a maximum power that can be achieved by the wind turbine regardless of how high the wind can go. Once the turbine is in motion, little is required to keep it going. Some of the power generated might be consumed by the turbine itself at low levels to get it started."
   ]
  },
  {
   "cell_type": "code",
   "execution_count": 31,
   "metadata": {},
   "outputs": [
    {
     "data": {
      "image/png": "[encoded data removed]",
      "text/plain": [
       "<Figure size 864x360 with 3 Axes>"
      ]
     },
     "metadata": {
      "needs_background": "light"
     },
     "output_type": "display_data"
    }
   ],
   "source": [
    "%matplotlib inline\n",
    "\n",
    "# plot the histograms of Speed values\n",
    "f, axs = plt.subplots(1, 3, figsize=(12, 5))\n",
    "sns.histplot(data=df, x=\"speed\", ax=axs[0], bins=20, kde=True,color=\"blue\")\n",
    "sns.histplot(data=df, x=\"power\", alpha=.8, legend=False, ax=axs[1], bins=20, kde=True, color=\"purple\")\n",
    "sns.scatterplot(x=df['speed'],y=df['power'])\n",
    "#plt.title(\"Speed vs Power\");\n",
    "plt.suptitle(\"Visualisation of the  dataset\")\n",
    "f.tight_layout()"
   ]
  },
  {
   "cell_type": "markdown",
   "metadata": {},
   "source": [
    "### Summary statistics of the dataset\n",
    "When looking at quantitative variables such as wind speed and power values, the characteristics of interest are the centre, spread, modality (the number of peaks in the pdf), the shape of the distribution and the outliers.\n",
    "Panda's `describe` function generates statistics that summarize the central tendency, dispersion and shape of a dataset’s distribution. (excluding NaN values)\n",
    "The central tendency or location of the data distribution is determined by the typical or middle values. While the mean value is the average value in the dataset it may not be typical of the values in the dataset if there are very small or very large values in the dataset. The median is another measure of central tendancy - it is the middle value after all the values are put in an ordered list.\n",
    "The mean and median are similar for symmetric distributions whereas for unimodal skewed distributions the mean will be more in the direction of the long tail of the distribution. \n",
    "The median can be considered a more typical value in the dataset or closer to some of the typical values and is also considered [robust](https://en.wikipedia.org/wiki/Robust_statistics) which means that removing some of the data will not tend to change the value of the median. A few extreme values will not affect the median as they would affect the mean. \n",
    "In this dataset the mean and median wind speed values are similar at approx 12.5 to 12.6.\n",
    "The median power value is just over 41 compared to the mean power value of 48.\n",
    "As we saw above, there are many zero values for power in the dataset. At least 10% of the power values are zero and probably for valid reasons."
   ]
  },
  {
   "cell_type": "code",
   "execution_count": 17,
   "metadata": {},
   "outputs": [
    {
     "data": {
      "text/html": [
       "<div>\n",
       "<style scoped>\n",
       "    .dataframe tbody tr th:only-of-type {\n",
       "        vertical-align: middle;\n",
       "    }\n",
       "\n",
       "    .dataframe tbody tr th {\n",
       "        vertical-align: top;\n",
       "    }\n",
       "\n",
       "    .dataframe thead th {\n",
       "        text-align: right;\n",
       "    }\n",
       "</style>\n",
       "<table border=\"1\" class=\"dataframe\">\n",
       "  <thead>\n",
       "    <tr style=\"text-align: right;\">\n",
       "      <th></th>\n",
       "      <th>speed</th>\n",
       "      <th>power</th>\n",
       "    </tr>\n",
       "  </thead>\n",
       "  <tbody>\n",
       "    <tr>\n",
       "      <th>count</th>\n",
       "      <td>500.000000</td>\n",
       "      <td>500.000000</td>\n",
       "    </tr>\n",
       "    <tr>\n",
       "      <th>mean</th>\n",
       "      <td>12.590398</td>\n",
       "      <td>48.014584</td>\n",
       "    </tr>\n",
       "    <tr>\n",
       "      <th>std</th>\n",
       "      <td>7.224991</td>\n",
       "      <td>41.614572</td>\n",
       "    </tr>\n",
       "    <tr>\n",
       "      <th>min</th>\n",
       "      <td>0.000000</td>\n",
       "      <td>0.000000</td>\n",
       "    </tr>\n",
       "    <tr>\n",
       "      <th>25%</th>\n",
       "      <td>6.324750</td>\n",
       "      <td>5.288000</td>\n",
       "    </tr>\n",
       "    <tr>\n",
       "      <th>50%</th>\n",
       "      <td>12.550500</td>\n",
       "      <td>41.645500</td>\n",
       "    </tr>\n",
       "    <tr>\n",
       "      <th>75%</th>\n",
       "      <td>18.775250</td>\n",
       "      <td>93.537000</td>\n",
       "    </tr>\n",
       "    <tr>\n",
       "      <th>max</th>\n",
       "      <td>25.000000</td>\n",
       "      <td>113.556000</td>\n",
       "    </tr>\n",
       "  </tbody>\n",
       "</table>\n",
       "</div>"
      ],
      "text/plain": [
       "            speed       power\n",
       "count  500.000000  500.000000\n",
       "mean    12.590398   48.014584\n",
       "std      7.224991   41.614572\n",
       "min      0.000000    0.000000\n",
       "25%      6.324750    5.288000\n",
       "50%     12.550500   41.645500\n",
       "75%     18.775250   93.537000\n",
       "max     25.000000  113.556000"
      ]
     },
     "execution_count": 17,
     "metadata": {},
     "output_type": "execute_result"
    }
   ],
   "source": [
    "# get summary statistics of the numerical values, \n",
    "df.describe() # get statistics summary of the"
   ]
  },
  {
   "cell_type": "code",
   "execution_count": 18,
   "metadata": {},
   "outputs": [
    {
     "name": "stdout",
     "output_type": "stream",
     "text": [
      "The mean speed value is 12.590 while the median speed value  is 12.550\n",
      "The mean power value is 48.015 while the median power value  is 41.645\n"
     ]
    }
   ],
   "source": [
    "print(\"The mean speed value is %.3f\" %df['speed'].mean(),\"while the median speed value  is %.3f\" %df['speed'].quantile(q=0.5))\n",
    "print(\"The mean power value is %.3f\" %df['power'].mean(),\"while the median power value  is %.3f\" %df['power'].quantile(q=0.5))"
   ]
  },
  {
   "cell_type": "markdown",
   "metadata": {},
   "source": [
    "#### Spread statistics\n",
    "The variance and standard deviation statistics can be used to show the spread of the distribution of the speed and power data values and how far away from the centre the data points are located.\n",
    "The variance is the average of the squared deviations of each observation from the centre or mean of the data while the standard deviation is the square root of the variance and is in the same units as the data and therefore can be more easily interpreted. \n",
    "The range of values in the data is shown by the minimum and maximum values and is not considered a robust measure of spread but it is useful for showing possible errors or outliers. "
   ]
  },
  {
   "cell_type": "code",
   "execution_count": 36,
   "metadata": {},
   "outputs": [
    {
     "name": "stdout",
     "output_type": "stream",
     "text": [
      "The standard deviations of speed values  is 7.225\n",
      "The standard deviations of power values is 41.615\n",
      "The minimum speed value is 0.0 while the maximum speed value is 25.0 giving range of 25.0\n",
      "The minimum Power value is 0.0 while the maximum power value is 113.556 giving range of 113.556\n"
     ]
    }
   ],
   "source": [
    "#print(f\"The variance and standard deviations of speed values  are {df['speed'].var():.3f} and {df['speed'].std():.3f}\")\n",
    "#print(f\"The variance and standard deviations of power values are {df['power'].var():.3f} and {df['power'].std():.3f}\")\n",
    "print(f\"The standard deviations of speed values  is {df['speed'].std():.3f}\")\n",
    "print(f\"The standard deviations of power values is {df['power'].std():.3f}\")\n",
    "print(f\"The minimum speed value is {df['speed'].min()} while the maximum speed value is { df['speed'].max()} giving range of {df['speed'].max() - df['speed'].min()}\")\n",
    "print(f\"The minimum Power value is {df['power'].min()} while the maximum power value is { df['power'].max()} giving range of {df['power'].max() - df['power'].min()}\")"
   ]
  },
  {
   "cell_type": "markdown",
   "metadata": {},
   "source": [
    "The percentiles or quartiles of the speed and power values can be used to see the spread of the data values. The Interquartile range (IQR) is calculated by taking the 75% percentile or 3rd quartile minus the 25% percentile or first quartile and captures half of the values, the middle values of the data. Data that is more spread out will have a higher IQR. The IQR is considered a more robust measure of spread than the variance and standard deviation and will be more clearly shown in the boxplots further down. The IQR does not consider the data below the 25% percentile or above the 75% percentile which may contain outliers. The statistics here show that the *power* variable in this dataset is much more spread out or variable than the *speed* variable.  "
   ]
  },
  {
   "cell_type": "code",
   "execution_count": 34,
   "metadata": {},
   "outputs": [
    {
     "name": "stdout",
     "output_type": "stream",
     "text": [
      "The median speed value is 12.5505 with the IQR ranging from 6.32 to  18.78\n",
      "The median power value is 41.6455 with the IQR ranging from 5.29 to  93.54\n"
     ]
    }
   ],
   "source": [
    "print(f\"The median speed value is {df['speed'].quantile(q=0.5)} with the IQR ranging from {df['speed'].quantile(q=0.25):.2f} to  {df['speed'].quantile(q=0.75):.2f}\")\n",
    "print(f\"The median power value is {df['power'].quantile(q=0.5)} with the IQR ranging from {df['power'].quantile(q=0.25):.2f} to  {df['power'].quantile(q=0.75):.2f}\")"
   ]
  },
  {
   "cell_type": "code",
   "execution_count": 22,
   "metadata": {},
   "outputs": [
    {
     "data": {
      "image/png": "[encoded data removed]",
      "text/plain": [
       "<Figure size 864x288 with 2 Axes>"
      ]
     },
     "metadata": {
      "needs_background": "light"
     },
     "output_type": "display_data"
    }
   ],
   "source": [
    "f, axes = plt.subplots(1, 2, figsize=(12, 4))\n",
    "sns.set(style=\"ticks\", palette=\"pastel\")\n",
    "sns.boxplot(y=df['speed'], ax=axes[0], color=\"blue\")\n",
    "# add a title\n",
    "axes[0].set_title(\"Boxplot of Speed values\")\n",
    "sns.boxplot(y=df['power'], ax=axes[1], color=\"purple\")\n",
    "axes[1].set_title(\"Boxplot of Power Values\");"
   ]
  },
  {
   "cell_type": "markdown",
   "metadata": {},
   "source": [
    "The skewness of the data is a measure of assymetry which can be seen by the lopsidedness of a boxplot.\n",
    "Wind speed appears to be quite symmetric. The wind speed boxplot is cut pretty much in half by the median. Power appears to be soemwhat skewed to the right as the boxplot shows more of the box to the right or above the median line.\n",
    "A boxplot with the median closer to the lower quartile is considered positively skewed. Positively skewed data has the mean greater than the median and it can be interpreted as having a higher frequency of high valued scores. The lower values of power are closer together than the higher power values.\n"
   ]
  },
  {
   "cell_type": "markdown",
   "metadata": {},
   "source": [
    "## Investigating a relationship between Wind Speed and Wind Turbine Power output"
   ]
  },
  {
   "cell_type": "markdown",
   "metadata": {},
   "source": [
    "Scatter plots are useful to identify trends and patterns in a dataset which might indicate a relationship between variables. The dataset here contains two numerical variables wind speed and turbine power values. \n",
    "The ordered pairs of numbers consisting of the independent variable wind 'speed' and the dependent variable 'power' output are plotted below resulting in a joint distribution of the two variables. Each point represents an actual observation is the dataset with a speed and a corresponding power value. \n",
    "The scatter plot shows an increasing linear trend in the middle range of the wind speed values. This would indicate that for increasing wind speeds in this range, power output values do increase, but only after a minimum wind speed has been reached. Power outputs then increase in line with increases in wind speed until it reaches a peak and plateaus."
   ]
  },
  {
   "cell_type": "code",
   "execution_count": 24,
   "metadata": {},
   "outputs": [
    {
     "data": {
      "image/png": "[encoded data removed]",
      "text/plain": [
       "<Figure size 432x288 with 1 Axes>"
      ]
     },
     "metadata": {
      "needs_background": "light"
     },
     "output_type": "display_data"
    }
   ],
   "source": [
    "# create the plot\n",
    "sns.scatterplot(x=df['speed'],y=df['power'])\n",
    "# add title\n",
    "plt.title(\"Scatter plot of Speed and Power\");"
   ]
  },
  {
   "cell_type": "markdown",
   "metadata": {},
   "source": [
    "#### Correlation and Covariance of Speed and Power values\n",
    " \n",
    "For two quantitative variables such as the wind speed and power values, the covariance and correlation can also be used to determine whether a linear relationship between variables does exist and to show if one variable tends to occur with large or small values of another variable. The correlation statistics puts a numerical value on the strength and direction of the relationship. The scatter plot shows a non-linear relationship between the variables. There appears to be a curved pattern in the data so the statistic cannot be taken on it's own.\n",
    "\n",
    "\n",
    "[Covariance](https://en.wikipedia.org/wiki/Covariance) is a measure of the joint variability of two random variables and the (Pearson) [correlation coefficient](https://en.wikipedia.org/wiki/Pearson_correlation_coefficient) is the normalised version of the covariance which shows by its magnitude the strength of the linear relation. The covariance can be used to see how much two variables such as wind speed and wind turbine power vary with each other and in what direction turbine power output will move when wind speed value moves. \n",
    "If the covariance here is positive it would mean that when the wind speed measurement is above it's mean then the wind turbine power measurement will more than likely be above it's mean also and vice versa. \n",
    "If the covarince here is negative, when wind speed measurements are above their mean value, then the wind turbine power output is likely to be below its mean value.\n",
    "If there is a zero covariance (or a covariance value close to zero) this implies that the two variables wind speed and wind turbine output vary independently of each other. \n",
    "\n",
    "The correlation statistics are computed from pairs of arguments. If there is a strong positive relationship between the wind speed and wind turbine power output variables, we would expect to see a correlation coefficient close to 1. A strong negative relationship would have a correlation coefficient value close to -1. A value close to zero would indicate that there is no relationship between the variables. The correlation is easier to interpret than the covariance as it does not depend on the units of measurement or which variable is the independent variable and which is the dependent variable. \n",
    "\n",
    "Pandas has functions for calculating the covariance and correlation coefficients. The correlation coefficient here of 0.85 shows there is a very strong positive relationship between the wind speed and turbine power output. It should be noted that correlation however is not the same as causation.\n",
    "\n",
    "The plots show that the relationship is non-linear though. Maybe look at rand correlation.\n",
    "https://realpython.com/numpy-scipy-pandas-correlation-python/"
   ]
  },
  {
   "cell_type": "code",
   "execution_count": 40,
   "metadata": {},
   "outputs": [
    {
     "name": "stdout",
     "output_type": "stream",
     "text": [
      "(0.8537775037188595, 2.8596889641534797e-143)\n",
      "SpearmanrResult(correlation=0.8187276026588616, pvalue=4.4287029757150813e-122)\n"
     ]
    },
    {
     "data": {
      "text/plain": [
       "KendalltauResult(correlation=0.7275042154337987, pvalue=1.630169049999099e-129)"
      ]
     },
     "execution_count": 40,
     "metadata": {},
     "output_type": "execute_result"
    }
   ],
   "source": [
    "import numpy as np\n",
    "import scipy.stats\n",
    "print(scipy.stats.pearsonr(df['speed'], df['power']))\n",
    "print(scipy.stats.spearmanr(df['speed'], df['power']))\n",
    "scipy.stats.kendalltau(df['speed'], df['power'])"
   ]
  },
  {
   "cell_type": "code",
   "execution_count": 25,
   "metadata": {},
   "outputs": [
    {
     "data": {
      "text/html": [
       "<div>\n",
       "<style scoped>\n",
       "    .dataframe tbody tr th:only-of-type {\n",
       "        vertical-align: middle;\n",
       "    }\n",
       "\n",
       "    .dataframe tbody tr th {\n",
       "        vertical-align: top;\n",
       "    }\n",
       "\n",
       "    .dataframe thead th {\n",
       "        text-align: right;\n",
       "    }\n",
       "</style>\n",
       "<table border=\"1\" class=\"dataframe\">\n",
       "  <thead>\n",
       "    <tr style=\"text-align: right;\">\n",
       "      <th></th>\n",
       "      <th>speed</th>\n",
       "      <th>power</th>\n",
       "    </tr>\n",
       "  </thead>\n",
       "  <tbody>\n",
       "    <tr>\n",
       "      <th>speed</th>\n",
       "      <td>1.000000</td>\n",
       "      <td>0.853778</td>\n",
       "    </tr>\n",
       "    <tr>\n",
       "      <th>power</th>\n",
       "      <td>0.853778</td>\n",
       "      <td>1.000000</td>\n",
       "    </tr>\n",
       "  </tbody>\n",
       "</table>\n",
       "</div>"
      ],
      "text/plain": [
       "          speed     power\n",
       "speed  1.000000  0.853778\n",
       "power  0.853778  1.000000"
      ]
     },
     "execution_count": 25,
     "metadata": {},
     "output_type": "execute_result"
    }
   ],
   "source": [
    "df.cov()\n",
    "df.corr()"
   ]
  },
  {
   "cell_type": "markdown",
   "metadata": {},
   "source": [
    "### Regression plots\n",
    "The Python Seaborn library has some regression plots that can be used to quickly visualise relationships and patterns that may exist in the data. They use statistical models to estimate a simple relationship between sets of observations and are mainly used to visualise patterns in a dataset during the exploratory data analysis.\n",
    "The scatter plot earlier showed a relationship between wind speeds and wind turbine power that is non-linear. There does seem to be a somewhat linear relationship for wind speeds between values of about 10 up to about 18 or so. Therefore it is worth looking at higher order polynomials as well as linear regression.\n",
    "The plot below shows that the polynomial with order 3 looks a much better fit to the line than the first or second order linear regression lines. "
   ]
  },
  {
   "cell_type": "code",
   "execution_count": 41,
   "metadata": {},
   "outputs": [
    {
     "data": {
      "image/png": "[encoded data removed]",
      "text/plain": [
       "<Figure size 864x432 with 4 Axes>"
      ]
     },
     "metadata": {
      "needs_background": "light"
     },
     "output_type": "display_data"
    }
   ],
   "source": [
    "f, axes = plt.subplots(2, 2, figsize=(12, 6))\n",
    "x = \"speed\"\n",
    "y = \"power\"\n",
    "sns.regplot(x=\"speed\", y=\"power\", data=df, ax=axes[0,0], label=\"order = 1\", ci=False); axes[0,0].legend()\n",
    "sns.regplot(x=\"speed\", y=\"power\", data=df, order=2, ax=axes[0,1], label=\"order =2\", ci=False); axes[0,1].legend()\n",
    "sns.regplot(x=\"speed\", y=\"power\", data=df, order=3, ax=axes[1,0], label=\"order =3\", ci=False); axes[1,0].legend()\n",
    "sns.regplot(x=\"speed\", y=\"power\", data=df, order=4, ax=axes[1,1], label = \"order=4\"); axes[1,1].legend()\n",
    "plt.legend()\n",
    "plt.suptitle(\"Trying higher order polynomial regression functions to Speed and Power values\")\n",
    "plt.show()"
   ]
  },
  {
   "cell_type": "markdown",
   "metadata": {},
   "source": []
  },
  {
   "cell_type": "markdown",
   "metadata": {},
   "source": [
    "#### Using a lowess smoother to fit a regression of speed and power\n",
    "Another way of fitting a nonparametric regression is to use\n",
    "[lowess smoothing](https://www.statisticshowto.datasciencecentral.com/lowess-smoothing/) to fit a line to a scatter plot where noisy data values, sparse data points or weak interrelationships might interfere with your ability to see a line of best fit. (Lowess smoothing is also used for linear regression where least squares fitting doesn’t create a line of good fit or is too labor-intensive to use)\n",
    "\n",
    "Lowess are non-parametric strategies for fitting a smooth curve to data points. A parametric fitting assumes the data fits some distribution which can misrepresent the data whereas non-parametric smoothers try to fund a curve of best fit without assuming the data must fit some distribution shape.\n"
   ]
  },
  {
   "cell_type": "code",
   "execution_count": 27,
   "metadata": {},
   "outputs": [
    {
     "data": {
      "image/png": "[encoded data removed]",
      "text/plain": [
       "<Figure size 360x360 with 1 Axes>"
      ]
     },
     "metadata": {
      "needs_background": "light"
     },
     "output_type": "display_data"
    }
   ],
   "source": [
    "sns.lmplot(x=\"speed\", y=\"power\", data=df, lowess=True)\n",
    "plt.title(\"using a lowess smoother\")\n",
    "plt.show()"
   ]
  },
  {
   "cell_type": "markdown",
   "metadata": {},
   "source": [
    "Residual plots can be used to check whether the simple regression model of speed ~ power  is appropriate for a dataset. The seaborn `residplot` fits and removes a simple linear regression and then plots the residual values for each observation. Ideally, these values should be randomly scattered around y = 0. If there is structure in the residuals, this suggests that simple linear regression is not appropriate for the data.\n",
    "\n",
    "The residual plot here does have a shape which suggest non-linearity in the data set."
   ]
  },
  {
   "cell_type": "code",
   "execution_count": 28,
   "metadata": {
    "scrolled": true
   },
   "outputs": [
    {
     "data": {
      "image/png": "[encoded data removed]",
      "text/plain": [
       "<Figure size 432x288 with 1 Axes>"
      ]
     },
     "metadata": {
      "needs_background": "light"
     },
     "output_type": "display_data"
    }
   ],
   "source": [
    "sns.residplot(x=\"speed\", y=\"power\", data=df, scatter_kws={\"s\": 80})\n",
    "plt.title(\"Residual plot\"); plt.show()"
   ]
  },
  {
   "cell_type": "markdown",
   "metadata": {},
   "source": [
    "---\n",
    "## Researching Wind Turbines\n",
    "### Drop most of this.\n",
    "\n",
    "The dataset consists of two columns each containing 500 floating numbers under the column names `speed` and `power`. There are no other features provided. A little research here suggests that the wind speed values are measured in metres per second and that tje power values are measured in kilowatts.\n",
    "\n",
    "The background to the project is related to wind farms supplying electricity to the supply grid and negotiating prices in advance.  In the electricity market, producers of electricity usually sell their electricity ahead of time and enter into a contract where they agree to produce a certain number of kilowatts of electricity during at a certain time, maybe between 11am one day and the next. The price is negotiated in advance of generating electricity and pushing it onto the supply grid. \n",
    "It is easier for those burning coal or gas or doing nuclear fusion to burn the right amount to generate the right amount of electricity. However with wind turbines you cannot tell how much electricity you will generate tomorrow because your generation of electricity depends on wind power. Therefore you can make an estimate by getting some meterological data from Met Eireann or some other weather prediction agent and use the weather prediction to help you predict how much electricity you are likely to produce. The prediction may not always be correct but you aim to reduce how often your calculations are wrong. The aim is to be able to predict that when wind speed is X amount that the power produced from the turbines is Y amount. \n",
    "\n",
    "[The Irish Wind Energy Association (IWEA)](https://www.iwea.com/about-us/about-us) is the representative body for the Irish wind industry, working to promote wind energy as an essential, economical and environmentally friendly part of the country’s low-carbon energy future. They note here that in 2018 wind energy provided 29 per cent of Ireland’s electricity. Their [FAQs](https://www.iwea.com/about-wind/faqs) page tells us that each quarter, both EirGrid and ESBN publish updated wind farm statistics for Ireland at the following links:\n",
    "[ESBN Connected Wind Farms](https://www.esbnetworks.ie/new-connections/generator-connections/generator-connection-statistics).\n",
    "There is currently 4,130 MW of installed capacity in ROI and new Eirgrid link here http://www.eirgridgroup.com/how-the-grid-works/renewables/\n",
    "\n",
    "Also on this website is a question about how much electricity a turbine generates. (See FAQ 16.)\n",
    ">The amount of electricity a turbine can generate depends on the type of turbine and the wind conditions at any time. There are many different models of turbines that can generate different amounts of electricity. Ireland’s largest wind farm is the Galway Wind Park in Connemara. The turbines there are 3 MW turbines. To use them as an example, when the wind is blowing steadily they can each generate 3 MW of electricity. A megawatt (MW) is a unit of energy.A single megawatt is equivalent to around 1,000 kilowatts. Boiling a kettle, for example, takes around two kilowatts.\n",
    "\n",
    "Another website of interest is Eirgrid's [Smart grid dashboard](http://smartgriddashboard.eirgrid.com/#all/about).\n",
    "The [dashboard](http://smartgriddashboard.eirgrid.com/#all/wind)shows actual and forecast wind generation by day, week and month for allwind farms on the system.\n",
    "\n",
    "The [sem-o.com](https://www.sem-o.com/links/) also some links as well as Ireland's open data portal at  data.gov.ie and the EU Open data portal\n",
    "https://data.europa.eu/euodp/en/data/dataset/jrc-emhires-wind-generation-time-series\n",
    "[Electricity from wind power; AC; production mix, at power plant; < 1kV (Location: RER)](https://data.europa.eu/euodp/en/data/dataset/jrc-eplca-fe1c3d03-072b-4da7-8fff-3505f9b01efc)\n",
    "\n",
    "- [WindEurope](https://windeurope.org/data-and-analysis/) has facts and issues about wind energy in Europe, in particular the section on [Wind Energy Basics](https://windeurope.org/about-wind/wind-basics/)\n",
    "\n",
    "https://www.windpowerengineering.com/calculate-wind-power-output/\n",
    ">Most U.S. manufacturers rate their turbines by the amount of power they can safely produce at a particular wind speed, usually chosen between 24 mph or 10.5 m/s and 36 mph or 16 m/s.\n",
    "\n",
    "This indicates that the power values in the dataset are in metres per second.\n",
    "The article gives a formula that illustrates the factors important to the performance of a wind turbine and notes that the wind speed `V` has an exponent of 3 applied to it meaning that even small increases in wind speeds result in a large increase in power.\n",
    "$power=k Cp 1/2 \\rho AV^3$  where P = power output in kilowatts, Cp = Maximum power coefficient, $\\rho$ is Air density, A = Rotor swept area, V = wind speed in mph, k = 0.000133 a constant to yield power in kilowatts.\n",
    "\n",
    "\n",
    "Another article on [calculating energy production from weather forecast in Python](https://medium.com/planet-os/calculating-energy-production-from-weather-forecast-in-python-3c990047daa) looks interesting. They use a linear equation to calculate ideal wind production. They do note that modeling results can be enhanced via statistical analysis of hyper-local time series such as meteorological data and energy production data but for this project we do not have any of this data available.\n",
    "Each wind turbine manufacturer provides an ideal energy production curve for their turbines.\n",
    "The article provides a brief overview which is taken from an article called [Wind Turbine Power Curve Modeling Using\n",
    "Advanced Parametric and Nonparametric Methods](http://ieeexplore.ieee.org/iel7/5165391/5433168/06894235.pdf)which they provide.\n",
    "\n",
    ">The power curve of a wind turbine presents the electrical power output ratings of the machine for different wind speeds. A typical wind turbine power curve has three main characteristic speeds: 1) cut-in (Vc ); 2) rated (Vr ); and 3) cut-out (Vs) speeds. The turbine starts generating power when the wind speed reaches the cut-in value. The rated speed is the wind speed at which the generator is producing the machine’s rated power. When the wind speed reaches the cut-out speed, the power generation is shut down to prevent defects and damages. Theoretical power curves are supplied by manufacturers assuming ideal meteorological and topographical conditions. In practice, however, wind turbines are never used under ideal conditions, and the empirical power curves could be substantially different from the theoretical ones due to the location of the turbine, air density, wind velocity distribution, wind direction, mechanical and control issues, as well as uncertainties in measurements.\n",
    "\n",
    "These ideal power curves simply describe potentially maximum output. To improve accuracy would require more accurate weather forecast or various statistical methods such as machine learning. As in their case we do not have  historical data which we could use for statistical improvements but nor do we have hyper-local forecasts  as we don't know anything about the data.\n",
    "\n",
    "https://www.researchgate.net/publication/257748412_Using_machine_learning_to_predict_wind_turbine_power_output\n",
    "\n",
    "All I'm really looking for is something to explain the s-shaped curve we see from the plots below.\n",
    "\n",
    ">However, real wind turbines do not achieve thistheoretical limit. Their performance is a function ofaerodynamics and the need to limit power capture oncethe rated generator power is reached, at ‘rated’ windspeed. The generator power, turbine diameter and bladeshape are optimized based on site characteristics such asannual average wind speed and the wind speed distribution.Turbine manufacturers measure their turbine’s ‘powercurve’—the relationship between power output and windspeed—at turbine test sites (ﬁgure 1). The power curve iscalculated from 10 min averaged wind speed (U= ¯u) andpower using methods described in standards (InternationalElectrotechnical Commission 2005). Typical power curveshave an s-shape (ﬁgure 2), where at wind speeds less thanrated the energy capture is approximately proportional to U3(known as Region II). At wind speeds above rated, the bladepitch and generator torque are actively controlled to limit thepower to the generator’s rated power (Region III).\n",
    "...\n",
    "Any change in the atmosphere that results in a changeof the kinetic energy through the turbine rotor disk will potentially impact the power captured (1). Previous studieshave shown that variation in atmospheric conditions canlead to changes in turbine power output of 10% or more atthe same wind speed.\n",
    "...\n",
    "The effects of changes in ﬂow on power capture canbe signiﬁcant. Because of intermittency in the wind, windturbines typically produce 20%–40% of their maximumpossible output over the course of a year. \n",
    "...\n",
    "This uncertainty may beparticularly important when predicting the power at apotential turbine installation site using local wind speed data.If the amount of energy that is available is over-estimated,the resulting calculation of the cost of electricity may be toooptimistic and the site may not be as proﬁtable as expected.Alternatively, underestimating the energy available at a sitemay mean that the site is not developed at all.\n"
   ]
  },
  {
   "cell_type": "markdown",
   "metadata": {},
   "source": [
    "As noted above in the initial investigation of the dataset, there are quite a number of zero values for power in the dataset. I need to determine whether these values are valid and if so should they remain in the data when I go to the next step of training a model. As theorised earlier, perhaps some of the low or zero values are there when a wind turbine is powered on after being off and taking some time or effort to be productive. However I need to check as I don't know the physics or technical reasons behind this. While most of the zero power values are associated with low values of speed, there are some that are not and occur when the wind speed is actually at it's max in the dataset so therefore there must be another reason that the power output is zero at such levels, as if the wind turbine is actually power off completely and maybe this is the case. Maybe it switches off after a certain max wind speed for safety or other reasons. These values do look like outliers on the scatter plot.\n",
    "The scatter plot seems to have three different trends apparent as shown earlier, the first section at low values of wind speed where the wind turbine values are clustered around zero (including the 10% of observations that have zero power values), the second section where there seems to be a linear trend between wind speed and power output and thirdly the last section where the values of power have reached a peak at higher wind speeds and plateau, and also the outliers here.\n",
    "\n",
    "\n",
    "---\n",
    "### How does wind energy work\n",
    "Find out some more on how wind energy works. Look at the section on [Wind Energy Basics](https://windeurope.org/about-wind/wind-basics/) on WindEurope website.\n",
    "Few facts here:\n",
    "- energy is the ability to do work\n",
    "- [What is Energy ?](https://windeurope.org/about-wind/wind-basics/). \n",
    ">Generally, energy can be categorised into either kinetic energy (the energy of moving objects) or potential energy (energy that is stored). The different types of energy include thermal energy, radiant energy, chemical energy, electrical energy, motion energy, sound energy, elastic energy and gravitational energy.\n",
    "In the case of wind energy, wind turbines take the kinetic energy that’s in the wind and convert that kinetic energy into mechanical power. We mostly use this mechanical power in the form of electricity.\n",
    "\n",
    "There is plenty more her on how wind is actually caused by 3 things: the heating of the atmosphere by the sun,  the rotation of the earth and the Earth's surface irregularities.\n",
    "Wind energy captures the energy of the wind and converts it to electricity. It is an alternative to burninf fossil fuels.\n",
    "A wind turbine is a device that converts kinetic energy from the wind into electricity. A group of wind turbines is a wind farm. There are both on-shore and off-shore types. Their output ranges from as small as 100 kilowatts to as big as 12 megawatts.\n",
    "There are three main variables determining how much electricity a turbine can produce.\n",
    "- Wind speed\n",
    "- Blade radius\n",
    "- Air density.\n",
    "\n",
    "Our dataset only has wind speed and power values so perhaps we can assume these values are constant for the dataset, particularly I would think the blade radius. \n",
    "The article also outlines what happens when the wind doesn't blow. A wind farms location is usually chosen purposely. Therefore when a wind turbine is not turning it is usually because of maintenance, or because it must be stopped for safety reasons in case of strong winds or a storm. So safety reasons would account for the zero power values at the very high values of wind speed and maintenance could account for some of the other zero values Therefore I may need to see exactly what the pattern is here. Perhaps then some of the zero values should be ommited from some of the analysis and model training, or perhaps done alongside."
   ]
  },
  {
   "cell_type": "code",
   "execution_count": 164,
   "metadata": {},
   "outputs": [
    {
     "data": {
      "text/html": [
       "<div>\n",
       "<style scoped>\n",
       "    .dataframe tbody tr th:only-of-type {\n",
       "        vertical-align: middle;\n",
       "    }\n",
       "\n",
       "    .dataframe tbody tr th {\n",
       "        vertical-align: top;\n",
       "    }\n",
       "\n",
       "    .dataframe thead th {\n",
       "        text-align: right;\n",
       "    }\n",
       "</style>\n",
       "<table border=\"1\" class=\"dataframe\">\n",
       "  <thead>\n",
       "    <tr style=\"text-align: right;\">\n",
       "      <th></th>\n",
       "      <th>speed</th>\n",
       "      <th>power</th>\n",
       "    </tr>\n",
       "  </thead>\n",
       "  <tbody>\n",
       "    <tr>\n",
       "      <th>count</th>\n",
       "      <td>500.000000</td>\n",
       "      <td>500.000000</td>\n",
       "    </tr>\n",
       "    <tr>\n",
       "      <th>mean</th>\n",
       "      <td>12.590398</td>\n",
       "      <td>48.014584</td>\n",
       "    </tr>\n",
       "    <tr>\n",
       "      <th>std</th>\n",
       "      <td>7.224991</td>\n",
       "      <td>41.614572</td>\n",
       "    </tr>\n",
       "    <tr>\n",
       "      <th>min</th>\n",
       "      <td>0.000000</td>\n",
       "      <td>0.000000</td>\n",
       "    </tr>\n",
       "    <tr>\n",
       "      <th>25%</th>\n",
       "      <td>6.324750</td>\n",
       "      <td>5.288000</td>\n",
       "    </tr>\n",
       "    <tr>\n",
       "      <th>50%</th>\n",
       "      <td>12.550500</td>\n",
       "      <td>41.645500</td>\n",
       "    </tr>\n",
       "    <tr>\n",
       "      <th>75%</th>\n",
       "      <td>18.775250</td>\n",
       "      <td>93.537000</td>\n",
       "    </tr>\n",
       "    <tr>\n",
       "      <th>max</th>\n",
       "      <td>25.000000</td>\n",
       "      <td>113.556000</td>\n",
       "    </tr>\n",
       "  </tbody>\n",
       "</table>\n",
       "</div>"
      ],
      "text/plain": [
       "            speed       power\n",
       "count  500.000000  500.000000\n",
       "mean    12.590398   48.014584\n",
       "std      7.224991   41.614572\n",
       "min      0.000000    0.000000\n",
       "25%      6.324750    5.288000\n",
       "50%     12.550500   41.645500\n",
       "75%     18.775250   93.537000\n",
       "max     25.000000  113.556000"
      ]
     },
     "execution_count": 164,
     "metadata": {},
     "output_type": "execute_result"
    }
   ],
   "source": [
    "df.describe()"
   ]
  },
  {
   "cell_type": "code",
   "execution_count": 165,
   "metadata": {},
   "outputs": [
    {
     "data": {
      "text/html": [
       "<div>\n",
       "<style scoped>\n",
       "    .dataframe tbody tr th:only-of-type {\n",
       "        vertical-align: middle;\n",
       "    }\n",
       "\n",
       "    .dataframe tbody tr th {\n",
       "        vertical-align: top;\n",
       "    }\n",
       "\n",
       "    .dataframe thead th {\n",
       "        text-align: right;\n",
       "    }\n",
       "</style>\n",
       "<table border=\"1\" class=\"dataframe\">\n",
       "  <thead>\n",
       "    <tr style=\"text-align: right;\">\n",
       "      <th></th>\n",
       "      <th>speed</th>\n",
       "      <th>power</th>\n",
       "    </tr>\n",
       "  </thead>\n",
       "  <tbody>\n",
       "    <tr>\n",
       "      <th>499</th>\n",
       "      <td>25.000</td>\n",
       "      <td>0.0</td>\n",
       "    </tr>\n",
       "    <tr>\n",
       "      <th>498</th>\n",
       "      <td>24.950</td>\n",
       "      <td>0.0</td>\n",
       "    </tr>\n",
       "    <tr>\n",
       "      <th>497</th>\n",
       "      <td>24.875</td>\n",
       "      <td>0.0</td>\n",
       "    </tr>\n",
       "    <tr>\n",
       "      <th>496</th>\n",
       "      <td>24.850</td>\n",
       "      <td>0.0</td>\n",
       "    </tr>\n",
       "    <tr>\n",
       "      <th>495</th>\n",
       "      <td>24.775</td>\n",
       "      <td>0.0</td>\n",
       "    </tr>\n",
       "  </tbody>\n",
       "</table>\n",
       "</div>"
      ],
      "text/plain": [
       "      speed  power\n",
       "499  25.000    0.0\n",
       "498  24.950    0.0\n",
       "497  24.875    0.0\n",
       "496  24.850    0.0\n",
       "495  24.775    0.0"
      ]
     },
     "execution_count": 165,
     "metadata": {},
     "output_type": "execute_result"
    }
   ],
   "source": [
    "df.sort_values(by='speed', ascending=False).head()"
   ]
  },
  {
   "cell_type": "markdown",
   "metadata": {},
   "source": [
    "### Cleaning the dataset\n",
    "#### update!\n",
    "I have decided to drop some of the zero values after all. After trying to use neural networks below, the cost did not fall below a certain value and it seems to me from the resulting plots that the zero power values at the highest speed values (>24.4) were throwing things out. I think we can just say that when speed values are over 24.4 approx that the power values will be zero as it looks like the turbines are switched off for safety. We can only predict values for power when the turbines are turned on and therefore maybe the model should only be predicting for values of speed where the turbine is on!\n",
    "\n",
    "So first a refresher on where all the zero values occur. While there is only one zero value for the speed variable, there are 49 zero values for the power variable. These mostly occur below a certain value of speed but located alongside non-zero power values and there are a few that are associated with medium and higher speed values of speed. Most of the data points in the dataset are unique values. The one datapoint with a zero speed value has a zero power value as expected.\n",
    "\n",
    "### Zeros\n",
    "For experimental purposes I am going to drop all the zero values."
   ]
  },
  {
   "cell_type": "code",
   "execution_count": null,
   "metadata": {},
   "outputs": [],
   "source": []
  },
  {
   "cell_type": "raw",
   "metadata": {},
   "source": [
    "# show the unique values\n",
    "df.speed.unique()\n",
    "# a count of the unique speed values\n",
    "df.speed.value_counts() # 490\n",
    "# a count of the unique power values\n",
    "df.power.value_counts() # 451"
   ]
  },
  {
   "cell_type": "code",
   "execution_count": 166,
   "metadata": {},
   "outputs": [
    {
     "data": {
      "text/plain": [
       "500"
      ]
     },
     "execution_count": 166,
     "metadata": {},
     "output_type": "execute_result"
    }
   ],
   "source": [
    "len(df.groupby('speed')) # 490\n",
    "df.groupby('speed')['power'].agg(['count', 'size', 'nunique'])\n",
    "len(df.groupby('power')) # 451\n",
    "\n",
    "df.groupby('power')['speed'].agg(['count', 'size', 'nunique'])\n",
    "len(df[['speed', 'power']].drop_duplicates()) # 490"
   ]
  },
  {
   "cell_type": "markdown",
   "metadata": {},
   "source": [
    "#### Where do the zero values occur?"
   ]
  },
  {
   "cell_type": "raw",
   "metadata": {},
   "source": [
    "# pull out the rows where power is zero\n",
    "df[df.power==0]"
   ]
  },
  {
   "cell_type": "code",
   "execution_count": 167,
   "metadata": {
    "scrolled": false
   },
   "outputs": [
    {
     "data": {
      "text/plain": [
       "speed    1\n",
       "power    1\n",
       "dtype: int64"
      ]
     },
     "execution_count": 167,
     "metadata": {},
     "output_type": "execute_result"
    }
   ],
   "source": [
    "# the rows where both values are zer0\n",
    "df[(df['speed']==0) & (df['power']==0)].count() # only 1"
   ]
  },
  {
   "cell_type": "code",
   "execution_count": 168,
   "metadata": {
    "scrolled": true
   },
   "outputs": [
    {
     "data": {
      "text/plain": [
       "speed    49\n",
       "power    49\n",
       "dtype: int64"
      ]
     },
     "execution_count": 168,
     "metadata": {},
     "output_type": "execute_result"
    }
   ],
   "source": [
    "# 39 zero power values\n",
    "df[df['power']==0].count(0)"
   ]
  },
  {
   "cell_type": "code",
   "execution_count": 175,
   "metadata": {
    "scrolled": false
   },
   "outputs": [
    {
     "data": {
      "text/html": [
       "<div>\n",
       "<style scoped>\n",
       "    .dataframe tbody tr th:only-of-type {\n",
       "        vertical-align: middle;\n",
       "    }\n",
       "\n",
       "    .dataframe tbody tr th {\n",
       "        vertical-align: top;\n",
       "    }\n",
       "\n",
       "    .dataframe thead th {\n",
       "        text-align: right;\n",
       "    }\n",
       "</style>\n",
       "<table border=\"1\" class=\"dataframe\">\n",
       "  <thead>\n",
       "    <tr style=\"text-align: right;\">\n",
       "      <th></th>\n",
       "      <th>speed</th>\n",
       "      <th>power</th>\n",
       "    </tr>\n",
       "  </thead>\n",
       "  <tbody>\n",
       "    <tr>\n",
       "      <th>0</th>\n",
       "      <td>0.000</td>\n",
       "      <td>0.0</td>\n",
       "    </tr>\n",
       "    <tr>\n",
       "      <th>1</th>\n",
       "      <td>0.125</td>\n",
       "      <td>0.0</td>\n",
       "    </tr>\n",
       "    <tr>\n",
       "      <th>2</th>\n",
       "      <td>0.150</td>\n",
       "      <td>0.0</td>\n",
       "    </tr>\n",
       "    <tr>\n",
       "      <th>3</th>\n",
       "      <td>0.225</td>\n",
       "      <td>0.0</td>\n",
       "    </tr>\n",
       "    <tr>\n",
       "      <th>4</th>\n",
       "      <td>0.275</td>\n",
       "      <td>0.0</td>\n",
       "    </tr>\n",
       "    <tr>\n",
       "      <th>15</th>\n",
       "      <td>0.726</td>\n",
       "      <td>0.0</td>\n",
       "    </tr>\n",
       "    <tr>\n",
       "      <th>16</th>\n",
       "      <td>0.751</td>\n",
       "      <td>0.0</td>\n",
       "    </tr>\n",
       "    <tr>\n",
       "      <th>24</th>\n",
       "      <td>1.026</td>\n",
       "      <td>0.0</td>\n",
       "    </tr>\n",
       "    <tr>\n",
       "      <th>26</th>\n",
       "      <td>1.076</td>\n",
       "      <td>0.0</td>\n",
       "    </tr>\n",
       "    <tr>\n",
       "      <th>31</th>\n",
       "      <td>1.301</td>\n",
       "      <td>0.0</td>\n",
       "    </tr>\n",
       "    <tr>\n",
       "      <th>35</th>\n",
       "      <td>1.552</td>\n",
       "      <td>0.0</td>\n",
       "    </tr>\n",
       "    <tr>\n",
       "      <th>37</th>\n",
       "      <td>1.677</td>\n",
       "      <td>0.0</td>\n",
       "    </tr>\n",
       "    <tr>\n",
       "      <th>39</th>\n",
       "      <td>1.827</td>\n",
       "      <td>0.0</td>\n",
       "    </tr>\n",
       "    <tr>\n",
       "      <th>42</th>\n",
       "      <td>2.027</td>\n",
       "      <td>0.0</td>\n",
       "    </tr>\n",
       "    <tr>\n",
       "      <th>43</th>\n",
       "      <td>2.077</td>\n",
       "      <td>0.0</td>\n",
       "    </tr>\n",
       "    <tr>\n",
       "      <th>44</th>\n",
       "      <td>2.102</td>\n",
       "      <td>0.0</td>\n",
       "    </tr>\n",
       "    <tr>\n",
       "      <th>47</th>\n",
       "      <td>2.252</td>\n",
       "      <td>0.0</td>\n",
       "    </tr>\n",
       "    <tr>\n",
       "      <th>60</th>\n",
       "      <td>3.128</td>\n",
       "      <td>0.0</td>\n",
       "    </tr>\n",
       "    <tr>\n",
       "      <th>65</th>\n",
       "      <td>3.504</td>\n",
       "      <td>0.0</td>\n",
       "    </tr>\n",
       "    <tr>\n",
       "      <th>67</th>\n",
       "      <td>3.579</td>\n",
       "      <td>0.0</td>\n",
       "    </tr>\n",
       "    <tr>\n",
       "      <th>70</th>\n",
       "      <td>3.679</td>\n",
       "      <td>0.0</td>\n",
       "    </tr>\n",
       "    <tr>\n",
       "      <th>73</th>\n",
       "      <td>3.779</td>\n",
       "      <td>0.0</td>\n",
       "    </tr>\n",
       "    <tr>\n",
       "      <th>74</th>\n",
       "      <td>3.804</td>\n",
       "      <td>0.0</td>\n",
       "    </tr>\n",
       "    <tr>\n",
       "      <th>75</th>\n",
       "      <td>3.879</td>\n",
       "      <td>0.0</td>\n",
       "    </tr>\n",
       "    <tr>\n",
       "      <th>83</th>\n",
       "      <td>4.429</td>\n",
       "      <td>0.0</td>\n",
       "    </tr>\n",
       "    <tr>\n",
       "      <th>89</th>\n",
       "      <td>4.880</td>\n",
       "      <td>0.0</td>\n",
       "    </tr>\n",
       "    <tr>\n",
       "      <th>105</th>\n",
       "      <td>5.556</td>\n",
       "      <td>0.0</td>\n",
       "    </tr>\n",
       "    <tr>\n",
       "      <th>110</th>\n",
       "      <td>5.781</td>\n",
       "      <td>0.0</td>\n",
       "    </tr>\n",
       "    <tr>\n",
       "      <th>111</th>\n",
       "      <td>5.806</td>\n",
       "      <td>0.0</td>\n",
       "    </tr>\n",
       "    <tr>\n",
       "      <th>114</th>\n",
       "      <td>5.931</td>\n",
       "      <td>0.0</td>\n",
       "    </tr>\n",
       "    <tr>\n",
       "      <th>133</th>\n",
       "      <td>6.782</td>\n",
       "      <td>0.0</td>\n",
       "    </tr>\n",
       "    <tr>\n",
       "      <th>135</th>\n",
       "      <td>6.857</td>\n",
       "      <td>0.0</td>\n",
       "    </tr>\n",
       "    <tr>\n",
       "      <th>136</th>\n",
       "      <td>6.957</td>\n",
       "      <td>0.0</td>\n",
       "    </tr>\n",
       "    <tr>\n",
       "      <th>140</th>\n",
       "      <td>7.107</td>\n",
       "      <td>0.0</td>\n",
       "    </tr>\n",
       "    <tr>\n",
       "      <th>149</th>\n",
       "      <td>7.432</td>\n",
       "      <td>0.0</td>\n",
       "    </tr>\n",
       "  </tbody>\n",
       "</table>\n",
       "</div>"
      ],
      "text/plain": [
       "     speed  power\n",
       "0    0.000    0.0\n",
       "1    0.125    0.0\n",
       "2    0.150    0.0\n",
       "3    0.225    0.0\n",
       "4    0.275    0.0\n",
       "15   0.726    0.0\n",
       "16   0.751    0.0\n",
       "24   1.026    0.0\n",
       "26   1.076    0.0\n",
       "31   1.301    0.0\n",
       "35   1.552    0.0\n",
       "37   1.677    0.0\n",
       "39   1.827    0.0\n",
       "42   2.027    0.0\n",
       "43   2.077    0.0\n",
       "44   2.102    0.0\n",
       "47   2.252    0.0\n",
       "60   3.128    0.0\n",
       "65   3.504    0.0\n",
       "67   3.579    0.0\n",
       "70   3.679    0.0\n",
       "73   3.779    0.0\n",
       "74   3.804    0.0\n",
       "75   3.879    0.0\n",
       "83   4.429    0.0\n",
       "89   4.880    0.0\n",
       "105  5.556    0.0\n",
       "110  5.781    0.0\n",
       "111  5.806    0.0\n",
       "114  5.931    0.0\n",
       "133  6.782    0.0\n",
       "135  6.857    0.0\n",
       "136  6.957    0.0\n",
       "140  7.107    0.0\n",
       "149  7.432    0.0"
      ]
     },
     "execution_count": 175,
     "metadata": {},
     "output_type": "execute_result"
    }
   ],
   "source": [
    "# there are no points where speed is greater than 24.4 and power value is not zero\n",
    "df[df.speed>24.4]\n",
    "df[(df.speed <10) & (df.power==0.0)]"
   ]
  },
  {
   "cell_type": "code",
   "execution_count": 170,
   "metadata": {},
   "outputs": [
    {
     "data": {
      "text/html": [
       "<div>\n",
       "<style scoped>\n",
       "    .dataframe tbody tr th:only-of-type {\n",
       "        vertical-align: middle;\n",
       "    }\n",
       "\n",
       "    .dataframe tbody tr th {\n",
       "        vertical-align: top;\n",
       "    }\n",
       "\n",
       "    .dataframe thead th {\n",
       "        text-align: right;\n",
       "    }\n",
       "</style>\n",
       "<table border=\"1\" class=\"dataframe\">\n",
       "  <thead>\n",
       "    <tr style=\"text-align: right;\">\n",
       "      <th></th>\n",
       "      <th>speed</th>\n",
       "      <th>power</th>\n",
       "    </tr>\n",
       "  </thead>\n",
       "  <tbody>\n",
       "    <tr>\n",
       "      <th>0</th>\n",
       "      <td>0.000</td>\n",
       "      <td>0.0</td>\n",
       "    </tr>\n",
       "    <tr>\n",
       "      <th>1</th>\n",
       "      <td>0.125</td>\n",
       "      <td>0.0</td>\n",
       "    </tr>\n",
       "    <tr>\n",
       "      <th>2</th>\n",
       "      <td>0.150</td>\n",
       "      <td>0.0</td>\n",
       "    </tr>\n",
       "    <tr>\n",
       "      <th>3</th>\n",
       "      <td>0.225</td>\n",
       "      <td>0.0</td>\n",
       "    </tr>\n",
       "    <tr>\n",
       "      <th>4</th>\n",
       "      <td>0.275</td>\n",
       "      <td>0.0</td>\n",
       "    </tr>\n",
       "    <tr>\n",
       "      <th>15</th>\n",
       "      <td>0.726</td>\n",
       "      <td>0.0</td>\n",
       "    </tr>\n",
       "    <tr>\n",
       "      <th>16</th>\n",
       "      <td>0.751</td>\n",
       "      <td>0.0</td>\n",
       "    </tr>\n",
       "    <tr>\n",
       "      <th>24</th>\n",
       "      <td>1.026</td>\n",
       "      <td>0.0</td>\n",
       "    </tr>\n",
       "    <tr>\n",
       "      <th>26</th>\n",
       "      <td>1.076</td>\n",
       "      <td>0.0</td>\n",
       "    </tr>\n",
       "    <tr>\n",
       "      <th>31</th>\n",
       "      <td>1.301</td>\n",
       "      <td>0.0</td>\n",
       "    </tr>\n",
       "    <tr>\n",
       "      <th>35</th>\n",
       "      <td>1.552</td>\n",
       "      <td>0.0</td>\n",
       "    </tr>\n",
       "    <tr>\n",
       "      <th>37</th>\n",
       "      <td>1.677</td>\n",
       "      <td>0.0</td>\n",
       "    </tr>\n",
       "    <tr>\n",
       "      <th>39</th>\n",
       "      <td>1.827</td>\n",
       "      <td>0.0</td>\n",
       "    </tr>\n",
       "    <tr>\n",
       "      <th>42</th>\n",
       "      <td>2.027</td>\n",
       "      <td>0.0</td>\n",
       "    </tr>\n",
       "    <tr>\n",
       "      <th>43</th>\n",
       "      <td>2.077</td>\n",
       "      <td>0.0</td>\n",
       "    </tr>\n",
       "    <tr>\n",
       "      <th>44</th>\n",
       "      <td>2.102</td>\n",
       "      <td>0.0</td>\n",
       "    </tr>\n",
       "    <tr>\n",
       "      <th>47</th>\n",
       "      <td>2.252</td>\n",
       "      <td>0.0</td>\n",
       "    </tr>\n",
       "    <tr>\n",
       "      <th>60</th>\n",
       "      <td>3.128</td>\n",
       "      <td>0.0</td>\n",
       "    </tr>\n",
       "    <tr>\n",
       "      <th>65</th>\n",
       "      <td>3.504</td>\n",
       "      <td>0.0</td>\n",
       "    </tr>\n",
       "    <tr>\n",
       "      <th>67</th>\n",
       "      <td>3.579</td>\n",
       "      <td>0.0</td>\n",
       "    </tr>\n",
       "    <tr>\n",
       "      <th>70</th>\n",
       "      <td>3.679</td>\n",
       "      <td>0.0</td>\n",
       "    </tr>\n",
       "    <tr>\n",
       "      <th>73</th>\n",
       "      <td>3.779</td>\n",
       "      <td>0.0</td>\n",
       "    </tr>\n",
       "    <tr>\n",
       "      <th>74</th>\n",
       "      <td>3.804</td>\n",
       "      <td>0.0</td>\n",
       "    </tr>\n",
       "    <tr>\n",
       "      <th>75</th>\n",
       "      <td>3.879</td>\n",
       "      <td>0.0</td>\n",
       "    </tr>\n",
       "    <tr>\n",
       "      <th>83</th>\n",
       "      <td>4.429</td>\n",
       "      <td>0.0</td>\n",
       "    </tr>\n",
       "    <tr>\n",
       "      <th>89</th>\n",
       "      <td>4.880</td>\n",
       "      <td>0.0</td>\n",
       "    </tr>\n",
       "    <tr>\n",
       "      <th>105</th>\n",
       "      <td>5.556</td>\n",
       "      <td>0.0</td>\n",
       "    </tr>\n",
       "    <tr>\n",
       "      <th>110</th>\n",
       "      <td>5.781</td>\n",
       "      <td>0.0</td>\n",
       "    </tr>\n",
       "    <tr>\n",
       "      <th>111</th>\n",
       "      <td>5.806</td>\n",
       "      <td>0.0</td>\n",
       "    </tr>\n",
       "    <tr>\n",
       "      <th>114</th>\n",
       "      <td>5.931</td>\n",
       "      <td>0.0</td>\n",
       "    </tr>\n",
       "    <tr>\n",
       "      <th>133</th>\n",
       "      <td>6.782</td>\n",
       "      <td>0.0</td>\n",
       "    </tr>\n",
       "    <tr>\n",
       "      <th>135</th>\n",
       "      <td>6.857</td>\n",
       "      <td>0.0</td>\n",
       "    </tr>\n",
       "    <tr>\n",
       "      <th>136</th>\n",
       "      <td>6.957</td>\n",
       "      <td>0.0</td>\n",
       "    </tr>\n",
       "    <tr>\n",
       "      <th>140</th>\n",
       "      <td>7.107</td>\n",
       "      <td>0.0</td>\n",
       "    </tr>\n",
       "    <tr>\n",
       "      <th>149</th>\n",
       "      <td>7.432</td>\n",
       "      <td>0.0</td>\n",
       "    </tr>\n",
       "    <tr>\n",
       "      <th>208</th>\n",
       "      <td>10.511</td>\n",
       "      <td>0.0</td>\n",
       "    </tr>\n",
       "    <tr>\n",
       "      <th>340</th>\n",
       "      <td>17.167</td>\n",
       "      <td>0.0</td>\n",
       "    </tr>\n",
       "    <tr>\n",
       "      <th>404</th>\n",
       "      <td>20.095</td>\n",
       "      <td>0.0</td>\n",
       "    </tr>\n",
       "    <tr>\n",
       "      <th>456</th>\n",
       "      <td>22.998</td>\n",
       "      <td>0.0</td>\n",
       "    </tr>\n",
       "    <tr>\n",
       "      <th>490</th>\n",
       "      <td>24.499</td>\n",
       "      <td>0.0</td>\n",
       "    </tr>\n",
       "    <tr>\n",
       "      <th>491</th>\n",
       "      <td>24.525</td>\n",
       "      <td>0.0</td>\n",
       "    </tr>\n",
       "    <tr>\n",
       "      <th>492</th>\n",
       "      <td>24.575</td>\n",
       "      <td>0.0</td>\n",
       "    </tr>\n",
       "    <tr>\n",
       "      <th>493</th>\n",
       "      <td>24.650</td>\n",
       "      <td>0.0</td>\n",
       "    </tr>\n",
       "    <tr>\n",
       "      <th>494</th>\n",
       "      <td>24.750</td>\n",
       "      <td>0.0</td>\n",
       "    </tr>\n",
       "    <tr>\n",
       "      <th>495</th>\n",
       "      <td>24.775</td>\n",
       "      <td>0.0</td>\n",
       "    </tr>\n",
       "    <tr>\n",
       "      <th>496</th>\n",
       "      <td>24.850</td>\n",
       "      <td>0.0</td>\n",
       "    </tr>\n",
       "    <tr>\n",
       "      <th>497</th>\n",
       "      <td>24.875</td>\n",
       "      <td>0.0</td>\n",
       "    </tr>\n",
       "    <tr>\n",
       "      <th>498</th>\n",
       "      <td>24.950</td>\n",
       "      <td>0.0</td>\n",
       "    </tr>\n",
       "    <tr>\n",
       "      <th>499</th>\n",
       "      <td>25.000</td>\n",
       "      <td>0.0</td>\n",
       "    </tr>\n",
       "  </tbody>\n",
       "</table>\n",
       "</div>"
      ],
      "text/plain": [
       "      speed  power\n",
       "0     0.000    0.0\n",
       "1     0.125    0.0\n",
       "2     0.150    0.0\n",
       "3     0.225    0.0\n",
       "4     0.275    0.0\n",
       "15    0.726    0.0\n",
       "16    0.751    0.0\n",
       "24    1.026    0.0\n",
       "26    1.076    0.0\n",
       "31    1.301    0.0\n",
       "35    1.552    0.0\n",
       "37    1.677    0.0\n",
       "39    1.827    0.0\n",
       "42    2.027    0.0\n",
       "43    2.077    0.0\n",
       "44    2.102    0.0\n",
       "47    2.252    0.0\n",
       "60    3.128    0.0\n",
       "65    3.504    0.0\n",
       "67    3.579    0.0\n",
       "70    3.679    0.0\n",
       "73    3.779    0.0\n",
       "74    3.804    0.0\n",
       "75    3.879    0.0\n",
       "83    4.429    0.0\n",
       "89    4.880    0.0\n",
       "105   5.556    0.0\n",
       "110   5.781    0.0\n",
       "111   5.806    0.0\n",
       "114   5.931    0.0\n",
       "133   6.782    0.0\n",
       "135   6.857    0.0\n",
       "136   6.957    0.0\n",
       "140   7.107    0.0\n",
       "149   7.432    0.0\n",
       "208  10.511    0.0\n",
       "340  17.167    0.0\n",
       "404  20.095    0.0\n",
       "456  22.998    0.0\n",
       "490  24.499    0.0\n",
       "491  24.525    0.0\n",
       "492  24.575    0.0\n",
       "493  24.650    0.0\n",
       "494  24.750    0.0\n",
       "495  24.775    0.0\n",
       "496  24.850    0.0\n",
       "497  24.875    0.0\n",
       "498  24.950    0.0\n",
       "499  25.000    0.0"
      ]
     },
     "execution_count": 170,
     "metadata": {},
     "output_type": "execute_result"
    }
   ],
   "source": [
    "df[df.power==0]"
   ]
  },
  {
   "cell_type": "code",
   "execution_count": 34,
   "metadata": {
    "scrolled": true
   },
   "outputs": [
    {
     "data": {
      "text/html": [
       "<div>\n",
       "<style scoped>\n",
       "    .dataframe tbody tr th:only-of-type {\n",
       "        vertical-align: middle;\n",
       "    }\n",
       "\n",
       "    .dataframe tbody tr th {\n",
       "        vertical-align: top;\n",
       "    }\n",
       "\n",
       "    .dataframe thead th {\n",
       "        text-align: right;\n",
       "    }\n",
       "</style>\n",
       "<table border=\"1\" class=\"dataframe\">\n",
       "  <thead>\n",
       "    <tr style=\"text-align: right;\">\n",
       "      <th></th>\n",
       "      <th>speed</th>\n",
       "      <th>power</th>\n",
       "    </tr>\n",
       "  </thead>\n",
       "  <tbody>\n",
       "    <tr>\n",
       "      <th>490</th>\n",
       "      <td>24.499</td>\n",
       "      <td>0.0</td>\n",
       "    </tr>\n",
       "    <tr>\n",
       "      <th>491</th>\n",
       "      <td>24.525</td>\n",
       "      <td>0.0</td>\n",
       "    </tr>\n",
       "    <tr>\n",
       "      <th>492</th>\n",
       "      <td>24.575</td>\n",
       "      <td>0.0</td>\n",
       "    </tr>\n",
       "    <tr>\n",
       "      <th>493</th>\n",
       "      <td>24.650</td>\n",
       "      <td>0.0</td>\n",
       "    </tr>\n",
       "    <tr>\n",
       "      <th>494</th>\n",
       "      <td>24.750</td>\n",
       "      <td>0.0</td>\n",
       "    </tr>\n",
       "    <tr>\n",
       "      <th>495</th>\n",
       "      <td>24.775</td>\n",
       "      <td>0.0</td>\n",
       "    </tr>\n",
       "    <tr>\n",
       "      <th>496</th>\n",
       "      <td>24.850</td>\n",
       "      <td>0.0</td>\n",
       "    </tr>\n",
       "    <tr>\n",
       "      <th>497</th>\n",
       "      <td>24.875</td>\n",
       "      <td>0.0</td>\n",
       "    </tr>\n",
       "    <tr>\n",
       "      <th>498</th>\n",
       "      <td>24.950</td>\n",
       "      <td>0.0</td>\n",
       "    </tr>\n",
       "    <tr>\n",
       "      <th>499</th>\n",
       "      <td>25.000</td>\n",
       "      <td>0.0</td>\n",
       "    </tr>\n",
       "  </tbody>\n",
       "</table>\n",
       "</div>"
      ],
      "text/plain": [
       "      speed  power\n",
       "490  24.499    0.0\n",
       "491  24.525    0.0\n",
       "492  24.575    0.0\n",
       "493  24.650    0.0\n",
       "494  24.750    0.0\n",
       "495  24.775    0.0\n",
       "496  24.850    0.0\n",
       "497  24.875    0.0\n",
       "498  24.950    0.0\n",
       "499  25.000    0.0"
      ]
     },
     "execution_count": 34,
     "metadata": {},
     "output_type": "execute_result"
    }
   ],
   "source": [
    "df.loc[(df.speed>24.4)]"
   ]
  },
  {
   "cell_type": "code",
   "execution_count": 35,
   "metadata": {},
   "outputs": [],
   "source": [
    "#https://pandas.pydata.org/pandas-docs/stable/reference/api/pandas.DataFrame.drop.html\n",
    "# https://thispointer.com/python-pandas-how-to-drop-rows-in-dataframe-by-conditions-on-column-values/\n",
    "#df.drop(df.loc[(df.speed>24.4)].index, inplace=True)"
   ]
  },
  {
   "cell_type": "code",
   "execution_count": 176,
   "metadata": {},
   "outputs": [],
   "source": [
    "dfx.drop(dfx.loc[dfx.power == 0].index, inplace=True)"
   ]
  },
  {
   "cell_type": "code",
   "execution_count": 177,
   "metadata": {},
   "outputs": [
    {
     "data": {
      "text/html": [
       "<div>\n",
       "<style scoped>\n",
       "    .dataframe tbody tr th:only-of-type {\n",
       "        vertical-align: middle;\n",
       "    }\n",
       "\n",
       "    .dataframe tbody tr th {\n",
       "        vertical-align: top;\n",
       "    }\n",
       "\n",
       "    .dataframe thead th {\n",
       "        text-align: right;\n",
       "    }\n",
       "</style>\n",
       "<table border=\"1\" class=\"dataframe\">\n",
       "  <thead>\n",
       "    <tr style=\"text-align: right;\">\n",
       "      <th></th>\n",
       "      <th>speed</th>\n",
       "      <th>power</th>\n",
       "    </tr>\n",
       "  </thead>\n",
       "  <tbody>\n",
       "    <tr>\n",
       "      <th>count</th>\n",
       "      <td>451.000000</td>\n",
       "      <td>451.000000</td>\n",
       "    </tr>\n",
       "    <tr>\n",
       "      <th>mean</th>\n",
       "      <td>13.004302</td>\n",
       "      <td>53.231246</td>\n",
       "    </tr>\n",
       "    <tr>\n",
       "      <th>std</th>\n",
       "      <td>6.835979</td>\n",
       "      <td>40.522055</td>\n",
       "    </tr>\n",
       "    <tr>\n",
       "      <th>min</th>\n",
       "      <td>0.325000</td>\n",
       "      <td>0.067000</td>\n",
       "    </tr>\n",
       "    <tr>\n",
       "      <th>25%</th>\n",
       "      <td>7.344500</td>\n",
       "      <td>8.543500</td>\n",
       "    </tr>\n",
       "    <tr>\n",
       "      <th>50%</th>\n",
       "      <td>13.038000</td>\n",
       "      <td>58.168000</td>\n",
       "    </tr>\n",
       "    <tr>\n",
       "      <th>75%</th>\n",
       "      <td>18.781500</td>\n",
       "      <td>94.725500</td>\n",
       "    </tr>\n",
       "    <tr>\n",
       "      <th>max</th>\n",
       "      <td>24.399000</td>\n",
       "      <td>113.556000</td>\n",
       "    </tr>\n",
       "  </tbody>\n",
       "</table>\n",
       "</div>"
      ],
      "text/plain": [
       "            speed       power\n",
       "count  451.000000  451.000000\n",
       "mean    13.004302   53.231246\n",
       "std      6.835979   40.522055\n",
       "min      0.325000    0.067000\n",
       "25%      7.344500    8.543500\n",
       "50%     13.038000   58.168000\n",
       "75%     18.781500   94.725500\n",
       "max     24.399000  113.556000"
      ]
     },
     "execution_count": 177,
     "metadata": {},
     "output_type": "execute_result"
    }
   ],
   "source": [
    "dfx.describe()"
   ]
  },
  {
   "cell_type": "code",
   "execution_count": 133,
   "metadata": {},
   "outputs": [
    {
     "data": {
      "text/html": [
       "<div>\n",
       "<style scoped>\n",
       "    .dataframe tbody tr th:only-of-type {\n",
       "        vertical-align: middle;\n",
       "    }\n",
       "\n",
       "    .dataframe tbody tr th {\n",
       "        vertical-align: top;\n",
       "    }\n",
       "\n",
       "    .dataframe thead th {\n",
       "        text-align: right;\n",
       "    }\n",
       "</style>\n",
       "<table border=\"1\" class=\"dataframe\">\n",
       "  <thead>\n",
       "    <tr style=\"text-align: right;\">\n",
       "      <th></th>\n",
       "      <th>speed</th>\n",
       "      <th>power</th>\n",
       "    </tr>\n",
       "  </thead>\n",
       "  <tbody>\n",
       "    <tr>\n",
       "      <th>count</th>\n",
       "      <td>500.000000</td>\n",
       "      <td>500.000000</td>\n",
       "    </tr>\n",
       "    <tr>\n",
       "      <th>mean</th>\n",
       "      <td>12.590398</td>\n",
       "      <td>48.014584</td>\n",
       "    </tr>\n",
       "    <tr>\n",
       "      <th>std</th>\n",
       "      <td>7.224991</td>\n",
       "      <td>41.614572</td>\n",
       "    </tr>\n",
       "    <tr>\n",
       "      <th>min</th>\n",
       "      <td>0.000000</td>\n",
       "      <td>0.000000</td>\n",
       "    </tr>\n",
       "    <tr>\n",
       "      <th>25%</th>\n",
       "      <td>6.324750</td>\n",
       "      <td>5.288000</td>\n",
       "    </tr>\n",
       "    <tr>\n",
       "      <th>50%</th>\n",
       "      <td>12.550500</td>\n",
       "      <td>41.645500</td>\n",
       "    </tr>\n",
       "    <tr>\n",
       "      <th>75%</th>\n",
       "      <td>18.775250</td>\n",
       "      <td>93.537000</td>\n",
       "    </tr>\n",
       "    <tr>\n",
       "      <th>max</th>\n",
       "      <td>25.000000</td>\n",
       "      <td>113.556000</td>\n",
       "    </tr>\n",
       "  </tbody>\n",
       "</table>\n",
       "</div>"
      ],
      "text/plain": [
       "            speed       power\n",
       "count  500.000000  500.000000\n",
       "mean    12.590398   48.014584\n",
       "std      7.224991   41.614572\n",
       "min      0.000000    0.000000\n",
       "25%      6.324750    5.288000\n",
       "50%     12.550500   41.645500\n",
       "75%     18.775250   93.537000\n",
       "max     25.000000  113.556000"
      ]
     },
     "execution_count": 133,
     "metadata": {},
     "output_type": "execute_result"
    }
   ],
   "source": [
    "df.describe()"
   ]
  },
  {
   "cell_type": "markdown",
   "metadata": {},
   "source": [
    "### Dropping more zero values\n",
    "My predictions were not too good below so I will change a few things again. I think I should drop more of the observations that had zero power values as these could be maintenance related. just guessing for now!\n",
    "There are several zero power values for the lowest speed values that should stay as these probably mean there is not enough wind to generate power. Power values do kick in after speed goes over 0.3 so this might mean that any datapoint where the wind speed is over 0.3 but has zero power"
   ]
  },
  {
   "cell_type": "code",
   "execution_count": null,
   "metadata": {},
   "outputs": [],
   "source": []
  },
  {
   "cell_type": "code",
   "execution_count": 36,
   "metadata": {
    "scrolled": true
   },
   "outputs": [
    {
     "data": {
      "text/html": [
       "<div>\n",
       "<style scoped>\n",
       "    .dataframe tbody tr th:only-of-type {\n",
       "        vertical-align: middle;\n",
       "    }\n",
       "\n",
       "    .dataframe tbody tr th {\n",
       "        vertical-align: top;\n",
       "    }\n",
       "\n",
       "    .dataframe thead th {\n",
       "        text-align: right;\n",
       "    }\n",
       "</style>\n",
       "<table border=\"1\" class=\"dataframe\">\n",
       "  <thead>\n",
       "    <tr style=\"text-align: right;\">\n",
       "      <th></th>\n",
       "      <th>speed</th>\n",
       "      <th>power</th>\n",
       "    </tr>\n",
       "  </thead>\n",
       "  <tbody>\n",
       "    <tr>\n",
       "      <th>count</th>\n",
       "      <td>490.000000</td>\n",
       "      <td>490.000000</td>\n",
       "    </tr>\n",
       "    <tr>\n",
       "      <th>mean</th>\n",
       "      <td>12.342347</td>\n",
       "      <td>48.994473</td>\n",
       "    </tr>\n",
       "    <tr>\n",
       "      <th>std</th>\n",
       "      <td>7.084113</td>\n",
       "      <td>41.461788</td>\n",
       "    </tr>\n",
       "    <tr>\n",
       "      <th>min</th>\n",
       "      <td>0.000000</td>\n",
       "      <td>0.000000</td>\n",
       "    </tr>\n",
       "    <tr>\n",
       "      <th>25%</th>\n",
       "      <td>6.162250</td>\n",
       "      <td>5.643750</td>\n",
       "    </tr>\n",
       "    <tr>\n",
       "      <th>50%</th>\n",
       "      <td>12.374500</td>\n",
       "      <td>44.094500</td>\n",
       "    </tr>\n",
       "    <tr>\n",
       "      <th>75%</th>\n",
       "      <td>18.411750</td>\n",
       "      <td>93.697000</td>\n",
       "    </tr>\n",
       "    <tr>\n",
       "      <th>max</th>\n",
       "      <td>24.399000</td>\n",
       "      <td>113.556000</td>\n",
       "    </tr>\n",
       "  </tbody>\n",
       "</table>\n",
       "</div>"
      ],
      "text/plain": [
       "            speed       power\n",
       "count  490.000000  490.000000\n",
       "mean    12.342347   48.994473\n",
       "std      7.084113   41.461788\n",
       "min      0.000000    0.000000\n",
       "25%      6.162250    5.643750\n",
       "50%     12.374500   44.094500\n",
       "75%     18.411750   93.697000\n",
       "max     24.399000  113.556000"
      ]
     },
     "execution_count": 36,
     "metadata": {},
     "output_type": "execute_result"
    }
   ],
   "source": [
    "df.describe()"
   ]
  },
  {
   "cell_type": "markdown",
   "metadata": {},
   "source": [
    "# Machine Learning.\n",
    "\n",
    "Here I am going to start looking at applying some machine learning algorithms to the dataset. \n",
    "\n",
    "The goal of the project is to predict wind power from wind speed and therefore this problem falls into supervised learning. \n",
    ">Supervised learning is where you have input variables (x) and an output variable (Y) and you use an algorithm to learn the mapping function from the input to the output [Machine Learning Mastery](https://machinelearningmastery.com/supervised-and-unsupervised-machine-learning-algorithms/) which is precisely what we have been asked to do here.\n",
    "\n",
    "The algorithms I will start looking at are as follows:\n",
    "\n",
    "- Regression: Predicting a continuous-valued attribute associated with an object.\n",
    "I had a look at the regression plots earlier, simple linear regression does not adequately model the relationship between the wind and speed values over the entire dataset while higher order polynomials captured more of the relationship. The simple linear model clearly underfit the data. The correlation statistics did show a high correlation between the variables with a value of 0.853778 but this doesn't mean the relationship is linear.\n",
    "There were large sections of the dataset that were either under the regression line or above the regression line.\n",
    "The higher order polynomials did not fit the data perfectly though. \n",
    "\n",
    "The first round I did not clean the dataset. I don't think there is any loss of information now by dropping the zero values of power for the very high values of speed. \n",
    "I also had not split the dataset into a training and test set as it was more for exploratory analysis.\n",
    "I think I did do some scaling..\n",
    "\n",
    "I used numpy polyfit functions the first time around but now will use scikit learn.\n",
    "https://scikit-learn.org/stable/modules/linear_model.html#ordinary-least-squares\n",
    "LinearRegression fits a linear model with coefficients to minimize the residual sum of squares between the observed targets in the dataset, and the targets predicted by the linear approximation. LinearRegression will take in its fit method arrays X, y and will store the coefficients of the linear model in its coef_ member:\n"
   ]
  },
  {
   "cell_type": "code",
   "execution_count": 37,
   "metadata": {},
   "outputs": [],
   "source": [
    "# first importing the following libraries\n",
    "# Numerical arrays.\n",
    "import numpy as np\n",
    "import pandas as pd  \n",
    "# plotting\n",
    "import matplotlib.pyplot as plt \n",
    "import seaborn as sns\n",
    "\n",
    "import csv\n",
    "# Import linear_model from sklearn.\n",
    "import sklearn.linear_model as lm"
   ]
  },
  {
   "cell_type": "code",
   "execution_count": 38,
   "metadata": {},
   "outputs": [
    {
     "data": {
      "text/html": [
       "<div>\n",
       "<style scoped>\n",
       "    .dataframe tbody tr th:only-of-type {\n",
       "        vertical-align: middle;\n",
       "    }\n",
       "\n",
       "    .dataframe tbody tr th {\n",
       "        vertical-align: top;\n",
       "    }\n",
       "\n",
       "    .dataframe thead th {\n",
       "        text-align: right;\n",
       "    }\n",
       "</style>\n",
       "<table border=\"1\" class=\"dataframe\">\n",
       "  <thead>\n",
       "    <tr style=\"text-align: right;\">\n",
       "      <th></th>\n",
       "      <th>speed</th>\n",
       "      <th>power</th>\n",
       "    </tr>\n",
       "  </thead>\n",
       "  <tbody>\n",
       "    <tr>\n",
       "      <th>count</th>\n",
       "      <td>490.000000</td>\n",
       "      <td>490.000000</td>\n",
       "    </tr>\n",
       "    <tr>\n",
       "      <th>mean</th>\n",
       "      <td>12.342347</td>\n",
       "      <td>48.994473</td>\n",
       "    </tr>\n",
       "    <tr>\n",
       "      <th>std</th>\n",
       "      <td>7.084113</td>\n",
       "      <td>41.461788</td>\n",
       "    </tr>\n",
       "    <tr>\n",
       "      <th>min</th>\n",
       "      <td>0.000000</td>\n",
       "      <td>0.000000</td>\n",
       "    </tr>\n",
       "    <tr>\n",
       "      <th>25%</th>\n",
       "      <td>6.162250</td>\n",
       "      <td>5.643750</td>\n",
       "    </tr>\n",
       "    <tr>\n",
       "      <th>50%</th>\n",
       "      <td>12.374500</td>\n",
       "      <td>44.094500</td>\n",
       "    </tr>\n",
       "    <tr>\n",
       "      <th>75%</th>\n",
       "      <td>18.411750</td>\n",
       "      <td>93.697000</td>\n",
       "    </tr>\n",
       "    <tr>\n",
       "      <th>max</th>\n",
       "      <td>24.399000</td>\n",
       "      <td>113.556000</td>\n",
       "    </tr>\n",
       "  </tbody>\n",
       "</table>\n",
       "</div>"
      ],
      "text/plain": [
       "            speed       power\n",
       "count  490.000000  490.000000\n",
       "mean    12.342347   48.994473\n",
       "std      7.084113   41.461788\n",
       "min      0.000000    0.000000\n",
       "25%      6.162250    5.643750\n",
       "50%     12.374500   44.094500\n",
       "75%     18.411750   93.697000\n",
       "max     24.399000  113.556000"
      ]
     },
     "execution_count": 38,
     "metadata": {},
     "output_type": "execute_result"
    }
   ],
   "source": [
    "df.describe()"
   ]
  },
  {
   "cell_type": "code",
   "execution_count": 39,
   "metadata": {},
   "outputs": [
    {
     "data": {
      "text/html": [
       "<div>\n",
       "<style scoped>\n",
       "    .dataframe tbody tr th:only-of-type {\n",
       "        vertical-align: middle;\n",
       "    }\n",
       "\n",
       "    .dataframe tbody tr th {\n",
       "        vertical-align: top;\n",
       "    }\n",
       "\n",
       "    .dataframe thead th {\n",
       "        text-align: right;\n",
       "    }\n",
       "</style>\n",
       "<table border=\"1\" class=\"dataframe\">\n",
       "  <thead>\n",
       "    <tr style=\"text-align: right;\">\n",
       "      <th></th>\n",
       "      <th>speed</th>\n",
       "      <th>power</th>\n",
       "    </tr>\n",
       "  </thead>\n",
       "  <tbody>\n",
       "    <tr>\n",
       "      <th>speed</th>\n",
       "      <td>1.000000</td>\n",
       "      <td>0.933299</td>\n",
       "    </tr>\n",
       "    <tr>\n",
       "      <th>power</th>\n",
       "      <td>0.933299</td>\n",
       "      <td>1.000000</td>\n",
       "    </tr>\n",
       "  </tbody>\n",
       "</table>\n",
       "</div>"
      ],
      "text/plain": [
       "          speed     power\n",
       "speed  1.000000  0.933299\n",
       "power  0.933299  1.000000"
      ]
     },
     "execution_count": 39,
     "metadata": {},
     "output_type": "execute_result"
    }
   ],
   "source": [
    "df.corr()"
   ]
  },
  {
   "cell_type": "code",
   "execution_count": 40,
   "metadata": {},
   "outputs": [],
   "source": [
    "# Plots styles.\n",
    "plt.style.use('ggplot')\n",
    "\n",
    "# Plot size.\n",
    "plt.rcParams['figure.figsize'] = (10, 6)"
   ]
  },
  {
   "cell_type": "code",
   "execution_count": 41,
   "metadata": {},
   "outputs": [],
   "source": [
    "# assign speed to x and power to y\n",
    "x = df.speed\n",
    "y = df.power"
   ]
  },
  {
   "cell_type": "code",
   "execution_count": 42,
   "metadata": {},
   "outputs": [
    {
     "data": {
      "text/plain": [
       "[<matplotlib.lines.Line2D at 0x7fa8ae806a60>]"
      ]
     },
     "execution_count": 42,
     "metadata": {},
     "output_type": "execute_result"
    },
    {
     "data": {
      "image/png": "[encoded data removed]",
      "text/plain": [
       "<Figure size 720x432 with 1 Axes>"
      ]
     },
     "metadata": {},
     "output_type": "display_data"
    }
   ],
   "source": [
    "# Plot x versus y.\n",
    "plt.plot(x, y, 'k.')"
   ]
  },
  {
   "cell_type": "code",
   "execution_count": 43,
   "metadata": {},
   "outputs": [
    {
     "data": {
      "text/plain": [
       "array([  5.46239532, -18.42430465])"
      ]
     },
     "execution_count": 43,
     "metadata": {},
     "output_type": "execute_result"
    }
   ],
   "source": [
    "# Do regression on the x and y arrays using numpy.\n",
    "np.polyfit(x, y, 1)"
   ]
  },
  {
   "cell_type": "code",
   "execution_count": 44,
   "metadata": {},
   "outputs": [
    {
     "data": {
      "text/plain": [
       "(5.4623953170946296, -18.42430465093683)"
      ]
     },
     "execution_count": 44,
     "metadata": {},
     "output_type": "execute_result"
    }
   ],
   "source": [
    "# Create variables with those values.\n",
    "m, c = np.polyfit(x, y, 1)\n",
    "# Have a look at m and c.\n",
    "m, c"
   ]
  },
  {
   "cell_type": "markdown",
   "metadata": {},
   "source": [
    "As the plot below shows, there are sections of the fitted line where all the values either fall below the line or above the line. If a linear model was suitable you would expect to see the line going through the centre of the data. The quadratic model does not improve on this. The cubic polynomial fits the data better and the fourth order polynomial does seem to be even better for the datapoints at the lower end."
   ]
  },
  {
   "cell_type": "raw",
   "metadata": {},
   "source": [
    "# Plot x and y and the regression line in red.\n",
    "plt.plot(x, y, 'k.')\n",
    "plt.plot(x, m * x + c, 'r-')"
   ]
  },
  {
   "cell_type": "code",
   "execution_count": 45,
   "metadata": {},
   "outputs": [
    {
     "data": {
      "text/plain": [
       "(5.462395317094629, -18.42430465093676)"
      ]
     },
     "execution_count": 45,
     "metadata": {},
     "output_type": "execute_result"
    }
   ],
   "source": [
    "# Calculate mean x and mean y.\n",
    "x_avg = np.mean(x)\n",
    "y_avg = np.mean(y)\n",
    "\n",
    "# Subtract means from x and y.\n",
    "x_zero = x - x_avg\n",
    "y_zero = y - y_avg\n",
    "\n",
    "# Dot product of mean-adjusted x and y divided by dot product of mean adjusted x with itself.\n",
    "m = np.sum(x_zero * y_zero) / np.sum(x_zero * x_zero)\n",
    "# Subtract m times average x from average y.\n",
    "c = y_avg - m * x_avg\n",
    "\n",
    "# Let's have a look - same values as above.\n",
    "m, c"
   ]
  },
  {
   "cell_type": "raw",
   "metadata": {},
   "source": [
    "# Create variables with those values.\n",
    "a, b, c = np.polyfit(x, y, 2)\n",
    "\n",
    "# Plot the line and the points.\n",
    "plt.plot(x, y, 'k.')\n",
    "plt.plot(x, a * x * x + b * x + c, 'r-')"
   ]
  },
  {
   "cell_type": "markdown",
   "metadata": {},
   "source": [
    "$ax^3+bx^2+cx+d=0$"
   ]
  },
  {
   "cell_type": "code",
   "execution_count": 46,
   "metadata": {},
   "outputs": [],
   "source": [
    "# Create variables with those values.\n",
    "a,b,c,d =np.polyfit(x, y, 3)"
   ]
  },
  {
   "cell_type": "code",
   "execution_count": 47,
   "metadata": {},
   "outputs": [
    {
     "data": {
      "text/plain": [
       "[<matplotlib.lines.Line2D at 0x7fa8aeb278e0>]"
      ]
     },
     "execution_count": 47,
     "metadata": {},
     "output_type": "execute_result"
    },
    {
     "data": {
      "image/png": "[encoded data removed]",
      "text/plain": [
       "<Figure size 720x432 with 1 Axes>"
      ]
     },
     "metadata": {},
     "output_type": "display_data"
    }
   ],
   "source": [
    "# Plot the line and the points.\n",
    "plt.plot(x, y, 'k.')\n",
    "plt.plot(x, a * x * x *x + b * x * x+ c*x + d, 'r-')"
   ]
  },
  {
   "cell_type": "markdown",
   "metadata": {},
   "source": [
    "### A Fourth order polynomial\n",
    "$ax^4+bx^3+cx^2+dx +e=0$\n"
   ]
  },
  {
   "cell_type": "code",
   "execution_count": 48,
   "metadata": {},
   "outputs": [],
   "source": [
    "# Create variables with those values.\n",
    "a,b,c,d,e =np.polyfit(x, y, 4)"
   ]
  },
  {
   "cell_type": "code",
   "execution_count": 49,
   "metadata": {},
   "outputs": [
    {
     "data": {
      "text/plain": [
       "[<matplotlib.lines.Line2D at 0x7fa8aeb837c0>]"
      ]
     },
     "execution_count": 49,
     "metadata": {},
     "output_type": "execute_result"
    },
    {
     "data": {
      "image/png": "[encoded data removed]",
      "text/plain": [
       "<Figure size 720x432 with 1 Axes>"
      ]
     },
     "metadata": {},
     "output_type": "display_data"
    }
   ],
   "source": [
    "# Plot the line and the points.\n",
    "plt.plot(x, y, 'k.')\n",
    "plt.plot(x, a * x * x *x* x + b * x * x* x + c * x * x + d* x + e, 'r-')"
   ]
  },
  {
   "cell_type": "markdown",
   "metadata": {},
   "source": [
    "https://scikit-learn.org/stable/modules/linear_model.html#ordinary-least-squares\n",
    "\n",
    "LinearRegression fits a linear model with coefficients to minimize the residual sum of squares between the observed targets in the dataset, and the targets predicted by the linear approximation.\n",
    "LinearRegression will take in its fit method arrays X, y and will store the coefficients  of the linear model in its coef_ member:"
   ]
  },
  {
   "cell_type": "code",
   "execution_count": 50,
   "metadata": {},
   "outputs": [
    {
     "data": {
      "text/plain": [
       "(490, 1)"
      ]
     },
     "execution_count": 50,
     "metadata": {},
     "output_type": "execute_result"
    }
   ],
   "source": [
    "# assign speed to x and power to y, \n",
    "x = np.array(df.speed)\n",
    "y = np.array(df.power)\n",
    "# for indexing the array\n",
    "x = x[:, np.newaxis]\n",
    "x.shape\n",
    "y = y[:, np.newaxis]\n",
    "y.shape"
   ]
  },
  {
   "cell_type": "code",
   "execution_count": 51,
   "metadata": {},
   "outputs": [],
   "source": [
    "# Create a linear regression model instance.\n",
    "reg = lm.LinearRegression()"
   ]
  },
  {
   "cell_type": "code",
   "execution_count": 52,
   "metadata": {},
   "outputs": [
    {
     "data": {
      "text/plain": [
       "LinearRegression()"
      ]
     },
     "execution_count": 52,
     "metadata": {},
     "output_type": "execute_result"
    }
   ],
   "source": [
    "# Train the model using the training sets\n",
    "reg.fit(x,y)"
   ]
  },
  {
   "cell_type": "code",
   "execution_count": 53,
   "metadata": {},
   "outputs": [
    {
     "data": {
      "text/plain": [
       "array([-18.42430465])"
      ]
     },
     "execution_count": 53,
     "metadata": {},
     "output_type": "execute_result"
    }
   ],
   "source": [
    "# Here's our intercept.\n",
    "reg.intercept_"
   ]
  },
  {
   "cell_type": "code",
   "execution_count": 54,
   "metadata": {},
   "outputs": [
    {
     "data": {
      "text/plain": [
       "array([[5.46239532]])"
      ]
     },
     "execution_count": 54,
     "metadata": {},
     "output_type": "execute_result"
    }
   ],
   "source": [
    "reg.coef_"
   ]
  },
  {
   "cell_type": "code",
   "execution_count": 55,
   "metadata": {},
   "outputs": [
    {
     "data": {
      "text/plain": [
       "0.8710461537065195"
      ]
     },
     "execution_count": 55,
     "metadata": {},
     "output_type": "execute_result"
    }
   ],
   "source": [
    "# See how good our fit is.\n",
    "reg.score(x, y)"
   ]
  },
  {
   "cell_type": "code",
   "execution_count": 56,
   "metadata": {},
   "outputs": [],
   "source": [
    "#plt.plot(x, y, 'x')"
   ]
  },
  {
   "cell_type": "code",
   "execution_count": 57,
   "metadata": {},
   "outputs": [],
   "source": [
    "#reg = lm.Ridge(alpha=.5)"
   ]
  },
  {
   "cell_type": "markdown",
   "metadata": {},
   "source": [
    "Machine learning is the science of getting computers to act without being explicitly programmed.\n",
    "- https://www.investopedia.com/terms/n/neuralnetwork.asp#:~:text=A%20neural%20network%20is%20a,organic%20or%20artificial%20in%20nature.\n",
    "- https://en.wikipedia.org/wiki/Artificial_neural_network\n",
    "\n",
    "- https://news.mit.edu/2017/explained-neural-networks-deep-learning-0414\n",
    "\n",
    ">Neural nets are a means of doing machine learning, in which a computer learns to perform some task by analyzing training examples.\n",
    ">Modeled loosely on the human brain, a neural net consists of thousands or even millions of simple processing nodes that are densely interconnected. Most of today’s neural nets are organized into layers of nodes, and they’re “feed-forward,” meaning that data moves through them in only one direction. An individual node might be connected to several nodes in the layer beneath it, from which it receives data, and several nodes in the layer above it, to which it sends data.\n",
    ">To each of its incoming connections, a node will assign a number known as a “weight.” When the network is active, the node receives a different data item — a different number — over each of its connections and multiplies it by the associated weight. It then adds the resulting products together, yielding a single number. If that number is below a threshold value, the node passes no data to the next layer. If the number exceeds the threshold value, the node “fires,” which in today’s neural nets generally means sending the number — the sum of the weighted inputs — along all its outgoing connections.\n",
    "When a neural net is being trained, all of its weights and thresholds are initially set to random values. Training data is fed to the bottom layer — the input layer — and it passes through the succeeding layers, getting multiplied and added together in complex ways, until it finally arrives, radically transformed, at the output layer. During training, the weights and thresholds are continually adjusted until training data with the same labels consistently yield similar outputs.\n",
    "[Mit News](https://news.mit.edu/2017/explained-neural-networks-deep-learning-0414)[nn1]"
   ]
  },
  {
   "cell_type": "markdown",
   "metadata": {},
   "source": [
    "## Machine Learning - Neural Networks\n",
    "\n",
    "Here I will go through the lecture notes first and apply some of the techniques.\n",
    "Some notes from the lectures:\n",
    "A dataset contains variables, some inputs and outputs. Categorical data, text and image data must first be encoded into floating point numbers. Outputs can be reverse decoded later. Weights are applied to each connection between layers, low weights near 0 meaning that the route is not important while higher values mean this route is important. \n",
    "Some of the dataset can be held back for testing. \n",
    "Neural networks have several layers. The input layer is really a non-layer of neurons with just the inputs. You just provide the input layer to the neural network and this is really the only place the input comes into it.\n",
    "\n",
    "The hidden layers and output layers have proper neurons.\n",
    "The weights and bias are the paramters of the model, you can tweak them to get the neural network to perform better. Often the initial weights might be set to small random values between 0 and 1. \n",
    "Neural networks cares more about the connections between the nodes than the actual nodes themselves. Looks at the signal times the weights for each of the inputs. `w * x` for each input. \n",
    "\n",
    "The bias significes how important something is and is just a number on top of weight times input for each neuron. \n",
    "With neural networks you want to get a high value assigned to the correct output. If the neural network misclassifies an output label then you just feed it back into the algorithm, the weights are changed a little so that the correct output is predicted the next time. It will keep changing until it gets the correct output. \n",
    "Starts out with random values for the weights. These are updated slowly over time to get towards the expected output.\n",
    "\n",
    "\n",
    "Gradient descent is the algorithm through which the weights are updated. Stochastic gradient descent (`sgd`).\n",
    "Each output from each neuron is the same but when the different weights are applied, what is received by the nodes in the next layer are different to what left the nodes on the previous layer.\n",
    "The loss is the cost function, often the MSE mean squared error.\n",
    "\n",
    "A linear function y = x is just a simple function where you give it a single input and expect the same output.\n",
    "\n",
    "Once the neural network is trained and is stable, you can then take a new input, a new datapoint it was not trained on and the neural network should correctly classify it.\n",
    "the complexity in neural networks comes from the number of operations involved especially when there are many layers.\n",
    "\n",
    "---\n",
    "\n",
    "https://machinelearningmastery.com/tensorflow-tutorial-deep-learning-with-tf-keras/\n",
    "Taking notes from another machine learning mastery tutorial.\n",
    "\n",
    "### The 5-step Deep Learning Model Life-Cycle\n",
    "A model has a life-cycle with 5 steps:\n",
    "1. Define the model: \n",
    "Select the type of model and choose the architecture or network topology. Define the number of layers, configure each layer with a number of nodes and activation function, connect the layers together into a cohesive model.\n",
    "\n",
    "2. Compile the model\n",
    "\n",
    "    * This requires selecting a **loss function** that you want to optimise such as mean squared error and to select an algorithm to perform the **optimisation** procedure such as stochastic gradient descent or a modern variation of this called Adam. Also you can select the **performance metrics**  to keep track of during the model training process.\n",
    "    * Call a function to compile the model with the selected configuration to prepare the appropriate data structures required for the efficient use of the selected model. \n",
    "    * The optimizer can be specified as a string for a known optimizer class such as `sgd` for stochastic gradient descent or else you can configure an instance of the optimizer class to use. See [optimizer classes](https://www.tensorflow.org/api_docs/python/tf/keras/optimizers).\n",
    "\n",
    "    * `sgd` - Gradient descent (with momentum) optimizer. The default learning rate is 0.01\n",
    "    The update rule is ` w = w - learning_rate * g` for parameter `w` with  gradient `g` when momentum is 0.\n",
    "    * \n",
    "\n",
    "    *Adam optimization is a stochastic gradient descent method that is based on adaptive estimation of first-order and second-order moments.* [Tensorflow](https://www.tensorflow.org/api_docs/python/tf/keras/optimizers/Adam]\n",
    "    *  The `learning_rate` defaults to 0.001 in the Adam optimizer. \n",
    "\n",
    "    - Loss Functions: class MeanSquaredError: Computes the mean of squares of errors between labels and predictions.\n",
    "    The mean squared error is the one I will be using. There are many more listed in the [keras losses](https://www.tensorflow.org/api_docs/python/tf/keras/losses) documentation.\n",
    "    \n",
    "    * Metrics to evaluate predictions such as `Accuracy`  which calculates how often predictions equal labels, `AUC` computes the approximate area under the curve,  `FalseNegatives` which calculates the number of false negatives and `FalsePositives` calculates the number of false positives, `Precision` computes the precision of the predictions with respect to the labels. \n",
    "    There are many more [metrics](https://www.tensorflow.org/api_docs/python/tf/keras/metrics) which I will come back when I get to that point...\n",
    "\n",
    "3. Fit the model\n",
    "\n",
    "To fit the model you need to select the training configuration such as the number of epochs which are loops through the training dataset. The batch size is the number of samples in an epoch used to estimate model error.\n",
    "(By passing in say 10 at a time instead of 1 at a time can have a smoothing effect)\n",
    "\n",
    "Training applies the chosen optimization algorithm to minimize the chosen loss function and updates the model using the backpropagation of error algorithm. This can be slow depending on the complexity of the model, the size of the training dataset and the hardware being used.\n",
    "\n",
    "There is another machine learning article here on [the importance of batch sizes](https://machinelearningmastery.com/how-to-control-the-speed-and-stability-of-training-neural-networks-with-gradient-descent-batch-size/)\n",
    "\n",
    "\n",
    "\n",
    "4. Evaluate the model\n",
    "\n",
    "This is where the holdout dataset comes into play, data that is not used in the training of the model so you can get an unbiased estimate of the performance of the model when making predictions on new data.\n",
    "\n",
    "5. Make predictions\n",
    "This is the final stage of the life cycle where you take values that you don't have target values and make a prediction.\n",
    "\n",
    "### Sequential model\n",
    "A **sequential** model adds layers to the model one by one in a linear manner, from input to output.\n",
    "    The visible layer of the network is defined by the input shape argument on the first hidden layer. In the wind dataset this will be `(1,)` - the model will expect the input for one sample to be a vector of 1 number.\n",
    "`model.add()` is used to add each layer.\n",
    "\n",
    "There is also a functional model which is more complex but more flexible. It involves explicitly connecting the output of one layer to the input of another layer. Each connection is specified. I will be using the sequential model for this project.\n",
    "\n",
    "###  Develop Multilayer Perceptron Models\n",
    "\n",
    "A Multilayer Perceptron model (MLP)is a standard fully connected neural network model. It is made up of one or more (dense) layers of nodes where each node is connected to all outputs from the previous layer and the output of each node is connected to all the inputs for the nodes in the next layer. This model is suitable for tabular data and can be used for three predictive modeling problems being binary classification, multiclass classification, and regression. \n",
    "The tutorial demostrates using MLP for each of the three predictive modeling problems.\n",
    "\n"
   ]
  },
  {
   "cell_type": "markdown",
   "metadata": {},
   "source": [
    "### Import required packages"
   ]
  },
  {
   "cell_type": "code",
   "execution_count": 58,
   "metadata": {},
   "outputs": [
    {
     "name": "stdout",
     "output_type": "stream",
     "text": [
      "2.4.0\n"
     ]
    }
   ],
   "source": [
    "# Neural networks.\n",
    "import tensorflow.keras as kr\n",
    "print(kr.__version__)\n",
    "\n",
    "# Numerical arrays\n",
    "import numpy as np\n",
    "\n",
    "# Data frames.\n",
    "import pandas as pd\n",
    "\n",
    "# Plotting\n",
    "import matplotlib.pyplot as plt\n",
    "# splitting the data into training and test \n",
    "from sklearn.model_selection import train_test_split\n",
    "\n"
   ]
  },
  {
   "cell_type": "markdown",
   "metadata": {},
   "source": [
    "### The data:"
   ]
  },
  {
   "cell_type": "code",
   "execution_count": 78,
   "metadata": {},
   "outputs": [],
   "source": [
    "# mlp for regression\n",
    "from numpy import sqrt\n",
    "from pandas import read_csv\n",
    "from sklearn.model_selection import train_test_split\n",
    "from tensorflow.keras import Sequential\n",
    "from tensorflow.keras.layers import Dense\n",
    "path = 'https://raw.githubusercontent.com/ianmcloughlin/2020A-machstat-project/master/dataset/powerproduction.csv'\n",
    "df = pd.read_csv(csv_url)"
   ]
  },
  {
   "cell_type": "code",
   "execution_count": 79,
   "metadata": {},
   "outputs": [],
   "source": [
    "df\n",
    "# drop some of the outliers\n",
    "df.drop(df.loc[(df.speed>24.4)].index, inplace=True)"
   ]
  },
  {
   "cell_type": "markdown",
   "metadata": {},
   "source": [
    "## note - going to try dfx here \n",
    "This is the dataframe where all the zero values are dropped. Not yet decided on the correct course of action."
   ]
  },
  {
   "cell_type": "code",
   "execution_count": 194,
   "metadata": {},
   "outputs": [],
   "source": [
    "dfz = df.copy()\n",
    "dfz.drop(dfz.loc[(dfz.power == 0) & (dfz.speed > 7)].index, inplace=True)"
   ]
  },
  {
   "cell_type": "code",
   "execution_count": 195,
   "metadata": {},
   "outputs": [
    {
     "data": {
      "text/html": [
       "<div>\n",
       "<style scoped>\n",
       "    .dataframe tbody tr th:only-of-type {\n",
       "        vertical-align: middle;\n",
       "    }\n",
       "\n",
       "    .dataframe tbody tr th {\n",
       "        vertical-align: top;\n",
       "    }\n",
       "\n",
       "    .dataframe thead th {\n",
       "        text-align: right;\n",
       "    }\n",
       "</style>\n",
       "<table border=\"1\" class=\"dataframe\">\n",
       "  <thead>\n",
       "    <tr style=\"text-align: right;\">\n",
       "      <th></th>\n",
       "      <th>speed</th>\n",
       "      <th>power</th>\n",
       "    </tr>\n",
       "  </thead>\n",
       "  <tbody>\n",
       "    <tr>\n",
       "      <th>count</th>\n",
       "      <td>484.000000</td>\n",
       "      <td>484.000000</td>\n",
       "    </tr>\n",
       "    <tr>\n",
       "      <th>mean</th>\n",
       "      <td>12.319091</td>\n",
       "      <td>49.601843</td>\n",
       "    </tr>\n",
       "    <tr>\n",
       "      <th>std</th>\n",
       "      <td>7.091277</td>\n",
       "      <td>41.355119</td>\n",
       "    </tr>\n",
       "    <tr>\n",
       "      <th>min</th>\n",
       "      <td>0.000000</td>\n",
       "      <td>0.000000</td>\n",
       "    </tr>\n",
       "    <tr>\n",
       "      <th>25%</th>\n",
       "      <td>6.124750</td>\n",
       "      <td>6.124750</td>\n",
       "    </tr>\n",
       "    <tr>\n",
       "      <th>50%</th>\n",
       "      <td>12.374500</td>\n",
       "      <td>44.840500</td>\n",
       "    </tr>\n",
       "    <tr>\n",
       "      <th>75%</th>\n",
       "      <td>18.399250</td>\n",
       "      <td>93.809500</td>\n",
       "    </tr>\n",
       "    <tr>\n",
       "      <th>max</th>\n",
       "      <td>24.399000</td>\n",
       "      <td>113.556000</td>\n",
       "    </tr>\n",
       "  </tbody>\n",
       "</table>\n",
       "</div>"
      ],
      "text/plain": [
       "            speed       power\n",
       "count  484.000000  484.000000\n",
       "mean    12.319091   49.601843\n",
       "std      7.091277   41.355119\n",
       "min      0.000000    0.000000\n",
       "25%      6.124750    6.124750\n",
       "50%     12.374500   44.840500\n",
       "75%     18.399250   93.809500\n",
       "max     24.399000  113.556000"
      ]
     },
     "execution_count": 195,
     "metadata": {},
     "output_type": "execute_result"
    }
   ],
   "source": [
    "dfz.describe()"
   ]
  },
  {
   "cell_type": "markdown",
   "metadata": {},
   "source": [
    "### The data split into training and test sets\n",
    "\n",
    "- df is the original dataset with all 500 datapoints,\n",
    "- dfx is a copy with all the zero values dropped\n",
    "- dfz is another copy where I dropped the rows with zero power when the speed is over a certain value as I really don't think all the zero values should be dropped. There are quite a lot of them in the dataset."
   ]
  },
  {
   "cell_type": "code",
   "execution_count": 197,
   "metadata": {},
   "outputs": [
    {
     "name": "stdout",
     "output_type": "stream",
     "text": [
      "(324, 1) (160, 1) (324,) (160,)\n"
     ]
    }
   ],
   "source": [
    "\n",
    "# split into input and output columns\n",
    "\n",
    "#X, y = df.values[:, :-1], df.values[:, -1]\n",
    "#X, y = dfx.values[:, :-1], dfx.values[:, -1]\n",
    "X, y = dfz.values[:, :-1], dfz.values[:, -1]\n",
    "# split into train and test datasets\n",
    "X_train, X_test, y_train, y_test = train_test_split(X, y, test_size=0.33)\n",
    "print(X_train.shape, X_test.shape, y_train.shape, y_test.shape)\n",
    "# determine the number of input features\n",
    "n_features = X_train.shape[1]"
   ]
  },
  {
   "cell_type": "markdown",
   "metadata": {},
   "source": [
    "### Define the model:"
   ]
  },
  {
   "cell_type": "code",
   "execution_count": 198,
   "metadata": {},
   "outputs": [],
   "source": [
    "# Train a model\n",
    "model = kr.models.Sequential()\n",
    "model.add(kr.layers.Dense(50, input_shape=(1,), activation='sigmoid', kernel_initializer=\"glorot_uniform\", bias_initializer=\"glorot_uniform\"))\n",
    "model.add(kr.layers.BatchNormalization())\n",
    "model.add(kr.layers.Dense(1, activation='linear', kernel_initializer=\"glorot_uniform\", bias_initializer=\"glorot_uniform\"))"
   ]
  },
  {
   "cell_type": "markdown",
   "metadata": {},
   "source": [
    "### Compile the model"
   ]
  },
  {
   "cell_type": "code",
   "execution_count": 199,
   "metadata": {},
   "outputs": [
    {
     "name": "stdout",
     "output_type": "stream",
     "text": [
      "Model: \"sequential_5\"\n",
      "_________________________________________________________________\n",
      "Layer (type)                 Output Shape              Param #   \n",
      "=================================================================\n",
      "dense_8 (Dense)              (None, 50)                100       \n",
      "_________________________________________________________________\n",
      "batch_normalization_2 (Batch (None, 50)                200       \n",
      "_________________________________________________________________\n",
      "dense_9 (Dense)              (None, 1)                 51        \n",
      "=================================================================\n",
      "Total params: 351\n",
      "Trainable params: 251\n",
      "Non-trainable params: 100\n",
      "_________________________________________________________________\n"
     ]
    }
   ],
   "source": [
    "model.compile(kr.optimizers.Adam(lr=0.001), loss='mean_squared_error')\n",
    "model.summary()"
   ]
  },
  {
   "cell_type": "markdown",
   "metadata": {},
   "source": [
    "### Plotting the learning curve\n",
    "\n",
    "Back to the https://machinelearningmastery.com/tensorflow-tutorial-deep-learning-with-tf-keras/ tutorial. The next section looks at plotting model learning curves which plot the performance of the neural network model over time. It helps determine if the model is learning well and whether it is underfitting or overfitting the training set.To do this you need to update the call to to the `fit` function to include a reference to a validation dataset which is a portion of the training dataset not used to fit the model but instead used to evaluate the performance of the model during training. The fit function will then return a history object containing a trace of performance metrics recorded at the end of each training epoch. A learning curve is a plot of the loss on the training dataset and the validation dataset."
   ]
  },
  {
   "cell_type": "code",
   "execution_count": 200,
   "metadata": {},
   "outputs": [],
   "source": [
    "history = model.fit(X_train, y_train, epochs=500, batch_size=10, verbose=0, validation_split=0.3)"
   ]
  },
  {
   "cell_type": "code",
   "execution_count": 201,
   "metadata": {},
   "outputs": [
    {
     "data": {
      "image/png": "[encoded data removed]",
      "text/plain": [
       "<Figure size 432x288 with 1 Axes>"
      ]
     },
     "metadata": {
      "needs_background": "light"
     },
     "output_type": "display_data"
    }
   ],
   "source": [
    "plt.title('Learning Curves')\n",
    "plt.xlabel('Epoch')\n",
    "plt.ylabel('Mean Squared Error')\n",
    "plt.plot(history.history['loss'], 'r.',label='train')\n",
    "plt.plot(history.history['val_loss'], 'b.',label='val')\n",
    "plt.legend()\n",
    "plt.show()"
   ]
  },
  {
   "cell_type": "markdown",
   "metadata": {},
   "source": [
    "Immediately the difference is obvious in the learning curve when all the 49 points with zero power values are dropped. It might not be right though!\n",
    "Compromise here with some values dropped where speed is greater than a particular value. I chose 7 for now."
   ]
  },
  {
   "cell_type": "raw",
   "metadata": {},
   "source": [
    "# compile the model\n",
    "model.compile(optimizer='adam', loss='mse')"
   ]
  },
  {
   "cell_type": "markdown",
   "metadata": {},
   "source": [
    "### Fit the model"
   ]
  },
  {
   "cell_type": "code",
   "execution_count": 202,
   "metadata": {},
   "outputs": [
    {
     "name": "stdout",
     "output_type": "stream",
     "text": [
      "Epoch 1/500\n",
      "17/17 [==============================] - 0s 2ms/step - loss: 161.9782\n",
      "Epoch 2/500\n",
      "17/17 [==============================] - 0s 3ms/step - loss: 158.5665\n",
      "Epoch 3/500\n",
      "17/17 [==============================] - 0s 2ms/step - loss: 193.0156\n",
      "Epoch 4/500\n",
      "17/17 [==============================] - 0s 2ms/step - loss: 133.3733\n",
      "Epoch 5/500\n",
      "17/17 [==============================] - 0s 2ms/step - loss: 152.7920\n",
      "Epoch 6/500\n",
      "17/17 [==============================] - 0s 2ms/step - loss: 132.3562\n",
      "Epoch 7/500\n",
      "17/17 [==============================] - 0s 2ms/step - loss: 117.4157\n",
      "Epoch 8/500\n",
      "17/17 [==============================] - 0s 2ms/step - loss: 161.7991\n",
      "Epoch 9/500\n",
      "17/17 [==============================] - 0s 1ms/step - loss: 207.0759\n",
      "Epoch 10/500\n",
      "17/17 [==============================] - 0s 1ms/step - loss: 83.5135\n",
      "Epoch 11/500\n",
      "17/17 [==============================] - 0s 2ms/step - loss: 158.3544\n",
      "Epoch 12/500\n",
      "17/17 [==============================] - 0s 2ms/step - loss: 173.8761\n",
      "Epoch 13/500\n",
      "17/17 [==============================] - 0s 2ms/step - loss: 81.9784\n",
      "Epoch 14/500\n",
      "17/17 [==============================] - 0s 1ms/step - loss: 125.9429\n",
      "Epoch 15/500\n",
      "17/17 [==============================] - 0s 2ms/step - loss: 110.9086\n",
      "Epoch 16/500\n",
      "17/17 [==============================] - 0s 2ms/step - loss: 67.4188\n",
      "Epoch 17/500\n",
      "17/17 [==============================] - 0s 2ms/step - loss: 111.5639\n",
      "Epoch 18/500\n",
      "17/17 [==============================] - 0s 2ms/step - loss: 113.6898\n",
      "Epoch 19/500\n",
      "17/17 [==============================] - 0s 2ms/step - loss: 80.6477\n",
      "Epoch 20/500\n",
      "17/17 [==============================] - 0s 2ms/step - loss: 81.6666\n",
      "Epoch 21/500\n",
      "17/17 [==============================] - 0s 2ms/step - loss: 107.9049\n",
      "Epoch 22/500\n",
      "17/17 [==============================] - 0s 2ms/step - loss: 87.2643\n",
      "Epoch 23/500\n",
      "17/17 [==============================] - 0s 2ms/step - loss: 118.5229\n",
      "Epoch 24/500\n",
      "17/17 [==============================] - 0s 1ms/step - loss: 120.8712\n",
      "Epoch 25/500\n",
      "17/17 [==============================] - 0s 1ms/step - loss: 145.2906\n",
      "Epoch 26/500\n",
      "17/17 [==============================] - 0s 2ms/step - loss: 101.2611\n",
      "Epoch 27/500\n",
      "17/17 [==============================] - 0s 2ms/step - loss: 109.4856\n",
      "Epoch 28/500\n",
      "17/17 [==============================] - 0s 2ms/step - loss: 106.3112\n",
      "Epoch 29/500\n",
      "17/17 [==============================] - 0s 2ms/step - loss: 131.9122\n",
      "Epoch 30/500\n",
      "17/17 [==============================] - 0s 2ms/step - loss: 83.9830\n",
      "Epoch 31/500\n",
      "17/17 [==============================] - 0s 2ms/step - loss: 80.9694\n",
      "Epoch 32/500\n",
      "17/17 [==============================] - 0s 3ms/step - loss: 102.5119\n",
      "Epoch 33/500\n",
      "17/17 [==============================] - 0s 3ms/step - loss: 138.2440\n",
      "Epoch 34/500\n",
      "17/17 [==============================] - 0s 2ms/step - loss: 177.5298\n",
      "Epoch 35/500\n",
      "17/17 [==============================] - 0s 3ms/step - loss: 142.8392\n",
      "Epoch 36/500\n",
      "17/17 [==============================] - 0s 3ms/step - loss: 76.9384\n",
      "Epoch 37/500\n",
      "17/17 [==============================] - 0s 3ms/step - loss: 185.4146\n",
      "Epoch 38/500\n",
      "17/17 [==============================] - 0s 2ms/step - loss: 172.8172\n",
      "Epoch 39/500\n",
      "17/17 [==============================] - 0s 2ms/step - loss: 111.8374\n",
      "Epoch 40/500\n",
      "17/17 [==============================] - 0s 2ms/step - loss: 126.9101\n",
      "Epoch 41/500\n",
      "17/17 [==============================] - 0s 2ms/step - loss: 66.7427\n",
      "Epoch 42/500\n",
      "17/17 [==============================] - 0s 2ms/step - loss: 130.2974\n",
      "Epoch 43/500\n",
      "17/17 [==============================] - 0s 2ms/step - loss: 124.4121\n",
      "Epoch 44/500\n",
      "17/17 [==============================] - 0s 2ms/step - loss: 193.4436\n",
      "Epoch 45/500\n",
      "17/17 [==============================] - 0s 2ms/step - loss: 108.4764\n",
      "Epoch 46/500\n",
      "17/17 [==============================] - 0s 2ms/step - loss: 116.3999\n",
      "Epoch 47/500\n",
      "17/17 [==============================] - 0s 3ms/step - loss: 130.6627\n",
      "Epoch 48/500\n",
      "17/17 [==============================] - 0s 3ms/step - loss: 114.7777\n",
      "Epoch 49/500\n",
      "17/17 [==============================] - 0s 2ms/step - loss: 160.0942\n",
      "Epoch 50/500\n",
      "17/17 [==============================] - 0s 2ms/step - loss: 129.0510\n",
      "Epoch 51/500\n",
      "17/17 [==============================] - 0s 2ms/step - loss: 138.8152\n",
      "Epoch 52/500\n",
      "17/17 [==============================] - 0s 2ms/step - loss: 107.3152\n",
      "Epoch 53/500\n",
      "17/17 [==============================] - 0s 2ms/step - loss: 185.1694\n",
      "Epoch 54/500\n",
      "17/17 [==============================] - 0s 2ms/step - loss: 134.6998\n",
      "Epoch 55/500\n",
      "17/17 [==============================] - 0s 2ms/step - loss: 118.7593\n",
      "Epoch 56/500\n",
      "17/17 [==============================] - 0s 2ms/step - loss: 101.4209\n",
      "Epoch 57/500\n",
      "17/17 [==============================] - 0s 2ms/step - loss: 86.7714\n",
      "Epoch 58/500\n",
      "17/17 [==============================] - 0s 2ms/step - loss: 143.0992\n",
      "Epoch 59/500\n",
      "17/17 [==============================] - 0s 2ms/step - loss: 139.9356\n",
      "Epoch 60/500\n",
      "17/17 [==============================] - 0s 1ms/step - loss: 92.8434\n",
      "Epoch 61/500\n",
      "17/17 [==============================] - 0s 2ms/step - loss: 200.1936\n",
      "Epoch 62/500\n",
      "17/17 [==============================] - 0s 1ms/step - loss: 106.8371\n",
      "Epoch 63/500\n",
      "17/17 [==============================] - 0s 1ms/step - loss: 124.1942\n",
      "Epoch 64/500\n",
      "17/17 [==============================] - 0s 2ms/step - loss: 71.3358\n",
      "Epoch 65/500\n",
      "17/17 [==============================] - 0s 2ms/step - loss: 171.4907\n",
      "Epoch 66/500\n",
      "17/17 [==============================] - 0s 1ms/step - loss: 183.1248\n",
      "Epoch 67/500\n",
      "17/17 [==============================] - 0s 2ms/step - loss: 109.2918\n",
      "Epoch 68/500\n",
      "17/17 [==============================] - 0s 2ms/step - loss: 155.1972\n",
      "Epoch 69/500\n",
      "17/17 [==============================] - 0s 2ms/step - loss: 153.3809\n",
      "Epoch 70/500\n",
      "17/17 [==============================] - 0s 2ms/step - loss: 134.1562\n",
      "Epoch 71/500\n",
      "17/17 [==============================] - 0s 2ms/step - loss: 96.2445\n",
      "Epoch 72/500\n",
      "17/17 [==============================] - 0s 2ms/step - loss: 188.9030\n",
      "Epoch 73/500\n",
      "17/17 [==============================] - 0s 2ms/step - loss: 111.7413\n",
      "Epoch 74/500\n",
      "17/17 [==============================] - 0s 4ms/step - loss: 69.9288\n",
      "Epoch 75/500\n",
      "17/17 [==============================] - 0s 2ms/step - loss: 217.7447\n",
      "Epoch 76/500\n",
      "17/17 [==============================] - 0s 2ms/step - loss: 114.1303\n",
      "Epoch 77/500\n",
      "17/17 [==============================] - 0s 2ms/step - loss: 86.7628\n",
      "Epoch 78/500\n",
      "17/17 [==============================] - 0s 2ms/step - loss: 109.1699\n",
      "Epoch 79/500\n",
      "17/17 [==============================] - 0s 2ms/step - loss: 106.5398\n",
      "Epoch 80/500\n",
      "17/17 [==============================] - 0s 2ms/step - loss: 114.7537\n",
      "Epoch 81/500\n",
      "17/17 [==============================] - 0s 2ms/step - loss: 137.4320\n",
      "Epoch 82/500\n",
      "17/17 [==============================] - 0s 2ms/step - loss: 106.1882\n",
      "Epoch 83/500\n",
      "17/17 [==============================] - 0s 2ms/step - loss: 168.9543\n",
      "Epoch 84/500\n",
      "17/17 [==============================] - 0s 2ms/step - loss: 88.1105\n",
      "Epoch 85/500\n",
      "17/17 [==============================] - 0s 2ms/step - loss: 141.6952\n",
      "Epoch 86/500\n",
      "17/17 [==============================] - 0s 1ms/step - loss: 123.9202\n",
      "Epoch 87/500\n",
      "17/17 [==============================] - 0s 1ms/step - loss: 110.4577\n",
      "Epoch 88/500\n",
      "17/17 [==============================] - 0s 1ms/step - loss: 99.3400\n",
      "Epoch 89/500\n",
      "17/17 [==============================] - 0s 1ms/step - loss: 174.8457\n",
      "Epoch 90/500\n",
      "17/17 [==============================] - 0s 2ms/step - loss: 106.8319\n",
      "Epoch 91/500\n",
      "17/17 [==============================] - 0s 4ms/step - loss: 89.6847\n",
      "Epoch 92/500\n",
      "17/17 [==============================] - 0s 2ms/step - loss: 155.2235\n",
      "Epoch 93/500\n",
      "17/17 [==============================] - 0s 1ms/step - loss: 103.8204\n",
      "Epoch 94/500\n",
      "17/17 [==============================] - 0s 1ms/step - loss: 128.7252\n",
      "Epoch 95/500\n",
      "17/17 [==============================] - 0s 1ms/step - loss: 125.4252\n",
      "Epoch 96/500\n",
      "17/17 [==============================] - 0s 1ms/step - loss: 92.1869\n",
      "Epoch 97/500\n",
      "17/17 [==============================] - 0s 1ms/step - loss: 109.1685\n",
      "Epoch 98/500\n",
      "17/17 [==============================] - 0s 1ms/step - loss: 93.4725\n",
      "Epoch 99/500\n",
      "17/17 [==============================] - 0s 1ms/step - loss: 88.8154\n",
      "Epoch 100/500\n"
     ]
    },
    {
     "name": "stdout",
     "output_type": "stream",
     "text": [
      "17/17 [==============================] - 0s 1ms/step - loss: 183.1738\n",
      "Epoch 101/500\n",
      "17/17 [==============================] - 0s 1ms/step - loss: 89.8635\n",
      "Epoch 102/500\n",
      "17/17 [==============================] - 0s 1ms/step - loss: 138.4973\n",
      "Epoch 103/500\n",
      "17/17 [==============================] - 0s 2ms/step - loss: 100.0945\n",
      "Epoch 104/500\n",
      "17/17 [==============================] - 0s 2ms/step - loss: 99.0326\n",
      "Epoch 105/500\n",
      "17/17 [==============================] - 0s 3ms/step - loss: 117.2860\n",
      "Epoch 106/500\n",
      "17/17 [==============================] - 0s 2ms/step - loss: 103.5297\n",
      "Epoch 107/500\n",
      "17/17 [==============================] - 0s 2ms/step - loss: 104.5730\n",
      "Epoch 108/500\n",
      "17/17 [==============================] - 0s 3ms/step - loss: 119.1237\n",
      "Epoch 109/500\n",
      "17/17 [==============================] - 0s 2ms/step - loss: 107.9209\n",
      "Epoch 110/500\n",
      "17/17 [==============================] - 0s 3ms/step - loss: 115.7028\n",
      "Epoch 111/500\n",
      "17/17 [==============================] - 0s 3ms/step - loss: 98.0871\n",
      "Epoch 112/500\n",
      "17/17 [==============================] - 0s 2ms/step - loss: 87.9171\n",
      "Epoch 113/500\n",
      "17/17 [==============================] - 0s 1ms/step - loss: 72.0560\n",
      "Epoch 114/500\n",
      "17/17 [==============================] - 0s 2ms/step - loss: 92.5781\n",
      "Epoch 115/500\n",
      "17/17 [==============================] - 0s 1ms/step - loss: 122.9399\n",
      "Epoch 116/500\n",
      "17/17 [==============================] - 0s 1ms/step - loss: 87.8585\n",
      "Epoch 117/500\n",
      "17/17 [==============================] - 0s 1ms/step - loss: 144.9418\n",
      "Epoch 118/500\n",
      "17/17 [==============================] - 0s 2ms/step - loss: 152.2668\n",
      "Epoch 119/500\n",
      "17/17 [==============================] - 0s 2ms/step - loss: 147.6634\n",
      "Epoch 120/500\n",
      "17/17 [==============================] - 0s 2ms/step - loss: 128.9710\n",
      "Epoch 121/500\n",
      "17/17 [==============================] - 0s 2ms/step - loss: 106.8326\n",
      "Epoch 122/500\n",
      "17/17 [==============================] - 0s 2ms/step - loss: 94.2845\n",
      "Epoch 123/500\n",
      "17/17 [==============================] - 0s 1ms/step - loss: 103.2305\n",
      "Epoch 124/500\n",
      "17/17 [==============================] - 0s 1ms/step - loss: 218.6559\n",
      "Epoch 125/500\n",
      "17/17 [==============================] - 0s 2ms/step - loss: 88.1957\n",
      "Epoch 126/500\n",
      "17/17 [==============================] - 0s 2ms/step - loss: 115.3913\n",
      "Epoch 127/500\n",
      "17/17 [==============================] - 0s 2ms/step - loss: 161.9235\n",
      "Epoch 128/500\n",
      "17/17 [==============================] - 0s 2ms/step - loss: 136.5312\n",
      "Epoch 129/500\n",
      "17/17 [==============================] - 0s 2ms/step - loss: 150.5330\n",
      "Epoch 130/500\n",
      "17/17 [==============================] - 0s 1ms/step - loss: 145.5941\n",
      "Epoch 131/500\n",
      "17/17 [==============================] - 0s 2ms/step - loss: 126.2489\n",
      "Epoch 132/500\n",
      "17/17 [==============================] - 0s 6ms/step - loss: 103.9605\n",
      "Epoch 133/500\n",
      "17/17 [==============================] - 0s 2ms/step - loss: 103.0000\n",
      "Epoch 134/500\n",
      "17/17 [==============================] - 0s 2ms/step - loss: 106.3174\n",
      "Epoch 135/500\n",
      "17/17 [==============================] - 0s 1ms/step - loss: 98.7575\n",
      "Epoch 136/500\n",
      "17/17 [==============================] - 0s 1ms/step - loss: 250.0145\n",
      "Epoch 137/500\n",
      "17/17 [==============================] - 0s 1ms/step - loss: 128.6205\n",
      "Epoch 138/500\n",
      "17/17 [==============================] - 0s 1ms/step - loss: 112.2498\n",
      "Epoch 139/500\n",
      "17/17 [==============================] - 0s 1ms/step - loss: 177.7068\n",
      "Epoch 140/500\n",
      "17/17 [==============================] - 0s 1ms/step - loss: 152.1296\n",
      "Epoch 141/500\n",
      "17/17 [==============================] - 0s 1ms/step - loss: 128.8853\n",
      "Epoch 142/500\n",
      "17/17 [==============================] - 0s 1ms/step - loss: 129.1268\n",
      "Epoch 143/500\n",
      "17/17 [==============================] - 0s 1ms/step - loss: 109.8300\n",
      "Epoch 144/500\n",
      "17/17 [==============================] - 0s 2ms/step - loss: 144.8318\n",
      "Epoch 145/500\n",
      "17/17 [==============================] - 0s 2ms/step - loss: 170.8584\n",
      "Epoch 146/500\n",
      "17/17 [==============================] - 0s 1ms/step - loss: 97.4608\n",
      "Epoch 147/500\n",
      "17/17 [==============================] - 0s 1ms/step - loss: 112.7292\n",
      "Epoch 148/500\n",
      "17/17 [==============================] - 0s 1ms/step - loss: 106.2351\n",
      "Epoch 149/500\n",
      "17/17 [==============================] - 0s 1ms/step - loss: 126.5921\n",
      "Epoch 150/500\n",
      "17/17 [==============================] - 0s 2ms/step - loss: 141.1507\n",
      "Epoch 151/500\n",
      "17/17 [==============================] - 0s 2ms/step - loss: 104.7645\n",
      "Epoch 152/500\n",
      "17/17 [==============================] - 0s 2ms/step - loss: 104.8420\n",
      "Epoch 153/500\n",
      "17/17 [==============================] - 0s 2ms/step - loss: 102.4351\n",
      "Epoch 154/500\n",
      "17/17 [==============================] - 0s 2ms/step - loss: 93.7314\n",
      "Epoch 155/500\n",
      "17/17 [==============================] - 0s 2ms/step - loss: 153.8008\n",
      "Epoch 156/500\n",
      "17/17 [==============================] - 0s 2ms/step - loss: 106.7812\n",
      "Epoch 157/500\n",
      "17/17 [==============================] - 0s 2ms/step - loss: 126.8635\n",
      "Epoch 158/500\n",
      "17/17 [==============================] - 0s 2ms/step - loss: 141.9524\n",
      "Epoch 159/500\n",
      "17/17 [==============================] - 0s 2ms/step - loss: 119.2001\n",
      "Epoch 160/500\n",
      "17/17 [==============================] - 0s 2ms/step - loss: 96.8954\n",
      "Epoch 161/500\n",
      "17/17 [==============================] - 0s 2ms/step - loss: 95.4978\n",
      "Epoch 162/500\n",
      "17/17 [==============================] - 0s 1ms/step - loss: 111.3129\n",
      "Epoch 163/500\n",
      "17/17 [==============================] - 0s 2ms/step - loss: 189.5664\n",
      "Epoch 164/500\n",
      "17/17 [==============================] - 0s 1ms/step - loss: 108.9818\n",
      "Epoch 165/500\n",
      "17/17 [==============================] - 0s 1ms/step - loss: 112.8994\n",
      "Epoch 166/500\n",
      "17/17 [==============================] - 0s 1ms/step - loss: 81.5149\n",
      "Epoch 167/500\n",
      "17/17 [==============================] - 0s 1ms/step - loss: 113.8590\n",
      "Epoch 168/500\n",
      "17/17 [==============================] - 0s 1ms/step - loss: 80.5782\n",
      "Epoch 169/500\n",
      "17/17 [==============================] - 0s 1ms/step - loss: 166.6589\n",
      "Epoch 170/500\n",
      "17/17 [==============================] - 0s 1ms/step - loss: 123.1146\n",
      "Epoch 171/500\n",
      "17/17 [==============================] - 0s 1ms/step - loss: 98.6407\n",
      "Epoch 172/500\n",
      "17/17 [==============================] - 0s 2ms/step - loss: 118.3964\n",
      "Epoch 173/500\n",
      "17/17 [==============================] - 0s 2ms/step - loss: 96.1523\n",
      "Epoch 174/500\n",
      "17/17 [==============================] - 0s 1ms/step - loss: 97.7493\n",
      "Epoch 175/500\n",
      "17/17 [==============================] - 0s 1ms/step - loss: 72.2290\n",
      "Epoch 176/500\n",
      "17/17 [==============================] - 0s 1ms/step - loss: 80.9828\n",
      "Epoch 177/500\n",
      "17/17 [==============================] - 0s 1ms/step - loss: 130.9991\n",
      "Epoch 178/500\n",
      "17/17 [==============================] - 0s 1ms/step - loss: 117.1292\n",
      "Epoch 179/500\n",
      "17/17 [==============================] - 0s 2ms/step - loss: 117.2245\n",
      "Epoch 180/500\n",
      "17/17 [==============================] - 0s 2ms/step - loss: 62.6034\n",
      "Epoch 181/500\n",
      "17/17 [==============================] - 0s 1ms/step - loss: 127.0005\n",
      "Epoch 182/500\n",
      "17/17 [==============================] - 0s 1ms/step - loss: 139.3580\n",
      "Epoch 183/500\n",
      "17/17 [==============================] - 0s 1ms/step - loss: 111.3799\n",
      "Epoch 184/500\n",
      "17/17 [==============================] - 0s 1ms/step - loss: 149.3468\n",
      "Epoch 185/500\n",
      "17/17 [==============================] - 0s 1ms/step - loss: 139.4558\n",
      "Epoch 186/500\n",
      "17/17 [==============================] - 0s 1ms/step - loss: 97.7859\n",
      "Epoch 187/500\n",
      "17/17 [==============================] - 0s 2ms/step - loss: 95.6935\n",
      "Epoch 188/500\n",
      "17/17 [==============================] - 0s 1ms/step - loss: 74.4320\n",
      "Epoch 189/500\n",
      "17/17 [==============================] - 0s 2ms/step - loss: 108.1045\n",
      "Epoch 190/500\n",
      "17/17 [==============================] - 0s 1ms/step - loss: 111.2297\n",
      "Epoch 191/500\n",
      "17/17 [==============================] - 0s 1ms/step - loss: 117.7935\n",
      "Epoch 192/500\n",
      "17/17 [==============================] - 0s 1ms/step - loss: 115.7306\n",
      "Epoch 193/500\n",
      "17/17 [==============================] - 0s 1ms/step - loss: 93.1031\n",
      "Epoch 194/500\n",
      "17/17 [==============================] - 0s 1ms/step - loss: 75.2681\n",
      "Epoch 195/500\n",
      "17/17 [==============================] - 0s 1ms/step - loss: 81.9323\n",
      "Epoch 196/500\n",
      "17/17 [==============================] - 0s 1ms/step - loss: 105.5769\n",
      "Epoch 197/500\n",
      "17/17 [==============================] - 0s 1ms/step - loss: 111.9249\n",
      "Epoch 198/500\n"
     ]
    },
    {
     "name": "stdout",
     "output_type": "stream",
     "text": [
      "17/17 [==============================] - 0s 1ms/step - loss: 141.6317\n",
      "Epoch 199/500\n",
      "17/17 [==============================] - 0s 1ms/step - loss: 111.9638\n",
      "Epoch 200/500\n",
      "17/17 [==============================] - 0s 2ms/step - loss: 111.9200\n",
      "Epoch 201/500\n",
      "17/17 [==============================] - 0s 2ms/step - loss: 88.7005\n",
      "Epoch 202/500\n",
      "17/17 [==============================] - 0s 1ms/step - loss: 100.5093\n",
      "Epoch 203/500\n",
      "17/17 [==============================] - 0s 1ms/step - loss: 121.2709\n",
      "Epoch 204/500\n",
      "17/17 [==============================] - 0s 1ms/step - loss: 127.2464\n",
      "Epoch 205/500\n",
      "17/17 [==============================] - 0s 1ms/step - loss: 114.6711\n",
      "Epoch 206/500\n",
      "17/17 [==============================] - 0s 1ms/step - loss: 136.2349\n",
      "Epoch 207/500\n",
      "17/17 [==============================] - 0s 1ms/step - loss: 91.2441\n",
      "Epoch 208/500\n",
      "17/17 [==============================] - 0s 1ms/step - loss: 134.3753\n",
      "Epoch 209/500\n",
      "17/17 [==============================] - 0s 1ms/step - loss: 129.7713\n",
      "Epoch 210/500\n",
      "17/17 [==============================] - 0s 1ms/step - loss: 90.1606\n",
      "Epoch 211/500\n",
      "17/17 [==============================] - 0s 1ms/step - loss: 97.6630\n",
      "Epoch 212/500\n",
      "17/17 [==============================] - 0s 1ms/step - loss: 105.4542\n",
      "Epoch 213/500\n",
      "17/17 [==============================] - 0s 1ms/step - loss: 136.6177\n",
      "Epoch 214/500\n",
      "17/17 [==============================] - 0s 1ms/step - loss: 72.8283\n",
      "Epoch 215/500\n",
      "17/17 [==============================] - 0s 1ms/step - loss: 100.7644\n",
      "Epoch 216/500\n",
      "17/17 [==============================] - 0s 1ms/step - loss: 130.4664\n",
      "Epoch 217/500\n",
      "17/17 [==============================] - 0s 2ms/step - loss: 116.3322\n",
      "Epoch 218/500\n",
      "17/17 [==============================] - 0s 1ms/step - loss: 146.7397\n",
      "Epoch 219/500\n",
      "17/17 [==============================] - 0s 1ms/step - loss: 88.6412\n",
      "Epoch 220/500\n",
      "17/17 [==============================] - 0s 1ms/step - loss: 129.3518\n",
      "Epoch 221/500\n",
      "17/17 [==============================] - 0s 1ms/step - loss: 149.7994\n",
      "Epoch 222/500\n",
      "17/17 [==============================] - 0s 1ms/step - loss: 90.0815\n",
      "Epoch 223/500\n",
      "17/17 [==============================] - 0s 1ms/step - loss: 131.4033\n",
      "Epoch 224/500\n",
      "17/17 [==============================] - 0s 1ms/step - loss: 105.0906\n",
      "Epoch 225/500\n",
      "17/17 [==============================] - 0s 1ms/step - loss: 101.9432\n",
      "Epoch 226/500\n",
      "17/17 [==============================] - 0s 1ms/step - loss: 148.3391\n",
      "Epoch 227/500\n",
      "17/17 [==============================] - 0s 1ms/step - loss: 102.4786\n",
      "Epoch 228/500\n",
      "17/17 [==============================] - 0s 1ms/step - loss: 114.4457\n",
      "Epoch 229/500\n",
      "17/17 [==============================] - 0s 1ms/step - loss: 64.1893\n",
      "Epoch 230/500\n",
      "17/17 [==============================] - 0s 1ms/step - loss: 97.2366\n",
      "Epoch 231/500\n",
      "17/17 [==============================] - 0s 1ms/step - loss: 121.2324\n",
      "Epoch 232/500\n",
      "17/17 [==============================] - 0s 1ms/step - loss: 86.8162\n",
      "Epoch 233/500\n",
      "17/17 [==============================] - 0s 1ms/step - loss: 81.9061\n",
      "Epoch 234/500\n",
      "17/17 [==============================] - 0s 1ms/step - loss: 143.0486\n",
      "Epoch 235/500\n",
      "17/17 [==============================] - 0s 1ms/step - loss: 139.3244\n",
      "Epoch 236/500\n",
      "17/17 [==============================] - 0s 2ms/step - loss: 116.9538\n",
      "Epoch 237/500\n",
      "17/17 [==============================] - 0s 1ms/step - loss: 201.3287\n",
      "Epoch 238/500\n",
      "17/17 [==============================] - 0s 1ms/step - loss: 150.6443\n",
      "Epoch 239/500\n",
      "17/17 [==============================] - 0s 1ms/step - loss: 86.4662\n",
      "Epoch 240/500\n",
      "17/17 [==============================] - 0s 1ms/step - loss: 73.9255\n",
      "Epoch 241/500\n",
      "17/17 [==============================] - 0s 1ms/step - loss: 139.6435\n",
      "Epoch 242/500\n",
      "17/17 [==============================] - 0s 1ms/step - loss: 129.3205\n",
      "Epoch 243/500\n",
      "17/17 [==============================] - 0s 1ms/step - loss: 135.7852\n",
      "Epoch 244/500\n",
      "17/17 [==============================] - 0s 1ms/step - loss: 177.0016\n",
      "Epoch 245/500\n",
      "17/17 [==============================] - 0s 1ms/step - loss: 73.5696\n",
      "Epoch 246/500\n",
      "17/17 [==============================] - 0s 2ms/step - loss: 123.0904\n",
      "Epoch 247/500\n",
      "17/17 [==============================] - 0s 1ms/step - loss: 94.3135\n",
      "Epoch 248/500\n",
      "17/17 [==============================] - 0s 1ms/step - loss: 180.8293\n",
      "Epoch 249/500\n",
      "17/17 [==============================] - 0s 1ms/step - loss: 111.5980\n",
      "Epoch 250/500\n",
      "17/17 [==============================] - 0s 1ms/step - loss: 97.7866\n",
      "Epoch 251/500\n",
      "17/17 [==============================] - 0s 2ms/step - loss: 107.4523\n",
      "Epoch 252/500\n",
      "17/17 [==============================] - 0s 1ms/step - loss: 106.1201\n",
      "Epoch 253/500\n",
      "17/17 [==============================] - 0s 1ms/step - loss: 111.3060\n",
      "Epoch 254/500\n",
      "17/17 [==============================] - 0s 2ms/step - loss: 132.0962\n",
      "Epoch 255/500\n",
      "17/17 [==============================] - 0s 1ms/step - loss: 88.6013\n",
      "Epoch 256/500\n",
      "17/17 [==============================] - 0s 1ms/step - loss: 87.7380\n",
      "Epoch 257/500\n",
      "17/17 [==============================] - 0s 1ms/step - loss: 96.5943\n",
      "Epoch 258/500\n",
      "17/17 [==============================] - 0s 2ms/step - loss: 89.8532\n",
      "Epoch 259/500\n",
      "17/17 [==============================] - 0s 1ms/step - loss: 75.4470\n",
      "Epoch 260/500\n",
      "17/17 [==============================] - 0s 1ms/step - loss: 116.8559\n",
      "Epoch 261/500\n",
      "17/17 [==============================] - 0s 1ms/step - loss: 115.5587\n",
      "Epoch 262/500\n",
      "17/17 [==============================] - 0s 1ms/step - loss: 52.8528\n",
      "Epoch 263/500\n",
      "17/17 [==============================] - 0s 1ms/step - loss: 111.1203\n",
      "Epoch 264/500\n",
      "17/17 [==============================] - 0s 1ms/step - loss: 150.4540\n",
      "Epoch 265/500\n",
      "17/17 [==============================] - 0s 1ms/step - loss: 72.8874\n",
      "Epoch 266/500\n",
      "17/17 [==============================] - 0s 1ms/step - loss: 136.2677\n",
      "Epoch 267/500\n",
      "17/17 [==============================] - 0s 1ms/step - loss: 127.1753\n",
      "Epoch 268/500\n",
      "17/17 [==============================] - 0s 1ms/step - loss: 81.1963\n",
      "Epoch 269/500\n",
      "17/17 [==============================] - 0s 1ms/step - loss: 93.5859\n",
      "Epoch 270/500\n",
      "17/17 [==============================] - 0s 2ms/step - loss: 102.7271\n",
      "Epoch 271/500\n",
      "17/17 [==============================] - 0s 1ms/step - loss: 100.5278\n",
      "Epoch 272/500\n",
      "17/17 [==============================] - 0s 1ms/step - loss: 101.3015\n",
      "Epoch 273/500\n",
      "17/17 [==============================] - 0s 2ms/step - loss: 112.0467\n",
      "Epoch 274/500\n",
      "17/17 [==============================] - 0s 1ms/step - loss: 100.3928\n",
      "Epoch 275/500\n",
      "17/17 [==============================] - 0s 1ms/step - loss: 135.6341\n",
      "Epoch 276/500\n",
      "17/17 [==============================] - 0s 1ms/step - loss: 59.6023\n",
      "Epoch 277/500\n",
      "17/17 [==============================] - 0s 1ms/step - loss: 84.5924\n",
      "Epoch 278/500\n",
      "17/17 [==============================] - 0s 1ms/step - loss: 177.6834\n",
      "Epoch 279/500\n",
      "17/17 [==============================] - 0s 1ms/step - loss: 116.8949\n",
      "Epoch 280/500\n",
      "17/17 [==============================] - 0s 1ms/step - loss: 120.7280\n",
      "Epoch 281/500\n",
      "17/17 [==============================] - 0s 1ms/step - loss: 120.2955\n",
      "Epoch 282/500\n",
      "17/17 [==============================] - 0s 1ms/step - loss: 94.6808\n",
      "Epoch 283/500\n",
      "17/17 [==============================] - 0s 1ms/step - loss: 137.7484\n",
      "Epoch 284/500\n",
      "17/17 [==============================] - 0s 1ms/step - loss: 126.6749\n",
      "Epoch 285/500\n",
      "17/17 [==============================] - 0s 1ms/step - loss: 87.2607\n",
      "Epoch 286/500\n",
      "17/17 [==============================] - 0s 2ms/step - loss: 134.1787\n",
      "Epoch 287/500\n",
      "17/17 [==============================] - 0s 1ms/step - loss: 114.7448\n",
      "Epoch 288/500\n",
      "17/17 [==============================] - 0s 2ms/step - loss: 50.3116\n",
      "Epoch 289/500\n",
      "17/17 [==============================] - 0s 2ms/step - loss: 93.6488\n",
      "Epoch 290/500\n",
      "17/17 [==============================] - 0s 1ms/step - loss: 138.8845\n",
      "Epoch 291/500\n",
      "17/17 [==============================] - 0s 1ms/step - loss: 66.0484\n",
      "Epoch 292/500\n",
      "17/17 [==============================] - 0s 2ms/step - loss: 116.6530\n",
      "Epoch 293/500\n",
      "17/17 [==============================] - 0s 1ms/step - loss: 95.9429\n",
      "Epoch 294/500\n",
      "17/17 [==============================] - 0s 2ms/step - loss: 99.7984\n",
      "Epoch 295/500\n",
      "17/17 [==============================] - 0s 2ms/step - loss: 121.7743\n",
      "Epoch 296/500\n"
     ]
    },
    {
     "name": "stdout",
     "output_type": "stream",
     "text": [
      "17/17 [==============================] - 0s 1ms/step - loss: 98.2928\n",
      "Epoch 297/500\n",
      "17/17 [==============================] - 0s 2ms/step - loss: 95.8298\n",
      "Epoch 298/500\n",
      "17/17 [==============================] - 0s 2ms/step - loss: 164.8260\n",
      "Epoch 299/500\n",
      "17/17 [==============================] - 0s 1ms/step - loss: 139.6313\n",
      "Epoch 300/500\n",
      "17/17 [==============================] - 0s 1ms/step - loss: 105.0527\n",
      "Epoch 301/500\n",
      "17/17 [==============================] - 0s 1ms/step - loss: 107.3644\n",
      "Epoch 302/500\n",
      "17/17 [==============================] - 0s 1ms/step - loss: 86.8556\n",
      "Epoch 303/500\n",
      "17/17 [==============================] - 0s 1ms/step - loss: 166.4052\n",
      "Epoch 304/500\n",
      "17/17 [==============================] - 0s 2ms/step - loss: 77.6401\n",
      "Epoch 305/500\n",
      "17/17 [==============================] - 0s 1ms/step - loss: 98.7364\n",
      "Epoch 306/500\n",
      "17/17 [==============================] - 0s 1ms/step - loss: 119.2047\n",
      "Epoch 307/500\n",
      "17/17 [==============================] - 0s 1ms/step - loss: 106.5584\n",
      "Epoch 308/500\n",
      "17/17 [==============================] - 0s 1ms/step - loss: 148.2423\n",
      "Epoch 309/500\n",
      "17/17 [==============================] - 0s 1ms/step - loss: 160.9841\n",
      "Epoch 310/500\n",
      "17/17 [==============================] - 0s 1ms/step - loss: 122.2364\n",
      "Epoch 311/500\n",
      "17/17 [==============================] - 0s 1ms/step - loss: 185.3524\n",
      "Epoch 312/500\n",
      "17/17 [==============================] - 0s 1ms/step - loss: 92.9197\n",
      "Epoch 313/500\n",
      "17/17 [==============================] - 0s 1ms/step - loss: 157.8144\n",
      "Epoch 314/500\n",
      "17/17 [==============================] - 0s 2ms/step - loss: 72.6159\n",
      "Epoch 315/500\n",
      "17/17 [==============================] - 0s 1ms/step - loss: 116.4169\n",
      "Epoch 316/500\n",
      "17/17 [==============================] - 0s 1ms/step - loss: 139.7518\n",
      "Epoch 317/500\n",
      "17/17 [==============================] - 0s 1ms/step - loss: 91.8811\n",
      "Epoch 318/500\n",
      "17/17 [==============================] - 0s 1ms/step - loss: 77.4686\n",
      "Epoch 319/500\n",
      "17/17 [==============================] - 0s 1ms/step - loss: 100.9414\n",
      "Epoch 320/500\n",
      "17/17 [==============================] - 0s 1ms/step - loss: 119.2097\n",
      "Epoch 321/500\n",
      "17/17 [==============================] - 0s 1ms/step - loss: 122.9767\n",
      "Epoch 322/500\n",
      "17/17 [==============================] - 0s 2ms/step - loss: 127.7024\n",
      "Epoch 323/500\n",
      "17/17 [==============================] - 0s 1ms/step - loss: 74.5693\n",
      "Epoch 324/500\n",
      "17/17 [==============================] - 0s 1ms/step - loss: 75.5039\n",
      "Epoch 325/500\n",
      "17/17 [==============================] - 0s 1ms/step - loss: 111.4447\n",
      "Epoch 326/500\n",
      "17/17 [==============================] - 0s 1ms/step - loss: 75.3322\n",
      "Epoch 327/500\n",
      "17/17 [==============================] - 0s 1ms/step - loss: 97.2999\n",
      "Epoch 328/500\n",
      "17/17 [==============================] - 0s 1ms/step - loss: 150.4986\n",
      "Epoch 329/500\n",
      "17/17 [==============================] - 0s 1ms/step - loss: 109.4937\n",
      "Epoch 330/500\n",
      "17/17 [==============================] - 0s 2ms/step - loss: 97.7279\n",
      "Epoch 331/500\n",
      "17/17 [==============================] - 0s 2ms/step - loss: 70.8322\n",
      "Epoch 332/500\n",
      "17/17 [==============================] - 0s 1ms/step - loss: 91.2828\n",
      "Epoch 333/500\n",
      "17/17 [==============================] - 0s 2ms/step - loss: 55.7817\n",
      "Epoch 334/500\n",
      "17/17 [==============================] - 0s 1ms/step - loss: 110.7062\n",
      "Epoch 335/500\n",
      "17/17 [==============================] - 0s 1ms/step - loss: 126.0441\n",
      "Epoch 336/500\n",
      "17/17 [==============================] - 0s 1ms/step - loss: 110.2860\n",
      "Epoch 337/500\n",
      "17/17 [==============================] - 0s 2ms/step - loss: 160.3900\n",
      "Epoch 338/500\n",
      "17/17 [==============================] - 0s 1ms/step - loss: 56.5006\n",
      "Epoch 339/500\n",
      "17/17 [==============================] - 0s 1ms/step - loss: 147.6136\n",
      "Epoch 340/500\n",
      "17/17 [==============================] - 0s 1ms/step - loss: 67.6500\n",
      "Epoch 341/500\n",
      "17/17 [==============================] - 0s 1ms/step - loss: 136.0814\n",
      "Epoch 342/500\n",
      "17/17 [==============================] - 0s 1ms/step - loss: 101.0490\n",
      "Epoch 343/500\n",
      "17/17 [==============================] - 0s 1ms/step - loss: 89.1181\n",
      "Epoch 344/500\n",
      "17/17 [==============================] - 0s 1ms/step - loss: 120.5371\n",
      "Epoch 345/500\n",
      "17/17 [==============================] - 0s 2ms/step - loss: 97.0945\n",
      "Epoch 346/500\n",
      "17/17 [==============================] - 0s 1ms/step - loss: 86.9398\n",
      "Epoch 347/500\n",
      "17/17 [==============================] - 0s 2ms/step - loss: 125.5222\n",
      "Epoch 348/500\n",
      "17/17 [==============================] - 0s 2ms/step - loss: 91.9595\n",
      "Epoch 349/500\n",
      "17/17 [==============================] - 0s 1ms/step - loss: 98.4679\n",
      "Epoch 350/500\n",
      "17/17 [==============================] - 0s 1ms/step - loss: 79.4613\n",
      "Epoch 351/500\n",
      "17/17 [==============================] - 0s 1ms/step - loss: 125.7860\n",
      "Epoch 352/500\n",
      "17/17 [==============================] - 0s 1ms/step - loss: 75.1277\n",
      "Epoch 353/500\n",
      "17/17 [==============================] - 0s 1ms/step - loss: 115.8600\n",
      "Epoch 354/500\n",
      "17/17 [==============================] - 0s 1ms/step - loss: 100.8060\n",
      "Epoch 355/500\n",
      "17/17 [==============================] - 0s 1ms/step - loss: 77.6485\n",
      "Epoch 356/500\n",
      "17/17 [==============================] - 0s 1ms/step - loss: 127.2956\n",
      "Epoch 357/500\n",
      "17/17 [==============================] - 0s 1ms/step - loss: 125.5167\n",
      "Epoch 358/500\n",
      "17/17 [==============================] - 0s 2ms/step - loss: 119.8325\n",
      "Epoch 359/500\n",
      "17/17 [==============================] - 0s 1ms/step - loss: 144.3349\n",
      "Epoch 360/500\n",
      "17/17 [==============================] - 0s 1ms/step - loss: 63.5475\n",
      "Epoch 361/500\n",
      "17/17 [==============================] - 0s 1ms/step - loss: 80.6461\n",
      "Epoch 362/500\n",
      "17/17 [==============================] - 0s 1ms/step - loss: 76.9492\n",
      "Epoch 363/500\n",
      "17/17 [==============================] - 0s 2ms/step - loss: 174.3989\n",
      "Epoch 364/500\n",
      "17/17 [==============================] - 0s 2ms/step - loss: 85.5382\n",
      "Epoch 365/500\n",
      "17/17 [==============================] - 0s 1ms/step - loss: 95.4363\n",
      "Epoch 366/500\n",
      "17/17 [==============================] - 0s 2ms/step - loss: 144.4721\n",
      "Epoch 367/500\n",
      "17/17 [==============================] - 0s 1ms/step - loss: 95.4191\n",
      "Epoch 368/500\n",
      "17/17 [==============================] - 0s 2ms/step - loss: 102.6991\n",
      "Epoch 369/500\n",
      "17/17 [==============================] - 0s 1ms/step - loss: 116.7413\n",
      "Epoch 370/500\n",
      "17/17 [==============================] - 0s 1ms/step - loss: 129.3001\n",
      "Epoch 371/500\n",
      "17/17 [==============================] - 0s 1ms/step - loss: 116.2161\n",
      "Epoch 372/500\n",
      "17/17 [==============================] - 0s 2ms/step - loss: 125.1012\n",
      "Epoch 373/500\n",
      "17/17 [==============================] - 0s 1ms/step - loss: 108.9178\n",
      "Epoch 374/500\n",
      "17/17 [==============================] - 0s 2ms/step - loss: 159.8787\n",
      "Epoch 375/500\n",
      "17/17 [==============================] - 0s 2ms/step - loss: 108.7135\n",
      "Epoch 376/500\n",
      "17/17 [==============================] - 0s 1ms/step - loss: 100.1736\n",
      "Epoch 377/500\n",
      "17/17 [==============================] - 0s 1ms/step - loss: 138.0520\n",
      "Epoch 378/500\n",
      "17/17 [==============================] - 0s 1ms/step - loss: 140.5923\n",
      "Epoch 379/500\n",
      "17/17 [==============================] - 0s 1ms/step - loss: 145.5618\n",
      "Epoch 380/500\n",
      "17/17 [==============================] - 0s 1ms/step - loss: 123.6921\n",
      "Epoch 381/500\n",
      "17/17 [==============================] - 0s 1ms/step - loss: 121.6483\n",
      "Epoch 382/500\n",
      "17/17 [==============================] - 0s 1ms/step - loss: 58.6105\n",
      "Epoch 383/500\n",
      "17/17 [==============================] - 0s 1ms/step - loss: 109.2024\n",
      "Epoch 384/500\n",
      "17/17 [==============================] - 0s 1ms/step - loss: 85.4072\n",
      "Epoch 385/500\n",
      "17/17 [==============================] - 0s 1ms/step - loss: 97.5071\n",
      "Epoch 386/500\n",
      "17/17 [==============================] - 0s 1ms/step - loss: 116.3325\n",
      "Epoch 387/500\n",
      "17/17 [==============================] - 0s 1ms/step - loss: 128.6352\n",
      "Epoch 388/500\n",
      "17/17 [==============================] - 0s 1ms/step - loss: 145.5573\n",
      "Epoch 389/500\n",
      "17/17 [==============================] - 0s 1ms/step - loss: 112.2423\n",
      "Epoch 390/500\n",
      "17/17 [==============================] - 0s 1ms/step - loss: 82.7004\n",
      "Epoch 391/500\n",
      "17/17 [==============================] - 0s 1ms/step - loss: 104.4901\n",
      "Epoch 392/500\n",
      "17/17 [==============================] - 0s 1ms/step - loss: 106.2875\n",
      "Epoch 393/500\n",
      "17/17 [==============================] - 0s 2ms/step - loss: 100.2968\n",
      "Epoch 394/500\n"
     ]
    },
    {
     "name": "stdout",
     "output_type": "stream",
     "text": [
      "17/17 [==============================] - 0s 1ms/step - loss: 96.3463\n",
      "Epoch 395/500\n",
      "17/17 [==============================] - 0s 2ms/step - loss: 156.8553\n",
      "Epoch 396/500\n",
      "17/17 [==============================] - 0s 1ms/step - loss: 123.4299\n",
      "Epoch 397/500\n",
      "17/17 [==============================] - 0s 1ms/step - loss: 88.1678\n",
      "Epoch 398/500\n",
      "17/17 [==============================] - 0s 2ms/step - loss: 54.0788\n",
      "Epoch 399/500\n",
      "17/17 [==============================] - 0s 1ms/step - loss: 95.5685\n",
      "Epoch 400/500\n",
      "17/17 [==============================] - 0s 1ms/step - loss: 103.7143\n",
      "Epoch 401/500\n",
      "17/17 [==============================] - 0s 1ms/step - loss: 97.9999\n",
      "Epoch 402/500\n",
      "17/17 [==============================] - 0s 2ms/step - loss: 79.4696\n",
      "Epoch 403/500\n",
      "17/17 [==============================] - 0s 1ms/step - loss: 179.9887\n",
      "Epoch 404/500\n",
      "17/17 [==============================] - 0s 2ms/step - loss: 134.8370\n",
      "Epoch 405/500\n",
      "17/17 [==============================] - 0s 2ms/step - loss: 134.0685\n",
      "Epoch 406/500\n",
      "17/17 [==============================] - 0s 1ms/step - loss: 114.5221\n",
      "Epoch 407/500\n",
      "17/17 [==============================] - 0s 1ms/step - loss: 104.1217\n",
      "Epoch 408/500\n",
      "17/17 [==============================] - 0s 2ms/step - loss: 100.2060\n",
      "Epoch 409/500\n",
      "17/17 [==============================] - 0s 2ms/step - loss: 98.5412\n",
      "Epoch 410/500\n",
      "17/17 [==============================] - 0s 2ms/step - loss: 87.6776\n",
      "Epoch 411/500\n",
      "17/17 [==============================] - 0s 1ms/step - loss: 92.2968\n",
      "Epoch 412/500\n",
      "17/17 [==============================] - 0s 1ms/step - loss: 82.0376\n",
      "Epoch 413/500\n",
      "17/17 [==============================] - 0s 1ms/step - loss: 92.9017\n",
      "Epoch 414/500\n",
      "17/17 [==============================] - 0s 1ms/step - loss: 106.3868\n",
      "Epoch 415/500\n",
      "17/17 [==============================] - 0s 1ms/step - loss: 121.6432\n",
      "Epoch 416/500\n",
      "17/17 [==============================] - 0s 2ms/step - loss: 113.3435\n",
      "Epoch 417/500\n",
      "17/17 [==============================] - 0s 1ms/step - loss: 102.0166\n",
      "Epoch 418/500\n",
      "17/17 [==============================] - 0s 1ms/step - loss: 86.2964\n",
      "Epoch 419/500\n",
      "17/17 [==============================] - 0s 1ms/step - loss: 128.9378\n",
      "Epoch 420/500\n",
      "17/17 [==============================] - 0s 2ms/step - loss: 84.3316\n",
      "Epoch 421/500\n",
      "17/17 [==============================] - 0s 1ms/step - loss: 81.9704\n",
      "Epoch 422/500\n",
      "17/17 [==============================] - 0s 1ms/step - loss: 101.3475\n",
      "Epoch 423/500\n",
      "17/17 [==============================] - 0s 1ms/step - loss: 156.2922\n",
      "Epoch 424/500\n",
      "17/17 [==============================] - 0s 1ms/step - loss: 115.5370\n",
      "Epoch 425/500\n",
      "17/17 [==============================] - 0s 2ms/step - loss: 111.2557\n",
      "Epoch 426/500\n",
      "17/17 [==============================] - 0s 2ms/step - loss: 110.4246\n",
      "Epoch 427/500\n",
      "17/17 [==============================] - 0s 1ms/step - loss: 90.6290\n",
      "Epoch 428/500\n",
      "17/17 [==============================] - 0s 1ms/step - loss: 107.8989\n",
      "Epoch 429/500\n",
      "17/17 [==============================] - 0s 1ms/step - loss: 122.9709\n",
      "Epoch 430/500\n",
      "17/17 [==============================] - 0s 2ms/step - loss: 170.3785\n",
      "Epoch 431/500\n",
      "17/17 [==============================] - 0s 2ms/step - loss: 113.2849\n",
      "Epoch 432/500\n",
      "17/17 [==============================] - 0s 1ms/step - loss: 103.0027\n",
      "Epoch 433/500\n",
      "17/17 [==============================] - 0s 1ms/step - loss: 87.6653\n",
      "Epoch 434/500\n",
      "17/17 [==============================] - 0s 1ms/step - loss: 124.2391\n",
      "Epoch 435/500\n",
      "17/17 [==============================] - 0s 1ms/step - loss: 164.3224\n",
      "Epoch 436/500\n",
      "17/17 [==============================] - 0s 1ms/step - loss: 141.4861\n",
      "Epoch 437/500\n",
      "17/17 [==============================] - 0s 1ms/step - loss: 170.6894\n",
      "Epoch 438/500\n",
      "17/17 [==============================] - 0s 1ms/step - loss: 94.8223\n",
      "Epoch 439/500\n",
      "17/17 [==============================] - 0s 1ms/step - loss: 95.5346\n",
      "Epoch 440/500\n",
      "17/17 [==============================] - 0s 1ms/step - loss: 106.1541\n",
      "Epoch 441/500\n",
      "17/17 [==============================] - 0s 1ms/step - loss: 93.2981\n",
      "Epoch 442/500\n",
      "17/17 [==============================] - 0s 1ms/step - loss: 139.4909\n",
      "Epoch 443/500\n",
      "17/17 [==============================] - 0s 1ms/step - loss: 57.2781\n",
      "Epoch 444/500\n",
      "17/17 [==============================] - 0s 1ms/step - loss: 67.6328\n",
      "Epoch 445/500\n",
      "17/17 [==============================] - 0s 1ms/step - loss: 104.7525\n",
      "Epoch 446/500\n",
      "17/17 [==============================] - 0s 1ms/step - loss: 125.4569\n",
      "Epoch 447/500\n",
      "17/17 [==============================] - 0s 1ms/step - loss: 144.9849\n",
      "Epoch 448/500\n",
      "17/17 [==============================] - 0s 1ms/step - loss: 104.1301\n",
      "Epoch 449/500\n",
      "17/17 [==============================] - 0s 1ms/step - loss: 145.9704\n",
      "Epoch 450/500\n",
      "17/17 [==============================] - 0s 1ms/step - loss: 88.4049\n",
      "Epoch 451/500\n",
      "17/17 [==============================] - 0s 1ms/step - loss: 109.9858\n",
      "Epoch 452/500\n",
      "17/17 [==============================] - 0s 1ms/step - loss: 96.0967\n",
      "Epoch 453/500\n",
      "17/17 [==============================] - 0s 1ms/step - loss: 120.9674\n",
      "Epoch 454/500\n",
      "17/17 [==============================] - 0s 1ms/step - loss: 151.4605\n",
      "Epoch 455/500\n",
      "17/17 [==============================] - 0s 1ms/step - loss: 134.9601\n",
      "Epoch 456/500\n",
      "17/17 [==============================] - 0s 1ms/step - loss: 83.3919\n",
      "Epoch 457/500\n",
      "17/17 [==============================] - 0s 2ms/step - loss: 95.7351\n",
      "Epoch 458/500\n",
      "17/17 [==============================] - 0s 2ms/step - loss: 79.0187\n",
      "Epoch 459/500\n",
      "17/17 [==============================] - 0s 1ms/step - loss: 121.9350\n",
      "Epoch 460/500\n",
      "17/17 [==============================] - 0s 1ms/step - loss: 113.0300\n",
      "Epoch 461/500\n",
      "17/17 [==============================] - 0s 1ms/step - loss: 139.2801\n",
      "Epoch 462/500\n",
      "17/17 [==============================] - 0s 1ms/step - loss: 98.5451\n",
      "Epoch 463/500\n",
      "17/17 [==============================] - 0s 1ms/step - loss: 131.6740\n",
      "Epoch 464/500\n",
      "17/17 [==============================] - 0s 1ms/step - loss: 86.4273\n",
      "Epoch 465/500\n",
      "17/17 [==============================] - 0s 1ms/step - loss: 83.7349\n",
      "Epoch 466/500\n",
      "17/17 [==============================] - 0s 1ms/step - loss: 177.2967\n",
      "Epoch 467/500\n",
      "17/17 [==============================] - 0s 1ms/step - loss: 123.1781\n",
      "Epoch 468/500\n",
      "17/17 [==============================] - 0s 2ms/step - loss: 116.0615\n",
      "Epoch 469/500\n",
      "17/17 [==============================] - 0s 2ms/step - loss: 114.2571\n",
      "Epoch 470/500\n",
      "17/17 [==============================] - 0s 1ms/step - loss: 98.3058\n",
      "Epoch 471/500\n",
      "17/17 [==============================] - 0s 2ms/step - loss: 105.0979\n",
      "Epoch 472/500\n",
      "17/17 [==============================] - 0s 1ms/step - loss: 162.8316\n",
      "Epoch 473/500\n",
      "17/17 [==============================] - 0s 2ms/step - loss: 134.2486\n",
      "Epoch 474/500\n",
      "17/17 [==============================] - 0s 1ms/step - loss: 91.1622\n",
      "Epoch 475/500\n",
      "17/17 [==============================] - 0s 1ms/step - loss: 120.5382\n",
      "Epoch 476/500\n",
      "17/17 [==============================] - 0s 2ms/step - loss: 144.1657\n",
      "Epoch 477/500\n",
      "17/17 [==============================] - 0s 1ms/step - loss: 82.2225\n",
      "Epoch 478/500\n",
      "17/17 [==============================] - 0s 2ms/step - loss: 73.6637\n",
      "Epoch 479/500\n",
      "17/17 [==============================] - 0s 1ms/step - loss: 71.0944\n",
      "Epoch 480/500\n",
      "17/17 [==============================] - 0s 1ms/step - loss: 78.3792\n",
      "Epoch 481/500\n",
      "17/17 [==============================] - 0s 1ms/step - loss: 168.9394\n",
      "Epoch 482/500\n",
      "17/17 [==============================] - 0s 1ms/step - loss: 136.2406\n",
      "Epoch 483/500\n",
      "17/17 [==============================] - 0s 1ms/step - loss: 70.0073\n",
      "Epoch 484/500\n",
      "17/17 [==============================] - 0s 1ms/step - loss: 66.3710\n",
      "Epoch 485/500\n",
      "17/17 [==============================] - 0s 1ms/step - loss: 109.3343\n",
      "Epoch 486/500\n",
      "17/17 [==============================] - 0s 1ms/step - loss: 98.2156\n",
      "Epoch 487/500\n",
      "17/17 [==============================] - 0s 1ms/step - loss: 44.4794\n",
      "Epoch 488/500\n",
      "17/17 [==============================] - 0s 1ms/step - loss: 88.7615\n",
      "Epoch 489/500\n",
      "17/17 [==============================] - 0s 2ms/step - loss: 60.8106\n",
      "Epoch 490/500\n",
      "17/17 [==============================] - 0s 1ms/step - loss: 141.1147\n",
      "Epoch 491/500\n",
      "17/17 [==============================] - 0s 1ms/step - loss: 79.6432\n",
      "Epoch 492/500\n",
      "17/17 [==============================] - 0s 2ms/step - loss: 141.1940\n",
      "Epoch 493/500\n",
      "17/17 [==============================] - 0s 2ms/step - loss: 217.6991\n",
      "Epoch 494/500\n",
      "17/17 [==============================] - 0s 2ms/step - loss: 116.3348\n",
      "Epoch 495/500\n",
      "17/17 [==============================] - 0s 1ms/step - loss: 156.5936\n",
      "Epoch 496/500\n",
      "17/17 [==============================] - 0s 1ms/step - loss: 140.2540\n",
      "Epoch 497/500\n",
      "17/17 [==============================] - 0s 1ms/step - loss: 104.2166\n",
      "Epoch 498/500\n",
      "17/17 [==============================] - 0s 1ms/step - loss: 73.2574\n",
      "Epoch 499/500\n",
      "17/17 [==============================] - 0s 1ms/step - loss: 115.1370\n",
      "Epoch 500/500\n",
      "17/17 [==============================] - 0s 2ms/step - loss: 129.8487\n"
     ]
    },
    {
     "data": {
      "text/plain": [
       "<tensorflow.python.keras.callbacks.History at 0x7fa896cd96d0>"
      ]
     },
     "execution_count": 202,
     "metadata": {},
     "output_type": "execute_result"
    }
   ],
   "source": [
    "# fit the model\n",
    "model.fit(X_train, y_train, epochs=500, batch_size=20) #verbose=0"
   ]
  },
  {
   "cell_type": "markdown",
   "metadata": {},
   "source": [
    "### Evaluate the model:"
   ]
  },
  {
   "cell_type": "code",
   "execution_count": 184,
   "metadata": {},
   "outputs": [
    {
     "name": "stdout",
     "output_type": "stream",
     "text": [
      "MSE: 24.730, RMSE: 4.973\n"
     ]
    }
   ],
   "source": [
    "# evaluate the model\n",
    "error = model.evaluate(X_test, y_test, verbose=0)\n",
    "print('MSE: %.3f, RMSE: %.3f' % (error, sqrt(error)))"
   ]
  },
  {
   "cell_type": "markdown",
   "metadata": {},
   "source": [
    "This is the initial plot I did before comparing the actual data set to the predicted values using the model. When I did this first I didn't split the data."
   ]
  },
  {
   "cell_type": "raw",
   "metadata": {
    "scrolled": true
   },
   "source": [
    "# see how well the model does\n",
    "plt.plot(df['speed'], df['power'], 'k.',label='actual')\n",
    "plt.plot(df['speed'], model.predict(df['speed']), 'r.',label='prediction')\n",
    "plt.legend();"
   ]
  },
  {
   "cell_type": "markdown",
   "metadata": {},
   "source": [
    "## dfx here!\n",
    "dfx has all the zeros dropped. \n",
    "dfz has some of the zero values dropped"
   ]
  },
  {
   "cell_type": "code",
   "execution_count": 203,
   "metadata": {},
   "outputs": [
    {
     "data": {
      "text/plain": [
       "[<matplotlib.lines.Line2D at 0x7fa89749f040>]"
      ]
     },
     "execution_count": 203,
     "metadata": {},
     "output_type": "execute_result"
    },
    {
     "data": {
      "image/png": "[encoded data removed]",
      "text/plain": [
       "<Figure size 432x288 with 1 Axes>"
      ]
     },
     "metadata": {
      "needs_background": "light"
     },
     "output_type": "display_data"
    }
   ],
   "source": [
    "# plot actual data \n",
    "#plt.plot(df['speed'], df['power'], 'k.',label='actual')\n",
    "#plt.plot(dfx['speed'], dfx['power'], 'k.',label='actual')\n",
    "plt.plot(dfz['speed'], dfz['power'], 'k.',label='actual')\n",
    "# plot predicted values for the test set\n",
    "plt.plot(X_test, y_test, 'r.', label='predicted on test set')"
   ]
  },
  {
   "cell_type": "raw",
   "metadata": {},
   "source": [
    "row = [5,10,15,20]\n",
    "yhat = model.predict([row])\n",
    "print('Predicted: %.3f' % yhat)"
   ]
  },
  {
   "cell_type": "code",
   "execution_count": null,
   "metadata": {},
   "outputs": [],
   "source": []
  },
  {
   "cell_type": "markdown",
   "metadata": {},
   "source": [
    "### Saving and loading the model\n",
    "Instead of having to retrain the model each time,  it can be saved to a file using the `save()` function on the model and loaded later to make predictions using the `load_model()` function. The model is saved in H5 format, an efficient array storage format.\n",
    "For this I need  the `h5py` library. "
   ]
  },
  {
   "cell_type": "code",
   "execution_count": 96,
   "metadata": {},
   "outputs": [
    {
     "name": "stdout",
     "output_type": "stream",
     "text": [
      "Requirement already satisfied: h5py in /Users/angelacorkery/opt/anaconda3/lib/python3.8/site-packages (2.10.0)\n",
      "Requirement already satisfied: numpy>=1.7 in /Users/angelacorkery/opt/anaconda3/lib/python3.8/site-packages (from h5py) (1.18.5)\n",
      "Requirement already satisfied: six in /Users/angelacorkery/opt/anaconda3/lib/python3.8/site-packages (from h5py) (1.15.0)\n",
      "Note: you may need to restart the kernel to use updated packages.\n"
     ]
    }
   ],
   "source": [
    "pip install h5py"
   ]
  },
  {
   "cell_type": "code",
   "execution_count": 204,
   "metadata": {},
   "outputs": [],
   "source": [
    "model.save('model.h5')"
   ]
  },
  {
   "cell_type": "code",
   "execution_count": 205,
   "metadata": {},
   "outputs": [],
   "source": [
    "model = kr.models.load_model('model.h5')"
   ]
  },
  {
   "cell_type": "code",
   "execution_count": 208,
   "metadata": {},
   "outputs": [
    {
     "name": "stdout",
     "output_type": "stream",
     "text": [
      "Predicted: 95.972\n"
     ]
    }
   ],
   "source": [
    "speed = [20.647]\n",
    "yhat= model.predict(speed)\n",
    "print('Predicted: %.3f' % yhat[0])"
   ]
  },
  {
   "cell_type": "code",
   "execution_count": 209,
   "metadata": {},
   "outputs": [
    {
     "name": "stdout",
     "output_type": "stream",
     "text": [
      "Predicted: 96.079\n"
     ]
    }
   ],
   "source": [
    "speed = [22]\n",
    "yhat= model.predict(speed)\n",
    "print('Predicted: %.3f' % yhat[0])"
   ]
  },
  {
   "cell_type": "code",
   "execution_count": 210,
   "metadata": {},
   "outputs": [
    {
     "name": "stdout",
     "output_type": "stream",
     "text": [
      "Predicted: 1.023\n"
     ]
    }
   ],
   "source": [
    "speed = [5]\n",
    "yhat= model.predict(speed)\n",
    "print('Predicted: %.3f' % yhat[0])"
   ]
  },
  {
   "cell_type": "markdown",
   "metadata": {},
   "source": [
    "## Here! look at scaling\n",
    "\n",
    "- whether to keep all zeros in or out\n",
    "- scaling the input and output values\n",
    "\n",
    "\n",
    "I have followed both the machine learning mastery tutorial and Ian's class and applied to the data.\n",
    "I did split the data set this time, some zero values have been taken out. I think I need to eliminate some more but I'll come back to this. The curve looks pretty good. \n",
    "\n",
    "I did not scale or preprocess the data this time although I did the first time. Another machine learning mastery tutorial on this to read up on first! I think I need to scale both the input and output target values. but I will come back to this another time.\n",
    "\n",
    "\n",
    "https://machinelearningmastery.com/how-to-improve-neural-network-stability-and-modeling-performance-with-data-scaling/\n",
    "\n",
    "\n",
    "\n",
    "The [Introduction to Keras for Engineers](https://keras.io/getting_started/intro_to_keras_for_engineers/) does suggest that data preprocessing should be done such as feature normalisation.\n",
    "\n",
    "The data needs to be either NumPy arrays or tf.data.Dataset objects.  The dataset for this project is in csv format. I have already read it into a pandas dataframe but it can be easily converted into a numpy array. I already converted it above.\n",
    "\n",
    "x = np.array(df.speed)\n",
    "y = np.array(df.power)\n",
    "\n",
    "- Do preprocessing such as feature normalisation.\n",
    "The data consists of two columns of data and thats it. The only preprocesing that is applicable here is to rescale the data to small values as in general the input values to a neural network should be close to zero. According to the tutorial  the data should either be rescaled to have zero-mean and unit-variance or the data in the `[0.1]` range. The preprocessing should ideally be done as part of the model to make it more portable in production. In Keras the preprocessing is done via preprocessing layers which can be included directly into your model either during training or after training. Some preprocessing layers have a state, in this case normalization holds the mean and variance of the features and can be obtained by calling `layer.adapt(data)` on a sample or all of the training data.\n",
    "\n",
    "\n",
    "\n",
    "CSV data needs to be parsed, with numerical features converted to floating point tensors and categorical features indexed and converted to integer tensors. Then each feature typically needs to be normalized to zero-mean and unit-variance."
   ]
  },
  {
   "cell_type": "code",
   "execution_count": null,
   "metadata": {},
   "outputs": [],
   "source": [
    "X, y = dfz.values[:, :-1], dfz.values[:, -1]"
   ]
  },
  {
   "cell_type": "raw",
   "metadata": {},
   "source": [
    "X =  np.vstack([x, y]).T\n",
    "X.size \n",
    "# 1000\n",
    "X.shape\n",
    "# (500, 2)"
   ]
  },
  {
   "cell_type": "raw",
   "metadata": {},
   "source": [
    "mean = np.mean(X)\n",
    "X -= mean\n",
    "print(mean)\n",
    "std = np.std(X, axis=0)\n",
    "X /= std\n"
   ]
  },
  {
   "cell_type": "code",
   "execution_count": 212,
   "metadata": {},
   "outputs": [
    {
     "name": "stdout",
     "output_type": "stream",
     "text": [
      "var: 1.0000\n",
      "mean: -0.0000\n"
     ]
    }
   ],
   "source": [
    "from tensorflow.keras.layers.experimental.preprocessing import Normalization\n",
    "\n",
    "# Example image data, with values in the [0, 255] range\n",
    "training_data = X\n",
    "\n",
    "normalizer = Normalization(axis=1)\n",
    "normalizer.adapt(X)\n",
    "\n",
    "\n",
    "normalized_data = normalizer(training_data)\n",
    "print(\"var: %.4f\" % np.var(normalized_data))\n",
    "print(\"mean: %.4f\" % np.mean(normalized_data))"
   ]
  },
  {
   "cell_type": "raw",
   "metadata": {},
   "source": [
    "normalized_data"
   ]
  },
  {
   "cell_type": "raw",
   "metadata": {},
   "source": []
  },
  {
   "cell_type": "code",
   "execution_count": 179,
   "metadata": {},
   "outputs": [],
   "source": [
    "# Plot style.\n",
    "plt.style.use(\"ggplot\")\n",
    "\n",
    "# Plot size.\n",
    "plt.rcParams['figure.figsize'] = [14, 8]"
   ]
  },
  {
   "cell_type": "markdown",
   "metadata": {},
   "source": [
    "\n",
    "The data is already numerical so no encoding is required.\n",
    "The training set will be the speed and power values from the dataset.\n",
    "I initially followed the lectures and used just one neuron but this did not do so well.\n",
    "\n",
    "For now I am following the notebooks provided by Ian and a few tutorials on Machine Learning Mastery.\n",
    "https://machinelearningmastery.com/tutorial-first-neural-network-python-keras/ demonstrates a fully connected network structure with three layers.\n",
    "\n",
    "Create a Sequential Model and  add layers one at a time until happy with the network architecture. A sequential neural network is built up in sequential layers.\n",
    "\n",
    "The first thing is to ensure the input layer has the right number of input features. You provide the input layer to the model\n",
    "The dataset here has only a single input feature which is wind speed. How to determine the correct number of layers to use? According to the tutorial its a matter of trial and error really. Generally you need a network large enough to capture the structure of the problem.\n",
    "\n",
    "Fully connected layers are defined using the `Dense` class.  Dense refers to the layer being densely connected to the previous layer. Every node in the previous layer is connected to everything in the current layer.\n",
    "\n",
    "\n",
    "The number of neurons or nodes in the layer as the first argument and specify the activation function using the `activation` argument. The demo uses the `rectified linear unit` activation function referred to as ReLU on the first two layers and the Sigmoid function in the output layer. As far as I recall Ian recommended using just the Sigmoid activation function. According to the tutorial, Sigmoid and Tanh activation functions were the preferred choice  for all layers before but that these days better performance is achieved using the ReLU activation function. I can try one or the other.  A `Sigmoid` layer is used on the outer layer to ensure the network output is between 0 and 1. (This problem though is not looking to classify the data into one of two classes.).\n",
    "The input shape is 1 as there is only 1 input variable. (input_dim=1 or input_shape=(1,))\n",
    "The shape of the input to the model is defined as an argument on the first hidden layer. The first line of code that adds the first Dense layer does 2 things, defines the input or visible layer and the first hidden layer.\n",
    "\n",
    "\n",
    "\n",
    "\n",
    "\n",
    "#### compile\n",
    "Once the model is defined, it can be compiled or built. We specify the learning rate and the loss function which we want to minimise.\n",
    "\n",
    "When compiling, some additional properties are required when training the network. Training a network means finding the best set of weights to map inputs to outputs in our dataset. The loss function must be specified\n",
    ">We must specify the loss function to use to evaluate a set of weights, the optimizer is used to search through different weights for the network and any optional metrics we would like to collect and report during training.\n",
    "\n",
    "The tutorial uses cross entrophy as the loss argument as it is looking at a binary classification problem. We are to stick with mean squared error I think.\n",
    ">The optimizer is defined below as the efficient stochastic gradient descent algorithm “adam“. This is a popular version of gradient descent because it automatically tunes itself and gives good results in a wide range of problems."
   ]
  },
  {
   "cell_type": "raw",
   "metadata": {},
   "source": [
    "# Create a neural network with 50 neurons.\n",
    "model = kr.models.Sequential()\n",
    "# the first layer with one input, kernel_initializer='ones' \n",
    "model.add(kr.layers.Dense(1, input_shape=(1,), activation=\"linear\", kernel_initializer='glorot_uniform', bias_initializer='zeros'))\n",
    "\n",
    "model.add(kr.layers.Dense(50, activation='sigmoid'))\n",
    "model.add(kr.layers.Dense(1, activation=\"linear\",  kernel_initializer='glorot_uniform'))"
   ]
  },
  {
   "cell_type": "code",
   "execution_count": 191,
   "metadata": {},
   "outputs": [],
   "source": [
    "\n",
    "# Train a different model\n",
    "model = kr.models.Sequential()\n",
    "model.add(kr.layers.Dense(50, input_shape=(1,), activation='sigmoid', kernel_initializer=\"glorot_uniform\", bias_initializer=\"glorot_uniform\"))\n",
    "model.add(kr.layers.Dense(1, activation='linear', kernel_initializer=\"glorot_uniform\", bias_initializer=\"glorot_uniform\"))\n",
    "model.compile(kr.optimizers.Adam(lr=0.001), loss='mean_squared_error')"
   ]
  },
  {
   "cell_type": "markdown",
   "metadata": {},
   "source": [
    "\n"
   ]
  },
  {
   "cell_type": "code",
   "execution_count": 184,
   "metadata": {},
   "outputs": [
    {
     "name": "stdout",
     "output_type": "stream",
     "text": [
      "Model: \"sequential_4\"\n",
      "_________________________________________________________________\n",
      "Layer (type)                 Output Shape              Param #   \n",
      "=================================================================\n",
      "dense_11 (Dense)             (None, 1)                 2         \n",
      "_________________________________________________________________\n",
      "dense_12 (Dense)             (None, 50)                100       \n",
      "_________________________________________________________________\n",
      "dense_13 (Dense)             (None, 1)                 51        \n",
      "=================================================================\n",
      "Total params: 153\n",
      "Trainable params: 153\n",
      "Non-trainable params: 0\n",
      "_________________________________________________________________\n"
     ]
    }
   ],
   "source": [
    "model.compile('adam', loss='mean_squared_error')\n",
    "model.summary()"
   ]
  },
  {
   "cell_type": "markdown",
   "metadata": {},
   "source": [
    "The model shows 153 total parameters. This is made up of the single input in the input layer, 50 neurons plus 50 bias terms in the hidden layer.\n"
   ]
  },
  {
   "cell_type": "markdown",
   "metadata": {},
   "source": []
  },
  {
   "cell_type": "code",
   "execution_count": 192,
   "metadata": {},
   "outputs": [],
   "source": [
    "# This is the unprocessed or unscaled data\n",
    "x = df['speed']\n",
    "y = df['power']"
   ]
  },
  {
   "cell_type": "raw",
   "metadata": {},
   "source": [
    "model.fit(x,y, epochs=500)"
   ]
  },
  {
   "cell_type": "raw",
   "metadata": {},
   "source": [
    "X[:,1]"
   ]
  },
  {
   "cell_type": "raw",
   "metadata": {},
   "source": [
    "# Train the neural network on our training data.\n",
    "#model.fit(df['x'], df['y'], epochs=500)\n",
    "model.fit(X[:,0],X[:,1], epochs=500, batch_size=10)"
   ]
  },
  {
   "cell_type": "markdown",
   "metadata": {},
   "source": [
    "Train a new model using the sigmoid function as the activation function.\n",
    "Using the sigmoid function instead of the linear function which is clearly not a good fit.\n"
   ]
  },
  {
   "cell_type": "markdown",
   "metadata": {},
   "source": [
    "Now training a different model. This one has a hidden layer with 60 neurons. A different kernel initialiser is used. the batch size is how many x's are sent it at any one time. Instead of sending one x in and adjusting the weights and the biases, send it 10 at a time. This sometimes has a smoothing effect. It still sends each x in 500 times (for 500 epochs) but 10 at a time instead of 1 at a time.\n"
   ]
  },
  {
   "cell_type": "raw",
   "metadata": {},
   "source": [
    "# Train a different model.\n",
    "model = kr.models.Sequential()\n",
    "model.add(kr.layers.Dense(60, input_shape=(1,), activation='sigmoid', kernel_initializer=\"glorot_uniform\", bias_initializer=\"glorot_uniform\"))\n",
    "model.add(kr.layers.Dense(1, activation='linear', kernel_initializer=\"glorot_uniform\", bias_initializer=\"glorot_uniform\"))\n",
    "model.compile(kr.optimizers.Adam(lr=0.001), loss='mean_squared_error', metrics=['accuracy'])"
   ]
  },
  {
   "cell_type": "raw",
   "metadata": {},
   "source": [
    "# Fit the data.\n",
    "model.fit(df['speed'], df['power'], epochs=500, batch_size=10)"
   ]
  },
  {
   "cell_type": "code",
   "execution_count": 200,
   "metadata": {},
   "outputs": [
    {
     "name": "stdout",
     "output_type": "stream",
     "text": [
      "16/16 [==============================] - 0s 1ms/step - loss: 75.1917 - accuracy: 0.0000e+00\n"
     ]
    }
   ],
   "source": [
    "accuracy = model.evaluate(x, y)"
   ]
  },
  {
   "cell_type": "markdown",
   "metadata": {},
   "source": [
    "The zero values for power at high levels of speed does seem to be pulling the curve down so maybe I need to take them out. The rest of the data seems to be quite well modelled.\n",
    "I need to read more into this. Overall it is still impressive that with only a single numerical input for speed you can still get such a close match to what the power values look like.\n",
    "\n",
    "The loss is still quite high and did not come down much despite playing around with the parameters.\n",
    "The ideal loss is is zero and the ideal accuracy is 1.0 or 100%.\n",
    ">The goal is to choose a model configuration and training configuration that achieve the lowest loss and highest accuracy possible for a given dataset\n",
    "- https://machinelearningmastery.com/tutorial-first-neural-network-python-keras/\n",
    "\n",
    "I need to split the data also into a training and test set.\n",
    "See https://scikit-learn.org/stable/modules/cross_validation.html\n",
    "`from sklearn.model_selection import train_test_split` \n",
    "`X_train, X_test, y_train, y_test = train_test_split(\n",
    "...     X, y, test_size=0.4, random_state=0)`"
   ]
  },
  {
   "cell_type": "markdown",
   "metadata": {},
   "source": [
    "https://medium.com/the-theory-of-everything/understanding-activation-functions-in-neural-networks-9491262884e0\n",
    "Here I am reading through the article referenced, making notes and some paraphrasing. I will reference properly later.\n",
    "\n",
    "An artificial neuron calculates a weighted sum of its input, adds a bias and then decides whether it should be fired or not. $ Y = \\sum{(\\text{weight} * \\text{input})} + \\text{bias}$\n",
    "The value of Y can be anything from -infinity to + infinity. The neuron does not really know the bounds of the value. So how do we decide whether the neuron should fire or not? This is where the activation functions come in. The activation function will check the Y value produced by the neuron and decide whether outside connections should consider this neuron as activated (fired) or not.\n",
    "\n",
    "Consider a threshold based activation function. If the value of Y is above a certain value then it could declare it as activated, otherwise not. In this case the output is 1 (activated) when the value is greater than than the threshold and 0 otherwise. This is a step function. There are drawbacks to using this method as an activation function for neural networks though when the response is not a binary yes or no.\n",
    "\n",
    "A linear activation function A = cx is a straight line function where activation is proportional to input ( which is the weighted sum from neuron ). In this way it will give a range of activations rather than just binary activations. We can connect some neurons and if more than one fire then we could take the max and decide based on that.\n",
    "\n",
    "The derivative w.r.x is c which means that the gradient has no relationship with X. The descent is going to be on a constant gradient. If there is an error in prediction the changes made by back propagation is constant and not depending on the change in input delta(x).\n",
    "Another problem concerns the connected layers where each layer is activated by a linear function. \n",
    "That activation in turn goes into the next level as input and the second layer calculates weighted sum on that input and it in turn, fires based on another linear activation function.\n",
    "No matter how many layers we have, if all are linear in nature, the final activation function of last layer is nothing but just a linear function of the input of first layer. Therefore two or more layers can be replaced by a single layer. The whole network then is equivalent to  a single layer with linear activation.\n",
    "\n",
    "Thw sigmoid function is smooth and looks somewhat like a step function. It is nonlinear in nature and therefore combinations of layers are also non-linear which means that layers can be stacked. It will also give non binary activations unlike the step function. It has a smooth gradient.\n",
    "\n",
    "Between X values -2 to 2, the Y values are very steep.This means that any small changes in the values of X in that region will cause values of Y to change significantly.This means this function has a tendency to bring the Y values to either end of the curve.\n",
    "It tends to bring the activations to either side of the curve making clear distinctions on prediction. Another advantage over linear function is that the output of the activation function is always going to be in range (0,1) compared to (-inf, inf) of linear function and therefore the activations are bound in a range. \n",
    "Sigmoid functions are one of the most widely used activation functions today. The problems with them is that towards either end of the sigmoid function, the Y values tend to respond very less to changes in X. This means that the gradient at that region is going to be small. It gives rise to a problem of “vanishing gradients”. When the activations reach near the “near-horizontal” part of the curve on either sides, the gradient is small or has vanished ( cannot make significant change because of the extremely small value ). The network refuses to learn further or is drastically slow ( depending on use case and until gradient /computation gets hit by floating point value limits ). There are ways to work around this problem and sigmoid is still very popular in classification problems.\n",
    "The article also looked at the Tanh activation functions which is a scaled sigmoid function and the ReLu function which gives an output x if x is positive and 0 otherwise. These are both non-linear functions.\n",
    "\n",
    "The article finishes by suggesting how to choose the correct activation function. \n",
    "When you know the function you are trying to approximate has certain characteristics, you can choose an activation function which will approximate the function faster leading to faster training process. For example, a sigmoid works well for a classifier "
   ]
  },
  {
   "cell_type": "markdown",
   "metadata": {},
   "source": [
    "https://www.computing.dcu.ie/~humphrys/Notes/Neural/sigmoid.html\n",
    "https://machinelearningmastery.com/tutorial-first-neural-network-python-keras/"
   ]
  },
  {
   "cell_type": "markdown",
   "metadata": {},
   "source": [
    "### End"
   ]
  },
  {
   "cell_type": "code",
   "execution_count": null,
   "metadata": {},
   "outputs": [],
   "source": []
  },
  {
   "cell_type": "code",
   "execution_count": null,
   "metadata": {},
   "outputs": [],
   "source": []
  }
 ],
 "metadata": {
  "kernelspec": {
   "display_name": "Python 3",
   "language": "python",
   "name": "python3"
  },
  "language_info": {
   "codemirror_mode": {
    "name": "ipython",
    "version": 3
   },
   "file_extension": ".py",
   "mimetype": "text/x-python",
   "name": "python",
   "nbconvert_exporter": "python",
   "pygments_lexer": "ipython3",
   "version": "3.8.2"
  }
 },
 "nbformat": 4,
 "nbformat_minor": 4
}
