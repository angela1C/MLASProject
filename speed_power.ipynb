{
 "cells": [
  {
   "cell_type": "markdown",
   "metadata": {},
   "source": [
    "# Machine Learning and Statistics Project 2020\n",
    "by Angela Carpenter\n",
    "- [power production dataset](https://raw.githubusercontent.com/ianmcloughlin/2020A-machstat-project/master/dataset/powerproduction.csv) from Ian McLoughlin Github"
   ]
  },
  {
   "cell_type": "markdown",
   "metadata": {},
   "source": [
    "# Table of Contents\n",
    "- Project Instructions / Overview\n",
    "- Project plan\n",
    "- About this Notebook\n",
    "- Python Libraries\n",
    "- Downloading and running the code\n",
    "- Loading / Reading in the dataset\n",
    "- Exploring the dataset\n",
    "- Describing the dataset\n",
    "- Summary Statistics\n",
    "- Visualising the dataset using plots\n",
    "- Summary and Conclusions\n",
    "- References\n",
    "\n",
    "\n",
    "## Project Instructions\n",
    "\n",
    "In this project you must create a web service that uses machine learning to make pre- dictions based on the data set powerproduction available on Moodle. The goal is to produce a model that accurately predicts wind turbine power output from wind speed values, as in the data set. You must then develop a web service that will respond with predicted power values based on speed values sent as HTTP requests. Your submission must be in the form of a git repository containing, at a minimum, the following items.\n",
    "1. Jupyter notebook that trains a model using the data set. In the notebook you should explain your model and give an analysis of its accuracy.\n",
    "2. Python script that runs a web service based on the model, as above.\n",
    "3. Dockerfile to build and run the web service in a container.\n",
    "4. Standard items in a git repository such as a README.\n",
    "To enhance your submission, you might consider developing and comparing more than one model. Rest assured, all the above concepts will be explored in lecture videos and other materials in the coming semester.\n",
    "\n",
    "### notes to self\n",
    "\n",
    "The goal of this project is to produce a model that accurately predicts wind turbine power output from wind speed values, as in the data set. The first time I looked at this I was wondering if the data values represented measurements over a particular period of time and if the lower values of power might be related to the time taken for the turbines to get up and running before they could generate any power or if some of the zero power values were related to periodic maintenance when the turbines might get switched off. There does seem to be some linear relationship between the two variables for the middle portion of the dataset and the power generated does seem to level off after a particular point but overall the relationship is strong but non-linear.\n",
    "\n",
    "However looking at the raw data in the csv file, the rows are ordered by ascending values of speed column with the corresponding power values in the other column. There is no indication as to how the data values were collected and therefore I don't think I can make any judgements about the data over a particular timeframe. There are only two columns of numerical data provided with no indication provided as to their measurement units.  I will just focus on trying to use some algorithms to predict the power values based on the input values of speed.  \n",
    "\n",
    "- whether to keep all zeros in or out\n",
    "- scaling the input and output values\n",
    "- I trained a neural network with and without the zeros, definitely the learning curve looks much better when the zeros are dropped. I first only dropped the zero values for the very high speed values as the turbines would be switched off in dangerous winds. I then tried dropping all, then some!\n",
    "- I also need to look at the web app side of it so I won't get carried away on training the model until I have this up and running even if the model is not perfect. It seems to be a case of playing around with the parameters and it is surprising how well the NN models the data given only single numerical values fed into it.\n",
    "- dfx is a copy of df with some zeros dropped (speed values over 24.4)\n",
    "- dfz is a copy of df with all zeros dropped, or maybe it was zeros where power was over a certain value. Anyway its near the end of the notebook.\n",
    "- I will probably lose all the numpy polyfit regression models and maybe leave in the higher order polynomial using scikit learn.\n",
    "- I might look again at scikit learn to see if there are any other models to try. if I have time that it...\n",
    "- I do have docker installed.\n",
    "- I am following some machine learning mastery tutorials which are really informative. Also the keras for engineers.\n",
    "- cleaned up some unnecesary statistics below and consolidated the exploratory plots.\n",
    "- Need to tidy up the section on a brief background of wind turbines, just to see how it relates to the s-curve and not going into the physics of how wind turbines actually work. \n",
    "- I did the seabron regression plots on the full dataset so I might just try it quickly on the cleaned dataset without all the zero values.\n",
    "- Need to decide on final parameters for the keras neural network and save a model to use with a flask app.\n",
    "- Need to set up the flask app and virtual envirnoment. First clean up this notebook some more.\n",
    "- the h5 file does not seem to be correct. maybe there is another format to save it as.\n",
    "\n"
   ]
  },
  {
   "cell_type": "markdown",
   "metadata": {},
   "source": [
    "#### Read in the dataset"
   ]
  },
  {
   "cell_type": "code",
   "execution_count": 1,
   "metadata": {},
   "outputs": [],
   "source": [
    "# first importing the following libraries\n",
    "import numpy as np\n",
    "import pandas as pd  \n",
    "import matplotlib.pyplot as plt \n",
    "import seaborn as sns\n",
    "\n",
    "import csv"
   ]
  },
  {
   "cell_type": "code",
   "execution_count": 2,
   "metadata": {},
   "outputs": [],
   "source": [
    "# save link to data and reference the link \n",
    "csv_url = 'https://raw.githubusercontent.com/ianmcloughlin/2020A-machstat-project/master/dataset/powerproduction.csv'\n",
    "# read the csv data into a pandas dataframe\n",
    "df = pd.read_csv(csv_url)\n",
    "df\n",
    "# write the dataframe to csv\n",
    "df.to_csv('df.csv')\n",
    "# make a copy of the dataframe\n",
    "dfx = df.copy()"
   ]
  },
  {
   "cell_type": "markdown",
   "metadata": {},
   "source": [
    "The power variable represents wind turbine power output and the speed values are wind speed values."
   ]
  },
  {
   "cell_type": "markdown",
   "metadata": {},
   "source": [
    "The [DataFrame.to_numpy()](https://pandas.pydata.org/docs/reference/api/pandas.DataFrame.to_numpy.html#pandas.DataFrame.to_numpy) function `df.to_numpy()` gives a NumPy representation of the underlying data. It converts the dataframe to a numpy array which may be useful here given that the data is all numerical types (floats64)."
   ]
  },
  {
   "cell_type": "code",
   "execution_count": 3,
   "metadata": {},
   "outputs": [
    {
     "name": "stdout",
     "output_type": "stream",
     "text": [
      "The first few rows in the dataset: \n",
      "\n",
      "    speed  power\n",
      "0  0.000    0.0\n",
      "1  0.125    0.0\n",
      "2  0.150    0.0\n",
      "\n",
      " The final few rows in the dataset \n",
      "       speed  power\n",
      "497  24.875    0.0\n",
      "498  24.950    0.0\n",
      "499  25.000    0.0\n",
      "The index of the DataFrame:  RangeIndex(start=0, stop=500, step=1)\n",
      "The dtypes in the dataframe are:\n",
      "\n",
      "speed    float64\n",
      "power    float64\n",
      "dtype: object\n"
     ]
    }
   ],
   "source": [
    "print(\"The first few rows in the dataset: \\n\\n\", df.head(3))  # look at the top 5 rows of the DataFrame df\n",
    "print('\\n The final few rows in the dataset \\n',df.tail(3)) # Look at the bottom 5 rows of the DataFrame\n",
    "print(\"The index of the DataFrame: \", df.index) # the index or row labels of the DataFrame\n",
    "print(\"The dtypes in the dataframe are:\", end='\\n\\n')\n",
    "\n",
    "print(df.dtypes) # the data types attributes for each column in df"
   ]
  },
  {
   "cell_type": "markdown",
   "metadata": {},
   "source": [
    "### Zero and Null values\n",
    "\n",
    "There are no null values in the dataset but there are some zero values. Null values are not zero in Python.\n",
    "While there is only one zero value for the `speed` variable, there are 49 zero values for the `power` variable.\n",
    "\n",
    "(Will look at the distribution of values to see if the zero values are very unusual compared to the remaining 451 values for the power variable.)"
   ]
  },
  {
   "cell_type": "code",
   "execution_count": 4,
   "metadata": {},
   "outputs": [
    {
     "name": "stdout",
     "output_type": "stream",
     "text": [
      "speed    0\n",
      "power    0\n",
      "dtype: int64\n"
     ]
    },
    {
     "data": {
      "text/plain": [
       "False"
      ]
     },
     "execution_count": 4,
     "metadata": {},
     "output_type": "execute_result"
    }
   ],
   "source": [
    "print(df.isnull().sum())\n",
    "df.notnull().sum()\n",
    "df.isnull().values.any()"
   ]
  },
  {
   "cell_type": "code",
   "execution_count": 5,
   "metadata": {},
   "outputs": [
    {
     "data": {
      "text/plain": [
       "True"
      ]
     },
     "execution_count": 5,
     "metadata": {},
     "output_type": "execute_result"
    }
   ],
   "source": [
    "# https://stackoverflow.com/questions/50767452/check-if-dataframe-has-a-zero-element\n",
    "0 in df.values\n",
    "df.isin([0]).any().any()"
   ]
  },
  {
   "cell_type": "code",
   "execution_count": 6,
   "metadata": {},
   "outputs": [
    {
     "data": {
      "text/plain": [
       "speed     1\n",
       "power    49\n",
       "dtype: int64"
      ]
     },
     "execution_count": 6,
     "metadata": {},
     "output_type": "execute_result"
    }
   ],
   "source": [
    "#https://stackoverflow.com/questions/29229600/counting-number-of-zeros-per-row-by-pandas-dataframe\n",
    "\n",
    "df.isin([0]).sum()"
   ]
  },
  {
   "cell_type": "code",
   "execution_count": 7,
   "metadata": {
    "scrolled": true
   },
   "outputs": [
    {
     "data": {
      "text/html": [
       "<div>\n",
       "<style scoped>\n",
       "    .dataframe tbody tr th:only-of-type {\n",
       "        vertical-align: middle;\n",
       "    }\n",
       "\n",
       "    .dataframe tbody tr th {\n",
       "        vertical-align: top;\n",
       "    }\n",
       "\n",
       "    .dataframe thead th {\n",
       "        text-align: right;\n",
       "    }\n",
       "</style>\n",
       "<table border=\"1\" class=\"dataframe\">\n",
       "  <thead>\n",
       "    <tr style=\"text-align: right;\">\n",
       "      <th></th>\n",
       "      <th>speed</th>\n",
       "      <th>power</th>\n",
       "    </tr>\n",
       "  </thead>\n",
       "  <tbody>\n",
       "    <tr>\n",
       "      <th>0</th>\n",
       "      <td>0.000</td>\n",
       "      <td>0.0</td>\n",
       "    </tr>\n",
       "    <tr>\n",
       "      <th>1</th>\n",
       "      <td>0.125</td>\n",
       "      <td>0.0</td>\n",
       "    </tr>\n",
       "    <tr>\n",
       "      <th>2</th>\n",
       "      <td>0.150</td>\n",
       "      <td>0.0</td>\n",
       "    </tr>\n",
       "    <tr>\n",
       "      <th>3</th>\n",
       "      <td>0.225</td>\n",
       "      <td>0.0</td>\n",
       "    </tr>\n",
       "    <tr>\n",
       "      <th>4</th>\n",
       "      <td>0.275</td>\n",
       "      <td>0.0</td>\n",
       "    </tr>\n",
       "  </tbody>\n",
       "</table>\n",
       "</div>"
      ],
      "text/plain": [
       "   speed  power\n",
       "0  0.000    0.0\n",
       "1  0.125    0.0\n",
       "2  0.150    0.0\n",
       "3  0.225    0.0\n",
       "4  0.275    0.0"
      ]
     },
     "execution_count": 7,
     "metadata": {},
     "output_type": "execute_result"
    }
   ],
   "source": [
    "df.sort_values(by='speed').head()"
   ]
  },
  {
   "cell_type": "code",
   "execution_count": 8,
   "metadata": {},
   "outputs": [
    {
     "data": {
      "text/html": [
       "<div>\n",
       "<style scoped>\n",
       "    .dataframe tbody tr th:only-of-type {\n",
       "        vertical-align: middle;\n",
       "    }\n",
       "\n",
       "    .dataframe tbody tr th {\n",
       "        vertical-align: top;\n",
       "    }\n",
       "\n",
       "    .dataframe thead th {\n",
       "        text-align: right;\n",
       "    }\n",
       "</style>\n",
       "<table border=\"1\" class=\"dataframe\">\n",
       "  <thead>\n",
       "    <tr style=\"text-align: right;\">\n",
       "      <th></th>\n",
       "      <th>speed</th>\n",
       "      <th>power</th>\n",
       "    </tr>\n",
       "  </thead>\n",
       "  <tbody>\n",
       "    <tr>\n",
       "      <th>499</th>\n",
       "      <td>25.000</td>\n",
       "      <td>0.0</td>\n",
       "    </tr>\n",
       "    <tr>\n",
       "      <th>498</th>\n",
       "      <td>24.950</td>\n",
       "      <td>0.0</td>\n",
       "    </tr>\n",
       "    <tr>\n",
       "      <th>497</th>\n",
       "      <td>24.875</td>\n",
       "      <td>0.0</td>\n",
       "    </tr>\n",
       "    <tr>\n",
       "      <th>496</th>\n",
       "      <td>24.850</td>\n",
       "      <td>0.0</td>\n",
       "    </tr>\n",
       "    <tr>\n",
       "      <th>495</th>\n",
       "      <td>24.775</td>\n",
       "      <td>0.0</td>\n",
       "    </tr>\n",
       "  </tbody>\n",
       "</table>\n",
       "</div>"
      ],
      "text/plain": [
       "      speed  power\n",
       "499  25.000    0.0\n",
       "498  24.950    0.0\n",
       "497  24.875    0.0\n",
       "496  24.850    0.0\n",
       "495  24.775    0.0"
      ]
     },
     "execution_count": 8,
     "metadata": {},
     "output_type": "execute_result"
    }
   ],
   "source": [
    "df.sort_values(by='speed', ascending=False).head()"
   ]
  },
  {
   "cell_type": "code",
   "execution_count": 9,
   "metadata": {
    "scrolled": true
   },
   "outputs": [
    {
     "data": {
      "text/html": [
       "<div>\n",
       "<style scoped>\n",
       "    .dataframe tbody tr th:only-of-type {\n",
       "        vertical-align: middle;\n",
       "    }\n",
       "\n",
       "    .dataframe tbody tr th {\n",
       "        vertical-align: top;\n",
       "    }\n",
       "\n",
       "    .dataframe thead th {\n",
       "        text-align: right;\n",
       "    }\n",
       "</style>\n",
       "<table border=\"1\" class=\"dataframe\">\n",
       "  <thead>\n",
       "    <tr style=\"text-align: right;\">\n",
       "      <th></th>\n",
       "      <th>speed</th>\n",
       "      <th>power</th>\n",
       "    </tr>\n",
       "  </thead>\n",
       "  <tbody>\n",
       "    <tr>\n",
       "      <th>461</th>\n",
       "      <td>23.273</td>\n",
       "      <td>113.556</td>\n",
       "    </tr>\n",
       "    <tr>\n",
       "      <th>416</th>\n",
       "      <td>20.646</td>\n",
       "      <td>112.362</td>\n",
       "    </tr>\n",
       "    <tr>\n",
       "      <th>447</th>\n",
       "      <td>22.497</td>\n",
       "      <td>109.932</td>\n",
       "    </tr>\n",
       "    <tr>\n",
       "      <th>420</th>\n",
       "      <td>20.871</td>\n",
       "      <td>108.485</td>\n",
       "    </tr>\n",
       "    <tr>\n",
       "      <th>464</th>\n",
       "      <td>23.348</td>\n",
       "      <td>108.167</td>\n",
       "    </tr>\n",
       "  </tbody>\n",
       "</table>\n",
       "</div>"
      ],
      "text/plain": [
       "      speed    power\n",
       "461  23.273  113.556\n",
       "416  20.646  112.362\n",
       "447  22.497  109.932\n",
       "420  20.871  108.485\n",
       "464  23.348  108.167"
      ]
     },
     "execution_count": 9,
     "metadata": {},
     "output_type": "execute_result"
    }
   ],
   "source": [
    "df.sort_values(by='power', ascending=False).head()"
   ]
  },
  {
   "cell_type": "code",
   "execution_count": 10,
   "metadata": {},
   "outputs": [
    {
     "data": {
      "text/html": [
       "<div>\n",
       "<style scoped>\n",
       "    .dataframe tbody tr th:only-of-type {\n",
       "        vertical-align: middle;\n",
       "    }\n",
       "\n",
       "    .dataframe tbody tr th {\n",
       "        vertical-align: top;\n",
       "    }\n",
       "\n",
       "    .dataframe thead th {\n",
       "        text-align: right;\n",
       "    }\n",
       "</style>\n",
       "<table border=\"1\" class=\"dataframe\">\n",
       "  <thead>\n",
       "    <tr style=\"text-align: right;\">\n",
       "      <th></th>\n",
       "      <th>speed</th>\n",
       "      <th>power</th>\n",
       "    </tr>\n",
       "  </thead>\n",
       "  <tbody>\n",
       "    <tr>\n",
       "      <th>0</th>\n",
       "      <td>0.000</td>\n",
       "      <td>0.0</td>\n",
       "    </tr>\n",
       "    <tr>\n",
       "      <th>111</th>\n",
       "      <td>5.806</td>\n",
       "      <td>0.0</td>\n",
       "    </tr>\n",
       "    <tr>\n",
       "      <th>110</th>\n",
       "      <td>5.781</td>\n",
       "      <td>0.0</td>\n",
       "    </tr>\n",
       "    <tr>\n",
       "      <th>105</th>\n",
       "      <td>5.556</td>\n",
       "      <td>0.0</td>\n",
       "    </tr>\n",
       "    <tr>\n",
       "      <th>89</th>\n",
       "      <td>4.880</td>\n",
       "      <td>0.0</td>\n",
       "    </tr>\n",
       "  </tbody>\n",
       "</table>\n",
       "</div>"
      ],
      "text/plain": [
       "     speed  power\n",
       "0    0.000    0.0\n",
       "111  5.806    0.0\n",
       "110  5.781    0.0\n",
       "105  5.556    0.0\n",
       "89   4.880    0.0"
      ]
     },
     "execution_count": 10,
     "metadata": {},
     "output_type": "execute_result"
    }
   ],
   "source": [
    "df.sort_values(by='power').head()"
   ]
  },
  {
   "cell_type": "code",
   "execution_count": 11,
   "metadata": {
    "scrolled": true
   },
   "outputs": [
    {
     "data": {
      "text/html": [
       "<div>\n",
       "<style scoped>\n",
       "    .dataframe tbody tr th:only-of-type {\n",
       "        vertical-align: middle;\n",
       "    }\n",
       "\n",
       "    .dataframe tbody tr th {\n",
       "        vertical-align: top;\n",
       "    }\n",
       "\n",
       "    .dataframe thead th {\n",
       "        text-align: right;\n",
       "    }\n",
       "</style>\n",
       "<table border=\"1\" class=\"dataframe\">\n",
       "  <thead>\n",
       "    <tr style=\"text-align: right;\">\n",
       "      <th></th>\n",
       "      <th>speed</th>\n",
       "      <th>power</th>\n",
       "    </tr>\n",
       "  </thead>\n",
       "  <tbody>\n",
       "    <tr>\n",
       "      <th>0</th>\n",
       "      <td>0.000</td>\n",
       "      <td>0.0</td>\n",
       "    </tr>\n",
       "    <tr>\n",
       "      <th>1</th>\n",
       "      <td>0.125</td>\n",
       "      <td>0.0</td>\n",
       "    </tr>\n",
       "    <tr>\n",
       "      <th>2</th>\n",
       "      <td>0.150</td>\n",
       "      <td>0.0</td>\n",
       "    </tr>\n",
       "    <tr>\n",
       "      <th>3</th>\n",
       "      <td>0.225</td>\n",
       "      <td>0.0</td>\n",
       "    </tr>\n",
       "    <tr>\n",
       "      <th>4</th>\n",
       "      <td>0.275</td>\n",
       "      <td>0.0</td>\n",
       "    </tr>\n",
       "  </tbody>\n",
       "</table>\n",
       "</div>"
      ],
      "text/plain": [
       "   speed  power\n",
       "0  0.000    0.0\n",
       "1  0.125    0.0\n",
       "2  0.150    0.0\n",
       "3  0.225    0.0\n",
       "4  0.275    0.0"
      ]
     },
     "execution_count": 11,
     "metadata": {},
     "output_type": "execute_result"
    }
   ],
   "source": [
    "df.sort_values(by='speed').head()"
   ]
  },
  {
   "cell_type": "markdown",
   "metadata": {},
   "source": [
    "## Exploratory Data Analysis\n",
    "\n",
    "Exploratory data analysis generally involves both non-graphical methods which include calculation of summary statistics and graphical methods which summarises the data in a picture or a plot. These methods can be univariate where one variable is looked at at a time or multivariate where two or more variables are looked at together to explore relationships. First I will do so some univariate EDA on both of the components before going on to do multivariate EDA. \n",
    "Plots can highlight any obvious relationships between the different variables in the dataset. They can also be used to identify any groups of observations that are clearly separate to other groups of observations."
   ]
  },
  {
   "cell_type": "markdown",
   "metadata": {},
   "source": [
    "### The distribution of speed and power values\n",
    "Histograms are used to show the distribution of a single quantitative variable such as speed or power values, including the centre and spread of the distribution and if there is any skew in the data. \n",
    "\n",
    "The histogram of wind speed looks to be uniformly distributed with wind speed values spread out from zero up to 25 which seems to be the max speed value. Power values on the other hand looks to be bimodal with two defined peaks, one around zero power values and the second around the 100 kilowatt mark. \n",
    "\n",
    "The wind turbine power values seem to have a peak at very low values. This is not surprising given the large number of zero power values in this dataset. Almost 10% of the power values supplied are zero.  There is another peak around values of 95-100. Most of the remaining power values fall between 18 and 85.\n",
    "A scatter plot can be used to see if there is any visible relationship between the two variables. \n",
    "\n",
    "The scatter plot shows a non-linear relationship between wind speed values and power. There does appear to be a linear relationship for mid-range speed values only.\n",
    "- When wind speed increases from very low levels, the power does not increase by much or at all. \n",
    "- The wind turbine power values does start to increase with the wind speed from wind speed values of about 5 to about 18/19. \n",
    "- From wind speeds of 20 onwards to about 25 the power values increase no further and seem to level off. \n",
    "\n",
    "From looking at the curves and knowing very little about wind, you would guess that at very low winds there may not be enough speed to get the turbine up and running and generating power and that there might be a maximum power that can be achieved by the wind turbine regardless of how high the wind can go. Once the turbine is in motion, little is required to keep it going. Some of the power generated might be consumed by the turbine itself at low levels to get it started."
   ]
  },
  {
   "cell_type": "code",
   "execution_count": 12,
   "metadata": {},
   "outputs": [
    {
     "data": {
      "image/png": "[encoded data removed]",
      "text/plain": [
       "<Figure size 864x360 with 2 Axes>"
      ]
     },
     "metadata": {
      "needs_background": "light"
     },
     "output_type": "display_data"
    }
   ],
   "source": [
    "    %matplotlib inline\n",
    "\n",
    "    # plot the histograms of Speed values\n",
    "    f, axs = plt.subplots(1, 2, figsize=(12, 5))\n",
    "    sns.histplot(data=df, x=\"speed\", ax=axs[0], bins=20, kde=True,color=\"blue\")\n",
    "    sns.histplot(data=df, x=\"power\", alpha=.8, legend=False, ax=axs[1], bins=20, kde=True, color=\"purple\")\n",
    "\n",
    "    #plt.title(\"Speed vs Power\");\n",
    "    plt.suptitle(\"The distribution of the variables\")\n",
    "    f.tight_layout()"
   ]
  },
  {
   "cell_type": "markdown",
   "metadata": {},
   "source": [
    "### Summary statistics of the dataset\n",
    "When looking at quantitative variables such as wind speed and power values, the characteristics of interest are the centre, spread, modality (the number of peaks in the pdf), the shape of the distribution and the outliers.\n",
    "Panda's `describe` function generates statistics that summarize the central tendency, dispersion and shape of a dataset’s distribution. (excluding NaN values)\n",
    "The central tendency or location of the data distribution is determined by the typical or middle values. While the mean value is the average value in the dataset it may not be typical of the values in the dataset if there are very small or very large values in the dataset. The median is another measure of central tendancy - it is the middle value after all the values are put in an ordered list.\n",
    "The mean and median are similar for symmetric distributions whereas for unimodal skewed distributions the mean will be more in the direction of the long tail of the distribution. \n",
    "The median can be considered a more typical value in the dataset or closer to some of the typical values and is also considered [robust](https://en.wikipedia.org/wiki/Robust_statistics) which means that removing some of the data will not tend to change the value of the median. A few extreme values will not affect the median as they would affect the mean. \n",
    "In this dataset the mean and median wind speed values are similar at approx 12.5 to 12.6.\n",
    "The median power value is just over 41 compared to the mean power value of 48.\n",
    "As we saw above, there are many zero values for power in the dataset. At least 10% of the power values are zero and probably for valid reasons."
   ]
  },
  {
   "cell_type": "code",
   "execution_count": 13,
   "metadata": {},
   "outputs": [
    {
     "data": {
      "text/html": [
       "<div>\n",
       "<style scoped>\n",
       "    .dataframe tbody tr th:only-of-type {\n",
       "        vertical-align: middle;\n",
       "    }\n",
       "\n",
       "    .dataframe tbody tr th {\n",
       "        vertical-align: top;\n",
       "    }\n",
       "\n",
       "    .dataframe thead th {\n",
       "        text-align: right;\n",
       "    }\n",
       "</style>\n",
       "<table border=\"1\" class=\"dataframe\">\n",
       "  <thead>\n",
       "    <tr style=\"text-align: right;\">\n",
       "      <th></th>\n",
       "      <th>speed</th>\n",
       "      <th>power</th>\n",
       "    </tr>\n",
       "  </thead>\n",
       "  <tbody>\n",
       "    <tr>\n",
       "      <th>count</th>\n",
       "      <td>500.000000</td>\n",
       "      <td>500.000000</td>\n",
       "    </tr>\n",
       "    <tr>\n",
       "      <th>mean</th>\n",
       "      <td>12.590398</td>\n",
       "      <td>48.014584</td>\n",
       "    </tr>\n",
       "    <tr>\n",
       "      <th>std</th>\n",
       "      <td>7.224991</td>\n",
       "      <td>41.614572</td>\n",
       "    </tr>\n",
       "    <tr>\n",
       "      <th>min</th>\n",
       "      <td>0.000000</td>\n",
       "      <td>0.000000</td>\n",
       "    </tr>\n",
       "    <tr>\n",
       "      <th>25%</th>\n",
       "      <td>6.324750</td>\n",
       "      <td>5.288000</td>\n",
       "    </tr>\n",
       "    <tr>\n",
       "      <th>50%</th>\n",
       "      <td>12.550500</td>\n",
       "      <td>41.645500</td>\n",
       "    </tr>\n",
       "    <tr>\n",
       "      <th>75%</th>\n",
       "      <td>18.775250</td>\n",
       "      <td>93.537000</td>\n",
       "    </tr>\n",
       "    <tr>\n",
       "      <th>max</th>\n",
       "      <td>25.000000</td>\n",
       "      <td>113.556000</td>\n",
       "    </tr>\n",
       "  </tbody>\n",
       "</table>\n",
       "</div>"
      ],
      "text/plain": [
       "            speed       power\n",
       "count  500.000000  500.000000\n",
       "mean    12.590398   48.014584\n",
       "std      7.224991   41.614572\n",
       "min      0.000000    0.000000\n",
       "25%      6.324750    5.288000\n",
       "50%     12.550500   41.645500\n",
       "75%     18.775250   93.537000\n",
       "max     25.000000  113.556000"
      ]
     },
     "execution_count": 13,
     "metadata": {},
     "output_type": "execute_result"
    }
   ],
   "source": [
    "# get summary statistics of the numerical values, \n",
    "df.describe() # get statistics summary of the"
   ]
  },
  {
   "cell_type": "code",
   "execution_count": 14,
   "metadata": {},
   "outputs": [
    {
     "name": "stdout",
     "output_type": "stream",
     "text": [
      "The mean speed value is 12.590 while the median speed value  is 12.550\n",
      "The mean power value is 48.015 while the median power value  is 41.645\n"
     ]
    }
   ],
   "source": [
    "print(\"The mean speed value is %.3f\" %df['speed'].mean(),\"while the median speed value  is %.3f\" %df['speed'].quantile(q=0.5))\n",
    "print(\"The mean power value is %.3f\" %df['power'].mean(),\"while the median power value  is %.3f\" %df['power'].quantile(q=0.5))"
   ]
  },
  {
   "cell_type": "markdown",
   "metadata": {},
   "source": [
    "#### Spread statistics\n",
    "The variance and standard deviation statistics can be used to show the spread of the distribution of the speed and power data values and how far away from the centre the data points are located.\n",
    "The variance is the average of the squared deviations of each observation from the centre or mean of the data while the standard deviation is the square root of the variance and is in the same units as the data and therefore can be more easily interpreted. \n",
    "The range of values in the data is shown by the minimum and maximum values and is not considered a robust measure of spread but it is useful for showing possible errors or outliers. "
   ]
  },
  {
   "cell_type": "code",
   "execution_count": 15,
   "metadata": {},
   "outputs": [
    {
     "name": "stdout",
     "output_type": "stream",
     "text": [
      "The standard deviations of speed values  is 7.225\n",
      "The standard deviations of power values is 41.615\n",
      "The minimum speed value is 0.0 while the maximum speed value is 25.0 giving range of 25.0\n",
      "The minimum Power value is 0.0 while the maximum power value is 113.556 giving range of 113.556\n"
     ]
    }
   ],
   "source": [
    "#print(f\"The variance and standard deviations of speed values  are {df['speed'].var():.3f} and {df['speed'].std():.3f}\")\n",
    "#print(f\"The variance and standard deviations of power values are {df['power'].var():.3f} and {df['power'].std():.3f}\")\n",
    "print(f\"The standard deviations of speed values  is {df['speed'].std():.3f}\")\n",
    "print(f\"The standard deviations of power values is {df['power'].std():.3f}\")\n",
    "print(f\"The minimum speed value is {df['speed'].min()} while the maximum speed value is { df['speed'].max()} giving range of {df['speed'].max() - df['speed'].min()}\")\n",
    "print(f\"The minimum Power value is {df['power'].min()} while the maximum power value is { df['power'].max()} giving range of {df['power'].max() - df['power'].min()}\")"
   ]
  },
  {
   "cell_type": "markdown",
   "metadata": {},
   "source": [
    "The percentiles or quartiles of the speed and power values can be used to see the spread of the data values. The Interquartile range (IQR) is calculated by taking the 75% percentile or 3rd quartile minus the 25% percentile or first quartile and captures half of the values, the middle values of the data. Data that is more spread out will have a higher IQR. The IQR is considered a more robust measure of spread than the variance and standard deviation and will be more clearly shown in the boxplots further down. The IQR does not consider the data below the 25% percentile or above the 75% percentile which may contain outliers. The statistics here show that the *power* variable in this dataset is much more spread out or variable than the *speed* variable.  "
   ]
  },
  {
   "cell_type": "code",
   "execution_count": 16,
   "metadata": {},
   "outputs": [
    {
     "name": "stdout",
     "output_type": "stream",
     "text": [
      "The median speed value is 12.5505 with the IQR ranging from 6.32 to  18.78\n",
      "The median power value is 41.6455 with the IQR ranging from 5.29 to  93.54\n"
     ]
    }
   ],
   "source": [
    "print(f\"The median speed value is {df['speed'].quantile(q=0.5)} with the IQR ranging from {df['speed'].quantile(q=0.25):.2f} to  {df['speed'].quantile(q=0.75):.2f}\")\n",
    "print(f\"The median power value is {df['power'].quantile(q=0.5)} with the IQR ranging from {df['power'].quantile(q=0.25):.2f} to  {df['power'].quantile(q=0.75):.2f}\")"
   ]
  },
  {
   "cell_type": "code",
   "execution_count": 17,
   "metadata": {},
   "outputs": [
    {
     "data": {
      "image/png": "[encoded data removed]",
      "text/plain": [
       "<Figure size 864x288 with 2 Axes>"
      ]
     },
     "metadata": {
      "needs_background": "light"
     },
     "output_type": "display_data"
    }
   ],
   "source": [
    "f, axes = plt.subplots(1, 2, figsize=(12, 4))\n",
    "sns.set(style=\"ticks\", palette=\"pastel\")\n",
    "sns.boxplot(y=df['speed'], ax=axes[0], color=\"blue\")\n",
    "# add a title\n",
    "axes[0].set_title(\"Boxplot of Speed values\")\n",
    "sns.boxplot(y=df['power'], ax=axes[1], color=\"purple\")\n",
    "axes[1].set_title(\"Boxplot of Power Values\");"
   ]
  },
  {
   "cell_type": "markdown",
   "metadata": {},
   "source": [
    "The skewness of the data is a measure of assymetry which can be seen by the lopsidedness of a boxplot.\n",
    "Wind speed appears to be quite symmetric. The wind speed boxplot is cut pretty much in half by the median. Power appears to be soemwhat skewed to the right as the boxplot shows more of the box to the right or above the median line.\n",
    "A boxplot with the median closer to the lower quartile is considered positively skewed. Positively skewed data has the mean greater than the median and it can be interpreted as having a higher frequency of high valued scores. The lower values of power are closer together than the higher power values.\n"
   ]
  },
  {
   "cell_type": "markdown",
   "metadata": {},
   "source": [
    "## Investigating a relationship between Wind Speed and Wind Turbine Power output"
   ]
  },
  {
   "cell_type": "markdown",
   "metadata": {},
   "source": [
    "Scatter plots are useful to identify trends and patterns in a dataset which might indicate a relationship between variables. The dataset here contains two numerical variables wind speed and turbine power values. \n",
    "The ordered pairs of numbers consisting of the independent variable wind 'speed' and the dependent variable 'power' output are plotted below resulting in a joint distribution of the two variables. Each point represents an actual observation is the dataset with a speed and a corresponding power value. \n",
    "The scatter plot shows an increasing linear trend in the middle range of the wind speed values. This would indicate that for increasing wind speeds in this range, power output values do increase, but only after a minimum wind speed has been reached. Power outputs then increase in line with increases in wind speed until it reaches a peak and plateaus."
   ]
  },
  {
   "cell_type": "code",
   "execution_count": 18,
   "metadata": {},
   "outputs": [
    {
     "data": {
      "image/png": "[encoded data removed]",
      "text/plain": [
       "<Figure size 1008x720 with 1 Axes>"
      ]
     },
     "metadata": {},
     "output_type": "display_data"
    }
   ],
   "source": [
    "# create the plot\n",
    "\n",
    "\n",
    "\n",
    "plt.style.use('ggplot')\n",
    "\n",
    "# Plot size.\n",
    "plt.rcParams['figure.figsize'] = (14, 10)\n",
    "sns.scatterplot(x=df['speed'],y=df['power'])\n",
    "plt.grid(True)\n",
    "# add title\n",
    "plt.title(\"Scatter plot of Speed and Power\");"
   ]
  },
  {
   "cell_type": "markdown",
   "metadata": {},
   "source": [
    "#### Correlation and Covariance of Speed and Power values\n",
    " \n",
    "For two quantitative variables such as the wind speed and power values, the covariance and correlation can also be used to determine whether a linear relationship between variables does exist and to show if one variable tends to occur with large or small values of another variable. The correlation statistics puts a numerical value on the strength and direction of the relationship. The scatter plot shows a non-linear relationship between the variables. There appears to be a curved pattern in the data so the statistic cannot be taken on it's own.\n",
    "\n",
    "\n",
    "[Covariance](https://en.wikipedia.org/wiki/Covariance) is a measure of the joint variability of two random variables and the (Pearson) [correlation coefficient](https://en.wikipedia.org/wiki/Pearson_correlation_coefficient) is the normalised version of the covariance which shows by its magnitude the strength of the linear relation. The covariance can be used to see how much two variables such as wind speed and wind turbine power vary with each other and in what direction turbine power output will move when wind speed value moves. \n",
    "If the covariance here is positive it would mean that when the wind speed measurement is above it's mean then the wind turbine power measurement will more than likely be above it's mean also and vice versa. \n",
    "If the covarince here is negative, when wind speed measurements are above their mean value, then the wind turbine power output is likely to be below its mean value.\n",
    "If there is a zero covariance (or a covariance value close to zero) this implies that the two variables wind speed and wind turbine output vary independently of each other. \n",
    "\n",
    "The correlation statistics are computed from pairs of arguments. If there is a strong positive relationship between the wind speed and wind turbine power output variables, we would expect to see a correlation coefficient close to 1. A strong negative relationship would have a correlation coefficient value close to -1. A value close to zero would indicate that there is no relationship between the variables. The correlation is easier to interpret than the covariance as it does not depend on the units of measurement or which variable is the independent variable and which is the dependent variable. \n",
    "\n",
    "Pandas has functions for calculating the covariance and correlation coefficients. The correlation coefficient here of 0.85 shows there is a very strong positive relationship between the wind speed and turbine power output. It should be noted that correlation however is not the same as causation.\n",
    "\n",
    "The plots show that the relationship is non-linear though. Maybe look at rand correlation.\n",
    "https://realpython.com/numpy-scipy-pandas-correlation-python/"
   ]
  },
  {
   "cell_type": "code",
   "execution_count": 19,
   "metadata": {},
   "outputs": [
    {
     "name": "stdout",
     "output_type": "stream",
     "text": [
      "(0.8537775037188595, 2.8596889641534797e-143)\n",
      "SpearmanrResult(correlation=0.8187276026588616, pvalue=4.4287029757150813e-122)\n"
     ]
    },
    {
     "data": {
      "text/plain": [
       "KendalltauResult(correlation=0.7275042154337987, pvalue=1.630169049999099e-129)"
      ]
     },
     "execution_count": 19,
     "metadata": {},
     "output_type": "execute_result"
    }
   ],
   "source": [
    "import numpy as np\n",
    "import scipy.stats\n",
    "print(scipy.stats.pearsonr(df['speed'], df['power']))\n",
    "print(scipy.stats.spearmanr(df['speed'], df['power']))\n",
    "scipy.stats.kendalltau(df['speed'], df['power'])"
   ]
  },
  {
   "cell_type": "code",
   "execution_count": 20,
   "metadata": {},
   "outputs": [
    {
     "data": {
      "text/html": [
       "<div>\n",
       "<style scoped>\n",
       "    .dataframe tbody tr th:only-of-type {\n",
       "        vertical-align: middle;\n",
       "    }\n",
       "\n",
       "    .dataframe tbody tr th {\n",
       "        vertical-align: top;\n",
       "    }\n",
       "\n",
       "    .dataframe thead th {\n",
       "        text-align: right;\n",
       "    }\n",
       "</style>\n",
       "<table border=\"1\" class=\"dataframe\">\n",
       "  <thead>\n",
       "    <tr style=\"text-align: right;\">\n",
       "      <th></th>\n",
       "      <th>speed</th>\n",
       "      <th>power</th>\n",
       "    </tr>\n",
       "  </thead>\n",
       "  <tbody>\n",
       "    <tr>\n",
       "      <th>speed</th>\n",
       "      <td>1.000000</td>\n",
       "      <td>0.853778</td>\n",
       "    </tr>\n",
       "    <tr>\n",
       "      <th>power</th>\n",
       "      <td>0.853778</td>\n",
       "      <td>1.000000</td>\n",
       "    </tr>\n",
       "  </tbody>\n",
       "</table>\n",
       "</div>"
      ],
      "text/plain": [
       "          speed     power\n",
       "speed  1.000000  0.853778\n",
       "power  0.853778  1.000000"
      ]
     },
     "execution_count": 20,
     "metadata": {},
     "output_type": "execute_result"
    }
   ],
   "source": [
    "df.cov()\n",
    "df.corr()"
   ]
  },
  {
   "cell_type": "markdown",
   "metadata": {},
   "source": [
    "### Regression plots\n",
    "The Python Seaborn library has some regression plots that can be used to quickly visualise relationships and patterns that may exist in the data. They use statistical models to estimate a simple relationship between sets of observations and are mainly used to visualise patterns in a dataset during the exploratory data analysis.\n",
    "The scatter plot earlier showed a relationship between wind speeds and wind turbine power that is non-linear. There does seem to be a somewhat linear relationship for wind speeds between values of about 10 up to about 18 or so. Therefore it is worth looking at higher order polynomials as well as linear regression.\n",
    "The plot below shows that the polynomial with order 3 looks a much better fit to the line than the first or second order linear regression lines. "
   ]
  },
  {
   "cell_type": "code",
   "execution_count": 21,
   "metadata": {},
   "outputs": [
    {
     "data": {
      "image/png": "[encoded data removed]",
      "text/plain": [
       "<Figure size 864x432 with 4 Axes>"
      ]
     },
     "metadata": {},
     "output_type": "display_data"
    }
   ],
   "source": [
    "f, axes = plt.subplots(2, 2, figsize=(12, 6))\n",
    "x = \"speed\"\n",
    "y = \"power\"\n",
    "sns.regplot(x=\"speed\", y=\"power\", data=df, ax=axes[0,0], label=\"order = 1\", ci=False); axes[0,0].legend()\n",
    "sns.regplot(x=\"speed\", y=\"power\", data=df, order=2, ax=axes[0,1], label=\"order =2\", ci=False); axes[0,1].legend()\n",
    "sns.regplot(x=\"speed\", y=\"power\", data=df, order=3, ax=axes[1,0], label=\"order =3\", ci=False); axes[1,0].legend()\n",
    "sns.regplot(x=\"speed\", y=\"power\", data=df, order=4, ax=axes[1,1], label = \"order=4\"); axes[1,1].legend()\n",
    "plt.legend()\n",
    "plt.suptitle(\"Trying higher order polynomial regression functions to Speed and Power values\")\n",
    "plt.show()"
   ]
  },
  {
   "cell_type": "markdown",
   "metadata": {},
   "source": []
  },
  {
   "cell_type": "markdown",
   "metadata": {},
   "source": [
    "Residual plots can be used to check whether the simple regression model of speed ~ power  is appropriate for a dataset. The seaborn `residplot` fits and removes a simple linear regression and then plots the residual values for each observation. Ideally, these values should be randomly scattered around y = 0. If there is structure in the residuals, this suggests that simple linear regression is not appropriate for the data.\n",
    "\n",
    "The residual plot here does have a shape which suggest non-linearity in the data set."
   ]
  },
  {
   "cell_type": "code",
   "execution_count": 22,
   "metadata": {
    "scrolled": true
   },
   "outputs": [
    {
     "data": {
      "image/png": "[encoded data removed]",
      "text/plain": [
       "<Figure size 1008x720 with 1 Axes>"
      ]
     },
     "metadata": {},
     "output_type": "display_data"
    }
   ],
   "source": [
    "sns.residplot(x=\"speed\", y=\"power\", data=df, scatter_kws={\"s\": 80})\n",
    "plt.title(\"Residual plot\"); plt.show()"
   ]
  },
  {
   "cell_type": "markdown",
   "metadata": {},
   "source": [
    "---\n",
    "## Researching Wind Turbines\n",
    "### Drop most of this, just to explain the S-curve and the reasons for the zero values.\n",
    "\n",
    "The dataset consists of two columns each containing 500 floating numbers under the column names `speed` and `power`. There are no other features provided.  I'm not getting into too much specifics about wind turbines but some background would help in understanding the dataset and the relationship between wind speed and power output.\n",
    "The background to the project is related to wind farms supplying electricity to the supply grid and negotiating prices in advance.  In the electricity market, producers of electricity usually sell their electricity ahead of time and enter into a contract where they agree to produce a certain number of kilowatts of electricity during at a certain time, maybe between 11am one day and the next. The price is negotiated in advance of generating electricity and pushing it onto the supply grid. \n",
    "It is easier for those burning coal or gas or doing nuclear fusion to burn the right amount to generate the right amount of electricity. However with wind turbines you cannot tell how much electricity you will generate tomorrow because your generation of electricity depends on wind power. Therefore you can make an estimate by getting some meterological data from a weather prediction agent such as Met Eireann and use the weather prediction to help you predict how much electricity you are likely to produce. The prediction may not always be correct but you aim to reduce how often your calculations are wrong. The aim is to be able to predict that when wind speed is X amount that the power produced from the turbines is Y amount. \n",
    "\n",
    "A little research here suggests that the wind speed values are measured in metres per second and that the power values are measured in kilowatts.\n",
    "\n",
    "[The Irish Wind Energy Association (IWEA)](https://www.iwea.com/about-us/about-us) is the representative body for the Irish wind industry, working to promote wind energy as an essential, economical and environmentally friendly part of the country’s low-carbon energy future. They note here that in 2018 wind energy provided 29 per cent of Ireland’s electricity. Each quarter, both EirGrid and ESBN publish updated wind farm statistics for Ireland at [ESBN Connected Wind Farms](https://www.esbnetworks.ie/new-connections/generator-connections/generator-connection-statistics). There is currently 4,130 MW of installed capacity in ROI and new Eirgrid link here http://www.eirgridgroup.com/how-the-grid-works/renewables/\n",
    "\n",
    "Also on this website is a question about how much electricity a turbine generates. (See FAQ 16.)\n",
    ">The amount of electricity a turbine can generate depends on the type of turbine and the wind conditions at any time. There are many different models of turbines that can generate different amounts of electricity. Ireland’s largest wind farm is the Galway Wind Park in Connemara. The turbines there are 3 MW turbines. To use them as an example, when the wind is blowing steadily they can each generate 3 MW of electricity. A megawatt (MW) is a unit of energy.A single megawatt is equivalent to around 1,000 kilowatts. Boiling a kettle, for example, takes around two kilowatts.\n",
    "\n",
    "Another website of interest is Eirgrid's [Smart grid dashboard](http://smartgriddashboard.eirgrid.com/#all/about).\n",
    "The [dashboard](http://smartgriddashboard.eirgrid.com/#all/wind)shows actual and forecast wind generation by day, week and month for allwind farms on the system. [sem-o.com](https://www.sem-o.com/links/) also some links as well as Ireland's open data portal at  data.gov.ie and the [EU Open data portal](https://data.europa.eu)\n",
    "\n",
    "[WindEurope](https://windeurope.org/data-and-analysis/) has facts and issues about wind energy in Europe, in particular the section on [Wind Energy Basics](https://windeurope.org/about-wind/wind-basics/). Wind is caused by three things, the heating of the atmosphere by the sun, the rotation of the Earth and the Earth's surface irregularities. *air under high pressure moves toward areas of low pressure – and the greater the difference in pressure, the faster the air flows and the stronger the wind!* Energy is the ability to  do work and can be categorised into  either kinetic energy (the energy of moving objects)\n",
    "or potential energy (energy that is stored). Wind turbines take the kinetic energy that’s in the wind and convert that kinetic energy into mechanical power which is mostly used in the form of electricity.\n",
    "Wind energy captures the energy of the wind and converts it to electricity and is an alternative to burning fossil fuels. It comes from a natural and renewable resourse and it is clean as it produces no greenhouse gas, emits no air pollutants and uses very little water. \n",
    "A wind turbine is a device that converts kinetic energy from the wind into electricity. Their output ranges from as small as 100 kilowatts to as big as 12 megawatts.\n",
    "According to this website, there are three main variables determining how much electricity a turbine can produce,  wind speed, blade radius and air density. (We only have the values for wind speed in the dataset here so will have to assume that the other variables are constant)\n",
    "Stronger winds allow more electricity to be produced with higher turbines being more receptive to strong winds. **Wind turbines generate electricity at wind speeds of 4 – 25 metres per second** [123][Wind Energy Basics](https://windeurope.org/about-wind/wind-basics/)\n",
    "\n",
    "The article also outlines what happens when the wind doesn't blow. A wind farms location is usually chosen purposely and therefore when a wind turbine is not turning it is usually because of maintenance, or because it must be stopped for safety reasons in the case of strong winds or a storm. So safety and maintenances reasons do explain the zero power values we see in the data set at the very high values of wind. \n",
    "The article does note that while sometimes there might not be enough wind to turn a turbine, the wind energy is not lost as the wind energy can be stored  in energy storage systems  for later use whenever wind levels are low.\n",
    "I must look at this again - this could explain why there might be some higher values of power that look unusual compared to the norm for those levels of wind.\n",
    "\n",
    "Another article looks at [how to calculate power output of wind](https://www.windpowerengineering.com/calculate-wind-power-output/) and notes that most *U.S. manufacturers rate their turbines by the amount of power they can safely produce at a particular wind speed, usually chosen between 24 mph or 10.5 m/s and 36 mph or 16 m/s.*\n",
    "This indicates that the power values in the dataset are in metres per second.\n",
    "The article gives a formula that illustrates the factors important to the performance of a wind turbine and notes that the wind speed `V` has an exponent of 3 applied to it meaning that even small increases in wind speeds result in a large increase in power.\n",
    "$Power=k.Cp \\frac{1}{2}\\rho AV^3$  where P = power output in kilowatts, Cp = Maximum power coefficient, $\\rho$ is Air density, A = Rotor swept area, V = wind speed in mph, k = 0.000133 a constant to yield power in kilowatts.\n",
    "\n",
    "Additionally the article notes that although the calculation of wind power illustrates important features about wind turbines, the best measure of wind turbine performance is annual energy output. **The difference between power and energy is that power (kilowatts kW) is the rate at which electricity is consumed, while energy (kilowatt-hours kWh) is the quantity consumed.**\n",
    "I'm not sure if this makes a difference here for this project.\n",
    "\n",
    "A blog post [calculating energy production from weather forecast in Python](https://medium.com/planet-os/calculating-energy-production-from-weather-forecast-in-python-3c990047daa) on medium.com use a linear equation to calculate ideal wind production. They do note that modeling results can be enhanced via statistical analysis of hyper-local time series such as meteorological data and energy production data but for this project we do not have any of this data available.\n",
    "Each wind turbine manufacturer provides an ideal energy production curve for their turbines.\n",
    "The article provides a brief overview which is taken from another article [Wind Turbine Power Curve Modeling Using\n",
    "Advanced Parametric and Nonparametric Methods](http://ieeexplore.ieee.org/iel7/5165391/5433168/06894235.pdf):\n",
    "\n",
    "Of particular relevance to this projects is that a typical wind turbine has three main characteristic speeds, the cut-in speeds (Vc), rated speeds (Vr) and cut-out (Vs) speeds.  This helps explain the s-shaped curve we see for this dataset.\n",
    "- The turbine starts generating power when the wind speed reaches the cut-in value.\n",
    "- The rated speed is the wind speed at which the generator is producing the machine’s rated power.\n",
    "- The power generation is shut down to prevent defects and damage when the wind speed reaches the cut-out speed.\n",
    "Also the differences between the ideal power curves which just describe the potentially maximum output versus reality taking into account many factors as well as measurement variations.\n",
    "*In practice, however, wind turbines are never used under ideal conditions, and the empirical power curves could be substantially different from the theoretical ones due to the location of the turbine, air density, wind velocity distribution, wind direction, mechanical and control issues, as well as uncertainties in measurements.* [1234][Wind Turbine Power Curve Modeling Using\n",
    "Advanced Parametric and Nonparametric Methods](http://ieeexplore.ieee.org/iel7/5165391/5433168/06894235.pdf) linked to from the article on medium.com.\n",
    "(I'm just making notes that may be relevant to this project)\n",
    "While the ideal power curves simply describe potentially maximum output, accuracy could be improved by using more accurate accurate weather forecasts or various statistical methods such as machine learning. As in their case we do not have  historical data which we could use for statistical improvements but nor do we have hyper-local forecasts  as we don't know anything about the data.\n",
    "\n",
    "[Using_machine_learning_to_predict_wind_turbine_power_output](https://www.researchgate.net/publication/257748412_Using_machine_learning_to_predict_wind_turbine_power_output)\n",
    "This article notes that real wind turbines do not achieve their theoretical limit as their performance is a function to of aerodynamics and the need to limit power capture once the rated generator power is reached, at ‘rated’ windspeed. \n",
    ">The generator power, turbine diameter and bladeshape are optimized based on site characteristics such as annual average wind speed and the wind speed distribution. \n",
    "\n",
    "Turbine manufacturers measure their turbine’s ‘powercurve’ (the relationship between power output and windspeed) at turbine test sites where it is calculated from 10 min averaged wind speed ($U=\\bar{\\mu}$) and power.\n",
    "*The typical power curves have an s-shape where at wind speeds less than rated the energy capture is approximately proportional to $U^3$ (known as Region II). At wind speeds above rated, the bladepitch and generator torque are actively controlled to limit the power to the generator’s rated power (Region III).*\n",
    "\n",
    "Variations in atmospheric conditions can lead to changes in turbine power output of 10% or more at the same wind speed. Turbulence and shear and not usually used in the power curves as they are considered  difficult to include in turbine power predictions. The article also mentions that because of intermittency in the wind, wind turbines typically produce 20%–40% of their maximum possible output over the course of a year. There is a lot of uncertainty  in predicting power generation from a turbine using local wind speed data. If the amount of energy is overestimated then the site might not be as profitable as expected while underestimating the energy available at a site might lead to a site not being developed at all. This study simulated the aerodynamic forces on the turbines blades and structures using an aerostructuraland simulator and  created 1796 10 minute wind fields from a stochastic turbulence simulator. The data from the wind fields from the simulations were used to form a database of 1796 observations of 10 min average power (the response) as a function of wind speed, turbulence intensity, and shear exponent (the forcing). \n",
    "\n",
    "They binned the power data into 1 m $s^1$ wide bins and included a plot (figure 3 in the article) of the power curve which shows a Region II between 0.3 metres per second and about 11.5 metres per second, region III is from end the end of region II up to 25 which correspond exactly with our dataset.\n",
    "(The power is in kilowatts though with max value of 1500 so maybe I have the wrong metrics here.)\n",
    "\n",
    "Noted that *although the forcing variables are evenly distributed, variance in power is largest near rated wind speed. This sensitivity may result in large variation between predicted power output and observed power output. Furthermore, the mean power generated in simulations that include turbulence is lower than the no-turbulence cases near rated wind speed.*\n",
    "### Will be removing this mostly.\n",
    "#### wind speeds below 8 metres per second, between 7 and 8 metres per second\n",
    "At wind speeds below 8 m $s^{-1}$, power increases with turbulence intensity and shear. The increase in power due to turbulence arises because turbulent flow with mean speed $U$ carries more power than laminar flow of the same $U$. The changes in power output of +/-20% associated with turbulence are approximately half of the change due to a change in wind speed from 7 to 8 $m^{s−1}$.\n",
    "In contrast, at wind speeds just above and below rated speed, increasing turbulence intensity reduces power output as the turbine cannot capture the extra energy that gusts bring, but a short duration slow down to wind speeds below rated results in a loss of energy. As the mean wind speed increases, the total amount of time with the blades pitched toward feather increases and the wind turbine is more often operating at rated power. At wind speeds much greater than rated, larger turbulence intensities are required to reduce the output of the machine to less than rated power, regardless of shear. In Regions II and III, variation in $Ti$ impacts power performance more than variation in $\\alpha$.\n",
    "\n",
    "The article next looked at using machine learning to predict power output under different conditions by incorporating turbulence intensity and wind shear into power prediction tools. They note that the power output from the turbine is not a linear function of wind speed and so linear regression is not an appropriate technique. Non-linear regression assumes that the relationships are constant throughout the model space (i.e. power output is always proportional to $U^n$ ), which is incorrect, so non-linear regression is also inappropriate. Also, as multivariate bins only work where the training data includes data in all bins this would be computationally or observationally more expensive. Instead they chose a machine learning technique `regression trees` for capturing non-linear changes in response to forcing. Regression trees are models that use simple branching question paths to predict an outcome based on inputs. \n",
    "\n",
    "The turbines responds differently to changes in shear and turbulence at different wind speeds. In Region II, at wind speeds below 8 m $s^−1$, power output increases by up to 10% as turbulence increases or as the magnitude of the shear increases. At wind speeds greater than 8 m $s^−1$ and in Region III, the regression tree modeled power is consistent with the simulated power output: power decreases as turbulence intensity increases and shows weak or no dependence on shear.\n",
    "\n",
    "The article concludes:\n",
    ">simulations suggest and the model clearly demonstrates that the response of the turbine is a complex non-linear function of hub height wind speed, turbulence intensity, and rotor disk shear. At wind speeds below rated speed, the turbine power output is most sensitive to changes in wind speed and speed, turbulence. At rated speed, the turbine is most sensitive to turbulence intensity and shear, and power can change by 10% under typical atmospheric conditions. At wind speeds greater than rated, the turbine responds most to changes in turbulence intensity."
   ]
  },
  {
   "cell_type": "markdown",
   "metadata": {},
   "source": [
    "#### Rated wind speeds\n",
    "https://www.sciencedirect.com/topics/engineering/rated-wind-speed \n",
    "https://www.sciencedirect.com/topics/engineering/rated-wind-speed\n",
    "\n",
    "https://www.wind-watch.org/faq-technology.php\n",
    "Here are a few points from this site although the wind turbines are probably not the same turbines as our dataset. \n",
    "The article earlier showed the power curves for different utility-scale wind turbines which all reach higher maximum powers than the values in this dataset. (Using_machine_learning_to_predict_wind_turbine_power_output)(https://www.researchgate.net/publication/257748412_Using_machine_learning_to_predict_wind_turbine_power_output)\n",
    "\n",
    "The cut-in speeds quoted here are in miles per hour. (to convert miles per hour to metres per second divide by 2.237).\n",
    "\n",
    "- Every wind turbine design has a cut-in wind speed, a rated wind speed, and a cut-out wind speed.\n",
    "- At the cut-in wind speed, the blades start to turn and a trickle of electricity starts to be produced. Around cut-in, the generator may be used as a motor to help the wind overcome inertia and start the blades turning.\n",
    "- The cut-in speed is typically 7 to 9 mph. (equivalent to 3.13 to 4.02 meters per second)\n",
    "- At the rated wind speed, the turbine is able to generate electricity at its maximum, or rated, capacity.\n",
    "- The rated speed is usually in the range of 25 to 35 mph. (equivalent to 11.18 to 13.4 metres per second).\n",
    "\n",
    "- At the cut-out wind speed, the turbine shuts down to avoid damage. The pitch controllers feather the blades to let the wind flow past them and the rotor hub is braked. The wind usually has to return to a much lower speed, called the cut-back-in wind speed, for a certain amount of time before the turbine will restart.\n",
    "- The cut-out speed is generally around 55 mph (24.586 metres per second). The cut-back-in speed is around 45 mph (20.12 metres per second).\n",
    "\n",
    "The rated windspeed of a wind turbine is the wind speed at which a turbine hits its maximum “rated\" or “nameplate\" capacity\" power output.\n",
    "https://www.quora.com/What-do-you-mean-by-the-rated-wind-speed-of-the-wind-turbine\n",
    "\n",
    "\n",
    "https://en.wikipedia.org/wiki/Wind_turbine_design\n",
    ">A wind turbine is designed to produce power over a range of wind speeds. The cut-in speed is around 3–4 m/s for most turbines, and cut-out at 25 m/s. If the rated wind speed is exceeded the power has to be limited. There are various ways to achieve this.\n",
    ">All wind turbines are designed for a maximum wind speed, called the survival speed, above which they will be damaged. The survival speed of commercial wind turbines is in the range of 40 m/s (144 km/h, 89 MPH) to 72 m/s (259 km/h, 161 MPH). The most common survival speed is 60 m/s (216 km/h, 134 MPH). Some have been designed to survive 80 metres per second (290 km/h; 180 mph)"
   ]
  },
  {
   "cell_type": "markdown",
   "metadata": {},
   "source": [
    "24 mph or 10.5 m/s and 36 mph or 16 m/s\n",
    "To convert miles per hours to metres per second divide the speed value by 2.237\n",
    "https://www.metric-conversions.org/speed/miles-per-hour-to-meters-per-second.htm"
   ]
  },
  {
   "cell_type": "markdown",
   "metadata": {},
   "source": [
    "#### How does all this tie in with our dataset?\n",
    "\n",
    "The scatter plot of our dataset did show three distinct sections of the curve, the first section at low values of wind speed where the wind turbine values are clustered around zero (including the 10% of observations that have zero power values), the second section where there seems to be a linear trend between wind speed and power output and thirdly the last section where the values of power have reached a peak at higher wind speeds and plateau, and also the outliers here.\n",
    "We would expect to see power being generated when speed is above 3-4 metres per second.\n",
    "Cut out speed at 24-25 metres per second.\n",
    "Cut back in speed after cut out is 20 meters per second.\n"
   ]
  },
  {
   "cell_type": "markdown",
   "metadata": {},
   "source": [
    "Here I am just using clustering for exploratory data analysis, to see if the data is clustered into three regions."
   ]
  },
  {
   "cell_type": "code",
   "execution_count": 23,
   "metadata": {},
   "outputs": [
    {
     "data": {
      "text/plain": [
       "[<matplotlib.lines.Line2D at 0x7f9a28d772e0>]"
      ]
     },
     "execution_count": 23,
     "metadata": {},
     "output_type": "execute_result"
    },
    {
     "data": {
      "image/png": "[encoded data removed]",
      "text/plain": [
       "<Figure size 720x432 with 1 Axes>"
      ]
     },
     "metadata": {},
     "output_type": "display_data"
    }
   ],
   "source": [
    "# Machine learning - KMeans.\n",
    "import sklearn.cluster as skcl\n",
    "x1 = np.array(df.speed)\n",
    "x2 = np.array(df.power)\n",
    "X =  np.vstack([x1, x2]).T\n",
    "X.size \n",
    "# 1000\n",
    "X.shape\n",
    "# (500, 2)\n",
    "# Plots styles.\n",
    "plt.style.use('ggplot')\n",
    "\n",
    "# Plot size.\n",
    "plt.rcParams['figure.figsize'] = (10, 6)\n",
    "# Plot the data set.\n",
    "\n",
    "# Plot the data set.\n",
    "plt.plot(X[:,0], X[:,1], 'x')\n",
    "\n",
    "# Perform kmeans fitting.\n",
    "kmeans = skcl.KMeans(n_clusters=3, random_state=0).fit(X)\n",
    "plt.plot(X[kmeans.labels_ == 0][:,0], X[kmeans.labels_ == 0][:,1], 'gx')\n",
    "plt.plot(X[kmeans.labels_ == 1][:,0], X[kmeans.labels_ == 1][:,1], 'rx')\n",
    "plt.plot(X[kmeans.labels_ == 2][:,0], X[kmeans.labels_ == 2][:,1], 'bx')"
   ]
  },
  {
   "cell_type": "code",
   "execution_count": 24,
   "metadata": {},
   "outputs": [
    {
     "data": {
      "text/html": [
       "<div>\n",
       "<style scoped>\n",
       "    .dataframe tbody tr th:only-of-type {\n",
       "        vertical-align: middle;\n",
       "    }\n",
       "\n",
       "    .dataframe tbody tr th {\n",
       "        vertical-align: top;\n",
       "    }\n",
       "\n",
       "    .dataframe thead th {\n",
       "        text-align: right;\n",
       "    }\n",
       "</style>\n",
       "<table border=\"1\" class=\"dataframe\">\n",
       "  <thead>\n",
       "    <tr style=\"text-align: right;\">\n",
       "      <th></th>\n",
       "      <th>speed</th>\n",
       "      <th>power</th>\n",
       "    </tr>\n",
       "  </thead>\n",
       "  <tbody>\n",
       "    <tr>\n",
       "      <th>count</th>\n",
       "      <td>500.000000</td>\n",
       "      <td>500.000000</td>\n",
       "    </tr>\n",
       "    <tr>\n",
       "      <th>mean</th>\n",
       "      <td>12.590398</td>\n",
       "      <td>48.014584</td>\n",
       "    </tr>\n",
       "    <tr>\n",
       "      <th>std</th>\n",
       "      <td>7.224991</td>\n",
       "      <td>41.614572</td>\n",
       "    </tr>\n",
       "    <tr>\n",
       "      <th>min</th>\n",
       "      <td>0.000000</td>\n",
       "      <td>0.000000</td>\n",
       "    </tr>\n",
       "    <tr>\n",
       "      <th>25%</th>\n",
       "      <td>6.324750</td>\n",
       "      <td>5.288000</td>\n",
       "    </tr>\n",
       "    <tr>\n",
       "      <th>50%</th>\n",
       "      <td>12.550500</td>\n",
       "      <td>41.645500</td>\n",
       "    </tr>\n",
       "    <tr>\n",
       "      <th>75%</th>\n",
       "      <td>18.775250</td>\n",
       "      <td>93.537000</td>\n",
       "    </tr>\n",
       "    <tr>\n",
       "      <th>max</th>\n",
       "      <td>25.000000</td>\n",
       "      <td>113.556000</td>\n",
       "    </tr>\n",
       "  </tbody>\n",
       "</table>\n",
       "</div>"
      ],
      "text/plain": [
       "            speed       power\n",
       "count  500.000000  500.000000\n",
       "mean    12.590398   48.014584\n",
       "std      7.224991   41.614572\n",
       "min      0.000000    0.000000\n",
       "25%      6.324750    5.288000\n",
       "50%     12.550500   41.645500\n",
       "75%     18.775250   93.537000\n",
       "max     25.000000  113.556000"
      ]
     },
     "execution_count": 24,
     "metadata": {},
     "output_type": "execute_result"
    }
   ],
   "source": [
    "df.describe()"
   ]
  },
  {
   "cell_type": "code",
   "execution_count": 25,
   "metadata": {},
   "outputs": [
    {
     "data": {
      "text/html": [
       "<div>\n",
       "<style scoped>\n",
       "    .dataframe tbody tr th:only-of-type {\n",
       "        vertical-align: middle;\n",
       "    }\n",
       "\n",
       "    .dataframe tbody tr th {\n",
       "        vertical-align: top;\n",
       "    }\n",
       "\n",
       "    .dataframe thead th {\n",
       "        text-align: right;\n",
       "    }\n",
       "</style>\n",
       "<table border=\"1\" class=\"dataframe\">\n",
       "  <thead>\n",
       "    <tr style=\"text-align: right;\">\n",
       "      <th></th>\n",
       "      <th>speed</th>\n",
       "      <th>power</th>\n",
       "    </tr>\n",
       "  </thead>\n",
       "  <tbody>\n",
       "    <tr>\n",
       "      <th>499</th>\n",
       "      <td>25.000</td>\n",
       "      <td>0.0</td>\n",
       "    </tr>\n",
       "    <tr>\n",
       "      <th>498</th>\n",
       "      <td>24.950</td>\n",
       "      <td>0.0</td>\n",
       "    </tr>\n",
       "    <tr>\n",
       "      <th>497</th>\n",
       "      <td>24.875</td>\n",
       "      <td>0.0</td>\n",
       "    </tr>\n",
       "    <tr>\n",
       "      <th>496</th>\n",
       "      <td>24.850</td>\n",
       "      <td>0.0</td>\n",
       "    </tr>\n",
       "    <tr>\n",
       "      <th>495</th>\n",
       "      <td>24.775</td>\n",
       "      <td>0.0</td>\n",
       "    </tr>\n",
       "  </tbody>\n",
       "</table>\n",
       "</div>"
      ],
      "text/plain": [
       "      speed  power\n",
       "499  25.000    0.0\n",
       "498  24.950    0.0\n",
       "497  24.875    0.0\n",
       "496  24.850    0.0\n",
       "495  24.775    0.0"
      ]
     },
     "execution_count": 25,
     "metadata": {},
     "output_type": "execute_result"
    }
   ],
   "source": [
    "df.sort_values(by='speed', ascending=False).head()"
   ]
  },
  {
   "cell_type": "raw",
   "metadata": {},
   "source": [
    "# show the unique values\n",
    "df.speed.unique()\n",
    "# a count of the unique speed values\n",
    "df.speed.value_counts() # 490\n",
    "# a count of the unique power values\n",
    "df.power.value_counts() # 451"
   ]
  },
  {
   "cell_type": "code",
   "execution_count": 26,
   "metadata": {},
   "outputs": [
    {
     "data": {
      "text/plain": [
       "500"
      ]
     },
     "execution_count": 26,
     "metadata": {},
     "output_type": "execute_result"
    }
   ],
   "source": [
    "len(df.groupby('speed')) # 490\n",
    "df.groupby('speed')['power'].agg(['count', 'size', 'nunique'])\n",
    "len(df.groupby('power')) # 451\n",
    "\n",
    "df.groupby('power')['speed'].agg(['count', 'size', 'nunique'])\n",
    "len(df[['speed', 'power']].drop_duplicates()) # 490"
   ]
  },
  {
   "cell_type": "markdown",
   "metadata": {},
   "source": [
    "### Zero values\n",
    "#### Where do the zero values occur?\n",
    "- There are 49 datapoints where power value is zero\n",
    "- There is only 1 datapoint where speed value is zero (also power)\n",
    "- Ten speed values over 24.4 metres per hour with a corresponding power value of zero\n",
    "- There are no data points with speeds above 24.4 and power not equal to zero\n",
    "- Eight data points where speed is less than 8 metres per second and power value is zero\n",
    "- Four datapoints where speed is greater than 8 and less than 24.4 metres per second and corresponding power values are zero\n",
    "- 24 datapoints where speed is less than 4 metres per second and power is zero"
   ]
  },
  {
   "cell_type": "code",
   "execution_count": 27,
   "metadata": {
    "scrolled": false
   },
   "outputs": [
    {
     "name": "stdout",
     "output_type": "stream",
     "text": [
      "speed    1\n",
      "power    1\n",
      "dtype: int64\n"
     ]
    }
   ],
   "source": [
    "# the rows where both values are zer0\n",
    "print(df[(df['speed']==0) & (df['power']==0)].count()) # only 1"
   ]
  },
  {
   "cell_type": "markdown",
   "metadata": {},
   "source": [
    "#### 49 observations with zero power values"
   ]
  },
  {
   "cell_type": "code",
   "execution_count": 28,
   "metadata": {},
   "outputs": [
    {
     "data": {
      "text/plain": [
       "speed    49\n",
       "power    49\n",
       "dtype: int64"
      ]
     },
     "execution_count": 28,
     "metadata": {},
     "output_type": "execute_result"
    }
   ],
   "source": [
    "df[df.power==0].count()"
   ]
  },
  {
   "cell_type": "markdown",
   "metadata": {},
   "source": [
    "#### Cut-in speeds between 3 and 4 metres per second\n",
    "The cut-in speed is typically 7 to 9 mph. (equivalent to 3.13 to 4.02 meters per second).\n",
    "- 17 observations where speed is less than 3 metres per second"
   ]
  },
  {
   "cell_type": "code",
   "execution_count": 29,
   "metadata": {},
   "outputs": [
    {
     "name": "stdout",
     "output_type": "stream",
     "text": [
      "Zero power values where speed is below 3 metres per second:\n",
      "speed    17\n",
      "power    17\n",
      "dtype: int64\n",
      "Zero power values where speed is between 3 and 4 metres per second:\n",
      "speed    7\n",
      "power    7\n",
      "dtype: int64\n",
      "Zero power values where speed is between 4 and 7 metres per second:\n",
      "speed    9\n",
      "power    9\n",
      "dtype: int64\n",
      "Zero power values where speed is between 7 and 24.4 metres per second:\n",
      "speed    6\n",
      "power    6\n",
      "dtype: int64\n",
      "Zero power values where speed is above 24.4 metres per second:\n",
      "speed    10\n",
      "power    10\n",
      "dtype: int64\n"
     ]
    }
   ],
   "source": [
    "print(f\"Zero power values where speed is below 3 metres per second:\\n{df[(df.speed <3) & (df.power==0.0)].count()}\")\n",
    "print(f\"Zero power values where speed is between 3 and 4 metres per second:\\n{df[(df.speed >3) & (df.speed <4) & (df.power==0.0)].count()}\")\n",
    "print(f\"Zero power values where speed is between 4 and 7 metres per second:\\n{df[(df.speed >4) & (df.speed<7) & (df.power==0.0)].count()}\")\n",
    "print(f\"Zero power values where speed is between 7 and 24.4 metres per second:\\n{df[(df.speed >7) & (df.speed<24.4) & (df.power==0.0)].count()}\")\n",
    "print(f\"Zero power values where speed is above 24.4 metres per second:\\n{df[(df.speed>24.4) & (df.power==0.0)].count()}\")"
   ]
  },
  {
   "cell_type": "markdown",
   "metadata": {},
   "source": [
    "#### Non-zero power values where speed is less than 3 metres per second:\n",
    "There are 39 observations where speed is less than the cut-in speed (of between 3 and 4 metres per second) and the corresponding power value is greater than zero. I think these are the tricky ones to predict. There was mention in the one of the articles referenced earlier that while sometimes there might not be enough wind to turn a turbine, the wind energy is not lost as the wind energy can be stored in energy storage systems for later use whenever wind levels are low."
   ]
  },
  {
   "cell_type": "code",
   "execution_count": 30,
   "metadata": {},
   "outputs": [
    {
     "data": {
      "text/plain": [
       "speed    17\n",
       "power    17\n",
       "dtype: int64"
      ]
     },
     "execution_count": 30,
     "metadata": {},
     "output_type": "execute_result"
    }
   ],
   "source": [
    "df[(df.speed < 3) & (df.power>0.0)].count() # 39\n",
    "df[(df.speed < 3) & (df.power==0.0)].count() # 17\n"
   ]
  },
  {
   "cell_type": "code",
   "execution_count": 31,
   "metadata": {},
   "outputs": [
    {
     "data": {
      "text/plain": [
       "speed    24\n",
       "power    24\n",
       "dtype: int64"
      ]
     },
     "execution_count": 31,
     "metadata": {},
     "output_type": "execute_result"
    }
   ],
   "source": [
    "df[(df.speed < 4) & (df.power>0.0)].count() # 56\n",
    "df[(df.speed < 4) & (df.power==0.0)].count() # 24"
   ]
  },
  {
   "cell_type": "markdown",
   "metadata": {},
   "source": [
    "#### Rated speed\n",
    "At the rated wind speed, the turbine is able to generate electricity at its maximum, or rated, capacity.\n",
    "The rated speed is usually in the range of 25 to 35 mph. (equivalent to 11.18 to 13.4 metres per second).\n",
    "This is based on the research above but we don't know the details of the actual wind turbines being used here.\n",
    "The rated speed for the turbines in this dataset must be greated than this range as they do not reach their maximum capacity until wind speed is greater than 15 metres per second.\n",
    "The max power value in the dataset is 113.556 kws but there are very few observations in the dataset where power is greater than 110. The power curve for this dataset shows the power values levelling off in and around values between 90 and 100. I need to blow the plot up some more to see the exact values.\n",
    "\n",
    "\n"
   ]
  },
  {
   "cell_type": "markdown",
   "metadata": {},
   "source": [
    "#### Power values greater than 100\n",
    "- 31 power values between 80 and 90\n",
    "- 95 power values between 90 and 100\n",
    "- 55  between 100 and 110"
   ]
  },
  {
   "cell_type": "code",
   "execution_count": 32,
   "metadata": {},
   "outputs": [
    {
     "name": "stdout",
     "output_type": "stream",
     "text": [
      "Data points where power is between 80 and 90:\n",
      "speed    31\n",
      "power    31\n",
      "dtype: int64\n",
      "Data points where power is between 90 and 100:\n",
      "speed    95\n",
      "power    95\n",
      "dtype: int64\n",
      "Data points where power is between 100 and 110:\n",
      "speed    55\n",
      "power    55\n",
      "dtype: int64\n",
      "Data points where power greater than 110:\n",
      "speed    2\n",
      "power    2\n",
      "dtype: int64\n"
     ]
    }
   ],
   "source": [
    "print(f\"Data points where power is between 80 and 90:\\n{df[(df.power>80)&(df.power<90)].count()}\")\n",
    "print(f\"Data points where power is between 90 and 100:\\n{df[(df.power>90)&(df.power<100)].count()}\")\n",
    "print(f\"Data points where power is between 100 and 110:\\n{df[(df.power>100)&(df.power<110)].count()}\")\n",
    "print(f\"Data points where power greater than 110:\\n{df[(df.power>110)].count()}\")"
   ]
  },
  {
   "cell_type": "code",
   "execution_count": 33,
   "metadata": {},
   "outputs": [
    {
     "data": {
      "text/plain": [
       "speed    57\n",
       "power    57\n",
       "dtype: int64"
      ]
     },
     "execution_count": 33,
     "metadata": {},
     "output_type": "execute_result"
    }
   ],
   "source": [
    "df[df.power>100].count()"
   ]
  },
  {
   "cell_type": "code",
   "execution_count": 34,
   "metadata": {},
   "outputs": [
    {
     "data": {
      "text/plain": [
       "speed    49\n",
       "power    49\n",
       "dtype: int64"
      ]
     },
     "execution_count": 34,
     "metadata": {},
     "output_type": "execute_result"
    }
   ],
   "source": [
    "df[(df.speed >11) & (df.speed< 13.4)].count()"
   ]
  },
  {
   "cell_type": "markdown",
   "metadata": {},
   "source": [
    "#### Cut-out speeds for safety reasons\n",
    "At the cut-out wind speed, the turbine shuts down to avoid damage.\n",
    "There are 10 observations that fall into the cut-out speed range.\n",
    "There are no datapoints where speed is above the cut-out speed value where power is not zero."
   ]
  },
  {
   "cell_type": "code",
   "execution_count": 35,
   "metadata": {},
   "outputs": [
    {
     "name": "stdout",
     "output_type": "stream",
     "text": [
      "Speed values above 24.4 metres per second:\n",
      "speed    10\n",
      "power    10\n",
      "dtype: int64\n",
      "Zero power values where speed is above 24.4 metres per second:\n",
      "speed    10\n",
      "power    10\n",
      "dtype: int64\n"
     ]
    }
   ],
   "source": [
    "# there are no points in the dataset where speed is greater than 24.4 and power value is not zero\n",
    "print(f\"Speed values above 24.4 metres per second:\\n{df[df.speed>24.4].count()}\") # \n",
    "print(f\"Zero power values where speed is above 24.4 metres per second:\\n{df[(df.speed > 24.4) & (df.power==0.0)].count()}\")"
   ]
  },
  {
   "cell_type": "markdown",
   "metadata": {},
   "source": [
    "#### Speeds between 7 and 8 metres per second:"
   ]
  },
  {
   "cell_type": "code",
   "execution_count": 36,
   "metadata": {},
   "outputs": [
    {
     "data": {
      "text/plain": [
       "speed    2\n",
       "power    2\n",
       "dtype: int64"
      ]
     },
     "execution_count": 36,
     "metadata": {},
     "output_type": "execute_result"
    }
   ],
   "source": [
    "df[(df.speed >7) & (df.speed < 8) & (df.power==0.0)].count()"
   ]
  },
  {
   "cell_type": "markdown",
   "metadata": {},
   "source": [
    "### Dealing with zero values\n"
   ]
  },
  {
   "cell_type": "markdown",
   "metadata": {},
   "source": [
    "\n",
    "After initially trying out the neural network using the complete dataset, the cost did not fall below a certain value and the resulting plots suggested that keeping the zero power values in for the very high values of speed were affecting the calculations. The research showed that there is a cut-out speed between 24 and 25 metres per second for safety reasons.  At the cut-out wind speed, the turbine shuts down to avoid damage. This is enough to justify excluding these observations as we can predict that the power output will be zero when the wind speed exceeds this cut out value. There are only ten observations in the dataset that fall into this range.\n",
    "We can only predict values for power when the turbines are turned on and therefore maybe the model should only be predicting for values of speed where the turbine is on! \n",
    "\n",
    "While there is only one zero value for the speed variable, there are 49 zero values for the power variable. These mostly occur below a certain value of speed but located alongside non-zero power values and there are a few that are associated with medium and higher speed values of speed. Most of the data points in the dataset are unique values. The one datapoint with a zero speed value has a zero power value as expected.\n",
    "\n",
    "Summary of where the zero power values occur:\n",
    "- 17 where speed is less than 3 metres per second\n",
    "- 7 where speed is between 3 and 4 metres per second. This is the cut-in speed\n",
    "- 9 where speed lies between 4 and 7\n",
    "- 6 where speed is between 7 and 24.4\n",
    "- 10 where speed is above 24.4 metres per second. This is the cut-out value.\n",
    "\n",
    "For now I will drop all observations where speed is greater than the cut-out value of 24.4. \n",
    "I will also drop the observations above the cut-in speed of between 3 and 4 metres per second.\n",
    "I will leave in all the observations where speed is less than the cut-in speed including the zero values.\n",
    "(Wind turbines generate electricity at wind speeds of 4 – 25 metres per second [123]Wind Energy Basics)\n",
    "\n",
    "This means that for now I am dropping 25 observations from the dataset where the power values are zero.\n",
    "Ten observations where the wind speed is greater than the cut-off value; the corresponding power is zero as the turbines are off.\n",
    "Fifteen observations where wind speed is greater than the cut-in and less than the cut-out and the power is zero. Assume these represent points where the turbines are turned off for maintenance or other reasons."
   ]
  },
  {
   "cell_type": "code",
   "execution_count": 37,
   "metadata": {},
   "outputs": [],
   "source": [
    "#https://pandas.pydata.org/pandas-docs/stable/reference/api/pandas.DataFrame.drop.html\n",
    "# https://thispointer.com/python-pandas-how-to-drop-rows-in-dataframe-by-conditions-on-column-values/\n",
    "#df.drop(df.loc[(df.speed>24.4)].index, inplace=True)"
   ]
  },
  {
   "cell_type": "code",
   "execution_count": 38,
   "metadata": {},
   "outputs": [],
   "source": [
    "# make a copy of the dataframe\n",
    "dfx = df.copy()"
   ]
  },
  {
   "cell_type": "code",
   "execution_count": 39,
   "metadata": {},
   "outputs": [
    {
     "data": {
      "text/plain": [
       "speed    25\n",
       "power    25\n",
       "dtype: int64"
      ]
     },
     "execution_count": 39,
     "metadata": {},
     "output_type": "execute_result"
    }
   ],
   "source": [
    "dfx.loc[(dfx.speed > 4)&(dfx.power == 0)].count()"
   ]
  },
  {
   "cell_type": "code",
   "execution_count": 40,
   "metadata": {},
   "outputs": [],
   "source": [
    "dfx.drop(dfx.loc[(df.speed > 4)&(dfx.power == 0)].index, inplace=True)"
   ]
  },
  {
   "cell_type": "code",
   "execution_count": 41,
   "metadata": {},
   "outputs": [
    {
     "data": {
      "text/html": [
       "<div>\n",
       "<style scoped>\n",
       "    .dataframe tbody tr th:only-of-type {\n",
       "        vertical-align: middle;\n",
       "    }\n",
       "\n",
       "    .dataframe tbody tr th {\n",
       "        vertical-align: top;\n",
       "    }\n",
       "\n",
       "    .dataframe thead th {\n",
       "        text-align: right;\n",
       "    }\n",
       "</style>\n",
       "<table border=\"1\" class=\"dataframe\">\n",
       "  <thead>\n",
       "    <tr style=\"text-align: right;\">\n",
       "      <th></th>\n",
       "      <th>speed</th>\n",
       "      <th>power</th>\n",
       "    </tr>\n",
       "  </thead>\n",
       "  <tbody>\n",
       "    <tr>\n",
       "      <th>count</th>\n",
       "      <td>475.000000</td>\n",
       "      <td>475.000000</td>\n",
       "    </tr>\n",
       "    <tr>\n",
       "      <th>mean</th>\n",
       "      <td>12.440971</td>\n",
       "      <td>50.541667</td>\n",
       "    </tr>\n",
       "    <tr>\n",
       "      <th>std</th>\n",
       "      <td>7.101231</td>\n",
       "      <td>41.171815</td>\n",
       "    </tr>\n",
       "    <tr>\n",
       "      <th>min</th>\n",
       "      <td>0.000000</td>\n",
       "      <td>0.000000</td>\n",
       "    </tr>\n",
       "    <tr>\n",
       "      <th>25%</th>\n",
       "      <td>6.293500</td>\n",
       "      <td>6.737500</td>\n",
       "    </tr>\n",
       "    <tr>\n",
       "      <th>50%</th>\n",
       "      <td>12.538000</td>\n",
       "      <td>47.282000</td>\n",
       "    </tr>\n",
       "    <tr>\n",
       "      <th>75%</th>\n",
       "      <td>18.531500</td>\n",
       "      <td>94.017500</td>\n",
       "    </tr>\n",
       "    <tr>\n",
       "      <th>max</th>\n",
       "      <td>24.399000</td>\n",
       "      <td>113.556000</td>\n",
       "    </tr>\n",
       "  </tbody>\n",
       "</table>\n",
       "</div>"
      ],
      "text/plain": [
       "            speed       power\n",
       "count  475.000000  475.000000\n",
       "mean    12.440971   50.541667\n",
       "std      7.101231   41.171815\n",
       "min      0.000000    0.000000\n",
       "25%      6.293500    6.737500\n",
       "50%     12.538000   47.282000\n",
       "75%     18.531500   94.017500\n",
       "max     24.399000  113.556000"
      ]
     },
     "execution_count": 41,
     "metadata": {},
     "output_type": "execute_result"
    }
   ],
   "source": [
    "dfx.describe()"
   ]
  },
  {
   "cell_type": "code",
   "execution_count": 42,
   "metadata": {},
   "outputs": [
    {
     "data": {
      "image/png": "[encoded data removed]",
      "text/plain": [
       "<Figure size 720x432 with 1 Axes>"
      ]
     },
     "metadata": {},
     "output_type": "display_data"
    }
   ],
   "source": [
    "\n",
    "x = \"speed\"\n",
    "y = \"power\"\n",
    "\n",
    "sns.regplot(x=\"speed\", y=\"power\", data=dfx, order=4, label=\"order =3\", ci=False)\n",
    "\n",
    "plt.suptitle(\"Trying higher order polynomial regression functions to Speed and Power values\")\n",
    "plt.show()"
   ]
  },
  {
   "cell_type": "markdown",
   "metadata": {},
   "source": []
  },
  {
   "cell_type": "markdown",
   "metadata": {},
   "source": [
    "# Machine Learning.\n",
    "\n",
    "Here I am going to start looking at applying some machine learning algorithms to the dataset. \n",
    "\n",
    "The goal of the project is to predict wind power from wind speed and therefore this problem falls into supervised learning. \n",
    ">Supervised learning is where you have input variables (x) and an output variable (Y) and you use an algorithm to learn the mapping function from the input to the output [Machine Learning Mastery](https://machinelearningmastery.com/supervised-and-unsupervised-machine-learning-algorithms/) which is precisely what we have been asked to do here.\n",
    "\n",
    "The algorithms I will start looking at are as follows:\n",
    "\n",
    "- Regression: Predicting a continuous-valued attribute associated with an object.\n",
    "I had a look at the regression plots earlier, simple linear regression does not adequately model the relationship between the wind and speed values over the entire dataset while higher order polynomials captured more of the relationship. The simple linear model clearly underfit the data. The correlation statistics did show a high correlation between the variables with a value of 0.853778 but this doesn't mean the relationship is linear.\n",
    "There were large sections of the dataset that were either under the regression line or above the regression line.\n",
    "The higher order polynomials did not fit the data perfectly though. The cubic polynomial fits the data better and the fourth order polynomial does seem to be even better for the datapoints at the lower end.\n",
    "Now that some of the zero values have been removed I will look at fitting a curve again using a higher order polynomial. The numpy polyfit function can be used for this or alternatively scipy curve_fit function or scikit-learns polynomial regression. \n",
    "Actually I'm leaving this out for now and just including the neural networks.\n",
    "\n",
    "https://scikit-learn.org/stable/modules/linear_model.html#polynomial-regression-extending-linear-models-with-basis-functions"
   ]
  },
  {
   "cell_type": "markdown",
   "metadata": {},
   "source": []
  },
  {
   "cell_type": "markdown",
   "metadata": {},
   "source": []
  },
  {
   "cell_type": "markdown",
   "metadata": {},
   "source": [
    "Machine learning is the science of getting computers to act without being explicitly programmed.\n",
    "- https://www.investopedia.com/terms/n/neuralnetwork.asp#:~:text=A%20neural%20network%20is%20a,organic%20or%20artificial%20in%20nature.\n",
    "- https://en.wikipedia.org/wiki/Artificial_neural_network\n",
    "\n",
    "- https://news.mit.edu/2017/explained-neural-networks-deep-learning-0414\n",
    "\n",
    ">Neural nets are a means of doing machine learning, in which a computer learns to perform some task by analyzing training examples.\n",
    ">Modeled loosely on the human brain, a neural net consists of thousands or even millions of simple processing nodes that are densely interconnected. Most of today’s neural nets are organized into layers of nodes, and they’re “feed-forward,” meaning that data moves through them in only one direction. An individual node might be connected to several nodes in the layer beneath it, from which it receives data, and several nodes in the layer above it, to which it sends data.\n",
    ">To each of its incoming connections, a node will assign a number known as a “weight.” When the network is active, the node receives a different data item — a different number — over each of its connections and multiplies it by the associated weight. It then adds the resulting products together, yielding a single number. If that number is below a threshold value, the node passes no data to the next layer. If the number exceeds the threshold value, the node “fires,” which in today’s neural nets generally means sending the number — the sum of the weighted inputs — along all its outgoing connections.\n",
    "When a neural net is being trained, all of its weights and thresholds are initially set to random values. Training data is fed to the bottom layer — the input layer — and it passes through the succeeding layers, getting multiplied and added together in complex ways, until it finally arrives, radically transformed, at the output layer. During training, the weights and thresholds are continually adjusted until training data with the same labels consistently yield similar outputs.\n",
    "[Mit News](https://news.mit.edu/2017/explained-neural-networks-deep-learning-0414)[nn1]"
   ]
  },
  {
   "cell_type": "markdown",
   "metadata": {},
   "source": [
    "## Machine Learning - Neural Networks\n",
    "\n",
    "Here I will go through the lecture notes first and apply some of the techniques.\n",
    "Some notes from the lectures:\n",
    "A dataset contains variables, some inputs and outputs. Categorical data, text and image data must first be encoded into floating point numbers. Outputs can be reverse decoded later. Weights are applied to each connection between layers, low weights near 0 meaning that the route is not important while higher values mean this route is important. \n",
    "Some of the dataset can be held back for testing. \n",
    "Neural networks have several layers. The input layer is really a non-layer of neurons with just the inputs. You just provide the input layer to the neural network and this is really the only place the input comes into it.\n",
    "\n",
    "The hidden layers and output layers have proper neurons.\n",
    "The weights and bias are the paramters of the model, you can tweak them to get the neural network to perform better. Often the initial weights might be set to small random values between 0 and 1. \n",
    "Neural networks cares more about the connections between the nodes than the actual nodes themselves. Looks at the signal times the weights for each of the inputs. `w * x` for each input. \n",
    "\n",
    "The bias significes how important something is and is just a number on top of weight times input for each neuron. \n",
    "With neural networks you want to get a high value assigned to the correct output. If the neural network misclassifies an output label then you just feed it back into the algorithm, the weights are changed a little so that the correct output is predicted the next time. It will keep changing until it gets the correct output. \n",
    "Starts out with random values for the weights. These are updated slowly over time to get towards the expected output.\n",
    "\n",
    "\n",
    "Gradient descent is the algorithm through which the weights are updated. Stochastic gradient descent (`sgd`).\n",
    "Each output from each neuron is the same but when the different weights are applied, what is received by the nodes in the next layer are different to what left the nodes on the previous layer.\n",
    "The loss is the cost function, often the MSE mean squared error.\n",
    "\n",
    "A linear function y = x is just a simple function where you give it a single input and expect the same output.\n",
    "\n",
    "Once the neural network is trained and is stable, you can then take a new input, a new datapoint it was not trained on and the neural network should correctly classify it.\n",
    "the complexity in neural networks comes from the number of operations involved especially when there are many layers.\n",
    "\n",
    "---\n",
    "\n",
    "https://machinelearningmastery.com/tensorflow-tutorial-deep-learning-with-tf-keras/\n",
    "Taking notes from another machine learning mastery tutorial.\n",
    "\n",
    "### The 5-step Deep Learning Model Life-Cycle\n",
    "A model has a life-cycle with 5 steps:\n",
    "1. Define the model: \n",
    "Select the type of model and choose the architecture or network topology. Define the number of layers, configure each layer with a number of nodes and activation function, connect the layers together into a cohesive model.\n",
    "\n",
    "2. Compile the model\n",
    "\n",
    "    * This requires selecting a **loss function** that you want to optimise such as mean squared error and to select an algorithm to perform the **optimisation** procedure such as stochastic gradient descent or a modern variation of this called Adam. Also you can select the **performance metrics**  to keep track of during the model training process.\n",
    "    * Call a function to compile the model with the selected configuration to prepare the appropriate data structures required for the efficient use of the selected model. \n",
    "    * The optimizer can be specified as a string for a known optimizer class such as `sgd` for stochastic gradient descent or else you can configure an instance of the optimizer class to use. See [optimizer classes](https://www.tensorflow.org/api_docs/python/tf/keras/optimizers).\n",
    "\n",
    "    * `sgd` - Gradient descent (with momentum) optimizer. The default learning rate is 0.01\n",
    "    The update rule is ` w = w - learning_rate * g` for parameter `w` with  gradient `g` when momentum is 0.\n",
    "    * \n",
    "\n",
    "    *Adam optimization is a stochastic gradient descent method that is based on adaptive estimation of first-order and second-order moments.* [Tensorflow](https://www.tensorflow.org/api_docs/python/tf/keras/optimizers/Adam]\n",
    "    *  The `learning_rate` defaults to 0.001 in the Adam optimizer. \n",
    "\n",
    "    - Loss Functions: class MeanSquaredError: Computes the mean of squares of errors between labels and predictions.\n",
    "    The mean squared error is the one I will be using. There are many more listed in the [keras losses](https://www.tensorflow.org/api_docs/python/tf/keras/losses) documentation.\n",
    "    \n",
    "    * Metrics to evaluate predictions such as `Accuracy`  which calculates how often predictions equal labels, `AUC` computes the approximate area under the curve,  `FalseNegatives` which calculates the number of false negatives and `FalsePositives` calculates the number of false positives, `Precision` computes the precision of the predictions with respect to the labels. \n",
    "    There are many more [metrics](https://www.tensorflow.org/api_docs/python/tf/keras/metrics) which I will come back when I get to that point...\n",
    "\n",
    "3. Fit the model\n",
    "\n",
    "To fit the model you need to select the training configuration such as the number of epochs which are loops through the training dataset. The batch size is the number of samples in an epoch used to estimate model error.\n",
    "(By passing in say 10 at a time instead of 1 at a time can have a smoothing effect)\n",
    "\n",
    "Training applies the chosen optimization algorithm to minimize the chosen loss function and updates the model using the backpropagation of error algorithm. This can be slow depending on the complexity of the model, the size of the training dataset and the hardware being used.\n",
    "\n",
    "There is another machine learning article here on [the importance of batch sizes](https://machinelearningmastery.com/how-to-control-the-speed-and-stability-of-training-neural-networks-with-gradient-descent-batch-size/)\n",
    "\n",
    "\n",
    "\n",
    "4. Evaluate the model\n",
    "\n",
    "This is where the holdout dataset comes into play, data that is not used in the training of the model so you can get an unbiased estimate of the performance of the model when making predictions on new data.\n",
    "\n",
    "5. Make predictions\n",
    "This is the final stage of the life cycle where you take values that you don't have target values and make a prediction.\n",
    "\n",
    "### Sequential model\n",
    "A **sequential** model adds layers to the model one by one in a linear manner, from input to output.\n",
    "    The visible layer of the network is defined by the input shape argument on the first hidden layer. In the wind dataset this will be `(1,)` - the model will expect the input for one sample to be a vector of 1 number.\n",
    "`model.add()` is used to add each layer.\n",
    "\n",
    "There is also a functional model which is more complex but more flexible. It involves explicitly connecting the output of one layer to the input of another layer. Each connection is specified. I will be using the sequential model for this project.\n",
    "\n",
    "###  Develop Multilayer Perceptron Models\n",
    "\n",
    "A Multilayer Perceptron model (MLP)is a standard fully connected neural network model. It is made up of one or more (dense) layers of nodes where each node is connected to all outputs from the previous layer and the output of each node is connected to all the inputs for the nodes in the next layer. This model is suitable for tabular data and can be used for three predictive modeling problems being binary classification, multiclass classification, and regression. \n",
    "The tutorial demostrates using MLP for each of the three predictive modeling problems.\n",
    "\n"
   ]
  },
  {
   "cell_type": "markdown",
   "metadata": {},
   "source": [
    "### Import required packages"
   ]
  },
  {
   "cell_type": "code",
   "execution_count": 43,
   "metadata": {},
   "outputs": [
    {
     "name": "stdout",
     "output_type": "stream",
     "text": [
      "2.4.0\n"
     ]
    }
   ],
   "source": [
    "# Neural networks.\n",
    "import tensorflow.keras as kr\n",
    "print(kr.__version__)\n",
    "\n",
    "# Numerical arrays\n",
    "import numpy as np\n",
    "\n",
    "# Data frames.\n",
    "import pandas as pd\n",
    "\n",
    "# Plotting\n",
    "import matplotlib.pyplot as plt\n",
    "# splitting the data into training and test \n",
    "from sklearn.model_selection import train_test_split\n",
    "\n"
   ]
  },
  {
   "cell_type": "markdown",
   "metadata": {},
   "source": [
    "### The data:"
   ]
  },
  {
   "cell_type": "code",
   "execution_count": 44,
   "metadata": {},
   "outputs": [],
   "source": [
    "# mlp for regression\n",
    "from numpy import sqrt\n",
    "from pandas import read_csv\n",
    "# https://scikit-learn.org/stable/modules/generated/sklearn.model_selection.train_test_split.html#sklearn.model_selection.train_test_split\n",
    "from sklearn.model_selection import train_test_split\n",
    "from tensorflow.keras import Sequential\n",
    "from tensorflow.keras.layers import Dense\n",
    "path = 'https://raw.githubusercontent.com/ianmcloughlin/2020A-machstat-project/master/dataset/powerproduction.csv'\n",
    "data = dfx"
   ]
  },
  {
   "cell_type": "code",
   "execution_count": 45,
   "metadata": {},
   "outputs": [],
   "source": [
    "# already done this in dfx\n",
    "# drop some of the outliers\n",
    "#df.drop(df.loc[(df.speed>24.4)].index, inplace=True)"
   ]
  },
  {
   "cell_type": "code",
   "execution_count": 46,
   "metadata": {},
   "outputs": [
    {
     "data": {
      "text/html": [
       "<div>\n",
       "<style scoped>\n",
       "    .dataframe tbody tr th:only-of-type {\n",
       "        vertical-align: middle;\n",
       "    }\n",
       "\n",
       "    .dataframe tbody tr th {\n",
       "        vertical-align: top;\n",
       "    }\n",
       "\n",
       "    .dataframe thead th {\n",
       "        text-align: right;\n",
       "    }\n",
       "</style>\n",
       "<table border=\"1\" class=\"dataframe\">\n",
       "  <thead>\n",
       "    <tr style=\"text-align: right;\">\n",
       "      <th></th>\n",
       "      <th>speed</th>\n",
       "      <th>power</th>\n",
       "    </tr>\n",
       "  </thead>\n",
       "  <tbody>\n",
       "    <tr>\n",
       "      <th>count</th>\n",
       "      <td>475.000000</td>\n",
       "      <td>475.000000</td>\n",
       "    </tr>\n",
       "    <tr>\n",
       "      <th>mean</th>\n",
       "      <td>12.440971</td>\n",
       "      <td>50.541667</td>\n",
       "    </tr>\n",
       "    <tr>\n",
       "      <th>std</th>\n",
       "      <td>7.101231</td>\n",
       "      <td>41.171815</td>\n",
       "    </tr>\n",
       "    <tr>\n",
       "      <th>min</th>\n",
       "      <td>0.000000</td>\n",
       "      <td>0.000000</td>\n",
       "    </tr>\n",
       "    <tr>\n",
       "      <th>25%</th>\n",
       "      <td>6.293500</td>\n",
       "      <td>6.737500</td>\n",
       "    </tr>\n",
       "    <tr>\n",
       "      <th>50%</th>\n",
       "      <td>12.538000</td>\n",
       "      <td>47.282000</td>\n",
       "    </tr>\n",
       "    <tr>\n",
       "      <th>75%</th>\n",
       "      <td>18.531500</td>\n",
       "      <td>94.017500</td>\n",
       "    </tr>\n",
       "    <tr>\n",
       "      <th>max</th>\n",
       "      <td>24.399000</td>\n",
       "      <td>113.556000</td>\n",
       "    </tr>\n",
       "  </tbody>\n",
       "</table>\n",
       "</div>"
      ],
      "text/plain": [
       "            speed       power\n",
       "count  475.000000  475.000000\n",
       "mean    12.440971   50.541667\n",
       "std      7.101231   41.171815\n",
       "min      0.000000    0.000000\n",
       "25%      6.293500    6.737500\n",
       "50%     12.538000   47.282000\n",
       "75%     18.531500   94.017500\n",
       "max     24.399000  113.556000"
      ]
     },
     "execution_count": 46,
     "metadata": {},
     "output_type": "execute_result"
    }
   ],
   "source": [
    "dfx.describe()"
   ]
  },
  {
   "cell_type": "markdown",
   "metadata": {},
   "source": [
    "### The data split into training and test sets\n",
    "\n",
    "- df is the original dataset with all 500 datapoints,\n",
    "- dfx is another copy where I dropped some of the the rows with zero power when the speed is over a certain value."
   ]
  },
  {
   "cell_type": "code",
   "execution_count": 47,
   "metadata": {},
   "outputs": [
    {
     "data": {
      "text/plain": [
       "(475, 2)"
      ]
     },
     "execution_count": 47,
     "metadata": {},
     "output_type": "execute_result"
    }
   ],
   "source": [
    "dfx.values.shape"
   ]
  },
  {
   "cell_type": "markdown",
   "metadata": {},
   "source": [
    "#### Using Scikit-learn preprocessing"
   ]
  },
  {
   "cell_type": "code",
   "execution_count": 136,
   "metadata": {},
   "outputs": [
    {
     "name": "stdout",
     "output_type": "stream",
     "text": [
      "(318, 1) (157, 1) (318, 1) (157, 1)\n"
     ]
    }
   ],
   "source": [
    "\n",
    "# split into input and output columns\n",
    "\n",
    "X, y = dfx.values[:, :-1], dfx.values[:, -1:]\n",
    "# split into train and test datasets\n",
    "X_train, X_test, y_train, y_test = train_test_split(X, y, test_size=0.33)\n",
    "print(X_train.shape, X_test.shape, y_train.shape, y_test.shape)\n",
    "# determine the number of input features\n",
    "n_features = X_train.shape[1]"
   ]
  },
  {
   "cell_type": "markdown",
   "metadata": {},
   "source": [
    "### First without scaling the data:\n"
   ]
  },
  {
   "cell_type": "code",
   "execution_count": 137,
   "metadata": {},
   "outputs": [],
   "source": [
    "# Train a model\n",
    "model = kr.models.Sequential()\n",
    "model.add(kr.layers.Dense(50, input_shape=(1,), activation='sigmoid', kernel_initializer=\"glorot_uniform\", bias_initializer=\"glorot_uniform\"))\n",
    "#model.add(kr.layers.BatchNormalization())\n",
    "model.add(kr.layers.Dense(1, activation='linear', kernel_initializer=\"glorot_uniform\", bias_initializer=\"glorot_uniform\"))"
   ]
  },
  {
   "cell_type": "markdown",
   "metadata": {},
   "source": [
    "### Compile the model"
   ]
  },
  {
   "cell_type": "code",
   "execution_count": 138,
   "metadata": {},
   "outputs": [
    {
     "name": "stdout",
     "output_type": "stream",
     "text": [
      "Model: \"sequential_4\"\n",
      "_________________________________________________________________\n",
      "Layer (type)                 Output Shape              Param #   \n",
      "=================================================================\n",
      "dense_9 (Dense)              (None, 50)                100       \n",
      "_________________________________________________________________\n",
      "dense_10 (Dense)             (None, 1)                 51        \n",
      "=================================================================\n",
      "Total params: 151\n",
      "Trainable params: 151\n",
      "Non-trainable params: 0\n",
      "_________________________________________________________________\n"
     ]
    }
   ],
   "source": [
    "# \n",
    "model.compile(kr.optimizers.Adam(lr=0.001), loss='mean_squared_error')\n",
    "model.summary()"
   ]
  },
  {
   "cell_type": "markdown",
   "metadata": {},
   "source": [
    "The first dense layer has 100 parameters consisting of 50 neurons and 50 bias terms while the second dense layer is the output layer which has only one neuron with 1 bias and 50 inputs from the previous layer. "
   ]
  },
  {
   "cell_type": "markdown",
   "metadata": {},
   "source": [
    "#### Train the model on the data\n",
    "Following the machine mastery tutorial, I have added in the validation data."
   ]
  },
  {
   "cell_type": "code",
   "execution_count": 139,
   "metadata": {},
   "outputs": [
    {
     "name": "stdout",
     "output_type": "stream",
     "text": [
      "Epoch 1/500\n",
      "32/32 [==============================] - 0s 4ms/step - loss: 4170.1431 - val_loss: 4267.1592\n",
      "Epoch 2/500\n",
      "32/32 [==============================] - 0s 2ms/step - loss: 4069.4270 - val_loss: 4155.6665\n",
      "Epoch 3/500\n",
      "32/32 [==============================] - 0s 3ms/step - loss: 3953.7122 - val_loss: 4016.4792\n",
      "Epoch 4/500\n",
      "32/32 [==============================] - 0s 2ms/step - loss: 3804.1003 - val_loss: 3842.9666\n",
      "Epoch 5/500\n",
      "32/32 [==============================] - 0s 2ms/step - loss: 3619.0264 - val_loss: 3629.9597\n",
      "Epoch 6/500\n",
      "32/32 [==============================] - 0s 2ms/step - loss: 3407.1365 - val_loss: 3411.6050\n",
      "Epoch 7/500\n",
      "32/32 [==============================] - 0s 2ms/step - loss: 3214.3271 - val_loss: 3237.4019\n",
      "Epoch 8/500\n",
      "32/32 [==============================] - 0s 2ms/step - loss: 3066.5427 - val_loss: 3098.4355\n",
      "Epoch 9/500\n",
      "32/32 [==============================] - 0s 2ms/step - loss: 2945.6848 - val_loss: 2984.6597\n",
      "Epoch 10/500\n",
      "32/32 [==============================] - 0s 2ms/step - loss: 2842.9624 - val_loss: 2880.2908\n",
      "Epoch 11/500\n",
      "32/32 [==============================] - 0s 2ms/step - loss: 2745.8538 - val_loss: 2777.7876\n",
      "Epoch 12/500\n",
      "32/32 [==============================] - 0s 2ms/step - loss: 2646.8948 - val_loss: 2678.7629\n",
      "Epoch 13/500\n",
      "32/32 [==============================] - 0s 2ms/step - loss: 2557.8818 - val_loss: 2590.8091\n",
      "Epoch 14/500\n",
      "32/32 [==============================] - 0s 3ms/step - loss: 2477.8550 - val_loss: 2509.3884\n",
      "Epoch 15/500\n",
      "32/32 [==============================] - 0s 4ms/step - loss: 2404.7705 - val_loss: 2433.0974\n",
      "Epoch 16/500\n",
      "32/32 [==============================] - 0s 2ms/step - loss: 2335.3784 - val_loss: 2365.1040\n",
      "Epoch 17/500\n",
      "32/32 [==============================] - 0s 2ms/step - loss: 2271.9878 - val_loss: 2298.6086\n",
      "Epoch 18/500\n",
      "32/32 [==============================] - 0s 2ms/step - loss: 2210.5046 - val_loss: 2237.1462\n",
      "Epoch 19/500\n",
      "32/32 [==============================] - 0s 2ms/step - loss: 2153.8459 - val_loss: 2173.3911\n",
      "Epoch 20/500\n",
      "32/32 [==============================] - 0s 3ms/step - loss: 2094.9097 - val_loss: 2118.3899\n",
      "Epoch 21/500\n",
      "32/32 [==============================] - 0s 3ms/step - loss: 2041.2841 - val_loss: 2062.0447\n",
      "Epoch 22/500\n",
      "32/32 [==============================] - 0s 4ms/step - loss: 1989.3280 - val_loss: 2006.5237\n",
      "Epoch 23/500\n",
      "32/32 [==============================] - 0s 3ms/step - loss: 1937.7327 - val_loss: 1957.2002\n",
      "Epoch 24/500\n",
      "32/32 [==============================] - 0s 5ms/step - loss: 1890.8038 - val_loss: 1904.4060\n",
      "Epoch 25/500\n",
      "32/32 [==============================] - 0s 3ms/step - loss: 1842.9775 - val_loss: 1857.6246\n",
      "Epoch 26/500\n",
      "32/32 [==============================] - 0s 4ms/step - loss: 1798.0819 - val_loss: 1811.6708\n",
      "Epoch 27/500\n",
      "32/32 [==============================] - 0s 2ms/step - loss: 1754.9275 - val_loss: 1765.7308\n",
      "Epoch 28/500\n",
      "32/32 [==============================] - 0s 2ms/step - loss: 1712.2599 - val_loss: 1722.3005\n",
      "Epoch 29/500\n",
      "32/32 [==============================] - ETA: 0s - loss: 1678.00 - 0s 4ms/step - loss: 1671.0861 - val_loss: 1680.8472\n",
      "Epoch 30/500\n",
      "32/32 [==============================] - 0s 3ms/step - loss: 1631.3752 - val_loss: 1639.7030\n",
      "Epoch 31/500\n",
      "32/32 [==============================] - 0s 4ms/step - loss: 1592.2380 - val_loss: 1600.5022\n",
      "Epoch 32/500\n",
      "32/32 [==============================] - 0s 3ms/step - loss: 1555.0104 - val_loss: 1560.1490\n",
      "Epoch 33/500\n",
      "32/32 [==============================] - 0s 4ms/step - loss: 1516.9166 - val_loss: 1523.2664\n",
      "Epoch 34/500\n",
      "32/32 [==============================] - 0s 3ms/step - loss: 1480.8507 - val_loss: 1486.7266\n",
      "Epoch 35/500\n",
      "32/32 [==============================] - 0s 2ms/step - loss: 1445.3247 - val_loss: 1450.5740\n",
      "Epoch 36/500\n",
      "32/32 [==============================] - 0s 6ms/step - loss: 1410.6560 - val_loss: 1414.5619\n",
      "Epoch 37/500\n",
      "32/32 [==============================] - 0s 4ms/step - loss: 1376.3822 - val_loss: 1380.4175\n",
      "Epoch 38/500\n",
      "32/32 [==============================] - 0s 2ms/step - loss: 1343.2148 - val_loss: 1345.1277\n",
      "Epoch 39/500\n",
      "32/32 [==============================] - 0s 2ms/step - loss: 1310.2983 - val_loss: 1311.4088\n",
      "Epoch 40/500\n",
      "32/32 [==============================] - 0s 2ms/step - loss: 1277.8599 - val_loss: 1280.1149\n",
      "Epoch 41/500\n",
      "32/32 [==============================] - 0s 2ms/step - loss: 1246.8419 - val_loss: 1246.8386\n",
      "Epoch 42/500\n",
      "32/32 [==============================] - 0s 2ms/step - loss: 1215.4871 - val_loss: 1216.4291\n",
      "Epoch 43/500\n",
      "32/32 [==============================] - 0s 2ms/step - loss: 1185.6797 - val_loss: 1185.0900\n",
      "Epoch 44/500\n",
      "32/32 [==============================] - 0s 2ms/step - loss: 1156.0640 - val_loss: 1154.6760\n",
      "Epoch 45/500\n",
      "32/32 [==============================] - 0s 2ms/step - loss: 1127.5103 - val_loss: 1124.4336\n",
      "Epoch 46/500\n",
      "32/32 [==============================] - 0s 2ms/step - loss: 1098.2377 - val_loss: 1097.5061\n",
      "Epoch 47/500\n",
      "32/32 [==============================] - 0s 2ms/step - loss: 1070.5681 - val_loss: 1069.3386\n",
      "Epoch 48/500\n",
      "32/32 [==============================] - 0s 3ms/step - loss: 1043.4705 - val_loss: 1041.1891\n",
      "Epoch 49/500\n",
      "32/32 [==============================] - 0s 2ms/step - loss: 1016.3363 - val_loss: 1014.3948\n",
      "Epoch 50/500\n",
      "32/32 [==============================] - 0s 3ms/step - loss: 990.5074 - val_loss: 987.3524\n",
      "Epoch 51/500\n",
      "32/32 [==============================] - 0s 4ms/step - loss: 964.8652 - val_loss: 962.2191\n",
      "Epoch 52/500\n",
      "32/32 [==============================] - 0s 3ms/step - loss: 940.5635 - val_loss: 935.0993\n",
      "Epoch 53/500\n",
      "32/32 [==============================] - 0s 3ms/step - loss: 914.6268 - val_loss: 911.2947\n",
      "Epoch 54/500\n",
      "32/32 [==============================] - 0s 2ms/step - loss: 891.3127 - val_loss: 887.2236\n",
      "Epoch 55/500\n",
      "32/32 [==============================] - 0s 2ms/step - loss: 867.9061 - val_loss: 863.0243\n",
      "Epoch 56/500\n",
      "32/32 [==============================] - 0s 2ms/step - loss: 845.1685 - val_loss: 840.1660\n",
      "Epoch 57/500\n",
      "32/32 [==============================] - 0s 2ms/step - loss: 823.0826 - val_loss: 817.2866\n",
      "Epoch 58/500\n",
      "32/32 [==============================] - 0s 2ms/step - loss: 801.3708 - val_loss: 795.5241\n",
      "Epoch 59/500\n",
      "32/32 [==============================] - 0s 2ms/step - loss: 779.3976 - val_loss: 773.9596\n",
      "Epoch 60/500\n",
      "32/32 [==============================] - 0s 2ms/step - loss: 758.5953 - val_loss: 752.8735\n",
      "Epoch 61/500\n",
      "32/32 [==============================] - 0s 2ms/step - loss: 738.0327 - val_loss: 732.2565\n",
      "Epoch 62/500\n",
      "32/32 [==============================] - 0s 2ms/step - loss: 718.3441 - val_loss: 711.6368\n",
      "Epoch 63/500\n",
      "32/32 [==============================] - 0s 2ms/step - loss: 699.0945 - val_loss: 692.0732\n",
      "Epoch 64/500\n",
      "32/32 [==============================] - 0s 2ms/step - loss: 679.8947 - val_loss: 672.9605\n",
      "Epoch 65/500\n",
      "32/32 [==============================] - 0s 2ms/step - loss: 661.4639 - val_loss: 654.6226\n",
      "Epoch 66/500\n",
      "32/32 [==============================] - 0s 2ms/step - loss: 643.9694 - val_loss: 635.7725\n",
      "Epoch 67/500\n",
      "32/32 [==============================] - 0s 2ms/step - loss: 625.9535 - val_loss: 618.8685\n",
      "Epoch 68/500\n",
      "32/32 [==============================] - 0s 2ms/step - loss: 608.9435 - val_loss: 601.2635\n",
      "Epoch 69/500\n",
      "32/32 [==============================] - 0s 3ms/step - loss: 593.0171 - val_loss: 584.4923\n",
      "Epoch 70/500\n",
      "32/32 [==============================] - 0s 3ms/step - loss: 576.4253 - val_loss: 567.9974\n",
      "Epoch 71/500\n",
      "32/32 [==============================] - 0s 6ms/step - loss: 560.5952 - val_loss: 552.0458\n",
      "Epoch 72/500\n",
      "32/32 [==============================] - 0s 3ms/step - loss: 545.3593 - val_loss: 536.7085\n",
      "Epoch 73/500\n",
      "32/32 [==============================] - 0s 5ms/step - loss: 530.7808 - val_loss: 521.7224\n",
      "Epoch 74/500\n",
      "32/32 [==============================] - 0s 4ms/step - loss: 516.8145 - val_loss: 507.6536\n",
      "Epoch 75/500\n",
      "32/32 [==============================] - 0s 4ms/step - loss: 502.7182 - val_loss: 492.6074\n",
      "Epoch 76/500\n",
      "32/32 [==============================] - 0s 4ms/step - loss: 488.3950 - val_loss: 478.7315\n",
      "Epoch 77/500\n",
      "32/32 [==============================] - 0s 3ms/step - loss: 474.9183 - val_loss: 465.3621\n",
      "Epoch 78/500\n"
     ]
    },
    {
     "name": "stdout",
     "output_type": "stream",
     "text": [
      "32/32 [==============================] - 0s 2ms/step - loss: 462.2412 - val_loss: 452.1316\n",
      "Epoch 79/500\n",
      "32/32 [==============================] - 0s 4ms/step - loss: 449.6367 - val_loss: 439.6936\n",
      "Epoch 80/500\n",
      "32/32 [==============================] - 0s 5ms/step - loss: 437.5007 - val_loss: 427.6281\n",
      "Epoch 81/500\n",
      "32/32 [==============================] - 0s 2ms/step - loss: 425.8557 - val_loss: 415.2948\n",
      "Epoch 82/500\n",
      "32/32 [==============================] - 0s 6ms/step - loss: 414.6720 - val_loss: 404.0968\n",
      "Epoch 83/500\n",
      "32/32 [==============================] - 0s 7ms/step - loss: 403.9156 - val_loss: 392.7090\n",
      "Epoch 84/500\n",
      "32/32 [==============================] - 0s 5ms/step - loss: 392.7712 - val_loss: 381.6275\n",
      "Epoch 85/500\n",
      "32/32 [==============================] - 0s 3ms/step - loss: 382.2763 - val_loss: 370.7946\n",
      "Epoch 86/500\n",
      "32/32 [==============================] - 0s 4ms/step - loss: 371.7855 - val_loss: 361.0113\n",
      "Epoch 87/500\n",
      "32/32 [==============================] - 0s 3ms/step - loss: 361.9466 - val_loss: 350.8080\n",
      "Epoch 88/500\n",
      "32/32 [==============================] - 0s 3ms/step - loss: 353.2266 - val_loss: 340.9364\n",
      "Epoch 89/500\n",
      "32/32 [==============================] - 0s 2ms/step - loss: 343.3082 - val_loss: 331.9368\n",
      "Epoch 90/500\n",
      "32/32 [==============================] - 0s 2ms/step - loss: 335.4226 - val_loss: 323.3339\n",
      "Epoch 91/500\n",
      "32/32 [==============================] - 0s 2ms/step - loss: 326.8705 - val_loss: 313.9342\n",
      "Epoch 92/500\n",
      "32/32 [==============================] - 0s 7ms/step - loss: 317.5015 - val_loss: 305.5381\n",
      "Epoch 93/500\n",
      "32/32 [==============================] - 0s 7ms/step - loss: 309.5728 - val_loss: 297.1155\n",
      "Epoch 94/500\n",
      "32/32 [==============================] - 0s 5ms/step - loss: 301.5147 - val_loss: 289.7722\n",
      "Epoch 95/500\n",
      "32/32 [==============================] - 0s 5ms/step - loss: 295.1977 - val_loss: 281.7315\n",
      "Epoch 96/500\n",
      "32/32 [==============================] - 0s 4ms/step - loss: 286.9466 - val_loss: 273.9012\n",
      "Epoch 97/500\n",
      "32/32 [==============================] - 0s 6ms/step - loss: 280.3562 - val_loss: 267.1091\n",
      "Epoch 98/500\n",
      "32/32 [==============================] - 0s 5ms/step - loss: 272.6559 - val_loss: 259.8798\n",
      "Epoch 99/500\n",
      "32/32 [==============================] - 0s 5ms/step - loss: 266.1013 - val_loss: 252.8964\n",
      "Epoch 100/500\n",
      "32/32 [==============================] - 0s 6ms/step - loss: 259.4317 - val_loss: 246.8368\n",
      "Epoch 101/500\n",
      "32/32 [==============================] - 0s 4ms/step - loss: 253.3321 - val_loss: 240.4055\n",
      "Epoch 102/500\n",
      "32/32 [==============================] - 0s 5ms/step - loss: 247.3346 - val_loss: 234.3583\n",
      "Epoch 103/500\n",
      "32/32 [==============================] - 0s 6ms/step - loss: 241.9265 - val_loss: 227.9084\n",
      "Epoch 104/500\n",
      "32/32 [==============================] - 0s 6ms/step - loss: 235.0714 - val_loss: 222.5718\n",
      "Epoch 105/500\n",
      "32/32 [==============================] - 0s 4ms/step - loss: 229.7874 - val_loss: 216.8147\n",
      "Epoch 106/500\n",
      "32/32 [==============================] - 0s 4ms/step - loss: 225.2642 - val_loss: 211.4268\n",
      "Epoch 107/500\n",
      "32/32 [==============================] - 0s 4ms/step - loss: 219.4582 - val_loss: 206.1302\n",
      "Epoch 108/500\n",
      "32/32 [==============================] - 0s 3ms/step - loss: 214.6769 - val_loss: 201.1518\n",
      "Epoch 109/500\n",
      "32/32 [==============================] - 0s 2ms/step - loss: 209.2670 - val_loss: 196.2408\n",
      "Epoch 110/500\n",
      "32/32 [==============================] - 0s 4ms/step - loss: 204.9317 - val_loss: 191.5350\n",
      "Epoch 111/500\n",
      "32/32 [==============================] - 0s 3ms/step - loss: 200.2723 - val_loss: 187.1484\n",
      "Epoch 112/500\n",
      "32/32 [==============================] - 0s 3ms/step - loss: 195.8434 - val_loss: 182.4751\n",
      "Epoch 113/500\n",
      "32/32 [==============================] - 0s 3ms/step - loss: 191.4648 - val_loss: 178.2115\n",
      "Epoch 114/500\n",
      "32/32 [==============================] - 0s 3ms/step - loss: 187.4456 - val_loss: 174.0304\n",
      "Epoch 115/500\n",
      "32/32 [==============================] - 0s 3ms/step - loss: 184.1773 - val_loss: 169.9989\n",
      "Epoch 116/500\n",
      "32/32 [==============================] - 0s 2ms/step - loss: 179.8723 - val_loss: 166.2449\n",
      "Epoch 117/500\n",
      "32/32 [==============================] - 0s 4ms/step - loss: 176.1565 - val_loss: 162.4981\n",
      "Epoch 118/500\n",
      "32/32 [==============================] - 0s 3ms/step - loss: 172.1984 - val_loss: 159.0557\n",
      "Epoch 119/500\n",
      "32/32 [==============================] - 0s 3ms/step - loss: 168.5305 - val_loss: 155.3286\n",
      "Epoch 120/500\n",
      "32/32 [==============================] - 0s 5ms/step - loss: 165.7381 - val_loss: 152.3124\n",
      "Epoch 121/500\n",
      "32/32 [==============================] - 0s 3ms/step - loss: 162.0444 - val_loss: 149.2737\n",
      "Epoch 122/500\n",
      "32/32 [==============================] - 0s 4ms/step - loss: 158.7429 - val_loss: 145.4455\n",
      "Epoch 123/500\n",
      "32/32 [==============================] - 0s 3ms/step - loss: 155.8966 - val_loss: 142.5777\n",
      "Epoch 124/500\n",
      "32/32 [==============================] - 0s 3ms/step - loss: 152.8092 - val_loss: 139.5127\n",
      "Epoch 125/500\n",
      "32/32 [==============================] - 0s 4ms/step - loss: 150.1849 - val_loss: 136.7011\n",
      "Epoch 126/500\n",
      "32/32 [==============================] - 0s 4ms/step - loss: 146.8012 - val_loss: 134.0956\n",
      "Epoch 127/500\n",
      "32/32 [==============================] - 0s 5ms/step - loss: 144.1833 - val_loss: 131.2211\n",
      "Epoch 128/500\n",
      "32/32 [==============================] - 0s 6ms/step - loss: 141.4697 - val_loss: 128.5838\n",
      "Epoch 129/500\n",
      "32/32 [==============================] - 0s 3ms/step - loss: 138.8402 - val_loss: 126.0698\n",
      "Epoch 130/500\n",
      "32/32 [==============================] - 0s 2ms/step - loss: 136.4561 - val_loss: 123.6873\n",
      "Epoch 131/500\n",
      "32/32 [==============================] - 0s 2ms/step - loss: 133.9398 - val_loss: 121.3418\n",
      "Epoch 132/500\n",
      "32/32 [==============================] - 0s 3ms/step - loss: 131.9582 - val_loss: 119.4671\n",
      "Epoch 133/500\n",
      "32/32 [==============================] - 0s 4ms/step - loss: 129.4544 - val_loss: 116.9457\n",
      "Epoch 134/500\n",
      "32/32 [==============================] - 0s 4ms/step - loss: 127.2571 - val_loss: 114.8418\n",
      "Epoch 135/500\n",
      "32/32 [==============================] - 0s 4ms/step - loss: 125.4626 - val_loss: 112.6535\n",
      "Epoch 136/500\n",
      "32/32 [==============================] - 0s 4ms/step - loss: 123.5711 - val_loss: 110.8122\n",
      "Epoch 137/500\n",
      "32/32 [==============================] - 0s 2ms/step - loss: 121.3232 - val_loss: 109.4531\n",
      "Epoch 138/500\n",
      "32/32 [==============================] - 0s 4ms/step - loss: 119.0052 - val_loss: 106.9564\n",
      "Epoch 139/500\n",
      "32/32 [==============================] - 0s 2ms/step - loss: 117.2048 - val_loss: 105.2502\n",
      "Epoch 140/500\n",
      "32/32 [==============================] - 0s 2ms/step - loss: 116.0228 - val_loss: 103.8560\n",
      "Epoch 141/500\n",
      "32/32 [==============================] - 0s 2ms/step - loss: 113.5901 - val_loss: 101.8380\n",
      "Epoch 142/500\n",
      "32/32 [==============================] - 0s 4ms/step - loss: 112.0894 - val_loss: 100.1786\n",
      "Epoch 143/500\n",
      "32/32 [==============================] - 0s 4ms/step - loss: 110.9121 - val_loss: 98.9305\n",
      "Epoch 144/500\n",
      "32/32 [==============================] - 0s 4ms/step - loss: 109.4375 - val_loss: 97.1338\n",
      "Epoch 145/500\n",
      "32/32 [==============================] - 0s 2ms/step - loss: 107.3149 - val_loss: 95.7180\n",
      "Epoch 146/500\n",
      "32/32 [==============================] - 0s 2ms/step - loss: 106.1179 - val_loss: 94.4429\n",
      "Epoch 147/500\n",
      "32/32 [==============================] - 0s 2ms/step - loss: 104.3551 - val_loss: 93.0449\n",
      "Epoch 148/500\n",
      "32/32 [==============================] - 0s 2ms/step - loss: 103.5784 - val_loss: 91.8915\n",
      "Epoch 149/500\n",
      "32/32 [==============================] - 0s 2ms/step - loss: 102.2637 - val_loss: 90.3530\n",
      "Epoch 150/500\n",
      "32/32 [==============================] - 0s 3ms/step - loss: 101.1752 - val_loss: 89.1896\n",
      "Epoch 151/500\n",
      "32/32 [==============================] - 0s 4ms/step - loss: 99.0941 - val_loss: 87.9807\n",
      "Epoch 152/500\n",
      "32/32 [==============================] - 0s 4ms/step - loss: 97.8161 - val_loss: 86.9579\n",
      "Epoch 153/500\n",
      "32/32 [==============================] - 0s 4ms/step - loss: 96.9463 - val_loss: 85.7480\n",
      "Epoch 154/500\n",
      "32/32 [==============================] - 0s 3ms/step - loss: 95.4701 - val_loss: 84.7202\n",
      "Epoch 155/500\n",
      "32/32 [==============================] - 0s 3ms/step - loss: 94.2697 - val_loss: 83.8229\n",
      "Epoch 156/500\n"
     ]
    },
    {
     "name": "stdout",
     "output_type": "stream",
     "text": [
      "32/32 [==============================] - 0s 2ms/step - loss: 93.3842 - val_loss: 83.0086\n",
      "Epoch 157/500\n",
      "32/32 [==============================] - 0s 4ms/step - loss: 92.1188 - val_loss: 81.9408\n",
      "Epoch 158/500\n",
      "32/32 [==============================] - 0s 5ms/step - loss: 91.4967 - val_loss: 80.9075\n",
      "Epoch 159/500\n",
      "32/32 [==============================] - 0s 4ms/step - loss: 90.3025 - val_loss: 80.2636\n",
      "Epoch 160/500\n",
      "32/32 [==============================] - 0s 5ms/step - loss: 89.2471 - val_loss: 79.2177\n",
      "Epoch 161/500\n",
      "32/32 [==============================] - 0s 2ms/step - loss: 88.5596 - val_loss: 78.6436\n",
      "Epoch 162/500\n",
      "32/32 [==============================] - 0s 3ms/step - loss: 87.3854 - val_loss: 77.4485\n",
      "Epoch 163/500\n",
      "32/32 [==============================] - 0s 4ms/step - loss: 87.3755 - val_loss: 77.0334\n",
      "Epoch 164/500\n",
      "32/32 [==============================] - 0s 4ms/step - loss: 85.7400 - val_loss: 76.1507\n",
      "Epoch 165/500\n",
      "32/32 [==============================] - 0s 4ms/step - loss: 84.7699 - val_loss: 75.3458\n",
      "Epoch 166/500\n",
      "32/32 [==============================] - 0s 4ms/step - loss: 83.9904 - val_loss: 74.5826\n",
      "Epoch 167/500\n",
      "32/32 [==============================] - 0s 2ms/step - loss: 83.4692 - val_loss: 73.8710\n",
      "Epoch 168/500\n",
      "32/32 [==============================] - 0s 5ms/step - loss: 82.6118 - val_loss: 73.5336\n",
      "Epoch 169/500\n",
      "32/32 [==============================] - 0s 4ms/step - loss: 82.4331 - val_loss: 72.8678\n",
      "Epoch 170/500\n",
      "32/32 [==============================] - 0s 4ms/step - loss: 81.0746 - val_loss: 71.9285\n",
      "Epoch 171/500\n",
      "32/32 [==============================] - 0s 4ms/step - loss: 80.3317 - val_loss: 71.3432\n",
      "Epoch 172/500\n",
      "32/32 [==============================] - 0s 4ms/step - loss: 79.6243 - val_loss: 70.6853\n",
      "Epoch 173/500\n",
      "32/32 [==============================] - 0s 3ms/step - loss: 78.9455 - val_loss: 70.4053\n",
      "Epoch 174/500\n",
      "32/32 [==============================] - 0s 5ms/step - loss: 78.3713 - val_loss: 69.6393\n",
      "Epoch 175/500\n",
      "32/32 [==============================] - 0s 4ms/step - loss: 77.6019 - val_loss: 69.1582\n",
      "Epoch 176/500\n",
      "32/32 [==============================] - 0s 5ms/step - loss: 77.5089 - val_loss: 69.0953\n",
      "Epoch 177/500\n",
      "32/32 [==============================] - 0s 3ms/step - loss: 76.7837 - val_loss: 67.9905\n",
      "Epoch 178/500\n",
      "32/32 [==============================] - 0s 4ms/step - loss: 75.8741 - val_loss: 67.6119\n",
      "Epoch 179/500\n",
      "32/32 [==============================] - 0s 3ms/step - loss: 76.0607 - val_loss: 67.0879\n",
      "Epoch 180/500\n",
      "32/32 [==============================] - 0s 2ms/step - loss: 74.7755 - val_loss: 66.8663\n",
      "Epoch 181/500\n",
      "32/32 [==============================] - 0s 2ms/step - loss: 74.2922 - val_loss: 66.1346\n",
      "Epoch 182/500\n",
      "32/32 [==============================] - 0s 2ms/step - loss: 74.1490 - val_loss: 65.8895\n",
      "Epoch 183/500\n",
      "32/32 [==============================] - 0s 2ms/step - loss: 73.5055 - val_loss: 65.4593\n",
      "Epoch 184/500\n",
      "32/32 [==============================] - 0s 2ms/step - loss: 75.4417 - val_loss: 65.8069\n",
      "Epoch 185/500\n",
      "32/32 [==============================] - 0s 4ms/step - loss: 72.4135 - val_loss: 64.7444\n",
      "Epoch 186/500\n",
      "32/32 [==============================] - 0s 4ms/step - loss: 71.7088 - val_loss: 63.9964\n",
      "Epoch 187/500\n",
      "32/32 [==============================] - 0s 4ms/step - loss: 71.3845 - val_loss: 63.8016\n",
      "Epoch 188/500\n",
      "32/32 [==============================] - 0s 3ms/step - loss: 71.2751 - val_loss: 63.2083\n",
      "Epoch 189/500\n",
      "32/32 [==============================] - 0s 2ms/step - loss: 70.4298 - val_loss: 62.9885\n",
      "Epoch 190/500\n",
      "32/32 [==============================] - 0s 2ms/step - loss: 70.7447 - val_loss: 63.2902\n",
      "Epoch 191/500\n",
      "32/32 [==============================] - 0s 2ms/step - loss: 69.7169 - val_loss: 62.2040\n",
      "Epoch 192/500\n",
      "32/32 [==============================] - 0s 4ms/step - loss: 69.0094 - val_loss: 61.7379\n",
      "Epoch 193/500\n",
      "32/32 [==============================] - 0s 3ms/step - loss: 68.7722 - val_loss: 61.3675\n",
      "Epoch 194/500\n",
      "32/32 [==============================] - 0s 5ms/step - loss: 68.0805 - val_loss: 61.2438\n",
      "Epoch 195/500\n",
      "32/32 [==============================] - 0s 4ms/step - loss: 67.8592 - val_loss: 60.7008\n",
      "Epoch 196/500\n",
      "32/32 [==============================] - 0s 3ms/step - loss: 67.5439 - val_loss: 60.3661\n",
      "Epoch 197/500\n",
      "32/32 [==============================] - 0s 4ms/step - loss: 67.0131 - val_loss: 60.0593\n",
      "Epoch 198/500\n",
      "32/32 [==============================] - 0s 3ms/step - loss: 66.2615 - val_loss: 59.9771\n",
      "Epoch 199/500\n",
      "32/32 [==============================] - 0s 6ms/step - loss: 65.9757 - val_loss: 59.5052\n",
      "Epoch 200/500\n",
      "32/32 [==============================] - 0s 3ms/step - loss: 65.5326 - val_loss: 59.0858\n",
      "Epoch 201/500\n",
      "32/32 [==============================] - 0s 3ms/step - loss: 65.7477 - val_loss: 58.7714\n",
      "Epoch 202/500\n",
      "32/32 [==============================] - 0s 4ms/step - loss: 64.9278 - val_loss: 58.5096\n",
      "Epoch 203/500\n",
      "32/32 [==============================] - 0s 2ms/step - loss: 64.3967 - val_loss: 58.1624\n",
      "Epoch 204/500\n",
      "32/32 [==============================] - 0s 2ms/step - loss: 64.8492 - val_loss: 57.8476\n",
      "Epoch 205/500\n",
      "32/32 [==============================] - 0s 2ms/step - loss: 64.0108 - val_loss: 57.5281\n",
      "Epoch 206/500\n",
      "32/32 [==============================] - 0s 4ms/step - loss: 63.2817 - val_loss: 57.2363\n",
      "Epoch 207/500\n",
      "32/32 [==============================] - 0s 5ms/step - loss: 62.9541 - val_loss: 57.0228\n",
      "Epoch 208/500\n",
      "32/32 [==============================] - 0s 4ms/step - loss: 62.6474 - val_loss: 57.1481\n",
      "Epoch 209/500\n",
      "32/32 [==============================] - 0s 3ms/step - loss: 62.5226 - val_loss: 56.3735\n",
      "Epoch 210/500\n",
      "32/32 [==============================] - 0s 2ms/step - loss: 61.8399 - val_loss: 56.1320\n",
      "Epoch 211/500\n",
      "32/32 [==============================] - 0s 2ms/step - loss: 61.5340 - val_loss: 55.7895\n",
      "Epoch 212/500\n",
      "32/32 [==============================] - 0s 2ms/step - loss: 61.3347 - val_loss: 55.5235\n",
      "Epoch 213/500\n",
      "32/32 [==============================] - 0s 2ms/step - loss: 61.1172 - val_loss: 55.2390\n",
      "Epoch 214/500\n",
      "32/32 [==============================] - 0s 4ms/step - loss: 60.6549 - val_loss: 54.9745\n",
      "Epoch 215/500\n",
      "32/32 [==============================] - 0s 4ms/step - loss: 60.1311 - val_loss: 54.8093\n",
      "Epoch 216/500\n",
      "32/32 [==============================] - 0s 3ms/step - loss: 59.9890 - val_loss: 54.6530\n",
      "Epoch 217/500\n",
      "32/32 [==============================] - 0s 4ms/step - loss: 59.3456 - val_loss: 54.1358\n",
      "Epoch 218/500\n",
      "32/32 [==============================] - 0s 4ms/step - loss: 59.4664 - val_loss: 53.9661\n",
      "Epoch 219/500\n",
      "32/32 [==============================] - 0s 2ms/step - loss: 59.1452 - val_loss: 53.5654\n",
      "Epoch 220/500\n",
      "32/32 [==============================] - 0s 4ms/step - loss: 58.5777 - val_loss: 53.2880\n",
      "Epoch 221/500\n",
      "32/32 [==============================] - 0s 4ms/step - loss: 58.2216 - val_loss: 53.2052\n",
      "Epoch 222/500\n",
      "32/32 [==============================] - 0s 4ms/step - loss: 57.6990 - val_loss: 52.7568\n",
      "Epoch 223/500\n",
      "32/32 [==============================] - 0s 4ms/step - loss: 57.4982 - val_loss: 52.7468\n",
      "Epoch 224/500\n",
      "32/32 [==============================] - 0s 3ms/step - loss: 57.2843 - val_loss: 52.3811\n",
      "Epoch 225/500\n",
      "32/32 [==============================] - 0s 3ms/step - loss: 56.6861 - val_loss: 51.9648\n",
      "Epoch 226/500\n",
      "32/32 [==============================] - 0s 5ms/step - loss: 56.7552 - val_loss: 51.7130\n",
      "Epoch 227/500\n",
      "32/32 [==============================] - 0s 3ms/step - loss: 56.2675 - val_loss: 51.5519\n",
      "Epoch 228/500\n",
      "32/32 [==============================] - 0s 4ms/step - loss: 55.8861 - val_loss: 51.1732\n",
      "Epoch 229/500\n",
      "32/32 [==============================] - 0s 4ms/step - loss: 55.4562 - val_loss: 50.9169\n",
      "Epoch 230/500\n",
      "32/32 [==============================] - 0s 4ms/step - loss: 55.0834 - val_loss: 50.9813\n",
      "Epoch 231/500\n",
      "32/32 [==============================] - 0s 3ms/step - loss: 55.0357 - val_loss: 50.3520\n",
      "Epoch 232/500\n",
      "32/32 [==============================] - 0s 4ms/step - loss: 55.1331 - val_loss: 50.4070\n",
      "Epoch 233/500\n",
      "32/32 [==============================] - 0s 5ms/step - loss: 54.6846 - val_loss: 50.3982\n",
      "Epoch 234/500\n",
      "32/32 [==============================] - 0s 4ms/step - loss: 53.9722 - val_loss: 49.5435\n",
      "Epoch 235/500\n"
     ]
    },
    {
     "name": "stdout",
     "output_type": "stream",
     "text": [
      "32/32 [==============================] - 0s 3ms/step - loss: 53.8143 - val_loss: 49.4885\n",
      "Epoch 236/500\n",
      "32/32 [==============================] - 0s 2ms/step - loss: 53.3658 - val_loss: 49.2338\n",
      "Epoch 237/500\n",
      "32/32 [==============================] - 0s 3ms/step - loss: 53.5178 - val_loss: 48.9961\n",
      "Epoch 238/500\n",
      "32/32 [==============================] - 0s 2ms/step - loss: 52.7390 - val_loss: 48.5452\n",
      "Epoch 239/500\n",
      "32/32 [==============================] - 0s 2ms/step - loss: 52.3962 - val_loss: 48.2907\n",
      "Epoch 240/500\n",
      "32/32 [==============================] - 0s 2ms/step - loss: 52.2416 - val_loss: 48.0448\n",
      "Epoch 241/500\n",
      "32/32 [==============================] - 0s 2ms/step - loss: 52.0971 - val_loss: 47.8864\n",
      "Epoch 242/500\n",
      "32/32 [==============================] - 0s 2ms/step - loss: 51.2694 - val_loss: 47.4011\n",
      "Epoch 243/500\n",
      "32/32 [==============================] - 0s 2ms/step - loss: 51.2575 - val_loss: 47.6542\n",
      "Epoch 244/500\n",
      "32/32 [==============================] - 0s 4ms/step - loss: 51.5787 - val_loss: 46.8628\n",
      "Epoch 245/500\n",
      "32/32 [==============================] - 0s 5ms/step - loss: 50.7641 - val_loss: 46.6100\n",
      "Epoch 246/500\n",
      "32/32 [==============================] - 0s 2ms/step - loss: 50.2793 - val_loss: 46.3470\n",
      "Epoch 247/500\n",
      "32/32 [==============================] - 0s 2ms/step - loss: 50.0192 - val_loss: 46.3826\n",
      "Epoch 248/500\n",
      "32/32 [==============================] - 0s 2ms/step - loss: 49.5753 - val_loss: 45.7890\n",
      "Epoch 249/500\n",
      "32/32 [==============================] - 0s 2ms/step - loss: 49.3929 - val_loss: 46.0870\n",
      "Epoch 250/500\n",
      "32/32 [==============================] - 0s 2ms/step - loss: 49.0752 - val_loss: 45.2765\n",
      "Epoch 251/500\n",
      "32/32 [==============================] - 0s 5ms/step - loss: 48.9972 - val_loss: 44.9759\n",
      "Epoch 252/500\n",
      "32/32 [==============================] - 0s 4ms/step - loss: 48.7642 - val_loss: 45.3522\n",
      "Epoch 253/500\n",
      "32/32 [==============================] - 0s 4ms/step - loss: 48.4182 - val_loss: 44.4630\n",
      "Epoch 254/500\n",
      "32/32 [==============================] - 0s 4ms/step - loss: 47.6245 - val_loss: 44.1389\n",
      "Epoch 255/500\n",
      "32/32 [==============================] - 0s 3ms/step - loss: 47.4077 - val_loss: 44.2474\n",
      "Epoch 256/500\n",
      "32/32 [==============================] - 0s 2ms/step - loss: 47.3731 - val_loss: 43.7693\n",
      "Epoch 257/500\n",
      "32/32 [==============================] - 0s 4ms/step - loss: 46.8274 - val_loss: 43.3417\n",
      "Epoch 258/500\n",
      "32/32 [==============================] - 0s 3ms/step - loss: 46.8879 - val_loss: 43.1143\n",
      "Epoch 259/500\n",
      "32/32 [==============================] - 0s 4ms/step - loss: 46.4956 - val_loss: 42.8636\n",
      "Epoch 260/500\n",
      "32/32 [==============================] - 0s 3ms/step - loss: 46.6966 - val_loss: 43.9623\n",
      "Epoch 261/500\n",
      "32/32 [==============================] - 0s 3ms/step - loss: 45.9578 - val_loss: 42.5554\n",
      "Epoch 262/500\n",
      "32/32 [==============================] - 0s 4ms/step - loss: 45.2903 - val_loss: 42.0955\n",
      "Epoch 263/500\n",
      "32/32 [==============================] - 0s 4ms/step - loss: 45.0891 - val_loss: 42.1158\n",
      "Epoch 264/500\n",
      "32/32 [==============================] - 0s 3ms/step - loss: 44.8659 - val_loss: 41.7910\n",
      "Epoch 265/500\n",
      "32/32 [==============================] - 0s 5ms/step - loss: 44.3903 - val_loss: 41.4438\n",
      "Epoch 266/500\n",
      "32/32 [==============================] - 0s 3ms/step - loss: 44.5588 - val_loss: 41.2133\n",
      "Epoch 267/500\n",
      "32/32 [==============================] - 0s 4ms/step - loss: 44.1103 - val_loss: 41.1784\n",
      "Epoch 268/500\n",
      "32/32 [==============================] - 0s 4ms/step - loss: 43.8837 - val_loss: 40.9832\n",
      "Epoch 269/500\n",
      "32/32 [==============================] - 0s 5ms/step - loss: 43.9123 - val_loss: 40.8671\n",
      "Epoch 270/500\n",
      "32/32 [==============================] - 0s 4ms/step - loss: 43.0401 - val_loss: 40.1194\n",
      "Epoch 271/500\n",
      "32/32 [==============================] - 0s 4ms/step - loss: 42.7786 - val_loss: 40.0410\n",
      "Epoch 272/500\n",
      "32/32 [==============================] - 0s 3ms/step - loss: 42.6092 - val_loss: 39.6614\n",
      "Epoch 273/500\n",
      "32/32 [==============================] - 0s 4ms/step - loss: 42.1969 - val_loss: 39.7826\n",
      "Epoch 274/500\n",
      "32/32 [==============================] - 0s 3ms/step - loss: 42.4651 - val_loss: 40.1165\n",
      "Epoch 275/500\n",
      "32/32 [==============================] - 0s 5ms/step - loss: 42.2286 - val_loss: 38.9975\n",
      "Epoch 276/500\n",
      "32/32 [==============================] - 0s 3ms/step - loss: 41.6402 - val_loss: 38.8061\n",
      "Epoch 277/500\n",
      "32/32 [==============================] - 0s 3ms/step - loss: 41.2917 - val_loss: 38.5863\n",
      "Epoch 278/500\n",
      "32/32 [==============================] - 0s 2ms/step - loss: 40.9429 - val_loss: 38.6697\n",
      "Epoch 279/500\n",
      "32/32 [==============================] - 0s 5ms/step - loss: 41.0281 - val_loss: 38.0951\n",
      "Epoch 280/500\n",
      "32/32 [==============================] - 0s 4ms/step - loss: 40.7765 - val_loss: 37.8566\n",
      "Epoch 281/500\n",
      "32/32 [==============================] - 0s 4ms/step - loss: 40.4778 - val_loss: 37.7454\n",
      "Epoch 282/500\n",
      "32/32 [==============================] - 0s 3ms/step - loss: 39.9774 - val_loss: 37.5868\n",
      "Epoch 283/500\n",
      "32/32 [==============================] - 0s 3ms/step - loss: 39.7040 - val_loss: 37.2395\n",
      "Epoch 284/500\n",
      "32/32 [==============================] - 0s 4ms/step - loss: 39.4962 - val_loss: 37.2741\n",
      "Epoch 285/500\n",
      "32/32 [==============================] - 0s 6ms/step - loss: 39.0382 - val_loss: 36.7709\n",
      "Epoch 286/500\n",
      "32/32 [==============================] - 0s 4ms/step - loss: 39.1068 - val_loss: 36.6079\n",
      "Epoch 287/500\n",
      "32/32 [==============================] - 0s 4ms/step - loss: 38.5858 - val_loss: 36.5128\n",
      "Epoch 288/500\n",
      "32/32 [==============================] - 0s 3ms/step - loss: 38.4301 - val_loss: 36.1336\n",
      "Epoch 289/500\n",
      "32/32 [==============================] - 0s 3ms/step - loss: 38.4767 - val_loss: 36.0701\n",
      "Epoch 290/500\n",
      "32/32 [==============================] - 0s 4ms/step - loss: 38.4042 - val_loss: 35.8241\n",
      "Epoch 291/500\n",
      "32/32 [==============================] - 0s 4ms/step - loss: 37.8256 - val_loss: 35.6957\n",
      "Epoch 292/500\n",
      "32/32 [==============================] - 0s 2ms/step - loss: 37.3393 - val_loss: 35.4249\n",
      "Epoch 293/500\n",
      "32/32 [==============================] - 0s 2ms/step - loss: 37.8378 - val_loss: 35.8401\n",
      "Epoch 294/500\n",
      "32/32 [==============================] - 0s 2ms/step - loss: 37.0765 - val_loss: 35.1264\n",
      "Epoch 295/500\n",
      "32/32 [==============================] - 0s 2ms/step - loss: 36.9567 - val_loss: 35.0913\n",
      "Epoch 296/500\n",
      "32/32 [==============================] - 0s 2ms/step - loss: 36.4648 - val_loss: 34.7404\n",
      "Epoch 297/500\n",
      "32/32 [==============================] - 0s 2ms/step - loss: 36.3618 - val_loss: 34.3397\n",
      "Epoch 298/500\n",
      "32/32 [==============================] - 0s 2ms/step - loss: 36.4369 - val_loss: 34.1677\n",
      "Epoch 299/500\n",
      "32/32 [==============================] - 0s 2ms/step - loss: 35.9802 - val_loss: 33.9638\n",
      "Epoch 300/500\n",
      "32/32 [==============================] - 0s 2ms/step - loss: 35.6511 - val_loss: 33.8282\n",
      "Epoch 301/500\n",
      "32/32 [==============================] - 0s 2ms/step - loss: 35.5827 - val_loss: 33.5773\n",
      "Epoch 302/500\n",
      "32/32 [==============================] - 0s 2ms/step - loss: 35.1487 - val_loss: 33.4846\n",
      "Epoch 303/500\n",
      "32/32 [==============================] - 0s 2ms/step - loss: 35.0562 - val_loss: 33.5839\n",
      "Epoch 304/500\n",
      "32/32 [==============================] - 0s 2ms/step - loss: 34.8098 - val_loss: 33.0837\n",
      "Epoch 305/500\n",
      "32/32 [==============================] - 0s 3ms/step - loss: 34.4521 - val_loss: 33.1085\n",
      "Epoch 306/500\n",
      "32/32 [==============================] - 0s 3ms/step - loss: 34.4366 - val_loss: 32.9425\n",
      "Epoch 307/500\n",
      "32/32 [==============================] - 0s 3ms/step - loss: 34.2311 - val_loss: 33.0337\n",
      "Epoch 308/500\n",
      "32/32 [==============================] - 0s 4ms/step - loss: 33.8962 - val_loss: 32.4580\n",
      "Epoch 309/500\n",
      "32/32 [==============================] - 0s 2ms/step - loss: 33.7922 - val_loss: 32.4648\n",
      "Epoch 310/500\n",
      "32/32 [==============================] - 0s 2ms/step - loss: 33.6323 - val_loss: 32.2653\n",
      "Epoch 311/500\n",
      "32/32 [==============================] - 0s 2ms/step - loss: 33.4548 - val_loss: 31.8262\n",
      "Epoch 312/500\n",
      "32/32 [==============================] - 0s 2ms/step - loss: 33.3954 - val_loss: 31.6487\n",
      "Epoch 313/500\n",
      "32/32 [==============================] - 0s 2ms/step - loss: 32.8921 - val_loss: 31.7906\n",
      "Epoch 314/500\n"
     ]
    },
    {
     "name": "stdout",
     "output_type": "stream",
     "text": [
      "32/32 [==============================] - 0s 2ms/step - loss: 32.8938 - val_loss: 31.5920\n",
      "Epoch 315/500\n",
      "32/32 [==============================] - 0s 2ms/step - loss: 32.5992 - val_loss: 31.4442\n",
      "Epoch 316/500\n",
      "32/32 [==============================] - 0s 2ms/step - loss: 32.3739 - val_loss: 31.0024\n",
      "Epoch 317/500\n",
      "32/32 [==============================] - 0s 2ms/step - loss: 31.9987 - val_loss: 31.0399\n",
      "Epoch 318/500\n",
      "32/32 [==============================] - 0s 2ms/step - loss: 32.0041 - val_loss: 31.2174\n",
      "Epoch 319/500\n",
      "32/32 [==============================] - 0s 2ms/step - loss: 31.6866 - val_loss: 30.4874\n",
      "Epoch 320/500\n",
      "32/32 [==============================] - 0s 2ms/step - loss: 31.5977 - val_loss: 30.5163\n",
      "Epoch 321/500\n",
      "32/32 [==============================] - 0s 2ms/step - loss: 31.4056 - val_loss: 30.3567\n",
      "Epoch 322/500\n",
      "32/32 [==============================] - 0s 2ms/step - loss: 31.4419 - val_loss: 30.0114\n",
      "Epoch 323/500\n",
      "32/32 [==============================] - 0s 3ms/step - loss: 31.2574 - val_loss: 30.5599\n",
      "Epoch 324/500\n",
      "32/32 [==============================] - 0s 2ms/step - loss: 31.1846 - val_loss: 29.9358\n",
      "Epoch 325/500\n",
      "32/32 [==============================] - 0s 2ms/step - loss: 30.5169 - val_loss: 29.6123\n",
      "Epoch 326/500\n",
      "32/32 [==============================] - 0s 2ms/step - loss: 30.7320 - val_loss: 29.8643\n",
      "Epoch 327/500\n",
      "32/32 [==============================] - 0s 2ms/step - loss: 30.3661 - val_loss: 29.1898\n",
      "Epoch 328/500\n",
      "32/32 [==============================] - 0s 2ms/step - loss: 30.0925 - val_loss: 29.0876\n",
      "Epoch 329/500\n",
      "32/32 [==============================] - 0s 2ms/step - loss: 29.9174 - val_loss: 29.6580\n",
      "Epoch 330/500\n",
      "32/32 [==============================] - 0s 2ms/step - loss: 30.4153 - val_loss: 28.7000\n",
      "Epoch 331/500\n",
      "32/32 [==============================] - 0s 3ms/step - loss: 29.5672 - val_loss: 28.7646\n",
      "Epoch 332/500\n",
      "32/32 [==============================] - 0s 5ms/step - loss: 29.3396 - val_loss: 28.4233\n",
      "Epoch 333/500\n",
      "32/32 [==============================] - 0s 5ms/step - loss: 29.1924 - val_loss: 28.3122\n",
      "Epoch 334/500\n",
      "32/32 [==============================] - 0s 6ms/step - loss: 29.0411 - val_loss: 28.4822\n",
      "Epoch 335/500\n",
      "32/32 [==============================] - 0s 2ms/step - loss: 28.7454 - val_loss: 27.9943\n",
      "Epoch 336/500\n",
      "32/32 [==============================] - 0s 2ms/step - loss: 28.7678 - val_loss: 28.3562\n",
      "Epoch 337/500\n",
      "32/32 [==============================] - 0s 2ms/step - loss: 28.5647 - val_loss: 28.0566\n",
      "Epoch 338/500\n",
      "32/32 [==============================] - 0s 4ms/step - loss: 28.6372 - val_loss: 27.8796\n",
      "Epoch 339/500\n",
      "32/32 [==============================] - 0s 4ms/step - loss: 28.3440 - val_loss: 27.5031\n",
      "Epoch 340/500\n",
      "32/32 [==============================] - 0s 2ms/step - loss: 28.3188 - val_loss: 27.3275\n",
      "Epoch 341/500\n",
      "32/32 [==============================] - 0s 3ms/step - loss: 28.1236 - val_loss: 27.3961\n",
      "Epoch 342/500\n",
      "32/32 [==============================] - 0s 3ms/step - loss: 27.7275 - val_loss: 27.2827\n",
      "Epoch 343/500\n",
      "32/32 [==============================] - 0s 3ms/step - loss: 27.6484 - val_loss: 26.8753\n",
      "Epoch 344/500\n",
      "32/32 [==============================] - 0s 5ms/step - loss: 27.8143 - val_loss: 27.0142\n",
      "Epoch 345/500\n",
      "32/32 [==============================] - 0s 3ms/step - loss: 27.2952 - val_loss: 27.1214\n",
      "Epoch 346/500\n",
      "32/32 [==============================] - 0s 3ms/step - loss: 27.4099 - val_loss: 26.6558\n",
      "Epoch 347/500\n",
      "32/32 [==============================] - 0s 3ms/step - loss: 27.1277 - val_loss: 26.6361\n",
      "Epoch 348/500\n",
      "32/32 [==============================] - 0s 2ms/step - loss: 27.1402 - val_loss: 26.5331\n",
      "Epoch 349/500\n",
      "32/32 [==============================] - 0s 4ms/step - loss: 26.7525 - val_loss: 26.3338\n",
      "Epoch 350/500\n",
      "32/32 [==============================] - 0s 3ms/step - loss: 26.7231 - val_loss: 26.1223\n",
      "Epoch 351/500\n",
      "32/32 [==============================] - 0s 4ms/step - loss: 26.3859 - val_loss: 26.1444\n",
      "Epoch 352/500\n",
      "32/32 [==============================] - 0s 6ms/step - loss: 26.6233 - val_loss: 25.9135\n",
      "Epoch 353/500\n",
      "32/32 [==============================] - 0s 5ms/step - loss: 26.2196 - val_loss: 25.9613\n",
      "Epoch 354/500\n",
      "32/32 [==============================] - 0s 4ms/step - loss: 26.0375 - val_loss: 25.7545\n",
      "Epoch 355/500\n",
      "32/32 [==============================] - 0s 4ms/step - loss: 26.0281 - val_loss: 25.7357\n",
      "Epoch 356/500\n",
      "32/32 [==============================] - 0s 4ms/step - loss: 25.7771 - val_loss: 25.7417\n",
      "Epoch 357/500\n",
      "32/32 [==============================] - 0s 4ms/step - loss: 25.9051 - val_loss: 25.8803\n",
      "Epoch 358/500\n",
      "32/32 [==============================] - 0s 4ms/step - loss: 25.8096 - val_loss: 25.9055\n",
      "Epoch 359/500\n",
      "32/32 [==============================] - 0s 2ms/step - loss: 25.4742 - val_loss: 25.4914\n",
      "Epoch 360/500\n",
      "32/32 [==============================] - 0s 4ms/step - loss: 25.4566 - val_loss: 25.1771\n",
      "Epoch 361/500\n",
      "32/32 [==============================] - 0s 4ms/step - loss: 25.5552 - val_loss: 25.4038\n",
      "Epoch 362/500\n",
      "32/32 [==============================] - 0s 4ms/step - loss: 25.2664 - val_loss: 25.0609\n",
      "Epoch 363/500\n",
      "32/32 [==============================] - 0s 4ms/step - loss: 25.1585 - val_loss: 24.9326\n",
      "Epoch 364/500\n",
      "32/32 [==============================] - 0s 4ms/step - loss: 24.9127 - val_loss: 24.9160\n",
      "Epoch 365/500\n",
      "32/32 [==============================] - 0s 5ms/step - loss: 25.3174 - val_loss: 24.7066\n",
      "Epoch 366/500\n",
      "32/32 [==============================] - 0s 4ms/step - loss: 25.0476 - val_loss: 25.4609\n",
      "Epoch 367/500\n",
      "32/32 [==============================] - 0s 5ms/step - loss: 24.9408 - val_loss: 24.6473\n",
      "Epoch 368/500\n",
      "32/32 [==============================] - 0s 3ms/step - loss: 24.5810 - val_loss: 24.6736\n",
      "Epoch 369/500\n",
      "32/32 [==============================] - 0s 2ms/step - loss: 24.4462 - val_loss: 24.8384\n",
      "Epoch 370/500\n",
      "32/32 [==============================] - 0s 3ms/step - loss: 24.2941 - val_loss: 24.4172\n",
      "Epoch 371/500\n",
      "32/32 [==============================] - 0s 3ms/step - loss: 24.2721 - val_loss: 24.6796\n",
      "Epoch 372/500\n",
      "32/32 [==============================] - 0s 4ms/step - loss: 24.2740 - val_loss: 24.6427\n",
      "Epoch 373/500\n",
      "32/32 [==============================] - 0s 4ms/step - loss: 24.0281 - val_loss: 24.1996\n",
      "Epoch 374/500\n",
      "32/32 [==============================] - 0s 4ms/step - loss: 23.9490 - val_loss: 24.2166\n",
      "Epoch 375/500\n",
      "32/32 [==============================] - 0s 4ms/step - loss: 23.9046 - val_loss: 24.0792\n",
      "Epoch 376/500\n",
      "32/32 [==============================] - 0s 4ms/step - loss: 23.7833 - val_loss: 24.0107\n",
      "Epoch 377/500\n",
      "32/32 [==============================] - 0s 5ms/step - loss: 23.7248 - val_loss: 24.3451\n",
      "Epoch 378/500\n",
      "32/32 [==============================] - 0s 2ms/step - loss: 23.8253 - val_loss: 23.7834\n",
      "Epoch 379/500\n",
      "32/32 [==============================] - 0s 3ms/step - loss: 23.5890 - val_loss: 23.9998\n",
      "Epoch 380/500\n",
      "32/32 [==============================] - 0s 4ms/step - loss: 23.4832 - val_loss: 23.9933\n",
      "Epoch 381/500\n",
      "32/32 [==============================] - 0s 4ms/step - loss: 23.3816 - val_loss: 23.6920\n",
      "Epoch 382/500\n",
      "32/32 [==============================] - 0s 4ms/step - loss: 23.3756 - val_loss: 23.5615\n",
      "Epoch 383/500\n",
      "32/32 [==============================] - 0s 2ms/step - loss: 23.4049 - val_loss: 23.4588\n",
      "Epoch 384/500\n",
      "32/32 [==============================] - 0s 2ms/step - loss: 23.3103 - val_loss: 23.4813\n",
      "Epoch 385/500\n",
      "32/32 [==============================] - 0s 2ms/step - loss: 23.1602 - val_loss: 23.3609\n",
      "Epoch 386/500\n",
      "32/32 [==============================] - 0s 2ms/step - loss: 23.0815 - val_loss: 23.6327\n",
      "Epoch 387/500\n",
      "32/32 [==============================] - 0s 2ms/step - loss: 23.0111 - val_loss: 23.4243\n",
      "Epoch 388/500\n",
      "32/32 [==============================] - 0s 2ms/step - loss: 22.8847 - val_loss: 23.3825\n",
      "Epoch 389/500\n",
      "32/32 [==============================] - 0s 3ms/step - loss: 22.7600 - val_loss: 23.3488\n",
      "Epoch 390/500\n",
      "32/32 [==============================] - 0s 3ms/step - loss: 22.9284 - val_loss: 23.4370\n",
      "Epoch 391/500\n",
      "32/32 [==============================] - 0s 4ms/step - loss: 22.7630 - val_loss: 23.0174\n",
      "Epoch 392/500\n",
      "32/32 [==============================] - 0s 4ms/step - loss: 22.7253 - val_loss: 23.3514\n",
      "Epoch 393/500\n"
     ]
    },
    {
     "name": "stdout",
     "output_type": "stream",
     "text": [
      "32/32 [==============================] - 0s 4ms/step - loss: 22.5218 - val_loss: 22.9720\n",
      "Epoch 394/500\n",
      "32/32 [==============================] - 0s 6ms/step - loss: 22.3687 - val_loss: 23.1494\n",
      "Epoch 395/500\n",
      "32/32 [==============================] - 0s 6ms/step - loss: 22.5008 - val_loss: 22.7525\n",
      "Epoch 396/500\n",
      "32/32 [==============================] - 0s 5ms/step - loss: 22.4235 - val_loss: 23.0151\n",
      "Epoch 397/500\n",
      "32/32 [==============================] - 0s 5ms/step - loss: 22.2560 - val_loss: 23.0042\n",
      "Epoch 398/500\n",
      "32/32 [==============================] - 0s 4ms/step - loss: 22.2054 - val_loss: 23.0599\n",
      "Epoch 399/500\n",
      "32/32 [==============================] - 0s 6ms/step - loss: 22.2517 - val_loss: 23.1840\n",
      "Epoch 400/500\n",
      "32/32 [==============================] - 0s 2ms/step - loss: 22.2887 - val_loss: 22.4982\n",
      "Epoch 401/500\n",
      "32/32 [==============================] - 0s 2ms/step - loss: 22.5310 - val_loss: 23.2671\n",
      "Epoch 402/500\n",
      "32/32 [==============================] - 0s 4ms/step - loss: 21.8711 - val_loss: 22.4709\n",
      "Epoch 403/500\n",
      "32/32 [==============================] - 0s 4ms/step - loss: 21.8081 - val_loss: 22.8994\n",
      "Epoch 404/500\n",
      "32/32 [==============================] - 0s 5ms/step - loss: 21.9213 - val_loss: 22.3137\n",
      "Epoch 405/500\n",
      "32/32 [==============================] - 0s 4ms/step - loss: 22.2094 - val_loss: 23.1422\n",
      "Epoch 406/500\n",
      "32/32 [==============================] - 0s 6ms/step - loss: 21.8025 - val_loss: 22.2620\n",
      "Epoch 407/500\n",
      "32/32 [==============================] - 0s 5ms/step - loss: 21.6673 - val_loss: 22.3382\n",
      "Epoch 408/500\n",
      "32/32 [==============================] - 0s 2ms/step - loss: 21.5593 - val_loss: 22.2857\n",
      "Epoch 409/500\n",
      "32/32 [==============================] - 0s 3ms/step - loss: 21.5962 - val_loss: 22.0752\n",
      "Epoch 410/500\n",
      "32/32 [==============================] - 0s 2ms/step - loss: 21.4617 - val_loss: 22.4672\n",
      "Epoch 411/500\n",
      "32/32 [==============================] - 0s 2ms/step - loss: 21.4046 - val_loss: 22.0114\n",
      "Epoch 412/500\n",
      "32/32 [==============================] - 0s 7ms/step - loss: 21.4580 - val_loss: 22.0520\n",
      "Epoch 413/500\n",
      "32/32 [==============================] - 0s 6ms/step - loss: 21.2815 - val_loss: 22.0923\n",
      "Epoch 414/500\n",
      "32/32 [==============================] - 0s 5ms/step - loss: 21.3555 - val_loss: 22.6084\n",
      "Epoch 415/500\n",
      "32/32 [==============================] - 0s 2ms/step - loss: 21.2544 - val_loss: 21.8316\n",
      "Epoch 416/500\n",
      "32/32 [==============================] - 0s 2ms/step - loss: 21.5494 - val_loss: 21.7141\n",
      "Epoch 417/500\n",
      "32/32 [==============================] - 0s 2ms/step - loss: 21.3575 - val_loss: 22.5885\n",
      "Epoch 418/500\n",
      "32/32 [==============================] - 0s 2ms/step - loss: 21.1141 - val_loss: 21.8448\n",
      "Epoch 419/500\n",
      "32/32 [==============================] - 0s 4ms/step - loss: 21.0626 - val_loss: 21.8325\n",
      "Epoch 420/500\n",
      "32/32 [==============================] - 0s 6ms/step - loss: 21.0841 - val_loss: 21.6708\n",
      "Epoch 421/500\n",
      "32/32 [==============================] - 0s 4ms/step - loss: 20.9179 - val_loss: 21.7884\n",
      "Epoch 422/500\n",
      "32/32 [==============================] - 0s 4ms/step - loss: 20.9104 - val_loss: 21.9364\n",
      "Epoch 423/500\n",
      "32/32 [==============================] - 0s 2ms/step - loss: 20.7551 - val_loss: 21.5995\n",
      "Epoch 424/500\n",
      "32/32 [==============================] - 0s 2ms/step - loss: 20.8998 - val_loss: 21.4297\n",
      "Epoch 425/500\n",
      "32/32 [==============================] - 0s 2ms/step - loss: 20.8446 - val_loss: 21.5661\n",
      "Epoch 426/500\n",
      "32/32 [==============================] - 0s 2ms/step - loss: 20.8094 - val_loss: 21.3979\n",
      "Epoch 427/500\n",
      "32/32 [==============================] - 0s 2ms/step - loss: 21.0780 - val_loss: 21.4324\n",
      "Epoch 428/500\n",
      "32/32 [==============================] - 0s 5ms/step - loss: 20.6940 - val_loss: 21.4541\n",
      "Epoch 429/500\n",
      "32/32 [==============================] - 0s 3ms/step - loss: 20.7778 - val_loss: 21.8009\n",
      "Epoch 430/500\n",
      "32/32 [==============================] - 0s 6ms/step - loss: 20.6164 - val_loss: 21.4601\n",
      "Epoch 431/500\n",
      "32/32 [==============================] - 0s 4ms/step - loss: 20.6196 - val_loss: 21.5427\n",
      "Epoch 432/500\n",
      "32/32 [==============================] - 0s 4ms/step - loss: 20.5438 - val_loss: 21.9578\n",
      "Epoch 433/500\n",
      "32/32 [==============================] - 0s 3ms/step - loss: 20.5935 - val_loss: 21.2127\n",
      "Epoch 434/500\n",
      "32/32 [==============================] - 0s 4ms/step - loss: 20.3372 - val_loss: 21.5011\n",
      "Epoch 435/500\n",
      "32/32 [==============================] - 0s 4ms/step - loss: 20.4132 - val_loss: 21.1547\n",
      "Epoch 436/500\n",
      "32/32 [==============================] - 0s 4ms/step - loss: 20.3109 - val_loss: 21.1495\n",
      "Epoch 437/500\n",
      "32/32 [==============================] - 0s 5ms/step - loss: 20.2807 - val_loss: 21.0376\n",
      "Epoch 438/500\n",
      "32/32 [==============================] - 0s 2ms/step - loss: 20.3168 - val_loss: 21.3727\n",
      "Epoch 439/500\n",
      "32/32 [==============================] - 0s 4ms/step - loss: 20.1809 - val_loss: 21.2447\n",
      "Epoch 440/500\n",
      "32/32 [==============================] - 0s 5ms/step - loss: 20.2730 - val_loss: 20.9049\n",
      "Epoch 441/500\n",
      "32/32 [==============================] - 0s 4ms/step - loss: 20.2167 - val_loss: 21.1181\n",
      "Epoch 442/500\n",
      "32/32 [==============================] - 0s 4ms/step - loss: 20.0613 - val_loss: 20.9514\n",
      "Epoch 443/500\n",
      "32/32 [==============================] - 0s 3ms/step - loss: 20.0762 - val_loss: 21.5056\n",
      "Epoch 444/500\n",
      "32/32 [==============================] - 0s 2ms/step - loss: 20.1270 - val_loss: 21.0855\n",
      "Epoch 445/500\n",
      "32/32 [==============================] - 0s 2ms/step - loss: 19.9138 - val_loss: 20.7342\n",
      "Epoch 446/500\n",
      "32/32 [==============================] - 0s 5ms/step - loss: 20.6001 - val_loss: 20.8857\n",
      "Epoch 447/500\n",
      "32/32 [==============================] - 0s 4ms/step - loss: 19.9173 - val_loss: 20.7504\n",
      "Epoch 448/500\n",
      "32/32 [==============================] - 0s 4ms/step - loss: 19.9418 - val_loss: 21.4768\n",
      "Epoch 449/500\n",
      "32/32 [==============================] - 0s 3ms/step - loss: 20.0223 - val_loss: 21.4437\n",
      "Epoch 450/500\n",
      "32/32 [==============================] - 0s 3ms/step - loss: 19.8693 - val_loss: 20.7824\n",
      "Epoch 451/500\n",
      "32/32 [==============================] - 0s 4ms/step - loss: 20.0467 - val_loss: 20.7026\n",
      "Epoch 452/500\n",
      "32/32 [==============================] - 0s 2ms/step - loss: 19.8237 - val_loss: 21.0078\n",
      "Epoch 453/500\n",
      "32/32 [==============================] - 0s 2ms/step - loss: 19.8674 - val_loss: 21.0884\n",
      "Epoch 454/500\n",
      "32/32 [==============================] - 0s 2ms/step - loss: 19.7336 - val_loss: 20.9534\n",
      "Epoch 455/500\n",
      "32/32 [==============================] - 0s 4ms/step - loss: 19.7303 - val_loss: 20.6135\n",
      "Epoch 456/500\n",
      "32/32 [==============================] - 0s 5ms/step - loss: 19.6327 - val_loss: 20.9913\n",
      "Epoch 457/500\n",
      "32/32 [==============================] - 0s 4ms/step - loss: 19.7940 - val_loss: 21.3157\n",
      "Epoch 458/500\n",
      "32/32 [==============================] - 0s 5ms/step - loss: 20.0180 - val_loss: 20.7061\n",
      "Epoch 459/500\n",
      "32/32 [==============================] - 0s 4ms/step - loss: 19.4716 - val_loss: 20.8517\n",
      "Epoch 460/500\n",
      "32/32 [==============================] - 0s 3ms/step - loss: 19.4996 - val_loss: 20.3953\n",
      "Epoch 461/500\n",
      "32/32 [==============================] - 0s 3ms/step - loss: 19.4366 - val_loss: 20.6897\n",
      "Epoch 462/500\n",
      "32/32 [==============================] - 0s 5ms/step - loss: 19.4114 - val_loss: 20.3380\n",
      "Epoch 463/500\n",
      "32/32 [==============================] - 0s 4ms/step - loss: 19.4294 - val_loss: 20.4331\n",
      "Epoch 464/500\n",
      "32/32 [==============================] - 0s 5ms/step - loss: 19.4266 - val_loss: 20.3844\n",
      "Epoch 465/500\n",
      "32/32 [==============================] - 0s 4ms/step - loss: 19.3380 - val_loss: 20.4805\n",
      "Epoch 466/500\n",
      "32/32 [==============================] - 0s 2ms/step - loss: 19.4186 - val_loss: 20.5034\n",
      "Epoch 467/500\n",
      "32/32 [==============================] - 0s 2ms/step - loss: 19.3371 - val_loss: 20.3912\n",
      "Epoch 468/500\n",
      "32/32 [==============================] - 0s 2ms/step - loss: 19.2887 - val_loss: 20.7949\n",
      "Epoch 469/500\n",
      "32/32 [==============================] - 0s 3ms/step - loss: 19.5245 - val_loss: 20.4355\n",
      "Epoch 470/500\n",
      "32/32 [==============================] - 0s 2ms/step - loss: 19.1981 - val_loss: 20.0900\n",
      "Epoch 471/500\n",
      "32/32 [==============================] - 0s 2ms/step - loss: 19.3279 - val_loss: 20.2468\n",
      "Epoch 472/500\n"
     ]
    },
    {
     "name": "stdout",
     "output_type": "stream",
     "text": [
      "32/32 [==============================] - 0s 2ms/step - loss: 19.2006 - val_loss: 20.7489\n",
      "Epoch 473/500\n",
      "32/32 [==============================] - 0s 2ms/step - loss: 19.3698 - val_loss: 20.4481\n",
      "Epoch 474/500\n",
      "32/32 [==============================] - 0s 2ms/step - loss: 19.1305 - val_loss: 19.9935\n",
      "Epoch 475/500\n",
      "32/32 [==============================] - 0s 2ms/step - loss: 19.1195 - val_loss: 21.0957\n",
      "Epoch 476/500\n",
      "32/32 [==============================] - 0s 4ms/step - loss: 19.3771 - val_loss: 20.4758\n",
      "Epoch 477/500\n",
      "32/32 [==============================] - 0s 2ms/step - loss: 19.1577 - val_loss: 20.4372\n",
      "Epoch 478/500\n",
      "32/32 [==============================] - 0s 2ms/step - loss: 19.2174 - val_loss: 19.8602\n",
      "Epoch 479/500\n",
      "32/32 [==============================] - 0s 4ms/step - loss: 19.1862 - val_loss: 20.0570\n",
      "Epoch 480/500\n",
      "32/32 [==============================] - 0s 5ms/step - loss: 19.0042 - val_loss: 19.9360\n",
      "Epoch 481/500\n",
      "32/32 [==============================] - 0s 3ms/step - loss: 18.9011 - val_loss: 20.1285\n",
      "Epoch 482/500\n",
      "32/32 [==============================] - 0s 2ms/step - loss: 19.0998 - val_loss: 19.9162\n",
      "Epoch 483/500\n",
      "32/32 [==============================] - 0s 2ms/step - loss: 18.9647 - val_loss: 20.1684\n",
      "Epoch 484/500\n",
      "32/32 [==============================] - 0s 2ms/step - loss: 18.9256 - val_loss: 20.1689\n",
      "Epoch 485/500\n",
      "32/32 [==============================] - 0s 4ms/step - loss: 18.9605 - val_loss: 20.0895\n",
      "Epoch 486/500\n",
      "32/32 [==============================] - 0s 5ms/step - loss: 18.8375 - val_loss: 20.0062\n",
      "Epoch 487/500\n",
      "32/32 [==============================] - 0s 4ms/step - loss: 18.8886 - val_loss: 19.9149\n",
      "Epoch 488/500\n",
      "32/32 [==============================] - 0s 5ms/step - loss: 18.7938 - val_loss: 19.8907\n",
      "Epoch 489/500\n",
      "32/32 [==============================] - 0s 2ms/step - loss: 18.8098 - val_loss: 19.9257\n",
      "Epoch 490/500\n",
      "32/32 [==============================] - 0s 5ms/step - loss: 18.6796 - val_loss: 19.7393\n",
      "Epoch 491/500\n",
      "32/32 [==============================] - 0s 4ms/step - loss: 18.6988 - val_loss: 20.0012\n",
      "Epoch 492/500\n",
      "32/32 [==============================] - 0s 4ms/step - loss: 18.7595 - val_loss: 19.6461\n",
      "Epoch 493/500\n",
      "32/32 [==============================] - 0s 4ms/step - loss: 18.7330 - val_loss: 20.0768\n",
      "Epoch 494/500\n",
      "32/32 [==============================] - 0s 4ms/step - loss: 18.6296 - val_loss: 19.7158\n",
      "Epoch 495/500\n",
      "32/32 [==============================] - 0s 2ms/step - loss: 18.6342 - val_loss: 19.9205\n",
      "Epoch 496/500\n",
      "32/32 [==============================] - 0s 4ms/step - loss: 18.6760 - val_loss: 19.7887\n",
      "Epoch 497/500\n",
      "32/32 [==============================] - 0s 3ms/step - loss: 18.6201 - val_loss: 20.0524\n",
      "Epoch 498/500\n",
      "32/32 [==============================] - 0s 5ms/step - loss: 18.5839 - val_loss: 19.5200\n",
      "Epoch 499/500\n",
      "32/32 [==============================] - 0s 4ms/step - loss: 18.4935 - val_loss: 19.8716\n",
      "Epoch 500/500\n",
      "32/32 [==============================] - 0s 4ms/step - loss: 18.7154 - val_loss: 19.3879\n"
     ]
    }
   ],
   "source": [
    "# fit the model\n",
    "history=model.fit(X_train, y_train, validation_data =(X_test, y_test),epochs=500, batch_size=10) #verbose=0"
   ]
  },
  {
   "cell_type": "markdown",
   "metadata": {},
   "source": [
    "### Evaluate the model"
   ]
  },
  {
   "cell_type": "code",
   "execution_count": 57,
   "metadata": {},
   "outputs": [
    {
     "name": "stdout",
     "output_type": "stream",
     "text": [
      "Train: 18.967, Test: 18.134\n"
     ]
    }
   ],
   "source": [
    "train_mse = model.evaluate(X_train, y_train, verbose=0)\n",
    "test_mse = model.evaluate(X_test, y_test, verbose=0)\n",
    "print('Train: %.3f, Test: %.3f' % (train_mse, test_mse))"
   ]
  },
  {
   "cell_type": "markdown",
   "metadata": {},
   "source": [
    "Learning curves of mean squared error  on the train and test set at the end of each training epoch are graphed below using line plots. These learning curves give an indication of the dynamics while learning the model.\n",
    "https://machinelearningmastery.com/how-to-improve-neural-network-stability-and-modeling-performance-with-data-scaling/"
   ]
  },
  {
   "cell_type": "code",
   "execution_count": 58,
   "metadata": {},
   "outputs": [
    {
     "data": {
      "image/png": "[encoded data removed]",
      "text/plain": [
       "<Figure size 720x432 with 1 Axes>"
      ]
     },
     "metadata": {},
     "output_type": "display_data"
    }
   ],
   "source": [
    "# plot loss during training\n",
    "plt.title('Mean Squared Error')\n",
    "plt.plot(history.history['loss'], label='train')\n",
    "plt.plot(history.history['val_loss'], label='test')\n",
    "plt.legend()\n",
    "plt.show()"
   ]
  },
  {
   "cell_type": "markdown",
   "metadata": {},
   "source": []
  },
  {
   "cell_type": "markdown",
   "metadata": {},
   "source": [
    "### Predictions\n",
    "Run each x value through the neural network."
   ]
  },
  {
   "cell_type": "code",
   "execution_count": 63,
   "metadata": {
    "scrolled": true
   },
   "outputs": [
    {
     "name": "stdout",
     "output_type": "stream",
     "text": [
      "Model: \"sequential_1\"\n",
      "_________________________________________________________________\n",
      "Layer (type)                 Output Shape              Param #   \n",
      "=================================================================\n",
      "dense_2 (Dense)              (None, 50)                100       \n",
      "_________________________________________________________________\n",
      "dense_3 (Dense)              (None, 1)                 51        \n",
      "=================================================================\n",
      "Total params: 151\n",
      "Trainable params: 151\n",
      "Non-trainable params: 0\n",
      "_________________________________________________________________\n"
     ]
    }
   ],
   "source": [
    "model.summary()"
   ]
  },
  {
   "cell_type": "code",
   "execution_count": 64,
   "metadata": {
    "scrolled": false
   },
   "outputs": [
    {
     "data": {
      "text/plain": [
       "array([[101.479294 ],\n",
       "       [ 96.97667  ],\n",
       "       [ 78.54408  ],\n",
       "       [ 76.31578  ],\n",
       "       [  2.476485 ],\n",
       "       [100.75082  ],\n",
       "       [  3.1631136],\n",
       "       [ 91.435455 ],\n",
       "       [ 90.36563  ],\n",
       "       [ 65.187004 ],\n",
       "       [  7.0352   ],\n",
       "       [  3.341596 ],\n",
       "       [  2.61413  ],\n",
       "       [ 21.99328  ],\n",
       "       [ 84.67916  ],\n",
       "       [  3.1414337],\n",
       "       [  3.1675477],\n",
       "       [100.91593  ],\n",
       "       [  3.1067867],\n",
       "       [  3.6103897],\n",
       "       [100.398506 ],\n",
       "       [  3.3313656],\n",
       "       [ 90.909485 ],\n",
       "       [ 94.143425 ],\n",
       "       [ 24.397156 ],\n",
       "       [101.42899  ],\n",
       "       [  3.194469 ],\n",
       "       [ 45.12931  ],\n",
       "       [ 54.319874 ],\n",
       "       [ 98.555466 ],\n",
       "       [ 40.379955 ],\n",
       "       [  3.2633939],\n",
       "       [  2.5698628],\n",
       "       [ 92.32147  ],\n",
       "       [  3.1751392],\n",
       "       [ 69.25044  ],\n",
       "       [ 52.857544 ],\n",
       "       [ 42.451244 ],\n",
       "       [  3.386879 ],\n",
       "       [101.56342  ],\n",
       "       [  6.675982 ],\n",
       "       [  2.6204667],\n",
       "       [  3.0952885],\n",
       "       [  2.5635595],\n",
       "       [ 99.90475  ],\n",
       "       [  3.0815716],\n",
       "       [ 97.54342  ],\n",
       "       [100.571266 ],\n",
       "       [  5.035896 ],\n",
       "       [  3.1652727],\n",
       "       [100.61248  ],\n",
       "       [100.0108   ],\n",
       "       [  3.1873364],\n",
       "       [ 80.81564  ],\n",
       "       [  3.0594225],\n",
       "       [101.116234 ],\n",
       "       [ 12.30583  ],\n",
       "       [ 97.68783  ],\n",
       "       [ 30.660357 ],\n",
       "       [ 95.258644 ],\n",
       "       [ 25.64642  ],\n",
       "       [ 88.46998  ],\n",
       "       [101.74533  ],\n",
       "       [  2.9079134],\n",
       "       [ 12.790309 ],\n",
       "       [100.93343  ],\n",
       "       [ 44.831284 ],\n",
       "       [  3.1402638],\n",
       "       [ 48.40745  ],\n",
       "       [  7.3200417],\n",
       "       [100.21237  ],\n",
       "       [ 34.281124 ],\n",
       "       [ 70.46389  ],\n",
       "       [ 67.505615 ],\n",
       "       [  2.4887552],\n",
       "       [ 99.27837  ],\n",
       "       [  4.1645103],\n",
       "       [ 77.14302  ],\n",
       "       [ 91.33284  ],\n",
       "       [  6.2592726],\n",
       "       [  2.4281445],\n",
       "       [101.39001  ],\n",
       "       [  2.5888093],\n",
       "       [ 58.34475  ],\n",
       "       [  2.48261  ],\n",
       "       [ 75.68268  ],\n",
       "       [ 90.69461  ],\n",
       "       [ 94.90413  ],\n",
       "       [  2.8068824],\n",
       "       [101.88375  ],\n",
       "       [101.66329  ],\n",
       "       [ 73.94157  ],\n",
       "       [ 18.64353  ],\n",
       "       [ 62.78949  ],\n",
       "       [ 86.882965 ],\n",
       "       [ 96.586784 ],\n",
       "       [ 85.587875 ],\n",
       "       [ 23.420061 ],\n",
       "       [  2.3867679],\n",
       "       [ 73.04241  ],\n",
       "       [  2.5134878],\n",
       "       [  3.1438615],\n",
       "       [  3.1085043],\n",
       "       [ 26.420534 ],\n",
       "       [ 34.565094 ],\n",
       "       [ 96.11002  ],\n",
       "       [ 21.760159 ],\n",
       "       [  2.5572677],\n",
       "       [ 19.505331 ],\n",
       "       [ 17.599667 ],\n",
       "       [  3.6519773],\n",
       "       [ 97.78192  ],\n",
       "       [101.87509  ],\n",
       "       [  2.434116 ],\n",
       "       [ 35.135113 ],\n",
       "       [  8.595785 ],\n",
       "       [  3.303103 ],\n",
       "       [ 94.83134  ],\n",
       "       [ 49.6084   ],\n",
       "       [  3.0142255],\n",
       "       [  2.7586288],\n",
       "       [ 22.227762 ],\n",
       "       [ 97.44492  ],\n",
       "       [ 40.970287 ],\n",
       "       [ 65.70931  ],\n",
       "       [ 89.20943  ],\n",
       "       [ 79.893456 ],\n",
       "       [  3.0864031],\n",
       "       [  2.721553 ],\n",
       "       [ 87.56215  ],\n",
       "       [  4.2771454],\n",
       "       [100.807396 ],\n",
       "       [ 97.96504  ],\n",
       "       [ 11.085261 ],\n",
       "       [ 81.531944 ],\n",
       "       [  5.593413 ],\n",
       "       [  2.4042535],\n",
       "       [101.81232  ],\n",
       "       [101.05216  ],\n",
       "       [  3.0993567],\n",
       "       [101.6526   ],\n",
       "       [ 38.033943 ],\n",
       "       [  5.0929093],\n",
       "       [101.13188  ],\n",
       "       [ 97.395004 ],\n",
       "       [  3.0738192],\n",
       "       [101.322586 ],\n",
       "       [ 86.60397  ],\n",
       "       [  2.4703748],\n",
       "       [  3.1506815],\n",
       "       [ 97.34463  ],\n",
       "       [ 91.53723  ],\n",
       "       [ 28.507269 ],\n",
       "       [ 46.61996  ],\n",
       "       [  4.819646 ],\n",
       "       [ 14.873341 ],\n",
       "       [101.266335 ]], dtype=float32)"
      ]
     },
     "execution_count": 64,
     "metadata": {},
     "output_type": "execute_result"
    }
   ],
   "source": [
    "model.predict(X_test)"
   ]
  },
  {
   "cell_type": "code",
   "execution_count": 65,
   "metadata": {},
   "outputs": [],
   "source": [
    "model_predictions = model.predict(X_test)"
   ]
  },
  {
   "cell_type": "code",
   "execution_count": 66,
   "metadata": {},
   "outputs": [
    {
     "name": "stdout",
     "output_type": "stream",
     "text": [
      "10/10 [==============================] - 0s 2ms/step - loss: 18.9670\n"
     ]
    },
    {
     "data": {
      "text/plain": [
       "18.967023849487305"
      ]
     },
     "execution_count": 66,
     "metadata": {},
     "output_type": "execute_result"
    }
   ],
   "source": [
    "model.evaluate(X_train, y_train)"
   ]
  },
  {
   "cell_type": "code",
   "execution_count": 67,
   "metadata": {
    "scrolled": true
   },
   "outputs": [
    {
     "name": "stdout",
     "output_type": "stream",
     "text": [
      "5/5 [==============================] - 0s 921us/step - loss: 18.1343\n"
     ]
    },
    {
     "data": {
      "text/plain": [
       "18.134319305419922"
      ]
     },
     "execution_count": 67,
     "metadata": {},
     "output_type": "execute_result"
    }
   ],
   "source": [
    "model.evaluate(X_test, y_test)"
   ]
  },
  {
   "cell_type": "markdown",
   "metadata": {},
   "source": [
    "### Compare actual data to predictions on test set"
   ]
  },
  {
   "cell_type": "code",
   "execution_count": 69,
   "metadata": {
    "scrolled": false
   },
   "outputs": [
    {
     "data": {
      "text/plain": [
       "[<matplotlib.lines.Line2D at 0x7f9a2ee403a0>]"
      ]
     },
     "execution_count": 69,
     "metadata": {},
     "output_type": "execute_result"
    },
    {
     "data": {
      "image/png": "[encoded data removed]",
      "text/plain": [
       "<Figure size 720x432 with 1 Axes>"
      ]
     },
     "metadata": {},
     "output_type": "display_data"
    }
   ],
   "source": [
    "plt.plot(X_test, y_test, 'x')\n",
    "plt.plot(X_test, model_predictions, 'bx')"
   ]
  },
  {
   "cell_type": "code",
   "execution_count": 70,
   "metadata": {},
   "outputs": [
    {
     "data": {
      "text/plain": [
       "array([[98.06293]], dtype=float32)"
      ]
     },
     "execution_count": 70,
     "metadata": {},
     "output_type": "execute_result"
    }
   ],
   "source": [
    "model.predict([20])"
   ]
  },
  {
   "cell_type": "markdown",
   "metadata": {},
   "source": [
    "### Problem!\n",
    "\n",
    "Because I took out the values over 24.4 where all the power values were zero, the model is predicting a power value that is incorrect so I need to take this into account in the prediction web app. \n",
    "Also it is predicting a power value when wind speed is zero so this is also incorrect.\n",
    "So here below I experimented by using the entire dataset with the same model and to no avail.\n",
    "Maybe if I add extra layers this might help..."
   ]
  },
  {
   "cell_type": "code",
   "execution_count": 77,
   "metadata": {},
   "outputs": [
    {
     "data": {
      "text/plain": [
       "array([[3.0057802]], dtype=float32)"
      ]
     },
     "execution_count": 77,
     "metadata": {},
     "output_type": "execute_result"
    }
   ],
   "source": [
    "model.predict([3])"
   ]
  },
  {
   "cell_type": "code",
   "execution_count": 76,
   "metadata": {},
   "outputs": [
    {
     "data": {
      "text/plain": [
       "array([[101.91786]], dtype=float32)"
      ]
     },
     "execution_count": 76,
     "metadata": {},
     "output_type": "execute_result"
    }
   ],
   "source": [
    "model.predict([24.5])"
   ]
  },
  {
   "cell_type": "code",
   "execution_count": 78,
   "metadata": {},
   "outputs": [
    {
     "data": {
      "text/plain": [
       "array([[7.687847]], dtype=float32)"
      ]
     },
     "execution_count": 78,
     "metadata": {},
     "output_type": "execute_result"
    }
   ],
   "source": [
    "model.predict([8])"
   ]
  },
  {
   "cell_type": "code",
   "execution_count": 79,
   "metadata": {},
   "outputs": [
    {
     "data": {
      "text/plain": [
       "array([[101.51679]], dtype=float32)"
      ]
     },
     "execution_count": 79,
     "metadata": {},
     "output_type": "execute_result"
    }
   ],
   "source": [
    "model.predict([23.5])"
   ]
  },
  {
   "cell_type": "code",
   "execution_count": 80,
   "metadata": {},
   "outputs": [
    {
     "data": {
      "text/plain": [
       "array([[2.3138142]], dtype=float32)"
      ]
     },
     "execution_count": 80,
     "metadata": {},
     "output_type": "execute_result"
    }
   ],
   "source": [
    "model.predict([0])"
   ]
  },
  {
   "cell_type": "code",
   "execution_count": 90,
   "metadata": {},
   "outputs": [
    {
     "data": {
      "text/plain": [
       "array([[91.95961]], dtype=float32)"
      ]
     },
     "execution_count": 90,
     "metadata": {},
     "output_type": "execute_result"
    }
   ],
   "source": [
    "model.predict([24.4])"
   ]
  },
  {
   "cell_type": "code",
   "execution_count": 91,
   "metadata": {},
   "outputs": [],
   "source": [
    "# Train a model\n",
    "model2 = kr.models.Sequential()\n",
    "model2.add(kr.layers.Dense(50, input_shape=(1,), activation='sigmoid', kernel_initializer=\"glorot_uniform\", bias_initializer=\"glorot_uniform\"))\n",
    "#model.add(kr.layers.BatchNormalization())\n",
    "model2.add(kr.layers.Dense(50, input_shape=(1,), activation='sigmoid', kernel_initializer=\"glorot_uniform\", bias_initializer=\"glorot_uniform\"))\n",
    "model2.add(kr.layers.Dense(1, activation='linear', kernel_initializer=\"glorot_uniform\", bias_initializer=\"glorot_uniform\"))"
   ]
  },
  {
   "cell_type": "code",
   "execution_count": 92,
   "metadata": {},
   "outputs": [
    {
     "name": "stdout",
     "output_type": "stream",
     "text": [
      "Model: \"sequential_3\"\n",
      "_________________________________________________________________\n",
      "Layer (type)                 Output Shape              Param #   \n",
      "=================================================================\n",
      "dense_6 (Dense)              (None, 50)                100       \n",
      "_________________________________________________________________\n",
      "dense_7 (Dense)              (None, 50)                2550      \n",
      "_________________________________________________________________\n",
      "dense_8 (Dense)              (None, 1)                 51        \n",
      "=================================================================\n",
      "Total params: 2,701\n",
      "Trainable params: 2,701\n",
      "Non-trainable params: 0\n",
      "_________________________________________________________________\n"
     ]
    }
   ],
   "source": [
    "# \n",
    "model2.compile(kr.optimizers.Adam(lr=0.001), loss='mean_squared_error')\n",
    "model2.summary()"
   ]
  },
  {
   "cell_type": "code",
   "execution_count": 93,
   "metadata": {},
   "outputs": [
    {
     "name": "stdout",
     "output_type": "stream",
     "text": [
      "Epoch 1/500\n",
      "34/34 [==============================] - 0s 5ms/step - loss: 3963.8687 - val_loss: 3664.9580\n",
      "Epoch 2/500\n",
      "34/34 [==============================] - 0s 2ms/step - loss: 3713.1631 - val_loss: 3458.1135\n",
      "Epoch 3/500\n",
      "34/34 [==============================] - 0s 2ms/step - loss: 3518.2202 - val_loss: 3300.7166\n",
      "Epoch 4/500\n",
      "34/34 [==============================] - 0s 3ms/step - loss: 3376.3953 - val_loss: 3187.9766\n",
      "Epoch 5/500\n",
      "34/34 [==============================] - 0s 3ms/step - loss: 3268.9802 - val_loss: 3097.7393\n",
      "Epoch 6/500\n",
      "34/34 [==============================] - 0s 3ms/step - loss: 3177.5862 - val_loss: 3021.1895\n",
      "Epoch 7/500\n",
      "34/34 [==============================] - 0s 2ms/step - loss: 3097.5662 - val_loss: 2947.9556\n",
      "Epoch 8/500\n",
      "34/34 [==============================] - 0s 2ms/step - loss: 3021.4390 - val_loss: 2882.3457\n",
      "Epoch 9/500\n",
      "34/34 [==============================] - 0s 2ms/step - loss: 2952.5222 - val_loss: 2815.8040\n",
      "Epoch 10/500\n",
      "34/34 [==============================] - 0s 2ms/step - loss: 2886.1785 - val_loss: 2756.3088\n",
      "Epoch 11/500\n",
      "34/34 [==============================] - 0s 2ms/step - loss: 2823.5559 - val_loss: 2702.3518\n",
      "Epoch 12/500\n",
      "34/34 [==============================] - 0s 2ms/step - loss: 2765.0295 - val_loss: 2648.6169\n",
      "Epoch 13/500\n",
      "34/34 [==============================] - 0s 2ms/step - loss: 2708.2693 - val_loss: 2599.6929\n",
      "Epoch 14/500\n",
      "34/34 [==============================] - 0s 2ms/step - loss: 2654.9045 - val_loss: 2552.3931\n",
      "Epoch 15/500\n",
      "34/34 [==============================] - 0s 2ms/step - loss: 2603.7092 - val_loss: 2505.9436\n",
      "Epoch 16/500\n",
      "34/34 [==============================] - 0s 3ms/step - loss: 2553.5229 - val_loss: 2460.7976\n",
      "Epoch 17/500\n",
      "34/34 [==============================] - 0s 2ms/step - loss: 2506.4641 - val_loss: 2418.8086\n",
      "Epoch 18/500\n",
      "34/34 [==============================] - 0s 2ms/step - loss: 2461.3208 - val_loss: 2380.0066\n",
      "Epoch 19/500\n",
      "34/34 [==============================] - 0s 2ms/step - loss: 2418.8738 - val_loss: 2340.5896\n",
      "Epoch 20/500\n",
      "34/34 [==============================] - 0s 2ms/step - loss: 2376.9160 - val_loss: 2303.1638\n",
      "Epoch 21/500\n",
      "34/34 [==============================] - 0s 2ms/step - loss: 2334.0315 - val_loss: 2263.5247\n",
      "Epoch 22/500\n",
      "34/34 [==============================] - 0s 4ms/step - loss: 2289.7759 - val_loss: 2224.6445\n",
      "Epoch 23/500\n",
      "34/34 [==============================] - 0s 4ms/step - loss: 2246.7441 - val_loss: 2185.1636\n",
      "Epoch 24/500\n",
      "34/34 [==============================] - 0s 3ms/step - loss: 2204.4563 - val_loss: 2144.6165\n",
      "Epoch 25/500\n",
      "34/34 [==============================] - 0s 2ms/step - loss: 2160.9475 - val_loss: 2101.1526\n",
      "Epoch 26/500\n",
      "34/34 [==============================] - 0s 3ms/step - loss: 2115.2627 - val_loss: 2058.0229\n",
      "Epoch 27/500\n",
      "34/34 [==============================] - 0s 2ms/step - loss: 2069.1436 - val_loss: 2014.5035\n",
      "Epoch 28/500\n",
      "34/34 [==============================] - 0s 2ms/step - loss: 2021.2214 - val_loss: 1962.9286\n",
      "Epoch 29/500\n",
      "34/34 [==============================] - 0s 2ms/step - loss: 1970.9678 - val_loss: 1914.0660\n",
      "Epoch 30/500\n",
      "34/34 [==============================] - 0s 2ms/step - loss: 1920.3467 - val_loss: 1868.7249\n",
      "Epoch 31/500\n",
      "34/34 [==============================] - 0s 2ms/step - loss: 1871.1440 - val_loss: 1813.8533\n",
      "Epoch 32/500\n",
      "34/34 [==============================] - 0s 3ms/step - loss: 1817.6541 - val_loss: 1765.7548\n",
      "Epoch 33/500\n",
      "34/34 [==============================] - 0s 4ms/step - loss: 1766.6571 - val_loss: 1711.4994\n",
      "Epoch 34/500\n",
      "34/34 [==============================] - 0s 4ms/step - loss: 1716.1675 - val_loss: 1660.0746\n",
      "Epoch 35/500\n",
      "34/34 [==============================] - 0s 3ms/step - loss: 1668.1980 - val_loss: 1614.1678\n",
      "Epoch 36/500\n",
      "34/34 [==============================] - 0s 5ms/step - loss: 1618.6274 - val_loss: 1563.7418\n",
      "Epoch 37/500\n",
      "34/34 [==============================] - 0s 3ms/step - loss: 1572.6720 - val_loss: 1518.5889\n",
      "Epoch 38/500\n",
      "34/34 [==============================] - 0s 4ms/step - loss: 1526.3076 - val_loss: 1472.8300\n",
      "Epoch 39/500\n",
      "34/34 [==============================] - 0s 4ms/step - loss: 1477.9993 - val_loss: 1424.1575\n",
      "Epoch 40/500\n",
      "34/34 [==============================] - 0s 3ms/step - loss: 1428.8746 - val_loss: 1378.2938\n",
      "Epoch 41/500\n",
      "34/34 [==============================] - 0s 4ms/step - loss: 1382.2638 - val_loss: 1336.2659\n",
      "Epoch 42/500\n",
      "34/34 [==============================] - 0s 5ms/step - loss: 1338.1248 - val_loss: 1296.6316\n",
      "Epoch 43/500\n",
      "34/34 [==============================] - 0s 4ms/step - loss: 1297.7397 - val_loss: 1251.0801\n",
      "Epoch 44/500\n",
      "34/34 [==============================] - 0s 4ms/step - loss: 1257.4768 - val_loss: 1214.3080\n",
      "Epoch 45/500\n",
      "34/34 [==============================] - 0s 4ms/step - loss: 1218.3901 - val_loss: 1175.6582\n",
      "Epoch 46/500\n",
      "34/34 [==============================] - 0s 3ms/step - loss: 1181.2249 - val_loss: 1141.7446\n",
      "Epoch 47/500\n",
      "34/34 [==============================] - 0s 2ms/step - loss: 1146.2212 - val_loss: 1107.9166\n",
      "Epoch 48/500\n",
      "34/34 [==============================] - 0s 3ms/step - loss: 1111.9069 - val_loss: 1072.9603\n",
      "Epoch 49/500\n",
      "34/34 [==============================] - 0s 2ms/step - loss: 1078.6818 - val_loss: 1041.8660\n",
      "Epoch 50/500\n",
      "34/34 [==============================] - 0s 2ms/step - loss: 1046.3654 - val_loss: 1012.5312\n",
      "Epoch 51/500\n",
      "34/34 [==============================] - 0s 2ms/step - loss: 1015.4022 - val_loss: 981.0988\n",
      "Epoch 52/500\n",
      "34/34 [==============================] - 0s 3ms/step - loss: 985.3360 - val_loss: 950.8939\n",
      "Epoch 53/500\n",
      "34/34 [==============================] - 0s 3ms/step - loss: 956.6132 - val_loss: 924.7214\n",
      "Epoch 54/500\n",
      "34/34 [==============================] - 0s 2ms/step - loss: 929.5269 - val_loss: 900.7931\n",
      "Epoch 55/500\n",
      "34/34 [==============================] - 0s 2ms/step - loss: 903.2646 - val_loss: 873.3455\n",
      "Epoch 56/500\n",
      "34/34 [==============================] - 0s 2ms/step - loss: 876.3470 - val_loss: 848.9720\n",
      "Epoch 57/500\n",
      "34/34 [==============================] - 0s 2ms/step - loss: 851.9053 - val_loss: 823.3930\n",
      "Epoch 58/500\n",
      "34/34 [==============================] - 0s 2ms/step - loss: 827.8272 - val_loss: 798.9933\n",
      "Epoch 59/500\n",
      "34/34 [==============================] - 0s 2ms/step - loss: 804.3284 - val_loss: 779.1368\n",
      "Epoch 60/500\n",
      "34/34 [==============================] - 0s 2ms/step - loss: 782.1085 - val_loss: 756.3035\n",
      "Epoch 61/500\n",
      "34/34 [==============================] - 0s 2ms/step - loss: 760.4730 - val_loss: 734.9771\n",
      "Epoch 62/500\n",
      "34/34 [==============================] - 0s 2ms/step - loss: 739.7476 - val_loss: 715.6461\n",
      "Epoch 63/500\n",
      "34/34 [==============================] - 0s 2ms/step - loss: 719.2039 - val_loss: 696.4655\n",
      "Epoch 64/500\n",
      "34/34 [==============================] - 0s 2ms/step - loss: 700.1355 - val_loss: 680.5921\n",
      "Epoch 65/500\n",
      "34/34 [==============================] - 0s 5ms/step - loss: 681.7407 - val_loss: 660.1078\n",
      "Epoch 66/500\n",
      "34/34 [==============================] - 0s 4ms/step - loss: 662.9969 - val_loss: 642.5774\n",
      "Epoch 67/500\n",
      "34/34 [==============================] - 0s 3ms/step - loss: 646.7749 - val_loss: 625.1842\n",
      "Epoch 68/500\n",
      "34/34 [==============================] - 0s 4ms/step - loss: 629.1011 - val_loss: 608.2107\n",
      "Epoch 69/500\n",
      "34/34 [==============================] - 0s 4ms/step - loss: 612.3917 - val_loss: 592.8795\n",
      "Epoch 70/500\n",
      "34/34 [==============================] - 0s 4ms/step - loss: 596.6835 - val_loss: 577.3570\n",
      "Epoch 71/500\n",
      "34/34 [==============================] - 0s 4ms/step - loss: 581.2341 - val_loss: 563.3206\n",
      "Epoch 72/500\n",
      "34/34 [==============================] - 0s 2ms/step - loss: 567.3093 - val_loss: 549.0452\n",
      "Epoch 73/500\n",
      "34/34 [==============================] - 0s 3ms/step - loss: 552.3747 - val_loss: 534.5134\n",
      "Epoch 74/500\n",
      "34/34 [==============================] - 0s 2ms/step - loss: 539.6569 - val_loss: 522.5159\n",
      "Epoch 75/500\n",
      "34/34 [==============================] - 0s 2ms/step - loss: 526.6368 - val_loss: 509.5921\n",
      "Epoch 76/500\n",
      "34/34 [==============================] - 0s 4ms/step - loss: 513.6778 - val_loss: 497.2896\n",
      "Epoch 77/500\n",
      "34/34 [==============================] - 0s 4ms/step - loss: 501.7364 - val_loss: 486.1972\n",
      "Epoch 78/500\n",
      "34/34 [==============================] - 0s 3ms/step - loss: 490.4935 - val_loss: 475.8899\n"
     ]
    },
    {
     "name": "stdout",
     "output_type": "stream",
     "text": [
      "Epoch 79/500\n",
      "34/34 [==============================] - 0s 3ms/step - loss: 479.0900 - val_loss: 463.7270\n",
      "Epoch 80/500\n",
      "34/34 [==============================] - 0s 2ms/step - loss: 468.2192 - val_loss: 453.7278\n",
      "Epoch 81/500\n",
      "34/34 [==============================] - 0s 2ms/step - loss: 457.6743 - val_loss: 443.2347\n",
      "Epoch 82/500\n",
      "34/34 [==============================] - 0s 4ms/step - loss: 447.8469 - val_loss: 433.9022\n",
      "Epoch 83/500\n",
      "34/34 [==============================] - 0s 6ms/step - loss: 438.9033 - val_loss: 425.2444\n",
      "Epoch 84/500\n",
      "34/34 [==============================] - 0s 4ms/step - loss: 430.2615 - val_loss: 416.7903\n",
      "Epoch 85/500\n",
      "34/34 [==============================] - 0s 3ms/step - loss: 421.2779 - val_loss: 407.2167\n",
      "Epoch 86/500\n",
      "34/34 [==============================] - 0s 4ms/step - loss: 412.6956 - val_loss: 399.1015\n",
      "Epoch 87/500\n",
      "34/34 [==============================] - 0s 3ms/step - loss: 405.5053 - val_loss: 392.6060\n",
      "Epoch 88/500\n",
      "34/34 [==============================] - 0s 4ms/step - loss: 397.0431 - val_loss: 383.6196\n",
      "Epoch 89/500\n",
      "34/34 [==============================] - 0s 4ms/step - loss: 390.4958 - val_loss: 377.4146\n",
      "Epoch 90/500\n",
      "34/34 [==============================] - 0s 6ms/step - loss: 382.9052 - val_loss: 370.1095\n",
      "Epoch 91/500\n",
      "34/34 [==============================] - 0s 4ms/step - loss: 376.6163 - val_loss: 363.1691\n",
      "Epoch 92/500\n",
      "34/34 [==============================] - 0s 4ms/step - loss: 370.0497 - val_loss: 356.1055\n",
      "Epoch 93/500\n",
      "34/34 [==============================] - 0s 5ms/step - loss: 363.1644 - val_loss: 351.6054\n",
      "Epoch 94/500\n",
      "34/34 [==============================] - 0s 2ms/step - loss: 358.1783 - val_loss: 344.9988\n",
      "Epoch 95/500\n",
      "34/34 [==============================] - 0s 2ms/step - loss: 352.4761 - val_loss: 339.7450\n",
      "Epoch 96/500\n",
      "34/34 [==============================] - 0s 2ms/step - loss: 347.1732 - val_loss: 334.2813\n",
      "Epoch 97/500\n",
      "34/34 [==============================] - 0s 2ms/step - loss: 342.2124 - val_loss: 328.9200\n",
      "Epoch 98/500\n",
      "34/34 [==============================] - 0s 2ms/step - loss: 337.0787 - val_loss: 324.5577\n",
      "Epoch 99/500\n",
      "34/34 [==============================] - 0s 2ms/step - loss: 332.9479 - val_loss: 320.0262\n",
      "Epoch 100/500\n",
      "34/34 [==============================] - 0s 2ms/step - loss: 328.1083 - val_loss: 315.6875\n",
      "Epoch 101/500\n",
      "34/34 [==============================] - 0s 2ms/step - loss: 324.5759 - val_loss: 310.8837\n",
      "Epoch 102/500\n",
      "34/34 [==============================] - 0s 2ms/step - loss: 319.7646 - val_loss: 308.1855\n",
      "Epoch 103/500\n",
      "34/34 [==============================] - 0s 4ms/step - loss: 316.7310 - val_loss: 303.6118\n",
      "Epoch 104/500\n",
      "34/34 [==============================] - 0s 5ms/step - loss: 312.7683 - val_loss: 299.4614\n",
      "Epoch 105/500\n",
      "34/34 [==============================] - 0s 4ms/step - loss: 309.5359 - val_loss: 295.8898\n",
      "Epoch 106/500\n",
      "34/34 [==============================] - 0s 4ms/step - loss: 306.4069 - val_loss: 292.3039\n",
      "Epoch 107/500\n",
      "34/34 [==============================] - 0s 2ms/step - loss: 303.5558 - val_loss: 289.5574\n",
      "Epoch 108/500\n",
      "34/34 [==============================] - 0s 6ms/step - loss: 300.5379 - val_loss: 287.1971\n",
      "Epoch 109/500\n",
      "34/34 [==============================] - 0s 2ms/step - loss: 297.9450 - val_loss: 283.9565\n",
      "Epoch 110/500\n",
      "34/34 [==============================] - 0s 2ms/step - loss: 295.2909 - val_loss: 281.9955\n",
      "Epoch 111/500\n",
      "34/34 [==============================] - 0s 2ms/step - loss: 292.6711 - val_loss: 278.5624\n",
      "Epoch 112/500\n",
      "34/34 [==============================] - 0s 2ms/step - loss: 290.6503 - val_loss: 276.6455\n",
      "Epoch 113/500\n",
      "34/34 [==============================] - 0s 3ms/step - loss: 288.4618 - val_loss: 274.0090\n",
      "Epoch 114/500\n",
      "34/34 [==============================] - 0s 2ms/step - loss: 286.1856 - val_loss: 272.2110\n",
      "Epoch 115/500\n",
      "34/34 [==============================] - 0s 2ms/step - loss: 284.6626 - val_loss: 269.4064\n",
      "Epoch 116/500\n",
      "34/34 [==============================] - 0s 2ms/step - loss: 282.8351 - val_loss: 267.5546\n",
      "Epoch 117/500\n",
      "34/34 [==============================] - 0s 2ms/step - loss: 282.3048 - val_loss: 266.5116\n",
      "Epoch 118/500\n",
      "34/34 [==============================] - 0s 2ms/step - loss: 280.5811 - val_loss: 265.2432\n",
      "Epoch 119/500\n",
      "34/34 [==============================] - 0s 3ms/step - loss: 277.8856 - val_loss: 261.9944\n",
      "Epoch 120/500\n",
      "34/34 [==============================] - 0s 2ms/step - loss: 276.1889 - val_loss: 260.5944\n",
      "Epoch 121/500\n",
      "34/34 [==============================] - 0s 3ms/step - loss: 275.0735 - val_loss: 259.4609\n",
      "Epoch 122/500\n",
      "34/34 [==============================] - 0s 2ms/step - loss: 275.8139 - val_loss: 259.0830\n",
      "Epoch 123/500\n",
      "34/34 [==============================] - 0s 2ms/step - loss: 273.0484 - val_loss: 255.9068\n",
      "Epoch 124/500\n",
      "34/34 [==============================] - 0s 2ms/step - loss: 272.0442 - val_loss: 255.6383\n",
      "Epoch 125/500\n",
      "34/34 [==============================] - 0s 2ms/step - loss: 270.4125 - val_loss: 253.8746\n",
      "Epoch 126/500\n",
      "34/34 [==============================] - 0s 2ms/step - loss: 269.2609 - val_loss: 254.0375\n",
      "Epoch 127/500\n",
      "34/34 [==============================] - 0s 2ms/step - loss: 268.9887 - val_loss: 251.4588\n",
      "Epoch 128/500\n",
      "34/34 [==============================] - 0s 2ms/step - loss: 267.9488 - val_loss: 250.2290\n",
      "Epoch 129/500\n",
      "34/34 [==============================] - 0s 2ms/step - loss: 267.1347 - val_loss: 249.5644\n",
      "Epoch 130/500\n",
      "34/34 [==============================] - 0s 2ms/step - loss: 266.3111 - val_loss: 249.8346\n",
      "Epoch 131/500\n",
      "34/34 [==============================] - 0s 2ms/step - loss: 265.9710 - val_loss: 247.9494\n",
      "Epoch 132/500\n",
      "34/34 [==============================] - 0s 2ms/step - loss: 265.1804 - val_loss: 247.0004\n",
      "Epoch 133/500\n",
      "34/34 [==============================] - 0s 2ms/step - loss: 264.3786 - val_loss: 247.1168\n",
      "Epoch 134/500\n",
      "34/34 [==============================] - 0s 2ms/step - loss: 264.3819 - val_loss: 246.4253\n",
      "Epoch 135/500\n",
      "34/34 [==============================] - 0s 3ms/step - loss: 263.4182 - val_loss: 244.6761\n",
      "Epoch 136/500\n",
      "34/34 [==============================] - 0s 3ms/step - loss: 263.6514 - val_loss: 243.8697\n",
      "Epoch 137/500\n",
      "34/34 [==============================] - 0s 3ms/step - loss: 262.2844 - val_loss: 243.6727\n",
      "Epoch 138/500\n",
      "34/34 [==============================] - 0s 3ms/step - loss: 262.6721 - val_loss: 243.1229\n",
      "Epoch 139/500\n",
      "34/34 [==============================] - 0s 3ms/step - loss: 261.8449 - val_loss: 242.3358\n",
      "Epoch 140/500\n",
      "34/34 [==============================] - 0s 2ms/step - loss: 261.4341 - val_loss: 241.9735\n",
      "Epoch 141/500\n",
      "34/34 [==============================] - 0s 2ms/step - loss: 262.0236 - val_loss: 241.3896\n",
      "Epoch 142/500\n",
      "34/34 [==============================] - 0s 2ms/step - loss: 260.8889 - val_loss: 241.2659\n",
      "Epoch 143/500\n",
      "34/34 [==============================] - 0s 2ms/step - loss: 260.8617 - val_loss: 240.9398\n",
      "Epoch 144/500\n",
      "34/34 [==============================] - 0s 3ms/step - loss: 260.2632 - val_loss: 239.9705\n",
      "Epoch 145/500\n",
      "34/34 [==============================] - 0s 2ms/step - loss: 259.6488 - val_loss: 240.0383\n",
      "Epoch 146/500\n",
      "34/34 [==============================] - 0s 2ms/step - loss: 259.9608 - val_loss: 239.6840\n",
      "Epoch 147/500\n",
      "34/34 [==============================] - ETA: 0s - loss: 42.31 - 0s 2ms/step - loss: 259.6566 - val_loss: 238.9054\n",
      "Epoch 148/500\n",
      "34/34 [==============================] - 0s 2ms/step - loss: 259.2835 - val_loss: 238.5542\n",
      "Epoch 149/500\n",
      "34/34 [==============================] - 0s 2ms/step - loss: 259.0314 - val_loss: 238.4141\n",
      "Epoch 150/500\n",
      "34/34 [==============================] - 0s 2ms/step - loss: 259.2238 - val_loss: 238.8250\n",
      "Epoch 151/500\n",
      "34/34 [==============================] - 0s 2ms/step - loss: 258.7048 - val_loss: 237.8581\n",
      "Epoch 152/500\n",
      "34/34 [==============================] - 0s 2ms/step - loss: 259.3479 - val_loss: 237.5647\n",
      "Epoch 153/500\n",
      "34/34 [==============================] - 0s 2ms/step - loss: 258.6491 - val_loss: 237.3337\n",
      "Epoch 154/500\n",
      "34/34 [==============================] - 0s 2ms/step - loss: 258.5924 - val_loss: 236.9932\n",
      "Epoch 155/500\n",
      "34/34 [==============================] - 0s 2ms/step - loss: 258.3515 - val_loss: 237.0337\n",
      "Epoch 156/500\n",
      "34/34 [==============================] - 0s 2ms/step - loss: 258.1176 - val_loss: 236.9056\n"
     ]
    },
    {
     "name": "stdout",
     "output_type": "stream",
     "text": [
      "Epoch 157/500\n",
      "34/34 [==============================] - 0s 2ms/step - loss: 257.8877 - val_loss: 236.6769\n",
      "Epoch 158/500\n",
      "34/34 [==============================] - 0s 2ms/step - loss: 257.7913 - val_loss: 236.7377\n",
      "Epoch 159/500\n",
      "34/34 [==============================] - 0s 2ms/step - loss: 257.7860 - val_loss: 236.2434\n",
      "Epoch 160/500\n",
      "34/34 [==============================] - 0s 2ms/step - loss: 257.8466 - val_loss: 236.1129\n",
      "Epoch 161/500\n",
      "34/34 [==============================] - 0s 2ms/step - loss: 258.3998 - val_loss: 236.0905\n",
      "Epoch 162/500\n",
      "34/34 [==============================] - 0s 3ms/step - loss: 257.8344 - val_loss: 238.1022\n",
      "Epoch 163/500\n",
      "34/34 [==============================] - 0s 2ms/step - loss: 257.7891 - val_loss: 235.7593\n",
      "Epoch 164/500\n",
      "34/34 [==============================] - 0s 2ms/step - loss: 257.9728 - val_loss: 237.2519\n",
      "Epoch 165/500\n",
      "34/34 [==============================] - 0s 2ms/step - loss: 259.3701 - val_loss: 236.0435\n",
      "Epoch 166/500\n",
      "34/34 [==============================] - 0s 2ms/step - loss: 258.0168 - val_loss: 235.4478\n",
      "Epoch 167/500\n",
      "34/34 [==============================] - 0s 2ms/step - loss: 257.6086 - val_loss: 235.7028\n",
      "Epoch 168/500\n",
      "34/34 [==============================] - 0s 4ms/step - loss: 257.2640 - val_loss: 235.2394\n",
      "Epoch 169/500\n",
      "34/34 [==============================] - 0s 4ms/step - loss: 257.3019 - val_loss: 235.1509\n",
      "Epoch 170/500\n",
      "34/34 [==============================] - 0s 5ms/step - loss: 257.7094 - val_loss: 235.6281\n",
      "Epoch 171/500\n",
      "34/34 [==============================] - 0s 3ms/step - loss: 257.0407 - val_loss: 235.1003\n",
      "Epoch 172/500\n",
      "34/34 [==============================] - 0s 5ms/step - loss: 257.5164 - val_loss: 235.1045\n",
      "Epoch 173/500\n",
      "34/34 [==============================] - 0s 4ms/step - loss: 257.4323 - val_loss: 235.7511\n",
      "Epoch 174/500\n",
      "34/34 [==============================] - 0s 3ms/step - loss: 257.3460 - val_loss: 234.8044\n",
      "Epoch 175/500\n",
      "34/34 [==============================] - 0s 4ms/step - loss: 257.1086 - val_loss: 235.7225\n",
      "Epoch 176/500\n",
      "34/34 [==============================] - 0s 3ms/step - loss: 257.1738 - val_loss: 234.7711\n",
      "Epoch 177/500\n",
      "34/34 [==============================] - 0s 4ms/step - loss: 256.8403 - val_loss: 234.9138\n",
      "Epoch 178/500\n",
      "34/34 [==============================] - 0s 3ms/step - loss: 257.0952 - val_loss: 234.8947\n",
      "Epoch 179/500\n",
      "34/34 [==============================] - 0s 2ms/step - loss: 257.4241 - val_loss: 236.2807\n",
      "Epoch 180/500\n",
      "34/34 [==============================] - 0s 2ms/step - loss: 257.5763 - val_loss: 234.7107\n",
      "Epoch 181/500\n",
      "34/34 [==============================] - 0s 4ms/step - loss: 256.7467 - val_loss: 234.6217\n",
      "Epoch 182/500\n",
      "34/34 [==============================] - 0s 4ms/step - loss: 256.8061 - val_loss: 234.6335\n",
      "Epoch 183/500\n",
      "34/34 [==============================] - 0s 4ms/step - loss: 257.4792 - val_loss: 234.5580\n",
      "Epoch 184/500\n",
      "34/34 [==============================] - 0s 3ms/step - loss: 257.1944 - val_loss: 234.7106\n",
      "Epoch 185/500\n",
      "34/34 [==============================] - 0s 4ms/step - loss: 257.3600 - val_loss: 234.7535\n",
      "Epoch 186/500\n",
      "34/34 [==============================] - 0s 3ms/step - loss: 257.0715 - val_loss: 234.3200\n",
      "Epoch 187/500\n",
      "34/34 [==============================] - 0s 2ms/step - loss: 257.1192 - val_loss: 235.3884\n",
      "Epoch 188/500\n",
      "34/34 [==============================] - 0s 3ms/step - loss: 257.1290 - val_loss: 234.5970\n",
      "Epoch 189/500\n",
      "34/34 [==============================] - 0s 2ms/step - loss: 257.4900 - val_loss: 234.7070\n",
      "Epoch 190/500\n",
      "34/34 [==============================] - 0s 2ms/step - loss: 256.9328 - val_loss: 234.3249\n",
      "Epoch 191/500\n",
      "34/34 [==============================] - 0s 3ms/step - loss: 256.7502 - val_loss: 234.9461\n",
      "Epoch 192/500\n",
      "34/34 [==============================] - 0s 2ms/step - loss: 257.1397 - val_loss: 234.3601\n",
      "Epoch 193/500\n",
      "34/34 [==============================] - 0s 2ms/step - loss: 257.2527 - val_loss: 234.5552\n",
      "Epoch 194/500\n",
      "34/34 [==============================] - 0s 2ms/step - loss: 256.8596 - val_loss: 234.5285\n",
      "Epoch 195/500\n",
      "34/34 [==============================] - 0s 2ms/step - loss: 257.0761 - val_loss: 234.8237\n",
      "Epoch 196/500\n",
      "34/34 [==============================] - 0s 3ms/step - loss: 258.1346 - val_loss: 234.6488\n",
      "Epoch 197/500\n",
      "34/34 [==============================] - 0s 2ms/step - loss: 257.0734 - val_loss: 234.5603\n",
      "Epoch 198/500\n",
      "34/34 [==============================] - 0s 2ms/step - loss: 256.9217 - val_loss: 235.2420\n",
      "Epoch 199/500\n",
      "34/34 [==============================] - 0s 2ms/step - loss: 257.1692 - val_loss: 234.1644\n",
      "Epoch 200/500\n",
      "34/34 [==============================] - 0s 2ms/step - loss: 256.7472 - val_loss: 234.3341\n",
      "Epoch 201/500\n",
      "34/34 [==============================] - 0s 2ms/step - loss: 257.3936 - val_loss: 234.1259\n",
      "Epoch 202/500\n",
      "34/34 [==============================] - 0s 2ms/step - loss: 257.0219 - val_loss: 234.5831\n",
      "Epoch 203/500\n",
      "34/34 [==============================] - 0s 2ms/step - loss: 257.0460 - val_loss: 234.8372\n",
      "Epoch 204/500\n",
      "34/34 [==============================] - 0s 2ms/step - loss: 256.6849 - val_loss: 234.1513\n",
      "Epoch 205/500\n",
      "34/34 [==============================] - 0s 2ms/step - loss: 257.0830 - val_loss: 234.0871\n",
      "Epoch 206/500\n",
      "34/34 [==============================] - 0s 2ms/step - loss: 256.9156 - val_loss: 234.3728\n",
      "Epoch 207/500\n",
      "34/34 [==============================] - 0s 2ms/step - loss: 257.1687 - val_loss: 234.6473\n",
      "Epoch 208/500\n",
      "34/34 [==============================] - 0s 2ms/step - loss: 257.1704 - val_loss: 235.0379\n",
      "Epoch 209/500\n",
      "34/34 [==============================] - 0s 2ms/step - loss: 257.2562 - val_loss: 234.0756\n",
      "Epoch 210/500\n",
      "34/34 [==============================] - 0s 2ms/step - loss: 256.5769 - val_loss: 234.1209\n",
      "Epoch 211/500\n",
      "34/34 [==============================] - 0s 2ms/step - loss: 257.1428 - val_loss: 234.0690\n",
      "Epoch 212/500\n",
      "34/34 [==============================] - 0s 2ms/step - loss: 256.5717 - val_loss: 234.1768\n",
      "Epoch 213/500\n",
      "34/34 [==============================] - 0s 2ms/step - loss: 256.8061 - val_loss: 235.2044\n",
      "Epoch 214/500\n",
      "34/34 [==============================] - 0s 2ms/step - loss: 257.1782 - val_loss: 234.3185\n",
      "Epoch 215/500\n",
      "34/34 [==============================] - 0s 2ms/step - loss: 256.4770 - val_loss: 234.4653\n",
      "Epoch 216/500\n",
      "34/34 [==============================] - 0s 2ms/step - loss: 257.1403 - val_loss: 234.5932\n",
      "Epoch 217/500\n",
      "34/34 [==============================] - 0s 2ms/step - loss: 258.1337 - val_loss: 234.4394\n",
      "Epoch 218/500\n",
      "34/34 [==============================] - 0s 2ms/step - loss: 256.8594 - val_loss: 234.1544\n",
      "Epoch 219/500\n",
      "34/34 [==============================] - 0s 2ms/step - loss: 256.5054 - val_loss: 234.1254\n",
      "Epoch 220/500\n",
      "34/34 [==============================] - 0s 2ms/step - loss: 256.6762 - val_loss: 235.3330\n",
      "Epoch 221/500\n",
      "34/34 [==============================] - 0s 2ms/step - loss: 257.3097 - val_loss: 234.1806\n",
      "Epoch 222/500\n",
      "34/34 [==============================] - 0s 2ms/step - loss: 256.6980 - val_loss: 234.3535\n",
      "Epoch 223/500\n",
      "34/34 [==============================] - 0s 2ms/step - loss: 256.6484 - val_loss: 234.0023\n",
      "Epoch 224/500\n",
      "34/34 [==============================] - 0s 2ms/step - loss: 257.2246 - val_loss: 234.2045\n",
      "Epoch 225/500\n",
      "34/34 [==============================] - 0s 2ms/step - loss: 256.5887 - val_loss: 234.1895\n",
      "Epoch 226/500\n",
      "34/34 [==============================] - 0s 2ms/step - loss: 256.7927 - val_loss: 234.2951\n",
      "Epoch 227/500\n",
      "34/34 [==============================] - 0s 2ms/step - loss: 256.6379 - val_loss: 235.4620\n",
      "Epoch 228/500\n",
      "34/34 [==============================] - 0s 3ms/step - loss: 256.7535 - val_loss: 234.2446\n",
      "Epoch 229/500\n",
      "34/34 [==============================] - 0s 3ms/step - loss: 257.1536 - val_loss: 234.0461\n",
      "Epoch 230/500\n",
      "34/34 [==============================] - 0s 2ms/step - loss: 256.8380 - val_loss: 234.2838\n",
      "Epoch 231/500\n",
      "34/34 [==============================] - 0s 3ms/step - loss: 256.6404 - val_loss: 235.2532\n",
      "Epoch 232/500\n",
      "34/34 [==============================] - 0s 3ms/step - loss: 256.9871 - val_loss: 234.0692\n",
      "Epoch 233/500\n",
      "34/34 [==============================] - 0s 2ms/step - loss: 256.5597 - val_loss: 234.6039\n",
      "Epoch 234/500\n",
      "34/34 [==============================] - 0s 2ms/step - loss: 256.7506 - val_loss: 234.0411\n"
     ]
    },
    {
     "name": "stdout",
     "output_type": "stream",
     "text": [
      "Epoch 235/500\n",
      "34/34 [==============================] - 0s 3ms/step - loss: 256.5167 - val_loss: 235.6177\n",
      "Epoch 236/500\n",
      "34/34 [==============================] - 0s 3ms/step - loss: 256.9580 - val_loss: 234.0687\n",
      "Epoch 237/500\n",
      "34/34 [==============================] - 0s 4ms/step - loss: 256.9909 - val_loss: 234.7856\n",
      "Epoch 238/500\n",
      "34/34 [==============================] - 0s 3ms/step - loss: 256.8622 - val_loss: 234.0116\n",
      "Epoch 239/500\n",
      "34/34 [==============================] - 0s 2ms/step - loss: 256.2415 - val_loss: 234.2868\n",
      "Epoch 240/500\n",
      "34/34 [==============================] - 0s 3ms/step - loss: 256.6173 - val_loss: 234.6653\n",
      "Epoch 241/500\n",
      "34/34 [==============================] - 0s 3ms/step - loss: 257.4473 - val_loss: 234.6318\n",
      "Epoch 242/500\n",
      "34/34 [==============================] - 0s 3ms/step - loss: 257.5733 - val_loss: 234.3153\n",
      "Epoch 243/500\n",
      "34/34 [==============================] - 0s 2ms/step - loss: 256.6122 - val_loss: 234.0626\n",
      "Epoch 244/500\n",
      "34/34 [==============================] - 0s 3ms/step - loss: 256.5325 - val_loss: 234.2010\n",
      "Epoch 245/500\n",
      "34/34 [==============================] - 0s 3ms/step - loss: 256.6550 - val_loss: 233.8925\n",
      "Epoch 246/500\n",
      "34/34 [==============================] - 0s 3ms/step - loss: 256.3417 - val_loss: 234.2483\n",
      "Epoch 247/500\n",
      "34/34 [==============================] - 0s 2ms/step - loss: 256.6323 - val_loss: 234.0673\n",
      "Epoch 248/500\n",
      "34/34 [==============================] - 0s 2ms/step - loss: 256.7784 - val_loss: 234.3158\n",
      "Epoch 249/500\n",
      "34/34 [==============================] - 0s 2ms/step - loss: 256.5980 - val_loss: 234.3401\n",
      "Epoch 250/500\n",
      "34/34 [==============================] - 0s 3ms/step - loss: 256.7952 - val_loss: 234.0635\n",
      "Epoch 251/500\n",
      "34/34 [==============================] - 0s 3ms/step - loss: 256.3456 - val_loss: 234.3205\n",
      "Epoch 252/500\n",
      "34/34 [==============================] - 0s 5ms/step - loss: 256.4075 - val_loss: 234.2627\n",
      "Epoch 253/500\n",
      "34/34 [==============================] - 0s 3ms/step - loss: 256.2852 - val_loss: 234.2994\n",
      "Epoch 254/500\n",
      "34/34 [==============================] - 0s 2ms/step - loss: 256.2893 - val_loss: 234.3183\n",
      "Epoch 255/500\n",
      "34/34 [==============================] - 0s 3ms/step - loss: 257.0764 - val_loss: 234.8411\n",
      "Epoch 256/500\n",
      "34/34 [==============================] - 0s 3ms/step - loss: 256.6237 - val_loss: 234.2872\n",
      "Epoch 257/500\n",
      "34/34 [==============================] - 0s 3ms/step - loss: 256.5432 - val_loss: 234.5689\n",
      "Epoch 258/500\n",
      "34/34 [==============================] - 0s 3ms/step - loss: 256.5076 - val_loss: 234.3878\n",
      "Epoch 259/500\n",
      "34/34 [==============================] - 0s 2ms/step - loss: 256.6144 - val_loss: 234.2709\n",
      "Epoch 260/500\n",
      "34/34 [==============================] - 0s 2ms/step - loss: 256.7137 - val_loss: 234.4277\n",
      "Epoch 261/500\n",
      "34/34 [==============================] - 0s 3ms/step - loss: 256.5177 - val_loss: 234.1755\n",
      "Epoch 262/500\n",
      "34/34 [==============================] - 0s 3ms/step - loss: 256.5868 - val_loss: 234.5939\n",
      "Epoch 263/500\n",
      "34/34 [==============================] - 0s 3ms/step - loss: 256.4068 - val_loss: 234.2109\n",
      "Epoch 264/500\n",
      "34/34 [==============================] - 0s 2ms/step - loss: 256.5167 - val_loss: 234.3670\n",
      "Epoch 265/500\n",
      "34/34 [==============================] - 0s 4ms/step - loss: 256.3426 - val_loss: 234.8435\n",
      "Epoch 266/500\n",
      "34/34 [==============================] - 0s 3ms/step - loss: 256.4815 - val_loss: 234.5475\n",
      "Epoch 267/500\n",
      "34/34 [==============================] - 0s 2ms/step - loss: 256.6886 - val_loss: 234.8077\n",
      "Epoch 268/500\n",
      "34/34 [==============================] - 0s 3ms/step - loss: 256.0876 - val_loss: 234.8956\n",
      "Epoch 269/500\n",
      "34/34 [==============================] - 0s 3ms/step - loss: 256.5792 - val_loss: 234.1667\n",
      "Epoch 270/500\n",
      "34/34 [==============================] - 0s 3ms/step - loss: 256.3360 - val_loss: 234.1336\n",
      "Epoch 271/500\n",
      "34/34 [==============================] - 0s 3ms/step - loss: 256.4846 - val_loss: 234.3265\n",
      "Epoch 272/500\n",
      "34/34 [==============================] - 0s 3ms/step - loss: 256.9452 - val_loss: 234.3761\n",
      "Epoch 273/500\n",
      "34/34 [==============================] - 0s 2ms/step - loss: 256.3998 - val_loss: 234.3219\n",
      "Epoch 274/500\n",
      "34/34 [==============================] - 0s 3ms/step - loss: 257.5290 - val_loss: 234.2001\n",
      "Epoch 275/500\n",
      "34/34 [==============================] - 0s 3ms/step - loss: 256.3563 - val_loss: 234.7793\n",
      "Epoch 276/500\n",
      "34/34 [==============================] - 0s 3ms/step - loss: 256.7818 - val_loss: 234.3769\n",
      "Epoch 277/500\n",
      "34/34 [==============================] - 0s 2ms/step - loss: 256.6082 - val_loss: 235.9255\n",
      "Epoch 278/500\n",
      "34/34 [==============================] - 0s 2ms/step - loss: 256.5253 - val_loss: 234.7856\n",
      "Epoch 279/500\n",
      "34/34 [==============================] - 0s 3ms/step - loss: 256.2498 - val_loss: 234.2514\n",
      "Epoch 280/500\n",
      "34/34 [==============================] - 0s 3ms/step - loss: 257.0172 - val_loss: 234.1951\n",
      "Epoch 281/500\n",
      "34/34 [==============================] - 0s 3ms/step - loss: 256.8960 - val_loss: 234.9057\n",
      "Epoch 282/500\n",
      "34/34 [==============================] - 0s 3ms/step - loss: 256.6786 - val_loss: 234.4241\n",
      "Epoch 283/500\n",
      "34/34 [==============================] - 0s 3ms/step - loss: 256.3982 - val_loss: 234.2109\n",
      "Epoch 284/500\n",
      "34/34 [==============================] - 0s 3ms/step - loss: 256.6203 - val_loss: 235.2103\n",
      "Epoch 285/500\n",
      "34/34 [==============================] - 0s 2ms/step - loss: 256.4343 - val_loss: 234.1222\n",
      "Epoch 286/500\n",
      "34/34 [==============================] - 0s 3ms/step - loss: 256.2495 - val_loss: 234.1830\n",
      "Epoch 287/500\n",
      "34/34 [==============================] - 0s 3ms/step - loss: 256.4485 - val_loss: 234.2684\n",
      "Epoch 288/500\n",
      "34/34 [==============================] - 0s 3ms/step - loss: 256.1935 - val_loss: 234.2388\n",
      "Epoch 289/500\n",
      "34/34 [==============================] - 0s 3ms/step - loss: 256.4479 - val_loss: 234.1637\n",
      "Epoch 290/500\n",
      "34/34 [==============================] - 0s 3ms/step - loss: 256.0844 - val_loss: 234.9254\n",
      "Epoch 291/500\n",
      "34/34 [==============================] - 0s 3ms/step - loss: 256.6250 - val_loss: 234.2377\n",
      "Epoch 292/500\n",
      "34/34 [==============================] - 0s 3ms/step - loss: 256.4565 - val_loss: 234.3121\n",
      "Epoch 293/500\n",
      "34/34 [==============================] - 0s 2ms/step - loss: 255.9416 - val_loss: 235.4188\n",
      "Epoch 294/500\n",
      "34/34 [==============================] - 0s 3ms/step - loss: 256.4722 - val_loss: 234.3616\n",
      "Epoch 295/500\n",
      "34/34 [==============================] - 0s 2ms/step - loss: 256.4167 - val_loss: 234.3094\n",
      "Epoch 296/500\n",
      "34/34 [==============================] - 0s 3ms/step - loss: 257.3552 - val_loss: 235.1482\n",
      "Epoch 297/500\n",
      "34/34 [==============================] - 0s 5ms/step - loss: 256.5560 - val_loss: 234.3700\n",
      "Epoch 298/500\n",
      "34/34 [==============================] - 0s 3ms/step - loss: 256.3571 - val_loss: 233.9830\n",
      "Epoch 299/500\n",
      "34/34 [==============================] - 0s 3ms/step - loss: 256.2442 - val_loss: 234.2718\n",
      "Epoch 300/500\n",
      "34/34 [==============================] - 0s 3ms/step - loss: 256.2357 - val_loss: 234.2436\n",
      "Epoch 301/500\n",
      "34/34 [==============================] - 0s 3ms/step - loss: 256.0913 - val_loss: 234.2022\n",
      "Epoch 302/500\n",
      "34/34 [==============================] - 0s 3ms/step - loss: 256.1028 - val_loss: 234.2982\n",
      "Epoch 303/500\n",
      "34/34 [==============================] - 0s 2ms/step - loss: 256.3361 - val_loss: 234.1726\n",
      "Epoch 304/500\n",
      "34/34 [==============================] - 0s 4ms/step - loss: 256.0687 - val_loss: 234.5979\n",
      "Epoch 305/500\n",
      "34/34 [==============================] - 0s 3ms/step - loss: 256.2955 - val_loss: 234.1978\n",
      "Epoch 306/500\n",
      "34/34 [==============================] - 0s 3ms/step - loss: 256.7330 - val_loss: 234.6298\n",
      "Epoch 307/500\n",
      "34/34 [==============================] - 0s 2ms/step - loss: 256.2075 - val_loss: 234.2319\n",
      "Epoch 308/500\n",
      "34/34 [==============================] - 0s 2ms/step - loss: 256.2766 - val_loss: 234.1667\n",
      "Epoch 309/500\n",
      "34/34 [==============================] - 0s 3ms/step - loss: 256.5192 - val_loss: 234.0518\n",
      "Epoch 310/500\n",
      "34/34 [==============================] - 0s 3ms/step - loss: 256.6269 - val_loss: 234.2039\n",
      "Epoch 311/500\n",
      "34/34 [==============================] - 0s 3ms/step - loss: 256.3221 - val_loss: 234.8559\n",
      "Epoch 312/500\n",
      "34/34 [==============================] - 0s 3ms/step - loss: 256.1284 - val_loss: 235.2769\n",
      "Epoch 313/500\n"
     ]
    },
    {
     "name": "stdout",
     "output_type": "stream",
     "text": [
      "34/34 [==============================] - 0s 3ms/step - loss: 256.4750 - val_loss: 234.2076\n",
      "Epoch 314/500\n",
      "34/34 [==============================] - 0s 3ms/step - loss: 256.4072 - val_loss: 235.3382\n",
      "Epoch 315/500\n",
      "34/34 [==============================] - 0s 3ms/step - loss: 256.3206 - val_loss: 235.3139\n",
      "Epoch 316/500\n",
      "34/34 [==============================] - 0s 3ms/step - loss: 256.5529 - val_loss: 234.2918\n",
      "Epoch 317/500\n",
      "34/34 [==============================] - 0s 3ms/step - loss: 256.2495 - val_loss: 234.3798\n",
      "Epoch 318/500\n",
      "34/34 [==============================] - 0s 3ms/step - loss: 256.1494 - val_loss: 234.1998\n",
      "Epoch 319/500\n",
      "34/34 [==============================] - 0s 2ms/step - loss: 256.6804 - val_loss: 236.1273\n",
      "Epoch 320/500\n",
      "34/34 [==============================] - 0s 2ms/step - loss: 256.3378 - val_loss: 234.5928\n",
      "Epoch 321/500\n",
      "34/34 [==============================] - 0s 3ms/step - loss: 256.0818 - val_loss: 234.1920\n",
      "Epoch 322/500\n",
      "34/34 [==============================] - 0s 3ms/step - loss: 255.9958 - val_loss: 234.3752\n",
      "Epoch 323/500\n",
      "34/34 [==============================] - 0s 2ms/step - loss: 256.3040 - val_loss: 235.4754\n",
      "Epoch 324/500\n",
      "34/34 [==============================] - 0s 3ms/step - loss: 256.8320 - val_loss: 234.6260\n",
      "Epoch 325/500\n",
      "34/34 [==============================] - 0s 3ms/step - loss: 256.4776 - val_loss: 234.7478\n",
      "Epoch 326/500\n",
      "34/34 [==============================] - 0s 3ms/step - loss: 256.0250 - val_loss: 234.4654\n",
      "Epoch 327/500\n",
      "34/34 [==============================] - 0s 2ms/step - loss: 256.3334 - val_loss: 234.7532\n",
      "Epoch 328/500\n",
      "34/34 [==============================] - 0s 2ms/step - loss: 256.1387 - val_loss: 234.4642\n",
      "Epoch 329/500\n",
      "34/34 [==============================] - 0s 3ms/step - loss: 256.1978 - val_loss: 234.4238\n",
      "Epoch 330/500\n",
      "34/34 [==============================] - 0s 3ms/step - loss: 255.9524 - val_loss: 234.3716\n",
      "Epoch 331/500\n",
      "34/34 [==============================] - 0s 3ms/step - loss: 256.1693 - val_loss: 235.0673\n",
      "Epoch 332/500\n",
      "34/34 [==============================] - 0s 3ms/step - loss: 256.0623 - val_loss: 234.4278\n",
      "Epoch 333/500\n",
      "34/34 [==============================] - 0s 2ms/step - loss: 256.5150 - val_loss: 234.4898\n",
      "Epoch 334/500\n",
      "34/34 [==============================] - 0s 3ms/step - loss: 256.5109 - val_loss: 234.5429\n",
      "Epoch 335/500\n",
      "34/34 [==============================] - 0s 3ms/step - loss: 255.8831 - val_loss: 234.7312\n",
      "Epoch 336/500\n",
      "34/34 [==============================] - 0s 3ms/step - loss: 256.0768 - val_loss: 234.5839\n",
      "Epoch 337/500\n",
      "34/34 [==============================] - 0s 3ms/step - loss: 255.9425 - val_loss: 234.3724\n",
      "Epoch 338/500\n",
      "34/34 [==============================] - 0s 2ms/step - loss: 256.2153 - val_loss: 234.4615\n",
      "Epoch 339/500\n",
      "34/34 [==============================] - 0s 2ms/step - loss: 255.8660 - val_loss: 234.4082\n",
      "Epoch 340/500\n",
      "34/34 [==============================] - 0s 2ms/step - loss: 256.7695 - val_loss: 234.7831\n",
      "Epoch 341/500\n",
      "34/34 [==============================] - 0s 3ms/step - loss: 256.4979 - val_loss: 234.4013\n",
      "Epoch 342/500\n",
      "34/34 [==============================] - 0s 2ms/step - loss: 256.7051 - val_loss: 234.3448\n",
      "Epoch 343/500\n",
      "34/34 [==============================] - 0s 2ms/step - loss: 256.1396 - val_loss: 234.4375\n",
      "Epoch 344/500\n",
      "34/34 [==============================] - 0s 3ms/step - loss: 256.3221 - val_loss: 234.5553\n",
      "Epoch 345/500\n",
      "34/34 [==============================] - 0s 4ms/step - loss: 256.4171 - val_loss: 234.4705\n",
      "Epoch 346/500\n",
      "34/34 [==============================] - 0s 5ms/step - loss: 256.8017 - val_loss: 234.3598\n",
      "Epoch 347/500\n",
      "34/34 [==============================] - 0s 5ms/step - loss: 256.1518 - val_loss: 234.2365\n",
      "Epoch 348/500\n",
      "34/34 [==============================] - 0s 5ms/step - loss: 256.1515 - val_loss: 234.2494\n",
      "Epoch 349/500\n",
      "34/34 [==============================] - 0s 4ms/step - loss: 256.3302 - val_loss: 234.3239\n",
      "Epoch 350/500\n",
      "34/34 [==============================] - 0s 4ms/step - loss: 255.9397 - val_loss: 234.5395\n",
      "Epoch 351/500\n",
      "34/34 [==============================] - 0s 4ms/step - loss: 256.1748 - val_loss: 234.7631\n",
      "Epoch 352/500\n",
      "34/34 [==============================] - 0s 3ms/step - loss: 256.5084 - val_loss: 234.4608\n",
      "Epoch 353/500\n",
      "34/34 [==============================] - 0s 5ms/step - loss: 256.0466 - val_loss: 234.3492\n",
      "Epoch 354/500\n",
      "34/34 [==============================] - 0s 5ms/step - loss: 256.0935 - val_loss: 234.4287\n",
      "Epoch 355/500\n",
      "34/34 [==============================] - 0s 3ms/step - loss: 256.0303 - val_loss: 234.4059\n",
      "Epoch 356/500\n",
      "34/34 [==============================] - 0s 4ms/step - loss: 256.1930 - val_loss: 234.7006\n",
      "Epoch 357/500\n",
      "34/34 [==============================] - 0s 5ms/step - loss: 256.0983 - val_loss: 234.3510\n",
      "Epoch 358/500\n",
      "34/34 [==============================] - 0s 5ms/step - loss: 256.4822 - val_loss: 234.4961\n",
      "Epoch 359/500\n",
      "34/34 [==============================] - 0s 5ms/step - loss: 256.1042 - val_loss: 235.0433\n",
      "Epoch 360/500\n",
      "34/34 [==============================] - 0s 5ms/step - loss: 255.7962 - val_loss: 235.2396\n",
      "Epoch 361/500\n",
      "34/34 [==============================] - 0s 3ms/step - loss: 256.3904 - val_loss: 234.4530\n",
      "Epoch 362/500\n",
      "34/34 [==============================] - 0s 4ms/step - loss: 256.0666 - val_loss: 234.4216\n",
      "Epoch 363/500\n",
      "34/34 [==============================] - 0s 5ms/step - loss: 256.2406 - val_loss: 234.3468\n",
      "Epoch 364/500\n",
      "34/34 [==============================] - 0s 4ms/step - loss: 255.8830 - val_loss: 234.6318\n",
      "Epoch 365/500\n",
      "34/34 [==============================] - 0s 4ms/step - loss: 256.1234 - val_loss: 234.8245\n",
      "Epoch 366/500\n",
      "34/34 [==============================] - 0s 3ms/step - loss: 256.8259 - val_loss: 234.4667\n",
      "Epoch 367/500\n",
      "34/34 [==============================] - 0s 4ms/step - loss: 256.1397 - val_loss: 234.3902\n",
      "Epoch 368/500\n",
      "34/34 [==============================] - 0s 3ms/step - loss: 256.0491 - val_loss: 234.4302\n",
      "Epoch 369/500\n",
      "34/34 [==============================] - 0s 3ms/step - loss: 256.2233 - val_loss: 234.3198\n",
      "Epoch 370/500\n",
      "34/34 [==============================] - 0s 4ms/step - loss: 256.0193 - val_loss: 234.5548\n",
      "Epoch 371/500\n",
      "34/34 [==============================] - 0s 3ms/step - loss: 255.7648 - val_loss: 234.3665\n",
      "Epoch 372/500\n",
      "34/34 [==============================] - 0s 3ms/step - loss: 255.8370 - val_loss: 234.3541\n",
      "Epoch 373/500\n",
      "34/34 [==============================] - 0s 3ms/step - loss: 256.0031 - val_loss: 234.5262\n",
      "Epoch 374/500\n",
      "34/34 [==============================] - 0s 4ms/step - loss: 255.7198 - val_loss: 234.5378\n",
      "Epoch 375/500\n",
      "34/34 [==============================] - 0s 4ms/step - loss: 256.1941 - val_loss: 235.2018\n",
      "Epoch 376/500\n",
      "34/34 [==============================] - 0s 3ms/step - loss: 256.2573 - val_loss: 234.8407\n",
      "Epoch 377/500\n",
      "34/34 [==============================] - 0s 3ms/step - loss: 256.9562 - val_loss: 234.9550\n",
      "Epoch 378/500\n",
      "34/34 [==============================] - 0s 3ms/step - loss: 256.7075 - val_loss: 234.3606\n",
      "Epoch 379/500\n",
      "34/34 [==============================] - 0s 3ms/step - loss: 256.4845 - val_loss: 234.4488\n",
      "Epoch 380/500\n",
      "34/34 [==============================] - 0s 5ms/step - loss: 256.5700 - val_loss: 235.1624\n",
      "Epoch 381/500\n",
      "34/34 [==============================] - 0s 5ms/step - loss: 256.0614 - val_loss: 235.3482\n",
      "Epoch 382/500\n",
      "34/34 [==============================] - 0s 4ms/step - loss: 256.7932 - val_loss: 234.3049\n",
      "Epoch 383/500\n",
      "34/34 [==============================] - 0s 5ms/step - loss: 256.0881 - val_loss: 234.4206\n",
      "Epoch 384/500\n",
      "34/34 [==============================] - 0s 4ms/step - loss: 256.0508 - val_loss: 234.5185\n",
      "Epoch 385/500\n",
      "34/34 [==============================] - 0s 3ms/step - loss: 256.2304 - val_loss: 234.2827\n",
      "Epoch 386/500\n",
      "34/34 [==============================] - 0s 2ms/step - loss: 256.0436 - val_loss: 234.2829\n",
      "Epoch 387/500\n",
      "34/34 [==============================] - 0s 2ms/step - loss: 255.9989 - val_loss: 234.5410\n",
      "Epoch 388/500\n",
      "34/34 [==============================] - 0s 2ms/step - loss: 256.2612 - val_loss: 235.1017\n",
      "Epoch 389/500\n",
      "34/34 [==============================] - 0s 2ms/step - loss: 256.1499 - val_loss: 234.7539\n",
      "Epoch 390/500\n",
      "34/34 [==============================] - 0s 4ms/step - loss: 256.0928 - val_loss: 234.4169\n",
      "Epoch 391/500\n"
     ]
    },
    {
     "name": "stdout",
     "output_type": "stream",
     "text": [
      "34/34 [==============================] - 0s 4ms/step - loss: 256.2242 - val_loss: 234.6741\n",
      "Epoch 392/500\n",
      "34/34 [==============================] - 0s 6ms/step - loss: 255.8755 - val_loss: 234.5273\n",
      "Epoch 393/500\n",
      "34/34 [==============================] - 0s 2ms/step - loss: 257.6395 - val_loss: 234.4563\n",
      "Epoch 394/500\n",
      "34/34 [==============================] - 0s 2ms/step - loss: 256.0271 - val_loss: 235.4362\n",
      "Epoch 395/500\n",
      "34/34 [==============================] - 0s 2ms/step - loss: 255.6615 - val_loss: 234.3711\n",
      "Epoch 396/500\n",
      "34/34 [==============================] - 0s 2ms/step - loss: 255.9552 - val_loss: 234.4430\n",
      "Epoch 397/500\n",
      "34/34 [==============================] - 0s 2ms/step - loss: 256.2105 - val_loss: 234.4018\n",
      "Epoch 398/500\n",
      "34/34 [==============================] - 0s 2ms/step - loss: 255.9785 - val_loss: 234.4742\n",
      "Epoch 399/500\n",
      "34/34 [==============================] - 0s 5ms/step - loss: 255.7382 - val_loss: 234.8197\n",
      "Epoch 400/500\n",
      "34/34 [==============================] - 0s 4ms/step - loss: 255.4299 - val_loss: 234.3621\n",
      "Epoch 401/500\n",
      "34/34 [==============================] - 0s 4ms/step - loss: 256.0887 - val_loss: 234.5272\n",
      "Epoch 402/500\n",
      "34/34 [==============================] - 0s 6ms/step - loss: 255.8477 - val_loss: 234.2995\n",
      "Epoch 403/500\n",
      "34/34 [==============================] - 0s 3ms/step - loss: 255.5134 - val_loss: 234.3754\n",
      "Epoch 404/500\n",
      "34/34 [==============================] - 0s 2ms/step - loss: 255.6302 - val_loss: 234.3440\n",
      "Epoch 405/500\n",
      "34/34 [==============================] - 0s 5ms/step - loss: 255.7998 - val_loss: 234.3844\n",
      "Epoch 406/500\n",
      "34/34 [==============================] - 0s 5ms/step - loss: 255.8768 - val_loss: 234.3332\n",
      "Epoch 407/500\n",
      "34/34 [==============================] - 0s 4ms/step - loss: 255.5586 - val_loss: 234.5512\n",
      "Epoch 408/500\n",
      "34/34 [==============================] - 0s 4ms/step - loss: 255.7128 - val_loss: 234.4465\n",
      "Epoch 409/500\n",
      "34/34 [==============================] - 0s 2ms/step - loss: 256.1504 - val_loss: 234.5269\n",
      "Epoch 410/500\n",
      "34/34 [==============================] - 0s 4ms/step - loss: 255.5328 - val_loss: 235.5857\n",
      "Epoch 411/500\n",
      "34/34 [==============================] - 0s 4ms/step - loss: 255.8523 - val_loss: 234.6562\n",
      "Epoch 412/500\n",
      "34/34 [==============================] - 0s 3ms/step - loss: 255.7199 - val_loss: 235.2778\n",
      "Epoch 413/500\n",
      "34/34 [==============================] - 0s 4ms/step - loss: 256.1974 - val_loss: 234.2319\n",
      "Epoch 414/500\n",
      "34/34 [==============================] - 0s 4ms/step - loss: 255.3340 - val_loss: 234.7115\n",
      "Epoch 415/500\n",
      "34/34 [==============================] - 0s 3ms/step - loss: 256.0688 - val_loss: 234.8318\n",
      "Epoch 416/500\n",
      "34/34 [==============================] - 0s 2ms/step - loss: 255.7652 - val_loss: 234.7873\n",
      "Epoch 417/500\n",
      "34/34 [==============================] - 0s 3ms/step - loss: 255.5060 - val_loss: 235.2086\n",
      "Epoch 418/500\n",
      "34/34 [==============================] - 0s 5ms/step - loss: 255.7437 - val_loss: 234.7802\n",
      "Epoch 419/500\n",
      "34/34 [==============================] - 0s 2ms/step - loss: 255.1751 - val_loss: 234.9228\n",
      "Epoch 420/500\n",
      "34/34 [==============================] - 0s 3ms/step - loss: 255.5948 - val_loss: 234.4178\n",
      "Epoch 421/500\n",
      "34/34 [==============================] - 0s 3ms/step - loss: 255.1789 - val_loss: 234.7816\n",
      "Epoch 422/500\n",
      "34/34 [==============================] - 0s 4ms/step - loss: 255.4099 - val_loss: 234.3683\n",
      "Epoch 423/500\n",
      "34/34 [==============================] - 0s 3ms/step - loss: 255.6421 - val_loss: 234.4478\n",
      "Epoch 424/500\n",
      "34/34 [==============================] - 0s 7ms/step - loss: 255.7913 - val_loss: 234.2214\n",
      "Epoch 425/500\n",
      "34/34 [==============================] - 0s 6ms/step - loss: 255.5874 - val_loss: 234.1615\n",
      "Epoch 426/500\n",
      "34/34 [==============================] - 0s 4ms/step - loss: 255.3020 - val_loss: 235.0643\n",
      "Epoch 427/500\n",
      "34/34 [==============================] - 0s 4ms/step - loss: 256.0283 - val_loss: 235.2784\n",
      "Epoch 428/500\n",
      "34/34 [==============================] - 0s 4ms/step - loss: 255.4217 - val_loss: 234.2695\n",
      "Epoch 429/500\n",
      "34/34 [==============================] - 0s 3ms/step - loss: 255.4109 - val_loss: 234.5061\n",
      "Epoch 430/500\n",
      "34/34 [==============================] - 0s 4ms/step - loss: 255.3506 - val_loss: 234.3475\n",
      "Epoch 431/500\n",
      "34/34 [==============================] - 0s 5ms/step - loss: 255.4270 - val_loss: 234.4167\n",
      "Epoch 432/500\n",
      "34/34 [==============================] - 0s 4ms/step - loss: 255.7102 - val_loss: 235.0507\n",
      "Epoch 433/500\n",
      "34/34 [==============================] - 0s 5ms/step - loss: 255.7959 - val_loss: 234.5959\n",
      "Epoch 434/500\n",
      "34/34 [==============================] - 0s 2ms/step - loss: 255.1391 - val_loss: 234.3271\n",
      "Epoch 435/500\n",
      "34/34 [==============================] - 0s 4ms/step - loss: 255.1038 - val_loss: 234.4033\n",
      "Epoch 436/500\n",
      "34/34 [==============================] - 0s 4ms/step - loss: 255.4414 - val_loss: 234.7308\n",
      "Epoch 437/500\n",
      "34/34 [==============================] - 0s 3ms/step - loss: 254.9203 - val_loss: 234.2724\n",
      "Epoch 438/500\n",
      "34/34 [==============================] - 0s 3ms/step - loss: 254.9899 - val_loss: 234.3658\n",
      "Epoch 439/500\n",
      "34/34 [==============================] - 0s 3ms/step - loss: 255.2502 - val_loss: 234.7478\n",
      "Epoch 440/500\n",
      "34/34 [==============================] - 0s 3ms/step - loss: 255.1734 - val_loss: 235.0033\n",
      "Epoch 441/500\n",
      "34/34 [==============================] - 0s 5ms/step - loss: 254.9509 - val_loss: 234.4580\n",
      "Epoch 442/500\n",
      "34/34 [==============================] - 0s 5ms/step - loss: 255.2486 - val_loss: 234.2854\n",
      "Epoch 443/500\n",
      "34/34 [==============================] - 0s 5ms/step - loss: 254.9784 - val_loss: 234.9434\n",
      "Epoch 444/500\n",
      "34/34 [==============================] - 0s 4ms/step - loss: 254.8227 - val_loss: 234.6670\n",
      "Epoch 445/500\n",
      "34/34 [==============================] - 0s 3ms/step - loss: 254.8162 - val_loss: 234.2063\n",
      "Epoch 446/500\n",
      "34/34 [==============================] - 0s 2ms/step - loss: 255.1457 - val_loss: 234.8159\n",
      "Epoch 447/500\n",
      "34/34 [==============================] - 0s 5ms/step - loss: 255.6409 - val_loss: 234.3396\n",
      "Epoch 448/500\n",
      "34/34 [==============================] - 0s 4ms/step - loss: 254.9276 - val_loss: 234.3592\n",
      "Epoch 449/500\n",
      "34/34 [==============================] - 0s 4ms/step - loss: 254.8251 - val_loss: 234.3393\n",
      "Epoch 450/500\n",
      "34/34 [==============================] - 0s 3ms/step - loss: 254.9079 - val_loss: 234.2279\n",
      "Epoch 451/500\n",
      "34/34 [==============================] - 0s 4ms/step - loss: 254.9841 - val_loss: 234.5197\n",
      "Epoch 452/500\n",
      "34/34 [==============================] - 0s 4ms/step - loss: 254.8636 - val_loss: 234.5025\n",
      "Epoch 453/500\n",
      "34/34 [==============================] - 0s 3ms/step - loss: 254.7822 - val_loss: 234.7579\n",
      "Epoch 454/500\n",
      "34/34 [==============================] - 0s 4ms/step - loss: 254.9970 - val_loss: 234.4929\n",
      "Epoch 455/500\n",
      "34/34 [==============================] - 0s 3ms/step - loss: 255.0256 - val_loss: 234.4733\n",
      "Epoch 456/500\n",
      "34/34 [==============================] - 0s 4ms/step - loss: 254.6679 - val_loss: 234.2495\n",
      "Epoch 457/500\n",
      "34/34 [==============================] - 0s 4ms/step - loss: 254.8463 - val_loss: 234.3345\n",
      "Epoch 458/500\n",
      "34/34 [==============================] - 0s 4ms/step - loss: 254.8052 - val_loss: 234.4587\n",
      "Epoch 459/500\n",
      "34/34 [==============================] - 0s 3ms/step - loss: 254.9300 - val_loss: 234.5536\n",
      "Epoch 460/500\n",
      "34/34 [==============================] - 0s 3ms/step - loss: 254.6538 - val_loss: 235.1032\n",
      "Epoch 461/500\n",
      "34/34 [==============================] - 0s 5ms/step - loss: 254.8204 - val_loss: 234.6789\n",
      "Epoch 462/500\n",
      "34/34 [==============================] - 0s 5ms/step - loss: 254.8195 - val_loss: 234.6144\n",
      "Epoch 463/500\n",
      "34/34 [==============================] - 0s 4ms/step - loss: 254.4872 - val_loss: 234.5061\n",
      "Epoch 464/500\n",
      "34/34 [==============================] - 0s 5ms/step - loss: 255.5411 - val_loss: 234.4745\n",
      "Epoch 465/500\n",
      "34/34 [==============================] - 0s 4ms/step - loss: 254.4524 - val_loss: 234.4575\n",
      "Epoch 466/500\n",
      "34/34 [==============================] - 0s 3ms/step - loss: 254.3566 - val_loss: 234.3289\n",
      "Epoch 467/500\n",
      "34/34 [==============================] - 0s 3ms/step - loss: 254.7847 - val_loss: 234.3688\n",
      "Epoch 468/500\n",
      "34/34 [==============================] - 0s 2ms/step - loss: 254.5240 - val_loss: 234.4997\n",
      "Epoch 469/500\n"
     ]
    },
    {
     "name": "stdout",
     "output_type": "stream",
     "text": [
      "34/34 [==============================] - 0s 2ms/step - loss: 255.7962 - val_loss: 234.2664\n",
      "Epoch 470/500\n",
      "34/34 [==============================] - 0s 3ms/step - loss: 254.7979 - val_loss: 234.2837\n",
      "Epoch 471/500\n",
      "34/34 [==============================] - 0s 4ms/step - loss: 254.6887 - val_loss: 234.5563\n",
      "Epoch 472/500\n",
      "34/34 [==============================] - 0s 3ms/step - loss: 254.4623 - val_loss: 234.4669\n",
      "Epoch 473/500\n",
      "34/34 [==============================] - 0s 5ms/step - loss: 254.7429 - val_loss: 234.5999\n",
      "Epoch 474/500\n",
      "34/34 [==============================] - 0s 4ms/step - loss: 254.3137 - val_loss: 234.6651\n",
      "Epoch 475/500\n",
      "34/34 [==============================] - 0s 4ms/step - loss: 254.8521 - val_loss: 235.5500\n",
      "Epoch 476/500\n",
      "34/34 [==============================] - 0s 3ms/step - loss: 254.2879 - val_loss: 234.3364\n",
      "Epoch 477/500\n",
      "34/34 [==============================] - 0s 3ms/step - loss: 254.1605 - val_loss: 234.6499\n",
      "Epoch 478/500\n",
      "34/34 [==============================] - 0s 4ms/step - loss: 254.4112 - val_loss: 234.2364\n",
      "Epoch 479/500\n",
      "34/34 [==============================] - 0s 3ms/step - loss: 254.2826 - val_loss: 234.4683\n",
      "Epoch 480/500\n",
      "34/34 [==============================] - 0s 4ms/step - loss: 254.3111 - val_loss: 234.3621\n",
      "Epoch 481/500\n",
      "34/34 [==============================] - 0s 4ms/step - loss: 253.8557 - val_loss: 235.0457\n",
      "Epoch 482/500\n",
      "34/34 [==============================] - 0s 4ms/step - loss: 254.0998 - val_loss: 234.9373\n",
      "Epoch 483/500\n",
      "34/34 [==============================] - 0s 4ms/step - loss: 255.2549 - val_loss: 235.3876\n",
      "Epoch 484/500\n",
      "34/34 [==============================] - 0s 4ms/step - loss: 254.4691 - val_loss: 234.4330\n",
      "Epoch 485/500\n",
      "34/34 [==============================] - 0s 4ms/step - loss: 254.4191 - val_loss: 234.8646\n",
      "Epoch 486/500\n",
      "34/34 [==============================] - 0s 3ms/step - loss: 255.6320 - val_loss: 234.3889\n",
      "Epoch 487/500\n",
      "34/34 [==============================] - 0s 5ms/step - loss: 254.0146 - val_loss: 234.2062\n",
      "Epoch 488/500\n",
      "34/34 [==============================] - 0s 6ms/step - loss: 253.8049 - val_loss: 234.6425\n",
      "Epoch 489/500\n",
      "34/34 [==============================] - 0s 4ms/step - loss: 254.4230 - val_loss: 234.3178\n",
      "Epoch 490/500\n",
      "34/34 [==============================] - 0s 3ms/step - loss: 254.3002 - val_loss: 234.6973\n",
      "Epoch 491/500\n",
      "34/34 [==============================] - 0s 4ms/step - loss: 255.0273 - val_loss: 234.3635\n",
      "Epoch 492/500\n",
      "34/34 [==============================] - 0s 4ms/step - loss: 253.9228 - val_loss: 234.5650\n",
      "Epoch 493/500\n",
      "34/34 [==============================] - 0s 3ms/step - loss: 253.8494 - val_loss: 234.2547\n",
      "Epoch 494/500\n",
      "34/34 [==============================] - 0s 2ms/step - loss: 253.7347 - val_loss: 234.4612\n",
      "Epoch 495/500\n",
      "34/34 [==============================] - 0s 2ms/step - loss: 254.9955 - val_loss: 237.4088\n",
      "Epoch 496/500\n",
      "34/34 [==============================] - 0s 2ms/step - loss: 254.0567 - val_loss: 234.3067\n",
      "Epoch 497/500\n",
      "34/34 [==============================] - 0s 5ms/step - loss: 253.9856 - val_loss: 234.3977\n",
      "Epoch 498/500\n",
      "34/34 [==============================] - 0s 4ms/step - loss: 254.0174 - val_loss: 234.6448\n",
      "Epoch 499/500\n",
      "34/34 [==============================] - 0s 5ms/step - loss: 253.6646 - val_loss: 234.2336\n",
      "Epoch 500/500\n",
      "34/34 [==============================] - 0s 3ms/step - loss: 254.3610 - val_loss: 234.6081\n"
     ]
    }
   ],
   "source": [
    "history=model2.fit(X_train, y_train, validation_data =(X_test, y_test),epochs=500, batch_size=10) #verbose=0"
   ]
  },
  {
   "cell_type": "code",
   "execution_count": 95,
   "metadata": {},
   "outputs": [
    {
     "name": "stdout",
     "output_type": "stream",
     "text": [
      "Train: 253.527, Test: 234.608\n"
     ]
    }
   ],
   "source": [
    "train_mse = model2.evaluate(X_train, y_train, verbose=0)\n",
    "test_mse = model2.evaluate(X_test, y_test, verbose=0)\n",
    "print('Train: %.3f, Test: %.3f' % (train_mse, test_mse))"
   ]
  },
  {
   "cell_type": "code",
   "execution_count": 97,
   "metadata": {},
   "outputs": [],
   "source": [
    "model2.save('model2.h5')"
   ]
  },
  {
   "cell_type": "markdown",
   "metadata": {},
   "source": [
    "### Training the model on the entire dataset and using an extra layer did nothing!\n",
    "Will need to incorporate some if else statements into the final prediction function.\n",
    "\n",
    "if speed is below cut-in speed predict zero power\n",
    "if speed is above cut-out speed, predict zero power\n",
    "Not sure how to capture the non-zero power values accurately where power has been stored up\n",
    "I don't think we can actually get the most accurate model with only one feature provided.\n"
   ]
  },
  {
   "cell_type": "code",
   "execution_count": 100,
   "metadata": {},
   "outputs": [
    {
     "data": {
      "text/plain": [
       "array([[91.95961]], dtype=float32)"
      ]
     },
     "execution_count": 100,
     "metadata": {},
     "output_type": "execute_result"
    }
   ],
   "source": [
    "model.predict([24.4])"
   ]
  },
  {
   "cell_type": "code",
   "execution_count": 133,
   "metadata": {},
   "outputs": [],
   "source": [
    "def predict_power(speed):\n",
    "    \n",
    "    if speed >= 24.4:\n",
    "        return 0\n",
    "    if speed < 4:\n",
    "        return 0\n",
    "        \n",
    "        \n",
    "    else:\n",
    "        # TypeError: '>' not supported between instances of 'list' and 'float'\n",
    "        speed = np.array([[speed]])\n",
    "        print(speed.dtype)\n",
    "        power = model.predict(speed)\n",
    "        return power"
   ]
  },
  {
   "cell_type": "code",
   "execution_count": 134,
   "metadata": {},
   "outputs": [
    {
     "data": {
      "text/plain": [
       "0"
      ]
     },
     "execution_count": 134,
     "metadata": {},
     "output_type": "execute_result"
    }
   ],
   "source": [
    "predict_power(24.4)"
   ]
  },
  {
   "cell_type": "code",
   "execution_count": 135,
   "metadata": {},
   "outputs": [
    {
     "name": "stdout",
     "output_type": "stream",
     "text": [
      "int64\n"
     ]
    },
    {
     "data": {
      "text/plain": [
       "array([[3.8954556]], dtype=float32)"
      ]
     },
     "execution_count": 135,
     "metadata": {},
     "output_type": "execute_result"
    }
   ],
   "source": [
    "predict_power(4)"
   ]
  },
  {
   "cell_type": "markdown",
   "metadata": {},
   "source": []
  },
  {
   "cell_type": "code",
   "execution_count": null,
   "metadata": {},
   "outputs": [],
   "source": []
  },
  {
   "cell_type": "code",
   "execution_count": null,
   "metadata": {},
   "outputs": [],
   "source": []
  },
  {
   "cell_type": "code",
   "execution_count": null,
   "metadata": {},
   "outputs": [],
   "source": []
  },
  {
   "cell_type": "code",
   "execution_count": null,
   "metadata": {},
   "outputs": [],
   "source": []
  },
  {
   "cell_type": "code",
   "execution_count": null,
   "metadata": {},
   "outputs": [],
   "source": []
  },
  {
   "cell_type": "markdown",
   "metadata": {},
   "source": [
    "## Scaling the data\n",
    "\n",
    "The model can be updated to scale the target variable. \n",
    ">Reducing the scale of the target variable will, in turn, reduce the size of the gradient used to update the weights and result in a more stable model and training process.\n",
    "\n",
    "https://machinelearningmastery.com/how-to-improve-neural-network-stability-and-modeling-performance-with-data-scaling/\n",
    "\n",
    "According to this article, a good rule of thumb is that input variables should be small values, probably in the range of 0-1 or standardized with a zero mean and a standard deviation of one.\n",
    ">If the distribution of the quantity is normal, then it should be standardized, otherwise the data should be normalized.\n",
    "If in doubt, normalise the input sequence.\n",
    "\n",
    ">The output variable is the variable predicted by the network. If the distribution of the value is normal, then you can standardize the output variable. Otherwise, the output variable can be normalized.\n",
    "\n",
    "The distribution of the speed variable in the dataset is not normal so it should be normalised rather than standardised. \n",
    "Normalization is a rescaling of the data from the original range so that all values are within the range of 0 and 1.\n",
    "\n",
    "The article indicates that good practice with the `MinMaxScaler` and other scaling techniques is to :\n",
    "- Fit the scaler using the available training data. For normalization, this means the training data will be used to estimate the minimum and maximum observable values. Use `fit()` to do this.\n",
    "- Apply the scale to the training data. Use the normalised data to train the model. Use `transform()` to do this.\n",
    "- Apply the scale going forward.\n",
    "`fit_transform()` function can do the two steps in one go.\n",
    "\n",
    "`scaler = MinMaxScaler()` \n",
    "`normalized = scaler.fit_transform(data)` \n",
    "\n",
    "Scikit-learn's preprocessing module can be used to scale the data.\n",
    ">Standardization of datasets is a common requirement for many machine learning estimators implemented in scikit-learn; they might behave badly if the individual features do not more or less look like standard normally distributed data: Gaussian with zero mean and unit variance. In practice we often ignore the shape of the distribution and just transform the data to center it by removing the mean value of each feature, then scale it by dividing non-constant features by their standard deviation.\n",
    "https://scikit-learn.org/stable/modules/preprocessing.html#preprocessing\n",
    "\n",
    "The data can be scaled to lie between a given minimum and maximum value such as between zero and one or so that the maximum absolute value of each feature is scaled to unit size. \n",
    "\n",
    "`scaler = MinMaxScaler(feature_range=(-1,1))`\n",
    "\n",
    "\n",
    "The [Introduction to Keras for Engineers](https://keras.io/getting_started/intro_to_keras_for_engineers/) does suggest that data preprocessing should be done such as feature normalisation.\n",
    "- Do preprocessing such as feature normalisation.\n",
    "The data consists of two columns of data and thats it. The only preprocesing that is applicable here is to rescale the data to small values as in general the input values to a neural network should be close to zero. According to the tutorial  the data should either be rescaled to have zero-mean and unit-variance or the data in the `[0.1]` range. The preprocessing should ideally be done as part of the model to make it more portable in production. In Keras the preprocessing is done via preprocessing layers which can be included directly into your model either during training or after training. Some preprocessing layers have a state, in this case normalization holds the mean and variance of the features and can be obtained by calling `layer.adapt(data)` on a sample or all of the training data.\n",
    "\n",
    "CSV data needs to be parsed, with numerical features converted to floating point tensors and categorical features indexed and converted to integer tensors. Then each feature typically needs to be normalized to zero-mean and unit-variance.\n",
    "\n",
    "---\n",
    "https://machinelearningmastery.com/data-leakage-machine-learning/\n",
    "https://datascience.stackexchange.com/questions/54908/data-normalization-before-or-after-train-test-split#:~:text=3%20Answers&text=Normalization%20across%20instances%20should%20be,data%20from%20the%20training%20set.&text=Using%20any%20information%20coming%20from,the%20evaluation%20of%20the%20performance.\n",
    "\n",
    "Normalization should be done after splitting the data into train and test/validation to avoid data leakage. Data leakage is where information from outside the dataset is used to train the model.\n",
    "Normalization across instances should be done after splitting the data between training and test set, using only the data from the training set. This is because the test set plays the role of fresh unseen data, so it's not supposed to be accessible at the training stage. Using any information coming from the test set before or during training is a potential bias in the evaluation of the performance.\n",
    "\n",
    "As yet I am not fully sure whether I should scale outputs as well as inputs but I think I should as we only have a single input feature to train the model on and predict the outputs.\n",
    "\n",
    "Continuing with following this blog:\n",
    "https://machinelearningmastery.com/how-to-improve-neural-network-stability-and-modeling-performance-with-data-scaling/\n",
    "\n",
    ">It is best practice is to estimate the mean and standard deviation of the training dataset and use these variables to scale the train and test dataset. This is to avoid any data leakage during the model evaluation process.\n",
    ">The scikit-learn transformers expect input data to be matrices of rows and columns, therefore the 1D arrays for the target variable will have to be reshaped into 2D arrays prior to the transforms.\n",
    "\n",
    "I have the data already in 2-d from earlier. Otherwise could do the following:\n",
    "`y_train= y_train.reshape(len(y_train),1)`\n",
    "`y_test = Y_test.reshape(len(y_train), 1)`\n"
   ]
  },
  {
   "cell_type": "code",
   "execution_count": null,
   "metadata": {},
   "outputs": [],
   "source": [
    "y_train.shape"
   ]
  },
  {
   "cell_type": "markdown",
   "metadata": {},
   "source": [
    "### Scaling the data\n",
    "- using min_max scaler:\n",
    "Scale the training data first:\n",
    "\n",
    "Tensorflow.keras has methods for scaling the data also but I've seen more online blogs such as machine learning mastery use sklearn to preprocess and scale, then keras-tensorflow to train the neural network model."
   ]
  },
  {
   "cell_type": "markdown",
   "metadata": {},
   "source": [
    "### Scaling using sklearn\n",
    "Here I will scale both the input and output features using the MinMaxScaler() function. This should be done after the data has been split into train test datasets.\n",
    "- Fit the scale using the available training data using fit()\n",
    "- Apply the scale to the training data using transform()\n",
    "- Apply the scale to data going forward - any new data on which you want to make predictions."
   ]
  },
  {
   "cell_type": "markdown",
   "metadata": {},
   "source": [
    "### Scaling the target variable"
   ]
  },
  {
   "cell_type": "code",
   "execution_count": null,
   "metadata": {},
   "outputs": [],
   "source": [
    "from sklearn import preprocessing\n",
    "#min_max_scaler = preprocessing.MinMaxScaler(feature_range=(-1,1))\n",
    "# create a scaler:\n",
    "min_max_scaler = preprocessing.MinMaxScaler()\n",
    "# fit scaler on data\n",
    "y_train =min_max_scaler.fit(y_train)\n",
    "# transform training dataset\n",
    "y_test = min_max_scaler.fit(y_test)\n"
   ]
  },
  {
   "cell_type": "markdown",
   "metadata": {},
   "source": [
    "### Scaling the input variable"
   ]
  },
  {
   "cell_type": "raw",
   "metadata": {},
   "source": [
    "min_max_scaler = preprocessing.MinMaxScaler()\n",
    "# fit scaler on data\n",
    "X_train =min_max_scaler.fit(X_train)\n",
    "# transform training dataset\n",
    "X_test = min_max_scaler.fit(X_test)"
   ]
  },
  {
   "cell_type": "code",
   "execution_count": null,
   "metadata": {},
   "outputs": [],
   "source": []
  },
  {
   "cell_type": "markdown",
   "metadata": {},
   "source": [
    "### Going ahead again without scaling the data:\n",
    "I did add in the BatchNormalization layer though."
   ]
  },
  {
   "cell_type": "markdown",
   "metadata": {},
   "source": [
    "### Define the model:"
   ]
  },
  {
   "cell_type": "code",
   "execution_count": null,
   "metadata": {},
   "outputs": [],
   "source": [
    "# Train a model\n",
    "model = kr.models.Sequential()\n",
    "model.add(kr.layers.Dense(50, input_shape=(1,), activation='sigmoid', kernel_initializer=\"glorot_uniform\", bias_initializer=\"glorot_uniform\"))\n",
    "model.add(kr.layers.BatchNormalization())\n",
    "model.add(kr.layers.Dense(1, activation='linear', kernel_initializer=\"glorot_uniform\", bias_initializer=\"glorot_uniform\"))"
   ]
  },
  {
   "cell_type": "markdown",
   "metadata": {},
   "source": [
    "### Compile the model"
   ]
  },
  {
   "cell_type": "code",
   "execution_count": null,
   "metadata": {},
   "outputs": [],
   "source": [
    "# \n",
    "model.compile(kr.optimizers.Adam(lr=0.001), loss='mean_squared_error')\n",
    "model.summary()"
   ]
  },
  {
   "cell_type": "code",
   "execution_count": null,
   "metadata": {},
   "outputs": [],
   "source": [
    "# fit the model\n",
    "history=model.fit(X_train, y_train, validation_data =(X_test, y_test),epochs=500, batch_size=10) #verbose=0"
   ]
  },
  {
   "cell_type": "code",
   "execution_count": null,
   "metadata": {},
   "outputs": [],
   "source": [
    "model.fit(X_train, y_train, epochs=500, batch_size=10) #verbose=0"
   ]
  },
  {
   "cell_type": "raw",
   "metadata": {},
   "source": [
    "train_mse = model.evaluate(X_train, y_train, verbose=0)\n",
    "test_mse = model.evaluate(X_test, y_test, verbose=0)\n",
    "print('Train: %.3f, Test: %.3f' % (train_mse, test_mse))"
   ]
  },
  {
   "cell_type": "raw",
   "metadata": {},
   "source": [
    "# plot loss during training\n",
    "plt.title('Mean Squared Error')\n",
    "plt.plot(history.history['loss'], label='train')\n",
    "plt.plot(history.history['val_loss'], label='test')\n",
    "plt.legend()\n",
    "plt.show()"
   ]
  },
  {
   "cell_type": "markdown",
   "metadata": {},
   "source": [
    "### Note!\n",
    "While the scaling worked the first time, it threw an error the second time even though I started again.\n",
    "Will leave it for now and focus on the web app\n",
    "I am commenting out the cells here. Will try later."
   ]
  },
  {
   "cell_type": "code",
   "execution_count": null,
   "metadata": {},
   "outputs": [],
   "source": []
  },
  {
   "cell_type": "raw",
   "metadata": {},
   "source": [
    "X_test_minmax = min_max_scaler.transform(X_test)"
   ]
  },
  {
   "cell_type": "raw",
   "metadata": {},
   "source": [
    "from tensorflow.keras.layers.experimental.preprocessing import Normalization\n",
    "\n",
    "training_data = X_train\n",
    "\n",
    "normalizer = Normalization(axis=1)\n",
    "normalizer.adapt(X)\n",
    "\n",
    "\n",
    "normalized_data = normalizer(training_data)\n",
    "print(\"var: %.4f\" % np.var(normalized_data))\n",
    "print(\"mean: %.4f\" % np.mean(normalized_data))"
   ]
  },
  {
   "cell_type": "code",
   "execution_count": null,
   "metadata": {},
   "outputs": [],
   "source": [
    "# normalised data using tensorflow.keras.layers.experimental.preprocessing import Normalization\n",
    "#normalized_data"
   ]
  },
  {
   "cell_type": "code",
   "execution_count": null,
   "metadata": {},
   "outputs": [],
   "source": [
    "#X_train_minmax"
   ]
  },
  {
   "cell_type": "code",
   "execution_count": null,
   "metadata": {},
   "outputs": [],
   "source": [
    "#y_train_minmax"
   ]
  },
  {
   "cell_type": "raw",
   "metadata": {},
   "source": [
    "# Plot style.\n",
    "plt.style.use(\"ggplot\")\n",
    "\n",
    "# Plot size.\n",
    "plt.rcParams['figure.figsize'] = [14, 8]"
   ]
  },
  {
   "cell_type": "markdown",
   "metadata": {},
   "source": [
    "### Plotting the learning curve\n",
    "\n",
    "Back to the https://machinelearningmastery.com/tensorflow-tutorial-deep-learning-with-tf-keras/ tutorial. The next section looks at plotting model learning curves which plot the performance of the neural network model over time. It helps determine if the model is learning well and whether it is underfitting or overfitting the training set.To do this you need to update the call to to the `fit` function to include a reference to a validation dataset which is a portion of the training dataset not used to fit the model but instead used to evaluate the performance of the model during training. The fit function will then return a history object containing a trace of performance metrics recorded at the end of each training epoch. A learning curve is a plot of the loss on the training dataset and the validation dataset."
   ]
  },
  {
   "cell_type": "raw",
   "metadata": {},
   "source": [
    "history = model.fit(X_train, y_train, epochs=500, batch_size=10, verbose=0, validation_split=0.3)"
   ]
  },
  {
   "cell_type": "raw",
   "metadata": {},
   "source": [
    "plt.title('Learning Curves')\n",
    "plt.xlabel('Epoch')\n",
    "plt.ylabel('Mean Squared Error')\n",
    "plt.plot(history.history['loss'], 'r.',label='train')\n",
    "plt.plot(history.history['val_loss'], 'b.',label='val')\n",
    "plt.legend()\n",
    "plt.show()"
   ]
  },
  {
   "cell_type": "markdown",
   "metadata": {},
   "source": [
    "Immediately the difference is obvious in the learning curve when all the 49 points with zero power values are dropped. It might not be right though!\n",
    "Compromise here with some values dropped where speed is greater than a particular value. I chose 7 for now."
   ]
  },
  {
   "cell_type": "raw",
   "metadata": {},
   "source": [
    "# compile the model\n",
    "model.compile(optimizer='adam', loss='mse')"
   ]
  },
  {
   "cell_type": "markdown",
   "metadata": {},
   "source": [
    "### Fit the model"
   ]
  },
  {
   "cell_type": "code",
   "execution_count": null,
   "metadata": {},
   "outputs": [],
   "source": [
    "# fit the model\n",
    "model.fit(X_train, y_train, epochs=500, batch_size=10) #verbose=0"
   ]
  },
  {
   "cell_type": "markdown",
   "metadata": {},
   "source": [
    "### Evaluate the model:"
   ]
  },
  {
   "cell_type": "code",
   "execution_count": null,
   "metadata": {},
   "outputs": [],
   "source": [
    "# evaluate the model\n",
    "error = model.evaluate(X_test, y_test, verbose=0)\n",
    "print('MSE: %.3f, RMSE: %.3f' % (error, sqrt(error)))"
   ]
  },
  {
   "cell_type": "markdown",
   "metadata": {},
   "source": [
    "This is the initial plot I did before comparing the actual data set to the predicted values using the model. When I did this first I didn't split the data."
   ]
  },
  {
   "cell_type": "code",
   "execution_count": null,
   "metadata": {},
   "outputs": [],
   "source": [
    "# see how well the model does\n",
    "plt.plot(dfx['speed'], dfx['power'], 'k.',label='actual')\n",
    "plt.plot(dfx['speed'], model.predict(dfx['speed']), 'r.',label='prediction')\n",
    "plt.legend();"
   ]
  },
  {
   "cell_type": "code",
   "execution_count": null,
   "metadata": {},
   "outputs": [],
   "source": [
    "# plot actual data \n",
    "plt.plot(dfx['speed'], dfx['power'], 'k.',label='actual')\n",
    "# plot predicted values for the test set\n",
    "plt.plot(X_test, y_test, 'r.', label='predicted on test set')"
   ]
  },
  {
   "cell_type": "raw",
   "metadata": {},
   "source": [
    "row = [5,10,15,20]\n",
    "yhat = model.predict([row])\n",
    "print('Predicted: %.3f' % yhat)"
   ]
  },
  {
   "cell_type": "code",
   "execution_count": null,
   "metadata": {},
   "outputs": [],
   "source": []
  },
  {
   "cell_type": "markdown",
   "metadata": {},
   "source": [
    "### Saving and loading the model\n",
    "Instead of having to retrain the model each time,  it can be saved to a file using the `save()` function on the model and loaded later to make predictions using the `load_model()` function. The model is saved in H5 format, an efficient array storage format.\n",
    "For this I need  the `h5py` library. "
   ]
  },
  {
   "cell_type": "code",
   "execution_count": null,
   "metadata": {},
   "outputs": [],
   "source": [
    "#pip install h5py"
   ]
  },
  {
   "cell_type": "code",
   "execution_count": 17,
   "metadata": {},
   "outputs": [],
   "source": [
    "model.save('model.h5')"
   ]
  },
  {
   "cell_type": "code",
   "execution_count": 18,
   "metadata": {},
   "outputs": [],
   "source": [
    "model = kr.models.load_model('model.h5')"
   ]
  },
  {
   "cell_type": "code",
   "execution_count": 19,
   "metadata": {},
   "outputs": [
    {
     "name": "stdout",
     "output_type": "stream",
     "text": [
      "Predicted: 99.327\n"
     ]
    }
   ],
   "source": [
    "speed = [20.647]\n",
    "yhat= model.predict(speed)\n",
    "print('Predicted: %.3f' % yhat[0])"
   ]
  },
  {
   "cell_type": "code",
   "execution_count": 20,
   "metadata": {},
   "outputs": [
    {
     "name": "stdout",
     "output_type": "stream",
     "text": [
      "Predicted: 100.749\n"
     ]
    }
   ],
   "source": [
    "speed = [22]\n",
    "yhat= model.predict(speed)\n",
    "print('Predicted: %.3f' % yhat[0])"
   ]
  },
  {
   "cell_type": "code",
   "execution_count": 21,
   "metadata": {},
   "outputs": [
    {
     "name": "stdout",
     "output_type": "stream",
     "text": [
      "Predicted: 2.598\n"
     ]
    }
   ],
   "source": [
    "speed = [5]\n",
    "yhat= model.predict(speed)\n",
    "print('Predicted: %.3f' % yhat[0])"
   ]
  },
  {
   "cell_type": "markdown",
   "metadata": {},
   "source": [
    "### Update:\n",
    "I ran through this again without scaling either the input or output variables as I ran into problems doing both in the same notebook. Will come back to this.\n"
   ]
  },
  {
   "cell_type": "markdown",
   "metadata": {},
   "source": [
    "The model seems to under predict the power values for the lower values of speed. This is as I expected earlier given that when wind speeds are too low to generate power, the stored power is used later. Look back at the article that mentioned this above."
   ]
  },
  {
   "cell_type": "code",
   "execution_count": null,
   "metadata": {},
   "outputs": [],
   "source": []
  },
  {
   "cell_type": "code",
   "execution_count": null,
   "metadata": {},
   "outputs": [],
   "source": []
  },
  {
   "cell_type": "code",
   "execution_count": null,
   "metadata": {},
   "outputs": [],
   "source": []
  },
  {
   "cell_type": "code",
   "execution_count": null,
   "metadata": {},
   "outputs": [],
   "source": []
  },
  {
   "cell_type": "code",
   "execution_count": null,
   "metadata": {},
   "outputs": [],
   "source": []
  },
  {
   "cell_type": "code",
   "execution_count": null,
   "metadata": {},
   "outputs": [],
   "source": []
  },
  {
   "cell_type": "code",
   "execution_count": null,
   "metadata": {},
   "outputs": [],
   "source": []
  },
  {
   "cell_type": "markdown",
   "metadata": {},
   "source": [
    "\n",
    "https://machinelearningmastery.com/tutorial-first-neural-network-python-keras/ demonstrates a fully connected network structure with three layers.\n",
    "\n",
    "Create a Sequential Model and  add layers one at a time until happy with the network architecture. A sequential neural network is built up in sequential layers.\n",
    "\n",
    "The first thing is to ensure the input layer has the right number of input features. You provide the input layer to the model\n",
    "The dataset here has only a single input feature which is wind speed. How to determine the correct number of layers to use? According to the tutorial its a matter of trial and error really. Generally you need a network large enough to capture the structure of the problem.\n",
    "\n",
    "Fully connected layers are defined using the `Dense` class.  Dense refers to the layer being densely connected to the previous layer. Every node in the previous layer is connected to everything in the current layer.\n",
    "\n",
    "\n",
    "The number of neurons or nodes in the layer as the first argument and specify the activation function using the `activation` argument. The demo uses the `rectified linear unit` activation function referred to as ReLU on the first two layers and the Sigmoid function in the output layer. As far as I recall Ian recommended using just the Sigmoid activation function. According to the tutorial, Sigmoid and Tanh activation functions were the preferred choice  for all layers before but that these days better performance is achieved using the ReLU activation function. I can try one or the other.  A `Sigmoid` layer is used on the outer layer to ensure the network output is between 0 and 1. (This problem though is not looking to classify the data into one of two classes.).\n",
    "The input shape is 1 as there is only 1 input variable. (input_dim=1 or input_shape=(1,))\n",
    "The shape of the input to the model is defined as an argument on the first hidden layer. The first line of code that adds the first Dense layer does 2 things, defines the input or visible layer and the first hidden layer.\n",
    "\n",
    "#### compile\n",
    "Once the model is defined, it can be compiled or built. We specify the learning rate and the loss function which we want to minimise.\n",
    "\n",
    "When compiling, some additional properties are required when training the network. Training a network means finding the best set of weights to map inputs to outputs in our dataset. The loss function must be specified\n",
    ">We must specify the loss function to use to evaluate a set of weights, the optimizer is used to search through different weights for the network and any optional metrics we would like to collect and report during training.\n",
    "\n",
    "The tutorial uses cross entrophy as the loss argument as it is looking at a binary classification problem. We are to stick with mean squared error I think.\n",
    ">The optimizer is defined below as the efficient stochastic gradient descent algorithm “adam“. This is a popular version of gradient descent because it automatically tunes itself and gives good results in a wide range of problems."
   ]
  },
  {
   "cell_type": "raw",
   "metadata": {},
   "source": [
    "# Create a neural network with 50 neurons.\n",
    "model = kr.models.Sequential()\n",
    "# the first layer with one input, kernel_initializer='ones' \n",
    "model.add(kr.layers.Dense(1, input_shape=(1,), activation=\"linear\", kernel_initializer='glorot_uniform', bias_initializer='zeros'))\n",
    "\n",
    "model.add(kr.layers.Dense(50, activation='sigmoid'))\n",
    "model.add(kr.layers.Dense(1, activation=\"linear\",  kernel_initializer='glorot_uniform'))"
   ]
  },
  {
   "cell_type": "code",
   "execution_count": null,
   "metadata": {},
   "outputs": [],
   "source": [
    "\n",
    "# Train a different model\n",
    "model = kr.models.Sequential()\n",
    "model.add(kr.layers.Dense(50, input_shape=(1,), activation='sigmoid', kernel_initializer=\"glorot_uniform\", bias_initializer=\"glorot_uniform\"))\n",
    "model.add(kr.layers.Dense(50, input_shape=(1,), activation='sigmoid', kernel_initializer=\"glorot_uniform\", bias_initializer=\"glorot_uniform\"))\n",
    "model.add(kr.layers.Dense(1, activation='linear', kernel_initializer=\"glorot_uniform\", bias_initializer=\"glorot_uniform\"))\n",
    "model.compile(kr.optimizers.Adam(lr=0.001), loss='mean_squared_error')"
   ]
  },
  {
   "cell_type": "markdown",
   "metadata": {},
   "source": [
    "\n"
   ]
  },
  {
   "cell_type": "code",
   "execution_count": null,
   "metadata": {},
   "outputs": [],
   "source": [
    "model.compile('adam', loss='mean_squared_error')\n",
    "model.summary()"
   ]
  },
  {
   "cell_type": "markdown",
   "metadata": {},
   "source": [
    "The model shows 153 total parameters. This is made up of the single input in the input layer, 50 neurons plus 50 bias terms in the hidden layer.\n"
   ]
  },
  {
   "cell_type": "markdown",
   "metadata": {},
   "source": []
  },
  {
   "cell_type": "code",
   "execution_count": null,
   "metadata": {},
   "outputs": [],
   "source": [
    "model.fit(X_train,y_train, epochs=500)"
   ]
  },
  {
   "cell_type": "markdown",
   "metadata": {},
   "source": [
    "Train a new model using the sigmoid function as the activation function.\n",
    "Using the sigmoid function instead of the linear function which is clearly not a good fit.\n"
   ]
  },
  {
   "cell_type": "markdown",
   "metadata": {},
   "source": [
    "Now training a different model. This one has a hidden layer with 60 neurons. A different kernel initialiser is used. the batch size is how many x's are sent it at any one time. Instead of sending one x in and adjusting the weights and the biases, send it 10 at a time. This sometimes has a smoothing effect. It still sends each x in 500 times (for 500 epochs) but 10 at a time instead of 1 at a time.\n"
   ]
  },
  {
   "cell_type": "raw",
   "metadata": {},
   "source": [
    "# Train a different model.\n",
    "model = kr.models.Sequential()\n",
    "model.add(kr.layers.Dense(60, input_shape=(1,), activation='sigmoid', kernel_initializer=\"glorot_uniform\", bias_initializer=\"glorot_uniform\"))\n",
    "model.add(kr.layers.Dense(1, activation='linear', kernel_initializer=\"glorot_uniform\", bias_initializer=\"glorot_uniform\"))\n",
    "model.compile(kr.optimizers.Adam(lr=0.001), loss='mean_squared_error', metrics=['accuracy'])"
   ]
  },
  {
   "cell_type": "raw",
   "metadata": {},
   "source": [
    "# Fit the data.\n",
    "model.fit(df['speed'], df['power'], epochs=500, batch_size=10)"
   ]
  },
  {
   "cell_type": "code",
   "execution_count": null,
   "metadata": {},
   "outputs": [],
   "source": [
    "accuracy = model.evaluate(x, y)"
   ]
  },
  {
   "cell_type": "markdown",
   "metadata": {},
   "source": [
    "The zero values for power at high levels of speed does seem to be pulling the curve down so maybe I need to take them out. The rest of the data seems to be quite well modelled.\n",
    "I need to read more into this. Overall it is still impressive that with only a single numerical input for speed you can still get such a close match to what the power values look like.\n",
    "\n",
    "The loss is still quite high and did not come down much despite playing around with the parameters.\n",
    "The ideal loss is is zero and the ideal accuracy is 1.0 or 100%.\n",
    ">The goal is to choose a model configuration and training configuration that achieve the lowest loss and highest accuracy possible for a given dataset\n",
    "- https://machinelearningmastery.com/tutorial-first-neural-network-python-keras/\n",
    "\n",
    "I need to split the data also into a training and test set.\n",
    "See https://scikit-learn.org/stable/modules/cross_validation.html\n",
    "`from sklearn.model_selection import train_test_split` \n",
    "`X_train, X_test, y_train, y_test = train_test_split(\n",
    "...     X, y, test_size=0.4, random_state=0)`"
   ]
  },
  {
   "cell_type": "markdown",
   "metadata": {},
   "source": [
    "https://medium.com/the-theory-of-everything/understanding-activation-functions-in-neural-networks-9491262884e0\n",
    "Here I am reading through the article referenced, making notes and some paraphrasing. I will reference properly later.\n",
    "\n",
    "An artificial neuron calculates a weighted sum of its input, adds a bias and then decides whether it should be fired or not. $ Y = \\sum{(\\text{weight} * \\text{input})} + \\text{bias}$\n",
    "The value of Y can be anything from -infinity to + infinity. The neuron does not really know the bounds of the value. So how do we decide whether the neuron should fire or not? This is where the activation functions come in. The activation function will check the Y value produced by the neuron and decide whether outside connections should consider this neuron as activated (fired) or not.\n",
    "\n",
    "Consider a threshold based activation function. If the value of Y is above a certain value then it could declare it as activated, otherwise not. In this case the output is 1 (activated) when the value is greater than than the threshold and 0 otherwise. This is a step function. There are drawbacks to using this method as an activation function for neural networks though when the response is not a binary yes or no.\n",
    "\n",
    "A linear activation function A = cx is a straight line function where activation is proportional to input ( which is the weighted sum from neuron ). In this way it will give a range of activations rather than just binary activations. We can connect some neurons and if more than one fire then we could take the max and decide based on that.\n",
    "\n",
    "The derivative w.r.x is c which means that the gradient has no relationship with X. The descent is going to be on a constant gradient. If there is an error in prediction the changes made by back propagation is constant and not depending on the change in input delta(x).\n",
    "Another problem concerns the connected layers where each layer is activated by a linear function. \n",
    "That activation in turn goes into the next level as input and the second layer calculates weighted sum on that input and it in turn, fires based on another linear activation function.\n",
    "No matter how many layers we have, if all are linear in nature, the final activation function of last layer is nothing but just a linear function of the input of first layer. Therefore two or more layers can be replaced by a single layer. The whole network then is equivalent to  a single layer with linear activation.\n",
    "\n",
    "Thw sigmoid function is smooth and looks somewhat like a step function. It is nonlinear in nature and therefore combinations of layers are also non-linear which means that layers can be stacked. It will also give non binary activations unlike the step function. It has a smooth gradient.\n",
    "\n",
    "Between X values -2 to 2, the Y values are very steep.This means that any small changes in the values of X in that region will cause values of Y to change significantly.This means this function has a tendency to bring the Y values to either end of the curve.\n",
    "It tends to bring the activations to either side of the curve making clear distinctions on prediction. Another advantage over linear function is that the output of the activation function is always going to be in range (0,1) compared to (-inf, inf) of linear function and therefore the activations are bound in a range. \n",
    "Sigmoid functions are one of the most widely used activation functions today. The problems with them is that towards either end of the sigmoid function, the Y values tend to respond very less to changes in X. This means that the gradient at that region is going to be small. It gives rise to a problem of “vanishing gradients”. When the activations reach near the “near-horizontal” part of the curve on either sides, the gradient is small or has vanished ( cannot make significant change because of the extremely small value ). The network refuses to learn further or is drastically slow ( depending on use case and until gradient /computation gets hit by floating point value limits ). There are ways to work around this problem and sigmoid is still very popular in classification problems.\n",
    "The article also looked at the Tanh activation functions which is a scaled sigmoid function and the ReLu function which gives an output x if x is positive and 0 otherwise. These are both non-linear functions.\n",
    "\n",
    "The article finishes by suggesting how to choose the correct activation function. \n",
    "When you know the function you are trying to approximate has certain characteristics, you can choose an activation function which will approximate the function faster leading to faster training process. For example, a sigmoid works well for a classifier "
   ]
  },
  {
   "cell_type": "markdown",
   "metadata": {},
   "source": [
    "https://www.computing.dcu.ie/~humphrys/Notes/Neural/sigmoid.html\n",
    "https://machinelearningmastery.com/tutorial-first-neural-network-python-keras/"
   ]
  },
  {
   "cell_type": "markdown",
   "metadata": {},
   "source": [
    "## References\n",
    "\n",
    "### Some resources on wind energy\n",
    "- [The Irish Wind Energy Association (IWEA)](https://www.iwea.com/about-us/about-us)\n",
    "- [ESBN Connected Wind Farms](https://www.esbnetworks.ie/new-connections/generator-connections/generator-connection-statistics). \n",
    "- http://www.eirgridgroup.com/how-the-grid-works/renewables/\n",
    "- [WindEurope](https://windeurope.org/data-and-analysis/)\n",
    "- [how to calculate power output of wind](https://www.windpowerengineering.com/calculate-wind-power-output/)\n",
    "- [calculating energy production from weather forecast in Python](https://medium.com/planet-os/calculating-energy-production-from-weather-forecast-in-python-3c990047daa)\n",
    "- [Wind Turbine Power Curve Modeling Using\n",
    "Advanced Parametric and Nonparametric Methods](http://ieeexplore.ieee.org/iel7/5165391/5433168/06894235.pdf)\n",
    "- https://www.researchgate.net/publication/257748412_Using_machine_learning_to_predict_wind_turbine_power_output\n",
    "\n",
    "- Using machine learning to predict wind turbine power output by A Clifton, L Kilcher, J K Lundquist and P Fleming, ENVIRONMENTAL RESEARCH LETTERS, doi:10.1088/1748-9326/8/2/024009, Environ. Res. Lett. 8 (2013) 024009 (8pp)\n",
    "\n",
    "- Wind Turbine Power Curve Modeling Using Advanced Parametric and Nonparametric Methods by Shahab Shokrzadeh, Student Member, IEEE, Mohammad Jafari Jozani, and Eric Bibeau. IEEE TRANSACTIONS ON SUSTAINABLE ENERGY, VOL. 5, NO. 4, OCTOBER 2014.  Available from https://ieeexplore.ieee.org/stamp/stamp.jsp?arnumber=6894235\n"
   ]
  },
  {
   "cell_type": "markdown",
   "metadata": {},
   "source": [
    "### End"
   ]
  },
  {
   "cell_type": "code",
   "execution_count": null,
   "metadata": {},
   "outputs": [],
   "source": []
  },
  {
   "cell_type": "code",
   "execution_count": null,
   "metadata": {},
   "outputs": [],
   "source": []
  }
 ],
 "metadata": {
  "kernelspec": {
   "display_name": "Python 3",
   "language": "python",
   "name": "python3"
  },
  "language_info": {
   "codemirror_mode": {
    "name": "ipython",
    "version": 3
   },
   "file_extension": ".py",
   "mimetype": "text/x-python",
   "name": "python",
   "nbconvert_exporter": "python",
   "pygments_lexer": "ipython3",
   "version": "3.8.2"
  }
 },
 "nbformat": 4,
 "nbformat_minor": 4
}
